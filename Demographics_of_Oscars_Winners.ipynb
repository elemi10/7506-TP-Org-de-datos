{
  "nbformat": 4,
  "nbformat_minor": 0,
  "metadata": {
    "kernelspec": {
      "display_name": "Python 3",
      "language": "python",
      "name": "python3"
    },
    "language_info": {
      "codemirror_mode": {
        "name": "ipython",
        "version": 3
      },
      "file_extension": ".py",
      "mimetype": "text/x-python",
      "name": "python",
      "nbconvert_exporter": "python",
      "pygments_lexer": "ipython3",
      "version": "3.7.6"
    },
    "colab": {
      "name": "Demographics of Oscars Winners.ipynb",
      "provenance": [],
      "include_colab_link": true
    }
  },
  "cells": [
    {
      "cell_type": "markdown",
      "metadata": {
        "id": "view-in-github",
        "colab_type": "text"
      },
      "source": [
        "<a href=\"https://colab.research.google.com/github/elemi10/7506-TP-Org-de-datos/blob/master/Demographics_of_Oscars_Winners.ipynb\" target=\"_parent\"><img src=\"https://colab.research.google.com/assets/colab-badge.svg\" alt=\"Open In Colab\"/></a>"
      ]
    },
    {
      "cell_type": "markdown",
      "metadata": {
        "id": "v82Pw9esFSY9",
        "colab_type": "text"
      },
      "source": [
        "# Demographics of Academy Awards Winners\n",
        "![](Data/Oscars/dolby.jpg)"
      ]
    },
    {
      "cell_type": "markdown",
      "metadata": {
        "id": "XJNszo2UFSZI",
        "colab_type": "text"
      },
      "source": [
        "### To begin, we will be importing the libraries we will be using for this example:\n",
        "\n",
        "* **pandas**: To provide high-performance, easy-to-use data structures and data analysis tools for the Python programming\n",
        "\n",
        "* **numpy**: To add support for large, multi-dimensional arrays and matrices, along with a large collection of high-level mathematical functions to operate on these arrays.\n",
        "\n",
        "* **matplotlib**: Plotting library for the Python programming language and its numerical mathematics extension NumPy.\n",
        "\n",
        "#### We will be also using _%matplotlib inline_, to have the output of plotting commands displayed inline within frontends like the Jupyter notebook, directly below the code cell that produced it. The resulting plots will then also be stored in the notebook document. "
      ]
    },
    {
      "cell_type": "code",
      "metadata": {
        "id": "bbKHcJRsFSZL",
        "colab_type": "code",
        "colab": {}
      },
      "source": [
        "import pandas as pd\n",
        "import numpy as np\n",
        "import seaborn as sns\n",
        "import matplotlib.pyplot as plt\n",
        "%matplotlib inline"
      ],
      "execution_count": 0,
      "outputs": []
    },
    {
      "cell_type": "code",
      "metadata": {
        "id": "mabNEEI_F-z1",
        "colab_type": "code",
        "colab": {}
      },
      "source": [
        "from pydrive.auth import GoogleAuth\n",
        "from pydrive.drive import GoogleDrive\n",
        "from google.colab import auth\n",
        "from oauth2client.client import GoogleCredentials\n",
        "\n",
        "# Authenticate and create the PyDrive client\n",
        "auth.authenticate_user()\n",
        "gauth = GoogleAuth()\n",
        "gauth.credentials = GoogleCredentials.get_application_default()\n",
        "drive = GoogleDrive(gauth)"
      ],
      "execution_count": 0,
      "outputs": []
    },
    {
      "cell_type": "markdown",
      "metadata": {
        "id": "cHbrdDb2FSZR",
        "colab_type": "text"
      },
      "source": [
        "#### Now we are ready to read the first file. As data is in csv format, we will be using the read_csv() function, which allows us to parse and load data into a dataframe (in memory) easily.\n",
        "\n",
        "#### To see what we just read, we will be using the head() function. We can indicate the number of rows as a parameter, or by default it will show 5 rows.\n",
        "####  "
      ]
    },
    {
      "cell_type": "code",
      "metadata": {
        "id": "vw2uv0KyFWvt",
        "colab_type": "code",
        "colab": {}
      },
      "source": [
        "\n",
        "id='1IYecdd6KegNcDM-Az6DtDPBCFeNpiw5D'\n",
        "downloaded = drive.CreateFile({'id': id})\n",
        "downloaded.GetContentFile('Oscars-demographics-DFE.csv')"
      ],
      "execution_count": 0,
      "outputs": []
    },
    {
      "cell_type": "code",
      "metadata": {
        "id": "BF70GIrHFSZS",
        "colab_type": "code",
        "outputId": "f2ac8a7a-daf5-406b-81ab-b1112090c3b6",
        "colab": {
          "base_uri": "https://localhost:8080/",
          "height": 183
        }
      },
      "source": [
        "# Load the Data and take a quick look.\n",
        "oscars_demographics = pd.read_csv('Oscars-demographics-DFE.csv', encoding='latin-1')\n",
        "oscars_demographics.tail()"
      ],
      "execution_count": 0,
      "outputs": [
        {
          "output_type": "error",
          "ename": "NameError",
          "evalue": "ignored",
          "traceback": [
            "\u001b[0;31m---------------------------------------------------------------------------\u001b[0m",
            "\u001b[0;31mNameError\u001b[0m                                 Traceback (most recent call last)",
            "\u001b[0;32m<ipython-input-3-227ccb50e39f>\u001b[0m in \u001b[0;36m<module>\u001b[0;34m()\u001b[0m\n\u001b[0;32m----> 1\u001b[0;31m \u001b[0moscars_demographics\u001b[0m \u001b[0;34m=\u001b[0m \u001b[0mpd\u001b[0m\u001b[0;34m.\u001b[0m\u001b[0mread_csv\u001b[0m\u001b[0;34m(\u001b[0m\u001b[0;34m'Oscars-demographics-DFE.csv'\u001b[0m\u001b[0;34m,\u001b[0m \u001b[0mencoding\u001b[0m\u001b[0;34m=\u001b[0m\u001b[0;34m'latin-1'\u001b[0m\u001b[0;34m)\u001b[0m\u001b[0;34m\u001b[0m\u001b[0;34m\u001b[0m\u001b[0m\n\u001b[0m\u001b[1;32m      2\u001b[0m \u001b[0moscars_demographics\u001b[0m\u001b[0;34m.\u001b[0m\u001b[0mtail\u001b[0m\u001b[0;34m(\u001b[0m\u001b[0;34m)\u001b[0m\u001b[0;34m\u001b[0m\u001b[0;34m\u001b[0m\u001b[0m\n",
            "\u001b[0;31mNameError\u001b[0m: name 'pd' is not defined"
          ]
        }
      ]
    },
    {
      "cell_type": "code",
      "metadata": {
        "id": "AcXZ8wA8FSZZ",
        "colab_type": "code",
        "outputId": "6e18d365-7012-4659-d00f-1d3dec9668db",
        "colab": {
          "base_uri": "https://localhost:8080/",
          "height": 289
        }
      },
      "source": [
        "oscars_short = pd.read_csv('Oscars-demographics-DFE.csv', encoding='latin-1',\\\n",
        "                usecols=['birthplace', 'date_of_birth', 'race_ethnicity', 'religion','sexual_orientation', 'year_of_award', 'award', 'movie', 'person'])\n",
        "oscars_short.tail()"
      ],
      "execution_count": 0,
      "outputs": [
        {
          "output_type": "execute_result",
          "data": {
            "text/html": [
              "<div>\n",
              "<style scoped>\n",
              "    .dataframe tbody tr th:only-of-type {\n",
              "        vertical-align: middle;\n",
              "    }\n",
              "\n",
              "    .dataframe tbody tr th {\n",
              "        vertical-align: top;\n",
              "    }\n",
              "\n",
              "    .dataframe thead th {\n",
              "        text-align: right;\n",
              "    }\n",
              "</style>\n",
              "<table border=\"1\" class=\"dataframe\">\n",
              "  <thead>\n",
              "    <tr style=\"text-align: right;\">\n",
              "      <th></th>\n",
              "      <th>birthplace</th>\n",
              "      <th>date_of_birth</th>\n",
              "      <th>race_ethnicity</th>\n",
              "      <th>religion</th>\n",
              "      <th>sexual_orientation</th>\n",
              "      <th>year_of_award</th>\n",
              "      <th>award</th>\n",
              "      <th>movie</th>\n",
              "      <th>person</th>\n",
              "    </tr>\n",
              "  </thead>\n",
              "  <tbody>\n",
              "    <tr>\n",
              "      <th>436</th>\n",
              "      <td>London, England</td>\n",
              "      <td>7-Mar-71</td>\n",
              "      <td>White</td>\n",
              "      <td>Jewish</td>\n",
              "      <td>Straight</td>\n",
              "      <td>2006</td>\n",
              "      <td>Best Supporting Actress</td>\n",
              "      <td>The Constant Gardener</td>\n",
              "      <td>Rachel Weisz</td>\n",
              "    </tr>\n",
              "    <tr>\n",
              "      <th>437</th>\n",
              "      <td>Manchester, England</td>\n",
              "      <td>20-Oct-56</td>\n",
              "      <td>White</td>\n",
              "      <td>Roman Catholic</td>\n",
              "      <td>Straight</td>\n",
              "      <td>2009</td>\n",
              "      <td>Best Director</td>\n",
              "      <td>Slumdog Millionaire</td>\n",
              "      <td>Danny Boyle</td>\n",
              "    </tr>\n",
              "    <tr>\n",
              "      <th>438</th>\n",
              "      <td>Chicago, Il</td>\n",
              "      <td>26-Jul-22</td>\n",
              "      <td>White</td>\n",
              "      <td>Na</td>\n",
              "      <td>Straight</td>\n",
              "      <td>1977</td>\n",
              "      <td>Best Supporting Actor</td>\n",
              "      <td>All the President's Men</td>\n",
              "      <td>Jason Robards</td>\n",
              "    </tr>\n",
              "    <tr>\n",
              "      <th>439</th>\n",
              "      <td>Laurel, Ne</td>\n",
              "      <td>31-Aug-28</td>\n",
              "      <td>White</td>\n",
              "      <td>Na</td>\n",
              "      <td>Straight</td>\n",
              "      <td>1999</td>\n",
              "      <td>Best Supporting Actor</td>\n",
              "      <td>Affliction</td>\n",
              "      <td>James Coburn</td>\n",
              "    </tr>\n",
              "    <tr>\n",
              "      <th>440</th>\n",
              "      <td>Nevada, Mo</td>\n",
              "      <td>5-Aug-06</td>\n",
              "      <td>White</td>\n",
              "      <td>Na</td>\n",
              "      <td>Straight</td>\n",
              "      <td>1949</td>\n",
              "      <td>Best Director</td>\n",
              "      <td>The Treasure of the Sierra Madre</td>\n",
              "      <td>John Huston</td>\n",
              "    </tr>\n",
              "  </tbody>\n",
              "</table>\n",
              "</div>"
            ],
            "text/plain": [
              "              birthplace  ...         person\n",
              "436      London, England  ...   Rachel Weisz\n",
              "437  Manchester, England  ...    Danny Boyle\n",
              "438          Chicago, Il  ...  Jason Robards\n",
              "439           Laurel, Ne  ...   James Coburn\n",
              "440           Nevada, Mo  ...    John Huston\n",
              "\n",
              "[5 rows x 9 columns]"
            ]
          },
          "metadata": {
            "tags": []
          },
          "execution_count": 7
        }
      ]
    },
    {
      "cell_type": "code",
      "metadata": {
        "id": "JAXz7Z_BFSZe",
        "colab_type": "code",
        "outputId": "9bd1a09a-fa48-4fb9-eff0-ffebb77d865a",
        "colab": {
          "base_uri": "https://localhost:8080/",
          "height": 607
        }
      },
      "source": [
        "# Information about the dataset\n",
        "oscars_demographics.info()"
      ],
      "execution_count": 0,
      "outputs": [
        {
          "output_type": "stream",
          "text": [
            "<class 'pandas.core.frame.DataFrame'>\n",
            "RangeIndex: 441 entries, 0 to 440\n",
            "Data columns (total 27 columns):\n",
            " #   Column                         Non-Null Count  Dtype  \n",
            "---  ------                         --------------  -----  \n",
            " 0   unit_id                        441 non-null    int64  \n",
            " 1   golden                         441 non-null    bool   \n",
            " 2   unit_state                     441 non-null    object \n",
            " 3   trusted_judgments              441 non-null    int64  \n",
            " 4   last_judgment_at               416 non-null    object \n",
            " 5   birthplace                     441 non-null    object \n",
            " 6   birthplace:confidence          441 non-null    float64\n",
            " 7   date_of_birth                  441 non-null    object \n",
            " 8   date_of_birth:confidence       441 non-null    float64\n",
            " 9   race_ethnicity                 441 non-null    object \n",
            " 10  race_ethnicity:confidence      441 non-null    float64\n",
            " 11  religion                       441 non-null    object \n",
            " 12  religion:confidence            441 non-null    float64\n",
            " 13  sexual_orientation             441 non-null    object \n",
            " 14  sexual_orientation:confidence  441 non-null    float64\n",
            " 15  year_of_award                  441 non-null    int64  \n",
            " 16  year_of_award:confidence       441 non-null    float64\n",
            " 17  award                          441 non-null    object \n",
            " 18  biourl                         441 non-null    object \n",
            " 19  birthplace_gold                9 non-null      object \n",
            " 20  date_of_birth_gold             8 non-null      object \n",
            " 21  movie                          441 non-null    object \n",
            " 22  person                         441 non-null    object \n",
            " 23  race_ethnicity_gold            2 non-null      object \n",
            " 24  religion_gold                  10 non-null     object \n",
            " 25  sexual_orientation_gold        3 non-null      object \n",
            " 26  year_of_award_gold             11 non-null     float64\n",
            "dtypes: bool(1), float64(7), int64(3), object(16)\n",
            "memory usage: 90.1+ KB\n"
          ],
          "name": "stdout"
        }
      ]
    },
    {
      "cell_type": "code",
      "metadata": {
        "id": "wJCe42fwFSZk",
        "colab_type": "code",
        "outputId": "3bea00a6-5905-42c9-bc69-8640af1f2345",
        "colab": {
          "base_uri": "https://localhost:8080/",
          "height": 314
        }
      },
      "source": [
        "# Some stats about the numeric columns in our dataset\n",
        "oscars_demographics.describe()"
      ],
      "execution_count": 0,
      "outputs": [
        {
          "output_type": "execute_result",
          "data": {
            "text/html": [
              "<div>\n",
              "<style scoped>\n",
              "    .dataframe tbody tr th:only-of-type {\n",
              "        vertical-align: middle;\n",
              "    }\n",
              "\n",
              "    .dataframe tbody tr th {\n",
              "        vertical-align: top;\n",
              "    }\n",
              "\n",
              "    .dataframe thead th {\n",
              "        text-align: right;\n",
              "    }\n",
              "</style>\n",
              "<table border=\"1\" class=\"dataframe\">\n",
              "  <thead>\n",
              "    <tr style=\"text-align: right;\">\n",
              "      <th></th>\n",
              "      <th>unit_id</th>\n",
              "      <th>trusted_judgments</th>\n",
              "      <th>birthplace:confidence</th>\n",
              "      <th>date_of_birth:confidence</th>\n",
              "      <th>race_ethnicity:confidence</th>\n",
              "      <th>religion:confidence</th>\n",
              "      <th>sexual_orientation:confidence</th>\n",
              "      <th>year_of_award</th>\n",
              "      <th>year_of_award:confidence</th>\n",
              "      <th>year_of_award_gold</th>\n",
              "    </tr>\n",
              "  </thead>\n",
              "  <tbody>\n",
              "    <tr>\n",
              "      <th>count</th>\n",
              "      <td>4.410000e+02</td>\n",
              "      <td>441.000000</td>\n",
              "      <td>441.000000</td>\n",
              "      <td>441.000000</td>\n",
              "      <td>441.000000</td>\n",
              "      <td>441.000000</td>\n",
              "      <td>441.000000</td>\n",
              "      <td>441.000000</td>\n",
              "      <td>441.000000</td>\n",
              "      <td>11.000000</td>\n",
              "    </tr>\n",
              "    <tr>\n",
              "      <th>mean</th>\n",
              "      <td>6.704825e+08</td>\n",
              "      <td>7.637188</td>\n",
              "      <td>0.995259</td>\n",
              "      <td>0.996607</td>\n",
              "      <td>0.999130</td>\n",
              "      <td>0.989373</td>\n",
              "      <td>0.992390</td>\n",
              "      <td>1973.165533</td>\n",
              "      <td>0.990082</td>\n",
              "      <td>1977.363636</td>\n",
              "    </tr>\n",
              "    <tr>\n",
              "      <th>std</th>\n",
              "      <td>1.139974e+05</td>\n",
              "      <td>19.015541</td>\n",
              "      <td>0.038917</td>\n",
              "      <td>0.032060</td>\n",
              "      <td>0.016438</td>\n",
              "      <td>0.065610</td>\n",
              "      <td>0.049458</td>\n",
              "      <td>24.030895</td>\n",
              "      <td>0.059177</td>\n",
              "      <td>21.592928</td>\n",
              "    </tr>\n",
              "    <tr>\n",
              "      <th>min</th>\n",
              "      <td>6.704544e+08</td>\n",
              "      <td>3.000000</td>\n",
              "      <td>0.657100</td>\n",
              "      <td>0.656200</td>\n",
              "      <td>0.657100</td>\n",
              "      <td>0.333300</td>\n",
              "      <td>0.657100</td>\n",
              "      <td>1927.000000</td>\n",
              "      <td>0.333300</td>\n",
              "      <td>1942.000000</td>\n",
              "    </tr>\n",
              "    <tr>\n",
              "      <th>25%</th>\n",
              "      <td>6.704545e+08</td>\n",
              "      <td>3.000000</td>\n",
              "      <td>1.000000</td>\n",
              "      <td>1.000000</td>\n",
              "      <td>1.000000</td>\n",
              "      <td>1.000000</td>\n",
              "      <td>1.000000</td>\n",
              "      <td>1953.000000</td>\n",
              "      <td>1.000000</td>\n",
              "      <td>1964.000000</td>\n",
              "    </tr>\n",
              "    <tr>\n",
              "      <th>50%</th>\n",
              "      <td>6.704546e+08</td>\n",
              "      <td>3.000000</td>\n",
              "      <td>1.000000</td>\n",
              "      <td>1.000000</td>\n",
              "      <td>1.000000</td>\n",
              "      <td>1.000000</td>\n",
              "      <td>1.000000</td>\n",
              "      <td>1973.000000</td>\n",
              "      <td>1.000000</td>\n",
              "      <td>1977.000000</td>\n",
              "    </tr>\n",
              "    <tr>\n",
              "      <th>75%</th>\n",
              "      <td>6.704547e+08</td>\n",
              "      <td>3.000000</td>\n",
              "      <td>1.000000</td>\n",
              "      <td>1.000000</td>\n",
              "      <td>1.000000</td>\n",
              "      <td>1.000000</td>\n",
              "      <td>1.000000</td>\n",
              "      <td>1994.000000</td>\n",
              "      <td>1.000000</td>\n",
              "      <td>1997.000000</td>\n",
              "    </tr>\n",
              "    <tr>\n",
              "      <th>max</th>\n",
              "      <td>6.709729e+08</td>\n",
              "      <td>95.000000</td>\n",
              "      <td>1.000000</td>\n",
              "      <td>1.000000</td>\n",
              "      <td>1.000000</td>\n",
              "      <td>1.000000</td>\n",
              "      <td>1.000000</td>\n",
              "      <td>2014.000000</td>\n",
              "      <td>1.000000</td>\n",
              "      <td>2006.000000</td>\n",
              "    </tr>\n",
              "  </tbody>\n",
              "</table>\n",
              "</div>"
            ],
            "text/plain": [
              "            unit_id  ...  year_of_award_gold\n",
              "count  4.410000e+02  ...           11.000000\n",
              "mean   6.704825e+08  ...         1977.363636\n",
              "std    1.139974e+05  ...           21.592928\n",
              "min    6.704544e+08  ...         1942.000000\n",
              "25%    6.704545e+08  ...         1964.000000\n",
              "50%    6.704546e+08  ...         1977.000000\n",
              "75%    6.704547e+08  ...         1997.000000\n",
              "max    6.709729e+08  ...         2006.000000\n",
              "\n",
              "[8 rows x 10 columns]"
            ]
          },
          "metadata": {
            "tags": []
          },
          "execution_count": 9
        }
      ]
    },
    {
      "cell_type": "markdown",
      "metadata": {
        "id": "F94L0f7dFSZq",
        "colab_type": "text"
      },
      "source": [
        "### DataFrame structure\n",
        "\n",
        "#### This is how a DataFrame is shown. We can see that both the column names and the index names are in bold. Columns and index provide labels to the columns and rows, which allow for direct and easy access to different subsets of data.\n",
        "\n",
        "#### DataFrame data (values) is always in regular font and is an entirely separate component from the columns or index.\n",
        "\n",
        "####  Each of the three DataFrame components: the index, columns, and data; may be accessed directly from a DataFrame. Each of these components is itself a Python object with its own unique attributes and methods.\n",
        "\n",
        "#### Let´s see how to access each of them:\n",
        "####     "
      ]
    },
    {
      "cell_type": "code",
      "metadata": {
        "id": "RiiBqmmcFSZr",
        "colab_type": "code",
        "colab": {}
      },
      "source": [
        "oscars_index = oscars_demographics.index\n",
        "oscars_columns = oscars_demographics.columns\n",
        "oscars_data = oscars_demographics.values"
      ],
      "execution_count": 0,
      "outputs": []
    },
    {
      "cell_type": "code",
      "metadata": {
        "id": "3_j-5szPFSZx",
        "colab_type": "code",
        "outputId": "23b128d9-a1c1-4841-e89c-af9171adf566",
        "colab": {
          "base_uri": "https://localhost:8080/",
          "height": 35
        }
      },
      "source": [
        "oscars_index"
      ],
      "execution_count": 0,
      "outputs": [
        {
          "output_type": "execute_result",
          "data": {
            "text/plain": [
              "RangeIndex(start=0, stop=441, step=1)"
            ]
          },
          "metadata": {
            "tags": []
          },
          "execution_count": 12
        }
      ]
    },
    {
      "cell_type": "code",
      "metadata": {
        "id": "_3Z4IFeLFSZ4",
        "colab_type": "code",
        "outputId": "c75472b9-8104-442b-e85d-d9c4cfc34705",
        "colab": {
          "base_uri": "https://localhost:8080/",
          "height": 173
        }
      },
      "source": [
        "oscars_columns"
      ],
      "execution_count": 0,
      "outputs": [
        {
          "output_type": "execute_result",
          "data": {
            "text/plain": [
              "Index(['unit_id', 'golden', 'unit_state', 'trusted_judgments',\n",
              "       'last_judgment_at', 'birthplace', 'birthplace:confidence',\n",
              "       'date_of_birth', 'date_of_birth:confidence', 'race_ethnicity',\n",
              "       'race_ethnicity:confidence', 'religion', 'religion:confidence',\n",
              "       'sexual_orientation', 'sexual_orientation:confidence', 'year_of_award',\n",
              "       'year_of_award:confidence', 'award', 'biourl', 'birthplace_gold',\n",
              "       'date_of_birth_gold', 'movie', 'person', 'race_ethnicity_gold',\n",
              "       'religion_gold', 'sexual_orientation_gold', 'year_of_award_gold'],\n",
              "      dtype='object')"
            ]
          },
          "metadata": {
            "tags": []
          },
          "execution_count": 11
        }
      ]
    },
    {
      "cell_type": "code",
      "metadata": {
        "id": "wY4gBVjcFSZ9",
        "colab_type": "code",
        "outputId": "3236d4bc-ec49-4f94-d428-eb9d6125a145",
        "colab": {
          "base_uri": "https://localhost:8080/",
          "height": 139
        }
      },
      "source": [
        "oscars_data"
      ],
      "execution_count": 0,
      "outputs": [
        {
          "output_type": "execute_result",
          "data": {
            "text/plain": [
              "array([[670454353, False, 'finalized', ..., nan, nan, nan],\n",
              "       [670454354, False, 'finalized', ..., nan, nan, nan],\n",
              "       [670454355, False, 'finalized', ..., nan, nan, nan],\n",
              "       ...,\n",
              "       [670964912, False, 'finalized', ..., nan, nan, nan],\n",
              "       [670964956, False, 'finalized', ..., nan, nan, nan],\n",
              "       [670972898, False, 'finalized', ..., nan, nan, nan]], dtype=object)"
            ]
          },
          "metadata": {
            "tags": []
          },
          "execution_count": 13
        }
      ]
    },
    {
      "cell_type": "code",
      "metadata": {
        "id": "ZxKw0C0-FSaD",
        "colab_type": "code",
        "outputId": "6e1af349-4d0b-432a-8580-117039ac2d09",
        "colab": {
          "base_uri": "https://localhost:8080/",
          "height": 35
        }
      },
      "source": [
        "type(oscars_index)"
      ],
      "execution_count": 0,
      "outputs": [
        {
          "output_type": "execute_result",
          "data": {
            "text/plain": [
              "pandas.core.indexes.range.RangeIndex"
            ]
          },
          "metadata": {
            "tags": []
          },
          "execution_count": 14
        }
      ]
    },
    {
      "cell_type": "code",
      "metadata": {
        "id": "BsIntiPJFSaJ",
        "colab_type": "code",
        "outputId": "4adfb47c-36ea-4260-f11b-426b3631f0f8",
        "colab": {
          "base_uri": "https://localhost:8080/",
          "height": 35
        }
      },
      "source": [
        "type(oscars_columns)"
      ],
      "execution_count": 0,
      "outputs": [
        {
          "output_type": "execute_result",
          "data": {
            "text/plain": [
              "pandas.core.indexes.base.Index"
            ]
          },
          "metadata": {
            "tags": []
          },
          "execution_count": 15
        }
      ]
    },
    {
      "cell_type": "code",
      "metadata": {
        "id": "H56iIgWmFSaO",
        "colab_type": "code",
        "outputId": "78c9420d-cb6d-466b-dfa7-2761ed2a13ca",
        "colab": {
          "base_uri": "https://localhost:8080/",
          "height": 35
        }
      },
      "source": [
        "type(oscars_data)"
      ],
      "execution_count": 0,
      "outputs": [
        {
          "output_type": "execute_result",
          "data": {
            "text/plain": [
              "numpy.ndarray"
            ]
          },
          "metadata": {
            "tags": []
          },
          "execution_count": 16
        }
      ]
    },
    {
      "cell_type": "markdown",
      "metadata": {
        "id": "L11esVBNFSaT",
        "colab_type": "text"
      },
      "source": [
        "### Data Types\n",
        "\n",
        "* _bool_: Boolean, stored in a single byte\n",
        "* _int_: Integer, defaulted to 64bits, also available unsigned int\n",
        "* _float_: Float, defaulted to 64bits\n",
        "* _complex_: Complex, rarely seen in data analysis\n",
        "* _object_: Object, typically a string, but is a catch-all for columns with multiple different types or other python objects\n",
        "* _datetime64_: Datetime, specific moment in time\n",
        "* _timedelta64_: Timedelta, amount of time\n",
        "* _category_: Categorical, used for columns with a few possible values\n",
        "\n",
        "#### We can use _dtype_ to display the data type associated with each column\n",
        "##   "
      ]
    },
    {
      "cell_type": "code",
      "metadata": {
        "id": "8x5frqTGFSaU",
        "colab_type": "code",
        "outputId": "1bb9fe0a-b06c-494f-8be1-3b008ded5588",
        "colab": {
          "base_uri": "https://localhost:8080/",
          "height": 503
        }
      },
      "source": [
        "oscars_demographics.dtypes"
      ],
      "execution_count": 0,
      "outputs": [
        {
          "output_type": "execute_result",
          "data": {
            "text/plain": [
              "unit_id                            int64\n",
              "golden                              bool\n",
              "unit_state                        object\n",
              "trusted_judgments                  int64\n",
              "last_judgment_at                  object\n",
              "birthplace                        object\n",
              "birthplace:confidence            float64\n",
              "date_of_birth                     object\n",
              "date_of_birth:confidence         float64\n",
              "race_ethnicity                    object\n",
              "race_ethnicity:confidence        float64\n",
              "religion                          object\n",
              "religion:confidence              float64\n",
              "sexual_orientation                object\n",
              "sexual_orientation:confidence    float64\n",
              "year_of_award                      int64\n",
              "year_of_award:confidence         float64\n",
              "award                             object\n",
              "biourl                            object\n",
              "birthplace_gold                   object\n",
              "date_of_birth_gold                object\n",
              "movie                             object\n",
              "person                            object\n",
              "race_ethnicity_gold               object\n",
              "religion_gold                     object\n",
              "sexual_orientation_gold           object\n",
              "year_of_award_gold               float64\n",
              "dtype: object"
            ]
          },
          "metadata": {
            "tags": []
          },
          "execution_count": 17
        }
      ]
    },
    {
      "cell_type": "code",
      "metadata": {
        "id": "BuytE2NHFSaa",
        "colab_type": "code",
        "outputId": "0b86b513-15dd-4d4e-b304-a31bf5dae488",
        "colab": {
          "base_uri": "https://localhost:8080/",
          "height": 104
        }
      },
      "source": [
        "#Using dtypes we saw the data types of each column. To see the quantity of columns with each data type we can use value_counts:\n",
        "oscars_demographics.dtypes.value_counts()"
      ],
      "execution_count": 0,
      "outputs": [
        {
          "output_type": "execute_result",
          "data": {
            "text/plain": [
              "object     16\n",
              "float64     7\n",
              "int64       3\n",
              "bool        1\n",
              "dtype: int64"
            ]
          },
          "metadata": {
            "tags": []
          },
          "execution_count": 18
        }
      ]
    },
    {
      "cell_type": "markdown",
      "metadata": {
        "id": "Nc3ScFMVFSaf",
        "colab_type": "text"
      },
      "source": [
        "### Series\n",
        "\n",
        "  It is a __single dimension__ of data, composed of just an index and the data\n",
        "\n",
        "  We can select a column using the __index operator__, or using the __dot notation__. \n",
        "\n",
        "###   "
      ]
    },
    {
      "cell_type": "code",
      "metadata": {
        "id": "37zToKWXFSaf",
        "colab_type": "code",
        "outputId": "8b88e957-9e98-4793-c1ce-02a228066d0e",
        "colab": {
          "base_uri": "https://localhost:8080/",
          "height": 225
        }
      },
      "source": [
        "# We can indicate a column name, using the index operator:\n",
        "\n",
        "oscars_demographics['person']"
      ],
      "execution_count": 0,
      "outputs": [
        {
          "output_type": "execute_result",
          "data": {
            "text/plain": [
              "0      Lewis Milestone\n",
              "1          Frank Lloyd\n",
              "2      Lewis Milestone\n",
              "3        Norman Taurog\n",
              "4        Frank Borzage\n",
              "            ...       \n",
              "436       Rachel Weisz\n",
              "437        Danny Boyle\n",
              "438      Jason Robards\n",
              "439       James Coburn\n",
              "440        John Huston\n",
              "Name: person, Length: 441, dtype: object"
            ]
          },
          "metadata": {
            "tags": []
          },
          "execution_count": 19
        }
      ]
    },
    {
      "cell_type": "code",
      "metadata": {
        "id": "5ZFu-2UnFSaj",
        "colab_type": "code",
        "outputId": "2d3ec51b-ddec-4f1d-fb4e-59fe1138d7dd",
        "colab": {
          "base_uri": "https://localhost:8080/",
          "height": 225
        }
      },
      "source": [
        "# We can also use the dot notation to indicate which column to select\n",
        "\n",
        "oscars_demographics.person"
      ],
      "execution_count": 0,
      "outputs": [
        {
          "output_type": "execute_result",
          "data": {
            "text/plain": [
              "0      Lewis Milestone\n",
              "1          Frank Lloyd\n",
              "2      Lewis Milestone\n",
              "3        Norman Taurog\n",
              "4        Frank Borzage\n",
              "            ...       \n",
              "436       Rachel Weisz\n",
              "437        Danny Boyle\n",
              "438      Jason Robards\n",
              "439       James Coburn\n",
              "440        John Huston\n",
              "Name: person, Length: 441, dtype: object"
            ]
          },
          "metadata": {
            "tags": []
          },
          "execution_count": 20
        }
      ]
    },
    {
      "cell_type": "markdown",
      "metadata": {
        "id": "PeNFMQzOFSan",
        "colab_type": "text"
      },
      "source": [
        "### In this case, both outputs are the same, they are series. It has an index and data, the data type is the one from the column, in this case is object. \n",
        "\n",
        "Notice that this worked because the column name doesn´t include a blank. If the column was named business name instead of name, it whouldn´t have worked. \n",
        "\n",
        "Best practice is to use always the __index operator__, and avoid the use of the dot notation.\n",
        "###    "
      ]
    },
    {
      "cell_type": "code",
      "metadata": {
        "id": "pO0WdVDBFSao",
        "colab_type": "code",
        "outputId": "c4e786f7-d596-4f0e-93fe-0e9e6ca8ab25",
        "colab": {
          "base_uri": "https://localhost:8080/",
          "height": 35
        }
      },
      "source": [
        "#To verify the data type of the output:\n",
        "\n",
        "type(oscars_demographics['person'])"
      ],
      "execution_count": 0,
      "outputs": [
        {
          "output_type": "execute_result",
          "data": {
            "text/plain": [
              "pandas.core.series.Series"
            ]
          },
          "metadata": {
            "tags": []
          },
          "execution_count": 21
        }
      ]
    },
    {
      "cell_type": "code",
      "metadata": {
        "id": "Xr9SqqUwFSas",
        "colab_type": "code",
        "outputId": "1c9ccdb4-9133-49a9-f7bd-b47dd997b77f",
        "colab": {
          "base_uri": "https://localhost:8080/",
          "height": 35
        }
      },
      "source": [
        "type(oscars_demographics['person'].to_frame())"
      ],
      "execution_count": 0,
      "outputs": [
        {
          "output_type": "execute_result",
          "data": {
            "text/plain": [
              "pandas.core.frame.DataFrame"
            ]
          },
          "metadata": {
            "tags": []
          },
          "execution_count": 22
        }
      ]
    },
    {
      "cell_type": "code",
      "metadata": {
        "id": "-zJ9bkXfFSax",
        "colab_type": "code",
        "outputId": "04dbad88-e0a5-4b0c-9a68-b440469d410c",
        "colab": {
          "base_uri": "https://localhost:8080/",
          "height": 156
        }
      },
      "source": [
        "oscars_demographics['person'].to_frame().info()"
      ],
      "execution_count": 0,
      "outputs": [
        {
          "output_type": "stream",
          "text": [
            "<class 'pandas.core.frame.DataFrame'>\n",
            "RangeIndex: 441 entries, 0 to 440\n",
            "Data columns (total 1 columns):\n",
            " #   Column  Non-Null Count  Dtype \n",
            "---  ------  --------------  ----- \n",
            " 0   person  441 non-null    object\n",
            "dtypes: object(1)\n",
            "memory usage: 3.6+ KB\n"
          ],
          "name": "stdout"
        }
      ]
    },
    {
      "cell_type": "markdown",
      "metadata": {
        "id": "e90FWpG1FSa0",
        "colab_type": "text"
      },
      "source": [
        "### Series Methods\n",
        "\n",
        "#### We will start understanding what methods can be applied to a series, and some examples. Methods will depend on the data type.\n",
        "### "
      ]
    },
    {
      "cell_type": "code",
      "metadata": {
        "id": "M7SBPcXeFSa1",
        "colab_type": "code",
        "outputId": "2b1d36a4-486e-4bb5-be6d-f71c10e7f347",
        "colab": {
          "base_uri": "https://localhost:8080/",
          "height": 35
        }
      },
      "source": [
        "s_attr_methods = set(dir(pd.Series))\n",
        "len(s_attr_methods)"
      ],
      "execution_count": 0,
      "outputs": [
        {
          "output_type": "execute_result",
          "data": {
            "text/plain": [
              "433"
            ]
          },
          "metadata": {
            "tags": []
          },
          "execution_count": 24
        }
      ]
    },
    {
      "cell_type": "code",
      "metadata": {
        "id": "6J-3Y9_7FSa5",
        "colab_type": "code",
        "outputId": "4361fd69-cc59-40a5-cde4-679cf9cb42a3",
        "colab": {
          "base_uri": "https://localhost:8080/",
          "height": 1000
        }
      },
      "source": [
        "s_attr_methods"
      ],
      "execution_count": 0,
      "outputs": [
        {
          "output_type": "execute_result",
          "data": {
            "text/plain": [
              "{'T',\n",
              " '_AXIS_ALIASES',\n",
              " '_AXIS_IALIASES',\n",
              " '_AXIS_LEN',\n",
              " '_AXIS_NAMES',\n",
              " '_AXIS_NUMBERS',\n",
              " '_AXIS_ORDERS',\n",
              " '_AXIS_REVERSED',\n",
              " '_HANDLED_TYPES',\n",
              " '__abs__',\n",
              " '__add__',\n",
              " '__and__',\n",
              " '__annotations__',\n",
              " '__array__',\n",
              " '__array_priority__',\n",
              " '__array_ufunc__',\n",
              " '__array_wrap__',\n",
              " '__bool__',\n",
              " '__class__',\n",
              " '__contains__',\n",
              " '__copy__',\n",
              " '__deepcopy__',\n",
              " '__delattr__',\n",
              " '__delitem__',\n",
              " '__dict__',\n",
              " '__dir__',\n",
              " '__div__',\n",
              " '__divmod__',\n",
              " '__doc__',\n",
              " '__eq__',\n",
              " '__finalize__',\n",
              " '__float__',\n",
              " '__floordiv__',\n",
              " '__format__',\n",
              " '__ge__',\n",
              " '__getattr__',\n",
              " '__getattribute__',\n",
              " '__getitem__',\n",
              " '__getstate__',\n",
              " '__gt__',\n",
              " '__hash__',\n",
              " '__iadd__',\n",
              " '__iand__',\n",
              " '__ifloordiv__',\n",
              " '__imod__',\n",
              " '__imul__',\n",
              " '__init__',\n",
              " '__init_subclass__',\n",
              " '__int__',\n",
              " '__invert__',\n",
              " '__ior__',\n",
              " '__ipow__',\n",
              " '__isub__',\n",
              " '__iter__',\n",
              " '__itruediv__',\n",
              " '__ixor__',\n",
              " '__le__',\n",
              " '__len__',\n",
              " '__long__',\n",
              " '__lt__',\n",
              " '__matmul__',\n",
              " '__mod__',\n",
              " '__module__',\n",
              " '__mul__',\n",
              " '__ne__',\n",
              " '__neg__',\n",
              " '__new__',\n",
              " '__nonzero__',\n",
              " '__or__',\n",
              " '__pos__',\n",
              " '__pow__',\n",
              " '__radd__',\n",
              " '__rand__',\n",
              " '__rdiv__',\n",
              " '__rdivmod__',\n",
              " '__reduce__',\n",
              " '__reduce_ex__',\n",
              " '__repr__',\n",
              " '__rfloordiv__',\n",
              " '__rmatmul__',\n",
              " '__rmod__',\n",
              " '__rmul__',\n",
              " '__ror__',\n",
              " '__round__',\n",
              " '__rpow__',\n",
              " '__rsub__',\n",
              " '__rtruediv__',\n",
              " '__rxor__',\n",
              " '__setattr__',\n",
              " '__setitem__',\n",
              " '__setstate__',\n",
              " '__sizeof__',\n",
              " '__str__',\n",
              " '__sub__',\n",
              " '__subclasshook__',\n",
              " '__truediv__',\n",
              " '__weakref__',\n",
              " '__xor__',\n",
              " '_accessors',\n",
              " '_add_numeric_operations',\n",
              " '_add_series_or_dataframe_operations',\n",
              " '_agg_by_level',\n",
              " '_agg_examples_doc',\n",
              " '_agg_see_also_doc',\n",
              " '_aggregate',\n",
              " '_aggregate_multiple_funcs',\n",
              " '_align_frame',\n",
              " '_align_series',\n",
              " '_binop',\n",
              " '_box_item_values',\n",
              " '_builtin_table',\n",
              " '_can_hold_na',\n",
              " '_check_inplace_setting',\n",
              " '_check_is_chained_assignment_possible',\n",
              " '_check_label_or_level_ambiguity',\n",
              " '_check_setitem_copy',\n",
              " '_clear_item_cache',\n",
              " '_clip_with_one_bound',\n",
              " '_clip_with_scalar',\n",
              " '_consolidate',\n",
              " '_consolidate_inplace',\n",
              " '_construct_axes_dict',\n",
              " '_construct_axes_dict_from',\n",
              " '_construct_axes_from_arguments',\n",
              " '_constructor',\n",
              " '_constructor_expanddim',\n",
              " '_constructor_sliced',\n",
              " '_convert',\n",
              " '_convert_dtypes',\n",
              " '_create_indexer',\n",
              " '_cython_table',\n",
              " '_deprecations',\n",
              " '_dir_additions',\n",
              " '_dir_deletions',\n",
              " '_drop_axis',\n",
              " '_drop_labels_or_levels',\n",
              " '_find_valid_index',\n",
              " '_from_axes',\n",
              " '_get_axis',\n",
              " '_get_axis_name',\n",
              " '_get_axis_number',\n",
              " '_get_axis_resolvers',\n",
              " '_get_block_manager_axis',\n",
              " '_get_bool_data',\n",
              " '_get_cacher',\n",
              " '_get_cleaned_column_resolvers',\n",
              " '_get_cython_func',\n",
              " '_get_index_resolvers',\n",
              " '_get_item_cache',\n",
              " '_get_label_or_level_values',\n",
              " '_get_numeric_data',\n",
              " '_get_value',\n",
              " '_get_values',\n",
              " '_get_values_tuple',\n",
              " '_get_with',\n",
              " '_gotitem',\n",
              " '_iget_item_cache',\n",
              " '_index',\n",
              " '_indexed_same',\n",
              " '_info_axis',\n",
              " '_info_axis_name',\n",
              " '_info_axis_number',\n",
              " '_init_dict',\n",
              " '_init_mgr',\n",
              " '_internal_get_values',\n",
              " '_internal_names',\n",
              " '_internal_names_set',\n",
              " '_is_builtin_func',\n",
              " '_is_cached',\n",
              " '_is_copy',\n",
              " '_is_datelike_mixed_type',\n",
              " '_is_label_or_level_reference',\n",
              " '_is_label_reference',\n",
              " '_is_level_reference',\n",
              " '_is_mixed_type',\n",
              " '_is_numeric_mixed_type',\n",
              " '_is_view',\n",
              " '_ix',\n",
              " '_ixs',\n",
              " '_map_values',\n",
              " '_maybe_cache_changed',\n",
              " '_maybe_update_cacher',\n",
              " '_metadata',\n",
              " '_ndarray_values',\n",
              " '_needs_reindex_multi',\n",
              " '_obj_with_exclusions',\n",
              " '_protect_consolidate',\n",
              " '_reduce',\n",
              " '_reindex_axes',\n",
              " '_reindex_indexer',\n",
              " '_reindex_multi',\n",
              " '_reindex_with_indexers',\n",
              " '_repr_data_resource_',\n",
              " '_repr_latex_',\n",
              " '_reset_cache',\n",
              " '_reset_cacher',\n",
              " '_selected_obj',\n",
              " '_selection',\n",
              " '_selection_list',\n",
              " '_selection_name',\n",
              " '_set_as_cached',\n",
              " '_set_axis',\n",
              " '_set_axis_name',\n",
              " '_set_is_copy',\n",
              " '_set_item',\n",
              " '_set_labels',\n",
              " '_set_name',\n",
              " '_set_subtyp',\n",
              " '_set_value',\n",
              " '_set_values',\n",
              " '_set_with',\n",
              " '_set_with_engine',\n",
              " '_setup_axes',\n",
              " '_slice',\n",
              " '_stat_axis',\n",
              " '_stat_axis_name',\n",
              " '_stat_axis_number',\n",
              " '_take_with_is_copy',\n",
              " '_to_dict_of_blocks',\n",
              " '_try_aggregate_string_function',\n",
              " '_typ',\n",
              " '_unpickle_series_compat',\n",
              " '_update_inplace',\n",
              " '_validate_dtype',\n",
              " '_values',\n",
              " '_where',\n",
              " '_xs',\n",
              " 'abs',\n",
              " 'add',\n",
              " 'add_prefix',\n",
              " 'add_suffix',\n",
              " 'agg',\n",
              " 'aggregate',\n",
              " 'align',\n",
              " 'all',\n",
              " 'any',\n",
              " 'append',\n",
              " 'apply',\n",
              " 'argmax',\n",
              " 'argmin',\n",
              " 'argsort',\n",
              " 'array',\n",
              " 'asfreq',\n",
              " 'asof',\n",
              " 'astype',\n",
              " 'at',\n",
              " 'at_time',\n",
              " 'attrs',\n",
              " 'autocorr',\n",
              " 'axes',\n",
              " 'between',\n",
              " 'between_time',\n",
              " 'bfill',\n",
              " 'bool',\n",
              " 'cat',\n",
              " 'clip',\n",
              " 'combine',\n",
              " 'combine_first',\n",
              " 'convert_dtypes',\n",
              " 'copy',\n",
              " 'corr',\n",
              " 'count',\n",
              " 'cov',\n",
              " 'cummax',\n",
              " 'cummin',\n",
              " 'cumprod',\n",
              " 'cumsum',\n",
              " 'describe',\n",
              " 'diff',\n",
              " 'div',\n",
              " 'divide',\n",
              " 'divmod',\n",
              " 'dot',\n",
              " 'drop',\n",
              " 'drop_duplicates',\n",
              " 'droplevel',\n",
              " 'dropna',\n",
              " 'dt',\n",
              " 'dtype',\n",
              " 'dtypes',\n",
              " 'duplicated',\n",
              " 'empty',\n",
              " 'eq',\n",
              " 'equals',\n",
              " 'ewm',\n",
              " 'expanding',\n",
              " 'explode',\n",
              " 'factorize',\n",
              " 'ffill',\n",
              " 'fillna',\n",
              " 'filter',\n",
              " 'first',\n",
              " 'first_valid_index',\n",
              " 'floordiv',\n",
              " 'ge',\n",
              " 'get',\n",
              " 'groupby',\n",
              " 'gt',\n",
              " 'hasnans',\n",
              " 'head',\n",
              " 'hist',\n",
              " 'iat',\n",
              " 'idxmax',\n",
              " 'idxmin',\n",
              " 'iloc',\n",
              " 'index',\n",
              " 'infer_objects',\n",
              " 'interpolate',\n",
              " 'is_monotonic',\n",
              " 'is_monotonic_decreasing',\n",
              " 'is_monotonic_increasing',\n",
              " 'is_unique',\n",
              " 'isin',\n",
              " 'isna',\n",
              " 'isnull',\n",
              " 'item',\n",
              " 'items',\n",
              " 'iteritems',\n",
              " 'keys',\n",
              " 'kurt',\n",
              " 'kurtosis',\n",
              " 'last',\n",
              " 'last_valid_index',\n",
              " 'le',\n",
              " 'loc',\n",
              " 'lt',\n",
              " 'mad',\n",
              " 'map',\n",
              " 'mask',\n",
              " 'max',\n",
              " 'mean',\n",
              " 'median',\n",
              " 'memory_usage',\n",
              " 'min',\n",
              " 'mod',\n",
              " 'mode',\n",
              " 'mul',\n",
              " 'multiply',\n",
              " 'name',\n",
              " 'nbytes',\n",
              " 'ndim',\n",
              " 'ne',\n",
              " 'nlargest',\n",
              " 'notna',\n",
              " 'notnull',\n",
              " 'nsmallest',\n",
              " 'nunique',\n",
              " 'pct_change',\n",
              " 'pipe',\n",
              " 'plot',\n",
              " 'pop',\n",
              " 'pow',\n",
              " 'prod',\n",
              " 'product',\n",
              " 'quantile',\n",
              " 'radd',\n",
              " 'rank',\n",
              " 'ravel',\n",
              " 'rdiv',\n",
              " 'rdivmod',\n",
              " 'reindex',\n",
              " 'reindex_like',\n",
              " 'rename',\n",
              " 'rename_axis',\n",
              " 'reorder_levels',\n",
              " 'repeat',\n",
              " 'replace',\n",
              " 'resample',\n",
              " 'reset_index',\n",
              " 'rfloordiv',\n",
              " 'rmod',\n",
              " 'rmul',\n",
              " 'rolling',\n",
              " 'round',\n",
              " 'rpow',\n",
              " 'rsub',\n",
              " 'rtruediv',\n",
              " 'sample',\n",
              " 'searchsorted',\n",
              " 'sem',\n",
              " 'set_axis',\n",
              " 'shape',\n",
              " 'shift',\n",
              " 'size',\n",
              " 'skew',\n",
              " 'slice_shift',\n",
              " 'sort_index',\n",
              " 'sort_values',\n",
              " 'sparse',\n",
              " 'squeeze',\n",
              " 'std',\n",
              " 'str',\n",
              " 'sub',\n",
              " 'subtract',\n",
              " 'sum',\n",
              " 'swapaxes',\n",
              " 'swaplevel',\n",
              " 'tail',\n",
              " 'take',\n",
              " 'to_clipboard',\n",
              " 'to_csv',\n",
              " 'to_dict',\n",
              " 'to_excel',\n",
              " 'to_frame',\n",
              " 'to_hdf',\n",
              " 'to_json',\n",
              " 'to_latex',\n",
              " 'to_list',\n",
              " 'to_markdown',\n",
              " 'to_numpy',\n",
              " 'to_period',\n",
              " 'to_pickle',\n",
              " 'to_sql',\n",
              " 'to_string',\n",
              " 'to_timestamp',\n",
              " 'to_xarray',\n",
              " 'tolist',\n",
              " 'transform',\n",
              " 'transpose',\n",
              " 'truediv',\n",
              " 'truncate',\n",
              " 'tshift',\n",
              " 'tz_convert',\n",
              " 'tz_localize',\n",
              " 'unique',\n",
              " 'unstack',\n",
              " 'update',\n",
              " 'value_counts',\n",
              " 'values',\n",
              " 'var',\n",
              " 'view',\n",
              " 'where',\n",
              " 'xs'}"
            ]
          },
          "metadata": {
            "tags": []
          },
          "execution_count": 25
        }
      ]
    },
    {
      "cell_type": "code",
      "metadata": {
        "id": "PlSrHTGSFSa9",
        "colab_type": "code",
        "outputId": "d6ee61bc-d7b5-43a2-83b5-3a9efdc71eaa",
        "colab": {
          "base_uri": "https://localhost:8080/",
          "height": 35
        }
      },
      "source": [
        "df_attr_methods = set(dir(pd.DataFrame))\n",
        "len(df_attr_methods)"
      ],
      "execution_count": 0,
      "outputs": [
        {
          "output_type": "execute_result",
          "data": {
            "text/plain": [
              "430"
            ]
          },
          "metadata": {
            "tags": []
          },
          "execution_count": 26
        }
      ]
    },
    {
      "cell_type": "code",
      "metadata": {
        "id": "T5yFbYHsFSbA",
        "colab_type": "code",
        "outputId": "0c1bc82c-334c-4eb6-f51c-5acef0a57e2d",
        "colab": {
          "base_uri": "https://localhost:8080/",
          "height": 1000
        }
      },
      "source": [
        "df_attr_methods"
      ],
      "execution_count": 0,
      "outputs": [
        {
          "output_type": "execute_result",
          "data": {
            "text/plain": [
              "{'T',\n",
              " '_AXIS_ALIASES',\n",
              " '_AXIS_IALIASES',\n",
              " '_AXIS_LEN',\n",
              " '_AXIS_NAMES',\n",
              " '_AXIS_NUMBERS',\n",
              " '_AXIS_ORDERS',\n",
              " '_AXIS_REVERSED',\n",
              " '__abs__',\n",
              " '__add__',\n",
              " '__and__',\n",
              " '__annotations__',\n",
              " '__array__',\n",
              " '__array_priority__',\n",
              " '__array_wrap__',\n",
              " '__bool__',\n",
              " '__class__',\n",
              " '__contains__',\n",
              " '__copy__',\n",
              " '__deepcopy__',\n",
              " '__delattr__',\n",
              " '__delitem__',\n",
              " '__dict__',\n",
              " '__dir__',\n",
              " '__div__',\n",
              " '__doc__',\n",
              " '__eq__',\n",
              " '__finalize__',\n",
              " '__floordiv__',\n",
              " '__format__',\n",
              " '__ge__',\n",
              " '__getattr__',\n",
              " '__getattribute__',\n",
              " '__getitem__',\n",
              " '__getstate__',\n",
              " '__gt__',\n",
              " '__hash__',\n",
              " '__iadd__',\n",
              " '__iand__',\n",
              " '__ifloordiv__',\n",
              " '__imod__',\n",
              " '__imul__',\n",
              " '__init__',\n",
              " '__init_subclass__',\n",
              " '__invert__',\n",
              " '__ior__',\n",
              " '__ipow__',\n",
              " '__isub__',\n",
              " '__iter__',\n",
              " '__itruediv__',\n",
              " '__ixor__',\n",
              " '__le__',\n",
              " '__len__',\n",
              " '__lt__',\n",
              " '__matmul__',\n",
              " '__mod__',\n",
              " '__module__',\n",
              " '__mul__',\n",
              " '__ne__',\n",
              " '__neg__',\n",
              " '__new__',\n",
              " '__nonzero__',\n",
              " '__or__',\n",
              " '__pos__',\n",
              " '__pow__',\n",
              " '__radd__',\n",
              " '__rand__',\n",
              " '__rdiv__',\n",
              " '__reduce__',\n",
              " '__reduce_ex__',\n",
              " '__repr__',\n",
              " '__rfloordiv__',\n",
              " '__rmatmul__',\n",
              " '__rmod__',\n",
              " '__rmul__',\n",
              " '__ror__',\n",
              " '__round__',\n",
              " '__rpow__',\n",
              " '__rsub__',\n",
              " '__rtruediv__',\n",
              " '__rxor__',\n",
              " '__setattr__',\n",
              " '__setitem__',\n",
              " '__setstate__',\n",
              " '__sizeof__',\n",
              " '__str__',\n",
              " '__sub__',\n",
              " '__subclasshook__',\n",
              " '__truediv__',\n",
              " '__weakref__',\n",
              " '__xor__',\n",
              " '_accessors',\n",
              " '_add_numeric_operations',\n",
              " '_add_series_or_dataframe_operations',\n",
              " '_agg_by_level',\n",
              " '_agg_examples_doc',\n",
              " '_agg_summary_and_see_also_doc',\n",
              " '_aggregate',\n",
              " '_aggregate_multiple_funcs',\n",
              " '_align_frame',\n",
              " '_align_series',\n",
              " '_box_col_values',\n",
              " '_box_item_values',\n",
              " '_builtin_table',\n",
              " '_check_inplace_setting',\n",
              " '_check_is_chained_assignment_possible',\n",
              " '_check_label_or_level_ambiguity',\n",
              " '_check_setitem_copy',\n",
              " '_clear_item_cache',\n",
              " '_clip_with_one_bound',\n",
              " '_clip_with_scalar',\n",
              " '_combine_frame',\n",
              " '_combine_match_index',\n",
              " '_consolidate',\n",
              " '_consolidate_inplace',\n",
              " '_construct_axes_dict',\n",
              " '_construct_axes_dict_from',\n",
              " '_construct_axes_from_arguments',\n",
              " '_construct_result',\n",
              " '_constructor',\n",
              " '_constructor_expanddim',\n",
              " '_constructor_sliced',\n",
              " '_convert',\n",
              " '_count_level',\n",
              " '_create_indexer',\n",
              " '_cython_table',\n",
              " '_deprecations',\n",
              " '_dir_additions',\n",
              " '_dir_deletions',\n",
              " '_drop_axis',\n",
              " '_drop_labels_or_levels',\n",
              " '_ensure_valid_index',\n",
              " '_find_valid_index',\n",
              " '_from_arrays',\n",
              " '_from_axes',\n",
              " '_get_agg_axis',\n",
              " '_get_axis',\n",
              " '_get_axis_name',\n",
              " '_get_axis_number',\n",
              " '_get_axis_resolvers',\n",
              " '_get_block_manager_axis',\n",
              " '_get_bool_data',\n",
              " '_get_cacher',\n",
              " '_get_cleaned_column_resolvers',\n",
              " '_get_cython_func',\n",
              " '_get_index_resolvers',\n",
              " '_get_item_cache',\n",
              " '_get_label_or_level_values',\n",
              " '_get_numeric_data',\n",
              " '_get_value',\n",
              " '_get_values',\n",
              " '_getitem_bool_array',\n",
              " '_getitem_multilevel',\n",
              " '_gotitem',\n",
              " '_iget_item_cache',\n",
              " '_indexed_same',\n",
              " '_info_axis',\n",
              " '_info_axis_name',\n",
              " '_info_axis_number',\n",
              " '_info_repr',\n",
              " '_init_mgr',\n",
              " '_internal_get_values',\n",
              " '_internal_names',\n",
              " '_internal_names_set',\n",
              " '_is_builtin_func',\n",
              " '_is_cached',\n",
              " '_is_copy',\n",
              " '_is_datelike_mixed_type',\n",
              " '_is_homogeneous_type',\n",
              " '_is_label_or_level_reference',\n",
              " '_is_label_reference',\n",
              " '_is_level_reference',\n",
              " '_is_mixed_type',\n",
              " '_is_numeric_mixed_type',\n",
              " '_is_view',\n",
              " '_ix',\n",
              " '_ixs',\n",
              " '_join_compat',\n",
              " '_maybe_cache_changed',\n",
              " '_maybe_update_cacher',\n",
              " '_metadata',\n",
              " '_needs_reindex_multi',\n",
              " '_obj_with_exclusions',\n",
              " '_protect_consolidate',\n",
              " '_reduce',\n",
              " '_reindex_axes',\n",
              " '_reindex_columns',\n",
              " '_reindex_index',\n",
              " '_reindex_multi',\n",
              " '_reindex_with_indexers',\n",
              " '_repr_data_resource_',\n",
              " '_repr_fits_horizontal_',\n",
              " '_repr_fits_vertical_',\n",
              " '_repr_html_',\n",
              " '_repr_latex_',\n",
              " '_reset_cache',\n",
              " '_reset_cacher',\n",
              " '_sanitize_column',\n",
              " '_selected_obj',\n",
              " '_selection',\n",
              " '_selection_list',\n",
              " '_selection_name',\n",
              " '_series',\n",
              " '_set_as_cached',\n",
              " '_set_axis',\n",
              " '_set_axis_name',\n",
              " '_set_is_copy',\n",
              " '_set_item',\n",
              " '_set_value',\n",
              " '_setitem_array',\n",
              " '_setitem_frame',\n",
              " '_setitem_slice',\n",
              " '_setup_axes',\n",
              " '_slice',\n",
              " '_stat_axis',\n",
              " '_stat_axis_name',\n",
              " '_stat_axis_number',\n",
              " '_take_with_is_copy',\n",
              " '_to_dict_of_blocks',\n",
              " '_try_aggregate_string_function',\n",
              " '_typ',\n",
              " '_update_inplace',\n",
              " '_validate_dtype',\n",
              " '_values',\n",
              " '_where',\n",
              " '_xs',\n",
              " 'abs',\n",
              " 'add',\n",
              " 'add_prefix',\n",
              " 'add_suffix',\n",
              " 'agg',\n",
              " 'aggregate',\n",
              " 'align',\n",
              " 'all',\n",
              " 'any',\n",
              " 'append',\n",
              " 'apply',\n",
              " 'applymap',\n",
              " 'asfreq',\n",
              " 'asof',\n",
              " 'assign',\n",
              " 'astype',\n",
              " 'at',\n",
              " 'at_time',\n",
              " 'attrs',\n",
              " 'axes',\n",
              " 'between_time',\n",
              " 'bfill',\n",
              " 'bool',\n",
              " 'boxplot',\n",
              " 'clip',\n",
              " 'columns',\n",
              " 'combine',\n",
              " 'combine_first',\n",
              " 'convert_dtypes',\n",
              " 'copy',\n",
              " 'corr',\n",
              " 'corrwith',\n",
              " 'count',\n",
              " 'cov',\n",
              " 'cummax',\n",
              " 'cummin',\n",
              " 'cumprod',\n",
              " 'cumsum',\n",
              " 'describe',\n",
              " 'diff',\n",
              " 'div',\n",
              " 'divide',\n",
              " 'dot',\n",
              " 'drop',\n",
              " 'drop_duplicates',\n",
              " 'droplevel',\n",
              " 'dropna',\n",
              " 'dtypes',\n",
              " 'duplicated',\n",
              " 'empty',\n",
              " 'eq',\n",
              " 'equals',\n",
              " 'eval',\n",
              " 'ewm',\n",
              " 'expanding',\n",
              " 'explode',\n",
              " 'ffill',\n",
              " 'fillna',\n",
              " 'filter',\n",
              " 'first',\n",
              " 'first_valid_index',\n",
              " 'floordiv',\n",
              " 'from_dict',\n",
              " 'from_records',\n",
              " 'ge',\n",
              " 'get',\n",
              " 'groupby',\n",
              " 'gt',\n",
              " 'head',\n",
              " 'hist',\n",
              " 'iat',\n",
              " 'idxmax',\n",
              " 'idxmin',\n",
              " 'iloc',\n",
              " 'index',\n",
              " 'infer_objects',\n",
              " 'info',\n",
              " 'insert',\n",
              " 'interpolate',\n",
              " 'isin',\n",
              " 'isna',\n",
              " 'isnull',\n",
              " 'items',\n",
              " 'iteritems',\n",
              " 'iterrows',\n",
              " 'itertuples',\n",
              " 'join',\n",
              " 'keys',\n",
              " 'kurt',\n",
              " 'kurtosis',\n",
              " 'last',\n",
              " 'last_valid_index',\n",
              " 'le',\n",
              " 'loc',\n",
              " 'lookup',\n",
              " 'lt',\n",
              " 'mad',\n",
              " 'mask',\n",
              " 'max',\n",
              " 'mean',\n",
              " 'median',\n",
              " 'melt',\n",
              " 'memory_usage',\n",
              " 'merge',\n",
              " 'min',\n",
              " 'mod',\n",
              " 'mode',\n",
              " 'mul',\n",
              " 'multiply',\n",
              " 'ndim',\n",
              " 'ne',\n",
              " 'nlargest',\n",
              " 'notna',\n",
              " 'notnull',\n",
              " 'nsmallest',\n",
              " 'nunique',\n",
              " 'pct_change',\n",
              " 'pipe',\n",
              " 'pivot',\n",
              " 'pivot_table',\n",
              " 'plot',\n",
              " 'pop',\n",
              " 'pow',\n",
              " 'prod',\n",
              " 'product',\n",
              " 'quantile',\n",
              " 'query',\n",
              " 'radd',\n",
              " 'rank',\n",
              " 'rdiv',\n",
              " 'reindex',\n",
              " 'reindex_like',\n",
              " 'rename',\n",
              " 'rename_axis',\n",
              " 'reorder_levels',\n",
              " 'replace',\n",
              " 'resample',\n",
              " 'reset_index',\n",
              " 'rfloordiv',\n",
              " 'rmod',\n",
              " 'rmul',\n",
              " 'rolling',\n",
              " 'round',\n",
              " 'rpow',\n",
              " 'rsub',\n",
              " 'rtruediv',\n",
              " 'sample',\n",
              " 'select_dtypes',\n",
              " 'sem',\n",
              " 'set_axis',\n",
              " 'set_index',\n",
              " 'shape',\n",
              " 'shift',\n",
              " 'size',\n",
              " 'skew',\n",
              " 'slice_shift',\n",
              " 'sort_index',\n",
              " 'sort_values',\n",
              " 'sparse',\n",
              " 'squeeze',\n",
              " 'stack',\n",
              " 'std',\n",
              " 'style',\n",
              " 'sub',\n",
              " 'subtract',\n",
              " 'sum',\n",
              " 'swapaxes',\n",
              " 'swaplevel',\n",
              " 'tail',\n",
              " 'take',\n",
              " 'to_clipboard',\n",
              " 'to_csv',\n",
              " 'to_dict',\n",
              " 'to_excel',\n",
              " 'to_feather',\n",
              " 'to_gbq',\n",
              " 'to_hdf',\n",
              " 'to_html',\n",
              " 'to_json',\n",
              " 'to_latex',\n",
              " 'to_markdown',\n",
              " 'to_numpy',\n",
              " 'to_parquet',\n",
              " 'to_period',\n",
              " 'to_pickle',\n",
              " 'to_records',\n",
              " 'to_sql',\n",
              " 'to_stata',\n",
              " 'to_string',\n",
              " 'to_timestamp',\n",
              " 'to_xarray',\n",
              " 'transform',\n",
              " 'transpose',\n",
              " 'truediv',\n",
              " 'truncate',\n",
              " 'tshift',\n",
              " 'tz_convert',\n",
              " 'tz_localize',\n",
              " 'unstack',\n",
              " 'update',\n",
              " 'values',\n",
              " 'var',\n",
              " 'where',\n",
              " 'xs'}"
            ]
          },
          "metadata": {
            "tags": []
          },
          "execution_count": 27
        }
      ]
    },
    {
      "cell_type": "markdown",
      "metadata": {
        "id": "y_PBUzDBFSbF",
        "colab_type": "text"
      },
      "source": [
        "#### As an example, we will select columns with two different data types"
      ]
    },
    {
      "cell_type": "code",
      "metadata": {
        "id": "YCFTcIZRFSbF",
        "colab_type": "code",
        "colab": {}
      },
      "source": [
        "#Selecting two columns with different data types:\n",
        "oscars_movie = oscars_demographics['movie']\n",
        "oscars_year = oscars_demographics['year_of_award']"
      ],
      "execution_count": 0,
      "outputs": []
    },
    {
      "cell_type": "code",
      "metadata": {
        "id": "vky0U5RAFSbI",
        "colab_type": "code",
        "outputId": "71fc30ac-a444-4bf0-9f1b-61c898295994",
        "colab": {
          "base_uri": "https://localhost:8080/",
          "height": 121
        }
      },
      "source": [
        "oscars_movie.head()"
      ],
      "execution_count": 0,
      "outputs": [
        {
          "output_type": "execute_result",
          "data": {
            "text/plain": [
              "0               Two Arabian Knights\n",
              "1                   The Divine Lady\n",
              "2    All Quiet on the Western Front\n",
              "3                            Skippy\n",
              "4                          Bad Girl\n",
              "Name: movie, dtype: object"
            ]
          },
          "metadata": {
            "tags": []
          },
          "execution_count": 29
        }
      ]
    },
    {
      "cell_type": "code",
      "metadata": {
        "id": "1hqI3Mq0FSbK",
        "colab_type": "code",
        "outputId": "539accc5-f523-4d8e-e956-8f7d677cef08",
        "colab": {
          "base_uri": "https://localhost:8080/",
          "height": 121
        }
      },
      "source": [
        "oscars_year.head()"
      ],
      "execution_count": 0,
      "outputs": [
        {
          "output_type": "execute_result",
          "data": {
            "text/plain": [
              "0    1927\n",
              "1    1930\n",
              "2    1931\n",
              "3    1932\n",
              "4    1933\n",
              "Name: year_of_award, dtype: int64"
            ]
          },
          "metadata": {
            "tags": []
          },
          "execution_count": 30
        }
      ]
    },
    {
      "cell_type": "markdown",
      "metadata": {
        "id": "Mt1xiwzyFSbN",
        "colab_type": "text"
      },
      "source": [
        "### Value_Counts()\n",
        "\n",
        "This method is usefull to understand the distribution the data on the serie contains. It´s usually more useful in object series than in numeric series "
      ]
    },
    {
      "cell_type": "code",
      "metadata": {
        "id": "l-8K1Rk3FSbO",
        "colab_type": "code",
        "outputId": "0066a1c0-7e1c-47b3-b15c-7be328674f1d",
        "colab": {
          "base_uri": "https://localhost:8080/",
          "height": 225
        }
      },
      "source": [
        "oscars_movie.value_counts()"
      ],
      "execution_count": 0,
      "outputs": [
        {
          "output_type": "execute_result",
          "data": {
            "text/plain": [
              "Million Dollar Baby               5\n",
              "Network                           4\n",
              "West Side Story                   4\n",
              "Going My Way                      3\n",
              "Kramer vs. Kramer                 3\n",
              "                                 ..\n",
              "Ed Wood                           1\n",
              "Dead Man Walking                  1\n",
              "The Fugitive                      1\n",
              "A Free Soul                       1\n",
              "All Quiet on the Western Front    1\n",
              "Name: movie, Length: 336, dtype: int64"
            ]
          },
          "metadata": {
            "tags": []
          },
          "execution_count": 31
        }
      ]
    },
    {
      "cell_type": "markdown",
      "metadata": {
        "id": "QxYKFe0_FSbS",
        "colab_type": "text"
      },
      "source": [
        "We can also see the values normalized, which give us another perspective on the volume of occurency of each of the elemnts:\n"
      ]
    },
    {
      "cell_type": "code",
      "metadata": {
        "id": "LhfY4JNrFSbS",
        "colab_type": "code",
        "outputId": "9303435c-4f85-4fd6-f7a4-d4798477b12b",
        "colab": {
          "base_uri": "https://localhost:8080/",
          "height": 225
        }
      },
      "source": [
        "oscars_movie.value_counts(normalize=True)"
      ],
      "execution_count": 0,
      "outputs": [
        {
          "output_type": "execute_result",
          "data": {
            "text/plain": [
              "Million Dollar Baby               0.011338\n",
              "Network                           0.009070\n",
              "West Side Story                   0.009070\n",
              "Going My Way                      0.006803\n",
              "Kramer vs. Kramer                 0.006803\n",
              "                                    ...   \n",
              "Ed Wood                           0.002268\n",
              "Dead Man Walking                  0.002268\n",
              "The Fugitive                      0.002268\n",
              "A Free Soul                       0.002268\n",
              "All Quiet on the Western Front    0.002268\n",
              "Name: movie, Length: 336, dtype: float64"
            ]
          },
          "metadata": {
            "tags": []
          },
          "execution_count": 32
        }
      ]
    },
    {
      "cell_type": "markdown",
      "metadata": {
        "id": "97rH5Uf5FSbU",
        "colab_type": "text"
      },
      "source": [
        "#### Although it is more useful in object series, it helps to understand values distribution in some numeric series:\n",
        "####     "
      ]
    },
    {
      "cell_type": "code",
      "metadata": {
        "id": "ASJvBb3lFSbV",
        "colab_type": "code",
        "outputId": "cc07f016-db95-4598-ebeb-7056c10f56f5",
        "colab": {
          "base_uri": "https://localhost:8080/",
          "height": 225
        }
      },
      "source": [
        "oscars_year.value_counts()"
      ],
      "execution_count": 0,
      "outputs": [
        {
          "output_type": "execute_result",
          "data": {
            "text/plain": [
              "1969    8\n",
              "2005    7\n",
              "1961    7\n",
              "1999    7\n",
              "2009    7\n",
              "       ..\n",
              "1932    3\n",
              "1931    3\n",
              "1929    2\n",
              "1933    1\n",
              "1927    1\n",
              "Name: year_of_award, Length: 87, dtype: int64"
            ]
          },
          "metadata": {
            "tags": []
          },
          "execution_count": 33
        }
      ]
    },
    {
      "cell_type": "code",
      "metadata": {
        "id": "3wn5MUkOFSbY",
        "colab_type": "code",
        "outputId": "ee8a451e-1d98-465c-c3f5-69c20d2bab40",
        "colab": {
          "base_uri": "https://localhost:8080/",
          "height": 225
        }
      },
      "source": [
        "oscars_demographics['year_of_award'].value_counts()"
      ],
      "execution_count": 0,
      "outputs": [
        {
          "output_type": "execute_result",
          "data": {
            "text/plain": [
              "1969    8\n",
              "2005    7\n",
              "1961    7\n",
              "1999    7\n",
              "2009    7\n",
              "       ..\n",
              "1932    3\n",
              "1931    3\n",
              "1929    2\n",
              "1933    1\n",
              "1927    1\n",
              "Name: year_of_award, Length: 87, dtype: int64"
            ]
          },
          "metadata": {
            "tags": []
          },
          "execution_count": 34
        }
      ]
    },
    {
      "cell_type": "markdown",
      "metadata": {
        "id": "MCiyo5eqFSba",
        "colab_type": "text"
      },
      "source": [
        "#### Value_counts() return a series, where the value is the index, and the count associated to the value is the element."
      ]
    },
    {
      "cell_type": "markdown",
      "metadata": {
        "id": "g4lsWklsFSbb",
        "colab_type": "text"
      },
      "source": [
        "#### Counting the number of elements in a serie: size, shape, len()"
      ]
    },
    {
      "cell_type": "code",
      "metadata": {
        "id": "06FkM5c7FSbb",
        "colab_type": "code",
        "outputId": "67b43bf7-ac6c-4398-b1fa-3b677f90b306",
        "colab": {
          "base_uri": "https://localhost:8080/",
          "height": 35
        }
      },
      "source": [
        "oscars_demographics.size"
      ],
      "execution_count": 0,
      "outputs": [
        {
          "output_type": "execute_result",
          "data": {
            "text/plain": [
              "11907"
            ]
          },
          "metadata": {
            "tags": []
          },
          "execution_count": 35
        }
      ]
    },
    {
      "cell_type": "code",
      "metadata": {
        "id": "j_JIG037FSbe",
        "colab_type": "code",
        "outputId": "ee415db2-4613-4651-96d7-8b59f630dcf7",
        "colab": {
          "base_uri": "https://localhost:8080/",
          "height": 35
        }
      },
      "source": [
        "oscars_demographics.shape"
      ],
      "execution_count": 0,
      "outputs": [
        {
          "output_type": "execute_result",
          "data": {
            "text/plain": [
              "(441, 27)"
            ]
          },
          "metadata": {
            "tags": []
          },
          "execution_count": 36
        }
      ]
    },
    {
      "cell_type": "code",
      "metadata": {
        "id": "AKkPWSOhFSbi",
        "colab_type": "code",
        "outputId": "f1bad972-7cc7-4b10-d1a6-b535721c5a7b",
        "colab": {
          "base_uri": "https://localhost:8080/",
          "height": 35
        }
      },
      "source": [
        "len(oscars_demographics)"
      ],
      "execution_count": 0,
      "outputs": [
        {
          "output_type": "execute_result",
          "data": {
            "text/plain": [
              "441"
            ]
          },
          "metadata": {
            "tags": []
          },
          "execution_count": 37
        }
      ]
    },
    {
      "cell_type": "code",
      "metadata": {
        "id": "ebp65FpGFSbm",
        "colab_type": "code",
        "outputId": "9c17f64e-33ba-4ad9-9257-afb886b69137",
        "colab": {
          "base_uri": "https://localhost:8080/",
          "height": 503
        }
      },
      "source": [
        "oscars_demographics.count()"
      ],
      "execution_count": 0,
      "outputs": [
        {
          "output_type": "execute_result",
          "data": {
            "text/plain": [
              "unit_id                          441\n",
              "golden                           441\n",
              "unit_state                       441\n",
              "trusted_judgments                441\n",
              "last_judgment_at                 416\n",
              "birthplace                       441\n",
              "birthplace:confidence            441\n",
              "date_of_birth                    441\n",
              "date_of_birth:confidence         441\n",
              "race_ethnicity                   441\n",
              "race_ethnicity:confidence        441\n",
              "religion                         441\n",
              "religion:confidence              441\n",
              "sexual_orientation               441\n",
              "sexual_orientation:confidence    441\n",
              "year_of_award                    441\n",
              "year_of_award:confidence         441\n",
              "award                            441\n",
              "biourl                           441\n",
              "birthplace_gold                    9\n",
              "date_of_birth_gold                 8\n",
              "movie                            441\n",
              "person                           441\n",
              "race_ethnicity_gold                2\n",
              "religion_gold                     10\n",
              "sexual_orientation_gold            3\n",
              "year_of_award_gold                11\n",
              "dtype: int64"
            ]
          },
          "metadata": {
            "tags": []
          },
          "execution_count": 38
        }
      ]
    },
    {
      "cell_type": "markdown",
      "metadata": {
        "id": "Wp4nXDpPFSbq",
        "colab_type": "text"
      },
      "source": [
        "_size_, _len_ and _count_ return __scala__ values, but _shape_ returns a __one-item tuple__."
      ]
    },
    {
      "cell_type": "markdown",
      "metadata": {
        "id": "H-QE1rtsFSbq",
        "colab_type": "text"
      },
      "source": [
        "#### Difference between size, shape, len() and Count()"
      ]
    },
    {
      "cell_type": "code",
      "metadata": {
        "id": "57hpoTwFFSbq",
        "colab_type": "code",
        "outputId": "136ca0f7-66a9-4e03-e02c-030a8f43a531",
        "colab": {
          "base_uri": "https://localhost:8080/",
          "height": 35
        }
      },
      "source": [
        "# Although size (shape and len) will still give us the number of elements:\n",
        "oscars_demographics['date_of_birth_gold'].size"
      ],
      "execution_count": 0,
      "outputs": [
        {
          "output_type": "execute_result",
          "data": {
            "text/plain": [
              "441"
            ]
          },
          "metadata": {
            "tags": []
          },
          "execution_count": 39
        }
      ]
    },
    {
      "cell_type": "code",
      "metadata": {
        "id": "Da4xi9AgFSbu",
        "colab_type": "code",
        "outputId": "7f10f886-9111-416a-9259-9bd159b2a076",
        "colab": {
          "base_uri": "https://localhost:8080/",
          "height": 35
        }
      },
      "source": [
        "# Count will give us the number of elements with values:\n",
        "oscars_demographics['date_of_birth_gold'].count()"
      ],
      "execution_count": 0,
      "outputs": [
        {
          "output_type": "execute_result",
          "data": {
            "text/plain": [
              "8"
            ]
          },
          "metadata": {
            "tags": []
          },
          "execution_count": 40
        }
      ]
    },
    {
      "cell_type": "code",
      "metadata": {
        "id": "nPgtEFQNFSby",
        "colab_type": "code",
        "outputId": "56f40f3f-a73a-4fa5-a2f1-463c64ddecf6",
        "colab": {
          "base_uri": "https://localhost:8080/",
          "height": 225
        }
      },
      "source": [
        "# Because of this result, we know there are null values. To confirm this we can run isnull() which will return a serie of the same length as the original one, indicating True (if null) or false (if not)\n",
        "oscars_demographics['date_of_birth_gold'].isnull()"
      ],
      "execution_count": 0,
      "outputs": [
        {
          "output_type": "execute_result",
          "data": {
            "text/plain": [
              "0      True\n",
              "1      True\n",
              "2      True\n",
              "3      True\n",
              "4      True\n",
              "       ... \n",
              "436    True\n",
              "437    True\n",
              "438    True\n",
              "439    True\n",
              "440    True\n",
              "Name: date_of_birth_gold, Length: 441, dtype: bool"
            ]
          },
          "metadata": {
            "tags": []
          },
          "execution_count": 41
        }
      ]
    },
    {
      "cell_type": "code",
      "metadata": {
        "id": "G0_GgE3UFSb1",
        "colab_type": "code",
        "outputId": "9bd42673-6960-4953-ad89-0a55258afa2f",
        "colab": {
          "base_uri": "https://localhost:8080/",
          "height": 35
        }
      },
      "source": [
        "# We can also check if there are null values by using hasnans attribute:\n",
        "oscars_demographics['date_of_birth_gold'].hasnans"
      ],
      "execution_count": 0,
      "outputs": [
        {
          "output_type": "execute_result",
          "data": {
            "text/plain": [
              "True"
            ]
          },
          "metadata": {
            "tags": []
          },
          "execution_count": 42
        }
      ]
    },
    {
      "cell_type": "code",
      "metadata": {
        "id": "aIyW5al7FSb4",
        "colab_type": "code",
        "outputId": "eed3f6f8-9e10-4c3f-92ef-ff2808b4e299",
        "colab": {
          "base_uri": "https://localhost:8080/",
          "height": 503
        }
      },
      "source": [
        "# We need to take a decision on what to do with te null values. Sometimes we can ignore them, sometimes we can eliminate them, and others we can fill them using a specific value, or the previous or following value in the serie.\n",
        "\n",
        "oscars_demographics.count()"
      ],
      "execution_count": 0,
      "outputs": [
        {
          "output_type": "execute_result",
          "data": {
            "text/plain": [
              "unit_id                          441\n",
              "golden                           441\n",
              "unit_state                       441\n",
              "trusted_judgments                441\n",
              "last_judgment_at                 416\n",
              "birthplace                       441\n",
              "birthplace:confidence            441\n",
              "date_of_birth                    441\n",
              "date_of_birth:confidence         441\n",
              "race_ethnicity                   441\n",
              "race_ethnicity:confidence        441\n",
              "religion                         441\n",
              "religion:confidence              441\n",
              "sexual_orientation               441\n",
              "sexual_orientation:confidence    441\n",
              "year_of_award                    441\n",
              "year_of_award:confidence         441\n",
              "award                            441\n",
              "biourl                           441\n",
              "birthplace_gold                    9\n",
              "date_of_birth_gold                 8\n",
              "movie                            441\n",
              "person                           441\n",
              "race_ethnicity_gold                2\n",
              "religion_gold                     10\n",
              "sexual_orientation_gold            3\n",
              "year_of_award_gold                11\n",
              "dtype: int64"
            ]
          },
          "metadata": {
            "tags": []
          },
          "execution_count": 43
        }
      ]
    },
    {
      "cell_type": "code",
      "metadata": {
        "id": "-0Q9VBTfFSb9",
        "colab_type": "code",
        "outputId": "c0d89ded-ee0b-4653-822d-ede78e0f1485",
        "colab": {
          "base_uri": "https://localhost:8080/",
          "height": 225
        }
      },
      "source": [
        "oscars_date_of_birth_gold = oscars_demographics['date_of_birth_gold']\n",
        "oscars_date_of_birth_gold"
      ],
      "execution_count": 0,
      "outputs": [
        {
          "output_type": "execute_result",
          "data": {
            "text/plain": [
              "0      NaN\n",
              "1      NaN\n",
              "2      NaN\n",
              "3      NaN\n",
              "4      NaN\n",
              "      ... \n",
              "436    NaN\n",
              "437    NaN\n",
              "438    NaN\n",
              "439    NaN\n",
              "440    NaN\n",
              "Name: date_of_birth_gold, Length: 441, dtype: object"
            ]
          },
          "metadata": {
            "tags": []
          },
          "execution_count": 44
        }
      ]
    },
    {
      "cell_type": "code",
      "metadata": {
        "id": "BMakRtnNFScB",
        "colab_type": "code",
        "colab": {}
      },
      "source": [
        "# Filling Nan with a specific value:\n",
        "\n",
        "oscars_date_of_birth_gold_fillna = oscars_date_of_birth_gold.fillna('None')"
      ],
      "execution_count": 0,
      "outputs": []
    },
    {
      "cell_type": "code",
      "metadata": {
        "id": "aXlLky-kFScE",
        "colab_type": "code",
        "outputId": "8ef2eaf4-37bd-4887-cc91-40d26549f393",
        "colab": {
          "base_uri": "https://localhost:8080/",
          "height": 35
        }
      },
      "source": [
        "oscars_date_of_birth_gold_fillna.count()"
      ],
      "execution_count": 0,
      "outputs": [
        {
          "output_type": "execute_result",
          "data": {
            "text/plain": [
              "441"
            ]
          },
          "metadata": {
            "tags": []
          },
          "execution_count": 47
        }
      ]
    },
    {
      "cell_type": "code",
      "metadata": {
        "id": "EODn2xBjFScJ",
        "colab_type": "code",
        "outputId": "2da41cf3-b5cb-4c66-b2c4-a5e4813ffcb4",
        "colab": {
          "base_uri": "https://localhost:8080/",
          "height": 35
        }
      },
      "source": [
        "oscars_date_of_birth_gold_fillna.size"
      ],
      "execution_count": 0,
      "outputs": [
        {
          "output_type": "execute_result",
          "data": {
            "text/plain": [
              "441"
            ]
          },
          "metadata": {
            "tags": []
          },
          "execution_count": 46
        }
      ]
    },
    {
      "cell_type": "code",
      "metadata": {
        "id": "iWP8qNvQFScN",
        "colab_type": "code",
        "colab": {}
      },
      "source": [
        "# removing NaN elements:\n",
        "\n",
        "oscars_date_of_birth_gold_dropped = oscars_date_of_birth_gold.dropna()"
      ],
      "execution_count": 0,
      "outputs": []
    },
    {
      "cell_type": "code",
      "metadata": {
        "id": "XTXvetVDFScP",
        "colab_type": "code",
        "outputId": "0131c2e6-3476-4096-9302-387d9b9b21a7",
        "colab": {
          "base_uri": "https://localhost:8080/",
          "height": 35
        }
      },
      "source": [
        "oscars_date_of_birth_gold_dropped.count()"
      ],
      "execution_count": 0,
      "outputs": [
        {
          "output_type": "execute_result",
          "data": {
            "text/plain": [
              "8"
            ]
          },
          "metadata": {
            "tags": []
          },
          "execution_count": 49
        }
      ]
    },
    {
      "cell_type": "code",
      "metadata": {
        "id": "hnh3krpJFScR",
        "colab_type": "code",
        "outputId": "82c6757a-d3f7-4bf5-ed5b-de3c289b6975",
        "colab": {
          "base_uri": "https://localhost:8080/",
          "height": 35
        }
      },
      "source": [
        "oscars_date_of_birth_gold_dropped.size"
      ],
      "execution_count": 0,
      "outputs": [
        {
          "output_type": "execute_result",
          "data": {
            "text/plain": [
              "8"
            ]
          },
          "metadata": {
            "tags": []
          },
          "execution_count": 50
        }
      ]
    },
    {
      "cell_type": "markdown",
      "metadata": {
        "id": "8S4T6YLAFScU",
        "colab_type": "text"
      },
      "source": [
        "#### Basic Statistics: min, max, mean, median, std, sum and describe methods\n"
      ]
    },
    {
      "cell_type": "code",
      "metadata": {
        "id": "NBwgg_bNFScU",
        "colab_type": "code",
        "outputId": "e567c3de-3de1-4ebb-a71c-f8b68b080639",
        "colab": {
          "base_uri": "https://localhost:8080/",
          "height": 35
        }
      },
      "source": [
        "oscars_demographics.trusted_judgments.min(),oscars_demographics.trusted_judgments.max(),oscars_demographics.trusted_judgments.mean(),oscars_demographics.trusted_judgments.median(),oscars_demographics.trusted_judgments.std(),oscars_demographics.trusted_judgments.sum()"
      ],
      "execution_count": 0,
      "outputs": [
        {
          "output_type": "execute_result",
          "data": {
            "text/plain": [
              "(3, 95, 7.63718820861678, 3.0, 19.015540899806783, 3368)"
            ]
          },
          "metadata": {
            "tags": []
          },
          "execution_count": 51
        }
      ]
    },
    {
      "cell_type": "code",
      "metadata": {
        "id": "Ini6f8eJFScX",
        "colab_type": "code",
        "outputId": "bb13595b-eee1-4655-c5f1-f551d9e38a43",
        "colab": {
          "base_uri": "https://localhost:8080/",
          "height": 173
        }
      },
      "source": [
        "oscars_demographics.trusted_judgments.describe()"
      ],
      "execution_count": 0,
      "outputs": [
        {
          "output_type": "execute_result",
          "data": {
            "text/plain": [
              "count    441.000000\n",
              "mean       7.637188\n",
              "std       19.015541\n",
              "min        3.000000\n",
              "25%        3.000000\n",
              "50%        3.000000\n",
              "75%        3.000000\n",
              "max       95.000000\n",
              "Name: trusted_judgments, dtype: float64"
            ]
          },
          "metadata": {
            "tags": []
          },
          "execution_count": 52
        }
      ]
    },
    {
      "cell_type": "code",
      "metadata": {
        "id": "7Agslf10FScc",
        "colab_type": "code",
        "outputId": "87900372-2ab1-4fe1-e9ad-7017a00560a0",
        "colab": {
          "base_uri": "https://localhost:8080/",
          "height": 104
        }
      },
      "source": [
        "oscars_demographics.movie.describe()"
      ],
      "execution_count": 0,
      "outputs": [
        {
          "output_type": "execute_result",
          "data": {
            "text/plain": [
              "count                     441\n",
              "unique                    336\n",
              "top       Million Dollar Baby\n",
              "freq                        5\n",
              "Name: movie, dtype: object"
            ]
          },
          "metadata": {
            "tags": []
          },
          "execution_count": 53
        }
      ]
    },
    {
      "cell_type": "code",
      "metadata": {
        "id": "P2y6mwUAFScj",
        "colab_type": "code",
        "outputId": "1f0ae6be-81b8-46e8-f41c-9caa3d74e94d",
        "colab": {
          "base_uri": "https://localhost:8080/",
          "height": 314
        }
      },
      "source": [
        "oscars_demographics.describe()"
      ],
      "execution_count": 0,
      "outputs": [
        {
          "output_type": "execute_result",
          "data": {
            "text/html": [
              "<div>\n",
              "<style scoped>\n",
              "    .dataframe tbody tr th:only-of-type {\n",
              "        vertical-align: middle;\n",
              "    }\n",
              "\n",
              "    .dataframe tbody tr th {\n",
              "        vertical-align: top;\n",
              "    }\n",
              "\n",
              "    .dataframe thead th {\n",
              "        text-align: right;\n",
              "    }\n",
              "</style>\n",
              "<table border=\"1\" class=\"dataframe\">\n",
              "  <thead>\n",
              "    <tr style=\"text-align: right;\">\n",
              "      <th></th>\n",
              "      <th>unit_id</th>\n",
              "      <th>trusted_judgments</th>\n",
              "      <th>birthplace:confidence</th>\n",
              "      <th>date_of_birth:confidence</th>\n",
              "      <th>race_ethnicity:confidence</th>\n",
              "      <th>religion:confidence</th>\n",
              "      <th>sexual_orientation:confidence</th>\n",
              "      <th>year_of_award</th>\n",
              "      <th>year_of_award:confidence</th>\n",
              "      <th>year_of_award_gold</th>\n",
              "    </tr>\n",
              "  </thead>\n",
              "  <tbody>\n",
              "    <tr>\n",
              "      <th>count</th>\n",
              "      <td>4.410000e+02</td>\n",
              "      <td>441.000000</td>\n",
              "      <td>441.000000</td>\n",
              "      <td>441.000000</td>\n",
              "      <td>441.000000</td>\n",
              "      <td>441.000000</td>\n",
              "      <td>441.000000</td>\n",
              "      <td>441.000000</td>\n",
              "      <td>441.000000</td>\n",
              "      <td>11.000000</td>\n",
              "    </tr>\n",
              "    <tr>\n",
              "      <th>mean</th>\n",
              "      <td>6.704825e+08</td>\n",
              "      <td>7.637188</td>\n",
              "      <td>0.995259</td>\n",
              "      <td>0.996607</td>\n",
              "      <td>0.999130</td>\n",
              "      <td>0.989373</td>\n",
              "      <td>0.992390</td>\n",
              "      <td>1973.165533</td>\n",
              "      <td>0.990082</td>\n",
              "      <td>1977.363636</td>\n",
              "    </tr>\n",
              "    <tr>\n",
              "      <th>std</th>\n",
              "      <td>1.139974e+05</td>\n",
              "      <td>19.015541</td>\n",
              "      <td>0.038917</td>\n",
              "      <td>0.032060</td>\n",
              "      <td>0.016438</td>\n",
              "      <td>0.065610</td>\n",
              "      <td>0.049458</td>\n",
              "      <td>24.030895</td>\n",
              "      <td>0.059177</td>\n",
              "      <td>21.592928</td>\n",
              "    </tr>\n",
              "    <tr>\n",
              "      <th>min</th>\n",
              "      <td>6.704544e+08</td>\n",
              "      <td>3.000000</td>\n",
              "      <td>0.657100</td>\n",
              "      <td>0.656200</td>\n",
              "      <td>0.657100</td>\n",
              "      <td>0.333300</td>\n",
              "      <td>0.657100</td>\n",
              "      <td>1927.000000</td>\n",
              "      <td>0.333300</td>\n",
              "      <td>1942.000000</td>\n",
              "    </tr>\n",
              "    <tr>\n",
              "      <th>25%</th>\n",
              "      <td>6.704545e+08</td>\n",
              "      <td>3.000000</td>\n",
              "      <td>1.000000</td>\n",
              "      <td>1.000000</td>\n",
              "      <td>1.000000</td>\n",
              "      <td>1.000000</td>\n",
              "      <td>1.000000</td>\n",
              "      <td>1953.000000</td>\n",
              "      <td>1.000000</td>\n",
              "      <td>1964.000000</td>\n",
              "    </tr>\n",
              "    <tr>\n",
              "      <th>50%</th>\n",
              "      <td>6.704546e+08</td>\n",
              "      <td>3.000000</td>\n",
              "      <td>1.000000</td>\n",
              "      <td>1.000000</td>\n",
              "      <td>1.000000</td>\n",
              "      <td>1.000000</td>\n",
              "      <td>1.000000</td>\n",
              "      <td>1973.000000</td>\n",
              "      <td>1.000000</td>\n",
              "      <td>1977.000000</td>\n",
              "    </tr>\n",
              "    <tr>\n",
              "      <th>75%</th>\n",
              "      <td>6.704547e+08</td>\n",
              "      <td>3.000000</td>\n",
              "      <td>1.000000</td>\n",
              "      <td>1.000000</td>\n",
              "      <td>1.000000</td>\n",
              "      <td>1.000000</td>\n",
              "      <td>1.000000</td>\n",
              "      <td>1994.000000</td>\n",
              "      <td>1.000000</td>\n",
              "      <td>1997.000000</td>\n",
              "    </tr>\n",
              "    <tr>\n",
              "      <th>max</th>\n",
              "      <td>6.709729e+08</td>\n",
              "      <td>95.000000</td>\n",
              "      <td>1.000000</td>\n",
              "      <td>1.000000</td>\n",
              "      <td>1.000000</td>\n",
              "      <td>1.000000</td>\n",
              "      <td>1.000000</td>\n",
              "      <td>2014.000000</td>\n",
              "      <td>1.000000</td>\n",
              "      <td>2006.000000</td>\n",
              "    </tr>\n",
              "  </tbody>\n",
              "</table>\n",
              "</div>"
            ],
            "text/plain": [
              "            unit_id  ...  year_of_award_gold\n",
              "count  4.410000e+02  ...           11.000000\n",
              "mean   6.704825e+08  ...         1977.363636\n",
              "std    1.139974e+05  ...           21.592928\n",
              "min    6.704544e+08  ...         1942.000000\n",
              "25%    6.704545e+08  ...         1964.000000\n",
              "50%    6.704546e+08  ...         1977.000000\n",
              "75%    6.704547e+08  ...         1997.000000\n",
              "max    6.709729e+08  ...         2006.000000\n",
              "\n",
              "[8 rows x 10 columns]"
            ]
          },
          "metadata": {
            "tags": []
          },
          "execution_count": 54
        }
      ]
    },
    {
      "cell_type": "markdown",
      "metadata": {
        "id": "zDagfJbWFScn",
        "colab_type": "text"
      },
      "source": [
        "### Operators on a Series"
      ]
    },
    {
      "cell_type": "code",
      "metadata": {
        "id": "j3wbXlzGFSco",
        "colab_type": "code",
        "outputId": "5979644f-b303-49c9-a57b-1d24a027af2e",
        "colab": {
          "base_uri": "https://localhost:8080/",
          "height": 225
        }
      },
      "source": [
        "oscars_demographics['trusted_judgments']"
      ],
      "execution_count": 0,
      "outputs": [
        {
          "output_type": "execute_result",
          "data": {
            "text/plain": [
              "0      3\n",
              "1      3\n",
              "2      3\n",
              "3      3\n",
              "4      3\n",
              "      ..\n",
              "436    3\n",
              "437    3\n",
              "438    3\n",
              "439    3\n",
              "440    3\n",
              "Name: trusted_judgments, Length: 441, dtype: int64"
            ]
          },
          "metadata": {
            "tags": []
          },
          "execution_count": 55
        }
      ]
    },
    {
      "cell_type": "code",
      "metadata": {
        "id": "T-6ArO3GFSct",
        "colab_type": "code",
        "outputId": "e078d6ba-06b4-41a8-b20b-e1a40eaa284f",
        "colab": {
          "base_uri": "https://localhost:8080/",
          "height": 35
        }
      },
      "source": [
        "oscars_demographics['trusted_judgments'].mean()"
      ],
      "execution_count": 0,
      "outputs": [
        {
          "output_type": "execute_result",
          "data": {
            "text/plain": [
              "7.63718820861678"
            ]
          },
          "metadata": {
            "tags": []
          },
          "execution_count": 56
        }
      ]
    },
    {
      "cell_type": "code",
      "metadata": {
        "id": "QA8N5OPyFScx",
        "colab_type": "code",
        "outputId": "68c46bf9-505d-467b-ff6a-bf8011830bbd",
        "colab": {
          "base_uri": "https://localhost:8080/",
          "height": 35
        }
      },
      "source": [
        "oscars_demographics['trusted_judgments'].min()"
      ],
      "execution_count": 0,
      "outputs": [
        {
          "output_type": "execute_result",
          "data": {
            "text/plain": [
              "3"
            ]
          },
          "metadata": {
            "tags": []
          },
          "execution_count": 57
        }
      ]
    },
    {
      "cell_type": "code",
      "metadata": {
        "id": "nh-De26nFSc0",
        "colab_type": "code",
        "outputId": "373832ad-07e8-4e3e-9958-4197f49c9518",
        "colab": {
          "base_uri": "https://localhost:8080/",
          "height": 35
        }
      },
      "source": [
        "oscars_demographics['trusted_judgments'].max()"
      ],
      "execution_count": 0,
      "outputs": [
        {
          "output_type": "execute_result",
          "data": {
            "text/plain": [
              "95"
            ]
          },
          "metadata": {
            "tags": []
          },
          "execution_count": 58
        }
      ]
    },
    {
      "cell_type": "code",
      "metadata": {
        "id": "ZofcKi2UFSc4",
        "colab_type": "code",
        "outputId": "03b4d060-34f7-42c8-94fb-0f00691560f9",
        "colab": {
          "base_uri": "https://localhost:8080/",
          "height": 295
        }
      },
      "source": [
        "oscars_demographics['trusted_judgments'].value_counts()"
      ],
      "execution_count": 0,
      "outputs": [
        {
          "output_type": "execute_result",
          "data": {
            "text/plain": [
              "3     416\n",
              "91      5\n",
              "87      3\n",
              "86      3\n",
              "84      2\n",
              "76      2\n",
              "75      2\n",
              "95      1\n",
              "92      1\n",
              "90      1\n",
              "89      1\n",
              "85      1\n",
              "82      1\n",
              "81      1\n",
              "62      1\n",
              "Name: trusted_judgments, dtype: int64"
            ]
          },
          "metadata": {
            "tags": []
          },
          "execution_count": 59
        }
      ]
    },
    {
      "cell_type": "code",
      "metadata": {
        "id": "HvCbyAsWFSc8",
        "colab_type": "code",
        "outputId": "6a4ef093-3cf4-4426-d71a-66d9f29d5d8f",
        "colab": {
          "base_uri": "https://localhost:8080/",
          "height": 35
        }
      },
      "source": [
        "oscars_demographics['trusted_judgments'].min()+1"
      ],
      "execution_count": 0,
      "outputs": [
        {
          "output_type": "execute_result",
          "data": {
            "text/plain": [
              "4"
            ]
          },
          "metadata": {
            "tags": []
          },
          "execution_count": 60
        }
      ]
    },
    {
      "cell_type": "code",
      "metadata": {
        "id": "WaqKBBo4FSdB",
        "colab_type": "code",
        "colab": {}
      },
      "source": [
        "mas_uno=oscars_demographics['trusted_judgments']+1"
      ],
      "execution_count": 0,
      "outputs": []
    },
    {
      "cell_type": "code",
      "metadata": {
        "id": "ddTvIaZWFSdE",
        "colab_type": "code",
        "outputId": "6d871b6a-5a71-4b55-cb4d-eff82db5e9c0",
        "colab": {
          "base_uri": "https://localhost:8080/",
          "height": 121
        }
      },
      "source": [
        "mas_uno.head()"
      ],
      "execution_count": 0,
      "outputs": [
        {
          "output_type": "execute_result",
          "data": {
            "text/plain": [
              "0    4\n",
              "1    4\n",
              "2    4\n",
              "3    4\n",
              "4    4\n",
              "Name: trusted_judgments, dtype: int64"
            ]
          },
          "metadata": {
            "tags": []
          },
          "execution_count": 62
        }
      ]
    },
    {
      "cell_type": "code",
      "metadata": {
        "id": "bHUNa-NIFSdH",
        "colab_type": "code",
        "outputId": "74f85e9f-abd4-4102-9d53-394b8616df25",
        "colab": {
          "base_uri": "https://localhost:8080/",
          "height": 35
        }
      },
      "source": [
        "mas_uno.min()"
      ],
      "execution_count": 0,
      "outputs": [
        {
          "output_type": "execute_result",
          "data": {
            "text/plain": [
              "4"
            ]
          },
          "metadata": {
            "tags": []
          },
          "execution_count": 63
        }
      ]
    },
    {
      "cell_type": "code",
      "metadata": {
        "id": "yknLT8O8FSdK",
        "colab_type": "code",
        "outputId": "baefde78-6a62-4f1b-da9e-6e14e2807efc",
        "colab": {
          "base_uri": "https://localhost:8080/",
          "height": 35
        }
      },
      "source": [
        "mas_uno.max()"
      ],
      "execution_count": 0,
      "outputs": [
        {
          "output_type": "execute_result",
          "data": {
            "text/plain": [
              "96"
            ]
          },
          "metadata": {
            "tags": []
          },
          "execution_count": 64
        }
      ]
    },
    {
      "cell_type": "code",
      "metadata": {
        "id": "fVJ0naQ3FSdN",
        "colab_type": "code",
        "outputId": "569b4295-46fb-40ee-d2ee-56e32cbe5eae",
        "colab": {
          "base_uri": "https://localhost:8080/",
          "height": 225
        }
      },
      "source": [
        "oscars_demographics['trusted_judgments'] * 3"
      ],
      "execution_count": 0,
      "outputs": [
        {
          "output_type": "execute_result",
          "data": {
            "text/plain": [
              "0      9\n",
              "1      9\n",
              "2      9\n",
              "3      9\n",
              "4      9\n",
              "      ..\n",
              "436    9\n",
              "437    9\n",
              "438    9\n",
              "439    9\n",
              "440    9\n",
              "Name: trusted_judgments, Length: 441, dtype: int64"
            ]
          },
          "metadata": {
            "tags": []
          },
          "execution_count": 65
        }
      ]
    },
    {
      "cell_type": "markdown",
      "metadata": {
        "id": "yRERC0BUFSdQ",
        "colab_type": "text"
      },
      "source": [
        "If we multiply a series it will return another series, with that operation applied to each of the elemnts. We can also use other operators as sum (+), minus (-), division (//), and exponentiation (**). Note that consecutive division operators (//) is used for floor division and the percent sign (%) for the modulus operator, which returns the remainder after a division.\n",
        "\n",
        "We can also use comparison opperators, like __greater than__ (>), __less than__ (<), __greater than or equal to__ (>=), __less than or equal to__ (<=), __equal to__ (==), and __not equal to__ (!=). These also return a seris, where each elemen is True or False based on the result of the comparison. "
      ]
    },
    {
      "cell_type": "code",
      "metadata": {
        "id": "Bou9QYf3FSdQ",
        "colab_type": "code",
        "outputId": "0d5cc5f5-0126-4e12-c4b8-046e243f9269",
        "colab": {
          "base_uri": "https://localhost:8080/",
          "height": 69
        }
      },
      "source": [
        "(oscars_year==1969).value_counts()"
      ],
      "execution_count": 0,
      "outputs": [
        {
          "output_type": "execute_result",
          "data": {
            "text/plain": [
              "False    433\n",
              "True       8\n",
              "Name: year_of_award, dtype: int64"
            ]
          },
          "metadata": {
            "tags": []
          },
          "execution_count": 66
        }
      ]
    },
    {
      "cell_type": "markdown",
      "metadata": {
        "id": "yWFi5RgVFSdT",
        "colab_type": "text"
      },
      "source": [
        "#### For every operator, there is also a method that does the same thing:\n",
        "\n",
        "#### Arithmetic\n",
        "\n",
        "* instead of +, -, *, /, //, %, **   We can use: add, sub, mul, div, floordiv, mod, pow \n",
        "\n",
        "#### Comparison \n",
        "\n",
        "* Instead of <, >, <=, >=, ==, !=  We can use:  lt, gt, le, ge, eq, ne\n"
      ]
    },
    {
      "cell_type": "code",
      "metadata": {
        "id": "kmzIPpovFSdT",
        "colab_type": "code",
        "outputId": "3490410f-3f61-4034-c349-c9f848367fc3",
        "colab": {
          "base_uri": "https://localhost:8080/",
          "height": 69
        }
      },
      "source": [
        "oscars_year.eq(1969).value_counts()"
      ],
      "execution_count": 0,
      "outputs": [
        {
          "output_type": "execute_result",
          "data": {
            "text/plain": [
              "False    433\n",
              "True       8\n",
              "Name: year_of_award, dtype: int64"
            ]
          },
          "metadata": {
            "tags": []
          },
          "execution_count": 67
        }
      ]
    },
    {
      "cell_type": "markdown",
      "metadata": {
        "id": "jWZ_mkeDFSdV",
        "colab_type": "text"
      },
      "source": [
        "### Chaining Series Methods Together\n",
        "\n",
        "#### As methods usually return other series or dataframes, it is possible to concatenate two or more methods.\n",
        "\n",
        "* We use dot (.) to concatenate methods\n",
        "* We use back-slash (\\\\) to continue the sentence in the following line\n",
        "* To facilitate reading, we try to use only one method per line\n",
        "* We can also use parentheses to indicate the whole sentense\n"
      ]
    },
    {
      "cell_type": "markdown",
      "metadata": {
        "id": "mR4LBvWrFSdV",
        "colab_type": "text"
      },
      "source": [
        "Let´s say we want to count the NaN values on Year of Award gold, we can do it using isnll() and sum() methods:\n"
      ]
    },
    {
      "cell_type": "code",
      "metadata": {
        "id": "qzgqYGHRFSdW",
        "colab_type": "code",
        "outputId": "338e8eae-d9bf-4cfe-c24b-3dca6ff57d93",
        "colab": {
          "base_uri": "https://localhost:8080/",
          "height": 35
        }
      },
      "source": [
        "oscars_demographics['year_of_award_gold'].isnull().sum()"
      ],
      "execution_count": 0,
      "outputs": [
        {
          "output_type": "execute_result",
          "data": {
            "text/plain": [
              "430"
            ]
          },
          "metadata": {
            "tags": []
          },
          "execution_count": 68
        }
      ]
    },
    {
      "cell_type": "markdown",
      "metadata": {
        "id": "vBsQwm57FSdX",
        "colab_type": "text"
      },
      "source": [
        "Or the average of NaN with mean()"
      ]
    },
    {
      "cell_type": "code",
      "metadata": {
        "id": "uSpFeAPAFSdY",
        "colab_type": "code",
        "outputId": "f941cca5-ac6d-44ee-a957-745f26f08f39",
        "colab": {
          "base_uri": "https://localhost:8080/",
          "height": 35
        }
      },
      "source": [
        "oscars_demographics['year_of_award_gold'].isnull().mean()"
      ],
      "execution_count": 0,
      "outputs": [
        {
          "output_type": "execute_result",
          "data": {
            "text/plain": [
              "0.9750566893424036"
            ]
          },
          "metadata": {
            "tags": []
          },
          "execution_count": 69
        }
      ]
    },
    {
      "cell_type": "markdown",
      "metadata": {
        "id": "0rP5b5F5FSdf",
        "colab_type": "text"
      },
      "source": [
        "To split the line in two different lines, we can use \\\n"
      ]
    },
    {
      "cell_type": "code",
      "metadata": {
        "id": "yZmUkYa4FSdg",
        "colab_type": "code",
        "outputId": "d74d185c-5701-46e6-c0c2-3239a71b5f03",
        "colab": {
          "base_uri": "https://localhost:8080/",
          "height": 35
        }
      },
      "source": [
        "oscars_demographics['year_of_award_gold'].isnull()\\\n",
        "    .mean()"
      ],
      "execution_count": 0,
      "outputs": [
        {
          "output_type": "execute_result",
          "data": {
            "text/plain": [
              "0.9750566893424036"
            ]
          },
          "metadata": {
            "tags": []
          },
          "execution_count": 70
        }
      ]
    },
    {
      "cell_type": "markdown",
      "metadata": {
        "id": "uWypRoiqFSdl",
        "colab_type": "text"
      },
      "source": [
        "Or writing the sentence between ()"
      ]
    },
    {
      "cell_type": "code",
      "metadata": {
        "id": "V6OOJVqTFSdm",
        "colab_type": "code",
        "outputId": "4ca97305-a5e4-4f76-e3b1-d2e200c77881",
        "colab": {
          "base_uri": "https://localhost:8080/",
          "height": 35
        }
      },
      "source": [
        "(oscars_demographics['year_of_award_gold'].isnull()\n",
        "     .mean())"
      ],
      "execution_count": 0,
      "outputs": [
        {
          "output_type": "execute_result",
          "data": {
            "text/plain": [
              "0.9750566893424036"
            ]
          },
          "metadata": {
            "tags": []
          },
          "execution_count": 71
        }
      ]
    },
    {
      "cell_type": "markdown",
      "metadata": {
        "id": "UNOxJEWFFSds",
        "colab_type": "text"
      },
      "source": [
        "## Cleaning the Dataset\n",
        "In this section we are going to clean the Data and get ir ready for all the analysis.\n",
        "The steps we are going to take are:\n",
        "\n",
        "* Keep the columns we are interested in using\n",
        "* Clean Null values from the dataset, we just remove the whole movie if it has a null value in a column.\n",
        "* Convert year to INT (from float)"
      ]
    },
    {
      "cell_type": "code",
      "metadata": {
        "id": "3WVdVIoJFSdt",
        "colab_type": "code",
        "colab": {}
      },
      "source": [
        "# Keep only interesting columns\n",
        "oscars = oscars_demographics[['birthplace',\n",
        "       'date_of_birth', 'race_ethnicity', 'religion',\n",
        "       'sexual_orientation', 'year_of_award', 'award', 'movie', 'person']]"
      ],
      "execution_count": 0,
      "outputs": []
    },
    {
      "cell_type": "code",
      "metadata": {
        "id": "iRyPQfhtFSdv",
        "colab_type": "code",
        "outputId": "cac2b43f-8c96-4847-db17-5c5afe8927eb",
        "colab": {
          "base_uri": "https://localhost:8080/",
          "height": 139
        }
      },
      "source": [
        "# Clean NAs\n",
        "print(len(oscars))\n",
        "oscars.dropna(inplace=True)\n",
        "print(len(oscars))"
      ],
      "execution_count": 0,
      "outputs": [
        {
          "output_type": "stream",
          "text": [
            "441\n",
            "441\n"
          ],
          "name": "stdout"
        },
        {
          "output_type": "stream",
          "text": [
            "/usr/local/lib/python3.6/dist-packages/ipykernel_launcher.py:2: SettingWithCopyWarning: \n",
            "A value is trying to be set on a copy of a slice from a DataFrame\n",
            "\n",
            "See the caveats in the documentation: https://pandas.pydata.org/pandas-docs/stable/user_guide/indexing.html#returning-a-view-versus-a-copy\n",
            "  \n"
          ],
          "name": "stderr"
        }
      ]
    },
    {
      "cell_type": "code",
      "metadata": {
        "id": "2crKrvFRFSdz",
        "colab_type": "code",
        "outputId": "1e584806-8c92-483f-8306-296fcd5e6efe",
        "colab": {
          "base_uri": "https://localhost:8080/",
          "height": 289
        }
      },
      "source": [
        "oscars.tail()"
      ],
      "execution_count": 0,
      "outputs": [
        {
          "output_type": "execute_result",
          "data": {
            "text/html": [
              "<div>\n",
              "<style scoped>\n",
              "    .dataframe tbody tr th:only-of-type {\n",
              "        vertical-align: middle;\n",
              "    }\n",
              "\n",
              "    .dataframe tbody tr th {\n",
              "        vertical-align: top;\n",
              "    }\n",
              "\n",
              "    .dataframe thead th {\n",
              "        text-align: right;\n",
              "    }\n",
              "</style>\n",
              "<table border=\"1\" class=\"dataframe\">\n",
              "  <thead>\n",
              "    <tr style=\"text-align: right;\">\n",
              "      <th></th>\n",
              "      <th>birthplace</th>\n",
              "      <th>date_of_birth</th>\n",
              "      <th>race_ethnicity</th>\n",
              "      <th>religion</th>\n",
              "      <th>sexual_orientation</th>\n",
              "      <th>year_of_award</th>\n",
              "      <th>award</th>\n",
              "      <th>movie</th>\n",
              "      <th>person</th>\n",
              "    </tr>\n",
              "  </thead>\n",
              "  <tbody>\n",
              "    <tr>\n",
              "      <th>436</th>\n",
              "      <td>London, England</td>\n",
              "      <td>7-Mar-71</td>\n",
              "      <td>White</td>\n",
              "      <td>Jewish</td>\n",
              "      <td>Straight</td>\n",
              "      <td>2006</td>\n",
              "      <td>Best Supporting Actress</td>\n",
              "      <td>The Constant Gardener</td>\n",
              "      <td>Rachel Weisz</td>\n",
              "    </tr>\n",
              "    <tr>\n",
              "      <th>437</th>\n",
              "      <td>Manchester, England</td>\n",
              "      <td>20-Oct-56</td>\n",
              "      <td>White</td>\n",
              "      <td>Roman Catholic</td>\n",
              "      <td>Straight</td>\n",
              "      <td>2009</td>\n",
              "      <td>Best Director</td>\n",
              "      <td>Slumdog Millionaire</td>\n",
              "      <td>Danny Boyle</td>\n",
              "    </tr>\n",
              "    <tr>\n",
              "      <th>438</th>\n",
              "      <td>Chicago, Il</td>\n",
              "      <td>26-Jul-22</td>\n",
              "      <td>White</td>\n",
              "      <td>Na</td>\n",
              "      <td>Straight</td>\n",
              "      <td>1977</td>\n",
              "      <td>Best Supporting Actor</td>\n",
              "      <td>All the President's Men</td>\n",
              "      <td>Jason Robards</td>\n",
              "    </tr>\n",
              "    <tr>\n",
              "      <th>439</th>\n",
              "      <td>Laurel, Ne</td>\n",
              "      <td>31-Aug-28</td>\n",
              "      <td>White</td>\n",
              "      <td>Na</td>\n",
              "      <td>Straight</td>\n",
              "      <td>1999</td>\n",
              "      <td>Best Supporting Actor</td>\n",
              "      <td>Affliction</td>\n",
              "      <td>James Coburn</td>\n",
              "    </tr>\n",
              "    <tr>\n",
              "      <th>440</th>\n",
              "      <td>Nevada, Mo</td>\n",
              "      <td>5-Aug-06</td>\n",
              "      <td>White</td>\n",
              "      <td>Na</td>\n",
              "      <td>Straight</td>\n",
              "      <td>1949</td>\n",
              "      <td>Best Director</td>\n",
              "      <td>The Treasure of the Sierra Madre</td>\n",
              "      <td>John Huston</td>\n",
              "    </tr>\n",
              "  </tbody>\n",
              "</table>\n",
              "</div>"
            ],
            "text/plain": [
              "              birthplace  ...         person\n",
              "436      London, England  ...   Rachel Weisz\n",
              "437  Manchester, England  ...    Danny Boyle\n",
              "438          Chicago, Il  ...  Jason Robards\n",
              "439           Laurel, Ne  ...   James Coburn\n",
              "440           Nevada, Mo  ...    John Huston\n",
              "\n",
              "[5 rows x 9 columns]"
            ]
          },
          "metadata": {
            "tags": []
          },
          "execution_count": 74
        }
      ]
    },
    {
      "cell_type": "code",
      "metadata": {
        "id": "mxV2Z6utFSd1",
        "colab_type": "code",
        "outputId": "078c4681-d52c-4694-da88-3ae0d3601a73",
        "colab": {
          "base_uri": "https://localhost:8080/",
          "height": 295
        }
      },
      "source": [
        "oscars.info()"
      ],
      "execution_count": 0,
      "outputs": [
        {
          "output_type": "stream",
          "text": [
            "<class 'pandas.core.frame.DataFrame'>\n",
            "Int64Index: 441 entries, 0 to 440\n",
            "Data columns (total 9 columns):\n",
            " #   Column              Non-Null Count  Dtype \n",
            "---  ------              --------------  ----- \n",
            " 0   birthplace          441 non-null    object\n",
            " 1   date_of_birth       441 non-null    object\n",
            " 2   race_ethnicity      441 non-null    object\n",
            " 3   religion            441 non-null    object\n",
            " 4   sexual_orientation  441 non-null    object\n",
            " 5   year_of_award       441 non-null    int64 \n",
            " 6   award               441 non-null    object\n",
            " 7   movie               441 non-null    object\n",
            " 8   person              441 non-null    object\n",
            "dtypes: int64(1), object(8)\n",
            "memory usage: 34.5+ KB\n"
          ],
          "name": "stdout"
        }
      ]
    },
    {
      "cell_type": "markdown",
      "metadata": {
        "id": "E98cB-VOFSd4",
        "colab_type": "text"
      },
      "source": [
        "### Indexes\n",
        "\n",
        "* Indexes provide a label for each row\n",
        "* If no index is explicitly provided, a RangeIndex is created with labels starting in 0 \n",
        "####   "
      ]
    },
    {
      "cell_type": "markdown",
      "metadata": {
        "id": "3SLNFIE7FSd4",
        "colab_type": "text"
      },
      "source": [
        "If we go back to our example, business did have a __RangeIndex__:"
      ]
    },
    {
      "cell_type": "code",
      "metadata": {
        "id": "MCY-2CTSFSd5",
        "colab_type": "code",
        "outputId": "fc46df47-98bf-4c15-f4a1-a0b2a81ae80b",
        "colab": {
          "base_uri": "https://localhost:8080/",
          "height": 589
        }
      },
      "source": [
        "oscars"
      ],
      "execution_count": 0,
      "outputs": [
        {
          "output_type": "execute_result",
          "data": {
            "text/html": [
              "<div>\n",
              "<style scoped>\n",
              "    .dataframe tbody tr th:only-of-type {\n",
              "        vertical-align: middle;\n",
              "    }\n",
              "\n",
              "    .dataframe tbody tr th {\n",
              "        vertical-align: top;\n",
              "    }\n",
              "\n",
              "    .dataframe thead th {\n",
              "        text-align: right;\n",
              "    }\n",
              "</style>\n",
              "<table border=\"1\" class=\"dataframe\">\n",
              "  <thead>\n",
              "    <tr style=\"text-align: right;\">\n",
              "      <th></th>\n",
              "      <th>birthplace</th>\n",
              "      <th>date_of_birth</th>\n",
              "      <th>race_ethnicity</th>\n",
              "      <th>religion</th>\n",
              "      <th>sexual_orientation</th>\n",
              "      <th>year_of_award</th>\n",
              "      <th>award</th>\n",
              "      <th>movie</th>\n",
              "      <th>person</th>\n",
              "    </tr>\n",
              "  </thead>\n",
              "  <tbody>\n",
              "    <tr>\n",
              "      <th>0</th>\n",
              "      <td>Chisinau, Moldova</td>\n",
              "      <td>30-Sep-1895</td>\n",
              "      <td>White</td>\n",
              "      <td>Na</td>\n",
              "      <td>Straight</td>\n",
              "      <td>1927</td>\n",
              "      <td>Best Director</td>\n",
              "      <td>Two Arabian Knights</td>\n",
              "      <td>Lewis Milestone</td>\n",
              "    </tr>\n",
              "    <tr>\n",
              "      <th>1</th>\n",
              "      <td>Glasgow, Scotland</td>\n",
              "      <td>2-Feb-1886</td>\n",
              "      <td>White</td>\n",
              "      <td>Na</td>\n",
              "      <td>Straight</td>\n",
              "      <td>1930</td>\n",
              "      <td>Best Director</td>\n",
              "      <td>The Divine Lady</td>\n",
              "      <td>Frank Lloyd</td>\n",
              "    </tr>\n",
              "    <tr>\n",
              "      <th>2</th>\n",
              "      <td>Chisinau, Moldova</td>\n",
              "      <td>30-Sep-1895</td>\n",
              "      <td>White</td>\n",
              "      <td>Na</td>\n",
              "      <td>Straight</td>\n",
              "      <td>1931</td>\n",
              "      <td>Best Director</td>\n",
              "      <td>All Quiet on the Western Front</td>\n",
              "      <td>Lewis Milestone</td>\n",
              "    </tr>\n",
              "    <tr>\n",
              "      <th>3</th>\n",
              "      <td>Chicago, Il</td>\n",
              "      <td>23-Feb-1899</td>\n",
              "      <td>White</td>\n",
              "      <td>Na</td>\n",
              "      <td>Straight</td>\n",
              "      <td>1932</td>\n",
              "      <td>Best Director</td>\n",
              "      <td>Skippy</td>\n",
              "      <td>Norman Taurog</td>\n",
              "    </tr>\n",
              "    <tr>\n",
              "      <th>4</th>\n",
              "      <td>Salt Lake City, Ut</td>\n",
              "      <td>23-Apr-1894</td>\n",
              "      <td>White</td>\n",
              "      <td>Roman Catholic</td>\n",
              "      <td>Straight</td>\n",
              "      <td>1933</td>\n",
              "      <td>Best Director</td>\n",
              "      <td>Bad Girl</td>\n",
              "      <td>Frank Borzage</td>\n",
              "    </tr>\n",
              "    <tr>\n",
              "      <th>...</th>\n",
              "      <td>...</td>\n",
              "      <td>...</td>\n",
              "      <td>...</td>\n",
              "      <td>...</td>\n",
              "      <td>...</td>\n",
              "      <td>...</td>\n",
              "      <td>...</td>\n",
              "      <td>...</td>\n",
              "      <td>...</td>\n",
              "    </tr>\n",
              "    <tr>\n",
              "      <th>436</th>\n",
              "      <td>London, England</td>\n",
              "      <td>7-Mar-71</td>\n",
              "      <td>White</td>\n",
              "      <td>Jewish</td>\n",
              "      <td>Straight</td>\n",
              "      <td>2006</td>\n",
              "      <td>Best Supporting Actress</td>\n",
              "      <td>The Constant Gardener</td>\n",
              "      <td>Rachel Weisz</td>\n",
              "    </tr>\n",
              "    <tr>\n",
              "      <th>437</th>\n",
              "      <td>Manchester, England</td>\n",
              "      <td>20-Oct-56</td>\n",
              "      <td>White</td>\n",
              "      <td>Roman Catholic</td>\n",
              "      <td>Straight</td>\n",
              "      <td>2009</td>\n",
              "      <td>Best Director</td>\n",
              "      <td>Slumdog Millionaire</td>\n",
              "      <td>Danny Boyle</td>\n",
              "    </tr>\n",
              "    <tr>\n",
              "      <th>438</th>\n",
              "      <td>Chicago, Il</td>\n",
              "      <td>26-Jul-22</td>\n",
              "      <td>White</td>\n",
              "      <td>Na</td>\n",
              "      <td>Straight</td>\n",
              "      <td>1977</td>\n",
              "      <td>Best Supporting Actor</td>\n",
              "      <td>All the President's Men</td>\n",
              "      <td>Jason Robards</td>\n",
              "    </tr>\n",
              "    <tr>\n",
              "      <th>439</th>\n",
              "      <td>Laurel, Ne</td>\n",
              "      <td>31-Aug-28</td>\n",
              "      <td>White</td>\n",
              "      <td>Na</td>\n",
              "      <td>Straight</td>\n",
              "      <td>1999</td>\n",
              "      <td>Best Supporting Actor</td>\n",
              "      <td>Affliction</td>\n",
              "      <td>James Coburn</td>\n",
              "    </tr>\n",
              "    <tr>\n",
              "      <th>440</th>\n",
              "      <td>Nevada, Mo</td>\n",
              "      <td>5-Aug-06</td>\n",
              "      <td>White</td>\n",
              "      <td>Na</td>\n",
              "      <td>Straight</td>\n",
              "      <td>1949</td>\n",
              "      <td>Best Director</td>\n",
              "      <td>The Treasure of the Sierra Madre</td>\n",
              "      <td>John Huston</td>\n",
              "    </tr>\n",
              "  </tbody>\n",
              "</table>\n",
              "<p>441 rows × 9 columns</p>\n",
              "</div>"
            ],
            "text/plain": [
              "              birthplace  ...           person\n",
              "0      Chisinau, Moldova  ...  Lewis Milestone\n",
              "1      Glasgow, Scotland  ...      Frank Lloyd\n",
              "2      Chisinau, Moldova  ...  Lewis Milestone\n",
              "3            Chicago, Il  ...    Norman Taurog\n",
              "4     Salt Lake City, Ut  ...    Frank Borzage\n",
              "..                   ...  ...              ...\n",
              "436      London, England  ...     Rachel Weisz\n",
              "437  Manchester, England  ...      Danny Boyle\n",
              "438          Chicago, Il  ...    Jason Robards\n",
              "439           Laurel, Ne  ...     James Coburn\n",
              "440           Nevada, Mo  ...      John Huston\n",
              "\n",
              "[441 rows x 9 columns]"
            ]
          },
          "metadata": {
            "tags": []
          },
          "execution_count": 76
        }
      ]
    },
    {
      "cell_type": "markdown",
      "metadata": {
        "id": "2dg6VdvvFSd7",
        "colab_type": "text"
      },
      "source": [
        "We can change the index and use business Id instead, using the set_index method:\n"
      ]
    },
    {
      "cell_type": "code",
      "metadata": {
        "id": "9N2lmDV7FSd8",
        "colab_type": "code",
        "outputId": "4d195ddc-d03b-4f50-91dd-042955b5ffbc",
        "colab": {
          "base_uri": "https://localhost:8080/",
          "height": 191
        }
      },
      "source": [
        "oscars.count()"
      ],
      "execution_count": 0,
      "outputs": [
        {
          "output_type": "execute_result",
          "data": {
            "text/plain": [
              "birthplace            441\n",
              "date_of_birth         441\n",
              "race_ethnicity        441\n",
              "religion              441\n",
              "sexual_orientation    441\n",
              "year_of_award         441\n",
              "award                 441\n",
              "movie                 441\n",
              "person                441\n",
              "dtype: int64"
            ]
          },
          "metadata": {
            "tags": []
          },
          "execution_count": 77
        }
      ]
    },
    {
      "cell_type": "code",
      "metadata": {
        "id": "lctMjDaTFSd9",
        "colab_type": "code",
        "colab": {}
      },
      "source": [
        "oscars_byID=oscars.set_index(['person','year_of_award'])"
      ],
      "execution_count": 0,
      "outputs": []
    },
    {
      "cell_type": "code",
      "metadata": {
        "id": "nVKQbaXPFSd-",
        "colab_type": "code",
        "outputId": "7cb79dfd-6cd9-4289-f90c-8028a29c8662",
        "colab": {
          "base_uri": "https://localhost:8080/",
          "height": 602
        }
      },
      "source": [
        "oscars_byID"
      ],
      "execution_count": 0,
      "outputs": [
        {
          "output_type": "execute_result",
          "data": {
            "text/html": [
              "<div>\n",
              "<style scoped>\n",
              "    .dataframe tbody tr th:only-of-type {\n",
              "        vertical-align: middle;\n",
              "    }\n",
              "\n",
              "    .dataframe tbody tr th {\n",
              "        vertical-align: top;\n",
              "    }\n",
              "\n",
              "    .dataframe thead th {\n",
              "        text-align: right;\n",
              "    }\n",
              "</style>\n",
              "<table border=\"1\" class=\"dataframe\">\n",
              "  <thead>\n",
              "    <tr style=\"text-align: right;\">\n",
              "      <th></th>\n",
              "      <th></th>\n",
              "      <th>birthplace</th>\n",
              "      <th>date_of_birth</th>\n",
              "      <th>race_ethnicity</th>\n",
              "      <th>religion</th>\n",
              "      <th>sexual_orientation</th>\n",
              "      <th>award</th>\n",
              "      <th>movie</th>\n",
              "    </tr>\n",
              "    <tr>\n",
              "      <th>person</th>\n",
              "      <th>year_of_award</th>\n",
              "      <th></th>\n",
              "      <th></th>\n",
              "      <th></th>\n",
              "      <th></th>\n",
              "      <th></th>\n",
              "      <th></th>\n",
              "      <th></th>\n",
              "    </tr>\n",
              "  </thead>\n",
              "  <tbody>\n",
              "    <tr>\n",
              "      <th>Lewis Milestone</th>\n",
              "      <th>1927</th>\n",
              "      <td>Chisinau, Moldova</td>\n",
              "      <td>30-Sep-1895</td>\n",
              "      <td>White</td>\n",
              "      <td>Na</td>\n",
              "      <td>Straight</td>\n",
              "      <td>Best Director</td>\n",
              "      <td>Two Arabian Knights</td>\n",
              "    </tr>\n",
              "    <tr>\n",
              "      <th>Frank Lloyd</th>\n",
              "      <th>1930</th>\n",
              "      <td>Glasgow, Scotland</td>\n",
              "      <td>2-Feb-1886</td>\n",
              "      <td>White</td>\n",
              "      <td>Na</td>\n",
              "      <td>Straight</td>\n",
              "      <td>Best Director</td>\n",
              "      <td>The Divine Lady</td>\n",
              "    </tr>\n",
              "    <tr>\n",
              "      <th>Lewis Milestone</th>\n",
              "      <th>1931</th>\n",
              "      <td>Chisinau, Moldova</td>\n",
              "      <td>30-Sep-1895</td>\n",
              "      <td>White</td>\n",
              "      <td>Na</td>\n",
              "      <td>Straight</td>\n",
              "      <td>Best Director</td>\n",
              "      <td>All Quiet on the Western Front</td>\n",
              "    </tr>\n",
              "    <tr>\n",
              "      <th>Norman Taurog</th>\n",
              "      <th>1932</th>\n",
              "      <td>Chicago, Il</td>\n",
              "      <td>23-Feb-1899</td>\n",
              "      <td>White</td>\n",
              "      <td>Na</td>\n",
              "      <td>Straight</td>\n",
              "      <td>Best Director</td>\n",
              "      <td>Skippy</td>\n",
              "    </tr>\n",
              "    <tr>\n",
              "      <th>Frank Borzage</th>\n",
              "      <th>1933</th>\n",
              "      <td>Salt Lake City, Ut</td>\n",
              "      <td>23-Apr-1894</td>\n",
              "      <td>White</td>\n",
              "      <td>Roman Catholic</td>\n",
              "      <td>Straight</td>\n",
              "      <td>Best Director</td>\n",
              "      <td>Bad Girl</td>\n",
              "    </tr>\n",
              "    <tr>\n",
              "      <th>...</th>\n",
              "      <th>...</th>\n",
              "      <td>...</td>\n",
              "      <td>...</td>\n",
              "      <td>...</td>\n",
              "      <td>...</td>\n",
              "      <td>...</td>\n",
              "      <td>...</td>\n",
              "      <td>...</td>\n",
              "    </tr>\n",
              "    <tr>\n",
              "      <th>Rachel Weisz</th>\n",
              "      <th>2006</th>\n",
              "      <td>London, England</td>\n",
              "      <td>7-Mar-71</td>\n",
              "      <td>White</td>\n",
              "      <td>Jewish</td>\n",
              "      <td>Straight</td>\n",
              "      <td>Best Supporting Actress</td>\n",
              "      <td>The Constant Gardener</td>\n",
              "    </tr>\n",
              "    <tr>\n",
              "      <th>Danny Boyle</th>\n",
              "      <th>2009</th>\n",
              "      <td>Manchester, England</td>\n",
              "      <td>20-Oct-56</td>\n",
              "      <td>White</td>\n",
              "      <td>Roman Catholic</td>\n",
              "      <td>Straight</td>\n",
              "      <td>Best Director</td>\n",
              "      <td>Slumdog Millionaire</td>\n",
              "    </tr>\n",
              "    <tr>\n",
              "      <th>Jason Robards</th>\n",
              "      <th>1977</th>\n",
              "      <td>Chicago, Il</td>\n",
              "      <td>26-Jul-22</td>\n",
              "      <td>White</td>\n",
              "      <td>Na</td>\n",
              "      <td>Straight</td>\n",
              "      <td>Best Supporting Actor</td>\n",
              "      <td>All the President's Men</td>\n",
              "    </tr>\n",
              "    <tr>\n",
              "      <th>James Coburn</th>\n",
              "      <th>1999</th>\n",
              "      <td>Laurel, Ne</td>\n",
              "      <td>31-Aug-28</td>\n",
              "      <td>White</td>\n",
              "      <td>Na</td>\n",
              "      <td>Straight</td>\n",
              "      <td>Best Supporting Actor</td>\n",
              "      <td>Affliction</td>\n",
              "    </tr>\n",
              "    <tr>\n",
              "      <th>John Huston</th>\n",
              "      <th>1949</th>\n",
              "      <td>Nevada, Mo</td>\n",
              "      <td>5-Aug-06</td>\n",
              "      <td>White</td>\n",
              "      <td>Na</td>\n",
              "      <td>Straight</td>\n",
              "      <td>Best Director</td>\n",
              "      <td>The Treasure of the Sierra Madre</td>\n",
              "    </tr>\n",
              "  </tbody>\n",
              "</table>\n",
              "<p>441 rows × 7 columns</p>\n",
              "</div>"
            ],
            "text/plain": [
              "                                        birthplace  ...                             movie\n",
              "person          year_of_award                       ...                                  \n",
              "Lewis Milestone 1927             Chisinau, Moldova  ...               Two Arabian Knights\n",
              "Frank Lloyd     1930             Glasgow, Scotland  ...                   The Divine Lady\n",
              "Lewis Milestone 1931             Chisinau, Moldova  ...    All Quiet on the Western Front\n",
              "Norman Taurog   1932                   Chicago, Il  ...                            Skippy\n",
              "Frank Borzage   1933            Salt Lake City, Ut  ...                          Bad Girl\n",
              "...                                            ...  ...                               ...\n",
              "Rachel Weisz    2006               London, England  ...             The Constant Gardener\n",
              "Danny Boyle     2009           Manchester, England  ...               Slumdog Millionaire\n",
              "Jason Robards   1977                   Chicago, Il  ...           All the President's Men\n",
              "James Coburn    1999                    Laurel, Ne  ...                        Affliction\n",
              "John Huston     1949                    Nevada, Mo  ...  The Treasure of the Sierra Madre\n",
              "\n",
              "[441 rows x 7 columns]"
            ]
          },
          "metadata": {
            "tags": []
          },
          "execution_count": 79
        }
      ]
    },
    {
      "cell_type": "code",
      "metadata": {
        "id": "elLAf2txFSeA",
        "colab_type": "code",
        "outputId": "84f6e2d3-dac1-4c1a-a095-98324692a848",
        "colab": {
          "base_uri": "https://localhost:8080/",
          "height": 156
        }
      },
      "source": [
        "oscars_byID.count()"
      ],
      "execution_count": 0,
      "outputs": [
        {
          "output_type": "execute_result",
          "data": {
            "text/plain": [
              "birthplace            441\n",
              "date_of_birth         441\n",
              "race_ethnicity        441\n",
              "religion              441\n",
              "sexual_orientation    441\n",
              "award                 441\n",
              "movie                 441\n",
              "dtype: int64"
            ]
          },
          "metadata": {
            "tags": []
          },
          "execution_count": 80
        }
      ]
    },
    {
      "cell_type": "code",
      "metadata": {
        "id": "X3s8zBwKFSeF",
        "colab_type": "code",
        "outputId": "61cab092-c344-45e1-9bb7-6ade6474443d",
        "colab": {
          "base_uri": "https://localhost:8080/",
          "height": 443
        }
      },
      "source": [
        "oscars_byID = pd.read_csv('Oscars-demographics-DFE.csv', encoding='latin-1', index_col=['person','year_of_award'])\n",
        "oscars_byID.tail()"
      ],
      "execution_count": 0,
      "outputs": [
        {
          "output_type": "execute_result",
          "data": {
            "text/html": [
              "<div>\n",
              "<style scoped>\n",
              "    .dataframe tbody tr th:only-of-type {\n",
              "        vertical-align: middle;\n",
              "    }\n",
              "\n",
              "    .dataframe tbody tr th {\n",
              "        vertical-align: top;\n",
              "    }\n",
              "\n",
              "    .dataframe thead th {\n",
              "        text-align: right;\n",
              "    }\n",
              "</style>\n",
              "<table border=\"1\" class=\"dataframe\">\n",
              "  <thead>\n",
              "    <tr style=\"text-align: right;\">\n",
              "      <th></th>\n",
              "      <th></th>\n",
              "      <th>unit_id</th>\n",
              "      <th>golden</th>\n",
              "      <th>unit_state</th>\n",
              "      <th>trusted_judgments</th>\n",
              "      <th>last_judgment_at</th>\n",
              "      <th>birthplace</th>\n",
              "      <th>birthplace:confidence</th>\n",
              "      <th>date_of_birth</th>\n",
              "      <th>date_of_birth:confidence</th>\n",
              "      <th>race_ethnicity</th>\n",
              "      <th>race_ethnicity:confidence</th>\n",
              "      <th>religion</th>\n",
              "      <th>religion:confidence</th>\n",
              "      <th>sexual_orientation</th>\n",
              "      <th>sexual_orientation:confidence</th>\n",
              "      <th>year_of_award:confidence</th>\n",
              "      <th>award</th>\n",
              "      <th>biourl</th>\n",
              "      <th>birthplace_gold</th>\n",
              "      <th>date_of_birth_gold</th>\n",
              "      <th>movie</th>\n",
              "      <th>race_ethnicity_gold</th>\n",
              "      <th>religion_gold</th>\n",
              "      <th>sexual_orientation_gold</th>\n",
              "      <th>year_of_award_gold</th>\n",
              "    </tr>\n",
              "    <tr>\n",
              "      <th>person</th>\n",
              "      <th>year_of_award</th>\n",
              "      <th></th>\n",
              "      <th></th>\n",
              "      <th></th>\n",
              "      <th></th>\n",
              "      <th></th>\n",
              "      <th></th>\n",
              "      <th></th>\n",
              "      <th></th>\n",
              "      <th></th>\n",
              "      <th></th>\n",
              "      <th></th>\n",
              "      <th></th>\n",
              "      <th></th>\n",
              "      <th></th>\n",
              "      <th></th>\n",
              "      <th></th>\n",
              "      <th></th>\n",
              "      <th></th>\n",
              "      <th></th>\n",
              "      <th></th>\n",
              "      <th></th>\n",
              "      <th></th>\n",
              "      <th></th>\n",
              "      <th></th>\n",
              "      <th></th>\n",
              "    </tr>\n",
              "  </thead>\n",
              "  <tbody>\n",
              "    <tr>\n",
              "      <th>Rachel Weisz</th>\n",
              "      <th>2006</th>\n",
              "      <td>670946276</td>\n",
              "      <td>False</td>\n",
              "      <td>finalized</td>\n",
              "      <td>3</td>\n",
              "      <td>2/10/15 2:00</td>\n",
              "      <td>London, England</td>\n",
              "      <td>1.0</td>\n",
              "      <td>7-Mar-71</td>\n",
              "      <td>1.0</td>\n",
              "      <td>White</td>\n",
              "      <td>1.0</td>\n",
              "      <td>Jewish</td>\n",
              "      <td>1.0</td>\n",
              "      <td>Straight</td>\n",
              "      <td>1.0</td>\n",
              "      <td>0.6857</td>\n",
              "      <td>Best Supporting Actress</td>\n",
              "      <td>http://www.nndb.com/people/309/000032213/</td>\n",
              "      <td>NaN</td>\n",
              "      <td>NaN</td>\n",
              "      <td>The Constant Gardener</td>\n",
              "      <td>NaN</td>\n",
              "      <td>NaN</td>\n",
              "      <td>NaN</td>\n",
              "      <td>NaN</td>\n",
              "    </tr>\n",
              "    <tr>\n",
              "      <th>Danny Boyle</th>\n",
              "      <th>2009</th>\n",
              "      <td>670946299</td>\n",
              "      <td>False</td>\n",
              "      <td>finalized</td>\n",
              "      <td>3</td>\n",
              "      <td>2/10/15 2:04</td>\n",
              "      <td>Manchester, England</td>\n",
              "      <td>1.0</td>\n",
              "      <td>20-Oct-56</td>\n",
              "      <td>1.0</td>\n",
              "      <td>White</td>\n",
              "      <td>1.0</td>\n",
              "      <td>Roman Catholic</td>\n",
              "      <td>1.0</td>\n",
              "      <td>Straight</td>\n",
              "      <td>1.0</td>\n",
              "      <td>1.0000</td>\n",
              "      <td>Best Director</td>\n",
              "      <td>http://www.nndb.com/people/887/000044755/</td>\n",
              "      <td>NaN</td>\n",
              "      <td>NaN</td>\n",
              "      <td>Slumdog Millionaire</td>\n",
              "      <td>NaN</td>\n",
              "      <td>NaN</td>\n",
              "      <td>NaN</td>\n",
              "      <td>NaN</td>\n",
              "    </tr>\n",
              "    <tr>\n",
              "      <th>Jason Robards</th>\n",
              "      <th>1977</th>\n",
              "      <td>670964912</td>\n",
              "      <td>False</td>\n",
              "      <td>finalized</td>\n",
              "      <td>3</td>\n",
              "      <td>2/10/15 2:03</td>\n",
              "      <td>Chicago, Il</td>\n",
              "      <td>1.0</td>\n",
              "      <td>26-Jul-22</td>\n",
              "      <td>1.0</td>\n",
              "      <td>White</td>\n",
              "      <td>1.0</td>\n",
              "      <td>Na</td>\n",
              "      <td>1.0</td>\n",
              "      <td>Straight</td>\n",
              "      <td>1.0</td>\n",
              "      <td>1.0000</td>\n",
              "      <td>Best Supporting Actor</td>\n",
              "      <td>http://www.nndb.com/people/224/000032128/</td>\n",
              "      <td>NaN</td>\n",
              "      <td>NaN</td>\n",
              "      <td>All the President's Men</td>\n",
              "      <td>NaN</td>\n",
              "      <td>NaN</td>\n",
              "      <td>NaN</td>\n",
              "      <td>NaN</td>\n",
              "    </tr>\n",
              "    <tr>\n",
              "      <th>James Coburn</th>\n",
              "      <th>1999</th>\n",
              "      <td>670964956</td>\n",
              "      <td>False</td>\n",
              "      <td>finalized</td>\n",
              "      <td>3</td>\n",
              "      <td>2/10/15 2:01</td>\n",
              "      <td>Laurel, Ne</td>\n",
              "      <td>1.0</td>\n",
              "      <td>31-Aug-28</td>\n",
              "      <td>1.0</td>\n",
              "      <td>White</td>\n",
              "      <td>1.0</td>\n",
              "      <td>Na</td>\n",
              "      <td>1.0</td>\n",
              "      <td>Straight</td>\n",
              "      <td>1.0</td>\n",
              "      <td>1.0000</td>\n",
              "      <td>Best Supporting Actor</td>\n",
              "      <td>http://www.nndb.com/people/764/000022698/</td>\n",
              "      <td>NaN</td>\n",
              "      <td>NaN</td>\n",
              "      <td>Affliction</td>\n",
              "      <td>NaN</td>\n",
              "      <td>NaN</td>\n",
              "      <td>NaN</td>\n",
              "      <td>NaN</td>\n",
              "    </tr>\n",
              "    <tr>\n",
              "      <th>John Huston</th>\n",
              "      <th>1949</th>\n",
              "      <td>670972898</td>\n",
              "      <td>False</td>\n",
              "      <td>finalized</td>\n",
              "      <td>3</td>\n",
              "      <td>2/10/15 2:01</td>\n",
              "      <td>Nevada, Mo</td>\n",
              "      <td>1.0</td>\n",
              "      <td>5-Aug-06</td>\n",
              "      <td>1.0</td>\n",
              "      <td>White</td>\n",
              "      <td>1.0</td>\n",
              "      <td>Na</td>\n",
              "      <td>1.0</td>\n",
              "      <td>Straight</td>\n",
              "      <td>1.0</td>\n",
              "      <td>1.0000</td>\n",
              "      <td>Best Director</td>\n",
              "      <td>http://www.nndb.com/people/704/000024632/</td>\n",
              "      <td>NaN</td>\n",
              "      <td>NaN</td>\n",
              "      <td>The Treasure of the Sierra Madre</td>\n",
              "      <td>NaN</td>\n",
              "      <td>NaN</td>\n",
              "      <td>NaN</td>\n",
              "      <td>NaN</td>\n",
              "    </tr>\n",
              "  </tbody>\n",
              "</table>\n",
              "</div>"
            ],
            "text/plain": [
              "                               unit_id  ...  year_of_award_gold\n",
              "person        year_of_award             ...                    \n",
              "Rachel Weisz  2006           670946276  ...                 NaN\n",
              "Danny Boyle   2009           670946299  ...                 NaN\n",
              "Jason Robards 1977           670964912  ...                 NaN\n",
              "James Coburn  1999           670964956  ...                 NaN\n",
              "John Huston   1949           670972898  ...                 NaN\n",
              "\n",
              "[5 rows x 25 columns]"
            ]
          },
          "metadata": {
            "tags": []
          },
          "execution_count": 81
        }
      ]
    },
    {
      "cell_type": "markdown",
      "metadata": {
        "id": "n8fw9SmGFSeI",
        "colab_type": "text"
      },
      "source": [
        "We can eliminate the index using the reset_index method:"
      ]
    },
    {
      "cell_type": "code",
      "metadata": {
        "id": "uPkxpN22FSeJ",
        "colab_type": "code",
        "outputId": "6c6c012d-256a-4616-ba27-ddce83e45cbf",
        "colab": {
          "base_uri": "https://localhost:8080/",
          "height": 765
        }
      },
      "source": [
        "oscars_byID.reset_index()"
      ],
      "execution_count": 0,
      "outputs": [
        {
          "output_type": "execute_result",
          "data": {
            "text/html": [
              "<div>\n",
              "<style scoped>\n",
              "    .dataframe tbody tr th:only-of-type {\n",
              "        vertical-align: middle;\n",
              "    }\n",
              "\n",
              "    .dataframe tbody tr th {\n",
              "        vertical-align: top;\n",
              "    }\n",
              "\n",
              "    .dataframe thead th {\n",
              "        text-align: right;\n",
              "    }\n",
              "</style>\n",
              "<table border=\"1\" class=\"dataframe\">\n",
              "  <thead>\n",
              "    <tr style=\"text-align: right;\">\n",
              "      <th></th>\n",
              "      <th>person</th>\n",
              "      <th>year_of_award</th>\n",
              "      <th>unit_id</th>\n",
              "      <th>golden</th>\n",
              "      <th>unit_state</th>\n",
              "      <th>trusted_judgments</th>\n",
              "      <th>last_judgment_at</th>\n",
              "      <th>birthplace</th>\n",
              "      <th>birthplace:confidence</th>\n",
              "      <th>date_of_birth</th>\n",
              "      <th>date_of_birth:confidence</th>\n",
              "      <th>race_ethnicity</th>\n",
              "      <th>race_ethnicity:confidence</th>\n",
              "      <th>religion</th>\n",
              "      <th>religion:confidence</th>\n",
              "      <th>sexual_orientation</th>\n",
              "      <th>sexual_orientation:confidence</th>\n",
              "      <th>year_of_award:confidence</th>\n",
              "      <th>award</th>\n",
              "      <th>biourl</th>\n",
              "      <th>birthplace_gold</th>\n",
              "      <th>date_of_birth_gold</th>\n",
              "      <th>movie</th>\n",
              "      <th>race_ethnicity_gold</th>\n",
              "      <th>religion_gold</th>\n",
              "      <th>sexual_orientation_gold</th>\n",
              "      <th>year_of_award_gold</th>\n",
              "    </tr>\n",
              "  </thead>\n",
              "  <tbody>\n",
              "    <tr>\n",
              "      <th>0</th>\n",
              "      <td>Lewis Milestone</td>\n",
              "      <td>1927</td>\n",
              "      <td>670454353</td>\n",
              "      <td>False</td>\n",
              "      <td>finalized</td>\n",
              "      <td>3</td>\n",
              "      <td>2/10/15 3:45</td>\n",
              "      <td>Chisinau, Moldova</td>\n",
              "      <td>1.0</td>\n",
              "      <td>30-Sep-1895</td>\n",
              "      <td>1.0</td>\n",
              "      <td>White</td>\n",
              "      <td>1.0</td>\n",
              "      <td>Na</td>\n",
              "      <td>1.0</td>\n",
              "      <td>Straight</td>\n",
              "      <td>1.0000</td>\n",
              "      <td>1.0000</td>\n",
              "      <td>Best Director</td>\n",
              "      <td>http://www.nndb.com/people/320/000043191/</td>\n",
              "      <td>NaN</td>\n",
              "      <td>NaN</td>\n",
              "      <td>Two Arabian Knights</td>\n",
              "      <td>NaN</td>\n",
              "      <td>NaN</td>\n",
              "      <td>NaN</td>\n",
              "      <td>NaN</td>\n",
              "    </tr>\n",
              "    <tr>\n",
              "      <th>1</th>\n",
              "      <td>Frank Lloyd</td>\n",
              "      <td>1930</td>\n",
              "      <td>670454354</td>\n",
              "      <td>False</td>\n",
              "      <td>finalized</td>\n",
              "      <td>3</td>\n",
              "      <td>2/10/15 2:03</td>\n",
              "      <td>Glasgow, Scotland</td>\n",
              "      <td>1.0</td>\n",
              "      <td>2-Feb-1886</td>\n",
              "      <td>1.0</td>\n",
              "      <td>White</td>\n",
              "      <td>1.0</td>\n",
              "      <td>Na</td>\n",
              "      <td>1.0</td>\n",
              "      <td>Straight</td>\n",
              "      <td>0.6842</td>\n",
              "      <td>1.0000</td>\n",
              "      <td>Best Director</td>\n",
              "      <td>http://www.nndb.com/people/626/000042500/</td>\n",
              "      <td>NaN</td>\n",
              "      <td>NaN</td>\n",
              "      <td>The Divine Lady</td>\n",
              "      <td>NaN</td>\n",
              "      <td>NaN</td>\n",
              "      <td>NaN</td>\n",
              "      <td>NaN</td>\n",
              "    </tr>\n",
              "    <tr>\n",
              "      <th>2</th>\n",
              "      <td>Lewis Milestone</td>\n",
              "      <td>1931</td>\n",
              "      <td>670454355</td>\n",
              "      <td>False</td>\n",
              "      <td>finalized</td>\n",
              "      <td>3</td>\n",
              "      <td>2/10/15 2:05</td>\n",
              "      <td>Chisinau, Moldova</td>\n",
              "      <td>1.0</td>\n",
              "      <td>30-Sep-1895</td>\n",
              "      <td>1.0</td>\n",
              "      <td>White</td>\n",
              "      <td>1.0</td>\n",
              "      <td>Na</td>\n",
              "      <td>1.0</td>\n",
              "      <td>Straight</td>\n",
              "      <td>1.0000</td>\n",
              "      <td>0.6667</td>\n",
              "      <td>Best Director</td>\n",
              "      <td>http://www.nndb.com/people/320/000043191/</td>\n",
              "      <td>NaN</td>\n",
              "      <td>NaN</td>\n",
              "      <td>All Quiet on the Western Front</td>\n",
              "      <td>NaN</td>\n",
              "      <td>NaN</td>\n",
              "      <td>NaN</td>\n",
              "      <td>NaN</td>\n",
              "    </tr>\n",
              "    <tr>\n",
              "      <th>3</th>\n",
              "      <td>Norman Taurog</td>\n",
              "      <td>1932</td>\n",
              "      <td>670454356</td>\n",
              "      <td>False</td>\n",
              "      <td>finalized</td>\n",
              "      <td>3</td>\n",
              "      <td>2/10/15 2:04</td>\n",
              "      <td>Chicago, Il</td>\n",
              "      <td>1.0</td>\n",
              "      <td>23-Feb-1899</td>\n",
              "      <td>1.0</td>\n",
              "      <td>White</td>\n",
              "      <td>1.0</td>\n",
              "      <td>Na</td>\n",
              "      <td>1.0</td>\n",
              "      <td>Straight</td>\n",
              "      <td>1.0000</td>\n",
              "      <td>1.0000</td>\n",
              "      <td>Best Director</td>\n",
              "      <td>http://www.nndb.com/people/544/000041421/</td>\n",
              "      <td>NaN</td>\n",
              "      <td>NaN</td>\n",
              "      <td>Skippy</td>\n",
              "      <td>NaN</td>\n",
              "      <td>NaN</td>\n",
              "      <td>NaN</td>\n",
              "      <td>NaN</td>\n",
              "    </tr>\n",
              "    <tr>\n",
              "      <th>4</th>\n",
              "      <td>Frank Borzage</td>\n",
              "      <td>1933</td>\n",
              "      <td>670454357</td>\n",
              "      <td>False</td>\n",
              "      <td>finalized</td>\n",
              "      <td>3</td>\n",
              "      <td>2/10/15 1:48</td>\n",
              "      <td>Salt Lake City, Ut</td>\n",
              "      <td>1.0</td>\n",
              "      <td>23-Apr-1894</td>\n",
              "      <td>1.0</td>\n",
              "      <td>White</td>\n",
              "      <td>1.0</td>\n",
              "      <td>Roman Catholic</td>\n",
              "      <td>1.0</td>\n",
              "      <td>Straight</td>\n",
              "      <td>1.0000</td>\n",
              "      <td>1.0000</td>\n",
              "      <td>Best Director</td>\n",
              "      <td>http://www.nndb.com/people/292/000044160/</td>\n",
              "      <td>NaN</td>\n",
              "      <td>NaN</td>\n",
              "      <td>Bad Girl</td>\n",
              "      <td>NaN</td>\n",
              "      <td>NaN</td>\n",
              "      <td>NaN</td>\n",
              "      <td>NaN</td>\n",
              "    </tr>\n",
              "    <tr>\n",
              "      <th>...</th>\n",
              "      <td>...</td>\n",
              "      <td>...</td>\n",
              "      <td>...</td>\n",
              "      <td>...</td>\n",
              "      <td>...</td>\n",
              "      <td>...</td>\n",
              "      <td>...</td>\n",
              "      <td>...</td>\n",
              "      <td>...</td>\n",
              "      <td>...</td>\n",
              "      <td>...</td>\n",
              "      <td>...</td>\n",
              "      <td>...</td>\n",
              "      <td>...</td>\n",
              "      <td>...</td>\n",
              "      <td>...</td>\n",
              "      <td>...</td>\n",
              "      <td>...</td>\n",
              "      <td>...</td>\n",
              "      <td>...</td>\n",
              "      <td>...</td>\n",
              "      <td>...</td>\n",
              "      <td>...</td>\n",
              "      <td>...</td>\n",
              "      <td>...</td>\n",
              "      <td>...</td>\n",
              "      <td>...</td>\n",
              "    </tr>\n",
              "    <tr>\n",
              "      <th>436</th>\n",
              "      <td>Rachel Weisz</td>\n",
              "      <td>2006</td>\n",
              "      <td>670946276</td>\n",
              "      <td>False</td>\n",
              "      <td>finalized</td>\n",
              "      <td>3</td>\n",
              "      <td>2/10/15 2:00</td>\n",
              "      <td>London, England</td>\n",
              "      <td>1.0</td>\n",
              "      <td>7-Mar-71</td>\n",
              "      <td>1.0</td>\n",
              "      <td>White</td>\n",
              "      <td>1.0</td>\n",
              "      <td>Jewish</td>\n",
              "      <td>1.0</td>\n",
              "      <td>Straight</td>\n",
              "      <td>1.0000</td>\n",
              "      <td>0.6857</td>\n",
              "      <td>Best Supporting Actress</td>\n",
              "      <td>http://www.nndb.com/people/309/000032213/</td>\n",
              "      <td>NaN</td>\n",
              "      <td>NaN</td>\n",
              "      <td>The Constant Gardener</td>\n",
              "      <td>NaN</td>\n",
              "      <td>NaN</td>\n",
              "      <td>NaN</td>\n",
              "      <td>NaN</td>\n",
              "    </tr>\n",
              "    <tr>\n",
              "      <th>437</th>\n",
              "      <td>Danny Boyle</td>\n",
              "      <td>2009</td>\n",
              "      <td>670946299</td>\n",
              "      <td>False</td>\n",
              "      <td>finalized</td>\n",
              "      <td>3</td>\n",
              "      <td>2/10/15 2:04</td>\n",
              "      <td>Manchester, England</td>\n",
              "      <td>1.0</td>\n",
              "      <td>20-Oct-56</td>\n",
              "      <td>1.0</td>\n",
              "      <td>White</td>\n",
              "      <td>1.0</td>\n",
              "      <td>Roman Catholic</td>\n",
              "      <td>1.0</td>\n",
              "      <td>Straight</td>\n",
              "      <td>1.0000</td>\n",
              "      <td>1.0000</td>\n",
              "      <td>Best Director</td>\n",
              "      <td>http://www.nndb.com/people/887/000044755/</td>\n",
              "      <td>NaN</td>\n",
              "      <td>NaN</td>\n",
              "      <td>Slumdog Millionaire</td>\n",
              "      <td>NaN</td>\n",
              "      <td>NaN</td>\n",
              "      <td>NaN</td>\n",
              "      <td>NaN</td>\n",
              "    </tr>\n",
              "    <tr>\n",
              "      <th>438</th>\n",
              "      <td>Jason Robards</td>\n",
              "      <td>1977</td>\n",
              "      <td>670964912</td>\n",
              "      <td>False</td>\n",
              "      <td>finalized</td>\n",
              "      <td>3</td>\n",
              "      <td>2/10/15 2:03</td>\n",
              "      <td>Chicago, Il</td>\n",
              "      <td>1.0</td>\n",
              "      <td>26-Jul-22</td>\n",
              "      <td>1.0</td>\n",
              "      <td>White</td>\n",
              "      <td>1.0</td>\n",
              "      <td>Na</td>\n",
              "      <td>1.0</td>\n",
              "      <td>Straight</td>\n",
              "      <td>1.0000</td>\n",
              "      <td>1.0000</td>\n",
              "      <td>Best Supporting Actor</td>\n",
              "      <td>http://www.nndb.com/people/224/000032128/</td>\n",
              "      <td>NaN</td>\n",
              "      <td>NaN</td>\n",
              "      <td>All the President's Men</td>\n",
              "      <td>NaN</td>\n",
              "      <td>NaN</td>\n",
              "      <td>NaN</td>\n",
              "      <td>NaN</td>\n",
              "    </tr>\n",
              "    <tr>\n",
              "      <th>439</th>\n",
              "      <td>James Coburn</td>\n",
              "      <td>1999</td>\n",
              "      <td>670964956</td>\n",
              "      <td>False</td>\n",
              "      <td>finalized</td>\n",
              "      <td>3</td>\n",
              "      <td>2/10/15 2:01</td>\n",
              "      <td>Laurel, Ne</td>\n",
              "      <td>1.0</td>\n",
              "      <td>31-Aug-28</td>\n",
              "      <td>1.0</td>\n",
              "      <td>White</td>\n",
              "      <td>1.0</td>\n",
              "      <td>Na</td>\n",
              "      <td>1.0</td>\n",
              "      <td>Straight</td>\n",
              "      <td>1.0000</td>\n",
              "      <td>1.0000</td>\n",
              "      <td>Best Supporting Actor</td>\n",
              "      <td>http://www.nndb.com/people/764/000022698/</td>\n",
              "      <td>NaN</td>\n",
              "      <td>NaN</td>\n",
              "      <td>Affliction</td>\n",
              "      <td>NaN</td>\n",
              "      <td>NaN</td>\n",
              "      <td>NaN</td>\n",
              "      <td>NaN</td>\n",
              "    </tr>\n",
              "    <tr>\n",
              "      <th>440</th>\n",
              "      <td>John Huston</td>\n",
              "      <td>1949</td>\n",
              "      <td>670972898</td>\n",
              "      <td>False</td>\n",
              "      <td>finalized</td>\n",
              "      <td>3</td>\n",
              "      <td>2/10/15 2:01</td>\n",
              "      <td>Nevada, Mo</td>\n",
              "      <td>1.0</td>\n",
              "      <td>5-Aug-06</td>\n",
              "      <td>1.0</td>\n",
              "      <td>White</td>\n",
              "      <td>1.0</td>\n",
              "      <td>Na</td>\n",
              "      <td>1.0</td>\n",
              "      <td>Straight</td>\n",
              "      <td>1.0000</td>\n",
              "      <td>1.0000</td>\n",
              "      <td>Best Director</td>\n",
              "      <td>http://www.nndb.com/people/704/000024632/</td>\n",
              "      <td>NaN</td>\n",
              "      <td>NaN</td>\n",
              "      <td>The Treasure of the Sierra Madre</td>\n",
              "      <td>NaN</td>\n",
              "      <td>NaN</td>\n",
              "      <td>NaN</td>\n",
              "      <td>NaN</td>\n",
              "    </tr>\n",
              "  </tbody>\n",
              "</table>\n",
              "<p>441 rows × 27 columns</p>\n",
              "</div>"
            ],
            "text/plain": [
              "              person  year_of_award  ...  sexual_orientation_gold  year_of_award_gold\n",
              "0    Lewis Milestone           1927  ...                      NaN                 NaN\n",
              "1        Frank Lloyd           1930  ...                      NaN                 NaN\n",
              "2    Lewis Milestone           1931  ...                      NaN                 NaN\n",
              "3      Norman Taurog           1932  ...                      NaN                 NaN\n",
              "4      Frank Borzage           1933  ...                      NaN                 NaN\n",
              "..               ...            ...  ...                      ...                 ...\n",
              "436     Rachel Weisz           2006  ...                      NaN                 NaN\n",
              "437      Danny Boyle           2009  ...                      NaN                 NaN\n",
              "438    Jason Robards           1977  ...                      NaN                 NaN\n",
              "439     James Coburn           1999  ...                      NaN                 NaN\n",
              "440      John Huston           1949  ...                      NaN                 NaN\n",
              "\n",
              "[441 rows x 27 columns]"
            ]
          },
          "metadata": {
            "tags": []
          },
          "execution_count": 82
        }
      ]
    },
    {
      "cell_type": "markdown",
      "metadata": {
        "id": "pbumCcnZFSeL",
        "colab_type": "text"
      },
      "source": [
        "#### In both cases we can see that business_id is set as the DataFrame index, and there is no business_id column. If we want to still have a business_id column we can use set_index with the parameter drop = False"
      ]
    },
    {
      "cell_type": "code",
      "metadata": {
        "id": "c6M58BL4FSeL",
        "colab_type": "code",
        "colab": {}
      },
      "source": [
        "oscars_byID=oscars.set_index(['person','year_of_award'],drop=False)"
      ],
      "execution_count": 0,
      "outputs": []
    },
    {
      "cell_type": "code",
      "metadata": {
        "id": "IVPm4F_-FSeO",
        "colab_type": "code",
        "outputId": "f63045a1-0c9e-4f91-d0d5-703886c2d0d1",
        "colab": {
          "base_uri": "https://localhost:8080/",
          "height": 706
        }
      },
      "source": [
        "oscars_byID"
      ],
      "execution_count": 0,
      "outputs": [
        {
          "output_type": "execute_result",
          "data": {
            "text/html": [
              "<div>\n",
              "<style scoped>\n",
              "    .dataframe tbody tr th:only-of-type {\n",
              "        vertical-align: middle;\n",
              "    }\n",
              "\n",
              "    .dataframe tbody tr th {\n",
              "        vertical-align: top;\n",
              "    }\n",
              "\n",
              "    .dataframe thead th {\n",
              "        text-align: right;\n",
              "    }\n",
              "</style>\n",
              "<table border=\"1\" class=\"dataframe\">\n",
              "  <thead>\n",
              "    <tr style=\"text-align: right;\">\n",
              "      <th></th>\n",
              "      <th></th>\n",
              "      <th>birthplace</th>\n",
              "      <th>date_of_birth</th>\n",
              "      <th>race_ethnicity</th>\n",
              "      <th>religion</th>\n",
              "      <th>sexual_orientation</th>\n",
              "      <th>year_of_award</th>\n",
              "      <th>award</th>\n",
              "      <th>movie</th>\n",
              "      <th>person</th>\n",
              "    </tr>\n",
              "    <tr>\n",
              "      <th>person</th>\n",
              "      <th>year_of_award</th>\n",
              "      <th></th>\n",
              "      <th></th>\n",
              "      <th></th>\n",
              "      <th></th>\n",
              "      <th></th>\n",
              "      <th></th>\n",
              "      <th></th>\n",
              "      <th></th>\n",
              "      <th></th>\n",
              "    </tr>\n",
              "  </thead>\n",
              "  <tbody>\n",
              "    <tr>\n",
              "      <th>Lewis Milestone</th>\n",
              "      <th>1927</th>\n",
              "      <td>Chisinau, Moldova</td>\n",
              "      <td>30-Sep-1895</td>\n",
              "      <td>White</td>\n",
              "      <td>Na</td>\n",
              "      <td>Straight</td>\n",
              "      <td>1927</td>\n",
              "      <td>Best Director</td>\n",
              "      <td>Two Arabian Knights</td>\n",
              "      <td>Lewis Milestone</td>\n",
              "    </tr>\n",
              "    <tr>\n",
              "      <th>Frank Lloyd</th>\n",
              "      <th>1930</th>\n",
              "      <td>Glasgow, Scotland</td>\n",
              "      <td>2-Feb-1886</td>\n",
              "      <td>White</td>\n",
              "      <td>Na</td>\n",
              "      <td>Straight</td>\n",
              "      <td>1930</td>\n",
              "      <td>Best Director</td>\n",
              "      <td>The Divine Lady</td>\n",
              "      <td>Frank Lloyd</td>\n",
              "    </tr>\n",
              "    <tr>\n",
              "      <th>Lewis Milestone</th>\n",
              "      <th>1931</th>\n",
              "      <td>Chisinau, Moldova</td>\n",
              "      <td>30-Sep-1895</td>\n",
              "      <td>White</td>\n",
              "      <td>Na</td>\n",
              "      <td>Straight</td>\n",
              "      <td>1931</td>\n",
              "      <td>Best Director</td>\n",
              "      <td>All Quiet on the Western Front</td>\n",
              "      <td>Lewis Milestone</td>\n",
              "    </tr>\n",
              "    <tr>\n",
              "      <th>Norman Taurog</th>\n",
              "      <th>1932</th>\n",
              "      <td>Chicago, Il</td>\n",
              "      <td>23-Feb-1899</td>\n",
              "      <td>White</td>\n",
              "      <td>Na</td>\n",
              "      <td>Straight</td>\n",
              "      <td>1932</td>\n",
              "      <td>Best Director</td>\n",
              "      <td>Skippy</td>\n",
              "      <td>Norman Taurog</td>\n",
              "    </tr>\n",
              "    <tr>\n",
              "      <th>Frank Borzage</th>\n",
              "      <th>1933</th>\n",
              "      <td>Salt Lake City, Ut</td>\n",
              "      <td>23-Apr-1894</td>\n",
              "      <td>White</td>\n",
              "      <td>Roman Catholic</td>\n",
              "      <td>Straight</td>\n",
              "      <td>1933</td>\n",
              "      <td>Best Director</td>\n",
              "      <td>Bad Girl</td>\n",
              "      <td>Frank Borzage</td>\n",
              "    </tr>\n",
              "    <tr>\n",
              "      <th>...</th>\n",
              "      <th>...</th>\n",
              "      <td>...</td>\n",
              "      <td>...</td>\n",
              "      <td>...</td>\n",
              "      <td>...</td>\n",
              "      <td>...</td>\n",
              "      <td>...</td>\n",
              "      <td>...</td>\n",
              "      <td>...</td>\n",
              "      <td>...</td>\n",
              "    </tr>\n",
              "    <tr>\n",
              "      <th>Rachel Weisz</th>\n",
              "      <th>2006</th>\n",
              "      <td>London, England</td>\n",
              "      <td>7-Mar-71</td>\n",
              "      <td>White</td>\n",
              "      <td>Jewish</td>\n",
              "      <td>Straight</td>\n",
              "      <td>2006</td>\n",
              "      <td>Best Supporting Actress</td>\n",
              "      <td>The Constant Gardener</td>\n",
              "      <td>Rachel Weisz</td>\n",
              "    </tr>\n",
              "    <tr>\n",
              "      <th>Danny Boyle</th>\n",
              "      <th>2009</th>\n",
              "      <td>Manchester, England</td>\n",
              "      <td>20-Oct-56</td>\n",
              "      <td>White</td>\n",
              "      <td>Roman Catholic</td>\n",
              "      <td>Straight</td>\n",
              "      <td>2009</td>\n",
              "      <td>Best Director</td>\n",
              "      <td>Slumdog Millionaire</td>\n",
              "      <td>Danny Boyle</td>\n",
              "    </tr>\n",
              "    <tr>\n",
              "      <th>Jason Robards</th>\n",
              "      <th>1977</th>\n",
              "      <td>Chicago, Il</td>\n",
              "      <td>26-Jul-22</td>\n",
              "      <td>White</td>\n",
              "      <td>Na</td>\n",
              "      <td>Straight</td>\n",
              "      <td>1977</td>\n",
              "      <td>Best Supporting Actor</td>\n",
              "      <td>All the President's Men</td>\n",
              "      <td>Jason Robards</td>\n",
              "    </tr>\n",
              "    <tr>\n",
              "      <th>James Coburn</th>\n",
              "      <th>1999</th>\n",
              "      <td>Laurel, Ne</td>\n",
              "      <td>31-Aug-28</td>\n",
              "      <td>White</td>\n",
              "      <td>Na</td>\n",
              "      <td>Straight</td>\n",
              "      <td>1999</td>\n",
              "      <td>Best Supporting Actor</td>\n",
              "      <td>Affliction</td>\n",
              "      <td>James Coburn</td>\n",
              "    </tr>\n",
              "    <tr>\n",
              "      <th>John Huston</th>\n",
              "      <th>1949</th>\n",
              "      <td>Nevada, Mo</td>\n",
              "      <td>5-Aug-06</td>\n",
              "      <td>White</td>\n",
              "      <td>Na</td>\n",
              "      <td>Straight</td>\n",
              "      <td>1949</td>\n",
              "      <td>Best Director</td>\n",
              "      <td>The Treasure of the Sierra Madre</td>\n",
              "      <td>John Huston</td>\n",
              "    </tr>\n",
              "  </tbody>\n",
              "</table>\n",
              "<p>441 rows × 9 columns</p>\n",
              "</div>"
            ],
            "text/plain": [
              "                                        birthplace  ...           person\n",
              "person          year_of_award                       ...                 \n",
              "Lewis Milestone 1927             Chisinau, Moldova  ...  Lewis Milestone\n",
              "Frank Lloyd     1930             Glasgow, Scotland  ...      Frank Lloyd\n",
              "Lewis Milestone 1931             Chisinau, Moldova  ...  Lewis Milestone\n",
              "Norman Taurog   1932                   Chicago, Il  ...    Norman Taurog\n",
              "Frank Borzage   1933            Salt Lake City, Ut  ...    Frank Borzage\n",
              "...                                            ...  ...              ...\n",
              "Rachel Weisz    2006               London, England  ...     Rachel Weisz\n",
              "Danny Boyle     2009           Manchester, England  ...      Danny Boyle\n",
              "Jason Robards   1977                   Chicago, Il  ...    Jason Robards\n",
              "James Coburn    1999                    Laurel, Ne  ...     James Coburn\n",
              "John Huston     1949                    Nevada, Mo  ...      John Huston\n",
              "\n",
              "[441 rows x 9 columns]"
            ]
          },
          "metadata": {
            "tags": []
          },
          "execution_count": 84
        }
      ]
    },
    {
      "cell_type": "markdown",
      "metadata": {
        "id": "BP_IZ1E4FSeQ",
        "colab_type": "text"
      },
      "source": [
        "### Renaming Row and Column Names\n",
        "\n",
        "* To make them more descriptive\n",
        "* To follow a standard\n",
        "* To avoid blanks, and other special characters"
      ]
    },
    {
      "cell_type": "code",
      "metadata": {
        "id": "4Bjr6KDKFSeQ",
        "colab_type": "code",
        "outputId": "3cb71fa3-c627-4dd5-f025-84339cae060d",
        "colab": {
          "base_uri": "https://localhost:8080/",
          "height": 443
        }
      },
      "source": [
        "oscars_byID = pd.read_csv('Oscars-demographics-DFE.csv', encoding='latin-1', index_col=['person','year_of_award'])\n",
        "oscars_byID.tail()"
      ],
      "execution_count": 0,
      "outputs": [
        {
          "output_type": "execute_result",
          "data": {
            "text/html": [
              "<div>\n",
              "<style scoped>\n",
              "    .dataframe tbody tr th:only-of-type {\n",
              "        vertical-align: middle;\n",
              "    }\n",
              "\n",
              "    .dataframe tbody tr th {\n",
              "        vertical-align: top;\n",
              "    }\n",
              "\n",
              "    .dataframe thead th {\n",
              "        text-align: right;\n",
              "    }\n",
              "</style>\n",
              "<table border=\"1\" class=\"dataframe\">\n",
              "  <thead>\n",
              "    <tr style=\"text-align: right;\">\n",
              "      <th></th>\n",
              "      <th></th>\n",
              "      <th>unit_id</th>\n",
              "      <th>golden</th>\n",
              "      <th>unit_state</th>\n",
              "      <th>trusted_judgments</th>\n",
              "      <th>last_judgment_at</th>\n",
              "      <th>birthplace</th>\n",
              "      <th>birthplace:confidence</th>\n",
              "      <th>date_of_birth</th>\n",
              "      <th>date_of_birth:confidence</th>\n",
              "      <th>race_ethnicity</th>\n",
              "      <th>race_ethnicity:confidence</th>\n",
              "      <th>religion</th>\n",
              "      <th>religion:confidence</th>\n",
              "      <th>sexual_orientation</th>\n",
              "      <th>sexual_orientation:confidence</th>\n",
              "      <th>year_of_award:confidence</th>\n",
              "      <th>award</th>\n",
              "      <th>biourl</th>\n",
              "      <th>birthplace_gold</th>\n",
              "      <th>date_of_birth_gold</th>\n",
              "      <th>movie</th>\n",
              "      <th>race_ethnicity_gold</th>\n",
              "      <th>religion_gold</th>\n",
              "      <th>sexual_orientation_gold</th>\n",
              "      <th>year_of_award_gold</th>\n",
              "    </tr>\n",
              "    <tr>\n",
              "      <th>person</th>\n",
              "      <th>year_of_award</th>\n",
              "      <th></th>\n",
              "      <th></th>\n",
              "      <th></th>\n",
              "      <th></th>\n",
              "      <th></th>\n",
              "      <th></th>\n",
              "      <th></th>\n",
              "      <th></th>\n",
              "      <th></th>\n",
              "      <th></th>\n",
              "      <th></th>\n",
              "      <th></th>\n",
              "      <th></th>\n",
              "      <th></th>\n",
              "      <th></th>\n",
              "      <th></th>\n",
              "      <th></th>\n",
              "      <th></th>\n",
              "      <th></th>\n",
              "      <th></th>\n",
              "      <th></th>\n",
              "      <th></th>\n",
              "      <th></th>\n",
              "      <th></th>\n",
              "      <th></th>\n",
              "    </tr>\n",
              "  </thead>\n",
              "  <tbody>\n",
              "    <tr>\n",
              "      <th>Rachel Weisz</th>\n",
              "      <th>2006</th>\n",
              "      <td>670946276</td>\n",
              "      <td>False</td>\n",
              "      <td>finalized</td>\n",
              "      <td>3</td>\n",
              "      <td>2/10/15 2:00</td>\n",
              "      <td>London, England</td>\n",
              "      <td>1.0</td>\n",
              "      <td>7-Mar-71</td>\n",
              "      <td>1.0</td>\n",
              "      <td>White</td>\n",
              "      <td>1.0</td>\n",
              "      <td>Jewish</td>\n",
              "      <td>1.0</td>\n",
              "      <td>Straight</td>\n",
              "      <td>1.0</td>\n",
              "      <td>0.6857</td>\n",
              "      <td>Best Supporting Actress</td>\n",
              "      <td>http://www.nndb.com/people/309/000032213/</td>\n",
              "      <td>NaN</td>\n",
              "      <td>NaN</td>\n",
              "      <td>The Constant Gardener</td>\n",
              "      <td>NaN</td>\n",
              "      <td>NaN</td>\n",
              "      <td>NaN</td>\n",
              "      <td>NaN</td>\n",
              "    </tr>\n",
              "    <tr>\n",
              "      <th>Danny Boyle</th>\n",
              "      <th>2009</th>\n",
              "      <td>670946299</td>\n",
              "      <td>False</td>\n",
              "      <td>finalized</td>\n",
              "      <td>3</td>\n",
              "      <td>2/10/15 2:04</td>\n",
              "      <td>Manchester, England</td>\n",
              "      <td>1.0</td>\n",
              "      <td>20-Oct-56</td>\n",
              "      <td>1.0</td>\n",
              "      <td>White</td>\n",
              "      <td>1.0</td>\n",
              "      <td>Roman Catholic</td>\n",
              "      <td>1.0</td>\n",
              "      <td>Straight</td>\n",
              "      <td>1.0</td>\n",
              "      <td>1.0000</td>\n",
              "      <td>Best Director</td>\n",
              "      <td>http://www.nndb.com/people/887/000044755/</td>\n",
              "      <td>NaN</td>\n",
              "      <td>NaN</td>\n",
              "      <td>Slumdog Millionaire</td>\n",
              "      <td>NaN</td>\n",
              "      <td>NaN</td>\n",
              "      <td>NaN</td>\n",
              "      <td>NaN</td>\n",
              "    </tr>\n",
              "    <tr>\n",
              "      <th>Jason Robards</th>\n",
              "      <th>1977</th>\n",
              "      <td>670964912</td>\n",
              "      <td>False</td>\n",
              "      <td>finalized</td>\n",
              "      <td>3</td>\n",
              "      <td>2/10/15 2:03</td>\n",
              "      <td>Chicago, Il</td>\n",
              "      <td>1.0</td>\n",
              "      <td>26-Jul-22</td>\n",
              "      <td>1.0</td>\n",
              "      <td>White</td>\n",
              "      <td>1.0</td>\n",
              "      <td>Na</td>\n",
              "      <td>1.0</td>\n",
              "      <td>Straight</td>\n",
              "      <td>1.0</td>\n",
              "      <td>1.0000</td>\n",
              "      <td>Best Supporting Actor</td>\n",
              "      <td>http://www.nndb.com/people/224/000032128/</td>\n",
              "      <td>NaN</td>\n",
              "      <td>NaN</td>\n",
              "      <td>All the President's Men</td>\n",
              "      <td>NaN</td>\n",
              "      <td>NaN</td>\n",
              "      <td>NaN</td>\n",
              "      <td>NaN</td>\n",
              "    </tr>\n",
              "    <tr>\n",
              "      <th>James Coburn</th>\n",
              "      <th>1999</th>\n",
              "      <td>670964956</td>\n",
              "      <td>False</td>\n",
              "      <td>finalized</td>\n",
              "      <td>3</td>\n",
              "      <td>2/10/15 2:01</td>\n",
              "      <td>Laurel, Ne</td>\n",
              "      <td>1.0</td>\n",
              "      <td>31-Aug-28</td>\n",
              "      <td>1.0</td>\n",
              "      <td>White</td>\n",
              "      <td>1.0</td>\n",
              "      <td>Na</td>\n",
              "      <td>1.0</td>\n",
              "      <td>Straight</td>\n",
              "      <td>1.0</td>\n",
              "      <td>1.0000</td>\n",
              "      <td>Best Supporting Actor</td>\n",
              "      <td>http://www.nndb.com/people/764/000022698/</td>\n",
              "      <td>NaN</td>\n",
              "      <td>NaN</td>\n",
              "      <td>Affliction</td>\n",
              "      <td>NaN</td>\n",
              "      <td>NaN</td>\n",
              "      <td>NaN</td>\n",
              "      <td>NaN</td>\n",
              "    </tr>\n",
              "    <tr>\n",
              "      <th>John Huston</th>\n",
              "      <th>1949</th>\n",
              "      <td>670972898</td>\n",
              "      <td>False</td>\n",
              "      <td>finalized</td>\n",
              "      <td>3</td>\n",
              "      <td>2/10/15 2:01</td>\n",
              "      <td>Nevada, Mo</td>\n",
              "      <td>1.0</td>\n",
              "      <td>5-Aug-06</td>\n",
              "      <td>1.0</td>\n",
              "      <td>White</td>\n",
              "      <td>1.0</td>\n",
              "      <td>Na</td>\n",
              "      <td>1.0</td>\n",
              "      <td>Straight</td>\n",
              "      <td>1.0</td>\n",
              "      <td>1.0000</td>\n",
              "      <td>Best Director</td>\n",
              "      <td>http://www.nndb.com/people/704/000024632/</td>\n",
              "      <td>NaN</td>\n",
              "      <td>NaN</td>\n",
              "      <td>The Treasure of the Sierra Madre</td>\n",
              "      <td>NaN</td>\n",
              "      <td>NaN</td>\n",
              "      <td>NaN</td>\n",
              "      <td>NaN</td>\n",
              "    </tr>\n",
              "  </tbody>\n",
              "</table>\n",
              "</div>"
            ],
            "text/plain": [
              "                               unit_id  ...  year_of_award_gold\n",
              "person        year_of_award             ...                    \n",
              "Rachel Weisz  2006           670946276  ...                 NaN\n",
              "Danny Boyle   2009           670946299  ...                 NaN\n",
              "Jason Robards 1977           670964912  ...                 NaN\n",
              "James Coburn  1999           670964956  ...                 NaN\n",
              "John Huston   1949           670972898  ...                 NaN\n",
              "\n",
              "[5 rows x 25 columns]"
            ]
          },
          "metadata": {
            "tags": []
          },
          "execution_count": 86
        }
      ]
    },
    {
      "cell_type": "code",
      "metadata": {
        "id": "RfABhrK1FSeS",
        "colab_type": "code",
        "outputId": "6e5a5b6d-0d25-44e5-a23a-48bc6d8a9473",
        "colab": {
          "base_uri": "https://localhost:8080/",
          "height": 795
        }
      },
      "source": [
        "idx_rename={'James Coburn':'Jimmy Coburn'}\n",
        "col_rename={'unit_id':'Unit_ID','golden':'Golden'}\n",
        "oscars_byID_renamed=oscars_byID.rename(index=idx_rename, columns=col_rename)\n",
        "oscars_byID_renamed"
      ],
      "execution_count": 0,
      "outputs": [
        {
          "output_type": "execute_result",
          "data": {
            "text/html": [
              "<div>\n",
              "<style scoped>\n",
              "    .dataframe tbody tr th:only-of-type {\n",
              "        vertical-align: middle;\n",
              "    }\n",
              "\n",
              "    .dataframe tbody tr th {\n",
              "        vertical-align: top;\n",
              "    }\n",
              "\n",
              "    .dataframe thead th {\n",
              "        text-align: right;\n",
              "    }\n",
              "</style>\n",
              "<table border=\"1\" class=\"dataframe\">\n",
              "  <thead>\n",
              "    <tr style=\"text-align: right;\">\n",
              "      <th></th>\n",
              "      <th></th>\n",
              "      <th>Unit_ID</th>\n",
              "      <th>Golden</th>\n",
              "      <th>unit_state</th>\n",
              "      <th>trusted_judgments</th>\n",
              "      <th>last_judgment_at</th>\n",
              "      <th>birthplace</th>\n",
              "      <th>birthplace:confidence</th>\n",
              "      <th>date_of_birth</th>\n",
              "      <th>date_of_birth:confidence</th>\n",
              "      <th>race_ethnicity</th>\n",
              "      <th>race_ethnicity:confidence</th>\n",
              "      <th>religion</th>\n",
              "      <th>religion:confidence</th>\n",
              "      <th>sexual_orientation</th>\n",
              "      <th>sexual_orientation:confidence</th>\n",
              "      <th>year_of_award:confidence</th>\n",
              "      <th>award</th>\n",
              "      <th>biourl</th>\n",
              "      <th>birthplace_gold</th>\n",
              "      <th>date_of_birth_gold</th>\n",
              "      <th>movie</th>\n",
              "      <th>race_ethnicity_gold</th>\n",
              "      <th>religion_gold</th>\n",
              "      <th>sexual_orientation_gold</th>\n",
              "      <th>year_of_award_gold</th>\n",
              "    </tr>\n",
              "    <tr>\n",
              "      <th>person</th>\n",
              "      <th>year_of_award</th>\n",
              "      <th></th>\n",
              "      <th></th>\n",
              "      <th></th>\n",
              "      <th></th>\n",
              "      <th></th>\n",
              "      <th></th>\n",
              "      <th></th>\n",
              "      <th></th>\n",
              "      <th></th>\n",
              "      <th></th>\n",
              "      <th></th>\n",
              "      <th></th>\n",
              "      <th></th>\n",
              "      <th></th>\n",
              "      <th></th>\n",
              "      <th></th>\n",
              "      <th></th>\n",
              "      <th></th>\n",
              "      <th></th>\n",
              "      <th></th>\n",
              "      <th></th>\n",
              "      <th></th>\n",
              "      <th></th>\n",
              "      <th></th>\n",
              "      <th></th>\n",
              "    </tr>\n",
              "  </thead>\n",
              "  <tbody>\n",
              "    <tr>\n",
              "      <th>Lewis Milestone</th>\n",
              "      <th>1927</th>\n",
              "      <td>670454353</td>\n",
              "      <td>False</td>\n",
              "      <td>finalized</td>\n",
              "      <td>3</td>\n",
              "      <td>2/10/15 3:45</td>\n",
              "      <td>Chisinau, Moldova</td>\n",
              "      <td>1.0</td>\n",
              "      <td>30-Sep-1895</td>\n",
              "      <td>1.0</td>\n",
              "      <td>White</td>\n",
              "      <td>1.0</td>\n",
              "      <td>Na</td>\n",
              "      <td>1.0</td>\n",
              "      <td>Straight</td>\n",
              "      <td>1.0000</td>\n",
              "      <td>1.0000</td>\n",
              "      <td>Best Director</td>\n",
              "      <td>http://www.nndb.com/people/320/000043191/</td>\n",
              "      <td>NaN</td>\n",
              "      <td>NaN</td>\n",
              "      <td>Two Arabian Knights</td>\n",
              "      <td>NaN</td>\n",
              "      <td>NaN</td>\n",
              "      <td>NaN</td>\n",
              "      <td>NaN</td>\n",
              "    </tr>\n",
              "    <tr>\n",
              "      <th>Frank Lloyd</th>\n",
              "      <th>1930</th>\n",
              "      <td>670454354</td>\n",
              "      <td>False</td>\n",
              "      <td>finalized</td>\n",
              "      <td>3</td>\n",
              "      <td>2/10/15 2:03</td>\n",
              "      <td>Glasgow, Scotland</td>\n",
              "      <td>1.0</td>\n",
              "      <td>2-Feb-1886</td>\n",
              "      <td>1.0</td>\n",
              "      <td>White</td>\n",
              "      <td>1.0</td>\n",
              "      <td>Na</td>\n",
              "      <td>1.0</td>\n",
              "      <td>Straight</td>\n",
              "      <td>0.6842</td>\n",
              "      <td>1.0000</td>\n",
              "      <td>Best Director</td>\n",
              "      <td>http://www.nndb.com/people/626/000042500/</td>\n",
              "      <td>NaN</td>\n",
              "      <td>NaN</td>\n",
              "      <td>The Divine Lady</td>\n",
              "      <td>NaN</td>\n",
              "      <td>NaN</td>\n",
              "      <td>NaN</td>\n",
              "      <td>NaN</td>\n",
              "    </tr>\n",
              "    <tr>\n",
              "      <th>Lewis Milestone</th>\n",
              "      <th>1931</th>\n",
              "      <td>670454355</td>\n",
              "      <td>False</td>\n",
              "      <td>finalized</td>\n",
              "      <td>3</td>\n",
              "      <td>2/10/15 2:05</td>\n",
              "      <td>Chisinau, Moldova</td>\n",
              "      <td>1.0</td>\n",
              "      <td>30-Sep-1895</td>\n",
              "      <td>1.0</td>\n",
              "      <td>White</td>\n",
              "      <td>1.0</td>\n",
              "      <td>Na</td>\n",
              "      <td>1.0</td>\n",
              "      <td>Straight</td>\n",
              "      <td>1.0000</td>\n",
              "      <td>0.6667</td>\n",
              "      <td>Best Director</td>\n",
              "      <td>http://www.nndb.com/people/320/000043191/</td>\n",
              "      <td>NaN</td>\n",
              "      <td>NaN</td>\n",
              "      <td>All Quiet on the Western Front</td>\n",
              "      <td>NaN</td>\n",
              "      <td>NaN</td>\n",
              "      <td>NaN</td>\n",
              "      <td>NaN</td>\n",
              "    </tr>\n",
              "    <tr>\n",
              "      <th>Norman Taurog</th>\n",
              "      <th>1932</th>\n",
              "      <td>670454356</td>\n",
              "      <td>False</td>\n",
              "      <td>finalized</td>\n",
              "      <td>3</td>\n",
              "      <td>2/10/15 2:04</td>\n",
              "      <td>Chicago, Il</td>\n",
              "      <td>1.0</td>\n",
              "      <td>23-Feb-1899</td>\n",
              "      <td>1.0</td>\n",
              "      <td>White</td>\n",
              "      <td>1.0</td>\n",
              "      <td>Na</td>\n",
              "      <td>1.0</td>\n",
              "      <td>Straight</td>\n",
              "      <td>1.0000</td>\n",
              "      <td>1.0000</td>\n",
              "      <td>Best Director</td>\n",
              "      <td>http://www.nndb.com/people/544/000041421/</td>\n",
              "      <td>NaN</td>\n",
              "      <td>NaN</td>\n",
              "      <td>Skippy</td>\n",
              "      <td>NaN</td>\n",
              "      <td>NaN</td>\n",
              "      <td>NaN</td>\n",
              "      <td>NaN</td>\n",
              "    </tr>\n",
              "    <tr>\n",
              "      <th>Frank Borzage</th>\n",
              "      <th>1933</th>\n",
              "      <td>670454357</td>\n",
              "      <td>False</td>\n",
              "      <td>finalized</td>\n",
              "      <td>3</td>\n",
              "      <td>2/10/15 1:48</td>\n",
              "      <td>Salt Lake City, Ut</td>\n",
              "      <td>1.0</td>\n",
              "      <td>23-Apr-1894</td>\n",
              "      <td>1.0</td>\n",
              "      <td>White</td>\n",
              "      <td>1.0</td>\n",
              "      <td>Roman Catholic</td>\n",
              "      <td>1.0</td>\n",
              "      <td>Straight</td>\n",
              "      <td>1.0000</td>\n",
              "      <td>1.0000</td>\n",
              "      <td>Best Director</td>\n",
              "      <td>http://www.nndb.com/people/292/000044160/</td>\n",
              "      <td>NaN</td>\n",
              "      <td>NaN</td>\n",
              "      <td>Bad Girl</td>\n",
              "      <td>NaN</td>\n",
              "      <td>NaN</td>\n",
              "      <td>NaN</td>\n",
              "      <td>NaN</td>\n",
              "    </tr>\n",
              "    <tr>\n",
              "      <th>...</th>\n",
              "      <th>...</th>\n",
              "      <td>...</td>\n",
              "      <td>...</td>\n",
              "      <td>...</td>\n",
              "      <td>...</td>\n",
              "      <td>...</td>\n",
              "      <td>...</td>\n",
              "      <td>...</td>\n",
              "      <td>...</td>\n",
              "      <td>...</td>\n",
              "      <td>...</td>\n",
              "      <td>...</td>\n",
              "      <td>...</td>\n",
              "      <td>...</td>\n",
              "      <td>...</td>\n",
              "      <td>...</td>\n",
              "      <td>...</td>\n",
              "      <td>...</td>\n",
              "      <td>...</td>\n",
              "      <td>...</td>\n",
              "      <td>...</td>\n",
              "      <td>...</td>\n",
              "      <td>...</td>\n",
              "      <td>...</td>\n",
              "      <td>...</td>\n",
              "      <td>...</td>\n",
              "    </tr>\n",
              "    <tr>\n",
              "      <th>Rachel Weisz</th>\n",
              "      <th>2006</th>\n",
              "      <td>670946276</td>\n",
              "      <td>False</td>\n",
              "      <td>finalized</td>\n",
              "      <td>3</td>\n",
              "      <td>2/10/15 2:00</td>\n",
              "      <td>London, England</td>\n",
              "      <td>1.0</td>\n",
              "      <td>7-Mar-71</td>\n",
              "      <td>1.0</td>\n",
              "      <td>White</td>\n",
              "      <td>1.0</td>\n",
              "      <td>Jewish</td>\n",
              "      <td>1.0</td>\n",
              "      <td>Straight</td>\n",
              "      <td>1.0000</td>\n",
              "      <td>0.6857</td>\n",
              "      <td>Best Supporting Actress</td>\n",
              "      <td>http://www.nndb.com/people/309/000032213/</td>\n",
              "      <td>NaN</td>\n",
              "      <td>NaN</td>\n",
              "      <td>The Constant Gardener</td>\n",
              "      <td>NaN</td>\n",
              "      <td>NaN</td>\n",
              "      <td>NaN</td>\n",
              "      <td>NaN</td>\n",
              "    </tr>\n",
              "    <tr>\n",
              "      <th>Danny Boyle</th>\n",
              "      <th>2009</th>\n",
              "      <td>670946299</td>\n",
              "      <td>False</td>\n",
              "      <td>finalized</td>\n",
              "      <td>3</td>\n",
              "      <td>2/10/15 2:04</td>\n",
              "      <td>Manchester, England</td>\n",
              "      <td>1.0</td>\n",
              "      <td>20-Oct-56</td>\n",
              "      <td>1.0</td>\n",
              "      <td>White</td>\n",
              "      <td>1.0</td>\n",
              "      <td>Roman Catholic</td>\n",
              "      <td>1.0</td>\n",
              "      <td>Straight</td>\n",
              "      <td>1.0000</td>\n",
              "      <td>1.0000</td>\n",
              "      <td>Best Director</td>\n",
              "      <td>http://www.nndb.com/people/887/000044755/</td>\n",
              "      <td>NaN</td>\n",
              "      <td>NaN</td>\n",
              "      <td>Slumdog Millionaire</td>\n",
              "      <td>NaN</td>\n",
              "      <td>NaN</td>\n",
              "      <td>NaN</td>\n",
              "      <td>NaN</td>\n",
              "    </tr>\n",
              "    <tr>\n",
              "      <th>Jason Robards</th>\n",
              "      <th>1977</th>\n",
              "      <td>670964912</td>\n",
              "      <td>False</td>\n",
              "      <td>finalized</td>\n",
              "      <td>3</td>\n",
              "      <td>2/10/15 2:03</td>\n",
              "      <td>Chicago, Il</td>\n",
              "      <td>1.0</td>\n",
              "      <td>26-Jul-22</td>\n",
              "      <td>1.0</td>\n",
              "      <td>White</td>\n",
              "      <td>1.0</td>\n",
              "      <td>Na</td>\n",
              "      <td>1.0</td>\n",
              "      <td>Straight</td>\n",
              "      <td>1.0000</td>\n",
              "      <td>1.0000</td>\n",
              "      <td>Best Supporting Actor</td>\n",
              "      <td>http://www.nndb.com/people/224/000032128/</td>\n",
              "      <td>NaN</td>\n",
              "      <td>NaN</td>\n",
              "      <td>All the President's Men</td>\n",
              "      <td>NaN</td>\n",
              "      <td>NaN</td>\n",
              "      <td>NaN</td>\n",
              "      <td>NaN</td>\n",
              "    </tr>\n",
              "    <tr>\n",
              "      <th>Jimmy Coburn</th>\n",
              "      <th>1999</th>\n",
              "      <td>670964956</td>\n",
              "      <td>False</td>\n",
              "      <td>finalized</td>\n",
              "      <td>3</td>\n",
              "      <td>2/10/15 2:01</td>\n",
              "      <td>Laurel, Ne</td>\n",
              "      <td>1.0</td>\n",
              "      <td>31-Aug-28</td>\n",
              "      <td>1.0</td>\n",
              "      <td>White</td>\n",
              "      <td>1.0</td>\n",
              "      <td>Na</td>\n",
              "      <td>1.0</td>\n",
              "      <td>Straight</td>\n",
              "      <td>1.0000</td>\n",
              "      <td>1.0000</td>\n",
              "      <td>Best Supporting Actor</td>\n",
              "      <td>http://www.nndb.com/people/764/000022698/</td>\n",
              "      <td>NaN</td>\n",
              "      <td>NaN</td>\n",
              "      <td>Affliction</td>\n",
              "      <td>NaN</td>\n",
              "      <td>NaN</td>\n",
              "      <td>NaN</td>\n",
              "      <td>NaN</td>\n",
              "    </tr>\n",
              "    <tr>\n",
              "      <th>John Huston</th>\n",
              "      <th>1949</th>\n",
              "      <td>670972898</td>\n",
              "      <td>False</td>\n",
              "      <td>finalized</td>\n",
              "      <td>3</td>\n",
              "      <td>2/10/15 2:01</td>\n",
              "      <td>Nevada, Mo</td>\n",
              "      <td>1.0</td>\n",
              "      <td>5-Aug-06</td>\n",
              "      <td>1.0</td>\n",
              "      <td>White</td>\n",
              "      <td>1.0</td>\n",
              "      <td>Na</td>\n",
              "      <td>1.0</td>\n",
              "      <td>Straight</td>\n",
              "      <td>1.0000</td>\n",
              "      <td>1.0000</td>\n",
              "      <td>Best Director</td>\n",
              "      <td>http://www.nndb.com/people/704/000024632/</td>\n",
              "      <td>NaN</td>\n",
              "      <td>NaN</td>\n",
              "      <td>The Treasure of the Sierra Madre</td>\n",
              "      <td>NaN</td>\n",
              "      <td>NaN</td>\n",
              "      <td>NaN</td>\n",
              "      <td>NaN</td>\n",
              "    </tr>\n",
              "  </tbody>\n",
              "</table>\n",
              "<p>441 rows × 25 columns</p>\n",
              "</div>"
            ],
            "text/plain": [
              "                                 Unit_ID  ...  year_of_award_gold\n",
              "person          year_of_award             ...                    \n",
              "Lewis Milestone 1927           670454353  ...                 NaN\n",
              "Frank Lloyd     1930           670454354  ...                 NaN\n",
              "Lewis Milestone 1931           670454355  ...                 NaN\n",
              "Norman Taurog   1932           670454356  ...                 NaN\n",
              "Frank Borzage   1933           670454357  ...                 NaN\n",
              "...                                  ...  ...                 ...\n",
              "Rachel Weisz    2006           670946276  ...                 NaN\n",
              "Danny Boyle     2009           670946299  ...                 NaN\n",
              "Jason Robards   1977           670964912  ...                 NaN\n",
              "Jimmy Coburn    1999           670964956  ...                 NaN\n",
              "John Huston     1949           670972898  ...                 NaN\n",
              "\n",
              "[441 rows x 25 columns]"
            ]
          },
          "metadata": {
            "tags": []
          },
          "execution_count": 87
        }
      ]
    },
    {
      "cell_type": "code",
      "metadata": {
        "id": "Zr56VNLHFSeU",
        "colab_type": "code",
        "outputId": "2fe6b0ca-fd4b-4e99-e025-3ab41a4d296d",
        "colab": {
          "base_uri": "https://localhost:8080/",
          "height": 230
        }
      },
      "source": [
        "oscars_byID.loc[('James Coburn',1999),:]"
      ],
      "execution_count": 0,
      "outputs": [
        {
          "output_type": "execute_result",
          "data": {
            "text/html": [
              "<div>\n",
              "<style scoped>\n",
              "    .dataframe tbody tr th:only-of-type {\n",
              "        vertical-align: middle;\n",
              "    }\n",
              "\n",
              "    .dataframe tbody tr th {\n",
              "        vertical-align: top;\n",
              "    }\n",
              "\n",
              "    .dataframe thead th {\n",
              "        text-align: right;\n",
              "    }\n",
              "</style>\n",
              "<table border=\"1\" class=\"dataframe\">\n",
              "  <thead>\n",
              "    <tr style=\"text-align: right;\">\n",
              "      <th></th>\n",
              "      <th></th>\n",
              "      <th>unit_id</th>\n",
              "      <th>golden</th>\n",
              "      <th>unit_state</th>\n",
              "      <th>trusted_judgments</th>\n",
              "      <th>last_judgment_at</th>\n",
              "      <th>birthplace</th>\n",
              "      <th>birthplace:confidence</th>\n",
              "      <th>date_of_birth</th>\n",
              "      <th>date_of_birth:confidence</th>\n",
              "      <th>race_ethnicity</th>\n",
              "      <th>race_ethnicity:confidence</th>\n",
              "      <th>religion</th>\n",
              "      <th>religion:confidence</th>\n",
              "      <th>sexual_orientation</th>\n",
              "      <th>sexual_orientation:confidence</th>\n",
              "      <th>year_of_award:confidence</th>\n",
              "      <th>award</th>\n",
              "      <th>biourl</th>\n",
              "      <th>birthplace_gold</th>\n",
              "      <th>date_of_birth_gold</th>\n",
              "      <th>movie</th>\n",
              "      <th>race_ethnicity_gold</th>\n",
              "      <th>religion_gold</th>\n",
              "      <th>sexual_orientation_gold</th>\n",
              "      <th>year_of_award_gold</th>\n",
              "    </tr>\n",
              "    <tr>\n",
              "      <th>person</th>\n",
              "      <th>year_of_award</th>\n",
              "      <th></th>\n",
              "      <th></th>\n",
              "      <th></th>\n",
              "      <th></th>\n",
              "      <th></th>\n",
              "      <th></th>\n",
              "      <th></th>\n",
              "      <th></th>\n",
              "      <th></th>\n",
              "      <th></th>\n",
              "      <th></th>\n",
              "      <th></th>\n",
              "      <th></th>\n",
              "      <th></th>\n",
              "      <th></th>\n",
              "      <th></th>\n",
              "      <th></th>\n",
              "      <th></th>\n",
              "      <th></th>\n",
              "      <th></th>\n",
              "      <th></th>\n",
              "      <th></th>\n",
              "      <th></th>\n",
              "      <th></th>\n",
              "      <th></th>\n",
              "    </tr>\n",
              "  </thead>\n",
              "  <tbody>\n",
              "    <tr>\n",
              "      <th rowspan=\"2\" valign=\"top\">James Coburn</th>\n",
              "      <th>1999</th>\n",
              "      <td>670454588</td>\n",
              "      <td>True</td>\n",
              "      <td>golden</td>\n",
              "      <td>62</td>\n",
              "      <td>NaN</td>\n",
              "      <td>Laurel, Ne</td>\n",
              "      <td>1.0</td>\n",
              "      <td>31-Aug-28</td>\n",
              "      <td>1.0</td>\n",
              "      <td>White</td>\n",
              "      <td>1.0</td>\n",
              "      <td>Na</td>\n",
              "      <td>1.0</td>\n",
              "      <td>Straight</td>\n",
              "      <td>1.0</td>\n",
              "      <td>1.0</td>\n",
              "      <td>Best Supporting Actor</td>\n",
              "      <td>http://www.nndb.com/people/764/000022698/</td>\n",
              "      <td>NaN</td>\n",
              "      <td>NaN</td>\n",
              "      <td>Affliction</td>\n",
              "      <td>NaN</td>\n",
              "      <td>Na</td>\n",
              "      <td>NaN</td>\n",
              "      <td>NaN</td>\n",
              "    </tr>\n",
              "    <tr>\n",
              "      <th>1999</th>\n",
              "      <td>670964956</td>\n",
              "      <td>False</td>\n",
              "      <td>finalized</td>\n",
              "      <td>3</td>\n",
              "      <td>2/10/15 2:01</td>\n",
              "      <td>Laurel, Ne</td>\n",
              "      <td>1.0</td>\n",
              "      <td>31-Aug-28</td>\n",
              "      <td>1.0</td>\n",
              "      <td>White</td>\n",
              "      <td>1.0</td>\n",
              "      <td>Na</td>\n",
              "      <td>1.0</td>\n",
              "      <td>Straight</td>\n",
              "      <td>1.0</td>\n",
              "      <td>1.0</td>\n",
              "      <td>Best Supporting Actor</td>\n",
              "      <td>http://www.nndb.com/people/764/000022698/</td>\n",
              "      <td>NaN</td>\n",
              "      <td>NaN</td>\n",
              "      <td>Affliction</td>\n",
              "      <td>NaN</td>\n",
              "      <td>NaN</td>\n",
              "      <td>NaN</td>\n",
              "      <td>NaN</td>\n",
              "    </tr>\n",
              "  </tbody>\n",
              "</table>\n",
              "</div>"
            ],
            "text/plain": [
              "                              unit_id  ...  year_of_award_gold\n",
              "person       year_of_award             ...                    \n",
              "James Coburn 1999           670454588  ...                 NaN\n",
              "             1999           670964956  ...                 NaN\n",
              "\n",
              "[2 rows x 25 columns]"
            ]
          },
          "metadata": {
            "tags": []
          },
          "execution_count": 88
        }
      ]
    },
    {
      "cell_type": "code",
      "metadata": {
        "id": "vNXlUofAFSeV",
        "colab_type": "code",
        "outputId": "af9448ca-272d-4cb9-8af8-f21def58b2b2",
        "colab": {
          "base_uri": "https://localhost:8080/",
          "height": 173
        }
      },
      "source": [
        "# We can obtain index and column from business dataframe:\n",
        "oscars_columns=oscars_byID.columns\n",
        "oscars_columns"
      ],
      "execution_count": 0,
      "outputs": [
        {
          "output_type": "execute_result",
          "data": {
            "text/plain": [
              "Index(['unit_id', 'golden', 'unit_state', 'trusted_judgments',\n",
              "       'last_judgment_at', 'birthplace', 'birthplace:confidence',\n",
              "       'date_of_birth', 'date_of_birth:confidence', 'race_ethnicity',\n",
              "       'race_ethnicity:confidence', 'religion', 'religion:confidence',\n",
              "       'sexual_orientation', 'sexual_orientation:confidence',\n",
              "       'year_of_award:confidence', 'award', 'biourl', 'birthplace_gold',\n",
              "       'date_of_birth_gold', 'movie', 'race_ethnicity_gold', 'religion_gold',\n",
              "       'sexual_orientation_gold', 'year_of_award_gold'],\n",
              "      dtype='object')"
            ]
          },
          "metadata": {
            "tags": []
          },
          "execution_count": 89
        }
      ]
    },
    {
      "cell_type": "code",
      "metadata": {
        "id": "5BBthET6FSeX",
        "colab_type": "code",
        "outputId": "0a480111-cb40-4b08-ce9a-3af36d1e21fd",
        "colab": {
          "base_uri": "https://localhost:8080/",
          "height": 451
        }
      },
      "source": [
        "columns_list=oscars_columns.tolist()\n",
        "columns_list"
      ],
      "execution_count": 0,
      "outputs": [
        {
          "output_type": "execute_result",
          "data": {
            "text/plain": [
              "['unit_id',\n",
              " 'golden',\n",
              " 'unit_state',\n",
              " 'trusted_judgments',\n",
              " 'last_judgment_at',\n",
              " 'birthplace',\n",
              " 'birthplace:confidence',\n",
              " 'date_of_birth',\n",
              " 'date_of_birth:confidence',\n",
              " 'race_ethnicity',\n",
              " 'race_ethnicity:confidence',\n",
              " 'religion',\n",
              " 'religion:confidence',\n",
              " 'sexual_orientation',\n",
              " 'sexual_orientation:confidence',\n",
              " 'year_of_award:confidence',\n",
              " 'award',\n",
              " 'biourl',\n",
              " 'birthplace_gold',\n",
              " 'date_of_birth_gold',\n",
              " 'movie',\n",
              " 'race_ethnicity_gold',\n",
              " 'religion_gold',\n",
              " 'sexual_orientation_gold',\n",
              " 'year_of_award_gold']"
            ]
          },
          "metadata": {
            "tags": []
          },
          "execution_count": 90
        }
      ]
    },
    {
      "cell_type": "code",
      "metadata": {
        "id": "7UiFaeAcFSeZ",
        "colab_type": "code",
        "outputId": "fdd32411-7838-48ec-d168-c8c02135c138",
        "colab": {
          "base_uri": "https://localhost:8080/",
          "height": 795
        }
      },
      "source": [
        "# Rename one or more elements of the lists\n",
        "columns_list[0]='unitID'\n",
        "# And finally we assign it back to the Data Frame\n",
        "oscars_byID.columns=columns_list\n",
        "oscars_byID"
      ],
      "execution_count": 0,
      "outputs": [
        {
          "output_type": "execute_result",
          "data": {
            "text/html": [
              "<div>\n",
              "<style scoped>\n",
              "    .dataframe tbody tr th:only-of-type {\n",
              "        vertical-align: middle;\n",
              "    }\n",
              "\n",
              "    .dataframe tbody tr th {\n",
              "        vertical-align: top;\n",
              "    }\n",
              "\n",
              "    .dataframe thead th {\n",
              "        text-align: right;\n",
              "    }\n",
              "</style>\n",
              "<table border=\"1\" class=\"dataframe\">\n",
              "  <thead>\n",
              "    <tr style=\"text-align: right;\">\n",
              "      <th></th>\n",
              "      <th></th>\n",
              "      <th>unitID</th>\n",
              "      <th>golden</th>\n",
              "      <th>unit_state</th>\n",
              "      <th>trusted_judgments</th>\n",
              "      <th>last_judgment_at</th>\n",
              "      <th>birthplace</th>\n",
              "      <th>birthplace:confidence</th>\n",
              "      <th>date_of_birth</th>\n",
              "      <th>date_of_birth:confidence</th>\n",
              "      <th>race_ethnicity</th>\n",
              "      <th>race_ethnicity:confidence</th>\n",
              "      <th>religion</th>\n",
              "      <th>religion:confidence</th>\n",
              "      <th>sexual_orientation</th>\n",
              "      <th>sexual_orientation:confidence</th>\n",
              "      <th>year_of_award:confidence</th>\n",
              "      <th>award</th>\n",
              "      <th>biourl</th>\n",
              "      <th>birthplace_gold</th>\n",
              "      <th>date_of_birth_gold</th>\n",
              "      <th>movie</th>\n",
              "      <th>race_ethnicity_gold</th>\n",
              "      <th>religion_gold</th>\n",
              "      <th>sexual_orientation_gold</th>\n",
              "      <th>year_of_award_gold</th>\n",
              "    </tr>\n",
              "    <tr>\n",
              "      <th>person</th>\n",
              "      <th>year_of_award</th>\n",
              "      <th></th>\n",
              "      <th></th>\n",
              "      <th></th>\n",
              "      <th></th>\n",
              "      <th></th>\n",
              "      <th></th>\n",
              "      <th></th>\n",
              "      <th></th>\n",
              "      <th></th>\n",
              "      <th></th>\n",
              "      <th></th>\n",
              "      <th></th>\n",
              "      <th></th>\n",
              "      <th></th>\n",
              "      <th></th>\n",
              "      <th></th>\n",
              "      <th></th>\n",
              "      <th></th>\n",
              "      <th></th>\n",
              "      <th></th>\n",
              "      <th></th>\n",
              "      <th></th>\n",
              "      <th></th>\n",
              "      <th></th>\n",
              "      <th></th>\n",
              "    </tr>\n",
              "  </thead>\n",
              "  <tbody>\n",
              "    <tr>\n",
              "      <th>Lewis Milestone</th>\n",
              "      <th>1927</th>\n",
              "      <td>670454353</td>\n",
              "      <td>False</td>\n",
              "      <td>finalized</td>\n",
              "      <td>3</td>\n",
              "      <td>2/10/15 3:45</td>\n",
              "      <td>Chisinau, Moldova</td>\n",
              "      <td>1.0</td>\n",
              "      <td>30-Sep-1895</td>\n",
              "      <td>1.0</td>\n",
              "      <td>White</td>\n",
              "      <td>1.0</td>\n",
              "      <td>Na</td>\n",
              "      <td>1.0</td>\n",
              "      <td>Straight</td>\n",
              "      <td>1.0000</td>\n",
              "      <td>1.0000</td>\n",
              "      <td>Best Director</td>\n",
              "      <td>http://www.nndb.com/people/320/000043191/</td>\n",
              "      <td>NaN</td>\n",
              "      <td>NaN</td>\n",
              "      <td>Two Arabian Knights</td>\n",
              "      <td>NaN</td>\n",
              "      <td>NaN</td>\n",
              "      <td>NaN</td>\n",
              "      <td>NaN</td>\n",
              "    </tr>\n",
              "    <tr>\n",
              "      <th>Frank Lloyd</th>\n",
              "      <th>1930</th>\n",
              "      <td>670454354</td>\n",
              "      <td>False</td>\n",
              "      <td>finalized</td>\n",
              "      <td>3</td>\n",
              "      <td>2/10/15 2:03</td>\n",
              "      <td>Glasgow, Scotland</td>\n",
              "      <td>1.0</td>\n",
              "      <td>2-Feb-1886</td>\n",
              "      <td>1.0</td>\n",
              "      <td>White</td>\n",
              "      <td>1.0</td>\n",
              "      <td>Na</td>\n",
              "      <td>1.0</td>\n",
              "      <td>Straight</td>\n",
              "      <td>0.6842</td>\n",
              "      <td>1.0000</td>\n",
              "      <td>Best Director</td>\n",
              "      <td>http://www.nndb.com/people/626/000042500/</td>\n",
              "      <td>NaN</td>\n",
              "      <td>NaN</td>\n",
              "      <td>The Divine Lady</td>\n",
              "      <td>NaN</td>\n",
              "      <td>NaN</td>\n",
              "      <td>NaN</td>\n",
              "      <td>NaN</td>\n",
              "    </tr>\n",
              "    <tr>\n",
              "      <th>Lewis Milestone</th>\n",
              "      <th>1931</th>\n",
              "      <td>670454355</td>\n",
              "      <td>False</td>\n",
              "      <td>finalized</td>\n",
              "      <td>3</td>\n",
              "      <td>2/10/15 2:05</td>\n",
              "      <td>Chisinau, Moldova</td>\n",
              "      <td>1.0</td>\n",
              "      <td>30-Sep-1895</td>\n",
              "      <td>1.0</td>\n",
              "      <td>White</td>\n",
              "      <td>1.0</td>\n",
              "      <td>Na</td>\n",
              "      <td>1.0</td>\n",
              "      <td>Straight</td>\n",
              "      <td>1.0000</td>\n",
              "      <td>0.6667</td>\n",
              "      <td>Best Director</td>\n",
              "      <td>http://www.nndb.com/people/320/000043191/</td>\n",
              "      <td>NaN</td>\n",
              "      <td>NaN</td>\n",
              "      <td>All Quiet on the Western Front</td>\n",
              "      <td>NaN</td>\n",
              "      <td>NaN</td>\n",
              "      <td>NaN</td>\n",
              "      <td>NaN</td>\n",
              "    </tr>\n",
              "    <tr>\n",
              "      <th>Norman Taurog</th>\n",
              "      <th>1932</th>\n",
              "      <td>670454356</td>\n",
              "      <td>False</td>\n",
              "      <td>finalized</td>\n",
              "      <td>3</td>\n",
              "      <td>2/10/15 2:04</td>\n",
              "      <td>Chicago, Il</td>\n",
              "      <td>1.0</td>\n",
              "      <td>23-Feb-1899</td>\n",
              "      <td>1.0</td>\n",
              "      <td>White</td>\n",
              "      <td>1.0</td>\n",
              "      <td>Na</td>\n",
              "      <td>1.0</td>\n",
              "      <td>Straight</td>\n",
              "      <td>1.0000</td>\n",
              "      <td>1.0000</td>\n",
              "      <td>Best Director</td>\n",
              "      <td>http://www.nndb.com/people/544/000041421/</td>\n",
              "      <td>NaN</td>\n",
              "      <td>NaN</td>\n",
              "      <td>Skippy</td>\n",
              "      <td>NaN</td>\n",
              "      <td>NaN</td>\n",
              "      <td>NaN</td>\n",
              "      <td>NaN</td>\n",
              "    </tr>\n",
              "    <tr>\n",
              "      <th>Frank Borzage</th>\n",
              "      <th>1933</th>\n",
              "      <td>670454357</td>\n",
              "      <td>False</td>\n",
              "      <td>finalized</td>\n",
              "      <td>3</td>\n",
              "      <td>2/10/15 1:48</td>\n",
              "      <td>Salt Lake City, Ut</td>\n",
              "      <td>1.0</td>\n",
              "      <td>23-Apr-1894</td>\n",
              "      <td>1.0</td>\n",
              "      <td>White</td>\n",
              "      <td>1.0</td>\n",
              "      <td>Roman Catholic</td>\n",
              "      <td>1.0</td>\n",
              "      <td>Straight</td>\n",
              "      <td>1.0000</td>\n",
              "      <td>1.0000</td>\n",
              "      <td>Best Director</td>\n",
              "      <td>http://www.nndb.com/people/292/000044160/</td>\n",
              "      <td>NaN</td>\n",
              "      <td>NaN</td>\n",
              "      <td>Bad Girl</td>\n",
              "      <td>NaN</td>\n",
              "      <td>NaN</td>\n",
              "      <td>NaN</td>\n",
              "      <td>NaN</td>\n",
              "    </tr>\n",
              "    <tr>\n",
              "      <th>...</th>\n",
              "      <th>...</th>\n",
              "      <td>...</td>\n",
              "      <td>...</td>\n",
              "      <td>...</td>\n",
              "      <td>...</td>\n",
              "      <td>...</td>\n",
              "      <td>...</td>\n",
              "      <td>...</td>\n",
              "      <td>...</td>\n",
              "      <td>...</td>\n",
              "      <td>...</td>\n",
              "      <td>...</td>\n",
              "      <td>...</td>\n",
              "      <td>...</td>\n",
              "      <td>...</td>\n",
              "      <td>...</td>\n",
              "      <td>...</td>\n",
              "      <td>...</td>\n",
              "      <td>...</td>\n",
              "      <td>...</td>\n",
              "      <td>...</td>\n",
              "      <td>...</td>\n",
              "      <td>...</td>\n",
              "      <td>...</td>\n",
              "      <td>...</td>\n",
              "      <td>...</td>\n",
              "    </tr>\n",
              "    <tr>\n",
              "      <th>Rachel Weisz</th>\n",
              "      <th>2006</th>\n",
              "      <td>670946276</td>\n",
              "      <td>False</td>\n",
              "      <td>finalized</td>\n",
              "      <td>3</td>\n",
              "      <td>2/10/15 2:00</td>\n",
              "      <td>London, England</td>\n",
              "      <td>1.0</td>\n",
              "      <td>7-Mar-71</td>\n",
              "      <td>1.0</td>\n",
              "      <td>White</td>\n",
              "      <td>1.0</td>\n",
              "      <td>Jewish</td>\n",
              "      <td>1.0</td>\n",
              "      <td>Straight</td>\n",
              "      <td>1.0000</td>\n",
              "      <td>0.6857</td>\n",
              "      <td>Best Supporting Actress</td>\n",
              "      <td>http://www.nndb.com/people/309/000032213/</td>\n",
              "      <td>NaN</td>\n",
              "      <td>NaN</td>\n",
              "      <td>The Constant Gardener</td>\n",
              "      <td>NaN</td>\n",
              "      <td>NaN</td>\n",
              "      <td>NaN</td>\n",
              "      <td>NaN</td>\n",
              "    </tr>\n",
              "    <tr>\n",
              "      <th>Danny Boyle</th>\n",
              "      <th>2009</th>\n",
              "      <td>670946299</td>\n",
              "      <td>False</td>\n",
              "      <td>finalized</td>\n",
              "      <td>3</td>\n",
              "      <td>2/10/15 2:04</td>\n",
              "      <td>Manchester, England</td>\n",
              "      <td>1.0</td>\n",
              "      <td>20-Oct-56</td>\n",
              "      <td>1.0</td>\n",
              "      <td>White</td>\n",
              "      <td>1.0</td>\n",
              "      <td>Roman Catholic</td>\n",
              "      <td>1.0</td>\n",
              "      <td>Straight</td>\n",
              "      <td>1.0000</td>\n",
              "      <td>1.0000</td>\n",
              "      <td>Best Director</td>\n",
              "      <td>http://www.nndb.com/people/887/000044755/</td>\n",
              "      <td>NaN</td>\n",
              "      <td>NaN</td>\n",
              "      <td>Slumdog Millionaire</td>\n",
              "      <td>NaN</td>\n",
              "      <td>NaN</td>\n",
              "      <td>NaN</td>\n",
              "      <td>NaN</td>\n",
              "    </tr>\n",
              "    <tr>\n",
              "      <th>Jason Robards</th>\n",
              "      <th>1977</th>\n",
              "      <td>670964912</td>\n",
              "      <td>False</td>\n",
              "      <td>finalized</td>\n",
              "      <td>3</td>\n",
              "      <td>2/10/15 2:03</td>\n",
              "      <td>Chicago, Il</td>\n",
              "      <td>1.0</td>\n",
              "      <td>26-Jul-22</td>\n",
              "      <td>1.0</td>\n",
              "      <td>White</td>\n",
              "      <td>1.0</td>\n",
              "      <td>Na</td>\n",
              "      <td>1.0</td>\n",
              "      <td>Straight</td>\n",
              "      <td>1.0000</td>\n",
              "      <td>1.0000</td>\n",
              "      <td>Best Supporting Actor</td>\n",
              "      <td>http://www.nndb.com/people/224/000032128/</td>\n",
              "      <td>NaN</td>\n",
              "      <td>NaN</td>\n",
              "      <td>All the President's Men</td>\n",
              "      <td>NaN</td>\n",
              "      <td>NaN</td>\n",
              "      <td>NaN</td>\n",
              "      <td>NaN</td>\n",
              "    </tr>\n",
              "    <tr>\n",
              "      <th>James Coburn</th>\n",
              "      <th>1999</th>\n",
              "      <td>670964956</td>\n",
              "      <td>False</td>\n",
              "      <td>finalized</td>\n",
              "      <td>3</td>\n",
              "      <td>2/10/15 2:01</td>\n",
              "      <td>Laurel, Ne</td>\n",
              "      <td>1.0</td>\n",
              "      <td>31-Aug-28</td>\n",
              "      <td>1.0</td>\n",
              "      <td>White</td>\n",
              "      <td>1.0</td>\n",
              "      <td>Na</td>\n",
              "      <td>1.0</td>\n",
              "      <td>Straight</td>\n",
              "      <td>1.0000</td>\n",
              "      <td>1.0000</td>\n",
              "      <td>Best Supporting Actor</td>\n",
              "      <td>http://www.nndb.com/people/764/000022698/</td>\n",
              "      <td>NaN</td>\n",
              "      <td>NaN</td>\n",
              "      <td>Affliction</td>\n",
              "      <td>NaN</td>\n",
              "      <td>NaN</td>\n",
              "      <td>NaN</td>\n",
              "      <td>NaN</td>\n",
              "    </tr>\n",
              "    <tr>\n",
              "      <th>John Huston</th>\n",
              "      <th>1949</th>\n",
              "      <td>670972898</td>\n",
              "      <td>False</td>\n",
              "      <td>finalized</td>\n",
              "      <td>3</td>\n",
              "      <td>2/10/15 2:01</td>\n",
              "      <td>Nevada, Mo</td>\n",
              "      <td>1.0</td>\n",
              "      <td>5-Aug-06</td>\n",
              "      <td>1.0</td>\n",
              "      <td>White</td>\n",
              "      <td>1.0</td>\n",
              "      <td>Na</td>\n",
              "      <td>1.0</td>\n",
              "      <td>Straight</td>\n",
              "      <td>1.0000</td>\n",
              "      <td>1.0000</td>\n",
              "      <td>Best Director</td>\n",
              "      <td>http://www.nndb.com/people/704/000024632/</td>\n",
              "      <td>NaN</td>\n",
              "      <td>NaN</td>\n",
              "      <td>The Treasure of the Sierra Madre</td>\n",
              "      <td>NaN</td>\n",
              "      <td>NaN</td>\n",
              "      <td>NaN</td>\n",
              "      <td>NaN</td>\n",
              "    </tr>\n",
              "  </tbody>\n",
              "</table>\n",
              "<p>441 rows × 25 columns</p>\n",
              "</div>"
            ],
            "text/plain": [
              "                                  unitID  ...  year_of_award_gold\n",
              "person          year_of_award             ...                    \n",
              "Lewis Milestone 1927           670454353  ...                 NaN\n",
              "Frank Lloyd     1930           670454354  ...                 NaN\n",
              "Lewis Milestone 1931           670454355  ...                 NaN\n",
              "Norman Taurog   1932           670454356  ...                 NaN\n",
              "Frank Borzage   1933           670454357  ...                 NaN\n",
              "...                                  ...  ...                 ...\n",
              "Rachel Weisz    2006           670946276  ...                 NaN\n",
              "Danny Boyle     2009           670946299  ...                 NaN\n",
              "Jason Robards   1977           670964912  ...                 NaN\n",
              "James Coburn    1999           670964956  ...                 NaN\n",
              "John Huston     1949           670972898  ...                 NaN\n",
              "\n",
              "[441 rows x 25 columns]"
            ]
          },
          "metadata": {
            "tags": []
          },
          "execution_count": 91
        }
      ]
    },
    {
      "cell_type": "code",
      "metadata": {
        "id": "L0B_MzR3FSeb",
        "colab_type": "code",
        "outputId": "6e9f40ab-2076-4355-859d-f06a2901c57f",
        "colab": {
          "base_uri": "https://localhost:8080/",
          "height": 589
        }
      },
      "source": [
        "oscars"
      ],
      "execution_count": 0,
      "outputs": [
        {
          "output_type": "execute_result",
          "data": {
            "text/html": [
              "<div>\n",
              "<style scoped>\n",
              "    .dataframe tbody tr th:only-of-type {\n",
              "        vertical-align: middle;\n",
              "    }\n",
              "\n",
              "    .dataframe tbody tr th {\n",
              "        vertical-align: top;\n",
              "    }\n",
              "\n",
              "    .dataframe thead th {\n",
              "        text-align: right;\n",
              "    }\n",
              "</style>\n",
              "<table border=\"1\" class=\"dataframe\">\n",
              "  <thead>\n",
              "    <tr style=\"text-align: right;\">\n",
              "      <th></th>\n",
              "      <th>birthplace</th>\n",
              "      <th>date_of_birth</th>\n",
              "      <th>race_ethnicity</th>\n",
              "      <th>religion</th>\n",
              "      <th>sexual_orientation</th>\n",
              "      <th>year_of_award</th>\n",
              "      <th>award</th>\n",
              "      <th>movie</th>\n",
              "      <th>person</th>\n",
              "    </tr>\n",
              "  </thead>\n",
              "  <tbody>\n",
              "    <tr>\n",
              "      <th>0</th>\n",
              "      <td>Chisinau, Moldova</td>\n",
              "      <td>30-Sep-1895</td>\n",
              "      <td>White</td>\n",
              "      <td>Na</td>\n",
              "      <td>Straight</td>\n",
              "      <td>1927</td>\n",
              "      <td>Best Director</td>\n",
              "      <td>Two Arabian Knights</td>\n",
              "      <td>Lewis Milestone</td>\n",
              "    </tr>\n",
              "    <tr>\n",
              "      <th>1</th>\n",
              "      <td>Glasgow, Scotland</td>\n",
              "      <td>2-Feb-1886</td>\n",
              "      <td>White</td>\n",
              "      <td>Na</td>\n",
              "      <td>Straight</td>\n",
              "      <td>1930</td>\n",
              "      <td>Best Director</td>\n",
              "      <td>The Divine Lady</td>\n",
              "      <td>Frank Lloyd</td>\n",
              "    </tr>\n",
              "    <tr>\n",
              "      <th>2</th>\n",
              "      <td>Chisinau, Moldova</td>\n",
              "      <td>30-Sep-1895</td>\n",
              "      <td>White</td>\n",
              "      <td>Na</td>\n",
              "      <td>Straight</td>\n",
              "      <td>1931</td>\n",
              "      <td>Best Director</td>\n",
              "      <td>All Quiet on the Western Front</td>\n",
              "      <td>Lewis Milestone</td>\n",
              "    </tr>\n",
              "    <tr>\n",
              "      <th>3</th>\n",
              "      <td>Chicago, Il</td>\n",
              "      <td>23-Feb-1899</td>\n",
              "      <td>White</td>\n",
              "      <td>Na</td>\n",
              "      <td>Straight</td>\n",
              "      <td>1932</td>\n",
              "      <td>Best Director</td>\n",
              "      <td>Skippy</td>\n",
              "      <td>Norman Taurog</td>\n",
              "    </tr>\n",
              "    <tr>\n",
              "      <th>4</th>\n",
              "      <td>Salt Lake City, Ut</td>\n",
              "      <td>23-Apr-1894</td>\n",
              "      <td>White</td>\n",
              "      <td>Roman Catholic</td>\n",
              "      <td>Straight</td>\n",
              "      <td>1933</td>\n",
              "      <td>Best Director</td>\n",
              "      <td>Bad Girl</td>\n",
              "      <td>Frank Borzage</td>\n",
              "    </tr>\n",
              "    <tr>\n",
              "      <th>...</th>\n",
              "      <td>...</td>\n",
              "      <td>...</td>\n",
              "      <td>...</td>\n",
              "      <td>...</td>\n",
              "      <td>...</td>\n",
              "      <td>...</td>\n",
              "      <td>...</td>\n",
              "      <td>...</td>\n",
              "      <td>...</td>\n",
              "    </tr>\n",
              "    <tr>\n",
              "      <th>436</th>\n",
              "      <td>London, England</td>\n",
              "      <td>7-Mar-71</td>\n",
              "      <td>White</td>\n",
              "      <td>Jewish</td>\n",
              "      <td>Straight</td>\n",
              "      <td>2006</td>\n",
              "      <td>Best Supporting Actress</td>\n",
              "      <td>The Constant Gardener</td>\n",
              "      <td>Rachel Weisz</td>\n",
              "    </tr>\n",
              "    <tr>\n",
              "      <th>437</th>\n",
              "      <td>Manchester, England</td>\n",
              "      <td>20-Oct-56</td>\n",
              "      <td>White</td>\n",
              "      <td>Roman Catholic</td>\n",
              "      <td>Straight</td>\n",
              "      <td>2009</td>\n",
              "      <td>Best Director</td>\n",
              "      <td>Slumdog Millionaire</td>\n",
              "      <td>Danny Boyle</td>\n",
              "    </tr>\n",
              "    <tr>\n",
              "      <th>438</th>\n",
              "      <td>Chicago, Il</td>\n",
              "      <td>26-Jul-22</td>\n",
              "      <td>White</td>\n",
              "      <td>Na</td>\n",
              "      <td>Straight</td>\n",
              "      <td>1977</td>\n",
              "      <td>Best Supporting Actor</td>\n",
              "      <td>All the President's Men</td>\n",
              "      <td>Jason Robards</td>\n",
              "    </tr>\n",
              "    <tr>\n",
              "      <th>439</th>\n",
              "      <td>Laurel, Ne</td>\n",
              "      <td>31-Aug-28</td>\n",
              "      <td>White</td>\n",
              "      <td>Na</td>\n",
              "      <td>Straight</td>\n",
              "      <td>1999</td>\n",
              "      <td>Best Supporting Actor</td>\n",
              "      <td>Affliction</td>\n",
              "      <td>James Coburn</td>\n",
              "    </tr>\n",
              "    <tr>\n",
              "      <th>440</th>\n",
              "      <td>Nevada, Mo</td>\n",
              "      <td>5-Aug-06</td>\n",
              "      <td>White</td>\n",
              "      <td>Na</td>\n",
              "      <td>Straight</td>\n",
              "      <td>1949</td>\n",
              "      <td>Best Director</td>\n",
              "      <td>The Treasure of the Sierra Madre</td>\n",
              "      <td>John Huston</td>\n",
              "    </tr>\n",
              "  </tbody>\n",
              "</table>\n",
              "<p>441 rows × 9 columns</p>\n",
              "</div>"
            ],
            "text/plain": [
              "              birthplace  ...           person\n",
              "0      Chisinau, Moldova  ...  Lewis Milestone\n",
              "1      Glasgow, Scotland  ...      Frank Lloyd\n",
              "2      Chisinau, Moldova  ...  Lewis Milestone\n",
              "3            Chicago, Il  ...    Norman Taurog\n",
              "4     Salt Lake City, Ut  ...    Frank Borzage\n",
              "..                   ...  ...              ...\n",
              "436      London, England  ...     Rachel Weisz\n",
              "437  Manchester, England  ...      Danny Boyle\n",
              "438          Chicago, Il  ...    Jason Robards\n",
              "439           Laurel, Ne  ...     James Coburn\n",
              "440           Nevada, Mo  ...      John Huston\n",
              "\n",
              "[441 rows x 9 columns]"
            ]
          },
          "metadata": {
            "tags": []
          },
          "execution_count": 92
        }
      ]
    },
    {
      "cell_type": "code",
      "metadata": {
        "id": "cmhnD38FFSec",
        "colab_type": "code",
        "outputId": "7c5785eb-e279-4ecd-8564-ace1dd86b8dd",
        "colab": {
          "base_uri": "https://localhost:8080/",
          "height": 191
        }
      },
      "source": [
        "oscars.loc[0]"
      ],
      "execution_count": 0,
      "outputs": [
        {
          "output_type": "execute_result",
          "data": {
            "text/plain": [
              "birthplace              Chisinau, Moldova\n",
              "date_of_birth                 30-Sep-1895\n",
              "race_ethnicity                      White\n",
              "religion                               Na\n",
              "sexual_orientation               Straight\n",
              "year_of_award                        1927\n",
              "award                       Best Director\n",
              "movie                 Two Arabian Knights\n",
              "person                    Lewis Milestone\n",
              "Name: 0, dtype: object"
            ]
          },
          "metadata": {
            "tags": []
          },
          "execution_count": 93
        }
      ]
    },
    {
      "cell_type": "code",
      "metadata": {
        "id": "a2N2g8dIFSee",
        "colab_type": "code",
        "colab": {}
      },
      "source": [
        "oscars_person=oscars[['person','date_of_birth','birthplace']].drop_duplicates(subset='person')\n",
        "oscars_person.set_index('person',inplace=True)"
      ],
      "execution_count": 0,
      "outputs": []
    },
    {
      "cell_type": "code",
      "metadata": {
        "scrolled": true,
        "id": "WFl2AseMFSeg",
        "colab_type": "code",
        "outputId": "cda17d3b-ebcf-498c-b107-25e14c35ae57",
        "colab": {
          "base_uri": "https://localhost:8080/",
          "height": 446
        }
      },
      "source": [
        "oscars_person"
      ],
      "execution_count": 0,
      "outputs": [
        {
          "output_type": "execute_result",
          "data": {
            "text/html": [
              "<div>\n",
              "<style scoped>\n",
              "    .dataframe tbody tr th:only-of-type {\n",
              "        vertical-align: middle;\n",
              "    }\n",
              "\n",
              "    .dataframe tbody tr th {\n",
              "        vertical-align: top;\n",
              "    }\n",
              "\n",
              "    .dataframe thead th {\n",
              "        text-align: right;\n",
              "    }\n",
              "</style>\n",
              "<table border=\"1\" class=\"dataframe\">\n",
              "  <thead>\n",
              "    <tr style=\"text-align: right;\">\n",
              "      <th></th>\n",
              "      <th>date_of_birth</th>\n",
              "      <th>birthplace</th>\n",
              "    </tr>\n",
              "    <tr>\n",
              "      <th>person</th>\n",
              "      <th></th>\n",
              "      <th></th>\n",
              "    </tr>\n",
              "  </thead>\n",
              "  <tbody>\n",
              "    <tr>\n",
              "      <th>Lewis Milestone</th>\n",
              "      <td>30-Sep-1895</td>\n",
              "      <td>Chisinau, Moldova</td>\n",
              "    </tr>\n",
              "    <tr>\n",
              "      <th>Frank Lloyd</th>\n",
              "      <td>2-Feb-1886</td>\n",
              "      <td>Glasgow, Scotland</td>\n",
              "    </tr>\n",
              "    <tr>\n",
              "      <th>Norman Taurog</th>\n",
              "      <td>23-Feb-1899</td>\n",
              "      <td>Chicago, Il</td>\n",
              "    </tr>\n",
              "    <tr>\n",
              "      <th>Frank Borzage</th>\n",
              "      <td>23-Apr-1894</td>\n",
              "      <td>Salt Lake City, Ut</td>\n",
              "    </tr>\n",
              "    <tr>\n",
              "      <th>Frank Capra</th>\n",
              "      <td>18-May-1897</td>\n",
              "      <td>Bisacquino, Sicily, Italy</td>\n",
              "    </tr>\n",
              "    <tr>\n",
              "      <th>...</th>\n",
              "      <td>...</td>\n",
              "      <td>...</td>\n",
              "    </tr>\n",
              "    <tr>\n",
              "      <th>Mo'Nique</th>\n",
              "      <td>11-Dec-67</td>\n",
              "      <td>Woodlawn, Md</td>\n",
              "    </tr>\n",
              "    <tr>\n",
              "      <th>Melissa Leo</th>\n",
              "      <td>14-Sep-60</td>\n",
              "      <td>New York City</td>\n",
              "    </tr>\n",
              "    <tr>\n",
              "      <th>Octavia Spencer</th>\n",
              "      <td>25-May-72</td>\n",
              "      <td>Montgomery, Al</td>\n",
              "    </tr>\n",
              "    <tr>\n",
              "      <th>Anne Hathaway</th>\n",
              "      <td>12-Nov-82</td>\n",
              "      <td>Brooklyn, Ny</td>\n",
              "    </tr>\n",
              "    <tr>\n",
              "      <th>Lupita Nyong'o</th>\n",
              "      <td>1-Mar-83</td>\n",
              "      <td>Mexico City, Mexico</td>\n",
              "    </tr>\n",
              "  </tbody>\n",
              "</table>\n",
              "<p>348 rows × 2 columns</p>\n",
              "</div>"
            ],
            "text/plain": [
              "                date_of_birth                 birthplace\n",
              "person                                                  \n",
              "Lewis Milestone   30-Sep-1895          Chisinau, Moldova\n",
              "Frank Lloyd        2-Feb-1886          Glasgow, Scotland\n",
              "Norman Taurog     23-Feb-1899                Chicago, Il\n",
              "Frank Borzage     23-Apr-1894         Salt Lake City, Ut\n",
              "Frank Capra       18-May-1897  Bisacquino, Sicily, Italy\n",
              "...                       ...                        ...\n",
              "Mo'Nique            11-Dec-67               Woodlawn, Md\n",
              "Melissa Leo         14-Sep-60              New York City\n",
              "Octavia Spencer     25-May-72             Montgomery, Al\n",
              "Anne Hathaway       12-Nov-82               Brooklyn, Ny\n",
              "Lupita Nyong'o       1-Mar-83        Mexico City, Mexico\n",
              "\n",
              "[348 rows x 2 columns]"
            ]
          },
          "metadata": {
            "tags": []
          },
          "execution_count": 95
        }
      ]
    },
    {
      "cell_type": "code",
      "metadata": {
        "id": "v5ccnCjyFSek",
        "colab_type": "code",
        "outputId": "ec6404e3-e324-4480-9e42-697a8c950776",
        "colab": {
          "base_uri": "https://localhost:8080/",
          "height": 446
        }
      },
      "source": [
        "oscars_awards=oscars[['person','year_of_award','award','movie']].drop_duplicates(subset='person')\n",
        "oscars_awards.set_index('person',inplace=True)\n",
        "oscars_awards"
      ],
      "execution_count": 0,
      "outputs": [
        {
          "output_type": "execute_result",
          "data": {
            "text/html": [
              "<div>\n",
              "<style scoped>\n",
              "    .dataframe tbody tr th:only-of-type {\n",
              "        vertical-align: middle;\n",
              "    }\n",
              "\n",
              "    .dataframe tbody tr th {\n",
              "        vertical-align: top;\n",
              "    }\n",
              "\n",
              "    .dataframe thead th {\n",
              "        text-align: right;\n",
              "    }\n",
              "</style>\n",
              "<table border=\"1\" class=\"dataframe\">\n",
              "  <thead>\n",
              "    <tr style=\"text-align: right;\">\n",
              "      <th></th>\n",
              "      <th>year_of_award</th>\n",
              "      <th>award</th>\n",
              "      <th>movie</th>\n",
              "    </tr>\n",
              "    <tr>\n",
              "      <th>person</th>\n",
              "      <th></th>\n",
              "      <th></th>\n",
              "      <th></th>\n",
              "    </tr>\n",
              "  </thead>\n",
              "  <tbody>\n",
              "    <tr>\n",
              "      <th>Lewis Milestone</th>\n",
              "      <td>1927</td>\n",
              "      <td>Best Director</td>\n",
              "      <td>Two Arabian Knights</td>\n",
              "    </tr>\n",
              "    <tr>\n",
              "      <th>Frank Lloyd</th>\n",
              "      <td>1930</td>\n",
              "      <td>Best Director</td>\n",
              "      <td>The Divine Lady</td>\n",
              "    </tr>\n",
              "    <tr>\n",
              "      <th>Norman Taurog</th>\n",
              "      <td>1932</td>\n",
              "      <td>Best Director</td>\n",
              "      <td>Skippy</td>\n",
              "    </tr>\n",
              "    <tr>\n",
              "      <th>Frank Borzage</th>\n",
              "      <td>1933</td>\n",
              "      <td>Best Director</td>\n",
              "      <td>Bad Girl</td>\n",
              "    </tr>\n",
              "    <tr>\n",
              "      <th>Frank Capra</th>\n",
              "      <td>1935</td>\n",
              "      <td>Best Director</td>\n",
              "      <td>It Happened One Night</td>\n",
              "    </tr>\n",
              "    <tr>\n",
              "      <th>...</th>\n",
              "      <td>...</td>\n",
              "      <td>...</td>\n",
              "      <td>...</td>\n",
              "    </tr>\n",
              "    <tr>\n",
              "      <th>Mo'Nique</th>\n",
              "      <td>2010</td>\n",
              "      <td>Best Supporting Actress</td>\n",
              "      <td>Precious</td>\n",
              "    </tr>\n",
              "    <tr>\n",
              "      <th>Melissa Leo</th>\n",
              "      <td>2011</td>\n",
              "      <td>Best Supporting Actress</td>\n",
              "      <td>The Fighter</td>\n",
              "    </tr>\n",
              "    <tr>\n",
              "      <th>Octavia Spencer</th>\n",
              "      <td>2012</td>\n",
              "      <td>Best Supporting Actress</td>\n",
              "      <td>The Help</td>\n",
              "    </tr>\n",
              "    <tr>\n",
              "      <th>Anne Hathaway</th>\n",
              "      <td>2013</td>\n",
              "      <td>Best Supporting Actress</td>\n",
              "      <td>Les MisÌ©rables</td>\n",
              "    </tr>\n",
              "    <tr>\n",
              "      <th>Lupita Nyong'o</th>\n",
              "      <td>2014</td>\n",
              "      <td>Best Supporting Actress</td>\n",
              "      <td>12 Years a Slave</td>\n",
              "    </tr>\n",
              "  </tbody>\n",
              "</table>\n",
              "<p>348 rows × 3 columns</p>\n",
              "</div>"
            ],
            "text/plain": [
              "                 year_of_award                    award                  movie\n",
              "person                                                                        \n",
              "Lewis Milestone           1927            Best Director    Two Arabian Knights\n",
              "Frank Lloyd               1930            Best Director        The Divine Lady\n",
              "Norman Taurog             1932            Best Director                 Skippy\n",
              "Frank Borzage             1933            Best Director               Bad Girl\n",
              "Frank Capra               1935            Best Director  It Happened One Night\n",
              "...                        ...                      ...                    ...\n",
              "Mo'Nique                  2010  Best Supporting Actress               Precious\n",
              "Melissa Leo               2011  Best Supporting Actress            The Fighter\n",
              "Octavia Spencer           2012  Best Supporting Actress               The Help\n",
              "Anne Hathaway             2013  Best Supporting Actress        Les MisÌ©rables\n",
              "Lupita Nyong'o            2014  Best Supporting Actress       12 Years a Slave\n",
              "\n",
              "[348 rows x 3 columns]"
            ]
          },
          "metadata": {
            "tags": []
          },
          "execution_count": 96
        }
      ]
    },
    {
      "cell_type": "code",
      "metadata": {
        "id": "VlCzd7otFSep",
        "colab_type": "code",
        "outputId": "c7eaaab9-7ed3-4f11-cbcc-769d26c5c80f",
        "colab": {
          "base_uri": "https://localhost:8080/",
          "height": 87
        }
      },
      "source": [
        "oscars_awards.loc['Anne Hathaway',:]"
      ],
      "execution_count": 0,
      "outputs": [
        {
          "output_type": "execute_result",
          "data": {
            "text/plain": [
              "year_of_award                       2013\n",
              "award            Best Supporting Actress\n",
              "movie                    Les MisÌ©rables\n",
              "Name: Anne Hathaway, dtype: object"
            ]
          },
          "metadata": {
            "tags": []
          },
          "execution_count": 97
        }
      ]
    },
    {
      "cell_type": "code",
      "metadata": {
        "id": "LH5ro0hsFSes",
        "colab_type": "code",
        "outputId": "03c8687e-4ec3-4436-a2bc-a1ed79a9471e",
        "colab": {
          "base_uri": "https://localhost:8080/",
          "height": 295
        }
      },
      "source": [
        "oscars.info()"
      ],
      "execution_count": 0,
      "outputs": [
        {
          "output_type": "stream",
          "text": [
            "<class 'pandas.core.frame.DataFrame'>\n",
            "Int64Index: 441 entries, 0 to 440\n",
            "Data columns (total 9 columns):\n",
            " #   Column              Non-Null Count  Dtype \n",
            "---  ------              --------------  ----- \n",
            " 0   birthplace          441 non-null    object\n",
            " 1   date_of_birth       441 non-null    object\n",
            " 2   race_ethnicity      441 non-null    object\n",
            " 3   religion            441 non-null    object\n",
            " 4   sexual_orientation  441 non-null    object\n",
            " 5   year_of_award       441 non-null    int64 \n",
            " 6   award               441 non-null    object\n",
            " 7   movie               441 non-null    object\n",
            " 8   person              441 non-null    object\n",
            "dtypes: int64(1), object(8)\n",
            "memory usage: 54.5+ KB\n"
          ],
          "name": "stdout"
        }
      ]
    },
    {
      "cell_type": "code",
      "metadata": {
        "id": "EkowrM_KFSet",
        "colab_type": "code",
        "outputId": "d4e69d5d-fb16-448c-fe97-b57d914d9a86",
        "colab": {
          "base_uri": "https://localhost:8080/",
          "height": 121
        }
      },
      "source": [
        "oscars.loc[:,'date_of_birth'] = pd.to_datetime(oscars['date_of_birth'], errors='coerce')"
      ],
      "execution_count": 0,
      "outputs": [
        {
          "output_type": "stream",
          "text": [
            "/usr/local/lib/python3.6/dist-packages/pandas/core/indexing.py:966: SettingWithCopyWarning: \n",
            "A value is trying to be set on a copy of a slice from a DataFrame.\n",
            "Try using .loc[row_indexer,col_indexer] = value instead\n",
            "\n",
            "See the caveats in the documentation: https://pandas.pydata.org/pandas-docs/stable/user_guide/indexing.html#returning-a-view-versus-a-copy\n",
            "  self.obj[item] = s\n"
          ],
          "name": "stderr"
        }
      ]
    },
    {
      "cell_type": "code",
      "metadata": {
        "id": "JAPMlnIYFSev",
        "colab_type": "code",
        "outputId": "5ea27348-5d6b-4486-c447-53ef44fab4cb",
        "colab": {
          "base_uri": "https://localhost:8080/",
          "height": 765
        }
      },
      "source": [
        "oscars_demographics"
      ],
      "execution_count": 0,
      "outputs": [
        {
          "output_type": "execute_result",
          "data": {
            "text/html": [
              "<div>\n",
              "<style scoped>\n",
              "    .dataframe tbody tr th:only-of-type {\n",
              "        vertical-align: middle;\n",
              "    }\n",
              "\n",
              "    .dataframe tbody tr th {\n",
              "        vertical-align: top;\n",
              "    }\n",
              "\n",
              "    .dataframe thead th {\n",
              "        text-align: right;\n",
              "    }\n",
              "</style>\n",
              "<table border=\"1\" class=\"dataframe\">\n",
              "  <thead>\n",
              "    <tr style=\"text-align: right;\">\n",
              "      <th></th>\n",
              "      <th>unit_id</th>\n",
              "      <th>golden</th>\n",
              "      <th>unit_state</th>\n",
              "      <th>trusted_judgments</th>\n",
              "      <th>last_judgment_at</th>\n",
              "      <th>birthplace</th>\n",
              "      <th>birthplace:confidence</th>\n",
              "      <th>date_of_birth</th>\n",
              "      <th>date_of_birth:confidence</th>\n",
              "      <th>race_ethnicity</th>\n",
              "      <th>race_ethnicity:confidence</th>\n",
              "      <th>religion</th>\n",
              "      <th>religion:confidence</th>\n",
              "      <th>sexual_orientation</th>\n",
              "      <th>sexual_orientation:confidence</th>\n",
              "      <th>year_of_award</th>\n",
              "      <th>year_of_award:confidence</th>\n",
              "      <th>award</th>\n",
              "      <th>biourl</th>\n",
              "      <th>birthplace_gold</th>\n",
              "      <th>date_of_birth_gold</th>\n",
              "      <th>movie</th>\n",
              "      <th>person</th>\n",
              "      <th>race_ethnicity_gold</th>\n",
              "      <th>religion_gold</th>\n",
              "      <th>sexual_orientation_gold</th>\n",
              "      <th>year_of_award_gold</th>\n",
              "    </tr>\n",
              "  </thead>\n",
              "  <tbody>\n",
              "    <tr>\n",
              "      <th>0</th>\n",
              "      <td>670454353</td>\n",
              "      <td>False</td>\n",
              "      <td>finalized</td>\n",
              "      <td>3</td>\n",
              "      <td>2/10/15 3:45</td>\n",
              "      <td>Chisinau, Moldova</td>\n",
              "      <td>1.0</td>\n",
              "      <td>30-Sep-1895</td>\n",
              "      <td>1.0</td>\n",
              "      <td>White</td>\n",
              "      <td>1.0</td>\n",
              "      <td>Na</td>\n",
              "      <td>1.0</td>\n",
              "      <td>Straight</td>\n",
              "      <td>1.0000</td>\n",
              "      <td>1927</td>\n",
              "      <td>1.0000</td>\n",
              "      <td>Best Director</td>\n",
              "      <td>http://www.nndb.com/people/320/000043191/</td>\n",
              "      <td>NaN</td>\n",
              "      <td>NaN</td>\n",
              "      <td>Two Arabian Knights</td>\n",
              "      <td>Lewis Milestone</td>\n",
              "      <td>NaN</td>\n",
              "      <td>NaN</td>\n",
              "      <td>NaN</td>\n",
              "      <td>NaN</td>\n",
              "    </tr>\n",
              "    <tr>\n",
              "      <th>1</th>\n",
              "      <td>670454354</td>\n",
              "      <td>False</td>\n",
              "      <td>finalized</td>\n",
              "      <td>3</td>\n",
              "      <td>2/10/15 2:03</td>\n",
              "      <td>Glasgow, Scotland</td>\n",
              "      <td>1.0</td>\n",
              "      <td>2-Feb-1886</td>\n",
              "      <td>1.0</td>\n",
              "      <td>White</td>\n",
              "      <td>1.0</td>\n",
              "      <td>Na</td>\n",
              "      <td>1.0</td>\n",
              "      <td>Straight</td>\n",
              "      <td>0.6842</td>\n",
              "      <td>1930</td>\n",
              "      <td>1.0000</td>\n",
              "      <td>Best Director</td>\n",
              "      <td>http://www.nndb.com/people/626/000042500/</td>\n",
              "      <td>NaN</td>\n",
              "      <td>NaN</td>\n",
              "      <td>The Divine Lady</td>\n",
              "      <td>Frank Lloyd</td>\n",
              "      <td>NaN</td>\n",
              "      <td>NaN</td>\n",
              "      <td>NaN</td>\n",
              "      <td>NaN</td>\n",
              "    </tr>\n",
              "    <tr>\n",
              "      <th>2</th>\n",
              "      <td>670454355</td>\n",
              "      <td>False</td>\n",
              "      <td>finalized</td>\n",
              "      <td>3</td>\n",
              "      <td>2/10/15 2:05</td>\n",
              "      <td>Chisinau, Moldova</td>\n",
              "      <td>1.0</td>\n",
              "      <td>30-Sep-1895</td>\n",
              "      <td>1.0</td>\n",
              "      <td>White</td>\n",
              "      <td>1.0</td>\n",
              "      <td>Na</td>\n",
              "      <td>1.0</td>\n",
              "      <td>Straight</td>\n",
              "      <td>1.0000</td>\n",
              "      <td>1931</td>\n",
              "      <td>0.6667</td>\n",
              "      <td>Best Director</td>\n",
              "      <td>http://www.nndb.com/people/320/000043191/</td>\n",
              "      <td>NaN</td>\n",
              "      <td>NaN</td>\n",
              "      <td>All Quiet on the Western Front</td>\n",
              "      <td>Lewis Milestone</td>\n",
              "      <td>NaN</td>\n",
              "      <td>NaN</td>\n",
              "      <td>NaN</td>\n",
              "      <td>NaN</td>\n",
              "    </tr>\n",
              "    <tr>\n",
              "      <th>3</th>\n",
              "      <td>670454356</td>\n",
              "      <td>False</td>\n",
              "      <td>finalized</td>\n",
              "      <td>3</td>\n",
              "      <td>2/10/15 2:04</td>\n",
              "      <td>Chicago, Il</td>\n",
              "      <td>1.0</td>\n",
              "      <td>23-Feb-1899</td>\n",
              "      <td>1.0</td>\n",
              "      <td>White</td>\n",
              "      <td>1.0</td>\n",
              "      <td>Na</td>\n",
              "      <td>1.0</td>\n",
              "      <td>Straight</td>\n",
              "      <td>1.0000</td>\n",
              "      <td>1932</td>\n",
              "      <td>1.0000</td>\n",
              "      <td>Best Director</td>\n",
              "      <td>http://www.nndb.com/people/544/000041421/</td>\n",
              "      <td>NaN</td>\n",
              "      <td>NaN</td>\n",
              "      <td>Skippy</td>\n",
              "      <td>Norman Taurog</td>\n",
              "      <td>NaN</td>\n",
              "      <td>NaN</td>\n",
              "      <td>NaN</td>\n",
              "      <td>NaN</td>\n",
              "    </tr>\n",
              "    <tr>\n",
              "      <th>4</th>\n",
              "      <td>670454357</td>\n",
              "      <td>False</td>\n",
              "      <td>finalized</td>\n",
              "      <td>3</td>\n",
              "      <td>2/10/15 1:48</td>\n",
              "      <td>Salt Lake City, Ut</td>\n",
              "      <td>1.0</td>\n",
              "      <td>23-Apr-1894</td>\n",
              "      <td>1.0</td>\n",
              "      <td>White</td>\n",
              "      <td>1.0</td>\n",
              "      <td>Roman Catholic</td>\n",
              "      <td>1.0</td>\n",
              "      <td>Straight</td>\n",
              "      <td>1.0000</td>\n",
              "      <td>1933</td>\n",
              "      <td>1.0000</td>\n",
              "      <td>Best Director</td>\n",
              "      <td>http://www.nndb.com/people/292/000044160/</td>\n",
              "      <td>NaN</td>\n",
              "      <td>NaN</td>\n",
              "      <td>Bad Girl</td>\n",
              "      <td>Frank Borzage</td>\n",
              "      <td>NaN</td>\n",
              "      <td>NaN</td>\n",
              "      <td>NaN</td>\n",
              "      <td>NaN</td>\n",
              "    </tr>\n",
              "    <tr>\n",
              "      <th>...</th>\n",
              "      <td>...</td>\n",
              "      <td>...</td>\n",
              "      <td>...</td>\n",
              "      <td>...</td>\n",
              "      <td>...</td>\n",
              "      <td>...</td>\n",
              "      <td>...</td>\n",
              "      <td>...</td>\n",
              "      <td>...</td>\n",
              "      <td>...</td>\n",
              "      <td>...</td>\n",
              "      <td>...</td>\n",
              "      <td>...</td>\n",
              "      <td>...</td>\n",
              "      <td>...</td>\n",
              "      <td>...</td>\n",
              "      <td>...</td>\n",
              "      <td>...</td>\n",
              "      <td>...</td>\n",
              "      <td>...</td>\n",
              "      <td>...</td>\n",
              "      <td>...</td>\n",
              "      <td>...</td>\n",
              "      <td>...</td>\n",
              "      <td>...</td>\n",
              "      <td>...</td>\n",
              "      <td>...</td>\n",
              "    </tr>\n",
              "    <tr>\n",
              "      <th>436</th>\n",
              "      <td>670946276</td>\n",
              "      <td>False</td>\n",
              "      <td>finalized</td>\n",
              "      <td>3</td>\n",
              "      <td>2/10/15 2:00</td>\n",
              "      <td>London, England</td>\n",
              "      <td>1.0</td>\n",
              "      <td>7-Mar-71</td>\n",
              "      <td>1.0</td>\n",
              "      <td>White</td>\n",
              "      <td>1.0</td>\n",
              "      <td>Jewish</td>\n",
              "      <td>1.0</td>\n",
              "      <td>Straight</td>\n",
              "      <td>1.0000</td>\n",
              "      <td>2006</td>\n",
              "      <td>0.6857</td>\n",
              "      <td>Best Supporting Actress</td>\n",
              "      <td>http://www.nndb.com/people/309/000032213/</td>\n",
              "      <td>NaN</td>\n",
              "      <td>NaN</td>\n",
              "      <td>The Constant Gardener</td>\n",
              "      <td>Rachel Weisz</td>\n",
              "      <td>NaN</td>\n",
              "      <td>NaN</td>\n",
              "      <td>NaN</td>\n",
              "      <td>NaN</td>\n",
              "    </tr>\n",
              "    <tr>\n",
              "      <th>437</th>\n",
              "      <td>670946299</td>\n",
              "      <td>False</td>\n",
              "      <td>finalized</td>\n",
              "      <td>3</td>\n",
              "      <td>2/10/15 2:04</td>\n",
              "      <td>Manchester, England</td>\n",
              "      <td>1.0</td>\n",
              "      <td>20-Oct-56</td>\n",
              "      <td>1.0</td>\n",
              "      <td>White</td>\n",
              "      <td>1.0</td>\n",
              "      <td>Roman Catholic</td>\n",
              "      <td>1.0</td>\n",
              "      <td>Straight</td>\n",
              "      <td>1.0000</td>\n",
              "      <td>2009</td>\n",
              "      <td>1.0000</td>\n",
              "      <td>Best Director</td>\n",
              "      <td>http://www.nndb.com/people/887/000044755/</td>\n",
              "      <td>NaN</td>\n",
              "      <td>NaN</td>\n",
              "      <td>Slumdog Millionaire</td>\n",
              "      <td>Danny Boyle</td>\n",
              "      <td>NaN</td>\n",
              "      <td>NaN</td>\n",
              "      <td>NaN</td>\n",
              "      <td>NaN</td>\n",
              "    </tr>\n",
              "    <tr>\n",
              "      <th>438</th>\n",
              "      <td>670964912</td>\n",
              "      <td>False</td>\n",
              "      <td>finalized</td>\n",
              "      <td>3</td>\n",
              "      <td>2/10/15 2:03</td>\n",
              "      <td>Chicago, Il</td>\n",
              "      <td>1.0</td>\n",
              "      <td>26-Jul-22</td>\n",
              "      <td>1.0</td>\n",
              "      <td>White</td>\n",
              "      <td>1.0</td>\n",
              "      <td>Na</td>\n",
              "      <td>1.0</td>\n",
              "      <td>Straight</td>\n",
              "      <td>1.0000</td>\n",
              "      <td>1977</td>\n",
              "      <td>1.0000</td>\n",
              "      <td>Best Supporting Actor</td>\n",
              "      <td>http://www.nndb.com/people/224/000032128/</td>\n",
              "      <td>NaN</td>\n",
              "      <td>NaN</td>\n",
              "      <td>All the President's Men</td>\n",
              "      <td>Jason Robards</td>\n",
              "      <td>NaN</td>\n",
              "      <td>NaN</td>\n",
              "      <td>NaN</td>\n",
              "      <td>NaN</td>\n",
              "    </tr>\n",
              "    <tr>\n",
              "      <th>439</th>\n",
              "      <td>670964956</td>\n",
              "      <td>False</td>\n",
              "      <td>finalized</td>\n",
              "      <td>3</td>\n",
              "      <td>2/10/15 2:01</td>\n",
              "      <td>Laurel, Ne</td>\n",
              "      <td>1.0</td>\n",
              "      <td>31-Aug-28</td>\n",
              "      <td>1.0</td>\n",
              "      <td>White</td>\n",
              "      <td>1.0</td>\n",
              "      <td>Na</td>\n",
              "      <td>1.0</td>\n",
              "      <td>Straight</td>\n",
              "      <td>1.0000</td>\n",
              "      <td>1999</td>\n",
              "      <td>1.0000</td>\n",
              "      <td>Best Supporting Actor</td>\n",
              "      <td>http://www.nndb.com/people/764/000022698/</td>\n",
              "      <td>NaN</td>\n",
              "      <td>NaN</td>\n",
              "      <td>Affliction</td>\n",
              "      <td>James Coburn</td>\n",
              "      <td>NaN</td>\n",
              "      <td>NaN</td>\n",
              "      <td>NaN</td>\n",
              "      <td>NaN</td>\n",
              "    </tr>\n",
              "    <tr>\n",
              "      <th>440</th>\n",
              "      <td>670972898</td>\n",
              "      <td>False</td>\n",
              "      <td>finalized</td>\n",
              "      <td>3</td>\n",
              "      <td>2/10/15 2:01</td>\n",
              "      <td>Nevada, Mo</td>\n",
              "      <td>1.0</td>\n",
              "      <td>5-Aug-06</td>\n",
              "      <td>1.0</td>\n",
              "      <td>White</td>\n",
              "      <td>1.0</td>\n",
              "      <td>Na</td>\n",
              "      <td>1.0</td>\n",
              "      <td>Straight</td>\n",
              "      <td>1.0000</td>\n",
              "      <td>1949</td>\n",
              "      <td>1.0000</td>\n",
              "      <td>Best Director</td>\n",
              "      <td>http://www.nndb.com/people/704/000024632/</td>\n",
              "      <td>NaN</td>\n",
              "      <td>NaN</td>\n",
              "      <td>The Treasure of the Sierra Madre</td>\n",
              "      <td>John Huston</td>\n",
              "      <td>NaN</td>\n",
              "      <td>NaN</td>\n",
              "      <td>NaN</td>\n",
              "      <td>NaN</td>\n",
              "    </tr>\n",
              "  </tbody>\n",
              "</table>\n",
              "<p>441 rows × 27 columns</p>\n",
              "</div>"
            ],
            "text/plain": [
              "       unit_id  golden  ... sexual_orientation_gold  year_of_award_gold\n",
              "0    670454353   False  ...                     NaN                 NaN\n",
              "1    670454354   False  ...                     NaN                 NaN\n",
              "2    670454355   False  ...                     NaN                 NaN\n",
              "3    670454356   False  ...                     NaN                 NaN\n",
              "4    670454357   False  ...                     NaN                 NaN\n",
              "..         ...     ...  ...                     ...                 ...\n",
              "436  670946276   False  ...                     NaN                 NaN\n",
              "437  670946299   False  ...                     NaN                 NaN\n",
              "438  670964912   False  ...                     NaN                 NaN\n",
              "439  670964956   False  ...                     NaN                 NaN\n",
              "440  670972898   False  ...                     NaN                 NaN\n",
              "\n",
              "[441 rows x 27 columns]"
            ]
          },
          "metadata": {
            "tags": []
          },
          "execution_count": 100
        }
      ]
    },
    {
      "cell_type": "markdown",
      "metadata": {
        "id": "b9LyaC5yFSew",
        "colab_type": "text"
      },
      "source": [
        "### Creating and Deleting Columns in a DataFrame\n"
      ]
    },
    {
      "cell_type": "code",
      "metadata": {
        "id": "MAwL_SkmFSex",
        "colab_type": "code",
        "outputId": "d4ad4b43-d5e0-472b-cf7e-3f5153028fdd",
        "colab": {
          "base_uri": "https://localhost:8080/",
          "height": 641
        }
      },
      "source": [
        "# We can easily create a new column by assigning values to it:\n",
        "oscars_short['last_ten_years']=0\n",
        "oscars_short"
      ],
      "execution_count": 0,
      "outputs": [
        {
          "output_type": "execute_result",
          "data": {
            "text/html": [
              "<div>\n",
              "<style scoped>\n",
              "    .dataframe tbody tr th:only-of-type {\n",
              "        vertical-align: middle;\n",
              "    }\n",
              "\n",
              "    .dataframe tbody tr th {\n",
              "        vertical-align: top;\n",
              "    }\n",
              "\n",
              "    .dataframe thead th {\n",
              "        text-align: right;\n",
              "    }\n",
              "</style>\n",
              "<table border=\"1\" class=\"dataframe\">\n",
              "  <thead>\n",
              "    <tr style=\"text-align: right;\">\n",
              "      <th></th>\n",
              "      <th>birthplace</th>\n",
              "      <th>date_of_birth</th>\n",
              "      <th>race_ethnicity</th>\n",
              "      <th>religion</th>\n",
              "      <th>sexual_orientation</th>\n",
              "      <th>year_of_award</th>\n",
              "      <th>award</th>\n",
              "      <th>movie</th>\n",
              "      <th>person</th>\n",
              "      <th>last_ten_years</th>\n",
              "    </tr>\n",
              "  </thead>\n",
              "  <tbody>\n",
              "    <tr>\n",
              "      <th>0</th>\n",
              "      <td>Chisinau, Moldova</td>\n",
              "      <td>30-Sep-1895</td>\n",
              "      <td>White</td>\n",
              "      <td>Na</td>\n",
              "      <td>Straight</td>\n",
              "      <td>1927</td>\n",
              "      <td>Best Director</td>\n",
              "      <td>Two Arabian Knights</td>\n",
              "      <td>Lewis Milestone</td>\n",
              "      <td>0</td>\n",
              "    </tr>\n",
              "    <tr>\n",
              "      <th>1</th>\n",
              "      <td>Glasgow, Scotland</td>\n",
              "      <td>2-Feb-1886</td>\n",
              "      <td>White</td>\n",
              "      <td>Na</td>\n",
              "      <td>Straight</td>\n",
              "      <td>1930</td>\n",
              "      <td>Best Director</td>\n",
              "      <td>The Divine Lady</td>\n",
              "      <td>Frank Lloyd</td>\n",
              "      <td>0</td>\n",
              "    </tr>\n",
              "    <tr>\n",
              "      <th>2</th>\n",
              "      <td>Chisinau, Moldova</td>\n",
              "      <td>30-Sep-1895</td>\n",
              "      <td>White</td>\n",
              "      <td>Na</td>\n",
              "      <td>Straight</td>\n",
              "      <td>1931</td>\n",
              "      <td>Best Director</td>\n",
              "      <td>All Quiet on the Western Front</td>\n",
              "      <td>Lewis Milestone</td>\n",
              "      <td>0</td>\n",
              "    </tr>\n",
              "    <tr>\n",
              "      <th>3</th>\n",
              "      <td>Chicago, Il</td>\n",
              "      <td>23-Feb-1899</td>\n",
              "      <td>White</td>\n",
              "      <td>Na</td>\n",
              "      <td>Straight</td>\n",
              "      <td>1932</td>\n",
              "      <td>Best Director</td>\n",
              "      <td>Skippy</td>\n",
              "      <td>Norman Taurog</td>\n",
              "      <td>0</td>\n",
              "    </tr>\n",
              "    <tr>\n",
              "      <th>4</th>\n",
              "      <td>Salt Lake City, Ut</td>\n",
              "      <td>23-Apr-1894</td>\n",
              "      <td>White</td>\n",
              "      <td>Roman Catholic</td>\n",
              "      <td>Straight</td>\n",
              "      <td>1933</td>\n",
              "      <td>Best Director</td>\n",
              "      <td>Bad Girl</td>\n",
              "      <td>Frank Borzage</td>\n",
              "      <td>0</td>\n",
              "    </tr>\n",
              "    <tr>\n",
              "      <th>...</th>\n",
              "      <td>...</td>\n",
              "      <td>...</td>\n",
              "      <td>...</td>\n",
              "      <td>...</td>\n",
              "      <td>...</td>\n",
              "      <td>...</td>\n",
              "      <td>...</td>\n",
              "      <td>...</td>\n",
              "      <td>...</td>\n",
              "      <td>...</td>\n",
              "    </tr>\n",
              "    <tr>\n",
              "      <th>436</th>\n",
              "      <td>London, England</td>\n",
              "      <td>7-Mar-71</td>\n",
              "      <td>White</td>\n",
              "      <td>Jewish</td>\n",
              "      <td>Straight</td>\n",
              "      <td>2006</td>\n",
              "      <td>Best Supporting Actress</td>\n",
              "      <td>The Constant Gardener</td>\n",
              "      <td>Rachel Weisz</td>\n",
              "      <td>0</td>\n",
              "    </tr>\n",
              "    <tr>\n",
              "      <th>437</th>\n",
              "      <td>Manchester, England</td>\n",
              "      <td>20-Oct-56</td>\n",
              "      <td>White</td>\n",
              "      <td>Roman Catholic</td>\n",
              "      <td>Straight</td>\n",
              "      <td>2009</td>\n",
              "      <td>Best Director</td>\n",
              "      <td>Slumdog Millionaire</td>\n",
              "      <td>Danny Boyle</td>\n",
              "      <td>0</td>\n",
              "    </tr>\n",
              "    <tr>\n",
              "      <th>438</th>\n",
              "      <td>Chicago, Il</td>\n",
              "      <td>26-Jul-22</td>\n",
              "      <td>White</td>\n",
              "      <td>Na</td>\n",
              "      <td>Straight</td>\n",
              "      <td>1977</td>\n",
              "      <td>Best Supporting Actor</td>\n",
              "      <td>All the President's Men</td>\n",
              "      <td>Jason Robards</td>\n",
              "      <td>0</td>\n",
              "    </tr>\n",
              "    <tr>\n",
              "      <th>439</th>\n",
              "      <td>Laurel, Ne</td>\n",
              "      <td>31-Aug-28</td>\n",
              "      <td>White</td>\n",
              "      <td>Na</td>\n",
              "      <td>Straight</td>\n",
              "      <td>1999</td>\n",
              "      <td>Best Supporting Actor</td>\n",
              "      <td>Affliction</td>\n",
              "      <td>James Coburn</td>\n",
              "      <td>0</td>\n",
              "    </tr>\n",
              "    <tr>\n",
              "      <th>440</th>\n",
              "      <td>Nevada, Mo</td>\n",
              "      <td>5-Aug-06</td>\n",
              "      <td>White</td>\n",
              "      <td>Na</td>\n",
              "      <td>Straight</td>\n",
              "      <td>1949</td>\n",
              "      <td>Best Director</td>\n",
              "      <td>The Treasure of the Sierra Madre</td>\n",
              "      <td>John Huston</td>\n",
              "      <td>0</td>\n",
              "    </tr>\n",
              "  </tbody>\n",
              "</table>\n",
              "<p>441 rows × 10 columns</p>\n",
              "</div>"
            ],
            "text/plain": [
              "              birthplace date_of_birth  ...           person last_ten_years\n",
              "0      Chisinau, Moldova   30-Sep-1895  ...  Lewis Milestone              0\n",
              "1      Glasgow, Scotland    2-Feb-1886  ...      Frank Lloyd              0\n",
              "2      Chisinau, Moldova   30-Sep-1895  ...  Lewis Milestone              0\n",
              "3            Chicago, Il   23-Feb-1899  ...    Norman Taurog              0\n",
              "4     Salt Lake City, Ut   23-Apr-1894  ...    Frank Borzage              0\n",
              "..                   ...           ...  ...              ...            ...\n",
              "436      London, England      7-Mar-71  ...     Rachel Weisz              0\n",
              "437  Manchester, England     20-Oct-56  ...      Danny Boyle              0\n",
              "438          Chicago, Il     26-Jul-22  ...    Jason Robards              0\n",
              "439           Laurel, Ne     31-Aug-28  ...     James Coburn              0\n",
              "440           Nevada, Mo      5-Aug-06  ...      John Huston              0\n",
              "\n",
              "[441 rows x 10 columns]"
            ]
          },
          "metadata": {
            "tags": []
          },
          "execution_count": 101
        }
      ]
    },
    {
      "cell_type": "code",
      "metadata": {
        "id": "tHJ4roPOFSez",
        "colab_type": "code",
        "outputId": "39881aa8-11c2-4a9b-8996-bf44051e10e6",
        "colab": {
          "base_uri": "https://localhost:8080/",
          "height": 641
        }
      },
      "source": [
        "oscars_short['last_ten_years']=oscars_short['year_of_award']>2009\n",
        "oscars_short"
      ],
      "execution_count": 0,
      "outputs": [
        {
          "output_type": "execute_result",
          "data": {
            "text/html": [
              "<div>\n",
              "<style scoped>\n",
              "    .dataframe tbody tr th:only-of-type {\n",
              "        vertical-align: middle;\n",
              "    }\n",
              "\n",
              "    .dataframe tbody tr th {\n",
              "        vertical-align: top;\n",
              "    }\n",
              "\n",
              "    .dataframe thead th {\n",
              "        text-align: right;\n",
              "    }\n",
              "</style>\n",
              "<table border=\"1\" class=\"dataframe\">\n",
              "  <thead>\n",
              "    <tr style=\"text-align: right;\">\n",
              "      <th></th>\n",
              "      <th>birthplace</th>\n",
              "      <th>date_of_birth</th>\n",
              "      <th>race_ethnicity</th>\n",
              "      <th>religion</th>\n",
              "      <th>sexual_orientation</th>\n",
              "      <th>year_of_award</th>\n",
              "      <th>award</th>\n",
              "      <th>movie</th>\n",
              "      <th>person</th>\n",
              "      <th>last_ten_years</th>\n",
              "    </tr>\n",
              "  </thead>\n",
              "  <tbody>\n",
              "    <tr>\n",
              "      <th>0</th>\n",
              "      <td>Chisinau, Moldova</td>\n",
              "      <td>30-Sep-1895</td>\n",
              "      <td>White</td>\n",
              "      <td>Na</td>\n",
              "      <td>Straight</td>\n",
              "      <td>1927</td>\n",
              "      <td>Best Director</td>\n",
              "      <td>Two Arabian Knights</td>\n",
              "      <td>Lewis Milestone</td>\n",
              "      <td>False</td>\n",
              "    </tr>\n",
              "    <tr>\n",
              "      <th>1</th>\n",
              "      <td>Glasgow, Scotland</td>\n",
              "      <td>2-Feb-1886</td>\n",
              "      <td>White</td>\n",
              "      <td>Na</td>\n",
              "      <td>Straight</td>\n",
              "      <td>1930</td>\n",
              "      <td>Best Director</td>\n",
              "      <td>The Divine Lady</td>\n",
              "      <td>Frank Lloyd</td>\n",
              "      <td>False</td>\n",
              "    </tr>\n",
              "    <tr>\n",
              "      <th>2</th>\n",
              "      <td>Chisinau, Moldova</td>\n",
              "      <td>30-Sep-1895</td>\n",
              "      <td>White</td>\n",
              "      <td>Na</td>\n",
              "      <td>Straight</td>\n",
              "      <td>1931</td>\n",
              "      <td>Best Director</td>\n",
              "      <td>All Quiet on the Western Front</td>\n",
              "      <td>Lewis Milestone</td>\n",
              "      <td>False</td>\n",
              "    </tr>\n",
              "    <tr>\n",
              "      <th>3</th>\n",
              "      <td>Chicago, Il</td>\n",
              "      <td>23-Feb-1899</td>\n",
              "      <td>White</td>\n",
              "      <td>Na</td>\n",
              "      <td>Straight</td>\n",
              "      <td>1932</td>\n",
              "      <td>Best Director</td>\n",
              "      <td>Skippy</td>\n",
              "      <td>Norman Taurog</td>\n",
              "      <td>False</td>\n",
              "    </tr>\n",
              "    <tr>\n",
              "      <th>4</th>\n",
              "      <td>Salt Lake City, Ut</td>\n",
              "      <td>23-Apr-1894</td>\n",
              "      <td>White</td>\n",
              "      <td>Roman Catholic</td>\n",
              "      <td>Straight</td>\n",
              "      <td>1933</td>\n",
              "      <td>Best Director</td>\n",
              "      <td>Bad Girl</td>\n",
              "      <td>Frank Borzage</td>\n",
              "      <td>False</td>\n",
              "    </tr>\n",
              "    <tr>\n",
              "      <th>...</th>\n",
              "      <td>...</td>\n",
              "      <td>...</td>\n",
              "      <td>...</td>\n",
              "      <td>...</td>\n",
              "      <td>...</td>\n",
              "      <td>...</td>\n",
              "      <td>...</td>\n",
              "      <td>...</td>\n",
              "      <td>...</td>\n",
              "      <td>...</td>\n",
              "    </tr>\n",
              "    <tr>\n",
              "      <th>436</th>\n",
              "      <td>London, England</td>\n",
              "      <td>7-Mar-71</td>\n",
              "      <td>White</td>\n",
              "      <td>Jewish</td>\n",
              "      <td>Straight</td>\n",
              "      <td>2006</td>\n",
              "      <td>Best Supporting Actress</td>\n",
              "      <td>The Constant Gardener</td>\n",
              "      <td>Rachel Weisz</td>\n",
              "      <td>False</td>\n",
              "    </tr>\n",
              "    <tr>\n",
              "      <th>437</th>\n",
              "      <td>Manchester, England</td>\n",
              "      <td>20-Oct-56</td>\n",
              "      <td>White</td>\n",
              "      <td>Roman Catholic</td>\n",
              "      <td>Straight</td>\n",
              "      <td>2009</td>\n",
              "      <td>Best Director</td>\n",
              "      <td>Slumdog Millionaire</td>\n",
              "      <td>Danny Boyle</td>\n",
              "      <td>False</td>\n",
              "    </tr>\n",
              "    <tr>\n",
              "      <th>438</th>\n",
              "      <td>Chicago, Il</td>\n",
              "      <td>26-Jul-22</td>\n",
              "      <td>White</td>\n",
              "      <td>Na</td>\n",
              "      <td>Straight</td>\n",
              "      <td>1977</td>\n",
              "      <td>Best Supporting Actor</td>\n",
              "      <td>All the President's Men</td>\n",
              "      <td>Jason Robards</td>\n",
              "      <td>False</td>\n",
              "    </tr>\n",
              "    <tr>\n",
              "      <th>439</th>\n",
              "      <td>Laurel, Ne</td>\n",
              "      <td>31-Aug-28</td>\n",
              "      <td>White</td>\n",
              "      <td>Na</td>\n",
              "      <td>Straight</td>\n",
              "      <td>1999</td>\n",
              "      <td>Best Supporting Actor</td>\n",
              "      <td>Affliction</td>\n",
              "      <td>James Coburn</td>\n",
              "      <td>False</td>\n",
              "    </tr>\n",
              "    <tr>\n",
              "      <th>440</th>\n",
              "      <td>Nevada, Mo</td>\n",
              "      <td>5-Aug-06</td>\n",
              "      <td>White</td>\n",
              "      <td>Na</td>\n",
              "      <td>Straight</td>\n",
              "      <td>1949</td>\n",
              "      <td>Best Director</td>\n",
              "      <td>The Treasure of the Sierra Madre</td>\n",
              "      <td>John Huston</td>\n",
              "      <td>False</td>\n",
              "    </tr>\n",
              "  </tbody>\n",
              "</table>\n",
              "<p>441 rows × 10 columns</p>\n",
              "</div>"
            ],
            "text/plain": [
              "              birthplace date_of_birth  ...           person last_ten_years\n",
              "0      Chisinau, Moldova   30-Sep-1895  ...  Lewis Milestone          False\n",
              "1      Glasgow, Scotland    2-Feb-1886  ...      Frank Lloyd          False\n",
              "2      Chisinau, Moldova   30-Sep-1895  ...  Lewis Milestone          False\n",
              "3            Chicago, Il   23-Feb-1899  ...    Norman Taurog          False\n",
              "4     Salt Lake City, Ut   23-Apr-1894  ...    Frank Borzage          False\n",
              "..                   ...           ...  ...              ...            ...\n",
              "436      London, England      7-Mar-71  ...     Rachel Weisz          False\n",
              "437  Manchester, England     20-Oct-56  ...      Danny Boyle          False\n",
              "438          Chicago, Il     26-Jul-22  ...    Jason Robards          False\n",
              "439           Laurel, Ne     31-Aug-28  ...     James Coburn          False\n",
              "440           Nevada, Mo      5-Aug-06  ...      John Huston          False\n",
              "\n",
              "[441 rows x 10 columns]"
            ]
          },
          "metadata": {
            "tags": []
          },
          "execution_count": 102
        }
      ]
    },
    {
      "cell_type": "code",
      "metadata": {
        "id": "0qRMRyI7FSe2",
        "colab_type": "code",
        "outputId": "5463f07f-7085-4922-aa09-187c3f7cf2dc",
        "colab": {
          "base_uri": "https://localhost:8080/",
          "height": 69
        }
      },
      "source": [
        "oscars_short['last_ten_years'].value_counts()"
      ],
      "execution_count": 0,
      "outputs": [
        {
          "output_type": "execute_result",
          "data": {
            "text/plain": [
              "False    417\n",
              "True      24\n",
              "Name: last_ten_years, dtype: int64"
            ]
          },
          "metadata": {
            "tags": []
          },
          "execution_count": 103
        }
      ]
    },
    {
      "cell_type": "code",
      "metadata": {
        "id": "qCvTkKoAFSe4",
        "colab_type": "code",
        "outputId": "cbe5c45a-009b-4357-9059-b731b8d3b58d",
        "colab": {
          "base_uri": "https://localhost:8080/",
          "height": 589
        }
      },
      "source": [
        "#If we want to delete the column we just created:\n",
        "oscars_short.drop(columns='last_ten_years',inplace=True)\n",
        "oscars_short"
      ],
      "execution_count": 0,
      "outputs": [
        {
          "output_type": "execute_result",
          "data": {
            "text/html": [
              "<div>\n",
              "<style scoped>\n",
              "    .dataframe tbody tr th:only-of-type {\n",
              "        vertical-align: middle;\n",
              "    }\n",
              "\n",
              "    .dataframe tbody tr th {\n",
              "        vertical-align: top;\n",
              "    }\n",
              "\n",
              "    .dataframe thead th {\n",
              "        text-align: right;\n",
              "    }\n",
              "</style>\n",
              "<table border=\"1\" class=\"dataframe\">\n",
              "  <thead>\n",
              "    <tr style=\"text-align: right;\">\n",
              "      <th></th>\n",
              "      <th>birthplace</th>\n",
              "      <th>date_of_birth</th>\n",
              "      <th>race_ethnicity</th>\n",
              "      <th>religion</th>\n",
              "      <th>sexual_orientation</th>\n",
              "      <th>year_of_award</th>\n",
              "      <th>award</th>\n",
              "      <th>movie</th>\n",
              "      <th>person</th>\n",
              "    </tr>\n",
              "  </thead>\n",
              "  <tbody>\n",
              "    <tr>\n",
              "      <th>0</th>\n",
              "      <td>Chisinau, Moldova</td>\n",
              "      <td>30-Sep-1895</td>\n",
              "      <td>White</td>\n",
              "      <td>Na</td>\n",
              "      <td>Straight</td>\n",
              "      <td>1927</td>\n",
              "      <td>Best Director</td>\n",
              "      <td>Two Arabian Knights</td>\n",
              "      <td>Lewis Milestone</td>\n",
              "    </tr>\n",
              "    <tr>\n",
              "      <th>1</th>\n",
              "      <td>Glasgow, Scotland</td>\n",
              "      <td>2-Feb-1886</td>\n",
              "      <td>White</td>\n",
              "      <td>Na</td>\n",
              "      <td>Straight</td>\n",
              "      <td>1930</td>\n",
              "      <td>Best Director</td>\n",
              "      <td>The Divine Lady</td>\n",
              "      <td>Frank Lloyd</td>\n",
              "    </tr>\n",
              "    <tr>\n",
              "      <th>2</th>\n",
              "      <td>Chisinau, Moldova</td>\n",
              "      <td>30-Sep-1895</td>\n",
              "      <td>White</td>\n",
              "      <td>Na</td>\n",
              "      <td>Straight</td>\n",
              "      <td>1931</td>\n",
              "      <td>Best Director</td>\n",
              "      <td>All Quiet on the Western Front</td>\n",
              "      <td>Lewis Milestone</td>\n",
              "    </tr>\n",
              "    <tr>\n",
              "      <th>3</th>\n",
              "      <td>Chicago, Il</td>\n",
              "      <td>23-Feb-1899</td>\n",
              "      <td>White</td>\n",
              "      <td>Na</td>\n",
              "      <td>Straight</td>\n",
              "      <td>1932</td>\n",
              "      <td>Best Director</td>\n",
              "      <td>Skippy</td>\n",
              "      <td>Norman Taurog</td>\n",
              "    </tr>\n",
              "    <tr>\n",
              "      <th>4</th>\n",
              "      <td>Salt Lake City, Ut</td>\n",
              "      <td>23-Apr-1894</td>\n",
              "      <td>White</td>\n",
              "      <td>Roman Catholic</td>\n",
              "      <td>Straight</td>\n",
              "      <td>1933</td>\n",
              "      <td>Best Director</td>\n",
              "      <td>Bad Girl</td>\n",
              "      <td>Frank Borzage</td>\n",
              "    </tr>\n",
              "    <tr>\n",
              "      <th>...</th>\n",
              "      <td>...</td>\n",
              "      <td>...</td>\n",
              "      <td>...</td>\n",
              "      <td>...</td>\n",
              "      <td>...</td>\n",
              "      <td>...</td>\n",
              "      <td>...</td>\n",
              "      <td>...</td>\n",
              "      <td>...</td>\n",
              "    </tr>\n",
              "    <tr>\n",
              "      <th>436</th>\n",
              "      <td>London, England</td>\n",
              "      <td>7-Mar-71</td>\n",
              "      <td>White</td>\n",
              "      <td>Jewish</td>\n",
              "      <td>Straight</td>\n",
              "      <td>2006</td>\n",
              "      <td>Best Supporting Actress</td>\n",
              "      <td>The Constant Gardener</td>\n",
              "      <td>Rachel Weisz</td>\n",
              "    </tr>\n",
              "    <tr>\n",
              "      <th>437</th>\n",
              "      <td>Manchester, England</td>\n",
              "      <td>20-Oct-56</td>\n",
              "      <td>White</td>\n",
              "      <td>Roman Catholic</td>\n",
              "      <td>Straight</td>\n",
              "      <td>2009</td>\n",
              "      <td>Best Director</td>\n",
              "      <td>Slumdog Millionaire</td>\n",
              "      <td>Danny Boyle</td>\n",
              "    </tr>\n",
              "    <tr>\n",
              "      <th>438</th>\n",
              "      <td>Chicago, Il</td>\n",
              "      <td>26-Jul-22</td>\n",
              "      <td>White</td>\n",
              "      <td>Na</td>\n",
              "      <td>Straight</td>\n",
              "      <td>1977</td>\n",
              "      <td>Best Supporting Actor</td>\n",
              "      <td>All the President's Men</td>\n",
              "      <td>Jason Robards</td>\n",
              "    </tr>\n",
              "    <tr>\n",
              "      <th>439</th>\n",
              "      <td>Laurel, Ne</td>\n",
              "      <td>31-Aug-28</td>\n",
              "      <td>White</td>\n",
              "      <td>Na</td>\n",
              "      <td>Straight</td>\n",
              "      <td>1999</td>\n",
              "      <td>Best Supporting Actor</td>\n",
              "      <td>Affliction</td>\n",
              "      <td>James Coburn</td>\n",
              "    </tr>\n",
              "    <tr>\n",
              "      <th>440</th>\n",
              "      <td>Nevada, Mo</td>\n",
              "      <td>5-Aug-06</td>\n",
              "      <td>White</td>\n",
              "      <td>Na</td>\n",
              "      <td>Straight</td>\n",
              "      <td>1949</td>\n",
              "      <td>Best Director</td>\n",
              "      <td>The Treasure of the Sierra Madre</td>\n",
              "      <td>John Huston</td>\n",
              "    </tr>\n",
              "  </tbody>\n",
              "</table>\n",
              "<p>441 rows × 9 columns</p>\n",
              "</div>"
            ],
            "text/plain": [
              "              birthplace  ...           person\n",
              "0      Chisinau, Moldova  ...  Lewis Milestone\n",
              "1      Glasgow, Scotland  ...      Frank Lloyd\n",
              "2      Chisinau, Moldova  ...  Lewis Milestone\n",
              "3            Chicago, Il  ...    Norman Taurog\n",
              "4     Salt Lake City, Ut  ...    Frank Borzage\n",
              "..                   ...  ...              ...\n",
              "436      London, England  ...     Rachel Weisz\n",
              "437  Manchester, England  ...      Danny Boyle\n",
              "438          Chicago, Il  ...    Jason Robards\n",
              "439           Laurel, Ne  ...     James Coburn\n",
              "440           Nevada, Mo  ...      John Huston\n",
              "\n",
              "[441 rows x 9 columns]"
            ]
          },
          "metadata": {
            "tags": []
          },
          "execution_count": 104
        }
      ]
    },
    {
      "cell_type": "markdown",
      "metadata": {
        "id": "pPryskv7FSe5",
        "colab_type": "text"
      },
      "source": [
        "If we want to add a column, but in a specific possition, we need to indicate that possition.\n",
        "Let´s add the column before the review_count. To do that we calculate the possition of the review_count and calulate it +1"
      ]
    },
    {
      "cell_type": "code",
      "metadata": {
        "id": "09rPAmg1FSe5",
        "colab_type": "code",
        "outputId": "9e0c8a11-83f4-489c-d625-6adeba70dc5b",
        "colab": {
          "base_uri": "https://localhost:8080/",
          "height": 35
        }
      },
      "source": [
        "date_of_birth_position=oscars_short.columns.get_loc('date_of_birth')+1\n",
        "date_of_birth_position"
      ],
      "execution_count": 0,
      "outputs": [
        {
          "output_type": "execute_result",
          "data": {
            "text/plain": [
              "2"
            ]
          },
          "metadata": {
            "tags": []
          },
          "execution_count": 105
        }
      ]
    },
    {
      "cell_type": "code",
      "metadata": {
        "id": "wDFOnVubFSe7",
        "colab_type": "code",
        "outputId": "147a53ac-6ba7-4b04-c0c8-458af268366a",
        "colab": {
          "base_uri": "https://localhost:8080/",
          "height": 641
        }
      },
      "source": [
        "oscars_short.insert(loc=date_of_birth_position, column='last_ten_years', value=(oscars_short['year_of_award']>2009))\n",
        "oscars_short"
      ],
      "execution_count": 0,
      "outputs": [
        {
          "output_type": "execute_result",
          "data": {
            "text/html": [
              "<div>\n",
              "<style scoped>\n",
              "    .dataframe tbody tr th:only-of-type {\n",
              "        vertical-align: middle;\n",
              "    }\n",
              "\n",
              "    .dataframe tbody tr th {\n",
              "        vertical-align: top;\n",
              "    }\n",
              "\n",
              "    .dataframe thead th {\n",
              "        text-align: right;\n",
              "    }\n",
              "</style>\n",
              "<table border=\"1\" class=\"dataframe\">\n",
              "  <thead>\n",
              "    <tr style=\"text-align: right;\">\n",
              "      <th></th>\n",
              "      <th>birthplace</th>\n",
              "      <th>date_of_birth</th>\n",
              "      <th>last_ten_years</th>\n",
              "      <th>race_ethnicity</th>\n",
              "      <th>religion</th>\n",
              "      <th>sexual_orientation</th>\n",
              "      <th>year_of_award</th>\n",
              "      <th>award</th>\n",
              "      <th>movie</th>\n",
              "      <th>person</th>\n",
              "    </tr>\n",
              "  </thead>\n",
              "  <tbody>\n",
              "    <tr>\n",
              "      <th>0</th>\n",
              "      <td>Chisinau, Moldova</td>\n",
              "      <td>30-Sep-1895</td>\n",
              "      <td>False</td>\n",
              "      <td>White</td>\n",
              "      <td>Na</td>\n",
              "      <td>Straight</td>\n",
              "      <td>1927</td>\n",
              "      <td>Best Director</td>\n",
              "      <td>Two Arabian Knights</td>\n",
              "      <td>Lewis Milestone</td>\n",
              "    </tr>\n",
              "    <tr>\n",
              "      <th>1</th>\n",
              "      <td>Glasgow, Scotland</td>\n",
              "      <td>2-Feb-1886</td>\n",
              "      <td>False</td>\n",
              "      <td>White</td>\n",
              "      <td>Na</td>\n",
              "      <td>Straight</td>\n",
              "      <td>1930</td>\n",
              "      <td>Best Director</td>\n",
              "      <td>The Divine Lady</td>\n",
              "      <td>Frank Lloyd</td>\n",
              "    </tr>\n",
              "    <tr>\n",
              "      <th>2</th>\n",
              "      <td>Chisinau, Moldova</td>\n",
              "      <td>30-Sep-1895</td>\n",
              "      <td>False</td>\n",
              "      <td>White</td>\n",
              "      <td>Na</td>\n",
              "      <td>Straight</td>\n",
              "      <td>1931</td>\n",
              "      <td>Best Director</td>\n",
              "      <td>All Quiet on the Western Front</td>\n",
              "      <td>Lewis Milestone</td>\n",
              "    </tr>\n",
              "    <tr>\n",
              "      <th>3</th>\n",
              "      <td>Chicago, Il</td>\n",
              "      <td>23-Feb-1899</td>\n",
              "      <td>False</td>\n",
              "      <td>White</td>\n",
              "      <td>Na</td>\n",
              "      <td>Straight</td>\n",
              "      <td>1932</td>\n",
              "      <td>Best Director</td>\n",
              "      <td>Skippy</td>\n",
              "      <td>Norman Taurog</td>\n",
              "    </tr>\n",
              "    <tr>\n",
              "      <th>4</th>\n",
              "      <td>Salt Lake City, Ut</td>\n",
              "      <td>23-Apr-1894</td>\n",
              "      <td>False</td>\n",
              "      <td>White</td>\n",
              "      <td>Roman Catholic</td>\n",
              "      <td>Straight</td>\n",
              "      <td>1933</td>\n",
              "      <td>Best Director</td>\n",
              "      <td>Bad Girl</td>\n",
              "      <td>Frank Borzage</td>\n",
              "    </tr>\n",
              "    <tr>\n",
              "      <th>...</th>\n",
              "      <td>...</td>\n",
              "      <td>...</td>\n",
              "      <td>...</td>\n",
              "      <td>...</td>\n",
              "      <td>...</td>\n",
              "      <td>...</td>\n",
              "      <td>...</td>\n",
              "      <td>...</td>\n",
              "      <td>...</td>\n",
              "      <td>...</td>\n",
              "    </tr>\n",
              "    <tr>\n",
              "      <th>436</th>\n",
              "      <td>London, England</td>\n",
              "      <td>7-Mar-71</td>\n",
              "      <td>False</td>\n",
              "      <td>White</td>\n",
              "      <td>Jewish</td>\n",
              "      <td>Straight</td>\n",
              "      <td>2006</td>\n",
              "      <td>Best Supporting Actress</td>\n",
              "      <td>The Constant Gardener</td>\n",
              "      <td>Rachel Weisz</td>\n",
              "    </tr>\n",
              "    <tr>\n",
              "      <th>437</th>\n",
              "      <td>Manchester, England</td>\n",
              "      <td>20-Oct-56</td>\n",
              "      <td>False</td>\n",
              "      <td>White</td>\n",
              "      <td>Roman Catholic</td>\n",
              "      <td>Straight</td>\n",
              "      <td>2009</td>\n",
              "      <td>Best Director</td>\n",
              "      <td>Slumdog Millionaire</td>\n",
              "      <td>Danny Boyle</td>\n",
              "    </tr>\n",
              "    <tr>\n",
              "      <th>438</th>\n",
              "      <td>Chicago, Il</td>\n",
              "      <td>26-Jul-22</td>\n",
              "      <td>False</td>\n",
              "      <td>White</td>\n",
              "      <td>Na</td>\n",
              "      <td>Straight</td>\n",
              "      <td>1977</td>\n",
              "      <td>Best Supporting Actor</td>\n",
              "      <td>All the President's Men</td>\n",
              "      <td>Jason Robards</td>\n",
              "    </tr>\n",
              "    <tr>\n",
              "      <th>439</th>\n",
              "      <td>Laurel, Ne</td>\n",
              "      <td>31-Aug-28</td>\n",
              "      <td>False</td>\n",
              "      <td>White</td>\n",
              "      <td>Na</td>\n",
              "      <td>Straight</td>\n",
              "      <td>1999</td>\n",
              "      <td>Best Supporting Actor</td>\n",
              "      <td>Affliction</td>\n",
              "      <td>James Coburn</td>\n",
              "    </tr>\n",
              "    <tr>\n",
              "      <th>440</th>\n",
              "      <td>Nevada, Mo</td>\n",
              "      <td>5-Aug-06</td>\n",
              "      <td>False</td>\n",
              "      <td>White</td>\n",
              "      <td>Na</td>\n",
              "      <td>Straight</td>\n",
              "      <td>1949</td>\n",
              "      <td>Best Director</td>\n",
              "      <td>The Treasure of the Sierra Madre</td>\n",
              "      <td>John Huston</td>\n",
              "    </tr>\n",
              "  </tbody>\n",
              "</table>\n",
              "<p>441 rows × 10 columns</p>\n",
              "</div>"
            ],
            "text/plain": [
              "              birthplace  ...           person\n",
              "0      Chisinau, Moldova  ...  Lewis Milestone\n",
              "1      Glasgow, Scotland  ...      Frank Lloyd\n",
              "2      Chisinau, Moldova  ...  Lewis Milestone\n",
              "3            Chicago, Il  ...    Norman Taurog\n",
              "4     Salt Lake City, Ut  ...    Frank Borzage\n",
              "..                   ...  ...              ...\n",
              "436      London, England  ...     Rachel Weisz\n",
              "437  Manchester, England  ...      Danny Boyle\n",
              "438          Chicago, Il  ...    Jason Robards\n",
              "439           Laurel, Ne  ...     James Coburn\n",
              "440           Nevada, Mo  ...      John Huston\n",
              "\n",
              "[441 rows x 10 columns]"
            ]
          },
          "metadata": {
            "tags": []
          },
          "execution_count": 106
        }
      ]
    },
    {
      "cell_type": "code",
      "metadata": {
        "id": "kI5C54gWFSe9",
        "colab_type": "code",
        "outputId": "65807cac-893a-4448-dcd0-ea354d4772e4",
        "colab": {
          "base_uri": "https://localhost:8080/",
          "height": 589
        }
      },
      "source": [
        "del oscars_short['last_ten_years']\n",
        "oscars_short"
      ],
      "execution_count": 0,
      "outputs": [
        {
          "output_type": "execute_result",
          "data": {
            "text/html": [
              "<div>\n",
              "<style scoped>\n",
              "    .dataframe tbody tr th:only-of-type {\n",
              "        vertical-align: middle;\n",
              "    }\n",
              "\n",
              "    .dataframe tbody tr th {\n",
              "        vertical-align: top;\n",
              "    }\n",
              "\n",
              "    .dataframe thead th {\n",
              "        text-align: right;\n",
              "    }\n",
              "</style>\n",
              "<table border=\"1\" class=\"dataframe\">\n",
              "  <thead>\n",
              "    <tr style=\"text-align: right;\">\n",
              "      <th></th>\n",
              "      <th>birthplace</th>\n",
              "      <th>date_of_birth</th>\n",
              "      <th>race_ethnicity</th>\n",
              "      <th>religion</th>\n",
              "      <th>sexual_orientation</th>\n",
              "      <th>year_of_award</th>\n",
              "      <th>award</th>\n",
              "      <th>movie</th>\n",
              "      <th>person</th>\n",
              "    </tr>\n",
              "  </thead>\n",
              "  <tbody>\n",
              "    <tr>\n",
              "      <th>0</th>\n",
              "      <td>Chisinau, Moldova</td>\n",
              "      <td>30-Sep-1895</td>\n",
              "      <td>White</td>\n",
              "      <td>Na</td>\n",
              "      <td>Straight</td>\n",
              "      <td>1927</td>\n",
              "      <td>Best Director</td>\n",
              "      <td>Two Arabian Knights</td>\n",
              "      <td>Lewis Milestone</td>\n",
              "    </tr>\n",
              "    <tr>\n",
              "      <th>1</th>\n",
              "      <td>Glasgow, Scotland</td>\n",
              "      <td>2-Feb-1886</td>\n",
              "      <td>White</td>\n",
              "      <td>Na</td>\n",
              "      <td>Straight</td>\n",
              "      <td>1930</td>\n",
              "      <td>Best Director</td>\n",
              "      <td>The Divine Lady</td>\n",
              "      <td>Frank Lloyd</td>\n",
              "    </tr>\n",
              "    <tr>\n",
              "      <th>2</th>\n",
              "      <td>Chisinau, Moldova</td>\n",
              "      <td>30-Sep-1895</td>\n",
              "      <td>White</td>\n",
              "      <td>Na</td>\n",
              "      <td>Straight</td>\n",
              "      <td>1931</td>\n",
              "      <td>Best Director</td>\n",
              "      <td>All Quiet on the Western Front</td>\n",
              "      <td>Lewis Milestone</td>\n",
              "    </tr>\n",
              "    <tr>\n",
              "      <th>3</th>\n",
              "      <td>Chicago, Il</td>\n",
              "      <td>23-Feb-1899</td>\n",
              "      <td>White</td>\n",
              "      <td>Na</td>\n",
              "      <td>Straight</td>\n",
              "      <td>1932</td>\n",
              "      <td>Best Director</td>\n",
              "      <td>Skippy</td>\n",
              "      <td>Norman Taurog</td>\n",
              "    </tr>\n",
              "    <tr>\n",
              "      <th>4</th>\n",
              "      <td>Salt Lake City, Ut</td>\n",
              "      <td>23-Apr-1894</td>\n",
              "      <td>White</td>\n",
              "      <td>Roman Catholic</td>\n",
              "      <td>Straight</td>\n",
              "      <td>1933</td>\n",
              "      <td>Best Director</td>\n",
              "      <td>Bad Girl</td>\n",
              "      <td>Frank Borzage</td>\n",
              "    </tr>\n",
              "    <tr>\n",
              "      <th>...</th>\n",
              "      <td>...</td>\n",
              "      <td>...</td>\n",
              "      <td>...</td>\n",
              "      <td>...</td>\n",
              "      <td>...</td>\n",
              "      <td>...</td>\n",
              "      <td>...</td>\n",
              "      <td>...</td>\n",
              "      <td>...</td>\n",
              "    </tr>\n",
              "    <tr>\n",
              "      <th>436</th>\n",
              "      <td>London, England</td>\n",
              "      <td>7-Mar-71</td>\n",
              "      <td>White</td>\n",
              "      <td>Jewish</td>\n",
              "      <td>Straight</td>\n",
              "      <td>2006</td>\n",
              "      <td>Best Supporting Actress</td>\n",
              "      <td>The Constant Gardener</td>\n",
              "      <td>Rachel Weisz</td>\n",
              "    </tr>\n",
              "    <tr>\n",
              "      <th>437</th>\n",
              "      <td>Manchester, England</td>\n",
              "      <td>20-Oct-56</td>\n",
              "      <td>White</td>\n",
              "      <td>Roman Catholic</td>\n",
              "      <td>Straight</td>\n",
              "      <td>2009</td>\n",
              "      <td>Best Director</td>\n",
              "      <td>Slumdog Millionaire</td>\n",
              "      <td>Danny Boyle</td>\n",
              "    </tr>\n",
              "    <tr>\n",
              "      <th>438</th>\n",
              "      <td>Chicago, Il</td>\n",
              "      <td>26-Jul-22</td>\n",
              "      <td>White</td>\n",
              "      <td>Na</td>\n",
              "      <td>Straight</td>\n",
              "      <td>1977</td>\n",
              "      <td>Best Supporting Actor</td>\n",
              "      <td>All the President's Men</td>\n",
              "      <td>Jason Robards</td>\n",
              "    </tr>\n",
              "    <tr>\n",
              "      <th>439</th>\n",
              "      <td>Laurel, Ne</td>\n",
              "      <td>31-Aug-28</td>\n",
              "      <td>White</td>\n",
              "      <td>Na</td>\n",
              "      <td>Straight</td>\n",
              "      <td>1999</td>\n",
              "      <td>Best Supporting Actor</td>\n",
              "      <td>Affliction</td>\n",
              "      <td>James Coburn</td>\n",
              "    </tr>\n",
              "    <tr>\n",
              "      <th>440</th>\n",
              "      <td>Nevada, Mo</td>\n",
              "      <td>5-Aug-06</td>\n",
              "      <td>White</td>\n",
              "      <td>Na</td>\n",
              "      <td>Straight</td>\n",
              "      <td>1949</td>\n",
              "      <td>Best Director</td>\n",
              "      <td>The Treasure of the Sierra Madre</td>\n",
              "      <td>John Huston</td>\n",
              "    </tr>\n",
              "  </tbody>\n",
              "</table>\n",
              "<p>441 rows × 9 columns</p>\n",
              "</div>"
            ],
            "text/plain": [
              "              birthplace  ...           person\n",
              "0      Chisinau, Moldova  ...  Lewis Milestone\n",
              "1      Glasgow, Scotland  ...      Frank Lloyd\n",
              "2      Chisinau, Moldova  ...  Lewis Milestone\n",
              "3            Chicago, Il  ...    Norman Taurog\n",
              "4     Salt Lake City, Ut  ...    Frank Borzage\n",
              "..                   ...  ...              ...\n",
              "436      London, England  ...     Rachel Weisz\n",
              "437  Manchester, England  ...      Danny Boyle\n",
              "438          Chicago, Il  ...    Jason Robards\n",
              "439           Laurel, Ne  ...     James Coburn\n",
              "440           Nevada, Mo  ...      John Huston\n",
              "\n",
              "[441 rows x 9 columns]"
            ]
          },
          "metadata": {
            "tags": []
          },
          "execution_count": 107
        }
      ]
    },
    {
      "cell_type": "markdown",
      "metadata": {
        "id": "Y1hmhss0FSe_",
        "colab_type": "text"
      },
      "source": [
        "#  \n",
        "### Data Frame Operations\n",
        "\n",
        "#### We will now review other methods that apply to Data Frames, how to select multiple rows, how to chain multiple methods, etc"
      ]
    },
    {
      "cell_type": "code",
      "metadata": {
        "id": "u4vTCfwKFSfA",
        "colab_type": "code",
        "outputId": "5f731ad4-d957-478e-ad4a-6849bf7bb413",
        "colab": {
          "base_uri": "https://localhost:8080/",
          "height": 415
        }
      },
      "source": [
        "# Similar to what we did when selecting one column, but instead of providing a column name, we will be passing a list of columns:\n",
        "oscars_basics = oscars_short[['person','movie','award','year_of_award']]\n",
        "oscars_basics"
      ],
      "execution_count": 0,
      "outputs": [
        {
          "output_type": "execute_result",
          "data": {
            "text/html": [
              "<div>\n",
              "<style scoped>\n",
              "    .dataframe tbody tr th:only-of-type {\n",
              "        vertical-align: middle;\n",
              "    }\n",
              "\n",
              "    .dataframe tbody tr th {\n",
              "        vertical-align: top;\n",
              "    }\n",
              "\n",
              "    .dataframe thead th {\n",
              "        text-align: right;\n",
              "    }\n",
              "</style>\n",
              "<table border=\"1\" class=\"dataframe\">\n",
              "  <thead>\n",
              "    <tr style=\"text-align: right;\">\n",
              "      <th></th>\n",
              "      <th>person</th>\n",
              "      <th>movie</th>\n",
              "      <th>award</th>\n",
              "      <th>year_of_award</th>\n",
              "    </tr>\n",
              "  </thead>\n",
              "  <tbody>\n",
              "    <tr>\n",
              "      <th>0</th>\n",
              "      <td>Lewis Milestone</td>\n",
              "      <td>Two Arabian Knights</td>\n",
              "      <td>Best Director</td>\n",
              "      <td>1927</td>\n",
              "    </tr>\n",
              "    <tr>\n",
              "      <th>1</th>\n",
              "      <td>Frank Lloyd</td>\n",
              "      <td>The Divine Lady</td>\n",
              "      <td>Best Director</td>\n",
              "      <td>1930</td>\n",
              "    </tr>\n",
              "    <tr>\n",
              "      <th>2</th>\n",
              "      <td>Lewis Milestone</td>\n",
              "      <td>All Quiet on the Western Front</td>\n",
              "      <td>Best Director</td>\n",
              "      <td>1931</td>\n",
              "    </tr>\n",
              "    <tr>\n",
              "      <th>3</th>\n",
              "      <td>Norman Taurog</td>\n",
              "      <td>Skippy</td>\n",
              "      <td>Best Director</td>\n",
              "      <td>1932</td>\n",
              "    </tr>\n",
              "    <tr>\n",
              "      <th>4</th>\n",
              "      <td>Frank Borzage</td>\n",
              "      <td>Bad Girl</td>\n",
              "      <td>Best Director</td>\n",
              "      <td>1933</td>\n",
              "    </tr>\n",
              "    <tr>\n",
              "      <th>...</th>\n",
              "      <td>...</td>\n",
              "      <td>...</td>\n",
              "      <td>...</td>\n",
              "      <td>...</td>\n",
              "    </tr>\n",
              "    <tr>\n",
              "      <th>436</th>\n",
              "      <td>Rachel Weisz</td>\n",
              "      <td>The Constant Gardener</td>\n",
              "      <td>Best Supporting Actress</td>\n",
              "      <td>2006</td>\n",
              "    </tr>\n",
              "    <tr>\n",
              "      <th>437</th>\n",
              "      <td>Danny Boyle</td>\n",
              "      <td>Slumdog Millionaire</td>\n",
              "      <td>Best Director</td>\n",
              "      <td>2009</td>\n",
              "    </tr>\n",
              "    <tr>\n",
              "      <th>438</th>\n",
              "      <td>Jason Robards</td>\n",
              "      <td>All the President's Men</td>\n",
              "      <td>Best Supporting Actor</td>\n",
              "      <td>1977</td>\n",
              "    </tr>\n",
              "    <tr>\n",
              "      <th>439</th>\n",
              "      <td>James Coburn</td>\n",
              "      <td>Affliction</td>\n",
              "      <td>Best Supporting Actor</td>\n",
              "      <td>1999</td>\n",
              "    </tr>\n",
              "    <tr>\n",
              "      <th>440</th>\n",
              "      <td>John Huston</td>\n",
              "      <td>The Treasure of the Sierra Madre</td>\n",
              "      <td>Best Director</td>\n",
              "      <td>1949</td>\n",
              "    </tr>\n",
              "  </tbody>\n",
              "</table>\n",
              "<p>441 rows × 4 columns</p>\n",
              "</div>"
            ],
            "text/plain": [
              "              person  ... year_of_award\n",
              "0    Lewis Milestone  ...          1927\n",
              "1        Frank Lloyd  ...          1930\n",
              "2    Lewis Milestone  ...          1931\n",
              "3      Norman Taurog  ...          1932\n",
              "4      Frank Borzage  ...          1933\n",
              "..               ...  ...           ...\n",
              "436     Rachel Weisz  ...          2006\n",
              "437      Danny Boyle  ...          2009\n",
              "438    Jason Robards  ...          1977\n",
              "439     James Coburn  ...          1999\n",
              "440      John Huston  ...          1949\n",
              "\n",
              "[441 rows x 4 columns]"
            ]
          },
          "metadata": {
            "tags": []
          },
          "execution_count": 108
        }
      ]
    },
    {
      "cell_type": "markdown",
      "metadata": {
        "id": "iv8WtczPFSfB",
        "colab_type": "text"
      },
      "source": [
        "#### Selecting columns with methods"
      ]
    },
    {
      "cell_type": "code",
      "metadata": {
        "id": "pB6FMmj1FSfB",
        "colab_type": "code",
        "outputId": "5d3100cd-c14d-483f-d57d-f33130a485be",
        "colab": {
          "base_uri": "https://localhost:8080/",
          "height": 69
        }
      },
      "source": [
        "oscars_short.dtypes.value_counts()"
      ],
      "execution_count": 0,
      "outputs": [
        {
          "output_type": "execute_result",
          "data": {
            "text/plain": [
              "object    8\n",
              "int64     1\n",
              "dtype: int64"
            ]
          },
          "metadata": {
            "tags": []
          },
          "execution_count": 109
        }
      ]
    },
    {
      "cell_type": "code",
      "metadata": {
        "id": "ZL2AtLVgFSfD",
        "colab_type": "code",
        "colab": {}
      },
      "source": [
        "oscars_short.loc[:,'date_of_birth'] = pd.to_datetime(oscars_short['date_of_birth'], errors='coerce')"
      ],
      "execution_count": 0,
      "outputs": []
    },
    {
      "cell_type": "code",
      "metadata": {
        "id": "3cX7sy_mFSfI",
        "colab_type": "code",
        "outputId": "8abf74a5-fb7a-441d-a2fe-cf5e54252738",
        "colab": {
          "base_uri": "https://localhost:8080/",
          "height": 87
        }
      },
      "source": [
        "oscars_short.dtypes.value_counts()"
      ],
      "execution_count": 0,
      "outputs": [
        {
          "output_type": "execute_result",
          "data": {
            "text/plain": [
              "object            7\n",
              "datetime64[ns]    1\n",
              "int64             1\n",
              "dtype: int64"
            ]
          },
          "metadata": {
            "tags": []
          },
          "execution_count": 111
        }
      ]
    },
    {
      "cell_type": "markdown",
      "metadata": {
        "id": "gk2uBrn2FSfK",
        "colab_type": "text"
      },
      "source": [
        "We can select colums with a specific data type using the select_dtypes method.\n",
        "using the parameter include we can indicate the data type we are looking for:"
      ]
    },
    {
      "cell_type": "code",
      "metadata": {
        "id": "-KUbN4BFFSfK",
        "colab_type": "code",
        "outputId": "aff9862b-40aa-4a2a-bfd4-6f6d171bad75",
        "colab": {
          "base_uri": "https://localhost:8080/",
          "height": 202
        }
      },
      "source": [
        "\n",
        "oscars_short.select_dtypes(include=['int64']).head()"
      ],
      "execution_count": 0,
      "outputs": [
        {
          "output_type": "execute_result",
          "data": {
            "text/html": [
              "<div>\n",
              "<style scoped>\n",
              "    .dataframe tbody tr th:only-of-type {\n",
              "        vertical-align: middle;\n",
              "    }\n",
              "\n",
              "    .dataframe tbody tr th {\n",
              "        vertical-align: top;\n",
              "    }\n",
              "\n",
              "    .dataframe thead th {\n",
              "        text-align: right;\n",
              "    }\n",
              "</style>\n",
              "<table border=\"1\" class=\"dataframe\">\n",
              "  <thead>\n",
              "    <tr style=\"text-align: right;\">\n",
              "      <th></th>\n",
              "      <th>year_of_award</th>\n",
              "    </tr>\n",
              "  </thead>\n",
              "  <tbody>\n",
              "    <tr>\n",
              "      <th>0</th>\n",
              "      <td>1927</td>\n",
              "    </tr>\n",
              "    <tr>\n",
              "      <th>1</th>\n",
              "      <td>1930</td>\n",
              "    </tr>\n",
              "    <tr>\n",
              "      <th>2</th>\n",
              "      <td>1931</td>\n",
              "    </tr>\n",
              "    <tr>\n",
              "      <th>3</th>\n",
              "      <td>1932</td>\n",
              "    </tr>\n",
              "    <tr>\n",
              "      <th>4</th>\n",
              "      <td>1933</td>\n",
              "    </tr>\n",
              "  </tbody>\n",
              "</table>\n",
              "</div>"
            ],
            "text/plain": [
              "   year_of_award\n",
              "0           1927\n",
              "1           1930\n",
              "2           1931\n",
              "3           1932\n",
              "4           1933"
            ]
          },
          "metadata": {
            "tags": []
          },
          "execution_count": 112
        }
      ]
    },
    {
      "cell_type": "markdown",
      "metadata": {
        "id": "VhTlnM4gFSfM",
        "colab_type": "text"
      },
      "source": [
        "We can also select all numeric columns using include='number':"
      ]
    },
    {
      "cell_type": "code",
      "metadata": {
        "id": "FyLkNw_vFSfM",
        "colab_type": "code",
        "outputId": "60b5d7a6-b1d5-46bd-84eb-c1ceff481d0b",
        "colab": {
          "base_uri": "https://localhost:8080/",
          "height": 202
        }
      },
      "source": [
        "\n",
        "oscars_short.select_dtypes(include='number').head()"
      ],
      "execution_count": 0,
      "outputs": [
        {
          "output_type": "execute_result",
          "data": {
            "text/html": [
              "<div>\n",
              "<style scoped>\n",
              "    .dataframe tbody tr th:only-of-type {\n",
              "        vertical-align: middle;\n",
              "    }\n",
              "\n",
              "    .dataframe tbody tr th {\n",
              "        vertical-align: top;\n",
              "    }\n",
              "\n",
              "    .dataframe thead th {\n",
              "        text-align: right;\n",
              "    }\n",
              "</style>\n",
              "<table border=\"1\" class=\"dataframe\">\n",
              "  <thead>\n",
              "    <tr style=\"text-align: right;\">\n",
              "      <th></th>\n",
              "      <th>year_of_award</th>\n",
              "    </tr>\n",
              "  </thead>\n",
              "  <tbody>\n",
              "    <tr>\n",
              "      <th>0</th>\n",
              "      <td>1927</td>\n",
              "    </tr>\n",
              "    <tr>\n",
              "      <th>1</th>\n",
              "      <td>1930</td>\n",
              "    </tr>\n",
              "    <tr>\n",
              "      <th>2</th>\n",
              "      <td>1931</td>\n",
              "    </tr>\n",
              "    <tr>\n",
              "      <th>3</th>\n",
              "      <td>1932</td>\n",
              "    </tr>\n",
              "    <tr>\n",
              "      <th>4</th>\n",
              "      <td>1933</td>\n",
              "    </tr>\n",
              "  </tbody>\n",
              "</table>\n",
              "</div>"
            ],
            "text/plain": [
              "   year_of_award\n",
              "0           1927\n",
              "1           1930\n",
              "2           1931\n",
              "3           1932\n",
              "4           1933"
            ]
          },
          "metadata": {
            "tags": []
          },
          "execution_count": 113
        }
      ]
    },
    {
      "cell_type": "markdown",
      "metadata": {
        "id": "ml0TirsiFSfO",
        "colab_type": "text"
      },
      "source": [
        "We can select specific columns by filtering contect on the column names.\n"
      ]
    },
    {
      "cell_type": "code",
      "metadata": {
        "id": "MVfJdsgjFSfO",
        "colab_type": "code",
        "outputId": "9856db17-fda2-4128-a270-d2ba5d6f9b3e",
        "colab": {
          "base_uri": "https://localhost:8080/",
          "height": 202
        }
      },
      "source": [
        "oscars_short.filter(like='birth').head()"
      ],
      "execution_count": 0,
      "outputs": [
        {
          "output_type": "execute_result",
          "data": {
            "text/html": [
              "<div>\n",
              "<style scoped>\n",
              "    .dataframe tbody tr th:only-of-type {\n",
              "        vertical-align: middle;\n",
              "    }\n",
              "\n",
              "    .dataframe tbody tr th {\n",
              "        vertical-align: top;\n",
              "    }\n",
              "\n",
              "    .dataframe thead th {\n",
              "        text-align: right;\n",
              "    }\n",
              "</style>\n",
              "<table border=\"1\" class=\"dataframe\">\n",
              "  <thead>\n",
              "    <tr style=\"text-align: right;\">\n",
              "      <th></th>\n",
              "      <th>birthplace</th>\n",
              "      <th>date_of_birth</th>\n",
              "    </tr>\n",
              "  </thead>\n",
              "  <tbody>\n",
              "    <tr>\n",
              "      <th>0</th>\n",
              "      <td>Chisinau, Moldova</td>\n",
              "      <td>1895-09-30</td>\n",
              "    </tr>\n",
              "    <tr>\n",
              "      <th>1</th>\n",
              "      <td>Glasgow, Scotland</td>\n",
              "      <td>1886-02-02</td>\n",
              "    </tr>\n",
              "    <tr>\n",
              "      <th>2</th>\n",
              "      <td>Chisinau, Moldova</td>\n",
              "      <td>1895-09-30</td>\n",
              "    </tr>\n",
              "    <tr>\n",
              "      <th>3</th>\n",
              "      <td>Chicago, Il</td>\n",
              "      <td>1899-02-23</td>\n",
              "    </tr>\n",
              "    <tr>\n",
              "      <th>4</th>\n",
              "      <td>Salt Lake City, Ut</td>\n",
              "      <td>1894-04-23</td>\n",
              "    </tr>\n",
              "  </tbody>\n",
              "</table>\n",
              "</div>"
            ],
            "text/plain": [
              "           birthplace date_of_birth\n",
              "0   Chisinau, Moldova    1895-09-30\n",
              "1   Glasgow, Scotland    1886-02-02\n",
              "2   Chisinau, Moldova    1895-09-30\n",
              "3         Chicago, Il    1899-02-23\n",
              "4  Salt Lake City, Ut    1894-04-23"
            ]
          },
          "metadata": {
            "tags": []
          },
          "execution_count": 114
        }
      ]
    },
    {
      "cell_type": "markdown",
      "metadata": {
        "id": "tHtwx6u6FSfP",
        "colab_type": "text"
      },
      "source": [
        "Filter also allows regular expressions:"
      ]
    },
    {
      "cell_type": "code",
      "metadata": {
        "id": "t3I9PPMPFSfQ",
        "colab_type": "code",
        "outputId": "ec008251-45af-4992-891e-73d06bd97035",
        "colab": {
          "base_uri": "https://localhost:8080/",
          "height": 202
        }
      },
      "source": [
        "oscars_short.filter(regex='\\_').head()"
      ],
      "execution_count": 0,
      "outputs": [
        {
          "output_type": "execute_result",
          "data": {
            "text/html": [
              "<div>\n",
              "<style scoped>\n",
              "    .dataframe tbody tr th:only-of-type {\n",
              "        vertical-align: middle;\n",
              "    }\n",
              "\n",
              "    .dataframe tbody tr th {\n",
              "        vertical-align: top;\n",
              "    }\n",
              "\n",
              "    .dataframe thead th {\n",
              "        text-align: right;\n",
              "    }\n",
              "</style>\n",
              "<table border=\"1\" class=\"dataframe\">\n",
              "  <thead>\n",
              "    <tr style=\"text-align: right;\">\n",
              "      <th></th>\n",
              "      <th>date_of_birth</th>\n",
              "      <th>race_ethnicity</th>\n",
              "      <th>sexual_orientation</th>\n",
              "      <th>year_of_award</th>\n",
              "    </tr>\n",
              "  </thead>\n",
              "  <tbody>\n",
              "    <tr>\n",
              "      <th>0</th>\n",
              "      <td>1895-09-30</td>\n",
              "      <td>White</td>\n",
              "      <td>Straight</td>\n",
              "      <td>1927</td>\n",
              "    </tr>\n",
              "    <tr>\n",
              "      <th>1</th>\n",
              "      <td>1886-02-02</td>\n",
              "      <td>White</td>\n",
              "      <td>Straight</td>\n",
              "      <td>1930</td>\n",
              "    </tr>\n",
              "    <tr>\n",
              "      <th>2</th>\n",
              "      <td>1895-09-30</td>\n",
              "      <td>White</td>\n",
              "      <td>Straight</td>\n",
              "      <td>1931</td>\n",
              "    </tr>\n",
              "    <tr>\n",
              "      <th>3</th>\n",
              "      <td>1899-02-23</td>\n",
              "      <td>White</td>\n",
              "      <td>Straight</td>\n",
              "      <td>1932</td>\n",
              "    </tr>\n",
              "    <tr>\n",
              "      <th>4</th>\n",
              "      <td>1894-04-23</td>\n",
              "      <td>White</td>\n",
              "      <td>Straight</td>\n",
              "      <td>1933</td>\n",
              "    </tr>\n",
              "  </tbody>\n",
              "</table>\n",
              "</div>"
            ],
            "text/plain": [
              "  date_of_birth race_ethnicity sexual_orientation  year_of_award\n",
              "0    1895-09-30          White           Straight           1927\n",
              "1    1886-02-02          White           Straight           1930\n",
              "2    1895-09-30          White           Straight           1931\n",
              "3    1899-02-23          White           Straight           1932\n",
              "4    1894-04-23          White           Straight           1933"
            ]
          },
          "metadata": {
            "tags": []
          },
          "execution_count": 115
        }
      ]
    },
    {
      "cell_type": "markdown",
      "metadata": {
        "id": "jJhyh3r2FSfR",
        "colab_type": "text"
      },
      "source": [
        "Lastly, using items parameter we can indicate the list of columns to select:\n"
      ]
    },
    {
      "cell_type": "code",
      "metadata": {
        "id": "X96AseAnFSfR",
        "colab_type": "code",
        "outputId": "94a65a32-c873-4a0c-f5bc-65e8f266e586",
        "colab": {
          "base_uri": "https://localhost:8080/",
          "height": 202
        }
      },
      "source": [
        "oscars_short.filter(items=['person']).head()"
      ],
      "execution_count": 0,
      "outputs": [
        {
          "output_type": "execute_result",
          "data": {
            "text/html": [
              "<div>\n",
              "<style scoped>\n",
              "    .dataframe tbody tr th:only-of-type {\n",
              "        vertical-align: middle;\n",
              "    }\n",
              "\n",
              "    .dataframe tbody tr th {\n",
              "        vertical-align: top;\n",
              "    }\n",
              "\n",
              "    .dataframe thead th {\n",
              "        text-align: right;\n",
              "    }\n",
              "</style>\n",
              "<table border=\"1\" class=\"dataframe\">\n",
              "  <thead>\n",
              "    <tr style=\"text-align: right;\">\n",
              "      <th></th>\n",
              "      <th>person</th>\n",
              "    </tr>\n",
              "  </thead>\n",
              "  <tbody>\n",
              "    <tr>\n",
              "      <th>0</th>\n",
              "      <td>Lewis Milestone</td>\n",
              "    </tr>\n",
              "    <tr>\n",
              "      <th>1</th>\n",
              "      <td>Frank Lloyd</td>\n",
              "    </tr>\n",
              "    <tr>\n",
              "      <th>2</th>\n",
              "      <td>Lewis Milestone</td>\n",
              "    </tr>\n",
              "    <tr>\n",
              "      <th>3</th>\n",
              "      <td>Norman Taurog</td>\n",
              "    </tr>\n",
              "    <tr>\n",
              "      <th>4</th>\n",
              "      <td>Frank Borzage</td>\n",
              "    </tr>\n",
              "  </tbody>\n",
              "</table>\n",
              "</div>"
            ],
            "text/plain": [
              "            person\n",
              "0  Lewis Milestone\n",
              "1      Frank Lloyd\n",
              "2  Lewis Milestone\n",
              "3    Norman Taurog\n",
              "4    Frank Borzage"
            ]
          },
          "metadata": {
            "tags": []
          },
          "execution_count": 116
        }
      ]
    },
    {
      "cell_type": "markdown",
      "metadata": {
        "id": "RCtsUTf1FSfS",
        "colab_type": "text"
      },
      "source": [
        "### Ordering Columns"
      ]
    },
    {
      "cell_type": "code",
      "metadata": {
        "id": "XqdmAlUkFSfT",
        "colab_type": "code",
        "outputId": "bcadf9bd-4c57-4ecf-ca12-1eae56f6631a",
        "colab": {
          "base_uri": "https://localhost:8080/",
          "height": 69
        }
      },
      "source": [
        "oscars_short.columns"
      ],
      "execution_count": 0,
      "outputs": [
        {
          "output_type": "execute_result",
          "data": {
            "text/plain": [
              "Index(['birthplace', 'date_of_birth', 'race_ethnicity', 'religion',\n",
              "       'sexual_orientation', 'year_of_award', 'award', 'movie', 'person'],\n",
              "      dtype='object')"
            ]
          },
          "metadata": {
            "tags": []
          },
          "execution_count": 117
        }
      ]
    },
    {
      "cell_type": "markdown",
      "metadata": {
        "id": "xbH7HCOZFSfU",
        "colab_type": "text"
      },
      "source": [
        "Let´s imagine we want to have the name of the person at the beginning..."
      ]
    },
    {
      "cell_type": "code",
      "metadata": {
        "id": "rlngOsq7FSfU",
        "colab_type": "code",
        "outputId": "efab2571-39f7-4379-c5aa-75335bd6160d",
        "colab": {
          "base_uri": "https://localhost:8080/",
          "height": 289
        }
      },
      "source": [
        "new_col_order = ['person', 'birthplace', 'date_of_birth', 'race_ethnicity', 'religion','sexual_orientation', 'year_of_award', 'award', 'movie']\n",
        "\n",
        "oscars_new_col_order = oscars_short[new_col_order]\n",
        "oscars_new_col_order.head()"
      ],
      "execution_count": 0,
      "outputs": [
        {
          "output_type": "execute_result",
          "data": {
            "text/html": [
              "<div>\n",
              "<style scoped>\n",
              "    .dataframe tbody tr th:only-of-type {\n",
              "        vertical-align: middle;\n",
              "    }\n",
              "\n",
              "    .dataframe tbody tr th {\n",
              "        vertical-align: top;\n",
              "    }\n",
              "\n",
              "    .dataframe thead th {\n",
              "        text-align: right;\n",
              "    }\n",
              "</style>\n",
              "<table border=\"1\" class=\"dataframe\">\n",
              "  <thead>\n",
              "    <tr style=\"text-align: right;\">\n",
              "      <th></th>\n",
              "      <th>person</th>\n",
              "      <th>birthplace</th>\n",
              "      <th>date_of_birth</th>\n",
              "      <th>race_ethnicity</th>\n",
              "      <th>religion</th>\n",
              "      <th>sexual_orientation</th>\n",
              "      <th>year_of_award</th>\n",
              "      <th>award</th>\n",
              "      <th>movie</th>\n",
              "    </tr>\n",
              "  </thead>\n",
              "  <tbody>\n",
              "    <tr>\n",
              "      <th>0</th>\n",
              "      <td>Lewis Milestone</td>\n",
              "      <td>Chisinau, Moldova</td>\n",
              "      <td>1895-09-30</td>\n",
              "      <td>White</td>\n",
              "      <td>Na</td>\n",
              "      <td>Straight</td>\n",
              "      <td>1927</td>\n",
              "      <td>Best Director</td>\n",
              "      <td>Two Arabian Knights</td>\n",
              "    </tr>\n",
              "    <tr>\n",
              "      <th>1</th>\n",
              "      <td>Frank Lloyd</td>\n",
              "      <td>Glasgow, Scotland</td>\n",
              "      <td>1886-02-02</td>\n",
              "      <td>White</td>\n",
              "      <td>Na</td>\n",
              "      <td>Straight</td>\n",
              "      <td>1930</td>\n",
              "      <td>Best Director</td>\n",
              "      <td>The Divine Lady</td>\n",
              "    </tr>\n",
              "    <tr>\n",
              "      <th>2</th>\n",
              "      <td>Lewis Milestone</td>\n",
              "      <td>Chisinau, Moldova</td>\n",
              "      <td>1895-09-30</td>\n",
              "      <td>White</td>\n",
              "      <td>Na</td>\n",
              "      <td>Straight</td>\n",
              "      <td>1931</td>\n",
              "      <td>Best Director</td>\n",
              "      <td>All Quiet on the Western Front</td>\n",
              "    </tr>\n",
              "    <tr>\n",
              "      <th>3</th>\n",
              "      <td>Norman Taurog</td>\n",
              "      <td>Chicago, Il</td>\n",
              "      <td>1899-02-23</td>\n",
              "      <td>White</td>\n",
              "      <td>Na</td>\n",
              "      <td>Straight</td>\n",
              "      <td>1932</td>\n",
              "      <td>Best Director</td>\n",
              "      <td>Skippy</td>\n",
              "    </tr>\n",
              "    <tr>\n",
              "      <th>4</th>\n",
              "      <td>Frank Borzage</td>\n",
              "      <td>Salt Lake City, Ut</td>\n",
              "      <td>1894-04-23</td>\n",
              "      <td>White</td>\n",
              "      <td>Roman Catholic</td>\n",
              "      <td>Straight</td>\n",
              "      <td>1933</td>\n",
              "      <td>Best Director</td>\n",
              "      <td>Bad Girl</td>\n",
              "    </tr>\n",
              "  </tbody>\n",
              "</table>\n",
              "</div>"
            ],
            "text/plain": [
              "            person  ...                           movie\n",
              "0  Lewis Milestone  ...             Two Arabian Knights\n",
              "1      Frank Lloyd  ...                 The Divine Lady\n",
              "2  Lewis Milestone  ...  All Quiet on the Western Front\n",
              "3    Norman Taurog  ...                          Skippy\n",
              "4    Frank Borzage  ...                        Bad Girl\n",
              "\n",
              "[5 rows x 9 columns]"
            ]
          },
          "metadata": {
            "tags": []
          },
          "execution_count": 118
        }
      ]
    },
    {
      "cell_type": "markdown",
      "metadata": {
        "id": "9W6rJ_giFSfY",
        "colab_type": "text"
      },
      "source": [
        "#  \n",
        "## Selecting subsets of data\n",
        "\n",
        "* Selecting Series data \n",
        "* Selecting DataFrame rows \n",
        "* Selecting DataFrame rows and columns simultaneously \n",
        "* Selecting data with both integers and labels \n",
        "* Speeding up scalar selection \n",
        "* Slicing rows lazily \n",
        "* Slicing lexicographically\n",
        "\n",
        " "
      ]
    },
    {
      "cell_type": "code",
      "metadata": {
        "id": "S1AC497SFSfY",
        "colab_type": "code",
        "outputId": "3f03f3ce-3031-46b0-db99-a4e12f27b81e",
        "colab": {
          "base_uri": "https://localhost:8080/",
          "height": 529
        }
      },
      "source": [
        "oscars_short.head(10)"
      ],
      "execution_count": 0,
      "outputs": [
        {
          "output_type": "execute_result",
          "data": {
            "text/html": [
              "<div>\n",
              "<style scoped>\n",
              "    .dataframe tbody tr th:only-of-type {\n",
              "        vertical-align: middle;\n",
              "    }\n",
              "\n",
              "    .dataframe tbody tr th {\n",
              "        vertical-align: top;\n",
              "    }\n",
              "\n",
              "    .dataframe thead th {\n",
              "        text-align: right;\n",
              "    }\n",
              "</style>\n",
              "<table border=\"1\" class=\"dataframe\">\n",
              "  <thead>\n",
              "    <tr style=\"text-align: right;\">\n",
              "      <th></th>\n",
              "      <th>birthplace</th>\n",
              "      <th>date_of_birth</th>\n",
              "      <th>race_ethnicity</th>\n",
              "      <th>religion</th>\n",
              "      <th>sexual_orientation</th>\n",
              "      <th>year_of_award</th>\n",
              "      <th>award</th>\n",
              "      <th>movie</th>\n",
              "      <th>person</th>\n",
              "    </tr>\n",
              "  </thead>\n",
              "  <tbody>\n",
              "    <tr>\n",
              "      <th>0</th>\n",
              "      <td>Chisinau, Moldova</td>\n",
              "      <td>1895-09-30</td>\n",
              "      <td>White</td>\n",
              "      <td>Na</td>\n",
              "      <td>Straight</td>\n",
              "      <td>1927</td>\n",
              "      <td>Best Director</td>\n",
              "      <td>Two Arabian Knights</td>\n",
              "      <td>Lewis Milestone</td>\n",
              "    </tr>\n",
              "    <tr>\n",
              "      <th>1</th>\n",
              "      <td>Glasgow, Scotland</td>\n",
              "      <td>1886-02-02</td>\n",
              "      <td>White</td>\n",
              "      <td>Na</td>\n",
              "      <td>Straight</td>\n",
              "      <td>1930</td>\n",
              "      <td>Best Director</td>\n",
              "      <td>The Divine Lady</td>\n",
              "      <td>Frank Lloyd</td>\n",
              "    </tr>\n",
              "    <tr>\n",
              "      <th>2</th>\n",
              "      <td>Chisinau, Moldova</td>\n",
              "      <td>1895-09-30</td>\n",
              "      <td>White</td>\n",
              "      <td>Na</td>\n",
              "      <td>Straight</td>\n",
              "      <td>1931</td>\n",
              "      <td>Best Director</td>\n",
              "      <td>All Quiet on the Western Front</td>\n",
              "      <td>Lewis Milestone</td>\n",
              "    </tr>\n",
              "    <tr>\n",
              "      <th>3</th>\n",
              "      <td>Chicago, Il</td>\n",
              "      <td>1899-02-23</td>\n",
              "      <td>White</td>\n",
              "      <td>Na</td>\n",
              "      <td>Straight</td>\n",
              "      <td>1932</td>\n",
              "      <td>Best Director</td>\n",
              "      <td>Skippy</td>\n",
              "      <td>Norman Taurog</td>\n",
              "    </tr>\n",
              "    <tr>\n",
              "      <th>4</th>\n",
              "      <td>Salt Lake City, Ut</td>\n",
              "      <td>1894-04-23</td>\n",
              "      <td>White</td>\n",
              "      <td>Roman Catholic</td>\n",
              "      <td>Straight</td>\n",
              "      <td>1933</td>\n",
              "      <td>Best Director</td>\n",
              "      <td>Bad Girl</td>\n",
              "      <td>Frank Borzage</td>\n",
              "    </tr>\n",
              "    <tr>\n",
              "      <th>5</th>\n",
              "      <td>Glasgow, Scotland</td>\n",
              "      <td>1886-02-02</td>\n",
              "      <td>White</td>\n",
              "      <td>Na</td>\n",
              "      <td>Straight</td>\n",
              "      <td>1934</td>\n",
              "      <td>Best Director</td>\n",
              "      <td>Cavalcade</td>\n",
              "      <td>Frank Lloyd</td>\n",
              "    </tr>\n",
              "    <tr>\n",
              "      <th>6</th>\n",
              "      <td>Bisacquino, Sicily, Italy</td>\n",
              "      <td>1897-05-18</td>\n",
              "      <td>White</td>\n",
              "      <td>Roman Catholic</td>\n",
              "      <td>Straight</td>\n",
              "      <td>1935</td>\n",
              "      <td>Best Director</td>\n",
              "      <td>It Happened One Night</td>\n",
              "      <td>Frank Capra</td>\n",
              "    </tr>\n",
              "    <tr>\n",
              "      <th>7</th>\n",
              "      <td>Cape Elizabeth, Me</td>\n",
              "      <td>1894-02-01</td>\n",
              "      <td>White</td>\n",
              "      <td>Roman Catholic</td>\n",
              "      <td>Bisexual</td>\n",
              "      <td>1936</td>\n",
              "      <td>Best Director</td>\n",
              "      <td>The Informer</td>\n",
              "      <td>John Ford</td>\n",
              "    </tr>\n",
              "    <tr>\n",
              "      <th>8</th>\n",
              "      <td>Bisacquino, Sicily, Italy</td>\n",
              "      <td>1897-05-18</td>\n",
              "      <td>White</td>\n",
              "      <td>Roman Catholic</td>\n",
              "      <td>Straight</td>\n",
              "      <td>1937</td>\n",
              "      <td>Best Director</td>\n",
              "      <td>Mr. Deeds Goes to Town</td>\n",
              "      <td>Frank Capra</td>\n",
              "    </tr>\n",
              "    <tr>\n",
              "      <th>9</th>\n",
              "      <td>Los Angeles, Ca</td>\n",
              "      <td>1898-10-03</td>\n",
              "      <td>White</td>\n",
              "      <td>Na</td>\n",
              "      <td>Straight</td>\n",
              "      <td>1938</td>\n",
              "      <td>Best Director</td>\n",
              "      <td>The Awful Truth</td>\n",
              "      <td>Leo McCarey</td>\n",
              "    </tr>\n",
              "  </tbody>\n",
              "</table>\n",
              "</div>"
            ],
            "text/plain": [
              "                  birthplace  ...           person\n",
              "0          Chisinau, Moldova  ...  Lewis Milestone\n",
              "1          Glasgow, Scotland  ...      Frank Lloyd\n",
              "2          Chisinau, Moldova  ...  Lewis Milestone\n",
              "3                Chicago, Il  ...    Norman Taurog\n",
              "4         Salt Lake City, Ut  ...    Frank Borzage\n",
              "5          Glasgow, Scotland  ...      Frank Lloyd\n",
              "6  Bisacquino, Sicily, Italy  ...      Frank Capra\n",
              "7         Cape Elizabeth, Me  ...        John Ford\n",
              "8  Bisacquino, Sicily, Italy  ...      Frank Capra\n",
              "9            Los Angeles, Ca  ...      Leo McCarey\n",
              "\n",
              "[10 rows x 9 columns]"
            ]
          },
          "metadata": {
            "tags": []
          },
          "execution_count": 119
        }
      ]
    },
    {
      "cell_type": "code",
      "metadata": {
        "id": "jDlHvUACFSfa",
        "colab_type": "code",
        "outputId": "6dbba3e7-19aa-4ccd-af4e-89c2f835bc21",
        "colab": {
          "base_uri": "https://localhost:8080/",
          "height": 191
        }
      },
      "source": [
        "oscars_short.iloc[5]"
      ],
      "execution_count": 0,
      "outputs": [
        {
          "output_type": "execute_result",
          "data": {
            "text/plain": [
              "birthplace              Glasgow, Scotland\n",
              "date_of_birth         1886-02-02 00:00:00\n",
              "race_ethnicity                      White\n",
              "religion                               Na\n",
              "sexual_orientation               Straight\n",
              "year_of_award                        1934\n",
              "award                       Best Director\n",
              "movie                           Cavalcade\n",
              "person                        Frank Lloyd\n",
              "Name: 5, dtype: object"
            ]
          },
          "metadata": {
            "tags": []
          },
          "execution_count": 120
        }
      ]
    },
    {
      "cell_type": "code",
      "metadata": {
        "scrolled": true,
        "id": "-524hTBqFSfi",
        "colab_type": "code",
        "outputId": "72c94a09-b12d-4633-d106-ea66abde2eb9",
        "colab": {
          "base_uri": "https://localhost:8080/",
          "height": 337
        }
      },
      "source": [
        "oscars_short.iloc[0:6]"
      ],
      "execution_count": 0,
      "outputs": [
        {
          "output_type": "execute_result",
          "data": {
            "text/html": [
              "<div>\n",
              "<style scoped>\n",
              "    .dataframe tbody tr th:only-of-type {\n",
              "        vertical-align: middle;\n",
              "    }\n",
              "\n",
              "    .dataframe tbody tr th {\n",
              "        vertical-align: top;\n",
              "    }\n",
              "\n",
              "    .dataframe thead th {\n",
              "        text-align: right;\n",
              "    }\n",
              "</style>\n",
              "<table border=\"1\" class=\"dataframe\">\n",
              "  <thead>\n",
              "    <tr style=\"text-align: right;\">\n",
              "      <th></th>\n",
              "      <th>birthplace</th>\n",
              "      <th>date_of_birth</th>\n",
              "      <th>race_ethnicity</th>\n",
              "      <th>religion</th>\n",
              "      <th>sexual_orientation</th>\n",
              "      <th>year_of_award</th>\n",
              "      <th>award</th>\n",
              "      <th>movie</th>\n",
              "      <th>person</th>\n",
              "    </tr>\n",
              "  </thead>\n",
              "  <tbody>\n",
              "    <tr>\n",
              "      <th>0</th>\n",
              "      <td>Chisinau, Moldova</td>\n",
              "      <td>1895-09-30</td>\n",
              "      <td>White</td>\n",
              "      <td>Na</td>\n",
              "      <td>Straight</td>\n",
              "      <td>1927</td>\n",
              "      <td>Best Director</td>\n",
              "      <td>Two Arabian Knights</td>\n",
              "      <td>Lewis Milestone</td>\n",
              "    </tr>\n",
              "    <tr>\n",
              "      <th>1</th>\n",
              "      <td>Glasgow, Scotland</td>\n",
              "      <td>1886-02-02</td>\n",
              "      <td>White</td>\n",
              "      <td>Na</td>\n",
              "      <td>Straight</td>\n",
              "      <td>1930</td>\n",
              "      <td>Best Director</td>\n",
              "      <td>The Divine Lady</td>\n",
              "      <td>Frank Lloyd</td>\n",
              "    </tr>\n",
              "    <tr>\n",
              "      <th>2</th>\n",
              "      <td>Chisinau, Moldova</td>\n",
              "      <td>1895-09-30</td>\n",
              "      <td>White</td>\n",
              "      <td>Na</td>\n",
              "      <td>Straight</td>\n",
              "      <td>1931</td>\n",
              "      <td>Best Director</td>\n",
              "      <td>All Quiet on the Western Front</td>\n",
              "      <td>Lewis Milestone</td>\n",
              "    </tr>\n",
              "    <tr>\n",
              "      <th>3</th>\n",
              "      <td>Chicago, Il</td>\n",
              "      <td>1899-02-23</td>\n",
              "      <td>White</td>\n",
              "      <td>Na</td>\n",
              "      <td>Straight</td>\n",
              "      <td>1932</td>\n",
              "      <td>Best Director</td>\n",
              "      <td>Skippy</td>\n",
              "      <td>Norman Taurog</td>\n",
              "    </tr>\n",
              "    <tr>\n",
              "      <th>4</th>\n",
              "      <td>Salt Lake City, Ut</td>\n",
              "      <td>1894-04-23</td>\n",
              "      <td>White</td>\n",
              "      <td>Roman Catholic</td>\n",
              "      <td>Straight</td>\n",
              "      <td>1933</td>\n",
              "      <td>Best Director</td>\n",
              "      <td>Bad Girl</td>\n",
              "      <td>Frank Borzage</td>\n",
              "    </tr>\n",
              "    <tr>\n",
              "      <th>5</th>\n",
              "      <td>Glasgow, Scotland</td>\n",
              "      <td>1886-02-02</td>\n",
              "      <td>White</td>\n",
              "      <td>Na</td>\n",
              "      <td>Straight</td>\n",
              "      <td>1934</td>\n",
              "      <td>Best Director</td>\n",
              "      <td>Cavalcade</td>\n",
              "      <td>Frank Lloyd</td>\n",
              "    </tr>\n",
              "  </tbody>\n",
              "</table>\n",
              "</div>"
            ],
            "text/plain": [
              "           birthplace  ...           person\n",
              "0   Chisinau, Moldova  ...  Lewis Milestone\n",
              "1   Glasgow, Scotland  ...      Frank Lloyd\n",
              "2   Chisinau, Moldova  ...  Lewis Milestone\n",
              "3         Chicago, Il  ...    Norman Taurog\n",
              "4  Salt Lake City, Ut  ...    Frank Borzage\n",
              "5   Glasgow, Scotland  ...      Frank Lloyd\n",
              "\n",
              "[6 rows x 9 columns]"
            ]
          },
          "metadata": {
            "tags": []
          },
          "execution_count": 121
        }
      ]
    },
    {
      "cell_type": "code",
      "metadata": {
        "id": "B5RAk-RkFSfj",
        "colab_type": "code",
        "outputId": "85a24a15-4b52-4e89-f324-4aca7669b896",
        "colab": {
          "base_uri": "https://localhost:8080/",
          "height": 202
        }
      },
      "source": [
        "oscars_short.iloc[5:10]"
      ],
      "execution_count": 0,
      "outputs": [
        {
          "output_type": "execute_result",
          "data": {
            "text/html": [
              "<div>\n",
              "<style scoped>\n",
              "    .dataframe tbody tr th:only-of-type {\n",
              "        vertical-align: middle;\n",
              "    }\n",
              "\n",
              "    .dataframe tbody tr th {\n",
              "        vertical-align: top;\n",
              "    }\n",
              "\n",
              "    .dataframe thead th {\n",
              "        text-align: right;\n",
              "    }\n",
              "</style>\n",
              "<table border=\"1\" class=\"dataframe\">\n",
              "  <thead>\n",
              "    <tr style=\"text-align: right;\">\n",
              "      <th></th>\n",
              "      <th>birthplace</th>\n",
              "      <th>date_of_birth</th>\n",
              "      <th>race_ethnicity</th>\n",
              "      <th>religion</th>\n",
              "      <th>sexual_orientation</th>\n",
              "      <th>year_of_award</th>\n",
              "      <th>award</th>\n",
              "      <th>movie</th>\n",
              "      <th>person</th>\n",
              "    </tr>\n",
              "  </thead>\n",
              "  <tbody>\n",
              "    <tr>\n",
              "      <th>5</th>\n",
              "      <td>Glasgow, Scotland</td>\n",
              "      <td>1886-02-02</td>\n",
              "      <td>White</td>\n",
              "      <td>Na</td>\n",
              "      <td>Straight</td>\n",
              "      <td>1934</td>\n",
              "      <td>Best Director</td>\n",
              "      <td>Cavalcade</td>\n",
              "      <td>Frank Lloyd</td>\n",
              "    </tr>\n",
              "    <tr>\n",
              "      <th>6</th>\n",
              "      <td>Bisacquino, Sicily, Italy</td>\n",
              "      <td>1897-05-18</td>\n",
              "      <td>White</td>\n",
              "      <td>Roman Catholic</td>\n",
              "      <td>Straight</td>\n",
              "      <td>1935</td>\n",
              "      <td>Best Director</td>\n",
              "      <td>It Happened One Night</td>\n",
              "      <td>Frank Capra</td>\n",
              "    </tr>\n",
              "    <tr>\n",
              "      <th>7</th>\n",
              "      <td>Cape Elizabeth, Me</td>\n",
              "      <td>1894-02-01</td>\n",
              "      <td>White</td>\n",
              "      <td>Roman Catholic</td>\n",
              "      <td>Bisexual</td>\n",
              "      <td>1936</td>\n",
              "      <td>Best Director</td>\n",
              "      <td>The Informer</td>\n",
              "      <td>John Ford</td>\n",
              "    </tr>\n",
              "    <tr>\n",
              "      <th>8</th>\n",
              "      <td>Bisacquino, Sicily, Italy</td>\n",
              "      <td>1897-05-18</td>\n",
              "      <td>White</td>\n",
              "      <td>Roman Catholic</td>\n",
              "      <td>Straight</td>\n",
              "      <td>1937</td>\n",
              "      <td>Best Director</td>\n",
              "      <td>Mr. Deeds Goes to Town</td>\n",
              "      <td>Frank Capra</td>\n",
              "    </tr>\n",
              "    <tr>\n",
              "      <th>9</th>\n",
              "      <td>Los Angeles, Ca</td>\n",
              "      <td>1898-10-03</td>\n",
              "      <td>White</td>\n",
              "      <td>Na</td>\n",
              "      <td>Straight</td>\n",
              "      <td>1938</td>\n",
              "      <td>Best Director</td>\n",
              "      <td>The Awful Truth</td>\n",
              "      <td>Leo McCarey</td>\n",
              "    </tr>\n",
              "  </tbody>\n",
              "</table>\n",
              "</div>"
            ],
            "text/plain": [
              "                  birthplace date_of_birth  ...                   movie       person\n",
              "5          Glasgow, Scotland    1886-02-02  ...               Cavalcade  Frank Lloyd\n",
              "6  Bisacquino, Sicily, Italy    1897-05-18  ...   It Happened One Night  Frank Capra\n",
              "7         Cape Elizabeth, Me    1894-02-01  ...            The Informer    John Ford\n",
              "8  Bisacquino, Sicily, Italy    1897-05-18  ...  Mr. Deeds Goes to Town  Frank Capra\n",
              "9            Los Angeles, Ca    1898-10-03  ...         The Awful Truth  Leo McCarey\n",
              "\n",
              "[5 rows x 9 columns]"
            ]
          },
          "metadata": {
            "tags": []
          },
          "execution_count": 122
        }
      ]
    },
    {
      "cell_type": "code",
      "metadata": {
        "id": "WNkGvXawFSfm",
        "colab_type": "code",
        "outputId": "f52304a5-aee2-41c7-d217-931d1613028b",
        "colab": {
          "base_uri": "https://localhost:8080/",
          "height": 289
        }
      },
      "source": [
        "oscars_short.iloc[10:20:2]"
      ],
      "execution_count": 0,
      "outputs": [
        {
          "output_type": "execute_result",
          "data": {
            "text/html": [
              "<div>\n",
              "<style scoped>\n",
              "    .dataframe tbody tr th:only-of-type {\n",
              "        vertical-align: middle;\n",
              "    }\n",
              "\n",
              "    .dataframe tbody tr th {\n",
              "        vertical-align: top;\n",
              "    }\n",
              "\n",
              "    .dataframe thead th {\n",
              "        text-align: right;\n",
              "    }\n",
              "</style>\n",
              "<table border=\"1\" class=\"dataframe\">\n",
              "  <thead>\n",
              "    <tr style=\"text-align: right;\">\n",
              "      <th></th>\n",
              "      <th>birthplace</th>\n",
              "      <th>date_of_birth</th>\n",
              "      <th>race_ethnicity</th>\n",
              "      <th>religion</th>\n",
              "      <th>sexual_orientation</th>\n",
              "      <th>year_of_award</th>\n",
              "      <th>award</th>\n",
              "      <th>movie</th>\n",
              "      <th>person</th>\n",
              "    </tr>\n",
              "  </thead>\n",
              "  <tbody>\n",
              "    <tr>\n",
              "      <th>10</th>\n",
              "      <td>Bisacquino, Sicily, Italy</td>\n",
              "      <td>1897-05-18</td>\n",
              "      <td>White</td>\n",
              "      <td>Roman Catholic</td>\n",
              "      <td>Straight</td>\n",
              "      <td>1939</td>\n",
              "      <td>Best Director</td>\n",
              "      <td>You Can't Take It with You</td>\n",
              "      <td>Frank Capra</td>\n",
              "    </tr>\n",
              "    <tr>\n",
              "      <th>12</th>\n",
              "      <td>Cape Elizabeth, Me</td>\n",
              "      <td>1894-02-01</td>\n",
              "      <td>White</td>\n",
              "      <td>Roman Catholic</td>\n",
              "      <td>Bisexual</td>\n",
              "      <td>1941</td>\n",
              "      <td>Best Director</td>\n",
              "      <td>The Grapes of Wrath</td>\n",
              "      <td>John Ford</td>\n",
              "    </tr>\n",
              "    <tr>\n",
              "      <th>14</th>\n",
              "      <td>Mulhouse, Haut-Rhin, Alsace, France</td>\n",
              "      <td>1902-07-01</td>\n",
              "      <td>White</td>\n",
              "      <td>Na</td>\n",
              "      <td>Straight</td>\n",
              "      <td>1943</td>\n",
              "      <td>Best Director</td>\n",
              "      <td>Mrs. Miniver</td>\n",
              "      <td>William Wyler</td>\n",
              "    </tr>\n",
              "    <tr>\n",
              "      <th>16</th>\n",
              "      <td>Los Angeles, Ca</td>\n",
              "      <td>1898-10-03</td>\n",
              "      <td>White</td>\n",
              "      <td>Na</td>\n",
              "      <td>Straight</td>\n",
              "      <td>1945</td>\n",
              "      <td>Best Director</td>\n",
              "      <td>Going My Way</td>\n",
              "      <td>Leo McCarey</td>\n",
              "    </tr>\n",
              "    <tr>\n",
              "      <th>18</th>\n",
              "      <td>Sucha, Galicia, Austria</td>\n",
              "      <td>2006-06-22</td>\n",
              "      <td>White</td>\n",
              "      <td>Jewish</td>\n",
              "      <td>Straight</td>\n",
              "      <td>1946</td>\n",
              "      <td>Best Director</td>\n",
              "      <td>The Lost Weekend</td>\n",
              "      <td>Billy Wilder</td>\n",
              "    </tr>\n",
              "  </tbody>\n",
              "</table>\n",
              "</div>"
            ],
            "text/plain": [
              "                             birthplace  ...         person\n",
              "10            Bisacquino, Sicily, Italy  ...    Frank Capra\n",
              "12                   Cape Elizabeth, Me  ...      John Ford\n",
              "14  Mulhouse, Haut-Rhin, Alsace, France  ...  William Wyler\n",
              "16                      Los Angeles, Ca  ...    Leo McCarey\n",
              "18              Sucha, Galicia, Austria  ...   Billy Wilder\n",
              "\n",
              "[5 rows x 9 columns]"
            ]
          },
          "metadata": {
            "tags": []
          },
          "execution_count": 123
        }
      ]
    },
    {
      "cell_type": "code",
      "metadata": {
        "id": "pUrdCc5IFSfo",
        "colab_type": "code",
        "outputId": "f3f4cd85-a5d2-4cc3-ac2a-fbb885f5c12b",
        "colab": {
          "base_uri": "https://localhost:8080/",
          "height": 191
        }
      },
      "source": [
        "oscars_short.iloc[5]"
      ],
      "execution_count": 0,
      "outputs": [
        {
          "output_type": "execute_result",
          "data": {
            "text/plain": [
              "birthplace              Glasgow, Scotland\n",
              "date_of_birth         1886-02-02 00:00:00\n",
              "race_ethnicity                      White\n",
              "religion                               Na\n",
              "sexual_orientation               Straight\n",
              "year_of_award                        1934\n",
              "award                       Best Director\n",
              "movie                           Cavalcade\n",
              "person                        Frank Lloyd\n",
              "Name: 5, dtype: object"
            ]
          },
          "metadata": {
            "tags": []
          },
          "execution_count": 124
        }
      ]
    },
    {
      "cell_type": "code",
      "metadata": {
        "id": "RpzXYlhgFSfp",
        "colab_type": "code",
        "outputId": "615327e4-7663-4137-e67c-08d23eac0f1c",
        "colab": {
          "base_uri": "https://localhost:8080/",
          "height": 191
        }
      },
      "source": [
        "oscars_short.loc[5]"
      ],
      "execution_count": 0,
      "outputs": [
        {
          "output_type": "execute_result",
          "data": {
            "text/plain": [
              "birthplace              Glasgow, Scotland\n",
              "date_of_birth         1886-02-02 00:00:00\n",
              "race_ethnicity                      White\n",
              "religion                               Na\n",
              "sexual_orientation               Straight\n",
              "year_of_award                        1934\n",
              "award                       Best Director\n",
              "movie                           Cavalcade\n",
              "person                        Frank Lloyd\n",
              "Name: 5, dtype: object"
            ]
          },
          "metadata": {
            "tags": []
          },
          "execution_count": 125
        }
      ]
    },
    {
      "cell_type": "code",
      "metadata": {
        "id": "Zi7FOQTLFSfs",
        "colab_type": "code",
        "outputId": "eb1094d9-e16c-4870-ca77-3f2f22ffb2c1",
        "colab": {
          "base_uri": "https://localhost:8080/",
          "height": 145
        }
      },
      "source": [
        "oscars_short.loc[[5,10]]"
      ],
      "execution_count": 0,
      "outputs": [
        {
          "output_type": "execute_result",
          "data": {
            "text/html": [
              "<div>\n",
              "<style scoped>\n",
              "    .dataframe tbody tr th:only-of-type {\n",
              "        vertical-align: middle;\n",
              "    }\n",
              "\n",
              "    .dataframe tbody tr th {\n",
              "        vertical-align: top;\n",
              "    }\n",
              "\n",
              "    .dataframe thead th {\n",
              "        text-align: right;\n",
              "    }\n",
              "</style>\n",
              "<table border=\"1\" class=\"dataframe\">\n",
              "  <thead>\n",
              "    <tr style=\"text-align: right;\">\n",
              "      <th></th>\n",
              "      <th>birthplace</th>\n",
              "      <th>date_of_birth</th>\n",
              "      <th>race_ethnicity</th>\n",
              "      <th>religion</th>\n",
              "      <th>sexual_orientation</th>\n",
              "      <th>year_of_award</th>\n",
              "      <th>award</th>\n",
              "      <th>movie</th>\n",
              "      <th>person</th>\n",
              "    </tr>\n",
              "  </thead>\n",
              "  <tbody>\n",
              "    <tr>\n",
              "      <th>5</th>\n",
              "      <td>Glasgow, Scotland</td>\n",
              "      <td>1886-02-02</td>\n",
              "      <td>White</td>\n",
              "      <td>Na</td>\n",
              "      <td>Straight</td>\n",
              "      <td>1934</td>\n",
              "      <td>Best Director</td>\n",
              "      <td>Cavalcade</td>\n",
              "      <td>Frank Lloyd</td>\n",
              "    </tr>\n",
              "    <tr>\n",
              "      <th>10</th>\n",
              "      <td>Bisacquino, Sicily, Italy</td>\n",
              "      <td>1897-05-18</td>\n",
              "      <td>White</td>\n",
              "      <td>Roman Catholic</td>\n",
              "      <td>Straight</td>\n",
              "      <td>1939</td>\n",
              "      <td>Best Director</td>\n",
              "      <td>You Can't Take It with You</td>\n",
              "      <td>Frank Capra</td>\n",
              "    </tr>\n",
              "  </tbody>\n",
              "</table>\n",
              "</div>"
            ],
            "text/plain": [
              "                   birthplace  ...       person\n",
              "5           Glasgow, Scotland  ...  Frank Lloyd\n",
              "10  Bisacquino, Sicily, Italy  ...  Frank Capra\n",
              "\n",
              "[2 rows x 9 columns]"
            ]
          },
          "metadata": {
            "tags": []
          },
          "execution_count": 126
        }
      ]
    },
    {
      "cell_type": "markdown",
      "metadata": {
        "id": "2EfD-_vZFSfy",
        "colab_type": "text"
      },
      "source": [
        "### Selecting Data Frame Columns and Rows simultaneously\n",
        "\n",
        "#### _loc_ and _iloc_ allows us to do it"
      ]
    },
    {
      "cell_type": "code",
      "metadata": {
        "id": "1IGhvMetFSfy",
        "colab_type": "code",
        "outputId": "a85d1485-c1c6-4acf-8107-6481ab900f73",
        "colab": {
          "base_uri": "https://localhost:8080/",
          "height": 529
        }
      },
      "source": [
        "oscars_short.head(10)"
      ],
      "execution_count": 0,
      "outputs": [
        {
          "output_type": "execute_result",
          "data": {
            "text/html": [
              "<div>\n",
              "<style scoped>\n",
              "    .dataframe tbody tr th:only-of-type {\n",
              "        vertical-align: middle;\n",
              "    }\n",
              "\n",
              "    .dataframe tbody tr th {\n",
              "        vertical-align: top;\n",
              "    }\n",
              "\n",
              "    .dataframe thead th {\n",
              "        text-align: right;\n",
              "    }\n",
              "</style>\n",
              "<table border=\"1\" class=\"dataframe\">\n",
              "  <thead>\n",
              "    <tr style=\"text-align: right;\">\n",
              "      <th></th>\n",
              "      <th>birthplace</th>\n",
              "      <th>date_of_birth</th>\n",
              "      <th>race_ethnicity</th>\n",
              "      <th>religion</th>\n",
              "      <th>sexual_orientation</th>\n",
              "      <th>year_of_award</th>\n",
              "      <th>award</th>\n",
              "      <th>movie</th>\n",
              "      <th>person</th>\n",
              "    </tr>\n",
              "  </thead>\n",
              "  <tbody>\n",
              "    <tr>\n",
              "      <th>0</th>\n",
              "      <td>Chisinau, Moldova</td>\n",
              "      <td>1895-09-30</td>\n",
              "      <td>White</td>\n",
              "      <td>Na</td>\n",
              "      <td>Straight</td>\n",
              "      <td>1927</td>\n",
              "      <td>Best Director</td>\n",
              "      <td>Two Arabian Knights</td>\n",
              "      <td>Lewis Milestone</td>\n",
              "    </tr>\n",
              "    <tr>\n",
              "      <th>1</th>\n",
              "      <td>Glasgow, Scotland</td>\n",
              "      <td>1886-02-02</td>\n",
              "      <td>White</td>\n",
              "      <td>Na</td>\n",
              "      <td>Straight</td>\n",
              "      <td>1930</td>\n",
              "      <td>Best Director</td>\n",
              "      <td>The Divine Lady</td>\n",
              "      <td>Frank Lloyd</td>\n",
              "    </tr>\n",
              "    <tr>\n",
              "      <th>2</th>\n",
              "      <td>Chisinau, Moldova</td>\n",
              "      <td>1895-09-30</td>\n",
              "      <td>White</td>\n",
              "      <td>Na</td>\n",
              "      <td>Straight</td>\n",
              "      <td>1931</td>\n",
              "      <td>Best Director</td>\n",
              "      <td>All Quiet on the Western Front</td>\n",
              "      <td>Lewis Milestone</td>\n",
              "    </tr>\n",
              "    <tr>\n",
              "      <th>3</th>\n",
              "      <td>Chicago, Il</td>\n",
              "      <td>1899-02-23</td>\n",
              "      <td>White</td>\n",
              "      <td>Na</td>\n",
              "      <td>Straight</td>\n",
              "      <td>1932</td>\n",
              "      <td>Best Director</td>\n",
              "      <td>Skippy</td>\n",
              "      <td>Norman Taurog</td>\n",
              "    </tr>\n",
              "    <tr>\n",
              "      <th>4</th>\n",
              "      <td>Salt Lake City, Ut</td>\n",
              "      <td>1894-04-23</td>\n",
              "      <td>White</td>\n",
              "      <td>Roman Catholic</td>\n",
              "      <td>Straight</td>\n",
              "      <td>1933</td>\n",
              "      <td>Best Director</td>\n",
              "      <td>Bad Girl</td>\n",
              "      <td>Frank Borzage</td>\n",
              "    </tr>\n",
              "    <tr>\n",
              "      <th>5</th>\n",
              "      <td>Glasgow, Scotland</td>\n",
              "      <td>1886-02-02</td>\n",
              "      <td>White</td>\n",
              "      <td>Na</td>\n",
              "      <td>Straight</td>\n",
              "      <td>1934</td>\n",
              "      <td>Best Director</td>\n",
              "      <td>Cavalcade</td>\n",
              "      <td>Frank Lloyd</td>\n",
              "    </tr>\n",
              "    <tr>\n",
              "      <th>6</th>\n",
              "      <td>Bisacquino, Sicily, Italy</td>\n",
              "      <td>1897-05-18</td>\n",
              "      <td>White</td>\n",
              "      <td>Roman Catholic</td>\n",
              "      <td>Straight</td>\n",
              "      <td>1935</td>\n",
              "      <td>Best Director</td>\n",
              "      <td>It Happened One Night</td>\n",
              "      <td>Frank Capra</td>\n",
              "    </tr>\n",
              "    <tr>\n",
              "      <th>7</th>\n",
              "      <td>Cape Elizabeth, Me</td>\n",
              "      <td>1894-02-01</td>\n",
              "      <td>White</td>\n",
              "      <td>Roman Catholic</td>\n",
              "      <td>Bisexual</td>\n",
              "      <td>1936</td>\n",
              "      <td>Best Director</td>\n",
              "      <td>The Informer</td>\n",
              "      <td>John Ford</td>\n",
              "    </tr>\n",
              "    <tr>\n",
              "      <th>8</th>\n",
              "      <td>Bisacquino, Sicily, Italy</td>\n",
              "      <td>1897-05-18</td>\n",
              "      <td>White</td>\n",
              "      <td>Roman Catholic</td>\n",
              "      <td>Straight</td>\n",
              "      <td>1937</td>\n",
              "      <td>Best Director</td>\n",
              "      <td>Mr. Deeds Goes to Town</td>\n",
              "      <td>Frank Capra</td>\n",
              "    </tr>\n",
              "    <tr>\n",
              "      <th>9</th>\n",
              "      <td>Los Angeles, Ca</td>\n",
              "      <td>1898-10-03</td>\n",
              "      <td>White</td>\n",
              "      <td>Na</td>\n",
              "      <td>Straight</td>\n",
              "      <td>1938</td>\n",
              "      <td>Best Director</td>\n",
              "      <td>The Awful Truth</td>\n",
              "      <td>Leo McCarey</td>\n",
              "    </tr>\n",
              "  </tbody>\n",
              "</table>\n",
              "</div>"
            ],
            "text/plain": [
              "                  birthplace  ...           person\n",
              "0          Chisinau, Moldova  ...  Lewis Milestone\n",
              "1          Glasgow, Scotland  ...      Frank Lloyd\n",
              "2          Chisinau, Moldova  ...  Lewis Milestone\n",
              "3                Chicago, Il  ...    Norman Taurog\n",
              "4         Salt Lake City, Ut  ...    Frank Borzage\n",
              "5          Glasgow, Scotland  ...      Frank Lloyd\n",
              "6  Bisacquino, Sicily, Italy  ...      Frank Capra\n",
              "7         Cape Elizabeth, Me  ...        John Ford\n",
              "8  Bisacquino, Sicily, Italy  ...      Frank Capra\n",
              "9            Los Angeles, Ca  ...      Leo McCarey\n",
              "\n",
              "[10 rows x 9 columns]"
            ]
          },
          "metadata": {
            "tags": []
          },
          "execution_count": 127
        }
      ]
    },
    {
      "cell_type": "code",
      "metadata": {
        "id": "1U-OzEvgFSf3",
        "colab_type": "code",
        "outputId": "7e7a4b29-5ef6-440f-8342-14c2bf9b45ec",
        "colab": {
          "base_uri": "https://localhost:8080/",
          "height": 35
        }
      },
      "source": [
        "oscars_short.iloc[1,5]"
      ],
      "execution_count": 0,
      "outputs": [
        {
          "output_type": "execute_result",
          "data": {
            "text/plain": [
              "1930"
            ]
          },
          "metadata": {
            "tags": []
          },
          "execution_count": 128
        }
      ]
    },
    {
      "cell_type": "code",
      "metadata": {
        "id": "DJVw9JTvFSf4",
        "colab_type": "code",
        "outputId": "79c685f0-81ba-4a1e-ccdb-c82cc85d8fa9",
        "colab": {
          "base_uri": "https://localhost:8080/",
          "height": 141
        }
      },
      "source": [
        "oscars_short.iloc[:3,:5]"
      ],
      "execution_count": 0,
      "outputs": [
        {
          "output_type": "execute_result",
          "data": {
            "text/html": [
              "<div>\n",
              "<style scoped>\n",
              "    .dataframe tbody tr th:only-of-type {\n",
              "        vertical-align: middle;\n",
              "    }\n",
              "\n",
              "    .dataframe tbody tr th {\n",
              "        vertical-align: top;\n",
              "    }\n",
              "\n",
              "    .dataframe thead th {\n",
              "        text-align: right;\n",
              "    }\n",
              "</style>\n",
              "<table border=\"1\" class=\"dataframe\">\n",
              "  <thead>\n",
              "    <tr style=\"text-align: right;\">\n",
              "      <th></th>\n",
              "      <th>birthplace</th>\n",
              "      <th>date_of_birth</th>\n",
              "      <th>race_ethnicity</th>\n",
              "      <th>religion</th>\n",
              "      <th>sexual_orientation</th>\n",
              "    </tr>\n",
              "  </thead>\n",
              "  <tbody>\n",
              "    <tr>\n",
              "      <th>0</th>\n",
              "      <td>Chisinau, Moldova</td>\n",
              "      <td>1895-09-30</td>\n",
              "      <td>White</td>\n",
              "      <td>Na</td>\n",
              "      <td>Straight</td>\n",
              "    </tr>\n",
              "    <tr>\n",
              "      <th>1</th>\n",
              "      <td>Glasgow, Scotland</td>\n",
              "      <td>1886-02-02</td>\n",
              "      <td>White</td>\n",
              "      <td>Na</td>\n",
              "      <td>Straight</td>\n",
              "    </tr>\n",
              "    <tr>\n",
              "      <th>2</th>\n",
              "      <td>Chisinau, Moldova</td>\n",
              "      <td>1895-09-30</td>\n",
              "      <td>White</td>\n",
              "      <td>Na</td>\n",
              "      <td>Straight</td>\n",
              "    </tr>\n",
              "  </tbody>\n",
              "</table>\n",
              "</div>"
            ],
            "text/plain": [
              "          birthplace date_of_birth race_ethnicity religion sexual_orientation\n",
              "0  Chisinau, Moldova    1895-09-30          White       Na           Straight\n",
              "1  Glasgow, Scotland    1886-02-02          White       Na           Straight\n",
              "2  Chisinau, Moldova    1895-09-30          White       Na           Straight"
            ]
          },
          "metadata": {
            "tags": []
          },
          "execution_count": 129
        }
      ]
    },
    {
      "cell_type": "code",
      "metadata": {
        "id": "fzuioFUmFSf6",
        "colab_type": "code",
        "outputId": "08fff8c0-7a0c-4071-dc15-50aa79f9f1d3",
        "colab": {
          "base_uri": "https://localhost:8080/",
          "height": 415
        }
      },
      "source": [
        "oscars_short.iloc[:,[2,5]]"
      ],
      "execution_count": 0,
      "outputs": [
        {
          "output_type": "execute_result",
          "data": {
            "text/html": [
              "<div>\n",
              "<style scoped>\n",
              "    .dataframe tbody tr th:only-of-type {\n",
              "        vertical-align: middle;\n",
              "    }\n",
              "\n",
              "    .dataframe tbody tr th {\n",
              "        vertical-align: top;\n",
              "    }\n",
              "\n",
              "    .dataframe thead th {\n",
              "        text-align: right;\n",
              "    }\n",
              "</style>\n",
              "<table border=\"1\" class=\"dataframe\">\n",
              "  <thead>\n",
              "    <tr style=\"text-align: right;\">\n",
              "      <th></th>\n",
              "      <th>race_ethnicity</th>\n",
              "      <th>year_of_award</th>\n",
              "    </tr>\n",
              "  </thead>\n",
              "  <tbody>\n",
              "    <tr>\n",
              "      <th>0</th>\n",
              "      <td>White</td>\n",
              "      <td>1927</td>\n",
              "    </tr>\n",
              "    <tr>\n",
              "      <th>1</th>\n",
              "      <td>White</td>\n",
              "      <td>1930</td>\n",
              "    </tr>\n",
              "    <tr>\n",
              "      <th>2</th>\n",
              "      <td>White</td>\n",
              "      <td>1931</td>\n",
              "    </tr>\n",
              "    <tr>\n",
              "      <th>3</th>\n",
              "      <td>White</td>\n",
              "      <td>1932</td>\n",
              "    </tr>\n",
              "    <tr>\n",
              "      <th>4</th>\n",
              "      <td>White</td>\n",
              "      <td>1933</td>\n",
              "    </tr>\n",
              "    <tr>\n",
              "      <th>...</th>\n",
              "      <td>...</td>\n",
              "      <td>...</td>\n",
              "    </tr>\n",
              "    <tr>\n",
              "      <th>436</th>\n",
              "      <td>White</td>\n",
              "      <td>2006</td>\n",
              "    </tr>\n",
              "    <tr>\n",
              "      <th>437</th>\n",
              "      <td>White</td>\n",
              "      <td>2009</td>\n",
              "    </tr>\n",
              "    <tr>\n",
              "      <th>438</th>\n",
              "      <td>White</td>\n",
              "      <td>1977</td>\n",
              "    </tr>\n",
              "    <tr>\n",
              "      <th>439</th>\n",
              "      <td>White</td>\n",
              "      <td>1999</td>\n",
              "    </tr>\n",
              "    <tr>\n",
              "      <th>440</th>\n",
              "      <td>White</td>\n",
              "      <td>1949</td>\n",
              "    </tr>\n",
              "  </tbody>\n",
              "</table>\n",
              "<p>441 rows × 2 columns</p>\n",
              "</div>"
            ],
            "text/plain": [
              "    race_ethnicity  year_of_award\n",
              "0            White           1927\n",
              "1            White           1930\n",
              "2            White           1931\n",
              "3            White           1932\n",
              "4            White           1933\n",
              "..             ...            ...\n",
              "436          White           2006\n",
              "437          White           2009\n",
              "438          White           1977\n",
              "439          White           1999\n",
              "440          White           1949\n",
              "\n",
              "[441 rows x 2 columns]"
            ]
          },
          "metadata": {
            "tags": []
          },
          "execution_count": 130
        }
      ]
    },
    {
      "cell_type": "code",
      "metadata": {
        "id": "a1oDtQPlFSf9",
        "colab_type": "code",
        "outputId": "199dab6a-93e6-4878-eadf-4d8219f3809a",
        "colab": {
          "base_uri": "https://localhost:8080/",
          "height": 415
        }
      },
      "source": [
        "oscars_short.loc[:,['birthplace','date_of_birth']]"
      ],
      "execution_count": 0,
      "outputs": [
        {
          "output_type": "execute_result",
          "data": {
            "text/html": [
              "<div>\n",
              "<style scoped>\n",
              "    .dataframe tbody tr th:only-of-type {\n",
              "        vertical-align: middle;\n",
              "    }\n",
              "\n",
              "    .dataframe tbody tr th {\n",
              "        vertical-align: top;\n",
              "    }\n",
              "\n",
              "    .dataframe thead th {\n",
              "        text-align: right;\n",
              "    }\n",
              "</style>\n",
              "<table border=\"1\" class=\"dataframe\">\n",
              "  <thead>\n",
              "    <tr style=\"text-align: right;\">\n",
              "      <th></th>\n",
              "      <th>birthplace</th>\n",
              "      <th>date_of_birth</th>\n",
              "    </tr>\n",
              "  </thead>\n",
              "  <tbody>\n",
              "    <tr>\n",
              "      <th>0</th>\n",
              "      <td>Chisinau, Moldova</td>\n",
              "      <td>1895-09-30</td>\n",
              "    </tr>\n",
              "    <tr>\n",
              "      <th>1</th>\n",
              "      <td>Glasgow, Scotland</td>\n",
              "      <td>1886-02-02</td>\n",
              "    </tr>\n",
              "    <tr>\n",
              "      <th>2</th>\n",
              "      <td>Chisinau, Moldova</td>\n",
              "      <td>1895-09-30</td>\n",
              "    </tr>\n",
              "    <tr>\n",
              "      <th>3</th>\n",
              "      <td>Chicago, Il</td>\n",
              "      <td>1899-02-23</td>\n",
              "    </tr>\n",
              "    <tr>\n",
              "      <th>4</th>\n",
              "      <td>Salt Lake City, Ut</td>\n",
              "      <td>1894-04-23</td>\n",
              "    </tr>\n",
              "    <tr>\n",
              "      <th>...</th>\n",
              "      <td>...</td>\n",
              "      <td>...</td>\n",
              "    </tr>\n",
              "    <tr>\n",
              "      <th>436</th>\n",
              "      <td>London, England</td>\n",
              "      <td>1971-03-07</td>\n",
              "    </tr>\n",
              "    <tr>\n",
              "      <th>437</th>\n",
              "      <td>Manchester, England</td>\n",
              "      <td>2056-10-20</td>\n",
              "    </tr>\n",
              "    <tr>\n",
              "      <th>438</th>\n",
              "      <td>Chicago, Il</td>\n",
              "      <td>2022-07-26</td>\n",
              "    </tr>\n",
              "    <tr>\n",
              "      <th>439</th>\n",
              "      <td>Laurel, Ne</td>\n",
              "      <td>2028-08-31</td>\n",
              "    </tr>\n",
              "    <tr>\n",
              "      <th>440</th>\n",
              "      <td>Nevada, Mo</td>\n",
              "      <td>2006-08-05</td>\n",
              "    </tr>\n",
              "  </tbody>\n",
              "</table>\n",
              "<p>441 rows × 2 columns</p>\n",
              "</div>"
            ],
            "text/plain": [
              "              birthplace date_of_birth\n",
              "0      Chisinau, Moldova    1895-09-30\n",
              "1      Glasgow, Scotland    1886-02-02\n",
              "2      Chisinau, Moldova    1895-09-30\n",
              "3            Chicago, Il    1899-02-23\n",
              "4     Salt Lake City, Ut    1894-04-23\n",
              "..                   ...           ...\n",
              "436      London, England    1971-03-07\n",
              "437  Manchester, England    2056-10-20\n",
              "438          Chicago, Il    2022-07-26\n",
              "439           Laurel, Ne    2028-08-31\n",
              "440           Nevada, Mo    2006-08-05\n",
              "\n",
              "[441 rows x 2 columns]"
            ]
          },
          "metadata": {
            "tags": []
          },
          "execution_count": 131
        }
      ]
    },
    {
      "cell_type": "code",
      "metadata": {
        "id": "4-PXnzelFSgA",
        "colab_type": "code",
        "outputId": "cccc4284-e19b-4a98-f8a6-773d5d28b744",
        "colab": {
          "base_uri": "https://localhost:8080/",
          "height": 529
        }
      },
      "source": [
        "oscars_short.head(10)"
      ],
      "execution_count": 0,
      "outputs": [
        {
          "output_type": "execute_result",
          "data": {
            "text/html": [
              "<div>\n",
              "<style scoped>\n",
              "    .dataframe tbody tr th:only-of-type {\n",
              "        vertical-align: middle;\n",
              "    }\n",
              "\n",
              "    .dataframe tbody tr th {\n",
              "        vertical-align: top;\n",
              "    }\n",
              "\n",
              "    .dataframe thead th {\n",
              "        text-align: right;\n",
              "    }\n",
              "</style>\n",
              "<table border=\"1\" class=\"dataframe\">\n",
              "  <thead>\n",
              "    <tr style=\"text-align: right;\">\n",
              "      <th></th>\n",
              "      <th>birthplace</th>\n",
              "      <th>date_of_birth</th>\n",
              "      <th>race_ethnicity</th>\n",
              "      <th>religion</th>\n",
              "      <th>sexual_orientation</th>\n",
              "      <th>year_of_award</th>\n",
              "      <th>award</th>\n",
              "      <th>movie</th>\n",
              "      <th>person</th>\n",
              "    </tr>\n",
              "  </thead>\n",
              "  <tbody>\n",
              "    <tr>\n",
              "      <th>0</th>\n",
              "      <td>Chisinau, Moldova</td>\n",
              "      <td>1895-09-30</td>\n",
              "      <td>White</td>\n",
              "      <td>Na</td>\n",
              "      <td>Straight</td>\n",
              "      <td>1927</td>\n",
              "      <td>Best Director</td>\n",
              "      <td>Two Arabian Knights</td>\n",
              "      <td>Lewis Milestone</td>\n",
              "    </tr>\n",
              "    <tr>\n",
              "      <th>1</th>\n",
              "      <td>Glasgow, Scotland</td>\n",
              "      <td>1886-02-02</td>\n",
              "      <td>White</td>\n",
              "      <td>Na</td>\n",
              "      <td>Straight</td>\n",
              "      <td>1930</td>\n",
              "      <td>Best Director</td>\n",
              "      <td>The Divine Lady</td>\n",
              "      <td>Frank Lloyd</td>\n",
              "    </tr>\n",
              "    <tr>\n",
              "      <th>2</th>\n",
              "      <td>Chisinau, Moldova</td>\n",
              "      <td>1895-09-30</td>\n",
              "      <td>White</td>\n",
              "      <td>Na</td>\n",
              "      <td>Straight</td>\n",
              "      <td>1931</td>\n",
              "      <td>Best Director</td>\n",
              "      <td>All Quiet on the Western Front</td>\n",
              "      <td>Lewis Milestone</td>\n",
              "    </tr>\n",
              "    <tr>\n",
              "      <th>3</th>\n",
              "      <td>Chicago, Il</td>\n",
              "      <td>1899-02-23</td>\n",
              "      <td>White</td>\n",
              "      <td>Na</td>\n",
              "      <td>Straight</td>\n",
              "      <td>1932</td>\n",
              "      <td>Best Director</td>\n",
              "      <td>Skippy</td>\n",
              "      <td>Norman Taurog</td>\n",
              "    </tr>\n",
              "    <tr>\n",
              "      <th>4</th>\n",
              "      <td>Salt Lake City, Ut</td>\n",
              "      <td>1894-04-23</td>\n",
              "      <td>White</td>\n",
              "      <td>Roman Catholic</td>\n",
              "      <td>Straight</td>\n",
              "      <td>1933</td>\n",
              "      <td>Best Director</td>\n",
              "      <td>Bad Girl</td>\n",
              "      <td>Frank Borzage</td>\n",
              "    </tr>\n",
              "    <tr>\n",
              "      <th>5</th>\n",
              "      <td>Glasgow, Scotland</td>\n",
              "      <td>1886-02-02</td>\n",
              "      <td>White</td>\n",
              "      <td>Na</td>\n",
              "      <td>Straight</td>\n",
              "      <td>1934</td>\n",
              "      <td>Best Director</td>\n",
              "      <td>Cavalcade</td>\n",
              "      <td>Frank Lloyd</td>\n",
              "    </tr>\n",
              "    <tr>\n",
              "      <th>6</th>\n",
              "      <td>Bisacquino, Sicily, Italy</td>\n",
              "      <td>1897-05-18</td>\n",
              "      <td>White</td>\n",
              "      <td>Roman Catholic</td>\n",
              "      <td>Straight</td>\n",
              "      <td>1935</td>\n",
              "      <td>Best Director</td>\n",
              "      <td>It Happened One Night</td>\n",
              "      <td>Frank Capra</td>\n",
              "    </tr>\n",
              "    <tr>\n",
              "      <th>7</th>\n",
              "      <td>Cape Elizabeth, Me</td>\n",
              "      <td>1894-02-01</td>\n",
              "      <td>White</td>\n",
              "      <td>Roman Catholic</td>\n",
              "      <td>Bisexual</td>\n",
              "      <td>1936</td>\n",
              "      <td>Best Director</td>\n",
              "      <td>The Informer</td>\n",
              "      <td>John Ford</td>\n",
              "    </tr>\n",
              "    <tr>\n",
              "      <th>8</th>\n",
              "      <td>Bisacquino, Sicily, Italy</td>\n",
              "      <td>1897-05-18</td>\n",
              "      <td>White</td>\n",
              "      <td>Roman Catholic</td>\n",
              "      <td>Straight</td>\n",
              "      <td>1937</td>\n",
              "      <td>Best Director</td>\n",
              "      <td>Mr. Deeds Goes to Town</td>\n",
              "      <td>Frank Capra</td>\n",
              "    </tr>\n",
              "    <tr>\n",
              "      <th>9</th>\n",
              "      <td>Los Angeles, Ca</td>\n",
              "      <td>1898-10-03</td>\n",
              "      <td>White</td>\n",
              "      <td>Na</td>\n",
              "      <td>Straight</td>\n",
              "      <td>1938</td>\n",
              "      <td>Best Director</td>\n",
              "      <td>The Awful Truth</td>\n",
              "      <td>Leo McCarey</td>\n",
              "    </tr>\n",
              "  </tbody>\n",
              "</table>\n",
              "</div>"
            ],
            "text/plain": [
              "                  birthplace  ...           person\n",
              "0          Chisinau, Moldova  ...  Lewis Milestone\n",
              "1          Glasgow, Scotland  ...      Frank Lloyd\n",
              "2          Chisinau, Moldova  ...  Lewis Milestone\n",
              "3                Chicago, Il  ...    Norman Taurog\n",
              "4         Salt Lake City, Ut  ...    Frank Borzage\n",
              "5          Glasgow, Scotland  ...      Frank Lloyd\n",
              "6  Bisacquino, Sicily, Italy  ...      Frank Capra\n",
              "7         Cape Elizabeth, Me  ...        John Ford\n",
              "8  Bisacquino, Sicily, Italy  ...      Frank Capra\n",
              "9            Los Angeles, Ca  ...      Leo McCarey\n",
              "\n",
              "[10 rows x 9 columns]"
            ]
          },
          "metadata": {
            "tags": []
          },
          "execution_count": 132
        }
      ]
    },
    {
      "cell_type": "code",
      "metadata": {
        "id": "J6WmJWP8FSgC",
        "colab_type": "code",
        "outputId": "5992e8aa-7250-4db7-f709-8deabe4a5043",
        "colab": {
          "base_uri": "https://localhost:8080/",
          "height": 121
        }
      },
      "source": [
        "oscars_short.iloc[1:10:2,1]"
      ],
      "execution_count": 0,
      "outputs": [
        {
          "output_type": "execute_result",
          "data": {
            "text/plain": [
              "1   1886-02-02\n",
              "3   1899-02-23\n",
              "5   1886-02-02\n",
              "7   1894-02-01\n",
              "9   1898-10-03\n",
              "Name: date_of_birth, dtype: datetime64[ns]"
            ]
          },
          "metadata": {
            "tags": []
          },
          "execution_count": 133
        }
      ]
    },
    {
      "cell_type": "code",
      "metadata": {
        "id": "nGC1Tr2KFSgF",
        "colab_type": "code",
        "outputId": "2d7c3ba7-8e29-4fc7-aa10-422307d5d126",
        "colab": {
          "base_uri": "https://localhost:8080/",
          "height": 121
        }
      },
      "source": [
        "oscars_short.loc[1:10:2,'date_of_birth']"
      ],
      "execution_count": 0,
      "outputs": [
        {
          "output_type": "execute_result",
          "data": {
            "text/plain": [
              "1   1886-02-02\n",
              "3   1899-02-23\n",
              "5   1886-02-02\n",
              "7   1894-02-01\n",
              "9   1898-10-03\n",
              "Name: date_of_birth, dtype: datetime64[ns]"
            ]
          },
          "metadata": {
            "tags": []
          },
          "execution_count": 134
        }
      ]
    },
    {
      "cell_type": "markdown",
      "metadata": {
        "id": "xGzavWA9FSgI",
        "colab_type": "text"
      },
      "source": [
        "### Boolean indexing\n",
        "We will try to find out which of the business with more than 100 reviews. To do that, we will start by creating a serie with boolean elements for each of the business:"
      ]
    },
    {
      "cell_type": "code",
      "metadata": {
        "id": "5YWGDC9mFSgJ",
        "colab_type": "code",
        "colab": {}
      },
      "source": [
        "oscars_last_20_years=oscars_short['year_of_award']>1999"
      ],
      "execution_count": 0,
      "outputs": []
    },
    {
      "cell_type": "code",
      "metadata": {
        "id": "SWt0j5wuFSgL",
        "colab_type": "code",
        "outputId": "66c530aa-c23e-4bd0-86dc-2bc746d4c703",
        "colab": {
          "base_uri": "https://localhost:8080/",
          "height": 225
        }
      },
      "source": [
        "oscars_last_20_years"
      ],
      "execution_count": 0,
      "outputs": [
        {
          "output_type": "execute_result",
          "data": {
            "text/plain": [
              "0      False\n",
              "1      False\n",
              "2      False\n",
              "3      False\n",
              "4      False\n",
              "       ...  \n",
              "436     True\n",
              "437     True\n",
              "438    False\n",
              "439    False\n",
              "440    False\n",
              "Name: year_of_award, Length: 441, dtype: bool"
            ]
          },
          "metadata": {
            "tags": []
          },
          "execution_count": 136
        }
      ]
    },
    {
      "cell_type": "markdown",
      "metadata": {
        "id": "tiVc-PbsFSgN",
        "colab_type": "text"
      },
      "source": [
        "As we saw, we can _sum_ boolean values, adding 1 if it is True and 0 if False. So if we want to know how many of them are dated in the last 20years, all we need to know is to sum up the values:"
      ]
    },
    {
      "cell_type": "code",
      "metadata": {
        "id": "5GfP7WFmFSgO",
        "colab_type": "code",
        "outputId": "5db44d72-1ba5-453c-e298-d61169e207b3",
        "colab": {
          "base_uri": "https://localhost:8080/",
          "height": 35
        }
      },
      "source": [
        "oscars_last_20_years.sum()"
      ],
      "execution_count": 0,
      "outputs": [
        {
          "output_type": "execute_result",
          "data": {
            "text/plain": [
              "82"
            ]
          },
          "metadata": {
            "tags": []
          },
          "execution_count": 137
        }
      ]
    },
    {
      "cell_type": "markdown",
      "metadata": {
        "id": "PgyvNLKfFSgP",
        "colab_type": "text"
      },
      "source": [
        "If we want to know the % we can use _mean_ and multiply by 100:"
      ]
    },
    {
      "cell_type": "code",
      "metadata": {
        "id": "gVGIbj5mFSgQ",
        "colab_type": "code",
        "outputId": "700b6364-f16c-44d9-81ee-07a1251aae9a",
        "colab": {
          "base_uri": "https://localhost:8080/",
          "height": 35
        }
      },
      "source": [
        "oscars_last_20_years.mean() * 100"
      ],
      "execution_count": 0,
      "outputs": [
        {
          "output_type": "execute_result",
          "data": {
            "text/plain": [
              "18.594104308390023"
            ]
          },
          "metadata": {
            "tags": []
          },
          "execution_count": 138
        }
      ]
    },
    {
      "cell_type": "code",
      "metadata": {
        "id": "IWRasArSFSgU",
        "colab_type": "code",
        "outputId": "90936c4e-c273-4eac-d7d0-f630bc3656b0",
        "colab": {
          "base_uri": "https://localhost:8080/",
          "height": 104
        }
      },
      "source": [
        "oscars_last_20_years.describe()"
      ],
      "execution_count": 0,
      "outputs": [
        {
          "output_type": "execute_result",
          "data": {
            "text/plain": [
              "count       441\n",
              "unique        2\n",
              "top       False\n",
              "freq        359\n",
              "Name: year_of_award, dtype: object"
            ]
          },
          "metadata": {
            "tags": []
          },
          "execution_count": 139
        }
      ]
    },
    {
      "cell_type": "code",
      "metadata": {
        "id": "OVUlH0sHFSgV",
        "colab_type": "code",
        "outputId": "fdfc393b-55d1-4f7d-9db9-457b86e1e77d",
        "colab": {
          "base_uri": "https://localhost:8080/",
          "height": 69
        }
      },
      "source": [
        "oscars_last_20_years.value_counts()"
      ],
      "execution_count": 0,
      "outputs": [
        {
          "output_type": "execute_result",
          "data": {
            "text/plain": [
              "False    359\n",
              "True      82\n",
              "Name: year_of_award, dtype: int64"
            ]
          },
          "metadata": {
            "tags": []
          },
          "execution_count": 140
        }
      ]
    },
    {
      "cell_type": "markdown",
      "metadata": {
        "id": "yYoaE1qTFSgX",
        "colab_type": "text"
      },
      "source": [
        "We just created a boolean series by comparing a column with a condition. We can also create a series based on two different columns."
      ]
    },
    {
      "cell_type": "code",
      "metadata": {
        "id": "6d24ssMzFSgY",
        "colab_type": "code",
        "colab": {}
      },
      "source": [
        "oscars_best_director=oscars_short.award.str.contains('Best Director')"
      ],
      "execution_count": 0,
      "outputs": []
    },
    {
      "cell_type": "code",
      "metadata": {
        "id": "C5sQB-O1FSga",
        "colab_type": "code",
        "outputId": "6d4de36b-f3dc-484c-f7ca-3b4f7ebf2a4b",
        "colab": {
          "base_uri": "https://localhost:8080/",
          "height": 121
        }
      },
      "source": [
        "oscars_best_director.head()"
      ],
      "execution_count": 0,
      "outputs": [
        {
          "output_type": "execute_result",
          "data": {
            "text/plain": [
              "0    True\n",
              "1    True\n",
              "2    True\n",
              "3    True\n",
              "4    True\n",
              "Name: award, dtype: bool"
            ]
          },
          "metadata": {
            "tags": []
          },
          "execution_count": 142
        }
      ]
    },
    {
      "cell_type": "code",
      "metadata": {
        "id": "CV-c410fFSgd",
        "colab_type": "code",
        "outputId": "06156981-7f67-474d-d85b-7acb4533240e",
        "colab": {
          "base_uri": "https://localhost:8080/",
          "height": 69
        }
      },
      "source": [
        "oscars_best_director.value_counts()"
      ],
      "execution_count": 0,
      "outputs": [
        {
          "output_type": "execute_result",
          "data": {
            "text/plain": [
              "False    350\n",
              "True      91\n",
              "Name: award, dtype: int64"
            ]
          },
          "metadata": {
            "tags": []
          },
          "execution_count": 143
        }
      ]
    },
    {
      "cell_type": "markdown",
      "metadata": {
        "id": "FNecVtQSFSgf",
        "colab_type": "text"
      },
      "source": [
        "we can combine both:"
      ]
    },
    {
      "cell_type": "code",
      "metadata": {
        "id": "_DOFkt7iFSgf",
        "colab_type": "code",
        "outputId": "be87cd67-3f74-4dc3-c21c-bf069db56210",
        "colab": {
          "base_uri": "https://localhost:8080/",
          "height": 225
        }
      },
      "source": [
        "oscars_last_20_years & oscars_best_director"
      ],
      "execution_count": 0,
      "outputs": [
        {
          "output_type": "execute_result",
          "data": {
            "text/plain": [
              "0      False\n",
              "1      False\n",
              "2      False\n",
              "3      False\n",
              "4      False\n",
              "       ...  \n",
              "436    False\n",
              "437     True\n",
              "438    False\n",
              "439    False\n",
              "440    False\n",
              "Length: 441, dtype: bool"
            ]
          },
          "metadata": {
            "tags": []
          },
          "execution_count": 144
        }
      ]
    },
    {
      "cell_type": "code",
      "metadata": {
        "id": "uGX3N4bqFSgh",
        "colab_type": "code",
        "outputId": "d5caed9e-59b3-4b62-a5ae-0b87ff25befb",
        "colab": {
          "base_uri": "https://localhost:8080/",
          "height": 69
        }
      },
      "source": [
        "(oscars_last_20_years & oscars_best_director).value_counts()"
      ],
      "execution_count": 0,
      "outputs": [
        {
          "output_type": "execute_result",
          "data": {
            "text/plain": [
              "False    425\n",
              "True      16\n",
              "dtype: int64"
            ]
          },
          "metadata": {
            "tags": []
          },
          "execution_count": 145
        }
      ]
    },
    {
      "cell_type": "markdown",
      "metadata": {
        "id": "R3J_SNakFSgj",
        "colab_type": "text"
      },
      "source": [
        "### Filtering with boolean indexing\n",
        "\n",
        "We will use the boolean series created to filter the information of the records that match the conditions"
      ]
    },
    {
      "cell_type": "code",
      "metadata": {
        "id": "chlKRRiCFSgk",
        "colab_type": "code",
        "outputId": "d9b25f64-a6f6-4980-aa40-fc573f98c461",
        "colab": {
          "base_uri": "https://localhost:8080/",
          "height": 571
        }
      },
      "source": [
        "oscars_short[oscars_last_20_years]"
      ],
      "execution_count": 0,
      "outputs": [
        {
          "output_type": "execute_result",
          "data": {
            "text/html": [
              "<div>\n",
              "<style scoped>\n",
              "    .dataframe tbody tr th:only-of-type {\n",
              "        vertical-align: middle;\n",
              "    }\n",
              "\n",
              "    .dataframe tbody tr th {\n",
              "        vertical-align: top;\n",
              "    }\n",
              "\n",
              "    .dataframe thead th {\n",
              "        text-align: right;\n",
              "    }\n",
              "</style>\n",
              "<table border=\"1\" class=\"dataframe\">\n",
              "  <thead>\n",
              "    <tr style=\"text-align: right;\">\n",
              "      <th></th>\n",
              "      <th>birthplace</th>\n",
              "      <th>date_of_birth</th>\n",
              "      <th>race_ethnicity</th>\n",
              "      <th>religion</th>\n",
              "      <th>sexual_orientation</th>\n",
              "      <th>year_of_award</th>\n",
              "      <th>award</th>\n",
              "      <th>movie</th>\n",
              "      <th>person</th>\n",
              "    </tr>\n",
              "  </thead>\n",
              "  <tbody>\n",
              "    <tr>\n",
              "      <th>41</th>\n",
              "      <td>St. Louis Park, Mn</td>\n",
              "      <td>2054-11-29</td>\n",
              "      <td>White</td>\n",
              "      <td>Jewish</td>\n",
              "      <td>Straight</td>\n",
              "      <td>2008</td>\n",
              "      <td>Best Director</td>\n",
              "      <td>No Country for Old Men</td>\n",
              "      <td>Joel Coen</td>\n",
              "    </tr>\n",
              "    <tr>\n",
              "      <th>73</th>\n",
              "      <td>Reading, Berkshire, England</td>\n",
              "      <td>2065-08-01</td>\n",
              "      <td>White</td>\n",
              "      <td>Na</td>\n",
              "      <td>Straight</td>\n",
              "      <td>2000</td>\n",
              "      <td>Best Director</td>\n",
              "      <td>American Beauty</td>\n",
              "      <td>Sam Mendes</td>\n",
              "    </tr>\n",
              "    <tr>\n",
              "      <th>74</th>\n",
              "      <td>Atlanta, Ga</td>\n",
              "      <td>2063-01-14</td>\n",
              "      <td>White</td>\n",
              "      <td>Atheist</td>\n",
              "      <td>Straight</td>\n",
              "      <td>2001</td>\n",
              "      <td>Best Director</td>\n",
              "      <td>Traffic</td>\n",
              "      <td>Steven Soderbergh</td>\n",
              "    </tr>\n",
              "    <tr>\n",
              "      <th>75</th>\n",
              "      <td>Duncan, Ok</td>\n",
              "      <td>2054-03-01</td>\n",
              "      <td>White</td>\n",
              "      <td>Na</td>\n",
              "      <td>Straight</td>\n",
              "      <td>2002</td>\n",
              "      <td>Best Director</td>\n",
              "      <td>A Beautiful Mind</td>\n",
              "      <td>Ron Howard</td>\n",
              "    </tr>\n",
              "    <tr>\n",
              "      <th>76</th>\n",
              "      <td>Paris, France</td>\n",
              "      <td>2033-08-18</td>\n",
              "      <td>White</td>\n",
              "      <td>See Note</td>\n",
              "      <td>Straight</td>\n",
              "      <td>2003</td>\n",
              "      <td>Best Director</td>\n",
              "      <td>The Pianist</td>\n",
              "      <td>Roman Polanski</td>\n",
              "    </tr>\n",
              "    <tr>\n",
              "      <th>...</th>\n",
              "      <td>...</td>\n",
              "      <td>...</td>\n",
              "      <td>...</td>\n",
              "      <td>...</td>\n",
              "      <td>...</td>\n",
              "      <td>...</td>\n",
              "      <td>...</td>\n",
              "      <td>...</td>\n",
              "      <td>...</td>\n",
              "    </tr>\n",
              "    <tr>\n",
              "      <th>430</th>\n",
              "      <td>Lincoln, Ne</td>\n",
              "      <td>1974-07-30</td>\n",
              "      <td>White</td>\n",
              "      <td>Na</td>\n",
              "      <td>Straight</td>\n",
              "      <td>2005</td>\n",
              "      <td>Best Actress</td>\n",
              "      <td>Million Dollar Baby</td>\n",
              "      <td>Hilary Swank</td>\n",
              "    </tr>\n",
              "    <tr>\n",
              "      <th>433</th>\n",
              "      <td>Woodlawn, Md</td>\n",
              "      <td>2067-12-11</td>\n",
              "      <td>Black</td>\n",
              "      <td>Na</td>\n",
              "      <td>Straight</td>\n",
              "      <td>2010</td>\n",
              "      <td>Best Supporting Actress</td>\n",
              "      <td>Precious</td>\n",
              "      <td>Mo'Nique</td>\n",
              "    </tr>\n",
              "    <tr>\n",
              "      <th>434</th>\n",
              "      <td>La Jolla, Ca</td>\n",
              "      <td>2059-08-14</td>\n",
              "      <td>White</td>\n",
              "      <td>Na</td>\n",
              "      <td>Straight</td>\n",
              "      <td>2001</td>\n",
              "      <td>Best Supporting Actress</td>\n",
              "      <td>Pollock</td>\n",
              "      <td>Marcia Gay Harden</td>\n",
              "    </tr>\n",
              "    <tr>\n",
              "      <th>436</th>\n",
              "      <td>London, England</td>\n",
              "      <td>1971-03-07</td>\n",
              "      <td>White</td>\n",
              "      <td>Jewish</td>\n",
              "      <td>Straight</td>\n",
              "      <td>2006</td>\n",
              "      <td>Best Supporting Actress</td>\n",
              "      <td>The Constant Gardener</td>\n",
              "      <td>Rachel Weisz</td>\n",
              "    </tr>\n",
              "    <tr>\n",
              "      <th>437</th>\n",
              "      <td>Manchester, England</td>\n",
              "      <td>2056-10-20</td>\n",
              "      <td>White</td>\n",
              "      <td>Roman Catholic</td>\n",
              "      <td>Straight</td>\n",
              "      <td>2009</td>\n",
              "      <td>Best Director</td>\n",
              "      <td>Slumdog Millionaire</td>\n",
              "      <td>Danny Boyle</td>\n",
              "    </tr>\n",
              "  </tbody>\n",
              "</table>\n",
              "<p>82 rows × 9 columns</p>\n",
              "</div>"
            ],
            "text/plain": [
              "                      birthplace  ...             person\n",
              "41            St. Louis Park, Mn  ...          Joel Coen\n",
              "73   Reading, Berkshire, England  ...         Sam Mendes\n",
              "74                   Atlanta, Ga  ...  Steven Soderbergh\n",
              "75                    Duncan, Ok  ...         Ron Howard\n",
              "76                 Paris, France  ...     Roman Polanski\n",
              "..                           ...  ...                ...\n",
              "430                  Lincoln, Ne  ...       Hilary Swank\n",
              "433                 Woodlawn, Md  ...           Mo'Nique\n",
              "434                 La Jolla, Ca  ...  Marcia Gay Harden\n",
              "436              London, England  ...       Rachel Weisz\n",
              "437          Manchester, England  ...        Danny Boyle\n",
              "\n",
              "[82 rows x 9 columns]"
            ]
          },
          "metadata": {
            "tags": []
          },
          "execution_count": 146
        }
      ]
    },
    {
      "cell_type": "code",
      "metadata": {
        "id": "kKkZrr7gFSgn",
        "colab_type": "code",
        "outputId": "f9b0b058-ce4b-48b3-c5ce-4ab878729e51",
        "colab": {
          "base_uri": "https://localhost:8080/",
          "height": 589
        }
      },
      "source": [
        "oscars_short[oscars_best_director]"
      ],
      "execution_count": 0,
      "outputs": [
        {
          "output_type": "execute_result",
          "data": {
            "text/html": [
              "<div>\n",
              "<style scoped>\n",
              "    .dataframe tbody tr th:only-of-type {\n",
              "        vertical-align: middle;\n",
              "    }\n",
              "\n",
              "    .dataframe tbody tr th {\n",
              "        vertical-align: top;\n",
              "    }\n",
              "\n",
              "    .dataframe thead th {\n",
              "        text-align: right;\n",
              "    }\n",
              "</style>\n",
              "<table border=\"1\" class=\"dataframe\">\n",
              "  <thead>\n",
              "    <tr style=\"text-align: right;\">\n",
              "      <th></th>\n",
              "      <th>birthplace</th>\n",
              "      <th>date_of_birth</th>\n",
              "      <th>race_ethnicity</th>\n",
              "      <th>religion</th>\n",
              "      <th>sexual_orientation</th>\n",
              "      <th>year_of_award</th>\n",
              "      <th>award</th>\n",
              "      <th>movie</th>\n",
              "      <th>person</th>\n",
              "    </tr>\n",
              "  </thead>\n",
              "  <tbody>\n",
              "    <tr>\n",
              "      <th>0</th>\n",
              "      <td>Chisinau, Moldova</td>\n",
              "      <td>1895-09-30</td>\n",
              "      <td>White</td>\n",
              "      <td>Na</td>\n",
              "      <td>Straight</td>\n",
              "      <td>1927</td>\n",
              "      <td>Best Director</td>\n",
              "      <td>Two Arabian Knights</td>\n",
              "      <td>Lewis Milestone</td>\n",
              "    </tr>\n",
              "    <tr>\n",
              "      <th>1</th>\n",
              "      <td>Glasgow, Scotland</td>\n",
              "      <td>1886-02-02</td>\n",
              "      <td>White</td>\n",
              "      <td>Na</td>\n",
              "      <td>Straight</td>\n",
              "      <td>1930</td>\n",
              "      <td>Best Director</td>\n",
              "      <td>The Divine Lady</td>\n",
              "      <td>Frank Lloyd</td>\n",
              "    </tr>\n",
              "    <tr>\n",
              "      <th>2</th>\n",
              "      <td>Chisinau, Moldova</td>\n",
              "      <td>1895-09-30</td>\n",
              "      <td>White</td>\n",
              "      <td>Na</td>\n",
              "      <td>Straight</td>\n",
              "      <td>1931</td>\n",
              "      <td>Best Director</td>\n",
              "      <td>All Quiet on the Western Front</td>\n",
              "      <td>Lewis Milestone</td>\n",
              "    </tr>\n",
              "    <tr>\n",
              "      <th>3</th>\n",
              "      <td>Chicago, Il</td>\n",
              "      <td>1899-02-23</td>\n",
              "      <td>White</td>\n",
              "      <td>Na</td>\n",
              "      <td>Straight</td>\n",
              "      <td>1932</td>\n",
              "      <td>Best Director</td>\n",
              "      <td>Skippy</td>\n",
              "      <td>Norman Taurog</td>\n",
              "    </tr>\n",
              "    <tr>\n",
              "      <th>4</th>\n",
              "      <td>Salt Lake City, Ut</td>\n",
              "      <td>1894-04-23</td>\n",
              "      <td>White</td>\n",
              "      <td>Roman Catholic</td>\n",
              "      <td>Straight</td>\n",
              "      <td>1933</td>\n",
              "      <td>Best Director</td>\n",
              "      <td>Bad Girl</td>\n",
              "      <td>Frank Borzage</td>\n",
              "    </tr>\n",
              "    <tr>\n",
              "      <th>...</th>\n",
              "      <td>...</td>\n",
              "      <td>...</td>\n",
              "      <td>...</td>\n",
              "      <td>...</td>\n",
              "      <td>...</td>\n",
              "      <td>...</td>\n",
              "      <td>...</td>\n",
              "      <td>...</td>\n",
              "      <td>...</td>\n",
              "    </tr>\n",
              "    <tr>\n",
              "      <th>86</th>\n",
              "      <td>Pingtung, Taiwan</td>\n",
              "      <td>2054-10-23</td>\n",
              "      <td>Asian</td>\n",
              "      <td>Na</td>\n",
              "      <td>Straight</td>\n",
              "      <td>2013</td>\n",
              "      <td>Best Director</td>\n",
              "      <td>Life of Pi</td>\n",
              "      <td>Ang Lee</td>\n",
              "    </tr>\n",
              "    <tr>\n",
              "      <th>416</th>\n",
              "      <td>Sucha, Galicia, Austria</td>\n",
              "      <td>2006-06-22</td>\n",
              "      <td>White</td>\n",
              "      <td>Jewish</td>\n",
              "      <td>Straight</td>\n",
              "      <td>1961</td>\n",
              "      <td>Best Director</td>\n",
              "      <td>The Apartment</td>\n",
              "      <td>Billy Wilder</td>\n",
              "    </tr>\n",
              "    <tr>\n",
              "      <th>419</th>\n",
              "      <td>New York City</td>\n",
              "      <td>2039-02-03</td>\n",
              "      <td>White</td>\n",
              "      <td>Na</td>\n",
              "      <td>Straight</td>\n",
              "      <td>1979</td>\n",
              "      <td>Best Director</td>\n",
              "      <td>The Deer Hunter</td>\n",
              "      <td>Michael Cimino</td>\n",
              "    </tr>\n",
              "    <tr>\n",
              "      <th>437</th>\n",
              "      <td>Manchester, England</td>\n",
              "      <td>2056-10-20</td>\n",
              "      <td>White</td>\n",
              "      <td>Roman Catholic</td>\n",
              "      <td>Straight</td>\n",
              "      <td>2009</td>\n",
              "      <td>Best Director</td>\n",
              "      <td>Slumdog Millionaire</td>\n",
              "      <td>Danny Boyle</td>\n",
              "    </tr>\n",
              "    <tr>\n",
              "      <th>440</th>\n",
              "      <td>Nevada, Mo</td>\n",
              "      <td>2006-08-05</td>\n",
              "      <td>White</td>\n",
              "      <td>Na</td>\n",
              "      <td>Straight</td>\n",
              "      <td>1949</td>\n",
              "      <td>Best Director</td>\n",
              "      <td>The Treasure of the Sierra Madre</td>\n",
              "      <td>John Huston</td>\n",
              "    </tr>\n",
              "  </tbody>\n",
              "</table>\n",
              "<p>91 rows × 9 columns</p>\n",
              "</div>"
            ],
            "text/plain": [
              "                  birthplace  ...           person\n",
              "0          Chisinau, Moldova  ...  Lewis Milestone\n",
              "1          Glasgow, Scotland  ...      Frank Lloyd\n",
              "2          Chisinau, Moldova  ...  Lewis Milestone\n",
              "3                Chicago, Il  ...    Norman Taurog\n",
              "4         Salt Lake City, Ut  ...    Frank Borzage\n",
              "..                       ...  ...              ...\n",
              "86          Pingtung, Taiwan  ...          Ang Lee\n",
              "416  Sucha, Galicia, Austria  ...     Billy Wilder\n",
              "419            New York City  ...   Michael Cimino\n",
              "437      Manchester, England  ...      Danny Boyle\n",
              "440               Nevada, Mo  ...      John Huston\n",
              "\n",
              "[91 rows x 9 columns]"
            ]
          },
          "metadata": {
            "tags": []
          },
          "execution_count": 147
        }
      ]
    },
    {
      "cell_type": "code",
      "metadata": {
        "scrolled": false,
        "id": "T0JecZ8iFShA",
        "colab_type": "code",
        "outputId": "24ff3925-d25c-424c-9869-8a855b61a632",
        "colab": {
          "base_uri": "https://localhost:8080/",
          "height": 817
        }
      },
      "source": [
        "oscars_short[(oscars_last_20_years&oscars_best_director)]"
      ],
      "execution_count": 0,
      "outputs": [
        {
          "output_type": "execute_result",
          "data": {
            "text/html": [
              "<div>\n",
              "<style scoped>\n",
              "    .dataframe tbody tr th:only-of-type {\n",
              "        vertical-align: middle;\n",
              "    }\n",
              "\n",
              "    .dataframe tbody tr th {\n",
              "        vertical-align: top;\n",
              "    }\n",
              "\n",
              "    .dataframe thead th {\n",
              "        text-align: right;\n",
              "    }\n",
              "</style>\n",
              "<table border=\"1\" class=\"dataframe\">\n",
              "  <thead>\n",
              "    <tr style=\"text-align: right;\">\n",
              "      <th></th>\n",
              "      <th>birthplace</th>\n",
              "      <th>date_of_birth</th>\n",
              "      <th>race_ethnicity</th>\n",
              "      <th>religion</th>\n",
              "      <th>sexual_orientation</th>\n",
              "      <th>year_of_award</th>\n",
              "      <th>award</th>\n",
              "      <th>movie</th>\n",
              "      <th>person</th>\n",
              "    </tr>\n",
              "  </thead>\n",
              "  <tbody>\n",
              "    <tr>\n",
              "      <th>41</th>\n",
              "      <td>St. Louis Park, Mn</td>\n",
              "      <td>2054-11-29</td>\n",
              "      <td>White</td>\n",
              "      <td>Jewish</td>\n",
              "      <td>Straight</td>\n",
              "      <td>2008</td>\n",
              "      <td>Best Director</td>\n",
              "      <td>No Country for Old Men</td>\n",
              "      <td>Joel Coen</td>\n",
              "    </tr>\n",
              "    <tr>\n",
              "      <th>73</th>\n",
              "      <td>Reading, Berkshire, England</td>\n",
              "      <td>2065-08-01</td>\n",
              "      <td>White</td>\n",
              "      <td>Na</td>\n",
              "      <td>Straight</td>\n",
              "      <td>2000</td>\n",
              "      <td>Best Director</td>\n",
              "      <td>American Beauty</td>\n",
              "      <td>Sam Mendes</td>\n",
              "    </tr>\n",
              "    <tr>\n",
              "      <th>74</th>\n",
              "      <td>Atlanta, Ga</td>\n",
              "      <td>2063-01-14</td>\n",
              "      <td>White</td>\n",
              "      <td>Atheist</td>\n",
              "      <td>Straight</td>\n",
              "      <td>2001</td>\n",
              "      <td>Best Director</td>\n",
              "      <td>Traffic</td>\n",
              "      <td>Steven Soderbergh</td>\n",
              "    </tr>\n",
              "    <tr>\n",
              "      <th>75</th>\n",
              "      <td>Duncan, Ok</td>\n",
              "      <td>2054-03-01</td>\n",
              "      <td>White</td>\n",
              "      <td>Na</td>\n",
              "      <td>Straight</td>\n",
              "      <td>2002</td>\n",
              "      <td>Best Director</td>\n",
              "      <td>A Beautiful Mind</td>\n",
              "      <td>Ron Howard</td>\n",
              "    </tr>\n",
              "    <tr>\n",
              "      <th>76</th>\n",
              "      <td>Paris, France</td>\n",
              "      <td>2033-08-18</td>\n",
              "      <td>White</td>\n",
              "      <td>See Note</td>\n",
              "      <td>Straight</td>\n",
              "      <td>2003</td>\n",
              "      <td>Best Director</td>\n",
              "      <td>The Pianist</td>\n",
              "      <td>Roman Polanski</td>\n",
              "    </tr>\n",
              "    <tr>\n",
              "      <th>77</th>\n",
              "      <td>Wellington, New Zealand</td>\n",
              "      <td>2061-10-31</td>\n",
              "      <td>White</td>\n",
              "      <td>Na</td>\n",
              "      <td>Straight</td>\n",
              "      <td>2004</td>\n",
              "      <td>Best Director</td>\n",
              "      <td>The Lord of the Rings: Return of the King</td>\n",
              "      <td>Peter Jackson</td>\n",
              "    </tr>\n",
              "    <tr>\n",
              "      <th>78</th>\n",
              "      <td>San Francisco, Ca</td>\n",
              "      <td>2030-05-31</td>\n",
              "      <td>White</td>\n",
              "      <td>Na</td>\n",
              "      <td>Straight</td>\n",
              "      <td>2005</td>\n",
              "      <td>Best Director</td>\n",
              "      <td>Million Dollar Baby</td>\n",
              "      <td>Clint Eastwood</td>\n",
              "    </tr>\n",
              "    <tr>\n",
              "      <th>79</th>\n",
              "      <td>Pingtung, Taiwan</td>\n",
              "      <td>2054-10-23</td>\n",
              "      <td>Asian</td>\n",
              "      <td>Na</td>\n",
              "      <td>Straight</td>\n",
              "      <td>2006</td>\n",
              "      <td>Best Director</td>\n",
              "      <td>Brokeback Mountain</td>\n",
              "      <td>Ang Lee</td>\n",
              "    </tr>\n",
              "    <tr>\n",
              "      <th>80</th>\n",
              "      <td>Flushing, Ny</td>\n",
              "      <td>2042-11-17</td>\n",
              "      <td>White</td>\n",
              "      <td>Roman Catholic</td>\n",
              "      <td>Straight</td>\n",
              "      <td>2007</td>\n",
              "      <td>Best Director</td>\n",
              "      <td>The Departed</td>\n",
              "      <td>Martin Scorsese</td>\n",
              "    </tr>\n",
              "    <tr>\n",
              "      <th>81</th>\n",
              "      <td>St. Louis Park, Mn</td>\n",
              "      <td>2057-09-21</td>\n",
              "      <td>White</td>\n",
              "      <td>Jewish</td>\n",
              "      <td>Straight</td>\n",
              "      <td>2008</td>\n",
              "      <td>Best Director</td>\n",
              "      <td>No Country for Old Men</td>\n",
              "      <td>Ethan Coen</td>\n",
              "    </tr>\n",
              "    <tr>\n",
              "      <th>82</th>\n",
              "      <td>Manchester, England</td>\n",
              "      <td>2056-10-20</td>\n",
              "      <td>White</td>\n",
              "      <td>Roman Catholic</td>\n",
              "      <td>Straight</td>\n",
              "      <td>2009</td>\n",
              "      <td>Best Director</td>\n",
              "      <td>Slumdog Millionaire</td>\n",
              "      <td>Danny Boyle</td>\n",
              "    </tr>\n",
              "    <tr>\n",
              "      <th>83</th>\n",
              "      <td>San Carlos, Ca</td>\n",
              "      <td>2051-11-27</td>\n",
              "      <td>White</td>\n",
              "      <td>Na</td>\n",
              "      <td>Straight</td>\n",
              "      <td>2009</td>\n",
              "      <td>Best Director</td>\n",
              "      <td>The Hurt Locker</td>\n",
              "      <td>Kathryn Bigelow</td>\n",
              "    </tr>\n",
              "    <tr>\n",
              "      <th>84</th>\n",
              "      <td>London, England</td>\n",
              "      <td>1972-01-01</td>\n",
              "      <td>White</td>\n",
              "      <td>Na</td>\n",
              "      <td>Na</td>\n",
              "      <td>2011</td>\n",
              "      <td>Best Director</td>\n",
              "      <td>The King's Speech</td>\n",
              "      <td>Tom Hooper</td>\n",
              "    </tr>\n",
              "    <tr>\n",
              "      <th>85</th>\n",
              "      <td>Paris, France</td>\n",
              "      <td>2067-03-29</td>\n",
              "      <td>White</td>\n",
              "      <td>Jewish</td>\n",
              "      <td>Straight</td>\n",
              "      <td>2012</td>\n",
              "      <td>Best Director</td>\n",
              "      <td>The Artist</td>\n",
              "      <td>Michel Hazanavicius</td>\n",
              "    </tr>\n",
              "    <tr>\n",
              "      <th>86</th>\n",
              "      <td>Pingtung, Taiwan</td>\n",
              "      <td>2054-10-23</td>\n",
              "      <td>Asian</td>\n",
              "      <td>Na</td>\n",
              "      <td>Straight</td>\n",
              "      <td>2013</td>\n",
              "      <td>Best Director</td>\n",
              "      <td>Life of Pi</td>\n",
              "      <td>Ang Lee</td>\n",
              "    </tr>\n",
              "    <tr>\n",
              "      <th>437</th>\n",
              "      <td>Manchester, England</td>\n",
              "      <td>2056-10-20</td>\n",
              "      <td>White</td>\n",
              "      <td>Roman Catholic</td>\n",
              "      <td>Straight</td>\n",
              "      <td>2009</td>\n",
              "      <td>Best Director</td>\n",
              "      <td>Slumdog Millionaire</td>\n",
              "      <td>Danny Boyle</td>\n",
              "    </tr>\n",
              "  </tbody>\n",
              "</table>\n",
              "</div>"
            ],
            "text/plain": [
              "                      birthplace  ...               person\n",
              "41            St. Louis Park, Mn  ...            Joel Coen\n",
              "73   Reading, Berkshire, England  ...           Sam Mendes\n",
              "74                   Atlanta, Ga  ...    Steven Soderbergh\n",
              "75                    Duncan, Ok  ...           Ron Howard\n",
              "76                 Paris, France  ...       Roman Polanski\n",
              "77       Wellington, New Zealand  ...        Peter Jackson\n",
              "78             San Francisco, Ca  ...       Clint Eastwood\n",
              "79              Pingtung, Taiwan  ...              Ang Lee\n",
              "80                  Flushing, Ny  ...      Martin Scorsese\n",
              "81            St. Louis Park, Mn  ...           Ethan Coen\n",
              "82           Manchester, England  ...          Danny Boyle\n",
              "83                San Carlos, Ca  ...      Kathryn Bigelow\n",
              "84               London, England  ...           Tom Hooper\n",
              "85                 Paris, France  ...  Michel Hazanavicius\n",
              "86              Pingtung, Taiwan  ...              Ang Lee\n",
              "437          Manchester, England  ...          Danny Boyle\n",
              "\n",
              "[16 rows x 9 columns]"
            ]
          },
          "metadata": {
            "tags": []
          },
          "execution_count": 148
        }
      ]
    },
    {
      "cell_type": "code",
      "metadata": {
        "id": "rSzqBVgQFShC",
        "colab_type": "code",
        "outputId": "47070a22-c408-4fb2-a0ef-4824a19e1ebd",
        "colab": {
          "base_uri": "https://localhost:8080/",
          "height": 191
        }
      },
      "source": [
        "oscars_short.count()"
      ],
      "execution_count": 0,
      "outputs": [
        {
          "output_type": "execute_result",
          "data": {
            "text/plain": [
              "birthplace            441\n",
              "date_of_birth         440\n",
              "race_ethnicity        441\n",
              "religion              441\n",
              "sexual_orientation    441\n",
              "year_of_award         441\n",
              "award                 441\n",
              "movie                 441\n",
              "person                441\n",
              "dtype: int64"
            ]
          },
          "metadata": {
            "tags": []
          },
          "execution_count": 149
        }
      ]
    },
    {
      "cell_type": "code",
      "metadata": {
        "id": "9mUnOOTXFShE",
        "colab_type": "code",
        "colab": {}
      },
      "source": [
        "oscars_short.drop_duplicates(inplace=True)"
      ],
      "execution_count": 0,
      "outputs": []
    },
    {
      "cell_type": "markdown",
      "metadata": {
        "id": "rMmBBOO9FShJ",
        "colab_type": "text"
      },
      "source": [
        "#  \n",
        "#  \n",
        "#  \n",
        "#  Data Visualization \n",
        "\n",
        "* Analizing viariables\n"
      ]
    },
    {
      "cell_type": "markdown",
      "metadata": {
        "id": "mo9cS-eUFShK",
        "colab_type": "text"
      },
      "source": [
        "### Histograms"
      ]
    },
    {
      "cell_type": "code",
      "metadata": {
        "id": "QxbbwVoNFShL",
        "colab_type": "code",
        "outputId": "bcb30dbe-f3c9-42f6-ab4e-c4acc4dd1f41",
        "colab": {
          "base_uri": "https://localhost:8080/",
          "height": 297
        }
      },
      "source": [
        "fig=plt.figure()\n",
        "ax = fig.add_subplot(111)\n",
        "\n",
        "plt.title('Year of Award variable: Histogram',fontsize=16,fontweight='bold')\n",
        "ax.set_xlabel('year of award')\n",
        "oscars_short['year_of_award'].plot.hist(color='darksalmon', figsize=(8, 4))\n",
        "\n",
        "plt.show()"
      ],
      "execution_count": 0,
      "outputs": [
        {
          "output_type": "display_data",
          "data": {
            "image/png": "[encoded data removed]",
            "text/plain": [
              "<Figure size 576x288 with 1 Axes>"
            ]
          },
          "metadata": {
            "tags": [],
            "needs_background": "light"
          }
        }
      ]
    },
    {
      "cell_type": "code",
      "metadata": {
        "id": "lRilpHkkFShN",
        "colab_type": "code",
        "outputId": "3035b777-3f61-4ac5-8a68-570b9753dd79",
        "colab": {
          "base_uri": "https://localhost:8080/",
          "height": 297
        }
      },
      "source": [
        "# the same, but horizontal\n",
        "fig=plt.figure()\n",
        "ax = fig.add_subplot(111)\n",
        "\n",
        "plt.title('Year of Award variable: Histogram',fontsize=16,fontweight='bold')\n",
        "ax.set_xlabel('year of award')\n",
        "oscars_short['year_of_award'].plot.hist(orientation='horizontal',color='lightblue', figsize=(8, 4))\n",
        "\n",
        "plt.show()"
      ],
      "execution_count": 0,
      "outputs": [
        {
          "output_type": "display_data",
          "data": {
            "image/png": "[encoded data removed]",
            "text/plain": [
              "<Figure size 576x288 with 1 Axes>"
            ]
          },
          "metadata": {
            "tags": [],
            "needs_background": "light"
          }
        }
      ]
    },
    {
      "cell_type": "markdown",
      "metadata": {
        "id": "kdRpAfukFShP",
        "colab_type": "text"
      },
      "source": [
        "### Density Plots"
      ]
    },
    {
      "cell_type": "code",
      "metadata": {
        "id": "7EDGonbYFShP",
        "colab_type": "code",
        "outputId": "4058b1b0-caa4-4312-be3c-360d44a9cc41",
        "colab": {
          "base_uri": "https://localhost:8080/",
          "height": 297
        }
      },
      "source": [
        "fig=plt.figure()\n",
        "ax = fig.add_subplot(111)\n",
        "\n",
        "plt.title('Year of Award variable: Histogram',fontsize=16,fontweight='bold')\n",
        "ax.set_xlabel('year of award')\n",
        "oscars_short['year_of_award'].plot.kde(color='lightgreen', figsize=(8, 4))\n",
        "\n",
        "plt.show()"
      ],
      "execution_count": 0,
      "outputs": [
        {
          "output_type": "display_data",
          "data": {
            "image/png": "[encoded data removed]",
            "text/plain": [
              "<Figure size 576x288 with 1 Axes>"
            ]
          },
          "metadata": {
            "tags": [],
            "needs_background": "light"
          }
        }
      ]
    },
    {
      "cell_type": "code",
      "metadata": {
        "id": "kLMOkd-rFShR",
        "colab_type": "code",
        "outputId": "dd9e4ee0-94af-449f-c670-0b26a1847da6",
        "colab": {
          "base_uri": "https://localhost:8080/",
          "height": 297
        }
      },
      "source": [
        "fig=plt.figure()\n",
        "ax = fig.add_subplot(111)\n",
        "\n",
        "plt.title('Year of Award variable: Histogram & KDE',fontsize=16,fontweight='bold')\n",
        "ax.set_xlabel('year of award')\n",
        "oscars_short['year_of_award'].plot.hist(color='lightsteelblue', figsize=(8, 4), density=True)\n",
        "oscars_short['year_of_award'].plot.kde(color='darkblue', ax=ax, secondary_y=True)\n",
        "\n",
        "ax.set_ylabel('Density')\n",
        "plt.show()\n"
      ],
      "execution_count": 0,
      "outputs": [
        {
          "output_type": "display_data",
          "data": {
            "image/png": "[encoded data removed]",
            "text/plain": [
              "<Figure size 576x288 with 2 Axes>"
            ]
          },
          "metadata": {
            "tags": [],
            "needs_background": "light"
          }
        }
      ]
    },
    {
      "cell_type": "code",
      "metadata": {
        "id": "bzFHYsV_FShY",
        "colab_type": "code",
        "outputId": "1ebcf7ef-d6d5-499f-c66c-02c1d060248f",
        "colab": {
          "base_uri": "https://localhost:8080/",
          "height": 313
        }
      },
      "source": [
        "# Density Plot and Histogram using sns\n",
        "sns.distplot(oscars_short['year_of_award'], hist=True, kde=True, \n",
        "             bins=int(180/5), color = 'lightblue', \n",
        "             hist_kws={'edgecolor':'grey'},\n",
        "             kde_kws={'linewidth': 4})\n",
        "\n",
        "plt.xlabel('Year of Award')\n",
        "plt.ylabel('Density')\n",
        "plt.title('Other histogram & dencity plot')\n"
      ],
      "execution_count": 0,
      "outputs": [
        {
          "output_type": "execute_result",
          "data": {
            "text/plain": [
              "Text(0.5, 1.0, 'Other histogram & dencity plot')"
            ]
          },
          "metadata": {
            "tags": []
          },
          "execution_count": 155
        },
        {
          "output_type": "display_data",
          "data": {
            "image/png": "[encoded data removed]",
            "text/plain": [
              "<Figure size 432x288 with 1 Axes>"
            ]
          },
          "metadata": {
            "tags": [],
            "needs_background": "light"
          }
        }
      ]
    },
    {
      "cell_type": "markdown",
      "metadata": {
        "id": "siyNxVeaFSha",
        "colab_type": "text"
      },
      "source": [
        "### Bar Plot"
      ]
    },
    {
      "cell_type": "code",
      "metadata": {
        "id": "JZTVNhRSFSha",
        "colab_type": "code",
        "outputId": "23c47323-39f3-49c9-d00f-b7f84615020e",
        "colab": {
          "base_uri": "https://localhost:8080/",
          "height": 225
        }
      },
      "source": [
        "oscars_per_person=oscars_short['person'].value_counts()\n",
        "oscars_per_person"
      ],
      "execution_count": 0,
      "outputs": [
        {
          "output_type": "execute_result",
          "data": {
            "text/plain": [
              "Katharine Hepburn    4\n",
              "John Ford            4\n",
              "Jack Nicholson       3\n",
              "Frank Capra          3\n",
              "Daniel Day-Lewis     3\n",
              "                    ..\n",
              "Humphrey Bogart      1\n",
              "Barry Levinson       1\n",
              "Mary Astor           1\n",
              "Joel Coen            1\n",
              "Estelle Parsons      1\n",
              "Name: person, Length: 348, dtype: int64"
            ]
          },
          "metadata": {
            "tags": []
          },
          "execution_count": 156
        }
      ]
    },
    {
      "cell_type": "code",
      "metadata": {
        "id": "oD9_R4Y0FShc",
        "colab_type": "code",
        "outputId": "028531c2-a3df-496b-c104-ad166ada5537",
        "colab": {
          "base_uri": "https://localhost:8080/",
          "height": 35
        }
      },
      "source": [
        "type(oscars_per_person)"
      ],
      "execution_count": 0,
      "outputs": [
        {
          "output_type": "execute_result",
          "data": {
            "text/plain": [
              "pandas.core.series.Series"
            ]
          },
          "metadata": {
            "tags": []
          },
          "execution_count": 157
        }
      ]
    },
    {
      "cell_type": "code",
      "metadata": {
        "id": "4kaXE95KFShf",
        "colab_type": "code",
        "outputId": "a0981542-c585-437a-8ae6-58946f83cfd2",
        "colab": {
          "base_uri": "https://localhost:8080/",
          "height": 415
        }
      },
      "source": [
        "oscars_per_person_df=oscars_per_person.to_frame()\n",
        "oscars_per_person_df"
      ],
      "execution_count": 0,
      "outputs": [
        {
          "output_type": "execute_result",
          "data": {
            "text/html": [
              "<div>\n",
              "<style scoped>\n",
              "    .dataframe tbody tr th:only-of-type {\n",
              "        vertical-align: middle;\n",
              "    }\n",
              "\n",
              "    .dataframe tbody tr th {\n",
              "        vertical-align: top;\n",
              "    }\n",
              "\n",
              "    .dataframe thead th {\n",
              "        text-align: right;\n",
              "    }\n",
              "</style>\n",
              "<table border=\"1\" class=\"dataframe\">\n",
              "  <thead>\n",
              "    <tr style=\"text-align: right;\">\n",
              "      <th></th>\n",
              "      <th>person</th>\n",
              "    </tr>\n",
              "  </thead>\n",
              "  <tbody>\n",
              "    <tr>\n",
              "      <th>Katharine Hepburn</th>\n",
              "      <td>4</td>\n",
              "    </tr>\n",
              "    <tr>\n",
              "      <th>John Ford</th>\n",
              "      <td>4</td>\n",
              "    </tr>\n",
              "    <tr>\n",
              "      <th>Jack Nicholson</th>\n",
              "      <td>3</td>\n",
              "    </tr>\n",
              "    <tr>\n",
              "      <th>Frank Capra</th>\n",
              "      <td>3</td>\n",
              "    </tr>\n",
              "    <tr>\n",
              "      <th>Daniel Day-Lewis</th>\n",
              "      <td>3</td>\n",
              "    </tr>\n",
              "    <tr>\n",
              "      <th>...</th>\n",
              "      <td>...</td>\n",
              "    </tr>\n",
              "    <tr>\n",
              "      <th>Humphrey Bogart</th>\n",
              "      <td>1</td>\n",
              "    </tr>\n",
              "    <tr>\n",
              "      <th>Barry Levinson</th>\n",
              "      <td>1</td>\n",
              "    </tr>\n",
              "    <tr>\n",
              "      <th>Mary Astor</th>\n",
              "      <td>1</td>\n",
              "    </tr>\n",
              "    <tr>\n",
              "      <th>Joel Coen</th>\n",
              "      <td>1</td>\n",
              "    </tr>\n",
              "    <tr>\n",
              "      <th>Estelle Parsons</th>\n",
              "      <td>1</td>\n",
              "    </tr>\n",
              "  </tbody>\n",
              "</table>\n",
              "<p>348 rows × 1 columns</p>\n",
              "</div>"
            ],
            "text/plain": [
              "                   person\n",
              "Katharine Hepburn       4\n",
              "John Ford               4\n",
              "Jack Nicholson          3\n",
              "Frank Capra             3\n",
              "Daniel Day-Lewis        3\n",
              "...                   ...\n",
              "Humphrey Bogart         1\n",
              "Barry Levinson          1\n",
              "Mary Astor              1\n",
              "Joel Coen               1\n",
              "Estelle Parsons         1\n",
              "\n",
              "[348 rows x 1 columns]"
            ]
          },
          "metadata": {
            "tags": []
          },
          "execution_count": 158
        }
      ]
    },
    {
      "cell_type": "code",
      "metadata": {
        "id": "HB9m58tzFShl",
        "colab_type": "code",
        "outputId": "67221b45-3b7f-429c-ae56-00828468b330",
        "colab": {
          "base_uri": "https://localhost:8080/",
          "height": 615
        }
      },
      "source": [
        "oscars_per_person_df.head(20).plot(kind='bar',figsize=(16,8),rot=85,title='Top Award Winners',color=(0.7, 0.2, 0.4, 0.6));\n",
        "ax=plt.gca()\n",
        "ax.set_ylabel('Oscars');\n",
        "ax.set_xlabel('Name')"
      ],
      "execution_count": 0,
      "outputs": [
        {
          "output_type": "execute_result",
          "data": {
            "text/plain": [
              "Text(0.5, 0, 'Name')"
            ]
          },
          "metadata": {
            "tags": []
          },
          "execution_count": 159
        },
        {
          "output_type": "display_data",
          "data": {
            "image/png": "[encoded data removed]",
            "text/plain": [
              "<Figure size 1152x576 with 1 Axes>"
            ]
          },
          "metadata": {
            "tags": [],
            "needs_background": "light"
          }
        }
      ]
    },
    {
      "cell_type": "markdown",
      "metadata": {
        "id": "oaiNUk7BFShn",
        "colab_type": "text"
      },
      "source": [
        "### Scatter Plot"
      ]
    },
    {
      "cell_type": "code",
      "metadata": {
        "id": "fvFTjd36FSho",
        "colab_type": "code",
        "outputId": "f9ebf45b-a86f-4681-b592-6dad9692b2fb",
        "colab": {
          "base_uri": "https://localhost:8080/",
          "height": 295
        }
      },
      "source": [
        "oscars_short.info()"
      ],
      "execution_count": 0,
      "outputs": [
        {
          "output_type": "stream",
          "text": [
            "<class 'pandas.core.frame.DataFrame'>\n",
            "Int64Index: 416 entries, 0 to 415\n",
            "Data columns (total 9 columns):\n",
            " #   Column              Non-Null Count  Dtype         \n",
            "---  ------              --------------  -----         \n",
            " 0   birthplace          416 non-null    object        \n",
            " 1   date_of_birth       415 non-null    datetime64[ns]\n",
            " 2   race_ethnicity      416 non-null    object        \n",
            " 3   religion            416 non-null    object        \n",
            " 4   sexual_orientation  416 non-null    object        \n",
            " 5   year_of_award       416 non-null    int64         \n",
            " 6   award               416 non-null    object        \n",
            " 7   movie               416 non-null    object        \n",
            " 8   person              416 non-null    object        \n",
            "dtypes: datetime64[ns](1), int64(1), object(7)\n",
            "memory usage: 32.5+ KB\n"
          ],
          "name": "stdout"
        }
      ]
    },
    {
      "cell_type": "code",
      "metadata": {
        "id": "yG73pH8uFShq",
        "colab_type": "code",
        "colab": {}
      },
      "source": [
        "oscars_short['age_at_award']=oscars_short['year_of_award']-(oscars_short['date_of_birth'].dt.year)"
      ],
      "execution_count": 0,
      "outputs": []
    },
    {
      "cell_type": "code",
      "metadata": {
        "id": "yeqYnRGGFSht",
        "colab_type": "code",
        "outputId": "30c3ea52-132d-468d-c228-5ffae30c04a3",
        "colab": {
          "base_uri": "https://localhost:8080/",
          "height": 675
        }
      },
      "source": [
        "oscars_short"
      ],
      "execution_count": 0,
      "outputs": [
        {
          "output_type": "execute_result",
          "data": {
            "text/html": [
              "<div>\n",
              "<style scoped>\n",
              "    .dataframe tbody tr th:only-of-type {\n",
              "        vertical-align: middle;\n",
              "    }\n",
              "\n",
              "    .dataframe tbody tr th {\n",
              "        vertical-align: top;\n",
              "    }\n",
              "\n",
              "    .dataframe thead th {\n",
              "        text-align: right;\n",
              "    }\n",
              "</style>\n",
              "<table border=\"1\" class=\"dataframe\">\n",
              "  <thead>\n",
              "    <tr style=\"text-align: right;\">\n",
              "      <th></th>\n",
              "      <th>birthplace</th>\n",
              "      <th>date_of_birth</th>\n",
              "      <th>race_ethnicity</th>\n",
              "      <th>religion</th>\n",
              "      <th>sexual_orientation</th>\n",
              "      <th>year_of_award</th>\n",
              "      <th>award</th>\n",
              "      <th>movie</th>\n",
              "      <th>person</th>\n",
              "      <th>age_at_award</th>\n",
              "    </tr>\n",
              "  </thead>\n",
              "  <tbody>\n",
              "    <tr>\n",
              "      <th>0</th>\n",
              "      <td>Chisinau, Moldova</td>\n",
              "      <td>1895-09-30</td>\n",
              "      <td>White</td>\n",
              "      <td>Na</td>\n",
              "      <td>Straight</td>\n",
              "      <td>1927</td>\n",
              "      <td>Best Director</td>\n",
              "      <td>Two Arabian Knights</td>\n",
              "      <td>Lewis Milestone</td>\n",
              "      <td>32.0</td>\n",
              "    </tr>\n",
              "    <tr>\n",
              "      <th>1</th>\n",
              "      <td>Glasgow, Scotland</td>\n",
              "      <td>1886-02-02</td>\n",
              "      <td>White</td>\n",
              "      <td>Na</td>\n",
              "      <td>Straight</td>\n",
              "      <td>1930</td>\n",
              "      <td>Best Director</td>\n",
              "      <td>The Divine Lady</td>\n",
              "      <td>Frank Lloyd</td>\n",
              "      <td>44.0</td>\n",
              "    </tr>\n",
              "    <tr>\n",
              "      <th>2</th>\n",
              "      <td>Chisinau, Moldova</td>\n",
              "      <td>1895-09-30</td>\n",
              "      <td>White</td>\n",
              "      <td>Na</td>\n",
              "      <td>Straight</td>\n",
              "      <td>1931</td>\n",
              "      <td>Best Director</td>\n",
              "      <td>All Quiet on the Western Front</td>\n",
              "      <td>Lewis Milestone</td>\n",
              "      <td>36.0</td>\n",
              "    </tr>\n",
              "    <tr>\n",
              "      <th>3</th>\n",
              "      <td>Chicago, Il</td>\n",
              "      <td>1899-02-23</td>\n",
              "      <td>White</td>\n",
              "      <td>Na</td>\n",
              "      <td>Straight</td>\n",
              "      <td>1932</td>\n",
              "      <td>Best Director</td>\n",
              "      <td>Skippy</td>\n",
              "      <td>Norman Taurog</td>\n",
              "      <td>33.0</td>\n",
              "    </tr>\n",
              "    <tr>\n",
              "      <th>4</th>\n",
              "      <td>Salt Lake City, Ut</td>\n",
              "      <td>1894-04-23</td>\n",
              "      <td>White</td>\n",
              "      <td>Roman Catholic</td>\n",
              "      <td>Straight</td>\n",
              "      <td>1933</td>\n",
              "      <td>Best Director</td>\n",
              "      <td>Bad Girl</td>\n",
              "      <td>Frank Borzage</td>\n",
              "      <td>39.0</td>\n",
              "    </tr>\n",
              "    <tr>\n",
              "      <th>...</th>\n",
              "      <td>...</td>\n",
              "      <td>...</td>\n",
              "      <td>...</td>\n",
              "      <td>...</td>\n",
              "      <td>...</td>\n",
              "      <td>...</td>\n",
              "      <td>...</td>\n",
              "      <td>...</td>\n",
              "      <td>...</td>\n",
              "      <td>...</td>\n",
              "    </tr>\n",
              "    <tr>\n",
              "      <th>411</th>\n",
              "      <td>Woodlawn, Md</td>\n",
              "      <td>2067-12-11</td>\n",
              "      <td>Black</td>\n",
              "      <td>Na</td>\n",
              "      <td>Straight</td>\n",
              "      <td>2010</td>\n",
              "      <td>Best Supporting Actress</td>\n",
              "      <td>Precious</td>\n",
              "      <td>Mo'Nique</td>\n",
              "      <td>-57.0</td>\n",
              "    </tr>\n",
              "    <tr>\n",
              "      <th>412</th>\n",
              "      <td>New York City</td>\n",
              "      <td>2060-09-14</td>\n",
              "      <td>White</td>\n",
              "      <td>Na</td>\n",
              "      <td>Straight</td>\n",
              "      <td>2011</td>\n",
              "      <td>Best Supporting Actress</td>\n",
              "      <td>The Fighter</td>\n",
              "      <td>Melissa Leo</td>\n",
              "      <td>-49.0</td>\n",
              "    </tr>\n",
              "    <tr>\n",
              "      <th>413</th>\n",
              "      <td>Montgomery, Al</td>\n",
              "      <td>1972-05-25</td>\n",
              "      <td>Black</td>\n",
              "      <td>Na</td>\n",
              "      <td>Na</td>\n",
              "      <td>2012</td>\n",
              "      <td>Best Supporting Actress</td>\n",
              "      <td>The Help</td>\n",
              "      <td>Octavia Spencer</td>\n",
              "      <td>40.0</td>\n",
              "    </tr>\n",
              "    <tr>\n",
              "      <th>414</th>\n",
              "      <td>Brooklyn, Ny</td>\n",
              "      <td>1982-11-12</td>\n",
              "      <td>White</td>\n",
              "      <td>Christian</td>\n",
              "      <td>Straight</td>\n",
              "      <td>2013</td>\n",
              "      <td>Best Supporting Actress</td>\n",
              "      <td>Les MisÌ©rables</td>\n",
              "      <td>Anne Hathaway</td>\n",
              "      <td>31.0</td>\n",
              "    </tr>\n",
              "    <tr>\n",
              "      <th>415</th>\n",
              "      <td>Mexico City, Mexico</td>\n",
              "      <td>1983-03-01</td>\n",
              "      <td>Black</td>\n",
              "      <td>Na</td>\n",
              "      <td>Na</td>\n",
              "      <td>2014</td>\n",
              "      <td>Best Supporting Actress</td>\n",
              "      <td>12 Years a Slave</td>\n",
              "      <td>Lupita Nyong'o</td>\n",
              "      <td>31.0</td>\n",
              "    </tr>\n",
              "  </tbody>\n",
              "</table>\n",
              "<p>416 rows × 10 columns</p>\n",
              "</div>"
            ],
            "text/plain": [
              "              birthplace date_of_birth  ...           person age_at_award\n",
              "0      Chisinau, Moldova    1895-09-30  ...  Lewis Milestone         32.0\n",
              "1      Glasgow, Scotland    1886-02-02  ...      Frank Lloyd         44.0\n",
              "2      Chisinau, Moldova    1895-09-30  ...  Lewis Milestone         36.0\n",
              "3            Chicago, Il    1899-02-23  ...    Norman Taurog         33.0\n",
              "4     Salt Lake City, Ut    1894-04-23  ...    Frank Borzage         39.0\n",
              "..                   ...           ...  ...              ...          ...\n",
              "411         Woodlawn, Md    2067-12-11  ...         Mo'Nique        -57.0\n",
              "412        New York City    2060-09-14  ...      Melissa Leo        -49.0\n",
              "413       Montgomery, Al    1972-05-25  ...  Octavia Spencer         40.0\n",
              "414         Brooklyn, Ny    1982-11-12  ...    Anne Hathaway         31.0\n",
              "415  Mexico City, Mexico    1983-03-01  ...   Lupita Nyong'o         31.0\n",
              "\n",
              "[416 rows x 10 columns]"
            ]
          },
          "metadata": {
            "tags": []
          },
          "execution_count": 162
        }
      ]
    },
    {
      "cell_type": "code",
      "metadata": {
        "id": "nzA7enDOFShw",
        "colab_type": "code",
        "outputId": "c3349d18-b731-4a06-e399-6c4b4f60fb3a",
        "colab": {
          "base_uri": "https://localhost:8080/",
          "height": 69
        }
      },
      "source": [
        "(oscars_short['age_at_award']>0).value_counts()"
      ],
      "execution_count": 0,
      "outputs": [
        {
          "output_type": "execute_result",
          "data": {
            "text/plain": [
              "False    316\n",
              "True     100\n",
              "Name: age_at_award, dtype: int64"
            ]
          },
          "metadata": {
            "tags": []
          },
          "execution_count": 163
        }
      ]
    },
    {
      "cell_type": "code",
      "metadata": {
        "id": "IwqejZ4hFShy",
        "colab_type": "code",
        "outputId": "89342de7-2f95-44c3-ae15-208b793d1128",
        "colab": {
          "base_uri": "https://localhost:8080/",
          "height": 35
        }
      },
      "source": [
        "from datetime import datetime\n",
        "hundred_years=datetime.strptime('0100-01-01','%Y-%m-%d')\n",
        "print(hundred_years)"
      ],
      "execution_count": 0,
      "outputs": [
        {
          "output_type": "stream",
          "text": [
            "0100-01-01 00:00:00\n"
          ],
          "name": "stdout"
        }
      ]
    },
    {
      "cell_type": "code",
      "metadata": {
        "id": "ZVGDEQ9hFSh1",
        "colab_type": "code",
        "colab": {}
      },
      "source": [
        "oscars_short['year_of_birth']=oscars_short.loc[:,'date_of_birth'].dt.year\n",
        "oscars_short['age_at_award']=oscars_short['year_of_award']-(oscars_short['date_of_birth'].dt.year)\n",
        "oscars_short.loc[oscars_short['age_at_award']<1,'year_of_birth'] = oscars_short.loc[oscars_short['age_at_award']<1,'year_of_birth'] - 100"
      ],
      "execution_count": 0,
      "outputs": []
    },
    {
      "cell_type": "code",
      "metadata": {
        "id": "fxbEcTABFSh5",
        "colab_type": "code",
        "colab": {}
      },
      "source": [
        "oscars_short['age_at_award']=oscars_short['year_of_award']-(oscars_short['year_of_birth'])"
      ],
      "execution_count": 0,
      "outputs": []
    },
    {
      "cell_type": "code",
      "metadata": {
        "id": "cjo740-tFSh7",
        "colab_type": "code",
        "outputId": "e2367f67-60f1-4a35-ac18-7151a72a53c1",
        "colab": {
          "base_uri": "https://localhost:8080/",
          "height": 49
        }
      },
      "source": [
        "oscars_short.loc[(oscars_short['age_at_award']<1),:]"
      ],
      "execution_count": 0,
      "outputs": [
        {
          "output_type": "execute_result",
          "data": {
            "text/html": [
              "<div>\n",
              "<style scoped>\n",
              "    .dataframe tbody tr th:only-of-type {\n",
              "        vertical-align: middle;\n",
              "    }\n",
              "\n",
              "    .dataframe tbody tr th {\n",
              "        vertical-align: top;\n",
              "    }\n",
              "\n",
              "    .dataframe thead th {\n",
              "        text-align: right;\n",
              "    }\n",
              "</style>\n",
              "<table border=\"1\" class=\"dataframe\">\n",
              "  <thead>\n",
              "    <tr style=\"text-align: right;\">\n",
              "      <th></th>\n",
              "      <th>birthplace</th>\n",
              "      <th>date_of_birth</th>\n",
              "      <th>race_ethnicity</th>\n",
              "      <th>religion</th>\n",
              "      <th>sexual_orientation</th>\n",
              "      <th>year_of_award</th>\n",
              "      <th>award</th>\n",
              "      <th>movie</th>\n",
              "      <th>person</th>\n",
              "      <th>age_at_award</th>\n",
              "      <th>year_of_birth</th>\n",
              "    </tr>\n",
              "  </thead>\n",
              "  <tbody>\n",
              "  </tbody>\n",
              "</table>\n",
              "</div>"
            ],
            "text/plain": [
              "Empty DataFrame\n",
              "Columns: [birthplace, date_of_birth, race_ethnicity, religion, sexual_orientation, year_of_award, award, movie, person, age_at_award, year_of_birth]\n",
              "Index: []"
            ]
          },
          "metadata": {
            "tags": []
          },
          "execution_count": 167
        }
      ]
    },
    {
      "cell_type": "code",
      "metadata": {
        "id": "XWy2fdRCFSh9",
        "colab_type": "code",
        "outputId": "7669dbf7-6207-4a42-c208-597c8b0f66e3",
        "colab": {
          "base_uri": "https://localhost:8080/",
          "height": 747
        }
      },
      "source": [
        "oscars_short"
      ],
      "execution_count": 0,
      "outputs": [
        {
          "output_type": "execute_result",
          "data": {
            "text/html": [
              "<div>\n",
              "<style scoped>\n",
              "    .dataframe tbody tr th:only-of-type {\n",
              "        vertical-align: middle;\n",
              "    }\n",
              "\n",
              "    .dataframe tbody tr th {\n",
              "        vertical-align: top;\n",
              "    }\n",
              "\n",
              "    .dataframe thead th {\n",
              "        text-align: right;\n",
              "    }\n",
              "</style>\n",
              "<table border=\"1\" class=\"dataframe\">\n",
              "  <thead>\n",
              "    <tr style=\"text-align: right;\">\n",
              "      <th></th>\n",
              "      <th>birthplace</th>\n",
              "      <th>date_of_birth</th>\n",
              "      <th>race_ethnicity</th>\n",
              "      <th>religion</th>\n",
              "      <th>sexual_orientation</th>\n",
              "      <th>year_of_award</th>\n",
              "      <th>award</th>\n",
              "      <th>movie</th>\n",
              "      <th>person</th>\n",
              "      <th>age_at_award</th>\n",
              "      <th>year_of_birth</th>\n",
              "    </tr>\n",
              "  </thead>\n",
              "  <tbody>\n",
              "    <tr>\n",
              "      <th>0</th>\n",
              "      <td>Chisinau, Moldova</td>\n",
              "      <td>1895-09-30</td>\n",
              "      <td>White</td>\n",
              "      <td>Na</td>\n",
              "      <td>Straight</td>\n",
              "      <td>1927</td>\n",
              "      <td>Best Director</td>\n",
              "      <td>Two Arabian Knights</td>\n",
              "      <td>Lewis Milestone</td>\n",
              "      <td>32.0</td>\n",
              "      <td>1895.0</td>\n",
              "    </tr>\n",
              "    <tr>\n",
              "      <th>1</th>\n",
              "      <td>Glasgow, Scotland</td>\n",
              "      <td>1886-02-02</td>\n",
              "      <td>White</td>\n",
              "      <td>Na</td>\n",
              "      <td>Straight</td>\n",
              "      <td>1930</td>\n",
              "      <td>Best Director</td>\n",
              "      <td>The Divine Lady</td>\n",
              "      <td>Frank Lloyd</td>\n",
              "      <td>44.0</td>\n",
              "      <td>1886.0</td>\n",
              "    </tr>\n",
              "    <tr>\n",
              "      <th>2</th>\n",
              "      <td>Chisinau, Moldova</td>\n",
              "      <td>1895-09-30</td>\n",
              "      <td>White</td>\n",
              "      <td>Na</td>\n",
              "      <td>Straight</td>\n",
              "      <td>1931</td>\n",
              "      <td>Best Director</td>\n",
              "      <td>All Quiet on the Western Front</td>\n",
              "      <td>Lewis Milestone</td>\n",
              "      <td>36.0</td>\n",
              "      <td>1895.0</td>\n",
              "    </tr>\n",
              "    <tr>\n",
              "      <th>3</th>\n",
              "      <td>Chicago, Il</td>\n",
              "      <td>1899-02-23</td>\n",
              "      <td>White</td>\n",
              "      <td>Na</td>\n",
              "      <td>Straight</td>\n",
              "      <td>1932</td>\n",
              "      <td>Best Director</td>\n",
              "      <td>Skippy</td>\n",
              "      <td>Norman Taurog</td>\n",
              "      <td>33.0</td>\n",
              "      <td>1899.0</td>\n",
              "    </tr>\n",
              "    <tr>\n",
              "      <th>4</th>\n",
              "      <td>Salt Lake City, Ut</td>\n",
              "      <td>1894-04-23</td>\n",
              "      <td>White</td>\n",
              "      <td>Roman Catholic</td>\n",
              "      <td>Straight</td>\n",
              "      <td>1933</td>\n",
              "      <td>Best Director</td>\n",
              "      <td>Bad Girl</td>\n",
              "      <td>Frank Borzage</td>\n",
              "      <td>39.0</td>\n",
              "      <td>1894.0</td>\n",
              "    </tr>\n",
              "    <tr>\n",
              "      <th>...</th>\n",
              "      <td>...</td>\n",
              "      <td>...</td>\n",
              "      <td>...</td>\n",
              "      <td>...</td>\n",
              "      <td>...</td>\n",
              "      <td>...</td>\n",
              "      <td>...</td>\n",
              "      <td>...</td>\n",
              "      <td>...</td>\n",
              "      <td>...</td>\n",
              "      <td>...</td>\n",
              "    </tr>\n",
              "    <tr>\n",
              "      <th>411</th>\n",
              "      <td>Woodlawn, Md</td>\n",
              "      <td>2067-12-11</td>\n",
              "      <td>Black</td>\n",
              "      <td>Na</td>\n",
              "      <td>Straight</td>\n",
              "      <td>2010</td>\n",
              "      <td>Best Supporting Actress</td>\n",
              "      <td>Precious</td>\n",
              "      <td>Mo'Nique</td>\n",
              "      <td>43.0</td>\n",
              "      <td>1967.0</td>\n",
              "    </tr>\n",
              "    <tr>\n",
              "      <th>412</th>\n",
              "      <td>New York City</td>\n",
              "      <td>2060-09-14</td>\n",
              "      <td>White</td>\n",
              "      <td>Na</td>\n",
              "      <td>Straight</td>\n",
              "      <td>2011</td>\n",
              "      <td>Best Supporting Actress</td>\n",
              "      <td>The Fighter</td>\n",
              "      <td>Melissa Leo</td>\n",
              "      <td>51.0</td>\n",
              "      <td>1960.0</td>\n",
              "    </tr>\n",
              "    <tr>\n",
              "      <th>413</th>\n",
              "      <td>Montgomery, Al</td>\n",
              "      <td>1972-05-25</td>\n",
              "      <td>Black</td>\n",
              "      <td>Na</td>\n",
              "      <td>Na</td>\n",
              "      <td>2012</td>\n",
              "      <td>Best Supporting Actress</td>\n",
              "      <td>The Help</td>\n",
              "      <td>Octavia Spencer</td>\n",
              "      <td>40.0</td>\n",
              "      <td>1972.0</td>\n",
              "    </tr>\n",
              "    <tr>\n",
              "      <th>414</th>\n",
              "      <td>Brooklyn, Ny</td>\n",
              "      <td>1982-11-12</td>\n",
              "      <td>White</td>\n",
              "      <td>Christian</td>\n",
              "      <td>Straight</td>\n",
              "      <td>2013</td>\n",
              "      <td>Best Supporting Actress</td>\n",
              "      <td>Les MisÌ©rables</td>\n",
              "      <td>Anne Hathaway</td>\n",
              "      <td>31.0</td>\n",
              "      <td>1982.0</td>\n",
              "    </tr>\n",
              "    <tr>\n",
              "      <th>415</th>\n",
              "      <td>Mexico City, Mexico</td>\n",
              "      <td>1983-03-01</td>\n",
              "      <td>Black</td>\n",
              "      <td>Na</td>\n",
              "      <td>Na</td>\n",
              "      <td>2014</td>\n",
              "      <td>Best Supporting Actress</td>\n",
              "      <td>12 Years a Slave</td>\n",
              "      <td>Lupita Nyong'o</td>\n",
              "      <td>31.0</td>\n",
              "      <td>1983.0</td>\n",
              "    </tr>\n",
              "  </tbody>\n",
              "</table>\n",
              "<p>416 rows × 11 columns</p>\n",
              "</div>"
            ],
            "text/plain": [
              "              birthplace date_of_birth  ... age_at_award year_of_birth\n",
              "0      Chisinau, Moldova    1895-09-30  ...         32.0        1895.0\n",
              "1      Glasgow, Scotland    1886-02-02  ...         44.0        1886.0\n",
              "2      Chisinau, Moldova    1895-09-30  ...         36.0        1895.0\n",
              "3            Chicago, Il    1899-02-23  ...         33.0        1899.0\n",
              "4     Salt Lake City, Ut    1894-04-23  ...         39.0        1894.0\n",
              "..                   ...           ...  ...          ...           ...\n",
              "411         Woodlawn, Md    2067-12-11  ...         43.0        1967.0\n",
              "412        New York City    2060-09-14  ...         51.0        1960.0\n",
              "413       Montgomery, Al    1972-05-25  ...         40.0        1972.0\n",
              "414         Brooklyn, Ny    1982-11-12  ...         31.0        1982.0\n",
              "415  Mexico City, Mexico    1983-03-01  ...         31.0        1983.0\n",
              "\n",
              "[416 rows x 11 columns]"
            ]
          },
          "metadata": {
            "tags": []
          },
          "execution_count": 168
        }
      ]
    },
    {
      "cell_type": "code",
      "metadata": {
        "scrolled": false,
        "id": "O4LYS1aaFSh_",
        "colab_type": "code",
        "outputId": "a04bde93-ecc3-4f00-88da-90aedf94ea12",
        "colab": {
          "base_uri": "https://localhost:8080/",
          "height": 513
        }
      },
      "source": [
        "oscars_short.plot.scatter('year_of_award','age_at_award', title='Relationship between Year of Award and Age',alpha=0.25,figsize=(12,8));\n",
        "ax=plt.gca()\n",
        "ax.set_ylabel('Age')\n",
        "ax.set_xlabel('Year');"
      ],
      "execution_count": 0,
      "outputs": [
        {
          "output_type": "display_data",
          "data": {
            "image/png": "[encoded data removed]",
            "text/plain": [
              "<Figure size 864x576 with 1 Axes>"
            ]
          },
          "metadata": {
            "tags": [],
            "needs_background": "light"
          }
        }
      ]
    },
    {
      "cell_type": "code",
      "metadata": {
        "id": "EnXxl5L1FSiF",
        "colab_type": "code",
        "outputId": "09ec4f4d-e8e0-42cc-db8b-21a00b9376af",
        "colab": {
          "base_uri": "https://localhost:8080/",
          "height": 141
        }
      },
      "source": [
        "oscars_short.corr()"
      ],
      "execution_count": 0,
      "outputs": [
        {
          "output_type": "execute_result",
          "data": {
            "text/html": [
              "<div>\n",
              "<style scoped>\n",
              "    .dataframe tbody tr th:only-of-type {\n",
              "        vertical-align: middle;\n",
              "    }\n",
              "\n",
              "    .dataframe tbody tr th {\n",
              "        vertical-align: top;\n",
              "    }\n",
              "\n",
              "    .dataframe thead th {\n",
              "        text-align: right;\n",
              "    }\n",
              "</style>\n",
              "<table border=\"1\" class=\"dataframe\">\n",
              "  <thead>\n",
              "    <tr style=\"text-align: right;\">\n",
              "      <th></th>\n",
              "      <th>year_of_award</th>\n",
              "      <th>age_at_award</th>\n",
              "      <th>year_of_birth</th>\n",
              "    </tr>\n",
              "  </thead>\n",
              "  <tbody>\n",
              "    <tr>\n",
              "      <th>year_of_award</th>\n",
              "      <td>1.000000</td>\n",
              "      <td>0.123459</td>\n",
              "      <td>0.875404</td>\n",
              "    </tr>\n",
              "    <tr>\n",
              "      <th>age_at_award</th>\n",
              "      <td>0.123459</td>\n",
              "      <td>1.000000</td>\n",
              "      <td>-0.371617</td>\n",
              "    </tr>\n",
              "    <tr>\n",
              "      <th>year_of_birth</th>\n",
              "      <td>0.875404</td>\n",
              "      <td>-0.371617</td>\n",
              "      <td>1.000000</td>\n",
              "    </tr>\n",
              "  </tbody>\n",
              "</table>\n",
              "</div>"
            ],
            "text/plain": [
              "               year_of_award  age_at_award  year_of_birth\n",
              "year_of_award       1.000000      0.123459       0.875404\n",
              "age_at_award        0.123459      1.000000      -0.371617\n",
              "year_of_birth       0.875404     -0.371617       1.000000"
            ]
          },
          "metadata": {
            "tags": []
          },
          "execution_count": 170
        }
      ]
    },
    {
      "cell_type": "code",
      "metadata": {
        "id": "KCw7Y_JfFSiL",
        "colab_type": "code",
        "outputId": "65f701b3-a02f-4d19-9a81-b719a9f72b26",
        "colab": {
          "base_uri": "https://localhost:8080/",
          "height": 549
        }
      },
      "source": [
        "cor = oscars_short.corr().abs()\n",
        "\n",
        "import matplotlib.ticker as ticker\n",
        "import matplotlib.cm as cm\n",
        "import matplotlib as mpl\n",
        "\n",
        "\n",
        "\n",
        "fig = plt.figure()\n",
        "fig, ax = plt.subplots(1,1, figsize=(8,8))\n",
        "heatplot = ax.imshow(cor, cmap='BuPu')\n",
        "ax.set_xticklabels(cor.columns)\n",
        "ax.set_yticklabels(cor.index)\n",
        "\n",
        "tick_spacing = 1\n",
        "ax.xaxis.set_major_locator(ticker.MultipleLocator(tick_spacing))\n",
        "ax.yaxis.set_major_locator(ticker.MultipleLocator(tick_spacing))\n",
        "ax.set_title(\"Relationship between numeric columns\")\n",
        "ax.set_xlabel('Columns')\n",
        "ax.set_ylabel('Columns')"
      ],
      "execution_count": 0,
      "outputs": [
        {
          "output_type": "execute_result",
          "data": {
            "text/plain": [
              "Text(0, 0.5, 'Columns')"
            ]
          },
          "metadata": {
            "tags": []
          },
          "execution_count": 171
        },
        {
          "output_type": "display_data",
          "data": {
            "text/plain": [
              "<Figure size 432x288 with 0 Axes>"
            ]
          },
          "metadata": {
            "tags": []
          }
        },
        {
          "output_type": "display_data",
          "data": {
            "image/png": "[encoded data removed]",
            "text/plain": [
              "<Figure size 576x576 with 1 Axes>"
            ]
          },
          "metadata": {
            "tags": [],
            "needs_background": "light"
          }
        }
      ]
    },
    {
      "cell_type": "markdown",
      "metadata": {
        "id": "9YnZAMCtFSiO",
        "colab_type": "text"
      },
      "source": [
        "#  \n",
        "#  \n",
        "#  \n",
        "#  \n",
        "##  Grouping for Aggregation, filtration and transformation"
      ]
    },
    {
      "cell_type": "markdown",
      "metadata": {
        "id": "xtuNahOAFSiO",
        "colab_type": "text"
      },
      "source": [
        "The most common use of a _groupby_ is performing an aggregation (which takes several values and converts them in one single value). \n",
        "\n",
        "In order to do this, we will define an __aggregating column__ (from where we take the value to aggregate) and an __aggregating function__ (how do we aggregate). \n",
        "\n",
        "Some common aggregating functions are _mean, sum, max, min, count_, etc..."
      ]
    },
    {
      "cell_type": "markdown",
      "metadata": {
        "id": "_VdnrzxyFSiO",
        "colab_type": "text"
      },
      "source": [
        "The easiest way to do it, groupby + apply:"
      ]
    },
    {
      "cell_type": "code",
      "metadata": {
        "id": "-EOp5TnoFSiS",
        "colab_type": "code",
        "outputId": "64f755ad-3fbd-419e-8510-21858a0c6d3a",
        "colab": {
          "base_uri": "https://localhost:8080/",
          "height": 747
        }
      },
      "source": [
        "oscars_short "
      ],
      "execution_count": 0,
      "outputs": [
        {
          "output_type": "execute_result",
          "data": {
            "text/html": [
              "<div>\n",
              "<style scoped>\n",
              "    .dataframe tbody tr th:only-of-type {\n",
              "        vertical-align: middle;\n",
              "    }\n",
              "\n",
              "    .dataframe tbody tr th {\n",
              "        vertical-align: top;\n",
              "    }\n",
              "\n",
              "    .dataframe thead th {\n",
              "        text-align: right;\n",
              "    }\n",
              "</style>\n",
              "<table border=\"1\" class=\"dataframe\">\n",
              "  <thead>\n",
              "    <tr style=\"text-align: right;\">\n",
              "      <th></th>\n",
              "      <th>birthplace</th>\n",
              "      <th>date_of_birth</th>\n",
              "      <th>race_ethnicity</th>\n",
              "      <th>religion</th>\n",
              "      <th>sexual_orientation</th>\n",
              "      <th>year_of_award</th>\n",
              "      <th>award</th>\n",
              "      <th>movie</th>\n",
              "      <th>person</th>\n",
              "      <th>age_at_award</th>\n",
              "      <th>year_of_birth</th>\n",
              "    </tr>\n",
              "  </thead>\n",
              "  <tbody>\n",
              "    <tr>\n",
              "      <th>0</th>\n",
              "      <td>Chisinau, Moldova</td>\n",
              "      <td>1895-09-30</td>\n",
              "      <td>White</td>\n",
              "      <td>Na</td>\n",
              "      <td>Straight</td>\n",
              "      <td>1927</td>\n",
              "      <td>Best Director</td>\n",
              "      <td>Two Arabian Knights</td>\n",
              "      <td>Lewis Milestone</td>\n",
              "      <td>32.0</td>\n",
              "      <td>1895.0</td>\n",
              "    </tr>\n",
              "    <tr>\n",
              "      <th>1</th>\n",
              "      <td>Glasgow, Scotland</td>\n",
              "      <td>1886-02-02</td>\n",
              "      <td>White</td>\n",
              "      <td>Na</td>\n",
              "      <td>Straight</td>\n",
              "      <td>1930</td>\n",
              "      <td>Best Director</td>\n",
              "      <td>The Divine Lady</td>\n",
              "      <td>Frank Lloyd</td>\n",
              "      <td>44.0</td>\n",
              "      <td>1886.0</td>\n",
              "    </tr>\n",
              "    <tr>\n",
              "      <th>2</th>\n",
              "      <td>Chisinau, Moldova</td>\n",
              "      <td>1895-09-30</td>\n",
              "      <td>White</td>\n",
              "      <td>Na</td>\n",
              "      <td>Straight</td>\n",
              "      <td>1931</td>\n",
              "      <td>Best Director</td>\n",
              "      <td>All Quiet on the Western Front</td>\n",
              "      <td>Lewis Milestone</td>\n",
              "      <td>36.0</td>\n",
              "      <td>1895.0</td>\n",
              "    </tr>\n",
              "    <tr>\n",
              "      <th>3</th>\n",
              "      <td>Chicago, Il</td>\n",
              "      <td>1899-02-23</td>\n",
              "      <td>White</td>\n",
              "      <td>Na</td>\n",
              "      <td>Straight</td>\n",
              "      <td>1932</td>\n",
              "      <td>Best Director</td>\n",
              "      <td>Skippy</td>\n",
              "      <td>Norman Taurog</td>\n",
              "      <td>33.0</td>\n",
              "      <td>1899.0</td>\n",
              "    </tr>\n",
              "    <tr>\n",
              "      <th>4</th>\n",
              "      <td>Salt Lake City, Ut</td>\n",
              "      <td>1894-04-23</td>\n",
              "      <td>White</td>\n",
              "      <td>Roman Catholic</td>\n",
              "      <td>Straight</td>\n",
              "      <td>1933</td>\n",
              "      <td>Best Director</td>\n",
              "      <td>Bad Girl</td>\n",
              "      <td>Frank Borzage</td>\n",
              "      <td>39.0</td>\n",
              "      <td>1894.0</td>\n",
              "    </tr>\n",
              "    <tr>\n",
              "      <th>...</th>\n",
              "      <td>...</td>\n",
              "      <td>...</td>\n",
              "      <td>...</td>\n",
              "      <td>...</td>\n",
              "      <td>...</td>\n",
              "      <td>...</td>\n",
              "      <td>...</td>\n",
              "      <td>...</td>\n",
              "      <td>...</td>\n",
              "      <td>...</td>\n",
              "      <td>...</td>\n",
              "    </tr>\n",
              "    <tr>\n",
              "      <th>411</th>\n",
              "      <td>Woodlawn, Md</td>\n",
              "      <td>2067-12-11</td>\n",
              "      <td>Black</td>\n",
              "      <td>Na</td>\n",
              "      <td>Straight</td>\n",
              "      <td>2010</td>\n",
              "      <td>Best Supporting Actress</td>\n",
              "      <td>Precious</td>\n",
              "      <td>Mo'Nique</td>\n",
              "      <td>43.0</td>\n",
              "      <td>1967.0</td>\n",
              "    </tr>\n",
              "    <tr>\n",
              "      <th>412</th>\n",
              "      <td>New York City</td>\n",
              "      <td>2060-09-14</td>\n",
              "      <td>White</td>\n",
              "      <td>Na</td>\n",
              "      <td>Straight</td>\n",
              "      <td>2011</td>\n",
              "      <td>Best Supporting Actress</td>\n",
              "      <td>The Fighter</td>\n",
              "      <td>Melissa Leo</td>\n",
              "      <td>51.0</td>\n",
              "      <td>1960.0</td>\n",
              "    </tr>\n",
              "    <tr>\n",
              "      <th>413</th>\n",
              "      <td>Montgomery, Al</td>\n",
              "      <td>1972-05-25</td>\n",
              "      <td>Black</td>\n",
              "      <td>Na</td>\n",
              "      <td>Na</td>\n",
              "      <td>2012</td>\n",
              "      <td>Best Supporting Actress</td>\n",
              "      <td>The Help</td>\n",
              "      <td>Octavia Spencer</td>\n",
              "      <td>40.0</td>\n",
              "      <td>1972.0</td>\n",
              "    </tr>\n",
              "    <tr>\n",
              "      <th>414</th>\n",
              "      <td>Brooklyn, Ny</td>\n",
              "      <td>1982-11-12</td>\n",
              "      <td>White</td>\n",
              "      <td>Christian</td>\n",
              "      <td>Straight</td>\n",
              "      <td>2013</td>\n",
              "      <td>Best Supporting Actress</td>\n",
              "      <td>Les MisÌ©rables</td>\n",
              "      <td>Anne Hathaway</td>\n",
              "      <td>31.0</td>\n",
              "      <td>1982.0</td>\n",
              "    </tr>\n",
              "    <tr>\n",
              "      <th>415</th>\n",
              "      <td>Mexico City, Mexico</td>\n",
              "      <td>1983-03-01</td>\n",
              "      <td>Black</td>\n",
              "      <td>Na</td>\n",
              "      <td>Na</td>\n",
              "      <td>2014</td>\n",
              "      <td>Best Supporting Actress</td>\n",
              "      <td>12 Years a Slave</td>\n",
              "      <td>Lupita Nyong'o</td>\n",
              "      <td>31.0</td>\n",
              "      <td>1983.0</td>\n",
              "    </tr>\n",
              "  </tbody>\n",
              "</table>\n",
              "<p>416 rows × 11 columns</p>\n",
              "</div>"
            ],
            "text/plain": [
              "              birthplace date_of_birth  ... age_at_award year_of_birth\n",
              "0      Chisinau, Moldova    1895-09-30  ...         32.0        1895.0\n",
              "1      Glasgow, Scotland    1886-02-02  ...         44.0        1886.0\n",
              "2      Chisinau, Moldova    1895-09-30  ...         36.0        1895.0\n",
              "3            Chicago, Il    1899-02-23  ...         33.0        1899.0\n",
              "4     Salt Lake City, Ut    1894-04-23  ...         39.0        1894.0\n",
              "..                   ...           ...  ...          ...           ...\n",
              "411         Woodlawn, Md    2067-12-11  ...         43.0        1967.0\n",
              "412        New York City    2060-09-14  ...         51.0        1960.0\n",
              "413       Montgomery, Al    1972-05-25  ...         40.0        1972.0\n",
              "414         Brooklyn, Ny    1982-11-12  ...         31.0        1982.0\n",
              "415  Mexico City, Mexico    1983-03-01  ...         31.0        1983.0\n",
              "\n",
              "[416 rows x 11 columns]"
            ]
          },
          "metadata": {
            "tags": []
          },
          "execution_count": 172
        }
      ]
    },
    {
      "cell_type": "code",
      "metadata": {
        "id": "1cte_4oKFSiU",
        "colab_type": "code",
        "outputId": "9fdc9504-99f5-4695-b357-590360b9c777",
        "colab": {
          "base_uri": "https://localhost:8080/",
          "height": 263
        }
      },
      "source": [
        "grouped=oscars_short.groupby(['award']).agg({'age_at_award':['mean','count']}) \n",
        "grouped"
      ],
      "execution_count": 0,
      "outputs": [
        {
          "output_type": "execute_result",
          "data": {
            "text/html": [
              "<div>\n",
              "<style scoped>\n",
              "    .dataframe tbody tr th:only-of-type {\n",
              "        vertical-align: middle;\n",
              "    }\n",
              "\n",
              "    .dataframe tbody tr th {\n",
              "        vertical-align: top;\n",
              "    }\n",
              "\n",
              "    .dataframe thead tr th {\n",
              "        text-align: left;\n",
              "    }\n",
              "\n",
              "    .dataframe thead tr:last-of-type th {\n",
              "        text-align: right;\n",
              "    }\n",
              "</style>\n",
              "<table border=\"1\" class=\"dataframe\">\n",
              "  <thead>\n",
              "    <tr>\n",
              "      <th></th>\n",
              "      <th colspan=\"2\" halign=\"left\">age_at_award</th>\n",
              "    </tr>\n",
              "    <tr>\n",
              "      <th></th>\n",
              "      <th>mean</th>\n",
              "      <th>count</th>\n",
              "    </tr>\n",
              "    <tr>\n",
              "      <th>award</th>\n",
              "      <th></th>\n",
              "      <th></th>\n",
              "    </tr>\n",
              "  </thead>\n",
              "  <tbody>\n",
              "    <tr>\n",
              "      <th>Best Actor</th>\n",
              "      <td>45.046512</td>\n",
              "      <td>86</td>\n",
              "    </tr>\n",
              "    <tr>\n",
              "      <th>Best Actress</th>\n",
              "      <td>36.850575</td>\n",
              "      <td>87</td>\n",
              "    </tr>\n",
              "    <tr>\n",
              "      <th>Best Director</th>\n",
              "      <td>47.279070</td>\n",
              "      <td>86</td>\n",
              "    </tr>\n",
              "    <tr>\n",
              "      <th>Best Supporting Actor</th>\n",
              "      <td>50.666667</td>\n",
              "      <td>78</td>\n",
              "    </tr>\n",
              "    <tr>\n",
              "      <th>Best Supporting Actress</th>\n",
              "      <td>40.641026</td>\n",
              "      <td>78</td>\n",
              "    </tr>\n",
              "  </tbody>\n",
              "</table>\n",
              "</div>"
            ],
            "text/plain": [
              "                        age_at_award      \n",
              "                                mean count\n",
              "award                                     \n",
              "Best Actor                 45.046512    86\n",
              "Best Actress               36.850575    87\n",
              "Best Director              47.279070    86\n",
              "Best Supporting Actor      50.666667    78\n",
              "Best Supporting Actress    40.641026    78"
            ]
          },
          "metadata": {
            "tags": []
          },
          "execution_count": 173
        }
      ]
    },
    {
      "cell_type": "code",
      "metadata": {
        "id": "MXJKL5PWFSiX",
        "colab_type": "code",
        "outputId": "7351eabc-2312-4558-c39e-74ffa71efb5d",
        "colab": {
          "base_uri": "https://localhost:8080/",
          "height": 477
        }
      },
      "source": [
        "grouped=oscars_short.groupby(['year_of_award']).agg({'age_at_award':['mean','count']}) \n",
        "grouped"
      ],
      "execution_count": 0,
      "outputs": [
        {
          "output_type": "execute_result",
          "data": {
            "text/html": [
              "<div>\n",
              "<style scoped>\n",
              "    .dataframe tbody tr th:only-of-type {\n",
              "        vertical-align: middle;\n",
              "    }\n",
              "\n",
              "    .dataframe tbody tr th {\n",
              "        vertical-align: top;\n",
              "    }\n",
              "\n",
              "    .dataframe thead tr th {\n",
              "        text-align: left;\n",
              "    }\n",
              "\n",
              "    .dataframe thead tr:last-of-type th {\n",
              "        text-align: right;\n",
              "    }\n",
              "</style>\n",
              "<table border=\"1\" class=\"dataframe\">\n",
              "  <thead>\n",
              "    <tr>\n",
              "      <th></th>\n",
              "      <th colspan=\"2\" halign=\"left\">age_at_award</th>\n",
              "    </tr>\n",
              "    <tr>\n",
              "      <th></th>\n",
              "      <th>mean</th>\n",
              "      <th>count</th>\n",
              "    </tr>\n",
              "    <tr>\n",
              "      <th>year_of_award</th>\n",
              "      <th></th>\n",
              "      <th></th>\n",
              "    </tr>\n",
              "  </thead>\n",
              "  <tbody>\n",
              "    <tr>\n",
              "      <th>1927</th>\n",
              "      <td>32.000000</td>\n",
              "      <td>1</td>\n",
              "    </tr>\n",
              "    <tr>\n",
              "      <th>1929</th>\n",
              "      <td>34.000000</td>\n",
              "      <td>2</td>\n",
              "    </tr>\n",
              "    <tr>\n",
              "      <th>1930</th>\n",
              "      <td>42.600000</td>\n",
              "      <td>5</td>\n",
              "    </tr>\n",
              "    <tr>\n",
              "      <th>1931</th>\n",
              "      <td>50.666667</td>\n",
              "      <td>3</td>\n",
              "    </tr>\n",
              "    <tr>\n",
              "      <th>1932</th>\n",
              "      <td>37.333333</td>\n",
              "      <td>3</td>\n",
              "    </tr>\n",
              "    <tr>\n",
              "      <th>...</th>\n",
              "      <td>...</td>\n",
              "      <td>...</td>\n",
              "    </tr>\n",
              "    <tr>\n",
              "      <th>2010</th>\n",
              "      <td>51.000000</td>\n",
              "      <td>4</td>\n",
              "    </tr>\n",
              "    <tr>\n",
              "      <th>2011</th>\n",
              "      <td>41.600000</td>\n",
              "      <td>5</td>\n",
              "    </tr>\n",
              "    <tr>\n",
              "      <th>2012</th>\n",
              "      <td>54.200000</td>\n",
              "      <td>5</td>\n",
              "    </tr>\n",
              "    <tr>\n",
              "      <th>2013</th>\n",
              "      <td>45.200000</td>\n",
              "      <td>5</td>\n",
              "    </tr>\n",
              "    <tr>\n",
              "      <th>2014</th>\n",
              "      <td>41.000000</td>\n",
              "      <td>4</td>\n",
              "    </tr>\n",
              "  </tbody>\n",
              "</table>\n",
              "<p>87 rows × 2 columns</p>\n",
              "</div>"
            ],
            "text/plain": [
              "              age_at_award      \n",
              "                      mean count\n",
              "year_of_award                   \n",
              "1927             32.000000     1\n",
              "1929             34.000000     2\n",
              "1930             42.600000     5\n",
              "1931             50.666667     3\n",
              "1932             37.333333     3\n",
              "...                    ...   ...\n",
              "2010             51.000000     4\n",
              "2011             41.600000     5\n",
              "2012             54.200000     5\n",
              "2013             45.200000     5\n",
              "2014             41.000000     4\n",
              "\n",
              "[87 rows x 2 columns]"
            ]
          },
          "metadata": {
            "tags": []
          },
          "execution_count": 174
        }
      ]
    },
    {
      "cell_type": "code",
      "metadata": {
        "id": "94EA_zq-FSib",
        "colab_type": "code",
        "outputId": "84381821-70e9-4135-9330-3ec5cc85026d",
        "colab": {
          "base_uri": "https://localhost:8080/",
          "height": 417
        }
      },
      "source": [
        "grouped.loc[grouped[('age_at_award','count')]>5,:].sort_values(('age_at_award','mean'),ascending=False).head(10)"
      ],
      "execution_count": 0,
      "outputs": [
        {
          "output_type": "execute_result",
          "data": {
            "text/html": [
              "<div>\n",
              "<style scoped>\n",
              "    .dataframe tbody tr th:only-of-type {\n",
              "        vertical-align: middle;\n",
              "    }\n",
              "\n",
              "    .dataframe tbody tr th {\n",
              "        vertical-align: top;\n",
              "    }\n",
              "\n",
              "    .dataframe thead tr th {\n",
              "        text-align: left;\n",
              "    }\n",
              "\n",
              "    .dataframe thead tr:last-of-type th {\n",
              "        text-align: right;\n",
              "    }\n",
              "</style>\n",
              "<table border=\"1\" class=\"dataframe\">\n",
              "  <thead>\n",
              "    <tr>\n",
              "      <th></th>\n",
              "      <th colspan=\"2\" halign=\"left\">age_at_award</th>\n",
              "    </tr>\n",
              "    <tr>\n",
              "      <th></th>\n",
              "      <th>mean</th>\n",
              "      <th>count</th>\n",
              "    </tr>\n",
              "    <tr>\n",
              "      <th>year_of_award</th>\n",
              "      <th></th>\n",
              "      <th></th>\n",
              "    </tr>\n",
              "  </thead>\n",
              "  <tbody>\n",
              "    <tr>\n",
              "      <th>1969</th>\n",
              "      <td>53.714286</td>\n",
              "      <td>7</td>\n",
              "    </tr>\n",
              "    <tr>\n",
              "      <th>2007</th>\n",
              "      <td>53.166667</td>\n",
              "      <td>6</td>\n",
              "    </tr>\n",
              "    <tr>\n",
              "      <th>1976</th>\n",
              "      <td>49.166667</td>\n",
              "      <td>6</td>\n",
              "    </tr>\n",
              "    <tr>\n",
              "      <th>1990</th>\n",
              "      <td>47.166667</td>\n",
              "      <td>6</td>\n",
              "    </tr>\n",
              "    <tr>\n",
              "      <th>1973</th>\n",
              "      <td>44.833333</td>\n",
              "      <td>6</td>\n",
              "    </tr>\n",
              "    <tr>\n",
              "      <th>2003</th>\n",
              "      <td>44.166667</td>\n",
              "      <td>6</td>\n",
              "    </tr>\n",
              "    <tr>\n",
              "      <th>2009</th>\n",
              "      <td>43.166667</td>\n",
              "      <td>6</td>\n",
              "    </tr>\n",
              "    <tr>\n",
              "      <th>1997</th>\n",
              "      <td>41.833333</td>\n",
              "      <td>6</td>\n",
              "    </tr>\n",
              "    <tr>\n",
              "      <th>1961</th>\n",
              "      <td>41.000000</td>\n",
              "      <td>6</td>\n",
              "    </tr>\n",
              "    <tr>\n",
              "      <th>1938</th>\n",
              "      <td>39.666667</td>\n",
              "      <td>6</td>\n",
              "    </tr>\n",
              "  </tbody>\n",
              "</table>\n",
              "</div>"
            ],
            "text/plain": [
              "              age_at_award      \n",
              "                      mean count\n",
              "year_of_award                   \n",
              "1969             53.714286     7\n",
              "2007             53.166667     6\n",
              "1976             49.166667     6\n",
              "1990             47.166667     6\n",
              "1973             44.833333     6\n",
              "2003             44.166667     6\n",
              "2009             43.166667     6\n",
              "1997             41.833333     6\n",
              "1961             41.000000     6\n",
              "1938             39.666667     6"
            ]
          },
          "metadata": {
            "tags": []
          },
          "execution_count": 175
        }
      ]
    },
    {
      "cell_type": "code",
      "metadata": {
        "id": "-Kk0isk2FSid",
        "colab_type": "code",
        "outputId": "c2de8803-be47-42ca-9af2-c9717cfb5650",
        "colab": {
          "base_uri": "https://localhost:8080/",
          "height": 531
        }
      },
      "source": [
        "oscars_short.groupby('award').mean().loc[:,'age_at_award'].plot(kind='bar',title='Average age by Award category',linewidth=2,figsize=(10,6), color='lightpink');\n",
        "ax=plt.gca()\n",
        "ax.set_ylabel('Average Age');\n",
        "ax.set_xlabel('Category')"
      ],
      "execution_count": 0,
      "outputs": [
        {
          "output_type": "execute_result",
          "data": {
            "text/plain": [
              "Text(0.5, 0, 'Category')"
            ]
          },
          "metadata": {
            "tags": []
          },
          "execution_count": 176
        },
        {
          "output_type": "display_data",
          "data": {
            "image/png": "[encoded data removed]",
            "text/plain": [
              "<Figure size 720x432 with 1 Axes>"
            ]
          },
          "metadata": {
            "tags": [],
            "needs_background": "light"
          }
        }
      ]
    },
    {
      "cell_type": "code",
      "metadata": {
        "id": "Iq6fgamNFSig",
        "colab_type": "code",
        "outputId": "771d4556-b3c4-4460-d89e-53dcdb841b49",
        "colab": {
          "base_uri": "https://localhost:8080/",
          "height": 747
        }
      },
      "source": [
        "grouped=oscars_short.groupby(['movie'])\n",
        "grouped.head()"
      ],
      "execution_count": 0,
      "outputs": [
        {
          "output_type": "execute_result",
          "data": {
            "text/html": [
              "<div>\n",
              "<style scoped>\n",
              "    .dataframe tbody tr th:only-of-type {\n",
              "        vertical-align: middle;\n",
              "    }\n",
              "\n",
              "    .dataframe tbody tr th {\n",
              "        vertical-align: top;\n",
              "    }\n",
              "\n",
              "    .dataframe thead th {\n",
              "        text-align: right;\n",
              "    }\n",
              "</style>\n",
              "<table border=\"1\" class=\"dataframe\">\n",
              "  <thead>\n",
              "    <tr style=\"text-align: right;\">\n",
              "      <th></th>\n",
              "      <th>birthplace</th>\n",
              "      <th>date_of_birth</th>\n",
              "      <th>race_ethnicity</th>\n",
              "      <th>religion</th>\n",
              "      <th>sexual_orientation</th>\n",
              "      <th>year_of_award</th>\n",
              "      <th>award</th>\n",
              "      <th>movie</th>\n",
              "      <th>person</th>\n",
              "      <th>age_at_award</th>\n",
              "      <th>year_of_birth</th>\n",
              "    </tr>\n",
              "  </thead>\n",
              "  <tbody>\n",
              "    <tr>\n",
              "      <th>0</th>\n",
              "      <td>Chisinau, Moldova</td>\n",
              "      <td>1895-09-30</td>\n",
              "      <td>White</td>\n",
              "      <td>Na</td>\n",
              "      <td>Straight</td>\n",
              "      <td>1927</td>\n",
              "      <td>Best Director</td>\n",
              "      <td>Two Arabian Knights</td>\n",
              "      <td>Lewis Milestone</td>\n",
              "      <td>32.0</td>\n",
              "      <td>1895.0</td>\n",
              "    </tr>\n",
              "    <tr>\n",
              "      <th>1</th>\n",
              "      <td>Glasgow, Scotland</td>\n",
              "      <td>1886-02-02</td>\n",
              "      <td>White</td>\n",
              "      <td>Na</td>\n",
              "      <td>Straight</td>\n",
              "      <td>1930</td>\n",
              "      <td>Best Director</td>\n",
              "      <td>The Divine Lady</td>\n",
              "      <td>Frank Lloyd</td>\n",
              "      <td>44.0</td>\n",
              "      <td>1886.0</td>\n",
              "    </tr>\n",
              "    <tr>\n",
              "      <th>2</th>\n",
              "      <td>Chisinau, Moldova</td>\n",
              "      <td>1895-09-30</td>\n",
              "      <td>White</td>\n",
              "      <td>Na</td>\n",
              "      <td>Straight</td>\n",
              "      <td>1931</td>\n",
              "      <td>Best Director</td>\n",
              "      <td>All Quiet on the Western Front</td>\n",
              "      <td>Lewis Milestone</td>\n",
              "      <td>36.0</td>\n",
              "      <td>1895.0</td>\n",
              "    </tr>\n",
              "    <tr>\n",
              "      <th>3</th>\n",
              "      <td>Chicago, Il</td>\n",
              "      <td>1899-02-23</td>\n",
              "      <td>White</td>\n",
              "      <td>Na</td>\n",
              "      <td>Straight</td>\n",
              "      <td>1932</td>\n",
              "      <td>Best Director</td>\n",
              "      <td>Skippy</td>\n",
              "      <td>Norman Taurog</td>\n",
              "      <td>33.0</td>\n",
              "      <td>1899.0</td>\n",
              "    </tr>\n",
              "    <tr>\n",
              "      <th>4</th>\n",
              "      <td>Salt Lake City, Ut</td>\n",
              "      <td>1894-04-23</td>\n",
              "      <td>White</td>\n",
              "      <td>Roman Catholic</td>\n",
              "      <td>Straight</td>\n",
              "      <td>1933</td>\n",
              "      <td>Best Director</td>\n",
              "      <td>Bad Girl</td>\n",
              "      <td>Frank Borzage</td>\n",
              "      <td>39.0</td>\n",
              "      <td>1894.0</td>\n",
              "    </tr>\n",
              "    <tr>\n",
              "      <th>...</th>\n",
              "      <td>...</td>\n",
              "      <td>...</td>\n",
              "      <td>...</td>\n",
              "      <td>...</td>\n",
              "      <td>...</td>\n",
              "      <td>...</td>\n",
              "      <td>...</td>\n",
              "      <td>...</td>\n",
              "      <td>...</td>\n",
              "      <td>...</td>\n",
              "      <td>...</td>\n",
              "    </tr>\n",
              "    <tr>\n",
              "      <th>411</th>\n",
              "      <td>Woodlawn, Md</td>\n",
              "      <td>2067-12-11</td>\n",
              "      <td>Black</td>\n",
              "      <td>Na</td>\n",
              "      <td>Straight</td>\n",
              "      <td>2010</td>\n",
              "      <td>Best Supporting Actress</td>\n",
              "      <td>Precious</td>\n",
              "      <td>Mo'Nique</td>\n",
              "      <td>43.0</td>\n",
              "      <td>1967.0</td>\n",
              "    </tr>\n",
              "    <tr>\n",
              "      <th>412</th>\n",
              "      <td>New York City</td>\n",
              "      <td>2060-09-14</td>\n",
              "      <td>White</td>\n",
              "      <td>Na</td>\n",
              "      <td>Straight</td>\n",
              "      <td>2011</td>\n",
              "      <td>Best Supporting Actress</td>\n",
              "      <td>The Fighter</td>\n",
              "      <td>Melissa Leo</td>\n",
              "      <td>51.0</td>\n",
              "      <td>1960.0</td>\n",
              "    </tr>\n",
              "    <tr>\n",
              "      <th>413</th>\n",
              "      <td>Montgomery, Al</td>\n",
              "      <td>1972-05-25</td>\n",
              "      <td>Black</td>\n",
              "      <td>Na</td>\n",
              "      <td>Na</td>\n",
              "      <td>2012</td>\n",
              "      <td>Best Supporting Actress</td>\n",
              "      <td>The Help</td>\n",
              "      <td>Octavia Spencer</td>\n",
              "      <td>40.0</td>\n",
              "      <td>1972.0</td>\n",
              "    </tr>\n",
              "    <tr>\n",
              "      <th>414</th>\n",
              "      <td>Brooklyn, Ny</td>\n",
              "      <td>1982-11-12</td>\n",
              "      <td>White</td>\n",
              "      <td>Christian</td>\n",
              "      <td>Straight</td>\n",
              "      <td>2013</td>\n",
              "      <td>Best Supporting Actress</td>\n",
              "      <td>Les MisÌ©rables</td>\n",
              "      <td>Anne Hathaway</td>\n",
              "      <td>31.0</td>\n",
              "      <td>1982.0</td>\n",
              "    </tr>\n",
              "    <tr>\n",
              "      <th>415</th>\n",
              "      <td>Mexico City, Mexico</td>\n",
              "      <td>1983-03-01</td>\n",
              "      <td>Black</td>\n",
              "      <td>Na</td>\n",
              "      <td>Na</td>\n",
              "      <td>2014</td>\n",
              "      <td>Best Supporting Actress</td>\n",
              "      <td>12 Years a Slave</td>\n",
              "      <td>Lupita Nyong'o</td>\n",
              "      <td>31.0</td>\n",
              "      <td>1983.0</td>\n",
              "    </tr>\n",
              "  </tbody>\n",
              "</table>\n",
              "<p>416 rows × 11 columns</p>\n",
              "</div>"
            ],
            "text/plain": [
              "              birthplace date_of_birth  ... age_at_award year_of_birth\n",
              "0      Chisinau, Moldova    1895-09-30  ...         32.0        1895.0\n",
              "1      Glasgow, Scotland    1886-02-02  ...         44.0        1886.0\n",
              "2      Chisinau, Moldova    1895-09-30  ...         36.0        1895.0\n",
              "3            Chicago, Il    1899-02-23  ...         33.0        1899.0\n",
              "4     Salt Lake City, Ut    1894-04-23  ...         39.0        1894.0\n",
              "..                   ...           ...  ...          ...           ...\n",
              "411         Woodlawn, Md    2067-12-11  ...         43.0        1967.0\n",
              "412        New York City    2060-09-14  ...         51.0        1960.0\n",
              "413       Montgomery, Al    1972-05-25  ...         40.0        1972.0\n",
              "414         Brooklyn, Ny    1982-11-12  ...         31.0        1982.0\n",
              "415  Mexico City, Mexico    1983-03-01  ...         31.0        1983.0\n",
              "\n",
              "[416 rows x 11 columns]"
            ]
          },
          "metadata": {
            "tags": []
          },
          "execution_count": 177
        }
      ]
    },
    {
      "cell_type": "code",
      "metadata": {
        "id": "gJuJF7u4FSih",
        "colab_type": "code",
        "outputId": "abf8a564-8d33-47ba-9274-a9950ed2fe1a",
        "colab": {
          "base_uri": "https://localhost:8080/",
          "height": 210
        }
      },
      "source": [
        "grouped.get_group('Cabaret')"
      ],
      "execution_count": 0,
      "outputs": [
        {
          "output_type": "execute_result",
          "data": {
            "text/html": [
              "<div>\n",
              "<style scoped>\n",
              "    .dataframe tbody tr th:only-of-type {\n",
              "        vertical-align: middle;\n",
              "    }\n",
              "\n",
              "    .dataframe tbody tr th {\n",
              "        vertical-align: top;\n",
              "    }\n",
              "\n",
              "    .dataframe thead th {\n",
              "        text-align: right;\n",
              "    }\n",
              "</style>\n",
              "<table border=\"1\" class=\"dataframe\">\n",
              "  <thead>\n",
              "    <tr style=\"text-align: right;\">\n",
              "      <th></th>\n",
              "      <th>birthplace</th>\n",
              "      <th>date_of_birth</th>\n",
              "      <th>race_ethnicity</th>\n",
              "      <th>religion</th>\n",
              "      <th>sexual_orientation</th>\n",
              "      <th>year_of_award</th>\n",
              "      <th>award</th>\n",
              "      <th>movie</th>\n",
              "      <th>person</th>\n",
              "      <th>age_at_award</th>\n",
              "      <th>year_of_birth</th>\n",
              "    </tr>\n",
              "  </thead>\n",
              "  <tbody>\n",
              "    <tr>\n",
              "      <th>46</th>\n",
              "      <td>Chicago, Il</td>\n",
              "      <td>2027-06-23</td>\n",
              "      <td>White</td>\n",
              "      <td>Na</td>\n",
              "      <td>Straight</td>\n",
              "      <td>1973</td>\n",
              "      <td>Best Director</td>\n",
              "      <td>Cabaret</td>\n",
              "      <td>Bob Fosse</td>\n",
              "      <td>46.0</td>\n",
              "      <td>1927.0</td>\n",
              "    </tr>\n",
              "    <tr>\n",
              "      <th>209</th>\n",
              "      <td>Cleveland, Oh</td>\n",
              "      <td>2032-04-11</td>\n",
              "      <td>White</td>\n",
              "      <td>Jewish</td>\n",
              "      <td>Gay</td>\n",
              "      <td>1973</td>\n",
              "      <td>Best Supporting Actor</td>\n",
              "      <td>Cabaret</td>\n",
              "      <td>Joel Grey</td>\n",
              "      <td>41.0</td>\n",
              "      <td>1932.0</td>\n",
              "    </tr>\n",
              "    <tr>\n",
              "      <th>296</th>\n",
              "      <td>Los Angeles, Ca</td>\n",
              "      <td>2046-03-12</td>\n",
              "      <td>White</td>\n",
              "      <td>Na</td>\n",
              "      <td>Na</td>\n",
              "      <td>1973</td>\n",
              "      <td>Best Actress</td>\n",
              "      <td>Cabaret</td>\n",
              "      <td>Liza Minnelli</td>\n",
              "      <td>27.0</td>\n",
              "      <td>1946.0</td>\n",
              "    </tr>\n",
              "  </tbody>\n",
              "</table>\n",
              "</div>"
            ],
            "text/plain": [
              "          birthplace date_of_birth  ... age_at_award year_of_birth\n",
              "46       Chicago, Il    2027-06-23  ...         46.0        1927.0\n",
              "209    Cleveland, Oh    2032-04-11  ...         41.0        1932.0\n",
              "296  Los Angeles, Ca    2046-03-12  ...         27.0        1946.0\n",
              "\n",
              "[3 rows x 11 columns]"
            ]
          },
          "metadata": {
            "tags": []
          },
          "execution_count": 178
        }
      ]
    },
    {
      "cell_type": "markdown",
      "metadata": {
        "id": "BKUBeQGFFSim",
        "colab_type": "text"
      },
      "source": [
        "#  \n",
        "###  Grouping by multiple columns"
      ]
    },
    {
      "cell_type": "code",
      "metadata": {
        "id": "HC25N4HlFSim",
        "colab_type": "code",
        "outputId": "39dae0a9-aa7e-4ff6-bb77-18d9cf015d0f",
        "colab": {
          "base_uri": "https://localhost:8080/",
          "height": 243
        }
      },
      "source": [
        "grouped=oscars_short.groupby(['person','award']).size()\n",
        "grouped"
      ],
      "execution_count": 0,
      "outputs": [
        {
          "output_type": "execute_result",
          "data": {
            "text/plain": [
              "person          award                  \n",
              "Adrien Brody    Best Actor                 1\n",
              "Al Pacino       Best Actor                 1\n",
              "Alan Arkin      Best Supporting Actor      1\n",
              "Alec Guinness   Best Actor                 1\n",
              "Alice Brady     Best Supporting Actress    1\n",
              "                                          ..\n",
              "William Holden  Best Actor                 1\n",
              "William Hurt    Best Actor                 1\n",
              "William Wyler   Best Director              3\n",
              "Woody Allen     Best Director              1\n",
              "Yul Brynner     Best Actor                 1\n",
              "Length: 360, dtype: int64"
            ]
          },
          "metadata": {
            "tags": []
          },
          "execution_count": 179
        }
      ]
    },
    {
      "cell_type": "code",
      "metadata": {
        "id": "9K2yQXJQFSio",
        "colab_type": "code",
        "outputId": "96a2289d-20ed-4ea4-9ace-3775dd061adf",
        "colab": {
          "base_uri": "https://localhost:8080/",
          "height": 243
        }
      },
      "source": [
        "grouped=oscars_short.groupby(['person','award']).size().sort_values(ascending=False)\n",
        "grouped\n"
      ],
      "execution_count": 0,
      "outputs": [
        {
          "output_type": "execute_result",
          "data": {
            "text/plain": [
              "person               award                  \n",
              "Katharine Hepburn    Best Actress               4\n",
              "John Ford            Best Director              4\n",
              "William Wyler        Best Director              3\n",
              "Frank Capra          Best Director              3\n",
              "Daniel Day-Lewis     Best Actor                 3\n",
              "                                               ..\n",
              "Margaret Rutherford  Best Supporting Actress    1\n",
              "Marie Dressler       Best Actress               1\n",
              "Marion Cotillard     Best Actress               1\n",
              "Marisa Tomei         Best Supporting Actress    1\n",
              "Adrien Brody         Best Actor                 1\n",
              "Length: 360, dtype: int64"
            ]
          },
          "metadata": {
            "tags": []
          },
          "execution_count": 180
        }
      ]
    },
    {
      "cell_type": "code",
      "metadata": {
        "id": "7VmpTwHMFSiv",
        "colab_type": "code",
        "outputId": "69d8f92b-4614-4cc1-b578-b0271bcefcde",
        "colab": {
          "base_uri": "https://localhost:8080/",
          "height": 399
        }
      },
      "source": [
        "grouped=oscars_short.groupby(['person','award']).size().nlargest(20)\n",
        "grouped"
      ],
      "execution_count": 0,
      "outputs": [
        {
          "output_type": "execute_result",
          "data": {
            "text/plain": [
              "person             award                  \n",
              "John Ford          Best Director              4\n",
              "Katharine Hepburn  Best Actress               4\n",
              "Daniel Day-Lewis   Best Actor                 3\n",
              "Frank Capra        Best Director              3\n",
              "Walter Brennan     Best Supporting Actor      3\n",
              "William Wyler      Best Director              3\n",
              "Ang Lee            Best Director              2\n",
              "Anthony Quinn      Best Supporting Actor      2\n",
              "Bette Davis        Best Actress               2\n",
              "Billy Wilder       Best Director              2\n",
              "Christoph Waltz    Best Supporting Actor      2\n",
              "Clint Eastwood     Best Director              2\n",
              "David Lean         Best Director              2\n",
              "Dianne Wiest       Best Supporting Actress    2\n",
              "Dustin Hoffman     Best Actor                 2\n",
              "Elia Kazan         Best Director              2\n",
              "Elizabeth Taylor   Best Actress               2\n",
              "Frank Lloyd        Best Director              2\n",
              "Fred Zinnemann     Best Director              2\n",
              "Gary Cooper        Best Actor                 2\n",
              "dtype: int64"
            ]
          },
          "metadata": {
            "tags": []
          },
          "execution_count": 181
        }
      ]
    },
    {
      "cell_type": "code",
      "metadata": {
        "id": "OSwzcpm9FSiw",
        "colab_type": "code",
        "outputId": "02bc6543-672d-452e-e9e1-2d5e8f639d91",
        "colab": {
          "base_uri": "https://localhost:8080/",
          "height": 208
        }
      },
      "source": [
        "#other alternative, without group by\n",
        "oscars_short['person'].value_counts().nlargest(10)"
      ],
      "execution_count": 0,
      "outputs": [
        {
          "output_type": "execute_result",
          "data": {
            "text/plain": [
              "Katharine Hepburn    4\n",
              "John Ford            4\n",
              "Jack Nicholson       3\n",
              "Frank Capra          3\n",
              "Daniel Day-Lewis     3\n",
              "Ingrid Bergman       3\n",
              "Meryl Streep         3\n",
              "Walter Brennan       3\n",
              "William Wyler        3\n",
              "Fred Zinnemann       2\n",
              "Name: person, dtype: int64"
            ]
          },
          "metadata": {
            "tags": []
          },
          "execution_count": 182
        }
      ]
    },
    {
      "cell_type": "code",
      "metadata": {
        "id": "d4N0Z-e9FSiz",
        "colab_type": "code",
        "outputId": "a9411a4e-9ca0-45fb-cd4e-be3d76fd5533",
        "colab": {
          "base_uri": "https://localhost:8080/",
          "height": 121
        }
      },
      "source": [
        "#other alternative, without group by\n",
        "oscars_short['person'].value_counts().nsmallest(5)"
      ],
      "execution_count": 0,
      "outputs": [
        {
          "output_type": "execute_result",
          "data": {
            "text/plain": [
              "Ethel Barrymore    1\n",
              "Lee Marvin         1\n",
              "Tommy Lee Jones    1\n",
              "William Holden     1\n",
              "Yul Brynner        1\n",
              "Name: person, dtype: int64"
            ]
          },
          "metadata": {
            "tags": []
          },
          "execution_count": 183
        }
      ]
    },
    {
      "cell_type": "markdown",
      "metadata": {
        "id": "86i8pkGUFSi2",
        "colab_type": "text"
      },
      "source": [
        "If we want to create a dataframe, with the total number of elements per group (size), we can reset the index like following..."
      ]
    },
    {
      "cell_type": "code",
      "metadata": {
        "id": "I4mVw6HYFSi2",
        "colab_type": "code",
        "outputId": "f7923305-2ccd-483c-c74c-b9751382b211",
        "colab": {
          "base_uri": "https://localhost:8080/",
          "height": 1000
        }
      },
      "source": [
        "oscars_short_by_religion=oscars_short.groupby(['award','religion']).size()\n",
        "oscars_short_by_religion=oscars_short_by_religion.reset_index()\n",
        "oscars_short_by_religion\n",
        "col_rename={0:'count_religion'}\n",
        "oscars_short_by_religion=oscars_short_by_religion.rename(columns=col_rename)\n",
        "oscars_short_by_religion"
      ],
      "execution_count": 0,
      "outputs": [
        {
          "output_type": "execute_result",
          "data": {
            "text/html": [
              "<div>\n",
              "<style scoped>\n",
              "    .dataframe tbody tr th:only-of-type {\n",
              "        vertical-align: middle;\n",
              "    }\n",
              "\n",
              "    .dataframe tbody tr th {\n",
              "        vertical-align: top;\n",
              "    }\n",
              "\n",
              "    .dataframe thead th {\n",
              "        text-align: right;\n",
              "    }\n",
              "</style>\n",
              "<table border=\"1\" class=\"dataframe\">\n",
              "  <thead>\n",
              "    <tr style=\"text-align: right;\">\n",
              "      <th></th>\n",
              "      <th>award</th>\n",
              "      <th>religion</th>\n",
              "      <th>count_religion</th>\n",
              "    </tr>\n",
              "  </thead>\n",
              "  <tbody>\n",
              "    <tr>\n",
              "      <th>0</th>\n",
              "      <td>Best Actor</td>\n",
              "      <td>Anglican/episcopalian</td>\n",
              "      <td>1</td>\n",
              "    </tr>\n",
              "    <tr>\n",
              "      <th>1</th>\n",
              "      <td>Best Actor</td>\n",
              "      <td>Atheist</td>\n",
              "      <td>2</td>\n",
              "    </tr>\n",
              "    <tr>\n",
              "      <th>2</th>\n",
              "      <td>Best Actor</td>\n",
              "      <td>Baptist</td>\n",
              "      <td>1</td>\n",
              "    </tr>\n",
              "    <tr>\n",
              "      <th>3</th>\n",
              "      <td>Best Actor</td>\n",
              "      <td>Born-Again Christian</td>\n",
              "      <td>2</td>\n",
              "    </tr>\n",
              "    <tr>\n",
              "      <th>4</th>\n",
              "      <td>Best Actor</td>\n",
              "      <td>Deist</td>\n",
              "      <td>3</td>\n",
              "    </tr>\n",
              "    <tr>\n",
              "      <th>5</th>\n",
              "      <td>Best Actor</td>\n",
              "      <td>Jewish</td>\n",
              "      <td>7</td>\n",
              "    </tr>\n",
              "    <tr>\n",
              "      <th>6</th>\n",
              "      <td>Best Actor</td>\n",
              "      <td>Lutheran</td>\n",
              "      <td>3</td>\n",
              "    </tr>\n",
              "    <tr>\n",
              "      <th>7</th>\n",
              "      <td>Best Actor</td>\n",
              "      <td>Na</td>\n",
              "      <td>44</td>\n",
              "    </tr>\n",
              "    <tr>\n",
              "      <th>8</th>\n",
              "      <td>Best Actor</td>\n",
              "      <td>Presbyterian</td>\n",
              "      <td>1</td>\n",
              "    </tr>\n",
              "    <tr>\n",
              "      <th>9</th>\n",
              "      <td>Best Actor</td>\n",
              "      <td>Protestant</td>\n",
              "      <td>3</td>\n",
              "    </tr>\n",
              "    <tr>\n",
              "      <th>10</th>\n",
              "      <td>Best Actor</td>\n",
              "      <td>Quaker</td>\n",
              "      <td>1</td>\n",
              "    </tr>\n",
              "    <tr>\n",
              "      <th>11</th>\n",
              "      <td>Best Actor</td>\n",
              "      <td>Roman Catholic</td>\n",
              "      <td>18</td>\n",
              "    </tr>\n",
              "    <tr>\n",
              "      <th>12</th>\n",
              "      <td>Best Actress</td>\n",
              "      <td>Atheist</td>\n",
              "      <td>7</td>\n",
              "    </tr>\n",
              "    <tr>\n",
              "      <th>13</th>\n",
              "      <td>Best Actress</td>\n",
              "      <td>Baptist</td>\n",
              "      <td>1</td>\n",
              "    </tr>\n",
              "    <tr>\n",
              "      <th>14</th>\n",
              "      <td>Best Actress</td>\n",
              "      <td>Born-Again Christian</td>\n",
              "      <td>2</td>\n",
              "    </tr>\n",
              "    <tr>\n",
              "      <th>15</th>\n",
              "      <td>Best Actress</td>\n",
              "      <td>Christian Science</td>\n",
              "      <td>3</td>\n",
              "    </tr>\n",
              "    <tr>\n",
              "      <th>16</th>\n",
              "      <td>Best Actress</td>\n",
              "      <td>Disciples of Christ</td>\n",
              "      <td>1</td>\n",
              "    </tr>\n",
              "    <tr>\n",
              "      <th>17</th>\n",
              "      <td>Best Actress</td>\n",
              "      <td>Hindu</td>\n",
              "      <td>1</td>\n",
              "    </tr>\n",
              "    <tr>\n",
              "      <th>18</th>\n",
              "      <td>Best Actress</td>\n",
              "      <td>Jewish</td>\n",
              "      <td>8</td>\n",
              "    </tr>\n",
              "    <tr>\n",
              "      <th>19</th>\n",
              "      <td>Best Actress</td>\n",
              "      <td>Na</td>\n",
              "      <td>50</td>\n",
              "    </tr>\n",
              "    <tr>\n",
              "      <th>20</th>\n",
              "      <td>Best Actress</td>\n",
              "      <td>Roman Catholic</td>\n",
              "      <td>13</td>\n",
              "    </tr>\n",
              "    <tr>\n",
              "      <th>21</th>\n",
              "      <td>Best Actress</td>\n",
              "      <td>Sufism</td>\n",
              "      <td>1</td>\n",
              "    </tr>\n",
              "    <tr>\n",
              "      <th>22</th>\n",
              "      <td>Best Director</td>\n",
              "      <td>Atheist</td>\n",
              "      <td>4</td>\n",
              "    </tr>\n",
              "    <tr>\n",
              "      <th>23</th>\n",
              "      <td>Best Director</td>\n",
              "      <td>Baptist</td>\n",
              "      <td>2</td>\n",
              "    </tr>\n",
              "    <tr>\n",
              "      <th>24</th>\n",
              "      <td>Best Director</td>\n",
              "      <td>Jewish</td>\n",
              "      <td>17</td>\n",
              "    </tr>\n",
              "    <tr>\n",
              "      <th>25</th>\n",
              "      <td>Best Director</td>\n",
              "      <td>Na</td>\n",
              "      <td>50</td>\n",
              "    </tr>\n",
              "    <tr>\n",
              "      <th>26</th>\n",
              "      <td>Best Director</td>\n",
              "      <td>Presbyterian</td>\n",
              "      <td>1</td>\n",
              "    </tr>\n",
              "    <tr>\n",
              "      <th>27</th>\n",
              "      <td>Best Director</td>\n",
              "      <td>Roman Catholic</td>\n",
              "      <td>12</td>\n",
              "    </tr>\n",
              "    <tr>\n",
              "      <th>28</th>\n",
              "      <td>Best Director</td>\n",
              "      <td>See Note</td>\n",
              "      <td>1</td>\n",
              "    </tr>\n",
              "    <tr>\n",
              "      <th>29</th>\n",
              "      <td>Best Supporting Actor</td>\n",
              "      <td>Anglican/episcopalian</td>\n",
              "      <td>1</td>\n",
              "    </tr>\n",
              "    <tr>\n",
              "      <th>30</th>\n",
              "      <td>Best Supporting Actor</td>\n",
              "      <td>Atheist</td>\n",
              "      <td>1</td>\n",
              "    </tr>\n",
              "    <tr>\n",
              "      <th>31</th>\n",
              "      <td>Best Supporting Actor</td>\n",
              "      <td>Buddhist</td>\n",
              "      <td>1</td>\n",
              "    </tr>\n",
              "    <tr>\n",
              "      <th>32</th>\n",
              "      <td>Best Supporting Actor</td>\n",
              "      <td>Jewish</td>\n",
              "      <td>8</td>\n",
              "    </tr>\n",
              "    <tr>\n",
              "      <th>33</th>\n",
              "      <td>Best Supporting Actor</td>\n",
              "      <td>Na</td>\n",
              "      <td>58</td>\n",
              "    </tr>\n",
              "    <tr>\n",
              "      <th>34</th>\n",
              "      <td>Best Supporting Actor</td>\n",
              "      <td>Protestant</td>\n",
              "      <td>2</td>\n",
              "    </tr>\n",
              "    <tr>\n",
              "      <th>35</th>\n",
              "      <td>Best Supporting Actor</td>\n",
              "      <td>Roman Catholic</td>\n",
              "      <td>7</td>\n",
              "    </tr>\n",
              "    <tr>\n",
              "      <th>36</th>\n",
              "      <td>Best Supporting Actress</td>\n",
              "      <td>Agnostic</td>\n",
              "      <td>1</td>\n",
              "    </tr>\n",
              "    <tr>\n",
              "      <th>37</th>\n",
              "      <td>Best Supporting Actress</td>\n",
              "      <td>Atheist</td>\n",
              "      <td>2</td>\n",
              "    </tr>\n",
              "    <tr>\n",
              "      <th>38</th>\n",
              "      <td>Best Supporting Actress</td>\n",
              "      <td>Baptist</td>\n",
              "      <td>1</td>\n",
              "    </tr>\n",
              "    <tr>\n",
              "      <th>39</th>\n",
              "      <td>Best Supporting Actress</td>\n",
              "      <td>Buddhist</td>\n",
              "      <td>3</td>\n",
              "    </tr>\n",
              "    <tr>\n",
              "      <th>40</th>\n",
              "      <td>Best Supporting Actress</td>\n",
              "      <td>Christian</td>\n",
              "      <td>2</td>\n",
              "    </tr>\n",
              "    <tr>\n",
              "      <th>41</th>\n",
              "      <td>Best Supporting Actress</td>\n",
              "      <td>Congregationalist</td>\n",
              "      <td>1</td>\n",
              "    </tr>\n",
              "    <tr>\n",
              "      <th>42</th>\n",
              "      <td>Best Supporting Actress</td>\n",
              "      <td>Jewish</td>\n",
              "      <td>5</td>\n",
              "    </tr>\n",
              "    <tr>\n",
              "      <th>43</th>\n",
              "      <td>Best Supporting Actress</td>\n",
              "      <td>Methodist</td>\n",
              "      <td>1</td>\n",
              "    </tr>\n",
              "    <tr>\n",
              "      <th>44</th>\n",
              "      <td>Best Supporting Actress</td>\n",
              "      <td>Na</td>\n",
              "      <td>54</td>\n",
              "    </tr>\n",
              "    <tr>\n",
              "      <th>45</th>\n",
              "      <td>Best Supporting Actress</td>\n",
              "      <td>Quaker</td>\n",
              "      <td>1</td>\n",
              "    </tr>\n",
              "    <tr>\n",
              "      <th>46</th>\n",
              "      <td>Best Supporting Actress</td>\n",
              "      <td>Roman Catholic</td>\n",
              "      <td>7</td>\n",
              "    </tr>\n",
              "  </tbody>\n",
              "</table>\n",
              "</div>"
            ],
            "text/plain": [
              "                      award               religion  count_religion\n",
              "0                Best Actor  Anglican/episcopalian               1\n",
              "1                Best Actor                Atheist               2\n",
              "2                Best Actor                Baptist               1\n",
              "3                Best Actor   Born-Again Christian               2\n",
              "4                Best Actor                  Deist               3\n",
              "5                Best Actor                 Jewish               7\n",
              "6                Best Actor               Lutheran               3\n",
              "7                Best Actor                     Na              44\n",
              "8                Best Actor           Presbyterian               1\n",
              "9                Best Actor             Protestant               3\n",
              "10               Best Actor                 Quaker               1\n",
              "11               Best Actor         Roman Catholic              18\n",
              "12             Best Actress                Atheist               7\n",
              "13             Best Actress                Baptist               1\n",
              "14             Best Actress   Born-Again Christian               2\n",
              "15             Best Actress      Christian Science               3\n",
              "16             Best Actress    Disciples of Christ               1\n",
              "17             Best Actress                  Hindu               1\n",
              "18             Best Actress                 Jewish               8\n",
              "19             Best Actress                     Na              50\n",
              "20             Best Actress         Roman Catholic              13\n",
              "21             Best Actress                 Sufism               1\n",
              "22            Best Director                Atheist               4\n",
              "23            Best Director                Baptist               2\n",
              "24            Best Director                 Jewish              17\n",
              "25            Best Director                     Na              50\n",
              "26            Best Director           Presbyterian               1\n",
              "27            Best Director         Roman Catholic              12\n",
              "28            Best Director               See Note               1\n",
              "29    Best Supporting Actor  Anglican/episcopalian               1\n",
              "30    Best Supporting Actor                Atheist               1\n",
              "31    Best Supporting Actor               Buddhist               1\n",
              "32    Best Supporting Actor                 Jewish               8\n",
              "33    Best Supporting Actor                     Na              58\n",
              "34    Best Supporting Actor             Protestant               2\n",
              "35    Best Supporting Actor         Roman Catholic               7\n",
              "36  Best Supporting Actress               Agnostic               1\n",
              "37  Best Supporting Actress                Atheist               2\n",
              "38  Best Supporting Actress                Baptist               1\n",
              "39  Best Supporting Actress               Buddhist               3\n",
              "40  Best Supporting Actress              Christian               2\n",
              "41  Best Supporting Actress      Congregationalist               1\n",
              "42  Best Supporting Actress                 Jewish               5\n",
              "43  Best Supporting Actress              Methodist               1\n",
              "44  Best Supporting Actress                     Na              54\n",
              "45  Best Supporting Actress                 Quaker               1\n",
              "46  Best Supporting Actress         Roman Catholic               7"
            ]
          },
          "metadata": {
            "tags": []
          },
          "execution_count": 184
        }
      ]
    },
    {
      "cell_type": "markdown",
      "metadata": {
        "id": "rrfDJ1GsFSi4",
        "colab_type": "text"
      },
      "source": [
        "#### As we saw before, we can apply more than one operation at the same time"
      ]
    },
    {
      "cell_type": "code",
      "metadata": {
        "id": "Vpo_zG-DFSi4",
        "colab_type": "code",
        "outputId": "13f27eb4-2bd5-42e7-813a-b2bc238cc8b7",
        "colab": {
          "base_uri": "https://localhost:8080/",
          "height": 263
        }
      },
      "source": [
        "grouped=oscars_short.groupby(['year_of_award']).agg({'age_at_award':['mean','count']}) \n",
        "grouped.head(5)"
      ],
      "execution_count": 0,
      "outputs": [
        {
          "output_type": "execute_result",
          "data": {
            "text/html": [
              "<div>\n",
              "<style scoped>\n",
              "    .dataframe tbody tr th:only-of-type {\n",
              "        vertical-align: middle;\n",
              "    }\n",
              "\n",
              "    .dataframe tbody tr th {\n",
              "        vertical-align: top;\n",
              "    }\n",
              "\n",
              "    .dataframe thead tr th {\n",
              "        text-align: left;\n",
              "    }\n",
              "\n",
              "    .dataframe thead tr:last-of-type th {\n",
              "        text-align: right;\n",
              "    }\n",
              "</style>\n",
              "<table border=\"1\" class=\"dataframe\">\n",
              "  <thead>\n",
              "    <tr>\n",
              "      <th></th>\n",
              "      <th colspan=\"2\" halign=\"left\">age_at_award</th>\n",
              "    </tr>\n",
              "    <tr>\n",
              "      <th></th>\n",
              "      <th>mean</th>\n",
              "      <th>count</th>\n",
              "    </tr>\n",
              "    <tr>\n",
              "      <th>year_of_award</th>\n",
              "      <th></th>\n",
              "      <th></th>\n",
              "    </tr>\n",
              "  </thead>\n",
              "  <tbody>\n",
              "    <tr>\n",
              "      <th>1927</th>\n",
              "      <td>32.000000</td>\n",
              "      <td>1</td>\n",
              "    </tr>\n",
              "    <tr>\n",
              "      <th>1929</th>\n",
              "      <td>34.000000</td>\n",
              "      <td>2</td>\n",
              "    </tr>\n",
              "    <tr>\n",
              "      <th>1930</th>\n",
              "      <td>42.600000</td>\n",
              "      <td>5</td>\n",
              "    </tr>\n",
              "    <tr>\n",
              "      <th>1931</th>\n",
              "      <td>50.666667</td>\n",
              "      <td>3</td>\n",
              "    </tr>\n",
              "    <tr>\n",
              "      <th>1932</th>\n",
              "      <td>37.333333</td>\n",
              "      <td>3</td>\n",
              "    </tr>\n",
              "  </tbody>\n",
              "</table>\n",
              "</div>"
            ],
            "text/plain": [
              "              age_at_award      \n",
              "                      mean count\n",
              "year_of_award                   \n",
              "1927             32.000000     1\n",
              "1929             34.000000     2\n",
              "1930             42.600000     5\n",
              "1931             50.666667     3\n",
              "1932             37.333333     3"
            ]
          },
          "metadata": {
            "tags": []
          },
          "execution_count": 185
        }
      ]
    },
    {
      "cell_type": "markdown",
      "metadata": {
        "id": "wWUu2Y6xFSi6",
        "colab_type": "text"
      },
      "source": [
        "####  We can even apply different operations to different columns"
      ]
    },
    {
      "cell_type": "code",
      "metadata": {
        "id": "AYSlWMSoFSi7",
        "colab_type": "code",
        "outputId": "7fbe8915-2243-4131-b239-0c2bd8cb1ef4",
        "colab": {
          "base_uri": "https://localhost:8080/",
          "height": 723
        }
      },
      "source": [
        "grouped=oscars_short.groupby(['year_of_award']).agg({'age_at_award':['mean','count'],'year_of_birth':'min','religion':['max','min']}) \n",
        "grouped.head(20)"
      ],
      "execution_count": 0,
      "outputs": [
        {
          "output_type": "execute_result",
          "data": {
            "text/html": [
              "<div>\n",
              "<style scoped>\n",
              "    .dataframe tbody tr th:only-of-type {\n",
              "        vertical-align: middle;\n",
              "    }\n",
              "\n",
              "    .dataframe tbody tr th {\n",
              "        vertical-align: top;\n",
              "    }\n",
              "\n",
              "    .dataframe thead tr th {\n",
              "        text-align: left;\n",
              "    }\n",
              "\n",
              "    .dataframe thead tr:last-of-type th {\n",
              "        text-align: right;\n",
              "    }\n",
              "</style>\n",
              "<table border=\"1\" class=\"dataframe\">\n",
              "  <thead>\n",
              "    <tr>\n",
              "      <th></th>\n",
              "      <th colspan=\"2\" halign=\"left\">age_at_award</th>\n",
              "      <th>year_of_birth</th>\n",
              "      <th colspan=\"2\" halign=\"left\">religion</th>\n",
              "    </tr>\n",
              "    <tr>\n",
              "      <th></th>\n",
              "      <th>mean</th>\n",
              "      <th>count</th>\n",
              "      <th>min</th>\n",
              "      <th>max</th>\n",
              "      <th>min</th>\n",
              "    </tr>\n",
              "    <tr>\n",
              "      <th>year_of_award</th>\n",
              "      <th></th>\n",
              "      <th></th>\n",
              "      <th></th>\n",
              "      <th></th>\n",
              "      <th></th>\n",
              "    </tr>\n",
              "  </thead>\n",
              "  <tbody>\n",
              "    <tr>\n",
              "      <th>1927</th>\n",
              "      <td>32.000000</td>\n",
              "      <td>1</td>\n",
              "      <td>1895.0</td>\n",
              "      <td>Na</td>\n",
              "      <td>Na</td>\n",
              "    </tr>\n",
              "    <tr>\n",
              "      <th>1929</th>\n",
              "      <td>34.000000</td>\n",
              "      <td>2</td>\n",
              "      <td>1884.0</td>\n",
              "      <td>Na</td>\n",
              "      <td>Na</td>\n",
              "    </tr>\n",
              "    <tr>\n",
              "      <th>1930</th>\n",
              "      <td>42.600000</td>\n",
              "      <td>5</td>\n",
              "      <td>1868.0</td>\n",
              "      <td>Na</td>\n",
              "      <td>Na</td>\n",
              "    </tr>\n",
              "    <tr>\n",
              "      <th>1931</th>\n",
              "      <td>50.666667</td>\n",
              "      <td>3</td>\n",
              "      <td>1868.0</td>\n",
              "      <td>Roman Catholic</td>\n",
              "      <td>Na</td>\n",
              "    </tr>\n",
              "    <tr>\n",
              "      <th>1932</th>\n",
              "      <td>37.333333</td>\n",
              "      <td>3</td>\n",
              "      <td>1885.0</td>\n",
              "      <td>Na</td>\n",
              "      <td>Na</td>\n",
              "    </tr>\n",
              "    <tr>\n",
              "      <th>1933</th>\n",
              "      <td>39.000000</td>\n",
              "      <td>1</td>\n",
              "      <td>1894.0</td>\n",
              "      <td>Roman Catholic</td>\n",
              "      <td>Roman Catholic</td>\n",
              "    </tr>\n",
              "    <tr>\n",
              "      <th>1934</th>\n",
              "      <td>36.666667</td>\n",
              "      <td>3</td>\n",
              "      <td>1886.0</td>\n",
              "      <td>Roman Catholic</td>\n",
              "      <td>Atheist</td>\n",
              "    </tr>\n",
              "    <tr>\n",
              "      <th>1935</th>\n",
              "      <td>34.666667</td>\n",
              "      <td>3</td>\n",
              "      <td>1897.0</td>\n",
              "      <td>Roman Catholic</td>\n",
              "      <td>Na</td>\n",
              "    </tr>\n",
              "    <tr>\n",
              "      <th>1936</th>\n",
              "      <td>41.000000</td>\n",
              "      <td>3</td>\n",
              "      <td>1883.0</td>\n",
              "      <td>Roman Catholic</td>\n",
              "      <td>Anglican/episcopalian</td>\n",
              "    </tr>\n",
              "    <tr>\n",
              "      <th>1937</th>\n",
              "      <td>36.750000</td>\n",
              "      <td>4</td>\n",
              "      <td>1895.0</td>\n",
              "      <td>Roman Catholic</td>\n",
              "      <td>Jewish</td>\n",
              "    </tr>\n",
              "    <tr>\n",
              "      <th>1938</th>\n",
              "      <td>39.666667</td>\n",
              "      <td>6</td>\n",
              "      <td>1892.0</td>\n",
              "      <td>Roman Catholic</td>\n",
              "      <td>Jewish</td>\n",
              "    </tr>\n",
              "    <tr>\n",
              "      <th>1939</th>\n",
              "      <td>41.000000</td>\n",
              "      <td>5</td>\n",
              "      <td>1891.0</td>\n",
              "      <td>Roman Catholic</td>\n",
              "      <td>Na</td>\n",
              "    </tr>\n",
              "    <tr>\n",
              "      <th>1940</th>\n",
              "      <td>39.500000</td>\n",
              "      <td>6</td>\n",
              "      <td>1883.0</td>\n",
              "      <td>Roman Catholic</td>\n",
              "      <td>Christian</td>\n",
              "    </tr>\n",
              "    <tr>\n",
              "      <th>1941</th>\n",
              "      <td>43.800000</td>\n",
              "      <td>5</td>\n",
              "      <td>1879.0</td>\n",
              "      <td>Roman Catholic</td>\n",
              "      <td>Christian Science</td>\n",
              "    </tr>\n",
              "    <tr>\n",
              "      <th>1942</th>\n",
              "      <td>45.000000</td>\n",
              "      <td>5</td>\n",
              "      <td>1880.0</td>\n",
              "      <td>Roman Catholic</td>\n",
              "      <td>Na</td>\n",
              "    </tr>\n",
              "    <tr>\n",
              "      <th>1943</th>\n",
              "      <td>35.750000</td>\n",
              "      <td>4</td>\n",
              "      <td>1899.0</td>\n",
              "      <td>Roman Catholic</td>\n",
              "      <td>Na</td>\n",
              "    </tr>\n",
              "    <tr>\n",
              "      <th>1944</th>\n",
              "      <td>50.200000</td>\n",
              "      <td>5</td>\n",
              "      <td>1877.0</td>\n",
              "      <td>Roman Catholic</td>\n",
              "      <td>Na</td>\n",
              "    </tr>\n",
              "    <tr>\n",
              "      <th>1945</th>\n",
              "      <td>48.400000</td>\n",
              "      <td>5</td>\n",
              "      <td>1879.0</td>\n",
              "      <td>Roman Catholic</td>\n",
              "      <td>Na</td>\n",
              "    </tr>\n",
              "    <tr>\n",
              "      <th>1946</th>\n",
              "      <td>41.600000</td>\n",
              "      <td>5</td>\n",
              "      <td>1901.0</td>\n",
              "      <td>Na</td>\n",
              "      <td>Christian Science</td>\n",
              "    </tr>\n",
              "    <tr>\n",
              "      <th>1947</th>\n",
              "      <td>36.600000</td>\n",
              "      <td>5</td>\n",
              "      <td>1897.0</td>\n",
              "      <td>Na</td>\n",
              "      <td>Na</td>\n",
              "    </tr>\n",
              "  </tbody>\n",
              "</table>\n",
              "</div>"
            ],
            "text/plain": [
              "              age_at_award        ...        religion                       \n",
              "                      mean count  ...             max                    min\n",
              "year_of_award                     ...                                       \n",
              "1927             32.000000     1  ...              Na                     Na\n",
              "1929             34.000000     2  ...              Na                     Na\n",
              "1930             42.600000     5  ...              Na                     Na\n",
              "1931             50.666667     3  ...  Roman Catholic                     Na\n",
              "1932             37.333333     3  ...              Na                     Na\n",
              "1933             39.000000     1  ...  Roman Catholic         Roman Catholic\n",
              "1934             36.666667     3  ...  Roman Catholic                Atheist\n",
              "1935             34.666667     3  ...  Roman Catholic                     Na\n",
              "1936             41.000000     3  ...  Roman Catholic  Anglican/episcopalian\n",
              "1937             36.750000     4  ...  Roman Catholic                 Jewish\n",
              "1938             39.666667     6  ...  Roman Catholic                 Jewish\n",
              "1939             41.000000     5  ...  Roman Catholic                     Na\n",
              "1940             39.500000     6  ...  Roman Catholic              Christian\n",
              "1941             43.800000     5  ...  Roman Catholic      Christian Science\n",
              "1942             45.000000     5  ...  Roman Catholic                     Na\n",
              "1943             35.750000     4  ...  Roman Catholic                     Na\n",
              "1944             50.200000     5  ...  Roman Catholic                     Na\n",
              "1945             48.400000     5  ...  Roman Catholic                     Na\n",
              "1946             41.600000     5  ...              Na      Christian Science\n",
              "1947             36.600000     5  ...              Na                     Na\n",
              "\n",
              "[20 rows x 5 columns]"
            ]
          },
          "metadata": {
            "tags": []
          },
          "execution_count": 186
        }
      ]
    },
    {
      "cell_type": "markdown",
      "metadata": {
        "id": "F7xuH48kFSi8",
        "colab_type": "text"
      },
      "source": [
        "Inevitably, when using groupby, you will likely create a __MultiIndex__ in the columns or rows or both. DataFrames with MultiIndexes are more difficult to navigate and occasionally have confusing column names as well."
      ]
    },
    {
      "cell_type": "markdown",
      "metadata": {
        "id": "wo6adUDIFSi-",
        "colab_type": "text"
      },
      "source": [
        "Doing this, we obtain a structure with two level of indexes. This difficults the access to the data.\n",
        "\n",
        "Because of that we will try to simplify the structure.\n",
        "\n",
        "Let's start by understanding how the index is presented at each level:"
      ]
    },
    {
      "cell_type": "code",
      "metadata": {
        "id": "uHdu-GHUFSi_",
        "colab_type": "code",
        "colab": {}
      },
      "source": [
        "level0=grouped.columns.get_level_values(0)"
      ],
      "execution_count": 0,
      "outputs": []
    },
    {
      "cell_type": "code",
      "metadata": {
        "id": "09hY2z6sFSjA",
        "colab_type": "code",
        "outputId": "c8b7862b-f6c7-4557-a453-bb40f511bfbe",
        "colab": {
          "base_uri": "https://localhost:8080/",
          "height": 69
        }
      },
      "source": [
        "level0"
      ],
      "execution_count": 0,
      "outputs": [
        {
          "output_type": "execute_result",
          "data": {
            "text/plain": [
              "Index(['age_at_award', 'age_at_award', 'year_of_birth', 'religion',\n",
              "       'religion'],\n",
              "      dtype='object')"
            ]
          },
          "metadata": {
            "tags": []
          },
          "execution_count": 188
        }
      ]
    },
    {
      "cell_type": "code",
      "metadata": {
        "id": "ZGgwcigmFSjB",
        "colab_type": "code",
        "colab": {}
      },
      "source": [
        "level1=grouped.columns.get_level_values(1)"
      ],
      "execution_count": 0,
      "outputs": []
    },
    {
      "cell_type": "code",
      "metadata": {
        "id": "pN50VkqDFSjD",
        "colab_type": "code",
        "outputId": "2730e266-c717-47d9-8cd3-69a9b8241255",
        "colab": {
          "base_uri": "https://localhost:8080/",
          "height": 35
        }
      },
      "source": [
        "level1"
      ],
      "execution_count": 0,
      "outputs": [
        {
          "output_type": "execute_result",
          "data": {
            "text/plain": [
              "Index(['mean', 'count', 'min', 'max', 'min'], dtype='object')"
            ]
          },
          "metadata": {
            "tags": []
          },
          "execution_count": 190
        }
      ]
    },
    {
      "cell_type": "markdown",
      "metadata": {
        "id": "8HBOqTswFSjE",
        "colab_type": "text"
      },
      "source": [
        "We can see that we have two columns called min. We can only differenciate them by using both index levels (the sum of stars or the sum of reviews)\n",
        "\n",
        "We will try to reduce this structure, by concatenating both levels in the same column name."
      ]
    },
    {
      "cell_type": "code",
      "metadata": {
        "id": "5ZpxV3UTFSjF",
        "colab_type": "code",
        "colab": {}
      },
      "source": [
        "grouped.columns = level0 + '_' + level1"
      ],
      "execution_count": 0,
      "outputs": []
    },
    {
      "cell_type": "markdown",
      "metadata": {
        "id": "YkToN8NiFSjH",
        "colab_type": "text"
      },
      "source": [
        "Doing this, we now have 5 different columns with one index level:"
      ]
    },
    {
      "cell_type": "code",
      "metadata": {
        "id": "F3fTgVJJFSjH",
        "colab_type": "code",
        "outputId": "61cc0ae6-be9c-4b1c-b026-4dafedc62d0a",
        "colab": {
          "base_uri": "https://localhost:8080/",
          "height": 446
        }
      },
      "source": [
        "grouped"
      ],
      "execution_count": 0,
      "outputs": [
        {
          "output_type": "execute_result",
          "data": {
            "text/html": [
              "<div>\n",
              "<style scoped>\n",
              "    .dataframe tbody tr th:only-of-type {\n",
              "        vertical-align: middle;\n",
              "    }\n",
              "\n",
              "    .dataframe tbody tr th {\n",
              "        vertical-align: top;\n",
              "    }\n",
              "\n",
              "    .dataframe thead th {\n",
              "        text-align: right;\n",
              "    }\n",
              "</style>\n",
              "<table border=\"1\" class=\"dataframe\">\n",
              "  <thead>\n",
              "    <tr style=\"text-align: right;\">\n",
              "      <th></th>\n",
              "      <th>age_at_award_mean</th>\n",
              "      <th>age_at_award_count</th>\n",
              "      <th>year_of_birth_min</th>\n",
              "      <th>religion_max</th>\n",
              "      <th>religion_min</th>\n",
              "    </tr>\n",
              "    <tr>\n",
              "      <th>year_of_award</th>\n",
              "      <th></th>\n",
              "      <th></th>\n",
              "      <th></th>\n",
              "      <th></th>\n",
              "      <th></th>\n",
              "    </tr>\n",
              "  </thead>\n",
              "  <tbody>\n",
              "    <tr>\n",
              "      <th>1927</th>\n",
              "      <td>32.000000</td>\n",
              "      <td>1</td>\n",
              "      <td>1895.0</td>\n",
              "      <td>Na</td>\n",
              "      <td>Na</td>\n",
              "    </tr>\n",
              "    <tr>\n",
              "      <th>1929</th>\n",
              "      <td>34.000000</td>\n",
              "      <td>2</td>\n",
              "      <td>1884.0</td>\n",
              "      <td>Na</td>\n",
              "      <td>Na</td>\n",
              "    </tr>\n",
              "    <tr>\n",
              "      <th>1930</th>\n",
              "      <td>42.600000</td>\n",
              "      <td>5</td>\n",
              "      <td>1868.0</td>\n",
              "      <td>Na</td>\n",
              "      <td>Na</td>\n",
              "    </tr>\n",
              "    <tr>\n",
              "      <th>1931</th>\n",
              "      <td>50.666667</td>\n",
              "      <td>3</td>\n",
              "      <td>1868.0</td>\n",
              "      <td>Roman Catholic</td>\n",
              "      <td>Na</td>\n",
              "    </tr>\n",
              "    <tr>\n",
              "      <th>1932</th>\n",
              "      <td>37.333333</td>\n",
              "      <td>3</td>\n",
              "      <td>1885.0</td>\n",
              "      <td>Na</td>\n",
              "      <td>Na</td>\n",
              "    </tr>\n",
              "    <tr>\n",
              "      <th>...</th>\n",
              "      <td>...</td>\n",
              "      <td>...</td>\n",
              "      <td>...</td>\n",
              "      <td>...</td>\n",
              "      <td>...</td>\n",
              "    </tr>\n",
              "    <tr>\n",
              "      <th>2010</th>\n",
              "      <td>51.000000</td>\n",
              "      <td>4</td>\n",
              "      <td>1949.0</td>\n",
              "      <td>Na</td>\n",
              "      <td>Lutheran</td>\n",
              "    </tr>\n",
              "    <tr>\n",
              "      <th>2011</th>\n",
              "      <td>41.600000</td>\n",
              "      <td>5</td>\n",
              "      <td>1960.0</td>\n",
              "      <td>Na</td>\n",
              "      <td>Jewish</td>\n",
              "    </tr>\n",
              "    <tr>\n",
              "      <th>2012</th>\n",
              "      <td>54.200000</td>\n",
              "      <td>5</td>\n",
              "      <td>1929.0</td>\n",
              "      <td>Na</td>\n",
              "      <td>Jewish</td>\n",
              "    </tr>\n",
              "    <tr>\n",
              "      <th>2013</th>\n",
              "      <td>45.200000</td>\n",
              "      <td>5</td>\n",
              "      <td>1954.0</td>\n",
              "      <td>Na</td>\n",
              "      <td>Christian</td>\n",
              "    </tr>\n",
              "    <tr>\n",
              "      <th>2014</th>\n",
              "      <td>41.000000</td>\n",
              "      <td>4</td>\n",
              "      <td>1969.0</td>\n",
              "      <td>Na</td>\n",
              "      <td>Na</td>\n",
              "    </tr>\n",
              "  </tbody>\n",
              "</table>\n",
              "<p>87 rows × 5 columns</p>\n",
              "</div>"
            ],
            "text/plain": [
              "               age_at_award_mean  ...  religion_min\n",
              "year_of_award                     ...              \n",
              "1927                   32.000000  ...            Na\n",
              "1929                   34.000000  ...            Na\n",
              "1930                   42.600000  ...            Na\n",
              "1931                   50.666667  ...            Na\n",
              "1932                   37.333333  ...            Na\n",
              "...                          ...  ...           ...\n",
              "2010                   51.000000  ...      Lutheran\n",
              "2011                   41.600000  ...        Jewish\n",
              "2012                   54.200000  ...        Jewish\n",
              "2013                   45.200000  ...     Christian\n",
              "2014                   41.000000  ...            Na\n",
              "\n",
              "[87 rows x 5 columns]"
            ]
          },
          "metadata": {
            "tags": []
          },
          "execution_count": 192
        }
      ]
    },
    {
      "cell_type": "markdown",
      "metadata": {
        "id": "g6hoIGzmFSjJ",
        "colab_type": "text"
      },
      "source": [
        "We can see that we still have 2 levels in the row index. We can reduce this using _reset_index()_"
      ]
    },
    {
      "cell_type": "code",
      "metadata": {
        "id": "Lw17gLOsFSjJ",
        "colab_type": "code",
        "colab": {}
      },
      "source": [
        "grouped.reset_index(inplace=True)"
      ],
      "execution_count": 0,
      "outputs": []
    },
    {
      "cell_type": "code",
      "metadata": {
        "id": "6yZ1m8adFSjK",
        "colab_type": "code",
        "outputId": "b8d9f705-a901-459a-b4a7-1416f070f520",
        "colab": {
          "base_uri": "https://localhost:8080/",
          "height": 415
        }
      },
      "source": [
        "grouped"
      ],
      "execution_count": 0,
      "outputs": [
        {
          "output_type": "execute_result",
          "data": {
            "text/html": [
              "<div>\n",
              "<style scoped>\n",
              "    .dataframe tbody tr th:only-of-type {\n",
              "        vertical-align: middle;\n",
              "    }\n",
              "\n",
              "    .dataframe tbody tr th {\n",
              "        vertical-align: top;\n",
              "    }\n",
              "\n",
              "    .dataframe thead th {\n",
              "        text-align: right;\n",
              "    }\n",
              "</style>\n",
              "<table border=\"1\" class=\"dataframe\">\n",
              "  <thead>\n",
              "    <tr style=\"text-align: right;\">\n",
              "      <th></th>\n",
              "      <th>year_of_award</th>\n",
              "      <th>age_at_award_mean</th>\n",
              "      <th>age_at_award_count</th>\n",
              "      <th>year_of_birth_min</th>\n",
              "      <th>religion_max</th>\n",
              "      <th>religion_min</th>\n",
              "    </tr>\n",
              "  </thead>\n",
              "  <tbody>\n",
              "    <tr>\n",
              "      <th>0</th>\n",
              "      <td>1927</td>\n",
              "      <td>32.000000</td>\n",
              "      <td>1</td>\n",
              "      <td>1895.0</td>\n",
              "      <td>Na</td>\n",
              "      <td>Na</td>\n",
              "    </tr>\n",
              "    <tr>\n",
              "      <th>1</th>\n",
              "      <td>1929</td>\n",
              "      <td>34.000000</td>\n",
              "      <td>2</td>\n",
              "      <td>1884.0</td>\n",
              "      <td>Na</td>\n",
              "      <td>Na</td>\n",
              "    </tr>\n",
              "    <tr>\n",
              "      <th>2</th>\n",
              "      <td>1930</td>\n",
              "      <td>42.600000</td>\n",
              "      <td>5</td>\n",
              "      <td>1868.0</td>\n",
              "      <td>Na</td>\n",
              "      <td>Na</td>\n",
              "    </tr>\n",
              "    <tr>\n",
              "      <th>3</th>\n",
              "      <td>1931</td>\n",
              "      <td>50.666667</td>\n",
              "      <td>3</td>\n",
              "      <td>1868.0</td>\n",
              "      <td>Roman Catholic</td>\n",
              "      <td>Na</td>\n",
              "    </tr>\n",
              "    <tr>\n",
              "      <th>4</th>\n",
              "      <td>1932</td>\n",
              "      <td>37.333333</td>\n",
              "      <td>3</td>\n",
              "      <td>1885.0</td>\n",
              "      <td>Na</td>\n",
              "      <td>Na</td>\n",
              "    </tr>\n",
              "    <tr>\n",
              "      <th>...</th>\n",
              "      <td>...</td>\n",
              "      <td>...</td>\n",
              "      <td>...</td>\n",
              "      <td>...</td>\n",
              "      <td>...</td>\n",
              "      <td>...</td>\n",
              "    </tr>\n",
              "    <tr>\n",
              "      <th>82</th>\n",
              "      <td>2010</td>\n",
              "      <td>51.000000</td>\n",
              "      <td>4</td>\n",
              "      <td>1949.0</td>\n",
              "      <td>Na</td>\n",
              "      <td>Lutheran</td>\n",
              "    </tr>\n",
              "    <tr>\n",
              "      <th>83</th>\n",
              "      <td>2011</td>\n",
              "      <td>41.600000</td>\n",
              "      <td>5</td>\n",
              "      <td>1960.0</td>\n",
              "      <td>Na</td>\n",
              "      <td>Jewish</td>\n",
              "    </tr>\n",
              "    <tr>\n",
              "      <th>84</th>\n",
              "      <td>2012</td>\n",
              "      <td>54.200000</td>\n",
              "      <td>5</td>\n",
              "      <td>1929.0</td>\n",
              "      <td>Na</td>\n",
              "      <td>Jewish</td>\n",
              "    </tr>\n",
              "    <tr>\n",
              "      <th>85</th>\n",
              "      <td>2013</td>\n",
              "      <td>45.200000</td>\n",
              "      <td>5</td>\n",
              "      <td>1954.0</td>\n",
              "      <td>Na</td>\n",
              "      <td>Christian</td>\n",
              "    </tr>\n",
              "    <tr>\n",
              "      <th>86</th>\n",
              "      <td>2014</td>\n",
              "      <td>41.000000</td>\n",
              "      <td>4</td>\n",
              "      <td>1969.0</td>\n",
              "      <td>Na</td>\n",
              "      <td>Na</td>\n",
              "    </tr>\n",
              "  </tbody>\n",
              "</table>\n",
              "<p>87 rows × 6 columns</p>\n",
              "</div>"
            ],
            "text/plain": [
              "    year_of_award  age_at_award_mean  ...    religion_max  religion_min\n",
              "0            1927          32.000000  ...              Na            Na\n",
              "1            1929          34.000000  ...              Na            Na\n",
              "2            1930          42.600000  ...              Na            Na\n",
              "3            1931          50.666667  ...  Roman Catholic            Na\n",
              "4            1932          37.333333  ...              Na            Na\n",
              "..            ...                ...  ...             ...           ...\n",
              "82           2010          51.000000  ...              Na      Lutheran\n",
              "83           2011          41.600000  ...              Na        Jewish\n",
              "84           2012          54.200000  ...              Na        Jewish\n",
              "85           2013          45.200000  ...              Na     Christian\n",
              "86           2014          41.000000  ...              Na            Na\n",
              "\n",
              "[87 rows x 6 columns]"
            ]
          },
          "metadata": {
            "tags": []
          },
          "execution_count": 194
        }
      ]
    },
    {
      "cell_type": "markdown",
      "metadata": {
        "id": "ylLc0n5YFSjN",
        "colab_type": "text"
      },
      "source": [
        "Pandas also allows us to define our own aggregate functions:"
      ]
    },
    {
      "cell_type": "code",
      "metadata": {
        "id": "nNJsdNQOFSjN",
        "colab_type": "code",
        "outputId": "19281f32-e3b3-4309-b8f1-06e9cf45fffd",
        "colab": {
          "base_uri": "https://localhost:8080/",
          "height": 263
        }
      },
      "source": [
        "def add_one(x):\n",
        "    return x.mean()+1 \n",
        "     \n",
        "oscars_short.groupby('award').agg({'age_at_award': ['mean', add_one]})"
      ],
      "execution_count": 0,
      "outputs": [
        {
          "output_type": "execute_result",
          "data": {
            "text/html": [
              "<div>\n",
              "<style scoped>\n",
              "    .dataframe tbody tr th:only-of-type {\n",
              "        vertical-align: middle;\n",
              "    }\n",
              "\n",
              "    .dataframe tbody tr th {\n",
              "        vertical-align: top;\n",
              "    }\n",
              "\n",
              "    .dataframe thead tr th {\n",
              "        text-align: left;\n",
              "    }\n",
              "\n",
              "    .dataframe thead tr:last-of-type th {\n",
              "        text-align: right;\n",
              "    }\n",
              "</style>\n",
              "<table border=\"1\" class=\"dataframe\">\n",
              "  <thead>\n",
              "    <tr>\n",
              "      <th></th>\n",
              "      <th colspan=\"2\" halign=\"left\">age_at_award</th>\n",
              "    </tr>\n",
              "    <tr>\n",
              "      <th></th>\n",
              "      <th>mean</th>\n",
              "      <th>add_one</th>\n",
              "    </tr>\n",
              "    <tr>\n",
              "      <th>award</th>\n",
              "      <th></th>\n",
              "      <th></th>\n",
              "    </tr>\n",
              "  </thead>\n",
              "  <tbody>\n",
              "    <tr>\n",
              "      <th>Best Actor</th>\n",
              "      <td>45.046512</td>\n",
              "      <td>46.046512</td>\n",
              "    </tr>\n",
              "    <tr>\n",
              "      <th>Best Actress</th>\n",
              "      <td>36.850575</td>\n",
              "      <td>37.850575</td>\n",
              "    </tr>\n",
              "    <tr>\n",
              "      <th>Best Director</th>\n",
              "      <td>47.279070</td>\n",
              "      <td>48.279070</td>\n",
              "    </tr>\n",
              "    <tr>\n",
              "      <th>Best Supporting Actor</th>\n",
              "      <td>50.666667</td>\n",
              "      <td>51.666667</td>\n",
              "    </tr>\n",
              "    <tr>\n",
              "      <th>Best Supporting Actress</th>\n",
              "      <td>40.641026</td>\n",
              "      <td>41.641026</td>\n",
              "    </tr>\n",
              "  </tbody>\n",
              "</table>\n",
              "</div>"
            ],
            "text/plain": [
              "                        age_at_award           \n",
              "                                mean    add_one\n",
              "award                                          \n",
              "Best Actor                 45.046512  46.046512\n",
              "Best Actress               36.850575  37.850575\n",
              "Best Director              47.279070  48.279070\n",
              "Best Supporting Actor      50.666667  51.666667\n",
              "Best Supporting Actress    40.641026  41.641026"
            ]
          },
          "metadata": {
            "tags": []
          },
          "execution_count": 195
        }
      ]
    },
    {
      "cell_type": "code",
      "metadata": {
        "id": "Rmi-oiz4FSjR",
        "colab_type": "code",
        "outputId": "9f94f19c-91fd-4e5c-e7c6-8ffc14c27927",
        "colab": {
          "base_uri": "https://localhost:8080/",
          "height": 263
        }
      },
      "source": [
        "add_one.__name__='PlusOne'\n",
        "grouped=oscars_short.groupby('award').agg({'age_at_award': ['mean', add_one]})\n",
        "grouped"
      ],
      "execution_count": 0,
      "outputs": [
        {
          "output_type": "execute_result",
          "data": {
            "text/html": [
              "<div>\n",
              "<style scoped>\n",
              "    .dataframe tbody tr th:only-of-type {\n",
              "        vertical-align: middle;\n",
              "    }\n",
              "\n",
              "    .dataframe tbody tr th {\n",
              "        vertical-align: top;\n",
              "    }\n",
              "\n",
              "    .dataframe thead tr th {\n",
              "        text-align: left;\n",
              "    }\n",
              "\n",
              "    .dataframe thead tr:last-of-type th {\n",
              "        text-align: right;\n",
              "    }\n",
              "</style>\n",
              "<table border=\"1\" class=\"dataframe\">\n",
              "  <thead>\n",
              "    <tr>\n",
              "      <th></th>\n",
              "      <th colspan=\"2\" halign=\"left\">age_at_award</th>\n",
              "    </tr>\n",
              "    <tr>\n",
              "      <th></th>\n",
              "      <th>mean</th>\n",
              "      <th>PlusOne</th>\n",
              "    </tr>\n",
              "    <tr>\n",
              "      <th>award</th>\n",
              "      <th></th>\n",
              "      <th></th>\n",
              "    </tr>\n",
              "  </thead>\n",
              "  <tbody>\n",
              "    <tr>\n",
              "      <th>Best Actor</th>\n",
              "      <td>45.046512</td>\n",
              "      <td>46.046512</td>\n",
              "    </tr>\n",
              "    <tr>\n",
              "      <th>Best Actress</th>\n",
              "      <td>36.850575</td>\n",
              "      <td>37.850575</td>\n",
              "    </tr>\n",
              "    <tr>\n",
              "      <th>Best Director</th>\n",
              "      <td>47.279070</td>\n",
              "      <td>48.279070</td>\n",
              "    </tr>\n",
              "    <tr>\n",
              "      <th>Best Supporting Actor</th>\n",
              "      <td>50.666667</td>\n",
              "      <td>51.666667</td>\n",
              "    </tr>\n",
              "    <tr>\n",
              "      <th>Best Supporting Actress</th>\n",
              "      <td>40.641026</td>\n",
              "      <td>41.641026</td>\n",
              "    </tr>\n",
              "  </tbody>\n",
              "</table>\n",
              "</div>"
            ],
            "text/plain": [
              "                        age_at_award           \n",
              "                                mean    PlusOne\n",
              "award                                          \n",
              "Best Actor                 45.046512  46.046512\n",
              "Best Actress               36.850575  37.850575\n",
              "Best Director              47.279070  48.279070\n",
              "Best Supporting Actor      50.666667  51.666667\n",
              "Best Supporting Actress    40.641026  41.641026"
            ]
          },
          "metadata": {
            "tags": []
          },
          "execution_count": 196
        }
      ]
    },
    {
      "cell_type": "code",
      "metadata": {
        "id": "CrIdRRKdFSjT",
        "colab_type": "code",
        "outputId": "510b25e3-66b5-415a-a538-d0ed6f1148fb",
        "colab": {
          "base_uri": "https://localhost:8080/",
          "height": 35
        }
      },
      "source": [
        "grouped=oscars_short.groupby('award')\n",
        "print(type(grouped))"
      ],
      "execution_count": 0,
      "outputs": [
        {
          "output_type": "stream",
          "text": [
            "<class 'pandas.core.groupby.generic.DataFrameGroupBy'>\n"
          ],
          "name": "stdout"
        }
      ]
    },
    {
      "cell_type": "code",
      "metadata": {
        "id": "l_IndnvoFSjV",
        "colab_type": "code",
        "outputId": "8cf264e6-c947-4890-a3a2-d9f697ddd10a",
        "colab": {
          "base_uri": "https://localhost:8080/",
          "height": 35
        }
      },
      "source": [
        "grouped.ngroups"
      ],
      "execution_count": 0,
      "outputs": [
        {
          "output_type": "execute_result",
          "data": {
            "text/plain": [
              "5"
            ]
          },
          "metadata": {
            "tags": []
          },
          "execution_count": 198
        }
      ]
    },
    {
      "cell_type": "code",
      "metadata": {
        "id": "Qugev8COFSjW",
        "colab_type": "code",
        "outputId": "456e6008-8d65-4f17-d115-56f6fe205cce",
        "colab": {
          "base_uri": "https://localhost:8080/",
          "height": 695
        }
      },
      "source": [
        "grouped.get_group('Best Actor')"
      ],
      "execution_count": 0,
      "outputs": [
        {
          "output_type": "execute_result",
          "data": {
            "text/html": [
              "<div>\n",
              "<style scoped>\n",
              "    .dataframe tbody tr th:only-of-type {\n",
              "        vertical-align: middle;\n",
              "    }\n",
              "\n",
              "    .dataframe tbody tr th {\n",
              "        vertical-align: top;\n",
              "    }\n",
              "\n",
              "    .dataframe thead th {\n",
              "        text-align: right;\n",
              "    }\n",
              "</style>\n",
              "<table border=\"1\" class=\"dataframe\">\n",
              "  <thead>\n",
              "    <tr style=\"text-align: right;\">\n",
              "      <th></th>\n",
              "      <th>birthplace</th>\n",
              "      <th>date_of_birth</th>\n",
              "      <th>race_ethnicity</th>\n",
              "      <th>religion</th>\n",
              "      <th>sexual_orientation</th>\n",
              "      <th>year_of_award</th>\n",
              "      <th>award</th>\n",
              "      <th>movie</th>\n",
              "      <th>person</th>\n",
              "      <th>age_at_award</th>\n",
              "      <th>year_of_birth</th>\n",
              "    </tr>\n",
              "  </thead>\n",
              "  <tbody>\n",
              "    <tr>\n",
              "      <th>87</th>\n",
              "      <td>Rorschach, Switzerland</td>\n",
              "      <td>1884-07-23</td>\n",
              "      <td>White</td>\n",
              "      <td>Na</td>\n",
              "      <td>Bisexual</td>\n",
              "      <td>1929</td>\n",
              "      <td>Best Actor</td>\n",
              "      <td>The Last Command</td>\n",
              "      <td>Emil Jannings</td>\n",
              "      <td>45.0</td>\n",
              "      <td>1884.0</td>\n",
              "    </tr>\n",
              "    <tr>\n",
              "      <th>88</th>\n",
              "      <td>Columbus, Oh</td>\n",
              "      <td>1889-03-29</td>\n",
              "      <td>White</td>\n",
              "      <td>Na</td>\n",
              "      <td>Straight</td>\n",
              "      <td>1930</td>\n",
              "      <td>Best Actor</td>\n",
              "      <td>In Old Arizona</td>\n",
              "      <td>Warner Baxter</td>\n",
              "      <td>41.0</td>\n",
              "      <td>1889.0</td>\n",
              "    </tr>\n",
              "    <tr>\n",
              "      <th>89</th>\n",
              "      <td>London, England</td>\n",
              "      <td>1868-04-10</td>\n",
              "      <td>White</td>\n",
              "      <td>Na</td>\n",
              "      <td>Straight</td>\n",
              "      <td>1930</td>\n",
              "      <td>Best Actor</td>\n",
              "      <td>Desraeli</td>\n",
              "      <td>George Arliss</td>\n",
              "      <td>62.0</td>\n",
              "      <td>1868.0</td>\n",
              "    </tr>\n",
              "    <tr>\n",
              "      <th>90</th>\n",
              "      <td>Philadelphia, Pa</td>\n",
              "      <td>1878-04-28</td>\n",
              "      <td>White</td>\n",
              "      <td>Roman Catholic</td>\n",
              "      <td>Straight</td>\n",
              "      <td>1931</td>\n",
              "      <td>Best Actor</td>\n",
              "      <td>A Free Soul</td>\n",
              "      <td>Lionel Barrymore</td>\n",
              "      <td>53.0</td>\n",
              "      <td>1878.0</td>\n",
              "    </tr>\n",
              "    <tr>\n",
              "      <th>91</th>\n",
              "      <td>Kansas City, Mo</td>\n",
              "      <td>1885-04-01</td>\n",
              "      <td>White</td>\n",
              "      <td>Na</td>\n",
              "      <td>Straight</td>\n",
              "      <td>1932</td>\n",
              "      <td>Best Actor</td>\n",
              "      <td>The Champ</td>\n",
              "      <td>Wallace Beery</td>\n",
              "      <td>47.0</td>\n",
              "      <td>1885.0</td>\n",
              "    </tr>\n",
              "    <tr>\n",
              "      <th>...</th>\n",
              "      <td>...</td>\n",
              "      <td>...</td>\n",
              "      <td>...</td>\n",
              "      <td>...</td>\n",
              "      <td>...</td>\n",
              "      <td>...</td>\n",
              "      <td>...</td>\n",
              "      <td>...</td>\n",
              "      <td>...</td>\n",
              "      <td>...</td>\n",
              "      <td>...</td>\n",
              "    </tr>\n",
              "    <tr>\n",
              "      <th>168</th>\n",
              "      <td>Los Angeles, Ca</td>\n",
              "      <td>2049-12-04</td>\n",
              "      <td>White</td>\n",
              "      <td>Lutheran</td>\n",
              "      <td>Straight</td>\n",
              "      <td>2010</td>\n",
              "      <td>Best Actor</td>\n",
              "      <td>Crazy Heart</td>\n",
              "      <td>Jeff Bridges</td>\n",
              "      <td>61.0</td>\n",
              "      <td>1949.0</td>\n",
              "    </tr>\n",
              "    <tr>\n",
              "      <th>169</th>\n",
              "      <td>Grayshott, Hampshire, England</td>\n",
              "      <td>2060-09-10</td>\n",
              "      <td>White</td>\n",
              "      <td>Na</td>\n",
              "      <td>Straight</td>\n",
              "      <td>2011</td>\n",
              "      <td>Best Actor</td>\n",
              "      <td>The King's Speech</td>\n",
              "      <td>Colin Firth</td>\n",
              "      <td>51.0</td>\n",
              "      <td>1960.0</td>\n",
              "    </tr>\n",
              "    <tr>\n",
              "      <th>170</th>\n",
              "      <td>Rueil-Malmaison, Hauts-De-Seine, France</td>\n",
              "      <td>1972-06-19</td>\n",
              "      <td>White</td>\n",
              "      <td>Na</td>\n",
              "      <td>Straight</td>\n",
              "      <td>2012</td>\n",
              "      <td>Best Actor</td>\n",
              "      <td>The Artist</td>\n",
              "      <td>Jean Dujardin</td>\n",
              "      <td>40.0</td>\n",
              "      <td>1972.0</td>\n",
              "    </tr>\n",
              "    <tr>\n",
              "      <th>171</th>\n",
              "      <td>London, England</td>\n",
              "      <td>2057-04-29</td>\n",
              "      <td>White</td>\n",
              "      <td>Na</td>\n",
              "      <td>Straight</td>\n",
              "      <td>2013</td>\n",
              "      <td>Best Actor</td>\n",
              "      <td>Lincoln</td>\n",
              "      <td>Daniel Day-Lewis</td>\n",
              "      <td>56.0</td>\n",
              "      <td>1957.0</td>\n",
              "    </tr>\n",
              "    <tr>\n",
              "      <th>172</th>\n",
              "      <td>Uvalde, Tx</td>\n",
              "      <td>2069-11-04</td>\n",
              "      <td>White</td>\n",
              "      <td>Na</td>\n",
              "      <td>Straight</td>\n",
              "      <td>2014</td>\n",
              "      <td>Best Actor</td>\n",
              "      <td>Dallas Buyers Club</td>\n",
              "      <td>Matthew McConaughey</td>\n",
              "      <td>45.0</td>\n",
              "      <td>1969.0</td>\n",
              "    </tr>\n",
              "  </tbody>\n",
              "</table>\n",
              "<p>86 rows × 11 columns</p>\n",
              "</div>"
            ],
            "text/plain": [
              "                                  birthplace  ... year_of_birth\n",
              "87                    Rorschach, Switzerland  ...        1884.0\n",
              "88                              Columbus, Oh  ...        1889.0\n",
              "89                           London, England  ...        1868.0\n",
              "90                          Philadelphia, Pa  ...        1878.0\n",
              "91                           Kansas City, Mo  ...        1885.0\n",
              "..                                       ...  ...           ...\n",
              "168                          Los Angeles, Ca  ...        1949.0\n",
              "169            Grayshott, Hampshire, England  ...        1960.0\n",
              "170  Rueil-Malmaison, Hauts-De-Seine, France  ...        1972.0\n",
              "171                          London, England  ...        1957.0\n",
              "172                               Uvalde, Tx  ...        1969.0\n",
              "\n",
              "[86 rows x 11 columns]"
            ]
          },
          "metadata": {
            "tags": []
          },
          "execution_count": 199
        }
      ]
    },
    {
      "cell_type": "code",
      "metadata": {
        "id": "YzbLIQBAFSjY",
        "colab_type": "code",
        "outputId": "656a547a-34af-4add-98b0-5960ef36a607",
        "colab": {
          "base_uri": "https://localhost:8080/",
          "height": 1000
        }
      },
      "source": [
        "from IPython.display import display\n",
        "\n",
        "for name, group in grouped:\n",
        "        print(name)\n",
        "        display(group.head(3))"
      ],
      "execution_count": 0,
      "outputs": [
        {
          "output_type": "stream",
          "text": [
            "Best Actor\n"
          ],
          "name": "stdout"
        },
        {
          "output_type": "display_data",
          "data": {
            "text/html": [
              "<div>\n",
              "<style scoped>\n",
              "    .dataframe tbody tr th:only-of-type {\n",
              "        vertical-align: middle;\n",
              "    }\n",
              "\n",
              "    .dataframe tbody tr th {\n",
              "        vertical-align: top;\n",
              "    }\n",
              "\n",
              "    .dataframe thead th {\n",
              "        text-align: right;\n",
              "    }\n",
              "</style>\n",
              "<table border=\"1\" class=\"dataframe\">\n",
              "  <thead>\n",
              "    <tr style=\"text-align: right;\">\n",
              "      <th></th>\n",
              "      <th>birthplace</th>\n",
              "      <th>date_of_birth</th>\n",
              "      <th>race_ethnicity</th>\n",
              "      <th>religion</th>\n",
              "      <th>sexual_orientation</th>\n",
              "      <th>year_of_award</th>\n",
              "      <th>award</th>\n",
              "      <th>movie</th>\n",
              "      <th>person</th>\n",
              "      <th>age_at_award</th>\n",
              "      <th>year_of_birth</th>\n",
              "    </tr>\n",
              "  </thead>\n",
              "  <tbody>\n",
              "    <tr>\n",
              "      <th>87</th>\n",
              "      <td>Rorschach, Switzerland</td>\n",
              "      <td>1884-07-23</td>\n",
              "      <td>White</td>\n",
              "      <td>Na</td>\n",
              "      <td>Bisexual</td>\n",
              "      <td>1929</td>\n",
              "      <td>Best Actor</td>\n",
              "      <td>The Last Command</td>\n",
              "      <td>Emil Jannings</td>\n",
              "      <td>45.0</td>\n",
              "      <td>1884.0</td>\n",
              "    </tr>\n",
              "    <tr>\n",
              "      <th>88</th>\n",
              "      <td>Columbus, Oh</td>\n",
              "      <td>1889-03-29</td>\n",
              "      <td>White</td>\n",
              "      <td>Na</td>\n",
              "      <td>Straight</td>\n",
              "      <td>1930</td>\n",
              "      <td>Best Actor</td>\n",
              "      <td>In Old Arizona</td>\n",
              "      <td>Warner Baxter</td>\n",
              "      <td>41.0</td>\n",
              "      <td>1889.0</td>\n",
              "    </tr>\n",
              "    <tr>\n",
              "      <th>89</th>\n",
              "      <td>London, England</td>\n",
              "      <td>1868-04-10</td>\n",
              "      <td>White</td>\n",
              "      <td>Na</td>\n",
              "      <td>Straight</td>\n",
              "      <td>1930</td>\n",
              "      <td>Best Actor</td>\n",
              "      <td>Desraeli</td>\n",
              "      <td>George Arliss</td>\n",
              "      <td>62.0</td>\n",
              "      <td>1868.0</td>\n",
              "    </tr>\n",
              "  </tbody>\n",
              "</table>\n",
              "</div>"
            ],
            "text/plain": [
              "                birthplace date_of_birth  ... age_at_award year_of_birth\n",
              "87  Rorschach, Switzerland    1884-07-23  ...         45.0        1884.0\n",
              "88            Columbus, Oh    1889-03-29  ...         41.0        1889.0\n",
              "89         London, England    1868-04-10  ...         62.0        1868.0\n",
              "\n",
              "[3 rows x 11 columns]"
            ]
          },
          "metadata": {
            "tags": []
          }
        },
        {
          "output_type": "stream",
          "text": [
            "Best Actress\n"
          ],
          "name": "stdout"
        },
        {
          "output_type": "display_data",
          "data": {
            "text/html": [
              "<div>\n",
              "<style scoped>\n",
              "    .dataframe tbody tr th:only-of-type {\n",
              "        vertical-align: middle;\n",
              "    }\n",
              "\n",
              "    .dataframe tbody tr th {\n",
              "        vertical-align: top;\n",
              "    }\n",
              "\n",
              "    .dataframe thead th {\n",
              "        text-align: right;\n",
              "    }\n",
              "</style>\n",
              "<table border=\"1\" class=\"dataframe\">\n",
              "  <thead>\n",
              "    <tr style=\"text-align: right;\">\n",
              "      <th></th>\n",
              "      <th>birthplace</th>\n",
              "      <th>date_of_birth</th>\n",
              "      <th>race_ethnicity</th>\n",
              "      <th>religion</th>\n",
              "      <th>sexual_orientation</th>\n",
              "      <th>year_of_award</th>\n",
              "      <th>award</th>\n",
              "      <th>movie</th>\n",
              "      <th>person</th>\n",
              "      <th>age_at_award</th>\n",
              "      <th>year_of_birth</th>\n",
              "    </tr>\n",
              "  </thead>\n",
              "  <tbody>\n",
              "    <tr>\n",
              "      <th>251</th>\n",
              "      <td>Philadelphia, Pa</td>\n",
              "      <td>2006-10-06</td>\n",
              "      <td>White</td>\n",
              "      <td>Na</td>\n",
              "      <td>Straight</td>\n",
              "      <td>1929</td>\n",
              "      <td>Best Actress</td>\n",
              "      <td>7th Heaven</td>\n",
              "      <td>Janet Gaynor</td>\n",
              "      <td>23.0</td>\n",
              "      <td>1906.0</td>\n",
              "    </tr>\n",
              "    <tr>\n",
              "      <th>252</th>\n",
              "      <td>Toronto, Ontario, Canada</td>\n",
              "      <td>1892-04-08</td>\n",
              "      <td>White</td>\n",
              "      <td>Na</td>\n",
              "      <td>Straight</td>\n",
              "      <td>1930</td>\n",
              "      <td>Best Actress</td>\n",
              "      <td>Coquette</td>\n",
              "      <td>Mary Pickford</td>\n",
              "      <td>38.0</td>\n",
              "      <td>1892.0</td>\n",
              "    </tr>\n",
              "    <tr>\n",
              "      <th>253</th>\n",
              "      <td>Montreal, Quebec, Canada</td>\n",
              "      <td>1902-08-10</td>\n",
              "      <td>White</td>\n",
              "      <td>Na</td>\n",
              "      <td>Straight</td>\n",
              "      <td>1930</td>\n",
              "      <td>Best Actress</td>\n",
              "      <td>The Divorcee</td>\n",
              "      <td>Norma Shearer</td>\n",
              "      <td>28.0</td>\n",
              "      <td>1902.0</td>\n",
              "    </tr>\n",
              "  </tbody>\n",
              "</table>\n",
              "</div>"
            ],
            "text/plain": [
              "                   birthplace date_of_birth  ... age_at_award year_of_birth\n",
              "251          Philadelphia, Pa    2006-10-06  ...         23.0        1906.0\n",
              "252  Toronto, Ontario, Canada    1892-04-08  ...         38.0        1892.0\n",
              "253  Montreal, Quebec, Canada    1902-08-10  ...         28.0        1902.0\n",
              "\n",
              "[3 rows x 11 columns]"
            ]
          },
          "metadata": {
            "tags": []
          }
        },
        {
          "output_type": "stream",
          "text": [
            "Best Director\n"
          ],
          "name": "stdout"
        },
        {
          "output_type": "display_data",
          "data": {
            "text/html": [
              "<div>\n",
              "<style scoped>\n",
              "    .dataframe tbody tr th:only-of-type {\n",
              "        vertical-align: middle;\n",
              "    }\n",
              "\n",
              "    .dataframe tbody tr th {\n",
              "        vertical-align: top;\n",
              "    }\n",
              "\n",
              "    .dataframe thead th {\n",
              "        text-align: right;\n",
              "    }\n",
              "</style>\n",
              "<table border=\"1\" class=\"dataframe\">\n",
              "  <thead>\n",
              "    <tr style=\"text-align: right;\">\n",
              "      <th></th>\n",
              "      <th>birthplace</th>\n",
              "      <th>date_of_birth</th>\n",
              "      <th>race_ethnicity</th>\n",
              "      <th>religion</th>\n",
              "      <th>sexual_orientation</th>\n",
              "      <th>year_of_award</th>\n",
              "      <th>award</th>\n",
              "      <th>movie</th>\n",
              "      <th>person</th>\n",
              "      <th>age_at_award</th>\n",
              "      <th>year_of_birth</th>\n",
              "    </tr>\n",
              "  </thead>\n",
              "  <tbody>\n",
              "    <tr>\n",
              "      <th>0</th>\n",
              "      <td>Chisinau, Moldova</td>\n",
              "      <td>1895-09-30</td>\n",
              "      <td>White</td>\n",
              "      <td>Na</td>\n",
              "      <td>Straight</td>\n",
              "      <td>1927</td>\n",
              "      <td>Best Director</td>\n",
              "      <td>Two Arabian Knights</td>\n",
              "      <td>Lewis Milestone</td>\n",
              "      <td>32.0</td>\n",
              "      <td>1895.0</td>\n",
              "    </tr>\n",
              "    <tr>\n",
              "      <th>1</th>\n",
              "      <td>Glasgow, Scotland</td>\n",
              "      <td>1886-02-02</td>\n",
              "      <td>White</td>\n",
              "      <td>Na</td>\n",
              "      <td>Straight</td>\n",
              "      <td>1930</td>\n",
              "      <td>Best Director</td>\n",
              "      <td>The Divine Lady</td>\n",
              "      <td>Frank Lloyd</td>\n",
              "      <td>44.0</td>\n",
              "      <td>1886.0</td>\n",
              "    </tr>\n",
              "    <tr>\n",
              "      <th>2</th>\n",
              "      <td>Chisinau, Moldova</td>\n",
              "      <td>1895-09-30</td>\n",
              "      <td>White</td>\n",
              "      <td>Na</td>\n",
              "      <td>Straight</td>\n",
              "      <td>1931</td>\n",
              "      <td>Best Director</td>\n",
              "      <td>All Quiet on the Western Front</td>\n",
              "      <td>Lewis Milestone</td>\n",
              "      <td>36.0</td>\n",
              "      <td>1895.0</td>\n",
              "    </tr>\n",
              "  </tbody>\n",
              "</table>\n",
              "</div>"
            ],
            "text/plain": [
              "          birthplace date_of_birth  ... age_at_award year_of_birth\n",
              "0  Chisinau, Moldova    1895-09-30  ...         32.0        1895.0\n",
              "1  Glasgow, Scotland    1886-02-02  ...         44.0        1886.0\n",
              "2  Chisinau, Moldova    1895-09-30  ...         36.0        1895.0\n",
              "\n",
              "[3 rows x 11 columns]"
            ]
          },
          "metadata": {
            "tags": []
          }
        },
        {
          "output_type": "stream",
          "text": [
            "Best Supporting Actor\n"
          ],
          "name": "stdout"
        },
        {
          "output_type": "display_data",
          "data": {
            "text/html": [
              "<div>\n",
              "<style scoped>\n",
              "    .dataframe tbody tr th:only-of-type {\n",
              "        vertical-align: middle;\n",
              "    }\n",
              "\n",
              "    .dataframe tbody tr th {\n",
              "        vertical-align: top;\n",
              "    }\n",
              "\n",
              "    .dataframe thead th {\n",
              "        text-align: right;\n",
              "    }\n",
              "</style>\n",
              "<table border=\"1\" class=\"dataframe\">\n",
              "  <thead>\n",
              "    <tr style=\"text-align: right;\">\n",
              "      <th></th>\n",
              "      <th>birthplace</th>\n",
              "      <th>date_of_birth</th>\n",
              "      <th>race_ethnicity</th>\n",
              "      <th>religion</th>\n",
              "      <th>sexual_orientation</th>\n",
              "      <th>year_of_award</th>\n",
              "      <th>award</th>\n",
              "      <th>movie</th>\n",
              "      <th>person</th>\n",
              "      <th>age_at_award</th>\n",
              "      <th>year_of_birth</th>\n",
              "    </tr>\n",
              "  </thead>\n",
              "  <tbody>\n",
              "    <tr>\n",
              "      <th>173</th>\n",
              "      <td>Swampscott, Ma</td>\n",
              "      <td>1894-07-25</td>\n",
              "      <td>White</td>\n",
              "      <td>Na</td>\n",
              "      <td>Straight</td>\n",
              "      <td>1938</td>\n",
              "      <td>Best Supporting Actor</td>\n",
              "      <td>Come and Get It</td>\n",
              "      <td>Walter Brennan</td>\n",
              "      <td>44.0</td>\n",
              "      <td>1894.0</td>\n",
              "    </tr>\n",
              "    <tr>\n",
              "      <th>174</th>\n",
              "      <td>Vienna, Austria</td>\n",
              "      <td>1896-03-22</td>\n",
              "      <td>White</td>\n",
              "      <td>Na</td>\n",
              "      <td>Straight</td>\n",
              "      <td>1938</td>\n",
              "      <td>Best Supporting Actor</td>\n",
              "      <td>The Life of Emile Zola</td>\n",
              "      <td>Joseph Schildkraut</td>\n",
              "      <td>42.0</td>\n",
              "      <td>1896.0</td>\n",
              "    </tr>\n",
              "    <tr>\n",
              "      <th>175</th>\n",
              "      <td>Swampscott, Ma</td>\n",
              "      <td>1894-07-25</td>\n",
              "      <td>White</td>\n",
              "      <td>Na</td>\n",
              "      <td>Straight</td>\n",
              "      <td>1939</td>\n",
              "      <td>Best Supporting Actor</td>\n",
              "      <td>Kentucky</td>\n",
              "      <td>Walter Brennan</td>\n",
              "      <td>45.0</td>\n",
              "      <td>1894.0</td>\n",
              "    </tr>\n",
              "  </tbody>\n",
              "</table>\n",
              "</div>"
            ],
            "text/plain": [
              "          birthplace date_of_birth  ... age_at_award year_of_birth\n",
              "173   Swampscott, Ma    1894-07-25  ...         44.0        1894.0\n",
              "174  Vienna, Austria    1896-03-22  ...         42.0        1896.0\n",
              "175   Swampscott, Ma    1894-07-25  ...         45.0        1894.0\n",
              "\n",
              "[3 rows x 11 columns]"
            ]
          },
          "metadata": {
            "tags": []
          }
        },
        {
          "output_type": "stream",
          "text": [
            "Best Supporting Actress\n"
          ],
          "name": "stdout"
        },
        {
          "output_type": "display_data",
          "data": {
            "text/html": [
              "<div>\n",
              "<style scoped>\n",
              "    .dataframe tbody tr th:only-of-type {\n",
              "        vertical-align: middle;\n",
              "    }\n",
              "\n",
              "    .dataframe tbody tr th {\n",
              "        vertical-align: top;\n",
              "    }\n",
              "\n",
              "    .dataframe thead th {\n",
              "        text-align: right;\n",
              "    }\n",
              "</style>\n",
              "<table border=\"1\" class=\"dataframe\">\n",
              "  <thead>\n",
              "    <tr style=\"text-align: right;\">\n",
              "      <th></th>\n",
              "      <th>birthplace</th>\n",
              "      <th>date_of_birth</th>\n",
              "      <th>race_ethnicity</th>\n",
              "      <th>religion</th>\n",
              "      <th>sexual_orientation</th>\n",
              "      <th>year_of_award</th>\n",
              "      <th>award</th>\n",
              "      <th>movie</th>\n",
              "      <th>person</th>\n",
              "      <th>age_at_award</th>\n",
              "      <th>year_of_birth</th>\n",
              "    </tr>\n",
              "  </thead>\n",
              "  <tbody>\n",
              "    <tr>\n",
              "      <th>338</th>\n",
              "      <td>Litchfield, Mn</td>\n",
              "      <td>1899-02-15</td>\n",
              "      <td>White</td>\n",
              "      <td>Na</td>\n",
              "      <td>Straight</td>\n",
              "      <td>1937</td>\n",
              "      <td>Best Supporting Actress</td>\n",
              "      <td>Anthony Adverse</td>\n",
              "      <td>Gale Sondergaard</td>\n",
              "      <td>38.0</td>\n",
              "      <td>1899.0</td>\n",
              "    </tr>\n",
              "    <tr>\n",
              "      <th>339</th>\n",
              "      <td>New York City</td>\n",
              "      <td>1892-11-02</td>\n",
              "      <td>White</td>\n",
              "      <td>Na</td>\n",
              "      <td>Straight</td>\n",
              "      <td>1938</td>\n",
              "      <td>Best Supporting Actress</td>\n",
              "      <td>In Old Chicago</td>\n",
              "      <td>Alice Brady</td>\n",
              "      <td>46.0</td>\n",
              "      <td>1892.0</td>\n",
              "    </tr>\n",
              "    <tr>\n",
              "      <th>340</th>\n",
              "      <td>Los Angeles, Ca</td>\n",
              "      <td>1891-12-07</td>\n",
              "      <td>White</td>\n",
              "      <td>Na</td>\n",
              "      <td>Straight</td>\n",
              "      <td>1939</td>\n",
              "      <td>Best Supporting Actress</td>\n",
              "      <td>Jezebel</td>\n",
              "      <td>Fay Bainter</td>\n",
              "      <td>48.0</td>\n",
              "      <td>1891.0</td>\n",
              "    </tr>\n",
              "  </tbody>\n",
              "</table>\n",
              "</div>"
            ],
            "text/plain": [
              "          birthplace date_of_birth  ... age_at_award year_of_birth\n",
              "338   Litchfield, Mn    1899-02-15  ...         38.0        1899.0\n",
              "339    New York City    1892-11-02  ...         46.0        1892.0\n",
              "340  Los Angeles, Ca    1891-12-07  ...         48.0        1891.0\n",
              "\n",
              "[3 rows x 11 columns]"
            ]
          },
          "metadata": {
            "tags": []
          }
        }
      ]
    },
    {
      "cell_type": "code",
      "metadata": {
        "id": "KLPbtlhVFSjZ",
        "colab_type": "code",
        "outputId": "c4e23c1c-32fd-43e6-b180-0d47dd9334d1",
        "colab": {
          "base_uri": "https://localhost:8080/",
          "height": 139
        }
      },
      "source": [
        "grouped['race_ethnicity'].max()"
      ],
      "execution_count": 0,
      "outputs": [
        {
          "output_type": "execute_result",
          "data": {
            "text/plain": [
              "award\n",
              "Best Actor                 White\n",
              "Best Actress               White\n",
              "Best Director              White\n",
              "Best Supporting Actor      White\n",
              "Best Supporting Actress    White\n",
              "Name: race_ethnicity, dtype: object"
            ]
          },
          "metadata": {
            "tags": []
          },
          "execution_count": 201
        }
      ]
    },
    {
      "cell_type": "code",
      "metadata": {
        "id": "uppM5TFCFSjb",
        "colab_type": "code",
        "outputId": "79b6a2fe-fb21-424d-e92b-4d0fc5de1299",
        "colab": {
          "base_uri": "https://localhost:8080/",
          "height": 1000
        }
      },
      "source": [
        "for age_at_award, group in grouped:\n",
        "        print(age_at_award)\n",
        "        display(group.sort_values('age_at_award',ascending=False).head(3))"
      ],
      "execution_count": 0,
      "outputs": [
        {
          "output_type": "stream",
          "text": [
            "Best Actor\n"
          ],
          "name": "stdout"
        },
        {
          "output_type": "display_data",
          "data": {
            "text/html": [
              "<div>\n",
              "<style scoped>\n",
              "    .dataframe tbody tr th:only-of-type {\n",
              "        vertical-align: middle;\n",
              "    }\n",
              "\n",
              "    .dataframe tbody tr th {\n",
              "        vertical-align: top;\n",
              "    }\n",
              "\n",
              "    .dataframe thead th {\n",
              "        text-align: right;\n",
              "    }\n",
              "</style>\n",
              "<table border=\"1\" class=\"dataframe\">\n",
              "  <thead>\n",
              "    <tr style=\"text-align: right;\">\n",
              "      <th></th>\n",
              "      <th>birthplace</th>\n",
              "      <th>date_of_birth</th>\n",
              "      <th>race_ethnicity</th>\n",
              "      <th>religion</th>\n",
              "      <th>sexual_orientation</th>\n",
              "      <th>year_of_award</th>\n",
              "      <th>award</th>\n",
              "      <th>movie</th>\n",
              "      <th>person</th>\n",
              "      <th>age_at_award</th>\n",
              "      <th>year_of_birth</th>\n",
              "    </tr>\n",
              "  </thead>\n",
              "  <tbody>\n",
              "    <tr>\n",
              "      <th>140</th>\n",
              "      <td>Grand Island, Ne</td>\n",
              "      <td>2005-05-16</td>\n",
              "      <td>White</td>\n",
              "      <td>Na</td>\n",
              "      <td>Straight</td>\n",
              "      <td>1982</td>\n",
              "      <td>Best Actor</td>\n",
              "      <td>On Golden Pond</td>\n",
              "      <td>Henry Fonda</td>\n",
              "      <td>77.0</td>\n",
              "      <td>1905.0</td>\n",
              "    </tr>\n",
              "    <tr>\n",
              "      <th>128</th>\n",
              "      <td>Winterset, Ia</td>\n",
              "      <td>2007-05-26</td>\n",
              "      <td>White</td>\n",
              "      <td>Roman Catholic</td>\n",
              "      <td>Straight</td>\n",
              "      <td>1970</td>\n",
              "      <td>Best Actor</td>\n",
              "      <td>True Grit</td>\n",
              "      <td>John Wayne</td>\n",
              "      <td>63.0</td>\n",
              "      <td>1907.0</td>\n",
              "    </tr>\n",
              "    <tr>\n",
              "      <th>89</th>\n",
              "      <td>London, England</td>\n",
              "      <td>1868-04-10</td>\n",
              "      <td>White</td>\n",
              "      <td>Na</td>\n",
              "      <td>Straight</td>\n",
              "      <td>1930</td>\n",
              "      <td>Best Actor</td>\n",
              "      <td>Desraeli</td>\n",
              "      <td>George Arliss</td>\n",
              "      <td>62.0</td>\n",
              "      <td>1868.0</td>\n",
              "    </tr>\n",
              "  </tbody>\n",
              "</table>\n",
              "</div>"
            ],
            "text/plain": [
              "           birthplace date_of_birth  ... age_at_award year_of_birth\n",
              "140  Grand Island, Ne    2005-05-16  ...         77.0        1905.0\n",
              "128     Winterset, Ia    2007-05-26  ...         63.0        1907.0\n",
              "89    London, England    1868-04-10  ...         62.0        1868.0\n",
              "\n",
              "[3 rows x 11 columns]"
            ]
          },
          "metadata": {
            "tags": []
          }
        },
        {
          "output_type": "stream",
          "text": [
            "Best Actress\n"
          ],
          "name": "stdout"
        },
        {
          "output_type": "display_data",
          "data": {
            "text/html": [
              "<div>\n",
              "<style scoped>\n",
              "    .dataframe tbody tr th:only-of-type {\n",
              "        vertical-align: middle;\n",
              "    }\n",
              "\n",
              "    .dataframe tbody tr th {\n",
              "        vertical-align: top;\n",
              "    }\n",
              "\n",
              "    .dataframe thead th {\n",
              "        text-align: right;\n",
              "    }\n",
              "</style>\n",
              "<table border=\"1\" class=\"dataframe\">\n",
              "  <thead>\n",
              "    <tr style=\"text-align: right;\">\n",
              "      <th></th>\n",
              "      <th>birthplace</th>\n",
              "      <th>date_of_birth</th>\n",
              "      <th>race_ethnicity</th>\n",
              "      <th>religion</th>\n",
              "      <th>sexual_orientation</th>\n",
              "      <th>year_of_award</th>\n",
              "      <th>award</th>\n",
              "      <th>movie</th>\n",
              "      <th>person</th>\n",
              "      <th>age_at_award</th>\n",
              "      <th>year_of_birth</th>\n",
              "    </tr>\n",
              "  </thead>\n",
              "  <tbody>\n",
              "    <tr>\n",
              "      <th>313</th>\n",
              "      <td>London, England</td>\n",
              "      <td>2009-06-07</td>\n",
              "      <td>White</td>\n",
              "      <td>Na</td>\n",
              "      <td>Straight</td>\n",
              "      <td>1990</td>\n",
              "      <td>Best Actress</td>\n",
              "      <td>Driving Miss Daisy</td>\n",
              "      <td>Jessica Tandy</td>\n",
              "      <td>81.0</td>\n",
              "      <td>1909.0</td>\n",
              "    </tr>\n",
              "    <tr>\n",
              "      <th>305</th>\n",
              "      <td>Hartford, Ct</td>\n",
              "      <td>2007-05-12</td>\n",
              "      <td>White</td>\n",
              "      <td>Atheist</td>\n",
              "      <td>Bisexual</td>\n",
              "      <td>1982</td>\n",
              "      <td>Best Actress</td>\n",
              "      <td>On Golden Pond</td>\n",
              "      <td>Katharine Hepburn</td>\n",
              "      <td>75.0</td>\n",
              "      <td>1907.0</td>\n",
              "    </tr>\n",
              "    <tr>\n",
              "      <th>335</th>\n",
              "      <td>Summit, Nj</td>\n",
              "      <td>2049-06-22</td>\n",
              "      <td>White</td>\n",
              "      <td>Na</td>\n",
              "      <td>Straight</td>\n",
              "      <td>2012</td>\n",
              "      <td>Best Actress</td>\n",
              "      <td>The Iron Lady</td>\n",
              "      <td>Meryl Streep</td>\n",
              "      <td>63.0</td>\n",
              "      <td>1949.0</td>\n",
              "    </tr>\n",
              "  </tbody>\n",
              "</table>\n",
              "</div>"
            ],
            "text/plain": [
              "          birthplace date_of_birth  ... age_at_award year_of_birth\n",
              "313  London, England    2009-06-07  ...         81.0        1909.0\n",
              "305     Hartford, Ct    2007-05-12  ...         75.0        1907.0\n",
              "335       Summit, Nj    2049-06-22  ...         63.0        1949.0\n",
              "\n",
              "[3 rows x 11 columns]"
            ]
          },
          "metadata": {
            "tags": []
          }
        },
        {
          "output_type": "stream",
          "text": [
            "Best Director\n"
          ],
          "name": "stdout"
        },
        {
          "output_type": "display_data",
          "data": {
            "text/html": [
              "<div>\n",
              "<style scoped>\n",
              "    .dataframe tbody tr th:only-of-type {\n",
              "        vertical-align: middle;\n",
              "    }\n",
              "\n",
              "    .dataframe tbody tr th {\n",
              "        vertical-align: top;\n",
              "    }\n",
              "\n",
              "    .dataframe thead th {\n",
              "        text-align: right;\n",
              "    }\n",
              "</style>\n",
              "<table border=\"1\" class=\"dataframe\">\n",
              "  <thead>\n",
              "    <tr style=\"text-align: right;\">\n",
              "      <th></th>\n",
              "      <th>birthplace</th>\n",
              "      <th>date_of_birth</th>\n",
              "      <th>race_ethnicity</th>\n",
              "      <th>religion</th>\n",
              "      <th>sexual_orientation</th>\n",
              "      <th>year_of_award</th>\n",
              "      <th>award</th>\n",
              "      <th>movie</th>\n",
              "      <th>person</th>\n",
              "      <th>age_at_award</th>\n",
              "      <th>year_of_birth</th>\n",
              "    </tr>\n",
              "  </thead>\n",
              "  <tbody>\n",
              "    <tr>\n",
              "      <th>78</th>\n",
              "      <td>San Francisco, Ca</td>\n",
              "      <td>2030-05-31</td>\n",
              "      <td>White</td>\n",
              "      <td>Na</td>\n",
              "      <td>Straight</td>\n",
              "      <td>2005</td>\n",
              "      <td>Best Director</td>\n",
              "      <td>Million Dollar Baby</td>\n",
              "      <td>Clint Eastwood</td>\n",
              "      <td>75.0</td>\n",
              "      <td>1930.0</td>\n",
              "    </tr>\n",
              "    <tr>\n",
              "      <th>76</th>\n",
              "      <td>Paris, France</td>\n",
              "      <td>2033-08-18</td>\n",
              "      <td>White</td>\n",
              "      <td>See Note</td>\n",
              "      <td>Straight</td>\n",
              "      <td>2003</td>\n",
              "      <td>Best Director</td>\n",
              "      <td>The Pianist</td>\n",
              "      <td>Roman Polanski</td>\n",
              "      <td>70.0</td>\n",
              "      <td>1933.0</td>\n",
              "    </tr>\n",
              "    <tr>\n",
              "      <th>37</th>\n",
              "      <td>New York City</td>\n",
              "      <td>1899-07-07</td>\n",
              "      <td>White</td>\n",
              "      <td>Na</td>\n",
              "      <td>Gay</td>\n",
              "      <td>1965</td>\n",
              "      <td>Best Director</td>\n",
              "      <td>My Fair Lady</td>\n",
              "      <td>George Cukor</td>\n",
              "      <td>66.0</td>\n",
              "      <td>1899.0</td>\n",
              "    </tr>\n",
              "  </tbody>\n",
              "</table>\n",
              "</div>"
            ],
            "text/plain": [
              "           birthplace date_of_birth  ... age_at_award year_of_birth\n",
              "78  San Francisco, Ca    2030-05-31  ...         75.0        1930.0\n",
              "76      Paris, France    2033-08-18  ...         70.0        1933.0\n",
              "37      New York City    1899-07-07  ...         66.0        1899.0\n",
              "\n",
              "[3 rows x 11 columns]"
            ]
          },
          "metadata": {
            "tags": []
          }
        },
        {
          "output_type": "stream",
          "text": [
            "Best Supporting Actor\n"
          ],
          "name": "stdout"
        },
        {
          "output_type": "display_data",
          "data": {
            "text/html": [
              "<div>\n",
              "<style scoped>\n",
              "    .dataframe tbody tr th:only-of-type {\n",
              "        vertical-align: middle;\n",
              "    }\n",
              "\n",
              "    .dataframe tbody tr th {\n",
              "        vertical-align: top;\n",
              "    }\n",
              "\n",
              "    .dataframe thead th {\n",
              "        text-align: right;\n",
              "    }\n",
              "</style>\n",
              "<table border=\"1\" class=\"dataframe\">\n",
              "  <thead>\n",
              "    <tr style=\"text-align: right;\">\n",
              "      <th></th>\n",
              "      <th>birthplace</th>\n",
              "      <th>date_of_birth</th>\n",
              "      <th>race_ethnicity</th>\n",
              "      <th>religion</th>\n",
              "      <th>sexual_orientation</th>\n",
              "      <th>year_of_award</th>\n",
              "      <th>award</th>\n",
              "      <th>movie</th>\n",
              "      <th>person</th>\n",
              "      <th>age_at_award</th>\n",
              "      <th>year_of_birth</th>\n",
              "    </tr>\n",
              "  </thead>\n",
              "  <tbody>\n",
              "    <tr>\n",
              "      <th>248</th>\n",
              "      <td>Toronto, Ontario, Canada</td>\n",
              "      <td>2029-12-13</td>\n",
              "      <td>White</td>\n",
              "      <td>Na</td>\n",
              "      <td>Straight</td>\n",
              "      <td>2012</td>\n",
              "      <td>Best Supporting Actor</td>\n",
              "      <td>Beginning</td>\n",
              "      <td>Christopher Plummer</td>\n",
              "      <td>83.0</td>\n",
              "      <td>1929.0</td>\n",
              "    </tr>\n",
              "    <tr>\n",
              "      <th>222</th>\n",
              "      <td>Kenosha, Wi</td>\n",
              "      <td>2004-05-31</td>\n",
              "      <td>White</td>\n",
              "      <td>Roman Catholic</td>\n",
              "      <td>Straight</td>\n",
              "      <td>1986</td>\n",
              "      <td>Best Supporting Actor</td>\n",
              "      <td>Cocoon</td>\n",
              "      <td>Don Ameche</td>\n",
              "      <td>82.0</td>\n",
              "      <td>1904.0</td>\n",
              "    </tr>\n",
              "    <tr>\n",
              "      <th>212</th>\n",
              "      <td>New York City</td>\n",
              "      <td>1896-01-20</td>\n",
              "      <td>White</td>\n",
              "      <td>Jewish</td>\n",
              "      <td>Straight</td>\n",
              "      <td>1976</td>\n",
              "      <td>Best Supporting Actor</td>\n",
              "      <td>The Sunshine Boys</td>\n",
              "      <td>George Burns</td>\n",
              "      <td>80.0</td>\n",
              "      <td>1896.0</td>\n",
              "    </tr>\n",
              "  </tbody>\n",
              "</table>\n",
              "</div>"
            ],
            "text/plain": [
              "                   birthplace date_of_birth  ... age_at_award year_of_birth\n",
              "248  Toronto, Ontario, Canada    2029-12-13  ...         83.0        1929.0\n",
              "222               Kenosha, Wi    2004-05-31  ...         82.0        1904.0\n",
              "212             New York City    1896-01-20  ...         80.0        1896.0\n",
              "\n",
              "[3 rows x 11 columns]"
            ]
          },
          "metadata": {
            "tags": []
          }
        },
        {
          "output_type": "stream",
          "text": [
            "Best Supporting Actress\n"
          ],
          "name": "stdout"
        },
        {
          "output_type": "display_data",
          "data": {
            "text/html": [
              "<div>\n",
              "<style scoped>\n",
              "    .dataframe tbody tr th:only-of-type {\n",
              "        vertical-align: middle;\n",
              "    }\n",
              "\n",
              "    .dataframe tbody tr th {\n",
              "        vertical-align: top;\n",
              "    }\n",
              "\n",
              "    .dataframe thead th {\n",
              "        text-align: right;\n",
              "    }\n",
              "</style>\n",
              "<table border=\"1\" class=\"dataframe\">\n",
              "  <thead>\n",
              "    <tr style=\"text-align: right;\">\n",
              "      <th></th>\n",
              "      <th>birthplace</th>\n",
              "      <th>date_of_birth</th>\n",
              "      <th>race_ethnicity</th>\n",
              "      <th>religion</th>\n",
              "      <th>sexual_orientation</th>\n",
              "      <th>year_of_award</th>\n",
              "      <th>award</th>\n",
              "      <th>movie</th>\n",
              "      <th>person</th>\n",
              "      <th>age_at_award</th>\n",
              "      <th>year_of_birth</th>\n",
              "    </tr>\n",
              "  </thead>\n",
              "  <tbody>\n",
              "    <tr>\n",
              "      <th>386</th>\n",
              "      <td>Croydon, Surrey, England</td>\n",
              "      <td>2007-12-22</td>\n",
              "      <td>White</td>\n",
              "      <td>Agnostic</td>\n",
              "      <td>Straight</td>\n",
              "      <td>1985</td>\n",
              "      <td>Best Supporting Actress</td>\n",
              "      <td>A Passage to India</td>\n",
              "      <td>Peggy Ashcroft</td>\n",
              "      <td>78.0</td>\n",
              "      <td>1907.0</td>\n",
              "    </tr>\n",
              "    <tr>\n",
              "      <th>370</th>\n",
              "      <td>Quincy, Ma</td>\n",
              "      <td>1896-10-30</td>\n",
              "      <td>White</td>\n",
              "      <td>Na</td>\n",
              "      <td>Straight</td>\n",
              "      <td>1969</td>\n",
              "      <td>Best Supporting Actress</td>\n",
              "      <td>Rosemary's Baby</td>\n",
              "      <td>Ruth Gordon</td>\n",
              "      <td>73.0</td>\n",
              "      <td>1896.0</td>\n",
              "    </tr>\n",
              "    <tr>\n",
              "      <th>365</th>\n",
              "      <td>London, England</td>\n",
              "      <td>1892-05-11</td>\n",
              "      <td>White</td>\n",
              "      <td>Na</td>\n",
              "      <td>Straight</td>\n",
              "      <td>1964</td>\n",
              "      <td>Best Supporting Actress</td>\n",
              "      <td>the V.I.P.s</td>\n",
              "      <td>Margaret Rutherford</td>\n",
              "      <td>72.0</td>\n",
              "      <td>1892.0</td>\n",
              "    </tr>\n",
              "  </tbody>\n",
              "</table>\n",
              "</div>"
            ],
            "text/plain": [
              "                   birthplace date_of_birth  ... age_at_award year_of_birth\n",
              "386  Croydon, Surrey, England    2007-12-22  ...         78.0        1907.0\n",
              "370                Quincy, Ma    1896-10-30  ...         73.0        1896.0\n",
              "365           London, England    1892-05-11  ...         72.0        1892.0\n",
              "\n",
              "[3 rows x 11 columns]"
            ]
          },
          "metadata": {
            "tags": []
          }
        }
      ]
    },
    {
      "cell_type": "markdown",
      "metadata": {
        "id": "hRePPxGDFSje",
        "colab_type": "text"
      },
      "source": [
        "\n",
        "#  \n",
        "###  Transform\n",
        "#   "
      ]
    },
    {
      "cell_type": "code",
      "metadata": {
        "id": "QkuwhWB7FSjf",
        "colab_type": "code",
        "outputId": "db5965ae-f657-4bff-b085-ecfdb715a55c",
        "colab": {
          "base_uri": "https://localhost:8080/",
          "height": 210
        }
      },
      "source": [
        "oscars_short.head(3)"
      ],
      "execution_count": 0,
      "outputs": [
        {
          "output_type": "execute_result",
          "data": {
            "text/html": [
              "<div>\n",
              "<style scoped>\n",
              "    .dataframe tbody tr th:only-of-type {\n",
              "        vertical-align: middle;\n",
              "    }\n",
              "\n",
              "    .dataframe tbody tr th {\n",
              "        vertical-align: top;\n",
              "    }\n",
              "\n",
              "    .dataframe thead th {\n",
              "        text-align: right;\n",
              "    }\n",
              "</style>\n",
              "<table border=\"1\" class=\"dataframe\">\n",
              "  <thead>\n",
              "    <tr style=\"text-align: right;\">\n",
              "      <th></th>\n",
              "      <th>birthplace</th>\n",
              "      <th>date_of_birth</th>\n",
              "      <th>race_ethnicity</th>\n",
              "      <th>religion</th>\n",
              "      <th>sexual_orientation</th>\n",
              "      <th>year_of_award</th>\n",
              "      <th>award</th>\n",
              "      <th>movie</th>\n",
              "      <th>person</th>\n",
              "      <th>age_at_award</th>\n",
              "      <th>year_of_birth</th>\n",
              "    </tr>\n",
              "  </thead>\n",
              "  <tbody>\n",
              "    <tr>\n",
              "      <th>0</th>\n",
              "      <td>Chisinau, Moldova</td>\n",
              "      <td>1895-09-30</td>\n",
              "      <td>White</td>\n",
              "      <td>Na</td>\n",
              "      <td>Straight</td>\n",
              "      <td>1927</td>\n",
              "      <td>Best Director</td>\n",
              "      <td>Two Arabian Knights</td>\n",
              "      <td>Lewis Milestone</td>\n",
              "      <td>32.0</td>\n",
              "      <td>1895.0</td>\n",
              "    </tr>\n",
              "    <tr>\n",
              "      <th>1</th>\n",
              "      <td>Glasgow, Scotland</td>\n",
              "      <td>1886-02-02</td>\n",
              "      <td>White</td>\n",
              "      <td>Na</td>\n",
              "      <td>Straight</td>\n",
              "      <td>1930</td>\n",
              "      <td>Best Director</td>\n",
              "      <td>The Divine Lady</td>\n",
              "      <td>Frank Lloyd</td>\n",
              "      <td>44.0</td>\n",
              "      <td>1886.0</td>\n",
              "    </tr>\n",
              "    <tr>\n",
              "      <th>2</th>\n",
              "      <td>Chisinau, Moldova</td>\n",
              "      <td>1895-09-30</td>\n",
              "      <td>White</td>\n",
              "      <td>Na</td>\n",
              "      <td>Straight</td>\n",
              "      <td>1931</td>\n",
              "      <td>Best Director</td>\n",
              "      <td>All Quiet on the Western Front</td>\n",
              "      <td>Lewis Milestone</td>\n",
              "      <td>36.0</td>\n",
              "      <td>1895.0</td>\n",
              "    </tr>\n",
              "  </tbody>\n",
              "</table>\n",
              "</div>"
            ],
            "text/plain": [
              "          birthplace date_of_birth  ... age_at_award year_of_birth\n",
              "0  Chisinau, Moldova    1895-09-30  ...         32.0        1895.0\n",
              "1  Glasgow, Scotland    1886-02-02  ...         44.0        1886.0\n",
              "2  Chisinau, Moldova    1895-09-30  ...         36.0        1895.0\n",
              "\n",
              "[3 rows x 11 columns]"
            ]
          },
          "metadata": {
            "tags": []
          },
          "execution_count": 203
        }
      ]
    },
    {
      "cell_type": "code",
      "metadata": {
        "id": "zo5UBgctFSjg",
        "colab_type": "code",
        "colab": {}
      },
      "source": [
        ""
      ],
      "execution_count": 0,
      "outputs": []
    },
    {
      "cell_type": "code",
      "metadata": {
        "id": "sLUzbwSzFSji",
        "colab_type": "code",
        "outputId": "c4cac04d-204b-448f-d9b1-a3390b7b87ae",
        "colab": {
          "base_uri": "https://localhost:8080/",
          "height": 139
        }
      },
      "source": [
        "grouped=oscars_short.groupby('award')\n",
        "grouped['age_at_award'].mean()"
      ],
      "execution_count": 0,
      "outputs": [
        {
          "output_type": "execute_result",
          "data": {
            "text/plain": [
              "award\n",
              "Best Actor                 45.046512\n",
              "Best Actress               36.850575\n",
              "Best Director              47.279070\n",
              "Best Supporting Actor      50.666667\n",
              "Best Supporting Actress    40.641026\n",
              "Name: age_at_award, dtype: float64"
            ]
          },
          "metadata": {
            "tags": []
          },
          "execution_count": 204
        }
      ]
    },
    {
      "cell_type": "code",
      "metadata": {
        "id": "eeccIyRvFSjp",
        "colab_type": "code",
        "outputId": "e477d6ea-8059-49e8-8766-38164cda1d17",
        "colab": {
          "base_uri": "https://localhost:8080/",
          "height": 381
        }
      },
      "source": [
        "grouped['age_at_award'].transform('mean').head(20)"
      ],
      "execution_count": 0,
      "outputs": [
        {
          "output_type": "execute_result",
          "data": {
            "text/plain": [
              "0     47.27907\n",
              "1     47.27907\n",
              "2     47.27907\n",
              "3     47.27907\n",
              "4     47.27907\n",
              "5     47.27907\n",
              "6     47.27907\n",
              "7     47.27907\n",
              "8     47.27907\n",
              "9     47.27907\n",
              "10    47.27907\n",
              "11    47.27907\n",
              "12    47.27907\n",
              "13    47.27907\n",
              "14    47.27907\n",
              "15    47.27907\n",
              "16    47.27907\n",
              "17    47.27907\n",
              "18    47.27907\n",
              "19    47.27907\n",
              "Name: age_at_award, dtype: float64"
            ]
          },
          "metadata": {
            "tags": []
          },
          "execution_count": 205
        }
      ]
    },
    {
      "cell_type": "code",
      "metadata": {
        "id": "XMQ0PurrFSjr",
        "colab_type": "code",
        "colab": {}
      },
      "source": [
        "oscars_short['avg_age_at_award'] = oscars_short.groupby('award')['age_at_award'].transform('mean')\n",
        "oscars_short['is_above_avg_age'] = oscars_short['avg_age_at_award'] < oscars_short['age_at_award']"
      ],
      "execution_count": 0,
      "outputs": []
    },
    {
      "cell_type": "code",
      "metadata": {
        "id": "AaEETyi3FSjt",
        "colab_type": "code",
        "outputId": "b87d1362-45a9-40ae-d730-d4c4c40832ff",
        "colab": {
          "base_uri": "https://localhost:8080/",
          "height": 1000
        }
      },
      "source": [
        "oscars_short.head(20)"
      ],
      "execution_count": 0,
      "outputs": [
        {
          "output_type": "execute_result",
          "data": {
            "text/html": [
              "<div>\n",
              "<style scoped>\n",
              "    .dataframe tbody tr th:only-of-type {\n",
              "        vertical-align: middle;\n",
              "    }\n",
              "\n",
              "    .dataframe tbody tr th {\n",
              "        vertical-align: top;\n",
              "    }\n",
              "\n",
              "    .dataframe thead th {\n",
              "        text-align: right;\n",
              "    }\n",
              "</style>\n",
              "<table border=\"1\" class=\"dataframe\">\n",
              "  <thead>\n",
              "    <tr style=\"text-align: right;\">\n",
              "      <th></th>\n",
              "      <th>birthplace</th>\n",
              "      <th>date_of_birth</th>\n",
              "      <th>race_ethnicity</th>\n",
              "      <th>religion</th>\n",
              "      <th>sexual_orientation</th>\n",
              "      <th>year_of_award</th>\n",
              "      <th>award</th>\n",
              "      <th>movie</th>\n",
              "      <th>person</th>\n",
              "      <th>age_at_award</th>\n",
              "      <th>year_of_birth</th>\n",
              "      <th>avg_age_at_award</th>\n",
              "      <th>is_above_avg_age</th>\n",
              "    </tr>\n",
              "  </thead>\n",
              "  <tbody>\n",
              "    <tr>\n",
              "      <th>0</th>\n",
              "      <td>Chisinau, Moldova</td>\n",
              "      <td>1895-09-30</td>\n",
              "      <td>White</td>\n",
              "      <td>Na</td>\n",
              "      <td>Straight</td>\n",
              "      <td>1927</td>\n",
              "      <td>Best Director</td>\n",
              "      <td>Two Arabian Knights</td>\n",
              "      <td>Lewis Milestone</td>\n",
              "      <td>32.0</td>\n",
              "      <td>1895.0</td>\n",
              "      <td>47.27907</td>\n",
              "      <td>False</td>\n",
              "    </tr>\n",
              "    <tr>\n",
              "      <th>1</th>\n",
              "      <td>Glasgow, Scotland</td>\n",
              "      <td>1886-02-02</td>\n",
              "      <td>White</td>\n",
              "      <td>Na</td>\n",
              "      <td>Straight</td>\n",
              "      <td>1930</td>\n",
              "      <td>Best Director</td>\n",
              "      <td>The Divine Lady</td>\n",
              "      <td>Frank Lloyd</td>\n",
              "      <td>44.0</td>\n",
              "      <td>1886.0</td>\n",
              "      <td>47.27907</td>\n",
              "      <td>False</td>\n",
              "    </tr>\n",
              "    <tr>\n",
              "      <th>2</th>\n",
              "      <td>Chisinau, Moldova</td>\n",
              "      <td>1895-09-30</td>\n",
              "      <td>White</td>\n",
              "      <td>Na</td>\n",
              "      <td>Straight</td>\n",
              "      <td>1931</td>\n",
              "      <td>Best Director</td>\n",
              "      <td>All Quiet on the Western Front</td>\n",
              "      <td>Lewis Milestone</td>\n",
              "      <td>36.0</td>\n",
              "      <td>1895.0</td>\n",
              "      <td>47.27907</td>\n",
              "      <td>False</td>\n",
              "    </tr>\n",
              "    <tr>\n",
              "      <th>3</th>\n",
              "      <td>Chicago, Il</td>\n",
              "      <td>1899-02-23</td>\n",
              "      <td>White</td>\n",
              "      <td>Na</td>\n",
              "      <td>Straight</td>\n",
              "      <td>1932</td>\n",
              "      <td>Best Director</td>\n",
              "      <td>Skippy</td>\n",
              "      <td>Norman Taurog</td>\n",
              "      <td>33.0</td>\n",
              "      <td>1899.0</td>\n",
              "      <td>47.27907</td>\n",
              "      <td>False</td>\n",
              "    </tr>\n",
              "    <tr>\n",
              "      <th>4</th>\n",
              "      <td>Salt Lake City, Ut</td>\n",
              "      <td>1894-04-23</td>\n",
              "      <td>White</td>\n",
              "      <td>Roman Catholic</td>\n",
              "      <td>Straight</td>\n",
              "      <td>1933</td>\n",
              "      <td>Best Director</td>\n",
              "      <td>Bad Girl</td>\n",
              "      <td>Frank Borzage</td>\n",
              "      <td>39.0</td>\n",
              "      <td>1894.0</td>\n",
              "      <td>47.27907</td>\n",
              "      <td>False</td>\n",
              "    </tr>\n",
              "    <tr>\n",
              "      <th>5</th>\n",
              "      <td>Glasgow, Scotland</td>\n",
              "      <td>1886-02-02</td>\n",
              "      <td>White</td>\n",
              "      <td>Na</td>\n",
              "      <td>Straight</td>\n",
              "      <td>1934</td>\n",
              "      <td>Best Director</td>\n",
              "      <td>Cavalcade</td>\n",
              "      <td>Frank Lloyd</td>\n",
              "      <td>48.0</td>\n",
              "      <td>1886.0</td>\n",
              "      <td>47.27907</td>\n",
              "      <td>True</td>\n",
              "    </tr>\n",
              "    <tr>\n",
              "      <th>6</th>\n",
              "      <td>Bisacquino, Sicily, Italy</td>\n",
              "      <td>1897-05-18</td>\n",
              "      <td>White</td>\n",
              "      <td>Roman Catholic</td>\n",
              "      <td>Straight</td>\n",
              "      <td>1935</td>\n",
              "      <td>Best Director</td>\n",
              "      <td>It Happened One Night</td>\n",
              "      <td>Frank Capra</td>\n",
              "      <td>38.0</td>\n",
              "      <td>1897.0</td>\n",
              "      <td>47.27907</td>\n",
              "      <td>False</td>\n",
              "    </tr>\n",
              "    <tr>\n",
              "      <th>7</th>\n",
              "      <td>Cape Elizabeth, Me</td>\n",
              "      <td>1894-02-01</td>\n",
              "      <td>White</td>\n",
              "      <td>Roman Catholic</td>\n",
              "      <td>Bisexual</td>\n",
              "      <td>1936</td>\n",
              "      <td>Best Director</td>\n",
              "      <td>The Informer</td>\n",
              "      <td>John Ford</td>\n",
              "      <td>42.0</td>\n",
              "      <td>1894.0</td>\n",
              "      <td>47.27907</td>\n",
              "      <td>False</td>\n",
              "    </tr>\n",
              "    <tr>\n",
              "      <th>8</th>\n",
              "      <td>Bisacquino, Sicily, Italy</td>\n",
              "      <td>1897-05-18</td>\n",
              "      <td>White</td>\n",
              "      <td>Roman Catholic</td>\n",
              "      <td>Straight</td>\n",
              "      <td>1937</td>\n",
              "      <td>Best Director</td>\n",
              "      <td>Mr. Deeds Goes to Town</td>\n",
              "      <td>Frank Capra</td>\n",
              "      <td>40.0</td>\n",
              "      <td>1897.0</td>\n",
              "      <td>47.27907</td>\n",
              "      <td>False</td>\n",
              "    </tr>\n",
              "    <tr>\n",
              "      <th>9</th>\n",
              "      <td>Los Angeles, Ca</td>\n",
              "      <td>1898-10-03</td>\n",
              "      <td>White</td>\n",
              "      <td>Na</td>\n",
              "      <td>Straight</td>\n",
              "      <td>1938</td>\n",
              "      <td>Best Director</td>\n",
              "      <td>The Awful Truth</td>\n",
              "      <td>Leo McCarey</td>\n",
              "      <td>40.0</td>\n",
              "      <td>1898.0</td>\n",
              "      <td>47.27907</td>\n",
              "      <td>False</td>\n",
              "    </tr>\n",
              "    <tr>\n",
              "      <th>10</th>\n",
              "      <td>Bisacquino, Sicily, Italy</td>\n",
              "      <td>1897-05-18</td>\n",
              "      <td>White</td>\n",
              "      <td>Roman Catholic</td>\n",
              "      <td>Straight</td>\n",
              "      <td>1939</td>\n",
              "      <td>Best Director</td>\n",
              "      <td>You Can't Take It with You</td>\n",
              "      <td>Frank Capra</td>\n",
              "      <td>42.0</td>\n",
              "      <td>1897.0</td>\n",
              "      <td>47.27907</td>\n",
              "      <td>False</td>\n",
              "    </tr>\n",
              "    <tr>\n",
              "      <th>11</th>\n",
              "      <td>Pasadena, Ca</td>\n",
              "      <td>1883-02-23</td>\n",
              "      <td>White</td>\n",
              "      <td>Na</td>\n",
              "      <td>Straight</td>\n",
              "      <td>1940</td>\n",
              "      <td>Best Director</td>\n",
              "      <td>Gone with the Wind</td>\n",
              "      <td>Victor Fleming</td>\n",
              "      <td>57.0</td>\n",
              "      <td>1883.0</td>\n",
              "      <td>47.27907</td>\n",
              "      <td>True</td>\n",
              "    </tr>\n",
              "    <tr>\n",
              "      <th>12</th>\n",
              "      <td>Cape Elizabeth, Me</td>\n",
              "      <td>1894-02-01</td>\n",
              "      <td>White</td>\n",
              "      <td>Roman Catholic</td>\n",
              "      <td>Bisexual</td>\n",
              "      <td>1941</td>\n",
              "      <td>Best Director</td>\n",
              "      <td>The Grapes of Wrath</td>\n",
              "      <td>John Ford</td>\n",
              "      <td>47.0</td>\n",
              "      <td>1894.0</td>\n",
              "      <td>47.27907</td>\n",
              "      <td>False</td>\n",
              "    </tr>\n",
              "    <tr>\n",
              "      <th>13</th>\n",
              "      <td>Cape Elizabeth, Me</td>\n",
              "      <td>1894-02-01</td>\n",
              "      <td>White</td>\n",
              "      <td>Roman Catholic</td>\n",
              "      <td>Bisexual</td>\n",
              "      <td>1942</td>\n",
              "      <td>Best Director</td>\n",
              "      <td>How Green Was My Valley</td>\n",
              "      <td>John Ford</td>\n",
              "      <td>48.0</td>\n",
              "      <td>1894.0</td>\n",
              "      <td>47.27907</td>\n",
              "      <td>True</td>\n",
              "    </tr>\n",
              "    <tr>\n",
              "      <th>14</th>\n",
              "      <td>Mulhouse, Haut-Rhin, Alsace, France</td>\n",
              "      <td>1902-07-01</td>\n",
              "      <td>White</td>\n",
              "      <td>Na</td>\n",
              "      <td>Straight</td>\n",
              "      <td>1943</td>\n",
              "      <td>Best Director</td>\n",
              "      <td>Mrs. Miniver</td>\n",
              "      <td>William Wyler</td>\n",
              "      <td>41.0</td>\n",
              "      <td>1902.0</td>\n",
              "      <td>47.27907</td>\n",
              "      <td>False</td>\n",
              "    </tr>\n",
              "    <tr>\n",
              "      <th>15</th>\n",
              "      <td>Budapest, Hungary</td>\n",
              "      <td>1886-12-24</td>\n",
              "      <td>White</td>\n",
              "      <td>Na</td>\n",
              "      <td>Straight</td>\n",
              "      <td>1944</td>\n",
              "      <td>Best Director</td>\n",
              "      <td>Casablanca</td>\n",
              "      <td>Michael Curtiz</td>\n",
              "      <td>58.0</td>\n",
              "      <td>1886.0</td>\n",
              "      <td>47.27907</td>\n",
              "      <td>True</td>\n",
              "    </tr>\n",
              "    <tr>\n",
              "      <th>16</th>\n",
              "      <td>Los Angeles, Ca</td>\n",
              "      <td>1898-10-03</td>\n",
              "      <td>White</td>\n",
              "      <td>Na</td>\n",
              "      <td>Straight</td>\n",
              "      <td>1945</td>\n",
              "      <td>Best Director</td>\n",
              "      <td>Going My Way</td>\n",
              "      <td>Leo McCarey</td>\n",
              "      <td>47.0</td>\n",
              "      <td>1898.0</td>\n",
              "      <td>47.27907</td>\n",
              "      <td>False</td>\n",
              "    </tr>\n",
              "    <tr>\n",
              "      <th>17</th>\n",
              "      <td>New York City</td>\n",
              "      <td>2018-10-11</td>\n",
              "      <td>White</td>\n",
              "      <td>Jewish</td>\n",
              "      <td>Gay</td>\n",
              "      <td>1962</td>\n",
              "      <td>Best Director</td>\n",
              "      <td>West Side Story</td>\n",
              "      <td>Jerome Robbins</td>\n",
              "      <td>44.0</td>\n",
              "      <td>1918.0</td>\n",
              "      <td>47.27907</td>\n",
              "      <td>False</td>\n",
              "    </tr>\n",
              "    <tr>\n",
              "      <th>18</th>\n",
              "      <td>Sucha, Galicia, Austria</td>\n",
              "      <td>2006-06-22</td>\n",
              "      <td>White</td>\n",
              "      <td>Jewish</td>\n",
              "      <td>Straight</td>\n",
              "      <td>1946</td>\n",
              "      <td>Best Director</td>\n",
              "      <td>The Lost Weekend</td>\n",
              "      <td>Billy Wilder</td>\n",
              "      <td>40.0</td>\n",
              "      <td>1906.0</td>\n",
              "      <td>47.27907</td>\n",
              "      <td>False</td>\n",
              "    </tr>\n",
              "    <tr>\n",
              "      <th>19</th>\n",
              "      <td>Mulhouse, Haut-Rhin, Alsace, France</td>\n",
              "      <td>1902-07-01</td>\n",
              "      <td>White</td>\n",
              "      <td>Na</td>\n",
              "      <td>Straight</td>\n",
              "      <td>1947</td>\n",
              "      <td>Best Director</td>\n",
              "      <td>The Best Years of Our Lives</td>\n",
              "      <td>William Wyler</td>\n",
              "      <td>45.0</td>\n",
              "      <td>1902.0</td>\n",
              "      <td>47.27907</td>\n",
              "      <td>False</td>\n",
              "    </tr>\n",
              "  </tbody>\n",
              "</table>\n",
              "</div>"
            ],
            "text/plain": [
              "                             birthplace  ... is_above_avg_age\n",
              "0                     Chisinau, Moldova  ...            False\n",
              "1                     Glasgow, Scotland  ...            False\n",
              "2                     Chisinau, Moldova  ...            False\n",
              "3                           Chicago, Il  ...            False\n",
              "4                    Salt Lake City, Ut  ...            False\n",
              "5                     Glasgow, Scotland  ...             True\n",
              "6             Bisacquino, Sicily, Italy  ...            False\n",
              "7                    Cape Elizabeth, Me  ...            False\n",
              "8             Bisacquino, Sicily, Italy  ...            False\n",
              "9                       Los Angeles, Ca  ...            False\n",
              "10            Bisacquino, Sicily, Italy  ...            False\n",
              "11                         Pasadena, Ca  ...             True\n",
              "12                   Cape Elizabeth, Me  ...            False\n",
              "13                   Cape Elizabeth, Me  ...             True\n",
              "14  Mulhouse, Haut-Rhin, Alsace, France  ...            False\n",
              "15                    Budapest, Hungary  ...             True\n",
              "16                      Los Angeles, Ca  ...            False\n",
              "17                        New York City  ...            False\n",
              "18              Sucha, Galicia, Austria  ...            False\n",
              "19  Mulhouse, Haut-Rhin, Alsace, France  ...            False\n",
              "\n",
              "[20 rows x 13 columns]"
            ]
          },
          "metadata": {
            "tags": []
          },
          "execution_count": 207
        }
      ]
    },
    {
      "cell_type": "markdown",
      "metadata": {
        "id": "6l9HabIwFSjw",
        "colab_type": "text"
      },
      "source": [
        "Transform can also be used to do transformations to a dataframe, in combination with apply"
      ]
    },
    {
      "cell_type": "code",
      "metadata": {
        "id": "7FDs0QynFSjw",
        "colab_type": "code",
        "outputId": "822ee053-636f-4a3d-f029-9aaf00632e7e",
        "colab": {
          "base_uri": "https://localhost:8080/",
          "height": 225
        }
      },
      "source": [
        "#Let´s imagine we want to add 1 to the year of birth (just to see how to do it)\n",
        "oscars_short['year_of_birth'].transform(func = lambda x : x + 1)"
      ],
      "execution_count": 0,
      "outputs": [
        {
          "output_type": "execute_result",
          "data": {
            "text/plain": [
              "0      1896.0\n",
              "1      1887.0\n",
              "2      1896.0\n",
              "3      1900.0\n",
              "4      1895.0\n",
              "        ...  \n",
              "411    1968.0\n",
              "412    1961.0\n",
              "413    1973.0\n",
              "414    1983.0\n",
              "415    1984.0\n",
              "Name: year_of_birth, Length: 416, dtype: float64"
            ]
          },
          "metadata": {
            "tags": []
          },
          "execution_count": 208
        }
      ]
    },
    {
      "cell_type": "markdown",
      "metadata": {
        "id": "VCjCR3ouFSjy",
        "colab_type": "text"
      },
      "source": [
        "We can then assign this serie to the old year_of_birth column, or to a new one.\n",
        "\n",
        "Transform comes in handy during feature extraction. It can replace groupby + merge operation, all in one."
      ]
    },
    {
      "cell_type": "markdown",
      "metadata": {
        "id": "EZNfEQqvFSjy",
        "colab_type": "text"
      },
      "source": [
        "#  \n",
        "#   \n",
        "#   \n",
        "#   \n",
        "# Combining Pandas Objects\n",
        "#   \n",
        "To do this, we will work with _append, concat, join_ and _merge_\n",
        "\n",
        "The first one we will use is append, which allows us to add one or more rows to a dataframe. We can manually add one row at a time with .loc, but we will be able to add several rows (or even indicate them with a second df) using append"
      ]
    },
    {
      "cell_type": "code",
      "metadata": {
        "id": "EY0Kh3rlFSjy",
        "colab_type": "code",
        "colab": {}
      },
      "source": [
        "oscars_short_BestActress=oscars_short.loc[oscars_short['award'].str.contains('Best Actress'),:]\n",
        "oscars_short_BestActor=oscars_short.loc[oscars_short['award'].str.contains('Best Actor'),:]"
      ],
      "execution_count": 0,
      "outputs": []
    },
    {
      "cell_type": "code",
      "metadata": {
        "id": "VydsTw50FSj1",
        "colab_type": "code",
        "outputId": "28798be6-cf78-46e3-88eb-337d263deaa0",
        "colab": {
          "base_uri": "https://localhost:8080/",
          "height": 395
        }
      },
      "source": [
        "oscars_short_BestActress.head()"
      ],
      "execution_count": 0,
      "outputs": [
        {
          "output_type": "execute_result",
          "data": {
            "text/html": [
              "<div>\n",
              "<style scoped>\n",
              "    .dataframe tbody tr th:only-of-type {\n",
              "        vertical-align: middle;\n",
              "    }\n",
              "\n",
              "    .dataframe tbody tr th {\n",
              "        vertical-align: top;\n",
              "    }\n",
              "\n",
              "    .dataframe thead th {\n",
              "        text-align: right;\n",
              "    }\n",
              "</style>\n",
              "<table border=\"1\" class=\"dataframe\">\n",
              "  <thead>\n",
              "    <tr style=\"text-align: right;\">\n",
              "      <th></th>\n",
              "      <th>birthplace</th>\n",
              "      <th>date_of_birth</th>\n",
              "      <th>race_ethnicity</th>\n",
              "      <th>religion</th>\n",
              "      <th>sexual_orientation</th>\n",
              "      <th>year_of_award</th>\n",
              "      <th>award</th>\n",
              "      <th>movie</th>\n",
              "      <th>person</th>\n",
              "      <th>age_at_award</th>\n",
              "      <th>year_of_birth</th>\n",
              "      <th>avg_age_at_award</th>\n",
              "      <th>is_above_avg_age</th>\n",
              "    </tr>\n",
              "  </thead>\n",
              "  <tbody>\n",
              "    <tr>\n",
              "      <th>251</th>\n",
              "      <td>Philadelphia, Pa</td>\n",
              "      <td>2006-10-06</td>\n",
              "      <td>White</td>\n",
              "      <td>Na</td>\n",
              "      <td>Straight</td>\n",
              "      <td>1929</td>\n",
              "      <td>Best Actress</td>\n",
              "      <td>7th Heaven</td>\n",
              "      <td>Janet Gaynor</td>\n",
              "      <td>23.0</td>\n",
              "      <td>1906.0</td>\n",
              "      <td>36.850575</td>\n",
              "      <td>False</td>\n",
              "    </tr>\n",
              "    <tr>\n",
              "      <th>252</th>\n",
              "      <td>Toronto, Ontario, Canada</td>\n",
              "      <td>1892-04-08</td>\n",
              "      <td>White</td>\n",
              "      <td>Na</td>\n",
              "      <td>Straight</td>\n",
              "      <td>1930</td>\n",
              "      <td>Best Actress</td>\n",
              "      <td>Coquette</td>\n",
              "      <td>Mary Pickford</td>\n",
              "      <td>38.0</td>\n",
              "      <td>1892.0</td>\n",
              "      <td>36.850575</td>\n",
              "      <td>True</td>\n",
              "    </tr>\n",
              "    <tr>\n",
              "      <th>253</th>\n",
              "      <td>Montreal, Quebec, Canada</td>\n",
              "      <td>1902-08-10</td>\n",
              "      <td>White</td>\n",
              "      <td>Na</td>\n",
              "      <td>Straight</td>\n",
              "      <td>1930</td>\n",
              "      <td>Best Actress</td>\n",
              "      <td>The Divorcee</td>\n",
              "      <td>Norma Shearer</td>\n",
              "      <td>28.0</td>\n",
              "      <td>1902.0</td>\n",
              "      <td>36.850575</td>\n",
              "      <td>False</td>\n",
              "    </tr>\n",
              "    <tr>\n",
              "      <th>254</th>\n",
              "      <td>Cobourg, Ontario, Canada</td>\n",
              "      <td>1868-11-02</td>\n",
              "      <td>White</td>\n",
              "      <td>Na</td>\n",
              "      <td>Straight</td>\n",
              "      <td>1931</td>\n",
              "      <td>Best Actress</td>\n",
              "      <td>Min and Bill</td>\n",
              "      <td>Marie Dressler</td>\n",
              "      <td>63.0</td>\n",
              "      <td>1868.0</td>\n",
              "      <td>36.850575</td>\n",
              "      <td>True</td>\n",
              "    </tr>\n",
              "    <tr>\n",
              "      <th>255</th>\n",
              "      <td>Washington, Dc</td>\n",
              "      <td>1900-10-10</td>\n",
              "      <td>White</td>\n",
              "      <td>Na</td>\n",
              "      <td>Straight</td>\n",
              "      <td>1932</td>\n",
              "      <td>Best Actress</td>\n",
              "      <td>The Sin of Madelon Claudet</td>\n",
              "      <td>Helen Hayes</td>\n",
              "      <td>32.0</td>\n",
              "      <td>1900.0</td>\n",
              "      <td>36.850575</td>\n",
              "      <td>False</td>\n",
              "    </tr>\n",
              "  </tbody>\n",
              "</table>\n",
              "</div>"
            ],
            "text/plain": [
              "                   birthplace date_of_birth  ... avg_age_at_award is_above_avg_age\n",
              "251          Philadelphia, Pa    2006-10-06  ...        36.850575            False\n",
              "252  Toronto, Ontario, Canada    1892-04-08  ...        36.850575             True\n",
              "253  Montreal, Quebec, Canada    1902-08-10  ...        36.850575            False\n",
              "254  Cobourg, Ontario, Canada    1868-11-02  ...        36.850575             True\n",
              "255            Washington, Dc    1900-10-10  ...        36.850575            False\n",
              "\n",
              "[5 rows x 13 columns]"
            ]
          },
          "metadata": {
            "tags": []
          },
          "execution_count": 210
        }
      ]
    },
    {
      "cell_type": "code",
      "metadata": {
        "id": "rKCDRDOFFSj3",
        "colab_type": "code",
        "outputId": "6f413f30-efc7-4a02-b5a4-9b2ed4212703",
        "colab": {
          "base_uri": "https://localhost:8080/",
          "height": 309
        }
      },
      "source": [
        "oscars_short_BestActor.head()"
      ],
      "execution_count": 0,
      "outputs": [
        {
          "output_type": "execute_result",
          "data": {
            "text/html": [
              "<div>\n",
              "<style scoped>\n",
              "    .dataframe tbody tr th:only-of-type {\n",
              "        vertical-align: middle;\n",
              "    }\n",
              "\n",
              "    .dataframe tbody tr th {\n",
              "        vertical-align: top;\n",
              "    }\n",
              "\n",
              "    .dataframe thead th {\n",
              "        text-align: right;\n",
              "    }\n",
              "</style>\n",
              "<table border=\"1\" class=\"dataframe\">\n",
              "  <thead>\n",
              "    <tr style=\"text-align: right;\">\n",
              "      <th></th>\n",
              "      <th>birthplace</th>\n",
              "      <th>date_of_birth</th>\n",
              "      <th>race_ethnicity</th>\n",
              "      <th>religion</th>\n",
              "      <th>sexual_orientation</th>\n",
              "      <th>year_of_award</th>\n",
              "      <th>award</th>\n",
              "      <th>movie</th>\n",
              "      <th>person</th>\n",
              "      <th>age_at_award</th>\n",
              "      <th>year_of_birth</th>\n",
              "      <th>avg_age_at_award</th>\n",
              "      <th>is_above_avg_age</th>\n",
              "    </tr>\n",
              "  </thead>\n",
              "  <tbody>\n",
              "    <tr>\n",
              "      <th>87</th>\n",
              "      <td>Rorschach, Switzerland</td>\n",
              "      <td>1884-07-23</td>\n",
              "      <td>White</td>\n",
              "      <td>Na</td>\n",
              "      <td>Bisexual</td>\n",
              "      <td>1929</td>\n",
              "      <td>Best Actor</td>\n",
              "      <td>The Last Command</td>\n",
              "      <td>Emil Jannings</td>\n",
              "      <td>45.0</td>\n",
              "      <td>1884.0</td>\n",
              "      <td>45.046512</td>\n",
              "      <td>False</td>\n",
              "    </tr>\n",
              "    <tr>\n",
              "      <th>88</th>\n",
              "      <td>Columbus, Oh</td>\n",
              "      <td>1889-03-29</td>\n",
              "      <td>White</td>\n",
              "      <td>Na</td>\n",
              "      <td>Straight</td>\n",
              "      <td>1930</td>\n",
              "      <td>Best Actor</td>\n",
              "      <td>In Old Arizona</td>\n",
              "      <td>Warner Baxter</td>\n",
              "      <td>41.0</td>\n",
              "      <td>1889.0</td>\n",
              "      <td>45.046512</td>\n",
              "      <td>False</td>\n",
              "    </tr>\n",
              "    <tr>\n",
              "      <th>89</th>\n",
              "      <td>London, England</td>\n",
              "      <td>1868-04-10</td>\n",
              "      <td>White</td>\n",
              "      <td>Na</td>\n",
              "      <td>Straight</td>\n",
              "      <td>1930</td>\n",
              "      <td>Best Actor</td>\n",
              "      <td>Desraeli</td>\n",
              "      <td>George Arliss</td>\n",
              "      <td>62.0</td>\n",
              "      <td>1868.0</td>\n",
              "      <td>45.046512</td>\n",
              "      <td>True</td>\n",
              "    </tr>\n",
              "    <tr>\n",
              "      <th>90</th>\n",
              "      <td>Philadelphia, Pa</td>\n",
              "      <td>1878-04-28</td>\n",
              "      <td>White</td>\n",
              "      <td>Roman Catholic</td>\n",
              "      <td>Straight</td>\n",
              "      <td>1931</td>\n",
              "      <td>Best Actor</td>\n",
              "      <td>A Free Soul</td>\n",
              "      <td>Lionel Barrymore</td>\n",
              "      <td>53.0</td>\n",
              "      <td>1878.0</td>\n",
              "      <td>45.046512</td>\n",
              "      <td>True</td>\n",
              "    </tr>\n",
              "    <tr>\n",
              "      <th>91</th>\n",
              "      <td>Kansas City, Mo</td>\n",
              "      <td>1885-04-01</td>\n",
              "      <td>White</td>\n",
              "      <td>Na</td>\n",
              "      <td>Straight</td>\n",
              "      <td>1932</td>\n",
              "      <td>Best Actor</td>\n",
              "      <td>The Champ</td>\n",
              "      <td>Wallace Beery</td>\n",
              "      <td>47.0</td>\n",
              "      <td>1885.0</td>\n",
              "      <td>45.046512</td>\n",
              "      <td>True</td>\n",
              "    </tr>\n",
              "  </tbody>\n",
              "</table>\n",
              "</div>"
            ],
            "text/plain": [
              "                birthplace date_of_birth  ... avg_age_at_award is_above_avg_age\n",
              "87  Rorschach, Switzerland    1884-07-23  ...        45.046512            False\n",
              "88            Columbus, Oh    1889-03-29  ...        45.046512            False\n",
              "89         London, England    1868-04-10  ...        45.046512             True\n",
              "90        Philadelphia, Pa    1878-04-28  ...        45.046512             True\n",
              "91         Kansas City, Mo    1885-04-01  ...        45.046512             True\n",
              "\n",
              "[5 rows x 13 columns]"
            ]
          },
          "metadata": {
            "tags": []
          },
          "execution_count": 211
        }
      ]
    },
    {
      "cell_type": "code",
      "metadata": {
        "id": "qOuzNrY0FSj7",
        "colab_type": "code",
        "colab": {}
      },
      "source": [
        "oscars_short_Best_ActorandActress=oscars_short_BestActor.append(oscars_short_BestActress)"
      ],
      "execution_count": 0,
      "outputs": []
    },
    {
      "cell_type": "code",
      "metadata": {
        "id": "-S42dhH3FSj8",
        "colab_type": "code",
        "outputId": "09515e60-fbaf-4358-f5af-a218bbb81901",
        "colab": {
          "base_uri": "https://localhost:8080/",
          "height": 643
        }
      },
      "source": [
        "oscars_short_Best_ActorandActress"
      ],
      "execution_count": 0,
      "outputs": [
        {
          "output_type": "execute_result",
          "data": {
            "text/html": [
              "<div>\n",
              "<style scoped>\n",
              "    .dataframe tbody tr th:only-of-type {\n",
              "        vertical-align: middle;\n",
              "    }\n",
              "\n",
              "    .dataframe tbody tr th {\n",
              "        vertical-align: top;\n",
              "    }\n",
              "\n",
              "    .dataframe thead th {\n",
              "        text-align: right;\n",
              "    }\n",
              "</style>\n",
              "<table border=\"1\" class=\"dataframe\">\n",
              "  <thead>\n",
              "    <tr style=\"text-align: right;\">\n",
              "      <th></th>\n",
              "      <th>birthplace</th>\n",
              "      <th>date_of_birth</th>\n",
              "      <th>race_ethnicity</th>\n",
              "      <th>religion</th>\n",
              "      <th>sexual_orientation</th>\n",
              "      <th>year_of_award</th>\n",
              "      <th>award</th>\n",
              "      <th>movie</th>\n",
              "      <th>person</th>\n",
              "      <th>age_at_award</th>\n",
              "      <th>year_of_birth</th>\n",
              "      <th>avg_age_at_award</th>\n",
              "      <th>is_above_avg_age</th>\n",
              "    </tr>\n",
              "  </thead>\n",
              "  <tbody>\n",
              "    <tr>\n",
              "      <th>87</th>\n",
              "      <td>Rorschach, Switzerland</td>\n",
              "      <td>1884-07-23</td>\n",
              "      <td>White</td>\n",
              "      <td>Na</td>\n",
              "      <td>Bisexual</td>\n",
              "      <td>1929</td>\n",
              "      <td>Best Actor</td>\n",
              "      <td>The Last Command</td>\n",
              "      <td>Emil Jannings</td>\n",
              "      <td>45.0</td>\n",
              "      <td>1884.0</td>\n",
              "      <td>45.046512</td>\n",
              "      <td>False</td>\n",
              "    </tr>\n",
              "    <tr>\n",
              "      <th>88</th>\n",
              "      <td>Columbus, Oh</td>\n",
              "      <td>1889-03-29</td>\n",
              "      <td>White</td>\n",
              "      <td>Na</td>\n",
              "      <td>Straight</td>\n",
              "      <td>1930</td>\n",
              "      <td>Best Actor</td>\n",
              "      <td>In Old Arizona</td>\n",
              "      <td>Warner Baxter</td>\n",
              "      <td>41.0</td>\n",
              "      <td>1889.0</td>\n",
              "      <td>45.046512</td>\n",
              "      <td>False</td>\n",
              "    </tr>\n",
              "    <tr>\n",
              "      <th>89</th>\n",
              "      <td>London, England</td>\n",
              "      <td>1868-04-10</td>\n",
              "      <td>White</td>\n",
              "      <td>Na</td>\n",
              "      <td>Straight</td>\n",
              "      <td>1930</td>\n",
              "      <td>Best Actor</td>\n",
              "      <td>Desraeli</td>\n",
              "      <td>George Arliss</td>\n",
              "      <td>62.0</td>\n",
              "      <td>1868.0</td>\n",
              "      <td>45.046512</td>\n",
              "      <td>True</td>\n",
              "    </tr>\n",
              "    <tr>\n",
              "      <th>90</th>\n",
              "      <td>Philadelphia, Pa</td>\n",
              "      <td>1878-04-28</td>\n",
              "      <td>White</td>\n",
              "      <td>Roman Catholic</td>\n",
              "      <td>Straight</td>\n",
              "      <td>1931</td>\n",
              "      <td>Best Actor</td>\n",
              "      <td>A Free Soul</td>\n",
              "      <td>Lionel Barrymore</td>\n",
              "      <td>53.0</td>\n",
              "      <td>1878.0</td>\n",
              "      <td>45.046512</td>\n",
              "      <td>True</td>\n",
              "    </tr>\n",
              "    <tr>\n",
              "      <th>91</th>\n",
              "      <td>Kansas City, Mo</td>\n",
              "      <td>1885-04-01</td>\n",
              "      <td>White</td>\n",
              "      <td>Na</td>\n",
              "      <td>Straight</td>\n",
              "      <td>1932</td>\n",
              "      <td>Best Actor</td>\n",
              "      <td>The Champ</td>\n",
              "      <td>Wallace Beery</td>\n",
              "      <td>47.0</td>\n",
              "      <td>1885.0</td>\n",
              "      <td>45.046512</td>\n",
              "      <td>True</td>\n",
              "    </tr>\n",
              "    <tr>\n",
              "      <th>...</th>\n",
              "      <td>...</td>\n",
              "      <td>...</td>\n",
              "      <td>...</td>\n",
              "      <td>...</td>\n",
              "      <td>...</td>\n",
              "      <td>...</td>\n",
              "      <td>...</td>\n",
              "      <td>...</td>\n",
              "      <td>...</td>\n",
              "      <td>...</td>\n",
              "      <td>...</td>\n",
              "      <td>...</td>\n",
              "      <td>...</td>\n",
              "    </tr>\n",
              "    <tr>\n",
              "      <th>333</th>\n",
              "      <td>Arlington, Va</td>\n",
              "      <td>2064-07-26</td>\n",
              "      <td>White</td>\n",
              "      <td>Na</td>\n",
              "      <td>Straight</td>\n",
              "      <td>2010</td>\n",
              "      <td>Best Actress</td>\n",
              "      <td>The Blind Side</td>\n",
              "      <td>Sandra Bullock</td>\n",
              "      <td>46.0</td>\n",
              "      <td>1964.0</td>\n",
              "      <td>36.850575</td>\n",
              "      <td>True</td>\n",
              "    </tr>\n",
              "    <tr>\n",
              "      <th>334</th>\n",
              "      <td>Jerusalem, Israel</td>\n",
              "      <td>1981-06-09</td>\n",
              "      <td>White</td>\n",
              "      <td>Jewish</td>\n",
              "      <td>Straight</td>\n",
              "      <td>2011</td>\n",
              "      <td>Best Actress</td>\n",
              "      <td>Black Swan</td>\n",
              "      <td>Natalie Portman</td>\n",
              "      <td>30.0</td>\n",
              "      <td>1981.0</td>\n",
              "      <td>36.850575</td>\n",
              "      <td>False</td>\n",
              "    </tr>\n",
              "    <tr>\n",
              "      <th>335</th>\n",
              "      <td>Summit, Nj</td>\n",
              "      <td>2049-06-22</td>\n",
              "      <td>White</td>\n",
              "      <td>Na</td>\n",
              "      <td>Straight</td>\n",
              "      <td>2012</td>\n",
              "      <td>Best Actress</td>\n",
              "      <td>The Iron Lady</td>\n",
              "      <td>Meryl Streep</td>\n",
              "      <td>63.0</td>\n",
              "      <td>1949.0</td>\n",
              "      <td>36.850575</td>\n",
              "      <td>True</td>\n",
              "    </tr>\n",
              "    <tr>\n",
              "      <th>336</th>\n",
              "      <td>Louisville, Ky</td>\n",
              "      <td>1990-08-15</td>\n",
              "      <td>White</td>\n",
              "      <td>Na</td>\n",
              "      <td>Na</td>\n",
              "      <td>2013</td>\n",
              "      <td>Best Actress</td>\n",
              "      <td>Silver Linings Playbook</td>\n",
              "      <td>Jennifer Lawrence</td>\n",
              "      <td>23.0</td>\n",
              "      <td>1990.0</td>\n",
              "      <td>36.850575</td>\n",
              "      <td>False</td>\n",
              "    </tr>\n",
              "    <tr>\n",
              "      <th>337</th>\n",
              "      <td>Melbourne, Victoria, Australia</td>\n",
              "      <td>2069-05-14</td>\n",
              "      <td>White</td>\n",
              "      <td>Na</td>\n",
              "      <td>Straight</td>\n",
              "      <td>2014</td>\n",
              "      <td>Best Actress</td>\n",
              "      <td>Blue Jasmine</td>\n",
              "      <td>Cate Blanchett</td>\n",
              "      <td>45.0</td>\n",
              "      <td>1969.0</td>\n",
              "      <td>36.850575</td>\n",
              "      <td>True</td>\n",
              "    </tr>\n",
              "  </tbody>\n",
              "</table>\n",
              "<p>173 rows × 13 columns</p>\n",
              "</div>"
            ],
            "text/plain": [
              "                         birthplace  ... is_above_avg_age\n",
              "87           Rorschach, Switzerland  ...            False\n",
              "88                     Columbus, Oh  ...            False\n",
              "89                  London, England  ...             True\n",
              "90                 Philadelphia, Pa  ...             True\n",
              "91                  Kansas City, Mo  ...             True\n",
              "..                              ...  ...              ...\n",
              "333                   Arlington, Va  ...             True\n",
              "334               Jerusalem, Israel  ...            False\n",
              "335                      Summit, Nj  ...             True\n",
              "336                  Louisville, Ky  ...            False\n",
              "337  Melbourne, Victoria, Australia  ...             True\n",
              "\n",
              "[173 rows x 13 columns]"
            ]
          },
          "metadata": {
            "tags": []
          },
          "execution_count": 213
        }
      ]
    },
    {
      "cell_type": "code",
      "metadata": {
        "id": "tLZKEOqZFSj-",
        "colab_type": "code",
        "outputId": "9a9b29f0-e795-4a1a-e7c2-cd4b6d161f17",
        "colab": {
          "base_uri": "https://localhost:8080/",
          "height": 35
        }
      },
      "source": [
        "len(oscars_short_BestActor)"
      ],
      "execution_count": 0,
      "outputs": [
        {
          "output_type": "execute_result",
          "data": {
            "text/plain": [
              "86"
            ]
          },
          "metadata": {
            "tags": []
          },
          "execution_count": 214
        }
      ]
    },
    {
      "cell_type": "code",
      "metadata": {
        "id": "ruxSjMFnFSkA",
        "colab_type": "code",
        "outputId": "41c0c36e-3d9a-487e-917f-0bf040f1724f",
        "colab": {
          "base_uri": "https://localhost:8080/",
          "height": 35
        }
      },
      "source": [
        "len(oscars_short_BestActress)"
      ],
      "execution_count": 0,
      "outputs": [
        {
          "output_type": "execute_result",
          "data": {
            "text/plain": [
              "87"
            ]
          },
          "metadata": {
            "tags": []
          },
          "execution_count": 215
        }
      ]
    },
    {
      "cell_type": "code",
      "metadata": {
        "id": "U7tQ-kckFSkB",
        "colab_type": "code",
        "outputId": "2086f4a6-0b8a-408e-cb5f-e6cb00b1fb12",
        "colab": {
          "base_uri": "https://localhost:8080/",
          "height": 35
        }
      },
      "source": [
        "86+87"
      ],
      "execution_count": 0,
      "outputs": [
        {
          "output_type": "execute_result",
          "data": {
            "text/plain": [
              "173"
            ]
          },
          "metadata": {
            "tags": []
          },
          "execution_count": 216
        }
      ]
    },
    {
      "cell_type": "markdown",
      "metadata": {
        "id": "yn89U1ocFSkC",
        "colab_type": "text"
      },
      "source": [
        "### Concat\n",
        "\n",
        "We will see how to do the same (and more) using concat"
      ]
    },
    {
      "cell_type": "code",
      "metadata": {
        "id": "-wHaept-FSkD",
        "colab_type": "code",
        "outputId": "fb31a2fe-ffaa-4a5b-9982-4de4526c1219",
        "colab": {
          "base_uri": "https://localhost:8080/",
          "height": 395
        }
      },
      "source": [
        "oscars_short_BestActress.head()"
      ],
      "execution_count": 0,
      "outputs": [
        {
          "output_type": "execute_result",
          "data": {
            "text/html": [
              "<div>\n",
              "<style scoped>\n",
              "    .dataframe tbody tr th:only-of-type {\n",
              "        vertical-align: middle;\n",
              "    }\n",
              "\n",
              "    .dataframe tbody tr th {\n",
              "        vertical-align: top;\n",
              "    }\n",
              "\n",
              "    .dataframe thead th {\n",
              "        text-align: right;\n",
              "    }\n",
              "</style>\n",
              "<table border=\"1\" class=\"dataframe\">\n",
              "  <thead>\n",
              "    <tr style=\"text-align: right;\">\n",
              "      <th></th>\n",
              "      <th>birthplace</th>\n",
              "      <th>date_of_birth</th>\n",
              "      <th>race_ethnicity</th>\n",
              "      <th>religion</th>\n",
              "      <th>sexual_orientation</th>\n",
              "      <th>year_of_award</th>\n",
              "      <th>award</th>\n",
              "      <th>movie</th>\n",
              "      <th>person</th>\n",
              "      <th>age_at_award</th>\n",
              "      <th>year_of_birth</th>\n",
              "      <th>avg_age_at_award</th>\n",
              "      <th>is_above_avg_age</th>\n",
              "    </tr>\n",
              "  </thead>\n",
              "  <tbody>\n",
              "    <tr>\n",
              "      <th>251</th>\n",
              "      <td>Philadelphia, Pa</td>\n",
              "      <td>2006-10-06</td>\n",
              "      <td>White</td>\n",
              "      <td>Na</td>\n",
              "      <td>Straight</td>\n",
              "      <td>1929</td>\n",
              "      <td>Best Actress</td>\n",
              "      <td>7th Heaven</td>\n",
              "      <td>Janet Gaynor</td>\n",
              "      <td>23.0</td>\n",
              "      <td>1906.0</td>\n",
              "      <td>36.850575</td>\n",
              "      <td>False</td>\n",
              "    </tr>\n",
              "    <tr>\n",
              "      <th>252</th>\n",
              "      <td>Toronto, Ontario, Canada</td>\n",
              "      <td>1892-04-08</td>\n",
              "      <td>White</td>\n",
              "      <td>Na</td>\n",
              "      <td>Straight</td>\n",
              "      <td>1930</td>\n",
              "      <td>Best Actress</td>\n",
              "      <td>Coquette</td>\n",
              "      <td>Mary Pickford</td>\n",
              "      <td>38.0</td>\n",
              "      <td>1892.0</td>\n",
              "      <td>36.850575</td>\n",
              "      <td>True</td>\n",
              "    </tr>\n",
              "    <tr>\n",
              "      <th>253</th>\n",
              "      <td>Montreal, Quebec, Canada</td>\n",
              "      <td>1902-08-10</td>\n",
              "      <td>White</td>\n",
              "      <td>Na</td>\n",
              "      <td>Straight</td>\n",
              "      <td>1930</td>\n",
              "      <td>Best Actress</td>\n",
              "      <td>The Divorcee</td>\n",
              "      <td>Norma Shearer</td>\n",
              "      <td>28.0</td>\n",
              "      <td>1902.0</td>\n",
              "      <td>36.850575</td>\n",
              "      <td>False</td>\n",
              "    </tr>\n",
              "    <tr>\n",
              "      <th>254</th>\n",
              "      <td>Cobourg, Ontario, Canada</td>\n",
              "      <td>1868-11-02</td>\n",
              "      <td>White</td>\n",
              "      <td>Na</td>\n",
              "      <td>Straight</td>\n",
              "      <td>1931</td>\n",
              "      <td>Best Actress</td>\n",
              "      <td>Min and Bill</td>\n",
              "      <td>Marie Dressler</td>\n",
              "      <td>63.0</td>\n",
              "      <td>1868.0</td>\n",
              "      <td>36.850575</td>\n",
              "      <td>True</td>\n",
              "    </tr>\n",
              "    <tr>\n",
              "      <th>255</th>\n",
              "      <td>Washington, Dc</td>\n",
              "      <td>1900-10-10</td>\n",
              "      <td>White</td>\n",
              "      <td>Na</td>\n",
              "      <td>Straight</td>\n",
              "      <td>1932</td>\n",
              "      <td>Best Actress</td>\n",
              "      <td>The Sin of Madelon Claudet</td>\n",
              "      <td>Helen Hayes</td>\n",
              "      <td>32.0</td>\n",
              "      <td>1900.0</td>\n",
              "      <td>36.850575</td>\n",
              "      <td>False</td>\n",
              "    </tr>\n",
              "  </tbody>\n",
              "</table>\n",
              "</div>"
            ],
            "text/plain": [
              "                   birthplace date_of_birth  ... avg_age_at_award is_above_avg_age\n",
              "251          Philadelphia, Pa    2006-10-06  ...        36.850575            False\n",
              "252  Toronto, Ontario, Canada    1892-04-08  ...        36.850575             True\n",
              "253  Montreal, Quebec, Canada    1902-08-10  ...        36.850575            False\n",
              "254  Cobourg, Ontario, Canada    1868-11-02  ...        36.850575             True\n",
              "255            Washington, Dc    1900-10-10  ...        36.850575            False\n",
              "\n",
              "[5 rows x 13 columns]"
            ]
          },
          "metadata": {
            "tags": []
          },
          "execution_count": 217
        }
      ]
    },
    {
      "cell_type": "code",
      "metadata": {
        "id": "TOYaQStCFSkF",
        "colab_type": "code",
        "colab": {}
      },
      "source": [
        "oscars_short_Best_ActorandActress_concat=pd.concat([oscars_short_BestActor,oscars_short_BestActress])"
      ],
      "execution_count": 0,
      "outputs": []
    },
    {
      "cell_type": "code",
      "metadata": {
        "id": "JvqXS6MGFSkG",
        "colab_type": "code",
        "outputId": "6ade87bb-b00d-4fcc-caca-d499638ccf2b",
        "colab": {
          "base_uri": "https://localhost:8080/",
          "height": 643
        }
      },
      "source": [
        "oscars_short_Best_ActorandActress_concat"
      ],
      "execution_count": 0,
      "outputs": [
        {
          "output_type": "execute_result",
          "data": {
            "text/html": [
              "<div>\n",
              "<style scoped>\n",
              "    .dataframe tbody tr th:only-of-type {\n",
              "        vertical-align: middle;\n",
              "    }\n",
              "\n",
              "    .dataframe tbody tr th {\n",
              "        vertical-align: top;\n",
              "    }\n",
              "\n",
              "    .dataframe thead th {\n",
              "        text-align: right;\n",
              "    }\n",
              "</style>\n",
              "<table border=\"1\" class=\"dataframe\">\n",
              "  <thead>\n",
              "    <tr style=\"text-align: right;\">\n",
              "      <th></th>\n",
              "      <th>birthplace</th>\n",
              "      <th>date_of_birth</th>\n",
              "      <th>race_ethnicity</th>\n",
              "      <th>religion</th>\n",
              "      <th>sexual_orientation</th>\n",
              "      <th>year_of_award</th>\n",
              "      <th>award</th>\n",
              "      <th>movie</th>\n",
              "      <th>person</th>\n",
              "      <th>age_at_award</th>\n",
              "      <th>year_of_birth</th>\n",
              "      <th>avg_age_at_award</th>\n",
              "      <th>is_above_avg_age</th>\n",
              "    </tr>\n",
              "  </thead>\n",
              "  <tbody>\n",
              "    <tr>\n",
              "      <th>87</th>\n",
              "      <td>Rorschach, Switzerland</td>\n",
              "      <td>1884-07-23</td>\n",
              "      <td>White</td>\n",
              "      <td>Na</td>\n",
              "      <td>Bisexual</td>\n",
              "      <td>1929</td>\n",
              "      <td>Best Actor</td>\n",
              "      <td>The Last Command</td>\n",
              "      <td>Emil Jannings</td>\n",
              "      <td>45.0</td>\n",
              "      <td>1884.0</td>\n",
              "      <td>45.046512</td>\n",
              "      <td>False</td>\n",
              "    </tr>\n",
              "    <tr>\n",
              "      <th>88</th>\n",
              "      <td>Columbus, Oh</td>\n",
              "      <td>1889-03-29</td>\n",
              "      <td>White</td>\n",
              "      <td>Na</td>\n",
              "      <td>Straight</td>\n",
              "      <td>1930</td>\n",
              "      <td>Best Actor</td>\n",
              "      <td>In Old Arizona</td>\n",
              "      <td>Warner Baxter</td>\n",
              "      <td>41.0</td>\n",
              "      <td>1889.0</td>\n",
              "      <td>45.046512</td>\n",
              "      <td>False</td>\n",
              "    </tr>\n",
              "    <tr>\n",
              "      <th>89</th>\n",
              "      <td>London, England</td>\n",
              "      <td>1868-04-10</td>\n",
              "      <td>White</td>\n",
              "      <td>Na</td>\n",
              "      <td>Straight</td>\n",
              "      <td>1930</td>\n",
              "      <td>Best Actor</td>\n",
              "      <td>Desraeli</td>\n",
              "      <td>George Arliss</td>\n",
              "      <td>62.0</td>\n",
              "      <td>1868.0</td>\n",
              "      <td>45.046512</td>\n",
              "      <td>True</td>\n",
              "    </tr>\n",
              "    <tr>\n",
              "      <th>90</th>\n",
              "      <td>Philadelphia, Pa</td>\n",
              "      <td>1878-04-28</td>\n",
              "      <td>White</td>\n",
              "      <td>Roman Catholic</td>\n",
              "      <td>Straight</td>\n",
              "      <td>1931</td>\n",
              "      <td>Best Actor</td>\n",
              "      <td>A Free Soul</td>\n",
              "      <td>Lionel Barrymore</td>\n",
              "      <td>53.0</td>\n",
              "      <td>1878.0</td>\n",
              "      <td>45.046512</td>\n",
              "      <td>True</td>\n",
              "    </tr>\n",
              "    <tr>\n",
              "      <th>91</th>\n",
              "      <td>Kansas City, Mo</td>\n",
              "      <td>1885-04-01</td>\n",
              "      <td>White</td>\n",
              "      <td>Na</td>\n",
              "      <td>Straight</td>\n",
              "      <td>1932</td>\n",
              "      <td>Best Actor</td>\n",
              "      <td>The Champ</td>\n",
              "      <td>Wallace Beery</td>\n",
              "      <td>47.0</td>\n",
              "      <td>1885.0</td>\n",
              "      <td>45.046512</td>\n",
              "      <td>True</td>\n",
              "    </tr>\n",
              "    <tr>\n",
              "      <th>...</th>\n",
              "      <td>...</td>\n",
              "      <td>...</td>\n",
              "      <td>...</td>\n",
              "      <td>...</td>\n",
              "      <td>...</td>\n",
              "      <td>...</td>\n",
              "      <td>...</td>\n",
              "      <td>...</td>\n",
              "      <td>...</td>\n",
              "      <td>...</td>\n",
              "      <td>...</td>\n",
              "      <td>...</td>\n",
              "      <td>...</td>\n",
              "    </tr>\n",
              "    <tr>\n",
              "      <th>333</th>\n",
              "      <td>Arlington, Va</td>\n",
              "      <td>2064-07-26</td>\n",
              "      <td>White</td>\n",
              "      <td>Na</td>\n",
              "      <td>Straight</td>\n",
              "      <td>2010</td>\n",
              "      <td>Best Actress</td>\n",
              "      <td>The Blind Side</td>\n",
              "      <td>Sandra Bullock</td>\n",
              "      <td>46.0</td>\n",
              "      <td>1964.0</td>\n",
              "      <td>36.850575</td>\n",
              "      <td>True</td>\n",
              "    </tr>\n",
              "    <tr>\n",
              "      <th>334</th>\n",
              "      <td>Jerusalem, Israel</td>\n",
              "      <td>1981-06-09</td>\n",
              "      <td>White</td>\n",
              "      <td>Jewish</td>\n",
              "      <td>Straight</td>\n",
              "      <td>2011</td>\n",
              "      <td>Best Actress</td>\n",
              "      <td>Black Swan</td>\n",
              "      <td>Natalie Portman</td>\n",
              "      <td>30.0</td>\n",
              "      <td>1981.0</td>\n",
              "      <td>36.850575</td>\n",
              "      <td>False</td>\n",
              "    </tr>\n",
              "    <tr>\n",
              "      <th>335</th>\n",
              "      <td>Summit, Nj</td>\n",
              "      <td>2049-06-22</td>\n",
              "      <td>White</td>\n",
              "      <td>Na</td>\n",
              "      <td>Straight</td>\n",
              "      <td>2012</td>\n",
              "      <td>Best Actress</td>\n",
              "      <td>The Iron Lady</td>\n",
              "      <td>Meryl Streep</td>\n",
              "      <td>63.0</td>\n",
              "      <td>1949.0</td>\n",
              "      <td>36.850575</td>\n",
              "      <td>True</td>\n",
              "    </tr>\n",
              "    <tr>\n",
              "      <th>336</th>\n",
              "      <td>Louisville, Ky</td>\n",
              "      <td>1990-08-15</td>\n",
              "      <td>White</td>\n",
              "      <td>Na</td>\n",
              "      <td>Na</td>\n",
              "      <td>2013</td>\n",
              "      <td>Best Actress</td>\n",
              "      <td>Silver Linings Playbook</td>\n",
              "      <td>Jennifer Lawrence</td>\n",
              "      <td>23.0</td>\n",
              "      <td>1990.0</td>\n",
              "      <td>36.850575</td>\n",
              "      <td>False</td>\n",
              "    </tr>\n",
              "    <tr>\n",
              "      <th>337</th>\n",
              "      <td>Melbourne, Victoria, Australia</td>\n",
              "      <td>2069-05-14</td>\n",
              "      <td>White</td>\n",
              "      <td>Na</td>\n",
              "      <td>Straight</td>\n",
              "      <td>2014</td>\n",
              "      <td>Best Actress</td>\n",
              "      <td>Blue Jasmine</td>\n",
              "      <td>Cate Blanchett</td>\n",
              "      <td>45.0</td>\n",
              "      <td>1969.0</td>\n",
              "      <td>36.850575</td>\n",
              "      <td>True</td>\n",
              "    </tr>\n",
              "  </tbody>\n",
              "</table>\n",
              "<p>173 rows × 13 columns</p>\n",
              "</div>"
            ],
            "text/plain": [
              "                         birthplace  ... is_above_avg_age\n",
              "87           Rorschach, Switzerland  ...            False\n",
              "88                     Columbus, Oh  ...            False\n",
              "89                  London, England  ...             True\n",
              "90                 Philadelphia, Pa  ...             True\n",
              "91                  Kansas City, Mo  ...             True\n",
              "..                              ...  ...              ...\n",
              "333                   Arlington, Va  ...             True\n",
              "334               Jerusalem, Israel  ...            False\n",
              "335                      Summit, Nj  ...             True\n",
              "336                  Louisville, Ky  ...            False\n",
              "337  Melbourne, Victoria, Australia  ...             True\n",
              "\n",
              "[173 rows x 13 columns]"
            ]
          },
          "metadata": {
            "tags": []
          },
          "execution_count": 219
        }
      ]
    },
    {
      "cell_type": "markdown",
      "metadata": {
        "id": "AkvXt5PxFSkH",
        "colab_type": "text"
      },
      "source": [
        "![](Data/Yelp/join-or-merge-in-python-pandas-1.png)"
      ]
    },
    {
      "cell_type": "code",
      "metadata": {
        "id": "oSeHEd_-FSkI",
        "colab_type": "code",
        "colab": {}
      },
      "source": [
        "grouped=oscars_short.groupby(['year_of_award']).agg({'age_at_award':['mean','count']})\n",
        "level0=grouped.columns.get_level_values(0)\n",
        "level1=grouped.columns.get_level_values(1)\n",
        "grouped.columns = level0 + '_' + level1\n",
        "grouped.reset_index(inplace=True) "
      ],
      "execution_count": 0,
      "outputs": []
    },
    {
      "cell_type": "code",
      "metadata": {
        "id": "L_C-W-nhFSkJ",
        "colab_type": "code",
        "outputId": "077cdee5-5fdf-4c47-aa90-33e88f5bbc88",
        "colab": {
          "base_uri": "https://localhost:8080/",
          "height": 415
        }
      },
      "source": [
        "grouped"
      ],
      "execution_count": 0,
      "outputs": [
        {
          "output_type": "execute_result",
          "data": {
            "text/html": [
              "<div>\n",
              "<style scoped>\n",
              "    .dataframe tbody tr th:only-of-type {\n",
              "        vertical-align: middle;\n",
              "    }\n",
              "\n",
              "    .dataframe tbody tr th {\n",
              "        vertical-align: top;\n",
              "    }\n",
              "\n",
              "    .dataframe thead th {\n",
              "        text-align: right;\n",
              "    }\n",
              "</style>\n",
              "<table border=\"1\" class=\"dataframe\">\n",
              "  <thead>\n",
              "    <tr style=\"text-align: right;\">\n",
              "      <th></th>\n",
              "      <th>year_of_award</th>\n",
              "      <th>age_at_award_mean</th>\n",
              "      <th>age_at_award_count</th>\n",
              "    </tr>\n",
              "  </thead>\n",
              "  <tbody>\n",
              "    <tr>\n",
              "      <th>0</th>\n",
              "      <td>1927</td>\n",
              "      <td>32.000000</td>\n",
              "      <td>1</td>\n",
              "    </tr>\n",
              "    <tr>\n",
              "      <th>1</th>\n",
              "      <td>1929</td>\n",
              "      <td>34.000000</td>\n",
              "      <td>2</td>\n",
              "    </tr>\n",
              "    <tr>\n",
              "      <th>2</th>\n",
              "      <td>1930</td>\n",
              "      <td>42.600000</td>\n",
              "      <td>5</td>\n",
              "    </tr>\n",
              "    <tr>\n",
              "      <th>3</th>\n",
              "      <td>1931</td>\n",
              "      <td>50.666667</td>\n",
              "      <td>3</td>\n",
              "    </tr>\n",
              "    <tr>\n",
              "      <th>4</th>\n",
              "      <td>1932</td>\n",
              "      <td>37.333333</td>\n",
              "      <td>3</td>\n",
              "    </tr>\n",
              "    <tr>\n",
              "      <th>...</th>\n",
              "      <td>...</td>\n",
              "      <td>...</td>\n",
              "      <td>...</td>\n",
              "    </tr>\n",
              "    <tr>\n",
              "      <th>82</th>\n",
              "      <td>2010</td>\n",
              "      <td>51.000000</td>\n",
              "      <td>4</td>\n",
              "    </tr>\n",
              "    <tr>\n",
              "      <th>83</th>\n",
              "      <td>2011</td>\n",
              "      <td>41.600000</td>\n",
              "      <td>5</td>\n",
              "    </tr>\n",
              "    <tr>\n",
              "      <th>84</th>\n",
              "      <td>2012</td>\n",
              "      <td>54.200000</td>\n",
              "      <td>5</td>\n",
              "    </tr>\n",
              "    <tr>\n",
              "      <th>85</th>\n",
              "      <td>2013</td>\n",
              "      <td>45.200000</td>\n",
              "      <td>5</td>\n",
              "    </tr>\n",
              "    <tr>\n",
              "      <th>86</th>\n",
              "      <td>2014</td>\n",
              "      <td>41.000000</td>\n",
              "      <td>4</td>\n",
              "    </tr>\n",
              "  </tbody>\n",
              "</table>\n",
              "<p>87 rows × 3 columns</p>\n",
              "</div>"
            ],
            "text/plain": [
              "    year_of_award  age_at_award_mean  age_at_award_count\n",
              "0            1927          32.000000                   1\n",
              "1            1929          34.000000                   2\n",
              "2            1930          42.600000                   5\n",
              "3            1931          50.666667                   3\n",
              "4            1932          37.333333                   3\n",
              "..            ...                ...                 ...\n",
              "82           2010          51.000000                   4\n",
              "83           2011          41.600000                   5\n",
              "84           2012          54.200000                   5\n",
              "85           2013          45.200000                   5\n",
              "86           2014          41.000000                   4\n",
              "\n",
              "[87 rows x 3 columns]"
            ]
          },
          "metadata": {
            "tags": []
          },
          "execution_count": 221
        }
      ]
    },
    {
      "cell_type": "markdown",
      "metadata": {
        "id": "57SuAEynFSkL",
        "colab_type": "text"
      },
      "source": [
        "As we want the records of both dataframes, we will use outer join"
      ]
    },
    {
      "cell_type": "code",
      "metadata": {
        "id": "Z6NE2MNTFSkL",
        "colab_type": "code",
        "colab": {}
      },
      "source": [
        "oscars_short_perYear=oscars_short.merge(grouped, left_on='year_of_award', right_on='year_of_award',how='outer')"
      ],
      "execution_count": 0,
      "outputs": []
    },
    {
      "cell_type": "code",
      "metadata": {
        "id": "iHAR2W2hFSkN",
        "colab_type": "code",
        "outputId": "fe03282c-1a6d-4b1e-b573-440022bdaf4d",
        "colab": {
          "base_uri": "https://localhost:8080/",
          "height": 361
        }
      },
      "source": [
        "oscars_short_perYear.head()"
      ],
      "execution_count": 0,
      "outputs": [
        {
          "output_type": "execute_result",
          "data": {
            "text/html": [
              "<div>\n",
              "<style scoped>\n",
              "    .dataframe tbody tr th:only-of-type {\n",
              "        vertical-align: middle;\n",
              "    }\n",
              "\n",
              "    .dataframe tbody tr th {\n",
              "        vertical-align: top;\n",
              "    }\n",
              "\n",
              "    .dataframe thead th {\n",
              "        text-align: right;\n",
              "    }\n",
              "</style>\n",
              "<table border=\"1\" class=\"dataframe\">\n",
              "  <thead>\n",
              "    <tr style=\"text-align: right;\">\n",
              "      <th></th>\n",
              "      <th>birthplace</th>\n",
              "      <th>date_of_birth</th>\n",
              "      <th>race_ethnicity</th>\n",
              "      <th>religion</th>\n",
              "      <th>sexual_orientation</th>\n",
              "      <th>year_of_award</th>\n",
              "      <th>award</th>\n",
              "      <th>movie</th>\n",
              "      <th>person</th>\n",
              "      <th>age_at_award</th>\n",
              "      <th>year_of_birth</th>\n",
              "      <th>avg_age_at_award</th>\n",
              "      <th>is_above_avg_age</th>\n",
              "      <th>age_at_award_mean</th>\n",
              "      <th>age_at_award_count</th>\n",
              "    </tr>\n",
              "  </thead>\n",
              "  <tbody>\n",
              "    <tr>\n",
              "      <th>0</th>\n",
              "      <td>Chisinau, Moldova</td>\n",
              "      <td>1895-09-30</td>\n",
              "      <td>White</td>\n",
              "      <td>Na</td>\n",
              "      <td>Straight</td>\n",
              "      <td>1927</td>\n",
              "      <td>Best Director</td>\n",
              "      <td>Two Arabian Knights</td>\n",
              "      <td>Lewis Milestone</td>\n",
              "      <td>32.0</td>\n",
              "      <td>1895.0</td>\n",
              "      <td>47.279070</td>\n",
              "      <td>False</td>\n",
              "      <td>32.0</td>\n",
              "      <td>1</td>\n",
              "    </tr>\n",
              "    <tr>\n",
              "      <th>1</th>\n",
              "      <td>Glasgow, Scotland</td>\n",
              "      <td>1886-02-02</td>\n",
              "      <td>White</td>\n",
              "      <td>Na</td>\n",
              "      <td>Straight</td>\n",
              "      <td>1930</td>\n",
              "      <td>Best Director</td>\n",
              "      <td>The Divine Lady</td>\n",
              "      <td>Frank Lloyd</td>\n",
              "      <td>44.0</td>\n",
              "      <td>1886.0</td>\n",
              "      <td>47.279070</td>\n",
              "      <td>False</td>\n",
              "      <td>42.6</td>\n",
              "      <td>5</td>\n",
              "    </tr>\n",
              "    <tr>\n",
              "      <th>2</th>\n",
              "      <td>Columbus, Oh</td>\n",
              "      <td>1889-03-29</td>\n",
              "      <td>White</td>\n",
              "      <td>Na</td>\n",
              "      <td>Straight</td>\n",
              "      <td>1930</td>\n",
              "      <td>Best Actor</td>\n",
              "      <td>In Old Arizona</td>\n",
              "      <td>Warner Baxter</td>\n",
              "      <td>41.0</td>\n",
              "      <td>1889.0</td>\n",
              "      <td>45.046512</td>\n",
              "      <td>False</td>\n",
              "      <td>42.6</td>\n",
              "      <td>5</td>\n",
              "    </tr>\n",
              "    <tr>\n",
              "      <th>3</th>\n",
              "      <td>London, England</td>\n",
              "      <td>1868-04-10</td>\n",
              "      <td>White</td>\n",
              "      <td>Na</td>\n",
              "      <td>Straight</td>\n",
              "      <td>1930</td>\n",
              "      <td>Best Actor</td>\n",
              "      <td>Desraeli</td>\n",
              "      <td>George Arliss</td>\n",
              "      <td>62.0</td>\n",
              "      <td>1868.0</td>\n",
              "      <td>45.046512</td>\n",
              "      <td>True</td>\n",
              "      <td>42.6</td>\n",
              "      <td>5</td>\n",
              "    </tr>\n",
              "    <tr>\n",
              "      <th>4</th>\n",
              "      <td>Toronto, Ontario, Canada</td>\n",
              "      <td>1892-04-08</td>\n",
              "      <td>White</td>\n",
              "      <td>Na</td>\n",
              "      <td>Straight</td>\n",
              "      <td>1930</td>\n",
              "      <td>Best Actress</td>\n",
              "      <td>Coquette</td>\n",
              "      <td>Mary Pickford</td>\n",
              "      <td>38.0</td>\n",
              "      <td>1892.0</td>\n",
              "      <td>36.850575</td>\n",
              "      <td>True</td>\n",
              "      <td>42.6</td>\n",
              "      <td>5</td>\n",
              "    </tr>\n",
              "  </tbody>\n",
              "</table>\n",
              "</div>"
            ],
            "text/plain": [
              "                 birthplace  ... age_at_award_count\n",
              "0         Chisinau, Moldova  ...                  1\n",
              "1         Glasgow, Scotland  ...                  5\n",
              "2              Columbus, Oh  ...                  5\n",
              "3           London, England  ...                  5\n",
              "4  Toronto, Ontario, Canada  ...                  5\n",
              "\n",
              "[5 rows x 15 columns]"
            ]
          },
          "metadata": {
            "tags": []
          },
          "execution_count": 223
        }
      ]
    },
    {
      "cell_type": "markdown",
      "metadata": {
        "id": "tLApPpRjFSkO",
        "colab_type": "text"
      },
      "source": [
        "If we want to obtain only the awards for the years when the average age was less than 40 we can do..."
      ]
    },
    {
      "cell_type": "code",
      "metadata": {
        "id": "PBIomZ2CFSkO",
        "colab_type": "code",
        "colab": {}
      },
      "source": [
        "year_less_than_40=grouped.loc[grouped['age_at_award_mean']<40,:]"
      ],
      "execution_count": 0,
      "outputs": []
    },
    {
      "cell_type": "code",
      "metadata": {
        "id": "YBwMhUq9FSkQ",
        "colab_type": "code",
        "outputId": "c4250db6-35fb-4c6f-eae3-27f806fc6bf4",
        "colab": {
          "base_uri": "https://localhost:8080/",
          "height": 785
        }
      },
      "source": [
        "year_less_than_40"
      ],
      "execution_count": 0,
      "outputs": [
        {
          "output_type": "execute_result",
          "data": {
            "text/html": [
              "<div>\n",
              "<style scoped>\n",
              "    .dataframe tbody tr th:only-of-type {\n",
              "        vertical-align: middle;\n",
              "    }\n",
              "\n",
              "    .dataframe tbody tr th {\n",
              "        vertical-align: top;\n",
              "    }\n",
              "\n",
              "    .dataframe thead th {\n",
              "        text-align: right;\n",
              "    }\n",
              "</style>\n",
              "<table border=\"1\" class=\"dataframe\">\n",
              "  <thead>\n",
              "    <tr style=\"text-align: right;\">\n",
              "      <th></th>\n",
              "      <th>year_of_award</th>\n",
              "      <th>age_at_award_mean</th>\n",
              "      <th>age_at_award_count</th>\n",
              "    </tr>\n",
              "  </thead>\n",
              "  <tbody>\n",
              "    <tr>\n",
              "      <th>0</th>\n",
              "      <td>1927</td>\n",
              "      <td>32.000000</td>\n",
              "      <td>1</td>\n",
              "    </tr>\n",
              "    <tr>\n",
              "      <th>1</th>\n",
              "      <td>1929</td>\n",
              "      <td>34.000000</td>\n",
              "      <td>2</td>\n",
              "    </tr>\n",
              "    <tr>\n",
              "      <th>4</th>\n",
              "      <td>1932</td>\n",
              "      <td>37.333333</td>\n",
              "      <td>3</td>\n",
              "    </tr>\n",
              "    <tr>\n",
              "      <th>5</th>\n",
              "      <td>1933</td>\n",
              "      <td>39.000000</td>\n",
              "      <td>1</td>\n",
              "    </tr>\n",
              "    <tr>\n",
              "      <th>6</th>\n",
              "      <td>1934</td>\n",
              "      <td>36.666667</td>\n",
              "      <td>3</td>\n",
              "    </tr>\n",
              "    <tr>\n",
              "      <th>7</th>\n",
              "      <td>1935</td>\n",
              "      <td>34.666667</td>\n",
              "      <td>3</td>\n",
              "    </tr>\n",
              "    <tr>\n",
              "      <th>9</th>\n",
              "      <td>1937</td>\n",
              "      <td>36.750000</td>\n",
              "      <td>4</td>\n",
              "    </tr>\n",
              "    <tr>\n",
              "      <th>10</th>\n",
              "      <td>1938</td>\n",
              "      <td>39.666667</td>\n",
              "      <td>6</td>\n",
              "    </tr>\n",
              "    <tr>\n",
              "      <th>12</th>\n",
              "      <td>1940</td>\n",
              "      <td>39.500000</td>\n",
              "      <td>6</td>\n",
              "    </tr>\n",
              "    <tr>\n",
              "      <th>15</th>\n",
              "      <td>1943</td>\n",
              "      <td>35.750000</td>\n",
              "      <td>4</td>\n",
              "    </tr>\n",
              "    <tr>\n",
              "      <th>19</th>\n",
              "      <td>1947</td>\n",
              "      <td>36.600000</td>\n",
              "      <td>5</td>\n",
              "    </tr>\n",
              "    <tr>\n",
              "      <th>22</th>\n",
              "      <td>1950</td>\n",
              "      <td>39.000000</td>\n",
              "      <td>5</td>\n",
              "    </tr>\n",
              "    <tr>\n",
              "      <th>26</th>\n",
              "      <td>1954</td>\n",
              "      <td>36.000000</td>\n",
              "      <td>5</td>\n",
              "    </tr>\n",
              "    <tr>\n",
              "      <th>27</th>\n",
              "      <td>1955</td>\n",
              "      <td>34.800000</td>\n",
              "      <td>5</td>\n",
              "    </tr>\n",
              "    <tr>\n",
              "      <th>28</th>\n",
              "      <td>1956</td>\n",
              "      <td>39.200000</td>\n",
              "      <td>5</td>\n",
              "    </tr>\n",
              "    <tr>\n",
              "      <th>30</th>\n",
              "      <td>1958</td>\n",
              "      <td>38.000000</td>\n",
              "      <td>5</td>\n",
              "    </tr>\n",
              "    <tr>\n",
              "      <th>34</th>\n",
              "      <td>1962</td>\n",
              "      <td>32.600000</td>\n",
              "      <td>5</td>\n",
              "    </tr>\n",
              "    <tr>\n",
              "      <th>53</th>\n",
              "      <td>1981</td>\n",
              "      <td>32.600000</td>\n",
              "      <td>5</td>\n",
              "    </tr>\n",
              "    <tr>\n",
              "      <th>55</th>\n",
              "      <td>1983</td>\n",
              "      <td>39.600000</td>\n",
              "      <td>5</td>\n",
              "    </tr>\n",
              "    <tr>\n",
              "      <th>66</th>\n",
              "      <td>1994</td>\n",
              "      <td>36.400000</td>\n",
              "      <td>5</td>\n",
              "    </tr>\n",
              "    <tr>\n",
              "      <th>68</th>\n",
              "      <td>1996</td>\n",
              "      <td>37.600000</td>\n",
              "      <td>5</td>\n",
              "    </tr>\n",
              "    <tr>\n",
              "      <th>72</th>\n",
              "      <td>2000</td>\n",
              "      <td>38.800000</td>\n",
              "      <td>5</td>\n",
              "    </tr>\n",
              "    <tr>\n",
              "      <th>73</th>\n",
              "      <td>2001</td>\n",
              "      <td>37.000000</td>\n",
              "      <td>5</td>\n",
              "    </tr>\n",
              "    <tr>\n",
              "      <th>76</th>\n",
              "      <td>2004</td>\n",
              "      <td>38.250000</td>\n",
              "      <td>4</td>\n",
              "    </tr>\n",
              "  </tbody>\n",
              "</table>\n",
              "</div>"
            ],
            "text/plain": [
              "    year_of_award  age_at_award_mean  age_at_award_count\n",
              "0            1927          32.000000                   1\n",
              "1            1929          34.000000                   2\n",
              "4            1932          37.333333                   3\n",
              "5            1933          39.000000                   1\n",
              "6            1934          36.666667                   3\n",
              "7            1935          34.666667                   3\n",
              "9            1937          36.750000                   4\n",
              "10           1938          39.666667                   6\n",
              "12           1940          39.500000                   6\n",
              "15           1943          35.750000                   4\n",
              "19           1947          36.600000                   5\n",
              "22           1950          39.000000                   5\n",
              "26           1954          36.000000                   5\n",
              "27           1955          34.800000                   5\n",
              "28           1956          39.200000                   5\n",
              "30           1958          38.000000                   5\n",
              "34           1962          32.600000                   5\n",
              "53           1981          32.600000                   5\n",
              "55           1983          39.600000                   5\n",
              "66           1994          36.400000                   5\n",
              "68           1996          37.600000                   5\n",
              "72           2000          38.800000                   5\n",
              "73           2001          37.000000                   5\n",
              "76           2004          38.250000                   4"
            ]
          },
          "metadata": {
            "tags": []
          },
          "execution_count": 225
        }
      ]
    },
    {
      "cell_type": "markdown",
      "metadata": {
        "id": "SPJaXpaPFSkR",
        "colab_type": "text"
      },
      "source": [
        "Merge operation, by default is inner "
      ]
    },
    {
      "cell_type": "code",
      "metadata": {
        "id": "rb3A4Lz2FSkV",
        "colab_type": "code",
        "outputId": "becdf291-9d0b-4254-993d-6dabe5e85870",
        "colab": {
          "base_uri": "https://localhost:8080/",
          "height": 678
        }
      },
      "source": [
        "oscars_short.merge(year_less_than_40, left_on='year_of_award', right_on='year_of_award')"
      ],
      "execution_count": 0,
      "outputs": [
        {
          "output_type": "execute_result",
          "data": {
            "text/html": [
              "<div>\n",
              "<style scoped>\n",
              "    .dataframe tbody tr th:only-of-type {\n",
              "        vertical-align: middle;\n",
              "    }\n",
              "\n",
              "    .dataframe tbody tr th {\n",
              "        vertical-align: top;\n",
              "    }\n",
              "\n",
              "    .dataframe thead th {\n",
              "        text-align: right;\n",
              "    }\n",
              "</style>\n",
              "<table border=\"1\" class=\"dataframe\">\n",
              "  <thead>\n",
              "    <tr style=\"text-align: right;\">\n",
              "      <th></th>\n",
              "      <th>birthplace</th>\n",
              "      <th>date_of_birth</th>\n",
              "      <th>race_ethnicity</th>\n",
              "      <th>religion</th>\n",
              "      <th>sexual_orientation</th>\n",
              "      <th>year_of_award</th>\n",
              "      <th>award</th>\n",
              "      <th>movie</th>\n",
              "      <th>person</th>\n",
              "      <th>age_at_award</th>\n",
              "      <th>year_of_birth</th>\n",
              "      <th>avg_age_at_award</th>\n",
              "      <th>is_above_avg_age</th>\n",
              "      <th>age_at_award_mean</th>\n",
              "      <th>age_at_award_count</th>\n",
              "    </tr>\n",
              "  </thead>\n",
              "  <tbody>\n",
              "    <tr>\n",
              "      <th>0</th>\n",
              "      <td>Chisinau, Moldova</td>\n",
              "      <td>1895-09-30</td>\n",
              "      <td>White</td>\n",
              "      <td>Na</td>\n",
              "      <td>Straight</td>\n",
              "      <td>1927</td>\n",
              "      <td>Best Director</td>\n",
              "      <td>Two Arabian Knights</td>\n",
              "      <td>Lewis Milestone</td>\n",
              "      <td>32.0</td>\n",
              "      <td>1895.0</td>\n",
              "      <td>47.279070</td>\n",
              "      <td>False</td>\n",
              "      <td>32.000000</td>\n",
              "      <td>1</td>\n",
              "    </tr>\n",
              "    <tr>\n",
              "      <th>1</th>\n",
              "      <td>Chicago, Il</td>\n",
              "      <td>1899-02-23</td>\n",
              "      <td>White</td>\n",
              "      <td>Na</td>\n",
              "      <td>Straight</td>\n",
              "      <td>1932</td>\n",
              "      <td>Best Director</td>\n",
              "      <td>Skippy</td>\n",
              "      <td>Norman Taurog</td>\n",
              "      <td>33.0</td>\n",
              "      <td>1899.0</td>\n",
              "      <td>47.279070</td>\n",
              "      <td>False</td>\n",
              "      <td>37.333333</td>\n",
              "      <td>3</td>\n",
              "    </tr>\n",
              "    <tr>\n",
              "      <th>2</th>\n",
              "      <td>Kansas City, Mo</td>\n",
              "      <td>1885-04-01</td>\n",
              "      <td>White</td>\n",
              "      <td>Na</td>\n",
              "      <td>Straight</td>\n",
              "      <td>1932</td>\n",
              "      <td>Best Actor</td>\n",
              "      <td>The Champ</td>\n",
              "      <td>Wallace Beery</td>\n",
              "      <td>47.0</td>\n",
              "      <td>1885.0</td>\n",
              "      <td>45.046512</td>\n",
              "      <td>True</td>\n",
              "      <td>37.333333</td>\n",
              "      <td>3</td>\n",
              "    </tr>\n",
              "    <tr>\n",
              "      <th>3</th>\n",
              "      <td>Washington, Dc</td>\n",
              "      <td>1900-10-10</td>\n",
              "      <td>White</td>\n",
              "      <td>Na</td>\n",
              "      <td>Straight</td>\n",
              "      <td>1932</td>\n",
              "      <td>Best Actress</td>\n",
              "      <td>The Sin of Madelon Claudet</td>\n",
              "      <td>Helen Hayes</td>\n",
              "      <td>32.0</td>\n",
              "      <td>1900.0</td>\n",
              "      <td>36.850575</td>\n",
              "      <td>False</td>\n",
              "      <td>37.333333</td>\n",
              "      <td>3</td>\n",
              "    </tr>\n",
              "    <tr>\n",
              "      <th>4</th>\n",
              "      <td>Salt Lake City, Ut</td>\n",
              "      <td>1894-04-23</td>\n",
              "      <td>White</td>\n",
              "      <td>Roman Catholic</td>\n",
              "      <td>Straight</td>\n",
              "      <td>1933</td>\n",
              "      <td>Best Director</td>\n",
              "      <td>Bad Girl</td>\n",
              "      <td>Frank Borzage</td>\n",
              "      <td>39.0</td>\n",
              "      <td>1894.0</td>\n",
              "      <td>47.279070</td>\n",
              "      <td>False</td>\n",
              "      <td>39.000000</td>\n",
              "      <td>1</td>\n",
              "    </tr>\n",
              "    <tr>\n",
              "      <th>...</th>\n",
              "      <td>...</td>\n",
              "      <td>...</td>\n",
              "      <td>...</td>\n",
              "      <td>...</td>\n",
              "      <td>...</td>\n",
              "      <td>...</td>\n",
              "      <td>...</td>\n",
              "      <td>...</td>\n",
              "      <td>...</td>\n",
              "      <td>...</td>\n",
              "      <td>...</td>\n",
              "      <td>...</td>\n",
              "      <td>...</td>\n",
              "      <td>...</td>\n",
              "      <td>...</td>\n",
              "    </tr>\n",
              "    <tr>\n",
              "      <th>97</th>\n",
              "      <td>West Covina, Ca</td>\n",
              "      <td>2058-10-16</td>\n",
              "      <td>White</td>\n",
              "      <td>Roman Catholic</td>\n",
              "      <td>Straight</td>\n",
              "      <td>2004</td>\n",
              "      <td>Best Supporting Actor</td>\n",
              "      <td>Mystic River</td>\n",
              "      <td>Tim Robbins</td>\n",
              "      <td>46.0</td>\n",
              "      <td>1958.0</td>\n",
              "      <td>50.666667</td>\n",
              "      <td>False</td>\n",
              "      <td>38.250000</td>\n",
              "      <td>4</td>\n",
              "    </tr>\n",
              "    <tr>\n",
              "      <th>98</th>\n",
              "      <td>Benoni, South Africa</td>\n",
              "      <td>1975-08-07</td>\n",
              "      <td>White</td>\n",
              "      <td>Na</td>\n",
              "      <td>Straight</td>\n",
              "      <td>2004</td>\n",
              "      <td>Best Actress</td>\n",
              "      <td>Monster</td>\n",
              "      <td>Charlize Theron</td>\n",
              "      <td>29.0</td>\n",
              "      <td>1975.0</td>\n",
              "      <td>36.850575</td>\n",
              "      <td>False</td>\n",
              "      <td>38.250000</td>\n",
              "      <td>4</td>\n",
              "    </tr>\n",
              "    <tr>\n",
              "      <th>99</th>\n",
              "      <td>Katy, Tx</td>\n",
              "      <td>2069-04-25</td>\n",
              "      <td>White</td>\n",
              "      <td>Na</td>\n",
              "      <td>Straight</td>\n",
              "      <td>2004</td>\n",
              "      <td>Best Supporting Actress</td>\n",
              "      <td>Cold Mountain</td>\n",
              "      <td>RenÌ©e Zellweger</td>\n",
              "      <td>35.0</td>\n",
              "      <td>1969.0</td>\n",
              "      <td>40.641026</td>\n",
              "      <td>False</td>\n",
              "      <td>38.250000</td>\n",
              "      <td>4</td>\n",
              "    </tr>\n",
              "    <tr>\n",
              "      <th>100</th>\n",
              "      <td>Rorschach, Switzerland</td>\n",
              "      <td>1884-07-23</td>\n",
              "      <td>White</td>\n",
              "      <td>Na</td>\n",
              "      <td>Bisexual</td>\n",
              "      <td>1929</td>\n",
              "      <td>Best Actor</td>\n",
              "      <td>The Last Command</td>\n",
              "      <td>Emil Jannings</td>\n",
              "      <td>45.0</td>\n",
              "      <td>1884.0</td>\n",
              "      <td>45.046512</td>\n",
              "      <td>False</td>\n",
              "      <td>34.000000</td>\n",
              "      <td>2</td>\n",
              "    </tr>\n",
              "    <tr>\n",
              "      <th>101</th>\n",
              "      <td>Philadelphia, Pa</td>\n",
              "      <td>2006-10-06</td>\n",
              "      <td>White</td>\n",
              "      <td>Na</td>\n",
              "      <td>Straight</td>\n",
              "      <td>1929</td>\n",
              "      <td>Best Actress</td>\n",
              "      <td>7th Heaven</td>\n",
              "      <td>Janet Gaynor</td>\n",
              "      <td>23.0</td>\n",
              "      <td>1906.0</td>\n",
              "      <td>36.850575</td>\n",
              "      <td>False</td>\n",
              "      <td>34.000000</td>\n",
              "      <td>2</td>\n",
              "    </tr>\n",
              "  </tbody>\n",
              "</table>\n",
              "<p>102 rows × 15 columns</p>\n",
              "</div>"
            ],
            "text/plain": [
              "                 birthplace  ... age_at_award_count\n",
              "0         Chisinau, Moldova  ...                  1\n",
              "1               Chicago, Il  ...                  3\n",
              "2           Kansas City, Mo  ...                  3\n",
              "3            Washington, Dc  ...                  3\n",
              "4        Salt Lake City, Ut  ...                  1\n",
              "..                      ...  ...                ...\n",
              "97          West Covina, Ca  ...                  4\n",
              "98     Benoni, South Africa  ...                  4\n",
              "99                 Katy, Tx  ...                  4\n",
              "100  Rorschach, Switzerland  ...                  2\n",
              "101        Philadelphia, Pa  ...                  2\n",
              "\n",
              "[102 rows x 15 columns]"
            ]
          },
          "metadata": {
            "tags": []
          },
          "execution_count": 226
        }
      ]
    },
    {
      "cell_type": "code",
      "metadata": {
        "id": "bVAaJy6AFSkW",
        "colab_type": "code",
        "colab": {}
      },
      "source": [
        ""
      ],
      "execution_count": 0,
      "outputs": []
    },
    {
      "cell_type": "code",
      "metadata": {
        "id": "aLjDxDCGFSkX",
        "colab_type": "code",
        "colab": {}
      },
      "source": [
        ""
      ],
      "execution_count": 0,
      "outputs": []
    },
    {
      "cell_type": "code",
      "metadata": {
        "id": "0d81JusNFSkZ",
        "colab_type": "code",
        "colab": {}
      },
      "source": [
        ""
      ],
      "execution_count": 0,
      "outputs": []
    }
  ]
}
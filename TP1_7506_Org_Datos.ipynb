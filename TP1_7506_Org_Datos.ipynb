{
  "nbformat": 4,
  "nbformat_minor": 0,
  "metadata": {
    "colab": {
      "name": "TP1 - 7506 Org Datos.ipynb",
      "provenance": [],
      "toc_visible": true,
      "include_colab_link": true
    },
    "kernelspec": {
      "name": "python3",
      "display_name": "Python 3"
    }
  },
  "cells": [
    {
      "cell_type": "markdown",
      "metadata": {
        "id": "view-in-github",
        "colab_type": "text"
      },
      "source": [
        "<a href=\"https://colab.research.google.com/github/elemi10/7506-TP-Org-de-datos/blob/7506-Trabajo-Practico-1/TP1_7506_Org_Datos.ipynb\" target=\"_parent\"><img src=\"https://colab.research.google.com/assets/colab-badge.svg\" alt=\"Open In Colab\"/></a>"
      ]
    },
    {
      "cell_type": "markdown",
      "metadata": {
        "id": "7he79fqwwT-O",
        "colab_type": "text"
      },
      "source": [
        "# **TP1 - Real or Not?**\n",
        "\n",
        "###  **Análisis exploratorio**"
      ]
    },
    {
      "cell_type": "markdown",
      "metadata": {
        "id": "tZEYitYMwTjL",
        "colab_type": "text"
      },
      "source": [
        "![Banner_TP1.png](https://drive.google.com/uc?id=1BPA2RF1SDm9bTs1xZfVUa1VQn932E3wr)\n"
      ]
    },
    {
      "cell_type": "code",
      "metadata": {
        "id": "k_hz5faWjRJ6",
        "colab_type": "code",
        "colab": {}
      },
      "source": [
        "!pip install -U -q PyDrive\n",
        "from pydrive.auth import GoogleAuth\n",
        "from pydrive.drive import GoogleDrive\n",
        "from google.colab import auth\n",
        "from oauth2client.client import GoogleCredentials"
      ],
      "execution_count": 0,
      "outputs": []
    },
    {
      "cell_type": "code",
      "metadata": {
        "id": "4zMCT9MSjSHp",
        "colab_type": "code",
        "colab": {}
      },
      "source": [
        "auth.authenticate_user()\n",
        "gauth = GoogleAuth()\n",
        "gauth.credentials = GoogleCredentials.get_application_default()\n",
        "drive = GoogleDrive(gauth)"
      ],
      "execution_count": 0,
      "outputs": []
    },
    {
      "cell_type": "code",
      "metadata": {
        "id": "Ji2daQ4wkRla",
        "colab_type": "code",
        "colab": {}
      },
      "source": [
        "downloaded = drive.CreateFile({'id':'1RAGDjlzJ6spO5Sq8_x3UTIvxLhKAUBEt'}) # replace the id with id of file you want to access\n",
        "downloaded.GetContentFile('train.csv') "
      ],
      "execution_count": 0,
      "outputs": []
    },
    {
      "cell_type": "markdown",
      "metadata": {
        "id": "8CLkrdZyidZU",
        "colab_type": "text"
      },
      "source": [
        "### Importamos **Librerias**"
      ]
    },
    {
      "cell_type": "code",
      "metadata": {
        "id": "61knxy6eiYZv",
        "colab_type": "code",
        "colab": {}
      },
      "source": [
        "import pandas as pd\n",
        "import numpy as np\n",
        "import seaborn as sns\n",
        "import matplotlib.pyplot as plt\n",
        "from matplotlib import colors\n",
        "import datetime as dt\n",
        "import scipy as sp\n",
        "#from sklearn.cross_validation import train_test_split -- no levanta\n",
        "%matplotlib inline\n",
        "plt.rcParams['figure.figsize'] = (16,9)\n",
        "plt.style.use('default') # mejoramos esteticamente un poco los gráficos en matplotlib\n",
        "sns.set(style='whitegrid') # seteando tipo de grid en seaborn\n",
        "\n",
        "from sklearn.model_selection import train_test_split\n",
        "from sklearn import datasets, linear_model\n",
        "from sklearn.feature_extraction.text import CountVectorizer\n",
        "from sklearn.naive_bayes import MultinomialNB\n",
        "#from sklearn.metrics import confusion_matrix\n",
        "#from sklearn.naive_bayes import GaussianNB\n",
        "#from sklearn.metrics import classification_report\n",
        "#from sklearn.feature_selection import SelectKBest\n",
        "#from sklearn.cross_validation import train_test_split --> No levanta el feature de la libreria"
      ],
      "execution_count": 0,
      "outputs": []
    },
    {
      "cell_type": "markdown",
      "metadata": {
        "id": "d8FIwfsGi8ZC",
        "colab_type": "text"
      },
      "source": [
        "### Levantramos el archivo **train.csv**"
      ]
    },
    {
      "cell_type": "code",
      "metadata": {
        "id": "3QtvttVli06t",
        "colab_type": "code",
        "outputId": "a3b60d35-1f2b-4429-ea5d-427b6d7a4fc4",
        "colab": {
          "base_uri": "https://localhost:8080/",
          "height": 204
        }
      },
      "source": [
        "df_train = pd.read_csv(r'train.csv', usecols=['keyword','location','text','target']) \n",
        "df_train.head()"
      ],
      "execution_count": 231,
      "outputs": [
        {
          "output_type": "execute_result",
          "data": {
            "text/html": [
              "<div>\n",
              "<style scoped>\n",
              "    .dataframe tbody tr th:only-of-type {\n",
              "        vertical-align: middle;\n",
              "    }\n",
              "\n",
              "    .dataframe tbody tr th {\n",
              "        vertical-align: top;\n",
              "    }\n",
              "\n",
              "    .dataframe thead th {\n",
              "        text-align: right;\n",
              "    }\n",
              "</style>\n",
              "<table border=\"1\" class=\"dataframe\">\n",
              "  <thead>\n",
              "    <tr style=\"text-align: right;\">\n",
              "      <th></th>\n",
              "      <th>keyword</th>\n",
              "      <th>location</th>\n",
              "      <th>text</th>\n",
              "      <th>target</th>\n",
              "    </tr>\n",
              "  </thead>\n",
              "  <tbody>\n",
              "    <tr>\n",
              "      <th>0</th>\n",
              "      <td>NaN</td>\n",
              "      <td>NaN</td>\n",
              "      <td>Our Deeds are the Reason of this #earthquake M...</td>\n",
              "      <td>1</td>\n",
              "    </tr>\n",
              "    <tr>\n",
              "      <th>1</th>\n",
              "      <td>NaN</td>\n",
              "      <td>NaN</td>\n",
              "      <td>Forest fire near La Ronge Sask. Canada</td>\n",
              "      <td>1</td>\n",
              "    </tr>\n",
              "    <tr>\n",
              "      <th>2</th>\n",
              "      <td>NaN</td>\n",
              "      <td>NaN</td>\n",
              "      <td>All residents asked to 'shelter in place' are ...</td>\n",
              "      <td>1</td>\n",
              "    </tr>\n",
              "    <tr>\n",
              "      <th>3</th>\n",
              "      <td>NaN</td>\n",
              "      <td>NaN</td>\n",
              "      <td>13,000 people receive #wildfires evacuation or...</td>\n",
              "      <td>1</td>\n",
              "    </tr>\n",
              "    <tr>\n",
              "      <th>4</th>\n",
              "      <td>NaN</td>\n",
              "      <td>NaN</td>\n",
              "      <td>Just got sent this photo from Ruby #Alaska as ...</td>\n",
              "      <td>1</td>\n",
              "    </tr>\n",
              "  </tbody>\n",
              "</table>\n",
              "</div>"
            ],
            "text/plain": [
              "  keyword location                                               text  target\n",
              "0     NaN      NaN  Our Deeds are the Reason of this #earthquake M...       1\n",
              "1     NaN      NaN             Forest fire near La Ronge Sask. Canada       1\n",
              "2     NaN      NaN  All residents asked to 'shelter in place' are ...       1\n",
              "3     NaN      NaN  13,000 people receive #wildfires evacuation or...       1\n",
              "4     NaN      NaN  Just got sent this photo from Ruby #Alaska as ...       1"
            ]
          },
          "metadata": {
            "tags": []
          },
          "execution_count": 231
        }
      ]
    },
    {
      "cell_type": "markdown",
      "metadata": {
        "id": "p9iCOxiyujyS",
        "colab_type": "text"
      },
      "source": [
        "## Preprocesamiento de datos"
      ]
    },
    {
      "cell_type": "code",
      "metadata": {
        "id": "ZXRNZx1alA94",
        "colab_type": "code",
        "outputId": "95acb766-6f4f-4ae0-aad2-ccc077811225",
        "colab": {
          "base_uri": "https://localhost:8080/",
          "height": 204
        }
      },
      "source": [
        "# Verifico que no haya instancias nulas o filas completas nulas\n",
        "df_train=df_train.dropna(how=\"all\")\n",
        "df_train.info()"
      ],
      "execution_count": 232,
      "outputs": [
        {
          "output_type": "stream",
          "text": [
            "<class 'pandas.core.frame.DataFrame'>\n",
            "Int64Index: 7613 entries, 0 to 7612\n",
            "Data columns (total 4 columns):\n",
            " #   Column    Non-Null Count  Dtype \n",
            "---  ------    --------------  ----- \n",
            " 0   keyword   7552 non-null   object\n",
            " 1   location  5080 non-null   object\n",
            " 2   text      7613 non-null   object\n",
            " 3   target    7613 non-null   int64 \n",
            "dtypes: int64(1), object(3)\n",
            "memory usage: 297.4+ KB\n"
          ],
          "name": "stdout"
        }
      ]
    },
    {
      "cell_type": "code",
      "metadata": {
        "id": "mOvXdYdllC3Y",
        "colab_type": "code",
        "outputId": "f33b57a7-cd08-43e9-96a9-a3159086f0c1",
        "colab": {
          "base_uri": "https://localhost:8080/",
          "height": 204
        }
      },
      "source": [
        "# Normalizo el dataframe los registros NaN con texto\n",
        "df_train=df_train.fillna({'keyword': 'sin keyword',\\\n",
        "                   'location': 'sin location'})\n",
        "df_train.info()"
      ],
      "execution_count": 233,
      "outputs": [
        {
          "output_type": "stream",
          "text": [
            "<class 'pandas.core.frame.DataFrame'>\n",
            "Int64Index: 7613 entries, 0 to 7612\n",
            "Data columns (total 4 columns):\n",
            " #   Column    Non-Null Count  Dtype \n",
            "---  ------    --------------  ----- \n",
            " 0   keyword   7613 non-null   object\n",
            " 1   location  7613 non-null   object\n",
            " 2   text      7613 non-null   object\n",
            " 3   target    7613 non-null   int64 \n",
            "dtypes: int64(1), object(3)\n",
            "memory usage: 297.4+ KB\n"
          ],
          "name": "stdout"
        }
      ]
    },
    {
      "cell_type": "code",
      "metadata": {
        "id": "T0LlgXdAlHEw",
        "colab_type": "code",
        "outputId": "a9dd343b-f093-461a-bdeb-2f9bf9adf56c",
        "colab": {
          "base_uri": "https://localhost:8080/",
          "height": 204
        }
      },
      "source": [
        "# Eliminamos los tweets duplicados considerando que su cantidad no tiene impacto en el análisis.\n",
        "df_train=df_train.drop_duplicates('text')\n",
        "df_train.info()"
      ],
      "execution_count": 234,
      "outputs": [
        {
          "output_type": "stream",
          "text": [
            "<class 'pandas.core.frame.DataFrame'>\n",
            "Int64Index: 7503 entries, 0 to 7612\n",
            "Data columns (total 4 columns):\n",
            " #   Column    Non-Null Count  Dtype \n",
            "---  ------    --------------  ----- \n",
            " 0   keyword   7503 non-null   object\n",
            " 1   location  7503 non-null   object\n",
            " 2   text      7503 non-null   object\n",
            " 3   target    7503 non-null   int64 \n",
            "dtypes: int64(1), object(3)\n",
            "memory usage: 293.1+ KB\n"
          ],
          "name": "stdout"
        }
      ]
    },
    {
      "cell_type": "code",
      "metadata": {
        "id": "Nb9-OneNlV2G",
        "colab_type": "code",
        "outputId": "a419acca-3897-4fac-fde3-6aca3a095280",
        "colab": {
          "base_uri": "https://localhost:8080/",
          "height": 102
        }
      },
      "source": [
        "# Verificamos la existencia de valores nulos\n",
        "df_train.isnull().any()"
      ],
      "execution_count": 235,
      "outputs": [
        {
          "output_type": "execute_result",
          "data": {
            "text/plain": [
              "keyword     False\n",
              "location    False\n",
              "text        False\n",
              "target      False\n",
              "dtype: bool"
            ]
          },
          "metadata": {
            "tags": []
          },
          "execution_count": 235
        }
      ]
    },
    {
      "cell_type": "markdown",
      "metadata": {
        "id": "YDEGwDq3t73p",
        "colab_type": "text"
      },
      "source": [
        "**→ Creamos una serie que hace el conteo de la cant de caracteres del tweet**"
      ]
    },
    {
      "cell_type": "code",
      "metadata": {
        "id": "2d_yYt2jq2Jw",
        "colab_type": "code",
        "outputId": "c093c109-2488-446e-d561-cc2692bdd857",
        "colab": {
          "base_uri": "https://localhost:8080/",
          "height": 111
        }
      },
      "source": [
        "# Creo una columna con el cálculo de las palabras que tiene la columna 'text' y la llamo 'caracteres_tweet'. \n",
        "# Despues consulto con un head()\n",
        "df_train['caracteres_tweet']=df_train['text'].str.len()\n",
        "df_train.head(2)"
      ],
      "execution_count": 236,
      "outputs": [
        {
          "output_type": "execute_result",
          "data": {
            "text/html": [
              "<div>\n",
              "<style scoped>\n",
              "    .dataframe tbody tr th:only-of-type {\n",
              "        vertical-align: middle;\n",
              "    }\n",
              "\n",
              "    .dataframe tbody tr th {\n",
              "        vertical-align: top;\n",
              "    }\n",
              "\n",
              "    .dataframe thead th {\n",
              "        text-align: right;\n",
              "    }\n",
              "</style>\n",
              "<table border=\"1\" class=\"dataframe\">\n",
              "  <thead>\n",
              "    <tr style=\"text-align: right;\">\n",
              "      <th></th>\n",
              "      <th>keyword</th>\n",
              "      <th>location</th>\n",
              "      <th>text</th>\n",
              "      <th>target</th>\n",
              "      <th>caracteres_tweet</th>\n",
              "    </tr>\n",
              "  </thead>\n",
              "  <tbody>\n",
              "    <tr>\n",
              "      <th>0</th>\n",
              "      <td>sin keyword</td>\n",
              "      <td>sin location</td>\n",
              "      <td>Our Deeds are the Reason of this #earthquake M...</td>\n",
              "      <td>1</td>\n",
              "      <td>69</td>\n",
              "    </tr>\n",
              "    <tr>\n",
              "      <th>1</th>\n",
              "      <td>sin keyword</td>\n",
              "      <td>sin location</td>\n",
              "      <td>Forest fire near La Ronge Sask. Canada</td>\n",
              "      <td>1</td>\n",
              "      <td>38</td>\n",
              "    </tr>\n",
              "  </tbody>\n",
              "</table>\n",
              "</div>"
            ],
            "text/plain": [
              "       keyword      location  ... target  caracteres_tweet\n",
              "0  sin keyword  sin location  ...      1                69\n",
              "1  sin keyword  sin location  ...      1                38\n",
              "\n",
              "[2 rows x 5 columns]"
            ]
          },
          "metadata": {
            "tags": []
          },
          "execution_count": 236
        }
      ]
    },
    {
      "cell_type": "markdown",
      "metadata": {
        "id": "d_MtY9MXuFLm",
        "colab_type": "text"
      },
      "source": [
        "### Cálculo de **estadísticas básicas**"
      ]
    },
    {
      "cell_type": "code",
      "metadata": {
        "id": "nwco_I9flXqW",
        "colab_type": "code",
        "outputId": "5ac524e3-695e-4d1b-f2a5-352c5f2674aa",
        "colab": {
          "base_uri": "https://localhost:8080/",
          "height": 0
        }
      },
      "source": [
        "# Calculamos unas estadisticas basicas\n",
        "df_train.describe()"
      ],
      "execution_count": 237,
      "outputs": [
        {
          "output_type": "execute_result",
          "data": {
            "text/html": [
              "<div>\n",
              "<style scoped>\n",
              "    .dataframe tbody tr th:only-of-type {\n",
              "        vertical-align: middle;\n",
              "    }\n",
              "\n",
              "    .dataframe tbody tr th {\n",
              "        vertical-align: top;\n",
              "    }\n",
              "\n",
              "    .dataframe thead th {\n",
              "        text-align: right;\n",
              "    }\n",
              "</style>\n",
              "<table border=\"1\" class=\"dataframe\">\n",
              "  <thead>\n",
              "    <tr style=\"text-align: right;\">\n",
              "      <th></th>\n",
              "      <th>target</th>\n",
              "      <th>caracteres_tweet</th>\n",
              "    </tr>\n",
              "  </thead>\n",
              "  <tbody>\n",
              "    <tr>\n",
              "      <th>count</th>\n",
              "      <td>7503.000000</td>\n",
              "      <td>7503.000000</td>\n",
              "    </tr>\n",
              "    <tr>\n",
              "      <th>mean</th>\n",
              "      <td>0.426230</td>\n",
              "      <td>100.880581</td>\n",
              "    </tr>\n",
              "    <tr>\n",
              "      <th>std</th>\n",
              "      <td>0.494561</td>\n",
              "      <td>33.819457</td>\n",
              "    </tr>\n",
              "    <tr>\n",
              "      <th>min</th>\n",
              "      <td>0.000000</td>\n",
              "      <td>7.000000</td>\n",
              "    </tr>\n",
              "    <tr>\n",
              "      <th>25%</th>\n",
              "      <td>0.000000</td>\n",
              "      <td>77.000000</td>\n",
              "    </tr>\n",
              "    <tr>\n",
              "      <th>50%</th>\n",
              "      <td>0.000000</td>\n",
              "      <td>107.000000</td>\n",
              "    </tr>\n",
              "    <tr>\n",
              "      <th>75%</th>\n",
              "      <td>1.000000</td>\n",
              "      <td>133.000000</td>\n",
              "    </tr>\n",
              "    <tr>\n",
              "      <th>max</th>\n",
              "      <td>1.000000</td>\n",
              "      <td>157.000000</td>\n",
              "    </tr>\n",
              "  </tbody>\n",
              "</table>\n",
              "</div>"
            ],
            "text/plain": [
              "            target  caracteres_tweet\n",
              "count  7503.000000       7503.000000\n",
              "mean      0.426230        100.880581\n",
              "std       0.494561         33.819457\n",
              "min       0.000000          7.000000\n",
              "25%       0.000000         77.000000\n",
              "50%       0.000000        107.000000\n",
              "75%       1.000000        133.000000\n",
              "max       1.000000        157.000000"
            ]
          },
          "metadata": {
            "tags": []
          },
          "execution_count": 237
        }
      ]
    },
    {
      "cell_type": "code",
      "metadata": {
        "id": "VF6Nqw2cqr9C",
        "colab_type": "code",
        "outputId": "72f198cb-50ac-4ca6-9a88-104929fbfd63",
        "colab": {
          "base_uri": "https://localhost:8080/",
          "height": 0
        }
      },
      "source": [
        "#Calculo el promedio y lo asigno a la variable 'df_short_mean'\n",
        "df_train_mean=np.round(df_train['caracteres_tweet'].mean(), decimals=2)\n",
        "df_train_mean"
      ],
      "execution_count": 238,
      "outputs": [
        {
          "output_type": "execute_result",
          "data": {
            "text/plain": [
              "100.88"
            ]
          },
          "metadata": {
            "tags": []
          },
          "execution_count": 238
        }
      ]
    },
    {
      "cell_type": "code",
      "metadata": {
        "id": "zhQeLID8rERy",
        "colab_type": "code",
        "outputId": "49b98cce-1673-44bc-e2cd-f7515731679e",
        "colab": {
          "base_uri": "https://localhost:8080/",
          "height": 0
        }
      },
      "source": [
        "# Calculo la mediana, para tener presente como impacta max() y min() en la distribución\n",
        "df_train_median=np.round(df_train['caracteres_tweet'].median(), decimals=2)\n",
        "df_train_median"
      ],
      "execution_count": 239,
      "outputs": [
        {
          "output_type": "execute_result",
          "data": {
            "text/plain": [
              "107.0"
            ]
          },
          "metadata": {
            "tags": []
          },
          "execution_count": 239
        }
      ]
    },
    {
      "cell_type": "code",
      "metadata": {
        "id": "gWygc3Stlq_X",
        "colab_type": "code",
        "outputId": "4dbbd939-cef3-4def-df46-4f9a31cb642d",
        "colab": {
          "base_uri": "https://localhost:8080/",
          "height": 0
        }
      },
      "source": [
        "# cuento total de tweets analizados\n",
        "total_tweets=len(df_train)\n",
        "total_tweets"
      ],
      "execution_count": 240,
      "outputs": [
        {
          "output_type": "execute_result",
          "data": {
            "text/plain": [
              "7503"
            ]
          },
          "metadata": {
            "tags": []
          },
          "execution_count": 240
        }
      ]
    },
    {
      "cell_type": "code",
      "metadata": {
        "id": "lC_QJl2ElsDe",
        "colab_type": "code",
        "outputId": "e58bf3ba-b5c0-4d67-c7d4-4a566df5b197",
        "colab": {
          "base_uri": "https://localhost:8080/",
          "height": 0
        }
      },
      "source": [
        "# verifico cuantos son verdaderos\n",
        "tweets_verdaderos=(df_train['target']==1).sum()\n",
        "tweets_verdaderos"
      ],
      "execution_count": 241,
      "outputs": [
        {
          "output_type": "execute_result",
          "data": {
            "text/plain": [
              "3198"
            ]
          },
          "metadata": {
            "tags": []
          },
          "execution_count": 241
        }
      ]
    },
    {
      "cell_type": "code",
      "metadata": {
        "id": "4GRb5WQqlv_-",
        "colab_type": "code",
        "outputId": "d5771c78-9882-4a96-bc33-4848820b71e0",
        "colab": {
          "base_uri": "https://localhost:8080/",
          "height": 0
        }
      },
      "source": [
        "# verifico cuantos son fakes\n",
        "tweets_falsos=(df_train['target']==0).sum()\n",
        "tweets_falsos"
      ],
      "execution_count": 242,
      "outputs": [
        {
          "output_type": "execute_result",
          "data": {
            "text/plain": [
              "4305"
            ]
          },
          "metadata": {
            "tags": []
          },
          "execution_count": 242
        }
      ]
    },
    {
      "cell_type": "code",
      "metadata": {
        "id": "rJ2uydMUmFaA",
        "colab_type": "code",
        "outputId": "8bcaf2fb-d6c3-4ce5-806c-0872326a3e04",
        "colab": {
          "base_uri": "https://localhost:8080/",
          "height": 0
        }
      },
      "source": [
        "# calculo la probabilidad (casos favorables/sobre casos posibles) → en este casos es equivalente .mean()\n",
        "probabilidad_tweet_verdadero = np.round((tweets_verdaderos)/(total_tweets),decimals=5)\n",
        "probabilidad_tweet_verdadero"
      ],
      "execution_count": 243,
      "outputs": [
        {
          "output_type": "execute_result",
          "data": {
            "text/plain": [
              "0.42623"
            ]
          },
          "metadata": {
            "tags": []
          },
          "execution_count": 243
        }
      ]
    },
    {
      "cell_type": "code",
      "metadata": {
        "id": "pOPpR4_CmHv2",
        "colab_type": "code",
        "outputId": "22cd5f53-4659-4eff-95e5-1cc480be13aa",
        "colab": {
          "base_uri": "https://localhost:8080/",
          "height": 0
        }
      },
      "source": [
        "# calculo la probabilidad (casos favorables/sobre casos posibles) → en este casos es equivalente .mean()\n",
        "probabilidad_tweet_falso = np.round((tweets_falsos)/(total_tweets),decimals=2)\n",
        "probabilidad_tweet_falso"
      ],
      "execution_count": 244,
      "outputs": [
        {
          "output_type": "execute_result",
          "data": {
            "text/plain": [
              "0.57"
            ]
          },
          "metadata": {
            "tags": []
          },
          "execution_count": 244
        }
      ]
    },
    {
      "cell_type": "markdown",
      "metadata": {
        "id": "8EaWbBRNmjIV",
        "colab_type": "text"
      },
      "source": [
        "**→ Asignación de variables para cálculos**"
      ]
    },
    {
      "cell_type": "code",
      "metadata": {
        "id": "WVWB5x-nmcCM",
        "colab_type": "code",
        "outputId": "5e11f304-a4dd-499c-9938-3eda19faa530",
        "colab": {
          "base_uri": "https://localhost:8080/",
          "height": 0
        }
      },
      "source": [
        "# Asigno a variables para que se puedan operar alfabéticamente\n",
        "tweets_verdaderos=df_train['target']==1\n",
        "tweets_verdaderos.head()\n",
        "# Verifico cantidad de tweets verdaderos\n",
        "tweets_verdaderos.sum()"
      ],
      "execution_count": 245,
      "outputs": [
        {
          "output_type": "execute_result",
          "data": {
            "text/plain": [
              "3198"
            ]
          },
          "metadata": {
            "tags": []
          },
          "execution_count": 245
        }
      ]
    },
    {
      "cell_type": "code",
      "metadata": {
        "id": "DjG6uIQ9soGu",
        "colab_type": "code",
        "outputId": "8e2704a3-1fc1-4b2a-908d-13246bb9312a",
        "colab": {
          "base_uri": "https://localhost:8080/",
          "height": 0
        }
      },
      "source": [
        "# Aplico la misma acción para tweets fakes\n",
        "# verifico cantidad de tweets fakes\n",
        "tweets_fake=df_train['target']==0\n",
        "tweets_fake.head()\n",
        "tweets_fake.sum()"
      ],
      "execution_count": 246,
      "outputs": [
        {
          "output_type": "execute_result",
          "data": {
            "text/plain": [
              "4305"
            ]
          },
          "metadata": {
            "tags": []
          },
          "execution_count": 246
        }
      ]
    },
    {
      "cell_type": "code",
      "metadata": {
        "id": "4L3VGVNbmQud",
        "colab_type": "code",
        "outputId": "844f2396-e565-4cd8-b44e-d79af91c92cb",
        "colab": {
          "base_uri": "https://localhost:8080/",
          "height": 0
        }
      },
      "source": [
        "# Asigno a la variable 'tweets_mayor_promedio', los tweets que tienen un promedio en cant de registros > Promedio (de caracteres de tweets del DF)\n",
        "# Me va a servir para ver mas adelante como es su distribución\n",
        "tweets_mayor_promedio=df_train['caracteres_tweet']>=(df_train_mean)\n",
        "# Hago un .head() para verificar para despues hacer la suma de tweets con una cant de caracteres mayor al promedio\n",
        "print(tweets_mayor_promedio.head())\n",
        "tweets_mayor_promedio.sum()"
      ],
      "execution_count": 247,
      "outputs": [
        {
          "output_type": "stream",
          "text": [
            "0    False\n",
            "1    False\n",
            "2     True\n",
            "3    False\n",
            "4    False\n",
            "Name: caracteres_tweet, dtype: bool\n"
          ],
          "name": "stdout"
        },
        {
          "output_type": "execute_result",
          "data": {
            "text/plain": [
              "4141"
            ]
          },
          "metadata": {
            "tags": []
          },
          "execution_count": 247
        }
      ]
    },
    {
      "cell_type": "code",
      "metadata": {
        "id": "3BzKcwdBs74g",
        "colab_type": "code",
        "outputId": "b93213dc-7e08-442f-c7c3-17d48417269f",
        "colab": {
          "base_uri": "https://localhost:8080/",
          "height": 0
        }
      },
      "source": [
        "# Lo mismo que el apartado anterior, con la diferencia que traigo en la variable 'tweets_menor_promedio' \n",
        "# aquellos registros que son menor al promedio\n",
        "tweets_menor_promedio=df_train['caracteres_tweet']<(df_train_mean)\n",
        "tweets_menor_promedio.sum()"
      ],
      "execution_count": 248,
      "outputs": [
        {
          "output_type": "execute_result",
          "data": {
            "text/plain": [
              "3362"
            ]
          },
          "metadata": {
            "tags": []
          },
          "execution_count": 248
        }
      ]
    },
    {
      "cell_type": "code",
      "metadata": {
        "id": "8A7T1m9fvfUl",
        "colab_type": "code",
        "outputId": "b6942021-73cc-4ca8-fdfb-695c323448d4",
        "colab": {
          "base_uri": "https://localhost:8080/",
          "height": 0
        }
      },
      "source": [
        "# Por un tema de comodidad, creo una nueva columna con la referencia al valor booleano de la variable 'target'.\n",
        "# 0=tweet falso | 1=tweet verdadero\n",
        "df_train['tweet_type']=np.where(df_train['target']==1,\"tweet verdadero\",\"tweet falso\")\n",
        "df_train.head(2)"
      ],
      "execution_count": 249,
      "outputs": [
        {
          "output_type": "execute_result",
          "data": {
            "text/html": [
              "<div>\n",
              "<style scoped>\n",
              "    .dataframe tbody tr th:only-of-type {\n",
              "        vertical-align: middle;\n",
              "    }\n",
              "\n",
              "    .dataframe tbody tr th {\n",
              "        vertical-align: top;\n",
              "    }\n",
              "\n",
              "    .dataframe thead th {\n",
              "        text-align: right;\n",
              "    }\n",
              "</style>\n",
              "<table border=\"1\" class=\"dataframe\">\n",
              "  <thead>\n",
              "    <tr style=\"text-align: right;\">\n",
              "      <th></th>\n",
              "      <th>keyword</th>\n",
              "      <th>location</th>\n",
              "      <th>text</th>\n",
              "      <th>target</th>\n",
              "      <th>caracteres_tweet</th>\n",
              "      <th>tweet_type</th>\n",
              "    </tr>\n",
              "  </thead>\n",
              "  <tbody>\n",
              "    <tr>\n",
              "      <th>0</th>\n",
              "      <td>sin keyword</td>\n",
              "      <td>sin location</td>\n",
              "      <td>Our Deeds are the Reason of this #earthquake M...</td>\n",
              "      <td>1</td>\n",
              "      <td>69</td>\n",
              "      <td>tweet verdadero</td>\n",
              "    </tr>\n",
              "    <tr>\n",
              "      <th>1</th>\n",
              "      <td>sin keyword</td>\n",
              "      <td>sin location</td>\n",
              "      <td>Forest fire near La Ronge Sask. Canada</td>\n",
              "      <td>1</td>\n",
              "      <td>38</td>\n",
              "      <td>tweet verdadero</td>\n",
              "    </tr>\n",
              "  </tbody>\n",
              "</table>\n",
              "</div>"
            ],
            "text/plain": [
              "       keyword      location  ... caracteres_tweet       tweet_type\n",
              "0  sin keyword  sin location  ...               69  tweet verdadero\n",
              "1  sin keyword  sin location  ...               38  tweet verdadero\n",
              "\n",
              "[2 rows x 6 columns]"
            ]
          },
          "metadata": {
            "tags": []
          },
          "execution_count": 249
        }
      ]
    },
    {
      "cell_type": "code",
      "metadata": {
        "id": "1z9gXmPevtnx",
        "colab_type": "code",
        "outputId": "7f619ae8-b06c-42c9-f875-f75319f1de47",
        "colab": {
          "base_uri": "https://localhost:8080/",
          "height": 0
        }
      },
      "source": [
        "# Reverifico\n",
        "pd.value_counts(df_train['tweet_type'])"
      ],
      "execution_count": 250,
      "outputs": [
        {
          "output_type": "execute_result",
          "data": {
            "text/plain": [
              "tweet falso        4305\n",
              "tweet verdadero    3198\n",
              "Name: tweet_type, dtype: int64"
            ]
          },
          "metadata": {
            "tags": []
          },
          "execution_count": 250
        }
      ]
    },
    {
      "cell_type": "code",
      "metadata": {
        "id": "FXAQy5OyvyWB",
        "colab_type": "code",
        "outputId": "07bf9748-1522-49be-d188-229cd83bff14",
        "colab": {
          "base_uri": "https://localhost:8080/",
          "height": 0
        }
      },
      "source": [
        "# Armo una tabla de frecuencia de las variables\n",
        "100*df_train['tweet_type'].value_counts()/len(df_train['tweet_type'])"
      ],
      "execution_count": 251,
      "outputs": [
        {
          "output_type": "execute_result",
          "data": {
            "text/plain": [
              "tweet falso        57.377049\n",
              "tweet verdadero    42.622951\n",
              "Name: tweet_type, dtype: float64"
            ]
          },
          "metadata": {
            "tags": []
          },
          "execution_count": 251
        }
      ]
    },
    {
      "cell_type": "code",
      "metadata": {
        "id": "0SBbRp_fv2Aw",
        "colab_type": "code",
        "outputId": "bf903b55-e458-46e4-b3d4-2a117c978dcb",
        "colab": {
          "base_uri": "https://localhost:8080/",
          "height": 0
        }
      },
      "source": [
        "# Agrego una categoría para agrupar por promedio\n",
        "df_train['avg_category']=np.where(df_train['caracteres_tweet']>=(df_train_mean)\\\n",
        "                                  ,\"tw w/characts.above AVG ocurrs.\",\"tw w/characts.below AVG ocurrs\") \n",
        "df_train.head()"
      ],
      "execution_count": 252,
      "outputs": [
        {
          "output_type": "execute_result",
          "data": {
            "text/html": [
              "<div>\n",
              "<style scoped>\n",
              "    .dataframe tbody tr th:only-of-type {\n",
              "        vertical-align: middle;\n",
              "    }\n",
              "\n",
              "    .dataframe tbody tr th {\n",
              "        vertical-align: top;\n",
              "    }\n",
              "\n",
              "    .dataframe thead th {\n",
              "        text-align: right;\n",
              "    }\n",
              "</style>\n",
              "<table border=\"1\" class=\"dataframe\">\n",
              "  <thead>\n",
              "    <tr style=\"text-align: right;\">\n",
              "      <th></th>\n",
              "      <th>keyword</th>\n",
              "      <th>location</th>\n",
              "      <th>text</th>\n",
              "      <th>target</th>\n",
              "      <th>caracteres_tweet</th>\n",
              "      <th>tweet_type</th>\n",
              "      <th>avg_category</th>\n",
              "    </tr>\n",
              "  </thead>\n",
              "  <tbody>\n",
              "    <tr>\n",
              "      <th>0</th>\n",
              "      <td>sin keyword</td>\n",
              "      <td>sin location</td>\n",
              "      <td>Our Deeds are the Reason of this #earthquake M...</td>\n",
              "      <td>1</td>\n",
              "      <td>69</td>\n",
              "      <td>tweet verdadero</td>\n",
              "      <td>tw w/characts.below AVG ocurrs</td>\n",
              "    </tr>\n",
              "    <tr>\n",
              "      <th>1</th>\n",
              "      <td>sin keyword</td>\n",
              "      <td>sin location</td>\n",
              "      <td>Forest fire near La Ronge Sask. Canada</td>\n",
              "      <td>1</td>\n",
              "      <td>38</td>\n",
              "      <td>tweet verdadero</td>\n",
              "      <td>tw w/characts.below AVG ocurrs</td>\n",
              "    </tr>\n",
              "    <tr>\n",
              "      <th>2</th>\n",
              "      <td>sin keyword</td>\n",
              "      <td>sin location</td>\n",
              "      <td>All residents asked to 'shelter in place' are ...</td>\n",
              "      <td>1</td>\n",
              "      <td>133</td>\n",
              "      <td>tweet verdadero</td>\n",
              "      <td>tw w/characts.above AVG ocurrs.</td>\n",
              "    </tr>\n",
              "    <tr>\n",
              "      <th>3</th>\n",
              "      <td>sin keyword</td>\n",
              "      <td>sin location</td>\n",
              "      <td>13,000 people receive #wildfires evacuation or...</td>\n",
              "      <td>1</td>\n",
              "      <td>65</td>\n",
              "      <td>tweet verdadero</td>\n",
              "      <td>tw w/characts.below AVG ocurrs</td>\n",
              "    </tr>\n",
              "    <tr>\n",
              "      <th>4</th>\n",
              "      <td>sin keyword</td>\n",
              "      <td>sin location</td>\n",
              "      <td>Just got sent this photo from Ruby #Alaska as ...</td>\n",
              "      <td>1</td>\n",
              "      <td>88</td>\n",
              "      <td>tweet verdadero</td>\n",
              "      <td>tw w/characts.below AVG ocurrs</td>\n",
              "    </tr>\n",
              "  </tbody>\n",
              "</table>\n",
              "</div>"
            ],
            "text/plain": [
              "       keyword      location  ...       tweet_type                     avg_category\n",
              "0  sin keyword  sin location  ...  tweet verdadero   tw w/characts.below AVG ocurrs\n",
              "1  sin keyword  sin location  ...  tweet verdadero   tw w/characts.below AVG ocurrs\n",
              "2  sin keyword  sin location  ...  tweet verdadero  tw w/characts.above AVG ocurrs.\n",
              "3  sin keyword  sin location  ...  tweet verdadero   tw w/characts.below AVG ocurrs\n",
              "4  sin keyword  sin location  ...  tweet verdadero   tw w/characts.below AVG ocurrs\n",
              "\n",
              "[5 rows x 7 columns]"
            ]
          },
          "metadata": {
            "tags": []
          },
          "execution_count": 252
        }
      ]
    },
    {
      "cell_type": "code",
      "metadata": {
        "id": "HXGL_QZBwH_Y",
        "colab_type": "code",
        "outputId": "234d898c-16d4-4c3b-c8dc-d3ff5ce9de61",
        "colab": {
          "base_uri": "https://localhost:8080/",
          "height": 0
        }
      },
      "source": [
        "# Relaciono las variables con una tabla de contingencia (%)\n",
        "pd.crosstab(index=df_train['tweet_type'], columns=df_train['avg_category'], \\\n",
        "            margins=True).apply(lambda x:x/len(df_train)*100,axis=1)"
      ],
      "execution_count": 253,
      "outputs": [
        {
          "output_type": "execute_result",
          "data": {
            "text/html": [
              "<div>\n",
              "<style scoped>\n",
              "    .dataframe tbody tr th:only-of-type {\n",
              "        vertical-align: middle;\n",
              "    }\n",
              "\n",
              "    .dataframe tbody tr th {\n",
              "        vertical-align: top;\n",
              "    }\n",
              "\n",
              "    .dataframe thead th {\n",
              "        text-align: right;\n",
              "    }\n",
              "</style>\n",
              "<table border=\"1\" class=\"dataframe\">\n",
              "  <thead>\n",
              "    <tr style=\"text-align: right;\">\n",
              "      <th>avg_category</th>\n",
              "      <th>tw w/characts.above AVG ocurrs.</th>\n",
              "      <th>tw w/characts.below AVG ocurrs</th>\n",
              "      <th>All</th>\n",
              "    </tr>\n",
              "    <tr>\n",
              "      <th>tweet_type</th>\n",
              "      <th></th>\n",
              "      <th></th>\n",
              "      <th></th>\n",
              "    </tr>\n",
              "  </thead>\n",
              "  <tbody>\n",
              "    <tr>\n",
              "      <th>tweet falso</th>\n",
              "      <td>28.708517</td>\n",
              "      <td>28.668533</td>\n",
              "      <td>57.377049</td>\n",
              "    </tr>\n",
              "    <tr>\n",
              "      <th>tweet verdadero</th>\n",
              "      <td>26.482740</td>\n",
              "      <td>16.140211</td>\n",
              "      <td>42.622951</td>\n",
              "    </tr>\n",
              "    <tr>\n",
              "      <th>All</th>\n",
              "      <td>55.191257</td>\n",
              "      <td>44.808743</td>\n",
              "      <td>100.000000</td>\n",
              "    </tr>\n",
              "  </tbody>\n",
              "</table>\n",
              "</div>"
            ],
            "text/plain": [
              "avg_category     tw w/characts.above AVG ocurrs.  ...         All\n",
              "tweet_type                                        ...            \n",
              "tweet falso                            28.708517  ...   57.377049\n",
              "tweet verdadero                        26.482740  ...   42.622951\n",
              "All                                    55.191257  ...  100.000000\n",
              "\n",
              "[3 rows x 3 columns]"
            ]
          },
          "metadata": {
            "tags": []
          },
          "execution_count": 253
        }
      ]
    },
    {
      "cell_type": "markdown",
      "metadata": {
        "id": "XOrIhLYkxwpi",
        "colab_type": "text"
      },
      "source": [
        "### Gráfico **Overlaid Density Plots** [Distribución]"
      ]
    },
    {
      "cell_type": "code",
      "metadata": {
        "id": "KOhVWAzsxn3B",
        "colab_type": "code",
        "outputId": "dafcc2a7-ac1d-40da-e31f-f5aea6149565",
        "colab": {
          "base_uri": "https://localhost:8080/",
          "height": 479
        }
      },
      "source": [
        "# grafico de tabla de contingencia de los tweets falsos vs tweets v en funcion del promedio de caracteres\n",
        "graph_distrb=sns.kdeplot(df_train[df_train['tweet_type']==\"tweet verdadero\"]['caracteres_tweet'],\\\n",
        "                         color=\"orange\", label=\"distribution on TRUE avg tweets\", shade=True)\n",
        "\n",
        "graph_distrb=sns.kdeplot(df_train[df_train['tweet_type']==\"tweet falso\"]['caracteres_tweet'], \\\n",
        "                         color=\"blue\", label=\"distribution on FAKE avg tweets\", shade=True)\n",
        "\n",
        "graph_distrb.set_title(\"avg tweets characters Distribution\", fontsize=18)\n",
        "graph_distrb.set_ylabel(\"Densidad\", fontsize=18)"
      ],
      "execution_count": 254,
      "outputs": [
        {
          "output_type": "execute_result",
          "data": {
            "text/plain": [
              "Text(0, 0.5, 'Densidad')"
            ]
          },
          "metadata": {
            "tags": []
          },
          "execution_count": 254
        },
        {
          "output_type": "display_data",
          "data": {
            "image/png": "[encoded data removed]",
            "text/plain": [
              "<Figure size 640x480 with 1 Axes>"
            ]
          },
          "metadata": {
            "tags": []
          }
        }
      ]
    },
    {
      "cell_type": "code",
      "metadata": {
        "id": "d9N75GarzeJm",
        "colab_type": "code",
        "colab": {}
      },
      "source": [
        ""
      ],
      "execution_count": 0,
      "outputs": []
    },
    {
      "cell_type": "markdown",
      "metadata": {
        "id": "1bhMB0YIwfNw",
        "colab_type": "text"
      },
      "source": [
        "### **Análisis & tokenización**"
      ]
    },
    {
      "cell_type": "code",
      "metadata": {
        "id": "T8_xHK_VwlSA",
        "colab_type": "code",
        "colab": {}
      },
      "source": [
        "# Función de tokenización\n",
        "import string\n",
        "punctuation = set(string.punctuation)\n",
        "\n",
        "def tokenize(sentence):\n",
        "    tokens = []\n",
        "    for token in sentence.split():\n",
        "        new_token = []\n",
        "        for character in token:\n",
        "            if character not in punctuation:\n",
        "                new_token.append(character.lower())\n",
        "        if new_token:\n",
        "            tokens.append(\"\".join(new_token))\n",
        "    return tokens"
      ],
      "execution_count": 0,
      "outputs": []
    },
    {
      "cell_type": "code",
      "metadata": {
        "id": "ArzzacYN81ad",
        "colab_type": "code",
        "outputId": "36fd1c21-e2ee-4e79-ed98-c65ffd63741a",
        "colab": {
          "base_uri": "https://localhost:8080/",
          "height": 0
        }
      },
      "source": [
        "# Creo la serie 'text_vector'\n",
        "df_train['text_vector']=df_train['text'].apply(tokenize)\n",
        "df_train.head(2)"
      ],
      "execution_count": 256,
      "outputs": [
        {
          "output_type": "execute_result",
          "data": {
            "text/html": [
              "<div>\n",
              "<style scoped>\n",
              "    .dataframe tbody tr th:only-of-type {\n",
              "        vertical-align: middle;\n",
              "    }\n",
              "\n",
              "    .dataframe tbody tr th {\n",
              "        vertical-align: top;\n",
              "    }\n",
              "\n",
              "    .dataframe thead th {\n",
              "        text-align: right;\n",
              "    }\n",
              "</style>\n",
              "<table border=\"1\" class=\"dataframe\">\n",
              "  <thead>\n",
              "    <tr style=\"text-align: right;\">\n",
              "      <th></th>\n",
              "      <th>keyword</th>\n",
              "      <th>location</th>\n",
              "      <th>text</th>\n",
              "      <th>target</th>\n",
              "      <th>caracteres_tweet</th>\n",
              "      <th>tweet_type</th>\n",
              "      <th>avg_category</th>\n",
              "      <th>text_vector</th>\n",
              "    </tr>\n",
              "  </thead>\n",
              "  <tbody>\n",
              "    <tr>\n",
              "      <th>0</th>\n",
              "      <td>sin keyword</td>\n",
              "      <td>sin location</td>\n",
              "      <td>Our Deeds are the Reason of this #earthquake M...</td>\n",
              "      <td>1</td>\n",
              "      <td>69</td>\n",
              "      <td>tweet verdadero</td>\n",
              "      <td>tw w/characts.below AVG ocurrs</td>\n",
              "      <td>[our, deeds, are, the, reason, of, this, earth...</td>\n",
              "    </tr>\n",
              "    <tr>\n",
              "      <th>1</th>\n",
              "      <td>sin keyword</td>\n",
              "      <td>sin location</td>\n",
              "      <td>Forest fire near La Ronge Sask. Canada</td>\n",
              "      <td>1</td>\n",
              "      <td>38</td>\n",
              "      <td>tweet verdadero</td>\n",
              "      <td>tw w/characts.below AVG ocurrs</td>\n",
              "      <td>[forest, fire, near, la, ronge, sask, canada]</td>\n",
              "    </tr>\n",
              "  </tbody>\n",
              "</table>\n",
              "</div>"
            ],
            "text/plain": [
              "       keyword  ...                                        text_vector\n",
              "0  sin keyword  ...  [our, deeds, are, the, reason, of, this, earth...\n",
              "1  sin keyword  ...      [forest, fire, near, la, ronge, sask, canada]\n",
              "\n",
              "[2 rows x 8 columns]"
            ]
          },
          "metadata": {
            "tags": []
          },
          "execution_count": 256
        }
      ]
    },
    {
      "cell_type": "code",
      "metadata": {
        "id": "qaBYYZ7T8_FC",
        "colab_type": "code",
        "outputId": "cc778e72-805d-464f-807b-fbc4199791d6",
        "colab": {
          "base_uri": "https://localhost:8080/",
          "height": 0
        }
      },
      "source": [
        "# Verifico integridad de DF\n",
        "df_train.info()"
      ],
      "execution_count": 257,
      "outputs": [
        {
          "output_type": "stream",
          "text": [
            "<class 'pandas.core.frame.DataFrame'>\n",
            "Int64Index: 7503 entries, 0 to 7612\n",
            "Data columns (total 8 columns):\n",
            " #   Column            Non-Null Count  Dtype \n",
            "---  ------            --------------  ----- \n",
            " 0   keyword           7503 non-null   object\n",
            " 1   location          7503 non-null   object\n",
            " 2   text              7503 non-null   object\n",
            " 3   target            7503 non-null   int64 \n",
            " 4   caracteres_tweet  7503 non-null   int64 \n",
            " 5   tweet_type        7503 non-null   object\n",
            " 6   avg_category      7503 non-null   object\n",
            " 7   text_vector       7503 non-null   object\n",
            "dtypes: int64(2), object(6)\n",
            "memory usage: 527.6+ KB\n"
          ],
          "name": "stdout"
        }
      ]
    },
    {
      "cell_type": "code",
      "metadata": {
        "id": "6E8x1l769CIg",
        "colab_type": "code",
        "outputId": "5ae4003e-1c64-4bf1-abd8-868b3b784162",
        "colab": {
          "base_uri": "https://localhost:8080/",
          "height": 0
        }
      },
      "source": [
        "# Descargo e importo lista de stopwords para filtrar\n",
        "import nltk\n",
        "nltk.download('stopwords')"
      ],
      "execution_count": 258,
      "outputs": [
        {
          "output_type": "stream",
          "text": [
            "[nltk_data] Downloading package stopwords to /root/nltk_data...\n",
            "[nltk_data]   Package stopwords is already up-to-date!\n"
          ],
          "name": "stdout"
        },
        {
          "output_type": "execute_result",
          "data": {
            "text/plain": [
              "True"
            ]
          },
          "metadata": {
            "tags": []
          },
          "execution_count": 258
        }
      ]
    },
    {
      "cell_type": "code",
      "metadata": {
        "id": "rNiZDXDG9vDi",
        "colab_type": "code",
        "outputId": "bf7b0570-7f0c-4b49-e827-9dd679be753e",
        "colab": {
          "base_uri": "https://localhost:8080/",
          "height": 0
        }
      },
      "source": [
        "from nltk.corpus import stopwords\n",
        "stopwords.fileids()"
      ],
      "execution_count": 259,
      "outputs": [
        {
          "output_type": "execute_result",
          "data": {
            "text/plain": [
              "['arabic',\n",
              " 'azerbaijani',\n",
              " 'danish',\n",
              " 'dutch',\n",
              " 'english',\n",
              " 'finnish',\n",
              " 'french',\n",
              " 'german',\n",
              " 'greek',\n",
              " 'hungarian',\n",
              " 'indonesian',\n",
              " 'italian',\n",
              " 'kazakh',\n",
              " 'nepali',\n",
              " 'norwegian',\n",
              " 'portuguese',\n",
              " 'romanian',\n",
              " 'russian',\n",
              " 'slovene',\n",
              " 'spanish',\n",
              " 'swedish',\n",
              " 'tajik',\n",
              " 'turkish']"
            ]
          },
          "metadata": {
            "tags": []
          },
          "execution_count": 259
        }
      ]
    },
    {
      "cell_type": "code",
      "metadata": {
        "id": "_bT2hiea9ySY",
        "colab_type": "code",
        "colab": {}
      },
      "source": [
        "# Asigno en la variable 'stop' la categoria de stopword por la que voy a realizar el filtro\n",
        "stop=stopwords.words('english')"
      ],
      "execution_count": 0,
      "outputs": []
    },
    {
      "cell_type": "code",
      "metadata": {
        "id": "cxbeEFDF-ewr",
        "colab_type": "code",
        "colab": {}
      },
      "source": [
        "def filtro(text_vector):\n",
        "  text_vector_filtrado = []\n",
        "  for palabra in text_vector:\n",
        "    if palabra not in stop:\n",
        "      text_vector_filtrado.append(palabra)\n",
        "  return(text_vector_filtrado)"
      ],
      "execution_count": 0,
      "outputs": []
    },
    {
      "cell_type": "code",
      "metadata": {
        "id": "A6Bb1hKl-g5n",
        "colab_type": "code",
        "outputId": "56731372-45f7-4e11-d4d7-e379ecbfab1a",
        "colab": {
          "base_uri": "https://localhost:8080/",
          "height": 0
        }
      },
      "source": [
        "# Tokens filtrados por stopwords en inglés\n",
        "df_train['text_vector_filtrado']=df_train['text_vector'].apply(filtro)\n",
        "df_train['text_vector_filtrado'].head()"
      ],
      "execution_count": 262,
      "outputs": [
        {
          "output_type": "execute_result",
          "data": {
            "text/plain": [
              "0    [deeds, reason, earthquake, may, allah, forgiv...\n",
              "1        [forest, fire, near, la, ronge, sask, canada]\n",
              "2    [residents, asked, shelter, place, notified, o...\n",
              "3    [13000, people, receive, wildfires, evacuation...\n",
              "4    [got, sent, photo, ruby, alaska, smoke, wildfi...\n",
              "Name: text_vector_filtrado, dtype: object"
            ]
          },
          "metadata": {
            "tags": []
          },
          "execution_count": 262
        }
      ]
    },
    {
      "cell_type": "code",
      "metadata": {
        "id": "bTu988Jx-npG",
        "colab_type": "code",
        "outputId": "7e31c0f2-195f-42b6-cafb-d40d9c2191c3",
        "colab": {
          "base_uri": "https://localhost:8080/",
          "height": 0
        }
      },
      "source": [
        "# Asigno en una nueva columna el largo del vector 'text_vector'\n",
        "df_train['elem_vector']=df_train['text_vector'].str.len()\n",
        "df_train.head(2)"
      ],
      "execution_count": 263,
      "outputs": [
        {
          "output_type": "execute_result",
          "data": {
            "text/html": [
              "<div>\n",
              "<style scoped>\n",
              "    .dataframe tbody tr th:only-of-type {\n",
              "        vertical-align: middle;\n",
              "    }\n",
              "\n",
              "    .dataframe tbody tr th {\n",
              "        vertical-align: top;\n",
              "    }\n",
              "\n",
              "    .dataframe thead th {\n",
              "        text-align: right;\n",
              "    }\n",
              "</style>\n",
              "<table border=\"1\" class=\"dataframe\">\n",
              "  <thead>\n",
              "    <tr style=\"text-align: right;\">\n",
              "      <th></th>\n",
              "      <th>keyword</th>\n",
              "      <th>location</th>\n",
              "      <th>text</th>\n",
              "      <th>target</th>\n",
              "      <th>caracteres_tweet</th>\n",
              "      <th>tweet_type</th>\n",
              "      <th>avg_category</th>\n",
              "      <th>text_vector</th>\n",
              "      <th>text_vector_filtrado</th>\n",
              "      <th>elem_vector</th>\n",
              "    </tr>\n",
              "  </thead>\n",
              "  <tbody>\n",
              "    <tr>\n",
              "      <th>0</th>\n",
              "      <td>sin keyword</td>\n",
              "      <td>sin location</td>\n",
              "      <td>Our Deeds are the Reason of this #earthquake M...</td>\n",
              "      <td>1</td>\n",
              "      <td>69</td>\n",
              "      <td>tweet verdadero</td>\n",
              "      <td>tw w/characts.below AVG ocurrs</td>\n",
              "      <td>[our, deeds, are, the, reason, of, this, earth...</td>\n",
              "      <td>[deeds, reason, earthquake, may, allah, forgiv...</td>\n",
              "      <td>13</td>\n",
              "    </tr>\n",
              "    <tr>\n",
              "      <th>1</th>\n",
              "      <td>sin keyword</td>\n",
              "      <td>sin location</td>\n",
              "      <td>Forest fire near La Ronge Sask. Canada</td>\n",
              "      <td>1</td>\n",
              "      <td>38</td>\n",
              "      <td>tweet verdadero</td>\n",
              "      <td>tw w/characts.below AVG ocurrs</td>\n",
              "      <td>[forest, fire, near, la, ronge, sask, canada]</td>\n",
              "      <td>[forest, fire, near, la, ronge, sask, canada]</td>\n",
              "      <td>7</td>\n",
              "    </tr>\n",
              "  </tbody>\n",
              "</table>\n",
              "</div>"
            ],
            "text/plain": [
              "       keyword  ... elem_vector\n",
              "0  sin keyword  ...          13\n",
              "1  sin keyword  ...           7\n",
              "\n",
              "[2 rows x 10 columns]"
            ]
          },
          "metadata": {
            "tags": []
          },
          "execution_count": 263
        }
      ]
    },
    {
      "cell_type": "code",
      "metadata": {
        "id": "c87bJqvu-g4c",
        "colab_type": "code",
        "outputId": "38c7535b-1abe-4b97-a925-44750784359f",
        "colab": {
          "base_uri": "https://localhost:8080/",
          "height": 0
        }
      },
      "source": [
        "# Cuento los elementos del vector filtrado 'text_vector_filtrado'\n",
        "df_train['elem_vector_filtrado']=df_train['text_vector_filtrado'].str.len()\n",
        "df_train.head(2)"
      ],
      "execution_count": 264,
      "outputs": [
        {
          "output_type": "execute_result",
          "data": {
            "text/html": [
              "<div>\n",
              "<style scoped>\n",
              "    .dataframe tbody tr th:only-of-type {\n",
              "        vertical-align: middle;\n",
              "    }\n",
              "\n",
              "    .dataframe tbody tr th {\n",
              "        vertical-align: top;\n",
              "    }\n",
              "\n",
              "    .dataframe thead th {\n",
              "        text-align: right;\n",
              "    }\n",
              "</style>\n",
              "<table border=\"1\" class=\"dataframe\">\n",
              "  <thead>\n",
              "    <tr style=\"text-align: right;\">\n",
              "      <th></th>\n",
              "      <th>keyword</th>\n",
              "      <th>location</th>\n",
              "      <th>text</th>\n",
              "      <th>target</th>\n",
              "      <th>caracteres_tweet</th>\n",
              "      <th>tweet_type</th>\n",
              "      <th>avg_category</th>\n",
              "      <th>text_vector</th>\n",
              "      <th>text_vector_filtrado</th>\n",
              "      <th>elem_vector</th>\n",
              "      <th>elem_vector_filtrado</th>\n",
              "    </tr>\n",
              "  </thead>\n",
              "  <tbody>\n",
              "    <tr>\n",
              "      <th>0</th>\n",
              "      <td>sin keyword</td>\n",
              "      <td>sin location</td>\n",
              "      <td>Our Deeds are the Reason of this #earthquake M...</td>\n",
              "      <td>1</td>\n",
              "      <td>69</td>\n",
              "      <td>tweet verdadero</td>\n",
              "      <td>tw w/characts.below AVG ocurrs</td>\n",
              "      <td>[our, deeds, are, the, reason, of, this, earth...</td>\n",
              "      <td>[deeds, reason, earthquake, may, allah, forgiv...</td>\n",
              "      <td>13</td>\n",
              "      <td>7</td>\n",
              "    </tr>\n",
              "    <tr>\n",
              "      <th>1</th>\n",
              "      <td>sin keyword</td>\n",
              "      <td>sin location</td>\n",
              "      <td>Forest fire near La Ronge Sask. Canada</td>\n",
              "      <td>1</td>\n",
              "      <td>38</td>\n",
              "      <td>tweet verdadero</td>\n",
              "      <td>tw w/characts.below AVG ocurrs</td>\n",
              "      <td>[forest, fire, near, la, ronge, sask, canada]</td>\n",
              "      <td>[forest, fire, near, la, ronge, sask, canada]</td>\n",
              "      <td>7</td>\n",
              "      <td>7</td>\n",
              "    </tr>\n",
              "  </tbody>\n",
              "</table>\n",
              "</div>"
            ],
            "text/plain": [
              "       keyword      location  ... elem_vector  elem_vector_filtrado\n",
              "0  sin keyword  sin location  ...          13                     7\n",
              "1  sin keyword  sin location  ...           7                     7\n",
              "\n",
              "[2 rows x 11 columns]"
            ]
          },
          "metadata": {
            "tags": []
          },
          "execution_count": 264
        }
      ]
    },
    {
      "cell_type": "code",
      "metadata": {
        "id": "cc78PyD7-gvF",
        "colab_type": "code",
        "outputId": "8d9ece61-db28-44dd-f5bc-517dcd4e889d",
        "colab": {
          "base_uri": "https://localhost:8080/",
          "height": 0
        }
      },
      "source": [
        "# Verifico estructura del DF\n",
        "df_train.info()"
      ],
      "execution_count": 265,
      "outputs": [
        {
          "output_type": "stream",
          "text": [
            "<class 'pandas.core.frame.DataFrame'>\n",
            "Int64Index: 7503 entries, 0 to 7612\n",
            "Data columns (total 11 columns):\n",
            " #   Column                Non-Null Count  Dtype \n",
            "---  ------                --------------  ----- \n",
            " 0   keyword               7503 non-null   object\n",
            " 1   location              7503 non-null   object\n",
            " 2   text                  7503 non-null   object\n",
            " 3   target                7503 non-null   int64 \n",
            " 4   caracteres_tweet      7503 non-null   int64 \n",
            " 5   tweet_type            7503 non-null   object\n",
            " 6   avg_category          7503 non-null   object\n",
            " 7   text_vector           7503 non-null   object\n",
            " 8   text_vector_filtrado  7503 non-null   object\n",
            " 9   elem_vector           7503 non-null   int64 \n",
            " 10  elem_vector_filtrado  7503 non-null   int64 \n",
            "dtypes: int64(4), object(7)\n",
            "memory usage: 703.4+ KB\n"
          ],
          "name": "stdout"
        }
      ]
    },
    {
      "cell_type": "markdown",
      "metadata": {
        "id": "z7syMKRb_wVt",
        "colab_type": "text"
      },
      "source": [
        "### Preproceso y categorización de la variable ***Keyword***"
      ]
    },
    {
      "cell_type": "code",
      "metadata": {
        "id": "fauKBQRp_p0H",
        "colab_type": "code",
        "colab": {
          "base_uri": "https://localhost:8080/",
          "height": 0
        },
        "outputId": "b2155a83-dd34-436b-a086-ae0e8a2c0901"
      },
      "source": [
        "# \"Limpiamos\" la serie de caracteres especiales\n",
        "df_train['keyword']=df_train['keyword'].str.replace('%20','_')\n",
        "# Verificamos actualización\n",
        "df_train['keyword'].unique()"
      ],
      "execution_count": 266,
      "outputs": [
        {
          "output_type": "execute_result",
          "data": {
            "text/plain": [
              "array(['sin keyword', 'ablaze', 'accident', 'aftershock',\n",
              "       'airplane_accident', 'ambulance', 'annihilated', 'annihilation',\n",
              "       'apocalypse', 'armageddon', 'army', 'arson', 'arsonist', 'attack',\n",
              "       'attacked', 'avalanche', 'battle', 'bioterror', 'bioterrorism',\n",
              "       'blaze', 'blazing', 'bleeding', 'blew_up', 'blight', 'blizzard',\n",
              "       'blood', 'bloody', 'blown_up', 'body_bag', 'body_bagging',\n",
              "       'body_bags', 'bomb', 'bombed', 'bombing', 'bridge_collapse',\n",
              "       'buildings_burning', 'buildings_on_fire', 'burned', 'burning',\n",
              "       'burning_buildings', 'bush_fires', 'casualties', 'casualty',\n",
              "       'catastrophe', 'catastrophic', 'chemical_emergency', 'cliff_fall',\n",
              "       'collapse', 'collapsed', 'collide', 'collided', 'collision',\n",
              "       'crash', 'crashed', 'crush', 'crushed', 'curfew', 'cyclone',\n",
              "       'damage', 'danger', 'dead', 'death', 'deaths', 'debris', 'deluge',\n",
              "       'deluged', 'demolish', 'demolished', 'demolition', 'derail',\n",
              "       'derailed', 'derailment', 'desolate', 'desolation', 'destroy',\n",
              "       'destroyed', 'destruction', 'detonate', 'detonation', 'devastated',\n",
              "       'devastation', 'disaster', 'displaced', 'drought', 'drown',\n",
              "       'drowned', 'drowning', 'dust_storm', 'earthquake', 'electrocute',\n",
              "       'electrocuted', 'emergency', 'emergency_plan',\n",
              "       'emergency_services', 'engulfed', 'epicentre', 'evacuate',\n",
              "       'evacuated', 'evacuation', 'explode', 'exploded', 'explosion',\n",
              "       'eyewitness', 'famine', 'fatal', 'fatalities', 'fatality', 'fear',\n",
              "       'fire', 'fire_truck', 'first_responders', 'flames', 'flattened',\n",
              "       'flood', 'flooding', 'floods', 'forest_fire', 'forest_fires',\n",
              "       'hail', 'hailstorm', 'harm', 'hazard', 'hazardous', 'heat_wave',\n",
              "       'hellfire', 'hijack', 'hijacker', 'hijacking', 'hostage',\n",
              "       'hostages', 'hurricane', 'injured', 'injuries', 'injury',\n",
              "       'inundated', 'inundation', 'landslide', 'lava', 'lightning',\n",
              "       'loud_bang', 'mass_murder', 'mass_murderer', 'massacre', 'mayhem',\n",
              "       'meltdown', 'military', 'mudslide', 'natural_disaster',\n",
              "       'nuclear_disaster', 'nuclear_reactor', 'obliterate', 'obliterated',\n",
              "       'obliteration', 'oil_spill', 'outbreak', 'pandemonium', 'panic',\n",
              "       'panicking', 'police', 'quarantine', 'quarantined',\n",
              "       'radiation_emergency', 'rainstorm', 'razed', 'refugees', 'rescue',\n",
              "       'rescued', 'rescuers', 'riot', 'rioting', 'rubble', 'ruin',\n",
              "       'sandstorm', 'screamed', 'screaming', 'screams', 'seismic',\n",
              "       'sinkhole', 'sinking', 'siren', 'sirens', 'smoke', 'snowstorm',\n",
              "       'storm', 'stretcher', 'structural_failure', 'suicide_bomb',\n",
              "       'suicide_bomber', 'suicide_bombing', 'sunk', 'survive', 'survived',\n",
              "       'survivors', 'terrorism', 'terrorist', 'threat', 'thunder',\n",
              "       'thunderstorm', 'tornado', 'tragedy', 'trapped', 'trauma',\n",
              "       'traumatised', 'trouble', 'tsunami', 'twister', 'typhoon',\n",
              "       'upheaval', 'violent_storm', 'volcano', 'war_zone', 'weapon',\n",
              "       'weapons', 'whirlwind', 'wild_fires', 'wildfire', 'windstorm',\n",
              "       'wounded', 'wounds', 'wreck', 'wreckage', 'wrecked'], dtype=object)"
            ]
          },
          "metadata": {
            "tags": []
          },
          "execution_count": 266
        }
      ]
    },
    {
      "cell_type": "markdown",
      "metadata": {
        "id": "_d5T6PLZAFRi",
        "colab_type": "text"
      },
      "source": [
        "### Generación de **diccionario**"
      ]
    },
    {
      "cell_type": "code",
      "metadata": {
        "id": "l-UOXjE7-gtO",
        "colab_type": "code",
        "outputId": "788046a0-4ec5-42e4-924a-ebd5e3c68604",
        "colab": {
          "base_uri": "https://localhost:8080/",
          "height": 0
        }
      },
      "source": [
        "# Listo para generar un diccionario y traducir la serie 'keyword'\n",
        "keyword_list=df_train['keyword'].unique().tolist()\n",
        "print(keyword_list)"
      ],
      "execution_count": 267,
      "outputs": [
        {
          "output_type": "stream",
          "text": [
            "['sin keyword', 'ablaze', 'accident', 'aftershock', 'airplane_accident', 'ambulance', 'annihilated', 'annihilation', 'apocalypse', 'armageddon', 'army', 'arson', 'arsonist', 'attack', 'attacked', 'avalanche', 'battle', 'bioterror', 'bioterrorism', 'blaze', 'blazing', 'bleeding', 'blew_up', 'blight', 'blizzard', 'blood', 'bloody', 'blown_up', 'body_bag', 'body_bagging', 'body_bags', 'bomb', 'bombed', 'bombing', 'bridge_collapse', 'buildings_burning', 'buildings_on_fire', 'burned', 'burning', 'burning_buildings', 'bush_fires', 'casualties', 'casualty', 'catastrophe', 'catastrophic', 'chemical_emergency', 'cliff_fall', 'collapse', 'collapsed', 'collide', 'collided', 'collision', 'crash', 'crashed', 'crush', 'crushed', 'curfew', 'cyclone', 'damage', 'danger', 'dead', 'death', 'deaths', 'debris', 'deluge', 'deluged', 'demolish', 'demolished', 'demolition', 'derail', 'derailed', 'derailment', 'desolate', 'desolation', 'destroy', 'destroyed', 'destruction', 'detonate', 'detonation', 'devastated', 'devastation', 'disaster', 'displaced', 'drought', 'drown', 'drowned', 'drowning', 'dust_storm', 'earthquake', 'electrocute', 'electrocuted', 'emergency', 'emergency_plan', 'emergency_services', 'engulfed', 'epicentre', 'evacuate', 'evacuated', 'evacuation', 'explode', 'exploded', 'explosion', 'eyewitness', 'famine', 'fatal', 'fatalities', 'fatality', 'fear', 'fire', 'fire_truck', 'first_responders', 'flames', 'flattened', 'flood', 'flooding', 'floods', 'forest_fire', 'forest_fires', 'hail', 'hailstorm', 'harm', 'hazard', 'hazardous', 'heat_wave', 'hellfire', 'hijack', 'hijacker', 'hijacking', 'hostage', 'hostages', 'hurricane', 'injured', 'injuries', 'injury', 'inundated', 'inundation', 'landslide', 'lava', 'lightning', 'loud_bang', 'mass_murder', 'mass_murderer', 'massacre', 'mayhem', 'meltdown', 'military', 'mudslide', 'natural_disaster', 'nuclear_disaster', 'nuclear_reactor', 'obliterate', 'obliterated', 'obliteration', 'oil_spill', 'outbreak', 'pandemonium', 'panic', 'panicking', 'police', 'quarantine', 'quarantined', 'radiation_emergency', 'rainstorm', 'razed', 'refugees', 'rescue', 'rescued', 'rescuers', 'riot', 'rioting', 'rubble', 'ruin', 'sandstorm', 'screamed', 'screaming', 'screams', 'seismic', 'sinkhole', 'sinking', 'siren', 'sirens', 'smoke', 'snowstorm', 'storm', 'stretcher', 'structural_failure', 'suicide_bomb', 'suicide_bomber', 'suicide_bombing', 'sunk', 'survive', 'survived', 'survivors', 'terrorism', 'terrorist', 'threat', 'thunder', 'thunderstorm', 'tornado', 'tragedy', 'trapped', 'trauma', 'traumatised', 'trouble', 'tsunami', 'twister', 'typhoon', 'upheaval', 'violent_storm', 'volcano', 'war_zone', 'weapon', 'weapons', 'whirlwind', 'wild_fires', 'wildfire', 'windstorm', 'wounded', 'wounds', 'wreck', 'wreckage', 'wrecked']\n"
          ],
          "name": "stdout"
        }
      ]
    },
    {
      "cell_type": "code",
      "metadata": {
        "id": "39Fw1BZi-gfz",
        "colab_type": "code",
        "outputId": "7944148f-9b72-4d11-c9de-2747dd0411c6",
        "colab": {
          "base_uri": "https://localhost:8080/",
          "height": 0
        }
      },
      "source": [
        "#1 Genero lista en espaniol\n",
        "keyword_list_esp=['sin_keyword','en llamas','accidente','replica','accidente_avion','ambulancia','aniquilado','aniquilacion','apocalipse','armageddon','ejercito','incendio_intencional','piromano','ataque','atacado','avalancha','combate/batalla/lucha','bioterror','bioterrorismo','resplandecer/arder','resplandeciente/ardiente','hemorragia','exploto','plaga','ventisca','sangre','sangriento','estallido','bolsa_de_cadaver','embolsado_de_cadaver','bolsas_de_cadaver','bomba','bombardeado','bombardeo','colapso_de_puente','incendio_de_edificios','edificios_en_llamas','quemado','quemando/incendiando','incendio_edificios','incendio_de_matorrales/arbustos','bajas/muertes/perdidas','baja/muerte/perdida','catastrofe','catastrofico','emergencia_quimica','caida_acantilado','colapso','colapsado','colisionar','colisiono','colision','choque','estrellado','aplastamiento','aplastado','toque_de_queda','ciclon','da¤o','peligro','muerto','muerte','muertes','escombros','diluvio','inundado','demoler','demolido','demolicion','descarrilar','descarrilado','descarrilamiento','desolado','desolacion','destruir','destruido','destruccion','detonado','detonacion','devastado','devastacion','desastre','dislacado/desplazado','sequia','ahogar','ahogado','ahogamiento/ahogandose','tormenta_polvo','terremoto','electrocutar','electrocutado','emergencia','plan_de_emergencia','servicio_de_emergencia','engullido','epicentro','evacuar','evacuado','evacuacion','explotar','exploto/detonado/estallado','explosion','testigo_ocular','hambruna','fatal','fatalidades','fatalidades','miedo','fuego','camion_bombero','primeros_en_responder','llamas','aplastado','inundacion','inundaciones','inundaciones','incendio_forestal','incendio_forestales','granizo','tormenta_granizo','da¤o','peligro','peligroso','ola_de_calor','infierno','secuestro','secuestrador','secuestro','rehen','rehenes','huracan','herido/lesionado','heridas/lesiones','herida/lesion','inundado','inundacion','deslisamiento_tierra','lava','rayo','golpe_fuerte/estampido_fuerte','asesinato_en_serie','asesino_en_serie','masacre','caos','fusion','militar','alud_de_lodo','desastre_natural','desastre_nuclear','reactor_nuclear','obliterar/destruir/eliminar','borrado/destruido/eliminado','obliteracion/destruccion/eliminacion','derrame_de_petroleo','brote','pandemonio/confusion/caos','panico','tener_panico','polic¡a','cuarentena','en_cuarentena','emergencia_radiacion','tormenta','arrasado','refugiados','rescate','rescatado','rescatadores','disturbio','disturbios','escombros','ruina','tormenta_de_arena','grito','gritando','gritos','sismico','sumidero/pozo','hundiendose','sirena','sirenas','humo','tormenta_de_nieve','tormenta','camilla','fallo_estructural','bomba_suicida','suicida','bombardeo_suicida','hundido','sobrevivir','sobrevivio','sobreviviente','terrorismo','terrorista','amenaza','trueno','tormenta_electrica','tornado','tragedia','atrapado','trauma','traumatizado','problema','tsunami','tornado/torbellino','tifon','transtorno','tormenta_violenta','volcan','zona_de_guerra','arma','armas','torbellino','incendios_forestales','incendio_forestal','tormenta_de_viento','moretoneado','moretones','naufragio','restos','naufrago']\n",
        "print(keyword_list_esp)"
      ],
      "execution_count": 268,
      "outputs": [
        {
          "output_type": "stream",
          "text": [
            "['sin_keyword', 'en llamas', 'accidente', 'replica', 'accidente_avion', 'ambulancia', 'aniquilado', 'aniquilacion', 'apocalipse', 'armageddon', 'ejercito', 'incendio_intencional', 'piromano', 'ataque', 'atacado', 'avalancha', 'combate/batalla/lucha', 'bioterror', 'bioterrorismo', 'resplandecer/arder', 'resplandeciente/ardiente', 'hemorragia', 'exploto', 'plaga', 'ventisca', 'sangre', 'sangriento', 'estallido', 'bolsa_de_cadaver', 'embolsado_de_cadaver', 'bolsas_de_cadaver', 'bomba', 'bombardeado', 'bombardeo', 'colapso_de_puente', 'incendio_de_edificios', 'edificios_en_llamas', 'quemado', 'quemando/incendiando', 'incendio_edificios', 'incendio_de_matorrales/arbustos', 'bajas/muertes/perdidas', 'baja/muerte/perdida', 'catastrofe', 'catastrofico', 'emergencia_quimica', 'caida_acantilado', 'colapso', 'colapsado', 'colisionar', 'colisiono', 'colision', 'choque', 'estrellado', 'aplastamiento', 'aplastado', 'toque_de_queda', 'ciclon', 'da¤o', 'peligro', 'muerto', 'muerte', 'muertes', 'escombros', 'diluvio', 'inundado', 'demoler', 'demolido', 'demolicion', 'descarrilar', 'descarrilado', 'descarrilamiento', 'desolado', 'desolacion', 'destruir', 'destruido', 'destruccion', 'detonado', 'detonacion', 'devastado', 'devastacion', 'desastre', 'dislacado/desplazado', 'sequia', 'ahogar', 'ahogado', 'ahogamiento/ahogandose', 'tormenta_polvo', 'terremoto', 'electrocutar', 'electrocutado', 'emergencia', 'plan_de_emergencia', 'servicio_de_emergencia', 'engullido', 'epicentro', 'evacuar', 'evacuado', 'evacuacion', 'explotar', 'exploto/detonado/estallado', 'explosion', 'testigo_ocular', 'hambruna', 'fatal', 'fatalidades', 'fatalidades', 'miedo', 'fuego', 'camion_bombero', 'primeros_en_responder', 'llamas', 'aplastado', 'inundacion', 'inundaciones', 'inundaciones', 'incendio_forestal', 'incendio_forestales', 'granizo', 'tormenta_granizo', 'da¤o', 'peligro', 'peligroso', 'ola_de_calor', 'infierno', 'secuestro', 'secuestrador', 'secuestro', 'rehen', 'rehenes', 'huracan', 'herido/lesionado', 'heridas/lesiones', 'herida/lesion', 'inundado', 'inundacion', 'deslisamiento_tierra', 'lava', 'rayo', 'golpe_fuerte/estampido_fuerte', 'asesinato_en_serie', 'asesino_en_serie', 'masacre', 'caos', 'fusion', 'militar', 'alud_de_lodo', 'desastre_natural', 'desastre_nuclear', 'reactor_nuclear', 'obliterar/destruir/eliminar', 'borrado/destruido/eliminado', 'obliteracion/destruccion/eliminacion', 'derrame_de_petroleo', 'brote', 'pandemonio/confusion/caos', 'panico', 'tener_panico', 'polic¡a', 'cuarentena', 'en_cuarentena', 'emergencia_radiacion', 'tormenta', 'arrasado', 'refugiados', 'rescate', 'rescatado', 'rescatadores', 'disturbio', 'disturbios', 'escombros', 'ruina', 'tormenta_de_arena', 'grito', 'gritando', 'gritos', 'sismico', 'sumidero/pozo', 'hundiendose', 'sirena', 'sirenas', 'humo', 'tormenta_de_nieve', 'tormenta', 'camilla', 'fallo_estructural', 'bomba_suicida', 'suicida', 'bombardeo_suicida', 'hundido', 'sobrevivir', 'sobrevivio', 'sobreviviente', 'terrorismo', 'terrorista', 'amenaza', 'trueno', 'tormenta_electrica', 'tornado', 'tragedia', 'atrapado', 'trauma', 'traumatizado', 'problema', 'tsunami', 'tornado/torbellino', 'tifon', 'transtorno', 'tormenta_violenta', 'volcan', 'zona_de_guerra', 'arma', 'armas', 'torbellino', 'incendios_forestales', 'incendio_forestal', 'tormenta_de_viento', 'moretoneado', 'moretones', 'naufragio', 'restos', 'naufrago']\n"
          ],
          "name": "stdout"
        }
      ]
    },
    {
      "cell_type": "code",
      "metadata": {
        "id": "tNCgM0ujAbQO",
        "colab_type": "code",
        "outputId": "de6debcc-8736-4188-a3a2-f03199de547d",
        "colab": {
          "base_uri": "https://localhost:8080/",
          "height": 0
        }
      },
      "source": [
        "#1 Genero el diccionario eng-esp de la serie 'Keyword'\n",
        "keyword_dicc={}\n",
        "y=0\n",
        "for x in keyword_list:\n",
        "  keyword_dicc[x]=keyword_list_esp[y]\n",
        "  y=y+1\n",
        "  #print(keyword_dicc)\n",
        "\n",
        "print(keyword_dicc)"
      ],
      "execution_count": 269,
      "outputs": [
        {
          "output_type": "stream",
          "text": [
            "{'sin keyword': 'sin_keyword', 'ablaze': 'en llamas', 'accident': 'accidente', 'aftershock': 'replica', 'airplane_accident': 'accidente_avion', 'ambulance': 'ambulancia', 'annihilated': 'aniquilado', 'annihilation': 'aniquilacion', 'apocalypse': 'apocalipse', 'armageddon': 'armageddon', 'army': 'ejercito', 'arson': 'incendio_intencional', 'arsonist': 'piromano', 'attack': 'ataque', 'attacked': 'atacado', 'avalanche': 'avalancha', 'battle': 'combate/batalla/lucha', 'bioterror': 'bioterror', 'bioterrorism': 'bioterrorismo', 'blaze': 'resplandecer/arder', 'blazing': 'resplandeciente/ardiente', 'bleeding': 'hemorragia', 'blew_up': 'exploto', 'blight': 'plaga', 'blizzard': 'ventisca', 'blood': 'sangre', 'bloody': 'sangriento', 'blown_up': 'estallido', 'body_bag': 'bolsa_de_cadaver', 'body_bagging': 'embolsado_de_cadaver', 'body_bags': 'bolsas_de_cadaver', 'bomb': 'bomba', 'bombed': 'bombardeado', 'bombing': 'bombardeo', 'bridge_collapse': 'colapso_de_puente', 'buildings_burning': 'incendio_de_edificios', 'buildings_on_fire': 'edificios_en_llamas', 'burned': 'quemado', 'burning': 'quemando/incendiando', 'burning_buildings': 'incendio_edificios', 'bush_fires': 'incendio_de_matorrales/arbustos', 'casualties': 'bajas/muertes/perdidas', 'casualty': 'baja/muerte/perdida', 'catastrophe': 'catastrofe', 'catastrophic': 'catastrofico', 'chemical_emergency': 'emergencia_quimica', 'cliff_fall': 'caida_acantilado', 'collapse': 'colapso', 'collapsed': 'colapsado', 'collide': 'colisionar', 'collided': 'colisiono', 'collision': 'colision', 'crash': 'choque', 'crashed': 'estrellado', 'crush': 'aplastamiento', 'crushed': 'aplastado', 'curfew': 'toque_de_queda', 'cyclone': 'ciclon', 'damage': 'da¤o', 'danger': 'peligro', 'dead': 'muerto', 'death': 'muerte', 'deaths': 'muertes', 'debris': 'escombros', 'deluge': 'diluvio', 'deluged': 'inundado', 'demolish': 'demoler', 'demolished': 'demolido', 'demolition': 'demolicion', 'derail': 'descarrilar', 'derailed': 'descarrilado', 'derailment': 'descarrilamiento', 'desolate': 'desolado', 'desolation': 'desolacion', 'destroy': 'destruir', 'destroyed': 'destruido', 'destruction': 'destruccion', 'detonate': 'detonado', 'detonation': 'detonacion', 'devastated': 'devastado', 'devastation': 'devastacion', 'disaster': 'desastre', 'displaced': 'dislacado/desplazado', 'drought': 'sequia', 'drown': 'ahogar', 'drowned': 'ahogado', 'drowning': 'ahogamiento/ahogandose', 'dust_storm': 'tormenta_polvo', 'earthquake': 'terremoto', 'electrocute': 'electrocutar', 'electrocuted': 'electrocutado', 'emergency': 'emergencia', 'emergency_plan': 'plan_de_emergencia', 'emergency_services': 'servicio_de_emergencia', 'engulfed': 'engullido', 'epicentre': 'epicentro', 'evacuate': 'evacuar', 'evacuated': 'evacuado', 'evacuation': 'evacuacion', 'explode': 'explotar', 'exploded': 'exploto/detonado/estallado', 'explosion': 'explosion', 'eyewitness': 'testigo_ocular', 'famine': 'hambruna', 'fatal': 'fatal', 'fatalities': 'fatalidades', 'fatality': 'fatalidades', 'fear': 'miedo', 'fire': 'fuego', 'fire_truck': 'camion_bombero', 'first_responders': 'primeros_en_responder', 'flames': 'llamas', 'flattened': 'aplastado', 'flood': 'inundacion', 'flooding': 'inundaciones', 'floods': 'inundaciones', 'forest_fire': 'incendio_forestal', 'forest_fires': 'incendio_forestales', 'hail': 'granizo', 'hailstorm': 'tormenta_granizo', 'harm': 'da¤o', 'hazard': 'peligro', 'hazardous': 'peligroso', 'heat_wave': 'ola_de_calor', 'hellfire': 'infierno', 'hijack': 'secuestro', 'hijacker': 'secuestrador', 'hijacking': 'secuestro', 'hostage': 'rehen', 'hostages': 'rehenes', 'hurricane': 'huracan', 'injured': 'herido/lesionado', 'injuries': 'heridas/lesiones', 'injury': 'herida/lesion', 'inundated': 'inundado', 'inundation': 'inundacion', 'landslide': 'deslisamiento_tierra', 'lava': 'lava', 'lightning': 'rayo', 'loud_bang': 'golpe_fuerte/estampido_fuerte', 'mass_murder': 'asesinato_en_serie', 'mass_murderer': 'asesino_en_serie', 'massacre': 'masacre', 'mayhem': 'caos', 'meltdown': 'fusion', 'military': 'militar', 'mudslide': 'alud_de_lodo', 'natural_disaster': 'desastre_natural', 'nuclear_disaster': 'desastre_nuclear', 'nuclear_reactor': 'reactor_nuclear', 'obliterate': 'obliterar/destruir/eliminar', 'obliterated': 'borrado/destruido/eliminado', 'obliteration': 'obliteracion/destruccion/eliminacion', 'oil_spill': 'derrame_de_petroleo', 'outbreak': 'brote', 'pandemonium': 'pandemonio/confusion/caos', 'panic': 'panico', 'panicking': 'tener_panico', 'police': 'polic¡a', 'quarantine': 'cuarentena', 'quarantined': 'en_cuarentena', 'radiation_emergency': 'emergencia_radiacion', 'rainstorm': 'tormenta', 'razed': 'arrasado', 'refugees': 'refugiados', 'rescue': 'rescate', 'rescued': 'rescatado', 'rescuers': 'rescatadores', 'riot': 'disturbio', 'rioting': 'disturbios', 'rubble': 'escombros', 'ruin': 'ruina', 'sandstorm': 'tormenta_de_arena', 'screamed': 'grito', 'screaming': 'gritando', 'screams': 'gritos', 'seismic': 'sismico', 'sinkhole': 'sumidero/pozo', 'sinking': 'hundiendose', 'siren': 'sirena', 'sirens': 'sirenas', 'smoke': 'humo', 'snowstorm': 'tormenta_de_nieve', 'storm': 'tormenta', 'stretcher': 'camilla', 'structural_failure': 'fallo_estructural', 'suicide_bomb': 'bomba_suicida', 'suicide_bomber': 'suicida', 'suicide_bombing': 'bombardeo_suicida', 'sunk': 'hundido', 'survive': 'sobrevivir', 'survived': 'sobrevivio', 'survivors': 'sobreviviente', 'terrorism': 'terrorismo', 'terrorist': 'terrorista', 'threat': 'amenaza', 'thunder': 'trueno', 'thunderstorm': 'tormenta_electrica', 'tornado': 'tornado', 'tragedy': 'tragedia', 'trapped': 'atrapado', 'trauma': 'trauma', 'traumatised': 'traumatizado', 'trouble': 'problema', 'tsunami': 'tsunami', 'twister': 'tornado/torbellino', 'typhoon': 'tifon', 'upheaval': 'transtorno', 'violent_storm': 'tormenta_violenta', 'volcano': 'volcan', 'war_zone': 'zona_de_guerra', 'weapon': 'arma', 'weapons': 'armas', 'whirlwind': 'torbellino', 'wild_fires': 'incendios_forestales', 'wildfire': 'incendio_forestal', 'windstorm': 'tormenta_de_viento', 'wounded': 'moretoneado', 'wounds': 'moretones', 'wreck': 'naufragio', 'wreckage': 'restos', 'wrecked': 'naufrago'}\n"
          ],
          "name": "stdout"
        }
      ]
    },
    {
      "cell_type": "code",
      "metadata": {
        "id": "wy710P3cAcm_",
        "colab_type": "code",
        "outputId": "afd3cba3-3516-4bc8-f637-d3adaa5bfe30",
        "colab": {
          "base_uri": "https://localhost:8080/",
          "height": 0
        }
      },
      "source": [
        "# Mapeo los valores de las key del diccionario keyword_dicc\n",
        "df_train['keyword_esp']=df_train['keyword'].map(keyword_dicc)\n",
        "df_train.head(2)"
      ],
      "execution_count": 270,
      "outputs": [
        {
          "output_type": "execute_result",
          "data": {
            "text/html": [
              "<div>\n",
              "<style scoped>\n",
              "    .dataframe tbody tr th:only-of-type {\n",
              "        vertical-align: middle;\n",
              "    }\n",
              "\n",
              "    .dataframe tbody tr th {\n",
              "        vertical-align: top;\n",
              "    }\n",
              "\n",
              "    .dataframe thead th {\n",
              "        text-align: right;\n",
              "    }\n",
              "</style>\n",
              "<table border=\"1\" class=\"dataframe\">\n",
              "  <thead>\n",
              "    <tr style=\"text-align: right;\">\n",
              "      <th></th>\n",
              "      <th>keyword</th>\n",
              "      <th>location</th>\n",
              "      <th>text</th>\n",
              "      <th>target</th>\n",
              "      <th>caracteres_tweet</th>\n",
              "      <th>tweet_type</th>\n",
              "      <th>avg_category</th>\n",
              "      <th>text_vector</th>\n",
              "      <th>text_vector_filtrado</th>\n",
              "      <th>elem_vector</th>\n",
              "      <th>elem_vector_filtrado</th>\n",
              "      <th>keyword_esp</th>\n",
              "    </tr>\n",
              "  </thead>\n",
              "  <tbody>\n",
              "    <tr>\n",
              "      <th>0</th>\n",
              "      <td>sin keyword</td>\n",
              "      <td>sin location</td>\n",
              "      <td>Our Deeds are the Reason of this #earthquake M...</td>\n",
              "      <td>1</td>\n",
              "      <td>69</td>\n",
              "      <td>tweet verdadero</td>\n",
              "      <td>tw w/characts.below AVG ocurrs</td>\n",
              "      <td>[our, deeds, are, the, reason, of, this, earth...</td>\n",
              "      <td>[deeds, reason, earthquake, may, allah, forgiv...</td>\n",
              "      <td>13</td>\n",
              "      <td>7</td>\n",
              "      <td>sin_keyword</td>\n",
              "    </tr>\n",
              "    <tr>\n",
              "      <th>1</th>\n",
              "      <td>sin keyword</td>\n",
              "      <td>sin location</td>\n",
              "      <td>Forest fire near La Ronge Sask. Canada</td>\n",
              "      <td>1</td>\n",
              "      <td>38</td>\n",
              "      <td>tweet verdadero</td>\n",
              "      <td>tw w/characts.below AVG ocurrs</td>\n",
              "      <td>[forest, fire, near, la, ronge, sask, canada]</td>\n",
              "      <td>[forest, fire, near, la, ronge, sask, canada]</td>\n",
              "      <td>7</td>\n",
              "      <td>7</td>\n",
              "      <td>sin_keyword</td>\n",
              "    </tr>\n",
              "  </tbody>\n",
              "</table>\n",
              "</div>"
            ],
            "text/plain": [
              "       keyword      location  ... elem_vector_filtrado  keyword_esp\n",
              "0  sin keyword  sin location  ...                    7  sin_keyword\n",
              "1  sin keyword  sin location  ...                    7  sin_keyword\n",
              "\n",
              "[2 rows x 12 columns]"
            ]
          },
          "metadata": {
            "tags": []
          },
          "execution_count": 270
        }
      ]
    },
    {
      "cell_type": "code",
      "metadata": {
        "id": "T4eq5g2DAmer",
        "colab_type": "code",
        "outputId": "852625d5-a9d0-407f-c0fe-e02d3e50d752",
        "colab": {
          "base_uri": "https://localhost:8080/",
          "height": 0
        }
      },
      "source": [
        "# Verifico el top 20 de las categorias mas frecuentes para la serie keyword \n",
        "df_train['keyword_esp'].value_counts().sort_values(ascending=False).head(20)"
      ],
      "execution_count": 271,
      "outputs": [
        {
          "output_type": "execute_result",
          "data": {
            "text/plain": [
              "da¤o                  82\n",
              "fatalidades           82\n",
              "inundaciones          72\n",
              "peligro               70\n",
              "tormenta              69\n",
              "aplastado             65\n",
              "escombros             65\n",
              "secuestro             64\n",
              "inundado              62\n",
              "sin_keyword           56\n",
              "incendio_forestal     52\n",
              "inundacion            45\n",
              "diluvio               42\n",
              "armageddon            42\n",
              "bolsas_de_cadaver     41\n",
              "tormenta_de_viento    40\n",
              "tornado/torbellino    40\n",
              "evacuar               40\n",
              "sirena                40\n",
              "miedo                 40\n",
              "Name: keyword_esp, dtype: int64"
            ]
          },
          "metadata": {
            "tags": []
          },
          "execution_count": 271
        }
      ]
    },
    {
      "cell_type": "code",
      "metadata": {
        "id": "VjrZqb4GBDoq",
        "colab_type": "code",
        "outputId": "c9afe0d5-faa7-43db-c4ce-36f26bdf9fae",
        "colab": {
          "base_uri": "https://localhost:8080/",
          "height": 0
        }
      },
      "source": [
        "# Hacemos un groupby de las categorias keyword con tweets verdaderos y falsos ('target')\n",
        "df_agrupado=df_train.groupby(['keyword_esp','tweet_type']).size().sort_values(ascending=False)\n",
        "df_agrupado"
      ],
      "execution_count": 272,
      "outputs": [
        {
          "output_type": "execute_result",
          "data": {
            "text/plain": [
              "keyword_esp               tweet_type     \n",
              "da¤o                      tweet falso        59\n",
              "aplastado                 tweet falso        56\n",
              "peligro                   tweet falso        55\n",
              "inundaciones              tweet verdadero    51\n",
              "inundado                  tweet falso        49\n",
              "                                             ..\n",
              "bolsas_de_cadaver         tweet verdadero     1\n",
              "derrame_de_petroleo       tweet falso         1\n",
              "bolsa_de_cadaver          tweet verdadero     1\n",
              "resplandeciente/ardiente  tweet verdadero     1\n",
              "ruina                     tweet verdadero     1\n",
              "Length: 419, dtype: int64"
            ]
          },
          "metadata": {
            "tags": []
          },
          "execution_count": 272
        }
      ]
    },
    {
      "cell_type": "code",
      "metadata": {
        "id": "JWlCzSs4BhhE",
        "colab_type": "code",
        "outputId": "e9a095dd-7c6a-40ef-fd2c-826b376902d1",
        "colab": {
          "base_uri": "https://localhost:8080/",
          "height": 0
        }
      },
      "source": [
        "# Otro groupby de la categorias contando ocurrencias de tweets y de caracteres que los conforman\n",
        "df_agrupado_ocurrencias=df_train.groupby(['keyword_esp']).agg({'target':['count'],'caracteres_tweet':['max','min','mean']})\n",
        "df_agrupado_ocurrencias"
      ],
      "execution_count": 273,
      "outputs": [
        {
          "output_type": "execute_result",
          "data": {
            "text/html": [
              "<div>\n",
              "<style scoped>\n",
              "    .dataframe tbody tr th:only-of-type {\n",
              "        vertical-align: middle;\n",
              "    }\n",
              "\n",
              "    .dataframe tbody tr th {\n",
              "        vertical-align: top;\n",
              "    }\n",
              "\n",
              "    .dataframe thead tr th {\n",
              "        text-align: left;\n",
              "    }\n",
              "\n",
              "    .dataframe thead tr:last-of-type th {\n",
              "        text-align: right;\n",
              "    }\n",
              "</style>\n",
              "<table border=\"1\" class=\"dataframe\">\n",
              "  <thead>\n",
              "    <tr>\n",
              "      <th></th>\n",
              "      <th>target</th>\n",
              "      <th colspan=\"3\" halign=\"left\">caracteres_tweet</th>\n",
              "    </tr>\n",
              "    <tr>\n",
              "      <th></th>\n",
              "      <th>count</th>\n",
              "      <th>max</th>\n",
              "      <th>min</th>\n",
              "      <th>mean</th>\n",
              "    </tr>\n",
              "    <tr>\n",
              "      <th>keyword_esp</th>\n",
              "      <th></th>\n",
              "      <th></th>\n",
              "      <th></th>\n",
              "      <th></th>\n",
              "    </tr>\n",
              "  </thead>\n",
              "  <tbody>\n",
              "    <tr>\n",
              "      <th>accidente</th>\n",
              "      <td>35</td>\n",
              "      <td>142</td>\n",
              "      <td>35</td>\n",
              "      <td>100.085714</td>\n",
              "    </tr>\n",
              "    <tr>\n",
              "      <th>accidente_avion</th>\n",
              "      <td>34</td>\n",
              "      <td>140</td>\n",
              "      <td>26</td>\n",
              "      <td>105.529412</td>\n",
              "    </tr>\n",
              "    <tr>\n",
              "      <th>ahogado</th>\n",
              "      <td>38</td>\n",
              "      <td>143</td>\n",
              "      <td>31</td>\n",
              "      <td>98.131579</td>\n",
              "    </tr>\n",
              "    <tr>\n",
              "      <th>ahogamiento/ahogandose</th>\n",
              "      <td>34</td>\n",
              "      <td>139</td>\n",
              "      <td>27</td>\n",
              "      <td>92.794118</td>\n",
              "    </tr>\n",
              "    <tr>\n",
              "      <th>ahogar</th>\n",
              "      <td>32</td>\n",
              "      <td>145</td>\n",
              "      <td>23</td>\n",
              "      <td>84.437500</td>\n",
              "    </tr>\n",
              "    <tr>\n",
              "      <th>...</th>\n",
              "      <td>...</td>\n",
              "      <td>...</td>\n",
              "      <td>...</td>\n",
              "      <td>...</td>\n",
              "    </tr>\n",
              "    <tr>\n",
              "      <th>trueno</th>\n",
              "      <td>38</td>\n",
              "      <td>146</td>\n",
              "      <td>10</td>\n",
              "      <td>72.868421</td>\n",
              "    </tr>\n",
              "    <tr>\n",
              "      <th>tsunami</th>\n",
              "      <td>34</td>\n",
              "      <td>148</td>\n",
              "      <td>18</td>\n",
              "      <td>85.764706</td>\n",
              "    </tr>\n",
              "    <tr>\n",
              "      <th>ventisca</th>\n",
              "      <td>37</td>\n",
              "      <td>140</td>\n",
              "      <td>20</td>\n",
              "      <td>71.891892</td>\n",
              "    </tr>\n",
              "    <tr>\n",
              "      <th>volcan</th>\n",
              "      <td>26</td>\n",
              "      <td>143</td>\n",
              "      <td>30</td>\n",
              "      <td>110.692308</td>\n",
              "    </tr>\n",
              "    <tr>\n",
              "      <th>zona_de_guerra</th>\n",
              "      <td>24</td>\n",
              "      <td>140</td>\n",
              "      <td>31</td>\n",
              "      <td>81.500000</td>\n",
              "    </tr>\n",
              "  </tbody>\n",
              "</table>\n",
              "<p>211 rows × 4 columns</p>\n",
              "</div>"
            ],
            "text/plain": [
              "                       target caracteres_tweet                \n",
              "                        count              max min        mean\n",
              "keyword_esp                                                   \n",
              "accidente                  35              142  35  100.085714\n",
              "accidente_avion            34              140  26  105.529412\n",
              "ahogado                    38              143  31   98.131579\n",
              "ahogamiento/ahogandose     34              139  27   92.794118\n",
              "ahogar                     32              145  23   84.437500\n",
              "...                       ...              ...  ..         ...\n",
              "trueno                     38              146  10   72.868421\n",
              "tsunami                    34              148  18   85.764706\n",
              "ventisca                   37              140  20   71.891892\n",
              "volcan                     26              143  30  110.692308\n",
              "zona_de_guerra             24              140  31   81.500000\n",
              "\n",
              "[211 rows x 4 columns]"
            ]
          },
          "metadata": {
            "tags": []
          },
          "execution_count": 273
        }
      ]
    },
    {
      "cell_type": "markdown",
      "metadata": {
        "id": "j0oOKHEmChGy",
        "colab_type": "text"
      },
      "source": [
        "### → **Scikit Learn**: Ejecución de **One Hot Encoding** para clasificar"
      ]
    },
    {
      "cell_type": "code",
      "metadata": {
        "id": "B1-A_g81CfzJ",
        "colab_type": "code",
        "outputId": "625e1f23-8791-485a-e7bf-41e4629e48c4",
        "colab": {
          "base_uri": "https://localhost:8080/",
          "height": 160
        }
      },
      "source": [
        "# Dummifico las categorías\n",
        "df_train_dummies=pd.get_dummies(df_train.keyword)\n",
        "df_train_dummies.head(2)"
      ],
      "execution_count": 274,
      "outputs": [
        {
          "output_type": "execute_result",
          "data": {
            "text/html": [
              "<div>\n",
              "<style scoped>\n",
              "    .dataframe tbody tr th:only-of-type {\n",
              "        vertical-align: middle;\n",
              "    }\n",
              "\n",
              "    .dataframe tbody tr th {\n",
              "        vertical-align: top;\n",
              "    }\n",
              "\n",
              "    .dataframe thead th {\n",
              "        text-align: right;\n",
              "    }\n",
              "</style>\n",
              "<table border=\"1\" class=\"dataframe\">\n",
              "  <thead>\n",
              "    <tr style=\"text-align: right;\">\n",
              "      <th></th>\n",
              "      <th>ablaze</th>\n",
              "      <th>accident</th>\n",
              "      <th>aftershock</th>\n",
              "      <th>airplane_accident</th>\n",
              "      <th>ambulance</th>\n",
              "      <th>annihilated</th>\n",
              "      <th>annihilation</th>\n",
              "      <th>apocalypse</th>\n",
              "      <th>armageddon</th>\n",
              "      <th>army</th>\n",
              "      <th>arson</th>\n",
              "      <th>arsonist</th>\n",
              "      <th>attack</th>\n",
              "      <th>attacked</th>\n",
              "      <th>avalanche</th>\n",
              "      <th>battle</th>\n",
              "      <th>bioterror</th>\n",
              "      <th>bioterrorism</th>\n",
              "      <th>blaze</th>\n",
              "      <th>blazing</th>\n",
              "      <th>bleeding</th>\n",
              "      <th>blew_up</th>\n",
              "      <th>blight</th>\n",
              "      <th>blizzard</th>\n",
              "      <th>blood</th>\n",
              "      <th>bloody</th>\n",
              "      <th>blown_up</th>\n",
              "      <th>body_bag</th>\n",
              "      <th>body_bagging</th>\n",
              "      <th>body_bags</th>\n",
              "      <th>bomb</th>\n",
              "      <th>bombed</th>\n",
              "      <th>bombing</th>\n",
              "      <th>bridge_collapse</th>\n",
              "      <th>buildings_burning</th>\n",
              "      <th>buildings_on_fire</th>\n",
              "      <th>burned</th>\n",
              "      <th>burning</th>\n",
              "      <th>burning_buildings</th>\n",
              "      <th>bush_fires</th>\n",
              "      <th>...</th>\n",
              "      <th>snowstorm</th>\n",
              "      <th>storm</th>\n",
              "      <th>stretcher</th>\n",
              "      <th>structural_failure</th>\n",
              "      <th>suicide_bomb</th>\n",
              "      <th>suicide_bomber</th>\n",
              "      <th>suicide_bombing</th>\n",
              "      <th>sunk</th>\n",
              "      <th>survive</th>\n",
              "      <th>survived</th>\n",
              "      <th>survivors</th>\n",
              "      <th>terrorism</th>\n",
              "      <th>terrorist</th>\n",
              "      <th>threat</th>\n",
              "      <th>thunder</th>\n",
              "      <th>thunderstorm</th>\n",
              "      <th>tornado</th>\n",
              "      <th>tragedy</th>\n",
              "      <th>trapped</th>\n",
              "      <th>trauma</th>\n",
              "      <th>traumatised</th>\n",
              "      <th>trouble</th>\n",
              "      <th>tsunami</th>\n",
              "      <th>twister</th>\n",
              "      <th>typhoon</th>\n",
              "      <th>upheaval</th>\n",
              "      <th>violent_storm</th>\n",
              "      <th>volcano</th>\n",
              "      <th>war_zone</th>\n",
              "      <th>weapon</th>\n",
              "      <th>weapons</th>\n",
              "      <th>whirlwind</th>\n",
              "      <th>wild_fires</th>\n",
              "      <th>wildfire</th>\n",
              "      <th>windstorm</th>\n",
              "      <th>wounded</th>\n",
              "      <th>wounds</th>\n",
              "      <th>wreck</th>\n",
              "      <th>wreckage</th>\n",
              "      <th>wrecked</th>\n",
              "    </tr>\n",
              "  </thead>\n",
              "  <tbody>\n",
              "    <tr>\n",
              "      <th>0</th>\n",
              "      <td>0</td>\n",
              "      <td>0</td>\n",
              "      <td>0</td>\n",
              "      <td>0</td>\n",
              "      <td>0</td>\n",
              "      <td>0</td>\n",
              "      <td>0</td>\n",
              "      <td>0</td>\n",
              "      <td>0</td>\n",
              "      <td>0</td>\n",
              "      <td>0</td>\n",
              "      <td>0</td>\n",
              "      <td>0</td>\n",
              "      <td>0</td>\n",
              "      <td>0</td>\n",
              "      <td>0</td>\n",
              "      <td>0</td>\n",
              "      <td>0</td>\n",
              "      <td>0</td>\n",
              "      <td>0</td>\n",
              "      <td>0</td>\n",
              "      <td>0</td>\n",
              "      <td>0</td>\n",
              "      <td>0</td>\n",
              "      <td>0</td>\n",
              "      <td>0</td>\n",
              "      <td>0</td>\n",
              "      <td>0</td>\n",
              "      <td>0</td>\n",
              "      <td>0</td>\n",
              "      <td>0</td>\n",
              "      <td>0</td>\n",
              "      <td>0</td>\n",
              "      <td>0</td>\n",
              "      <td>0</td>\n",
              "      <td>0</td>\n",
              "      <td>0</td>\n",
              "      <td>0</td>\n",
              "      <td>0</td>\n",
              "      <td>0</td>\n",
              "      <td>...</td>\n",
              "      <td>0</td>\n",
              "      <td>0</td>\n",
              "      <td>0</td>\n",
              "      <td>0</td>\n",
              "      <td>0</td>\n",
              "      <td>0</td>\n",
              "      <td>0</td>\n",
              "      <td>0</td>\n",
              "      <td>0</td>\n",
              "      <td>0</td>\n",
              "      <td>0</td>\n",
              "      <td>0</td>\n",
              "      <td>0</td>\n",
              "      <td>0</td>\n",
              "      <td>0</td>\n",
              "      <td>0</td>\n",
              "      <td>0</td>\n",
              "      <td>0</td>\n",
              "      <td>0</td>\n",
              "      <td>0</td>\n",
              "      <td>0</td>\n",
              "      <td>0</td>\n",
              "      <td>0</td>\n",
              "      <td>0</td>\n",
              "      <td>0</td>\n",
              "      <td>0</td>\n",
              "      <td>0</td>\n",
              "      <td>0</td>\n",
              "      <td>0</td>\n",
              "      <td>0</td>\n",
              "      <td>0</td>\n",
              "      <td>0</td>\n",
              "      <td>0</td>\n",
              "      <td>0</td>\n",
              "      <td>0</td>\n",
              "      <td>0</td>\n",
              "      <td>0</td>\n",
              "      <td>0</td>\n",
              "      <td>0</td>\n",
              "      <td>0</td>\n",
              "    </tr>\n",
              "    <tr>\n",
              "      <th>1</th>\n",
              "      <td>0</td>\n",
              "      <td>0</td>\n",
              "      <td>0</td>\n",
              "      <td>0</td>\n",
              "      <td>0</td>\n",
              "      <td>0</td>\n",
              "      <td>0</td>\n",
              "      <td>0</td>\n",
              "      <td>0</td>\n",
              "      <td>0</td>\n",
              "      <td>0</td>\n",
              "      <td>0</td>\n",
              "      <td>0</td>\n",
              "      <td>0</td>\n",
              "      <td>0</td>\n",
              "      <td>0</td>\n",
              "      <td>0</td>\n",
              "      <td>0</td>\n",
              "      <td>0</td>\n",
              "      <td>0</td>\n",
              "      <td>0</td>\n",
              "      <td>0</td>\n",
              "      <td>0</td>\n",
              "      <td>0</td>\n",
              "      <td>0</td>\n",
              "      <td>0</td>\n",
              "      <td>0</td>\n",
              "      <td>0</td>\n",
              "      <td>0</td>\n",
              "      <td>0</td>\n",
              "      <td>0</td>\n",
              "      <td>0</td>\n",
              "      <td>0</td>\n",
              "      <td>0</td>\n",
              "      <td>0</td>\n",
              "      <td>0</td>\n",
              "      <td>0</td>\n",
              "      <td>0</td>\n",
              "      <td>0</td>\n",
              "      <td>0</td>\n",
              "      <td>...</td>\n",
              "      <td>0</td>\n",
              "      <td>0</td>\n",
              "      <td>0</td>\n",
              "      <td>0</td>\n",
              "      <td>0</td>\n",
              "      <td>0</td>\n",
              "      <td>0</td>\n",
              "      <td>0</td>\n",
              "      <td>0</td>\n",
              "      <td>0</td>\n",
              "      <td>0</td>\n",
              "      <td>0</td>\n",
              "      <td>0</td>\n",
              "      <td>0</td>\n",
              "      <td>0</td>\n",
              "      <td>0</td>\n",
              "      <td>0</td>\n",
              "      <td>0</td>\n",
              "      <td>0</td>\n",
              "      <td>0</td>\n",
              "      <td>0</td>\n",
              "      <td>0</td>\n",
              "      <td>0</td>\n",
              "      <td>0</td>\n",
              "      <td>0</td>\n",
              "      <td>0</td>\n",
              "      <td>0</td>\n",
              "      <td>0</td>\n",
              "      <td>0</td>\n",
              "      <td>0</td>\n",
              "      <td>0</td>\n",
              "      <td>0</td>\n",
              "      <td>0</td>\n",
              "      <td>0</td>\n",
              "      <td>0</td>\n",
              "      <td>0</td>\n",
              "      <td>0</td>\n",
              "      <td>0</td>\n",
              "      <td>0</td>\n",
              "      <td>0</td>\n",
              "    </tr>\n",
              "  </tbody>\n",
              "</table>\n",
              "<p>2 rows × 222 columns</p>\n",
              "</div>"
            ],
            "text/plain": [
              "   ablaze  accident  aftershock  ...  wreck  wreckage  wrecked\n",
              "0       0         0           0  ...      0         0        0\n",
              "1       0         0           0  ...      0         0        0\n",
              "\n",
              "[2 rows x 222 columns]"
            ]
          },
          "metadata": {
            "tags": []
          },
          "execution_count": 274
        }
      ]
    },
    {
      "cell_type": "code",
      "metadata": {
        "id": "8mCZu5xtCXs1",
        "colab_type": "code",
        "outputId": "8d02a36f-e87b-44d9-f237-0db0a3f98509",
        "colab": {
          "base_uri": "https://localhost:8080/",
          "height": 313
        }
      },
      "source": [
        "# Hago un join con df_train y df_train_dummies\n",
        "df_train_merged = pd.concat([df_train,df_train_dummies],axis='columns')\n",
        "df_train_merged.head(2)"
      ],
      "execution_count": 275,
      "outputs": [
        {
          "output_type": "execute_result",
          "data": {
            "text/html": [
              "<div>\n",
              "<style scoped>\n",
              "    .dataframe tbody tr th:only-of-type {\n",
              "        vertical-align: middle;\n",
              "    }\n",
              "\n",
              "    .dataframe tbody tr th {\n",
              "        vertical-align: top;\n",
              "    }\n",
              "\n",
              "    .dataframe thead th {\n",
              "        text-align: right;\n",
              "    }\n",
              "</style>\n",
              "<table border=\"1\" class=\"dataframe\">\n",
              "  <thead>\n",
              "    <tr style=\"text-align: right;\">\n",
              "      <th></th>\n",
              "      <th>keyword</th>\n",
              "      <th>location</th>\n",
              "      <th>text</th>\n",
              "      <th>target</th>\n",
              "      <th>caracteres_tweet</th>\n",
              "      <th>tweet_type</th>\n",
              "      <th>avg_category</th>\n",
              "      <th>text_vector</th>\n",
              "      <th>text_vector_filtrado</th>\n",
              "      <th>elem_vector</th>\n",
              "      <th>elem_vector_filtrado</th>\n",
              "      <th>keyword_esp</th>\n",
              "      <th>ablaze</th>\n",
              "      <th>accident</th>\n",
              "      <th>aftershock</th>\n",
              "      <th>airplane_accident</th>\n",
              "      <th>ambulance</th>\n",
              "      <th>annihilated</th>\n",
              "      <th>annihilation</th>\n",
              "      <th>apocalypse</th>\n",
              "      <th>armageddon</th>\n",
              "      <th>army</th>\n",
              "      <th>arson</th>\n",
              "      <th>arsonist</th>\n",
              "      <th>attack</th>\n",
              "      <th>attacked</th>\n",
              "      <th>avalanche</th>\n",
              "      <th>battle</th>\n",
              "      <th>bioterror</th>\n",
              "      <th>bioterrorism</th>\n",
              "      <th>blaze</th>\n",
              "      <th>blazing</th>\n",
              "      <th>bleeding</th>\n",
              "      <th>blew_up</th>\n",
              "      <th>blight</th>\n",
              "      <th>blizzard</th>\n",
              "      <th>blood</th>\n",
              "      <th>bloody</th>\n",
              "      <th>blown_up</th>\n",
              "      <th>body_bag</th>\n",
              "      <th>...</th>\n",
              "      <th>snowstorm</th>\n",
              "      <th>storm</th>\n",
              "      <th>stretcher</th>\n",
              "      <th>structural_failure</th>\n",
              "      <th>suicide_bomb</th>\n",
              "      <th>suicide_bomber</th>\n",
              "      <th>suicide_bombing</th>\n",
              "      <th>sunk</th>\n",
              "      <th>survive</th>\n",
              "      <th>survived</th>\n",
              "      <th>survivors</th>\n",
              "      <th>terrorism</th>\n",
              "      <th>terrorist</th>\n",
              "      <th>threat</th>\n",
              "      <th>thunder</th>\n",
              "      <th>thunderstorm</th>\n",
              "      <th>tornado</th>\n",
              "      <th>tragedy</th>\n",
              "      <th>trapped</th>\n",
              "      <th>trauma</th>\n",
              "      <th>traumatised</th>\n",
              "      <th>trouble</th>\n",
              "      <th>tsunami</th>\n",
              "      <th>twister</th>\n",
              "      <th>typhoon</th>\n",
              "      <th>upheaval</th>\n",
              "      <th>violent_storm</th>\n",
              "      <th>volcano</th>\n",
              "      <th>war_zone</th>\n",
              "      <th>weapon</th>\n",
              "      <th>weapons</th>\n",
              "      <th>whirlwind</th>\n",
              "      <th>wild_fires</th>\n",
              "      <th>wildfire</th>\n",
              "      <th>windstorm</th>\n",
              "      <th>wounded</th>\n",
              "      <th>wounds</th>\n",
              "      <th>wreck</th>\n",
              "      <th>wreckage</th>\n",
              "      <th>wrecked</th>\n",
              "    </tr>\n",
              "  </thead>\n",
              "  <tbody>\n",
              "    <tr>\n",
              "      <th>0</th>\n",
              "      <td>sin keyword</td>\n",
              "      <td>sin location</td>\n",
              "      <td>Our Deeds are the Reason of this #earthquake M...</td>\n",
              "      <td>1</td>\n",
              "      <td>69</td>\n",
              "      <td>tweet verdadero</td>\n",
              "      <td>tw w/characts.below AVG ocurrs</td>\n",
              "      <td>[our, deeds, are, the, reason, of, this, earth...</td>\n",
              "      <td>[deeds, reason, earthquake, may, allah, forgiv...</td>\n",
              "      <td>13</td>\n",
              "      <td>7</td>\n",
              "      <td>sin_keyword</td>\n",
              "      <td>0</td>\n",
              "      <td>0</td>\n",
              "      <td>0</td>\n",
              "      <td>0</td>\n",
              "      <td>0</td>\n",
              "      <td>0</td>\n",
              "      <td>0</td>\n",
              "      <td>0</td>\n",
              "      <td>0</td>\n",
              "      <td>0</td>\n",
              "      <td>0</td>\n",
              "      <td>0</td>\n",
              "      <td>0</td>\n",
              "      <td>0</td>\n",
              "      <td>0</td>\n",
              "      <td>0</td>\n",
              "      <td>0</td>\n",
              "      <td>0</td>\n",
              "      <td>0</td>\n",
              "      <td>0</td>\n",
              "      <td>0</td>\n",
              "      <td>0</td>\n",
              "      <td>0</td>\n",
              "      <td>0</td>\n",
              "      <td>0</td>\n",
              "      <td>0</td>\n",
              "      <td>0</td>\n",
              "      <td>0</td>\n",
              "      <td>...</td>\n",
              "      <td>0</td>\n",
              "      <td>0</td>\n",
              "      <td>0</td>\n",
              "      <td>0</td>\n",
              "      <td>0</td>\n",
              "      <td>0</td>\n",
              "      <td>0</td>\n",
              "      <td>0</td>\n",
              "      <td>0</td>\n",
              "      <td>0</td>\n",
              "      <td>0</td>\n",
              "      <td>0</td>\n",
              "      <td>0</td>\n",
              "      <td>0</td>\n",
              "      <td>0</td>\n",
              "      <td>0</td>\n",
              "      <td>0</td>\n",
              "      <td>0</td>\n",
              "      <td>0</td>\n",
              "      <td>0</td>\n",
              "      <td>0</td>\n",
              "      <td>0</td>\n",
              "      <td>0</td>\n",
              "      <td>0</td>\n",
              "      <td>0</td>\n",
              "      <td>0</td>\n",
              "      <td>0</td>\n",
              "      <td>0</td>\n",
              "      <td>0</td>\n",
              "      <td>0</td>\n",
              "      <td>0</td>\n",
              "      <td>0</td>\n",
              "      <td>0</td>\n",
              "      <td>0</td>\n",
              "      <td>0</td>\n",
              "      <td>0</td>\n",
              "      <td>0</td>\n",
              "      <td>0</td>\n",
              "      <td>0</td>\n",
              "      <td>0</td>\n",
              "    </tr>\n",
              "    <tr>\n",
              "      <th>1</th>\n",
              "      <td>sin keyword</td>\n",
              "      <td>sin location</td>\n",
              "      <td>Forest fire near La Ronge Sask. Canada</td>\n",
              "      <td>1</td>\n",
              "      <td>38</td>\n",
              "      <td>tweet verdadero</td>\n",
              "      <td>tw w/characts.below AVG ocurrs</td>\n",
              "      <td>[forest, fire, near, la, ronge, sask, canada]</td>\n",
              "      <td>[forest, fire, near, la, ronge, sask, canada]</td>\n",
              "      <td>7</td>\n",
              "      <td>7</td>\n",
              "      <td>sin_keyword</td>\n",
              "      <td>0</td>\n",
              "      <td>0</td>\n",
              "      <td>0</td>\n",
              "      <td>0</td>\n",
              "      <td>0</td>\n",
              "      <td>0</td>\n",
              "      <td>0</td>\n",
              "      <td>0</td>\n",
              "      <td>0</td>\n",
              "      <td>0</td>\n",
              "      <td>0</td>\n",
              "      <td>0</td>\n",
              "      <td>0</td>\n",
              "      <td>0</td>\n",
              "      <td>0</td>\n",
              "      <td>0</td>\n",
              "      <td>0</td>\n",
              "      <td>0</td>\n",
              "      <td>0</td>\n",
              "      <td>0</td>\n",
              "      <td>0</td>\n",
              "      <td>0</td>\n",
              "      <td>0</td>\n",
              "      <td>0</td>\n",
              "      <td>0</td>\n",
              "      <td>0</td>\n",
              "      <td>0</td>\n",
              "      <td>0</td>\n",
              "      <td>...</td>\n",
              "      <td>0</td>\n",
              "      <td>0</td>\n",
              "      <td>0</td>\n",
              "      <td>0</td>\n",
              "      <td>0</td>\n",
              "      <td>0</td>\n",
              "      <td>0</td>\n",
              "      <td>0</td>\n",
              "      <td>0</td>\n",
              "      <td>0</td>\n",
              "      <td>0</td>\n",
              "      <td>0</td>\n",
              "      <td>0</td>\n",
              "      <td>0</td>\n",
              "      <td>0</td>\n",
              "      <td>0</td>\n",
              "      <td>0</td>\n",
              "      <td>0</td>\n",
              "      <td>0</td>\n",
              "      <td>0</td>\n",
              "      <td>0</td>\n",
              "      <td>0</td>\n",
              "      <td>0</td>\n",
              "      <td>0</td>\n",
              "      <td>0</td>\n",
              "      <td>0</td>\n",
              "      <td>0</td>\n",
              "      <td>0</td>\n",
              "      <td>0</td>\n",
              "      <td>0</td>\n",
              "      <td>0</td>\n",
              "      <td>0</td>\n",
              "      <td>0</td>\n",
              "      <td>0</td>\n",
              "      <td>0</td>\n",
              "      <td>0</td>\n",
              "      <td>0</td>\n",
              "      <td>0</td>\n",
              "      <td>0</td>\n",
              "      <td>0</td>\n",
              "    </tr>\n",
              "  </tbody>\n",
              "</table>\n",
              "<p>2 rows × 234 columns</p>\n",
              "</div>"
            ],
            "text/plain": [
              "       keyword      location  ... wreckage  wrecked\n",
              "0  sin keyword  sin location  ...        0        0\n",
              "1  sin keyword  sin location  ...        0        0\n",
              "\n",
              "[2 rows x 234 columns]"
            ]
          },
          "metadata": {
            "tags": []
          },
          "execution_count": 275
        }
      ]
    },
    {
      "cell_type": "code",
      "metadata": {
        "id": "Gv2OhxtVCXnI",
        "colab_type": "code",
        "outputId": "74b62cd0-41e6-4b97-8cd7-c61a7317c081",
        "colab": {
          "base_uri": "https://localhost:8080/",
          "height": 313
        }
      },
      "source": [
        "# Elimino las columnas 'keyword_esp' y 'sin keyword'\n",
        "df_train_merged_final=df_train_merged.drop(['keyword_esp','sin keyword'],axis='columns')\n",
        "df_train_merged_final.head(2)"
      ],
      "execution_count": 276,
      "outputs": [
        {
          "output_type": "execute_result",
          "data": {
            "text/html": [
              "<div>\n",
              "<style scoped>\n",
              "    .dataframe tbody tr th:only-of-type {\n",
              "        vertical-align: middle;\n",
              "    }\n",
              "\n",
              "    .dataframe tbody tr th {\n",
              "        vertical-align: top;\n",
              "    }\n",
              "\n",
              "    .dataframe thead th {\n",
              "        text-align: right;\n",
              "    }\n",
              "</style>\n",
              "<table border=\"1\" class=\"dataframe\">\n",
              "  <thead>\n",
              "    <tr style=\"text-align: right;\">\n",
              "      <th></th>\n",
              "      <th>keyword</th>\n",
              "      <th>location</th>\n",
              "      <th>text</th>\n",
              "      <th>target</th>\n",
              "      <th>caracteres_tweet</th>\n",
              "      <th>tweet_type</th>\n",
              "      <th>avg_category</th>\n",
              "      <th>text_vector</th>\n",
              "      <th>text_vector_filtrado</th>\n",
              "      <th>elem_vector</th>\n",
              "      <th>elem_vector_filtrado</th>\n",
              "      <th>ablaze</th>\n",
              "      <th>accident</th>\n",
              "      <th>aftershock</th>\n",
              "      <th>airplane_accident</th>\n",
              "      <th>ambulance</th>\n",
              "      <th>annihilated</th>\n",
              "      <th>annihilation</th>\n",
              "      <th>apocalypse</th>\n",
              "      <th>armageddon</th>\n",
              "      <th>army</th>\n",
              "      <th>arson</th>\n",
              "      <th>arsonist</th>\n",
              "      <th>attack</th>\n",
              "      <th>attacked</th>\n",
              "      <th>avalanche</th>\n",
              "      <th>battle</th>\n",
              "      <th>bioterror</th>\n",
              "      <th>bioterrorism</th>\n",
              "      <th>blaze</th>\n",
              "      <th>blazing</th>\n",
              "      <th>bleeding</th>\n",
              "      <th>blew_up</th>\n",
              "      <th>blight</th>\n",
              "      <th>blizzard</th>\n",
              "      <th>blood</th>\n",
              "      <th>bloody</th>\n",
              "      <th>blown_up</th>\n",
              "      <th>body_bag</th>\n",
              "      <th>body_bagging</th>\n",
              "      <th>...</th>\n",
              "      <th>snowstorm</th>\n",
              "      <th>storm</th>\n",
              "      <th>stretcher</th>\n",
              "      <th>structural_failure</th>\n",
              "      <th>suicide_bomb</th>\n",
              "      <th>suicide_bomber</th>\n",
              "      <th>suicide_bombing</th>\n",
              "      <th>sunk</th>\n",
              "      <th>survive</th>\n",
              "      <th>survived</th>\n",
              "      <th>survivors</th>\n",
              "      <th>terrorism</th>\n",
              "      <th>terrorist</th>\n",
              "      <th>threat</th>\n",
              "      <th>thunder</th>\n",
              "      <th>thunderstorm</th>\n",
              "      <th>tornado</th>\n",
              "      <th>tragedy</th>\n",
              "      <th>trapped</th>\n",
              "      <th>trauma</th>\n",
              "      <th>traumatised</th>\n",
              "      <th>trouble</th>\n",
              "      <th>tsunami</th>\n",
              "      <th>twister</th>\n",
              "      <th>typhoon</th>\n",
              "      <th>upheaval</th>\n",
              "      <th>violent_storm</th>\n",
              "      <th>volcano</th>\n",
              "      <th>war_zone</th>\n",
              "      <th>weapon</th>\n",
              "      <th>weapons</th>\n",
              "      <th>whirlwind</th>\n",
              "      <th>wild_fires</th>\n",
              "      <th>wildfire</th>\n",
              "      <th>windstorm</th>\n",
              "      <th>wounded</th>\n",
              "      <th>wounds</th>\n",
              "      <th>wreck</th>\n",
              "      <th>wreckage</th>\n",
              "      <th>wrecked</th>\n",
              "    </tr>\n",
              "  </thead>\n",
              "  <tbody>\n",
              "    <tr>\n",
              "      <th>0</th>\n",
              "      <td>sin keyword</td>\n",
              "      <td>sin location</td>\n",
              "      <td>Our Deeds are the Reason of this #earthquake M...</td>\n",
              "      <td>1</td>\n",
              "      <td>69</td>\n",
              "      <td>tweet verdadero</td>\n",
              "      <td>tw w/characts.below AVG ocurrs</td>\n",
              "      <td>[our, deeds, are, the, reason, of, this, earth...</td>\n",
              "      <td>[deeds, reason, earthquake, may, allah, forgiv...</td>\n",
              "      <td>13</td>\n",
              "      <td>7</td>\n",
              "      <td>0</td>\n",
              "      <td>0</td>\n",
              "      <td>0</td>\n",
              "      <td>0</td>\n",
              "      <td>0</td>\n",
              "      <td>0</td>\n",
              "      <td>0</td>\n",
              "      <td>0</td>\n",
              "      <td>0</td>\n",
              "      <td>0</td>\n",
              "      <td>0</td>\n",
              "      <td>0</td>\n",
              "      <td>0</td>\n",
              "      <td>0</td>\n",
              "      <td>0</td>\n",
              "      <td>0</td>\n",
              "      <td>0</td>\n",
              "      <td>0</td>\n",
              "      <td>0</td>\n",
              "      <td>0</td>\n",
              "      <td>0</td>\n",
              "      <td>0</td>\n",
              "      <td>0</td>\n",
              "      <td>0</td>\n",
              "      <td>0</td>\n",
              "      <td>0</td>\n",
              "      <td>0</td>\n",
              "      <td>0</td>\n",
              "      <td>0</td>\n",
              "      <td>...</td>\n",
              "      <td>0</td>\n",
              "      <td>0</td>\n",
              "      <td>0</td>\n",
              "      <td>0</td>\n",
              "      <td>0</td>\n",
              "      <td>0</td>\n",
              "      <td>0</td>\n",
              "      <td>0</td>\n",
              "      <td>0</td>\n",
              "      <td>0</td>\n",
              "      <td>0</td>\n",
              "      <td>0</td>\n",
              "      <td>0</td>\n",
              "      <td>0</td>\n",
              "      <td>0</td>\n",
              "      <td>0</td>\n",
              "      <td>0</td>\n",
              "      <td>0</td>\n",
              "      <td>0</td>\n",
              "      <td>0</td>\n",
              "      <td>0</td>\n",
              "      <td>0</td>\n",
              "      <td>0</td>\n",
              "      <td>0</td>\n",
              "      <td>0</td>\n",
              "      <td>0</td>\n",
              "      <td>0</td>\n",
              "      <td>0</td>\n",
              "      <td>0</td>\n",
              "      <td>0</td>\n",
              "      <td>0</td>\n",
              "      <td>0</td>\n",
              "      <td>0</td>\n",
              "      <td>0</td>\n",
              "      <td>0</td>\n",
              "      <td>0</td>\n",
              "      <td>0</td>\n",
              "      <td>0</td>\n",
              "      <td>0</td>\n",
              "      <td>0</td>\n",
              "    </tr>\n",
              "    <tr>\n",
              "      <th>1</th>\n",
              "      <td>sin keyword</td>\n",
              "      <td>sin location</td>\n",
              "      <td>Forest fire near La Ronge Sask. Canada</td>\n",
              "      <td>1</td>\n",
              "      <td>38</td>\n",
              "      <td>tweet verdadero</td>\n",
              "      <td>tw w/characts.below AVG ocurrs</td>\n",
              "      <td>[forest, fire, near, la, ronge, sask, canada]</td>\n",
              "      <td>[forest, fire, near, la, ronge, sask, canada]</td>\n",
              "      <td>7</td>\n",
              "      <td>7</td>\n",
              "      <td>0</td>\n",
              "      <td>0</td>\n",
              "      <td>0</td>\n",
              "      <td>0</td>\n",
              "      <td>0</td>\n",
              "      <td>0</td>\n",
              "      <td>0</td>\n",
              "      <td>0</td>\n",
              "      <td>0</td>\n",
              "      <td>0</td>\n",
              "      <td>0</td>\n",
              "      <td>0</td>\n",
              "      <td>0</td>\n",
              "      <td>0</td>\n",
              "      <td>0</td>\n",
              "      <td>0</td>\n",
              "      <td>0</td>\n",
              "      <td>0</td>\n",
              "      <td>0</td>\n",
              "      <td>0</td>\n",
              "      <td>0</td>\n",
              "      <td>0</td>\n",
              "      <td>0</td>\n",
              "      <td>0</td>\n",
              "      <td>0</td>\n",
              "      <td>0</td>\n",
              "      <td>0</td>\n",
              "      <td>0</td>\n",
              "      <td>0</td>\n",
              "      <td>...</td>\n",
              "      <td>0</td>\n",
              "      <td>0</td>\n",
              "      <td>0</td>\n",
              "      <td>0</td>\n",
              "      <td>0</td>\n",
              "      <td>0</td>\n",
              "      <td>0</td>\n",
              "      <td>0</td>\n",
              "      <td>0</td>\n",
              "      <td>0</td>\n",
              "      <td>0</td>\n",
              "      <td>0</td>\n",
              "      <td>0</td>\n",
              "      <td>0</td>\n",
              "      <td>0</td>\n",
              "      <td>0</td>\n",
              "      <td>0</td>\n",
              "      <td>0</td>\n",
              "      <td>0</td>\n",
              "      <td>0</td>\n",
              "      <td>0</td>\n",
              "      <td>0</td>\n",
              "      <td>0</td>\n",
              "      <td>0</td>\n",
              "      <td>0</td>\n",
              "      <td>0</td>\n",
              "      <td>0</td>\n",
              "      <td>0</td>\n",
              "      <td>0</td>\n",
              "      <td>0</td>\n",
              "      <td>0</td>\n",
              "      <td>0</td>\n",
              "      <td>0</td>\n",
              "      <td>0</td>\n",
              "      <td>0</td>\n",
              "      <td>0</td>\n",
              "      <td>0</td>\n",
              "      <td>0</td>\n",
              "      <td>0</td>\n",
              "      <td>0</td>\n",
              "    </tr>\n",
              "  </tbody>\n",
              "</table>\n",
              "<p>2 rows × 232 columns</p>\n",
              "</div>"
            ],
            "text/plain": [
              "       keyword      location  ... wreckage  wrecked\n",
              "0  sin keyword  sin location  ...        0        0\n",
              "1  sin keyword  sin location  ...        0        0\n",
              "\n",
              "[2 rows x 232 columns]"
            ]
          },
          "metadata": {
            "tags": []
          },
          "execution_count": 276
        }
      ]
    },
    {
      "cell_type": "code",
      "metadata": {
        "id": "4ldMLTArQXJq",
        "colab_type": "code",
        "colab": {}
      },
      "source": [
        "# Exporto a .csv para verificar estructura\n",
        "df_train_merged_final.to_csv('columna_texto_vector_filtrado.csv')"
      ],
      "execution_count": 0,
      "outputs": []
    },
    {
      "cell_type": "code",
      "metadata": {
        "id": "6JASxLrDK9nP",
        "colab_type": "code",
        "outputId": "95198b83-13fd-4099-a653-309b463557cd",
        "colab": {
          "base_uri": "https://localhost:8080/",
          "height": 221
        }
      },
      "source": [
        "print(df_train_merged_final['text_vector_filtrado'])"
      ],
      "execution_count": 278,
      "outputs": [
        {
          "output_type": "stream",
          "text": [
            "0       [deeds, reason, earthquake, may, allah, forgiv...\n",
            "1           [forest, fire, near, la, ronge, sask, canada]\n",
            "2       [residents, asked, shelter, place, notified, o...\n",
            "3       [13000, people, receive, wildfires, evacuation...\n",
            "4       [got, sent, photo, ruby, alaska, smoke, wildfi...\n",
            "                              ...                        \n",
            "7604    [worldnews, fallen, powerlines, glink, tram, u...\n",
            "7605    [flip, side, im, walmart, bomb, everyone, evac...\n",
            "7606    [suicide, bomber, kills, 15, saudi, security, ...\n",
            "7608    [two, giant, cranes, holding, bridge, collapse...\n",
            "7612    [latest, homes, razed, northern, california, w...\n",
            "Name: text_vector_filtrado, Length: 7503, dtype: object\n"
          ],
          "name": "stdout"
        }
      ]
    },
    {
      "cell_type": "markdown",
      "metadata": {
        "id": "eifuTrzTXWEM",
        "colab_type": "text"
      },
      "source": [
        "Vectorizo con el feature **CountVectorizer**"
      ]
    },
    {
      "cell_type": "code",
      "metadata": {
        "id": "PZ5yBpFBzLU3",
        "colab_type": "code",
        "colab": {}
      },
      "source": [
        "from sklearn.feature_extraction.text import CountVectorizer, TfidfTransformer, TfidfVectorizer"
      ],
      "execution_count": 0,
      "outputs": []
    },
    {
      "cell_type": "code",
      "metadata": {
        "id": "E8WrI8pvzLTa",
        "colab_type": "code",
        "colab": {
          "base_uri": "https://localhost:8080/",
          "height": 221
        },
        "outputId": "3349395c-1070-429a-e96e-3c38c1cfeea9"
      },
      "source": [
        "# Defino los documentos/vector\n",
        "documents=(df_train_merged_final['text'])\n",
        "documents"
      ],
      "execution_count": 342,
      "outputs": [
        {
          "output_type": "execute_result",
          "data": {
            "text/plain": [
              "0       Our Deeds are the Reason of this #earthquake M...\n",
              "1                  Forest fire near La Ronge Sask. Canada\n",
              "2       All residents asked to 'shelter in place' are ...\n",
              "3       13,000 people receive #wildfires evacuation or...\n",
              "4       Just got sent this photo from Ruby #Alaska as ...\n",
              "                              ...                        \n",
              "7604    #WorldNews Fallen powerlines on G:link tram: U...\n",
              "7605    on the flip side I'm at Walmart and there is a...\n",
              "7606    Suicide bomber kills 15 in Saudi security site...\n",
              "7608    Two giant cranes holding a bridge collapse int...\n",
              "7612    The Latest: More Homes Razed by Northern Calif...\n",
              "Name: text, Length: 7503, dtype: object"
            ]
          },
          "metadata": {
            "tags": []
          },
          "execution_count": 342
        }
      ]
    },
    {
      "cell_type": "code",
      "metadata": {
        "id": "nOiNTmDG4YP5",
        "colab_type": "code",
        "colab": {}
      },
      "source": [
        "vectorizer=CountVectorizer(stop_words='english')\n",
        "vectors=vectorizer.fit_transform(documents)\n",
        "names=vectorizer.get_feature_names()\n",
        "#names"
      ],
      "execution_count": 0,
      "outputs": []
    },
    {
      "cell_type": "code",
      "metadata": {
        "id": "awhB7kgI5Ffq",
        "colab_type": "code",
        "colab": {
          "base_uri": "https://localhost:8080/",
          "height": 136
        },
        "outputId": "85b1e36a-172e-4c9c-bddc-78aae35908a2"
      },
      "source": [
        "doc_array=vectorizer.transform(documents).toarray()\n",
        "doc_array"
      ],
      "execution_count": 348,
      "outputs": [
        {
          "output_type": "execute_result",
          "data": {
            "text/plain": [
              "array([[0, 0, 0, ..., 0, 0, 0],\n",
              "       [0, 0, 0, ..., 0, 0, 0],\n",
              "       [0, 0, 0, ..., 0, 0, 0],\n",
              "       ...,\n",
              "       [0, 0, 0, ..., 0, 0, 0],\n",
              "       [0, 0, 0, ..., 0, 0, 0],\n",
              "       [0, 0, 0, ..., 0, 0, 0]])"
            ]
          },
          "metadata": {
            "tags": []
          },
          "execution_count": 348
        }
      ]
    },
    {
      "cell_type": "markdown",
      "metadata": {
        "id": "CD5VOUkr58bW",
        "colab_type": "text"
      },
      "source": [
        "### Implementación de **BoW** O **Bag of Word**"
      ]
    },
    {
      "cell_type": "code",
      "metadata": {
        "id": "T_-10tzc5Y7q",
        "colab_type": "code",
        "colab": {
          "base_uri": "https://localhost:8080/",
          "height": 439
        },
        "outputId": "3ef7d1ac-8de5-4d2e-c877-6cd8e5b8f51e"
      },
      "source": [
        "frecuency_matrix=pd.DataFrame(data=doc_array, columns=names)\n",
        "frecuency_matrix"
      ],
      "execution_count": 351,
      "outputs": [
        {
          "output_type": "execute_result",
          "data": {
            "text/html": [
              "<div>\n",
              "<style scoped>\n",
              "    .dataframe tbody tr th:only-of-type {\n",
              "        vertical-align: middle;\n",
              "    }\n",
              "\n",
              "    .dataframe tbody tr th {\n",
              "        vertical-align: top;\n",
              "    }\n",
              "\n",
              "    .dataframe thead th {\n",
              "        text-align: right;\n",
              "    }\n",
              "</style>\n",
              "<table border=\"1\" class=\"dataframe\">\n",
              "  <thead>\n",
              "    <tr style=\"text-align: right;\">\n",
              "      <th></th>\n",
              "      <th>00</th>\n",
              "      <th>000</th>\n",
              "      <th>0000</th>\n",
              "      <th>007npen6lg</th>\n",
              "      <th>00cy9vxeff</th>\n",
              "      <th>00end</th>\n",
              "      <th>00pm</th>\n",
              "      <th>01</th>\n",
              "      <th>02</th>\n",
              "      <th>0215</th>\n",
              "      <th>02elqlopfk</th>\n",
              "      <th>02pm</th>\n",
              "      <th>03</th>\n",
              "      <th>030</th>\n",
              "      <th>033</th>\n",
              "      <th>034</th>\n",
              "      <th>039</th>\n",
              "      <th>03l7nwqdje</th>\n",
              "      <th>04</th>\n",
              "      <th>05</th>\n",
              "      <th>05th</th>\n",
              "      <th>06</th>\n",
              "      <th>060</th>\n",
              "      <th>061</th>\n",
              "      <th>06jst</th>\n",
              "      <th>07</th>\n",
              "      <th>073izwx0lb</th>\n",
              "      <th>08</th>\n",
              "      <th>0840728</th>\n",
              "      <th>0853</th>\n",
              "      <th>087809233445</th>\n",
              "      <th>0880</th>\n",
              "      <th>08lngclzsj</th>\n",
              "      <th>09</th>\n",
              "      <th>0abgfglh7x</th>\n",
              "      <th>0ajisa5531</th>\n",
              "      <th>0blkwcupzq</th>\n",
              "      <th>0btniwagt1</th>\n",
              "      <th>0bvk5tub4j</th>\n",
              "      <th>0c1y8g7e9p</th>\n",
              "      <th>...</th>\n",
              "      <th>ûªre</th>\n",
              "      <th>ûªs</th>\n",
              "      <th>ûªt</th>\n",
              "      <th>ûªve</th>\n",
              "      <th>ûï</th>\n",
              "      <th>ûïa</th>\n",
              "      <th>ûïafter</th>\n",
              "      <th>ûïairplane</th>\n",
              "      <th>ûïall</th>\n",
              "      <th>ûïcat</th>\n",
              "      <th>ûïdetonate</th>\n",
              "      <th>ûïfor</th>\n",
              "      <th>ûïhatchet</th>\n",
              "      <th>ûïi</th>\n",
              "      <th>ûïlittle</th>\n",
              "      <th>ûïlove</th>\n",
              "      <th>ûïmake</th>\n",
              "      <th>ûïnews</th>\n",
              "      <th>ûïnobody</th>\n",
              "      <th>ûïnumbers</th>\n",
              "      <th>ûïparties</th>\n",
              "      <th>ûïplans</th>\n",
              "      <th>ûïrichmond</th>\n",
              "      <th>ûïsippin</th>\n",
              "      <th>ûïstretcher</th>\n",
              "      <th>ûïthat</th>\n",
              "      <th>ûïthe</th>\n",
              "      <th>ûïwe</th>\n",
              "      <th>ûïwhen</th>\n",
              "      <th>ûïyou</th>\n",
              "      <th>ûò</th>\n",
              "      <th>ûò800000</th>\n",
              "      <th>ûòthe</th>\n",
              "      <th>ûòåêcnbc</th>\n",
              "      <th>ûó</th>\n",
              "      <th>ûóher</th>\n",
              "      <th>ûókody</th>\n",
              "      <th>ûónegligence</th>\n",
              "      <th>ûótech</th>\n",
              "      <th>ûówe</th>\n",
              "    </tr>\n",
              "  </thead>\n",
              "  <tbody>\n",
              "    <tr>\n",
              "      <th>0</th>\n",
              "      <td>0</td>\n",
              "      <td>0</td>\n",
              "      <td>0</td>\n",
              "      <td>0</td>\n",
              "      <td>0</td>\n",
              "      <td>0</td>\n",
              "      <td>0</td>\n",
              "      <td>0</td>\n",
              "      <td>0</td>\n",
              "      <td>0</td>\n",
              "      <td>0</td>\n",
              "      <td>0</td>\n",
              "      <td>0</td>\n",
              "      <td>0</td>\n",
              "      <td>0</td>\n",
              "      <td>0</td>\n",
              "      <td>0</td>\n",
              "      <td>0</td>\n",
              "      <td>0</td>\n",
              "      <td>0</td>\n",
              "      <td>0</td>\n",
              "      <td>0</td>\n",
              "      <td>0</td>\n",
              "      <td>0</td>\n",
              "      <td>0</td>\n",
              "      <td>0</td>\n",
              "      <td>0</td>\n",
              "      <td>0</td>\n",
              "      <td>0</td>\n",
              "      <td>0</td>\n",
              "      <td>0</td>\n",
              "      <td>0</td>\n",
              "      <td>0</td>\n",
              "      <td>0</td>\n",
              "      <td>0</td>\n",
              "      <td>0</td>\n",
              "      <td>0</td>\n",
              "      <td>0</td>\n",
              "      <td>0</td>\n",
              "      <td>0</td>\n",
              "      <td>...</td>\n",
              "      <td>0</td>\n",
              "      <td>0</td>\n",
              "      <td>0</td>\n",
              "      <td>0</td>\n",
              "      <td>0</td>\n",
              "      <td>0</td>\n",
              "      <td>0</td>\n",
              "      <td>0</td>\n",
              "      <td>0</td>\n",
              "      <td>0</td>\n",
              "      <td>0</td>\n",
              "      <td>0</td>\n",
              "      <td>0</td>\n",
              "      <td>0</td>\n",
              "      <td>0</td>\n",
              "      <td>0</td>\n",
              "      <td>0</td>\n",
              "      <td>0</td>\n",
              "      <td>0</td>\n",
              "      <td>0</td>\n",
              "      <td>0</td>\n",
              "      <td>0</td>\n",
              "      <td>0</td>\n",
              "      <td>0</td>\n",
              "      <td>0</td>\n",
              "      <td>0</td>\n",
              "      <td>0</td>\n",
              "      <td>0</td>\n",
              "      <td>0</td>\n",
              "      <td>0</td>\n",
              "      <td>0</td>\n",
              "      <td>0</td>\n",
              "      <td>0</td>\n",
              "      <td>0</td>\n",
              "      <td>0</td>\n",
              "      <td>0</td>\n",
              "      <td>0</td>\n",
              "      <td>0</td>\n",
              "      <td>0</td>\n",
              "      <td>0</td>\n",
              "    </tr>\n",
              "    <tr>\n",
              "      <th>1</th>\n",
              "      <td>0</td>\n",
              "      <td>0</td>\n",
              "      <td>0</td>\n",
              "      <td>0</td>\n",
              "      <td>0</td>\n",
              "      <td>0</td>\n",
              "      <td>0</td>\n",
              "      <td>0</td>\n",
              "      <td>0</td>\n",
              "      <td>0</td>\n",
              "      <td>0</td>\n",
              "      <td>0</td>\n",
              "      <td>0</td>\n",
              "      <td>0</td>\n",
              "      <td>0</td>\n",
              "      <td>0</td>\n",
              "      <td>0</td>\n",
              "      <td>0</td>\n",
              "      <td>0</td>\n",
              "      <td>0</td>\n",
              "      <td>0</td>\n",
              "      <td>0</td>\n",
              "      <td>0</td>\n",
              "      <td>0</td>\n",
              "      <td>0</td>\n",
              "      <td>0</td>\n",
              "      <td>0</td>\n",
              "      <td>0</td>\n",
              "      <td>0</td>\n",
              "      <td>0</td>\n",
              "      <td>0</td>\n",
              "      <td>0</td>\n",
              "      <td>0</td>\n",
              "      <td>0</td>\n",
              "      <td>0</td>\n",
              "      <td>0</td>\n",
              "      <td>0</td>\n",
              "      <td>0</td>\n",
              "      <td>0</td>\n",
              "      <td>0</td>\n",
              "      <td>...</td>\n",
              "      <td>0</td>\n",
              "      <td>0</td>\n",
              "      <td>0</td>\n",
              "      <td>0</td>\n",
              "      <td>0</td>\n",
              "      <td>0</td>\n",
              "      <td>0</td>\n",
              "      <td>0</td>\n",
              "      <td>0</td>\n",
              "      <td>0</td>\n",
              "      <td>0</td>\n",
              "      <td>0</td>\n",
              "      <td>0</td>\n",
              "      <td>0</td>\n",
              "      <td>0</td>\n",
              "      <td>0</td>\n",
              "      <td>0</td>\n",
              "      <td>0</td>\n",
              "      <td>0</td>\n",
              "      <td>0</td>\n",
              "      <td>0</td>\n",
              "      <td>0</td>\n",
              "      <td>0</td>\n",
              "      <td>0</td>\n",
              "      <td>0</td>\n",
              "      <td>0</td>\n",
              "      <td>0</td>\n",
              "      <td>0</td>\n",
              "      <td>0</td>\n",
              "      <td>0</td>\n",
              "      <td>0</td>\n",
              "      <td>0</td>\n",
              "      <td>0</td>\n",
              "      <td>0</td>\n",
              "      <td>0</td>\n",
              "      <td>0</td>\n",
              "      <td>0</td>\n",
              "      <td>0</td>\n",
              "      <td>0</td>\n",
              "      <td>0</td>\n",
              "    </tr>\n",
              "    <tr>\n",
              "      <th>2</th>\n",
              "      <td>0</td>\n",
              "      <td>0</td>\n",
              "      <td>0</td>\n",
              "      <td>0</td>\n",
              "      <td>0</td>\n",
              "      <td>0</td>\n",
              "      <td>0</td>\n",
              "      <td>0</td>\n",
              "      <td>0</td>\n",
              "      <td>0</td>\n",
              "      <td>0</td>\n",
              "      <td>0</td>\n",
              "      <td>0</td>\n",
              "      <td>0</td>\n",
              "      <td>0</td>\n",
              "      <td>0</td>\n",
              "      <td>0</td>\n",
              "      <td>0</td>\n",
              "      <td>0</td>\n",
              "      <td>0</td>\n",
              "      <td>0</td>\n",
              "      <td>0</td>\n",
              "      <td>0</td>\n",
              "      <td>0</td>\n",
              "      <td>0</td>\n",
              "      <td>0</td>\n",
              "      <td>0</td>\n",
              "      <td>0</td>\n",
              "      <td>0</td>\n",
              "      <td>0</td>\n",
              "      <td>0</td>\n",
              "      <td>0</td>\n",
              "      <td>0</td>\n",
              "      <td>0</td>\n",
              "      <td>0</td>\n",
              "      <td>0</td>\n",
              "      <td>0</td>\n",
              "      <td>0</td>\n",
              "      <td>0</td>\n",
              "      <td>0</td>\n",
              "      <td>...</td>\n",
              "      <td>0</td>\n",
              "      <td>0</td>\n",
              "      <td>0</td>\n",
              "      <td>0</td>\n",
              "      <td>0</td>\n",
              "      <td>0</td>\n",
              "      <td>0</td>\n",
              "      <td>0</td>\n",
              "      <td>0</td>\n",
              "      <td>0</td>\n",
              "      <td>0</td>\n",
              "      <td>0</td>\n",
              "      <td>0</td>\n",
              "      <td>0</td>\n",
              "      <td>0</td>\n",
              "      <td>0</td>\n",
              "      <td>0</td>\n",
              "      <td>0</td>\n",
              "      <td>0</td>\n",
              "      <td>0</td>\n",
              "      <td>0</td>\n",
              "      <td>0</td>\n",
              "      <td>0</td>\n",
              "      <td>0</td>\n",
              "      <td>0</td>\n",
              "      <td>0</td>\n",
              "      <td>0</td>\n",
              "      <td>0</td>\n",
              "      <td>0</td>\n",
              "      <td>0</td>\n",
              "      <td>0</td>\n",
              "      <td>0</td>\n",
              "      <td>0</td>\n",
              "      <td>0</td>\n",
              "      <td>0</td>\n",
              "      <td>0</td>\n",
              "      <td>0</td>\n",
              "      <td>0</td>\n",
              "      <td>0</td>\n",
              "      <td>0</td>\n",
              "    </tr>\n",
              "    <tr>\n",
              "      <th>3</th>\n",
              "      <td>0</td>\n",
              "      <td>1</td>\n",
              "      <td>0</td>\n",
              "      <td>0</td>\n",
              "      <td>0</td>\n",
              "      <td>0</td>\n",
              "      <td>0</td>\n",
              "      <td>0</td>\n",
              "      <td>0</td>\n",
              "      <td>0</td>\n",
              "      <td>0</td>\n",
              "      <td>0</td>\n",
              "      <td>0</td>\n",
              "      <td>0</td>\n",
              "      <td>0</td>\n",
              "      <td>0</td>\n",
              "      <td>0</td>\n",
              "      <td>0</td>\n",
              "      <td>0</td>\n",
              "      <td>0</td>\n",
              "      <td>0</td>\n",
              "      <td>0</td>\n",
              "      <td>0</td>\n",
              "      <td>0</td>\n",
              "      <td>0</td>\n",
              "      <td>0</td>\n",
              "      <td>0</td>\n",
              "      <td>0</td>\n",
              "      <td>0</td>\n",
              "      <td>0</td>\n",
              "      <td>0</td>\n",
              "      <td>0</td>\n",
              "      <td>0</td>\n",
              "      <td>0</td>\n",
              "      <td>0</td>\n",
              "      <td>0</td>\n",
              "      <td>0</td>\n",
              "      <td>0</td>\n",
              "      <td>0</td>\n",
              "      <td>0</td>\n",
              "      <td>...</td>\n",
              "      <td>0</td>\n",
              "      <td>0</td>\n",
              "      <td>0</td>\n",
              "      <td>0</td>\n",
              "      <td>0</td>\n",
              "      <td>0</td>\n",
              "      <td>0</td>\n",
              "      <td>0</td>\n",
              "      <td>0</td>\n",
              "      <td>0</td>\n",
              "      <td>0</td>\n",
              "      <td>0</td>\n",
              "      <td>0</td>\n",
              "      <td>0</td>\n",
              "      <td>0</td>\n",
              "      <td>0</td>\n",
              "      <td>0</td>\n",
              "      <td>0</td>\n",
              "      <td>0</td>\n",
              "      <td>0</td>\n",
              "      <td>0</td>\n",
              "      <td>0</td>\n",
              "      <td>0</td>\n",
              "      <td>0</td>\n",
              "      <td>0</td>\n",
              "      <td>0</td>\n",
              "      <td>0</td>\n",
              "      <td>0</td>\n",
              "      <td>0</td>\n",
              "      <td>0</td>\n",
              "      <td>0</td>\n",
              "      <td>0</td>\n",
              "      <td>0</td>\n",
              "      <td>0</td>\n",
              "      <td>0</td>\n",
              "      <td>0</td>\n",
              "      <td>0</td>\n",
              "      <td>0</td>\n",
              "      <td>0</td>\n",
              "      <td>0</td>\n",
              "    </tr>\n",
              "    <tr>\n",
              "      <th>4</th>\n",
              "      <td>0</td>\n",
              "      <td>0</td>\n",
              "      <td>0</td>\n",
              "      <td>0</td>\n",
              "      <td>0</td>\n",
              "      <td>0</td>\n",
              "      <td>0</td>\n",
              "      <td>0</td>\n",
              "      <td>0</td>\n",
              "      <td>0</td>\n",
              "      <td>0</td>\n",
              "      <td>0</td>\n",
              "      <td>0</td>\n",
              "      <td>0</td>\n",
              "      <td>0</td>\n",
              "      <td>0</td>\n",
              "      <td>0</td>\n",
              "      <td>0</td>\n",
              "      <td>0</td>\n",
              "      <td>0</td>\n",
              "      <td>0</td>\n",
              "      <td>0</td>\n",
              "      <td>0</td>\n",
              "      <td>0</td>\n",
              "      <td>0</td>\n",
              "      <td>0</td>\n",
              "      <td>0</td>\n",
              "      <td>0</td>\n",
              "      <td>0</td>\n",
              "      <td>0</td>\n",
              "      <td>0</td>\n",
              "      <td>0</td>\n",
              "      <td>0</td>\n",
              "      <td>0</td>\n",
              "      <td>0</td>\n",
              "      <td>0</td>\n",
              "      <td>0</td>\n",
              "      <td>0</td>\n",
              "      <td>0</td>\n",
              "      <td>0</td>\n",
              "      <td>...</td>\n",
              "      <td>0</td>\n",
              "      <td>0</td>\n",
              "      <td>0</td>\n",
              "      <td>0</td>\n",
              "      <td>0</td>\n",
              "      <td>0</td>\n",
              "      <td>0</td>\n",
              "      <td>0</td>\n",
              "      <td>0</td>\n",
              "      <td>0</td>\n",
              "      <td>0</td>\n",
              "      <td>0</td>\n",
              "      <td>0</td>\n",
              "      <td>0</td>\n",
              "      <td>0</td>\n",
              "      <td>0</td>\n",
              "      <td>0</td>\n",
              "      <td>0</td>\n",
              "      <td>0</td>\n",
              "      <td>0</td>\n",
              "      <td>0</td>\n",
              "      <td>0</td>\n",
              "      <td>0</td>\n",
              "      <td>0</td>\n",
              "      <td>0</td>\n",
              "      <td>0</td>\n",
              "      <td>0</td>\n",
              "      <td>0</td>\n",
              "      <td>0</td>\n",
              "      <td>0</td>\n",
              "      <td>0</td>\n",
              "      <td>0</td>\n",
              "      <td>0</td>\n",
              "      <td>0</td>\n",
              "      <td>0</td>\n",
              "      <td>0</td>\n",
              "      <td>0</td>\n",
              "      <td>0</td>\n",
              "      <td>0</td>\n",
              "      <td>0</td>\n",
              "    </tr>\n",
              "    <tr>\n",
              "      <th>...</th>\n",
              "      <td>...</td>\n",
              "      <td>...</td>\n",
              "      <td>...</td>\n",
              "      <td>...</td>\n",
              "      <td>...</td>\n",
              "      <td>...</td>\n",
              "      <td>...</td>\n",
              "      <td>...</td>\n",
              "      <td>...</td>\n",
              "      <td>...</td>\n",
              "      <td>...</td>\n",
              "      <td>...</td>\n",
              "      <td>...</td>\n",
              "      <td>...</td>\n",
              "      <td>...</td>\n",
              "      <td>...</td>\n",
              "      <td>...</td>\n",
              "      <td>...</td>\n",
              "      <td>...</td>\n",
              "      <td>...</td>\n",
              "      <td>...</td>\n",
              "      <td>...</td>\n",
              "      <td>...</td>\n",
              "      <td>...</td>\n",
              "      <td>...</td>\n",
              "      <td>...</td>\n",
              "      <td>...</td>\n",
              "      <td>...</td>\n",
              "      <td>...</td>\n",
              "      <td>...</td>\n",
              "      <td>...</td>\n",
              "      <td>...</td>\n",
              "      <td>...</td>\n",
              "      <td>...</td>\n",
              "      <td>...</td>\n",
              "      <td>...</td>\n",
              "      <td>...</td>\n",
              "      <td>...</td>\n",
              "      <td>...</td>\n",
              "      <td>...</td>\n",
              "      <td>...</td>\n",
              "      <td>...</td>\n",
              "      <td>...</td>\n",
              "      <td>...</td>\n",
              "      <td>...</td>\n",
              "      <td>...</td>\n",
              "      <td>...</td>\n",
              "      <td>...</td>\n",
              "      <td>...</td>\n",
              "      <td>...</td>\n",
              "      <td>...</td>\n",
              "      <td>...</td>\n",
              "      <td>...</td>\n",
              "      <td>...</td>\n",
              "      <td>...</td>\n",
              "      <td>...</td>\n",
              "      <td>...</td>\n",
              "      <td>...</td>\n",
              "      <td>...</td>\n",
              "      <td>...</td>\n",
              "      <td>...</td>\n",
              "      <td>...</td>\n",
              "      <td>...</td>\n",
              "      <td>...</td>\n",
              "      <td>...</td>\n",
              "      <td>...</td>\n",
              "      <td>...</td>\n",
              "      <td>...</td>\n",
              "      <td>...</td>\n",
              "      <td>...</td>\n",
              "      <td>...</td>\n",
              "      <td>...</td>\n",
              "      <td>...</td>\n",
              "      <td>...</td>\n",
              "      <td>...</td>\n",
              "      <td>...</td>\n",
              "      <td>...</td>\n",
              "      <td>...</td>\n",
              "      <td>...</td>\n",
              "      <td>...</td>\n",
              "      <td>...</td>\n",
              "    </tr>\n",
              "    <tr>\n",
              "      <th>7498</th>\n",
              "      <td>0</td>\n",
              "      <td>0</td>\n",
              "      <td>0</td>\n",
              "      <td>0</td>\n",
              "      <td>0</td>\n",
              "      <td>0</td>\n",
              "      <td>0</td>\n",
              "      <td>0</td>\n",
              "      <td>0</td>\n",
              "      <td>0</td>\n",
              "      <td>0</td>\n",
              "      <td>0</td>\n",
              "      <td>0</td>\n",
              "      <td>0</td>\n",
              "      <td>0</td>\n",
              "      <td>0</td>\n",
              "      <td>0</td>\n",
              "      <td>0</td>\n",
              "      <td>0</td>\n",
              "      <td>0</td>\n",
              "      <td>0</td>\n",
              "      <td>0</td>\n",
              "      <td>0</td>\n",
              "      <td>0</td>\n",
              "      <td>0</td>\n",
              "      <td>0</td>\n",
              "      <td>0</td>\n",
              "      <td>0</td>\n",
              "      <td>0</td>\n",
              "      <td>0</td>\n",
              "      <td>0</td>\n",
              "      <td>0</td>\n",
              "      <td>0</td>\n",
              "      <td>0</td>\n",
              "      <td>0</td>\n",
              "      <td>0</td>\n",
              "      <td>0</td>\n",
              "      <td>0</td>\n",
              "      <td>0</td>\n",
              "      <td>0</td>\n",
              "      <td>...</td>\n",
              "      <td>0</td>\n",
              "      <td>0</td>\n",
              "      <td>0</td>\n",
              "      <td>0</td>\n",
              "      <td>0</td>\n",
              "      <td>0</td>\n",
              "      <td>0</td>\n",
              "      <td>0</td>\n",
              "      <td>0</td>\n",
              "      <td>0</td>\n",
              "      <td>0</td>\n",
              "      <td>0</td>\n",
              "      <td>0</td>\n",
              "      <td>0</td>\n",
              "      <td>0</td>\n",
              "      <td>0</td>\n",
              "      <td>0</td>\n",
              "      <td>0</td>\n",
              "      <td>0</td>\n",
              "      <td>0</td>\n",
              "      <td>0</td>\n",
              "      <td>0</td>\n",
              "      <td>0</td>\n",
              "      <td>0</td>\n",
              "      <td>0</td>\n",
              "      <td>0</td>\n",
              "      <td>0</td>\n",
              "      <td>0</td>\n",
              "      <td>0</td>\n",
              "      <td>0</td>\n",
              "      <td>0</td>\n",
              "      <td>0</td>\n",
              "      <td>0</td>\n",
              "      <td>0</td>\n",
              "      <td>0</td>\n",
              "      <td>0</td>\n",
              "      <td>0</td>\n",
              "      <td>0</td>\n",
              "      <td>0</td>\n",
              "      <td>0</td>\n",
              "    </tr>\n",
              "    <tr>\n",
              "      <th>7499</th>\n",
              "      <td>0</td>\n",
              "      <td>0</td>\n",
              "      <td>0</td>\n",
              "      <td>0</td>\n",
              "      <td>0</td>\n",
              "      <td>0</td>\n",
              "      <td>0</td>\n",
              "      <td>0</td>\n",
              "      <td>0</td>\n",
              "      <td>0</td>\n",
              "      <td>0</td>\n",
              "      <td>0</td>\n",
              "      <td>0</td>\n",
              "      <td>0</td>\n",
              "      <td>0</td>\n",
              "      <td>0</td>\n",
              "      <td>0</td>\n",
              "      <td>0</td>\n",
              "      <td>0</td>\n",
              "      <td>0</td>\n",
              "      <td>0</td>\n",
              "      <td>0</td>\n",
              "      <td>0</td>\n",
              "      <td>0</td>\n",
              "      <td>0</td>\n",
              "      <td>0</td>\n",
              "      <td>0</td>\n",
              "      <td>0</td>\n",
              "      <td>0</td>\n",
              "      <td>0</td>\n",
              "      <td>0</td>\n",
              "      <td>0</td>\n",
              "      <td>0</td>\n",
              "      <td>0</td>\n",
              "      <td>0</td>\n",
              "      <td>0</td>\n",
              "      <td>0</td>\n",
              "      <td>0</td>\n",
              "      <td>0</td>\n",
              "      <td>0</td>\n",
              "      <td>...</td>\n",
              "      <td>0</td>\n",
              "      <td>0</td>\n",
              "      <td>0</td>\n",
              "      <td>0</td>\n",
              "      <td>0</td>\n",
              "      <td>0</td>\n",
              "      <td>0</td>\n",
              "      <td>0</td>\n",
              "      <td>0</td>\n",
              "      <td>0</td>\n",
              "      <td>0</td>\n",
              "      <td>0</td>\n",
              "      <td>0</td>\n",
              "      <td>0</td>\n",
              "      <td>0</td>\n",
              "      <td>0</td>\n",
              "      <td>0</td>\n",
              "      <td>0</td>\n",
              "      <td>0</td>\n",
              "      <td>0</td>\n",
              "      <td>0</td>\n",
              "      <td>0</td>\n",
              "      <td>0</td>\n",
              "      <td>0</td>\n",
              "      <td>0</td>\n",
              "      <td>0</td>\n",
              "      <td>0</td>\n",
              "      <td>0</td>\n",
              "      <td>0</td>\n",
              "      <td>0</td>\n",
              "      <td>0</td>\n",
              "      <td>0</td>\n",
              "      <td>0</td>\n",
              "      <td>0</td>\n",
              "      <td>0</td>\n",
              "      <td>0</td>\n",
              "      <td>0</td>\n",
              "      <td>0</td>\n",
              "      <td>0</td>\n",
              "      <td>0</td>\n",
              "    </tr>\n",
              "    <tr>\n",
              "      <th>7500</th>\n",
              "      <td>0</td>\n",
              "      <td>0</td>\n",
              "      <td>0</td>\n",
              "      <td>0</td>\n",
              "      <td>0</td>\n",
              "      <td>0</td>\n",
              "      <td>0</td>\n",
              "      <td>0</td>\n",
              "      <td>0</td>\n",
              "      <td>0</td>\n",
              "      <td>0</td>\n",
              "      <td>0</td>\n",
              "      <td>0</td>\n",
              "      <td>0</td>\n",
              "      <td>0</td>\n",
              "      <td>0</td>\n",
              "      <td>0</td>\n",
              "      <td>0</td>\n",
              "      <td>0</td>\n",
              "      <td>0</td>\n",
              "      <td>0</td>\n",
              "      <td>0</td>\n",
              "      <td>0</td>\n",
              "      <td>0</td>\n",
              "      <td>0</td>\n",
              "      <td>0</td>\n",
              "      <td>0</td>\n",
              "      <td>0</td>\n",
              "      <td>0</td>\n",
              "      <td>0</td>\n",
              "      <td>0</td>\n",
              "      <td>0</td>\n",
              "      <td>0</td>\n",
              "      <td>0</td>\n",
              "      <td>0</td>\n",
              "      <td>0</td>\n",
              "      <td>0</td>\n",
              "      <td>0</td>\n",
              "      <td>0</td>\n",
              "      <td>0</td>\n",
              "      <td>...</td>\n",
              "      <td>0</td>\n",
              "      <td>0</td>\n",
              "      <td>0</td>\n",
              "      <td>0</td>\n",
              "      <td>0</td>\n",
              "      <td>0</td>\n",
              "      <td>0</td>\n",
              "      <td>0</td>\n",
              "      <td>0</td>\n",
              "      <td>0</td>\n",
              "      <td>0</td>\n",
              "      <td>0</td>\n",
              "      <td>0</td>\n",
              "      <td>0</td>\n",
              "      <td>0</td>\n",
              "      <td>0</td>\n",
              "      <td>0</td>\n",
              "      <td>0</td>\n",
              "      <td>0</td>\n",
              "      <td>0</td>\n",
              "      <td>0</td>\n",
              "      <td>0</td>\n",
              "      <td>0</td>\n",
              "      <td>0</td>\n",
              "      <td>0</td>\n",
              "      <td>0</td>\n",
              "      <td>0</td>\n",
              "      <td>0</td>\n",
              "      <td>0</td>\n",
              "      <td>0</td>\n",
              "      <td>0</td>\n",
              "      <td>0</td>\n",
              "      <td>0</td>\n",
              "      <td>0</td>\n",
              "      <td>0</td>\n",
              "      <td>0</td>\n",
              "      <td>0</td>\n",
              "      <td>0</td>\n",
              "      <td>0</td>\n",
              "      <td>0</td>\n",
              "    </tr>\n",
              "    <tr>\n",
              "      <th>7501</th>\n",
              "      <td>0</td>\n",
              "      <td>0</td>\n",
              "      <td>0</td>\n",
              "      <td>0</td>\n",
              "      <td>0</td>\n",
              "      <td>0</td>\n",
              "      <td>0</td>\n",
              "      <td>0</td>\n",
              "      <td>0</td>\n",
              "      <td>0</td>\n",
              "      <td>0</td>\n",
              "      <td>0</td>\n",
              "      <td>0</td>\n",
              "      <td>0</td>\n",
              "      <td>0</td>\n",
              "      <td>0</td>\n",
              "      <td>0</td>\n",
              "      <td>0</td>\n",
              "      <td>0</td>\n",
              "      <td>0</td>\n",
              "      <td>0</td>\n",
              "      <td>0</td>\n",
              "      <td>0</td>\n",
              "      <td>0</td>\n",
              "      <td>0</td>\n",
              "      <td>0</td>\n",
              "      <td>0</td>\n",
              "      <td>0</td>\n",
              "      <td>0</td>\n",
              "      <td>0</td>\n",
              "      <td>0</td>\n",
              "      <td>0</td>\n",
              "      <td>0</td>\n",
              "      <td>0</td>\n",
              "      <td>0</td>\n",
              "      <td>0</td>\n",
              "      <td>0</td>\n",
              "      <td>0</td>\n",
              "      <td>0</td>\n",
              "      <td>0</td>\n",
              "      <td>...</td>\n",
              "      <td>0</td>\n",
              "      <td>0</td>\n",
              "      <td>0</td>\n",
              "      <td>0</td>\n",
              "      <td>0</td>\n",
              "      <td>0</td>\n",
              "      <td>0</td>\n",
              "      <td>0</td>\n",
              "      <td>0</td>\n",
              "      <td>0</td>\n",
              "      <td>0</td>\n",
              "      <td>0</td>\n",
              "      <td>0</td>\n",
              "      <td>0</td>\n",
              "      <td>0</td>\n",
              "      <td>0</td>\n",
              "      <td>0</td>\n",
              "      <td>0</td>\n",
              "      <td>0</td>\n",
              "      <td>0</td>\n",
              "      <td>0</td>\n",
              "      <td>0</td>\n",
              "      <td>0</td>\n",
              "      <td>0</td>\n",
              "      <td>0</td>\n",
              "      <td>0</td>\n",
              "      <td>0</td>\n",
              "      <td>0</td>\n",
              "      <td>0</td>\n",
              "      <td>0</td>\n",
              "      <td>0</td>\n",
              "      <td>0</td>\n",
              "      <td>0</td>\n",
              "      <td>0</td>\n",
              "      <td>0</td>\n",
              "      <td>0</td>\n",
              "      <td>0</td>\n",
              "      <td>0</td>\n",
              "      <td>0</td>\n",
              "      <td>0</td>\n",
              "    </tr>\n",
              "    <tr>\n",
              "      <th>7502</th>\n",
              "      <td>0</td>\n",
              "      <td>0</td>\n",
              "      <td>0</td>\n",
              "      <td>0</td>\n",
              "      <td>0</td>\n",
              "      <td>0</td>\n",
              "      <td>0</td>\n",
              "      <td>0</td>\n",
              "      <td>0</td>\n",
              "      <td>0</td>\n",
              "      <td>0</td>\n",
              "      <td>0</td>\n",
              "      <td>0</td>\n",
              "      <td>0</td>\n",
              "      <td>0</td>\n",
              "      <td>0</td>\n",
              "      <td>0</td>\n",
              "      <td>0</td>\n",
              "      <td>0</td>\n",
              "      <td>0</td>\n",
              "      <td>0</td>\n",
              "      <td>0</td>\n",
              "      <td>0</td>\n",
              "      <td>0</td>\n",
              "      <td>0</td>\n",
              "      <td>0</td>\n",
              "      <td>0</td>\n",
              "      <td>0</td>\n",
              "      <td>0</td>\n",
              "      <td>0</td>\n",
              "      <td>0</td>\n",
              "      <td>0</td>\n",
              "      <td>0</td>\n",
              "      <td>0</td>\n",
              "      <td>0</td>\n",
              "      <td>0</td>\n",
              "      <td>0</td>\n",
              "      <td>0</td>\n",
              "      <td>0</td>\n",
              "      <td>0</td>\n",
              "      <td>...</td>\n",
              "      <td>0</td>\n",
              "      <td>0</td>\n",
              "      <td>0</td>\n",
              "      <td>0</td>\n",
              "      <td>0</td>\n",
              "      <td>0</td>\n",
              "      <td>0</td>\n",
              "      <td>0</td>\n",
              "      <td>0</td>\n",
              "      <td>0</td>\n",
              "      <td>0</td>\n",
              "      <td>0</td>\n",
              "      <td>0</td>\n",
              "      <td>0</td>\n",
              "      <td>0</td>\n",
              "      <td>0</td>\n",
              "      <td>0</td>\n",
              "      <td>0</td>\n",
              "      <td>0</td>\n",
              "      <td>0</td>\n",
              "      <td>0</td>\n",
              "      <td>0</td>\n",
              "      <td>0</td>\n",
              "      <td>0</td>\n",
              "      <td>0</td>\n",
              "      <td>0</td>\n",
              "      <td>0</td>\n",
              "      <td>0</td>\n",
              "      <td>0</td>\n",
              "      <td>0</td>\n",
              "      <td>0</td>\n",
              "      <td>0</td>\n",
              "      <td>0</td>\n",
              "      <td>0</td>\n",
              "      <td>0</td>\n",
              "      <td>0</td>\n",
              "      <td>0</td>\n",
              "      <td>0</td>\n",
              "      <td>0</td>\n",
              "      <td>0</td>\n",
              "    </tr>\n",
              "  </tbody>\n",
              "</table>\n",
              "<p>7503 rows × 21363 columns</p>\n",
              "</div>"
            ],
            "text/plain": [
              "      00  000  0000  007npen6lg  ...  ûókody  ûónegligence  ûótech  ûówe\n",
              "0      0    0     0           0  ...       0             0       0     0\n",
              "1      0    0     0           0  ...       0             0       0     0\n",
              "2      0    0     0           0  ...       0             0       0     0\n",
              "3      0    1     0           0  ...       0             0       0     0\n",
              "4      0    0     0           0  ...       0             0       0     0\n",
              "...   ..  ...   ...         ...  ...     ...           ...     ...   ...\n",
              "7498   0    0     0           0  ...       0             0       0     0\n",
              "7499   0    0     0           0  ...       0             0       0     0\n",
              "7500   0    0     0           0  ...       0             0       0     0\n",
              "7501   0    0     0           0  ...       0             0       0     0\n",
              "7502   0    0     0           0  ...       0             0       0     0\n",
              "\n",
              "[7503 rows x 21363 columns]"
            ]
          },
          "metadata": {
            "tags": []
          },
          "execution_count": 351
        }
      ]
    },
    {
      "cell_type": "markdown",
      "metadata": {
        "id": "mfGzZKq36MDN",
        "colab_type": "text"
      },
      "source": [
        "### Set de datos de **Pruebas** y de **Entrenamiento**"
      ]
    },
    {
      "cell_type": "code",
      "metadata": {
        "id": "9_zauNwC4-1v",
        "colab_type": "code",
        "colab": {}
      },
      "source": [
        "# Levanto libreria para dividir los conjuntos de entrenamiento y test\n",
        "from sklearn.model_selection import train_test_split"
      ],
      "execution_count": 0,
      "outputs": []
    },
    {
      "cell_type": "code",
      "metadata": {
        "id": "TBYTNqQQ6loW",
        "colab_type": "code",
        "colab": {}
      },
      "source": [
        "X_train, X_test, y_train, y_test= train_test_split(df_train_merged_final['text'],\\\n",
        "                                                   df_train_merged_final['target'], random_state=1)"
      ],
      "execution_count": 0,
      "outputs": []
    },
    {
      "cell_type": "code",
      "metadata": {
        "id": "Scv5P2MC6lln",
        "colab_type": "code",
        "colab": {
          "base_uri": "https://localhost:8080/",
          "height": 34
        },
        "outputId": "58bd7822-664d-4f56-e8bb-5ca78b86eb81"
      },
      "source": [
        "print('Cant filas en el set: {}'.format(df_train_merged_final.shape[0]))"
      ],
      "execution_count": 354,
      "outputs": [
        {
          "output_type": "stream",
          "text": [
            "Cant filas en el set: 7503\n"
          ],
          "name": "stdout"
        }
      ]
    },
    {
      "cell_type": "code",
      "metadata": {
        "id": "0hYscw0m6ljO",
        "colab_type": "code",
        "colab": {}
      },
      "source": [
        ""
      ],
      "execution_count": 0,
      "outputs": []
    },
    {
      "cell_type": "code",
      "metadata": {
        "id": "aWlbGt2B6lcc",
        "colab_type": "code",
        "colab": {}
      },
      "source": [
        ""
      ],
      "execution_count": 0,
      "outputs": []
    },
    {
      "cell_type": "code",
      "metadata": {
        "id": "SCFL8wlE6k-7",
        "colab_type": "code",
        "colab": {}
      },
      "source": [
        ""
      ],
      "execution_count": 0,
      "outputs": []
    },
    {
      "cell_type": "code",
      "metadata": {
        "id": "h-IjU-ulzLRz",
        "colab_type": "code",
        "colab": {
          "base_uri": "https://localhost:8080/",
          "height": 343
        },
        "outputId": "b6ade36b-bb13-4578-aee2-d3c9607057e6"
      },
      "source": [
        "cv=CountVectorizer(max_features=1500, analyzer='word', lowercase=False)\n",
        "X_train=cv.fit_transform(df_train_merged_final['text_vector_filtrado'])"
      ],
      "execution_count": 341,
      "outputs": [
        {
          "output_type": "error",
          "ename": "TypeError",
          "evalue": "ignored",
          "traceback": [
            "\u001b[0;31m---------------------------------------------------------------------------\u001b[0m",
            "\u001b[0;31mTypeError\u001b[0m                                 Traceback (most recent call last)",
            "\u001b[0;32m<ipython-input-341-b9be14429388>\u001b[0m in \u001b[0;36m<module>\u001b[0;34m()\u001b[0m\n\u001b[1;32m      1\u001b[0m \u001b[0mcv\u001b[0m\u001b[0;34m=\u001b[0m\u001b[0mCountVectorizer\u001b[0m\u001b[0;34m(\u001b[0m\u001b[0mmax_features\u001b[0m\u001b[0;34m=\u001b[0m\u001b[0;36m1500\u001b[0m\u001b[0;34m,\u001b[0m \u001b[0manalyzer\u001b[0m\u001b[0;34m=\u001b[0m\u001b[0;34m'word'\u001b[0m\u001b[0;34m,\u001b[0m \u001b[0mlowercase\u001b[0m\u001b[0;34m=\u001b[0m\u001b[0;32mFalse\u001b[0m\u001b[0;34m)\u001b[0m\u001b[0;34m\u001b[0m\u001b[0;34m\u001b[0m\u001b[0m\n\u001b[0;32m----> 2\u001b[0;31m \u001b[0mX_train\u001b[0m\u001b[0;34m=\u001b[0m\u001b[0mcv\u001b[0m\u001b[0;34m.\u001b[0m\u001b[0mfit_transform\u001b[0m\u001b[0;34m(\u001b[0m\u001b[0mdf_train_merged_final\u001b[0m\u001b[0;34m[\u001b[0m\u001b[0;34m'text_vector_filtrado'\u001b[0m\u001b[0;34m]\u001b[0m\u001b[0;34m)\u001b[0m\u001b[0;34m\u001b[0m\u001b[0;34m\u001b[0m\u001b[0m\n\u001b[0m",
            "\u001b[0;32m/usr/local/lib/python3.6/dist-packages/sklearn/feature_extraction/text.py\u001b[0m in \u001b[0;36mfit_transform\u001b[0;34m(self, raw_documents, y)\u001b[0m\n\u001b[1;32m   1218\u001b[0m \u001b[0;34m\u001b[0m\u001b[0m\n\u001b[1;32m   1219\u001b[0m         vocabulary, X = self._count_vocab(raw_documents,\n\u001b[0;32m-> 1220\u001b[0;31m                                           self.fixed_vocabulary_)\n\u001b[0m\u001b[1;32m   1221\u001b[0m \u001b[0;34m\u001b[0m\u001b[0m\n\u001b[1;32m   1222\u001b[0m         \u001b[0;32mif\u001b[0m \u001b[0mself\u001b[0m\u001b[0;34m.\u001b[0m\u001b[0mbinary\u001b[0m\u001b[0;34m:\u001b[0m\u001b[0;34m\u001b[0m\u001b[0;34m\u001b[0m\u001b[0m\n",
            "\u001b[0;32m/usr/local/lib/python3.6/dist-packages/sklearn/feature_extraction/text.py\u001b[0m in \u001b[0;36m_count_vocab\u001b[0;34m(self, raw_documents, fixed_vocab)\u001b[0m\n\u001b[1;32m   1129\u001b[0m         \u001b[0;32mfor\u001b[0m \u001b[0mdoc\u001b[0m \u001b[0;32min\u001b[0m \u001b[0mraw_documents\u001b[0m\u001b[0;34m:\u001b[0m\u001b[0;34m\u001b[0m\u001b[0;34m\u001b[0m\u001b[0m\n\u001b[1;32m   1130\u001b[0m             \u001b[0mfeature_counter\u001b[0m \u001b[0;34m=\u001b[0m \u001b[0;34m{\u001b[0m\u001b[0;34m}\u001b[0m\u001b[0;34m\u001b[0m\u001b[0;34m\u001b[0m\u001b[0m\n\u001b[0;32m-> 1131\u001b[0;31m             \u001b[0;32mfor\u001b[0m \u001b[0mfeature\u001b[0m \u001b[0;32min\u001b[0m \u001b[0manalyze\u001b[0m\u001b[0;34m(\u001b[0m\u001b[0mdoc\u001b[0m\u001b[0;34m)\u001b[0m\u001b[0;34m:\u001b[0m\u001b[0;34m\u001b[0m\u001b[0;34m\u001b[0m\u001b[0m\n\u001b[0m\u001b[1;32m   1132\u001b[0m                 \u001b[0;32mtry\u001b[0m\u001b[0;34m:\u001b[0m\u001b[0;34m\u001b[0m\u001b[0;34m\u001b[0m\u001b[0m\n\u001b[1;32m   1133\u001b[0m                     \u001b[0mfeature_idx\u001b[0m \u001b[0;34m=\u001b[0m \u001b[0mvocabulary\u001b[0m\u001b[0;34m[\u001b[0m\u001b[0mfeature\u001b[0m\u001b[0;34m]\u001b[0m\u001b[0;34m\u001b[0m\u001b[0;34m\u001b[0m\u001b[0m\n",
            "\u001b[0;32m/usr/local/lib/python3.6/dist-packages/sklearn/feature_extraction/text.py\u001b[0m in \u001b[0;36m_analyze\u001b[0;34m(doc, analyzer, tokenizer, ngrams, preprocessor, decoder, stop_words)\u001b[0m\n\u001b[1;32m    103\u001b[0m             \u001b[0mdoc\u001b[0m \u001b[0;34m=\u001b[0m \u001b[0mpreprocessor\u001b[0m\u001b[0;34m(\u001b[0m\u001b[0mdoc\u001b[0m\u001b[0;34m)\u001b[0m\u001b[0;34m\u001b[0m\u001b[0;34m\u001b[0m\u001b[0m\n\u001b[1;32m    104\u001b[0m         \u001b[0;32mif\u001b[0m \u001b[0mtokenizer\u001b[0m \u001b[0;32mis\u001b[0m \u001b[0;32mnot\u001b[0m \u001b[0;32mNone\u001b[0m\u001b[0;34m:\u001b[0m\u001b[0;34m\u001b[0m\u001b[0;34m\u001b[0m\u001b[0m\n\u001b[0;32m--> 105\u001b[0;31m             \u001b[0mdoc\u001b[0m \u001b[0;34m=\u001b[0m \u001b[0mtokenizer\u001b[0m\u001b[0;34m(\u001b[0m\u001b[0mdoc\u001b[0m\u001b[0;34m)\u001b[0m\u001b[0;34m\u001b[0m\u001b[0;34m\u001b[0m\u001b[0m\n\u001b[0m\u001b[1;32m    106\u001b[0m         \u001b[0;32mif\u001b[0m \u001b[0mngrams\u001b[0m \u001b[0;32mis\u001b[0m \u001b[0;32mnot\u001b[0m \u001b[0;32mNone\u001b[0m\u001b[0;34m:\u001b[0m\u001b[0;34m\u001b[0m\u001b[0;34m\u001b[0m\u001b[0m\n\u001b[1;32m    107\u001b[0m             \u001b[0;32mif\u001b[0m \u001b[0mstop_words\u001b[0m \u001b[0;32mis\u001b[0m \u001b[0;32mnot\u001b[0m \u001b[0;32mNone\u001b[0m\u001b[0;34m:\u001b[0m\u001b[0;34m\u001b[0m\u001b[0;34m\u001b[0m\u001b[0m\n",
            "\u001b[0;31mTypeError\u001b[0m: expected string or bytes-like object"
          ]
        }
      ]
    },
    {
      "cell_type": "code",
      "metadata": {
        "id": "yFt1ZWDNzLQB",
        "colab_type": "code",
        "colab": {}
      },
      "source": [
        ""
      ],
      "execution_count": 0,
      "outputs": []
    },
    {
      "cell_type": "code",
      "metadata": {
        "id": "67Qjj9UUzLIj",
        "colab_type": "code",
        "colab": {}
      },
      "source": [
        ""
      ],
      "execution_count": 0,
      "outputs": []
    },
    {
      "cell_type": "code",
      "metadata": {
        "id": "CphtdqVEzLED",
        "colab_type": "code",
        "colab": {}
      },
      "source": [
        ""
      ],
      "execution_count": 0,
      "outputs": []
    },
    {
      "cell_type": "code",
      "metadata": {
        "id": "BFltyBxfzK__",
        "colab_type": "code",
        "colab": {}
      },
      "source": [
        ""
      ],
      "execution_count": 0,
      "outputs": []
    },
    {
      "cell_type": "code",
      "metadata": {
        "id": "IYKtH-IczK3g",
        "colab_type": "code",
        "colab": {}
      },
      "source": [
        ""
      ],
      "execution_count": 0,
      "outputs": []
    },
    {
      "cell_type": "code",
      "metadata": {
        "id": "OKbIM8Dkwu27",
        "colab_type": "code",
        "colab": {
          "base_uri": "https://localhost:8080/",
          "height": 221
        },
        "outputId": "17a4dacd-4b02-4228-b7e4-2c9a3b1f0211"
      },
      "source": [
        "# Defino los documentos\n",
        "documents=(df_train_merged_final['text_vector_filtrado'])\n",
        "#documents=(df_train_merged_final['text_vector_filtrado'])\n",
        "print(documents)"
      ],
      "execution_count": 324,
      "outputs": [
        {
          "output_type": "stream",
          "text": [
            "0       [deeds, reason, earthquake, may, allah, forgiv...\n",
            "1           [forest, fire, near, la, ronge, sask, canada]\n",
            "2       [residents, asked, shelter, place, notified, o...\n",
            "3       [13000, people, receive, wildfires, evacuation...\n",
            "4       [got, sent, photo, ruby, alaska, smoke, wildfi...\n",
            "                              ...                        \n",
            "7604    [worldnews, fallen, powerlines, glink, tram, u...\n",
            "7605    [flip, side, im, walmart, bomb, everyone, evac...\n",
            "7606    [suicide, bomber, kills, 15, saudi, security, ...\n",
            "7608    [two, giant, cranes, holding, bridge, collapse...\n",
            "7612    [latest, homes, razed, northern, california, w...\n",
            "Name: text_vector_filtrado, Length: 7503, dtype: object\n"
          ],
          "name": "stdout"
        }
      ]
    },
    {
      "cell_type": "code",
      "metadata": {
        "id": "Sfvjqe1bW_Ai",
        "colab_type": "code",
        "colab": {
          "base_uri": "https://localhost:8080/",
          "height": 34
        },
        "outputId": "9f2d969f-10a5-4cc2-d489-9084223b1571"
      },
      "source": [
        "count_vector= CountVectorizer\n",
        "print(count_vector)"
      ],
      "execution_count": 325,
      "outputs": [
        {
          "output_type": "stream",
          "text": [
            "<class 'sklearn.feature_extraction.text.CountVectorizer'>\n"
          ],
          "name": "stdout"
        }
      ]
    },
    {
      "cell_type": "code",
      "metadata": {
        "id": "CyvOnYjm0OqB",
        "colab_type": "code",
        "colab": {}
      },
      "source": [
        "features=TfidfVectorizer.fit_transform(data.status).toarray()"
      ],
      "execution_count": 0,
      "outputs": []
    },
    {
      "cell_type": "code",
      "metadata": {
        "id": "Am1ZqilkW-2J",
        "colab_type": "code",
        "colab": {
          "base_uri": "https://localhost:8080/",
          "height": 374
        },
        "outputId": "cda20eb7-9754-4f8b-ae85-e6214436dca0"
      },
      "source": [
        "cvectorizer = TfidfVectorizer()\n",
        "cvectorizer.fit_transform(documents)\n",
        "#count_vector.fit_transform(documents)\n",
        "#names=count_vector.get_feature_names()\n",
        "#names"
      ],
      "execution_count": 326,
      "outputs": [
        {
          "output_type": "error",
          "ename": "AttributeError",
          "evalue": "ignored",
          "traceback": [
            "\u001b[0;31m---------------------------------------------------------------------------\u001b[0m",
            "\u001b[0;31mAttributeError\u001b[0m                            Traceback (most recent call last)",
            "\u001b[0;32m<ipython-input-326-7debfac99c62>\u001b[0m in \u001b[0;36m<module>\u001b[0;34m()\u001b[0m\n\u001b[1;32m      1\u001b[0m \u001b[0mcvectorizer\u001b[0m \u001b[0;34m=\u001b[0m \u001b[0mTfidfVectorizer\u001b[0m\u001b[0;34m(\u001b[0m\u001b[0;34m)\u001b[0m\u001b[0;34m\u001b[0m\u001b[0;34m\u001b[0m\u001b[0m\n\u001b[0;32m----> 2\u001b[0;31m \u001b[0mcvectorizer\u001b[0m\u001b[0;34m.\u001b[0m\u001b[0mfit_transform\u001b[0m\u001b[0;34m(\u001b[0m\u001b[0mdocuments\u001b[0m\u001b[0;34m)\u001b[0m\u001b[0;34m\u001b[0m\u001b[0;34m\u001b[0m\u001b[0m\n\u001b[0m\u001b[1;32m      3\u001b[0m \u001b[0;31m#count_vector.fit_transform(documents)\u001b[0m\u001b[0;34m\u001b[0m\u001b[0;34m\u001b[0m\u001b[0;34m\u001b[0m\u001b[0m\n\u001b[1;32m      4\u001b[0m \u001b[0;31m#names=count_vector.get_feature_names()\u001b[0m\u001b[0;34m\u001b[0m\u001b[0;34m\u001b[0m\u001b[0;34m\u001b[0m\u001b[0m\n\u001b[1;32m      5\u001b[0m \u001b[0;31m#names\u001b[0m\u001b[0;34m\u001b[0m\u001b[0;34m\u001b[0m\u001b[0;34m\u001b[0m\u001b[0m\n",
            "\u001b[0;32m/usr/local/lib/python3.6/dist-packages/sklearn/feature_extraction/text.py\u001b[0m in \u001b[0;36mfit_transform\u001b[0;34m(self, raw_documents, y)\u001b[0m\n\u001b[1;32m   1857\u001b[0m         \"\"\"\n\u001b[1;32m   1858\u001b[0m         \u001b[0mself\u001b[0m\u001b[0;34m.\u001b[0m\u001b[0m_check_params\u001b[0m\u001b[0;34m(\u001b[0m\u001b[0;34m)\u001b[0m\u001b[0;34m\u001b[0m\u001b[0;34m\u001b[0m\u001b[0m\n\u001b[0;32m-> 1859\u001b[0;31m         \u001b[0mX\u001b[0m \u001b[0;34m=\u001b[0m \u001b[0msuper\u001b[0m\u001b[0;34m(\u001b[0m\u001b[0;34m)\u001b[0m\u001b[0;34m.\u001b[0m\u001b[0mfit_transform\u001b[0m\u001b[0;34m(\u001b[0m\u001b[0mraw_documents\u001b[0m\u001b[0;34m)\u001b[0m\u001b[0;34m\u001b[0m\u001b[0;34m\u001b[0m\u001b[0m\n\u001b[0m\u001b[1;32m   1860\u001b[0m         \u001b[0mself\u001b[0m\u001b[0;34m.\u001b[0m\u001b[0m_tfidf\u001b[0m\u001b[0;34m.\u001b[0m\u001b[0mfit\u001b[0m\u001b[0;34m(\u001b[0m\u001b[0mX\u001b[0m\u001b[0;34m)\u001b[0m\u001b[0;34m\u001b[0m\u001b[0;34m\u001b[0m\u001b[0m\n\u001b[1;32m   1861\u001b[0m         \u001b[0;31m# X is already a transformed view of raw_documents so\u001b[0m\u001b[0;34m\u001b[0m\u001b[0;34m\u001b[0m\u001b[0;34m\u001b[0m\u001b[0m\n",
            "\u001b[0;32m/usr/local/lib/python3.6/dist-packages/sklearn/feature_extraction/text.py\u001b[0m in \u001b[0;36mfit_transform\u001b[0;34m(self, raw_documents, y)\u001b[0m\n\u001b[1;32m   1218\u001b[0m \u001b[0;34m\u001b[0m\u001b[0m\n\u001b[1;32m   1219\u001b[0m         vocabulary, X = self._count_vocab(raw_documents,\n\u001b[0;32m-> 1220\u001b[0;31m                                           self.fixed_vocabulary_)\n\u001b[0m\u001b[1;32m   1221\u001b[0m \u001b[0;34m\u001b[0m\u001b[0m\n\u001b[1;32m   1222\u001b[0m         \u001b[0;32mif\u001b[0m \u001b[0mself\u001b[0m\u001b[0;34m.\u001b[0m\u001b[0mbinary\u001b[0m\u001b[0;34m:\u001b[0m\u001b[0;34m\u001b[0m\u001b[0;34m\u001b[0m\u001b[0m\n",
            "\u001b[0;32m/usr/local/lib/python3.6/dist-packages/sklearn/feature_extraction/text.py\u001b[0m in \u001b[0;36m_count_vocab\u001b[0;34m(self, raw_documents, fixed_vocab)\u001b[0m\n\u001b[1;32m   1129\u001b[0m         \u001b[0;32mfor\u001b[0m \u001b[0mdoc\u001b[0m \u001b[0;32min\u001b[0m \u001b[0mraw_documents\u001b[0m\u001b[0;34m:\u001b[0m\u001b[0;34m\u001b[0m\u001b[0;34m\u001b[0m\u001b[0m\n\u001b[1;32m   1130\u001b[0m             \u001b[0mfeature_counter\u001b[0m \u001b[0;34m=\u001b[0m \u001b[0;34m{\u001b[0m\u001b[0;34m}\u001b[0m\u001b[0;34m\u001b[0m\u001b[0;34m\u001b[0m\u001b[0m\n\u001b[0;32m-> 1131\u001b[0;31m             \u001b[0;32mfor\u001b[0m \u001b[0mfeature\u001b[0m \u001b[0;32min\u001b[0m \u001b[0manalyze\u001b[0m\u001b[0;34m(\u001b[0m\u001b[0mdoc\u001b[0m\u001b[0;34m)\u001b[0m\u001b[0;34m:\u001b[0m\u001b[0;34m\u001b[0m\u001b[0;34m\u001b[0m\u001b[0m\n\u001b[0m\u001b[1;32m   1132\u001b[0m                 \u001b[0;32mtry\u001b[0m\u001b[0;34m:\u001b[0m\u001b[0;34m\u001b[0m\u001b[0;34m\u001b[0m\u001b[0m\n\u001b[1;32m   1133\u001b[0m                     \u001b[0mfeature_idx\u001b[0m \u001b[0;34m=\u001b[0m \u001b[0mvocabulary\u001b[0m\u001b[0;34m[\u001b[0m\u001b[0mfeature\u001b[0m\u001b[0;34m]\u001b[0m\u001b[0;34m\u001b[0m\u001b[0;34m\u001b[0m\u001b[0m\n",
            "\u001b[0;32m/usr/local/lib/python3.6/dist-packages/sklearn/feature_extraction/text.py\u001b[0m in \u001b[0;36m_analyze\u001b[0;34m(doc, analyzer, tokenizer, ngrams, preprocessor, decoder, stop_words)\u001b[0m\n\u001b[1;32m    101\u001b[0m     \u001b[0;32melse\u001b[0m\u001b[0;34m:\u001b[0m\u001b[0;34m\u001b[0m\u001b[0;34m\u001b[0m\u001b[0m\n\u001b[1;32m    102\u001b[0m         \u001b[0;32mif\u001b[0m \u001b[0mpreprocessor\u001b[0m \u001b[0;32mis\u001b[0m \u001b[0;32mnot\u001b[0m \u001b[0;32mNone\u001b[0m\u001b[0;34m:\u001b[0m\u001b[0;34m\u001b[0m\u001b[0;34m\u001b[0m\u001b[0m\n\u001b[0;32m--> 103\u001b[0;31m             \u001b[0mdoc\u001b[0m \u001b[0;34m=\u001b[0m \u001b[0mpreprocessor\u001b[0m\u001b[0;34m(\u001b[0m\u001b[0mdoc\u001b[0m\u001b[0;34m)\u001b[0m\u001b[0;34m\u001b[0m\u001b[0;34m\u001b[0m\u001b[0m\n\u001b[0m\u001b[1;32m    104\u001b[0m         \u001b[0;32mif\u001b[0m \u001b[0mtokenizer\u001b[0m \u001b[0;32mis\u001b[0m \u001b[0;32mnot\u001b[0m \u001b[0;32mNone\u001b[0m\u001b[0;34m:\u001b[0m\u001b[0;34m\u001b[0m\u001b[0;34m\u001b[0m\u001b[0m\n\u001b[1;32m    105\u001b[0m             \u001b[0mdoc\u001b[0m \u001b[0;34m=\u001b[0m \u001b[0mtokenizer\u001b[0m\u001b[0;34m(\u001b[0m\u001b[0mdoc\u001b[0m\u001b[0;34m)\u001b[0m\u001b[0;34m\u001b[0m\u001b[0;34m\u001b[0m\u001b[0m\n",
            "\u001b[0;32m/usr/local/lib/python3.6/dist-packages/sklearn/feature_extraction/text.py\u001b[0m in \u001b[0;36m_preprocess\u001b[0;34m(doc, accent_function, lower)\u001b[0m\n\u001b[1;32m     66\u001b[0m     \"\"\"\n\u001b[1;32m     67\u001b[0m     \u001b[0;32mif\u001b[0m \u001b[0mlower\u001b[0m\u001b[0;34m:\u001b[0m\u001b[0;34m\u001b[0m\u001b[0;34m\u001b[0m\u001b[0m\n\u001b[0;32m---> 68\u001b[0;31m         \u001b[0mdoc\u001b[0m \u001b[0;34m=\u001b[0m \u001b[0mdoc\u001b[0m\u001b[0;34m.\u001b[0m\u001b[0mlower\u001b[0m\u001b[0;34m(\u001b[0m\u001b[0;34m)\u001b[0m\u001b[0;34m\u001b[0m\u001b[0;34m\u001b[0m\u001b[0m\n\u001b[0m\u001b[1;32m     69\u001b[0m     \u001b[0;32mif\u001b[0m \u001b[0maccent_function\u001b[0m \u001b[0;32mis\u001b[0m \u001b[0;32mnot\u001b[0m \u001b[0;32mNone\u001b[0m\u001b[0;34m:\u001b[0m\u001b[0;34m\u001b[0m\u001b[0;34m\u001b[0m\u001b[0m\n\u001b[1;32m     70\u001b[0m         \u001b[0mdoc\u001b[0m \u001b[0;34m=\u001b[0m \u001b[0maccent_function\u001b[0m\u001b[0;34m(\u001b[0m\u001b[0mdoc\u001b[0m\u001b[0;34m)\u001b[0m\u001b[0;34m\u001b[0m\u001b[0;34m\u001b[0m\u001b[0m\n",
            "\u001b[0;31mAttributeError\u001b[0m: 'list' object has no attribute 'lower'"
          ]
        }
      ]
    },
    {
      "cell_type": "code",
      "metadata": {
        "id": "nTjG8ZMJW-zj",
        "colab_type": "code",
        "colab": {}
      },
      "source": [
        ""
      ],
      "execution_count": 0,
      "outputs": []
    },
    {
      "cell_type": "code",
      "metadata": {
        "id": "KB7mLn1cW-xY",
        "colab_type": "code",
        "colab": {}
      },
      "source": [
        ""
      ],
      "execution_count": 0,
      "outputs": []
    },
    {
      "cell_type": "code",
      "metadata": {
        "id": "PUqSUeIvW-sa",
        "colab_type": "code",
        "colab": {}
      },
      "source": [
        ""
      ],
      "execution_count": 0,
      "outputs": []
    },
    {
      "cell_type": "code",
      "metadata": {
        "id": "JPSOE9H0W-pt",
        "colab_type": "code",
        "colab": {}
      },
      "source": [
        ""
      ],
      "execution_count": 0,
      "outputs": []
    },
    {
      "cell_type": "code",
      "metadata": {
        "id": "gsZcl9a0W-b2",
        "colab_type": "code",
        "colab": {}
      },
      "source": [
        ""
      ],
      "execution_count": 0,
      "outputs": []
    },
    {
      "cell_type": "markdown",
      "metadata": {
        "id": "InhurLTUZ7Qw",
        "colab_type": "text"
      },
      "source": [
        "### Frecuencia de Palabras | Recomendaciones (puntuación)"
      ]
    },
    {
      "cell_type": "code",
      "metadata": {
        "id": "2pyTACgUKuz_",
        "colab_type": "code",
        "colab": {}
      },
      "source": [
        "from sklearn.feature_extraction.text import CountVectorizer, TfidfTransformer"
      ],
      "execution_count": 0,
      "outputs": []
    },
    {
      "cell_type": "code",
      "metadata": {
        "id": "cxJ3npiuXWnn",
        "colab_type": "code",
        "outputId": "505d4e74-7e29-47e8-b0f0-b3abd97d2e69",
        "colab": {
          "base_uri": "https://localhost:8080/",
          "height": 221
        }
      },
      "source": [
        "#count_vector=CountVectorizer(\n",
        " #   tokenizer = tokenize,\n",
        "  #  binary = True)\n",
        "\n",
        "cv=CountVectorizer(stop_words='english', analyzer='word', lowercase=False)\n",
        "data=df_train_merged_final['text']\n",
        "print(data)"
      ],
      "execution_count": 331,
      "outputs": [
        {
          "output_type": "stream",
          "text": [
            "0       Our Deeds are the Reason of this #earthquake M...\n",
            "1                  Forest fire near La Ronge Sask. Canada\n",
            "2       All residents asked to 'shelter in place' are ...\n",
            "3       13,000 people receive #wildfires evacuation or...\n",
            "4       Just got sent this photo from Ruby #Alaska as ...\n",
            "                              ...                        \n",
            "7604    #WorldNews Fallen powerlines on G:link tram: U...\n",
            "7605    on the flip side I'm at Walmart and there is a...\n",
            "7606    Suicide bomber kills 15 in Saudi security site...\n",
            "7608    Two giant cranes holding a bridge collapse int...\n",
            "7612    The Latest: More Homes Razed by Northern Calif...\n",
            "Name: text, Length: 7503, dtype: object\n"
          ],
          "name": "stdout"
        }
      ]
    },
    {
      "cell_type": "code",
      "metadata": {
        "id": "i22WKNzLQDlY",
        "colab_type": "code",
        "colab": {}
      },
      "source": [
        "data=cv.fit_transform(data)\n",
        "# print(data)"
      ],
      "execution_count": 0,
      "outputs": []
    },
    {
      "cell_type": "code",
      "metadata": {
        "id": "N4JfYLssQ_pW",
        "colab_type": "code",
        "outputId": "d581288a-5a00-4c84-fd3a-a4cb86ff7a47",
        "colab": {
          "base_uri": "https://localhost:8080/",
          "height": 955
        }
      },
      "source": [
        "print(cv.vocabulary_)\n",
        "print(\"Frecuencias\")\n",
        "print(data)\n",
        "print('Matriz')"
      ],
      "execution_count": 282,
      "outputs": [
        {
          "output_type": "stream",
          "text": [
            "{'deeds': 5429, 'reason': 15499, 'earthquake': 6311, 'allah': 1844, 'forgive': 7572, 'forest': 7563, 'near': 12979, 'la': 10967, 'ronge': 16087, 'sask': 16431, 'canada': 3790, 'residents': 15761, 'asked': 2283, 'shelter': 16835, 'place': 14437, 'notified': 13270, 'officers': 13544, 'evacuation': 6835, 'orders': 13772, 'expected': 6933, '13': 176, '000': 1, 'people': 14216, 'receive': 15520, 'wildfires': 20344, 'california': 3746, 'just': 10427, 'got': 8265, 'sent': 16686, 'photo': 14325, 'ruby': 16200, 'alaska': 1793, 'smoke': 17201, 'pours': 14645, 'school': 16520, 'rockyfire': 16040, 'update': 19481, 'hwy': 9286, '20': 343, 'closed': 4407, 'directions': 5757, 'lake': 10994, 'county': 4856, 'cafire': 3717, 'flood': 7458, 'disaster': 5779, 'heavy': 8812, 'rain': 15347, 'causes': 3962, 'flash': 7420, 'flooding': 7460, 'streets': 17774, 'manitou': 11856, 'colorado': 4548, 'springs': 17506, 'areas': 2168, 'hill': 8942, 'woods': 20496, 'emergency': 6538, 'happening': 8654, 'building': 3557, 'street': 17771, 'afraid': 1655, 'tornado': 18821, 'coming': 4577, 'area': 2166, 'died': 5712, 'heat': 8807, 'wave': 20138, 'far': 7127, 'haha': 8584, 'south': 17372, 'tampa': 18192, 'getting': 8043, 'flooded': 7459, 'hah': 8583, 'wait': 20035, 'second': 16612, 'live': 11396, 'gonna': 8233, 'fvck': 7811, 'raining': 15354, 'florida': 7470, 'tampabay': 18193, '18': 232, '19': 245, 'days': 5332, 've': 19721, 'lost': 11556, 'count': 4849, 'bago': 2600, 'myanmar': 12790, 'arrived': 2220, 'damage': 5225, 'bus': 3607, '80': 1117, 'multi': 12713, 'car': 3849, 'crash': 4918, 'breaking': 3395, 'man': 11837, 'love': 11570, 'fruits': 7742, 'summer': 17908, 'lovely': 11574, 'fast': 7146, 'goooooooaaaaaal': 8251, 'ridiculous': 15910, 'london': 11500, 'cool': 4775, 'skiing': 17073, 'wonderful': 20483, 'day': 5331, 'looooool': 11524, 'way': 20142, 'eat': 6327, 'shit': 16865, 'nyc': 13390, 'week': 20214, 'girlfriend': 8120, 'cooool': 4780, 'like': 11323, 'pasta': 14095, 'end': 6604, 'bbcmtd': 2752, 'wholesale': 20316, 'markets': 11917, 'ablaze': 1452, 'http': 9192, 'lhyxeohy6c': 11267, 'try': 19074, 'bring': 3443, 'metal': 12181, 'rt': 16181, 'yao1e0xngw': 20894, 'africanbaze': 1659, 'news': 13050, 'nigeria': 13108, 'flag': 7411, 'set': 16724, 'aba': 1424, '2nndbgwyei': 482, 'crying': 5026, 'plus': 14507, 'look': 11517, 'sky': 17091, 'night': 13114, 'qqsmshaj3n': 15166, 'phdsquares': 14301, 'mufc': 12701, 'built': 3561, 'hype': 9301, 'new': 13036, 'acquisitions': 1534, 'doubt': 6016, 'epl': 6706, 'season': 16598, 'inec': 9677, 'office': 13541, 'abia': 1449, '3imaomknna': 614, 'barbados': 2664, 'bridgetown': 3429, 'jamaica': 10071, 'ûò': 21353, 'cars': 3902, 'santa': 16415, 'cruz': 5024, 'ûó': 21357, 'head': 8767, 'st': 17565, 'elizabeth': 6502, 'police': 14557, 'superintende': 17947, 'wdueaj8q4j': 20171, 'lord': 11536, 'check': 4142, 'roi2nsmejj': 16056, '3tj8zjin21': 646, 'yduixefipe': 20916, 'lxtjc87kls': 11672, 'nsfw': 13319, 'outside': 13857, 'alive': 1842, 'dead': 5360, 'inside': 9746, 'awesome': 2482, 'time': 18658, 'visiting': 19865, 'cfc': 4045, 'ancop': 1964, 'site': 17031, 'thanks': 18450, 'tita': 18688, 'vida': 19806, 'taking': 18172, 'care': 3861, 'soooo': 17336, 'pumped': 14980, 'southridgelife': 17381, 'wanted': 20066, 'chicago': 4177, 'preaching': 14700, 'hotel': 9133, 'o9qknbfofx': 13442, 'gained': 7890, 'followers': 7520, 'know': 10811, 'stats': 17639, 'grow': 8403, 'tiyulif5c6': 18699, 'west': 20247, 'burned': 3595, 'thousands': 18580, 'vl5tbr3wbr': 19891, 'perfect': 14222, 'tracklist': 18893, 'life': 11294, 'leave': 11151, 'retainers': 15808, 'quite': 15221, 'weird': 20226, 'better': 2934, 'used': 19552, 'wear': 20188, 'single': 16998, 'year': 20922, 'deputies': 5556, 'shot': 16895, 'brighton': 3439, 'home': 9046, 'gwnrhmso8k': 8513, 'wife': 20336, 'years': 20923, 'jail': 10059, 'setting': 16730, 'niece': 13104, 'ev1ahoucza': 6827, 'superintendent': 17948, 'lanford': 11028, 'salmon': 16362, 'vplr5hka2u': 19946, 'sxhw2tnnlf': 18082, 'arsonist': 2228, 'deliberately': 5481, 'black': 3087, 'church': 4269, 'north': 13235, 'carolinaåêablaze': 3892, 'pcxarbh9an': 14165, 'noches': 13196, 'el': 6457, 'bestia': 2922, 'alexis_sanchez': 1823, 'happy': 8660, 'teammates': 18300, 'training': 18918, 'hard': 8668, 'goodnight': 8242, 'gunners': 8482, 'uc4j4jhvgr': 19266, 'kurds': 10899, 'trampling': 18924, 'turkmen': 19129, 'later': 11060, 'vandalized': 19680, 'offices': 13545, 'diyala': 5869, '4izfdyc3cg': 744, 'truck': 19052, 'r21': 15279, 'voortrekker': 19933, 'ave': 2448, 'tambo': 18189, 'intl': 9828, 'cargo': 3873, 'section': 16618, '8kscqkfkkf': 1182, 'hearts': 8805, 'city': 4307, 'gift': 8099, 'skyline': 17096, 'kiss': 10745, 'lips': 11365, 'û_': 21307, 'https': 9193, 'cyompz1a0z': 5160, 'tonight': 18788, 'los': 11545, 'angeles': 1982, 'expecting': 6934, 'ig': 9446, 'fb': 7178, 'filled': 7316, 'sunset': 17937, 'shots': 16897, 'peeps': 14197, 'icsjgz9te1': 9394, 'climate': 4387, 'energy': 6621, '9fxmn0l0bd': 1281, 'revel': 15834, 'wmv': 20451, 'videos': 19810, 'means': 12067, 'mac': 11748, 'farewell': 7129, 'en': 6587, 'route': 16131, 'dvd': 6226, 'gtxrwm': 8438, 'progressive': 14837, 'greetings': 8360, 'month': 12541, 'students': 17824, 'pens': 14214, 'torch': 18816, 'publications': 14954, '9fxpixqujt': 1282, 'rene': 15688, 'amp': 1939, 'jacinta': 10035, 'secret': 16615, '2k13': 468, 'fallen': 7093, 'skies': 17072, 'edit': 6370, 'mar': 11880, '30': 521, '2013': 359, '7mlmsuzv1z': 1088, 'navista7': 12933, 'steve': 17681, 'fires': 7367, 'tinderbox': 18673, 'clown': 4424, 'hood': 9084, 'news24680': 13051, 'nowplaying': 13287, 'ian': 9354, 'buff': 3545, 'magnitude': 11791, 'av2jsjfftc': 2442, 'edm': 6376, 'nxwestmidlands': 13383, 'huge': 9209, 'rwzbfvnxer': 16260, 'does': 5943, 'talk': 18180, 'don': 5970, 'make': 11815, 'work': 20504, 'kids': 10692, 'cuz': 5121, 'bicycle': 2976, 'accident': 1495, 'split': 17473, 'testicles': 18402, 'impossible': 9584, 'michael': 12240, 'father': 7159, '24': 403, 'nashvilletraffic': 12900, 'traffic': 18905, 'moving': 12632, '8m': 1187, 'slower': 17159, 'usual': 19567, '0ghk693egj': 49, 'center': 4024, 'lane': 11026, 'blocked': 3156, 'santaclara': 16416, '101': 123, 'nb': 12939, 'great': 8339, 'america': 1922, 'pkwy': 14434, 'bayarea': 2739, 'pmlohzurwr': 14520, 'gkye6gjtk5': 8142, 'personalinjury': 14248, 'read': 15468, 'advice': 1620, 'solicitor': 17297, 'help': 8849, 'otleyhour': 13823, 'stlouis': 17704, 'caraccidentlawyer': 3852, 'speeding': 17436, 'teen': 18328, 'accidents': 1499, 'k4zomof319': 10482, 's2kxvm0cba': 16285, 'tee': 18325, 'reported': 15717, 'motor': 12603, 'vehicle': 19732, 'curry': 5099, 'herman': 8866, 'rd': 15448, 'stephenson': 17672, 'involving': 9862, 'overturned': 13888, 'use': 19551, 'ybjezkurw1': 20905, 'bigrigradio': 2995, 'awareness': 2479, '77': 1045, 'mile': 12285, 'marker': 11910, '31': 538, 'mooresville': 12553, 'iredell': 9902, 'ramp': 15368, 'pm': 14511, 'sleepjunkies': 17130, 'sleeping': 17129, 'pills': 14378, 'double': 6013, 'risk': 15952, '7s9nm1fict': 1104, 'knew': 10797, 'gon': 8230, 'happen': 8652, 'ysxun5vceh': 21057, 'cabrillo': 3704, 'magellan': 11779, 'av': 2441, 'mir': 12349, '08': 27, '06': 21, '15': 195, '11': 143, '03': 12, '58': 831, '40': 665, 'congestion': 4686, 'pastor': 14097, 'scene': 16509, 'owner': 13902, 'range': 15382, 'rover': 16137, 'mom': 12508, 'didn': 5707, 'wished': 20405, 'spilt': 17457, 'mayonnaise': 12017, 'horrible': 9112, 'past': 14094, 'sunday': 17926, 'finally': 7329, 'able': 1453, 'thank': 18445, 'god': 8208, 'pissed': 14405, 'donnie': 5980, 'tell': 18343, 'truckcrash': 19053, 'overturns': 13889, 'fortworth': 7596, 'interstate': 9820, 'rs22lj4qfp': 16168, 'click': 4380, 'gt': 8428, 'ld0uniyw4k': 11117, 'ashville': 2274, '23': 394, 'sb': 16477, 'sr': 17543, '752': 1041, 'hylmo0wgfi': 9300, 'carolina': 3890, 'motorcyclist': 12607, 'dies': 5715, '540': 818, 'crossed': 4994, 'median': 12084, 'motorcycle': 12605, 'rider': 15907, 'traveling': 18952, 'p18lzrlmy6': 13921, 'fyi': 7840, 'cad': 3709, 'property': 14870, 'nhs': 13086, '999': 1264, 'piner': 14383, 'horndale': 9105, 'dr': 6045, 'naayf': 12855, 'turning': 19134, 'chandanee': 4085, 'magu': 11796, 'mma': 12442, 'taxi': 18241, 'rammed': 15367, 'halfway': 8607, 'turned': 19131, 'conf': 4673, 'left': 11166, 'manchester': 11843, '293': 432, 'eddy': 6362, 'stop': 17723, 'nh': 13081, '3a': 587, 'delay': 5474, 'mins': 12339, 'oia5fxi4gm': 13591, 'wpd': 20552, '1600': 211, '17th': 230, '2015': 361, '09': 33, 'injury': 9725, '2781': 422, 'willis': 20356, 'foreman': 7561, 'vckit6edev': 19713, 'aashiqui': 1419, 'actress': 1556, 'anu': 2053, 'aggarwal': 1690, 'fatal': 7152, '6otfp31lqw': 984, 'suffield': 17891, 'alberta': 1799, 'bptmlf4p10': 3345, 'backup': 2573, 'blocking': 3157, 'right': 15918, 'lanes': 11027, 'exit': 6917, 'langtree': 11031, 'consider': 4709, 'nc': 12956, '115': 150, '150': 196, '16': 209, 'alternate': 1889, 'changed': 4088, 'determine': 5618, 'options': 13746, 'financially': 7332, 'support': 17960, 'plans': 14455, 'going': 8222, 'treatment': 18965, 'deadly': 5365, 'happened': 8653, 'hagerstown': 8582, 'today': 18747, 'll': 11435, 'details': 5613, 'your4state': 21024, 'whag': 20280, 'flowri': 7478, 'marinading': 11902, 'fucking': 7766, 'mfs': 12216, 'drive': 6101, 'norwaymfa': 13248, 'bahrain': 2603, 'previously': 14769, 'road': 15998, 'killed': 10706, 'explosion': 6962, 'gfjfgtodad': 8055, 'heard': 8790, 'leaders': 11130, 'kenya': 10623, 'forward': 7597, 'comment': 4586, 'issue': 9948, 'disciplinary': 5782, 'measures': 12071, 'arrestpastornganga': 2216, 'aftershock_delo': 1672, 'scuf': 16572, 'ps': 14914, 'game': 7907, 'cya': 5145, 'effort': 6411, 'gets': 8041, 'painful': 13980, 'win': 20362, 'roger': 16048, 'bannister': 2652, '320': 544, 'ir': 9893, 'icemoon': 9383, 'aftershock': 1671, 'ynxnvvkcda': 20996, 'djicemoon': 5876, 'dubstep': 6174, 'trapmusic': 18944, 'dnb': 5920, 'dance': 5245, 'ices': 9385, 'weqpesenku': 20242, 'victory': 19804, 'bargain': 2676, 'basement': 2699, 'prices': 14773, 'dwight': 6236, 'david': 5312, 'eisenhower': 6445, 'vam5podgyw': 19674, 'zevakjapcz': 21172, 'remembers': 15666, 'came': 3764, 'charles': 4113, 'schulz': 16523, 'im': 9532, 'speaking': 17411, 'using': 19564, 'xb1': 20711, 'harder': 8674, 'conflict': 4682, 'glorious': 8172, 'triumph': 19020, 'thomas': 18568, 'paine': 13979, 'growingupspoiled': 8407, 'clay': 4355, 'pigeon': 14364, 'shooting': 16884, 'guess': 8452, 'actually': 1559, 'wants': 20069, 'free': 7673, 'tc': 18266, 'terrifying': 18389, 'best': 2919, 'roller': 16064, 'coaster': 4473, 'disclaimer': 5783, 'xmwodfmtui': 20764, 'm4jdzmgjow': 11716, 'n0uhasfkbv': 12825, 'e14epzhoth': 6267, '22a9d5do6q': 390, 'kjfordays': 10758, 'seeing': 16630, 'issues': 9950, 'thyzomvwu0': 18629, '83joo0xk29': 1136, 'wisdomwed': 20401, 'bonus': 3265, 'minute': 12344, 'daily': 5209, 'habits': 8575, 'really': 15493, 'improve': 9590, 'lifehacks': 11297, 'tbm9fqb8cw': 18258, 'protect': 14884, 'profit': 14830, 'global': 8164, 'financial': 7331, 'meltdown': 12125, 'wiedemer': 20334, 'wztz4hgmvq': 20672, 'moment': 12509, 'scary': 16504, 'guy': 8499, 'screaming': 16556, 'bloody': 3167, 'murder': 12729, 'silverwood': 16976, '2010': 356, 'streaming': 17767, 'youtube': 21029, 'vve3usesgf': 19976, 'book': 3267, 'f6ntuc734z': 7033, 'esquireattire': 6770, 'face': 7049, 'difficulties': 5724, 'doing': 5952, 'wrong': 20599, 'joel': 10278, 'osteen': 13813, 'thing': 18546, 'stands': 17598, 'dream': 6074, 'belief': 2867, 'possible': 14617, 'brown': 3489, 'praise': 14688, 'ministry': 12333, 'tells': 18345, 'wdyouth': 20175, 'biblestudy': 2971, 'ujk0e5gbcc': 19317, 'remembering': 15664, 'die': 5709, 'avoid': 2459, 'trap': 18942, 'thinking': 18550, 'lose': 11549, 'jobs': 10271, 'tried': 19008, 'orange': 13758, 'onfireanders': 13674, 'bb': 2743, 'jv8ppkhjy7': 10441, 'kick': 10680, 'want': 20065, 'making': 11820, 'say': 16470, 'interrupt': 9815, 'george': 8023, 'bernard': 2914, 'shaw': 16817, 'oyster': 13912, 'shell': 16832, 'andrew': 1970, 'carnegie': 3888, 'need': 12990, 'play': 14466, 'hybrid': 9297, 'slayer': 17125, 'ps4': 14918, 'eu': 6810, 'hmu': 9005, 'cod8sandscrims': 4491, 'empirikgaming': 6570, 'codawscrims': 4492, '4tp_kotc': 775, '4tpfa': 776, 'aftershock_org': 1673, 'experts': 6945, 'france': 7652, 'begin': 2843, 'examining': 6879, 'airplane': 1742, 'debris': 5390, 'reunion': 15824, 'island': 9939, 'french': 7699, 'air': 1733, 'yvvpznzmxg': 21081, 'strict': 17786, 'liability': 11269, 'context': 4738, 'pilot': 14379, 'error': 6745, 'common': 4603, 'component': 4638, 'aviation': 2456, 'cr': 4900, '6cz3bohrd4': 952, 'crobscarla': 4988, 'lifetime': 11303, 'odds': 13510, 'dying': 6250, '8015': 1121, 'wedn': 20205, 'bkpfpogysi': 3081, 'alexalltimelow': 1816, 'awwww': 2493, 'cuties': 5114, 'good': 8234, 'job': 10267, 'family': 7105, 'members': 12129, 'osama': 13802, 'bin': 3023, 'laden': 10980, 'ironic': 9912, 'mhmmm': 12232, 'gov': 8273, 'suspect': 18007, 'goes': 8215, 'engine': 6626, 'tyjxrfd3st': 19203, 'wings': 20382, '29': 430, '07': 25, 'i7kztevb2v': 9338, 'cessna': 4041, 'ocampo': 13486, 'coahuila': 4467, 'mexico': 12204, 'july': 10407, 'men': 12139, 'including': 9624, 'state': 17630, 'government': 8276, 'official': 13546, 'watchthevideo': 20122, 'p64xrvgjik': 13937, 'lsmx2vwr3j': 11605, 'wednesday': 20208, 'began': 2840, 'kca': 10576, 'votejkt48id': 19938, 'mbataweel': 12025, 'rip': 15939, 'binladen': 3027, 'coworker': 4882, 'nudes': 13337, 'mode': 12472, 'mickinyman': 12251, 'theatlantic': 18467, 'wreck': 20578, 'politics': 14569, 'tagzbcxfj0': 18157, 'mlb': 12433, 'unbelievably': 19359, 'insane': 9741, 'airport': 1744, 'aircraft': 1736, 'aeroplane': 1629, 'runway': 16233, 'freaky': 7668, 'cezhq7czll': 4043, 'airplaneåê': 1743, 'wq3wjsgphl': 20563, 'tfcdronra6': 18423, 'usama': 19541, 'ladins': 10982, 'naturally': 12924, 'plane': 14445, 'festival': 7264, 'kq9ae6ap2b': 10858, 'death': 5380, 'carfest': 3871, 'gibyqhhkpk': 8093, 'dtn': 6163, 'brazil': 3380, 'exp': 6924, 'm9ig3wq8lq': 11736, 'v4smaeslk5': 19633, 'ûïairplane': 21330, 'wtf': 20616, 'ûªt': 21325, 'believe': 2869, 'eyes': 7005, '6ffylajwps': 959, 'nicole': 13102, 'fletcher': 7442, 'victim': 19796, 'crashed': 4920, 'times': 18664, 'ago': 1698, 'little': 11391, 'bit': 3047, 'trauma': 18948, 'omg': 13659, 'xdxdprcpns': 20726, 'bro': 3460, 'jetengine': 10189, 'turbojet': 19125, 'boing': 3235, 'g90': 7873, 'kxxnszp6nk': 10922, 'phone': 14323, 'looks': 11521, 'ship': 16856, 'terrible': 18386, 'statistically': 17638, 'cop': 4784, 'crashes': 4921, 'house': 9141, 'colombia': 4543, '12': 156, 'zhjlflbhzl': 21184, 'iecc1jdoub': 9432, 'drone': 6115, 'cause': 3960, 'pilots': 14380, 'worried': 20526, 'drones': 6116, 'esp': 6764, 'close': 4406, 'vicinity': 19791, 'airports': 1745, 'kz35rgngjf': 10932, 'early': 6300, 'wake': 20040, 'sister': 17028, 'begging': 2842, 'come': 4568, 'ride': 15906, 'ambulance': 1914, 'hospital': 9121, 'rodkiai': 16044, 'ay6zzcupnz': 2502, 'feared': 7207, 'pakistani': 13990, 'helicopter': 8835, 'sc9dns41mc': 16489, 'ambulances': 1915, 'lorry': 11544, '9pfeaqeski': 1314, 'fntg70rnkx': 7502, 'emsne': 6580, 'reuters': 15828, 'mdnugvubwn': 12058, 'yugvani': 21066, 'leading': 11132, 'services': 16718, 'boss': 3296, 'welcomes': 20229, 'charity': 4112, 'mj2jq2psv6': 12413, 'travelling': 18954, 'aberystwyth': 1446, 'shrewsbury': 16916, 'incident': 9613, 'halt': 8613, 'shrews': 16915, 'xum8ylcb4q': 20807, 'sprinter': 17508, 'automatic': 2436, 'frontline': 7732, 'choice': 4215, '14': 184, 'lez': 11245, 'compliant': 4636, 'ebay': 6335, '4evttqpeia': 730, 'nanotech': 12879, 'device': 5645, 'target': 18214, 'destroy': 5605, 'blood': 3163, 'clots': 4419, 'hfy5v3slbb': 8890, '20skyhawkmm20': 378, 'traplord_29': 18943, 'fredosantana300': 7672, 'lilreese300': 11335, 'hella': 8839, 'crazy': 4930, 'fights': 7307, 'couple': 4858, 'mosh': 12587, 'pits': 14413, 'run': 16222, 'lucky': 11627, 'justsaying': 10439, 'randomthought': 15377, 'bfes5twbzt': 2945, 'til_now': 18651, 'dna': 5919, '7xglah10zl': 1111, 'thmblaatzp': 18564, 'tanslash': 18202, 'waiting': 20037, 'fouseytube': 7611, 'ok': 13609, 'hahahah': 8587, 'zsberqnn9n': 21259, 'q8ivrzojzv': 15082, 'pakistan': 13989, 'kills': 10713, '8e7ry8ebmf': 1161, 'thenissonian': 18513, 'rejectdcartoons': 15627, 'nissan': 13133, 'medical': 12087, 'assistance': 2308, 'ems1': 6578, 'ny': 13384, 'emts': 6581, 'petition': 14271, '17': 219, 'hour': 9139, 'minimum': 12327, 'wage': 20029, 'ûª': 21316, '4oa6swlxmr': 757, 'ems': 6577, 'paramedics': 14045, 'fcqmkffflw': 7190, 'vayaymbngu': 19701, '3brme6sn4t': 592, 'ujrx9kgawp': 19319, 'kp2lf4aute': 10849, 'kiwi_karyn': 10756, 'parking': 14062, 'lot': 11557, 'said': 16339, 'johns': 10294, 'hpvodud7ip': 9156, 'lt': 11610, 'shzpyiqok5': 16928, 'pwwpum6rbj': 15038, 'yspon4d6qo': 21055, 'ûï': 21327, 'leoblakecarter': 11210, 'dog': 5948, 'thinks': 18552, 'mg1lpgr0rm': 12219, 'natasha_rideout': 12906, 'hatzolah': 8722, 'responding': 15783, 'dual': 6167, 'sirens': 17018, 'sek6mq6njf': 16650, 'fuerk0gwui': 7776, 'mv7ggglmvc': 12769, 'x5yeuylt1x': 20697, '2ugrmd1z1n': 504, 'th9ywbbeet': 18440, 'worldnews': 20517, 'x2qsjod40u': 20686, 'number': 13348, 'lesotho': 11223, 'body': 3232, 'medic914': 12086, 'aace_org': 1414, 'surprised': 17987, 'standardised': 17593, 'clinical': 4392, 'practice': 14681, 'trust': 19067, 'j8tyt1xrrk': 10026, '9d4nazoi94': 1274, 'walk': 20049, 'passing': 14090, 'hate': 8716, 'episode': 6703, 'trunks': 19066, 'annihilated': 2013, 'freiza': 7697, 'cleanest': 4360, 'showed': 16910, 'nigga': 13111, 'mercy': 12156, 'shall': 16786, 'petebests': 14263, 'dessicated': 5598, 'laid': 10990, 'bare': 2673, 'kneel': 10793, 'uribe': 19522, 'baseball': 2693, 'mets': 12202, 'marksmaponyane': 11922, 'hey': 8880, 'sundowns': 17929, 'previous': 14768, 'meeting': 12104, 'celtic': 4018, 'improvement': 9592, 'volfan326': 19922, 'tneazzy': 18735, 'mizzou': 12411, 'seasons': 16600, 'ended': 6607, 'muschamp': 12739, 'career': 3865, 'compete': 4623, 'bama': 2627, 'abs': 1467, '1xpw292tje': 335, 'status': 17640, 'education': 6383, 'mba': 12024, 'behalf': 2849, 'easy': 6326, 'careen': 3864, 'eovm': 6683, 'e0pi0c54ff': 6264, 'luka': 11637, 'alois': 1876, 'trancy': 18925, 'acarewornheart': 1487, 'fella': 7240, 'sorry': 17349, 'won': 20481, 'pulls': 14974, 'drunk': 6145, 'driver': 6103, 'safety': 16330, 'seconds': 16614, 'hit': 8978, 'train': 18916, 'thrhkhogcuåê': 18597, 'tzszmf2qxe': 19222, 'viralspell': 19851, 'c0nkgp6w03åê': 3665, 'imwmfdjssn': 9602, 'boom': 3274, 'country': 4855, 'entirely': 6666, 'britain': 3451, 'irfcn71szv': 9905, 'amirkingkhan': 1936, 'floydmayweather': 7480, 'sure': 17972, 'promised': 14850, 'israel': 9946, 'horror': 9115, 'iran': 9894, 'nukes': 13347, 'xn09mx6sxy': 20765, 'violentfeminazi': 19845, 'armenians': 2204, 'spent': 17446, 'history': 8977, '70': 1014, '100000': 115, 'instantly': 9767, 'aware': 2478, 'ability': 1450, 'annihilate': 2012, 'humanity': 9223, 'tryouts': 19079, 'went': 20241, 'minus': 12342, 'fact': 7059, 'stopped': 17727, 'quickly': 15217, 'short': 16892, 'ball': 2623, 'toenail': 18759, '1960s': 256, 'oryx': 13798, 'symbol': 18092, 'arabian': 2156, 'peninsula': 14207, 'hunters': 9250, 'yangeqbuqw': 20892, 'jq2eh5kglt': 10354, 'ready': 15473, 'bucs': 3536, 'philipduncan': 14311, 'breakfastone': 3394, 'nights': 13120, 'weather': 20192, 'philip': 14310, 'thought': 18577, 'forecast': 7556, 'domain': 5962, 'sophistication': 17342, 'closely': 4408, 'feat': 7210, 'zrnf': 21255, 'stormbeard': 17736, 'steel_lord': 17658, 'seen': 16638, 'judas': 10389, 'priest': 14775, '2005': 350, 'rob': 16006, 'scorpions': 16538, 'astonishing': 2319, 'gig': 8101, 'officially': 13548, 'skipping': 17082, 'fantasticfour': 7121, 'fant4stic': 7118, 'hashtag': 8705, 'reviews': 15844, 'bummer': 3574, 'tomcatarts': 18777, 'explaining': 6949, 'case': 3918, 'survivor': 18000, 'evolved': 6865, 'godlike': 8209, 'completely': 4633, 'cech': 4003, 'paul': 14127, 'keegan': 10593, 'legion': 11176, 'survivors': 18001, 'imperfect': 9571, 'project': 14841, 'formed': 7580, 'cell': 4017, 'sirbrandonknt': 17014, 'exactly': 6874, 'lesnar': 11222, 'cena': 4020, 'match': 11975, 'summerslam': 17913, 'brock': 3469, 'f1bakpnyn6åê': 7022, 'lzxwoaye4x': 11697, 'damascus': 5229, 'syrian': 18099, 'army': 2207, 'grinds': 8384, 'alloosh': 1862, 'gang': 7921, 'manure': 11871, 'pile': 14368, '7rakhp3bwm': 1102, 'thatdes': 18454, 'wasn': 20109, 'forthright': 7593, 'food': 7530, 'coma': 4560, 'bc': 2765, 'kebab': 10591, 'tahini': 18158, 'pickles': 14348, 'fries': 7723, 'fun': 7784, 'simmons': 16980, 'bar': 2660, 'camden': 3763, 'handsome': 8637, 'apart': 2075, '4jno677zkv': 745, 'juanny': 10388, 'beisbol': 2860, 'lgm': 11255, 'rvfriedmann': 16251, 'hell': 8838, 'fraction': 7646, 'total': 18838, 'annihilation': 2015, 'destruction': 5611, 'usa': 19537, 'lodisilverado': 11481, 'ritzy_jewels': 15958, 'potus': 14637, 'maybe': 12013, 'pres': 14734, 'sold': 17291, 'river': 15962, 'evildead': 6862, 'civilization': 4318, 'spfke5kqu4': 17447, 'national': 12912, 'park': 14058, 'tonto': 18791, 'salt': 16365, 'wild': 20340, 'horse': 9118, '6lojoorouk': 972, 'change': 4087, 'annihilating': 2014, 'quarterstaff': 15195, 'world': 20515, 'vs': 19956, 'self': 16655, 'transformation': 18930, 'pyehwodwun': 15045, 'aliens': 1836, 'attack': 2359, 'exterminate': 6986, 'humans': 9226, 'pb2n77nskz': 14144, 'starmade': 17613, 'stardate': 17608, 'planetary': 14448, 'i2hhviumtm': 9322, 'm8mvdspjp7': 11732, 'sw1sbua3mn': 18025, 'kimkardashian': 10715, 'sign': 16950, 'share': 16803, 'save': 16457, 'horses': 9119, 'arizona': 2193, '3tssxphufe': 648, 'kpqk0c4g0m': 10856, 'theellenshow': 18488, '54000': 819, 'signatures': 16952, 'org': 13774, 'thx': 18626, 'souls': 17358, 'punished': 14991, 'withåêannihilation': 20416, 'c1qxjweqqu': 3671, 'zhp0sowxry': 21185, 'calfreedommom': 3738, 'steph93065': 17665, 'mention': 12149, 'major': 11813, 'contributor': 4753, 'willienelson': 20353, 'stand': 17591, 'voice': 19912, 'gilbert23': 8107, 'e8dl1lncvu': 6288, 'reject': 15626, 'laws': 11098, 'misguided': 12364, 'false': 7099, 'prophets': 14874, 'imprison': 9588, 'nations': 12914, 'fueling': 7774, 'matijwkzbh': 11987, 'jeb': 10156, 'christie': 4251, 'kasich': 10553, 'hours': 9140, 'away': 2481, 'allow': 1864, 'barbi_twins': 2667, 'whippenz': 20301, 'az': 2511, 'wildhorses': 20345, 'tantonationalforest': 18204, 'rollingstones': 16066, 'sing': 16996, 'long': 11509, 'order': 13770, 'wm5l8pj2iy': 20441, 'wvobvvtxkg': 20633, 'sonofbaldwin': 17323, 'current': 5097, 'nova': 13281, 'bookslast': 3272, 'checked': 4143, 'tied': 18642, 'books': 3270, '2011': 357, 'x2wn7o2a3w': 20687, 'saltriverwildhorses': 16367, 'ikuayuseqt': 9509, 'bqbhuyfme9': 3350, 'dante': 5271, 'join': 10297, 'following': 7521, 'zone': 21234, 'johnny': 10293, '8jxql8cv8z': 1177, '0fekgyby5f': 47, 'sb5r7shccj': 16480, 'fight': 7301, 'taylor': 18250, 'soon': 17331, 'ohh': 13579, 'fukurodani': 7779, 'survive': 17997, 'apocalypse': 2091, 'bokuto': 3240, 'feels': 7229, 'poor': 14580, 'boy': 3330, 'ppor': 14669, 'child': 4185, 'jocelyn': 10273, 'birthday': 3043, 'janenelson097': 10089, 'stephenscifi': 17671, 'adaptation': 1572, 'watch': 20116, 'charlie': 4117, 'human': 9220, 'optioned': 13745, 'film': 7318, 'sciencefiction': 16527, 'august': 2403, '05': 19, '02pm': 11, 'red': 15551, 'zombie': 21231, '2014': 360, 'cf9e6tu3g7': 4044, 'internetradio': 9811, 'collegeradi': 4531, 'honeybunzgem': 9077, 'primalkitchen': 14778, 'feel': 7224, 'pull': 14971, 'stages': 17582, 'kinda': 10717, 'hot': 9130, 'played': 14468, 'radio': 15319, 'disease': 5800, 'started': 17618, 'careful': 3868, 'lol': 11491, 'gf': 8050, 'm8': 11730, 'question': 15210, 'interpretation': 9812, 'called': 3750, 'my8q1uwijn': 12789, 'julie': 10402, 'version': 19756, 'romeo': 16077, 'juliet': 10406, 'warmbodies': 20078, 'fittscott': 7385, 'minecraft': 12318, 'block': 3153, 'mod': 12471, 'bob': 3224, 'wither': 20413, 'showcase': 16908, 'popularmmos': 14591, 'mul1j9aeux': 12707, 'vi': 19782, 'begins': 2847, 'snow': 17243, 'our_mother_mary': 13836, 'reading': 15471, '21': 381, '1023': 125, 'spirit': 17463, 'angel': 1979, 'took': 18801, 'enormous': 6644, 'high': 8920, 'mountain': 12614, 'candylit': 3806, 'imagine': 9542, 'sarumi': 16429, 'fighting': 7306, 'heart': 8796, 'conversations': 4765, 'xizkjfff29': 20746, 'zonewolf123': 21236, 'liked': 11325, 'video': 19807, 'u66kyg11zd': 19242, 'mo': 12459, 'planet': 14447, 'lone': 11503, 'audience': 2395, 'dad': 5200, 'bought': 3303, 'science': 16526, 'doc': 5927, 'impending': 9570, 'biblical': 2972, 'alexandrapullin': 1817, 'comes': 4571, 'grizzly': 8387, 'peak': 14182, 'beginning': 2845, 'dystopian': 6256, 'movie': 12629, 'scared': 16498, 'storm': 17735, 'cairo': 3723, 'latest': 11062, 'fs012trudg': 7748, 'yahootv': 20887, 'tngye2fklv': 18738, 'xv': 20810, 'totally': 18842, 'bad': 2578, 'pierc': 14359, 'xpfmr368uf': 20775, 'ejdhvlkxaf': 6449, 'geek_apocalypse': 7990, '4pm': 761, 'gmt': 8189, 'hesse': 8876, 'plays': 14476, 'dark': 5283, 'tngpshnl87': 18737, 'imzlnzltf5': 9603, 'etcpb': 6787, 'zombies': 21233, 'huthxlkyxy': 9270, 'bryansinger': 3509, 'reveals': 15832, 'queen': 15199, 'rupaul': 16235, 'alexshipppp': 1825, 'oqw8jx6rts': 13755, 'shadow': 16772, 'boxing': 3328, 'v8aftd9zez': 19646, 'enjoyed': 6640, 'action': 1543, 'titan': 18689, 'posters': 14626, 'reminded': 15669, 'freshly': 7704, 'clean': 4359, 'coiffed': 4506, 'ki1ykrs9fi': 10677, 'pbban': 14145, 'temporary': 18360, '300': 522, 'avysss': 2467, 'armageddon': 2202, 'kill': 10705, 'flags': 7412, 'xp': 20773, 'russaky89': 16239, 'vid': 19805, 'doublecups': 6014, 'lfkmtzaekk': 11247, 'trubgme': 19051, 'prod': 14815, 'thisizbwright': 18563, 'ouvindo': 13859, 'peace': 14178, 'qouxigdtbz': 15156, 'bed': 2824, 'unless': 19430, 'revolution': 15849, 'start': 17617, 'faction': 7060, 'microsoft': 12257, 'xbox': 20715, '360': 560, 'ypbvs1ijya': 21031, '9dflv6ynqr': 1275, 'katiekatcubs': 10558, 'series': 16710, 'ophiuchus2613': 13722, 'truelove': 19059, 'romance': 16072, 'lith': 11388, 'voodoo': 19931, 'seduction': 16627, 'astrology': 2323, 'rtrrt': 16188, 'lotz': 11560, '1008pla': 117, 'beat': 2802, 'hsu': 9184, 'hao': 8650, 'flawless': 7431, 'enews': 6622, 'ben': 2885, 'affleck': 1646, 'girls': 8121, 'loved': 11571, 'eonlinechat': 6682, 'coat': 4475, 'hand': 8626, 'worn': 20525, 'certainty': 4035, 'bears': 2798, 'sense': 16680, 'occasion': 13487, 'spying': 17521, 'hidden': 8914, 'door': 5991, 'nsa': 13317, 'data': 5298, 'mining': 12328, 'software': 17286, 'blog': 3159, 'qycw5jjaj1': 15260, 'hyider_ghost2': 9299, 'rtrrtcoach': 16189, '1008planet': 118, 'fighterdena': 7303, 'sketch': 17068, 'did': 5706, 'based': 2695, 'taste': 18226, 'startrek': 17623, 'tos': 18835, 'a2e6dcsk88': 1384, 'ucsudk3q1d': 19273, 'aberdeenfc': 1445, 'aberdeenfanpage': 1444, 'luck': 11626, 'tomorrow': 18784, 'coefficient': 4497, 'points': 14548, 'plz': 14510, 'paddytomlinson1': 13966, 'rohnertparkdps': 16055, 'justice': 10429, 'department': 5542, 'haven': 8725, 'paid': 13977, 'income': 9625, 'tax': 18239, '20yrs': 380, 'vladimir': 19892, 'putin': 15021, 'warning': 20085, 'late': 11057, 'escape': 6754, 'gbxafy1m1c': 7975, 'kingdom': 10731, 'heavenly': 8811, 'rule': 16213, 'earth': 6310, '8hgcbxukz0': 1168, '4kopkcyvtt': 751, 'entertainment': 6664, 'brucewillis': 3498, 'movies': 12630, 'monkeys': 12525, 'sixth': 17041, 'auction': 2390, 'cxdjapzxmp': 5140, 'let': 11228, 'ûªs': 21324, 'goof': 8244, 'guild': 8461, 'saunders': 16453, 'stage': 17580, 'hkbxxvd9iw': 8989, 'karnythia': 10543, 'gaining': 7892, 'prepared': 14727, 'toddler': 18755, 'preppers': 14732, 'doomsday': 5989, 'library': 11281, 'collection': 4527, 'cd': 3991, 'shtf': 16920, 'preppertalk': 14733, 'survival': 17996, '2a': 435, 'prepper': 14731, 'vpqtgeqlma': 19947, 'erker': 6740, 'eep': 6398, 'yesterday': 20948, 'saw': 16469, 'hail': 8590, 'ahamedis': 1710, 'think': 18549, 'messiah': 12175, '125': 163, 'dajaal': 5215, 'gog': 8218, 'magog': 11795, 'sadly': 16321, 'windows': 20367, '10': 111, 'ethics': 6796, 'stftjcrjea': 17690, 'averted': 2454, 'patron': 14121, 'ultimalucha': 19329, 'samihonkonen': 16383, 'ww1': 20637, 'blueprint': 3193, 'extremely': 6995, 'impressive': 9587, 'european': 6823, 'fitba': 7382, 'till': 18653, 'christmas': 4256, 'christians': 4249, 'united': 19420, 'cufi': 5072, 'jews': 10200, 'convert': 4766, '4arwwrzpsr': 716, 'mkjq9yfmp8': 12425, 'preseasonworkouts': 14737, 'lee': 11160, 'comedy': 4569, 'leejasper': 11164, 'working': 20510, 'class': 4350, 'tories': 18819, 'prepare': 14726, 'interestraterise': 9803, 'charts': 4130, 'prove': 14900, 'crisis': 4979, 'begun': 2848, 'economic': 6350, 'collapse': 4521, 'tracks': 18894, 'tren': 18979, 'vhcxtvcinr': 19779, 'craig': 4909, 'roberts': 16017, 'nvfkzv5fex': 13365, 'brics': 3422, 'russia': 16242, 'lights': 11319, 'isn': 9942, 'funny': 7796, 'goofballs': 8245, 'staff': 17578, 'pd': 14166, 'thereal': 18520, '4i0rjc9rqu': 741, 'comin': 4576, 'fingers': 7342, 'aberdeen': 1443, 'eh': 6430, 'beyonce': 2941, 'pick': 14342, 'nnmqlz91o9': 13183, 'fan': 7109, 'beyhive': 2940, 'o91f3cyy0r': 13439, 'direction': 5755, 'q2eblokeve': 15067, 'directioners': 5756, 'encmhz6y34': 6595, 'x1402': 20677, 'j6wseptxga': 10024, '5sosfam': 878, 'qwgiwc9w7z': 15244, '22': 389, 'thoyhrhkfj': 18582, 'wvj39a3bgm': 20630, 'x1411': 20678, 'whitewalkers': 20310, 'slightly': 17141, 'intrigued': 9831, 'build': 3555, 'lead': 11128, 'youtu': 21028, 'friend': 7716, 'code': 4493, 'lzktjnox': 11693, 'zz0cewew64': 21287, 'salvation': 16373, 'hosts': 9129, 'rally': 15362, 'reconnect': 15538, 'fathers': 7160, 'children': 4191, 'hosting': 9128, 'rdjpor3azg': 15452, 'vote': 19936, 'queens': 15201, '5th': 881, 'round': 16127, 'billboard': 3007, 'fanarmyfaceoff': 7110, 'kgtxnnbj7y': 10660, '100': 112, 'dogs': 5951, 'leader': 11129, 'lion': 11361, 'hero': 8869, 'tv': 19143, 'review': 15841, 'kaccpk85wf': 10499, 'nnixodhigc': 13182, 'x1392': 20676, 'infantry': 9685, 'mens': 12143, 'lume': 11645, 'dial': 5687, 'analog': 1954, 'quartz': 15196, 'wrist': 20585, 'sport': 17485, 'blue': 3187, 'nylon': 13399, 'fabric': 7047, 'rea': 15456, 'hep9k0xghb': 8864, '80ebvglmra': 1123, 'x1441': 20680, 'victorinox': 19802, 'swiss': 18065, 'date': 5299, 'women': 20477, 'rubber': 16194, 'mop': 12555, '241487': 404, 'yfy3nkkcoh': 20954, 'knehvvohvk': 10796, 'drayesha4': 6070, 'indiakomuntorjawabdo': 9647, 'indian': 9648, 'ki': 10676, 'wjljq3ya4g': 20427, 'qchv3jqovk': 15098, 'gc0udfnfgg': 7977, 'ìñ1': 21305, '78': 1048, 'x1386': 20675, 'da': 5194, 'mtvsummerstar': 12692, 'videoveranomtv': 19811, 'mtvhottest': 12691, 'britney': 3454, 'spears': 17413, 'lana': 11010, 'del': 5472, 'rey': 15854, 'y9wvqkgbbi': 20875, 's5f9fcomp8': 16293, 'stony': 17720, 'jackson': 10045, 'hope': 9092, 'leads': 11133, 'felons': 7241, 'rejects': 15629, 'satan': 16434, '0wbecdmhqo': 92, 'wwi': 20646, 'wwii': 20647, 'japanese': 10098, 'navy': 12934, 'military': 12295, 'japan': 10097, 'leather': 11150, 'war': 20070, 'mido': 12269, 'f9j3l2yjl4': 7040, 'mwwwowcayo': 12782, '72': 1024, '66': 922, 'appoints': 2118, 'brig': 3434, 'gen': 8003, 'richard': 15889, 'kaiser': 10509, 'member': 12128, 'mississippi': 12382, 'commission': 4594, 'learn': 11145, 'mrc': 12654, 'vdukcv7yjy': 19720, 'ap': 2071, 'violent': 19844, 'involved': 9860, 'control': 4755, 'killings': 10712, 'qumce7w2ty': 15225, 'ktkg2sdhhl': 10887, 'obfd7e4qcp': 13458, 'yazje5owvk': 20901, 'x1434': 20679, 'imhfdaowrd': 9553, '4ftzjk94dt': 732, 'jewish': 10198, 'terrorists': 18394, 'charged': 4106, 'historic': 8974, 'arson': 2227, 'ugly': 19301, 'truth': 19072, 'ieksnfsby7': 9434, 'vwcf3slkrw': 19979, 'spokane': 17477, 'authorities': 2427, 'struggling': 17812, 'solve': 17303, 'cases': 3919, 'hamilton': 8618, 'qbs2k01wzk': 15097, 'mvlziysgll': 12771, 'attend': 2368, 'organized': 13780, 'protesting': 14893, 'bvckd9pdti': 3640, 'add': 1573, 'familia': 7102, 'squad': 17533, 'fake': 7088, 'crime': 4971, 'lesbians': 11219, 'burn': 3593, '66obqmximb': 928, 'linked': 11357, 'caught': 3958, 'northern': 13240, 'xwms1aww8m': 20817, 'newsintweets': 13059, 'te2yerugsi': 18287, 'mourning': 12620, 'notices': 13267, 'stabbing': 17569, 'victims': 19798, 'stir': 17700, 'grief': 8375, 'eug6zhciun': 6814, 'kkbxiblah7': 10764, 'sound': 17360, 'gay': 7954, 'admits': 1596, 'scheme': 16515, 'myhohvrhil': 12799, 'lgbt': 11252, 'tm5hthfdo0': 18720, 'uavfrtlfs4': 19260, '85g1pcccxg': 1142, 'ej2ghnafhy': 6446, 'trial': 18991, 'burglary': 3590, 'wftcrlz32p': 20269, 'palestinian': 13996, 'cracks': 4908, 'amid': 1930, 'protests': 14895, 'okvsimogic': 13626, 'kisii': 10744, 'hunt': 9247, 'failed': 7074, 'plot': 14496, 'm5sbfrrsn7': 11724, 'countynews': 4857, 'mariah': 11894, 'shoulders': 16899, 'girl': 8119, 'shira': 16861, 'banki': 2646, '3gz5zqqthe': 608, 'relaxinpr': 15637, 'miprv': 12348, 'latimes': 11064, 'ylhayfaoou': 20985, 'prayed': 14693, 'treated': 18962, 'wf8itk2kvx': 20265, 'huffpostrelig': 9206, '0tslqjokvh': 84, 'theadvocatemag': 18463, 'sayn_ae': 16474, '5bdrfu1duo': 839, 'q4l7dg56jm': 15074, '2y9dnp5vtg': 515, '6xul6dcosh': 1008, 'ubfr1urafc': 19264, 'alnv51d95x': 1875, 'gbluhrrlto': 7970, 'zpxe3fmyng': 21244, 'wnuqqatttp': 20458, 'tennessee': 18367, 'lesbian': 11218, 'faked': 7089, 'destroyed': 5607, '10muey8pxj': 137, 'prrb4fhxtv': 14912, 'u1fuwrgk5u': 19230, '_301dc': 1343, 'cloudy_goldrush': 4423, 'white': 20308, 'mc': 12028, 'impressed': 9585, 'arsonistmusic': 2229, '1elreh1jlj': 283, 'alleged': 1849, 'east': 6319, 'bay': 2738, 'serial': 16709, 'arrested': 2215, 'wr48aqtum7': 20571, 'safyuan': 16333, 'minor': 12336, 'citation': 4299, 'possesion': 14614, 'decriminalized': 5423, 'substance': 17866, 'facing': 7057, 'suspected': 18008, 'calif': 3745, 'pzotpdgaki': 15058, 'mmgsyahdzb': 12446, 'local_arsonist': 11466, 'diamorfiend': 5692, 'legal': 11172, 'forgets': 7571, 'casper_rmg': 3925, 'dick': 5701, 'bloor': 3172, 'ossington': 13812, 'mattress': 12000, 'northumberland': 13244, 'cbcto': 3973, 'wpdvt31sne': 20553, 'nice': 13094, 'sit': 17030, 'vegetarian': 19730, 'vegan': 19726, 'shows': 16914, 'torching': 18817, 'popular': 14589, 'bk': 3075, 'restaurant': 15791, 'strictly': 17787, 'kxplyom9rr': 10919, 'govegan': 8274, 'uniteblue': 19419, 'headlines': 8774, 'sqgogj3s5r': 17526, 'nightbeat': 13115, 'veronicadlcruz': 19754, '2minutemix': 477, 'captures': 3846, 'removing': 15682, 'american': 1923, 'beach': 2789, 'ca': 3694, 'burning': 3598, 'sought': 17355, 'jp2qlrunjj': 10346, 'jbpgkgowsi': 10133, '58hif': 833, 'trick': 19001, 'nasty': 12901, 'things': 18547, 'spotlight': 17493, 'paradise': 14042, 'wniagospel': 20455, '1he4ufawzm': 291, 'bnhtxaezmm': 3214, 'makes': 11817, '28t3nwhdky': 429, 'town': 18867, 'salem': 16356, 'melted': 12126, 'ice': 9379, 'cube': 5058, 'arsonists': 2230, 'blamed': 3105, 'blaze': 3117, 'plastics': 14461, 'recycling': 15550, 'business': 3614, 'adelaide': 1583, 'pcaldicott7': 14158, 'reports': 15722, '7newsadl': 1092, 'r1xwdnvb0g': 15278, 'hotboy': 9132, 'zodiac': 21226, 'trey': 18987, 'dupree': 6203, 'produced': 14819, 'sparkz': 17405, 'beatz': 2807, 'chuck': 4265, 'hdkd9j2lw0': 8761, 'lmfao': 11443, 'sanfrancisco': 16407, 'ojuhfkhvb2': 13606, '_doofus_': 1357, 'jokin': 10306, 'moves': 12628, 'sets': 16728, 'newyork': 13063, 'nr7ust3uh8': 13305, 'slimebeast': 17143, 'ulr6myklnh': 19328, 'bestcomedyvine': 2920, 'whats': 20286, 'cracking': 4907, 'fuck': 7761, 'drink': 6097, 'green': 8349, 'mink': 12334, 'court': 4865, 'earl': 6298, 'lmao': 11441, 'real': 15476, 'frank': 7656, 'elliott': 6509, 'pleaded': 14480, 'guilty': 8463, 'hiring': 8967, 'jcfehrhlq8': 10139, 'trusting': 19069, 'terrorism': 18392, 'inviting': 9857, 'brigade': 3435, 'telegraph': 18337, '2z2htdjqzd': 516, 'big': 2985, 'true': 19057, 'story': 17743, 'missing': 12378, 'qxh1h61cwd': 15254, 'stay': 17643, 'vigilent': 19817, 'civil': 4314, 'liberties': 11276, 'constant': 4715, 'nativehuman': 12916, 'myreligion': 12804, 'wwu070tjej': 20649, 'credit': 4951, 'pfannebeckers': 14278, 'inspiring': 9757, 'rediscover': 15565, 'fantabulous': 7119, 'tbt': 18264, 'wmhy47xkil': 20444, 'ptkrxtzjtv': 14945, 'nashville': 12898, 'theater': 18465, 'gun': 8474, 'grabbers': 8300, 'demand': 5499, 'ûïhatchet': 21335, 'terror': 18391, 'post': 14619, 'udhampur': 19278, 'demi': 5503, 'stans': 17603, 'million': 12303, 'copies': 4789, 'scares': 16499, 'versions': 19757, 'nuclear': 13334, 'warnings': 20086, 'knowing': 10812, 'governments': 8277, 'isil': 9932, 'claims': 4341, 'suicide': 17896, 'bombing': 3253, 'saudi': 16447, 'mosque': 12589, 'y8icf89h6w': 20869, 't9msnzv1kb': 18134, 'dattomm': 5304, 'funniest': 7795, 'twitter': 19178, 'feminists': 7249, '4head': 738, 'horrific': 9113, 'muslim': 12753, 'italy': 9954, 'ny3l1orzqb': 13388, 'liveleak': 11399, 'ûª93': 21317, 'blasts': 3116, 'accused': 1508, 'yeda': 20926, 'yakub': 20888, 'karachi': 10535, 'mfkqyxd8xg': 12213, 'mumbai': 12719, 'etribune': 6806, 'militants': 12293, 'waziristan': 20147, 'acebreakingnews': 1514, 'jb038rdfak': 10127, 'psychological': 14936, '3huhzxliig': 611, 'spos': 17491, 'injured': 9722, 'livemint': 11404, 'rptouz2ijs': 16153, '69mlhfefhr': 938, 'allthenews': 1870, 'obama': 13456, 'officials': 13551, 'gave': 7952, 'terrorist': 18393, 'weapon': 20185, 'texas': 18412, 'qi8qdw5dfg': 15131, 'delhi': 5480, 'provide': 14902, 'acid': 1524, 'private': 14800, 'hospitals': 9124, 'h6pm1w7ell': 8559, 'darkreading': 5289, '8eijdxapnp': 1162, 'smb': 17183, 'relay': 15638, 'steals': 17652, 'user': 19554, 'credentials': 4950, 'internet': 9810, 'israeli': 9947, 'forces': 7553, 'raid': 15336, '3gvus8nppy': 607, 'palestine': 13995, 'goat': 8204, 'worry': 20528, 'rocket': 16033, 'okay': 13613, 'lie': 11291, 'senior': 16676, 'diamond': 5690, 'graveyard': 8328, 'shift': 16849, 'defend': 5449, 'handside': 8636, 'idiot': 9416, 'volleyball': 19925, 'ii': 9479, 'machine': 11754, 'simulation': 16989, 'dcdecfv934': 5345, 'dwbc1duvdk': 6235, 'notley': 13273, 'tactful': 18148, 'direct': 5752, 'response': 15785, 'harper': 8686, 'yeah': 20920, 'premier': 14719, 'rzsulzmokx': 16275, 'ableg': 1454, 'cdnpoli': 3996, 'assailant': 2297, 'theatre': 18468, 'homeless': 9055, 'zdcvlyq6qk': 21152, 'caixxum5sos': 3726, 'damn': 5236, 'onpnbx0zex': 13684, 'um5icn5et2': 19338, 'india': 9645, 'shud': 16921, 'evidence': 6860, 'pak': 13988, 'oth': 13822, 'contries': 4754, 'qiopbtiuvu': 15133, 'illegal': 9515, 'alien': 1835, 'released': 15640, 'dhs': 5678, 'rape': 15394, 'maria': 11892, 'woman': 20474, 'prior': 14792, 'offenses': 13535, 'mqp4hf9gpo': 12648, 'strongly': 17804, 'condemn': 4660, 'ary': 2249, 'team': 18295, 'cowardly': 4878, 'act': 1538, 'simply': 16984, 'trying': 19075, 'oyogii97yh': 13911, 'atomic': 2355, 'bombs': 3255, 'fat': 7151, 'says': 16475, 'mentality': 12147, 'blazerfan': 3119, 'ignoranceshe': 9459, 'latinoand': 11068, 'benothing': 2905, 'morebut': 12563, 'group': 8399, 'gop': 8253, 'prevention': 14765, 'secondhand': 16613, 'ydgmgbryl2': 20914, 'dayton': 5333, 'cyber': 5146, '7lhkjz0ivo': 1084, 'vita': 19869, 'yay': 20897, '2016': 363, 'infowars': 9712, 'n3yjb8tcpm': 12836, 'nwo': 13370, 'anxiety': 2055, 'attacked': 2360, 'pugprobs': 14967, 'gunfight': 8476, '2h0dpmv2ef': 456, 'envw98': 6677, 'nickcocofree': 13097, 'juliedicaro': 10404, 'jdabe80': 10143, 'frail': 7649, 'messeymetoo': 12173, 'feeling': 7226, 'cvkqigr1az': 5126, 'chkp0gfynj': 4211, 'cis': 4297, 'female': 7246, 'claim': 4337, 'offended': 13533, 'transgendered': 18933, 'media': 12081, 'helicopters': 8836, 'civilians': 4316, 'gaza': 7958, 'completed': 4632, 'exercises': 6908, 'greece': 8345, 'christian': 4248, 'muslims': 12754, 'temple': 18358, 'mount': 12612, 'waving': 20141, 'pamela': 14006, 'geller': 7995, '5qyczywkgg': 875, 'u0keoe5fmt': 19226, 'f5miuhqaby': 7031, 'pt': 14939, 'unit': 19417, 'responsible': 15787, 'targeting': 18216, 'scholars': 16519, 'imprisoning': 9589, 'youth': 21027, 'f4lhfmehzh': 7028, 'telnet': 18349, '124': 162, '172': 225, 'streamyx': 17769, 'southern': 17378, 'wgwiqmicl1': 20277, 'remember': 15662, 'patrick': 14114, 'kane': 10526, 'cab': 3696, '91jvycxxvi': 1227, 'ik': 9500, 'troll': 19027, 'pol': 14551, 'rivals': 15960, 'literally': 11385, 'abused': 1478, 'families': 7104, 'abuse': 1477, 'loosers': 11529, 'nhxse3rthx': 13087, 'lhbzhwq4b9': 11261, 'worst': 20534, 'person': 14246, 'questioning': 15211, 'guys': 8501, 'empathy': 6567, 'kelly': 10609, 'osbourne': 13804, 'racist': 15315, 'donald': 5971, 'trump': 19063, 'remark': 15657, 'latinos': 11069, 'view': 19815, '7nagdsadwp': 1091, 'eunice_njoki': 6818, 'aiii': 1727, 'needs': 12994, 'chill': 4196, 'answer': 2032, 'calmly': 3754, 'mxz7yx8ld1': 12788, 'e4ydbm4dx6': 6279, 't1aa5ov7eg': 18114, 'robot': 16021, 'lvl': 11660, 'earned': 6303, '6615434': 924, 'satoshis': 16442, 'dmlj1agotw': 5910, 'robotcoingame': 16023, 'bitcoin': 3051, 'freebitcoin': 7677, 'emdjnnltp0': 6535, 'christinalavv': 4254, 'lindsay_wynn3': 11351, 'tweets': 19160, 'a6wmbnr51s': 1400, 'etg0prbp4g': 6790, 'yubkhf9iyh': 21064, 'program': 14832, 'flew': 7443, 'uranium': 19514, 'fukushima': 7780, 'student': 17823, 'digging': 5729, 'e4wk8uri8a': 6278, 'mageavexis': 11778, '1pdjoq4jc1': 309, 'welovela': 20233, 'nhlducks': 13085, 'avalanche': 2445, 'defense': 5454, 'louis': 11567, 'blues': 3194, '9v1rvcomh2': 1331, 'sportsroadhouse': 17489, 'tnxquor1wb': 18742, 'kalle': 10516, 'mattson': 12001, 'reebok': 15577, 'shirt': 16863, 'xl': 20756, 'cotton': 4839, 'znsvstgwx3': 21223, 'nhl': 13084, 'hockey': 9014, 'tix': 18698, 'frozen': 7738, 'fury': 7806, 'xvii': 20814, 'kings': 10734, '103': 127, 'row': 16139, 'aa': 1409, 'mgm': 12221, 'grand': 8308, 'kbtzzzg2tp': 10572, 'bet': 2928, 'didnt': 5708, 'box': 3324, 'rbrw8pwipj': 15439, 'piece': 14356, 'wrote': 20602, 'designs': 5586, 'appreciate': 2120, 'greatly': 8344, 'rfvjh58ef2': 15862, 'roy': 16142, '1998': 269, '99': 1261, 'upper': 19495, 'deck': 5406, 'spx': 17520, '171': 222, 'finite': 7346, '1620': 212, 'mint': 12341, 'uhfm1r3tq5': 19308, 'qulgakebhb': 15224, 'musician': 12748, 'recreates': 15547, '34': 552, 'classic': 4352, 'album': 1802, 'covers': 4876, 'clever': 4376, 'music': 12745, 'ydjpoph1dw': 20915, 'beautiful': 2810, 'sweet': 18049, 'faith': 7086, 'akito': 1767, 'roses': 16109, 'lots': 11559, 'frothy': 7736, 'gyp': 8528, 'raqupzfkjy': 15403, 'weddinghour': 20202, 'qunxocxcga': 15226, 'calgary': 3740, 'flames': 7415, 'col': 4511, 'preseason': 14736, 'scotiabank': 16539, 'saddledome': 16320, '5g8qa6mpxm': 851, 'secrets': 16616, 'catechize': 3945, 'inner': 9731, 'confidential': 4677, 'communication': 4607, 'respects': 15777, 'creating': 4943, 'worth': 20537, 'len': 11201, 'fall': 7091, 'leaves': 11152, 'poplar': 14587, 'fully': 7783, 'ordained': 13769, 'tumbling': 19111, 'spurgeon': 17515, 'punk': 14995, 'bands': 2635, 'original': 13786, 'em': 6520, 'ghostoftheav': 8078, 'montroseband': 12544, 'wdvxjsqwic': 20173, 'performance': 14226, 'chip': 4206, 'fuel': 7772, 'gas': 7939, 'saver': 16461, 'chevy': 4170, 'tahoe': 18159, 'blazer': 3118, 'icrzi5tqc5': 9392, 'onxhkfhn2a': 13691, 'vbswhz4s2v': 19710, 'driving': 6108, 'having': 8726, 'tank': 18200, 'sniping': 17237, 'rqipgqslt6': 16157, 'chevrolet': 4169, 'ltz': 11618, 'lifted': 11304, '4x4': 782, 'favorite': 7170, 'chiasson': 4175, 'sens': 16677, 'deal': 5370, 'coloradoavalanche': 4549, '2bk7lagma9': 444, 'bkdgcfsuiq': 3077, 'rudd': 16202, 'emile': 6545, 'hirsch': 8971, 'gordon': 8256, 'prince': 14782, 'filmmakers': 7322, 'google': 8246, 'e4qonkzndz': 6277, 'entretenimento': 6671, 'purchase': 15003, 'neal': 12976, 'rigga': 15916, '4virxkgmpc': 777, 'bigperm28': 2994, 'drafted': 6048, 'overall': 13865, 'utahgrizz': 19575, 'gpgtafmkt0': 8287, 'rappers': 15399, 'songs': 17319, 'pblvpm6c27': 14149, 'funkflex': 7792, 'yo': 20997, 'flex': 7444, '2azxdlcxga': 440, 'believing': 2870, 'wide': 20329, 'awake': 2475, 'jerseys': 10180, 'nruzhr5xqu': 13313, 'bts': 3523, 'kallemattson': 10517, 'incredible': 9631, '3w6sea9tuv': 654, '48h3tlvlxr': 708, 'nowplay': 13286, 'listen': 11375, 'wd': 20167, 'pickup': 14350, 'premium': 14722, 'obky8pc89h': 13465, 'dxirntdsrd': 6240, 'snowflake': 17246, 'star': 17604, 'wars': 20093, 'power': 14651, 'jedi': 10158, 'battle': 2729, 'droid': 6114, 'hasbro': 8701, 'xfguklrltf': 20735, 'fegu8hwmc4': 7233, 'general': 8005, 'bull': 3564, 'colonel': 4546, '2nd': 480, 'hampshire': 8622, 'letter': 11234, 'signed': 16953, 'ot0tffpbyb': 13816, 'zarbwep9ld': 21141, 'dragon': 6053, 'gods': 8212, 'rotten': 16123, 'tomatoes': 18776, 'jddnhmrmmj': 10145, 'rottentomatoes': 16124, 'added': 1574, 'playlist': 14473, 'wedwyn9kfs': 20209, 'tanks': 18201, 'assistant': 2309, 'bat': 2714, 'chat': 4135, 'arti': 2234, 'kaboom': 10496, 'ya': 20876, 'clip': 4395, '4kus': 752, '15moferadio': 204, 'heavybag201': 8813, 'battle_dom': 2730, 'qotring': 15155, 'battlerapchris': 2732, 'hughes1128': 9212, '7spydy1csc': 1105, 'mctjnzx4h8': 12053, 'baaaack': 2551, 'petersen': 14270, 'bowhunting': 3319, 'bows': 3323, 'cast': 3926, 'fj73gdvg2n': 7394, 'tb': 18252, 'throwback': 18603, 'b0zjwgmaiw': 2519, 'kelby': 10605, 'tomlinson': 18782, 'mild': 12284, 'mannered': 11860, 'baseman': 2698, 'metropolitan': 12200, 'ending': 6609, 'hits': 8981, 'rbi': 15437, 'sfgiants': 16759, 'eye': 7001, 'space': 17388, 'occurred': 13492, 'm27329': 11707, 'fleets': 7439, 'totaling': 18839, '1236': 161, 'ships': 16858, 'taken': 18168, 'king': 10729, 'trailer': 18913, 'ripped': 15940, 'hole': 9026, 'saturn': 16446, 'eytay': 7014, 'neur0sis': 13031, 'zyrzx6dfki': 21285, 'animations': 1999, 'happens': 8656, 'cbsbigbrother': 3980, 'du19': 6165, 'rap': 15393, 'internal': 9807, 'external': 6987, 'motivation': 12599, 'w9p3hauhei': 20020, 'item': 9956, 'phantasmal': 14295, 'cummerbund': 5079, 'qrhjei7grq': 15171, 'warcraft': 20071, 'young': 21019, 'german': 8034, 'stormtrooper': 17741, 'engaged': 6624, 'somme': 17312, '1916': 246, '800': 1118, 'ìñ': 21304, '582': 832, 'yxvmiflvc4': 21086, '9vw0uqqi1y': 1334, 'marvel': 11941, 'dc': 5341, 'avengers': 2450, 'utahcanary': 19574, 'sigh': 16947, 'sexydragonmagic': 16752, 'realization': 15488, 'attention': 2373, 'span': 17397, 'mass': 11956, 'games': 7915, 'painting': 13983, 'playing': 14471, 'detroitpls': 5629, 'interested': 9801, 'goats': 8205, 'ofecs6tcvc': 13531, 'yi30zgizsw': 20967, '2jgvhw7yzs': 464, 'o784': 13431, '4103': 679, '50': 794, 'lonepine': 11506, 'remembered': 15663, 'australia': 2418, 'descendants': 5571, '666canberra': 927, 'gallipoli': 7900, 't4fvvnrpc5': 18119, '0zznbvfuvo': 110, 'miss': 12370, 'gary': 7937, 'busey': 3610, 'son': 17313, 'dixie': 5867, 'electronic': 6477, 'fiddle': 7290, 'celebration': 4012, 'sequence': 16700, 'fedex': 7218, 'longer': 11512, 'transport': 18937, 'bioterror': 3034, 'germs': 8036, 'anthrax': 2041, 'lab': 10969, 'mishaps': 12368, 'xtezgjfs8a': 20801, 'qfjjdxes7g': 15117, 'usatoday': 19547, 'pathogens': 14106, 'iadlslqdpd': 9346, 'o8y1sul4ow': 13438, 'hqsu8lwlth': 9162, 'jacksonville': 10046, 'busines': 3613, 'stops': 17729, 'shipping': 16857, 'potential': 14633, 'shzsymausi': 16929, 'lhpgxc4b8j': 11264, 'aphl': 2085, 'responds': 15784, 'cgdj3drso9': 4051, 'åêfedex': 21301, 'k0y7xfxmxa': 10472, 'tcot': 18272, 'transporting': 18940, 'certain': 4033, 'research': 15750, 'y3dm9ulqxg': 20854, 'chorr2xovp': 4231, 'atlbizchron': 2347, 'frontpage': 7734, 'faced': 7051, 'sanctions': 16395, 'rickperry': 15899, 'doesn': 5944, 'cut': 5110, 'foxnews': 7619, 'gopdebate': 8254, 'fzujg7sxjg': 7849, 'qzqc8wwwcn': 15272, 'commerce': 4591, 'subcommittee': 17852, 'hold': 9022, '28': 425, 'hearing': 8792, 'cdc': 3993, 'oversight': 13882, 'labs': 10976, 'htt': 9191, 'willing': 20354, 'specimens': 17428, 'cm8uni1mrg': 4438, 'wvexjjrg6e': 20629, 'p96rgbbayl': 13947, 'apple': 2111, 'mobile': 12464, 'alisonannyoung': 1841, 'exclusive': 6898, 'hmm': 9001, 'problem': 14808, 'researchers': 15751, 'select': 16652, 'agents': 1688, '9viibxgjav': 1333, '5zdbtktww7': 896, 'pwamg8ozj4': 15034, 'corp': 4813, 'nyse': 13405, 'fdx': 7201, 'deliver': 5484, 'packages': 13957, '2kdq56xtws': 470, 'atlanta': 2343, 'chronicle': 4261, 'yllqjljiiq': 20986, 'microbes': 12253, 'zahnewjri8': 21133, 'orchardalley': 13764, 'les': 11217, 'manufactured': 11870, 'fear': 7206, 'repression': 15727, 'abcnorio': 1441, 'gardens': 7932, 'ba2rrxugsg': 2549, 'shrhkfj1bc': 16917, 'jax': 10118, 'biz': 3062, 'journal': 10335, 'r33ncvjovc': 15280, 'foxnew': 7618, '5ukohk7sob': 885, 'breakingnews': 3398, 'gan14pw9tg': 7919, 'bioter': 3033, '5n4husewly': 866, 'c0p3sesqwm': 3666, 'tkeoaedqkq': 18708, 'trucking': 19054, 'mqbyravk6h': 12645, 's4sicmyrmh': 16290, 'wxia': 20660, 'scoopit': 16534, 'zqqjrqsbjm': 21251, 'hrqcjdovjz': 9173, 'xfhh2xf9ga': 20736, '4m5uheyfdo': 754, 'biolab': 3029, 'concerns': 4651, 'facilities': 7055, 'dumbfounded': 6189, 'rujv4vpnbv': 16211, 'bioterrorism': 3035, 'sir': 17013, 'xo2zbpbjb3': 20769, 'fema': 7245, 'region': 15609, 'iii': 9485, 'targeted': 18215, 'nasa': 12893, 'launch': 11079, 'lithium': 11389, 'carry': 3899, 'extensive': 6984, 'pathogen': 14105, 'handling': 8634, 'procedures': 14812, 'bclqpwfdod': 2773, 'firepower': 7366, 'resource': 15772, 'automation': 2437, 'infectious': 9689, 'diseases': 5801, 'kvpbybglsr': 10911, 'cagov': 3720, '90blks': 1217, '8whts': 1209, 'colluded': 4539, 'wht': 20322, 'usagov': 19540, 'auth': 2422, 'hostage': 9126, 'blk': 3151, 'lgl': 11254, 'idis': 9418, 'id': 9400, 'vp': 19945, 'darrellissa': 5290, 'cover': 4872, 'tale': 18174, 'pox': 14655, 'horrors': 9117, 'w2ixt1k0ab': 20010, 'virus': 19856, 'infectiousdiseases': 9690, 'public': 14953, 'health': 8783, 'superbug': 17943, 'biolabs': 3030, 'epidemics': 6697, 'biosurveillance': 3032, 'outbreaks': 13841, 'homeland': 9054, 'security': 16624, 'wire': 20394, 'cvhygwcbzv': 5123, 'creation': 4944, 'ai': 1718, 'workforce': 20509, 'contact': 4726, 'wealth': 20183, 'inequality': 9679, 'yea': 20918, 'lies': 11292, 'cia': 4274, 'hollywood': 9037, 'horowitz': 9110, 'vaccines': 19658, '6pagjqfbzk': 985, 'qzizelxbyr': 15269, 'o_magazine': 13443, 'daughter': 5306, 'warrior': 20091, '50ft': 801, 'aka': 1761, 'transgender': 18932, 'fold': 7510, 'extra': 6991, 'drrichardbesser': 6135, 'yes': 20945, 'college': 4530, '88': 1151, '92': 1229, 'difficult': 5723, 'dispersed': 5824, 'volunteers': 19930, 'needed': 12991, 'participate': 14074, 'preparedness': 14728, 'drill': 6095, 'simulating': 16988, 'nwv2rvghf3': 13376, 'hvnewsnetwork': 9276, 'meyerbjoern': 12206, 'thelonevirologi': 18503, 'mackayim': 11759, 'newspaper': 13060, 'running': 16231, 'pretty': 14760, 'list': 11373, 'concerned': 4650, 'gm': 8181, 'organisms': 13778, 'scientists': 16529, 'sume5pro0f': 17906, 'hhs': 8903, 'selects': 16654, 'regional': 15610, 'special': 17415, 'centers': 4025, 'ebola': 6338, 'qmo1txxdkj': 15146, 'stationcdrkelly': 17636, 'sys': 18101, 'clergyforced': 4371, 'exist': 6914, 'younger': 21020, 'grossly': 8395, 'disfigured': 5803, 'possibility': 14616, 'mysteries': 12806, 'sucks': 17877, 'describing': 5574, 'future': 7809, 'therapies': 18518, 'technologies': 18318, 'sexuality': 16749, 'diagnosis': 5686, 'digitalhealth': 5732, 'hcsm': 8751, 'aphiabeta1907': 2084, 'ugliness': 19300, 'amesocialaction': 1927, 'frat': 7660, 'bioterrorismi': 3036, 'fbi': 7181, 'tolewant': 18771, 'abc': 1434, 'howardu': 9149, 'cspanwj': 5037, 'onu_france': 13689, '74': 1033, '75': 1038, 'rockefeller_chi': 16031, 'rockefelleruniv': 16032, 'heiress': 8827, 'evade': 6837, 'efforts': 6412, 'prosecute': 14879, 'blks': 3152, 'harvardu': 8697, 'kidnap': 10689, 'afp': 1654, 'irandeal': 9895, 'activity': 1554, 'broken': 3473, '27': 421, 'agreements': 1703, 'threat': 18588, 'q6oxzq45ve': 15081, 'cdcgov': 3994, 'allay': 1846, 'glanders': 8149, 'fears': 7208, 'ahead': 1711, 'rio': 15931, 'olympic': 13649, 'equestrian': 6722, 'test': 18399, 'event': 6846, 'uotpnsqpz5': 19477, 'horsetalknz': 9120, 'kaotix_blaze': 10531, 'craving': 4925, 'pool': 14579, 'raisinfingers': 15360, 'looking': 11520, 'hammond': 8620, 'listing': 11380, '3xn1soh4bb': 659, 'amazin': 1906, 'niggas': 13112, 'dey': 5656, 'wanna': 20063, 'dedication': 5425, 'udkesj01ml': 19281, 'shayoly': 16820, 'virtual': 19855, 'tour': 18856, 'listings': 11381, '547': 821, 'fir': 7353, 'cannon': 3810, 'listed': 11374, 'dorrie': 6009, 'caruana': 3911, 'nf46paytvw': 13070, 'pendleton': 14205, 'base': 2692, 'horno': 9106, 'welcome': 20228, 'djryanwolf': 5882, 'djcoreygrand': 5873, 'djknyce': 5880, 'djoneplustwo': 5881, 'officialcoredjs': 13547, 'cleveland': 4375, 'standup': 17600, 'iamtonyneal': 9353, 'p6gqmctglj': 13939, 'living': 11414, 'apt': 2136, 'balcony': 2620, 'bellalinn': 2873, 'alrighty': 1884, 'jays': 10125, 'dutch': 6217, 'slave': 17121, 'trade': 18900, 'hair': 8596, 'poverty': 14647, 'fade': 7069, 'weekend': 20215, 'losses': 11555, 'wildfire': 20343, 'nearly': 12982, 'old': 13631, 'rages': 15331, 'e0uusnpsq5': 6265, 'firefighters': 7359, 'battling': 2737, 'cary': 3913, 'condo': 4668, 'mim8hh2ce6': 12307, 'hating': 8719, 'audacityjamesta': 2393, 'babes': 2556, 'lan': 11008, 'iamrrsb': 9352, 'pdehd1tcpk': 14168, 'skywars': 17103, 'que': 15197, 'hack': 8576, 'flechadas': 7433, 'sinistras': 17001, 'dems': 5523, 'covered': 4874, 'months': 12543, 'detained': 5614, 'americans': 1925, 'interrogation': 9814, 'facility': 7056, 'uwitvbsbnc': 19609, 'bars': 2687, 'rapper': 15398, 'ugh': 19297, 'calories': 3756, 'pizzas': 14424, 'thisispublichealth': 18561, 'pic': 14341, 'fort': 7591, 'jackass': 10037, 'stuffin': 17830, 'ae9cpiexak': 1626, 'writing': 20592, 'computers': 4644, 'cyxbrzxwq4': 5165, 'beautiful_juic1': 2811, 'letting': 11236, 'babysweet420': 2562, 'mad': 11764, '420': 683, 'guiltygearxxacp': 8464, 'dont': 5982, 'drew': 6084, 'weeks': 20218, 'sk3l74flzz': 17058, 'socialmedia': 17271, 'facebook': 7050, 'page': 13972, 'features': 7213, 'seek': 16631, 'personalize': 14249, 'customer': 5106, 'experience': 6938, 'nbizatlsmv': 12952, 'djjohnblaze': 5879, 'shout': 16902, 'hottest': 9137, 'dj': 5870, 'sothwest': 17352, 'n95igskd3p': 12848, 'farm': 7131, 'beginnings': 2846, 'msdizftz2g': 12666, 'christycroley': 4258, 'works': 20513, 'vela': 19736, 'q8reoevlue': 15084, 'uabstephenlong': 19255, 'courtlizcamp': 4866, 'tweet': 19154, 'fail': 7073, 'mixtape': 12407, 'promise': 14849, 'goin': 8221, 'uungrqougn': 19597, '_itzsteven': 1364, 'xdojjjj': 20724, 'whopper_jr_760': 20321, 'huh': 9215, 'leo': 11209, 'bedrooms': 2827, 'baths': 2720, 'sale': 16355, 'palms': 14003, 'qms8rressd': 15147, 'zla30jcssq': 21214, 'guns': 8485, 'a__cee': 1408, 'daem': 5203, 'smooth': 17208, 'asf': 2260, 'wkv8vqvkt6': 20437, 'artisteoftheweekfact': 2241, 'coast2coastdjs': 4471, 'agree': 1701, 'crystal_blaz': 5029, 'jiwonle': 10234, 'hiphop': 8962, 'clubbanger': 4428, 'bright': 3436, 'blazing': 3121, 'fireman': 7363, 'party': 14083, '9rfo9gy3ne': 1323, 'weddings': 20203, 'vibez': 19785, 'emvohm9m6j': 6585, 'listenlive': 11377, 'montgomery': 12540, 'stds': 17647, 'rejected': 15628, 'slogan': 17153, 'transcend': 18927, 'trail': 18911, 'diversified': 5857, 'marketing': 11915, 'nr1i8qnao1': 13304, 'morgan': 12570, 'silver': 16972, 'dollar': 5956, '1880': 238, 'gem': 7996, 'bu': 3527, 'dmpl': 5912, 'cameo': 3765, 'rev': 15829, 'ms': 12664, 'grade': 8304, 'iu9bafdxey': 9972, 'aphqu5svet': 2086, 'm96kbqwior': 11734, 'wrjr846fks': 20596, 'bowl': 3321, 'danryckert': 5270, 'drewscanlon': 6085, 'stealth': 17653, 'skills': 17075, 'beats': 2806, 'silenced': 16965, 'm4': 11713, 'pacquiao': 13962, 'marquez': 11929, 'unfilled': 19395, 'swarm': 18034, 'online': 13678, 'durvod': 6210, '6vja8r4yxa': 1001, 'turn': 19130, 'radios': 15322, 'stoponesounds': 17726, 'airwaves': 1747, 'g7s34sw2am': 7871, '107': 131, 'fm': 7494, 'stickynyc': 17697, '95roots': 1249, 'baseballquotes1': 2694, '32': 543, 'inch': 9611, 'dynasty': 6254, 'weapons': 20187, 'master': 11963, 'hinatobot': 8954, 'blazing_ben': 3122, 'pattyds50': 14125, 'gwfrazee': 8511, 'joshuaassaraf': 10332, 'expect': 6932, 'shouout': 16901, 'kasad1lla': 10547, 'vocals': 19909, 'shes': 16841, 's3xleak': 16287, 'ph0tos': 14290, '19yrs': 273, 'ash': 2261, 'wo': 20460, 'lady': 10983, 'festac': 7263, 'delta': 5490, 'exp0sed': 6925, 'bbm': 2760, 'leaked': 11139, 'pictures': 14355, 'ixrehm05yq': 9990, 'oh': 13575, 'racing': 15314, 'temperature': 18355, 'roof': 16091, 'fifth': 7300, 'harmony': 8684, 'omgbethersss': 13660, 'bethanymota': 2930, 'dmac1043': 5906, 'spanish': 17400, 'word': 20499, 'latin': 11065, 'origin': 13785, 'meaning': 12065, 'reddish': 15557, 'colored': 4551, 'dummies': 6191, 'pronouncing': 14862, 'freezing': 7696, 'cold': 4512, 'c8b6ddiqig': 3687, '95': 1245, 'degree': 5467, 'mid': 12261, 'sun': 17921, 'osuoivnigo': 13815, 'rn': 15994, 'bekah__w': 2863, 'sweat': 18040, 'bullets': 3568, 'beating': 2805, 'acousticmaloley': 1530, 'officialtjonez': 13552, 'words': 20503, 'fam': 7100, 'blessed': 3132, 'dude': 6181, 'respect': 15774, 'fantasy': 7122, 'escorts': 6757, 'gfe': 8054, 'dubai': 6170, 'n6ahgfmudt': 12840, '__srajapakse__': 1347, 'missy': 12387, 'suited': 17902, 'summertime': 17914, 'yee': 20927, 'haw': 8729, 'asukager': 2326, 'magical': 11783, 'bag': 2595, 'elwoods': 6518, 'blazingelwoods': 3123, 'bother': 3299, 'doug': 6018, 'song': 17316, 'tune': 19114, 'qyzpb1gkmr': 15265, '1921': 247, 'ch': 4058, 'pl': 14435, 'satin': 16439, 'rare': 15405, 'proof': 14864, '99mbyfl3id': 1266, '4ddmtguzzs': 725, 'etisalat': 6799, 'mb': 12023, 'complete': 4631, 'giving': 8133, '100mb': 120, 'tecno': 18320, 'q1': 15063, 'ime': 9551, 'avzsyie1nt': 2468, 'funkylilshack': 7794, 'mariaf30': 11893, 'bitch': 3048, 'slapping': 17114, 'cake': 3727, 'throwing': 18605, 'showdown': 16909, 'follow': 7516, 'edwelchmusic': 6386, 'unpacked': 19438, 'physical': 14335, 'ways': 20145, 'archetype': 2161, 'bleeding': 3128, 'grounded': 8397, 'readiness': 15470, 'fpoj': 7632, 'wxbrarc7p3': 20656, 'threw': 18596, 'chicken': 4180, 'nugget': 13341, 'sisters': 17029, 'lip': 11364, 'slit': 17150, 'throat': 18600, 'apologize': 2098, 'joe': 10275, 'landolina': 11018, 'gel': 7994, '0btniwagt1': 37, 'realestate': 15479, 'hhzy3oqela': 8907, 'nose': 13250, 'typewriter': 19208, 'written': 20595, 'bunch': 3579, 'gunk': 8478, 'jaydennotjared': 10122, 'text': 18414, 'sending': 16673, 'hugs': 9214, 'allowed': 1865, 'stab': 17568, 'apparently': 2103, 'fine': 7338, 'walking': 20052, 'eating': 6330, 'takis': 18173, 'rubbing': 16197, 'hands': 8635, 'tears': 18309, 'darrylb1979': 5292, '2017': 364, '2019': 366, 'vampiro': 19676, 'coreyashe': 4805, 'foot': 7539, 'toe': 18758, 'king_naruto_': 10730, 'madara': 11765, 'stepped': 17674, 'glass': 8150, 'pun': 14985, 'tak': 18165, 'sedar': 16626, 'pain': 13978, 'ears': 6309, 'k5knnwugwt': 10484, 'waited': 20036, 'feet': 7232, 'cute': 5111, 'dinner': 5745, 'til': 18650, 'cams': 3788, 'starts': 17624, 'uptown_jorge': 19503, 'silence': 16964, 'safer': 16327, 'violence': 19843, 'jannet2208': 10093, 'fell': 7239, 'concrete': 4657, 'katramsland': 10559, 'liberal': 11274, 'deadpool': 5367, 'favourite': 7175, 'characters': 4103, 'wears': 20191, 'suit': 17900, 'beckyfeigin': 2820, 'defs': 5465, 'sodamntrue': 17279, 'wannabe': 20064, 'artist': 2240, 'chaosmagician97': 4099, 'burberryant': 3585, 'brain': 3364, 'lets': 11232, 'soccer': 17266, 'tammy_w1997': 18191, 'elijahmallari': 6496, 'apartment': 2076, 'hes': 8874, 'coloiccarnality': 4542, 'instincts': 9771, 'kicked': 10681, 'scratches': 16552, 'stefano': 17661, 'ear': 6296, 'benjm1': 2902, 'tourofutah': 18860, 'b1grego': 2524, 'pileup': 14371, 'rave': 15416, 'wedding': 20201, 'wise': 20402, 'te': 18286, 'damnaarielle': 5237, 'timeline': 18663, 'blew': 3136, 'mfalcon21': 12209, 'bomb': 3249, 'oomf': 13699, 'instagrams': 9761, 'active': 1549, 'follower': 7519, 'b24fowler': 2527, 'line': 11352, 'instagram': 9759, 'featured': 7212, 'jazz': 10126, 'usagi': 19539, 'entire': 6665, 'solar': 17290, 'airhead': 1737, 'misstep': 12386, 'benkin97': 2903, 'mili_5499': 12289, 'probs': 14810, 'cup': 5086, 'receipts': 15519, 'wont': 20489, 'gtfo': 8434, 'desperate': 5594, 'hopeinhearts': 9097, 'notifications': 13268, 'encouraging': 6602, 'hw18': 9281, '90': 1212, 'keeping': 10597, 'pulled': 14972, 'told': 18768, 'lolol': 11498, '2fast2furious': 449, 'universe': 19423, 'defj7xekgx': 5463, 'max': 12007, 'tf': 18419, 'fired': 7356, 'catfishmtv': 3948, 'rick': 15897, 'morty': 12583, 'uqkx5vbium': 19508, 'codythompson25': 4496, 'ty': 19197, 'realized': 15491, '_onlyftf': 1371, 'tusky': 19136, 'robsimss': 16026, 'cantmisskid': 3819, 'rq': 16155, 'snapchat': 17223, 'gambit': 7906, 'anakin': 1953, 'wbc2015': 20150, 'iphooey': 9884, 'ironically': 9913, 'michele': 12245, 'bachmann': 2563, 'brought': 3488, 'ron': 16082, 'hoax': 9009, 'catfish': 3947, 'retweeted': 15823, 'whistled': 20306, 'wind': 20364, 'skirt': 17084, 'mentions': 12151, '1st': 321, 'imawesome7986': 9547, 'freyas': 7709, 'yahooschwab': 20886, 'ray': 15420, 'rice': 15885, 'fiasco': 7284, 'light': 11307, 'skin': 17078, 'talking': 18183, 'kid': 10684, 'watched': 20117, 'honey': 9076, 'economy': 6354, 'recommend': 15535, 'conservative': 4707, 'shoppe': 16888, 'harperanetflixshow': 8687, 'elxn42': 6519, 'stopharper': 17725, 'fireball': 7355, 'falling': 7094, 'ye': 20917, 'sean': 16591, 'zayn': 21144, 'weloverobdyrdek': 20234, 'adrian_peel': 1603, 'clue': 4429, 'clicks': 4381, 'daorcey': 5275, 'nsit_': 13322, 'pair': 13985, 'graywardens': 8336, 'blight': 3137, 'damidnighter': 5234, 'theres': 18524, 'theory': 18515, 'magisters': 11785, 'arent': 2171, 'dwarves': 6234, 'ones': 13671, 'cycling': 5151, 'athletics': 2339, 'doping': 5997, 'exacerbated': 6872, 'monetary': 12518, 'reward': 15850, 'soul': 17356, 'searching': 16595, 'required': 15741, 'kynespeace': 10930, 'jack': 10036, 'realhotcullen': 15481, 'deep': 5434, 'roads': 16000, 'lyrium': 11687, 'ain': 1731, 'load': 11454, 'welfare': 20230, 'loving': 11582, 'sponge': 17480, 'society': 17275, 'rrzbzgo48n': 16166, 'prysmian': 14913, 'secures': 16622, 'contract': 4746, 'bank': 2645, 'olg09kb6ha': 13635, 'heights': 8826, 'shaker': 16781, 'wyokt0ftrw': 20665, 'todd_calfee': 18754, 'mattburgener': 11992, 'info': 9705, 'carl': 3878, 'everest': 6850, 'cobes': 4479, 'whitt': 20312, 'frost': 7735, 'snuff': 17253, 'godly': 8210, 'beer': 2833, 'someday': 17308, 'thda': 18461, 'kicks': 10683, 'anti': 2043, 'loan': 11459, 'memphis': 12138, 'xzlrwc0pik': 20843, 'o5xlxmkoyq': 13426, 'greenspace': 8354, 'housing': 9146, 'development': 5639, 'zzcbbqyj1q': 21289, 'kksghsblfh': 10770, 'demetae12': 5502, 'releases': 15641, 'planing': 14449, 'level': 11237, 'constellation': 4717, 'gaia': 7886, 'iclown': 9388, 'drumstep': 6144, 'remix': 15673, 'infinity': 9699, '7le5gq2psx': 1083, 'etkd58un8n': 6802, 'lrelvrm06w': 11598, 'achieve': 1519, 'excellence': 6884, 'develop': 5635, 'habit': 8574, 'matters': 11995, 'author': 2425, 'hendy_21': 8860, 'purdies': 15005, 'tracy': 18897, 'apperception': 2108, 'bridgework': 3430, 'xxhjesc': 20824, 'ybhbarajxp': 20904, 'dotish': 6012, 'sexual': 16748, 't8sv2ai7sw': 18130, 'stories': 17734, 'acebabes': 1513, 'healthweekly1': 8787, 'amateurnester': 1904, 'swear': 18039, 'uncover': 19372, 'slumber': 17167, 'willhillbet': 20348, 'result': 15801, 'app': 2100, 'parksboardfacts': 14064, 'zippoline': 21204, 'community': 4609, 'moveit': 12626, 'policy': 14560, 'ohio': 13582, 'report': 15716, 'cle': 4358, 'cuyahoga': 5120, 'greening': 8352, 'vacant': 19655, 'lands': 11020, 'if62sdxvp7': 9439, 'anellatulip': 1977, 'taint': 18162, 'open': 13711, 'gates': 7949, 'actual': 1558, 'refugee': 15591, 'tragedy': 18909, 'shame': 16788, 'gaae0no5du': 7876, 'article': 2236, 'jackman': 10042, 'metro': 12195, 'detroit': 5627, 'downgraded': 6025, 'estimate': 6782, '37': 567, 'square': 17534, 'miles': 12287, 'h31mmuduqt': 8551, 'locksmithing': 11477, 'art': 2231, 'respecting': 15776, 'elaboration': 6460, 'locks': 11475, 'lpdkl': 11590, 'jake_blight': 10067, 'wealilknowa': 20181, 'cunt': 5084, '5000': 796, 'wins': 20387, 'ranked': 15386, 'card': 3858, 'vq3yab2j8n': 19950, 'amazon': 1909, 'buy': 3634, '0t8vqkeari': 82, 'print': 14787, 'available': 2444, 'ucy5fea9yu': 19275, 'blizzard': 3145, 'dnwwo1ybrk': 5925, 'blizzard_draco': 3146, 'kamon': 10524, 'stevenontwatter': 17683, 'pussyxdestroyer': 15019, 'pay': 14136, 'nuts': 13357, 'flavored': 7430, 'cream': 4937, 'auz': 2440, 'cst': 5038, 'radioriffrocks': 15321, 'pjlda9hd5v': 14427, 'hrs': 9174, 'rock': 16029, 'hump': 9235, '3wnjauar7w': 655, 'rolo': 16068, 'dq': 6039, 'ashayo': 2262, 'msmiggi': 12673, 'hi': 8908, 'vods': 19911, 'presentation': 14740, 'u7vavyrgv9': 19245, 'tweet4taiji': 19155, 'dolphin': 5959, 'worship': 20533, 'superstitions': 17956, 'blizzard_fans': 3147, 'lucio': 11625, 'overwatch': 13890, 'rolling': 16065, 'caution': 3964, 'aren': 2169, 'breaks': 3400, 'blizzard_gamin': 3148, 'ight': 9450, 'peanut': 14184, 'butter': 3630, 'cookie': 4773, 'dough': 6019, 'mic': 12239, 'controllers': 4758, 'announcement': 2022, 'cubze5mizm': 5061, 'updated': 19482, 'khsbzkfd6o': 10671, 'expansion': 6930, 'ideas': 9408, 'bard': 2670, 'holy': 9044, 'trinity': 19015, 'egioxbaboe': 6424, 'daborsch': 5198, 'shocking': 16875, 'lured': 11652, 'fanbase': 7111, 'wod': 20464, 'disappointed': 5775, 'hardcore': 8671, 'everyones': 6857, 'leaving': 11153, 'candy': 3805, 'lizard': 11417, 'wizard': 20423, 'lwb': 11665, 'mgr809yc5a': 12223, 'lonewolffur': 11508, 'fairx818x': 7084, 'playoverwatch': 14475, 'blizzardcs': 3149, 'clutch': 4432, 'link': 11356, 'bubblycuteone': 3529, 'okayyyyyy': 13614, 'ima': 9537, 'bout': 3312, 'tho': 18567, 'tora': 18815, 'hearthstone': 8802, 'pc': 14154, 'thoughts': 18578, 'abolxmh1vy': 1459, 'tcgreno': 18268, 'reset': 15755, 'brownie': 3491, 'batter': 2723, 'market': 11911, 'activision': 1551, 'cognizant': 4504, 'technology': 18319, 'gknrp0e8qs': 8139, 'sg': 16761, 'knockout': 10807, 'nyv51681ue': 13409, 'biggest': 2992, 'regret': 15615, 'vcirn1md8v': 19711, 'butterfinger': 3631, 'dryer': 6149, 'snowy': 17248, 'paper': 14032, 'jeans': 10155, 'pocket': 14537, 'bruh': 3499, 'chief__cg': 4182, 'nah': 12863, 'cook': 4772, 'gone': 8231, 'wall': 20054, 'invincible': 9854, 'floor': 7462, 'zntg2wndmj': 21224, 'broke': 3472, 'nail': 12864, 'morning': 12575, 'ah': 1708, 'hurts': 9265, 'treat': 18961, 'stars': 17616, '290': 431, 'reviewers': 15842, 'boxset': 3329, 'lindsay': 11350, 'buroker': 3601, '4yu5sy1cui': 787, 'kindle': 10722, 'mzmxmyklxv': 12817, 'associated': 2312, 'gastric': 7946, 'carcinoma': 3857, 'fragile': 7647, 'gene': 8004, 'wounded': 20543, 'tattoo': 18231, 'donate': 5972, 'dialyses': 5689, 'grandpa': 8315, 'headed': 8769, 'setzorah': 16734, 'mean': 12064, 'smh': 17192, 'omron': 13664, 'hem': 8855, '712c': 1020, 'pressure': 14754, 'monitor': 12522, 'standard': 17592, 'large': 11044, 'bp': 3340, 'cuffs': 5070, 'gjbainqwn9': 8136, 'jphgpl1c5x': 10351, 'chambered_blood': 4074, 'speakingfromexperience': 17412, 'stressful': 17780, 'decisionsondecisions': 5405, 'imouto': 9565, 'related': 15631, 'ugliest': 19299, 'shoes': 16877, 'super': 17941, 'tight': 18648, 'excellent': 6885, '_dangerousbeans': 1355, 'porridge': 14598, 'seriously': 16711, 'phenomenal': 14303, 'scotto519': 16544, 'shii': 16853, 'intended': 9793, 'hoe': 9015, 'hastle': 8712, 'drug': 6137, 'tested': 18401, 'drown': 6130, 'document': 5936, 'filling': 7317, 'somebody': 17307, 'gotta': 8268, 'sbee': 16481, 'fuckin': 7765, 'winds': 20370, 'gypsy': 8529, '66yvulizbk': 929, 'lobo_paranoico': 11464, 'thirsty': 18555, 'sad': 16317, 'roll': 16063, 'rolandonabeats': 16059, 'ellie': 6508, 'goulding': 8272, 'acesse': 1516, 'nosso': 13252, 'para': 14039, 'ouvir': 13860, 'zk69ugxmt8': 21209, 'olrules': 13646, 'chapter': 4101, 'encounters': 6599, 'jesus': 10187, '6qx7arf4ag': 989, 'anthxvy': 2042, 'runs': 16232, 'sethalphaeus': 16726, 'personal': 14247, 'favorites': 7172, 'include': 9621, 'paramore': 14046, 'muse': 12741, 'royal': 16143, '5sos': 877, 'shed': 16823, 'innocent': 9735, 'sons': 17327, 'daughters': 5308, 'land': 11014, 'polluted': 14573, 'psalms': 14921, '106': 129, '38': 574, 'sin': 16991, 'abortion': 1462, 'se': 16585, 'pone': 14576, 'cantar': 3817, 'lightning': 11314, 'wasnt': 20110, 'everwhe': 6853, 'items': 9957, 'everyday': 6855, 'lnpscadaxr': 11451, 'looooooooooool': 11525, 'jrkgyl7te5': 10363, 'infected': 9687, 'piercings': 14362, 'aggressif': 1691, 'aggressive': 1693, 'entered': 6658, 'butterlondon': 3632, 'crayons': 4928, 'be_ram0s': 2788, 'enter': 6657, 'bbloggers': 2759, 'dsb3ldfuxu': 6154, 'slsandpet': 17164, 'sally': 16359, 'emailed': 6524, 'awol': 2490, 'argh': 2178, 'resigninshame': 15764, 'listening': 11376, 'jay': 10120, 'ciyty0fgpr': 4320, 'lauradeholanda': 11083, 'forrest': 7586, '83': 1133, 'awful': 2486, 'xxx': 20828, 'nightmare': 13116, 'elm': 6510, 'remade': 15651, 'hvwkjqxxyt': 9277, 'sony': 17328, 'stephen': 17668, 'tower': 18865, 'stephenking': 17670, 'thedarktower': 18483, 'j9lpdrxcde': 10028, 'bdisgusting': 2783, 'tradcatknight': 18899, 'bs': 3511, 'okanowa': 13612, 'mainline': 11805, 'invasion': 9842, 'looked': 11518, 'insomnia': 9749, 'grrrr': 8411, 'zhenghxn': 21182, 'akame': 1762, 'ga': 7874, 'tokyo': 18767, 'ghoul': 8082, 'dare': 5281, 'fantosex': 7123, 'suck': 17873, 'amends': 1920, 'weekends': 20216, 'mary': 11945, 'vnni3zzuz6': 19904, 'tired': 18686, 'vaca': 19653, 'mrtophypup': 12660, 'sexy': 16750, 'drools': 6118, 'effects': 6409, 'low': 11583, 'product': 14822, 'acne': 1528, 'diarrhea': 5696, 'ronda': 16085, 'rousey': 16130, 'floyd': 7479, 'mayweather': 12020, 'money': 12519, 'elbow': 6463, 'ijzcytbffo': 9499, 'a3': 1388, 'landscape': 11021, 'oils': 13598, 'paints': 13984, '_itsmegss_': 1363, 'barking': 2679, 'hello': 8843, 'thighs': 18545, 'cleav': 4367, 'expose': 6969, 'cleavage': 4368, 'kv5l4ppxfg': 10909, 'mariasherwood2': 11898, 'johnjcampbell': 10292, 'mega': 12108, 'marvellous': 11942, 'sink': 17003, 'beet': 2835, 'juice': 10396, 'luigmhma1i': 11633, 'melrises': 12123, 'gayler1969': 7955, 'wwwbigbaldhead': 20651, 'jessienojoke': 10185, 'melissaross9847': 12121, 'monty': 12545, 'python': 15052, 'meet': 12103, 'rs5': 16170, 'rvczmimfvx': 16250, 'friday': 7713, 'supposed': 17966, 'zzzz': 21294, 'chxrmingprince': 4273, 'jones_luna': 10315, 'folding': 7511, 'arms': 2206, 'sitting': 17034, 'chair': 4066, 'reafs': 15474, 'drama': 6060, 'indians': 9653, 'smirking': 17196, 'remorseless': 15677, 'killer': 10707, 'boasting': 3222, 'fpjlwoxklg': 7630, 's01e09': 16278, 'monday': 12517, 'vrpthvpymt': 19955, 'bloodymonday': 3168, 'tvshowtime': 19145, 'nkkvknbvoz': 13158, 'marlon': 11927, 'williams': 20350, 'elvis': 6517, 'presley': 14747, 'steel': 17657, 'panther': 14024, 'shuffle': 16922, 'legend': 11173, 'turns': 19135, 'shopping': 16889, 'l0pmmtzlwp': 10940, 'mystery': 12807, 'ezralevant': 7019, 'moms': 12514, 'blown': 3182, 'bedroom': 2826, 'walls': 20055, 'papcrdoll': 14031, 's2g': 16284, 'deactivate': 5358, 'choices': 4216, 'manutd': 11872, 'emilymcfcheslop': 6551, 'wow': 20546, 'club': 4427, 'fucked': 7763, 'player': 14469, 'pilloried': 14375, 'greinke': 8365, 'inning': 9732, 'woke': 20467, 'aunt': 2405, 'marge': 11890, 'eheks': 6431, 'troylercraft': 19045, 'spammers': 17396, 'probably': 14806, 'supposedly': 17967, 'representing': 15725, 'values': 19673, 'cgi': 4055, 'strike': 17788, 'lmfaoooo': 11445, 'hasn': 8709, 'machinegunkelly': 11755, 'underground': 19375, 'thisdayinhistory': 18557, '1862': 237, 'confederate': 4674, 'crew': 4964, 'iw7elszifz': 9979, 'ur': 19512, 'mini': 12324, 'uhc': 19306, 'creeper': 4957, 'flying': 7491, 'salty': 16368, 'libraryeliza': 11282, 'taylorswift13': 18251, 'bump': 3575, 'approval': 2128, 'kolmzbz1pz': 10826, 'musicadvisory': 12747, 'truckload': 19055, 'soldiers': 17294, 'panics': 14020, 'loses': 11552, 'mind': 12312, 'wjntaokdhf': 20428, 'kash': 10548, 'foundation': 7605, 'magazine': 11777, 'website': 20198, 'todd': 18753, 'blake': 3101, '2fenu1syu6': 450, 'kaylak369': 10567, 'ee': 6391, 'shop': 16887, 'glad': 8147, 'pgb2bmcfx8': 14287, 'half': 8605, '1buf0xm53d': 277, 'ûªre': 21323, 'extension': 6983, 'ûªve': 21326, '0yzgw9zbhr': 108, 'rhtaqjvqn2': 15880, 'theboyofmasks': 18475, 'manor': 11861, 'anyways': 2062, 'buddy': 3540, 'loner': 11507, 'diaries': 5695, 'patterns': 14123, 'sand': 16396, 'photos': 14331, 'twos': 19181, 'choked': 4219, 'ekfaz6wvbz': 6454, 'bsg': 3515, 'sufficiently': 17890, 'hyped': 9302, 'delayed': 5475, 'watching': 20120, 'utterly': 19589, 'vanessa': 19682, 'ladies': 10981, 'gentlemen': 8018, 'bb17': 2744, 'guaranteed': 8444, 'bitten': 3057, 'mutant': 12758, 'mosquito': 12590, 'ankle': 2004, 'cunts': 5085, 'tozlet': 18874, 'seat': 16601, 'butt': 3629, 'leprosy': 11215, 'jerkface': 10176, 'syndrome': 18097, 'lateral': 11061, 'lisp': 11372, 'toilet': 18763, 'rickets': 15898, 'kalinandmyles': 10514, 'kalinwhite': 10515, 'hackers': 8578, 'givebackkalinwhiteaccount': 8130, 'luke_winkie': 11640, 'directing': 5754, 'grab': 8297, 'nicki': 13098, 'minaj': 12310, 'recognition': 15532, 'minds': 12316, 'princessduck': 14784, '6th': 996, 'james': 10075, 'orbette': 13761, 'amirite': 1935, 'kennel': 10618, 'yorkshire': 21014, 'espn2': 6768, 'hopefulbatgirl': 9094, 'beaten': 2804, 'ra': 15301, 'al': 1779, 'ghul': 8084, 'escaped': 6755, 'thebriankrause': 18476, 'leos': 11214, 'ass': 2295, 'metaphorically': 12183, 'piperwearsthepants': 14393, 'charmed': 4121, 'anarchic_teapot': 1956, 'boironusa': 3236, 'zeno001': 21166, 'glononium': 8168, '6c': 946, 'helps': 8853, 'bashing': 2702, 'bottle': 3301, 'nitroglycerin': 13138, 'shoulder': 16898, 'tote': 18843, 'handbag': 8627, 'cross': 4993, 'faux': 7163, 'fashion': 7144, 'purse': 15013, 'y87gi3brlv': 20867, '1zbhvdcxzs': 342, 'blaawhysct': 3086, 'ddr0zjxvqn': 5356, 'republicans': 15733, 'questergirl': 15209, 'ditto': 5850, 'drank': 6064, 'vodka': 19910, 'handbags': 8628, 'genuine': 8020, 'mulberry': 12709, 'antony': 2050, 'messenger': 12171, 'oak': 13448, 'soft': 17283, 'buffalo': 3546, '279': 423, '00end': 5, 'ftm4rkl8mn': 7754, 'vuitton': 19967, 'monogram': 12526, 'sophie': 17339, 'limited': 11341, 'edition': 6372, 'jrxgolnpqw': 10366, 'lin16kvzbn': 11344, 'gggfvo5pb4': 8063, 'nlfr8t3xqm': 13164, 'cultsierre': 5074, 'muf5czqjrl': 12700, 'sslt8esmhy': 17557, 'ameribag': 1921, 'healthy': 8788, 'backpack': 2568, 'khaki': 10663, 'tan': 18196, 'beige': 2858, 'r4k7tylofj': 15283, 'bath': 2716, 'cosmetic': 4828, 'periwinkle': 14232, 'copper': 4793, 'piping': 14394, 'corners': 4811, 'a9bnlse6qb': 1406, '3pcntczoxv': 635, 'n0akjm1e4b': 12823, 'hip': 8961, 'lvkoemsq8m': 11659, 'cjirhhh4vj': 4326, 'hobo': 9012, 'womens': 20479, 'uoozxaus26': 19475, '6mgbizjfgd': 977, 'tr_jdavis': 18886, 'cage': 3719, 'dealing': 5373, '4fxfllrien': 733, 'i12nlsr8fk': 9313, 'saumur': 16452, '35': 554, '419': 681, 'hcdiwe5flc': 8748, 'zlvebeoavg': 21218, 'vintage': 19836, 'longaberger': 11510, 'floral': 7467, 'strap': 17757, 'fb8snrg4hu': 7180, 'zujwuiomb3': 21272, 'gbctmhx7pw': 7967, '8jymd9ypsj': 1178, '57pkmmcadg': 830, 'ìü': 21306, 'pw78nbljky': 15033, 'i4aogcsoy5': 9326, 'djiwg9pxv4': 5878, 'satchel': 16436, 'ncjpgf6znv': 12959, 'gerjau74ey': 8033, 'iap4lwvqsw': 9358, 'zipped': 21200, 'style': 17843, 'ipxpi3me16': 9890, 'authentic': 2423, 'pochette': 14536, 'bosphore': 3295, 'rv0fk7q4y5': 16247, 'å_': 21296, 'ykltfj1fnc': 20981, 'hpd3snm6oy': 9152, 'coach': 4463, 'camera': 3766, '9973': 1263, 'bids': 2981, 'gsmddmu9pu': 8426, 'fit': 7381, 'ipad': 9879, 'tablet': 18141, 'jp': 10345, 'rcburzsb2b': 15442, 'ehsfklgri3': 6436, 'vjgr6liaxh': 19884, '55jr66plov': 825, 'cjqq6cgohg': 4328, 'nuu': 13359, 'fwt': 7828, 'ur7fexszg4': 19513, 'wb8awoblcl': 20149, 'rhee1975': 15875, 'deliciousvomit': 5483, 'saying': 16473, 'matt_bez': 11990, 'bagging': 2599, 'bangin': 2640, 'rose': 16105, 'ohmyloz': 13585, 'rondarousey': 16086, 'smoking': 17205, 'drake': 6058, 'meek': 12099, 'fuckyeahcarey': 7769, 'bornverified': 3293, 'killing': 10711, 'tea': 18289, 'point': 14545, 'meekmill': 12100, 'rec': 15513, 'league': 11136, 'trollingtilmeekdiss': 19029, 'idgaf': 9414, 'tough': 18853, 'philly': 14318, 'acting': 1542, 'yankees': 20893, 'broseidonrex': 3485, 'dapurplesharpie': 5277, 'skimmed': 17076, 'missed': 12375, 'dodxi41y1cåêis': 5941, 'lyrically': 11685, 'hlmyaanrc9': 8996, 'bomairinge': 3248, 'elutranscendent': 6514, 'straight': 17747, 'bitches': 3049, 'afssgpnzwi': 1665, 'friendships': 7722, 'mics': 12260, 'mopheme': 12556, 'bigstar': 2998, 'johnson': 10295, 'vuzuhustle': 19975, '4got': 735, 'score': 16536, '81g18wsauk': 1126, 'editaxohaze': 6371, 'cuffed': 5069, 'shouldn': 16900, 'ovofest': 13896, 'ovo': 13895, 'ziphimup': 21199, 'enjoy': 6639, 'amaramin3': 1902, 'definitely': 5461, 'capable': 3824, 'track': 18891, 'br': 3353, 'wwe': 20641, '2k15': 469, 'mycareer': 12792, 'ep18': 6687, 'tyrone': 19216, 'dudes': 6182, 'mr5bi4kd82': 12651, 'sensitive': 16682, 'spot': 17492, 'ghostwriter': 8080, '2jhtlwuey0': 465, 'diss': 5837, 'flow': 7474, 'mark': 11907, 'patient': 14109, 'hush': 9267, 'mzgraciebaby': 12813, 'record': 15539, 'jumpin': 10411, 'window': 20365, 'officialrealrap': 13550, 'file': 7313, 'bagged': 2598, 'd_lac': 5192, 'kept': 10624, 'hop': 9091, 'beef': 2829, 'spit': 17465, 'lay': 11104, '6craekc9wb': 950, 'im2ad': 9533, 'macdaddy_leo': 11752, 'caption': 3840, 'freshman': 7705, 'k8ughv2aif': 10487, 'stacey': 17573, 'aubrey': 2386, 'groceries': 8390, 'aching': 1523, 'slikrickdarula': 17142, 'jengriffinfnc': 10167, 'dangerous': 5253, 'bags': 2601, 'arrival': 2218, 'micom': 12252, 'contrast': 4748, 'color': 4547, 'bowknot': 3320, 'womengirls': 20478, 'zip': 21198, 'po': 14532, 'sqmtkkjimj': 17527, 'convertible': 4767, '238': 398, '00': 0, 'bestseller': 2926, '0llwuqn8vg': 62, 'pvc': 15025, 'cartoon': 3908, '7l9qazljvg': 1082, 'q0hsyfrwec': 15060, 'buckle': 3533, 'casual': 3931, 'stylish': 17845, 'pockets': 14538, 'pyee94nure': 15044, 'trunk': 19065, 'fossil': 7598, 'dawson': 5330, 'es': 6752, '98': 1258, 'hhhvkxfaih': 8899, 'boomerangtime': 3275, 'rskarim1': 16174, 'sopameer': 17338, 'wattashit3': 20134, 'appears': 2106, 'arriving': 2222, 'ridah': 15904, 'tremont': 18976, 'hall': 8609, 'charlotte': 4120, 'fpkiqbus9r': 7631, 'concert': 4652, '0mcxc68gzd': 66, 'chips': 4209, 'variety': 19693, 'pack': 13955, 'fruit': 7741, 'snacks': 17219, 'redbull': 15553, 'snack': 17218, 'fairfax': 7081, 'firefighter': 7358, 'placed': 14438, 'admin': 1592, 'probe': 14807, 'putting': 15023, 'dept': 5554, 'mwzqcjhzpb': 12783, 'rchs': 15443, 'football': 7541, 'players': 14470, 'coffins': 4502, 'locker': 11474, 'rooms': 16097, 'tommorow': 18783, 'flower': 7476, 'printed': 14789, 'chain': 4063, 'rjzw6c8asx': 15982, 'wtdiav11ua': 20615, 'messengers': 12172, 'small': 17171, 'zippers': 21203, 'epiqdbxvzo': 6701, 'bhfoylqljp': 2960, 'deeeznvtzzz': 5431, 'institute': 9772, 'chairman': 4067, 'russian': 16243, 'owbujez3q4': 13898, 'va': 19651, 'administrative': 1594, 'calls': 3752, 'mt029qj4ig': 12680, 'scottwalker': 16545, 'send': 16672, 'middle': 12262, 'typical': 19210, 'baskgod': 2710, 'giant': 8089, 'sized': 17043, 'garbage': 7929, 'moving2k15': 12633, 'expertwhiner': 6946, 'cutekitten': 5112, 'catsofinstagram': 3955, 'summerinsweden': 17912, 'katt': 10561, 'katterpì': 10562, 'dumle': 6190, 'dagens': 5206, 'p4zfxdnbch': 13933, 'handle': 8632, 'gyzpisbi1u': 8532, 'msdntkwyaf': 12667, 'lattice': 11071, 'studded': 17821, 'colour': 4554, 'qj2kbltcxz': 15134, 'xqpn2zykct': 20784, 'takin': 18171, 'pics': 14351, 'bigger': 2991, 'jqso4fyzp4': 10358, 'f4xnplio5s': 7029, 'congress': 4689, 'ûïparties': 21343, 'drinking': 6099, 'limpar33': 11343, 'sweeping': 18047, 'legs': 11187, 'shoot': 16881, 'heal': 8779, 'ûªll': 21321, 'smile': 17193, 'wukcalnqms': 20625, 'geometric': 8022, 'pattern': 14122, 'totes': 18844, 'qvsp6b2qsu': 15240, '0s6ydfrwdq': 78, 'gasparc': 7942, 'designer': 5585, 'qualit': 15184, 'zgjgghdurf': 21179, 'l1gfxgozvx': 10942, 'tkjybjjskl': 18709, 'buying': 3635, 'asymbina': 2328, 'tithenai': 18692, 'hampered': 8621, 'liking': 11329, 'ella': 6506, 'vickers': 19793, 'washable': 20102, 'ysfyeahpvg': 21053, 'zicac': 21189, 'briefcase': 3432, 'a3xv6ff8dn': 1393, 'investigating': 9848, 'washington': 20106, 'jaxhzjccd4': 10119, 'canvas': 3821, 'waist': 20034, 'packs': 13960, 'solid': 17298, 'sports': 17488, 'zipper': 21202, 'coffee': 4500, 'scxfc5wi9t': 16576, 'gx1otoh8sj': 8516, 'positive': 14610, '2liwkjybe9': 474, 'norge2040': 13228, 'beforeitsnews': 2838, 'derivatives': 5568, 'quadrillion': 15182, 'ghmmuj7gbe': 8076, 'u9lvvlzhye': 19253, 'lyj57pq3yx': 11678, 'the_af': 18462, 'comments': 4590, 'atom': 2353, 'hctxghr2yf': 8752, 'firework': 7370, 'picture': 14353, 'lr4btvueom': 11597, 'hiroshima': 8969, 'prepares': 14729, 'dropped': 6121, 'ojhcgzxlst': 13602, 'guardian': 8446, 'legacy': 11170, 'editorial': 6374, 'longs': 11515, 'cas': 3914, 'rhxmghspd7': 15881, 'namjoon': 12874, 'fantastic': 7120, 'bye': 3648, 'halsey': 8612, 'troye': 19044, 'collab': 4519, 'aaronthefm': 1418, 'knows': 10816, 'cranboonitz': 4913, 'threats': 18594, 'hereticofethics': 8865, 'dylanmcclure55': 6251, 'zumiez': 21273, 'zw5jp46v5k': 21279, 'location': 11468, 'documents': 5939, 'pointing': 14546, 'iucpcsfbmt': 9973, 'jen': 10166, 'czqr3ci9xw': 5172, 'daniglasgow45': 5263, 'cfouwpbrcg': 4048, 'smallforestelf': 17175, 'umm': 19345, 'gunman': 8479, 'carrying': 3901, 'danielsahyounie': 5262, 'm9mowcmvnj': 11738, 'marks': 11921, '3u6mdlk7di': 649, 'enolagay': 6643, 'board': 3219, 'disarmed': 5778, 'arm': 2201, 'jb25fhke6q': 10128, 'dopeitsval': 5994, 'ahh': 1712, 'baby': 2560, 'mail': 11800, 'praiz8': 14689, 'known': 10815, 'dat': 5297, '2008': 354, 'pray': 14692, 'idea': 9406, 'fragrance': 7648, 'concept': 4648, 'enemies': 6618, 'bathe': 2718, 'carajdeievingnc': 3853, 'impact': 9566, 'ratio': 15413, 'kyle': 10927, 'js': 10368, 'swellyjetevo': 18056, 'disneyland': 5816, 'tacos': 18147, 'flat': 7423, 'flavafraz21': 7428, 'whatcanthedo': 20284, 'thursday': 18624, 'anniversary': 2016, '6sy44kyysd': 995, 'appropriate': 2126, 'jamaicans': 10072, 'hatchet': 8715, 'wielding': 20335, 'pepper': 14218, 'spray': 17499, 'oops': 13706, 'okinawan': 13619, 'coast': 4470, '1965': 257, 'yvsjyzwxjr': 21079, 'ct2jutvytg': 5043, 'mf': 12208, 'vocal': 19907, 'lyrical': 11684, 'amazing': 1907, 'vocalist': 19908, 'themale_madonna': 18506, 'melanie': 12120, 'fiona': 7351, 'slept': 17131, 'hutch': 9269, 'aqmpxzo3v1': 2147, 'rocking': 16035, 'joeybats19': 10282, 'bombed': 3250, 'rogers': 16049, 'centre': 4028, 'offs': 13559, 'bluejays': 3192, 'bell': 2871, 'moseby': 12586, 'barfield': 2675, 'stankyboy88': 17602, 'sweetiebirks': 18051, 'mirrorlady2': 12355, 'slatukip': 17119, 'countries': 4854, 'invaded': 9839, 'aside': 2278, 'libya': 11284, 'africa': 1657, 'uqnj6nk9y3': 19509, 'qlnnmxzfqk': 15142, '2racaivffq': 494, 'arts': 2244, 'myfriendmina': 12796, 'screenshot': 16562, 'islamic': 9937, 'syria': 18098, 'turkey': 19127, 'armed': 2203, 'targe': 18213, 'm0dap5xlwo': 11699, 'cyhitheprynce': 5158, 'kanye': 10530, 'elephantintheroom': 6484, 'majority': 11814, 'ground': 8396, 'jet': 10188, 'main': 11802, 'dramatically': 6063, 'plummeted': 14504, '200000': 346, 'forget': 7569, 'repeat': 15709, 'turkish': 19128, 'jets': 10191, 'village': 19824, 'zergele': 21169, 'qendil': 15113, 'nicklee8': 13099, 'london3': 11501, 'bathroom': 2719, 'loo': 11516, 'yr': 21043, 'artumhmbhh': 2245, 'qpr1980': 15161, 'rorington95': 16101, 'nowt': 13288, 'fergie': 7255, 'drinkers': 6098, 'wenger': 20240, 'generation': 8008, 'exhibition': 6911, 'gvaipmlsl0': 8504, 'oooureli': 13705, 'abu_baraa1': 1476, 'tolerance': 18769, 'sharing': 16810, 'democracy': 5506, 'iraqis': 9901, 'mutilated': 12761, 'brodyfrieling': 3471, 'hanna_brooksie': 8643, 'shadowflame': 16774, 'wraith': 20572, 'ldbao0rsuz': 11119, 'whitehouse': 20309, 'cos': 4825, 'germany': 8035, 'poland': 14553, 'pearl': 14185, 'harbor': 8667, 'pre': 14698, 'emptive': 6575, 'i2aag6lp6w': 9319, 'cheetosarabia': 4152, 'crudes': 5014, 'cheetos': 4151, 'christopherszen': 4257, 'hunterlove1995': 9249, 'tblack': 18257, 'raniakhalek': 15384, 'uncle': 19362, 'hopefully': 9095, 'afghanistan': 1649, 'kurtschlichter': 10904, 'falphil': 7098, 'compassion': 4619, 'specific': 17426, 'feminist': 7248, 'traditional': 18903, 'sexist': 16747, 'wmnonhxeir': 20447, 'nagasaki': 12860, 'forever': 7566, 'bannukes': 2653, 'recover': 15544, 'according': 1502, 'c5ggszugw1': 3679, '2pimg9bice': 490, 'r_lauren83199': 15300, 'xojademarie124': 20770, 'batista': 2721, 'lauren': 11085, 'vagersedolla': 19659, 'visits': 19866, 'villages': 19826, 'recently': 15524, 'finds': 7337, 'fed': 7216, 'pkk': 14431, 'uuweikd7sp': 19598, 'antpips67': 2051, 'johnejefferson': 10288, 'obviously': 13482, 'fleeing': 7436, 'redskins': 15571, 'wr': 20570, 'belly': 2878, 'teamstream': 18305, 'gbcvvevdty': 7968, 'pass': 14086, 'lax': 11103, 'ends': 6615, 'fx7uzzxte4': 7833, 'benedict': 2890, 'cumberbatch': 5077, 'yrs': 21048, 'cities': 4302, '120000': 159, 'fcixk23xqh': 7187, 'gif': 8098, 'africansinsf': 1661, 'beyondgps': 2942, 'etdgpiwxti': 6788, 'notice': 13265, 'background': 2565, 'floatin': 7457, 'ja0wgp8spe': 10030, 'states': 17633, 'ri': 15883, 'worse': 20530, 'hurricane': 9257, '3others': 631, 'hardest': 8675, 'yard': 20896, '20000k': 347, 'wasp': 20111, 'dive': 5852, 'misfitrarity': 12362, 'misfit': 12361, 'daesh': 5204, 'voltaire': 19927, 'network': 13030, 'zyssobxntc': 21286, 'cryptic': 5027, 'guided': 8458, 'mission': 12379, 'fce0k1ihti': 7184, '70th': 1018, 'schedule': 16512, 'visited': 19864, 'humbled': 9229, 'november': 13285, 'acc1z5q9zw': 1490, 'moscow_ghost': 12585, 'sayed_ridha': 16471, 'amin_akh': 1932, 'congratulations': 4688, 'capturing': 3848, 'besieged': 2918, 'indiscriminate': 9662, 'claiming': 4340, 'moral': 12557, 'banthebomb': 2656, '6g49ywwsqj': 961, 'nss5l64cvr': 13323, 'setting4success': 16731, 'bells': 2877, 'toll': 18772, 'smallbusiness': 17173, 'entrepreneur': 6670, '7ad0l7cgee': 1054, 'hhzql9tznp': 8906, 'nbcnews': 12947, 'pearlharbor': 14186, '39iabcc5pk': 585, 'marked': 11909, '1mgvd4x5oe': 304, '93vqkdfgnr': 1239, 'cqlm9jojop': 4897, '3ev07ppapn': 599, 'jzgxwrgfqg': 10467, 'rinkydnk2': 15930, 'zaibatsunews': 21134, 'neoprogressive1': 13014, 'push2left': 15015, 'ecology': 6348, 'rts': 16190, 'afghetc': 1650, 'humanitarian': 9222, 'justified': 10431, 'hindustan': 8956, 'cc9z5asvzh': 3985, 'snapharmony': 17225, 'ypvvqz8jzt': 21037, 'a2ss7pr4gw': 1386, 'qreinwg0gs': 15170, 'sanitised': 16409, 'narrative': 12887, 'gkpanz7vg0': 8140, 'lgrocbxpqo': 11258, 'kinder': 10718, 'gvm70u2bpm': 8507, 'clinton': 4393, 'nato': 12917, 'tolled': 18773, 'nbzikcjphp': 12955, 'generalnews': 8007, 'm9o08gurt4': 11739, 'marshall': 11935, 'plan': 14444, 'dambisa': 5232, 'moyo': 12635, 'prosyn': 14883, 'oped': 13710, 'gnpstnvi5g': 8195, 'po_st': 14534, 'ameenshaikh3': 1918, 'logic': 11485, 'bridge': 3425, 'sanjaynirupam': 16412, 'sureshprabhu': 17976, 'ashes': 2266, 'unfolded': 19398, 'trent': 18984, 'dq3ddgvgbf': 6041, 'cricket': 4967, 'sioux': 17008, 'cement': 4019, 'siouxland': 17010, 'siouxlan': 17009, 'sztgmbkohg': 18108, 'england': 6632, 'bundled': 3581, '60': 897, '985dwwpdet': 1259, 'central': 4027, 'khf0ih05a9': 10667, 'relationship': 15633, 'btwn': 3526, 'kansas': 10529, 'hyatt': 9296, 'aia': 1720, 'cote': 4837, 'ths9iqswp3': 18610, 'huffpostarts': 9204, 'reminds': 15672, 'caribbean': 3875, '90s': 1219, 'kosher': 10839, 'injures': 9723, 'txiestox5n': 19189, 'jewishpress': 10199, 'natural': 12921, 'calamity': 3734, 'mpp': 12643, 'lambasts': 11002, 'kanglaonline': 10528, 'jp9xyla3c5': 10348, 'cranes': 4915, 'holding': 9024, 'nearby': 12980, 'homes': 9060, 'oqpsvrgbjc': 13754, 'icymi': 9399, 'reacted': 15463, 'gl6eejyjky': 8145, 'wqtdnp3w5a': 20567, 'warne': 20082, 'shocked': 16874, 'epic': 6692, 'johannesburg': 10285, 'aug': 2402, 'ani': 1994, 'legendary': 11174, 'australian': 2419, 'lwwojxttiv': 11669, 'umanaahwmi': 19340, 'bloopandablast': 3171, 'throw': 18602, 'parade': 14041, 'fox': 7614, 'latino': 11067, 'l0unafly0y': 10941, '5t69ev0xti': 880, 'nyp8oq2z9t': 13402, 'traintragedy': 18920, 'mp': 12636, 'distance': 5840, 'jthusynjah': 10380, 'blowers': 3176, 'tuffers': 19105, 'aussie': 2413, 'batting': 2728, 'bbctms': 2755, 'stuff': 17829, 'engvaus': 6637, 'jbjrg3ep1q': 10129, 'gskjqwyi2d': 8425, 'gadgets': 7880, 'uziwgzryny': 19619, 'slingnews': 17144, '6fynermusg': 960, 'followlasg': 7522, 'urgentthere': 19521, 'currently': 5098, 'storey': 17733, 'oworoshoki': 13905, 'mainland': 11804, 'likely': 11326, 'lsqe7nu6kl': 11607, 'q5q1x5vcqk': 15079, 't5trhjuau0': 18122, 'ik7mgidvbm': 9502, 'af1yzus8ln': 1637, 'construction': 4721, 'killsåêone': 10714, 'i2c00fcowb': 9320, 'jaagcfartw': 10032, 'restoring': 15797, 'alphen': 1879, 'aan': 1415, 'den': 5524, 'rijn': 15926, 'buildings': 3558, 'rescuers': 15748, 'leicester_merc': 11191, 'hqewmreyso': 9159, 'y4y8fcljed': 20858, '9asc1hhfnj': 1268, 'upgrade': 19485, 'infrastructure': 9713, 'ngehhg9yga': 13078, 'situation': 17038, 'sustainability': 18015, 'l5g2zj3kgg': 10952, 'sureshpprabhu': 17975, 'lying': 11677, 'sonofliberty357': 17325, 'illuminated': 9523, 'brightly': 3438, 'gemini': 7997, 'mmmmmm': 12451, 'oooooohhhh': 13704, 'oooh': 13701, 'ooh': 13698, 'dougmartin17': 6021, 'ed': 6358, 'deserves': 5582, 'themagickidraps': 18504, 'upset': 19499, 'businesses': 3615, 'executing': 6904, 'cops': 4795, 'kou': 10844, 'cash': 3921, 'register': 15611, '_minimehh': 1367, 'cjoyner': 4327, 'overlooking': 13876, 'blacklivesmatter': 3093, 'fewmoretweets': 7269, 'lives': 11410, 'matter': 11994, 'stealing': 17651, 'neighbors': 13004, 'protest': 14891, 'greatest': 8343, 'boxer': 3326, 'babies': 2557, 'outta': 13858, 'whatevs': 20285, 'mentally': 12148, 'preparing': 14730, 'rocky': 16039, 'threatening': 18591, '7000': 1015, 'largest': 11046, '9newsmornings': 1308, 'uvq41i3kx2': 19606, 'messi': 12174, 'tattoos': 18233, 'ronaldo': 16084, 'skip': 17081, 'basic': 2703, 'maintenance': 11810, '1acd4900c1424d1': 275, 'rioting': 15937, 'looting': 11533, 'joshcorman': 10329, 'infosec': 9711, 'dreams': 6077, 'schools': 16522, 'western': 20249, 'uganda': 19294, 'strikes': 17792, 'lit': 11382, 'pledge': 14486, 'allegiance': 1851, 'doctorfluxx': 5934, 'stefanejones': 17660, 'spinnellii': 17459, 'themermacorn': 18509, 'riot': 15935, 'embarrassing': 6527, 'ruining': 16209, 'nation': 12911, 'losing': 11553, 'disgusting': 5805, 'bradford': 3359, 'weep': 20219, 'leeds': 11161, 'olnfzb86zb': 13643, 'epcotexplorer': 6690, 'jealous': 10152, 'thousand': 18579, 'ransacked': 15389, 'awesomeeeeeeee': 2483, 'zourryart': 21241, 'forgot': 7575, 'sinking': 17005, 'objects': 13464, 'chases': 4134, 'weak': 20177, 'winston': 20388, 'outrage': 13853, 'phixznv1yn': 14319, '8sp8xlbbdr': 1202, 'rockbottomradfm': 16030, 'challenges': 4072, 'rescuing': 15749, 'saving': 16464, 'soaking': 17259, 'tonne': 18789, 'alcohol': 1806, 'mat': 11971, 'gbbo': 7965, 'ppfa': 14665, 'stores': 17732, 'witness': 20417, 'explode': 6953, 'afternoon': 1670, 'cgmjlseylo': 4056, 'mikecroninwmur': 12281, 'xela': 20730, 'struggle': 17810, 'equipment': 6723, 'grateful': 8324, 'dcfd': 5346, 'chr3lyc': 4239, 'iaff36': 9347, 'wrb7xd8w5y': 20576, 'croydon': 5006, 'riots': 15938, 'crowds': 4999, 'reeves': 15580, 'corner': 4810, 'croydonization': 5007, 'hazard': 8737, 'installation': 9763, 'non': 13212, 'cladding': 4335, 'btpqdehl3p': 3522, 'www': 20650, 'cbplawyers': 3975, 'greenbuildermag': 8350, 'nfpa': 13075, 'webinar': 20197, 'mitigation': 12398, '2pm': 491, 'et': 6786, 'xmsvohkccp': 20763, 'firewise': 7369, 'michele_nfpa': 12246, '4i0kz2akly': 740, 'burns': 3599, 'blows': 3184, '5bgcw3ezb5': 840, 'destroys': 5610, 'tqh5amoknd': 18883, 'multiple': 12717, 'downtown': 6034, 'hinton': 8959, 'p6kdh0p0sp': 13940, 'waetkgsza9': 20027, 'thestrain': 18530, 'ton': 18785, '160': 210, 'ross': 16111, 'auburn': 2387, 'trucks': 19056, 'ahvymsqhqc': 1717, 'booty': 3282, 'write': 20587, 'detectors': 5617, 'shevlin': 16843, 'hixon': 8984, 'z6ee1jvhni': 21114, 'gansey': 7923, 'busting': 3620, 'brick': 3420, 'seven': 16735, 'different': 5721, 'architecture': 2165, 'routes': 16134, 'fw1ptaelgv': 7819, 'tweetlikeitsseptember11th2001': 19159, 'dam': 5224, 'estate': 6777, 'langata': 11029, '22pm': 393, 'evacuating': 6834, 'confirmation': 4679, 'shootings': 16885, 'explosions': 6963, 'grenades': 8367, 'thrown': 18607, 'houses': 9145, 'vehicles': 19733, 'baffles': 2593, 'sweden': 18044, 'prohibits': 14839, 'grills': 8380, 'decks': 5407, 'condos': 4671, 'ke1zs6naml': 10587, 'rise': 15948, 'insurance': 9779, 'aust': 2415, 'wfseaobato': 20268, 'displaces': 5827, 'damages': 5227, 'troy': 19043, 'fourth': 7609, '6hkw5qlppt': 966, 'albany': 1797, 'ppsellsbabyparts': 14670, 'wzc5r4xoqz': 20670, 'band': 2632, 'bbcintroducing': 2750, 'purpleturtlerdg': 15009, 'giantgiantsound': 8090, 'ofan6dkoez': 13528, 'rdg': 15451, '3sth9lrbun': 645, 'rage': 15330, 'alarm': 1787, 'jqxm4gcqz3': 10359, 'nh1news': 13082, 'bigsim50': 2997, 'pundits': 14989, 'mafireems': 11775, 'wmur9': 20449, 'qufwxrjiql': 15214, 'kcarosawmur': 10577, 'wsls': 20609, 'tips': 18683, 'childcare': 4186, 'expensive': 6937, 'jennasjems': 10169, 'patrickwsls': 14116, 'towns': 18868, 'lighting': 11311, 'charred': 4126, 'remains': 15655, 'rips': 15945, 'damaging': 5228, 'neighboring': 13003, 'ja3w1s3tmr': 10031, 'residential': 15760, 'rvkyj3yuvk': 16252, '1943': 252, 'prisoners': 14797, 'nazi': 12937, 'camp': 3775, 'treblinka': 18968, 'rebelled': 15506, 'seizing': 16648, 'displaced': 5826, 'tore': 18818, 'nzqwtcyidv': 13414, 'mht': 12233, 'confirm': 4678, 'okcfox': 13615, 'straighten': 17748, 'brother': 3486, 'swooping': 18071, 'finger': 7340, 'acres': 1535, 'drifting': 6094, 'temecula': 18352, 'zr5rgbgh03': 21253, 'glue': 8178, 'progress': 14835, 'ages': 1689, 'content': 4735, 'sigmund': 16949, 'freud': 7708, 'hgf52611': 8896, 'uh': 19305, 'robbie': 16008, 'derby': 5565, 'redsox': 15572, 'popcorn': 14584, 'wild_lionx3': 20341, 'shower': 16911, 'flushes': 7489, 'lining': 11355, 'barn': 2680, 'moon': 12548, 'mizuta': 12410, 'gl4mcax0ny': 8144, 'cheese': 4150, 'calorie': 3755, 'klondike': 10776, 'alton': 1892, 'livestream': 11412, 'touched': 18851, 'plate': 14462, 'nut': 13356, 'joke': 10304, 'gvd7fcx8iz': 8505, 'couches': 4840, 'fr': 7643, 'p1amginsys': 13922, 'minutes': 12345, 'runkeeper': 16226, 'loseit': 11550, 'stevie': 17686, 'crusty': 5023, 'op': 13708, 'epex4axg4b': 6691, '129': 164, 'mph': 12640, 'brisk': 3448, 'pace': 13951, 'myfitnesspal': 12795, 'twice': 19166, 'flame': 7414, 'pqrjvgvgxg': 14675, 'tounge': 18855, 'pepperoni': 14219, 'lifting': 11305, 'weights': 20224, '43': 687, 'qvc': 15237, 'mcdonald': 12036, 'coolest': 4777, '202': 367, 'rl': 15986, 'boyfriend': 3333, 'clothes': 4416, 'recorded': 15541, 'kennethbauer_': 10620, 'noodles': 13217, 'crap': 4916, 'grilled': 8379, 'sandwich': 16403, 'wish': 20404, 'figured': 7310, 'joked': 10305, 'wood': 20491, 'innings': 9733, 'cubstalk': 5060, 'complex': 4634, '14028': 187, 'contained': 4730, 'lfnippnoto': 11248, 'thomasvissman22': 18571, 'keithyyl': 10604, 'keithyy': 10603, 'gettin': 8042, 'blocks': 3158, 'social': 17267, 'dlkuftlqnf': 5898, 'oven': 13864, '500': 795, 'degrees': 5468, 'fool': 7535, 'coverage': 4873, 'pro': 14803, 'material': 11981, 'nuggets': 13342, 'microwave': 12259, 'intead': 9786, 'dirt': 5765, 'bike': 3001, 'cutting': 5118, 'sparks': 17404, 'brush': 3503, 'sparked': 17402, 'landowner': 11019, 'rj7m42atws': 15969, 'yall': 20889, 'bugs': 3554, 'candle': 3804, 'cocoa': 4489, 'sip': 17011, 'nap': 12881, 'awesomesauce': 2485, 'hermancranston': 8867, 'atk': 2340, 'letsfootball': 11233, 'skanndtyagi': 17061, 'wired': 20395, 'dmtab6g7j7': 5916, '501': 798, 'mandem': 11848, 'totteham': 18847, 'maddddd': 11766, 'dem': 5498, 'ting': 18675, 'dere': 5566, 'aubilenon': 2385, 'markkriegsman': 11919, 'routine': 16135, 'g2h7xnecd8': 7858, 'weightless': 20223, 'fatburning': 7157, 'burnfat': 3597, 'skinny': 17080, 'workout': 20511, 'bulletproof': 3567, 'funeral': 7791, 'uqssnaattu': 19510, 'stacdemon': 17571, 'questions': 15212, 'chris': 4240, 'mullin': 12711, 'john': 10286, 'nmrvthkvah': 13176, 'sjubb': 17055, 'johnsontionne': 10296, 'idk': 9419, 'zionism': 21195, '6xysdn2xz0': 1009, 'kanger': 10527, 'coils': 4508, 'vaping101': 19691, 'cykr4xaluh': 5159, 'huffpostcomedy': 9205, 'keeps': 10599, 'attendees': 2371, 'xwvw1sft4i': 20821, 'j7hukhwmal': 10025, 'visible': 19860, 'tucson': 19103, 'mountains': 12617, 'caused': 3961, 'steep': 17659, 'terrain': 18385, 'zrtrpl77qv': 21257, 'neon': 13013, 'modest': 12480, 'certainly': 4034, 'sniff': 17234, 'sniiiiiiff': 17235, 'er': 6725, 'donny': 5981, 'returned': 15819, 'hksbmijqz1': 8991, 'method': 12190, 'integrates': 9787, 'format': 7578, 'interval': 9823, 'muscle': 12740, 'shaping': 16801, 'techniqu': 18316, 'xuzee2budv': 20809, 'bored': 3289, 'desire': 5587, 'goals': 8203, 'lou': 11561, 'holtz': 9043, 'uhhhhh': 19309, 'demon': 5515, 'crusade': 5018, 'optps1lgkc': 13747, 'boat': 3223, 'memories': 12136, 'web': 20196, 'umtnnimtbm': 19349, 'nagel_ashley': 12862, 'vicken52': 19792, 'basedlarock': 2697, 'goonc1ty': 8248, 'rubi_': 16199, 'stacks': 17575, 'apply': 2116, 'parents': 14054, 'wp6v1bhhoq': 20551, 'michael5sos': 12241, 'balls': 2625, 'counter': 4850, 'acts': 1557, 'alexandrian': 1818, 'jerry': 10178, 'reporters': 15719, 'press': 14748, 'conference': 4675, 'experiencing': 6941, 'arzemsr7fq': 2251, 'paying': 14139, 'influencers': 9703, 'socialtimes': 17273, 'ptc0xcragy': 14943, 'minsuwoongs': 12340, 'understand': 19380, 'ika': 9504, 'tuning': 19119, 'soup': 17366, 'diet': 5717, 'recipes': 15527, '8r5vpaoo5z': 1198, 'recip': 15525, 'jvcxb75drj': 10443, 'tickets': 18635, 'b0es3ziork': 2518, 'juiit2yfvo': 10398, 'accidentally': 1496, 'lighter': 11310, 'planned': 14451, 'parenthood': 14053, 'demonstrations': 5522, 'pp': 14658, 'mv': 12768, 'strutting': 17814, 'bg': 2951, 'louis_tomlinson': 11568, 'dancing': 5250, 'stone': 17716, 'atleast': 2348, 'store': 17730, 'individuals': 9666, 'sounds': 17364, 'hear': 8789, 'foxnewsvideo': 7621, 'aiiamericangiri': 1726, 'anhqdc': 1993, 'rioters': 15936, 'looters': 11532, 'forestservice': 7565, 'dhsscitech': 5679, 'ûówe': 21362, 'tech': 18311, 'kybqcsvrza': 10925, 'ih49kymsmp': 9470, 'duckvillelol': 6178, 'flips': 7452, 'table': 18140, 'screw': 16564, 'grabs': 8302, '03l7nwqdje': 17, 'ppl': 14667, 'sex': 16746, 'be4': 2787, 'magic': 11782, 'proud': 14898, 'attempting': 2367, 'delany': 5473, 'dhalgren': 5674, 'beastly': 2801, 'downing': 6026, 'descriptions': 5576, 'ruin': 16207, 'mofanon': 12492, 'retweet': 15822, 'saved': 16459, 'monsters': 12534, 'pulling': 14973, 'causing': 3963, 'evacuations': 6836, 'mtmkimwiyy': 12686, 'ali': 1833, 'planes': 14446, 'ran': 15371, 'booradleyvancullen': 3277, 'pouring': 14644, 'port': 14599, 'coquitlam': 4798, 'geqkdao4cv': 8031, 'dg0bgzecgm': 5664, 'storen': 17731, 'curing': 5092, 'cancer': 3800, 'puppies': 15000, 'contemplating': 4732, 'deserve': 5580, 'disrespect': 5832, 'gays': 7957, 'destroying': 5609, 'meteors': 12186, 'crashing': 4922, 'strikers': 17791, 'phalaborwa': 14293, 'striking': 17793, 'chinese': 4205, 'attacking': 2361, '08lngclzsj': 32, 'acted': 1540, 'flamethrower': 7417, 'rendered': 15687, 'kitten': 10754, '9cpwiecegv': 1273, 'rzlytnez2u': 16274, 'kshllcenterpri1': 10882, 'progress4ohio': 14836, 'burnt': 3600, 'churches': 4270, 'understood': 19383, 'chase': 4131, 'murderers': 12732, 'thoroughly': 18575, 'express': 6973, 'stupid': 17837, 'brutality': 3506, 'nvr': 13367, 'mistreated': 12391, 'streetlight': 17773, '1qochspybw': 315, 'bush': 3611, 'safe': 16324, 'jslxtq3nqs': 10372, 'explain': 6948, 'volcanoes': 19920, 'spouting': 17497, 'co2': 4462, 'marcoarment': 11885, 'winter': 20389, 'sydney': 18088, 'toes': 18760, 'ted': 18321, 'ûïwe': 21350, 'mitt': 12399, 'bfthahlcr0': 2948, 'omfg': 13657, 'tiny': 18677, 'freaking': 7666, 'slash': 17115, '5dj6chjfzp': 845, 'drought': 6125, 'fuels': 7775, 'zdtdqqbahc': 21159, 'psqcnsvfgp': 14931, 'jamaicaobserver': 10073, 'cnewslive': 4450, '6zgef8j8bm': 1013, 'bftiapf35f': 2949, 'doricreates': 6001, 'alhanda': 1832, 'moonbeam': 12549, 'tokes': 18765, 'blames': 3106, 'traumatised': 18949, 'appreciativeinquiry': 2122, 'soea1ggbkj': 17281, 'hillary': 8943, 'standwithpp': 17601, 'hxdg254dho': 9288, 'holiday': 9029, 'relax': 15635, 'sunbathe': 17922, 'spain': 17394, 'drno7okm21': 6112, 'californian': 3747, 'rjdx29wosp': 15973, 'oct': 13501, '1895': 240, 'zckxtfc9pt': 21148, 'dacherryontop13': 5199, 'swimming': 18062, 'water': 20123, 'scarier': 16500, 'scotland': 16540, 'wet': 20256, '0ymf6txfch': 105, '3i3d2ngent': 612, 'jyiekeo2he': 10464, 'johnfromcranber': 10289, 'pleas': 14481, 'warming': 20079, 'catastrophic': 3940, 'fgdeh56plo': 7278, 'photographer': 14328, 'wolter': 20471, 'peeters': 14199, 'nsw': 13325, 'rural': 16236, 'service': 16717, 'crews': 4965, 'gxe7nhwz3e': 8519, 'srbqlmuwbv': 17547, 'oblivious': 13471, 'evacuate': 6832, 'affected': 1641, 'asap': 2254, 'govts': 8281, 'advised': 1621, 'ubvevuuach': 19265, 'kcoff6bmie': 10580, 'triumphant': 19021, 'eggs': 6423, 'yolk': 21007, 'casualties': 3933, 'fqj5aga1pd': 7637, 'warfighting': 20075, 'robots': 16024, 'reduce': 15573, 'civilian': 4315, 'calling': 3751, 'ban': 2629, 'premature': 14718, 'ieee': 9433, 'spectrum': 17431, 'tzr58b86qz': 19221, 'thankful': 18446, 'evil': 6861, 'afghan': 1648, 'intensifies': 9796, 'nnylxhinpx': 13187, 'sees': 16639, 'sharp': 16812, '4hcywrwn6l': 737, '2twxz6vxbx': 502, '9dvu1ridz3': 1276, 'libertarianluke': 11275, 'honest': 9074, 'rampage': 15369, 'levels': 11239, 'ymczyvkfme': 20990, 'bottling': 3302, 'eventually': 6849, 'explodes': 6955, 'higher': 8921, 'countless': 4853, 'globe': 8166, 'orchestrated': 13765, 'g1bwl3dqqk': 7855, 'disinfo': 5807, 'yuinmerq2s': 21067, 'criticalmedia': 4984, 'poignant': 14544, 'reminder': 15670, 'mwmt3bdr5l': 12780, 'lasvegaslocally': 11056, 'vitalvegas': 19871, 'reined': 15623, 'drinks': 6100, 'account': 1504, 'stool': 17722, 'albums': 1803, 'yemen': 20939, '7ageakvn2x': 1056, 'laughing': 11076, 'sorrow': 17345, 'throwin': 18604, 'catwoman1775': 3956, 'crazier': 4929, 'shooter': 16883, 'sutherland': 18018, 'pine': 14382, 'd50orfxofb': 5184, 'theleadernews': 18501, '0cxm5tkz8y': 41, 'v5amdovhot': 19635, 'flyopinemonkey': 7493, 'honshu': 9082, 'operation': 13719, 'coronet': 4812, '1m': 302, 'allied': 1856, '30m': 530, 'alcoholandmetal': 1807, 'fix': 7389, 'trusted': 19068, 'reach': 15458, 'r8ptvfuh5x': 15299, 'npckk0tleq': 13293, 'countermoonbat': 4851, 'voodoo_ben': 19932, 'purple': 15008, 'passed': 14087, 'thankfully': 18447, 'command': 4581, 'confirmed': 4680, 'mfsw0tysta': 12218, 'wrap': 20573, 'warns': 20087, 'vsvy1qe69t': 19961, 'pbs': 14151, 'iraq': 9899, 'ûïthe': 21349, 'paved': 14131, 'hypocrisy': 9305, 'francisunderwood': 7655, 'hoc': 9013, 'zqo6nuvytu': 21249, 'revise': 15845, 'scenario': 16508, 'iranian': 9896, 'drlkebeypi': 6110, 'ldywd4ydt9': 11126, 'tuned': 19115, 'idc': 9405, 'nssjpr6pdd': 13324, 'highest': 8922, '2009': 355, 'washingtonpost': 20107, 'xtf5dvgrvh': 20802, 'lzff4pt4az': 11690, 'ftsn': 7755, 'ftsnnewsdesk': 7756, 'irishspy': 9909, 'allies': 1857, 'sucked': 17874, '3sqsergni2': 643, 'whimsy': 20297, 'pertains': 14255, 'derailment': 5563, 'patna': 14112, 'casualty': 3934, 'yg697fcqgr': 20956, 'toronto': 18825, 'branch': 3369, 'surety': 17977, 'underwriter': 19387, 'pramklrmhz': 14690, 'courses': 4863, 'jmd7zwksdm': 10259, 'rates': 15410, 'movement': 12627, 'commercial': 4592, 'casu': 3930, 'kclkokqi8a': 10578, '80s': 1125, 'aids': 1724, 'ûªd': 21320, 'grown': 8408, 'qbecjli7cx': 15095, 'sanity': 16411, 'brings': 3445, 'cord': 4802, 'ocean': 13496, 'gray': 8333, 'whale': 20281, 'population': 14592, 'pacific': 13953, 'critically': 4983, 'endangered': 6605, 'vwz3vzpmfb': 19981, 'thomashcrown': 18569, 'grandfather': 8312, 'groups': 8401, 'marines': 11905, 'rate': 15408, 'predictions': 14711, 'quality': 15185, 'licensed': 11287, 'agent': 1687, 'produc': 14817, 'vmjrtuvmh4': 19898, 'denver': 5538, 'benzema': 2910, 'increasingly': 9630, 'benitez': 2898, 'arsenal': 2226, 'bound': 3307, 'chance': 4083, 'gritty': 8386, 'thursdays': 18625, 'amico': 1928, 'tag': 18154, 'amicospizzato': 1929, 'seeyouatamicos': 16641, 'mz8vqxbkts': 12812, 'recall': 15515, 'sends': 16674, 'industry': 9674, '6gsamy6mts': 963, 'unpredictable': 19441, 'disconnected': 5787, 'northbayhealth': 13237, 'shines': 16855, '21b6skpdur': 385, 'wbcb3sytj7': 20151, 'scriptettesar': 16566, 'katiecool447': 10557, 'btw': 3525, '30th': 537, 'september': 16696, '1986': 267, 'avbronstein': 2447, 'popehat': 14585, 'instapundit': 9768, 'estimates': 6784, 'islands': 9940, 'telling': 18344, 'homealone2': 9048, 'film4': 7319, 'metrics': 12194, 'correlate': 4818, 'marketwatch': 11918, 'mvrsyu2ppk': 12772, 'independence': 9639, 'rowyso': 16140, 'setlist': 16727, 'calum5sos': 3758, 's_casualty': 16302, 'greenharvard': 8351, 'documenting': 5938, '4q4zd7ou34': 763, '5sosfamupdater': 879, 'canceling': 3797, 'warships': 20096, 'agrees': 1704, 'repay': 15707, 'nytimes': 13407, 'f2gwxeprak': 7025, 'conning': 4697, 'builds': 3559, 'strong': 17801, 'portfolio': 14602, 'diversification': 5856, 'insurers': 9782, '33fbr25t1o': 550, 'reriellechan': 15743, 'lich': 11289, '0gidg9u45j': 50, 'roleplay': 16061, 'willinghearted': 20355, 'rpn': 16151, 'pbya7uv3v5': 14153, 'nuke': 13345, 'albeit': 1798, 'unsuccessful': 19458, 'tens': 18372, 'millions': 12304, 'mackinnon08': 11760, 'hardstyle': 8679, 'messy': 12177, 'mix': 12402, 'recording': 15542, 'mixify': 12405, 'm203ul6o7p': 11706, 'hdvmhsqxhm': 8764, 'stavernise': 17641, 'agreed': 1702, 'delivered': 5485, 'k4h8cq7puo': 10481, 'robdelaney': 16010, 'catastrophe': 3939, 'unable': 19352, 'ejaculating': 6448, 'appleofficlal': 2112, 'migrating': 12278, 'iphoto': 9885, 'wasted': 20113, 'hrsto': 9176, 'cultivating': 5073, 'joy': 10342, 'suffering': 17887, 'o0ltqdjbqe': 13418, 'pjnet': 14428, 'tcotåê': 18273, 'ccot': 3988, 'mo9wptyqkp': 12461, 'borrowers': 3294, 'sbhhkkz01y': 16484, 'uriminzok': 19523, 'puppet': 14999, 'republic': 15731, 'naemolgo': 12857, 'continue': 4741, 'firmly': 7374, 'yiraneuni': 20976, 'failure': 7076, 'misfortunebut': 12363, 'deb117': 5384, 'opens': 13716, 'athlete': 2338, 'teacher': 18290, 'principle': 14785, 'fulfilling': 7781, 'clerical': 4373, 'duties': 6218, 'iphone': 9883, 'twist': 19173, 'ultimate': 19330, 'ksgmy0d0mx': 10881, 'ov': 13862, 'mzk0pfogi7': 12814, 'gemmahentsch': 7999, 'megynkelly': 12116, 'dloesch': 5899, 'envision': 6676, 'prevent': 14763, 'placing': 14440, 'adoption': 1599, 'peterjukes': 14268, 'grounds': 8398, 'political': 14566, 'committed': 4598, 'stylist': 17847, 'silent': 16966, 'prime': 14781, 'o207jyabyz': 13421, 'cjctb2ocxg': 4324, 'bless': 3131, 'maatmhi': 11747, 'diff': 5718, 'barry': 2686, 'solo': 17300, 'generally': 8006, 'pros': 14878, 'company': 4616, 'failures': 7077, 'requiring': 15742, 'repair': 15703, 'pisces': 14401, 'emotional': 6563, 'cara': 3851, 'mother': 12594, 'chucker': 4266, 'scenes': 16510, 'tf2bkq0olx': 18420, 'vmas': 19896, '3fqq7pfjvx': 601, 'pixelsmovie': 14421, 'lvbuw01yoh': 11656, 'burford': 3587, 'lorries': 11543, 'council': 4845, 'field': 7293, 'adjuster': 1591, 'safeco': 16325, 'liberty': 11277, 'mutual': 12764, '3k42mjvqca': 615, 'spark': 17401, 'vsgqolr32g': 19958, 'p7uhcb13qx': 13942, 'payday': 14138, 'loans': 11460, 'promote': 14853, 'finance': 7330, 'liqd': 11367, 'rated': 15409, 'imdb': 9550, 'hilarious': 8940, 'cjrssry1rt': 4329, 'aiginsurance': 1725, 'ceo': 4029, 'divestitures': 5860, 'temper': 18354, 'q2': 15066, 'results': 15804, '2y2wzk1frm': 512, 'chances': 4084, 'evolve': 6864, 'vanilla': 19683, 'anymore': 2060, 'nar': 12883, 'phuket': 14334, 'qyaendvdgc': 15258, '3zp6ahnsxn': 663, 'perfectly': 14223, 'controlled': 4756, 'masochisticmage': 11953, 'reckless': 15528, 'friends': 7720, 'regular': 15616, 'coffees': 4501, 'rockstar': 16038, 'wolves': 20472, 'denali': 5525, '48': 707, 'savedenaliwolves': 16460, 'tweetstorm': 19161, 'sywuel7yyx': 18104, 'mark_argent': 11908, 'finished': 7344, 'bbc': 2747, 'r5live': 15290, 'studio': 17826, 'discussion': 5797, 'sheer': 16826, 'herring': 8873, 'scraptrident': 16551, 'race': 15309, 'success': 17872, 'frustration': 7745, 'vegas': 19727, 'pieceofme': 14357, '4mjyw7p7cf': 755, 'learning': 11148, 'eruption': 6748, 'rbmucurs2f': 15438, 'benefits': 2892, 'weathernetwork': 20194, 'ibx3cragtt': 9373, 'acute': 1561, 'takes': 18170, 'precedent': 14702, 'ptsd': 14947, 'follows': 7525, 'undetected': 19389, 'bzkqpl6r0a': 3663, 'reveillertm': 15833, 'macabrelolita': 11750, 'amino': 1934, 'acids': 1525, 'diobzghfju': 5747, 'bombings': 3254, 'felt': 7243, 'ou1m9chznq': 13830, 'tzxeg4gokd': 19223, '1krpz3j1eu': 298, 'invading': 9840, 'mistake': 12388, 'diplomacy': 5749, 'replace': 15711, 'yqjpn3quux': 21040, '25sy9y295l': 413, 'newyorker': 13065, 'wc8aqxedf7': 20160, 'marginoferror': 11891, 'custom': 5105, 'rom': 16069, 'weren': 20243, 'managers': 11842, 'wearing': 20190, 'uniforms': 19410, 'implication': 9573, 'glove': 8176, 'destructive': 5612, 'volcanic': 19916, 'thirty': 18556, 'kkjp9ksbst': 10768, 'tgcr5vofj3': 18432, 'myvintagesoul': 12811, 'british': 3452, 'manservant': 11863, 'pampered': 14007, 'wealthy': 20184, 'brit': 3450, 'reversal': 15839, 'apano55': 2074, 'jamesmelville': 10077, 'deluded': 5492, 'senschumer': 16679, 'netanyahu': 13026, 'religious': 15649, 'yorker': 21013, 'y8yqpbe4t9': 20873, 'pgxfocghqg': 14289, 'qvlxpyyycd': 15238, '5yrbegzafx': 893, 'rnqebaycvm': 15996, 't344phnpy9': 18117, 'a8jz5a26wi': 1404, 'kessler': 10635, 'exponential': 6967, 'proliferation': 14845, 'satellites': 16438, 'gravitymovie': 8331, 'vmwtouyohm': 19900, 'excited': 6894, 'ensuing': 6653, 'debt': 5391, 'audio': 2397, 'stream': 17766, 'assume': 2314, 'defendant': 5450, 'gz27audyha': 8533, 'p4ekgc9sig': 13930, 'syringetoanger': 18100, 'åç': 21297, 'disagreements': 5769, 'occurrence': 13493, 'clear': 4363, 'åè': 21298, 'hazardous': 8738, 'chemical': 4157, 'management': 11840, 'principles': 14786, 'practices': 14682, '4ssuyhkgrb': 771, 'tderbtgz2k': 18280, 'brothers': 3487, 'armory': 2205, 'sf': 16753, 'chem': 4156, '3ln8trhw6x': 621, 'illinois': 9519, 'units': 19421, 'simulate': 16987, 'nu': 13330, 'rd10ex6hvt': 15449, 'sharethis': 16807, 'hazmat': 8741, 'weeklong': 20217, 'biological': 3031, 'radioactive': 15320, 'nbc': 12944, 'exercise': 6906, 'md': 12056, 'ul5xdblmbk': 19326, 'vjhpvlnbaw': 19885, 'david_cameron': 5314, 'upsetting': 19500, 'bee': 2828, 'companies': 4614, 'savebees': 16458, 'ndjja4d5o8': 12970, 'l7bjsq0y2o': 10958, 'krefeld': 10864, 'operations': 13720, 'underway': 19385, 'reportly': 15721, 'collapsed': 4522, 'cnnbrk': 4454, 'ntvde': 13328, 'wbogs8ejsj': 20155, 'bees': 2834, 'instead': 9770, 'toxic': 18870, 'harm': 8682, 'db7ft3yi6d': 5337, 'spill': 17455, '007npen6lg': 3, 'opening': 13714, 'seattle': 16604, 'dependency': 5544, 'counselor': 4847, 'intern': 9806, 'bnrdkgxavr': 3216, 'respond': 15778, 'beaumont': 2808, 'benews': 2893, 'pme0hojvya': 14516, 'ijetalerts': 9493, 'loot': 11531, 'pipe': 14390, 'ricin': 15896, 'leak': 11138, 'drugs': 6138, 'cartel': 3906, 'cocaine': 4481, 'marijuana': 11899, 'heroine': 8872, 'bust': 3618, 'alert': 1813, 'ndgpwyxu6h': 12968, 'skqpwsnoin': 17086, 'ueppjwvlcb': 19291, 'watersafety': 20130, 'pjcoyle': 14425, 'included': 9622, 'planning': 14454, 'plants': 14459, 'oamqqbnice': 13450, 'suppose': 17965, 'northwestern': 13247, '0nr4dpjgyl': 70, 'term': 18381, 'obsessed': 13477, 'anutoopkf4': 2054, 'nueva': 13338, 'favorita': 7169, 'bits': 3056, 'met4ytzmfb': 12180, 'deezercolombia': 5440, 'exitlxgisj': 6919, 'cleanup': 4362, 'umqbyrupbd': 19347, 'hhtwayt4yo': 8904, 'liquidation': 11368, 'object': 13461, 'usar2015': 19544, 'usar15': 19543, 'ruor': 16234, 'ggtmdquddo': 8070, 'evanston': 6841, 'kfyebhb3di': 10653, 'hungry': 9244, '4zsxjgv7it': 793, 'laevantine': 10985, 'fortunately': 7594, 'reworked': 15852, 'plumbing': 14503, 'draw': 6067, 'glitter': 8161, 'chemical_babe': 4158, 'v4': 19631, 'ulupxyzjwv': 19333, 'responders': 15782, 'q9zixci8e6': 15087, 'lindenow': 11349, '15pm': 206, 'ibiza': 9368, 'pop': 14582, 'pill': 14374, 'cliff': 4385, 'dannyjohnjules': 5266, 'spencer_fearon': 17441, 'christielinford': 4253, 'd33munni': 5180, 'jeannamibian': 10153, 'noooooooo': 13221, 'proceeds': 14813, 'neil': 13006, 'crossfit': 4996, 'qamwojyahq': 15091, 'decent': 5399, 'billers': 3008, 'promoted': 14854, 'manager': 11841, 'billings': 3011, 'humble': 9228, '2leezy': 472, 'grabbing': 8301, 'sweaty': 18043, 'grwdr4kuf3': 8418, 'regress': 15614, 'slip': 17145, 'dignity': 5734, 'mate': 11979, 'faved': 7165, 'funnynews': 7798, 'collapses': 4523, 'chunks': 4268, 'china': 4203, 'lci3pljx25': 11115, 'brian': 3416, 'ruebs': 16205, 'endures': 6616, '4500': 693, 'climb': 4389, 'capture': 3844, 'bride': 3424, 'groom': 8393, 'bmwmpoydig': 3209, 'alex': 1815, 'facts': 7064, 'minions': 12330, 'favor': 7166, 'alexjacobsonpfs': 1824, 'andre': 1968, 'gore': 8258, 'elite': 6499, '4vwsl2gfp0': 778, 'thinkpink': 18551, 'magichairbump': 11784, 'adding': 1578, 'nmhztb1ewm': 13174, 'sleep': 17127, 'balance': 2618, '87': 1147, 'snap': 17222, 'streak': 17765, 'punkblunts': 14996, 'sincerelyevelnn': 16994, 'jxhazebnqk': 10457, 'szmnextdoor': 18107, 'lil': 11331, 'trip': 19017, '3hoikdmocb': 609, 'landslide': 11024, 'gabd0cjmag': 7877, 'eeewo207mx': 6395, 'ferry': 7261, 'crack': 4902, 'knocking': 10806, 'gulfport': 8470, 'realizations': 15489, 'cjuighbxyn': 4330, 'jumps': 10412, 'cliffs': 4386, '627': 910, 'lower': 11584, 'striked': 17789, 'otm': 13824, 'yoenis': 21000, 'production': 14824, 'edge': 6367, 'ha': 8569, 'kidding': 10686, 'io9ry1akon': 9868, 'esn': 6762, 'cilla': 4281, 'stroke': 17800, 'revealed': 15830, 'visit': 19863, 'f7a66diiyk': 7035, 'easily': 6317, 'shadows': 16776, 'nieuws': 13106, '8lkmwp9qzw': 1186, 'runaway': 16224, 'minion': 12329, 'dublin': 6172, 'u2kwof3wtj': 19234, 'technique': 18317, 'uplfsqmr0c': 19492, 'paramedic': 14044, 'blow': 3175, 'halloikbenwill': 8611, 'geoffrickly': 8021, 'option': 13744, 'vinyl': 19838, 'bundle': 3580, 'ponting': 14577, 'yahoo': 20880, 'hsgktezucn': 9181, 'g38y8h1tjt': 7862, 'basildudin': 2706, 'barbaric': 2665, 'saudies': 16449, 'relive': 15650, 'austrian': 2421, 'interview': 9825, 'materialism': 11982, 'talkradio': 18185, 'sdxzhjco0x': 16583, 'investing': 9852, 'actions': 1545, 'strategies': 17759, 'securing': 16623, 'lasting': 11053, 'blowout': 3183, 'jzwrisxepf': 10469, 'trapped': 18945, 'circus': 4295, 'tent': 18375, 'clowns': 4425, '6hkca1dsna': 965, 'implode': 9575, 'dccomics': 5344, 'imagecomics': 9539, 'darkhorsecomics': 5286, 'idwpublishing': 9428, 'enabling': 6590, 'eurocrisis': 6821, 'revenues': 15837, 'continues': 4743, 'talks': 18186, 'proposed': 14877, 'ââ': 21295, 'bbm9sr1wow': 2761, 'commodity': 4602, '4hngtkdqmv': 739, 'absolutely': 1471, 'loves': 11580, 'afzqvotutj': 1676, 'bm0qec7pja': 3204, 'eminem': 6553, 'nate': 12907, 'dogg': 5949, 'timestack': 18666, 'sunsets': 17938, 'mesmerizing': 12165, 'images': 9540, 'cas8xc2dfe': 3915, 'spike': 17454, '30min': 531, 'ckec': 4332, 'uubovy9gqi': 19593, 'correction': 4817, 's7vygenjuv': 16298, 'behindashield': 2856, 'wars_goddess': 20094, 'knees': 10795, '4th': 772, 'reactions': 15464, '6dznejuvd3': 954, 'absolut_sumya15': 1469, 'sa': 16303, 'ferrochrome': 7260, 'verge': 19748, 'president': 14745, 'oral': 13757, 'jxs50fkvik': 10458, 'fixing': 7391, 'sl': 17105, 'wi': 20325, 'rsa': 16171, 'bd': 2780, 'sham': 16787, 'exhaustion': 6910, 'bailout': 2607, 'cjvbqxw83s': 4331, 'reacts': 15467, 'i6zqlk2puz': 9334, 'theashes': 18464, 'growth': 8410, 'dries': 6092, 'bhp': 2961, 'billiton': 3015, 'oil': 13595, 'price': 14771, 'bites': 3054, 'hqod6v6dnc': 9161, 'roh3': 16052, 'jfb': 10203, 'tfb': 18422, 'alrasyid448iturasya': 1882, 'izjtoojzkp': 10001, 'smantibatam': 17176, 'roh3smantibatam': 16053, 'uxp6poqjlb': 19613, 'åèmgn': 21299, 'africaå': 1662, 'pin': 14381, '263789f4': 416, 'fdjuyvzmrv': 7197, 'wizkidayo': 20424, 'thehighfessions': 18496, 'blasted': 3114, 'pancakes': 14011, 'iowa': 9876, 'sholt87': 16878, 'mtgrotto': 12684, 'eco11c': 6347, 'carlsbadbugkil1': 3882, 'lowered': 11585, '401ks': 670, 'entrances': 6669, 'gut': 8496, 'deutsch': 5630, 'musik': 12751, 'monarchy': 12516, 'rjju70rhyu': 15976, 'bake': 2613, 'dorret': 6007, 'chocolate': 4213, 'gateau': 7948, 'jan': 10086, '53lorsrgqf': 815, 'organicallyrude': 13777, '1rockstar62': 317, 'mattingly': 11998, 'bundy': 3582, 'mcgwire': 12042, 'standing': 17597, 'catching': 3944, 'bowling': 3322, 'alley': 1854, 'kezi9': 10644, 'sahbhlxssh': 16335, 'phil': 14308, 'gravel': 8327, 'sobbing': 17263, 'endlessly': 6611, 'crowd': 4998, 'confused': 4685, 'angry': 1991, 'oneheartonemindonecss': 13670, 'burst': 3603, 'lungs': 11651, 'district': 5847, 'coaches': 4465, 'cpr': 4895, 'course': 4862, 'panama': 14009, 'kfkaosh0kh': 10650, 'gorpuazikinak': 8260, 'tongue': 18787, 'cum': 5076, 'puddle': 14961, 'indiepopmom': 9659, 'breathe': 3404, 'zimbabwe': 21191, 'ruled': 16214, 'dictator': 5705, 'durrellb': 6209, 'punishing': 14992, 'exhausted': 6909, 'entity': 6668, 'forced': 7552, 'montego': 12538, 'sewer': 16744, 'tvjnews': 19144, 'heartless': 8804, 'whipped': 20300, 'animal': 1995, 'njrjxqbjr4': 13151, 'officer': 13543, 'influential': 9704, 'betrayed': 2932, 'severing': 16741, 'ym3cww28dj': 20988, 'portable': 14600, 'closet': 4411, '3x': 656, 'rid': 15903, 'rokiieee_': 16058, 'moir': 12496, '2sgdofsmrq': 497, 'xlegc6uora': 20758, 'mortified': 12582, 'heels': 8821, 'planted': 14458, 'fav': 7164, 'greek': 8348, 'fools': 7538, 'tsipras': 19083, 'cost': 4831, 'wallybaiter': 20056, 'gbrnulp3fh': 7973, 'quora': 15227, 'answers': 2034, 'ikfmektpcx': 9505, 'moderately': 12477, 'flickershowell': 7446, 'munch': 12725, 'species': 17424, 'xdescry': 20723, 'trusty': 19070, 'considering': 4710, 'spontaneously': 17483, '87efcbiczm': 1149, 'sqwizzix': 17541, 'ggqcz9ab6u': 8069, 'duty': 6220, 'piano': 14339, 'entertainer': 6663, 'ep': 6684, 'musicians': 12749, 'collide': 4532, 'waves': 20140, 'ripple': 15942, 'tide': 18639, 'lesleychappelle': 11221, 'ee8rpoahpk': 6392, 'cigarette': 4277, 'immediately': 9557, 'locked': 11473, 'jogger': 10284, 'worlds': 20520, 'awkward': 2488, 'qqc0gkbegs': 15164, 'efs300': 6415, 'zstuvsbqq0': 21264, 'trek': 18973, 'pluto': 14508, 'charon': 4125, 'gucci': 8451, 'chosen': 4233, 'shanghai': 16790, 'avenue': 2451, 'mkrxqzehmy': 12427, 'thunderstorm': 18619, 'masses': 11960, '2rtq9qmgpb': 495, 'singing': 16997, 'untill': 19464, 'fri': 7710, 'sat': 16433, 'pwjjimrfly': 15037, 'nlccollide': 13163, '3w0pxfyyri': 653, 'touchdown': 18850, 'madisonpa_': 11771, 'pierce': 14360, 'veil': 19734, 'bracelet': 3356, 'wristband': 20586, '6qc8whdizy': 988, 'inezzaes5d': 9682, 'soultech': 17359, '8xixbspot8': 1210, 'gassymexican': 7945, 'lpgfqnpjd3': 11591, 'realities': 15486, 'strange': 17755, 'glitch': 8160, 'mattcohen4fake': 11993, 'gamma': 7918, 'january': 10096, 'waits': 20038, 'witches': 20410, 'castle': 3929, 'supernatural': 17952, 'sibling': 16932, 'rivalry': 15959, 'wogc': 20466, 'izaknpjeqw': 9998, 'align': 1838, 'bowery': 3318, 'electric': 6470, 'mesgcngaz0': 12161, 'tackettdc': 18144, '4e2gjmvrvi': 726, 'tidalhifi': 18638, 'mzqq5pai8g': 12818, 'vancouver': 19678, 'host': 9125, '100s': 122, 'events': 6847, 'mutek_montreal': 12760, 'vjbhxn9x1o': 19883, 'isea2015': 9929, 'isle': 9941, 'tlc': 18715, 'suddenly': 17880, 'omb3os54tn': 13654, 'houston': 9147, 'pageparkescorp': 13973, 'chloeunguyen': 4212, 'laurensicle': 11088, 'charstevens97': 4127, 'tiara_marei': 18631, 'gemma': 7998, 'bowe': 3317, '9wowps78vd': 1335, 'collideworship_': 4534, 'powerful': 14652, 'vnzybfgzcm': 19905, 'thedoolinggroup': 18485, 'buses': 3609, 'åê': 21300, 'slams': 17111, 'bordento': 3284, 'yqhfio9xqm': 21039, 'coincide': 4509, 'finer': 7339, 'subatomic': 17851, 'spells': 17439, '2wcbrgn62j': 507, 'devia': 5643, 'ler': 11216, 'wattys2015': 20137, 'wattpad': 20136, 'teenfiction': 18331, 'g891m9gh4r': 7872, 'xq92x4bvg3': 20778, 'qdhxto57em': 15106, 'simple': 16982, 'cyclist': 5152, 'collided': 4533, 'runner': 16227, 'roanoke': 16003, 'greenway': 8355, '300000': 523, 'verdict': 19747, 'wgasoencwc': 20271, 'roanoketimes': 16004, 'lennonparham': 11206, 'jessica_stclair': 10183, 'gilmoreguysshow': 8112, 'podcast': 14541, 'ihave44episodesofgg': 9472, 'nojoke': 13205, 'redcoatjackpot': 15555, 'managed': 11839, 'targets': 18217, 'curse': 5100, 'selfie': 16657, 'ask': 2280, 'knomg9pfiz': 10809, 'portugal': 14607, 'suffered': 17886, 'injuries': 9724, 'newswatch': 13061, 'lock': 11469, 'lansdowne': 11036, 'sts': 17815, 'ptbo': 14942, 'emerg': 6536, 'lanjut': 11035, 'dirumah': 5766, 'yagitudeh': 20878, 'jake': 10065, 'rumah': 16219, 'cipinang': 4290, 'yilt1bb68k': 20974, 'femalegilgamesh': 7247, 'assault': 2300, 'useless': 19553, 'force': 7551, 'penetrate': 14206, 'scored': 16537, '111020': 146, 'punch': 14986, 'quest': 15208, 'squeaky': 17535, 'skull': 17088, 'aetgbxm1pl': 1633, 'pleasure': 14484, 'huzzah': 9273, 'molly_the_tanz': 12504, 'vermilion': 19751, '83bmprwh7w': 1135, 'glassanimals': 8151, 'slithering': 17151, 'viscous': 19858, 'gold': 8225, 'yeahs': 20921, 'erykah': 6751, 'badu': 2589, '7zb9gm5z0h': 1114, 'monsoon': 12532, 'rains': 15355, 'trains': 18919, 'a7zf6n7vrl': 1403, 'eau': 6331, 'claire': 4342, 'suv': 18019, 'sentenced': 16687, 'chippewa': 4208, 'kqpky7dthj': 10860, 'shotgun': 16896, 'denton': 5537, '0r03c6njli': 74, 'closes': 4409, 'highway': 8927, 'wheeler': 20292, 'ajtxuafoem': 1756, '688': 935, 'anna': 2007, 'y7peto0dx2': 20864, 'harwich': 8700, 'ljxce1qw2p': 11426, 'hadnt': 8581, 'butgod': 3625, 'mlg': 12434, 'ijustine': 9497, 'alaskaseafood': 1795, 'askforalaska': 2284, '2snyghaivs': 499, '26': 414, 'jmbvpanxr3': 10257, 'junction': 10414, 'beep': 2832, 'horn': 9104, 'ssp': 17559, 'aeg': 1627, '061': 23, 'driven': 6102, 'akram': 1772, 'carhot': 3874, 'exchanged': 6891, 'firing': 7373, 'air1bullet': 1734, 'tyre': 19215, 'posted': 14623, 'happily': 8657, 'monkey': 12524, 'heads': 8777, 'ninja': 13128, 'commence': 4583, 'pple': 14668, 'rescued': 15747, '200': 344, 'fishing': 7379, 'drob': 6113, 'dan': 5242, 'hughes': 9211, 'hurt': 9263, 'intersection': 9817, 'tpuu3eatb3': 18879, 'san': 16391, 'antonio': 2049, 'carted': 3905, 'room': 16095, 'guards': 8448, '4dbhono3rk': 724, 'mesick': 12164, 'bicyclist': 2978, 'a9gtopyzk8': 1407, 'constitutional': 4719, 'politic': 14565, 'gfa3sow9zn': 8052, 'justinbieber': 10435, 'harrystyles': 8693, 'cern': 4031, 'oo': 13694, 'harrybecareful': 8692, 'p4huqundqi': 13931, 'ybyp68ievn': 20908, 'journey': 10338, 'cows': 4883, 'restore': 15796, 'southwest': 17382, 'omaha': 13651, 'utility': 19582, 'pole': 14556, 'dan0gkx28l': 5243, 'stepkans': 17673, 'victoria': 19799, 'ingu6ztyg4': 9715, 'e2wfgp8jhk': 6273, 'pvris': 15029, 'collision': 4537, 'broadway': 3466, 'local': 11465, '2acrgdqhj0': 436, 'zojadelin': 21229, 'knob': 10802, 'sac': 16312, 'elkhorn': 6504, 'blvd': 3202, 'walerga': 20047, 'trfc': 18989, '1141': 148, 'enrt': 6651, 'w4ofcc99wq': 20014, 'g3': 7860, 'rainier': 15353, '15000270653': 199, 'b2': 2525, 'fremont': 7698, '52': 807, '15000270364': 198, 'florin': 7472, 'franklin': 7657, 'es1b3lyway': 6753, 'hwy401': 9287, 'eb': 6333, 'cambridge': 3762, 'opp': 13726, 'enroute': 6649, 'ag': 1677, 'fe': 7204, 'studebaker': 17822, 'inj': 9720, '6uhih9pbru': 998, 'rear': 15498, 'hk6nqrgedb': 8986, 'wlmsq3mtho': 20440, 'kenai': 10613, 'spur': 17514, 'hbbgy2vzyt': 8742, 'ozk1qhjvfh': 13916, 'baltimore': 2626, '54': 817, 'mchenry': 12044, 'tunnel': 19123, 'bore': 3288, 'nort': 13234, 'dilawri': 5737, 'vg7jnah0iw': 19772, 'kshsgwghfj': 10883, 'thisisfaz': 18558, 'kefxtjtakb': 10600, 'techesback': 18312, 'vpvj5hrc1i': 19948, 'bernardino': 2915, 'i10': 9312, 'eo': 6680, 'redlands': 15568, 'ft9kigmigh': 7752, '405': 671, 'southbound': 17374, 'coal': 4468, 'creek': 4955, 'i580': 9329, 'flynn': 7492, 'onr': 13685, 'in8lys7v5l': 9604, 'westminister': 20253, 'sr22': 17545, 'knott': 10810, 'eumlca1edw': 6817, 'innovation': 9737, 'sxqtyduvul': 18084, 'starting': 17622, '4000': 666, 'uppwxda4yd': 19496, 'valley': 19669, 'i405': 9325, 'us101': 19533, 'unkn': 19427, 'js9ehp88wq': 10369, 'missjadebrown': 12383, 'tragic': 18910, 'claimed': 4338, 'riding': 15912, 'rpda60aoni': 16149, 'fowlers': 7613, 'occupants': 13489, 'volunteer': 19929, 'joining': 10299, 'excite': 6893, 'ij0wq490cs': 9491, '2iafpmqjep': 461, 'sacramento': 16315, '5qhqo6ejtu': 874, '13pm': 182, 'mapleridge': 11877, 'lougheed': 11566, '203rd': 370, 'dewdney': 5655, 'eto': 6803, 'division': 5864, 'solano': 17289, 'sr37': 17546, 'skaggs': 17060, 'mylieruxk1': 12800, 'i5': 9328, '43rd': 688, 'offramp': 13557, 'ct9ejxolpu': 5044, 'cleared': 4364, 'qew': 15115, 'erie': 6737, 'approaching': 2125, 'niagara': 13089, 'removed': 15681, 'zl7ojdaj3u': 21213, '241cn8yxjq': 405, 'kierannicholson': 10695, 'ofr': 13568, 'gpxqbyzyu4': 8293, 'gadget': 7879, 'jtxji7ygrl': 10383, 'celestial': 4016, 'bodies': 3231, 'separate': 16692, 'trajectories': 18922, 'intertwine': 9822, 'ûïyou': 21352, 'warned': 20083, '4pqcmqchng': 762, 'grtvnews': 8412, 'rhett': 15876, 'motogp': 12602, 'indianapolis': 9650, 'espargaro': 6765, 'layout': 11107, 'worries': 20527, 'rny4l3sr7a': 15997, 'igx8xfz8ko': 9465, 'meinlcymbals': 12118, 'medium': 12096, 'endorsement': 6613, 'html5': 9188, 'beginners': 2844, 'y32owbrovf': 20851, 'vr2u4cerw8': 19951, 'slamming': 17110, 'lesson': 11224, 'learned': 11146, 'lover': 11579, 'sterlingknight': 17678, 'crashsterling': 4923, 'carmel': 3883, 'joeysterling': 10283, 'knight': 10799, 'daewony0406': 5205, 'alright': 1883, 'bestival': 2924, 'molloy': 12503, '21st': 388, 'bikr8zzbha': 3003, 'mm': 12441, '459': 697, 'value': 19672, 'source': 17368, 'st5fgblsye': 17566, '0uk0h9hozn': 87, 'h7ldx29aba': 8562, 'crash_______': 4919, 'f5ylp7pfn7': 7032, 'pikin': 14367, 'pascoe': 14085, 'vale': 19665, 'outbound': 13839, 'tullamarine': 19108, 'fwy': 7830, 'citylink': 4308, 'moreland': 12565, 'delays': 5477, 'rant': 15391, 'apparent': 2102, 'fans': 7117, '8000': 1119, 'xoxo': 20772, 'jq2ib1ob1x': 10355, 'cpanel': 4891, 'birkbje23e': 3040, 'buzwjmw49e': 3637, 'destinythegame': 5604, 'bungie': 3583, 'playstation': 14477, 'experiences': 6940, '_chelsdelong12': 1353, 'kendra_leigh13': 10615, 'josh': 10326, 'salyers': 16375, 'blair': 3098, 'jenna': 10168, 'prayers': 14694, 'bdn2fdpdaz': 2784, 'invited': 9856, 'feelin': 7225, '9hkxxbb82o': 1288, 'd2i9bl89zo': 5178, 'photoshop': 14333, 'tools': 18804, 'tool': 18803, 'guide': 8457, 'dunmvj7itl': 6200, 'rgdrjv63hf': 15866, 'cs6': 5032, 'cvgjfpbtrn': 5122, 'ugyegkfs4x': 19303, 'kinetic': 10728, 'typography': 19212, 'fl8gci84aj': 7410, 'dvonwiv3l1': 6230, 'heroin': 8871, 'ojoecw29qa': 13603, 'liable': 11270, 'akilah': 1766, 'vn2fnmy7li': 19902, 'barrington': 2685, 'hills': 8946, 'hoffman': 9017, 'estates': 6778, 'afte': 1666, 'b6nphxorzg': 2538, 'helmet': 8847, 'silvery': 16977, 'floors': 7465, 'karnal': 10542, 'sampling': 16388, '33': 548, 'pbcanpcx': 14146, 'scheer': 16513, 'huebel': 9202, 'flsa8mldsn': 7482, 'spicybreads': 17450, 'coxytown': 4885, 'downloading': 6028, 'tutorial': 19138, 'maj': 11811, 'muzzamil': 12766, 'offr': 13556, 'mi': 12235, 'mansehra': 11862, 'kl4r1ccwct': 10771, 'igxrqpotm7': 9466, 'avoiding': 2461, 'microlight': 12255, 'landi': 11016, '3kpbu6hgt5': 619, 'peritoengrafoscopia': 14231, '4am': 715, 'neil_eastwood77': 13007, 'knobhead': 10803, 'landing': 11017, 'duvuzhmvut': 6222, 'mfjxh4p51u': 12212, 'brianroemmele': 3419, 'ux': 19611, 'emv': 6584, 'insert': 9745, 'remove': 15680, 'pump': 14979, 'stripe': 17795, 'reader': 15469, 'pos': 14608, 'hamayun': 8616, 'shaheed': 16777, 'heli': 8834, '2z8ubsy5m8': 517, 'uk': 19320, 'fqj0squ3lg': 7636, '_rosewell': 1374, 'tu9cglmgvr': 19096, 'rochdale': 16028, 'heywood': 8885, 'ipod': 9887, 'weloveyoulouis': 20235, 'johndcgow': 10287, 'olliebailey11': 13641, 'havnt': 8727, 'windows10': 20368, '3fzidhqrk3': 602, 'intact': 9785, 'mh370': 12230, 'lifts': 11306, 'glided': 8158, 'sea': 16586, 'mjtn3qbgos': 12420, 'yahoofinance': 20883, 'bug': 3553, 'euro': 6820, 'kgkz50q8tk': 10658, 'restive': 15794, 'northwest': 13246, 'qv1rmzi3j1': 15235, 'x9mdhocpda': 20706, 'tuesday': 19104, 'knocked': 10805, 'yday': 20911, '2day': 447, 'asking': 2287, 'log': 11483, 'almighty': 1873, 'strength': 17775, 'bear': 2794, 'loss': 11554, 'ei1k01zab3': 6437, 'thief': 18543, 'hicksville': 8913, 'stole': 17713, 'phones': 14324, 'fled': 7434, '6odnbttpsq': 983, 'sources': 17369, 'persons': 14252, 'doctors': 5935, 'smusx16475': 17216, 'skype': 17099, 'faster': 7147, 'overtook': 13885, 'tru': 19050, 'luv': 11654, 'typing': 19211, 'ants': 2052, 'notes': 13260, 'honestly': 9075, 'nightmarish': 13118, 'places': 14439, 'parked': 14060, 'modestmouseremix': 12481, 'truestory': 19060, 'f496d': 7027, 'mhtw4fnet': 12234, 'ttw': 19093, 'bumzvmwam3': 3578, 'skh': 17070, 'ashton5sos': 2273, 'luke5sos': 11639, '8pdnhh6tzh': 1192, 'kuualohax': 10906, 'husband': 9266, 'posting': 14628, 'crush': 5019, 'womem': 20476, 'mommyisbomb': 12511, 'jorrynja': 10320, 'bf': 2944, 'ter_ell': 18380, 'wce': 20162, '_explicitpretty': 1359, 'cfxhqhvbvb': 4049, 'wedneday': 20206, 'taykreidler': 18249, 'loveyouuuu': 11581, 'aintsheperty': 1732, 'wemwdtfwic': 20237, 'bestfriends': 2921, 'yourboy_shawn': 21025, 'ina': 9605, 'buted': 3624, 'samel_samel': 16381, 'tbstk5vqu0': 18263, 'overrated': 13879, 'pydisney': 15043, 'justin': 10433, 'bieber': 2982, 'master0fsloths': 11964, 'szx6v0bbjf': 18110, 'fez': 7270, 'dave': 5311, 'an3w16c8f6': 1951, 'gorgeous': 8259, 'ycwaulqz3u': 20910, 'moe': 12491, 'bouta': 3313, 'mrrobinson': 12658, 'thesteveharveyshow': 18529, 'vibe': 19784, 'lively': 11403, 'vine': 19833, 'khadidon': 10662, 'asoopcygwn': 2290, 'yhngsjlg': 20964, 'tweeted': 19156, 'ioqm5bm1dg': 9872, 'starflame_girl': 17610, 'wen': 20238, 'z87zmi3ozs': 21118, 'marketingåêmediocrity': 11916, 'ilq0wqj0xs': 9531, 'aw1nytpwjr': 2470, 'realize': 15490, 'sevenfigz': 16736, '20b3pnqxmd': 373, 'fs4y1c9mnf': 7749, 'tiffanyfrizzell': 18644, 'raf732vrtt': 15326, 'nykaed_': 13398, 'mkjo8x2dko': 12424, 'jaureguiswisdom': 10115, 'ive': 9977, 'sooo': 17335, 'fitz': 7386, 'tantrums': 18205, 'pwd5l0glkv': 15035, 'cristianinspire': 4980, 'ixjqg1sx6u': 9989, 'playa': 14467, 'kenny': 10621, 'holland': 9032, 'crushed': 5020, 'popeyes': 14586, 'bhavana': 2959, 'ewnunp8hdo': 6867, 'kg5plkedhr': 10656, 'wrapup': 20575, 'cable': 3700, 'shares': 16806, 'disney': 5814, 'disappoints': 5777, 'qeihvn3dnq': 15110, 'jimmyfallon': 10227, 'squirrel': 17540, 'bones': 3259, 'mortar': 12581, 'pestle': 14257, 'bio': 3028, 'worstsummerjob': 20536, 'edwin': 6387, 'mango': 11851, 'crpo9dkw9v': 5009, 'charcoal': 4104, 'handled': 8633, 'stress': 17777, 'exceptionally': 6888, 'pressed': 14749, 'cor4': 4799, 'edwing': 6388, 'gym': 8525, 'flurry': 7487, 'clearly': 4365, 'priorities': 14793, 'wwfacu6nft': 20643, 'jmastrodonato': 10255, 'ortiz': 13796, 'bunting': 3584, 'forefathers': 7558, 'ouch': 13832, 'clelli': 4370, 'hopes': 9098, 'christ': 4247, 'km': 10779, '41': 677, 'nike': 13122, 'sportwatch': 17490, 'gps': 8289, 'nikeplus': 13123, 'a3dsmbqkwu': 1391, 'papi': 14035, 'jfjlbf40to': 10205, 'drivers': 6106, 'reap': 15497, 'qltwhojqya': 15143, '46': 702, '7d7vweq3es': 1066, 'nick': 13095, 'moly': 12506, 'ayekoradio': 2503, 'brasswork': 3376, 'agency': 1686, 'shaken': 16779, 'qh5axvhwh5': 15123, 'netlabel': 13029, 'electronicmusic': 6478, 'ccmusic': 3987, 'commenters': 4587, 'dothraki': 6011, 'westeros': 20251, 'underestimate': 19374, 'disillusioned': 5806, 'character': 4102, 'crowe': 5001, 'tropes': 19034, 'nora': 13225, 'jones': 10313, 'empire': 6569, 'x9ofv1kmv7': 20707, 'markwschaefer': 11923, 'chapoutier': 4100, 'crozes': 5008, 'hermitage': 8868, 'violets': 19846, 'slate': 17116, 'yum': 21069, 'wine': 20376, 'skvwn38hz7': 17090, 'thecomedyquote': 18479, '50shadezofgrey': 802, 'thirst': 18554, 'curfew': 5091, 'p45perez': 13928, 'ara': 2153, 'reporting': 15720, 'fighters': 7304, 'infiltrated': 9695, 'ashrafiyah': 2272, 'afrin': 1664, 'aim': 1728, 'attacks': 2363, 'ypg': 21033, 'imposed': 9581, 'keampurley': 10590, 'michelleellle': 12248, 'shut': 16925, 'spend': 17443, 'campus': 3787, 'y8orqapwrk': 20870, 'ejrme49rkd': 6451, 'teenagers': 18330, 'violations': 19841, 'stolen': 17714, 'bicycles': 2977, 'cus': 5103, 'overtime': 13884, 'stuck': 17819, 'kodak': 10823, 'bobbyxfisher': 3227, 'exofficio': 6922, 'brief': 3431, 'acb0ryenuo': 1488, 'wnd': 20454, '030': 13, 'cld': 4357, 'sct014': 16570, 'bkn032': 3080, 'inst': 9758, 'apch': 2080, 'rwy': 16259, 'oper': 13717, '2030': 369, 'taxiways': 18243, 'foxtrot': 7623, 'navbl': 12929, 'tmp': 18725, 'emaaalay': 6522, 'nope': 13223, 'tutor': 19137, 'preferably': 14715, 'aptly_engineerd': 2138, 'grove': 8402, 'emmychappy': 6559, 'clock': 4403, 'reddakushgodd': 15556, 'smfh': 17191, 'sg1ftkaegq': 16762, 'scotrail': 16541, 'blind': 3138, 'bloke': 3161, 'hassle': 8711, 'obligations': 13466, 'daviskawalya': 5326, 'mauryn143': 12005, 'final': 7325, 'goodbyes': 8236, 'graduated': 8305, 'stupid_niggr': 17838, 'cancel': 3796, 'cats': 3953, 'doctor': 5932, 'appointment': 2117, 'decided': 5401, '060': 22, 'damp': 5239, 'qnh': 15150, '1028': 126, 'pays': 14141, 'oldest': 13633, 'freedom': 7680, 'donthate': 5984, 'sct012': 16569, 'bkn025': 3079, 'rite': 15955, 'tlk': 18716, 'widout': 20332, 'nuh': 13343, 'fi': 7283, 'steal': 17650, 'di': 5681, 'itz': 9969, 'rubbery': 16195, 'knw': 10819, 'bc19': 2766, 'bark': 2677, 'unlocking': 19434, 'judge': 10391, 'dis': 5767, '5pm': 871, 'wonders': 20488, 'lim': 11337, '9pm': 1315, 'leh': 11188, 'oi6cmagasi': 13590, 'walter': 20059, 'rewatchingthepilot': 15851, 'teamscorpion': 18304, 'cyclone': 5154, 'annual': 2026, 'hoops': 9090, 'recruiting': 15548, 'photography': 14330, 'tjgxdc3d5p': 18703, '0215': 9, 'boltåêcyclone': 3247, '400dr': 668, 'outlet': 13850, 'packåêfor': 13961, 'mccauleysdesign': 12032, 'abysmaljoiner': 1482, 'dyamiplotke': 6245, 'purpose': 15011, '4k': 746, 'tropical': 19038, 'forming': 7581, 'guam': 8443, 'molave': 12498, 'jhaustin': 10209, 'ames': 1926, 'tribune': 18998, 'stw3pg3t0o': 17842, 'xhnews': 20742, 'retract': 15814, 'pam': 14004, 'tbbobvcotj': 18255, 'wordpressdotcom': 20502, 'condition': 4665, 'easton': 6324, 'softball': 17284, 'fastpitch': 7150, 'sk398': 17057, 'ra2majpkq2': 15302, 'y7ghhyk05b': 20862, 'severe': 16739, 'bulletin': 3566, 'typhoon': 19209, 'hannaph': 8646, 'soudelor': 17354, 'issued': 9949, 'qhwe5k7xuw': 15129, 'derives': 5569, 'powers': 14654, 'calm': 3753, 'norman': 13232, 'vincent': 19832, 'peale': 14183, 'roughdeal1': 16126, 'ante': 2036, 'hudhud': 9200, 'chandrababu': 4086, 'valle': 19667, 'ne': 12975, 'komen': 10829, 'devastates': 5633, 'fcujsioyqo': 7192, 'hanna': 8642, 'fqv47ob8ge': 7641, 'vanuatu': 19689, 'encouraged': 6600, 'afmkcfn1tl': 1653, '6qzxfk2lfs': 990, 'asks': 2288, 'tom': 18774, 'given': 8131, 'xqv6gzzmmn': 20786, 'cihc8nrc9h': 4280, 'talent': 18175, 'misdirection': 12359, 'ignite': 9456, 'vanishing': 19685, 'phantom': 14296, 'kurokobot': 10900, 'comdev': 4567, 'asia': 2275, 'stations': 17637, 'bangladesh': 2641, 'broadcasting': 3463, 'programs': 14834, 'address': 1580, 'upcoming': 19480, 'iovr4ymlkp': 9875, 'imperialism': 9572, 'spins': 17462, 'militarism': 12294, 'crushes': 5021, 'peoples': 14217, 'n3vbtc6nca': 12835, '1970': 259, 'mercury': 12155, 'moulding': 12611, 'core': 4803, 'cobra': 4480, '429cj': 684, 'jobvbvkfnz': 10272, 'c8zpmzhtde': 3689, 'passion': 14091, 'overblown': 13866, 'mmzgphnknp': 12452, 'majesty': 11812, 'emperor': 6568, 'salman': 16360, 'khan': 10665, 'unstoppable': 19457, 'bajrangi': 2611, 'bhaijaan': 2958, 'crosed': 4992, 'quarter': 15193, 'panel': 14016, 'trim': 19014, 'wqul8pg5px': 20568, '4ykxt3kd62': 786, '945hpa': 1241, 'maximum': 12010, 'speed': 17435, '45m': 699, 'gust': 8492, '60m': 901, 'nbd5ot9iew': 12951, 'cyclone_reizei': 5155, 'sama': 16377, 'jailed': 10061, 'fate': 7158, 'rindou': 15928, 'vroman': 19953, '5oqhq8quqv': 868, 'blending': 3130, 'emergencies': 6537, '8qqzyziaqf': 1197, 'wfp': 20267, 'delivers': 5486, '165000': 214, 'dhaka': 5673, 'ûòthe': 21355, 'na': 12851, 'fukbbedfgx': 7778, 'rohingya': 16054, 'kyee': 10926, 'nockthie': 13198, 'hamlet': 8619, 'taungbazar': 18237, 'buthidaung': 3626, 'severely': 16740, 'damaged': 5226, 'kasitaroch': 10554, 'vivianunhcr': 19877, 'cherry': 4164, 'outfit': 13848, 'ootd': 13707, 'doubleghats': 6015, 'jsuhupz6vp': 10376, 'n5vrffrbo3': 12839, 'thelegendblue': 18502, 'cozmo23': 4889, 'ascend': 2258, 'drop': 6119, 'unions': 19415, 'supportive': 17963, 'economically': 6351, '300m': 525, 'lw2fglrgxb': 11662, 'tbx8cakdrw': 18265, 'gta': 8430, 'collateral': 4525, '3460': 553, 'limestone': 11339, 'ln': 11449, 'yellowstone': 20937, 'fieldstone': 7294, '36': 559, 'fitness': 7383, 'knee': 10792, 'solution': 17302, 'pumbrnebje': 14977, 'complaining': 4628, 'phoenix': 14322, 'emblem': 6530, 'gigant': 8103, 'difficulty': 5726, 'capicapricapri': 3828, 'brento_bento': 3413, 'wha': 20278, 'ny35': 13387, 'writebothfists': 20588, 'windy': 20375, 'reusing': 15827, 'advanced': 1613, 'equipments': 6724, 'transit': 18935, 'drumming': 6140, 'champaign': 4077, 'fdbdp': 7195, 'indigo6e': 9661, 'carful': 3872, 'spotting': 17495, 'baggage': 2597, 'wy': 20663, '90l2lb5wmr': 1218, 'royals': 16145, 'outs': 13856, 'drothvader': 6124, 'cm_nevalistis': 4440, 'arachys': 2158, 'pieces': 14358, 'deals': 5375, '2500': 409, 'mages': 11780, 'fairy': 7085, 'tail': 18160, 'specialize': 17419, 'natsu': 12920, 'dragneel': 6051, 'bradleybrad47': 3361, 'af': 1636, 'upgraded': 19486, 'shitton': 16867, 'exclusively': 6899, 'playthrough': 14478, 'tree': 18969, 'falls': 7096, 'fence': 7251, 'homeowners': 9057, 'vlaiuvtomm': 19893, 'ajpnebg803': 1755, 'joedawg42': 10276, 'tor': 18814, 'enhanced': 6638, 'wording': 20500, 'key': 10643, 'imo': 9564, 'hfxstanfield': 8889, 'beelievedc': 2830, 'discoverycntr': 5792, 'contractor': 4747, 'swb1192': 18037, 'nda': 12964, 'offer': 13538, 'prolly': 14846, 'trillion': 19013, 'crosses': 4995, '3rd': 637, 'instant': 9766, 'np': 13292, 'metallica': 12182, 'inmates': 9730, 'remand': 15656, '1osmiuxkhw': 307, 'sectarian': 16617, 'shia': 16845, 'cleric': 4372, 'militias': 12297, 'withdraw': 20411, 'fightin': 7305, 'isis': 9933, 'uve': 19603, '0usdi5jcho': 88, 'xyg7jhrjof': 20834, 'wonderousallure': 20487, 'avu9b4k2rv': 2463, 'thesensualeye': 18526, 'model': 12473, 'cam': 3761, 'apr': 2132, 'pussy': 15018, 'boobs': 3266, 'asian': 2276, 'nude': 13336, 'roadway': 16001, '15901': 202, 'statesville': 17634, 'devil': 5646, 'vergil': 19749, 'agnus': 1697, 'dmd': 5909, 'leedstraif': 11163, 'zhrtcvu0ff': 21186, 'glaucoma': 8153, 'occurs': 13494, 'fluid': 7485, 'optic': 13738, 'nerve': 13021, 'eyefacts': 7004, 'jsunnews': 10377, 'madison': 11770, 'ar': 2152, 's7nbowa7tp': 16297, '3f7owdecy7': 600, 's61': 16295, '231a': 395, 'puncture': 14987, 'wound': 20542, 'foreign': 7560, 'index': 9642, 'initial': 9718, 'encounter': 6598, 'icd10': 9378, 'richarkkirkarch': 15891, 'ausinstarchitect': 2411, 'queenswharf': 15203, 'brisbane': 3447, 'jmkywhv7mp': 10260, 'financialreview': 7333, 'fuckboy': 7762, 'pseudojuuzo': 14924, 'michaelwestbiz': 12243, 'gettinglost': 8044, 'jennellensbb': 10170, 'muncle_jim': 12726, 'superficial': 17944, 'wounds': 20545, 'blizzheroes': 3150, 'dustinbrowder': 6212, 'constantly': 4716, 'frequently': 7702, 'danger': 5252, 'distraction': 5843, 'changes': 4091, 'wildlife': 20346, 'union': 19414, 'lhdcpnzx6a': 11262, 'release': 15639, 'blast': 3113, 'hbdo22nqpz': 8743, 'dyannbridges': 6246, 'yeshayad': 20946, 'rockin': 16034, 'preview': 14766, 'claytonbryant': 4356, 'ipgmf4ttdx': 9881, 'artistsunited': 2243, 'dry': 6148, 'thunderstorms': 18620, 'ugzu9iqprw': 19304, 'cawx': 3969, 'nwsbayarea': 13373, 'carsonrex': 3903, 'spaceangelseven': 17390, 'p0fizxmn5r': 13918, 'fish': 7378, 'eaten': 6328, 'poisoned': 14549, 'hskl0vq2d2': 9183, 'preservation': 14742, 'parks': 14063, 'imposition': 9583, 'african': 1658, 'imagined': 9543, 'gi2p9tuvbi': 8086, 'govt': 8280, 'concern': 4649, 'yx1ukbmtqb': 21083, 'grains': 8307, 'wheat': 20288, 'anger': 1987, 'trespass': 18985, 'lest': 11227, 'therealrittz': 18521, 'fettilootch': 7266, 'slanglucci': 17113, 'oppressions': 13734, 'moll5vd8yd': 12502, 'morehouse64': 12564, 'ethical': 6795, 'relevance': 15645, 'slides': 17136, 'especially': 6766, 'permits': 14237, 'hunting': 9252, 'outnumbering': 13852, 'licenses': 11288, 'fp64yosjwx': 7625, 'petersburg': 14269, 'riverroaming': 15963, 'bluebirddenver': 3189, 'uber': 19263, 'recent': 15523, 'nonprofit': 13214, 'partnerships': 14081, 'h1xch54kd3': 8545, 'turnedonfetaboo': 19132, 'hsjb215': 9182, 'e1wrvyzfkv': 6270, 'thetxi': 18535, 'gunnersfan89': 8483, 'ham': 8614, 'relegation': 15643, 'afc': 1638, 'remainontop': 15654, 'excitement': 6895, 'underwater': 19384, 'cave': 3967, 'diving': 5863, '8c3fploxcr': 1157, 'cbgz9xun2k': 3974, 'protection': 14888, 'dehydration': 5470, 'a5gnzbusqq': 1396, 'spider': 17451, 'someones': 17309, 'smth': 17212, 'critical': 4982, 'pundit': 14988, 'grave': 8326, 'rails': 15344, 'skyler': 17095, 'rest': 15789, 'yl67dkf4tb': 20984, 'investigate': 9846, 'robert': 16011, 'mueller': 12699, 'complaints': 4630, 'nov': 13280, 'pe2d3hcsni': 14175, 'modibo': 12483, 'maiga': 11799, 'fucktard': 7768, 'coyi': 4887, 'courage': 4860, 'engage': 6623, 'rgpem2tqej': 15870, 'remote': 15678, 'ki9ehjhl8y': 10678, 'silent0siris': 16967, 'norse': 13233, 'landscapes': 11022, 'loads': 11457, 'atmosphere': 2351, 'boring': 3291, 'snotgreen': 17242, 'wastelands': 20114, 'cjbanning': 4323, '4sake': 769, 'argsuppose': 2179, 'born': 3292, 'attained': 2364, 'individl': 9664, 'rights': 15921, 'courtof': 4868, 'law': 11094, 'forbids': 7550, 'goku': 8224, 'birb': 3037, 'naaa': 12854, 'legit': 11183, 'sore': 17343, 'j4fsdpfa63': 10016, 'luis': 11634, 'hhahaha': 8897, 'emmerdale': 6557, 'nd': 12963, 'attractive': 2379, 'named': 12870, 'soapscoop': 17261, 'yh': 20958, 'gailsimone': 7888, 'iwasdisappointedby': 9980, 'telltale': 18346, 'gameplay': 7911, 'hundreds': 9238, 'libyan': 11285, 'migrant': 12276, 'capsizes': 3837, 'rescue': 15746, 'mjoeebdlxn': 12418, 'fven1ex0ps': 7812, 'waved': 20139, 'misled': 12369, 'jones94kyle': 10314, 'sake': 16348, 'askcharley': 2281, 'flaming': 7418, 'stark': 17611, 'debate': 5386, 'perspectives': 14254, 'writings': 20593, 'contributions': 4752, 'study': 17827, 'fmu0fnumxf': 7496, 'aggryhvxkr': 1695, 'hlportal': 8998, 'download': 6027, 'kg4vaal': 10655, 'lmaov': 11442, 'trend': 18981, 'babalmao': 2554, 'nyozi': 13401, 'kwaaaaa': 10913, 'noooooooooooo': 13222, 'mikeparractor': 12282, 'bailed': 2605, 'nite': 13136, 'b4': 2533, 'taiwan': 18164, 'bhsuxvq6nf': 2963, 'moore': 12552, 'octnpyueei': 13503, 'val': 19663, 'suing': 17899, 'atchisonsean': 2332, 'wyrmwood': 20667, 'summerfate': 17910, 'bff': 2946, 'boys': 3338, 'otp': 13825, 'grandma': 8313, 'ssshhheeesshh': 17560, 'rep': 15702, 'vibrator': 19788, 'shaped': 16799, 'vape': 19690, 'busted': 3619, 'adult': 1608, 'plague': 14441, 'yohvuwumzs': 21003, 'console': 4713, 'ring': 15929, '5gktshiorr': 852, '9jeuu86koi': 1293, 'gainesville': 7891, 'ferguson': 7256, 'h9vmmdebdx': 8568, 'papiichampoo': 14037, 'era': 6726, 'civility': 4317, 'prez': 14770, 'supports': 17964, 'jpu3es746i': 10352, 'jeromekem': 10177, 'nq89drydbu': 13298, 'cousins': 4871, 'hang': 8638, 'rss': 16178, 'recognize': 15533, 'spouse': 17496, 'certificate': 4036, 'tziolfte5i': 19220, 'loyalty': 11589, 'involves': 9861, 'kicking': 10682, 'shitty': 16868, 'nobleman': 13195, 'elven': 6515, 'weirdo': 20227, 'lma39zrwoy': 11440, 'seemeth': 16636, 'unto': 19465, 'thereof': 18523, 'kellkane': 10607, 'narrowly': 12889, 'ecmujkkqx1': 6345, 'arianagrande': 2189, 'screamqueens': 16557, 'katherine': 10555, 'allahsfinest12': 1845, 'starve': 17627, 'bashes': 2701, 'comparison': 4618, 'iranians': 9897, 'shouting': 16904, 'cufgvupkzi': 5071, 'oifn28hpcs': 13593, 'punishable': 14990, 'uploading': 19494, 'smoochy': 17207, 'awakenings': 2476, 'clips': 4396, 'bicentennial': 2973, 'txetcysm1h': 19187, 'cyprus': 5162, 'analysis': 1955, 'mullah': 12710, 'omar': 13652, 'taliban': 18177, 'ranks': 15388, 'demise': 5504, 'ajkmcuswho': 1753, 'molys': 12507, 'slain': 17107, 'mexican': 12203, 'journalist': 10337, 'unknowingly': 19428, 'predicted': 14709, 'qxhowcv16r': 15255, 'breitbartnews': 3410, 'sedan': 16625, 'pusssssssssy': 15017, 'shoook': 16880, 'cecilthelion': 4005, 'postponed': 14629, 'fnmje8gf7m': 7500, 'nye8ae2ifr': 13395, '53': 811, 'marilyn': 11900, 'monroe': 12530, 'ripriprip': 15944, 'ari': 2184, 'hints': 8960, 'snippets': 17238, 'legionnaires': 11179, 'rises': 15950, 'nql21ajmiv': 13301, '18xq3fmuge': 244, 'vaxshill': 19700, 'deaths': 5383, 'measles': 12069, 'complications': 4637, 'looses': 11530, 'crickets': 4968, 'bigamist': 2986, 'pregnant': 14716, 'nephew': 13018, 'i77': 9335, 'airlift': 1740, 'lolgop': 11493, 'voter': 19939, 'fraud': 7661, 'vra50': 19952, 'palermo': 13994, 'shipwreck': 16860, 'tm9zbhjcyf': 18721, 'bsf': 3514, 'jawans': 10117, 'fidayeen': 7289, 'aks': 1773, 'insas': 9743, 'rifles': 15914, 'blame': 3104, '1lk1eqwyuw': 300, 'breast': 3402, 'milk': 12298, 'superfood': 17945, 'worldwide': 20523, 'stalled': 17587, 'contributing': 4751, '800000': 1120, 'pedestrians': 14190, 'bicyclists': 2979, 'runners': 16229, 'truediagnosis': 19058, '250k': 412, 'physician': 14337, 'dutyzqr2p7åê': 6221, 'oznsxxvx': 13917, 'cdcwhistleblower': 3995, 'dlaub2nvtn': 5892, 'foodborne': 7531, 'illness': 9520, 'frackfreelancs': 7645, 'dears': 5379, 'deccgovuk': 5396, 'frackfree_eu': 7644, 'tarleton_sophie': 18218, 'jsccx8k0ja': 10370, 'drfriedencdc': 6089, 'resistant': 15767, 'infections': 9688, 'niv8x5tbe0': 13140, 'adiossuperbacterias': 1586, 'irony': 9916, 'dbu30obdxz': 5340, 'strickskin': 17785, 'nickscomics': 13100, 'usually': 19568, 'objective': 13463, 'older': 13632, 'p8yr2po6jn': 13945, 'nghlth': 13079, 'xrja0xpl40': 20790, 'eazzy_p': 6332, 'beliefs': 2868, 'warranted': 20090, 'japs': 10100, 'focus': 7506, '6m0ynjwbc9': 974, 'constitute': 4718, 'epidemic': 6696, 'jblrrnmdsm': 10130, 'publichealth': 14955, 'napviygkyk': 12882, 'lunch': 11649, 'stewart': 17688, 'julian': 10400, 'earlier': 6299, 'anp9g6njfd': 2030, 'weyburn': 20261, 'warn': 20081, 'fentanyl': 7254, 'province': 14906, '8bqjtp6id5': 1156, '8kjs7zqajs': 1180, 'annoying': 2025, 'iladqebxpn': 9511, 'gregorysanders': 8364, 'usdot': 19550, 'stat': 17629, 'auto': 2432, 'applies': 2115, 'lightrail': 11318, 'cancers': 3801, 'equate': 6720, '25': 407, 'blackpool': 3095, 'kowing': 10845, 'signs': 16957, '5lnidvobff': 863, 'beclearoncancer': 2821, 'highqualitybird': 8925, 'reverse': 15840, 'specifically': 17427, 'utilized': 19583, 'chrissie': 4246, 'adam': 1565, 'finn': 7347, 'mathew_is_angry': 11985, 'z3ke_sk1': 21107, 'saladinahmed': 16353, 'fco': 7189, 'minister': 12331, 'tobias_ellwood': 18745, 'condemns': 4663, 'arabia': 2155, 'resulted': 15802, 'c3w95h0ozz': 3677, '11dvqjvxpo': 154, 'critters': 4985, 'dxkt2shuj2': 6241, '1940': 250, 'angela': 1981, 'sanders': 16398, 'roundhouse': 16129, 'increased': 9628, '13000': 178, 'percent': 14221, 'walmart': 20057, 'steps': 17675, 'innovative': 9738, 'z3nevglufm': 21108, 'beluga': 2884, 'seaworld': 16608, 'average': 2452, 'age': 1682, 'opseaworld': 13737, 'mzk5ujlfcv': 12815, 'mothe': 12593, 'rteugb5tnv': 16186, 'mayoroflondon': 12019, 'pls': 14499, 'compulsory': 4642, 'uses': 19556, 'notrocketscience': 13277, 'aerospace': 1630, 'exec': 6903, 'wing': 20379, 'th': 18438, 's2wm8lh7oo': 16286, 'malaysia': 11823, 'airlines': 1741, 'flight': 7447, '370': 568, 'disappeared': 5772, '17months': 229, 'nrhurysypd': 13310, 'mrvxbzywd4': 12662, 'discovered': 5790, '7fsn1gewux': 1070, 'q1glk8plud': 15065, 'confirms': 4681, 'washed': 20104, 'bmxsndx14g': 3211, 'hhwv0eudfv': 8905, 'floated': 7456, 'rì': 16277, 'york': 21012, 'pnnunrnqja': 14529, 'surely': 17973, 'gyqlaoz3l2': 8530, 'vfbw3nyo9l': 19770, 'disappearance': 5771, 'novel': 13283, 'otsm38xmas': 13829, 'relatives': 15634, 'discovery': 5791, 'dfyasvj7nf': 5662, 'nbcnightlynews': 12948, 'malaysian': 11825, 'billneelynbc': 3017, 'foutpwgfwy': 7612, 'najib': 12866, 'razak': 15427, 'isla': 9934, 'fk1l4nozig': 7400, 'exznmxbinj': 6998, 'r6kzsqdghz': 15293, 'zxcorq0a3a': 21283, 'f75qwyeeec': 7034, 'x3rcchkago': 20691, 'c5jutfxbm9': 3680, '6ime8kjacv': 967, 'ba4pusvjln': 2550, 'ys3walzvjg': 21052, 'kamindoz': 10521, 'xrdwr8cdvm': 20788, 'fxtffl4axy': 7836, 'belongs': 2881, 'jkc0diqvxc': 10240, 'breakth': 3401, 'mgyvglenks': 12226, 'onlinemh370': 13681, 'onlinea': 13679, '1beegwrsis': 276, 'scmp_news': 16532, 'drculiyp0t': 6072, 'rlftjmhhvt': 15987, 'kxy56fr8vm': 10923, 'onlin': 13677, 'n3lndjkyo3': 12833, 'interesting': 9802, '950xijhnvh': 1247, 'hes0bpu60y': 8875, 'dustpiggies': 6214, 'awash': 2480, 'abstract': 1473, 'dustpig': 6213, 'explains': 6950, 'deluge': 5493, 'xeni': 20731, 'nature': 12925, 'joshsternberg': 10330, 'feed': 7221, 'romeocrow': 16078, 'organizing': 13782, 'important': 9579, 'package': 13956, 'tours': 18861, 'yyeso': 21092, 'apologise': 2097, 'sincerely': 16993, 'inevitable': 9680, 'grudges': 8414, 'decide': 5400, 'unfollow': 19399, 'baking': 2616, 'cakes': 3729, 'nlm_dimrc': 13167, 'resources': 15773, 'floods': 7461, 'providers': 14905, 'workers': 20508, 'auoeyirqe6': 2407, 'towboat': 18863, 'sympathy': 18093, 'vtc': 19963, 'eaaqumkkc9': 6293, 'eulogies': 6816, 'whatsapp': 20287, 'tormented': 18820, 'matias': 11986, 'xavier': 20709, 'wa': 20021, 'smiles': 17194, '4yi4nuovbv': 785, 'yahoo7': 20881, 'delaying': 5476, 'fundamentals': 7787, 'valuations': 19671, 'stock': 17707, 'fwikyurc18': 7823, 'despite': 5597, 'cuana': 5054, 'minded': 12314, 'forrestmankins': 7587, 'camping': 3784, 's0vgtkhw7v': 16282, 'trois': 19026, 'rivieres': 15965, 'legionstrackandfield': 11181, 'pue5xnznqb': 14962, 'naked': 12868, 'normally': 13231, 'embrace': 6532, 'odd': 13508, 'torso': 18831, 'scale': 16491, 'unprecedented': 19440, 'theburnageblue': 18478, 'favs': 7176, 'torrent': 18829, 'client': 4383, 'recommended': 15537, 'java': 10116, 'swing': 18063, 'dynastic': 6253, 'period': 14228, 'yr8knephgu': 21045, 'dumuzid': 6194, 'shepherd': 16838, 'theghostparty': 18493, 'vines': 19834, 'encaustic': 6594, 'cerography': 4032, 'portion': 14604, 'byityf': 3650, 'i7ap1mes8m': 9336, 'surf': 17978, 'motion': 12597, 'therapy': 18519, 'programme': 14833, 'vjsaqpxngn': 19887, 'stephaniemarija': 17667, 'dressing': 6083, 'incessant': 9610, 'applied': 2114, 'exposed': 6970, 'childsexabuse': 4193, 'truly': 19061, 'bible': 2970, 'backs': 2570, 'unloads': 19432, 'descriptive': 5577, 'indecency': 9637, 'chuckswindoll': 4267, 'iflcanada': 9441, 'owners': 13903, 'differently': 5722, 'pt1': 14940, '9utqe9zfde': 1330, 'slew': 17132, 'posts': 14630, 'fixed': 7390, 'unfml': 19396, 'boyhaus': 3335, 'heaven': 8810, 'jakeåê': 10069, 'ûïafter': 21329, 'warm': 20077, 'montana': 12537, 'evening': 6845, 'fid3z4x3s5': 7288, 'ing': 9714, 'gishwhes': 8126, 'soaked': 17257, 'pads': 13969, 'tampons': 18194, 'mishacollins': 12366, 'fiendnikki': 7295, 'wrinkled': 20584, 'decayed': 5395, 'schelbertgeorg': 16514, 'teaching': 18292, 'ren': 15684, 'shadowman': 16775, 'monstrosities': 12535, 'tbpqlyfyot': 18259, 'hdckeposqc': 8758, 'hough_jeff': 9138, 'dougkessler': 6020, 'b2b': 2528, 'b2bagency': 2529, 'enqgtbaxuj': 6647, 'slideshare': 17137, 'contentmarketing': 4736, 'healing': 8781, 'translated': 18936, 'dmrsyeiqz3': 5913, 'vince': 19831, 'mcmahon': 12047, 'billionaire': 3013, '350': 555, 'ko0oz3ryfg': 10821, 'nfl': 13073, 'deflategate': 5464, 'incremental': 9634, 'caring': 3877, 'wanting': 20067, 'search': 16594, 'frustrated': 7744, 'quantit': 15187, 'û_https': 21310, '64cymg1ltg': 916, 'asae15': 2253, 'exhibitor': 6912, 'emails': 6525, 'r8ceprqxle': 15297, 'assnchat': 2311, 'meditationbymsg': 12093, '45600': 695, 'meditation': 12092, 'divine': 5862, 'blessing': 3133, 'peaceful': 14179, 'vmf5lnxvzc': 19897, 'canadian': 3792, 'themed': 18508, 'tops': 18812, 'timing': 18669, 'downright': 6030, 'novalismi': 13282, 'joseph': 10323, 'mallord': 11832, 'william': 20349, 'turner': 19133, 'shade': 16771, 'darkness': 5288, '1843': 236, 'clicca': 4379, 'sul': 17904, 'titolo': 18694, '458dtr3ulx': 696, 'tons': 18790, 'telemarketing': 18340, 'deluged': 5494, 'thewesterngaz': 18537, 'susinesses': 18005, 'invoices': 9858, 'stlnd': 17703, 'shape': 16798, 'glimpses': 8159, 'hyderabad': 9298, 'rainfall': 15351, 'dctv1ujlhc': 5348, 'qox1jnqsau': 15157, 'colo': 4541, 'lzkely': 11692, 'poorly': 14581, 'indie': 9656, 'fiction': 7287, 'teens': 18332, 'escaping': 6756, 'farms': 7135, 'ris': 15947, 'togthe': 18761, 'abe': 1442, 'image': 9538, 'quiz': 15222, 'xspqdoriqj': 20795, 'cqyvfr4ucy': 4899, 'invokces': 9859, 'lisatoddsutton': 11369, 'bcz': 2779, 'senate': 16668, 'murphy': 12737, 'republican': 15732, 'junk': 10418, '1pflm532mg': 311, '58qrugzvg0': 834, 'thesewphist': 18527, 'holds': 9025, 'fuckface': 7764, 'wineisdumb': 20378, 'com': 4559, 'spam': 17395, 'meant': 12068, 'tarp': 18220, 'protecting': 14887, 'outfield': 13847, 'moved': 12625, 'infield': 9694, 'inroices': 9740, 'squabble': 17532, 'immigration': 9560, 'eurotunnel': 6825, 'migrants': 12277, 'vf6cklmcsx': 19768, 'oup': 13835, 'invzices': 9863, 'sllikely': 17152, 'pileq': 14369, 'accionempresa': 1500, 'v1sfllowgh': 19627, 'gerenciatodos': 8032, 'qn4zyisspo': 15148, '3vwp7wd56w': 652, 'ogt': 13569, 'colomr': 4545, 'urs': 19527, 'valdes1978': 19664, 'testy': 18409, 'hatred': 8721, 'patience': 14108, 'alerts': 1814, 'savour': 16467, 'prolong': 14847, 'intensity': 9797, 'feelings': 7228, 'sigue': 16958, 'ant': 2035, 'capital': 3829, 'winged': 20380, 'insects': 9744, 'mnkoyz76cp': 12456, 'rand': 15372, 'strategy': 17760, 'demolish': 5510, 'qzdqrbr4lh': 15268, 'enugu': 6672, 'structures': 17808, 'international': 9809, 'daqszzubub': 5278, 'mskn6d3ekh': 12672, 'doone': 5990, 'architects': 2164, 'permission': 14236, 'birmingham': 3041, 'natwest': 12926, 'tallest': 18187, 'createdunique23': 4941, 'keren_serpa': 10627, 'arianareed11': 2190, 'pcinc8ytfh': 14161, 'ce': 4000, 'w56cf75mxe': 20015, 'badotweet': 2587, 'kirkmin': 10740, 'barthubbuch': 2689, 'weei': 20213, 'bait': 2609, 'patriot': 14117, 'hater': 8718, 'brady': 3362, 'etoffe': 6804, 'charmeuse': 4122, 'clothesless': 4417, 'precisionistic': 14705, 'vestment': 19762, 'psfda': 14926, '7k5shaiqiw': 1080, 'ouylwuixcs': 13861, 'xgn_infinity': 20738, 'ronin_carbon': 16088, 'hahah': 8585, 'preset': 14744, 'bal': 2617, 'nades': 12856, 'radar': 15316, 'boundaries': 3308, 'unconsciously': 19369, 'negative': 12996, 'midget': 12267, 'inspiration': 9755, 'abbswinston': 1432, 'zionist': 21196, 'jordan': 10319, 'rg3bndkxjx': 15863, 'bq90pfzmrp': 3349, 'mariomaraczi': 11906, 'freaked': 7664, 'akwa': 1775, 'ibom': 9369, 'uruan': 19530, 'ex': 6868, 'assembly': 2301, 'udom': 19284, 'emmanuel': 6556, '1cnw6nska5': 278, 'articles': 2237, 'laundry': 11081, '6supthaece': 994, 'kp': 10847, 'root': 16099, 'absurdly': 1475, 'manhood': 11852, 'vtp8i8qlen': 19964, 'avigdorliberman': 2458, 'susiya': 18006, 'beheadings': 2854, 'li8otxt8hh': 11268, 'sks5jccrj2': 17087, 'postal': 14620, 'sell': 16659, '7mepkbf9e8': 1086, 'xcgzc45gys': 20719, 'murlo': 12736, 'android': 1971, 'tribez': 18997, 'pbclfsxrld': 14147, 'androidgames': 1972, 'gameinsight': 7909, 'jolly_jinu': 10308, 'babri': 2559, 'todayhave': 18748, 'revenge': 15836, 'businessman': 3616, 'foiled': 7509, 'troupe': 19042, 'racial': 15313, 'breakdancers': 3391, 'orianna': 13784, 'xd': 20722, 'ghostwriting': 8081, 'rihanna': 15925, 'k2bzuatuks': 10475, 'arin': 2191, 'gummy': 8473, 'grumpout': 8416, 'srsly': 17553, 'partner': 14080, 'dribbling': 6090, 'nostrils': 13254, 'urself': 19528, 'embarrassment': 6528, 'charminar': 4123, 'engineers': 6629, 'opinion': 13723, 'telangana': 18336, 'beastin': 2800, 'tapas': 18208, 'folk': 7514, 'funtimes': 7800, 'demolished': 5511, 'jxuepkmkrh': 10459, '64oz': 917, 'jar': 10103, 'colts': 4555, 'patriots': 14118, 'whine': 20298, 'integrity': 9789, 'cantmakeitup': 3818, 'patriotsnation': 14119, 'tpw5gpmhq4': 18880, 'flunkie': 7486, 'angusmacneilsnp': 1992, 'embarrassed': 6526, 'indy': 9675, '_stiiilo': 1375, 'gamer': 7912, 'backtoback': 2571, 'chargedup': 4107, 'media420': 12082, 'papicongress': 14036, 'journo': 10340, 'pragnik': 14686, 'spring': 17504, 'saddlebrooke': 16319, 'kbstrxnhup': 10571, 'sounders': 17362, 'finish': 7343, 'meerkat': 12102, 'periscope': 14229, 'snowball': 17244, 'b8n6e4ryvz': 2544, 'splottdave': 17474, 'teampalestina': 18302, '28700': 426, '1967': 258, 'home2': 9047, 'suites': 17903, 'salvi': 16374, 'bistro': 3046, 'paobghv3c7': 14029, 'bbsnews': 2764, 'palestinians': 13997, 'kidnapped': 10690, 'hebron': 8817, 'gne1fw0xhe': 8193, 'david5fernandez': 5313, 'theblaze': 18473, 'election': 6467, 'vcjcykq8b8': 19712, 'stallion150': 17588, 'kbeastx': 10570, 'genisys': 8013, 'hibdw7d7ja': 8910, 'imullbvued': 9601, '1pxpoqktjo': 313, 'jackmulholland1': 10043, 'marquis': 11930, 'carlos': 3881, '9lpf4v4hmq': 1300, 'unrecognized': 19447, 'arab': 2154, 'ik8m4yi9t4': 9503, 'epa': 6688, 'demolition': 5513, 'norkxbrs6g': 13229, 'davidvonderhaar': 5323, 'youd': 21017, 'bo3': 3218, 'selection': 16653, 'consistently': 4712, '637rc3qc8d': 913, 'tegajmr8il': 18334, 'freestyles': 7691, 'maxsys': 12011, 'halifax': 8608, 'qtizcbww7g': 15178, 'metrotown': 12201, 'resulting': 15803, 'maintained': 11809, 'apartments': 2077, 'burnaby': 3594, 'changefortheworse': 4089, 'factors': 7062, 'noxdv': 13290, 'remaining': 15653, 'sections': 16619, 'greystone': 8371, 'psychiatric': 14934, '85885473': 1140, 'lzljzzkcfa': 11694, 'witnessed': 20418, 'psa': 14919, '159': 201, 'burton': 3604, 'fjddx43ewj': 7396, 'messnermatthew': 12176, 'newcity': 13042, 'mistakes': 12390, 'frog': 7730, '2002': 348, '81neizeknm': 1128, 'flint': 7449, 'michigan': 12249, 'metropolis': 12199, 'highsmith': 8926, 'zvobmdxhgp': 21277, 'd3ctni8qit': 5181, 'der': 5559, 'abbruchsimulator': 1431, 'waterways': 20132, 'achimota': 1522, '233liveonline': 397, 'io7kuug1uq': 9867, 'delmont': 5488, 'onion': 13676, 'purchased': 15004, 'yojkfqej6s': 21005, 'czallstarwes': 5167, 'nmgp7imeii': 13173, 'demolition_d': 5514, 'grill': 8377, 'fkn': 7405, 'pleb': 14485, 'ffa': 7271, 'foodstand': 7534, 'fairgrounds': 7082, 'finishing': 7345, '9am': 1267, 'appreciated': 2121, 'demo': 5505, 'kenosha': 10622, 'mentalhealthgov': 12146, 'ahhhhh': 1714, 'alec': 1810, 'med': 12078, 'tort': 18832, 'comp': 4613, 'injustice': 9726, 'mh': 12228, 'qejedwsfdg': 15111, 'samajp32': 16378, 'tone': 18786, 'weight': 20222, 'soonersportstv': 17334, 'cont': 4725, '2o7eva1coe': 484, 'giveaway': 8129, 'kit': 10750, 'dren': 6080, 'fhkhcqpl7j': 7281, 'kaduna': 10503, '77ciwxabva': 1047, 'û_t': 21312, 'paint': 13981, 'treyarch': 18988, 'quarters': 15194, 'detains': 5615, 'xuub2hbli5': 20808, 'h5epx2d1ga': 8556, '4cpnbbzkzg': 722, 'orcas': 13762, 'widespread': 20331, '65xr1p9soo': 921, 'zhejiang': 21181, 'removal': 15679, '1200': 157, '8picbkdjm0': 1193, 'jose': 10321, 'willow': 20357, 'glen': 8155, 'trestle': 18986, 'battles': 2734, 't4axz7kc3s': 18118, 'canberra': 3795, 'mr': 12650, 'fluffy': 7484, 'b77t2qxdcs': 2540, 'intriguing': 9832, 'dominant': 5967, 'jobbing': 10269, '1xssvgimvb': 336, 'shantaeskyy': 16796, 'enemy': 6620, 'derail': 5560, 'destiny': 5603, 'blessings': 3134, 'imtygds5qo': 9600, 'wmata': 20442, 'morn': 12574, 'uhl0akfvsm': 19311, 'sms': 17211, 'modelbubbles': 12474, 'emiiliexirwin': 6544, 'birth': 3042, 'blaming': 3107, 'bv': 3639, 'bloomberg': 3170, 'publish': 14958, 'activities': 1553, 'remain': 15652, 'unite': 19418, 'freesikhpoliticalprisnors': 7688, 'bapusuratsingh': 2658, 'rail': 15339, 'madhya': 11768, 'pradesh': 14685, 'wgmzmj5imd': 20274, 'gridlock': 8374, 'pm2tnnfdww': 14512, 'temecafreeman': 18351, 'simultaneous': 16990, '4kbwpcmmbm': 748, 'fu1btuq1et': 7760, 'alllivesmatter': 1859, 'incredibly': 9632, 'necessary': 12986, 'thejenmorillo': 18499, 'dallas': 5221, 'ao4ju9vmmf': 2064, 'gloriavelez': 8171, 'tubestrike': 19102, 'mood': 12547, 'pisco': 14402, 'coya': 4886, 'ppekbqdcnc': 14664, 'smithsonian': 17198, 'wsjthinktank': 20608, 'colleenmnelson': 4529, 'campaign': 3776, 'xyxtuaczvb': 20840, 'wmutcdg36b': 20450, 'kamayani': 10519, 'janata': 10087, 'gratia': 8325, 'announced': 2021, '6sdtzsgelq': 992, 'various': 19694, 'bid': 2980, 'zhsll7swbh': 21187, 'buyout': 3636, 'giants': 8091, '6bn': 945, 'worldpay': 20519, 'ipo': 9886, 'skyåênews': 17104, '94gjskur0r': 1242, 'dozens': 6037, 'zkkn6mse1n': 21211, 'fzhjf8bxld': 7848, 'b0zwi0qptu': 2520, '2fs649qdwx': 454, 'renamed': 15685, 'italian': 9952, 'goonda': 8249, 'motley': 12601, 'hooligans': 9089, 'selfavowed': 16656, 'crooks': 4991, 'determined': 5619, 'mzmandilynn': 12816, 'indiahttp': 9646, 'informationng': 9710, '309943': 527, 'establishment': 6776, 'donzilla': 5986, 'realdonaldtrump': 15478, 'trump2016': 19064, 'xvaoqo4egr': 20812, 'rushlimbaugh': 16238, 'democrats': 5509, 'clintons': 4394, 'meddling': 12080, 'meisnkv5tb': 12119, 'judgement': 10392, 'mpc': 12638, 'recovery': 15546, 'fvlgu1nayr': 7813, 'ohmygoshi': 13584, 'unsuckdcmetro': 19459, 'metrobus': 12196, 'derailed': 5561, '7cehnv3dky': 1062, 'fox5newsdc': 7615, 'adani': 1570, 'modi': 12482, 'backed': 2564, 'sje59u2nnm': 17048, 'yahoonews': 20884, 'tip': 18681, 'updates': 19483, 'subject': 17855, 'jozerphine': 10344, 'everythign': 6858, 'federal': 7217, 'sw': 18024, 'mcpherson': 12050, 'worthless': 20538, 'trustymclusty': 19071, 'passengers': 14089, 'commute': 4610, 'fcked': 7188, 'crocodile': 4990, 'wash': 20101, 'gravy': 8332, 'kidscompany': 10693, 'bcpmvylsih': 2774, 'epic_insanity': 6693, 'grimrail': 8382, 'depot': 5549, 'passenger': 14088, 'derails': 5564, 'blcbabm7a1': 3124, 'stury': 17840, 'note': 13258, 'illustration': 9528, 'qyn6kxjstl': 15262, 'subway': 17870, 'freeing': 7684, 'newidea': 13045, 'title': 18693, 'whoa': 20313, 'chief': 4181, 'requa': 15737, '1000': 113, '2000': 345, 'identitytheft': 9412, 'taxreturn': 18245, 'cleaning': 4361, 'cri': 4966, 'gxqwd1qzbd': 8522, 'lines': 11354, 'reopen': 15697, 'cqnow': 4898, 'breakfast': 3393, 'links': 11359, 'suspending': 18012, 'ser': 16702, 'id4qgqdnjq': 9401, 'eve': 6843, 'jon': 10309, 'honored': 9079, 'crippling': 4977, 'starbs': 17605, 'ls': 11603, 'barely': 2674, 'adamtuss': 1569, 'wheel': 20291, 'climbing': 4391, '2007': 352, 'mt': 12679, 'vern': 19753, 'sq': 17524, 'episodes': 6704, 'nigh': 13113, 'bobbyofhomewood': 3226, 'joxroundtable': 10341, 'dropping': 6122, 'si': 16930, 'top25': 18809, 'relief': 15646, 'janta': 10095, 'reaches': 15460, 'firstpostin': 7377, 'cznxhutasx': 5170, 'mess': 12167, 'closest': 4410, 'qyx5thkrbh': 15264, 'joelsherman1': 10279, 'dw': 6231, 'chipper': 4207, 'cools': 4779, 'durban': 6206, 'abnzqwlig1': 1457, 'robertwelch': 16018, 'cutlery': 5115, 'offers': 13539, 'bq8kyi7gng': 3348, 'gnzwxqktam': 8199, 'railed': 15340, 'deepthoughts': 5438, 'biker': 3002, 'beatdown': 2803, 'nypdnews': 13404, 'undercover': 19373, 'ihhrkg4v1s': 9475, 'aryu5qngjj': 2250, 'itsqueenbaby': 9965, 'cnn': 4453, 'mmiye1k8zz': 12447, 'derailed_benchmark': 5562, 'paths': 14107, 'wonder': 20482, 'leaks': 11141, 'resque': 15788, 'gerryconnolly': 8037, 'repdonbeyer': 15708, 'timkaine': 18670, 'debacle': 5385, 'mgr': 12222, 'ohyayyyyay': 13587, 'resumed': 15805, 'garfield': 7934, 'residual': 15762, 'railway': 15345, 'jdkqc12tid': 10146, 'fctrawjcyl': 7191, 'ndtv': 12971, 'freakiest': 7665, 'freak': 7663, 'uhxodsc7wi': 19313, 'teamfollowback': 18297, 'followback': 7517, 'modiministry': 12485, 'yvmphd0z9x': 21077, '61st': 908, 'calumet': 3759, 'struck': 17805, 'chicagoscanner': 4178, 'consent': 4703, 'csx': 5040, 'knoxville': 10818, 'sentinel': 16689, 'giesomgwtr': 8097, 'nmfsgkf1za': 13172, 'villagers': 19825, 'ltyefjdm3a': 11617, 'indiatv': 9654, '0la1aw9uud': 61, 'greateranglia': 8342, 'cow': 4877, 'fault': 7161, 'fd': 7193, 'cins': 4289, 'tg': 18430, 'raishimi33': 15359, 'applaud': 2110, 'prabhu': 14678, 'ocxbwgyft8': 13504, 'indi': 9644, 'ildbeje225': 9512, 'indiannews': 9651, 'alvinnelson07': 1896, 'withstand': 20415, 'collisions': 4538, 'immediate': 9556, '4y4ytwhd74': 784, 'suresh': 17974, 'harda': 8669, 'ignored': 9462, 'regr': 15613, 'q5mlbodvm4': 15077, 'twin': 19171, 'dnu5hwsxo2': 5924, 'mumbai24x7': 12720, 'helping': 8850, 'ttes': 19091, 'charge': 4105, 'helpline': 8851, 'anxious': 2057, 'ind': 9635, 'tuaryijpqu': 19098, 'cedcugeuws': 4007, 'topstories': 18813, 'sjxllzosw7': 17056, 'bagef9lfgt': 2596, 'bvxqa3kfrx': 3641, 'cuvkf5ykax': 5119, 'cottage': 4838, '4d9cd4mnvh': 723, 'unhqcq6bex': 19408, 'tl41olpakz': 18713, 'yh5vetm0yz': 20960, '17wgug8z0m': 231, 'cta': 5045, 'ctafails': 5046, '1udz0nvoeh': 325, 'deepest': 5436, 'condolences': 4670, 'mishap': 12367, 'officeofrg': 13542, '63rd': 914, 'prairie': 14687, 'zz5udilrea': 21288, 'xszx9mwxyp': 20800, 'b9kuylcxg4': 2546, 'mumbaitimes': 12723, 'roadworks': 16002, 'tube': 19100, 'disruptive': 5834, 'desolate': 5590, 'tottenham': 18848, 'perceive': 14220, 'faintly': 7078, 'sputtering': 17519, 'vast': 19697, 'glacier': 8146, 'eternity': 6789, 'gyrsi': 8531, 'danielkemp6': 5259, 'likened': 11327, '39': 577, 'producer': 14820, 'garden': 7931, 'fel4qhwyfd': 7238, 'ib': 9362, 'sauldale305': 16451, 'naturalexample': 12923, 'tl29lnu44o': 18712, 'transformed': 18931, 'thriving': 18599, 'hub': 9197, 'ûótech': 21361, 'onthisday': 13688, 'mayflower': 12014, 'sail': 16340, 'laphamsquart': 11040, 'ssn1mxsfoa': 17558, 'fw8elbnap7': 7821, 'jusreign': 10425, 'hxm8c8e33d': 9289, 'hav': 8724, 'attitude': 2376, 'sht': 16918, 'atl': 2341, 'fran': 7651, 'r3do': 15281, 'hdv3zirbci': 8763, 'soundcloud': 17361, 'swells': 18055, 'twcds433yi': 19149, 'daniel': 5258, 'sacrifice': 16316, 'abomination': 1461, 'maketh': 11818, 'corleonedaboss': 4808, 'significance': 16954, 'unexercised': 19392, 'honda': 9072, 'neighborhood': 13002, 'psqd': 14932, 'mallelis': 11831, 'gotten': 8269, 'mason': 11954, 'dixon': 5868, 'electro': 6473, 'violin': 19847, 'binellithresa': 3025, 'uan05tnksw': 19258, 'brutally': 3507, 'mum': 12718, 'psalm34': 14920, 'redeemeth': 15561, 'servants': 16712, 'joshacagan': 10328, 'stack': 17574, 'dvds': 6227, 'fotofill': 7601, 'booksbyroger': 3271, 'l9mb2j5pxg': 10965, 'bill_roose': 3006, 'depressing': 5552, 'pilgrims': 14372, 'unimpressed': 19412, 'pw5dst9roz': 15032, 'mirad': 12351, 'c6lgtotvsf': 3683, 'antichrist': 2044, 'desecrates': 5578, 'jerusalem': 10181, 'matt': 11989, 'risky': 15954, 'costly': 4835, 'e9yfe3p7p1': 6292, '8gzbgmmaa1': 1166, 'm9yda5k6jf': 11741, 'spyro': 17523, 'texture': 18417, 'hacks': 8579, 'stockholm': 17708, 'copperfields': 4794, '6un7xc9sve': 999, 'ep03': 6686, 'desolation': 5591, 'finalise': 7327, 'alt': 1887, 'comingsoon': 4579, 'photoset': 14332, 'littlebitofbass': 11392, 'silinski': 16969, 'sheeran': 16827, 'onåê': 13693, 'hobbit': 9010, 'smaug': 17182, 'premiere': 14720, 'iosthxlcyv': 9873, 'thranduil': 18585, 'figure': 7309, 'loose': 11528, 'mirkwood': 12353, 'nyel2buaro': 13396, '2zgiupn06t': 518, 'theconspiracytheory': 18480, 'newep': 13043, 'break': 3390, 'tangled': 18198, 'djdewd13wr': 5874, 'isai': 9925, 'psm': 14928, '138': 180, 'conspiracy': 4714, 'scattered': 16505, 'freediscountbks': 7679, 'axvqldtehc': 2498, 'thriller': 18598, 'suspense': 18013, 'amreading': 1941, 'kurtkamka': 10903, 'coyotes': 4888, 'lizards': 11418, 'ariz': 2192, '0z1pvjvdpf': 109, 'uv': 19601, 'digital': 5731, 'gin': 8114, 'mjfdcrjs8j': 12416, 'listia': 11379, 'josephus': 10325, 'antiochus': 2047, 'epiphanes': 6700, 'fwj9ccyw6k': 7824, 'panic': 14017, 'despair': 5593, 'jamessnyder22': 10078, 'sgxb6e5yda': 16765, 'redo': 15569, 'nails': 12865, 'ayyy': 2510, '57': 827, 'lamb': 11001, 'intro': 9833, 'hd': 8755, 'lem5z1nfk3': 11195, 'trouble': 19039, 'persistent': 14245, 'fastings': 7149, 'forth': 7592, 'wox3vprixq': 20549, 'nikostar': 13127, 'lakes': 10997, 'abject': 1451, 'restaurants': 15792, 'letters': 11235, 'theatres': 18469, 'sudden': 17879, 'wicked': 20326, 'cometh': 4572, 'thy': 18627, 'bp597yds2b': 3342, 'oxrwrjzmnu': 13909, 'k2tbes65oa': 10476, 'fotoset': 7602, 'elanorofrohan': 6461, '10th': 140, 'december': 5398, 'carpet': 3894, 'zurich': 21275, 'bq3p7n7w06': 3347, 'effect': 6405, 'alcoholism': 1808, 'addiction': 1576, '31tgtlz3ya': 542, 'forgiving': 7574, 'c7rco2emwf': 3686, 'ghe': 8072, 'orshow': 13795, 'loop': 11526, 'n2ucnzh38p': 12831, 'vu8fwymw5r': 19966, 'kaiseiw': 10508, 'desperation': 5595, 'dislocation': 5809, 'separation': 16694, 'condemnation': 4661, 'revelation': 15835, 'temptation': 18362, 'isolation': 9945, 'bilingual': 3005, 'g5do2x6226': 7864, 'tumblr': 19112, '93dm6gnwwc': 1236, 'necro': 12989, 'interviews': 9827, 'agalloch': 1680, 'imagini': 9545, 'noi': 13201, 'clipuri': 4398, 'j6cfwukofe': 10022, 'cliptv': 4397, 'desolationofsmaug': 5592, 'poze': 14657, 'thehobbit': 18497, 'sow': 17384, 'ixw2cutk1c': 9991, 'masse': 11959, 'backlash': 2567, 'fajbxz5kar': 7087, 'fandom': 7113, 'futurea': 7810, 'totalitarian': 18840, 'employs': 6573, 'firemen': 7364, 'literature': 11387, 'drfkarlz1d': 6088, 'rebahe': 15503, 'zenande_mcfen': 21164, 'ndzedze': 12974, 'ashes2ashes': 2268, 'ginga': 8115, 'defeat': 5443, 'drago': 6052, 'ops': 13736, 'hunted': 9248, 'snd': 17229, 'competitive': 4625, 'multiplayer': 12716, 'ss1zl36y9v': 17555, 'dilutional': 5741, 'institutionalize': 9773, 'sued': 17883, 'slander': 17112, 'z9zj3kxwyu': 21124, 'shantae': 16793, 'smash': 17180, 'wii': 20338, 'shantaeforsmash': 16794, 'shantaehalfgeniehero': 16795, 'nintendo': 13130, 'zztbvjypn1': 21292, 'ng2x5': 13076, 'meme': 12131, 'baiting': 2610, 'camper': 3780, 'foxsportscom': 7622, 'anthonys': 2040, 'everytime': 6859, 'asleep': 2289, 'raidersreporter': 15338, '957thegame': 1248, 'galaxy': 7897, 'flatliners': 7425, 'creativity': 4948, 'longevity': 11514, 'lucifer': 11624, 'wcfpznsn9u': 20163, 'magnets': 11789, 'btus5jejuy': 3524, 'zrtfxluk6r': 21256, 'nicolekidman': 13103, 'oprah': 13735, 'grubbing': 8413, 'kikes': 10704, 'cluei': 4430, 'telekinesis': 18339, 'yiayplan': 20971, 'amiibos': 1931, 'path': 14103, 'bets': 2933, 'boylesports': 3337, 'casino': 3923, 'zildpvknxp': 21190, '5ydb4s13pf': 891, 'petchary': 14260, 'displeased': 5829, 'spots': 17494, 'congrats': 4687, 'reggaeboyz': 15606, 'cameronciletti': 3768, 'tigersjostun': 18646, 'crackdown': 4903, 'servers': 16716, 'copped': 4791, 'eur': 6819, 'bwin': 3644, 'sikkg0fphr': 16962, 'jfyfzddlrn': 10207, 'sarniamakchris': 16428, 'hromadske': 9171, 'kasiadear33': 10551, 'silly': 16970, 'reg': 15600, 'competitiveness': 4626, 'saturated': 16443, 'brockton': 3470, '12m': 169, 'regc': 15604, 'commonwealth': 4605, 'ppc': 14663, 'beconfident': 2822, 'weaknesses': 20180, 'zaynmalik': 21146, 'brbrs': 3383, 'fousey': 7610, '2hours': 458, 'wactt18gda': 20025, 'tryna': 19076, 'sj': 17046, 'gist': 8127, '148': 190, 'produce': 14818, 'dkrgs2awex': 5889, 'streetjamzdotnet': 17772, 'mr9kcgpiwm': 12652, 'childhood': 4188, 'msmigot': 12674, 'convincing': 4770, 'compelling': 4620, 'deniers': 5529, 'tend': 18363, 'preschool': 14735, 'hunger': 9240, 'riches': 15893, 'decrease': 5420, 'moth': 12592, 'sapphirescallop': 16421, 'oppa': 13727, 'haaaaaa': 8571, 'dazzle': 5335, 'catch': 3941, 'monwabisi': 12546, 'hlongwane': 8997, 'ryt': 16269, 'twins': 19172, 'ashestoashes': 2269, 'engineermatarai': 6628, 'ate': 2334, 'mataas': 11972, 'kc': 10573, 'rating': 15411, 'ratings': 15412, 'elgeotaofeeq': 6491, 'ambition': 1912, 'voted': 19937, 'justicemalala': 10430, 'nkeajresq': 13156, 'nkea': 13155, 'gambia': 7905, 'mercenary': 12154, 'stocks': 17709, 'foxa': 7616, 'cmcsa': 4441, 'sni': 17233, 'amcx': 1916, 'viab': 19783, 'twx': 19183, 'aqinavl1b6': 2146, '3941': 581, 'swim': 18060, 'lonely': 11504, 'lifeguard': 11296, 'hated': 8717, 'paztdblgyk': 14142, 'alanhahn': 1786, 'hdumpty39': 8762, 'daughtery': 5309, 'emotionally': 6564, 'rants': 15392, 'factual': 7066, 'basis': 2707, '_reddevil4life_': 1373, 'donå': 5987, 'illusions': 9525, 'fn': 7497, 'everydaynaija': 6856, 'nonm8c6l8p': 13213, 'reportedly': 15718, 'ut': 19572, 'bdsgf1cfax': 2786, '3967': 584, '3942': 582, 'customs': 5109, '319': 540, 'phew': 14304, 'meats': 12073, 'incinerator': 9616, 'pulkovo': 14970, 'grenade': 8366, 'hoes': 9016, 'careers': 3867, 'freemurphy': 7687, 'hitchhiking': 8980, 'bot': 3298, 'sorely': 17344, 'kee1tytz15': 10592, 'semasirtalks': 16663, 'namekians': 12871, 'ryanoss123': 16263, 'hitters': 8982, 'pitchers': 14410, 'ethereal': 6792, 'abomb': 1460, 'destroyd': 5606, 'survived': 17998, 'dlgnuuuuyn': 5894, 'cnv': 4459, 'vigils': 19818, 'jvkyzndtja': 10446, 'jixscpmdud': 10235, 'davidvitter': 5322, '2003': 349, '3945': 583, 'zaire2005': 21135, 'mulruifnn1': 12712, 'specialguest': 17416, 'crapgamer': 4917, 'recap': 15518, 'gamescom': 7916, 'porn': 14595, 'milf': 12288, 'oiled': 13597, 'size': 17042, 'cock': 4484, 'closeup': 4412, 'faogxkwdpg': 7124, '3934': 579, 'silas': 16963, 'sliced': 17133, 'headlinelike': 8773, 'chopped': 4225, 'cabbage': 3697, 'gh': 8071, 'harbhajan_singh': 8666, 'stuartbroad8': 17818, 'stuart': 17817, 'broad': 3461, 'yuvi': 21075, 'ford': 7554, 'drives': 6107, 'ixjjlp1lvo': 9988, '3939': 580, 'frontlines': 7733, 'abuses': 1479, 'tydxauuenq': 19201, 'ontario': 13687, 'plant': 14456, 'developer': 5637, 'hld5xlywbn': 8994, 'restricted': 15799, 'demonstratio': 5520, 'lmwkjsycgj': 11448, 'danhrothschild': 5256, 'greed': 8346, 'takecare': 18167, 'cinla1964': 4288, 'windowgatribble': 20366, 'contrasts': 4749, 'foreboding': 7555, 'expansive': 6931, 'divisions': 5865, 'saturation': 16444, 'hue': 9201, 'sanctioned': 16394, 'qbmcsjavt0': 15096, 'homebuyer': 9049, 'miscalculation': 12358, 'mwjcdk': 12778, 'fly': 7490, 'workspace': 20514, 'forsee': 7588, 'badkitty': 2585, 'thisiswhywecanthavenicethings': 18562, 'lt3dave': 11611, 'specs': 17429, 'lore': 11540, 'salvages': 16372, 'banned': 2651, 'border': 3285, '7b2wf6ovfk': 1059, 'styled': 17844, 'undergroundbestsellers': 19376, 'dili5jhmur': 5738, 'decree': 5422, 'imported': 9580, 'ukraine': 19325, 'independent': 9640, 'k3pnnktlxh': 10479, 'divided': 5861, 'matthew': 11996, 'megadeth': 12109, 'symphony': 18094, 'xzfxrglalp': 20842, 'planners': 14453, 'singled': 16999, 'b5okgpspbh': 2536, 'thingsihate': 18548, 'hassanrouhani': 8710, 'doomed': 5988, 'invest': 9844, 'gwesgeszxv': 8510, 'blossominglilac': 3174, 'ruined': 16208, 'arrogant': 2223, 'ecd7hizja1': 6342, 'n08qluornx': 12822, 'tux0ypwzur': 19141, 'appetite': 2109, 'alexeivolkov1': 1820, 'mcfaul': 12040, 'equal': 6716, 'roskomnadzor': 16110, 'ridiculously': 15911, 'politicized': 14568, 'ztyzhbvzqp': 21270, 'bonn1egreer': 3262, 'propelled': 14867, 'piles': 14370, 'wb': 20148, 'marquei': 11928, 'como': 4612, 'visto': 19868, '1x1': 333, 'vjlnskbg86': 19886, 'bancodeseries': 2631, 'illegally': 9517, 'r6jdj9kigm': 15292, 'imaginable': 9541, 'gs50ddg1jy': 8421, 'tinyjecht': 18679, 'detonate': 5622, 'antioch': 2045, 'tenn': 18365, 'tennessean': 18366, 'eb74iieiwn': 6334, 'apollo': 2094, 'ft': 7750, 'omfgv9ma1w': 13658, '4bcqzqjrzn': 718, 'furiosoxv': 7802, 'stuns': 17836, 'aw': 2469, 'spinningbot': 17461, 'mythgriy': 12809, 'touch': 18849, 'fllabzgcrc': 7453, 'boulder': 3304, 'stearns': 17656, '7cadm3lnko': 1061, 'h1xigcen7f': 8546, 'jtw': 10382, 'ceiao1texr': 4010, 'bldrcosheriff': 3125, 'cbsdenver': 3981, 'heavyweight': 8815, 'rapping': 15400, 'lemon': 11199, 'y217ceeemd': 20848, 'no_periferico': 13188, 'm7na4skfwr': 11729, 'orapinforma': 13760, '214904': 384, '139055': 181, 'hilversum': 8949, 'meters': 12189, 'surface': 17980, 'optic_scumper': 13739, 'channelstv': 4097, 'intel': 9790, 'jn8s0drwbp': 10263, 'hhbu': 8898, 'mello': 12122, 'projeavg8t': 14840, 'h9fsiaxv3q': 8565, 'woundedpigeon': 20544, 's9soaevcvo': 16301, 'apollobrown': 2095, 'mwnhappy': 12781, 'message': 12168, 'grandeur': 8311, 'gfdhfmpcel': 8053, 'nottingham': 13278, 'autumn': 2438, 'km8ucihrrn': 10780, 'autoames': 2433, 'hoped': 9093, 'ventilated': 19744, 'bandolier': 2634, 'dix': 5866, 'nljvp3vfyz': 13165, 'fiya': 7392, 'sourmashnumber7': 17370, 'tomfromireland': 18780, 'rfcgeom66': 15857, 'bbctalkback': 2754, 'succeed': 17871, 'zdtz3rbs6w': 21161, 'åêm': 21303, 'jd7rik7fx0': 10142, 'h6ngsw9a5b': 8558, 'ûïdetonate': 21333, 'href': 9168, 'wnowfvcbms': 20456, 'jxwojxqndc': 10460, 'featuring': 7214, 'm1xykecrzr': 11705, 'ignition': 9458, 'knock': 10804, 'detonation': 5625, 'sensor': 16684, 'senso': 16683, 'fits': 7384, 'mazda': 12021, '0l': 60, 'v6': 19640, 'c8uxkizwm6': 3688, 'snxgh9r16u': 17254, 'connector': 4695, 'connecto': 4694, 'motorcraft': 12604, 'wpt': 20561, '994': 1262, 'h2ahxpch0y': 8548, 'vq3vwxj8yu': 19949, 'ks161': 10874, 'wadpp69lwj': 20026, 'yjth2nabv5': 20978, 'ks57': 10876, 'bzzdedcthl': 3664, 'oqjnuyibxm': 13753, 'ks94': 10878, 'ihphzckm41': 9477, 'wuicdttuhf': 20624, 'dorman': 6006, '917': 1225, '033': 14, 'wxces39zte': 20657, 'pygkssscfr': 15046, 'quotes': 15232, 'esteemed': 6780, 'belt': 2882, 'regarding': 15602, 'esevu': 6759, 'emzn4spwnk': 6586, 'sqfp6ecz0i': 17525, 'googlemaps': 8247, 'mashup': 11951, 'calculates': 3735, 'methods': 12191, 'touching': 18852, 'obtaing': 13481, 'rank': 15385, 'electrical': 6471, 'transcription': 18928, 'butiqob': 3627, '01': 7, 'bmw': 3208, '325ci': 546, '5l': 862, 'l6': 10954, 'gbvdnczjou': 7974, 'c211hise0r': 3673, 'dy1ersdcrh': 6244, 'm4cpmxmurk': 11715, 'delphi': 5489, 'as10004': 2252, 'lmrkgporcf': 11446, '6wadnmstov': 1004, '410': 678, 'bsmj2hvgwd': 3517, 'bxalnedy49': 3646, 'beck': 2818, 'arnley': 2209, '158': 200, '0853': 29, 'odmx36wdhm': 13515, 'gaheujruju': 7885, 'realistic': 15485, 'assets': 2305, 'entering': 6659, 'koz': 10846, '9zrqmd8ngz': 1342, 'smp': 17210, 'ks315': 10875, 'apvlh7hj1o': 2140, '1ljntejgmb': 299, 'ks100': 10872, '7o4lnfbe7k': 1095, 'fvzsgjtbew': 7818, 'waterproof': 20128, 'weiqin': 20225, 'famous': 7108, 'brand': 3370, 'michel': 12244, 'lujo': 11636, '1jgsioujas': 294, '719tzeyhfn': 1021, '1017': 124, 'ryobyqjfce': 16267, 'lw9o2kdk18': 11663, 'acdelco': 1511, '213': 383, '924': 1230, 'hpzhe0cjvf': 9157, 'saohvjktqc': 16420, 'trivium': 19023, 'rrusa': 16165, 'cubdnsnuvt': 5057, 'appy': 2131, 'myths': 12810, 'obscuring': 13473, 'salon': 16363, 'dlp8kpkt2k': 5900, 'fashionable': 7145, 'mountaineering': 12615, 'couples': 4859, 'leisure': 11192, 'tab': 18139, '7dyoglhmre': 1067, 'hkm3rtd4zf': 8990, '4678': 705, 'o2jd4tbrwa': 13423, 'jfx6qiyivf': 10206, '02': 8, 'acura': 1560, 'rsx': 16180, 'l4': 10947, 'vzaiqamdcp': 19995, 'ycecn44c8p': 20909, 'ucawg59ulj': 19267, 'enqdfbjump': 6646, '141': 188, 'rfjzexqgxt': 15859, 'wqgsmioimx': 20564, 'e61x9y65qd': 6281, 'ovlet0gdqm': 13894, 'consequences': 4705, 'icrc': 9390, 'bkh7z6cwwl': 3078, '97': 1256, '250': 408, '6l': 971, 'v8': 19645, 'cudkryuuan': 5066, 'dkozymvy5l': 5887, 'ks111': 10873, 'nxleiijfgs': 13379, 'xsgwm5zxpd': 20794, 'meganbee92': 12112, 'kadiegrr': 10502, 'devastated': 5632, 'tyler': 19204, 'blackburns': 3089, 'pll': 14491, 'currensy': 5096, 'talkin': 18182, 'anybody': 2059, 'ûïrichmond': 21345, 'jam': 10070, 'y5yhbb0hkf': 20860, 'malik': 11828, 'perrie': 14240, 'edwards': 6385, 'engagement': 6625, 'gedoxsppl9': 7989, 'aczruorytd': 1562, 'gujaratriot': 8466, 'mumbairiot92': 12722, '93': 1235, 'indianperpetrated': 9652, 'chawalchorbjp': 4137, 'un_women': 19351, 'unnewsteam': 19436, 'losdelsonido': 11548, 'declares': 5411, 'saipan': 16346, 'declaration': 5409, 'ma': 11742, 'ivanberroa': 9976, 'barack': 2661, 'declared': 5410, '4k8olzv9bv': 747, '9nyxjndora': 1311, 'marians': 11897, 'jcszcjihlh': 10141, 'shkimonmlw': 16871, '1i19cuov7l': 293, 'dialta6t69': 5688, 'u8ykr63b1g': 19248, 'k9cd0efvut': 10490, 'a1moejxqya': 1382, 'foto': 7600, 'ûïlove': 21338, 't5agps7t2b': 18121, 'isnt': 9943, 'realised': 15483, 'actor': 1555, 'rossbarton': 16112, 'goodbye': 8235, 'gobsmacked': 8207, 'bairstow': 2608, 'buffet': 3549, 'ticket': 18633, 'lad': 10979, 'abcnews': 1439, 'mg5eajelul': 12220, 'indoors': 9670, 'arfur': 2173, 'georgecole': 8024, 'argentings': 2177, 'aaaaaaallll': 1411, 'ûªm': 21322, 'm6lvkxl9ii': 11725, 'allegations': 1848, 'keegan172': 10594, 'cain': 3722, 'aussies': 2414, 'xdt4vhfn7b': 20725, 'wesleylowery': 20246, 'devastation': 5634, 'utter': 19588, 'shock': 16873, 'alternatives': 1891, 'zwvyisyp2b': 21281, 'kalmikya': 10518, 'astrakhan': 2321, 'volgagrad': 19924, 'dagestan': 5207, 'locusts': 11480, '79fw9zwxtp': 1050, 'timeworld': 18667, 'struggles': 17811, 'wrought': 20604, 'pms4pmur0q': 14521, 'obsolete': 13478, 'ashes2015': 2267, 'a7tjawwtj7': 1402, 'iqowzgvznl': 9892, 'latestnews': 11063, 'cnbc': 4447, 'ohndh2ri0v': 13586, 'itbj6dkrzi': 9955, 'cllrraymogford': 4399, 'comprehensive': 4641, 'wartime': 20099, 'wroug': 20603, 'efsa6pbemc': 6416, 'ssssnell': 17561, 'factor': 7061, 'ropes': 16100, 'angers': 1988, 'ag65u29sgo': 1678, 'decades': 5393, 'plo2qkrwhu': 14494, 'ltvvpflsg8': 11616, 'hungerarticles': 9241, 'nepal': 13016, 'rebuilding': 15512, 'livelihoods': 11402, 'quake': 15183, 'lrouwjmbix': 11599, '5wfxbaqmbk': 888, '1erd2fpryp': 286, 'breaches': 3387, 'ek6kyhxpe9': 6453, 'yn6nxoucr1': 20995, 'pam_palmater': 14005, 'perrybellegarde': 14241, 'pmharper': 14518, 'firstnations': 7376, 'idlenomore': 9420, 'cndpoli': 4449, 'yyj': 21093, 'argentina': 2175, 'm2y9ym3if6': 11709, 'bs6xaqhsim': 3513, 'thorium': 18574, 'scandals': 16496, 'murders': 12734, 'environmental': 6675, 'mly7sdn6ev': 12440, 'gxgm1t3w0j': 8520, 'elation': 6462, 'pumxlvlsgm': 14984, 'o6aa0nwlha': 13428, 'targ56igbz': 18212, 'hint': 8957, 'beyondthebomb': 2943, '3nkculgvmw': 624, 'fascinating': 7143, 'korea': 10834, 'propaganda': 14865, 'e2dbcpwd9u': 6271, '10m': 136, 'settlement': 16733, 'illustrations': 9529, 'jurors': 10422, '2baxg1wdpp': 442, 'vfctrzaok2': 19771, 'newyear': 13062, 'yuo7jdnijx': 21071, '2006': 351, 'gid6jqn8ug': 8094, 'starbucks': 17607, 'momneedscoffee': 12513, 'iwontmakeit': 9984, 'terms': 18384, 'pandemic': 14013, 'nbcvbso9nm': 12950, 'blasting': 3115, 'benediction': 2891, 'sanelesstheory': 16405, 'sigeeq42cz': 16946, 'urgent': 19520, '5cm0lfzhxn': 843, 'jakartapost': 10064, 'vcv73buacz': 19715, 'lovelylikelaura': 11575, 'msf_sea': 12669, 'mediterranean': 12095, 'massgrave': 11961, 'm0utldif77': 11700, 'mclaughlin': 12046, 'tim_a_roberts': 18655, 'nana': 12876, 'restlessness': 15795, 'strengthening': 17776, 'afterhaiyan': 1667, 'ga14egplw9': 7875, 'haiyan': 8600, 'yolandaph': 21006, 'philippines': 14314, 'livelihood': 11401, 'disasterrecovery': 5780, 'qm5sz0fyu8': 15144, 'staining': 17584, 'attempt': 2365, 'budmke3nnf': 3544, 'cw500': 5128, 'jq9nj6gko3': 10356, 'return': 15818, 'listeria': 11378, 'theneeds': 18511, 'f56v61ampt': 7030, 'jeff': 10162, 'locke': 11471, 'pirates': 14399, 'acquired': 1533, 'starter': 17620, 'blowltan': 3180, 'metepec': 12187, 'oficial': 13566, 'nitclub': 13135, 'mì¼sica': 12820, 'wtfjf9jjzs': 20617, 'cinema': 4286, 'tdhn9zy0er': 18282, 'vitaly': 19872, 'churkin': 4272, 'briliantly': 3440, 'exposes': 6971, 'klimkin': 10774, 'mh17': 12229, 'tt4kvmvujq': 19089, 'slipped': 17146, 'zhgu8ye1bj': 21183, 'insurer': 9781, 'lack': 10978, 'sdgoutwntb': 16580, 'architect': 2163, 'hollyorange8': 9034, 'emotions': 6565, 'iron': 9911, 'fist': 7380, 'gurmeetramrahim': 8490, 'msgdoing111welfareworks': 12670, 'ke': 10586, 'appx': 2130, '65000': 920, 'har': 8661, 'liye': 11416, 'tyar': 19199, 'hai': 8589, 'cncpts': 4448, 'solelinks': 17296, 'amznfavorites': 1949, 'devereaux': 5640, 'exciting': 6896, 'scifi': 16530, 'mw9ambgafq': 12774, 'askin': 2286, '4rtpjrhsqe': 766, 'rbcinsurance': 15436, 'quote': 15229, 'browsers': 3494, 'machines': 11756, 'existant': 6915, 'photogenic': 14326, 'gosh': 8261, 'atåêcinema': 2381, '5ng0fzpvds': 867, '94sxki7kvx': 1243, 'pitch': 14407, 'playoffs': 14474, 'positively': 14611, 'van': 19677, 'nuys': 13361, '30pm': 534, 'fxux987vzx': 7837, 'vannuyscouncil': 19686, 'youssefyamani': 21026, 'equation': 6721, 'recipe': 15526, 'sittwe': 17036, 'cgf61fpmr0': 4052, 'prison': 14795, 'conditions': 4666, 'genocide': 8016, 'ihhen': 9474, 'msf': 12668, 'refugees': 15592, 'boarding': 3220, 'galleria': 7899, 'apts': 2139, '55': 822, 'nmpn2mqzge': 13175, 'strategicpatience': 17758, 'idp': 9425, 'internally': 9808, '8owc41fmbr': 1191, '1200000': 160, '11000000': 145, 'prci76howu': 14697, 'rtcufag0au': 16185, 'gsa4o1mjnm': 8423, 'conditionsprivation': 4667, 'i5ma6ewuwc': 9332, 'lizhphoto': 11420, 'outburst': 13843, 'aggression': 1692, 'sux': 18021, '12news': 171, 'housed': 9142, '90th': 1220, 'osborn': 13803, 'extinguished': 6990, 'openly': 13715, 'accuses': 1509, 'nema': 13010, 'materials': 11983, 'idps': 9426, 'wom': 20473, 'khd99oz7u3': 10666, 'i_amtalia': 9342, 'sgc72': 16763, 'opportunity': 13728, '2065': 371, 'opened': 13712, 'museum': 12743, 'memes': 12133, 'origins': 13788, 'expert': 6944, 'xlzwtzgqtc': 20761, '180': 233, 'reliefweb': 15647, '0abgfglh7x': 34, '9000': 1213, 'photographs': 14329, '1800': 234, 'mandate': 11845, 'trace': 18888, 'x8i0mhyrmn': 20701, 'rqwuoy1fm4': 16162, 'circular': 4294, 'ruins': 16210, 'od2ratxrqs': 13506, '4roisyxjlw': 765, '3r8qozjt7t': 636, 'teq7sri57p': 18379, 'qegmrhsms2': 15109, 'gn': 8191, 'nm': 13169, 'yejt18sbm0': 20929, 'rcqacn91be': 15445, 'diplomat': 5750, 'v0yrfh9dkc': 19625, 'township': 18869, 'uelz59wvom': 19290, 'pennlive': 14212, 'mechanicsburg': 12077, 'ohyd7hhcpe': 13588, 'systematic': 18102, 'torture': 18833, 'carried': 3898, 'grahamwp': 8306, 'arrest': 2214, 'phelimkine': 14302, '8go68kje4b': 1164, '0krw1zyahm': 59, '6ysbcsszys': 1010, 'chart': 4128, 'wvlah8jrxe': 20631, 'refugeesmatter': 15593, 'oez7o9ab2c': 13525, 'cityofhummus': 4310, 'ilnewsflash': 9530, 'diasporas': 5697, 'elem': 6480, 'pomo': 14574, 'dydfvz7amj': 6247, 'gofundme': 8217, 'disasters': 5781, 'label': 10970, 'kjmgteeklp': 10759, 'nevada': 13032, 'exceptional': 6887, 'steady': 17648, 'nv': 13362, 'nyo1xuebfa': 13400, 'droughtgov': 6126, 'w0a1mjorhy': 20004, '8jvqi9uspl': 1176, 'fe9hivfmxq': 7205, 'affect': 1640, 'extreme': 6994, 'dampen': 5240, 'fdzzumyw8i': 7203, 'llf': 11437, 'oqeq4uegf8': 13751, 'vymnrnsthg': 19990, '1mvsqg0xke': 305, 'nigerians': 13110, '5uoophsqu3': 886, 'makewaterwork': 11819, 'okanagan': 13611, 'maxed': 12008, 'txrbdaubnn': 19191, 'ue78c7egox': 19288, 'westerncanadadrought': 20250, 'jevrcwudpm': 10194, 'relentless': 15644, '91å': 1228, 'humidity': 9232, 'dominicana': 5969, 'treasures': 18960, 'drains': 6057, 'kah1kmtrj7': 10505, 'columbia': 4556, 'trib': 18994, 'suspended': 18011, 'sep': 16691, 'r4yzhxk7lw': 15287, 'cloud': 4420, 'iot': 9874, 'conserve': 4708, 'nnv3zwvant': 13185, 'gfrost1985': 8056, 'jeffpalmer16': 10164, 'finding': 7336, 'customers': 5107, 'ego': 6425, 'dqsvyusy': 6042, 'worsen': 20532, 'surrounding': 17991, 'olzavtjfkh': 13650, 'weed': 20212, '2sz7okjrxi': 500, 'droughtmonitor': 6127, 'moderate': 12476, 'contig': 4739, 'affects': 1643, '80m': 1124, 'ybe9jqoznr': 20903, '328szfletz': 547, 'neat': 12984, 'uaodoquda1': 19259, 'pizza': 14422, 'couldn': 4843, 'karinagarciaxo_': 10538, 'bud': 3537, 'californians': 3748, 'sahel': 16336, 'desert': 5579, 'chore': 4230, 'ysg9vsrt4g': 21054, 'drops': 6123, 'anderson': 1967, 'scwx': 16575, 'meets': 12106, 'fueled': 7773, 'rkdzb0tgc3': 15984, 'spreading': 17501, 'rapidly': 15397, 'macon': 11762, 'warnerrobins': 20084, 'milledgeville': 12301, 'gawx': 7953, 'phnez60cwe': 14320, '_ashj': 1349, 'v4br5gjmiy': 19632, '_gaabyx': 1361, 'activist': 1552, 'mydrought': 12793, 'bringing': 3444, '2zvhx41i9v': 520, 'mkqsvp8e0g': 12426, 'ml8irhwg7o': 12432, 'eerie': 6399, 'revealing': 15831, 'cadrought': 3711, 'lakeisabella': 10996, 'jpanzar': 10350, 'pvexbiiqsk': 15026, 'mane': 11849, 'raiders': 15337, 'karijobe': 10537, 'loud': 11563, 'tambourine': 18190, 'codycarnes': 4495, 'ag_usa': 1679, 'gecko': 7988, 'chillin': 4199, 'wxela91juh': 20658, 'anchors': 1962, 'porcupine': 14594, 'iylvzy3cob': 9993, 'lowkey': 11586, 'acmrm833zq': 1527, 'chromsucks': 4259, 'choke': 4218, 'tube4nbqnz': 19101, 'sjoeing76t': 17053, 'cameronhigdon34': 3770, 'demons': 5518, 'graysondolan': 8335, 'lwilliams_13': 11667, 'ev': 6826, 'cortneymo_': 4823, 'buffs': 3552, 'oaqtjawgxg': 13452, 'jasminehuerta24': 10109, 'mustard': 12756, 'native': 12915, 'australians': 2420, 'oceans': 13497, 'created': 4940, 'urine': 19524, 'insults': 9778, 'devote': 5650, 'pride': 14774, 'reprocussions': 15729, 'retroactive': 15817, 'noise': 13203, 'memory': 12137, 'whiskey': 20303, 'nathan': 12909, 'potentially': 14634, 'jonesboro': 10316, 'horizon': 9103, 'information': 9709, 'utp': 19586, '7vsqqsvgni': 1110, 'sorrows': 17348, 'brb': 3382, 'kessily': 10634, 'allthekidneybeansandsorbet4misha': 1869, '_dmerida': 1356, 'drowned': 6131, 'nataly': 12905, 'steak': 17649, 'cheer': 4149, 'clev': 4374, 'cleverbot': 4377, '7s1gfnebgt': 1103, 'ursula': 19529, 'drool': 6117, 'protoshoggoth': 14897, 'sort': 17351, 'kiddie': 10685, 'ploppy': 14495, 'moa0q0aufa': 12462, 'memorial': 12135, 'nkou7zwwrt': 13159, 'gamergate': 7914, 'uhf7nyabsw': 19307, 'stephen_georg': 17669, 'yellows': 20936, '0sa6xx1oq7': 79, 'abcnews24': 1440, 'peterdutton_mp': 14265, 'labor': 10972, 'fnaf': 7498, 'fanfiction': 7114, 'trixie_drowned': 19024, 'pageshi': 13975, 'proxies': 14910, '366nhtg3tz': 564, 'promo': 14852, 'vox99fwkcx': 19943, 'dw_english': 6232, 'cubc0nq6fd': 5056, 'ufo4ublogeurope': 19293, 'ashley': 2271, 'existence': 6916, 'riwup1rbhu': 15966, '86pknkchmr': 1144, 't4pv0nroov': 18120, 'pseylyzck4': 14925, 'visting': 19867, 'georgina': 8028, 'rat': 15407, 'cafe': 3715, 'pylfb3ti9u': 15048, 'emotion': 6562, '_itsdanie_': 1362, 'noooo': 13220, 'fetch': 7265, 'pyjamas': 15047, 'k9asktwxfl': 10489, 'swam': 18030, 'bounced': 3306, 'suffice': 17889, 'uplifting': 19493, 'anchor': 1960, 'austinpearcy22': 2417, 'kisses': 10747, 'tilgurkv7z': 18652, 'asylum': 2327, 'seeker': 16632, 'zsykzj2bzg': 21266, 'dollars': 5957, 'alameda': 1784, 'coke': 4510, 'hadn': 8580, 'tracking': 18892, 'qyu8grorq1': 15263, 'ppji1tcnml': 14666, 'scraped': 16550, 'summer2k15': 17909, 'calais': 3732, 'py4mtw5xpm': 15042, 'eeasterling_2': 6393, 'dinosaurdracula': 5746, 'remorse': 15676, 'jason': 10111, 'irhh2gvsed': 9906, 'coalition': 4469, 'fondness': 7527, 'backing': 2566, '1984': 266, 'totalitarianism': 18841, 'surprise': 17986, 'copied': 4788, '58wvchg1m9': 835, 'janiethekillr': 10091, 'sketchbook': 17069, 'biting': 3055, 'mask': 11952, 'drowning': 6132, 'caitlin': 3724, 'kiernan': 10696, 'centipede': 4026, 'numbered': 13349, 'mwcnvtcxvu': 12775, 'clolmorpld': 4405, 'm2yuxnqlqy': 11710, 'v8gkkfmfxt': 19647, 'grace': 8303, 'fences': 7252, 'trees': 18971, 'idiots': 9417, 'swollen': 18070, 'rivers': 15964, 'iiii': 9486, 'riveeeeeer': 15961, 'mourns': 12621, 'superhero': 17946, 'epilepsy': 6698, 'bradley': 3360, 'diebold': 5711, 'epileptic': 6699, 'unsayjdtu7': 19451, 'z8r6r3nbtb': 21121, 'namffldh5h': 12873, 'explanation': 6951, 'request': 15738, 'provided': 14903, 'acrylic': 1537, 'x17fubqbgg': 20681, 'tcjfckxdzl': 18270, 'emtxtgo4ce': 6583, 'annoucement': 2019, '7bevuje5ep': 1060, '_jeesss_': 1365, 'ethereal_7': 6793, '911': 1222, 'medic': 12085, '7giglwdmhy': 1071, 'jlabuz': 10245, 'heyimbeeyt': 8881, 'nashsnewvideo': 12897, 'epzwaseyky': 6710, 'cfevtrsc1u': 4047, 'sometimesi': 17311, 'anxietyproblems': 2056, '9y0paj8sxd': 1339, 'oldjsowky5': 13634, 'nigeltanner1': 13107, 'newly': 13046, 'maple': 11876, 'saves': 16462, 'autistic': 2431, 'maine': 11803, 'dove': 6022, 'jacket': 10038, 'challenge': 4070, 'dravet': 6066, 'drowns': 6133, 'vbo1tjndps': 19706, 'spirits': 17464, 'mcsek4hx5s': 12052, 'iifgaz0fil': 9484, 'brochure': 3468, 'downside': 6031, 'costs': 4836, 'jarmusch': 10106, 'vampires': 19675, 'blank': 3109, 'expression': 6975, 'cheeks': 4148, 'clapping': 4346, 'marvins': 11943, 'subtlety': 17869, 'bridges': 3428, 'actavis': 1539, 'yzzxxknism': 21099, 'zzsee5hipm': 21291, 'homukami': 9070, 'srs': 17551, 'rs': 16167, 'ns': 13314, 'hw': 9280, 'ohlordy': 13583, 'nwspocatello': 13374, 'brunt': 3502, 'grayed': 8334, 'dust': 6211, 'interspersed': 9819, 'clouds': 4421, 'sods': 17280, 'amman': 1937, 'diverted': 5858, 'gurion': 8489, 'jkpjpch9i6': 10243, 'disappear': 5770, 'atmospheric': 2352, '0mnpcer9no': 68, 'newz_sacramento': 13066, 'modis': 12486, 'morocco': 12578, 'straits': 17752, 'gibraltar': 8092, 'qwqnni7vmz': 15250, 'duststorm': 6215, 'totoooooo': 18845, 'totoooooooooo': 18846, 'historicalmages': 8976, 'stratford': 17761, '18th': 242, 'april': 2134, '1935': 249, '4awc16uuwb': 717, 'weakening': 20178, 'lubbock': 11620, 'outflow': 13849, 'boundary': 3309, 'create': 4939, 'gusts': 8494, 'pw3tzu0tay': 15031, 'blowing': 3178, 'yelling': 20933, '9nwajli9cr': 1310, 'tkmotaeaco': 18710, 'tpoaprjudp': 18876, '0yl3yt4ylh': 104, 'alice': 1834, 'uluru': 19334, '4ilt6fxu45': 743, 'sneezing': 17232, 'smack': 17170, 'trailed': 18912, 'colin': 4517, 'goodness': 8241, 'fee': 7220, 'rotary': 16118, 'guard': 8445, 'uvopwz': 19605, 'retiredfilth': 15810, 'unreal': 19445, 'brewing': 3415, 'thunder': 18616, 'vantage': 19688, 'backups': 2574, 'eastbound': 6320, 'visibility': 19859, 'geyser': 8048, 'l5vaklr59m': 10953, 'riyadh': 15967, 'screenshots': 16563, 'combat': 4561, 'magnum': 11793, 'opus': 13748, '45cmaqf8ns': 698, 'qhbzkerott': 15125, 'cogxbox': 4505, 'xboxone': 20716, 'lbmekyphm5': 11110, 'watches': 20118, '500th': 797, 'duststormfilm': 6216, 'idaho': 9403, 'i15': 9314, 'idwx': 9430, '0cr74m1uxm': 40, 'sruj5zljgl': 17554, 'economics': 6352, 'dakota': 5217, 'hubert': 9198, 'humphrey': 9236, 'challenging': 4073, 'jf5ft5cq9j': 10202, 'raw': 15418, 'rolls': 16067, 'qllkofdyzx': 15141, 'rgjjumnnah': 15868, 'legacyofthesith': 11171, 'sagacioussaber': 16334, 'lordofbetrayal': 11538, 'crescent': 4962, 'formation': 7579, 'trails': 18915, '82ndabndiv': 1132, 'paratroopers': 14048, 'loading': 11456, 'ugesklcn8m': 19296, '60mph': 902, 'j4ni4n0yfz': 10018, 'vrpmplczcy': 19954, 'deadlydemi': 5366, 'staying': 17645, 'barrier': 2683, 'tìüp': 19225, 'fest': 7262, 'goggles': 8219, 'circle': 4292, 'pit': 14406, 'ka1hbjlqvw': 10493, 'mudgu1puns': 12697, 'aqxwolbcfq': 2151, 'sismo': 17027, '4km': 750, 'interlaken': 9804, 'time2015': 18659, 'utc2015': 19577, 'wa5c77f8vq': 20022, 'helens': 8833, 'utc': 19576, '2xmdidgpnr': 509, 'contruction': 4759, 'upgrading': 19488, 'ferries': 7259, 'standards': 17595, 'vashon': 19695, 'mukilteo': 12706, 'q13': 15064, 'e981dgskab': 6290, 'earthquakenews': 6312, '3novices': 625, 'renison': 15692, 'seismic': 16645, '2i4eoggo5j': 460, 'tasmania': 18225, 'tin': 18671, 'tem': 18350, 'shelli': 16833, 'entitlement': 6667, 'sicily': 16933, 'users': 19555, 'v3azwoamzk': 19629, 'usgs': 19559, 'eq': 6711, '23km': 401, 'twentynine': 19162, 't97jmbzobo': 18133, 'rftyyz4gwj': 15861, 'lau0ay7ahv': 11072, 'aftershocks': 1674, 'hkbpqdncba': 8988, 'ml': 12431, 'magnitudeåêåêml': 11792, '4regionåêåênear': 764, '0wdazlcm90': 93, 'cs': 5031, '8km': 1181, 'ssw': 17564, 'anza': 2063, '3bwwnlsxhb': 593, '15km': 203, 'anchorage': 1961, 'qfyy5azifx': 15119, 'raffi_rc': 15327, 'sustainourearth': 18017, 'oklahoma': 13621, 'limit': 11340, 'wells': 20232, 'yru4nphdrf': 21049, 'thi': 18542, 'epicenter': 6694, 'mbo6oaniqi': 12027, 'earthtwerk': 6315, 'scseestapreparando': 16568, 'mag': 11776, '73km': 1030, 'khuzdar': 10673, 'wednes': 20207, 'i6lmccclv5': 9333, 'volcanodiscover': 19919, 'kf0qybkzol': 10645, 'sm': 17169, 'ageekyfangirl14': 1684, 'significant': 16955, 'humor': 9234, 'farts': 7142, 'creates': 4942, 'icttz0divr': 9395, 'loupascale': 11569, 'z6hxx6d2pm': 21115, 'euroquake': 6824, 'm1': 11701, '94': 1240, '5km': 860, 'volcano': 19917, 'hawaii': 8730, '04': 18, 'njd28pg9xv': 13146, 'gns': 8196, 'unnecessary': 19435, 'legislation': 11182, '4ryzmzsgdw': 768, 'emily': 6549, 'rossum': 16114, 'difficultpeople': 5725, 'ojq0kfg5ub': 13605, 'z0ver1hvm9': 21101, 'upgrades': 19487, 'vulnera': 19970, 'au5jwgt0ar': 2384, 'gpv': 8290, '06jst': 24, '6aug': 944, 'wnw': 20459, '12jst': 168, '18jst': 241, 'l6jbjaj8dm': 10955, '3km': 617, 'nnw': 13186, 'henshaw': 8863, 'f9kqksosw3': 7041, 'atm': 2350, 'tear': 18308, 'zqrcptlrum': 21252, '1km': 297, 'nne': 13181, 'geysers': 8049, 'x6el3ysycn': 20699, 'darchambau': 5279, 'encouragement': 6601, 'cybksxhf7d': 5149, 'apocalyptic': 2092, 'tsunami': 19084, 'emsc': 6579, '6aimd1uway': 941, '9cgbjwmhii': 1270, 'emmy': 6558, 'megaquake': 12114, '9f3rdn9n3d': 1280, '96km': 1254, 'brenas': 3412, 'puerto': 14963, 'rico': 15901, 'sdzrrfzhmy': 16584, 'adanne___': 1571, 'kindly': 10724, 'devon_breneman': 5649, 'electrocute': 6474, 'heated': 8808, 'blanket': 3110, 'batteries': 2725, 'ds': 6151, 'elecman': 6465, 'extends': 6982, 'tub': 19099, 'niall': 13090, 'jinx': 10229, 'edison': 6369, 'lightbulb': 11308, 'animals': 1998, 'teslas': 18398, 'unsafe': 19450, 'wank': 20062, 'achievement': 1520, 'unlocked': 19433, 'replaced': 15712, 'socket': 17277, 'i_electrocute': 9343, 'zxathetis': 21282, 'badly': 2586, '26oo0fcl53': 420, 'danisnotonfire': 5264, 'mmchale13': 12443, 'tries': 19009, 'charging': 4111, 'erally': 6727, 'unplug': 19439, 'ac': 1483, 'myelf': 12794, 'delete': 5479, 'computer': 4643, '9zmwt9xydz': 1341, 'lightseraphs': 11320, 'pikachu': 14366, 'omar_molina036': 13653, 'milioooo_': 12290, 'emilio': 6547, 'kayla': 10566, 'bangtan': 2644, 'weallheartonedirection': 20182, 'wouldn': 20540, 'asshole': 2306, 'uwijmegl4e': 19608, 'fair': 7080, 'connection': 4692, 'policies': 14559, 'buckley': 3534, 'jr': 10360, 'oer5hh41ew': 13524, 'beard': 2795, 'any1': 2058, 'hideous': 8916, 'uglypeople': 19302, 'el_torro_loco': 6459, 'conversation': 4764, 'senator': 16670, 'cooking': 4774, 'electrocuted': 6475, 'crucial': 5012, 'psychic': 14935, 'pakpattan': 13991, 'correspondent': 4820, 'frpbnhvpyi': 7740, 'stick': 17692, 'lightening': 11309, 'backyard': 2575, 'cactus': 3708, 'borderlands': 3286, 'borderlands2': 3287, 'oocvg': 13696, 'ftw': 7758, 'redblood': 15552, 'videoclip': 19808, '9pymm2ruwf': 1318, 'that_fat_guy': 18453, 'elephant': 6483, 'cables': 3701, 'nwq6wjqk1z': 13371, 'khulna': 10672, '3enyndxppm': 598, 'gqpi7jmkan': 8294, 'factory': 7063, 'worker': 20507, '17000': 221, 'penalty': 14204, 'columbus': 4557, 'n8ezfctfce': 12847, 'rowysolouisville': 16141, 'hxvfmouhdm': 9292, 'steveycheese99': 17685, 'mapmyrun': 11878, 'map': 11875, 'stung': 17833, 'x6asgrjswc': 20698, 'bbcnews': 2753, 'mwlippert': 12779, 'southkorea': 17379, 'electrocutedboiling': 6476, 'waterfur': 20125, '3a50dhz7yi': 589, 'plug': 14501, 'hairdryer': 8598, 'earths_voice': 6314, 'tigers': 18645, 'appalling': 2101, 'businessmen': 3617, 'jlwhaowfqa': 10253, 'saveti': 16463, 'drying': 6150, 'sweated': 18041, 'earbuds': 6297, 'sockets': 17278, 'wondering': 20485, 'charger': 4108, 'queer': 15206, 'sultry': 17905, 'rosenbergs': 16107, 'zotar': 21239, 'skeleton': 17067, 'alchemist': 1805, 'atamathon': 2329, 'golem': 8227, 'gpwrc1kz5i': 8292, 'nankana': 12877, 'sahib': 16337, 'electr': 6469, 'werk9qibvv': 20244, 'mumbailocals': 12721, 'lessonforlife': 11225, 'marinelines': 11904, 'worked': 20506, 'pressing': 14751, 'shirts': 16864, 'faulty': 7162, 'docked': 5929, 'elsa': 6512, 'cat': 3935, 'vacation': 19656, 'penneys': 14209, 'ryah8fni5q': 16261, 'whistleblower': 20305, 'lawsuit': 11100, 'supervisor': 17958, 'ipwysnik0g': 9889, 'whistle': 20304, 'cree': 4954, 'knife': 10798, 'cm7hqwwulz': 4437, 'kdwazhqtov': 10585, 'lh9mrypdrj': 11259, 'mp3': 12637, 'pqhuthss3i': 14674, 'rar': 15404, '0iw6drf5x9': 53, 'dispatchers': 5822, 'boone': 3276, '5fhkxtrhyu': 849, '2oroyunym2': 487, 'c9jnxz3dxc': 3691, 'surgery': 17983, 'ddhwori5w1': 5352, '37592': 570, 'tooth': 18807, 'teeth': 18333, 'replacement': 15713, 'dental': 5535, 'cosme': 4827, 'zcvfc500yy': 21151, 'forbid': 7549, 'contacts': 4728, 'wales': 20048, 'archipelagowolves': 2162, 'nearing': 12981, 'extinction': 6989, 'standforwolves': 17596, 'hbwoivjqkd': 8746, 'importance': 9578, 'exits': 6920, 'heartbeat': 8798, 'sounding': 17363, 'familiar': 7103, 'newyorkcity': 13064, 'medicine': 12088, 'lennox': 11207, 'drjustinmazur': 6109, 'kuwait': 10907, 'diverts': 5859, 'declaring': 5412, '5aiexcbkfq': 837, 'radychildrens': 15325, 'specialists': 17418, 'igwstttkwk': 9464, 'stl': 17702, 'ace': 1512, 'grille': 8378, 'mounts': 12619, 'speedtech': 17437, 'amber': 1911, '544': 820, 't6seku4yvm': 18125, 'tjoz4u4txl': 18704, 'type': 19206, 'present': 14739, 'x2': 20685, 'designed': 5584, 'quests': 15213, '11000': 144, 'seeds': 16629, 'vegetable': 19728, 'gear': 7985, 'mre': 12655, 'dchfpxgy2m': 5347, 'ughptzjulk': 19298, 'indiana': 9649, 'reopening': 15699, '65': 919, 'lafayette': 10986, 'repairs': 15704, '415': 680, '751': 1040, '0880': 31, 'english': 6634, 'canal': 3794, 'tookitlikeaman': 18802, 'lovemydentist': 11576, 'runner_joy': 16228, 'clients': 4384, 'wart': 20097, 'childfund': 4187, 'pqhq4jnztt': 14673, 'fx0w2sq05f': 7832, 'careemergencies': 3863, 'appeals': 2104, 'nurse': 13353, 'practitioner': 14684, 'healthcare': 8785, 'recruitment': 15549, 'counselors': 4848, 'wasilla': 20108, 'ak': 1760, 'lkz5cnynxx': 11434, 'fund': 7786, 'expense': 6935, 'iz17klelzc': 9996, 'broader': 3464, 'conservation': 4706, 'akgovbillwalker': 1765, 'reinstate': 15624, 'buffer': 3547, 'protectdenaliwolves': 14885, 'aul': 2404, 'excuse': 6900, 'advances': 1614, 'treasure': 18959, 'outbreed': 13842, 'akx': 1776, 'peacetime': 14181, 'leandotorg': 11143, 'lean': 11142, 'quicker': 15216, 'suzbkyw5tt': 18022, 'addict': 1575, 'teams': 18303, 'responded': 15779, 'gzxipmoknb': 8540, 'busty': 3621, 'blonde': 3162, 'natalia': 12902, 'starr': 17614, 'fucks': 7767, 'qew4c5m1xd': 15116, 'firetruck': 7368, 'hcyajsacfj': 8754, 'batfanuk': 2715, 'wolf': 20469, 'declined': 5413, '143': 189, 'adndotcom': 1597, 'chowtaxis': 4236, 'newport': 13048, 'jackie': 10041, 'bristol': 3449, 'messages': 12169, 'supply': 17959, 'install': 9762, 'frp': 7739, 'slide': 17135, 'tunas': 19113, 'kijangbank': 10702, 'negara': 12995, 'closing': 4413, 'zpqwkhfhnf': 21242, 'odai': 13507, 'bucharest': 3531, 'romania': 16073, '600': 898, 'pjigxpvpl0': 14426, 'printable': 14788, 'templates': 18357, 'naex0q1ax0': 12858, 'dec': 5392, 'dywwnbbyvj': 6257, 'h20': 8547, 'deploy': 5546, 'troops': 19033, 'poconorecord': 14539, 'emergencymgtmag': 6539, 'households': 9144, '7zlsumiess': 1115, 'tdcch01n7q': 18278, 'builder': 3556, 'blackmail': 3094, 'activated': 1547, 'municipal': 12727, 'ha5boppejy': 8570, 'f7ljwxj5jp': 7036, 'reddit': 15558, 'devise': 5648, 'nieces': 13105, 'megan': 12111, 'swanger': 18032, 'ruthann': 16244, 'mccormick': 12035, 'daisy': 5213, 'henley': 8861, 'dl60ja06tw': 5891, 'r5bgvlqpjt': 15288, 'mehwkzwtxd': 12117, 'cityofcalgary': 4309, 'activates': 1548, 'pc7s8nxj6q': 14156, 'yyc': 21087, 'abstorm': 1472, '9xohmmlmdy': 1338, 'iys9xwpvmk': 9994, 'rs40000cr': 16169, 'lifeline': 11300, 'fci': 7186, 'waste': 20112, '3_6_12': 586, 'capacity': 3825, 'nw': 13369, 'workplace': 20512, 'retail': 15807, 'announces': 2023, '0x2bieqxpv': 96, 'primarily': 14779, '311': 539, 'ch6e7vtatr': 4060, '660': 923, 'kfbjvjivqb': 10647, 'bn7xpzqdm0': 3213, 'arktj9qn4s': 2199, 'counterstrike': 4852, 'z5y4xr14w6': 21113, 'sick': 16934, 'vfbbchwrfd': 19769, 'based_georgie': 2696, 'forreal': 7585, 'incase': 9609, 'whipe': 20299, 'rebeccaforreal': 15505, 'accepts': 1493, 'wisconsin': 20398, 'govwalker': 8282, 'nbc15': 12946, 'pis0aivrbr': 14400, 'cruise': 5015, 'h3dch6fyaw': 8552, 'biztip': 3063, 'alternative': 1890, 'electricity': 6472, 'sami': 16382, 'rdovqauax5': 15453, 'autism': 2429, 'specialneeds': 17422, 'senators': 16671, 'feinstein': 7235, 'vets': 19766, 'gm80x3vutf': 8182, 'cochrane': 4483, 'enacted': 6591, 'cbccalgary': 3972, 'underpasses': 19379, 'enacts': 6592, 'arabic': 2157, 'vietnamese': 19814, 's0ktiliskq': 16281, 'undone': 19390, 'adverse': 1617, 'gotriangle': 8267, 's7xdxuudcy': 16299, 'approach': 2123, '8ihuco4glw': 1170, '14cicptkna': 192, 'concludes': 4654, 'deactivated': 5359, '93iaeec26t': 1237, 'overload': 13873, 'prompts': 14859, 'celebrations': 4013, 'hxtupra5bc': 9291, 'dqxkjibbky': 6044, 'chrisroth98': 4245, 'chaselabsports': 4132, 'chillimik': 4198, 'hushlegs': 9268, 'comparing': 4617, 'thats': 18457, 'brilliant': 3441, 'arse': 2225, 'tflbusalerts': 18427, 'ilford': 9513, 'glenstannard': 8157, 'essexweather': 6774, 'abouts': 1464, 'providence': 14904, 'nursing': 13355, 'i3hzemldpu': 9324, 'torrance': 18827, 'task': 18223, 'presents': 14741, 'levy': 11240, 'wdtv': 20170, '2fibe2haxc': 452, 'fte': 7753, 'olympia': 13648, 'yu6nue7gfb': 21061, 'served': 16714, 'pl2vzlrkvk': 14436, 'committee': 4599, 'personnel': 14251, 'drbcrypj4p': 6071, '7p': 1097, '7a': 1052, 'nv3uxv9imx': 13363, 'tx': 19185, 'ej30ihrea9': 6447, 'snubza6ksc': 17251, 'veterans': 19765, 'vet': 19763, 'ensure': 6654, 'veteran': 19764, 'access': 1494, 'proper': 14868, 'treatmen': 18964, 'followme': 7523, 'unsure': 19460, 'cope': 4787, 'paging': 13976, 'uxqkieqdyf': 19614, 'brooklyn': 3481, 'locksmith': 11476, 'domesticate': 5965, 'mechanic': 12075, 'circa': 4291, 'gba': 7963, '1q6ccffzv6': 314, 'suny_orange': 17940, 'budget': 3543, 'thurs': 18622, 'ctr': 5051, 'goshen': 8262, '80dzgco6vc': 1122, '30p': 532, 'siena': 16942, 'henderson': 8857, 'fdiu44jldj': 7196, 'missionhills': 12380, 'zsnsar1tw1': 21261, 'karen': 10536, 'robinson': 16019, 'enviromental': 6673, '1meeo3wjco': 303, 'tfl': 18426, 'downtime': 6033, 'icsfdsifqb': 9393, 'trained': 18917, 'urjwsvr311': 19525, '7jfreteii4': 1077, '3p': 632, '30a': 528, 'lima': 11338, 'xqrlewia4x': 20785, 'shutdown': 16926, 'systems': 18103, 'edmonton': 6378, 'f8gvwkfqox': 7039, 'kodiak': 10824, '8kj1wdaigj': 1179, '9lyx7zmthe': 1301, '5pbc96rtmj': 870, 'swedish': 18045, '4kdthctemv': 749, 'goulburn': 8271, 'henry': 8862, 'bilsen': 3021, 'z99pkjztrp': 21123, 'zoepzsoky1': 21227, 'aqcsusqbdy': 2145, 'tarzana': 18222, 'hkyfkug5zw': 8993, 'stressed': 17778, 'hysteria': 9306, 'grey': 8369, 'misty': 12395, 'indifference': 9660, 'returning': 15820, 'normal': 13230, 'southline': 17380, 'yennora': 20941, 'cabramatta': 3703, 'swayoung01': 18036, 'recognised': 15531, 'performing': 14227, 'simon': 16981, 'nurses': 13354, 'pediatric': 14191, 'specialized': 17420, 'k1tmlwvjmj': 10474, 'registered': 15612, 'z5grlrey6v': 21112, 'engulfed': 6635, 'parley': 14065, 'canyon': 3822, 'p6cylz5lpt': 13938, 'jpu9gips9f': 10353, 'cyzlshlqhg': 5166, 'ndis8f1vzt': 12969, 'tribal': 18995, 'madinah': 11769, 'prophetmuhammad': 14873, 'islam': 9935, 'trafficalert': 18906, '210': 382, 'freeway': 7693, 'citrus': 4306, 'azusa': 2515, 'motorcycles': 12606, 'ldgwsyowss': 11121, 'cnyvvy4wat': 4461, 'travel': 18950, 'chaos': 4098, 'accepte': 1492, 'vg8hrbebda': 19773, 'induced': 9672, 'tidal': 18637, 'fnaf_talkmc': 7499, 'smiling': 17195, 'inåêchaos': 9865, 'xkonkz0zl6': 20754, 'dxvtgi1bvo': 6242, 'ykvsttvdwo': 20983, 'ifqqpur99x': 9443, 'tfan6qq2ys': 18421, 'rakwwritpo': 15361, 'jumper': 10410, 'cimubweyib': 4283, '9r5fsts7bd': 1322, 'godsfirstson1': 8213, 'wrapped': 20574, 'practically': 14680, 'literarycakes': 11386, 'raheelsharif': 15334, 'manifesting': 11855, 'helm': 8846, 'stormy': 17742, 'fiery': 7297, 'disdain': 5798, 'yzdmouxqbo': 21096, 'pexfgawrg1': 14276, 'equally': 6718, 'incapable': 9608, 'nothingness': 13264, 'emerges': 6540, 'blaise': 3100, 'pascal': 14084, 'garage': 7928, 'propane': 14866, 'sunnymeade': 17934, 'suelinflower': 17884, 'painthey': 13982, 'screamed': 16555, 'dear': 5378, 'lifeits': 11298, 'zachzaidman': 21131, '670thescore': 931, 'wld': 20438, 'golf': 8228, 'cart': 3904, 'boycottbears': 3331, 'summit': 17916, 'rmucfjcazr': 15993, 'i9dspdkruk': 9340, 'nep5azwkna': 13015, 'zevan9kjzl': 21173, 'uuzfs1l5kt': 19600, 'yfavsuogvl': 20952, 'isi1rllct0': 9931, 'fxdh3u8bq3': 7834, 'yzhvobgocq': 21098, 'wplrhbfhee': 20557, 'eelex4ssvf': 6397, 'baffling': 2594, 'headline': 8772, 'lucas': 11622, 'duda': 6179, 'ghost': 8077, 'nic': 13093, 'badass': 2579, 'carneross': 3889, 'remarkably': 15658, 'puny': 14997, 'epicentre': 6695, 'capitalism': 3830, 'epoch': 6707, 'dspws6hj8w': 6157, 'aliveafter5': 1843, 'sc4twjkxr1': 16488, 'yn6duotimr': 20994, 'elisagxrcia': 6498, 'vault': 19698, '7nu7prxeul': 1094, 'tanzania': 18206, 'census': 4023, 'yxtzbtvmhm': 21085, '7jggqwbv6s': 1078, 'specials': 17423, 'calestous': 3736, '8zy9n6fx9t': 1211, 'itz9masbvz': 9970, 'defeater': 5444, 'yeaahh': 20919, 'icrgseagya': 9391, 'kpvymhm2ub': 10857, 'cydia': 5156, 'tweak': 19152, 'wkmfdig3nt': 20433, 'phillipten': 14317, 'jailbreak': 10060, '48tpnmbjvg': 709, 'mkayla': 12423, 'cee': 4009, 'petty': 14275, 'childish': 4190, 'organizers': 13781, 'lollapalooza': 11495, 'prompted': 14857, 'bgerljamte': 2953, 'spuhuvgasy': 17513, 'studying': 17828, '900037': 1214, 'doors': 5992, 'zehrs': 21163, '039': 16, 'monster': 12533, 'aptap6yx1r': 2137, 'firefigthers': 7362, 'northampton': 13236, 'hppld1jhtz': 9154, 'poem': 14542, 'tram': 18923, 'powerlines': 14653, 'carriage': 3897, 'tennews': 18368, 'hfyrloqy8q': 8891, 'cascada': 3916, 'dancefloor': 5246, 'ohcx3y8l4s': 13577, 'disregard': 5831, 'speak': 17409, 'fwd': 7822, 'jumped': 10409, 'alllll': 1860, 'nittys': 13139, 'stockwell': 17711, 'metlife': 12192, 'skq8oucm3r': 17085, 'replacing': 15714, 'aimlessly': 1730, 'detersion': 5620, 'hlg': 8995, 'efak': 6403, 'sites': 17033, 'alexis': 1822, 'joonma_': 10318, 'dealbreaker': 5371, 'abandon': 1425, 'alarms': 1791, 'dungeon': 6198, 'mygc': 12797, 'suspend': 18010, '6e7hhferz4': 955, 'dispatch': 5821, 'rutherford': 16245, 'refuses': 15599, '1000s': 116, 'wqy3jokumh': 20569, 'abandoned': 1426, 'ahhtheenikki': 1715, 'gfsl2kwt5h': 8058, 'pantalonesfuego': 14023, 'grew': 8368, 'quick': 15215, 'mthe': 12685, 'premises': 14721, 'meetkakarotto': 12105, 'offline': 13554, 'hinata': 8953, 'emilee': 6546, 'milkshake': 12299, 'fifa16': 7298, 'tournaments': 18859, 'whocares': 20315, 'criminal': 4973, 'murderous': 12733, 'nazis': 12938, 'murfreesboro': 12735, 'evacuated': 6833, 'dnj_com': 5922, 'disrupted': 5833, '6ezkoof2xt': 957, 'facm78eg7k': 7058, 'gc': 7976, '9newsbrisbane': 1306, '9newsgoldcoast': 1307, 'kd3qsakbi5': 10584, 'bickleton': 2975, 'roosevelt': 16098, 'liveonk2': 11405, 'ordered': 13771, 'sqsyueh4yi': 17531, 'koin6news': 10825, '199t7nd0pm': 271, 'mall': 11830, 'campers': 3781, 'blazes': 3120, 'wwgadpffkw': 20645, 'trafford': 18908, 'odeon': 13513, 'dzlense1gw': 6261, 'tb52o146tx': 18253, 'tsbtigdsdt': 19082, 'pfmn63vnam': 14280, 'vkwqbojfjc': 19890, '60000': 899, '12000': 158, '42gw2i2q41': 685, 'portland': 14605, 'miami': 12238, 'casper': 3924, 'pzeixi4xk7': 15056, 'bukidnon': 3562, 'z0hsckvysn': 21100, 'missleylaha': 12384, 'hahahaha': 8588, 'tr': 18885, 'eysvvza7qm': 7013, 'zzweeezjug': 21293, 'sandy': 16404, 'hook': 9087, 'elementary': 6482, 'lwlexxjus8': 11668, '6gldwx71da': 962, 'e2hltyyfak': 6272, 'pmxezuo4ay': 14523, 'x3g2ox6k8r': 20690, 'twi': 19163, 'ryeqmxirj8': 16265, 'manchesterlite': 11844, 'safely': 16326, 'kzbsohtwb4': 10933, 'shore': 16891, 'norfolk': 13227, '6x0xhlbxji': 1006, '115film': 151, 'unstable': 19456, 'kue48nmjxh': 10890, 'wxhmp5ppjq': 20659, 'ahrar': 1716, 'negotiations': 12999, 'zabadani': 21127, 'sunnis': 17932, 'cmweiojj55': 4444, 'katunews': 10563, 'sr14': 17544, '1700': 220, 'qposkp3mwj': 15160, 'mtqjsvupwy': 12688, 'seclusion': 16611, 'compliance': 4635, 'morevoices': 12569, 'mtfnbhryzq': 12682, 'xppqnyhiwc': 20776, 'travellers': 18953, 'surfers': 17981, 'qsheu3yf0w': 15174, 'faan': 7045, 'noted': 13259, 'zuqgvjneqa': 21274, 'mandatory': 11846, 'devybnvxgq': 5653, 'todayng': 18750, 'fijapxykrq': 7312, 'humboldt': 9230, 'cty': 5053, 'sheriff': 16840, 'advisory': 1622, 'residence': 15759, 'lassics': 11051, 'eruzbuqzyu': 6749, 'gsomtdpmoj': 8427, 'vietnam': 19813, 'patch': 14100, '71st': 1022, 'highland': 8923, 'medics': 12089, 'kif7m3fqlx': 10698, 'oz6vlwwtnr': 13915, 'veldfest': 19738, 'refunds': 15596, 'pp05etlk7t': 14659, '3ol8mhhpma': 629, 'markoturner': 11920, 'annaciclismo': 2008, '5kfovovjso': 858, 'bend': 2887, 'roofing': 16093, 'hr': 9164, 'swayback': 18035, 'ridge': 15909, 'voluntary': 19928, 'inciweb': 9620, 'vn73o4sgzj': 19903, 'calfires': 3737, 'indexing': 9643, 'remedial': 15661, 'angioplasty': 1990, 'dissertation': 5838, 'dismayed': 5811, 'vgvjgr8zoo': 19776, 'ifak': 9440, 'individual': 9665, 'aid': 1721, 'roofers': 16092, 'prompt': 14856, '6mf7eyzoaw': 976, 'neces': 12985, 'tls40nqipn': 18718, 'todayngr': 18751, 'eric_bulak': 6735, 'jaclynsonne': 10048, '_oliviaann_': 1369, 'guessing': 8453, 'gives': 8132, 'ultimatum': 19331, 'zzpojgngaj': 21290, 'dailytimesngr': 5212, 'yellow': 20935, 'evac': 6830, 'gzegjoakkw': 8534, 'gnwt': 8197, 'cabin': 3698, 'pickerel': 14345, 'reid': 15618, 'rvsyxwj9cp': 16254, 'na0ptn0dtr': 12852, 'accidently': 1498, 'exams': 6882, 'lolla': 11494, 'yrfz5wj7r2': 21046, 'ink': 9727, 'addresses': 1581, 'veld': 19737, 'refund': 15595, 'vku3rtoz1j': 19889, 'trc': 18958, 'torontorc': 18826, 'ûïa': 21328, 'cabins': 3699, 'reidlake': 15619, 'maca': 11749, 'nwt': 13375, 'yzf': 21097, 'ibrahimmisau': 9371, '5zcje7arci': 895, 'havxobcsvu': 8728, 'edyfo6e2pu': 6389, 'm5kxlpkfa1': 11722, 'wmmkirj0hw': 20445, 'campground': 3783, 'jbodkm6rbu': 10131, 'ariabrisard': 2186, 'leiaorganasolo': 11190, 'feelingmanly': 7227, 'misses': 12376, 'komo': 10830, 'qcpmktgllr': 15100, 'saint': 16343, 'e1vkc2efst': 6269, 'beua507iug': 2938, 'ryan': 16262, 'earners': 6304, 'sgxp1u5ol1': 16766, 'noahcrothman': 13192, 'minutiae': 12346, 'serve': 16713, 'champagne': 4076, 'mouth': 12624, 'upwards': 19505, 'modm8x1ot9': 12487, 'ossc7q12ir': 13811, 'newåêheights': 13067, 'iglnqpgbnw': 9452, 'aoesbvns45': 2066, 'annealiz1': 2011, 'o_o': 13444, 'attjcdemos': 2377, 'folieacat': 7513, 'timebomb': 18661, 'destined': 5602, 'reaching': 15461, 'spinning': 17460, 'hitting': 8983, '6vei1mhea4': 1000, 'ks': 10871, 'shizune': 16870, 'joys': 10343, 'schwarber': 16524, 'lthmwtl5fp': 11613, 'swea': 18038, 'kendall': 10614, 'jenner': 10171, 'jonas': 10310, 'dating': 5302, 'pfvzvpxqgr': 14283, 'cans': 3816, 'kaldi': 10513, 'stout': 17744, 'u6isxv2f3v': 19243, 'uclvihwoec': 19271, 'rin': 15927, 'misha': 12365, 'emi': 6543, 'kenji': 10616, 'yuuko': 21074, 'nomiya': 13210, 'hisao': 8972, 'philadelphia': 14309, 'eagles': 6295, 'matthews': 11997, 'rrq1ildkil': 16164, 'hotnewscake': 9134, '8rabhqrth5': 1199, 'deniseromano': 5532, 'cervelli': 4039, 'puff': 14965, 'allen_enbot': 1852, 'brains': 3366, 'ill': 9514, 'cnxxmffrae': 4460, 'tagged': 18155, 'attackonstiles': 2362, 'alpha': 1878, 'doll': 5954, 'latssuo4ws': 11070, 'e84ifmcczn': 6286, 'duck': 6176, 'greasy': 8338, 'dhambp54ya': 5675, 'anonchimp': 2028, 'tie': 18641, 'owje3i6ygn': 13901, 'deldryden': 5478, 'twitch': 19177, 'leafs': 11135, 'chick': 4179, 'masturbates': 11969, 'exploded': 6954, '5qhoehe9hf': 873, 'crimsonfuckingv': 4975, 'bitchl0vecannon': 3050, 'admit': 1595, 'seras': 16704, 'sasha': 16430, 'peice': 14201, 'sidewalk': 16939, 'kakeru': 10511, 'teduka': 18324, 'bfore': 2947, '70years': 1019, 'bomd': 3256, '8vzl1ns2io': 1207, 'tesco': 18397, 'complaint': 4629, 'chelsea_dogs': 4155, 'pets': 14273, 'puppy': 15001, 'qzvkpahsq7': 15274, 'kopiteluke1892': 10833, 'brandonskeie': 3372, 'samsmithworld': 16389, 'yetagc2d8a': 20950, 'dress': 6081, '3drsmxw3cr': 596, 'medinah': 12091, '105': 128, '49': 711, '56': 826, 'imkeepingmydayjob': 9555, 'kcmbbwwp8g': 10579, 'chaning': 4093, 'screen': 16560, 'yg32yb2jdy': 20955, 'otrametlife': 13826, 'pqslug4jk5': 14676, 'junko': 10419, '1945': 253, 'lspnycvolo': 11606, 'nh5pkfbfqm': 13083, 'drako': 6059, 'zarharzar': 21142, 'noticed': 13266, 'matches': 11976, 'mentioned': 12150, 'versethe': 19755, 'anime': 2001, 'ibsvy2r3ph': 9372, 'reasons': 15500, 'bluewestlo': 3196, '38745': 575, 'upgd2cy9il': 19484, 'luke': 11638, 'microphone': 12256, 'ovaries': 13863, 'kingmyth1999': 10733, 'squeeze': 17537, 'itsnasb': 9964, 'sarcasm': 16426, 'meter': 12188, '__': 1344, 'kai': 10506, 'forbath': 7546, 'station': 17635, 'goal': 8202, 'merycormier': 12160, 'cosima': 4826, 'shay': 16819, 'yumiko': 21070, 'woah': 20461, 'lenkaiswaifu': 11204, 'sparking': 17403, 'akxbskdn': 1777, 'lunasagalle': 11648, 'synapsenkotze': 18096, 'bean': 2793, 'bastard': 2712, 'x39jwsyrqr': 20689, 'warship': 20095, '1665': 217, 'sailors': 16342, 'artillery': 2239, 'cartridges': 3910, 'r4wgxra59m': 15286, 'okgooner': 13617, 'hahaha': 8586, 'loaded': 11455, 'liver': 11408, 'joint': 10300, 'poured': 14643, 'fallontonight': 7095, 'tempered': 18356, 'protector': 14889, 'blackberry': 3088, 'z10': 21102, 'modqnalwsb': 12490, '4c58ooavhy': 719, 'recalls': 15517, 'chargers': 4109, 'lhtvkcoiso': 11265, 'mechanical': 12076, 'pharaoh': 14297, 'o82yvxbztv': 13434, 'n5kmxuverg': 12838, 'corey': 4804, 'brewer': 3414, '51': 804, 'hhllqckcep': 8900, 'dancer': 5247, 'attendance': 2369, 'gmmbc': 8186, 'saturday': 16445, 'tmmorvxswz': 18723, 'xbznu0qkvs': 20717, 'bgaj2oax1p': 2952, '2500fps': 411, 'slow': 17158, 'rocks': 16037, 'aluminum': 1893, 'southeast': 17377, 'missouri': 12385, 'naomi': 12880, 'logo': 11488, '0wdseihyqu': 94, 'mental': 12145, 'gaelite': 7882, 'greg': 8361, 'orchard': 13763, 'dye': 6248, 'exploring': 6961, 'moments': 12510, 'miì': 12412, 'ville': 19827, 'otrwz1t9sp': 13828, 'xvlkfcvfx5': 20815, 'osha': 13805, 'siteinvestigating': 17032, 'noranda': 13226, 'kfvs12': 10652, 'cape': 3826, 'girardeau': 8118, 'carbondale': 3856, 'bluff': 3197, 'pxyh7zo7vt': 15041, 'lapse': 11042, 'isao': 9927, 'hashimoto': 8704, 'atomicbomb': 2356, 'v0t8h4iecc': 19624, 'kircut1': 10738, 'dope': 5993, 'dopest': 5995, 'hua': 9196, 'aspiring': 2294, 'writer': 20589, 'omjmtu9kfg': 13662, 'colinhoffman29': 4518, 'pyrotechnic': 15051, 'artwork': 2246, 'cai': 3721, 'guo': 8488, 'qiang': 15132, 'blossom': 3173, 'orovzfsku2': 13791, 'aminespn': 1933, 'mencius': 12141, 'correct': 4815, 'lordrsbiscuits': 11539, 'toyu16mxbo': 18873, 'p10hndc0mm': 13920, 'battery': 2727, 'ekwtihlwuf': 6456, 'begforcum': 2841, 'allday_cumshots': 1847, 'cumcovered': 5078, 'sexycumshots': 16751, 'cumtown': 5082, 'bj_nutt': 3066, 'cumslut_2': 5081, 'girlslovecum': 8122, '2cx1yjjoz9': 445, 'saddle': 16318, 'accountable': 1505, 'preferable': 14714, 'brass': 3375, 'tawfmcaw': 18238, 'z4ilb9y9nu': 21109, 'j295md1sow': 10002, 'sd7loww9nu': 16579, '7hkavtvx81': 1073, 'hangout': 8640, 'est': 6775, 'qkahxwlwxa': 15137, 'kindermorgan': 10720, 'freestyle': 7690, 'amalie': 1901, 'arena': 2170, 'oogoto76uz': 13697, 'sunflower': 17930, 'vlnmklwwby': 19895, 'p769eo49fj': 13941, 'elevator': 6489, 'noses': 13251, 'button': 3633, 'checkout': 4145, 'nurgle': 13352, 'rules': 16216, 'snuck': 17252, 'khrone': 10670, 'he7q7h3nzf': 8765, 'rpvzbesuqj': 16154, 'hqzfcxxrsb': 9163, '0vwpdizcko': 90, 'expo': 6966, '14th': 193, 'keith': 10601, 'yh4r7ug21a': 20959, 'gusto': 8493, 'persist': 14244, 'pated': 14102, 'hpssjd': 9155, 'insides': 9747, 'customized': 5108, 'dcubecrafts': 5349, 'greetingcards': 8359, 't07qxp5cbe': 18111, 'powder': 14650, 'discussed': 5794, 'introduction': 9836, 'theological': 18514, 'aesthetic': 1632, 'bz3ir4gmwj': 3661, 'pittsburgh': 14414, 'eyewitness': 7008, 'barcousky': 2669, 'pb': 14143, 'penn': 14208, 'dhgavw8bsw': 5676, '0lmheaex9k': 63, 'squibby_': 17539, 'identification': 9411, 'bqv3qttuxr': 3352, '0drqlrsgy5': 43, 'wpri': 20559, 'rhode': 15879, 'modernize': 12478, 'voting': 19942, 'ap9jbrpmqg': 2073, 'accounts': 1506, 'gleaned': 8154, 'projects': 14844, 'yrqgnblkac': 21047, 'crane': 4914, 'demolishes': 5512, 'dramatic': 6062, 'hoisting': 9020, 'dyy7ml2nzj': 6259, 'actively': 1550, 'embraced': 6533, 'audiences': 2396, 'emhub': 6542, 'ugc': 19295, '6mbpvwitxf': 975, 'njaffyjarz': 13144, '1xhsuewqn4': 334, 'vecsosrler': 19723, 'fiuogj6hef': 7388, 'climatechange': 4388, 'czpdn9obit': 5171, 'anarchy': 1957, 'kaputt21': 10534, 'hamburg': 8617, 'gregory': 8363, 'wickett': 20327, 'deny': 5539, 'investigation': 9849, 'ydgiuydqgb': 20913, 'pony': 14578, 'cbs3': 3979, 'redwing': 15576, 'heroes': 8870, 'seal': 16589, 'nxtwxjcavh': 13382, 'ol8esfrgle': 13629, 'wexler': 20260, 'sanford': 16406, 'hardcover': 8672, 'kk0qfkgqcy': 10762, 'smc1ro09fs': 17184, 'ûïlittle': 21337, 'testimonials': 18405, 'muanfwcrw9': 12693, 'schoolboy': 16521, 'pq0d7mh3qr': 14671, 'quedv2xxxx': 15198, 'wftv': 20270, 'tn': 18730, 'psychologist': 14937, 'charges': 4110, 'lgglf5yrme': 11253, 'kern': 10628, 'mornings': 12577, 'airing': 1739, 'kbak': 10568, 'cbs29': 3978, 'rorktmpqns': 16102, 'liveonkbak': 11406, 'edznx6goud': 6390, 'illustrated': 9527, 'particularly': 14077, 'horrifying': 9114, 'gzib0mawmn': 8537, 'organ': 13775, 'harvesting': 8698, '49izkbohri': 714, 'dk': 5885, 'denmark': 5533, 'auctions': 2391, 'qpur3vd7hl': 15162, 'l9ekhnkbar': 10962, 'patrickjbutler': 14115, 'damiengayle': 5235, 'closure': 4414, 'phh1vmlfoo': 14306, 'notorious': 13275, 'laboratory': 10973, 'dealer': 5372, 'peta': 14259, 'qgqlpmrfjd': 15120, 'wbre': 20156, 'wyou': 20666, 'jhvigsx5jg': 10216, 'dorling': 6005, 'kindersley': 10721, 'publishing': 14959, 'tj3ltpzfw1': 18701, 'shedding': 16824, '10pm': 139, 'vxvfaeey0q': 19987, 'xpwkodpqto': 20777, 'married': 11934, 'honduran': 9073, 'minors': 12338, 'ndwep6izdq': 12972, 'freed': 7678, 'bokoharam': 3239, 'captives': 3841, 'ûïi': 21336, 'pk8dgvripw': 14429, 'rz0adzursw': 16270, 'macia': 11758, 'testified': 18403, 'crematoria': 4960, 'provoke': 14908, 'famine': 7106, 'moscow': 12584, 'mphog0qddn': 12641, 'oct336': 13502, 'fabvlvn5ms': 7048, 'soaring': 17262, 'soviet': 17383, 'vymouzjzre': 19991, 'enrjh5qkve': 6648, 'function': 7785, 'zones': 21235, 'gallup': 7902, 'poll': 14571, 'suffer': 17885, 'qdmvtj4lzj': 15107, 'unu': 19466, 'feast': 7209, 'redeem': 15559, 'serene': 16706, 'o4xljnav8f': 13425, 'robertmeyer9': 16015, 'example': 6880, 'farmers': 7132, 'perished': 14230, 'holodomor': 9040, 'erected': 6731, 'dj1lwznieh': 5871, 'i9mxxkzhbl': 9341, 'exporting': 6968, 'africans': 1660, 'solving': 17305, 'uttanbigrx': 19587, 'resxavgpyj': 15806, '9hieifhsmc': 1287, 'feeding': 7222, 'lue3waegpi': 11631, 'bluebell': 3188, 'p9rymfjcux': 13948, 'tasted': 18227, 'starving': 17628, 'writes4coffee': 20591, 'sto58qa94c': 17706, 'iartg': 9360, 'rwa': 16256, 'tw4rw': 19147, 'rrbc': 16163, 'gyh00mrkjm': 8524, 'zonnqgsxyw': 21237, 'financialtimes': 7334, 'ethiopian': 6798, 'regimes': 15608, 'receiving': 15522, 'eastern': 6322, 'ethiopia': 6797, '2fggzqn1v4': 451, 'si02qrguka': 16931, '0c1y8g7e9p': 39, '0840728': 28, 'pdiit0af3q': 14169, 'dynamix': 6252, 'zq5kdox7by': 21245, 'famineåêmemories': 7107, 'sgecnkfthu': 16764, 'bolshevik': 3242, 'monopolized': 12528, 'seize': 16647, 'hunhry': 9245, 'artificial': 2238, '0xouv7dhwz': 101, 'h6z7hxuqtu': 8561, 'experienced': 6939, 'smell': 17186, 'rotting': 16125, 'potatoes': 14632, 'smelled': 17187, 'x1x6d5enef': 20683, 'xhehjfft7g': 20741, 'savagenation': 16454, 'peasants': 14187, 'stalin': 17586, 'redistribute': 15567, 'recal': 15514, 'j2erzbmjqd': 10006, 'adventures': 1616, 'mineness': 12319, 'spymiqnecj': 17522, 'felr5a1hbp': 7242, 'conquest': 4701, 'kiev': 10697, 'guidofawkes': 8460, 'mediaguido': 12083, 'we40iux7ib': 20176, 'provokes': 14909, 'fjeafgbzfj': 7398, 'presence': 14738, 'growing': 8404, 'stronger': 17802, 'maratha': 11881, 'scorched': 16535, 'punjab': 14994, 'refused': 15598, 'bengalis': 2895, '9bliddngtf': 1269, 'hopeinchrist': 9096, 'lifelettercafe': 11299, 'surf_photo': 17979, 'squeezed': 17538, 'lego': 11186, 'blubber': 3186, '6siirlnv6z': 993, 'manslaughter': 11865, 'sh': 16767, 'goodell': 8238, 'ucnckrnlow': 19272, 'elijah': 6495, 'walker': 20051, 'appeared': 2105, 'gtcffacvam': 8431, 'attraction': 2378, 'apd': 2082, 'qyccvuubkr': 15259, 'investigators': 9851, 'waimate': 20032, 'c9dvdssofn': 3690, '_asianshawtyy': 1350, '30s': 535, 'vermont': 19752, 'htez4z48od': 9187, 'eq4rxc9bb3': 6712, 'j3rtf2dt3x': 10011, 'khqa': 10669, 'winnipeg': 20386, 'witnesses': 20419, 'arlington': 2200, 'n2bcf4m64v': 12828, 'chrisdanielshow': 4242, 'pee': 14193, 'francisco': 7654, '1tvlfrhm1m': 323, 'remaster': 15659, 'frame': 7650, 'windwaker': 20374, 'dubbo': 6171, 'bail': 2604, 'hdbmfovutz': 8757, 'dailyliberal': 5211, '1vz3rmjhy4': 329, 'xevueefqbz': 20732, 'flaws': 7432, 'ztfead8gid': 21268, 'stockton': 17710, 'j3x0doy7r3': 10012, 'dispute': 5830, 'oazghozgya': 13454, 'gunfail': 8475, 'nra': 13307, 'immigrant': 9559, 'arrests': 2217, 'bl59fw4sys': 3083, 'spookyfob': 17484, 'feelslikefob': 7230, 'kindness': 10725, 'stump': 17831, 'permanent': 14234, 'a6ro9bmxcy': 1399, 'adopt': 1598, 'overlooked': 13875, 'whyor': 20324, 'huriivfdkc': 9255, 'ballew': 2624, 'statements': 17632, 'crimes': 4972, '9h0ym9ofsv': 1286, 'courts': 4869, 'adsvdpnp3r': 1607, 'fj7kcrlir7': 7395, 'goetjgihop': 8216, '179': 227, 'fatalities': 7153, 'nypd': 13403, '3åê': 664, 'cn1jommugh': 4446, 'adults': 1610, 'iqj1z3jxx8': 9891, 'vital': 19870, 'econom': 6349, 'zsqm8ihe1k': 21262, 'las': 11048, 'news3lv': 13052, 'exdbcx4gcr': 6902, 'unprepared': 19442, 'emp': 6566, 'possess': 14615, 'pushing': 15016, 'implores': 9576, 'motorists': 12609, 'reserves': 15754, 'hikf8mkjsn': 8938, 'kyrikoni': 10931, 'expressandstar': 6974, 'veg': 19725, 'engines': 6630, '662': 925, '114': 147, 'reoz7h3em8': 15701, 'hse': 9180, 'h4usheekxm': 8555, 'jnhnx3oisn': 10264, 'deadliest': 5364, 'intersections': 9818, 'ghk9xup6e0': 8075, 'mortal': 12580, 'kombat': 10827, 'stretched': 17782, 'igz7v24ge9': 9468, 'm75dnf2xyg': 11727, '82': 1129, 'interlocking': 9805, 'illnesses': 9521, 'numbers': 13350, '1uo1atrbbj': 326, 'jwiv6wyw6f': 10452, 'osage': 13801, 'mkx': 12429, 'skinless': 17079, 'predator': 14707, 'abha': 1448, '1xw0z8zeqw': 337, 'wisely': 20403, 'carnage': 3887, 'continuing': 4744, 'ggindependencmessage': 8065, 'gross': 8394, 'rays': 15426, 'dwilliams313': 6237, 'ieansquad': 9431, 'nu6wrp716d': 13333, 'kitana': 10751, 'slay': 17124, 'ûókody': 21359, 'kombatfans33': 10828, 'umajwsnluf': 19339, 'osp': 13810, 'mounting': 12618, 'ymp0ginwza': 20991, 'fyioqvioif': 7841, 'meat': 12072, 'iggfnbixt5': 9449, 'estimated': 6783, 'hometown': 9061, 'bsrerjby0i': 3518, 'hiroshima70': 8970, 'rcmp': 15444, 'tch': 18269, 'whitbourne': 20307, 'allocating': 1861, 'bn': 3212, 'veneto': 19739, 'w3esx6ud8t': 20012, 'zero': 21170, 'bite': 3053, '1979': 263, '43sxg9z6xh': 689, 'tremor': 18977, 'dlc': 5893, 'motordom': 12608, 'lobbied': 11462, 'language': 11032, 'visionzero': 19862, 'cavb7pgepv': 3966, 'cousin': 4870, 'lsjowgyvqh': 11604, 'pedestrian': 14189, 'failing': 7075, 'yield': 20972, 'dgul7ffjt2': 5670, 'sega': 16643, 'flo8fgy35a': 7454, 'reduces': 15575, 'jvivt6zrv7': 10444, 'kevinedwardsjr': 10641, 'ncjlkqasuk': 12957, 'kc8o81bchg': 10575, '0rokdutyun': 76, '400000': 667, 'ûò800000': 21354, 'txzxcnudr8': 19196, '8th': 1204, 'increase': 9627, 'journeys': 10339, 'suilzs2s95': 17898, 'healthandsafety': 8784, 'immensely': 9558, 'policylab': 14562, 'cecanf': 4002, 'neglect': 12997, 'n2cy3z4tpb': 12829, 'yep': 20942, 'projected': 14842, 'downfall': 6024, '_freemarketeer': 1360, 'dibang': 5698, 'logistics': 11487, 'enca': 6593, 'onboard': 13667, 'capsized': 3836, 'dno7qxcffh': 5923, 'boards': 3221, 'display': 5828, '616': 907, 'irish': 9907, 'cyclists': 5153, 'e7ojhpdfg2': 6284, 'ebrointheam': 6340, 'biggie': 2993, 'fatality': 7154, 'y33qckq7qd': 20852, 'jake_adavis': 10066, 'fatality_us': 7155, 'cuddling': 5065, 'truly_stings': 19062, 'dm': 5904, 'savages': 16455, 'gangstermail': 7922, 'samsung': 16390, 'vgbootcamp': 19774, 'yi3oivk2x4': 20968, '109': 132, 'sn': 17217, 'vabengal': 19652, 'zss': 21263, 'sws': 18076, 'captain': 3838, 'falcon': 7090, 'hibernating': 8911, 'pbx': 14152, 'irrespective': 9920, 'careerism': 3866, 'pan': 14008, 'crbzfz': 4935, 'lyme': 11679, 'rgt9ghodpw': 15871, 'hrips_k': 9169, 'corpse': 4814, 'jittering': 10233, 'rig': 15915, 'tellyfckngo': 18348, 'jaycootchi': 10121, 'homie': 9065, 'wit': 20408, 'babality': 2553, 'kosciusko': 10838, 'jilfbr0ufp': 10222, '407v1y4hhg': 672, 'bardissimo': 2671, 'baskets': 2709, 'charming': 4124, 'tonyakappes11': 18795, 'xyav4t5n0o': 20831, 'paranormal': 14047, 'soldier': 17293, 'ranking': 15387, 'sihqpluidw': 16959, 'babybackreeve': 2561, 'utica': 19581, 'pleasant': 14482, 'paws': 14132, 'grass': 8323, 'pxnatosil': 15039, 'renunciedilma': 15696, 'mk2': 12422, 'uud': 19594, 'lk': 11428, 'mileena': 12286, 'chrisman528': 4244, 'm5djllxozp': 11721, 'gf5qjgoyci': 8051, '7lvgcmyiyj': 1085, '40w': 676, 'us70': 19535, 'lebanon': 11154, 'lindasocvat': 11347, 'deathmule': 5382, 'sxhgfithjw': 18081, 'mk': 12421, 'tremors': 18978, 'stalag': 17585, 'ermac': 6741, 'tournament': 18858, 'o7qogmoegu': 13432, 'ssb4': 17556, 'losers': 11551, 'loretta': 11541, 'fuddy': 7771, 'authenticating': 2424, 'sole': 17295, 'mzrhfojt2j': 12819, 'combined': 4562, 'isbtzujfbm': 9928, 'picked': 14343, 'overcome': 13869, 'behold': 2857, 'tcc': 18267, 'endless': 6610, 'eerkh8ljws': 6400, 'phnotf': 14321, 'cheekiness': 4147, 'bleeds': 3129, 'recoil': 15534, 'keeper': 10596, 'runnin': 16230, 'disappointing': 5776, 'drove': 6129, 'midnight': 12268, 'passive': 14092, 'aggressively': 1694, 'coerced': 4498, 'commitment': 4597, 'organizations': 13779, 'fluctuations': 7483, 'disturbances': 5848, 'imbalances': 9549, 'primary': 14780, 'margaret': 11888, 'wheatley': 20289, 'musicvideo': 12750, 'uuzaumdobc': 19599, 'luzukokoti': 11655, 'understanding': 19382, 'umntu': 19346, 'wakho': 20042, 'referencereference': 15583, 'xekstrin': 20729, 'cried': 4969, 'partake': 14071, 'o7yyjlukfj': 13433, 'baileysmsteach': 2606, 'û_ahhh': 21309, 'û_that': 21313, 'perrychat': 14242, 'opposite': 13731, 'r5bxzzhxkm': 15289, 'prmtxjjdue': 14802, '9eh2lcqkxl': 1279, 'blackinamerica': 3092, 'growingupblack': 8405, 'cowgirllawyer': 4881, 'refuse': 15597, 'unawares': 19358, 'intoxicated': 9829, 'films': 7323, 'creative': 4947, 'artists': 2242, 'interviewed': 9826, 'depth': 5555, 'anatomy': 1959, 'j6mpdsx9lk': 10023, 'loathing': 11461, 'solitude': 17299, 'mas': 11948, 'ih8udz8mq3': 9471, 'shakjn': 16785, 'c7': 3684, 'magnums': 11794, 'shaking': 16784, 'q5qcoao8jp': 15080, 'choosegod': 4223, 'restoringpaths': 15798, 'unknown': 19429, 'curiosity': 5093, 'qrhng6kj1c': 15172, 'scottdpierce': 16543, 'billharris_tv': 3010, 'harrisgle': 8689, 'beezersun': 2837, 'forfeiting': 7568, 'files': 7314, 'thexfiles201days': 18538, 'balanced': 2619, 'ought': 13833, 'c1xhizprad': 3672, 'risks': 15953, 'untangle': 19463, 'besttalkradio': 2927, '8j09zutxwt': 1171, 'spin': 17458, '23rd': 402, 'mcnabbychic': 12048, 'knowledge': 10814, 'foolish': 7537, 'wisdom': 20400, 'amsal': 1944, 'denying': 5540, 'polar': 14554, 'sensanders': 16678, 'gd': 7979, 'wrked': 20597, 'reed': 15578, '8437150124': 1138, 'achieving': 1521, 'deltachildren': 5491, 'instaquote': 9769, 'quoteoftheday': 15231, 'waltdisney': 20058, 'blzt5zwose': 3203, 'motivator': 12600, 'reflections': 15589, 'forms': 7582, 'delusion': 5495, 'seeking': 16634, 'pity': 14415, 'dxfqou4kt2': 6239, 'morganite': 12571, 'gemstone': 8002, 'opal': 13709, '925': 1231, 'sterling': 17677, 'r1354': 15275, 'hhpvsatqxn': 8902, 'd12r8xpshy': 5175, 'thrones': 18601, '3x5': 657, 'kissed': 10746, 'cjhh17duli': 4325, 'salisbury': 16358, '325': 545, 'cypress': 5161, '10am': 133, 'oa6b0z2h6y': 13445, 'miss_homasttopa': 12371, 'nowwwwww': 13289, 'avi': 2455, 'header': 8770, 'combo': 4564, 'inkuv5dntx': 9728, 'retro': 15816, '1cvegtizog': 280, 'y3fo0ghg8t': 20855, 'i2el5acrrw': 9321, 'p5jpjgiipw': 13934, 'watsmxytva': 20133, 'politifiact': 14570, 'harry': 8691, 'pants': 14028, 'amymwwcpym': 1948, 'canonusaimaging': 3814, 'canonbringit': 3812, 'canontattoo': 3813, 'mn': 12453, 'theresmorewherethatcamefrom': 18525, 'tcxxhdjas6': 18276, 'seanhannity': 16592, 'teachers': 18291, 'drf3mmrbyx': 6087, 'gasoline': 7940, 'wcw': 20166, 'catsandsyrup': 3954, 'tha': 18441, 'icy': 9397, 'rum': 16218, 'bmsedzofsv': 3206, 'itfbbz9xyc': 9958, 'daughterofnai': 5307, 'tenshi': 18373, 'yuki': 21068, 'overcharging': 13868, 'rent': 15695, 'catalinas': 3937, 'n0tawgezjx': 12824, 'overwork': 13892, 'justin_ling': 10434, 'rainbows': 15348, 'cyhi': 5157, 'daniels': 5261, 'fz1haej255': 7845, 'zomatoaus': 21230, 'lovefood': 11572, '9l5kqykrbg': 1297, 'obstacles': 13479, 'dontexpectnothing': 5983, 'smelling': 17188, 'bon': 3257, 'mores': 12567, 'brant': 3373, 'drummond': 6141, 'structure': 17807, 'eudwnfyuem': 6813, 'rfp': 15860, '450': 692, 'transporta': 18938, '8gtrvece1n': 1165, 'reno': 15693, 'catches': 3943, 'k5fijankjb': 10483, 'pugwash': 14968, 'kmpfhglhoo': 10786, 'sigalert': 16945, '133': 179, 'ufn': 19292, 'trash': 18946, 'brooktekle_': 3482, 'langley': 11030, 'l90dcpv9zu': 10961, 'pat': 14099, 'spen': 17440, 'r6yjw4xcky': 15294, 'kapokekito': 10532, 'northgate': 13242, 'taco': 18145, 'wompppp': 20480, 'k3': 10477, 'phase': 14300, 'prayforsaipan': 14695, 'irvine': 9922, 'chp': 4237, 'detouring': 5626, 'eeenice221': 6394, 'justinejayyy': 10436, 'ohgod': 13578, 'v5gtunwohy': 19636, 'reopened': 15698, 'knx1070': 10820, '1952': 255, 'dodge': 5940, 'wayne': 20143, 'bodied': 3230, 'libby': 11273, 'ori': 13783, 'mcejzzxgh8': 12038, 'trident': 19007, '90225': 1215, 'pumper': 14981, 'ims': 9597, 'ho': 9008, 'plastic': 14460, 'faqnfupegn': 7126, 'mqfofkxtyh': 12646, 'bedding': 2825, 'sticker': 17693, 'decals': 5394, 'ykuauov9jo': 20982, 'racer': 15310, 'clogs': 4404, 'jrdwyy0ax4': 10361, 'rgj': 15867, 'kaf3wdrmtn': 10504, 'cebu': 4001, 'philippi': 14312, 'al28rvkqpq': 1780, 'nno': 13184, '7cmf3noync': 1064, 'choose': 4222, 'tamrcwfygd': 18195, 'push': 15014, 'jaymcleanauthor': 10124, 'imilsfxntf': 9554, 'filipino': 7315, 'jade': 10052, 'fl': 7409, 'ybdsljw7c1': 20902, 'njturnpike': 13152, 'reopens': 15700, 'oabjztbvyz': 13446, 'gpbxrrdc07': 8285, 'lukebox': 11641, 'mnpdnashville': 12457, 'nashvillefd': 12899, 'swiftly': 18058, 'praying': 14696, '10k': 134, 'doningtondash': 5977, '11am': 153, 'sept': 16695, 'donington': 5976, 'g1nw99yj8u': 7856, 'detkenlang': 5621, 'kcrnmjkj73': 10581, 'smarttek': 17179, 'mpers': 12639, '3oionqlfql': 628, 'curb': 5089, 'responder': 15781, 'wtafaepukz': 20613, 'carmike': 3885, 'cinemas': 4287, 'priority': 14794, 'behfhsppud': 2855, 'roadid': 15999, 'hikdc1fm2f': 8934, 'vip': 19848, 'vimeo': 19829, 'lkxi6uxjaq': 11433, 'juneau': 10416, '94uyt4ojyk': 1244, 'reds': 15570, 'lightly': 11312, 'reserved': 15753, '1vi2rnbk2i': 327, 'mnh6fxhodb': 12454, 'snaymldiun': 17227, 'kirsten': 10742, 'gillibrand': 8110, 'amea3lamdj': 1917, 'extend': 6979, 'avv6hpnpch': 2464, 'convene': 4761, 'awards': 2477, 'gis': 8124, '0t9yd557ry': 83, 'gisuserpr': 8128, 'geotech': 8030, 'badges': 2583, 'e65v80fcus': 6282, 'resilience': 15765, 'factsheet': 7065, 'fcfpijiqt5': 7185, 'iafflocal4416': 9348, 'int': 9784, 'bridgeportspeed': 3427, 'dih1tgqhej': 5735, '999day': 1265, 'brave': 3377, 'dart': 5294, 'participating': 14075, 'intensive': 9798, 'technical': 18315, 'tl93aod3er': 18714, 'gains': 7893, 'heading': 8771, 'antiochhickoryhollow': 2046, 'lender': 11202, 'fees': 7231, 'linkedin': 11358, '9pmbtxmoal': 1316, 'pantofel': 14027, '087809233445': 30, '23928835': 400, 'dthneezupe': 6162, 'pnpizody': 14530, 'hat': 8714, 'cap': 3823, 'embroidered': 6534, 'mo7dbbdfvr': 12460, '0scnwe8xbv': 80, 'u3wao8asfg': 19237, 'hc6hzs4wsi': 8747, 'luchaunderground': 11623, 'elreynetwork': 6511, 'ox6ouw3yut': 13908, 'fever': 7267, 'yxnagsqvbm': 21084, 'summon': 17917, 'directly': 5758, 'guest': 8454, 'chachi': 4062, 'otblb9pj2i': 13819, 'kelworldpeace': 10611, 'taxstone': 18246, 'yoga': 21001, 'sbnation': 16486, 'xyi5fdacxo': 20835, 'sjtvzggcxu': 17054, 'gilderoy': 8108, '100nd': 121, 'htqvf44uqs': 9190, 'pvxelxcjeu': 15030, 'tadhgtgmtel': 18151, 'maryland': 11946, 'mansion': 11864, 'ucudwiu3an': 19274, 'manly': 11858, '2327564d': 396, 't1mbw0ia3o': 18115, 'clfa0py5lm': 4378, 'benstracy': 2907, 'rp': 16146, 'silo': 16971, '260th': 415, 'hartford': 8696, 'chose': 4232, 'bod': 3229, 'portgassdk': 14603, 'bravery': 3378, 'erinmariefishy': 6738, 'flames_nation': 7416, 'optimistic': 13742, 'pivot': 14417, 'p1wmkxa9d8': 13924, 'pardon': 14050, 'mindless': 12315, 'awickedassassin': 2487, 'hugged': 9210, 'tightly': 18649, 'selmoooooo': 16662, '_edvinnn': 1358, 'imtariik': 9599, 'dzafic_haris': 6260, 'selmo': 16661, 'witnessing': 20420, 'slaughter': 17120, 'ell': 6505, 'rubybot': 16201, 'thh': 18540, 'furst': 7804, 'rising': 15951, 'graph': 8322, 'ulxf6dq3ns': 19335, 'aisumage': 1749, 'akumareisu': 1774, 'ophelia': 13721, 'soloquiero': 17301, 'firefighte': 7357, 'lkjfabqzb3': 11430, 'cw_hoops': 5129, 'atcmrjzjtp': 2333, 'aomq1rykmj': 2069, 'advantages': 1615, 'apropos': 2135, 'favorable': 7167, 'regard': 15601, 'mississauga': 12381, 'pwhvgwax': 15036, 'flattened': 7426, 'cartoony': 3909, 'papa': 14030, '4zmcqrmois': 790, 'pennies': 14210, 'sumo': 17920, 'wrestler': 20582, 'gain': 7889, 'muaytai': 12694, 'wantmyabsback': 20068, 'qfrawln4ba': 15118, 'zouma': 21240, '9jcibenckz': 1292, '70000': 1016, 'outright': 13854, 'bhufevagpu': 2964, 'yosemite': 21015, 'sam': 16376, 'drumpf': 6142, 'ûïnobody': 21341, 'rabbit': 15305, 'grabakahitman': 8298, 'izi_garcia': 9999, 'machida': 11753, 'floored4': 7464, 'birds': 3039, 'cups': 5088, 'lag': 10988, 'dock': 5928, 'r5stv25zhq': 15291, 'conklin': 4690, 'shuffled': 16923, 'chest': 4166, '67tjn9egyk': 933, 'thee': 18486, 'striker': 17790, 'picking': 14346, 'hay': 8734, 'masonite': 11955, 'wahpeton': 20031, 'kw3vq4nijq': 10912, 'fylde': 7843, 'preston': 14756, 'iconic': 9389, 'disappearing': 5773, 'pdkhbdg9ho': 14170, 'iamhorsefly': 9351, 'hide': 8915, 'mbiwa': 12026, 'jimmozel': 10225, 'puck': 14960, 'implicit': 9574, 'statement': 17631, '5hljucxi0s': 854, 'kainyusanagi': 10507, 'grummz': 8415, 'pixelcanuck': 14419, 'raynor': 15424, 'balding': 2621, 'marine': 11903, 'emo': 6560, 'generic': 8010, 'seanpeconi': 16593, 'jason_floyd': 10112, 'lynchonsports': 11682, 'criscyborg': 4978, 'bluetooth': 3195, 'muppet': 12728, 'tweetinglew': 19158, 'tersestuff': 18395, 'heartland': 8803, 'tfw': 18429, 'slaves': 17123, 'albertans': 1800, 'twilightfairy': 19168, 'kurt': 10902, 'fallacy': 7092, 'steam': 17654, 'robertcalifornia': 16013, 'thereisonlysex': 18522, 'earrings': 6308, 'jewelry': 10195, 'rjebpib5rz': 15974, 'sided': 16935, 'linerless': 11353, 'caps': 3834, 'w00kjprfdr': 20003, 'mixl1pfrje': 12406, 'bigburgerboi55': 2988, 'footballs': 7542, 'spartans': 17406, 'crushing': 5022, 'satanaofhell': 16435, 'dreamy': 6078, 'slowly': 17160, 'wrnpywyalj': 20598, 'qv7iydovx9': 15236, 'fizzy': 7393, 'seats': 16603, 'jkl': 10242, 'cancels': 3799, 'harlan': 8681, 'knox': 10817, 'ky': 10924, '4ry6zhcpoq': 767, 'wx': 20654, '53inch': 814, '300w': 526, 'curved': 5102, 'led': 11157, 'offroad': 13558, 'fog': 7508, 'lamp': 11005, 'xxkhjysn0p': 20826, 'jevhknjgbx': 10193, 'jcdd6sd6qn': 10138, '9guckjghms': 1285, 'bigåêconsequences': 2999, 'cvpdvhxd1r': 5127, 'fdmxp4fcmo': 7198, 'homecoming': 9050, 'prom': 14848, 'waters': 20129, 'socialnews': 17272, 'vmkexjtyg4': 19899, '2pcs': 489, '18w': 243, '4wd': 779, 'beam': 2792, 'vdefmulx43': 19717, 'yqpaijsa5g': 21041, 'fighter': 7302, 'creationmin': 4945, 'rwrabbit': 16258, 'gooneratheist': 8250, 'atheistic_1': 2336, 'lolatjesus': 11492, 'robertbenglund': 16012, 'mtmoia0oo0': 12687, 'nn4ztcmsru': 13178, 'atlarnxx': 2345, '72w': 1027, 'alloy': 1868, 'xwn7rgvkzc': 20818, 'swpdq84boi': 18074, 'apwxs5mm44': 2141, 'ds76lozlsu': 6152, 'hellotybeeren': 8845, 'cue': 5067, 'motors': 12610, '452': 694, 'ed32pbvio7': 6360, '10x': 142, '27w': 424, '12v': 175, '24v': 406, 'tractor': 18896, 'utv': 19591, 'ifm6v6480p': 9442, '85v': 1143, '265v': 418, '10w': 141, 'outdoor': 13846, 'pir': 14396, 'auc': 2388, 'njvpxzmj5v': 13153, 'ijd7wzv5t9': 9492, 'iembot_hfo': 9435, 'hana': 8625, 'maui': 12004, 'coastal': 4472, 'gg0dzsvbz7': 8061, 'kbe91arcdw': 10569, 'atv': 2380, 'd3p88xdlec': 5182, 'j2ddvh7fy0': 10005, 'o1smuh2unn': 13420, 'xqj6wgiuqh': 20782, 'basics': 2705, 'defective': 5446, 'intertissue': 9821, 'trench': 18980, 'guabxfv': 8440, 'uzsqzycb8x': 19620, 'bmx': 3210, 'areal': 2167, 'shelby': 16831, 'cdt': 3998, '62oddekvli': 912, '1qt51r5h98': 316, 'oqh1jbuenl': 13752, 'alwx': 1898, 'gtqmgsgcsb': 8436, 'grant_factory': 8316, 'grants': 8319, 'funds': 7789, 'weymouth': 20262, 'seawalls': 16607, 'th2wlilbmo': 18439, '5xmce6jufs': 889, '3zo7px3p1v': 662, 'o097vsotxk': 13417, 'i23xy7iejj': 9317, 'fdsaooiskj': 7200, '2uvmq4vafq': 505, '28pm': 428, 'edt': 6382, 'nws': 13372, 'd02sbm0ojs': 5174, 'wxky': 20662, 'peeked': 14194, 'mud': 12696, 'immune': 9563, 'deafening': 5368, '6zcfhi7srw': 1012, 'vwykdau1vm': 19980, 'prone': 14861, 'westchester': 20248, 'eligible': 6494, 'xsr2vujyiz': 20796, 'arrives': 2221, 'nosvu0zx4x': 13256, 'sittway': 17035, '5mjzjnkpfn': 865, '00pm': 6, 'urban': 19515, 'semw5cq7dg': 16666, 'mjmwa72er6': 12417, 'adx9iyi246': 1624, 'elk': 6503, '8j19fvu7qa': 1172, 'cuban': 5055, 'xlq8g6vb2r': 20760, 'docks': 5930, '5pmikavykl': 872, 'warlord_queen': 20076, 'thrusts': 18608, 'jams': 10085, 'womb': 20475, 'midwest': 12274, 'uahicwpih4': 19257, 'environment': 6674, 'showers': 16912, 'storms': 17740, 'hunwx': 9254, 'e3l1jqjh2u': 6275, 'joints': 10301, 'eliminate': 6497, 'random': 15375, 'homeimprovement': 9053, 'kx8cu4s8t1': 10917, 'wveo9ed10e': 20628, 'adorableappple': 1602, 'mmda': 12444, '166': 216, 'displace': 5825, '9mj8ouj3vt': 1302, 'kkoovbkndp': 10769, 'laos': 11038, 'vision': 19861, '8fvqrizoux': 1163, 'ukfloods': 19322, 'trekkers': 18974, 'himalayas': 8951, 'nsfzkfgznj': 13320, 'slopeofhope': 17155, 'dilute': 5740, 'qcyxwr2rdv': 15103, 'tdaktglu5p': 18277, 'mold': 12499, 'proudgreenhome': 14899, 'kavaovjz2v': 10564, 'xjkrxrnwnv': 20748, 'insubcontinent': 9776, 'jlwgshyy3n': 10252, '9z9hsmiavd': 1340, 'iraqi': 9900, 'seekers': 16633, 'ndetention': 12966, 'unscreened': 19452, 'b4k0r4gga8': 2535, 'dcclothesline': 5343, 'netkicorp': 13028, 'guests': 8455, 'eltne5v1qn': 6513, 'valleywx': 19670, 'themaine': 18505, 'drums': 6143, 'janice': 10090, 'bbcengland': 2749, 'q4kgftc2am': 15073, '6w6a2l4qae': 1003, 'hvxu1zcvau': 9278, 'ijmccmhh5g': 9494, 'crabbycale': 4901, 'nycha': 13394, 'ny1': 13385, 'ny1burst': 13386, 'w7siidujoh': 20018, 'lrt': 11600, 'assisting': 2310, 'parts': 14082, 'pijg5w2l2u': 14365, 'ocnj': 13499, 'jzprciqa9d': 10468, 'kwislo': 10914, 'prompting': 14858, 'r7vpaklhvi': 15296, 'unveiled': 19467, 'travis': 18956, 'deputy': 5557, 'joined': 10298, 'eo2f96wxpz': 6681, 'icfql7i9op': 9386, 'lakh': 10998, 'thankkk': 18449, 'soo': 17330, 'notificationsu': 13269, 'parsholics': 14070, 'superb': 17942, 'jus': 10424, 'awesomelove': 2484, 'frvrgrateful': 7746, 'sliding': 17138, 'writers': 20590, 'tony': 18792, 'nester': 13023, 'sonoranrattler': 17326, 'writingtips': 20594, 'slttorrlhs': 17166, 'tornadoes': 18822, 'plaguing': 14442, 'farrakhan': 7138, 'landsli': 11023, '9tg7a5oqfp': 1328, '119000': 152, '966': 1253, 'camps': 3785, 'eu8jypizsd': 6811, 'tornados': 18824, 'ictyosaur': 9396, 'granted': 8317, 'madonnamking': 11773, 'rspca': 16177, 'density': 5534, 'cyberdemon531': 5147, 'dew': 5654, 'erodes': 6743, 'stunned': 17834, 'jrgj17oamt': 10362, 'reckon': 15529, 'dmt': 5915, 'heared': 8791, 'priceless': 14772, 'sunshine': 17939, 'fab': 7046, 'albertsons': 1801, 'cwhslmb8x9': 5133, 'bengal': 2894, 'cm': 4435, 'mamata': 11836, 'banerjee': 2636, 'dvc': 6225, 'bjp': 3069, 'bozlwr716z': 3339, '69': 936, 'naypyidaw': 12936, 'prensa': 14724, 'latina': 11066, 'jods9a32pi': 10274, 'approaches': 2124, 'njmidysxof': 13149, 'abc7chicago': 1437, 'casewrites': 3920, 'nj': 13142, 'taxes': 18240, 'itunes': 9967, 'ocojppnrh1': 13500, 'glory': 8173, 'luiz': 11635, 'santos': 16419, 'contactenergy': 4727, '1999': 270, 'clyde': 4433, 'releasing': 15642, 'speccy': 17414, 'bamenda': 2628, 'wnamtxlfmt': 20453, '6coidv11qv': 949, 'portaloos': 14601, 'sentient': 16688, 'apc': 2079, 'chieftain': 4183, 'tasks': 18224, 'dickson': 5703, 'n15b': 12826, 'donation': 5974, 'bayelsa': 2740, 'lqgoe7psxp': 11594, 'pagasa': 13971, '12am': 165, 'panay': 14010, 'guimaras': 8465, 'negros': 13000, 'landslides': 11025, 'mountainous': 12616, '40hourfamine': 673, 'worldvision': 20521, 'xqdvghz8g6': 20780, 'paraguay': 14043, 'aw23wxtyjb': 2471, 'abgct9vfua': 1447, 'etp': 6805, 'hszjafxrvi': 9185, 'dua': 6166, '0jfnvaxfph': 55, 'sumn': 17919, '250000': 410, 'lxjjgyv86a': 11670, 'u9x3perxco': 19254, '8rdxcfgqem': 1200, 'a2myutpdiq': 1385, 'xrskt0s9lz': 20793, 'anew': 1978, 'e1': 6266, 'particulate': 14078, 'combust': 4565, 'voltaic': 19926, 'voc': 19906, 'petroleum': 14272, 'ch4': 4059, 'bacteria': 2577, 'decomposition': 5415, 'beaverton': 2814, 'bcjylerryx': 2770, 'bind': 3024, 'careless': 3870, 'campfire': 3782, 'wardens': 20073, 'aprensss3x': 2133, 'pisgah': 14403, 'grows': 8409, '375': 569, 'd7zxz42qw1': 5189, 'ashenforest': 2265, 'floorburnt': 7463, 'manzanita': 11873, 'timber': 18657, 'routecomplex': 16132, 'fymp4i2wp5': 7844, 'sweet2young': 18050, 'neck': 12987, 'hornybigbadwolf': 9108, 'jk7npdpwro': 10239, 'cole': 4515, 'column': 4558, 'yqg5pvw5gx': 21038, '3stfmn26r9': 644, 'dao9azeucr': 5274, 'inbetween': 9606, '15p': 205, 'nuff': 13340, 'pet': 14258, 'socal': 17265, 'ybtheprophet': 20907, 'realhiphop': 15480, 'zpsnx5iyaj': 21243, 'ruhl': 16206, 'modoc': 12489, 'temporarily': 18359, 'reassigned': 15501, 'usfs': 19557, 'acronym': 1536, '8nadrgr4xc': 1188, 'rgyuakc0dr': 15873, 'naturaldisasters': 12922, 'tqwrw3jqwo': 18884, 'ducks': 6177, 'stamp': 17589, 'elephants': 6485, 'gilmanrocks7': 8111, 'sharply': 16814, 'dfyrppzkpu': 5663, 'iwsdbgd1zq': 9985, 'nycdivorcelaw': 13392, 'denier': 5528, 'algae': 1828, 'bloom': 3169, 'alska': 1885, 'seeweed': 16640, 'caribean': 3876, 'inhofe': 9716, 'spends': 17445, 'srslcxhc2t': 17552, 'qave': 15093, 'knowlddge': 10813, 'd62zfzy0mi': 5187, 'tft1bb4xaz': 18428, 'utumvaabz6': 19590, 'boise': 3237, 'stormcoming': 17738, 'spread': 17500, 'palmoil': 14002, 'indonesia': 9668, '4zn0mdsrvp': 791, 'awxr24zsqh': 2494, 'o9a26fn27y': 13440, 'smokey': 17204, 'wtggqs5geh': 20618, 'nightmares': 13117, 'rbzomwgjee': 15440, 'bcpoli': 2775, 'canpoli': 3815, 'vanpoli': 19687, 'tales': 18176, 'xuhmj098lq': 20806, '6o1mgmghgt': 982, 'wtpo6elrzd': 20620, 'deployed': 5547, 'contain': 4729, 'fwup9yurzy': 7829, 'braves': 3379, 'angels': 1986, 'dumping': 6193, 'heartdisease': 8800, 'spending': 17444, 'kzfigkeeva': 10934, 'pharrell': 14299, 'k0qtl8aodh': 10471, 'zqbxe7x9y7': 21246, '1hlvrkwgip': 292, 'otfw5sekd7': 13821, 'rogue': 16050, 'siskiyou': 17026, 'nf': 13069, 'lkwxu8qv7n': 11432, 'abbyairshow': 1433, 'vxjcx8ukmd': 19984, 'simpson': 16986, 'uyyyrkd6q3': 19617, 'campsite': 3786, 'recommendations': 15536, 'toilets': 18764, 'pub': 14952, 'midges': 12266, 'snakes': 17221, 'tape': 18209, 'straightfire': 17749, 'firefighting': 7360, 'consumes': 4724, 'clash': 4349, 'cites': 4300, 'increasing': 9629, 'lswsitnkuk': 11609, 'b1g': 2523, 'bmurph1019': 3207, 'hail_youtsey': 8591, 'termn8r13': 18383, 'goblue': 8206, 'wrestleon': 20581, 'oaskgki6qj': 13453, 'avenged': 2449, 'sevenfold': 16737, 'mike': 12280, 'szuter': 18109, '9e2f7bivle': 1278, 'tremblayeh': 18975, 'sirmixalot': 17022, 'lzk': 11691, 'auxsmdg1un': 2439, 'dawgs': 5329, 'dak': 5216, 'jak': 10063, 'igyu2peiu3': 9467, 'japton': 10101, 'poss': 14613, 'arwx': 2248, 'tim8x9bi0f': 18654, 'rnk': 15995, 'rockingham': 16036, 'stokes': 17712, 'chojo': 4217, 'pumpkin': 14982, 'massive': 11962, 'outage': 13837, 'wxii': 20661, 'davidson': 5321, 'heyseto': 8884, 'blppzaiboe': 3185, 'cheryl': 4165, 'kigy7m6bgj': 10699, 'kmactwn': 10781, 'meaganerd': 12062, 'cereal': 4030, 'kellogg': 10608, 'sugar': 17892, 'stays': 17646, 'crunchy': 5017, 'thou': 18576, 'idqcfjycym': 9427, 'fahlo': 7072, 'queenåê': 15205, 'olpbmy9xw9': 13645, 'on18cqgcoa': 13666, 'modnao23': 12488, 'migraine': 12275, 'glasses': 8152, 'faze_rain': 7177, 'affecting': 1642, 'sturgis': 17839, 'kotaweather': 10841, '1epiyenqyl': 285, 'hail_zel': 8592, 'kno': 10801, 'b7omj7u3ei': 2541, 'overhead': 13872, 'oakridge': 13449, 'melt': 12124, 'yycstorm': 21089, 'heyitsepark': 8882, 'flow397': 7475, 'atcha': 2331, 'boston': 3297, 'golfball': 8229, 'sunny': 17933, 'parkchat': 14059, 'vbffodtp6m': 19704, 'qo3vwfelkp': 15154, 'unr': 19444, 'weston': 20254, 'custer': 5104, 'pennington': 14211, 'sd': 16578, 'kevin': 10639, 'chefs': 4153, 'pastures': 14098, 'sustainable': 18016, 'organic': 13776, 'd9xvuvp9s6': 5191, 'caesars': 3714, 'gzmoblsjxu': 8538, '5cgtqfk2ur': 842, 'pounded': 14639, '2be7bwcmpl': 443, 'darkndtatted': 5287, 'holmes': 9038, 'res': 15744, 'doppler': 5998, 'showing': 16913, 'edmond': 6377, 'okwx': 13627, 'lrx0sdsnhm': 11602, 'lawrence': 11097, 'meade': 12061, 'postering': 14625, 'calgaryfringe': 3741, 'mothernature': 12595, 'hailstorm': 8595, 'yycfringe': 21088, 'killhard': 10709, 'haley_whaley': 8604, 'gems': 8001, 'ofclans': 13529, 'profile': 14829, 'rgoguyt0lf': 15869, 'produces': 14821, 'peterhowenecn': 14267, 'necn': 12988, 'nixon': 13141, 'tricky': 19005, 'dicky': 5704, 'hiding': 8917, 'miusvpxqte': 12401, 'summons': 17918, 'pokemon': 14550, 'qbdryxsglc': 15094, 'vzod7qfflv': 19999, 'adriasimon_': 1604, 'round2': 16128, 'fqqi8gvlq4': 7639, 'sxwjyr3k3l': 18085, 'aewglvqreh': 1634, 'crazyweather': 4934, 'xqbwnlbbiu': 20779, 'pummel': 14978, 'jkym9edofc': 10244, 'maxi': 12009, 'erws6ieldg': 6750, 'sworn': 18073, 'proven': 14901, 'rzagdnwtah': 16272, 'uqettagscu': 19506, 'bobcats': 3228, 'backyards': 2576, 'tmzxopvs94': 18729, 'w192wkog1m': 20008, 'errrr': 6746, 'notgoingoutinthat': 13262, 'hellonwheelsamc': 8844, 'how_fans': 9148, 'talkinghell': 18184, '9giaxd6jty': 1283, '2wbivkzjip': 506, 'hailing': 8594, 'haildamage': 8593, 'yycweather': 21091, 'captureyyc': 3847, 'sto': 17705, 'kestuuyc4t': 10636, 'pzfbb1p1mj': 15057, 'zct5cchoj0': 21150, 'intense': 9795, 'cityporn': 4313, '4608ìñ2474': 703, '8e6xuhrbkh': 1160, 'qo190n8udd': 15153, '5u5gakx2ch': 882, 'slam': 17108, 'knocks': 10808, '20k': 375, 'sky9eokggb': 17092, '5iyzsda6xb': 856, 'carlilescanoelivery': 3880, 'lovemyjob': 11577, 'zo8rsqura2': 21225, 'northeast': 13239, 'logan': 11484, 'cowx': 4884, 'xk9owgv1o5': 20750, 'councilscc': 4846, 'jamaicaplain': 10074, 'mj8rezoxlj': 12414, '45': 691, 'zagbmlsf4h': 21132, 'hvyxehxbmq': 9279, 'pots': 14635, 'iamdowntown': 9350, 'hbhx0dwkpc': 8744, 'avoids': 2462, 'hlyhdfwsqb': 8999, 'gwsnbmmcqf': 8514, '1fhrrhcimh': 287, 'reviewing': 15843, 'commuters': 4611, 'stranded': 17754, 'ft7orfa52y': 7751, 'dv4mmlso1i': 6223, 'vgf41iupkn': 19775, 'penalties': 14203, 'pcps': 14164, 'physicians': 14338, 'tdwprvb04y': 18285, 'tareksocal': 18211, 'celebrities': 4015, 'sticks': 17695, 'stones': 17718, 'cupcake': 5087, 'vanderbilt': 19681, 'ccdx7cglqw': 3986, 'leedsrouge': 11162, '0wratka2jl': 95, 'treating': 18963, 'dlizfkk30y': 5897, 'annoyed': 2024, 'hung': 9239, 'audaciousspunk': 2392, 'dumbass': 6188, 'concur': 4658, 'mmk': 12448, 'dxwfx56pwh': 6243, 'tagging': 18156, 'dinallyhot': 5744, 'rebooting': 15510, 'improvements': 9593, '198': 264, 'rqlpsaye3b': 16160, 'wayward': 20146, 'surveys': 17995, 'qzloremft': 15270, 'otratmetlife': 13827, 'harms': 8685, 'standardized': 17594, 'tests': 18408, 'id667rlets': 9402, 'parentsacrossam': 14055, 'cc': 3983, 'billgates': 3009, 'ûïfor': 21334, 'ûïplans': 21344, 'prosper': 14881, 'cirtvml9vp': 4296, 'lauren_miller_7': 11086, 'angel_star39': 1980, 'illegals': 9518, 'protected': 14886, 'vilelunar': 19822, 'trickshot': 19003, 'controller': 4757, 'infinite': 9697, 'fading': 7071, 'bans': 2655, 'ads': 1606, 'b9zx2xz6aw': 2547, 'vgzgok5k3s': 19777, 'gards': 7933, 'reblogged': 15508, 'scars': 16503, 'wowsavannah': 20548, 'collectibles': 4526, 'randy': 15379, 'irwin': 9923, 'k14q8chwkp': 10473, '5hvzlaradio': 855, 'bros': 3484, 'wwexdreamer': 20642, 'form': 7577, 'malistkiss': 11829, 'righteous': 15919, 'continually': 4740, 'shias': 16846, 'defeats': 5445, 'ideals': 9407, 'news4buffalo': 13053, 'guardrails': 8447, 'space_wolverine': 17389, 'foul': 7604, 'tastemycupcakee': 18228, 'lmfaooo': 11444, 'nawh': 12935, 'triggered': 19011, 'rjg0789': 15975, 'sterotypical': 17680, 'annddd': 2010, 'colorism': 4552, 'prevalent': 14762, 'views': 19816, '0w12pwpsfx': 91, 'politicians': 14567, 'plannedparenthood': 14452, 'fooled': 7536, 'eqdm2opybg': 6714, 'classycolkett': 4353, 'thorgan': 18572, 'gladbach': 8148, 'lifestyle': 11302, 'deemed': 5433, '0xrfvidxa2': 102, 'oihwgezdck': 13594, 'longbreastyat': 11511, 'choking': 4220, 'kraft': 10863, 'singles': 17000, 'njlqrqcnl9': 13148, 'ipfzwwnxxp': 9880, 'chaboyyhd': 4061, 'yr67ugesrm': 21044, 'battlefield': 2731, 'dukes': 6184, 'phiddleface': 14307, 'cascade': 3917, 'childress': 4192, 'dilyvrowyj': 5742, 'closures': 4415, 'uphill': 19490, 'argument': 2182, 'davis': 5325, 'judith': 10394, 'hopfer': 9099, 'deglin': 5466, 'vallerand': 19668, 'iufs7uv1hk': 9974, 'afrhnlly8d': 1656, 'eden': 6364, 'rbbnjkoqud': 15435, 'sanchez': 16392, 'bolasie': 3241, '7ct01neptl': 1065, 'thatpersianguy': 18455, 'youngsafe': 21023, 'harden': 8673, 'flopping': 7466, 'identical': 9410, 'highly': 8924, 'fanboys': 7112, 'dannyraynard': 5269, 'personally': 14250, 'aguero': 1705, 'berahino': 2911, 'xgkyvf9t4f': 20737, 'hector': 8819, 'bellerin': 2875, 'ecmj18azai': 6344, 'leg': 11169, 'dismissed': 5812, 'raped': 15395, 'occupational': 13490, '528': 808, '530': 812, '740': 1034, 'switch': 18066, 'oem': 13523, '20177': 365, '707d': 1017, 'kvnahthuwz': 10910, 'y8xknpqmnj': 20872, 'chelsea': 4154, 'talisman': 18179, 'keen': 10595, 'cristiano': 4981, 'lionel': 11362, 'mipasho': 12347, 'lxvlqvbc8r': 11673, 'xzvmzqus0x': 20845, 'dead_dreamer15': 5361, 'precious': 14703, 'onesie': 13673, 'recalled': 15516, '0pamznyyuw': 72, 'tomdean86': 18779, 'willian': 20351, 'shifted': 16850, 'deans': 5377, 'itzzkwfhg5': 9971, 'mav': 12006, 'ju8nfpnedl': 10385, 'londonfire': 11502, 'email': 6523, 'tipster': 18684, 'previews': 14767, 'swansea': 18033, 'pfsryjs1pc': 14281, 'skdbot7tgf': 17066, 'lickin': 11290, 'donuts': 5985, 'wingers': 20381, 'prem': 14717, 'basically': 2704, '1500': 197, 'wrightsboro': 20583, 'dduxthvvnr': 5357, 'wholeteam3': 20318, 'wholesaleent': 20317, 'jwnxh9q5ov': 10453, 'offloading': 13555, 'hilly': 8948, 'dlh': 5895, 'outlook': 13851, 'hwo': 9283, 'wozubxri2p': 20550, 'fucoqhclad': 7770, '7aze4iogme': 1058, 'assessment': 2304, 'optimization': 13743, 'routing': 16136, 'u9fcb8dz3h': 19252, 'igmpj': 9455, 'dangling': 5254, 'piercing': 14361, 'crystals': 5030, 'foodscare': 7533, 'offers2go': 13540, 'nestleindia': 13024, 'slips': 17149, 'magginoodle': 11781, 'humanconsumption': 9221, 'olap': 13630, 'jw6fnnssxt': 10448, 'multidimensi': 12714, '4zaztb19qe': 789, '92pk0hujd8': 1234, 'chemicals': 4160, 'strives': 17799, 'maintain': 11808, 'eco': 6346, 'friendly': 7719, 'gms': 8188, 'micjnpuhg0': 12250, 'multidimensional': 12715, 'vddi5chktp': 19716, 'quarrels': 15192, 'dlvzaay7qr': 5902, 'ed1vpitswy': 6359, '6xsbddlziy': 1007, '4e719w6m4v': 727, 'hearitfrompa': 8793, 'keratin': 10626, 'treatments': 18966, 'brazilian': 3381, 'copycats': 4797, 'meg': 12107, 'ggn39m60tl': 8066, 'hearitfrompatty': 8794, 'breathing': 3405, 'sneak': 17230, 'needle': 12993, 'inject': 9721, 'veins': 19735, 'theblackshag': 18472, 'dannyoneil': 5267, 'noxious': 13291, '3x6rbqjhn3': 658, 'bjzssw4tid': 3074, 'josh_lado': 10327, 'tweeting': 19157, 'joshua': 10331, 'typos': 19213, 'rodpt33xfm': 16045, 'eversafe': 6851, 'rush': 16237, '0bvk5tub4j': 38, 'mtr': 12689, 'tglk2uus2z': 18435, 'terwilliger': 18396, 'pp15000266858': 14661, 'pdx911': 14174, 'paqanences': 14038, 'psd': 14923, '9xo9mkqqsi': 1337, 'bp03eafewr': 3341, 'a0ad8z5vsr': 1377, 'ltma9xqxpx': 11614, 'startelegram': 17619, 'vulnerable': 19972, 'k9airfq3ql': 10488, 'jdbtlymehy': 10144, 'rawfoodbliss': 15419, 'humid': 9231, 'forehead': 7559, 'flared': 7419, 'olive': 13637, 'oli': 13636, 'extract': 6992, 'tbs': 18262, 'lawx': 11102, 'u0sykowvwv': 19228, 'lightman': 11313, '4wsva9wo0f': 781, 'apocalpytic': 2090, 'y8wloctevc': 20871, 'surges': 17984, 'irpssresrq': 9917, 'heebsterrr_': 8820, 'waseembadami': 20100, 'condemning': 4662, 'gv': 8502, 'heirs': 8828, 'itg84q7vii': 9959, 'frightening': 7725, 'bdotq8dsln': 2785, 'creationsbykole': 4946, 'cork': 4807, 'ireland': 9903, 'hollywarnexx': 9036, 'apaz': 2078, 'arnhem': 2208, 'unrelenting': 19448, 'expand': 6926, 'yhaqa5wxok': 20961, 'uae': 19256, 'mideast': 12264, 'ncms': 12961, 'thundering': 18617, 'tk65ske0zm': 18707, 'klarajoelsson': 10772, 'prefer': 14713, 'revitup': 15846, 'pizzarev': 14423, 'bp8bm8xsxw': 3344, 'longest': 11513, 'triple': 19018, 'digit': 5730, 'ih0awv3l1o': 9469, 'xxoupfy8nq': 20827, 'a3bjabhqhe': 1390, 'wfaaweather': 20266, 'pete': 14261, 'frisco': 7726, 'scouts': 16549, 'canoe': 3811, 'okla': 13620, 'enjoying': 6641, 'cooler': 4776, 'temps': 18361, '7amdollela': 1057, '3la': 620, 'kulli': 10892, '7aal': 1053, 'nbc10': 12945, 'rachelcaine': 15311, 'weatherit': 20193, 'chilli': 4197, 'doritos': 6004, 'compensations': 4622, 'wmdihdiz1r': 20443, 'palinfoen': 13999, 'misery': 12360, 'gazans': 7959, 'jw3hn9ewft': 10447, 'presstv': 14753, 'nywrkrq7kn': 13410, 'matching': 11977, 'lipstick': 11366, 'rediscovered': 15566, 'nars': 12891, 'emilyschuman': 6552, '4egh1g1jk7': 728, 's4srgrmqcz': 16291, 'startide': 17621, 'hotter': 9136, 'greatbritishbakeoff': 8340, 'kristenkoin6': 10865, 'pdx': 14173, 'abq': 1465, 'bcuz': 2778, 'dances': 5249, 'xc96rwuszb': 20718, 'xm9stfzcpv': 20762, 'vol': 19915, 'deejayempiresound': 5432, 'rqiuqxnm2x': 16158, 'warfare': 20074, 'founding': 7607, 'tgtcru8jio': 18436, 'orchid': 13766, 'witch': 20409, 'ytkxwpyihg': 21058, 'shite': 16866, 'hellfire': 8841, 'plez': 14490, 'prophet': 14872, 'surrounded': 17990, 'desires': 5588, 'afterlife': 1668, 'deedee_casey': 5428, 'caves': 3968, 'beware': 2939, 'silentmind': 16968, '_bookofdaniel': 1351, 'fkqjy3ezyg': 7406, 'describes': 5573, 'piling': 14373, 'description': 5575, 'surah': 17971, 'humaza': 9227, 'reflect': 15587, 'ian_hellfire': 9356, 'rude': 16204, 'kind': 10716, 'sub': 17850, 'jyheffect': 10462, 'hellfire_ev': 8842, 'jackperu1': 10044, 'sewing': 16745, 'oversee': 13881, 'hunchback': 9237, 'notre': 13276, 'dame': 5233, 'reply': 15715, 'cocktail': 4487, 'diablo': 5684, 'verde': 19746, 'mezcal': 12207, 'chartreuse': 4129, 'cucumber': 5063, 'bitters': 3058, 'reuosjek4m': 15826, 'gg_keeponrockin': 8062, 'strawberrysoryu': 17763, 'suspicious': 18014, 'fel': 7237, 'zakuun': 21137, 'x1onv3d5ux': 20682, 'gargoyle': 7935, 'hoof': 9086, 'coil': 4507, '2ii3brc7nx': 462, 'mechamacgyver': 12074, 'fadc': 7068, 'usarmy': 19545, 'jagm': 10057, 'tow': 18862, 'missiles': 12377, '2mnqc73hfk': 478, 'tension': 18374, 'jonathan': 10311, 'hijack': 8929, 'pdp': 14172, 'comlg0vdbv': 4580, 'scam': 16494, 'sight': 16948, 'sarcastic': 16427, '86rsyy2tng': 1145, 'dreamoforgonon': 6076, 'teeess': 18326, 'bona': 3258, 'fide': 7291, 'cislady': 4298, 'incidental': 9614, 'homosexuality': 9068, 'bi': 2967, 'patched': 14101, 'os': 13799, 'exploit': 6958, 'macs': 11763, 'sbgirvqvzb': 16483, 'bypass': 3652, 'password': 14093, 'ars': 2224, 'technica': 18314, 'f7ogzrnpfv': 7037, 'everton': 6852, 'wonderkid': 20486, 'nb1e7mnce5': 12940, 'criminals': 4974, '5ytiex55lh': 894, 'donjazzy': 5978, 'policeng': 14558, 'humanrights': 9225, 'xyfl8wy62g': 20833, 'lrtu8rwn2f': 11601, 'epabinczmj': 6689, '1sgzgtgfw9': 320, 'goodluck': 8240, 'hashgqafic': 8703, 'mockingpanems': 12470, 'cuddlesforjen': 5064, 'slammed': 17109, 'rjac5sitep': 15971, 'plqf1biks4': 14498, 'nigerian': 13109, 'ffkcj8pfj2': 7272, 'music212': 12746, 'bayelsaåêstate': 2741, 'vh8qtbypzt': 19778, 'transfer': 18929, 'southampton': 17373, 'virgil': 19853, 'dijk': 5736, 'nzrwddlntp': 13415, 'jeep': 10159, 'cherokee': 4163, 'fiat': 7285, 'chrysler': 4262, 'harman': 8683, 'consumerist': 4723, '2hocep41kh': 457, 'mcgsecure': 12041, '53p4ooo1xn': 816, 'apcåêpdp': 2081, 'w1ufeibala': 20009, 'biulqprxke': 3061, 'pvmr38lnva': 15028, 'welshninja87': 20236, 'vuln': 19969, 'oxxrnab8un': 13910, 'b2yvlmpepr': 2530, 'qxxn6rksp6': 15257, 'b3x1wqzaor': 2532, 'cautious': 3965, 'jejc9xctmp': 10165, '3ejl9lzlch': 597, 'rickybonessxm': 15900, 'u2': 19231, 'specially': 17421, 'sirius': 17020, 'chan': 4082, 'sayin': 16472, 'nipzmflibd': 13131, 'rtfirzcpoc': 16187, 'jasoncundy05': 10113, 'utd': 19579, 'pedro': 14192, 'oregon': 13773, 'cmon': 4442, 'governor': 8278, 'allows': 1867, 'parole': 14068, 'hijacker': 8930, 'jwfiilj8wr': 10451, 'liveleakfun': 11400, 'ionwarvrfy': 9870, '1976': 262, 'hdahlgrprl': 8756, 'z1s3t77p3l': 21104, 'chowchilla': 4235, 'schoenfeld': 16518, 'glwoakppjq': 8179, 'wllflfndgg': 20439, 'vbqmz5apwj': 19707, 'linkury': 11360, 'browser': 3493, 'c2eyjnybfn': 3675, 'gt7gf0fsex': 8429, 'gpcecp9khv': 8286, 'xxj2b4jxrt': 20825, '9gtylgxroe': 1284, 'yg6rj86bki': 20957, 'evaded': 6838, 'csxvwxuz6t': 5041, 'dzlpnp399x': 6262, 'likwqhshhx': 11330, 'chills': 4201, 'hmrt98oydj': 9003, 'jab541hhk0': 10034, 'je6zjwh5ub': 10150, 'fdxgmiwaeh': 7202, 'l4wjhz4aj6': 10949, 'kmgdv7vsaz': 10783, 'bytsfms7md': 3657, 'u4bdy1w7d4': 19238, 'hrsfa8zuji': 9175, 'browseråêhijacker': 3495, 'vlnjnolnme': 19894, 'if5rogfjri': 9438, '9cntp3nq6o': 1272, 'qdf6asaelm': 15105, '2ns5tfnxpa': 483, 'w2kvscbtlp': 20011, 'tn8o00nrlp': 18733, '9jxb3rx8mf': 1294, 'b5s5epj7um': 2537, 'hpa9gqrywa': 9151, 'medieval': 12090, 'testa': 18400, 'earnings': 6306, 'distinction': 5842, 'divers': 5854, 'htarvrgly': 9186, 'fresno': 7707, 'sww0qsmxvm': 18079, 'bcdp4gkoka': 2768, 'kpivxgjnqt': 10853, 'tam6aoskoj': 18188, 'el24mnfchw': 6458, '9i5cczd5s0': 1289, 'weatrrihe1': 20195, 'weighs': 20221, '7npbfrzejl': 1093, 'y0kbyy8nce': 20846, 'n71hmvervv': 12844, 'yfppifdkqo': 20953, 'ajyulmftif': 1758, 'notexplained': 13261, 'infamous': 9684, 'cooper': 4781, 'jlzk2hdetg': 10254, 'fz8ytwqkwv': 7847, 'mauds99': 12003, 'jagexsupport': 10056, 'ush59uq30j': 19560, 'jagexhelpdibi': 10055, 'jag': 10054, 'enabled': 6588, 'demco': 5500, '8550013': 1139, 'hitch': 8979, '21k': 387, 'ultra': 19332, 'hrdwgfbfyq': 9167, 'nuohkmpzfj': 13351, 'casting': 3928, 'deviating': 5644, 'dyxtmrydu': 6258, '7ieiz619h0': 1075, 'tfeanwhh2h': 18424, 'sjicbhzfo4': 17050, 'softenza': 17285, 'anthelmintic': 2037, 'drawing': 6068, 'taxuxp9qa2': 18247, 'hijacking': 8931, 'cbps1gskvo': 3976, 'ladyfleur': 10984, 'cafì': 3718, 'funtenna': 7799, 'gujnpljvvt': 8467, 'prebreak': 14701, 'j2aqs5loxu': 10003, 's4pnihjqx7': 16289, 'cx6aupnemu': 5138, 'earnest': 6305, 'pletch': 14489, 'blooded': 3166, 'b9jaxx0vcf': 2545, 'wvtpuryx63': 20634, 'j5onxfwlao': 10021, 'eyugk6byxr': 7015, 'nqiobczkrt': 13299, 'aatt5amnmd': 1420, 'skateboards': 17064, 'saferåê': 16328, 'ihinj3enqi': 9476, 'samaritans': 16380, 'mdash': 12057, 'bronville': 3476, '6jjvcdn4ti': 969, 'qj3pvgavn7': 15135, '6aqrnankfd': 942, '8jcyxhq1az': 1174, 'waiver': 20039, 'sue': 17882, 'gexhzu1vk8': 8047, 'mis0rjxuir': 12357, 'koreans': 10835, 'apksnplxzj': 2089, 'vosloorus': 19935, 'gauteng': 7950, 'toyota': 18872, 'bkb066gp': 3076, 'odmp01eyzu': 13514, 'drsarwatzaib070': 6136, 'mcourt': 12049, 'parliment': 14067, 'g62txymzbv': 7866, 'whomever': 20319, 'wifi': 20337, 'hotspot': 9135, 'skill': 17074, 'perform': 14225, 'comuiok3mp': 4645, 'xv3d9bpjhi': 20811, 'jmawrlt7hb': 10256, 'v5yuualoqw': 19639, '263chat': 417, 'twimbos': 19170, 'zimpapersviews': 21194, 'lk5uqkop1e': 11429, 'earn': 6302, 'mcr': 12051, 'snort': 17241, 'jst5hauk35': 10375, 'flavorchargedtea': 7429, 'umgd92wlja': 19342, 'egyptian': 6429, 'threaten': 18590, 'croatian': 4987, 'gtxndnjrrl': 8437, '1717': 224, 'ransomware': 15390, 'wilson': 20359, 'aqbljcomln': 2144, 'held': 8829, 'chilling': 4200, 'windowsill': 20369, 'threatens': 18592, '48zg5ynebn': 710, 'quoted': 15230, 'purported': 15010, 'swvuzxi6gt': 18078, 'tomislav': 18781, 'salopek': 16364, 'wiqjeruktf': 20393, 'susanj357': 18003, 'msnbc': 12675, 'allinwithchris': 1858, 'egypt': 6428, 'croat': 4986, 'nzifztcugl': 13413, 'radical': 15318, 'mugged': 12703, 'excuses': 6901, 'holdin': 9023, 'europe': 6822, 'wk6b5z803o': 20432, 'evahanderek': 6839, 'marleyknysh': 11926, '1974': 261, 'xcq48ourvl': 20721, 'vdgfxyx3bw': 19718, 'lockdown': 11470, 'rumor': 16221, 'eioqjwgeix': 6444, 'trinna': 19016, 'adoptive': 1600, 'mylittlepwnies3': 12802, 'early__may': 6301, 'anathemazhiv': 1958, 'tonysandos': 18799, 'positivity': 14612, 'bartender': 2688, 'pmarca': 14513, 'affiliation': 1645, 'behead': 2853, 'tlvfaces': 18719, 'auspol': 2412, 'a6ppegelox': 1398, 'recovered': 15545, 'airasia': 1735, 'wreckage': 20579, 'wut': 20627, 'ditched': 5849, 'hungrier': 9243, 'captivity': 3842, 'introduced': 9834, 'compensate': 4621, 'ncjlxzfwaa': 12958, 'gideonstrumpet': 8095, 'dysfunctional': 6255, 'mcconnell': 12034, 'judicial': 10393, 'nominations': 13209, 'govern': 8275, 'vt2aky5mgk': 19962, 'hostages': 9127, 'unharmed': 19405, 'denied': 5527, 'nationals': 12913, 'ex4fnjjl6h': 6869, '130': 177, 'modified': 12484, 'stadium': 17577, '1980': 265, 'wpgvayfkbq': 20554, '6ioabsl6i7': 968, 'hannahkauthor': 8645, 'freeamirnow': 7675, 'freeallfour': 7674, 'gwnlhneku9': 8512, 'jkd7cti2iw': 10241, 'lajn2n5e2d': 10992, 'stood': 17721, 'superiority': 17949, 'unconditional': 19366, 'surrender': 17989, 'broadcast': 3462, 'journalism': 10336, 'fortune': 7595, 'quot': 15228, 'television': 18342, '3g': 603, 'superv': 17957, 'sinjar': 17002, 'massacre': 11957, 'yazidis': 20900, 'overåêhostages': 13893, 'carvv6gsrb': 3912, 'lan76zqkxg': 11009, 'holmgren': 9039, '96': 1250, 'zlco4ue5oq': 21216, 'w0exzad5gc': 20005, 'natalie': 12903, 'stavola': 17642, 'role': 16060, 'lh_movie': 11260, 'indiefilm': 9657, '2dw23pmf4b': 448, 'render': 15686, 'proxy': 14911, 'ssu': 17563, 'ks7ln8hq8s': 10877, 'tni92fea3u': 18739, 'czbamzq3gl': 5168, 'deosl86': 5541, 'xavier_marquis': 20710, 'meaningless': 12066, 'cod': 4490, 'damsels': 5241, 'distress': 5844, 'peers': 14198, '5xrc0a76vd': 890, 'exil1bkzmp': 6913, 'ts': 19080, 'nri': 13311, 'trs': 19049, 'tdp': 18284, 'ehomn68ojb': 6435, 'texansdc': 18411, 'kylekrenek': 10928, 'zepp1978': 21167, 'frobeus_ns': 7728, 'teddy': 18323, 'q4q8xsyzob': 15075, 'submitt': 17859, 'nbugsmqlrg': 12954, 'aviationaddicts': 2457, 'referred': 15584, 'barak': 2663, 'depends': 5545, 'minhazmerchant': 12323, 'fqwtsxlkrz': 7642, 'zy3hpdjnwg': 21284, 'jhoahpbpq4': 10212, 'favors': 7174, 'miubkz77m6': 12400, 'banditregina': 2633, 'bang': 2637, 'caroline': 3893, 'bigsby': 2996, 'supermarket': 17951, 'bjjoifzuhl': 3067, 'iywzallsn4': 9995, 'languishing': 11034, 'exsqijf4ny': 6978, 'noirandeal': 13202, 'tedcruz2016': 18322, 'y7sipkb1kd': 20866, '178': 226, 'boko': 3238, 'haram': 8663, 'florid': 7469, 'kctigymahl': 10583, 'k9fbtccu58': 10491, 'xyj0rpsai2': 20837, 'baqocmcjqc': 2659, 'flqxd3q5py': 7481, 'onvd9d4nkg': 13690, 'referring': 15585, 'pg': 14284, 'movt': 12634, 'yazidi': 20898, 'nervana_1': 13020, 'behaviour': 2852, 'aq': 2142, 'pleasantly': 14483, 'div': 5851, 'fought': 7603, 'messed': 12170, 'zaynmaiikist': 21145, 'grapes': 8321, 'guillermo': 8462, 'noaa': 13189, 'looping': 11527, 'wed': 20200, 'rjopjkbydr': 15979, 'nufdgw9yev': 13339, '2okscwyohc': 485, 'eggalie': 6421, 'ut7r2ixrjq': 19573, 'v3z96ydmvd': 19630, 'kxslftz2i5': 10921, 'hurricane_dolce': 9259, 'guy_reginald': 8500, 'hurricane_dame': 9258, 'bluedio': 3190, 'turbine': 19124, 'wireless': 20396, 'stereo': 17676, 'headphones': 8775, 'headset': 8778, 'wwfqgcqyii': 20644, 'gscswyuupa': 8424, 'lavapixcom': 11091, 'meteoearth': 12185, 'mfckpvzfv8': 12210, 'chubbysquirrel_': 4263, 'hurricane_surge': 9260, '33333': 549, 'hurricanes': 9261, 'names': 12872, 'terrified': 18388, 'shanaynay': 16789, 'shootas': 16882, 'burner': 3596, '30stm': 536, 'quem': 15207, 'lembra': 11197, 'ad': 1563, 'sbzwruwufh': 16487, 'dancers': 5248, 'pirate': 14398, 'margarita': 11889, 'engle': 6633, 'holt': 9042, 'byr': 3654, 'i7eskymoec': 9337, 'coral': 4800, 'mock': 12467, 'gtycqyfuam': 8439, 'qwd5pvgjbo': 15243, 'bftou2nybw': 2950, 'sunburned': 17923, 'freegeezy17': 7683, 'jrztpt8ijq': 10367, 'mixxtail': 12408, 'tastes': 18229, 'watermelon': 20127, 'loko': 11490, 'brittsand9': 3458, 'weudlkc4o4': 20257, 'trl1dskf81': 19025, 'vinustrip': 19837, 'categories': 3946, 'defined': 5458, 'odydt9qpk1': 13518, 'angelriveralib': 1985, 'snowden': 17245, 'katrina': 10560, 'jaawuiovdc': 10033, 'hwrf': 9285, 'lashes': 11049, 'taipei': 18163, 'surge': 17982, 'cnkvile7be': 4451, 'pattonoswalt': 14124, 'fecal': 7215, 'turdnado': 19126, 'forgeting': 7570, 'lately': 11059, 'aurugjegiq': 2409, 'l3w8mipvnt': 10946, 'o85m1bjfrw': 13435, 'entertain': 6662, 'jans3fd4lf': 10094, '2sdmichb2z': 496, 'websites': 20199, 'x8w7tf6fhg': 20703, '9nz9zfm93i': 1312, 'prob': 14804, 'chains': 4064, 'insult': 9777, 'scefpfvaeu': 16506, '1o0j9fcpbi': 306, '91': 1221, 'edna': 6380, 'jefferson': 10163, 'doris': 6002, 'sherfield72': 16839, 'l6nslzl7mi': 10956, 'unlicensed': 19431, 'woc6akehyx': 20462, 'xyiwr9jetl': 20836, 'urogyn': 19526, 'mesh': 12162, 'offenders': 13534, 'npoqlkqup9': 13294, 'meshnewsdesk': 12163, 'yelp': 20938, 'bolsters': 3245, 'investigative': 9850, 'patients': 14110, 'e8aegofdy2': 6287, 'lxmdiseucn': 11671, 'yug': 21065, 'suryaray': 18002, 'ptq3zmgnck': 14946, 'arian': 2187, 'foster': 7599, 'yeat': 20924, 'wakeupflorida': 20041, 'floridians': 7471, 'trophyhunt': 19037, 'j5in8mexaj': 10019, 'rvacchianonydn': 16249, 'chikislizeth08': 4184, 'leveled': 11238, 'p3o71dz992': 13927, 'geeknwjjsz': 7991, 'qr3ypekfoe': 15168, 'zmwecbwvao': 21221, 'settle': 16732, 'blevins': 3135, 'barcelona': 2668, 'alba': 1796, 'jyiegtnc6h': 10463, 'michaelgbaron': 12242, 'scott': 16542, 'lefties': 11167, '184': 235, 'fphfesemyj': 7628, 'paulista': 14130, 'wilshere': 20358, 'gl3c1vc88p': 8143, '8392': 1134, 'deluxe': 5497, 'elderly': 6464, 'vihdoksccc': 19819, 'vjxa13n8ap': 19888, 'ogun': 13572, 'smugglers': 17214, 'shootoutåê': 16886, 'allegedly': 1850, 'puxbc2loyk': 15024, 'christiec733': 4252, 'cosponsor': 4829, '928': 1232, 'renew911health': 15689, 'axxdcakzty': 2499, 'l53oabeqc9': 10950, 'q3izqdk1n0': 15069, 'thehammers_': 18495, 'tonycottee1986': 18796, 'alsowhat': 1886, 'bilic': 3004, 'slated': 17117, 'themhe': 18510, 'cekbxjmpbj': 4011, 'mcilroy': 12045, 'pga': 14286, 'speculation': 17433, 'rory': 16103, 'speculatio': 17432, 'dcyyjvmxhr': 5350, 'eqccrtlnbd': 6713, 'wearethenews': 20189, 'welles_7': 20231, 'cwm0ulqu3e': 5134, 'forgiven': 7573, 'forgotten': 7576, 'aesop': 1631, 'kinesiology': 10727, 'ironmanå': 9914, 'durability': 6204, 'effectiveness': 6408, 'ejymkzpeex': 6452, '0iyuntxduv': 54, 'tayiorrmade': 18248, 'megatronafc': 12115, 'possibly': 14618, 'ankles': 2005, 'regardless': 15603, 'creeping': 4959, 'inflicted': 9701, 'derma': 5570, 'brackets': 3358, 'calum36chambers': 3757, 'slating': 17118, 'gpaulista5': 8284, 'jackwilshere': 10047, 'disgrace': 5804, 'cramp': 4912, 'wreak': 20577, 'seatbelt': 16602, 'njqv45nds2': 13150, 'jamienye': 10081, 'coaching': 4466, 'defence': 5448, 'cursed': 5101, 'riders': 15908, 'attended': 2370, 'romford': 16080, 'iyjejop2wi': 9992, 'peel': 14195, 'male': 11826, 'southdown': 17375, 'windsor': 20371, 'likeavillasboas': 11324, 'rich_chandler': 15888, 'nalathekoala': 12869, 'professional': 14827, 'sequalae': 16698, 'suicides': 17897, 'homicides': 9064, 'nyack': 13389, 'pineview': 14384, 'railroad': 15343, 'crossing': 4997, 'nj36': 13143, '516': 806, 'leonardville': 11212, '2xwihy2wsg': 511, 'fkhanage': 7404, 'shad': 16770, 'forsythe': 7590, 'inevitably': 9681, 'adhd': 1584, 'problems': 14809, 'i4fz75utnh': 9327, 'imsushickoflove': 9598, 'alekalicante': 1812, 'gauze': 7951, 'buffoonmike': 3551, 'influenced': 9702, 'forsure': 7589, 'disabledveterans': 5768, 'groin': 8392, 'thepartyofmeanness': 18516, 'gztolll5wo': 8539, 'tuzacdwfqd': 19142, 'carterville': 3907, 'kkimmbue04': 10767, 'dallascowboys': 5222, 'strains': 17751, 'sprains': 17498, 'g0dn1chluo': 7851, 'zrzejpef5j': 21258, 'terminated': 18382, 'director': 5759, '8ddijzynkf': 1159, '52uus4tfn3': 810, 'judson1360': 10395, 'xtra1360': 20805, 'roster': 16115, 'barring': 2684, 'diego': 5713, 'costa': 4832, 'urg': 19518, 'e5cns6ufpa': 6280, 'f1r5isbvks': 7023, 'nflexpertpicks': 13074, 'devalue': 5631, 'digits': 5733, 'chinadotcom': 4204, 'udtgwfsc3p': 19287, 'v5wsx0lqn2': 19638, '495': 713, 'georgia': 8027, 'joboozoso': 10270, 'usat': 19546, 'usatoday_nfl': 19548, 'dgkmueoaxz': 5669, 'recordand': 15540, 'behaviors': 2851, 'nepd_loyko': 13017, 'texans': 18410, 'sergiopiaggio': 16708, 'define': 5457, 'volga': 19923, 'dmtzmgyrik': 5917, 'ûónegligence': 21360, 'fireworks': 7371, 'incidents': 9615, 'd5w2zynp7b': 5186, 'garza': 7938, 'atlas': 2346, 'leones': 11213, 'copa': 4785, 'mx': 12784, 'usmnt': 19565, 'poster': 14624, 'ergo': 6732, 'rotator': 16122, 'cuff': 5068, 'zj3odgqhyp': 21208, 'converting': 4768, 'vzhtibe4jh': 19998, 'domestic': 5964, 'lamha': 11004, 'ba': 2548, 'icc_realckt': 9377, 'prediction': 14710, 'vikings': 19821, 'infact': 9683, 'zimmer': 21192, 'dal': 5218, 'rb': 15432, 'lance': 11013, 'dunbar': 6195, 'eujgu1hvvx': 6815, 'exum': 6996, 'stem': 17662, '8pifutrb5u': 1194, 'adamrubinespn': 1568, 'stern': 17679, 'yhh7x0maio': 20962, 'jump': 10408, 'alas': 1792, 'tennis': 18369, 'defending': 5453, 'champ': 4075, 'svetlana': 18023, 'kuznetsova': 10908, 'withdraws': 20412, 'citi': 4301, 'espn': 6767, 'im2hdsklq5': 9534, 'pft': 14282, 'barkevious': 2678, 'mingo': 12322, 'browns': 3492, 'd7m9kgmpji': 5188, 'patricia_traina': 14113, 'mcclain': 12033, 'nyg': 13397, 'follownflnews': 7524, '5dujgypima': 846, 'mcfadden': 12039, 'hamstring': 8624, 'jwq4kvjh2j': 10454, 'dom': 5961, 'tdeqwm8zxn': 18279, 'sport_en': 17486, 'cowboys': 4879, 'rkb7egkveb': 15983, 'jj_dirty': 10236, 'mlstransfers': 12439, 'greggmair': 8362, 'gio': 8116, 'skc': 17065, 'bwp': 3645, 'nycfc': 13393, '7adqv1grvr': 1055, 'quirk': 15219, 'hxvihdushp': 9293, 'dantmatrafajlo': 5272, 'woes': 20465, 'claiborne': 4336, '12giqbvlys': 166, 'vz19vvgmnv': 19992, 'climbed': 4390, 'wheels': 20294, 'io': 9866, 'hawk': 8732, 'srk': 17549, 'punishment': 14993, 'ngata': 13077, 'lions': 11363, 'z16dtoqhhg': 21103, 'laois': 11037, 'advertised': 1619, 'inundated': 9837, 'igm2fcmupm': 9454, 'uxcfbj3mzx': 19612, 'lenn_len': 11205, 'ddnt': 5354, 'reign_coco': 15620, 'ostentatious': 13814, 'wk': 20430, 'seward': 16743, 'seattledot': 16605, 'seattletimes': 16606, 'shops': 16890, 'dented': 5536, 'deductible': 5426, 'wcvb': 20165, 'fionagilbert_': 7352, 'applications': 2113, 'igm2fc4t0m': 9453, 'yiltu7sxar': 20975, 'presume': 14757, 'soggy': 17287, 'lashings': 11050, 'moist': 12497, 'vzwsupport': 20001, 'texts': 18416, 'assassinkpg': 2298, 'friendship': 7721, 'commercials': 4593, 'frankly': 7658, 'bentossell': 2909, 'producthunt': 14823, 'yahoocare': 20882, 'waimea': 20033, 'czdw8oowa2': 5169, 'bushman': 3612, 'safari': 16323, 'palmer': 14001, 'cecil': 4004, 'commentes': 4588, 'qwiihnmchr': 15246, 'deconstruct': 5416, 'kerri': 10629, 'sackville': 16314, 'tms7': 18727, 'mistresspip': 12393, 'amazed': 1905, 'mistress': 12392, 'allyinwondrland': 1872, 'bread': 3389, 'trader': 18901, 'joes': 10280, 'wknd': 20434, 'grandad': 8309, 'sophieingle01': 17340, 'angharadjames16': 1989, 'gifts': 8100, 'banana': 2630, 'malt': 11833, 'loaf': 11458, 'worm': 20524, 'bangladeshaffected': 2642, 'bangladeshflood': 2643, 'tonymcguinness': 18798, 'creamfields': 4938, 'mainstage': 11807, 'bcfcticketlady': 2769, 'mr_aamir_javaid': 12653, 'kro': 10869, 'swords': 18072, 's5': 16292, 'starks': 17612, 'greyjoys': 8370, 'urged': 19519, 'coun': 4844, 'teahivetweets': 18294, 'pornhub': 14596, 'gghfx8pzmh': 8064, 'employee': 6572, 'paperwork': 14034, 'hronlinetweets': 9172, 'simplify': 16983, 'staffing': 17579, 'brace': 3355, 'depressed': 5551, 'hexpc77otn': 8879, 'ledofficial1': 11159, 'requests': 15739, 'samples': 16387, 'sweets': 18053, 'mi_country_hick': 12236, 'pfft': 14279, '140': 185, 'unhinged': 19407, 'machismo': 11757, 'bullshit': 3572, 's0ctcqjvjx': 16279, 'withering': 20414, 'undermine': 19378, 'mustering': 12757, 'bilsko': 3022, 'humofthecity': 9233, 'trad': 18898, 'authors': 2428, 'plummeting': 14505, 'legna989': 11185, 'sides': 16938, 'megalpolis': 12110, 'petting': 14274, 'shiver': 16869, 'inundation': 9838, 'overflow': 13871, 'commencement': 4584, 'zachlowe_nba': 21130, 'boots': 3281, 'jzwrwlvlsj': 10470, 'ot3bjjhh8s': 13818, 'platform': 14463, 'vulrclw7bd': 19973, 'realtime': 15496, 'unfortunately': 19400, 'apologies': 2096, 'u8hsrtrxmm': 19246, 'kathrynschulz': 10556, 'mousse': 12623, 'tuai0zwgxu': 19097, 'bounds': 3310, 'sprinklers': 17507, 'faq': 7125, 'lawn': 11096, 'answered': 2033, 'ebb': 6336, 'kemal_atlay': 10612, 'holes': 9028, 'avalanches': 2446, 'xrrlnhelap': 20792, 'sinkhole': 17004, 'martinmj22': 11938, 'yougov': 21018, 'hoodedu': 9085, 'berlatsky': 2912, 'fleetwood': 7440, 'q99': 15085, 'dundee': 6196, 'sxmlg3xdvx': 18083, 'xy41z0o5ei': 20830, 'pollster': 14572, 'inbounds': 9607, 'nats': 12918, 'nl': 13161, 'l0deocxu6o': 10938, 'toddstarnes': 18756, 'hehe': 8822, '30bst': 529, 'a10': 1380, 'paris': 14056, 'a40': 1394, 'geneva': 8012, 'a7': 1401, 'mons': 12531, 'a1': 1379, 'a2': 1383, 'hanover': 8649, 'a5': 1395, 'karlsruhe': 10539, 'gotthard': 8270, 'yoi9tocxiq': 21004, 'lifelong': 11301, 'rfb3jxbiej': 15856, 'memorable': 12134, 'debates': 5388, 'ronald': 16083, 'reagan': 15475, 'romp': 16081, '2xohtjqjwh': 510, 'awadgolf': 2472, 'capitalist': 3831, 'elect': 6466, 'venice': 19741, 'bccca4vy9r': 2767, 'freebesieged': 7676, 'tory': 18834, 'wafer': 20028, '2q3fuerey5': 493, 'smashing': 17181, 'pumpkins': 14983, '7pqs4rshhb': 1099, '89x': 1153, 'winning': 20385, 'y7rv0til1w': 20865, 'garbanzobean23': 7930, 'cutest': 5113, 'indot': 9671, 'bias': 2969, 'g7k9tqvqbk': 7870, 'crowtherjohn': 5005, 'effiedeans': 6410, 'lbr': 11112, 'situ': 17037, 'contemplation': 4733, 'bridal': 3423, 'wiwnpfxa': 20422, 'xysnxum29t': 20839, 'sleeper': 17128, 'railing': 15342, 'since1970the': 16992, 'depreciations': 5550, 'usd': 19549, 'b4federal': 2534, 'opposition': 13732, 'wgqkxmby3b': 20275, 'flashflood': 7422, 'gilgit': 8109, 'farmland': 7133, '365disasters': 563, '911f3ixrh0': 1224, 'alps': 1881, '42mawzb8t9': 686, 'skardu': 17062, 'nqnwktrhsa': 13302, 'sjkgjxff2r': 17051, 'ronwyden': 16090, 'blacks': 3096, 'lyndon': 11683, '67': 930, 'votes': 19941, 'hubris': 9199, 'req': 15736, 'rigour': 15924, 'nominates': 13208, '_ohhsehuns': 1368, 'rcvdrwowvo': 15446, 'heavyåêrain': 8816, 'q3xq8r658r': 15070, 'morning_joe': 12576, 'reince': 15622, 'presssec': 14752, 'smart': 17177, 'assholes': 2307, 'soak': 17256, 'lava': 11090, 'cyv2zg935g': 5164, 'fond': 7526, 'sz2rvwpwhj': 18105, 'lajx578dru': 10993, 'lamps': 11006, 'erupting': 6747, 'pixar': 14418, 'g4schqfest': 7863, 'youngheroesid': 21021, 'pantherattack': 14025, 'jamilazzaini': 10082, 'alifaditha': 1837, 'neighbor': 13001, 'uke': 19321, 'kidsthesedays': 10694, 'eles_kaylee': 6486, 'jannellix0': 10092, 'puts': 15022, 'exited': 6918, 'nxttd9nrux': 13381, 'irqj3zkcuz': 9918, 'breeder': 3409, 'bred': 3406, 'dragonvale': 6054, 'qgum9xheos': 15121, 'chilis': 4195, 'molten': 12505, '724gq5ebqz': 1025, 'h01j9pirie': 8541, 'aez3ak1lrn': 1635, 'dieanpink95': 5710, 'yu_nita99': 21062, 'skippy6gaming': 17083, 'mxhrextrkh': 12786, 'ps3': 14917, '4i0rkcbk1d': 742, 'savior': 16466, 'us0qqqhqvj': 19532, 'dserialpcilp': 6155, 'pci': 14160, '16550': 215, 'l0b14sj7jb': 10937, 'bleachers': 3126, 'cllwud4wsu': 4400, 'to9viqoofv': 18744, 'shark': 16811, 'cunayyh': 5083, 'taufikcj': 18235, '17egmlni80': 228, 'oliver': 13638, 'cries': 4970, 'waterboarding': 20124, 'dipping': 5751, 'akq4rwjfvl': 1771, 'uooygbb6az': 19474, 'sivan': 17039, 'basalt': 2691, 'massage': 11958, 'jjxcnwbp15': 10238, 'amumumux': 1947, 'quit': 15220, 'actin': 1541, 'mirmanda11': 12354, 'evaaasr': 6829, 'shakeology': 16780, 'protein': 14890, 'shake': 16778, 'apod4eivba': 2093, 'pinpoint': 14386, 'foothill': 7544, 'ctijdpxabk': 5050, 'reshapes': 15757, 'reshape': 15756, 'mineral': 12320, 'crystal': 5028, '2wvmij5sa4': 508, 'z4jyharrew': 21110, 'guthrie': 8497, 'hcwrk81p71': 8753, 'assumes': 2315, 'bytbz8s5ux': 3655, '034': 15, '1a': 274, '5s': 876, '5c': 841, 'ip': 9877, 'o3wvsclicx': 13424, 'random_tourist': 15376, 'rained': 15349, 'jackholes': 10040, 'gusty': 8495, 'downpours': 6029, 'jyxafd4knk': 10466, 'tezltqeyw2': 18418, 'icaseit': 9376, 'mfi': 12211, 'certified': 4038, 'b32jmvsb1e': 2531, 'xkmijgy59t': 20752, 'blink': 3139, 'd4c2iqirnu': 5183, 'wolforth': 20470, 'altamonte': 1888, 'benji_devos': 2901, 'vivid': 19878, 'triad': 18990, 'jmu5uyamdu': 10261, 'vancouveråêisland': 19679, 'vdiliicyr5': 19719, 'z5cfrwado6': 21111, 'autobiography': 2434, 'lawton': 11101, 'collins': 4536, 'bzdfznkvog': 3662, 'erhdh37rdh': 6733, 'idasyjybro': 9404, 'gdoaolpq91': 7981, 'dantwitty52': 5273, 'shuts': 16927, 'eighth': 6440, 'patrol': 14120, 'suns': 17936, 'grzchkdf37': 8419, 'lightning_ooc': 11315, 'subjected': 17856, 'unwarranted': 19469, 'lightning_wolf_': 11316, 'directory': 5761, 'resting': 15793, 'ioq051t5te': 9871, '629': 911, 'klxaucnp5i': 10778, 'r4kheh7iaf': 15284, 'qszgjfuutu': 15176, 'idmhswewqw': 9422, 'reps': 15730, 'dip': 5748, 'wwxcob52zi': 20653, 'footage': 7540, 'filmed': 7320, 'aog5chjmvs': 2067, 'cln2sxzy1z': 4401, 'l1gh8064yv': 10943, 'scichat': 16525, 'kabwandi_': 10498, 'unconfirmed': 19367, 'neighbour': 13005, 'tkyonly1fmk': 18711, 'actionmoviestaughtus': 1544, 'laylovetournay': 11106, 'ryrotheunaware': 16268, 'groaning': 8389, 'ercjmnea': 6729, 'chibi877': 4176, 'shouted': 16903, 'kotolily_': 10842, 'tarmineta3': 18219, 'shawie17shawie': 16818, 'unij1rvrrq': 19411, 'bruv': 3508, 'tianta_': 18630, 'û_turns': 21314, 'resemblance': 15752, 'abbott': 1430, 'campbell': 3778, 'chews': 4172, 'chewing': 4171, 'gum': 8472, 'nikoniko12022': 13126, 'sw_trains': 18026, 'noises': 13204, 'epsom': 6708, 'arrive': 2219, 'wimbledon': 20360, 'jrowah': 10365, 'k_matako_bot': 10492, 'peacefully': 14180, 'kijima_matako': 10703, 'matako_3': 11973, 'downstairs': 6032, 'telly': 18347, 'walked': 20050, 'ykelquiban': 20980, 'toxicsavior_': 18871, 'froze': 7737, 'daviesmutia': 5324, 'bang_me_up_guk': 2638, 'art_brut_': 2232, 'brut': 3504, 'pops': 14588, 'cafetiere': 3716, 'crockery': 4989, 'matako_milk': 11974, 'colnharun': 4540, 'laugh': 11075, 'samanthaturne19': 16379, 'nagaski': 12861, 'tanstaafl23': 18203, 'impulse': 9595, 'correlation': 4819, 'imply': 9577, 'causation': 3959, 'coldmpress': 4514, 'commiting': 4596, 'publicizing': 14957, 'iit': 9489, 'logically': 11486, 'sanction': 16393, 'innocents': 9736, 'explicitly': 6952, 'endorses': 6614, 'behavior': 2850, 'qadrkejz9t': 15088, 'doctordryadma': 5933, 'owenrbroadhurst': 13900, 'juanmthompson': 10387, 'hist': 8973, 'odws0waw9q': 13517, 'blowjobs': 3179, 'cannibalism': 3809, 'masturbation': 11970, 'noah_anyname': 13191, 'concentration': 4647, 'd1ff3r3nt1sg00d': 5176, 'riceechrispies': 15886, 'tuicruises': 19107, 'aida_de': 1722, 'whales': 20282, 'faroe': 7136, '3a3fgzfmzh': 588, 'examples': 6881, 'tmogti6fb4': 18724, 'atombomb': 2354, 'domination': 5968, 'c1h7jecfrv': 3669, 'royalcarribean': 16144, 'faroeislands': 7137, 'utopian': 19585, 'gulags': 8468, '14wh0pjj2c': 194, 'cbc': 3971, 'attempted': 2366, 'administration': 1593, 'jbrk8zsry6': 10134, 'comings': 4578, 'labelled': 10971, 'minority': 12337, '37qpssnacv': 573, 'fhi4qbpwfh': 7280, 'fredolsencruise': 7671, 'itinerary': 9960, 'dolphins': 5960, 'flgovscott': 7445, '10000': 114, 'males': 11827, 'commit': 4595, 'gv84wnhb7s': 8503, 'qzlpfhpwdo': 15271, 'yelllowheather': 20934, 'undeserving': 19388, 're_shrimplevy': 15455, 'jakegint': 10068, 'bothered': 3300, 'traditionalist': 18904, 'montalbanony': 12536, 'billy_hodge': 3020, 'aurora': 2408, 'notoriety': 13274, '1rpchru72c': 318, 'debatequestionswewanttohear': 5387, 'wahhabism': 20030, 'horrendous': 9111, 'sb3rjqqzix': 16478, 'blah': 3097, 'jlu2j5qs8u': 10251, 'carlachamorros': 3879, 'murderer': 12731, 'kach': 10500, 'belonged': 2880, 'baruch': 2690, 'goldstein': 8226, '1994': 268, 'bxgnq57xvb': 3647, 'trillac_': 19012, 'che': 4138, 'guevara': 8456, 'greeting': 8358, 'gljbnsfgll': 8162, 'creel': 4956, 'moron': 12579, 'brainless': 3365, 'gunsense': 8486, 'gfz': 8059, 'minuscule': 12343, 'qeopmcjbcz': 15114, 'theatershooting': 18466, 'testify': 18404, 'exam': 6876, 'jury': 10423, 'dickheads': 5702, 'atljw': 2349, 'polit': 14563, 'aspect': 2291, 'tirelessly': 18687, 'defendbutera': 5451, 'libertygeek83': 11279, 'kissing': 10749, 'lej5onus9q': 11194, 'conveniently': 4762, 'zionists': 21197, 'revere': 15838, 'honour': 9081, '3kob7xbea0': 618, 'movietheatre': 12631, '615': 906, 'scvsupremecourt': 16574, 'dismisses': 5813, 'prisoner': 14796, 'challenged': 4071, 'quantum': 15188, 'bettyfreedoms': 2936, 'abninfvet': 1456, 'supremacist': 17968, 'anders': 1966, 'breivik': 3411, 'unsurprisingly': 19461, '1lxnjvl8tr': 301, 'theeconomist': 18487, 'step': 17664, 'portrait': 14606, 'yuan': 21063, 'decisions': 5404, 'victoriagittins': 19800, 'xpddwh5tem': 20774, 'neanderrebel': 12977, 'democrat': 5507, 'dissuaded': 5839, '4cog0otiwn': 721, 'telegraphworld': 18338, 'mmmm': 12450, 'frautrapani': 7662, 'benignovito': 2897, 'libertybell1000': 11278, 'hillarymass': 8945, 'vaccine': 19657, 'x713omh6ai': 20700, 'owpd7vcfs6': 13906, 'blairmcdougall': 3099, 'commenting': 4589, 'dealings': 5374, 'arkan': 2196, 'afk_10': 1651, 'dr_johanfranzen': 6047, 'orchs': 13767, 'tyrant': 19214, 'cameron_wate': 3767, 'copycat': 4796, 'lvlh3w3awo': 11661, 'viwxy1xdyk': 19879, 'tunisian': 19122, 'bardo': 2672, '1fvootqnej': 289, 'surviving': 17999, 'qzcut7bvkt': 15267, 'abc3340': 1435, 'alamodc': 1785, 'pmxlezjbrc': 14524, 'palm': 14000, 'grindhouse': 8383, 'screening': 16561, 'texaschainsawmassacre': 18413, '1wopsgbvvv': 332, 'morbidmovies': 12561, 'animallogic': 1996, 'lotg': 11558, 'smoothed': 17209, 'bird': 3038, 'chalked': 4069, 'mouse': 12622, 'subtle': 17868, 'sikh': 16961, 'dviyer': 6229, 'colorlines': 4553, 'nlbltynv36': 13162, 'bjrrqhhohl': 3071, 'wuh1g2blp1': 20623, 'yazidi_shingal_genocide': 20899, 'ezidigenocide': 7018, 'mitigating': 12397, '75vlsw85gi': 1043, 'txy3us2ejs': 19195, 'uninvestigated': 19413, 'incite': 9617, 'ezbtg81trz': 7016, 'kabarmesir': 10494, 'badr58': 2588, 'rabaa': 15304, 'observed': 13475, 'rememberrabaa': 15665, 'eileenmfl': 6442, 'bestie': 2923, 'chainsaw': 4065, 'medals': 12079, '1890': 239, 'uilpg8i1ev': 19314, 'm9pxto2kww': 11740, 'shells': 16834, 'bloodbath_tv': 3164, 'channel': 4095, 'introducing': 9835, 'nanking': 12878, 'eyewitnesses': 7009, 'tipndempuz': 18682, 'cbs': 3977, 'wsj': 20607, 'wpo': 20558, 'qw8qk165sb': 15242, 'daddy': 5201, 'becarefulharry': 2816, 'tunisia': 19121, 'march': 11884, 'kurqlxfihl': 10901, 'permanently': 14235, 'freddiedeboer': 7670, 'thucydiplease': 18613, 'coates': 4477, 'charleston': 4116, 'broadly': 3465, 'f0wqlobooy': 7021, 'bromleythe': 3475, 'thpbdpdj35': 18583, 'gigagil': 8102, 'iof': 9869, 'murdered': 12730, '513': 805, 'morality': 12559, 'sousse': 17371, 'tunis': 19120, 'myhhthsli3': 12798, 'soap': 17260, 'twain': 19148, 'barackobama': 2662, 'rescind': 15745, 'honor': 9078, 'u4r8driuac': 19240, 'nataliealund': 12904, 'wkrn': 20436, 'martynwaites': 11939, 'valentine': 19666, 'avoided': 2460, 'oompah': 13700, 'martyrs': 11940, 'nux5xfpv2d': 13360, 'spså': 17511, 'creepiest': 4958, 't8uqm7imir': 18131, 'reads': 15472, 'stuckinbooks': 17820, 'mayhem': 12015, 'jp3oy0ouxq': 10347, 'cvinch_waow': 5124, 'stacy': 17576, 'reflects': 15590, 'hanneman': 8647, 'lfw4iymsak': 11249, 'itsjustinstuart': 9963, 'odv3rqs8ju': 13516, 'raynbowaffair': 15422, 'editor': 6373, 'diamondkesawn': 5691, 'ge0yd3mkav': 7984, 'ramag': 15365, 'models': 12475, 'alexbelloli': 1819, 'pages': 13974, '7mzycu2iho': 1090, '4playthursdays': 760, 'everybody': 6854, '1716': 223, 'scu9qzp6nq': 16571, 'mayhem_114': 12016, 'andy': 1974, 'difference': 5720, 'masterchef': 11965, 'nosurrender': 13255, 'bully': 3573, 'g6monvnpsu': 7867, 'panicked': 14018, 'disco': 5786, 'htpqvohtud': 9189, 'kissimmee': 10748, 'fpyru5golh': 7634, 'ganseyman': 7924, 'rt_4_a_mention': 16182, 'rpneaj6fod': 16152, 'q9lxo4qkji': 15086, 'ferrell': 7258, 'zach': 21129, 'galifianakis': 7898, 'comic': 4574, 'farce': 7128, 'tq3j2qgtzq': 18882, 'cq7jj6yjfz': 4896, 'asbury': 2256, 'dadz5zfo1g': 5202, 'asburyparkpress': 2257, 'jmcwrites': 10258, 'pitchwars': 14411, 'realism': 15484, '64xr9ltnoh': 918, '6n6gcej9iy': 978, 'observations': 13474, 'pccwsgcyma': 14159, 'ebbf1n7maj': 6337, 'akcsl': 1764, 'venture': 19745, 'suitable': 17901, 'h31knuwzz5': 8550, 'mnkaji2q1n': 12455, 'xehwmsh7lv': 20728, 'proportions': 14875, 'commences': 4585, 'manage': 11838, 'bass': 2711, 'dubloadz': 6173, 'droppd': 6120, 'meelllttting': 12101, 'vxsqpfe9na': 19985, 'deepak': 5435, 'chopra': 4228, 'ethgagpy5g': 6794, 'ol': 13628, 'drdrewhln': 6073, 'areva': 2172, 'tinybaby': 18678, 'adultblackmale': 1609, 'mattytalks': 12002, 'mwednesday': 12777, 'kinkyconnors': 10735, 'candidates': 3803, 'grimes': 8381, 'voters': 19940, 'pbegof4740': 14148, 'mcc76xowli': 12029, 'nashhmu': 12896, 'becca_caitlyn99': 2817, 'microsofts': 12258, 'dfr': 5660, 'ep016': 6685, 'monthly': 12542, 'dnbheaven': 5921, 'ejkrf8n8a8': 6450, 'drum': 6139, 'sphwe6wfi5': 17448, 'dgatkrdyny': 5665, 'seagull07': 16587, 'aleisstokes': 1811, 'intelligencebar': 9792, 'justintrudeau': 10437, 'respected': 15775, 'g7': 7869, 'g20': 7857, 'crowdtappers': 5000, 'joinvroom': 10302, 'ohhhh': 13580, 'tangletalk': 18199, 'dmoneydemi': 5911, 'dtb': 6159, 'watchout': 20121, 'nprfreshair': 13295, 'commoditiesåêare': 4601, 'njd1n5txxe': 13145, 'hfqlwo1kmy': 8887, 'sp': 17386, 'letdown': 11229, 'equals': 6719, 'lei9dwvllq': 11189, 'def': 5441, 'conclusions': 4655, 'padres': 13968, 'uncontrollable': 19370, 'lemairelee': 11196, 'danharmon': 5255, 'comics': 4575, 'representative': 15724, 'sample': 16386, 'jpa6sajfe3': 10349, 'byproduct': 3653, 'czwjw4uv7i': 5173, 'c0t7rvotkj': 3668, 'examinercom': 6878, 'warthen': 20098, 'midst': 12270, 'bullpen': 3569, 'bubble': 3528, 'warriorcord': 20092, '550': 823, 'paracord': 14040, 'mil': 12283, '5040': 799, 'strand': 17753, 'eejrmktj0r': 6396, 'furtrix': 7805, 'cougars': 4841, 'uniform': 19409, 'ushanka': 19561, 'fur': 7801, 'xl61': 20757, '62': 909, 'badge': 2582, '74yfqxvak0': 1037, 'kxrehvt6hl': 10920, 'alarmed': 1788, 'harassed': 8664, 'sbila2yqjq': 16485, 'ymcglaun': 20989, 'connects': 4696, 'univsfoundation': 19426, 'experiments': 6943, '731': 1028, 'vvplfqv58p': 19978, 'rwaph6dauv': 16257, 'magner': 11787, 'discusses': 5795, 'getbjip5rh': 8040, 'kgb': 10657, 'cossack': 4830, 'bla42rdt1o': 3084, 'einsqs8tfq': 6443, 'kiranahmedd': 10737, 'talibans': 18178, 'deployments': 5548, 'n6zflxigvr': 12843, 'm151a1': 11702, 'mutt': 12762, 'm416': 11714, '9rryaylgyy': 1324, 'nm83johluu': 13170, 'leadership': 11131, '578gunp8t9': 829, 'psbxl1hvu3': 14922, 'suckers': 17875, 'stfxuniversity': 17691, 'l5awtundhm': 10951, 'lulgzimbestpicts': 11642, 'xkmlq99sjy': 20753, 'a3rgqucugo': 1392, 'infantryman': 9686, 'experimental': 6942, 'tutorials': 19139, 'assertative': 2302, 'intelligence': 9791, '2for1lapdances': 453, 'yompxjpptv': 21008, 'contribute': 4750, 'hillaryclinton': 8944, '2012': 358, 'l0hhwb9lsz': 10939, 'courageous': 4861, 'vhmtytptgr': 19780, 'n1tjct8hmc': 12827, 'pytqm7rvp0': 15053, '1pulaekxcq': 312, 'beth': 2929, 'underwood': 19386, 'gravity': 8329, 'teamhendrick': 18298, 'ririnsider': 15946, 'hendricks': 8858, 'hospitality': 9122, 'neanea2724': 12978, 'iapvtqxlht': 9359, 'wamkre6ckd': 20060, 'uz1yiz7n6m': 19618, 'ijwar15h16': 9498, 'universityoflaw': 19425, 'eg1fskqbv6': 6417, 'clancy': 4344, 'novels': 13284, 'paperback': 14033, 'obix79ncxn': 13460, 'tomclancy': 18778, 'cochisecollege': 4482, 'ldx9ukngsk': 11125, 'mcdonalds': 12037, 'supreme': 17969, 'oks': 13623, 'ruling': 16217, 'empower': 6574, 'milita': 12291, 'v0nf1uc1ow': 19623, 'bolstering': 3244, 'cooperation': 4782, 'sputnik': 17517, '9q9rk3fof7': 1319, 'sputnikint': 17518, 'wider': 20330, 'g0q0bzbjli': 7853, 'exyr6c5qpu': 6997, 'militarydotcom': 12296, 'mofo': 12493, 'unarmed': 19354, 'gunned': 8481, 'worseits': 20531, 'asses': 2303, 'stu': 17816, 'mudslide': 12698, 'belter': 2883, 'fundraiser': 7788, 'oso': 13809, 'ma4ra7atql': 11744, 'cg579wldne': 4050, 'beetroot': 2836, 'pete_r_knox': 14262, 'gemmasterful': 8000, 'hipster': 8964, 'dorett': 5999, 'smug': 17213, 'marc_holl': 11883, 'nennicook': 13012, 'aitchkaycee': 1750, 'vixstuart': 19881, 'benjbeckwith': 2900, 'britishbakeoff': 3453, 'paulhollywood': 14129, 'fjords': 7399, 'iceland': 9380, '534q3jg2ov': 813, 'icelandreview': 9382, 'iceland_review': 9381, 'opener': 13713, 'gasping': 7944, 'giggling': 8105, 'stew': 17687, 'sophiewisey': 17341, 'dorette': 6000, 'maker': 11816, 'rabidmonkeys1': 15306, 'unique': 19416, 'zt5ofbiwtd': 21267, 'brobread': 3467, 'lolly_knickers': 11496, 'vaginaorcake': 19660, 'impressions': 9586, 'lieu': 11293, 'triumphs': 19022, 'hazelannmac': 8740, 'wishing': 20406, 'hatman': 8720, 'delicious': 5482, 'urufusanragu': 19531, 'new_hart2010': 13037, 'sbfglqjzfs': 16482, 'bakeofffriends': 2615, 'mariankeyes': 11896, 'bae': 2590, 'backroom': 2569, 'kgxnwziuxd': 10661, 'gbbo2015': 7966, 'physically': 14336, 'gasped': 7943, 'invested': 9845, 'nikistitz': 13124, '35jyap0ul9': 557, 'doylech': 6035, 'persecution': 14243, 'spoiled': 17476, 'raì¼l': 15431, 'condolence': 4669, 'bgytmqj3oo': 2957, 'cali74142290': 3744, 'rationing': 15414, 'q4gl3dvhu1': 15071, 'tattooed': 18232, 'arkansas': 2197, 'nola': 13206, 'emrzicb004': 6576, 'twoptwips': 19180, 'sifting': 16944, 'grid': 8373, 'avvsoino8z': 2465, 'voyruxcrin': 19944, 'colder': 4513, 'mateo': 11980, 'doesnt': 5945, 'mirage': 12352, 'pointless': 14547, 'addition': 1579, 'newser': 13058, 'tb8gzembxu': 18254, 'slipping': 17148, 'v2yxurne2p': 19628, 'hug': 9208, 'roblox': 16020, 'unavoidable': 19356, 'consequence': 4704, 'socialism': 17268, 'bbdpnj8xsx': 2757, 'suncorp': 17925, 'net': 13025, 'billion': 3012, 'cwz37lndvk': 5135, 'professionally': 14828, 'unsensibly': 19454, 'outrun': 13855, 'burma': 3592, 'enduring': 6617, 'unrest': 19449, 'cheap': 4139, 'ay': 2500, 'connorfranta': 4699, 'askconnor': 2282, 'overrun': 13880, 'server': 16715, 'hazards': 8739, 'hashtags': 8706, 'booktubeathon': 3273, 'savings': 16465, 'guatemala': 8449, 'seamstress': 16590, 'elvia': 6516, 'jdx9ox2kik': 10149, 'qhtoerhdkm': 15127, 'o9dzgzqemf': 13441, 'design': 5583, 'u2njpor39k': 19235, 'executives': 6905, 'prosecuted': 14880, 'fgvn2vcrrx': 7279, 'kftvnu7nvf': 10651, 'alarming': 1789, 'v6h97k688j': 19641, 'tjw9bseipw': 18705, 'nonucleariran': 13215, 'badirandeal': 2584, 'jebbush': 10157, 'z7phpjtqud': 21117, 'chernobyl': 4162, 'macob5xlsu': 11761, 'tepco': 18378, 'thyroid': 18628, 'integrative': 9788, '7y2gnva2ev': 1113, 'japanjapan': 10099, 'inferior': 9691, 'anonymous': 2029, 'preserve': 14743, 'ajw': 1757, 'x5jgkjv6ma': 20694, 'jishin_e': 10231, 'minamisoma': 12311, 'gam7otgisw': 7904, 'allowing': 1866, 'dalailama': 5219, 'e0lugbl6pb': 6263, 'upi': 19491, 'irannucleardeal': 9898, 'zsdvweglf5': 21260, 'gvj7slbelp': 8506, 'ftunlh6ddg': 7757, 'ignore': 9461, 'radiation': 15317, 'y3zfqjsvpz': 20856, 'wps': 20560, 'umjprrwruu': 19343, 'drvox': 6147, 'agw': 1706, 'denial': 5526, 'unaware': 19357, 'sanitizing': 16410, 'yrvgykdbm6': 21050, '7ufnxxavqs': 1107, 'impairs': 9569, 'zisuwlqrhf': 21205, 'sweep': 18046, 'psi35au3pc': 14927, 'mailonline': 11801, 'whack': 20279, 'mole': 12500, '6exs23muy3': 956, 'l9idherotj': 10964, 'ikpngs3dti': 9508, 'ljhgsdraez': 11423, 'spoke': 17478, 'kennedy': 10617, 'avert': 2453, 'bolster': 3243, '573': 828, 'jssmmlnaq7': 10373, 'ow4gexynbh': 13897, 'pretend': 14758, 'responsibility': 15786, 'annonymous': 2018, 'respondents': 15780, 'consciousness': 4702, 'ytnnnd631z': 21059, 'wikipedia': 20339, 'encyclopedia': 6603, 'ghucazjsxb': 8083, 'err': 6744, '509': 800, 'ge': 7983, 'reactors': 15466, 'hrc3oxquik': 9166, 'wnptvbm5t7': 20457, 'finnish': 7349, 'financing': 7335, 'secured': 16621, 'uhkxmxab9l': 19310, 'reactor': 15465, '74jppek6o7': 1036, 'ancient': 1963, 'qadufo8zxg': 15089, 'circuit': 4293, '5hkgxzjlmx': 853, 'v1mtr517ue': 19626, 'sidelines': 16936, 'newest': 13044, 'subs': 17862, 'guvtizyche': 8498, 'defensenews': 5455, 'comus': 4646, 'subsd': 17864, 'sy2whxt0k5': 18086, 'gigawatts': 8104, 'installed': 9764, '_one': 1370, 'gwatt': 8509, 'leczolkmsv': 11156, 'okamsczbwg': 13610, 'manual': 11867, 'railguns': 15341, 't1000s': 18113, 'robertharding': 16014, 'repjohnkatko': 15710, 'flush': 7488, 'construct': 4720, 'e9d9lk5fdw': 6291, 'indo': 9667, 'pact': 13963, 'xkurdr3yev': 20755, 'ys3nmwwyvc': 21051, 'alpotnb7q3': 1880, 'restart': 15790, 'fleet': 7438, 'dbaujp29ub': 5338, 'mistaken': 12389, 'cataclysmic': 3936, 'reator': 15502, 'melts': 12127, 'willie_am_i': 20352, 'justthebottle': 10440, 'cooling': 4778, 'winechat': 20377, 'magnetic': 11788, 'electrostatic': 6479, 'fusion': 7807, 'em5opytbpg': 6521, 'stunckle': 17832, 'gordon_r74': 8257, 'crazydoctorlady': 4931, 'rods': 16046, 'creatures': 4949, 'ministers': 12332, 'fennovoima': 7253, 'frkodestuk': 7727, 'gpvzv0249y': 8291, '9wqixgmhfh': 1336, 'sandunes': 16402, 'gentle': 8017, 'lapping': 11041, 'gulls': 8471, 'sizewell': 17044, 'x9cuihib5n': 20705, 'd8awx2okke': 5190, '40mln': 674, '0dxvz7fdh3': 44, 'filming': 7321, 'sonyprousa': 17329, 'lumixusa': 11646, 'djiglobal': 5877, 'profbriancox': 14826, 'rt_america': 16183, '2gljhvead9': 455, 'lqjjy1ptwt': 11595, 'vb3vfm76ke': 19703, '98o2kc3a1z': 1260, 'tgdonttkty': 18433, 'mqmcolwbzc': 12647, 'calhoun': 3742, 'nrc': 13308, 'pztbqimpuw': 15059, 'snowywolf5': 17249, 'thegreenparty': 18494, 'hamptonroadsfor': 8623, '9qnq45zduw': 1320, 'dhyljllrhl': 5680, 'scout': 16548, 'dicehateme': 5700, 'puppyshogun': 15002, 'obliterate': 13468, 'proc': 14811, 'philippine': 14313, 'pd14gsrfsc': 14167, 'changepilipinas': 4090, 'notion': 13272, 'seemly': 16637, 'narcissism': 12884, 'richhomeydon': 15894, 'swag': 18027, 'likes': 11328, 'instagramers': 9760, 'm3njvvtygn': 11712, 'souda': 17353, 'sonia': 17321, 'kneelbot': 10794, 'klavierstuk': 10773, 'lvg': 11657, 'spurs': 17516, 'smaller': 17174, 'lcb': 11113, 'cl': 4334, 'jez': 10201, 'printing': 14790, 'genius': 8015, 'reffbkvg9r': 15586, 'plymouth': 14509, 'litter': 11390, 'gdrssjbh8q': 7982, 'prophecy': 14871, 'combining': 4563, 'xfccvmxuwb': 20734, 'josebasedgod': 10322, 'realm': 15494, 'jonvoyage': 10317, 'mccainenl': 12031, 'spectacular': 17430, 'stonewall': 17719, 'sarah': 16423, 'palin': 13998, 'bb4sp': 2745, 'dm0uupqgwy': 5905, 'skynews': 17098, 'scum': 16573, '149': 191, '0oms8ri3l1': 71, 'gymflow': 8526, 'gymtime': 8527, 'assassins': 2299, 'muhj8cbdqb': 12705, 'gargron': 7936, 'holymileyray': 9045, 'mooniighthunty': 12550, 'mosquitoes': 12591, 'obedience': 13457, 'trials': 18992, 'gap': 7926, 'shorts': 16894, 'superstition': 17955, 'swami': 18031, 'agnivesh': 1696, 'xomi4zqzgp': 20771, '0m1tw3datd': 65, 'satisfying': 16441, 'battleship': 2735, 'fqmyprlg9g': 7638, 'freshness': 7706, 'cilo9pmleb': 4282, 'macbreck': 11751, 'math': 11984, 'sayzt2oagm': 16476, 'productive': 14825, 'enterprise': 6660, 'horiikawa': 9102, 'obliterated': 13469, 'rizzo': 15968, 'damnnnn': 5238, 'gmcr': 8185, 'accordingly': 1503, 'sunrays': 17935, 'hairy': 8599, 'dried': 6091, 'spiderweb': 17452, 'breakingnewslh': 3399, 'bree_mars': 3407, 'seventies': 16738, 'texting': 18415, '7k': 1079, 'wackoes': 20023, 'michelebachman': 12247, 'predict': 14708, 'firey': 7372, 'inferno': 9692, 'accept': 1491, 'globalwarming': 8165, 'babmf0w2yw': 2558, 'meals': 12063, 'qvs7o10bg3': 15239, 'm19ivwrdkk': 11703, 'zimmerman': 21193, 'rzimmermanjr': 16273, 'renewsit': 15691, 'reduced': 15574, 'sock': 17276, 'acc': 1489, 'ybshleie3p': 20906, 'stripped': 17796, 'mixes': 12404, 'byebyesoundcloud': 3649, 'cocky': 4488, 'strutted': 17813, 'batters': 2726, 'wackos': 20024, 'wj0u59mppb': 20425, 'silverhusky': 16973, 'shtap': 16919, 'salted': 16366, 't_t': 18135, 'poway': 14649, 'hcg': 8749, 'ensures': 6655, 'whensoever': 20296, 'nevermore': 13035, 'sizygwwf': 17045, 'theevilolives': 18490, 'hypo': 9304, 'jlput7va3s': 10250, 'deserved': 5581, 'kevinbacon': 10640, 'soz': 17385, 'accustomed': 1510, 'kontrolled': 10831, 'ww3': 20639, 'dice': 5699, 'obliteration': 13470, 'demonization': 5517, 'canaanites': 3789, 'xqmjhiozxg': 20783, 'worldnetdaily': 20516, 'laurenjauregui': 11087, 'nckogwjq61': 12960, 'teamhennessy': 18299, 'tprimo24': 18877, 'djeddygnj': 5875, 'colombian': 4544, 'mrv54fidfn': 12661, 'arcade': 2159, 'cte': 5049, 'overpriced': 13878, 'thatsabinegirl': 18458, 'sis': 17025, 'dose': 6010, 'slab': 17106, 'labour': 10974, 'ripping': 15941, 'labourleadership': 10975, 'contest': 4737, 'auntiedote': 2406, 'rioslade': 15934, 'locke_wiggins': 11472, 'akarb74': 1763, 'ikuggvbyei': 9510, 'tiggr_': 18647, 'nlk1dyd2tp': 13166, 'ja': 10029, 'eganator2000': 6418, 'kerry': 10631, 'ashberxo': 2263, 'mind_mischief': 12313, 'traces': 18889, 'sf2vwqvjya': 16754, 'hz4lkffc59': 9308, '1vjalja1sx': 328, 'truths': 19073, 'alhaji': 1831, 'sha': 16768, 'ibeto': 9366, 'competitor': 4627, 'imminent': 9561, 'xjb0dcaahf': 20747, 'extent': 6985, 'privilege': 14801, 'unfair': 19394, 'favoritism': 7173, 'renovation': 15694, 'pq3ipugkuy': 14672, 'smallbiz': 17172, 'startup': 17625, 'activate': 1546, 'timey': 18668, 'pkkcdwjyg0': 14432, 'justifying': 10432, 'quarrel': 15191, 'z8ij8ktkyk': 21120, 'bene': 2888, 'gesserit': 8038, 'litany': 11383, 'dune': 6197, 'atgrannyshouse': 2335, 'kylewappler': 10929, 'thisishavehope': 18559, '1pdnlsp8xw': 310, 'sb57': 16479, 'deepwater': 5439, 'distribution': 5846, 'dkpsrkg6pc': 5888, 'larger': 11045, 'xwxbyhtuzc': 20822, 'wzedxefblg': 20671, 'refugio': 15594, 'costlier': 4834, 'plains': 14443, 'pipeline': 14391, 'yhmregauxz': 20963, 'g37hujx6et': 7861, 'nyt': 13406, '6cx46e7qb7': 951, '41l8tqcaey': 682, 'rqu5ub8plf': 16161, 'osjurfddkt': 13807, 'lzob8qoh1b': 11696, 'bieyguqpb1': 2984, 'bankstown': 2649, 'wattle': 20135, 'sydtraffic': 18089, 'trafficnetwork': 18907, 'spilled': 17456, 'crude': 5013, 'ksbynews': 10880, 'lilitan': 11332, 'pegibiqk2w': 14200, 'syd': 18087, 'tzyhdbw9f5': 19224, 'wendell': 20239, 'berry': 2916, 'gulf': 8469, 'tn1ax1xmbb': 18731, 'briefing': 3433, 'disclos': 5784, 'wbi7laq18e': 20153, 'oi': 13589, 'pdosrg8cf7': 14171, 'hannah': 8644, 'ap30pszkvx': 2072, 'tcsolvwhxq': 18275, 'disclosed': 5785, 'zqihnhdwpv': 21247, 'osi2016': 13806, 'gthddzavhg': 8435, 'losangelestimes': 11547, 'htxai05y7b': 9194, 'wezjqc4cf2': 20264, 'kinder_morgan': 10719, 'twon': 19179, 'cityofkamloops': 4311, 'sec': 16610, 'kamloops': 10523, 'ta6n9szyfp': 18137, 'jhpdssvhve': 10213, 'troyslaby22': 19046, 'slicker': 17134, 'ccvcte3lcw': 3989, 'xcolwugfjg': 20720, 'fpaoulwu3n': 7626, 'sqoa1wv4um': 17529, 'gusramzp1s': 8491, '7l6bhexixv': 1081, 'emosrmuvqa': 6561, 'efcn9ivnfg': 6404, 'zdtcw9fsx1': 21158, '1ct0pugz69': 279, 'voices': 19913, 'mfsbwpj0ce': 12217, 'zdpa4dbtsu': 21156, 'outbreak': 13840, 'disea': 5799, '02elqlopfk': 10, 'edinburgh': 6368, '8lcbdw7m2z': 1185, 'ajzy19vepu': 1759, 'bronx': 3478, 'jtzefipdbo': 10384, 'vsoxiooy78': 19959, 'jgdlx4faw8': 10208, 'ivwtynoujk': 9978, '2mwc9ywjzy': 479, 'legionnairesdisease': 11180, 'pneumonia': 14526, 'americanlegion': 1924, 'convention': 4763, 'fftokd0vts': 7275, '81hvv3n3rs': 1127, '2ao97o2a9d': 439, '3snyoohseq': 642, 'vbsj8tniv1': 19709, 'so81ab3a1x': 17255, 'legio': 11175, 'ucbfgibfor': 19268, 'muhamadjabal': 12704, 'legionna': 11177, 'rsv9atj9vh': 16179, 'senatemajldr': 16669, 'ojyw7jkuh5': 13608, 'rv9dv6joew': 16248, 'legionnaire': 11178, 'cxi82rfifs': 5141, '1h7zk6uyze': 290, 'dratomic420': 6065, 'trophies': 19035, 'mnsy1qr7bq': 12458, 'kkdx8zmv4g': 10765, '13w8cyukkz': 183, 'hkxyzhvmqe': 8992, 'fjdm8qhyai': 7397, 'sebee': 16609, '0ubg9wfyge': 86, 'losangeles': 11546, 'za4axfjsvb': 21125, 'rm6cnzkszl': 15992, 'zfyqsawvrk': 21176, '3htj2pypsg': 610, 'nq77efmf88': 13297, 'lfbdhtgqwg': 11246, 'fo': 7503, '7evyelw4lc': 1069, 'paje5mxn1z': 13987, 'bi_video': 2968, 'erj7yanjxm': 6739, 'vbrpeujanl': 19708, 'txrswi0efg': 19192, 'absolute': 1470, 'pandemonium': 14014, 'lyxnjlxl8s': 11688, 'cxyfqn3ue4': 5142, 'element': 6481, '7hanpcr5rk': 1072, 'hashtagteaclub': 8707, 'pars': 14069, 'defender': 5452, 'tod': 18746, 'ensued': 6652, 'c5u9qshhnb': 3681, 'j3lyon': 10010, 'ffvii': 7276, 'exclamation': 6897, 'midweek': 12273, 'westmarch': 20252, 'arreat': 2213, 'bills': 3018, 'upa': 19479, 'sfa': 16756, 'rw8b50xz9m': 16255, 'joegoodmanjr': 10277, 'copalibertadores': 4786, 'argentinean': 2176, '8tygo0kizz': 1205, 'wrqf6u55hh': 20605, 'iso': 9944, 'psp': 14929, 'hbpnfoawii': 8745, '6whugaem3c': 1005, 'acfi2rhz4n': 1517, 'xrp0rtkffj': 20791, 'tgirl': 18434, 'iwcu3dgi1a': 9982, 'requiem': 15740, 'cplyrewfz3': 4893, 'hzhoa6vzas': 9309, 'khalidkkazi': 10664, 'di5arr6hq6': 5682, 'gidiexclusixe': 8096, 'faceless': 7052, 'rgtyzbnkeo': 15872, 'bennycapricon': 2904, 'c5u9qsysej': 3682, 'dr_baseball41': 6046, 'granttamane8': 8320, 'drewwtaylor': 6086, 'dtop77': 6164, 'hillside': 8947, 'lq4lxgs2xu': 11592, 'shestooyoung': 16842, 'jbxbi93clu': 10137, 'exquisite': 6977, 'y9w0v6te9o': 20874, 'cumshot': 5080, 'porno': 14597, 'ykdsp0nrdq': 20979, '8j4rdwyjwu': 1173, '9mkzpzfkl2': 1303, '36gccapaak': 566, 'nqjzs6wkun': 13300, 'carefully': 3869, 'pbohanna': 14150, 'justaguess': 10428, 'deadgirltalking': 5362, 'unfortunemelody': 19401, 'jaylenejoybeligan': 10123, 'tarynel': 18221, 'dredougie': 6079, 'santanico': 16417, 'pvkgo79jni': 15027, 'faceåê': 7054, 'bm0sxzbnke': 3205, 'frenzy': 7700, 'disorder': 5817, 'mania': 11853, 'astounding': 2320, 'catovitch': 3952, 'pmhmmkspaq': 14519, 'ps1': 14915, 'platinum': 14464, 'deals_uk': 5376, '0gknpy4lua': 51, 'obligatory': 13467, 'brokenscnecal': 3474, 'spokes': 17479, 'raptors': 15401, 'beg': 2839, 'differ': 5719, 'rang': 15381, 'goodlook': 8239, 'autismawareness': 2430, 'jesse': 10182, 'suffers': 17888, 'r4utnewlna': 15285, 'tim_micallef': 18656, 'troubleonmymind': 19040, 'jetixrestored': 10190, 'teamo': 18301, 'supremo': 17970, 'pogo': 14543, 'wblimlmt2x': 20154, 'orxdqfz0j0': 13797, 'douchebag': 6017, 'qsekoeubmd': 15173, 'elielcruz': 6493, 'streams': 17768, 'newbie': 13041, 'overwhelming': 13891, 'fairly': 7083, 'adjusted': 1590, 'alabama': 1781, 'cy0ciu2u1c': 5143, '4914njpio3': 712, 'lolo': 11497, 'strain': 17750, 'gospel': 8263, 'acoustic': 1529, 'vcq2icptki': 19714, 'headdesk': 8768, 'savs': 16468, 'convinced': 4769, 'guage': 8441, 'eyeball': 7002, 'james_justus': 10076, 'returns': 15821, 'corn': 4809, 'flakes': 7413, 'montetjwitter11': 12539, 'nolesfan05': 13207, 'nutsandboltssp': 13358, 'audreyp77': 2399, 'teena_797': 18329, 'darryl_brooks': 5291, 'elitesportsny': 6500, 'lopezandthelion': 11535, 'natsnation': 12919, 'biggangvh1': 2989, 'linden': 11348, 'lite': 11384, 'cure': 5090, '073izwx0lb': 26, 'lind': 11346, 'okmlagvkjv': 13622, 'pictured': 14354, 'yi9bbbx3fe': 20970, 'dressed': 6082, 'afycso': 1675, 'romantic': 16074, 'sensei': 16681, 'rhymes': 15882, 'attic': 2374, 'vxegcmmvbv': 19982, 'collar': 4524, 'sucking': 17876, 'amo': 1938, 'laughtraders': 11078, 'panicking': 14019, 'capitulation': 3832, 'quotesttg': 15233, 'helios': 8837, 'dirk_nomissski': 5763, 'faints': 7079, 'pkfv8lksld': 14430, 'mumbling': 12724, 'cackling': 3707, 'shook': 16879, 'istg': 9951, 'idm': 9421, 'gotham': 8266, 'bcs': 2776, 'theyre': 18539, 'ian_bartlett': 9355, 'hs2': 9178, 'astroturfers': 2325, 'crumbling': 5016, 'df9fjonvep': 5657, 'bbjls1fsad': 2758, 'adumbbb': 1611, 'beauscoven': 2809, 'debbie': 5389, 'tindering': 18674, '20mins': 376, 'ushiocomics': 19563, 'submitting': 17860, 'brits': 3456, 'hsdbgciyrs': 9179, 'redeemer': 15560, '4h8qyvvd0e': 736, 'romanticsuspense': 16075, 'hurry': 9262, 'fundwhen': 7790, 'ranefihbuk': 15380, 'mflrvbh4qa': 12214, 'alarmingly': 1790, 'c_pinto001': 3693, 'orpik': 13793, 'flip': 7450, 'w6o0uizf8p': 20016, 'jeannathomas': 10154, 'vic': 19789, 'hardy': 8680, 'freeman': 7686, 'practicing': 14683, 'lcnw4ead8v': 11116, 'ogtomd': 13570, 'zvre6ffnyd': 21278, 'giyaad7dcc': 8135, 'worrying': 20529, 'carmi': 3884, 'kqvn1utpmm': 10862, 'breaking411': 3397, 'abusing': 1480, 'boot': 3279, 'obispo': 13459, 'onlvf2fyoy': 13682, 'qld': 15140, 'billy': 3019, 'queensland': 15202, 'msgnndxoek': 12671, 'aåêmiddle': 2517, 'aged': 1683, 'manåêarmed': 11874, 'tyd47nfl5x': 19200, 'retard': 15809, 'drain': 6055, 'dccc': 5342, 'vj44': 19882, 'jbouie': 10132, 'mmfa': 12445, 'maid': 11798, 'dh30000': 5672, 'sponsor': 17481, 'y35qtvdsoh': 20853, 'qhujajctr5': 15128, 'ana': 1952, 'holistic': 9031, 'pot': 14631, 'dispensary': 5823, 'atlantic': 2344, 'yvv1rlghft': 21080, 'smartnews': 17178, 'abc7': 1436, 'qpwotugui9': 15163, 'vinnie': 19835, 'northumbria': 13245, 'up30aqgnlf': 19478, 'trending': 18982, 'ruler': 16215, 'informant': 9708, '93infxzhx0': 1238, 'provocation': 14907, 'lhw4vtbhzg': 11266, 'dailykos': 5210, 'beloeil': 2879, 'richelieu': 15892, 'laurent': 11089, 'expanding': 6929, 'hmuyzmv8qh': 9006, 'bayonets': 2742, 'distributed': 5845, 'departments': 5543, 'randpaul': 15378, 'xb8nfxabum': 20712, 'evilempire': 6863, 'jadehelm15': 10053, 'unwanted': 19468, '12th': 173, 'pp15000266818': 14660, 'episcopal': 6702, 'priests': 14776, 'interracial': 9813, 'harrowing': 8690, 'harassment': 8665, 'rg4jishybs': 15864, 'bounty': 3311, 'yprjwmighl': 21035, '3rrkrcjyw7': 639, 'fife': 7299, 'hu5cxqnobf': 9195, 'dt': 6158, 'georgegalloway': 8026, 'galloway4mayor': 7901, 'pickpocket': 14349, 'liverpool': 11409, 'stree': 17770, 'vxin1goq4q': 19983, 'brandonmulcahy': 3371, 'fpine': 7629, 'tgxutuoyhl': 18437, 'k8bexkgwr2': 10486, 'u30n3ffx8y': 19236, 'robbiewilliams': 16009, 'asswipe': 2317, 'killers': 10708, 'karma': 10540, 'milwaukee': 12306, 'cedjdlpdan': 4008, 'arizonadot': 2194, 'university': 19424, 'salado': 16354, 'crackin': 4906, 'bridgeport': 3426, 'burglar': 3589, '7mlcd0l0b8': 1087, 'blowin': 3177, 'grandmother': 8314, '8217': 1130, 'ndcy8q7r6i': 12965, 'lastma': 11055, 'lagos': 10989, '8vzsftr1bg': 1208, 'helpme': 8852, 'ticketed': 18634, 'cycle': 5150, 'violation': 19840, 'pf8dxwibdp': 14277, 'di8elzswnr': 5683, 'dgelj8ryt9': 5667, 'slosheriff': 17157, 'gate': 7947, 'huntington': 9253, 'quarantine': 15189, 'pkuamxw6pm': 14433, 'onlinecommunities': 13680, 'amageddon': 1900, 'freespeech': 7689, 'pawvnj4sap': 14134, 'offensive': 13536, 'u9bkqt6xhr': 19250, '8s0mtwrumq': 1201, 'technews': 18313, 'puledo_tech_update': 14969, 'promises': 14851, 'communities': 4608, 'ehgtzhkan4': 6432, 'thnexicgqe': 18565, 'h0xunj3c7c': 8543, 'uuew4mjles': 19595, 'wosypvqufi': 20539, 'xw8sds1tjp': 20816, 'ew5wzc07fo': 6866, 'bangalore': 2639, 'of3q75fgeu': 13526, 'startups': 17626, 'kmtwa3n1gf': 10787, 'aannnnd': 1416, 'p1jlurgwbu': 13923, 'cnshlnjuqx': 4457, 'offensiveåêcontent': 13537, 'vygh2ni4ah': 19989, 'wvn6griypq': 20632, 'rei3puwp84': 15617, 'founder': 7606, 'huffman': 9203, 'specif': 17425, 'ljmgdpdlvs': 11424, 'pmcp8czpnd': 14515, 'zhzvprzbgq': 21188, 'zlagv1u5za': 21215, 'feikc9fxed': 7234, 'abyhrgss1s': 1481, 'missambear': 12372, 'e90j3vjolc': 6289, 'censor': 4021, 'pg4y3i5ciu': 14285, 'tdeukjzzii': 18281, 'wjwyjbncat': 20429, '0erisq25kt': 45, 't7ge0j3cay': 18126, 'nas3ipm5vh': 12892, 'unnx71v8qc': 19437, 'gllawb2fsk': 8163, '3kaafuoztc': 616, 'plmiwofpom': 14493, 'pink': 14385, 'lodormtfsq': 11482, 'mjbiuvbmo6': 12415, 'i5cdtd8ftj': 9330, 'ltmgdp6jaf': 11615, 'subreddits': 17861, 'quarantined': 15190, 'u9ao3a4ogc': 19249, 'ohbv7yvtl5': 13576, 'ymuti3nd9r': 20992, 'o8xvtlp4mf': 13437, 'uisnqiu3if': 19316, 'uyugfg3k1h': 19616, 'algtcn8baf': 1830, 'm4tczaawpt': 11718, 'aaarrrgghhh': 1413, 'g2uimbekge': 7859, 'zsxqbduzbn': 21265, '6ncfjxploy': 979, 'antipozi': 2048, 'cucks': 5062, 'ngkrzpza45': 13080, 'lfw4kuukem': 11250, 'k3mnk9hnz5': 10478, '9nly2tovud': 1309, 'rb2s0jmlej': 15434, '__scrambledeggs': 1346, 'kia': 10679, 'edward': 6384, 'qnij2p8zv6': 15151, 'gmtty': 8190, 'bjvfk1ete9': 3072, '4onvxncz8w': 758, 'tnggxnm6k8': 18736, 'zcp5cszsll': 21149, 'ztonvgubvm': 21269, 'bluehand': 3191, 'hm': 9000, 'ebolatrends': 6339, 'ihvmtmzxne': 9478, 'jliemrsnnj': 10248, 'meowing': 12152, 'louder': 11564, 'exposure': 6972, 'hzpx6vaqpz': 9310, 'l4w0pcorbs': 10948, '0npzp': 69, 'y2jt1amyfj': 20849, 'hqdczzdmbn': 9158, 'gix1gaynxz': 8134, 'p93s2rfhx6': 13946, 'wander': 20061, 'biigd1leq3': 3000, 'oc73x': 13484, '0lpu0gr2j0': 64, 'dl': 5890, 'symantec': 18091, 'exchange': 6890, 'cd2ng2awql': 3992, 'vhrlswvzql': 19781, 'x5xumtoeke': 20696, 'monitoring': 12523, 'v57nugmgkt': 19634, 'wipp': 20392, 'elevated': 6487, 'sejorg': 16649, '47km': 706, 'doe': 5942, 'filter': 7324, 'offsite': 13563, 'ashdod': 2264, 'emittin': 6554, 'swq5lmydka': 18075, 'rffpqbaz2f': 15858, 'hxwfbpp1b3': 9294, 'kf74o2mcsc': 10646, 'n2zhrchcgv': 12832, 'rainstorm': 15356, 'decorating': 5418, 'iwk': 9983, 'earonlwifh': 6307, 'gloucester': 8175, 'capeann': 3827, 'seagulls': 16588, 'triciaoneill': 18999, 'triciaoneillphoto': 19000, 'ols6qdi9um': 13647, 'myrtlegroggins': 12805, 'gasp': 7941, 'beauty': 2813, 'pipeliners': 14392, 'pst5bbq0av': 14933, 'yobe': 20999, 'damatu': 5230, 'rzxqssun02': 16276, 'jim': 10223, 'alves': 1895, 'fejs0bu0sq': 7236, 'newrelease': 13049, 'jimmy': 10226, 'lapaka': 11039, '4l8h2fklno': 753, 'zitqkdfxjy': 21206, 'haxj6go2ac': 8733, 'rome': 16076, 'uzwxjbg0zh': 19622, 'ireporter': 9904, '0rny349unt': 75, 'crowned': 5003, 'tends': 18364, 'drift': 6093, 'storming': 17739, 'bebacksoon': 2815, 'boygbp0jw9': 3334, 'roar': 16005, 'dlvyfvnqee': 5901, 'robot_rainstorm': 16022, 'vacancies': 19654, '50vdq7a1m5': 803, 'qh6oxft9ir': 15124, 'damaturu': 5231, 'bbqnk76qus': 2762, 'smkznf52za': 17199, 'soaker': 17258, 'jqfcy9guqv': 10357, 'tn65puhfhw': 18732, 'nathanfillion': 12910, 'hardly': 8677, 'receives': 15521, 'impacting': 9568, 'drvm8isote': 6146, 'fonts': 7528, 'lizzie363': 11421, 'cstsmith': 5039, '14000': 186, 'thnk': 18566, 'float': 7455, 'waking': 20043, 'kooks': 10832, 'gearing': 7986, 'deadgrassandflowers': 5363, 'leagues': 11137, 'cards': 3860, 'nu0d3uannz': 13331, 'italianåêalps': 9953, '8bhvxx2xl9': 1155, '4ou8s82hxj': 759, 'spa': 17387, 'razed': 15428, 'ex6jzqj3ni': 6870, 'aknbtuyaef': 1769, 'razedåê': 15429, 'ikpeazu': 9507, 'apga': 2083, 'react': 15462, 'akzzoe5ce6': 1778, '0keh2treny': 58, 'ntswuayeji': 13327, 'wgefbuk4jk': 20272, 'zbzc8905gl': 21147, 'ly8x7rqbwn': 11674, 'ixiybap8qa': 9987, 'lynchburg': 11681, 'advance': 1612, 'zepzqydby4': 21168, '5kbrzzmf8c': 857, 'tafs': 18153, 'fb100': 7179, 'd1vjoyg52a': 5177, 'dofrh5yb01': 5947, '2nip3d15dx': 481, 'egyfnlaoqv': 6427, 'bsgr67dywy': 3516, 'ndggr6xyqd': 12967, '5fcjvml520': 848, 'fvyrwhux8p': 7817, 'petereallen': 14266, 'huffpostuk': 9207, 'bbc5live': 2748, 'substantial': 17867, '3tnuaciv3c': 647, 'sakorgdqul': 16350, 'p3g3bqbczu': 13926, 'rpbxdfnx5k': 16148, 'x1xj0xvtj7': 20684, 'rg9yaybosa': 15865, '2872j5d4hb': 427, 'ecxmoinzgu': 6357, 'ntwwdwednb': 13329, 'u52rw9ji2r': 19241, 'sandiego': 16399, 'gx75w3q9ye': 8517, 'njenga': 13147, 'razing': 15430, 'ywkk26arag': 21082, 'dualcom': 6168, 'im_razed': 9536, 'yesterdays': 20949, 'todays': 18752, 'easter': 6321, 'bksyymvisg': 3082, 'rlpttkbg4w': 15989, '6acswzo7cw': 939, 'hckxj8eukt': 8750, 'northerncalifornia': 13241, 'monijjth7v': 12521, 'zippednews': 21201, '0yxbb5dzw5': 107, 'r1cnsjuayq': 15277, 'dq1ylcrf9k': 6040, 'us8r6qsn0p': 19536, 'irqujaesck': 9919, 'qdweknrmi9': 15108, 'auezxza5ak': 2400, 'vassalboro': 19696, 'gazebo': 7960, 'petel_mcguire': 14264, 'uuewccdtow': 19596, 'ibed3xg7fy': 9365, 'jihadis': 10221, '1wcofmlub9': 331, 'freedomoutpost': 7681, 'newlyweds': 13047, 'gesture': 8039, 'o1enhjrkjd': 13419, 'arkmc7vcln': 2198, 'repulsive': 15734, 'victimiser': 19797, 'dutton': 6219, 'evangelical': 6840, 'liar': 11272, 'lnp': 11450, 'dupe': 6202, 'overdrive': 13870, 'choppergate': 4226, 'bronwynbishop': 3477, 'cameroon': 3771, 'repatriating': 15706, 'wvvgmeja7l': 20635, 'qu8s89pvvt': 15181, 'wowo': 20547, 'repatriated': 15705, 'ytw9slwvmg': 21060, 'whao': 20283, 'bae0ap4g9y': 2591, 'aisle': 1748, 'dedicated': 5424, 'serbian': 16705, 'foods': 7532, 'clothing': 4418, 'i1vpkq9yag': 9316, 'ty5gavn7uk': 19198, 'reaad': 15457, 'plsss': 14500, 'a2tiivnjdy': 1387, 'fw2xifj6ec': 7820, 'connections': 4693, 'indiegogo': 9658, 'avwe1lbvhn': 2466, 'overboard': 13867, 'tonyabbottmhr': 18794, '6nqru2q5tz': 981, 'christianvalues': 4250, 'kp5dpoaf58': 10850, 'marrie': 11933, 'igll3ph6o1': 9451, '9qpg0z3rh9': 1321, 'huhwpmrywz': 9216, '96p3hujntj': 1255, 'ehlq3zsptd': 6434, 'djx5elbrv1': 5884, 'fadelurker': 7070, 'dalinthanelan': 5220, 'camped': 3779, 'redcliffe': 15554, 'aidan': 1723, 'banquet': 2654, 'egcv7ybjae': 6419, 'flee': 7435, 'burundi': 3605, 'vice': 19790, 'jojnq2oopi': 10303, 'dskui6mmgl': 6156, 'kristindavis': 10866, 'ypvjgzqqqb': 21036, 'xzv0lt9zzk': 20844, 'ehklp12yip': 6433, 'paci': 13952, 'rsf': 16173, 'gag': 7883, 'po19h8ycnd': 14533, 'generous': 8011, 'feeds': 7223, 'ms8e8mnddb': 12665, 'thedailybeast': 18481, 'presser': 14750, 'chpsre': 4238, 'rezaphotography': 15855, 'rpmtropsvr': 16150, 'policyholders': 14561, 'clico': 4382, 'e4dvi9vuxz': 6276, 'jycpf8iyhg': 10461, 'panik': 14021, 'kelbytomlinson': 10606, 'hujvgsflus': 9217, 'oc': 13483, 'shared': 16805, 'p85nwcmkqu': 13943, 'animalrescue': 1997, 'wudlkq7ncx': 20622, 'ud': 19276, 'structural': 17806, 'ypres': 21034, 'oqb7dasmvy': 13750, 'newbeginningsanimalrescue': 13039, 'meds': 12097, 'ppact': 14662, '35qwnglkos': 558, 'is2idc3ubj': 9924, 'ecstatic': 6355, 'racco': 15307, 't8q6dzvgwx': 18129, 'suggs': 17893, 'vivian': 19875, 'psychrewatch': 14938, 'lengths': 11203, 'amrox4y4nx': 1943, 'f1tcbg1mki': 7024, 'kiildu8gpo': 10700, 'sammy': 16384, 'kfc': 10648, 'plantations': 14457, 'forests': 7564, 'cic7h64qv8': 4276, 'rainforestresq': 15352, 'rosvxqelqj': 16117, 'raheel': 15333, 'sharif': 16809, 'chitral': 4210, 'lauded': 11073, 'fwo': 7825, 'opera': 13718, '1eb2dauyfn': 282, 'lisavanderpump': 11370, '367': 565, '2jxkmkpalp': 467, 'ec46lyqqc6': 6341, 'zak_bagans': 21136, 'sabrina': 16311, '1k2phqcuw8': 295, 'britons': 3455, 'himalaya': 8950, 'wgrxly9pdo': 20276, 'bj4haavaye': 3065, '59p3aoiqus': 836, 'xyyev89wiz': 20841, 'z8xiqngulc': 21122, 'tennoatax': 18371, 'tenno': 18370, 'lived': 11398, 'dojo': 5953, 'dopey': 5996, 'summervibes': 17915, 'pitmix': 14412, 'brixton': 3459, 'banksy': 2650, 'mybabies': 12791, '7vovktxspo': 1109, 'buried': 3591, 'sahq5uoahw': 16338, 'coastguard': 4474, 'kjuzjc6igd': 10761, 'skyrim': 17100, 'awaits': 2474, 'nekm1rpohu': 13008, 'pioneer': 14387, 'paleface': 13993, 'raft': 15328, 'container': 4731, 'enkelbiljett': 6642, 'menolippu': 12142, 'bovines': 3315, 'smugglersåênabbed': 17215, 'e7fn5g5ruu': 6283, 'cocker': 4485, 'spaniels': 17399, 'rjrmw7nzy5': 15981, '45twhj0l6m': 701, 'romanatwoodvlogs': 16071, 'kittens': 10755, 'kepznhxhxd': 10625, 'inspi': 9754, 'jywfygclhm': 10465, 'stray': 17764, 'strangers': 17756, 'qhfqlui6ry': 15126, 'reshareworthy': 15758, 'brittanypetko': 3457, 'giorgio': 8117, 'hiatt': 8909, 'yhyy3o609u': 20966, 'qgyn2u1up3': 15122, 'wis3h9tqrm': 20397, 'c4news': 3678, 'pmggavtokp': 14517, 'kot9zvd2h7': 10840, 'irishtimesworld': 9910, 'springer': 17505, 'spaniel': 17398, 'g03dkpoonp': 7850, 'go0hpi0b4c': 8200, 'beached': 2790, 'rqbspucjdf': 16156, 'ribbon': 15884, 'pa5sslefec': 13950, 'offtrackhorse': 13565, 'swept': 18057, 'sins': 17007, 'isaiah': 9926, '44': 690, 'contemporary': 4734, 'fnpdjwvw1j': 7501, 'cardboard': 3859, 'heartwarming': 8806, 'mistrustful': 12394, 'vaunps6wja': 19699, 'onegreenplanet': 13669, 'await': 2473, 'disembarkment': 5802, 'naval': 12928, 'vessel': 19759, 'tconnellyr': 18271, 'aim5cyhl0y': 1729, 'p4doa5yyje': 13929, 'bs6pjt09tc': 3512, 'mediterran': 12094, 's5nuegswyj': 16294, 'ciwwuqthin': 4319, 'geu4h46csz': 8045, 'yhqu5uv6ok': 20965, '6ds67xai5e': 953, 'durban_knight': 6207, 'carr': 3896, 'cwcvbubs01': 5130, 'nosy_be': 13257, 'unexplainable': 19393, 'childhooddefined': 4189, 'roddypiperautos': 16043, '97b8avgewu': 1257, 'andygilder': 1975, 'infomercial': 9707, 'crept': 4961, 'carryi': 3900, 'guides': 8459, 'marin': 11901, 'uojy4e2sv4': 19472, 'zg1yddywa5': 21177, 'puezv6bd37': 14964, 'awtscucbbv': 2492, 'oekucq4zl0': 13522, 'shaolin': 16797, 'shen': 16837, 'nan': 12875, 'chiang': 4174, 'venoms': 19742, 'kung': 10894, 'fu': 7759, 'favori': 7168, '6hhmbdk9yo': 964, 'zfwmjh6slh': 21175, 'xlfi7ovhfj': 20759, 'raq4zpdvke': 15402, 'mazing': 12022, 'ficd5qbqwl': 7286, 'tx51oybrn6': 19186, 'thenewshype': 18512, 'pspm3ahgkq': 14930, 'yvo6q6w442': 21078, 'allergic': 1853, 'vecmsiuuh1': 19722, 'gx9skuau9j': 8518, 'sfgate': 16758, 'iz9u8bhfaa': 9997, 'v9ftyb30ei': 19649, 'i8sj1kws1d': 9339, 'vulcan': 19968, 'gaehr9bhek': 7881, 'ixfne5jlep': 9986, 'uymxocfs33': 19615, 'fem': 7244, 'kmndkfa7me': 10785, 'piprhys': 14395, 'teamvodg': 18307, 'nickcannon': 13096, 'realmandyrain': 15495, 'itunesmusic': 9968, 'dehmym5lpk': 5469, 'blowmandyup': 3181, 'um3wtl5r7k': 19337, '2lqyxzq5dn': 475, 'cxb55h37jn': 5139, 'rascal': 15406, 'flatts': 7427, 'h6tyysgr30': 8560, 'hasåêarrived': 8713, 'udqa53kfqu': 19286, 'tactical': 18149, 'headquarters': 8776, 'dani_riot': 5257, 'hxox7o42rq': 9290, 'live_workshop': 11397, 'booth': 3280, 'kappa': 10533, 'acaciapenn': 1485, 'shidddd': 16847, 'bah': 2602, 'menswear': 12144, 'urbanfashion': 19516, 'ccwzdtfbus': 3990, 'abran_caballero': 1466, '5fr41tpzte': 850, 'thorin': 18573, 'sandbox': 16397, 'figures': 7311, 'zgsjwxdrcm': 21180, 'silverman': 16974, 'sarahksilverman': 16424, 'soundtrack': 17365, 'tracey': 18890, 'ullman': 19327, 'tiost8okvx': 18680, 'teemo': 18327, 'tytpbc4gwi': 19217, 'lamsdzkcuz': 11007, 'shield': 16848, 'bytorrecilla': 3656, 'torrecilla': 18828, 'transwomen': 18941, 'drag': 6049, 'butch': 3623, 'credited': 4952, 'inciting': 9619, 'eac4au': 6294, 'fvp3wnid4l': 7814, 'bwdhibtiks': 3642, 'qelroci7by': 15112, 'ally': 1871, 'hired': 8966, 'incompetent': 9626, 'fried': 7714, 'ravioliåêwith': 15417, 'porcini': 14593, 'ricotta': 15902, 'n6mcpgvwq2': 12841, 's8oinfgxyx': 16300, 'skaausjpo4': 17059, 'oliviamiles01': 13640, 'davidjordan88': 5318, 'stephanenny': 17666, 'particular': 14076, 'trollkrattos': 19030, 'juan': 10386, 'salvador': 16370, 'crowns': 5004, 'champions': 4078, 'championsblackfoot': 4079, 'v9i4pfxo0c': 19650, 'sweetpea': 18052, 'allotment': 1863, 'brightening': 3437, 'rainy': 15357, '6ndbfopk5m': 980, 'intervene': 9824, 'vitesse': 19873, 'supporters': 17961, 'buildup': 3560, 'skvnmtzgeg': 17089, 'jwalkerlyle': 10449, 'cracker': 4905, 'cc7d0wxk0m': 3984, 'protestors': 14894, 'skyscrapers': 17101, 'doco': 5931, 'setanta': 16725, 'freeview': 7692, 'eric': 6734, 'clapton': 4347, 'happiness': 8658, 'hyperbole': 9303, 'saintsfc': 16345, 'rio2016': 15932, '9mtrq5jf4d': 1304, 'runjewels': 16225, 'met': 12178, 'discuss': 5793, 'relations': 15632, 'loveislove': 11573, '6ce1vwovhs': 948, 'wspuxorewb': 20611, 'cindy': 4284, 'noonan': 13219, 'cindynoonan': 4285, 'heartbreak': 8799, 'yahistorical': 20879, 'undergroundrailraod': 19377, 'embra': 6531, 'tier': 18643, 'dee': 5427, 'dum': 6186, 'cloydrivers': 4426, 'plenty': 14488, 'tosu': 18837, 'championship': 4080, 'evacide': 6831, '163': 213, 'contr': 4745, 'bhramabull': 2962, 'jewels': 10196, 'socially': 17270, 'duo': 6201, 'ld5p1sia2n': 11118, 'invented': 9843, 'insomniacs': 9750, 'wee': 20210, 'blutz10': 3201, 'gmail': 8184, 'jasalhad': 10107, 'brianboru67': 3417, 'jimskiv92': 10228, 'hijinks1967': 8932, 'ryleedowns02': 16266, 'nevaehburton33': 13033, 'venezuela': 19740, 'directed': 5753, 'gr': 8296, 'gjfd85vuf2': 8137, 'davidolszak': 5320, 'aelinrhee': 1628, 'mascara': 11949, 'smeared': 17185, 'signing': 16956, 'nffc': 13072, 'wesley': 20245, 'verhoek': 19750, 'household': 9143, 'tpanic': 18875, 'georgous__': 8029, 'demonstration': 5521, 'halljh1720': 8610, 'decision': 5403, 'indictment': 9655, 'usami': 19542, 'hooligan': 9088, 'uknews': 19323, 'q5mp2q6hy8': 15078, 'jmzcaqydfa': 10262, 'insurers163': 9783, 'fa07af174a71408': 7043, 'tolerated': 18770, 'rubble': 16198, 'shovel': 16907, 'expirehc': 6947, 'su': 17848, 'kabk3tcjnl': 10495, 'forbes': 7547, 'bounce': 3305, 'churchill': 4271, 's0eyq1wehe': 16280, 'go0pkrfzmf': 8201, 'impulsive': 9596, 'redesigned': 15563, 'bricks': 3421, 'crazyideascollege': 4932, 'dh0s4buuk7': 5671, '360wisenews': 561, 'eatfro3d5x': 6329, 'q4grdpajr5': 15072, 'c0slabbp7j': 3667, 'bulls': 3570, 'betting': 2935, 'rebound': 15511, '1yggzziz9o': 340, 'jasonpope2': 10114, 'johnfugelsang': 10290, '3pbfyjx0ya': 634, '9naw3qoqol': 1305, 'jun': 10413, 'yemenis': 20940, 'ûªa': 21318, '11juzhlgmt': 155, 'j4ggmkiney': 10017, 'forbesasia': 7548, 'buscemi': 3608, 'firefightr': 7361, 'fame': 7101, 'workd': 20505, '12hr': 167, 'shifts': 16852, 'diggin': 5728, 'wtc': 20614, 'lookg': 11519, 'l9fjpnszuo': 10963, 'o6onsjhcsd': 13430, 'p2': 13925, 'pe2r3ln16o': 14176, 'tnn': 18740, '9lo0hzwjpz': 1299, 'bqblwiw08g': 3351, 'roimentor': 16057, 'yycwalks': 21090, 'ox3qb15lwq': 13907, '8u07foqjzw': 1206, 'tg5fqc8zey': 18431, 'aod2ftbmgu': 2065, '6cadrhioxp': 947, '2oqsgzqlbz': 486, 'postapocalypticflimflam': 14621, 'prodding': 14816, 'bgy4i47j70': 2956, 'gqskwqzuul': 8295, 'okgabby_': 13616, 'suh': 17894, 'carpooling': 3895, 'slc27emugm': 17126, 'uncomfortable': 19364, 'smokers': 17202, 'chrisdyson16': 4243, 'mta': 12681, 'sorrybutitstrue': 17350, 'yuppies': 21073, 'tourists': 18857, 'unhappy': 19404, 'purposely': 15012, 'fresh': 7703, 'lookss': 11522, 't2kk8fya77': 18116, 'savannahross_4': 16456, 'terrific': 18387, 'zu9yydf5di': 21271, 'holidays': 9030, 'wordk': 20501, 'zmne': 21220, 'intentions': 9799, 'rc6eejme17': 15441, 'wale': 20046, 'bleed': 3127, 'masterpiece': 11967, 'foo': 7529, '9tarbox': 1326, 'sour': 17367, 'freezer': 7695, 'dummy': 6192, 's107ee7cyc': 16283, 'connormidd': 4700, 'krsy54xmmc': 10870, 'greedy': 8347, 'bastards': 2713, 'fullscreen': 7782, 'censorship': 4022, 'nmtlpo4b58': 13177, 'juliechen': 10403, 'clnv_': 4402, 'reboot': 15509, 'bel': 2865, 'cervix': 4040, 'odell': 13512, 'babe': 2555, 'ctaztrophe31': 5047, 'sandstorm': 16401, 'swallowed': 18028, 'mkwyvm3i8r': 12428, 'azl4xydvzk': 2513, 'hienshi': 8918, 'gbay99': 7964, 'wouldnt': 20541, 'dumb': 6187, 'z2ph0arzyi': 21105, 'xr3xjj8gjb': 20787, 'darude': 5295, 'brctmnybjy': 3384, 'nx2d83a4du': 13377, 'gaotrg4mtr': 7925, 'rku0idm6aq': 15985, '7ijlz6bcsp': 1076, 'coated': 4476, 'layer': 11105, 'grit': 8385, 'hvjmuualxv': 9275, 't8nz6h9zz4': 18128, 'woo': 20490, 'hoo': 9083, 'vzpkn23rx4': 20000, 'rm50vcvjsh': 15991, '1tr2kvxctw': 322, 'q0x7e84r4e': 15062, 'booze': 3283, 'socialwots': 17274, 'globi_inclusion': 8167, 'nrc_middleeast': 13309, 'engulfs': 6636, 'caravans': 3854, 'tents': 18376, 'zaatari': 21126, 'xbnlsbzzgi': 20714, 'h84r1tih8j': 8563, 'sequwmvfx4': 16701, 'aknynpv461': 1770, 'c9t2f6dltm': 3692, 'xszicdwxq0': 20799, 'sundercr': 17928, 'remixes': 15674, 'merged': 12158, 'qr6btdcqcj': 15169, 'wd9odwjj9l': 20169, 'efkcoegjck': 6414, '87h5mba3n1': 1150, '8l4rffzd0p': 1184, 'tvyqczgjdy': 19146, '15th': 208, 'woodland': 20494, 'tryout': 19078, 'hs': 9177, '6pm': 987, 'bb7ttdvjwe': 2746, 'villicanaalicia': 19828, 'airhorns': 1738, 'dudairbbpo': 6180, 'padosfyxnm': 13967, 'bgm4csrbvd': 2954, 'ahahahga': 1709, 'infinitegrace7': 9698, 'unconscious': 19368, 'lyrics': 11686, 'sidjsjdjekdjskdjd': 16941, '0vcsafx9by': 89, 'godof_mischief_': 8211, 'loki': 11489, 'daggers': 5208, 'jammed': 10083, 'mina': 12309, 'thigh': 18544, 'grabbed': 8299, 'sif': 16943, 'pandora': 14015, 'vzcvadkcqp': 19996, 'microchip': 12254, 'tbh': 18256, 'steven': 17682, 'theme': 18507, 'upstairs': 19501, 'mogacola': 12494, 'zamtriossu': 21139, 'chonce': 4221, 'cryibg': 5025, 'loudest': 11565, 'higuain': 8928, 'offside': 13562, 'politely': 14564, 'jared': 10104, 'cortezera': 4822, 'mommys': 12512, 'brooke': 3479, 'timed': 18662, 'dislike': 5808, 'femnism': 7250, 'r7pvtsduma': 15295, 'cedarglade2015': 4006, 'asb': 2255, 'fierce': 7296, 'cheat': 4140, 'vent': 19743, 'txt': 19193, '1d': 281, 'wwa': 20640, 'languages': 11033, 'ldjet9tfmk': 11122, 'oamsgajagahahah': 13451, 'laighign': 10991, 'etkbw1rcrv': 6801, 'pc3h1ne4g0': 14155, 'gxyivswki7': 8523, 'real_liam_payne': 15477, 'addtexastonext1dtour': 1582, 'thatwitchem': 18460, 'emmachosenone': 6555, 'jessienovoarp': 10186, 'jessie_novoa_': 10184, 'liana_novoa': 11271, 'hond': 9071, 'toddyrockstar': 18757, 'jdtpirnm76': 10147, 'msuy4qtpk9': 12678, 'slsp': 17165, 'encore': 6597, 'quiet': 15218, 'phandom': 14294, 'fangirling': 7116, 'wdvqlewybs': 20172, 'mannequin': 11859, 'camilacabello97': 3773, 'externally': 6988, 'jariana': 10105, 'bizzlemahomie': 3064, 'estellasrevenge': 6781, 'swiming': 18061, 'mariahcarey': 11895, 'xxzd1nmb1i': 20829, 'lhh': 11263, 'mastered': 11966, 'biexwdldwc': 2983, 'noahshack': 13194, 'jwdfpyg3nt': 10450, 'harshness': 8695, 'pacing': 13954, 'prontouo91': 14863, 'cp7c1ch0zu': 4890, 'tyleroakley': 19205, 'scalpium': 16493, 'camila': 3772, 'spree': 17503, 'stvmlly': 17841, 'safferoonicle': 16331, 'yell': 20931, 'chords': 4229, 'axvq80rbyj': 2497, 'funnydadcoach': 7797, 'missdaoh': 12374, 'idols': 9424, '22days': 391, 'wdym': 20174, 'kamkasteiiano': 10522, 'bluntedjayt': 3199, 'nochilllukehammings': 13197, 'advertise': 1618, 'blanksocietyx': 3111, 'rdfaakkbnj': 15450, 'ahhhh': 1713, 'y678xsnvj6': 20861, 'omgggg': 13661, 'trombonetristan': 19031, 'ooooohshit': 13703, 'ooohshit': 13702, 'screams': 16558, 'danemillar1': 5251, '666': 926, 'cfe9huqn0h': 4046, 'worstoverdose': 20535, 'jaileens': 10062, 'caked': 3728, 'pu7c4hhbxj': 14951, 'himeruisu': 8952, 'ram': 15364, 'shove': 16906, 'pillows': 14377, 'muffle': 12702, 'rhiannon': 15877, 'hungover': 9242, 'uhmmmm': 19312, 'tailor': 18161, 'kay': 10565, 'robbed': 16007, 'attached': 2358, 'drag0nking0201': 6050, 'scare': 16497, 'animatronics': 2000, 'echoes': 6343, 'jimin': 10224, 'casually': 3932, 'jasmine': 10108, 'realjaxclone': 15492, 'rly': 15990, 'vibrates': 19787, 'saku_uchiha_': 16352, 'ya_boi_luke': 20877, 'saku': 16351, 'genitals': 8014, 'heyot6': 8883, 'lawsonofficial': 11099, 'followed': 7518, 'thankyou': 18452, '4tiles': 774, 'zacb_': 21128, 'dell': 5487, 'win10': 20363, 'ollymursaus': 13642, 'cultural': 5075, 'appropriation': 2127, 'buddhas': 3539, 'looney': 11523, 'tunes': 19117, 'griffin': 8376, 'mash': 11950, 'queenwendy_': 15204, 'anytime': 2061, 'wisdc': 20399, 'death2usa': 5381, 'serarcnrby': 16703, 'harveymaine': 8699, 'aaaa': 1410, 'lemme': 11198, 'roomr': 16096, 'hears': 8795, 'gbepdi0wzt': 7969, 'exploration': 6959, 'pckf0nl2yn': 14163, 'oppose': 13729, 'studies': 17825, 'calabria': 3731, 'malta': 11834, 'hmrtqeykyi': 9004, 'hebrooon': 8818, 'derivative': 5567, 'formula': 7583, 'gabon': 7878, 'somalia': 17306, 'kltit88as3': 10777, 'insight': 9748, 'ey': 6999, 'qamgvqafzc': 15090, 'worldoil': 20518, 'subscription': 17863, 'kqvevuutdj': 10861, 'alabamaquake': 1782, 'summary': 17907, 'zm6vczqvwk': 21219, 'dknlznom6n': 5886, 'channels': 4096, 'zqmtrbkas0': 21248, 'yeqq3bzx3g': 20943, 'kmvrzasxy4': 10788, 'marek1330': 11887, 'zar': 21140, 'cringes': 4976, 'marek': 11886, 'toss': 18836, '15t': 207, 'sa15t': 16304, 'padded': 13965, 'speaker': 17410, 'qty': 15179, '2jbibeib9g': 463, 'p5ktaqw5qg': 13935, 'detectado': 5616, 'japì_n': 10102, 'okinawa': 13618, '10km': 135, 'jst': 10374, 'perforated': 14224, 'shear': 16822, 'sfor': 16760, 'cx5ojh2dr4': 5137, 'ibaraki': 9363, 'prefecture': 14712, 'offing': 13553, 'm5': 11720, '60km': 900, 'benson': 2906, 'clegg': 4369, 'maps': 11879, 'btdjgwekqx': 3519, 'kml': 10784, '2d': 446, '3d': 594, 'vessels': 19760, 'offshore': 13561, 'bekrpjnyhs': 2864, 'kakajambori': 10510, 'yor': 21011, 'm3': 11711, 'seeks': 16635, '9vd6x4wdoy': 1332, 'ipa': 9878, 'radler': 15323, 'a8nmdkd3rv': 1405, 'oilandgas': 13596, 'ohholj9vev': 13581, 'ltf6jl5keu': 11612, 'zlq8thctkw': 21217, 'seismicsoftware': 16646, 'sales': 16357, 'enablement': 6589, 'kwmrcekvtf': 10915, 'panoramic': 14022, 'cuts': 5116, 'muwmfjgzyh': 12765, 'dogger': 5950, 'westward': 20255, 'survey': 17994, 'regent': 15605, 'towing': 18866, '8400': 1137, 'metre': 12193, 'subcontractor': 17854, 'cgg': 4054, 'oddball': 13509, 'observer': 13476, 'w0xr5gp8cw': 20007, 'miyagi': 12409, 'selfies': 16658, 'belie': 2866, 'a3b5n3rcr5': 1389, 'mrw': 12663, 'beneath': 2889, 'ifunny': 9445, 'xiydyfptru': 20745, 'goz': 8283, 'manually': 11868, 'ru': 16192, 'domains': 5963, 'surprises': 17988, 'zdpvqmeezs': 21157, 'swallows': 18029, 'pond': 14575, 'lowndes': 11588, 'bcldqmmehg': 2772, 'occasion2b': 13488, '10news': 138, 'disrupts': 5835, 'trolley': 19028, 'paug7a68i0': 14126, 'falmer': 7097, 'bethlehem': 2931, '6tvvlg2fni': 997, 'crater': 4924, 'gkprvzq6lk': 8141, 'azimel': 2512, 'scientist': 16528, 'deceased': 5397, 'gaping': 7927, '0xa6fcjyec': 98, 'fdny': 7199, 'nycbuildings': 13391, 'm78ir0ik01': 11728, 'wctv': 20164, 'wkpzp1jcau': 20435, 'yonews': 21009, 'accidentalprophecy': 1497, '3glyoyf6oc': 606, 'moorlandschmbr': 12554, 'xvco7slxhw': 20813, 'jbvmgeg522': 10136, '0yaxrjicrr': 103, 'rvmmut3gvc': 16253, 'algeria': 1829, 'qwo7q1amh8': 15248, 'esrkmazeq9': 6771, 'n3ow73oasw': 12834, 'gs9bmplbhh': 8422, 'lomasvisto': 11499, 'hipsters': 8965, 'devours': 5651, 'intersectio': 9816, 'qwtk1b2fmc': 15253, 'cadenadeseguidores': 3710, 'cbaxcuba0h': 3970, '9tb82zmr2x': 1327, '1ybe5mgzl4': 339, '7zog3dpdu9': 1116, 'kff8ojrzp4': 10649, 'job4ggtpal': 10268, 'twit_san_diego': 19176, 'depression': 5553, 'asphalt': 2293, 'anriombhqn': 2031, 'sel': 16651, 'oyy9mgw7hn': 13913, 'hinterestin': 8958, 'evansville': 6842, 'usage': 19538, 'sjnyfszcu1': 17052, 'davidcovucci': 5316, 'wews': 20259, 's7grbznwlr': 16296, 'cpeqv52lna': 4892, 'heiekfchdm': 8825, 'leaking': 11140, 'sewage': 16742, 'dwu8qqys0v': 6238, 'mtsalert': 12690, 'developed': 5636, 'hvbj30aj9s': 9274, 'jvjalyg2n1': 10445, 'qxmweljbc0': 15256, 'afloat': 1652, 'pension': 14215, '4ceeuzwhvf': 720, 'unhappiness': 19403, 'orjb3j803f': 13789, 'mwdhxyfrag': 12776, 'hogan': 9018, 'thanking': 18448, 'publicity': 14956, 'supernovalester': 17953, 'jfc': 10204, 'unsigned': 19455, 'qymalttvzp': 15261, 'realise': 15482, 'snapping': 17226, '9stlkh59fb': 1325, 'abandonedpics': 1427, 'abbandoned': 1429, 'darsena': 5293, 'castello': 3927, 'scaligero': 16492, 'sirmione': 17021, 'dig': 5727, 'hoke': 9021, 'excepting': 6886, 'versus': 19758, 'dfljev': 5659, 'currency': 5095, 'transgress': 18934, 'ward': 20072, 'payment': 14140, 'unsecured': 19453, 'jbumzqpk': 10135, 'onnnn': 13683, 'zv60chjclf': 21276, 'plank': 14450, 'sinkingshipindy': 17006, 'scarlet': 16502, 'lenore': 11208, 'saison': 16347, 'stonebrewingco': 17717, 'titanic': 18691, 'stayed': 17644, 'wooden': 20493, 'onå': 13692, 'gander': 7920, 'tna': 18734, 'appease': 2107, 'morbid': 12560, 'destinationimpact': 5601, 'exercised': 6907, 'att': 2357, 'bjojvm0pjx': 3068, 'whoc7lhb5f': 20314, 'investment': 9853, 'keurig': 10638, 'gtdnw1spvi': 8432, 'wccorosen': 20161, 'lloyds': 11439, 'insure': 9780, 'corycove': 4824, 'slipper': 17147, 'b1bx0eruep': 2522, 'darkest': 5285, 'jota': 10334, 'esse': 6772, 'carb': 3855, 'consultative': 4722, 'subconscious': 17853, 'xkdrx': 20751, 'lara': 11043, 'flesh': 7441, 'clawing': 4354, 'j43nwkx0x3': 10013, 'wonderfully': 20484, 'mafia': 11774, 'installment': 9765, 'btjpeo0bto': 3521, 'clyj32l333': 4434, 'wasting': 20115, 'edsheeran': 6381, 'tribe': 18996, 't0c1f2ledv': 18112, 'u0mexo4uhh': 19227, 'pitched': 14408, 'siren': 17015, 'ofnsixjks': 13567, 'corii': 4806, 'spoil': 17475, 'l3gizrucy4': 10945, 'wishlist': 20407, 'hgedwxtdjn': 8895, 'ma3route': 11743, 'imeshika': 9552, 'hapa': 8651, 'mats': 11988, 'bumper': 3576, 'aar': 1417, 'bonnieg434': 3263, 'piga': 14363, 'kijan': 10701, 'stacedemon': 17572, 'ibeyiofficial': 9367, 'olnk1ti1nm': 13644, 'amateur': 1903, 'reprises': 15728, 'horrormovies': 9116, 'w9cd6offcj': 20019, 'j2bone': 10004, 'foxy__siren': 7624, 'coursing': 4864, 'weyrey_gidi': 20263, 'nv7rk63pgc': 13364, 'reviving': 15847, 'demoness': 5516, 'beckoning': 2819, 'void': 19914, 'nps3xpbkaq': 13296, 'whelen': 20295, '295ss': 433, 'amplifier': 1940, 'a5iwus8evq': 1397, 'gi82n2juwn': 8087, 'a0v1ybysod': 1378, 'siren_voice': 17017, 'liveonstreamate': 11407, 'frusciante': 7743, '00cy9vxeff': 4, 'jennifer': 10173, 'aniston': 2002, 'tui9uwbvvp': 19106, 'ww2': 20638, 'announce': 2020, 'dull': 6185, 'monotonous': 12529, 'hunterston': 9251, 'process': 14814, 'smithereens': 17197, 'tomarse99': 18775, 'intending': 9794, 'signal': 16951, 'firms': 7375, 'cybersecurity': 5148, 'laftj2gyly': 10987, 'angelina': 1984, 'jolie': 10307, 'sef': 16642, '612bsbvw8k': 905, 'walkthrough': 20053, 'optich3cz': 13741, 'askh3cz': 2285, 'elgato': 6490, 'bday': 2782, 'ayhoka_': 2506, 'envyseven': 6678, 'aquarius': 2150, 'queenmy': 15200, 'pretenses': 14759, 'overtures': 13886, 'songfor': 17317, 'pharma': 14298, 'overloaded': 13874, 'siren_song21': 17016, 'hacked': 8577, 'bucks': 3535, 'nsf': 13318, 'argue': 2180, 'dyersburg': 6249, 'heavydirtysoul': 8814, 'concluded': 4653, 'serephina': 16707, 'k6uetsnlht': 10485, 'la_siren': 10968, 'vvorm': 19977, 'fgcu': 7277, 'soonermagic_': 17333, 'indyfest': 9676, 'breachgamingorg': 3388, 'fevwarrior': 7268, 'screeching': 16559, 'accompanying': 1501, 'warped': 20088, 'attila': 2375, 'thu': 18612, '0000': 2, 'millcityio': 12300, '20150613': 362, 'theramin': 18517, 'raychielovesu': 15421, 'lemonade': 11200, 'semi': 16664, 'segment': 16644, 'anthology': 2038, 'feature': 7211, 'lqjmuaxjuu': 11596, '_dangdaddy': 1354, 'qaqqrjv9gu': 15092, 'thinner': 18553, 'bnwygx6luh': 3217, 'awn': 2489, 'sirensicebreaker': 17019, 'diverse': 5855, 'hpljur0obo': 9153, 'kiro7seattle': 10741, 'dill': 5739, 'pickle': 14347, 'marketforce': 11914, 'perth': 14256, 'winner': 20384, 'iinet': 9488, 'nbn': 12953, 'buffering': 3548, 'ggperglvki': 8068, 'travelelixir': 18951, 'helo': 8848, 'goooooooo': 8252, 'fz5ew4ihmb': 7846, 'midfield': 12265, 'soni': 17320, 'soner': 17315, 'sonisoner': 17322, 'devffptcvj': 5641, 'hakogaku': 8602, 'åêi': 21302, 'kurd': 10896, 'raised': 15358, 'gunfire': 8477, 'obp595w7tm': 13472, 'ik4len': 9501, 'cancelled': 3798, 'abc7eyewitness': 1438, 'hometownglory': 9062, 'connor': 4698, 'franta': 7659, 'howell': 9150, 'gostei': 8264, 'um': 19336, 'vì_deo': 20002, 'christinartnd': 4255, 'bwe9kjcept': 3643, 'postcards': 14622, 'polaroids': 14555, 'ûïcat': 21332, '6f9afql6wp': 958, 'f2tqmfh1yb': 7026, 'cher': 4161, 'lloyd': 11438, 'vai': 19661, 'vir': 19850, 'pra': 14677, 'halfhourhotel': 8606, 'edgarsgift': 6366, 'promotion': 14855, 'zrn30a78ir': 21254, 'lifeaintfairkid': 11295, 'brooo': 3483, 'blunts': 3200, 'snoop': 17240, 'collie': 4535, 'buddz': 3542, 'alot': 1877, 'hmmm': 9002, 'radneck': 15324, 'kidneys': 10691, 'sidelinesavage': 16937, 'crqck': 5011, 'becyme': 2823, 'mayor': 12018, 'includes': 9623, 'foursquare': 7608, 'burp': 3602, 'smokes': 17203, 'selling': 16660, 'youngins': 21022, 'pianohands': 14340, 'taxis': 18242, '55436': 824, '1950': 254, 'locomotives': 11479, 'magne': 11786, 'traction': 18895, 'instructions': 9775, 'xezbs3sq0y': 20733, 'c2x0qokgly': 3676, 'sammysosita': 16385, 'blunt': 3198, 'ciggs': 4278, 'toooooo': 18805, 'bck': 2771, 'thetshirtkid': 18533, 'trynna': 19077, 'tj': 18700, 'billmccabe': 3016, 'austin': 2416, 'umzkc9azwd': 19350, '79upydcemp': 1051, 'cigs': 4279, 'breath': 3403, 'smells': 17189, 'tray': 18957, 'bre_morrow': 3386, 'josie': 10333, 'splifs': 17472, 'reminders': 15671, 'changing': 4092, 'teamatowinner': 18296, 'mino': 12335, 'commas': 4582, 'snowstorm': 17247, 'x36': 20688, 'rczalru05o': 15447, 'manuel': 11869, 'hoping': 9100, 'accuracy': 1507, 'improves': 9594, 'chann': 4094, '3am': 591, 'footed': 7543, 'pajamas': 13986, 'desk': 5589, 'irishirr': 9908, 'mchapmanwsaz': 12043, 'wsaz_brittany': 20606, 'kellyannwx': 10610, 'sassy': 16432, 'hunk': 9246, 'smoky': 17206, 'aoms': 2070, 'nkkctttsd9': 13157, 'ibooklove': 9370, 'bookboost': 3268, 'groupon_uk': 8400, 'hk9yf72ova': 8987, 'southdowns': 17376, 'treeporn': 18970, 'purified': 15007, 'pale': 13992, 'moonlight': 12551, 'lalaloopsy': 10999, 'dolls': 5958, 'seed': 16628, 'sunburst': 17924, 'june': 10415, 'seashore': 16597, 'sweater': 18042, 'spice': 17449, 'nyty7fcqo6': 13408, 'hyypspn0yq': 9307, 'habbo': 8573, 'tic': 18632, 'tac': 18142, 'battleships': 2736, 'matchwood': 11978, 'zdj2hyf6ro': 21155, 'dirk_trossen': 5764, 'pnaqxprweg': 14525, 'lordbrathwaite': 11537, 'growingupincolorado': 8406, 'cacheadvance': 3705, 'freddie': 7669, 'sippin': 17012, 'transportation': 18939, 'wheelers': 20293, 'ûïmake': 21339, 'amssummer': 1945, 'hdjs9rntj4': 8760, 'pyrbliss': 15050, 'inches': 9612, 'benjamin': 2899, 'francis': 7653, 'leftwich': 11168, '5kjy8g0i4y': 859, 'jhscgda2g8': 10214, 'treescape': 18972, 'z8cp77lvza': 21119, 'boeing': 3233, '737': 1029, 'takeoff': 18169, 'cockpit': 4486, 'atc': 2330, 'mothernaturenetwork': 12596, 'thundersnow': 18618, 'uncommon': 19365, 'eydapaupvg': 7000, 'lakeeffect': 10995, 'twill': 19169, 'denim': 5531, 'jackets': 10039, 'txtpx4umqh': 19194, 'refer': 15581, 'boi': 3234, 'ûïsippin': 21346, 'lame': 11003, 'effective': 6407, 'prablematicla': 14679, 'adweek': 1623, '358': 556, 'gamefeed': 7908, 'inspired': 9756, 'gx1kz3c2tc': 8515, 'videogame': 19809, 'captured': 3845, 'dggm5b0w4l': 5668, 'eyr2xx5l1p': 7011, 'trooper': 19032, 'bobble': 3225, 'funko': 7793, 'kjbxieypma': 10757, 'enpjcfma8l': 6645, 'khyqqsi6my': 10674, 'g6vs3xeinb': 7868, 'kesabaran': 10633, 'membuahkan': 12130, 'hasil': 8708, 'indah': 9636, 'pada': 13964, 'saat': 16308, 'tepat': 18377, 'jenniferarri_': 10174, 'comeeeee': 4570, 'tonyhsieh': 18797, 'vortex': 19934, 'catcher': 3942, 'oiywrzl79z': 13601, 'happenings': 8655, 'huzrhgmksy': 9272, 'eventspalmbeach': 6848, 'hobby': 9011, 'lobby': 11463, 'ama': 1899, '8qc8bcxoko': 1196, 'jvai5vkmsy': 10442, 'sportinggoods': 17487, 'nr8jjmpmos': 13306, 'hawaiianpaddlesports': 8731, 'lgpgajgomy': 11256, 'fkd1mbtb68': 7402, 'pillow': 14376, 'prints': 14791, 'lulu': 11643, 'mypillowstudio': 12803, 'm4pqkkeevc': 11717, 'johngreen': 10291, 'robthier_en': 16027, 'wz55nbyao3': 20668, 'l7pmdmejs1': 10959, 'mdp2ni1pqu': 12059, 'expanded': 6927, 'slight': 17139, 'twcnews': 19150, 'ncwx': 12962, 'dgbeh5l9ds': 5666, 'calgarians': 3739, 'busy': 3622, 'fkfa9vsssz': 7403, 'finna': 7348, 'boutta': 3314, 'hurting': 9264, '45pm': 700, 'xwoevmk0aa': 20820, 'sara': 16422, 'nasahurricane': 12894, 'satellite': 16437, 'hilda': 8941, 'ksxto8nknl': 10884, 'lesley_mariiee': 11220, 'cm5u55miol': 4436, 'packed': 13958, 'temp': 18353, 'doves': 6023, 'proms': 14860, 'pt4': 14941, 'xjtpv4oydl': 20749, 'greet': 8357, 'bask': 2708, 'warmth': 20080, 'bliss': 3142, 'stretcher': 17783, 'coach_keith44': 4464, 'hannomottola': 8648, 'trpreston01': 19048, 'mlrydalch': 12438, 'b231ul1o1k': 2526, 'lumbar': 11644, 'extender': 6981, 'invalid': 9841, 'grazed': 8337, 'rexyy': 15853, 'towel': 18864, 'danielle': 5260, 'ou_wbball': 13831, 'ferno': 7257, 'engineering': 6627, 'inspect': 9751, 'components': 4639, 'gted6ldwho': 8433, 'siding': 16940, 'mhl7pfr7kb': 12231, 'lou8lbla1f': 11562, 'expander': 6928, 'nvzdilrfgj': 13368, 'u9cd0txe7z': 19251, 'ofentse_tsie': 13532, 'min': 12308, 'q5mdsnbcmh': 15076, 'fujiwara': 7777, 'shunichiro': 16924, 'pllolz': 14492, 'witter': 20421, 'freeze': 7694, 'veggies': 19731, 'met0mtpr3s': 12179, 'homemade': 9056, 'yogurt': 21002, 'yzazf4ceoa': 21095, 'x5rc5nuamh': 20695, '1pack': 308, '2pack': 488, '3pack': 633, 'fleek': 7437, 'natz5ipv1x': 12927, 'leaeby6cr2': 11134, 'ûïstretcher': 21347, 'fblnifda1c': 7182, 'capoeira': 3833, 'bearer': 2796, 'favorited': 7171, 'stressing': 17781, 'mxaaaa': 12785, 'adjust': 1588, 'shoe': 16876, 'shaper': 16800, 'width': 20333, 'adjustable': 1589, '8cpcz2xohb': 1158, '0yo2l38ozr': 106, 'niqqa': 13132, 'bearers': 2797, 'yerct4j244': 20944, 'chairs': 4068, 'rdxzsl5eac': 15454, 'qwijrriyif': 15247, 'daretotaha': 5282, 'foreskin': 7562, '7qpg80ud7v': 1100, 'virgin': 19854, 'galactic': 7896, 'spaceship': 17391, 'braking': 3368, 'spacex': 17393, 'musk': 12752, 'lvizo9cssr': 11658, 'lizbon': 11419, 'kidicalmassdc': 10688, 'breakdown': 3392, 'brakes': 3367, 'kp1hdchfnz': 10848, 'imawvmzs3a': 9548, 'fprt7nwrot': 7633, 'rightways': 15922, 'inspections': 9753, 'vz1irh0nmm': 19993, 'rightwaystan': 15923, 'sirtitan45': 17023, 'correcting': 4816, 'dvieablofz': 6228, 'excessive': 6889, 'emerging': 6541, 'defects': 5447, 'examiner': 6877, 'ocmcvfdzkv': 13498, 'coercion': 4499, 'weakness': 20179, 'ensuring': 6656, 'gnorijnsva': 8194, 'preventative': 14764, 'cabling': 3702, 'bracing': 3357, '905': 1216, '877': 1148, '8591': 1141, 'cts': 5052, 'testing': 18407, 'ntsb': 13326, 'spaceshiptwo': 17392, 'eysblyx6l6': 7012, 'kpcc': 10851, 'pnhpljho8e': 14527, 'adz8kburt7': 1625, 'wc69xajis4': 20159, 'sirtophamhat': 17024, 'scynic1': 16577, 'nafeezahmed': 12859, 'jeremyduns': 10175, 'represents': 15726, 'shortfalls': 16893, 'cdxe5vmzoj': 3999, 'sabcnewsroom': 16309, 'sabotage': 16310, 'catoinstitute': 3951, 'deeply': 5437, 'solved': 17304, 'h2xcax4jbu': 8549, 'slums': 17168, 'manifestation': 11854, 'citizens': 4305, 'illegality': 9516, 'discourse': 5789, 'confounds': 4684, 'stopevictions': 17724, 'bgrab7lk8d': 2955, 'whvholst': 20323, 'leashless': 11149, 'competence': 4624, 'soc': 17264, 'democratic': 5508, 'parties': 14079, 'illogical': 9522, 'qu1iug3e9r': 15180, 'x3vqxdouvt': 20692, 'virg': 19852, 'cy1lfenyv8': 5144, 'iknyok9zzr': 9506, 'qckqcx4hw9': 15099, 'foxnewsinsider': 7620, 'vest': 19761, 'rembr': 15660, 'bestnaijamade': 2925, '16yr': 218, 'bomber': 3251, 'detonated': 5623, 'ksawlyux02': 10879, '1yb8sizarg': 338, '69iizvyqyc': 937, 'uwfvwmjepu': 19607, 'pxonlrqusm': 15040, 'alfapedia': 1827, 'ujnrgfangj': 19318, 'tmipegqyev': 18722, 'pol92mn8yz': 14552, 'tuvbr4lep3': 19140, 'committing': 4600, 'iuh718kcy0': 9975, '9pqyx4xool': 1317, 'zdieodwbog': 21154, 'msoreo_': 12676, 'v6nylvdped': 19643, 'sj57boksib': 17047, 'fqsk7qcawo': 7640, '6jzcedayrg': 970, 'homs': 9069, 'zaman': 21138, 'alwsl': 1897, 'v8juc5ek1a': 19648, 'mgzslzz1wf': 12227, '5ortb8p51c': 869, 'n7yst76ku3': 12845, 'gnynjhne6j': 8198, '1funemes7m': 288, '5v29w19tfx': 887, 'fvxhopdf3w': 7816, 'hashd': 8702, 'shaabi': 16769, 'theft': 18491, '2ag9auabr3': 437, 'qna4tubnwh': 15149, 'uonebahh3h': 19473, 'mmklapx2ok': 12449, 'grupdates': 8417, 'fqcdphccg7': 7635, '19th': 272, 'jul': 10399, '64': 915, 'o2cdkpsdfp': 13422, 'h3sxfv5mtc': 8553, 'iewdrenauk': 9437, 'lwdcrpehtn': 11666, 'etyzy8gb2a': 6809, 'mercados': 12153, 'oz1ds3xu0d': 13914, 'tripoli': 19019, 'explosives': 6965, 'rigged': 15917, 'compound': 4640, 'wpilp4mymf': 20555, '8nhd9idajs': 1189, 'axhclfersu': 2495, 'jlmicj6je5': 10249, 'mpoaefql6k': 12642, 'josephjett': 10324, 'saudiarabia': 16448, 'lwane9vupg': 11664, 'cpqgufzb28': 4894, 'canadasuicide': 3791, 'ktd5ig9m5o': 10885, 'yytkp1z5kg': 21094, 'vijfnhl630': 19820, 'ûªarabia': 21319, 'aseer': 2259, 'pmtqhivsxx': 14522, 'gigw51izpk': 8106, 'ke6djxanmm': 10588, 'detonates': 5624, 'xyckgxzv9s': 20832, 'fy0r9o7xsl': 7838, '37dqvjhncv': 572, 'lgpne5hkao': 11257, '9k1tqsaarm': 1295, 'ev3nx9scx3': 6828, 'deai': 5369, 'sqydkslfzp': 17542, 'dozen': 6036, 'pioy1o54f4': 14389, 'saudiåêmosque': 16450, 'h99bhb29xt': 8564, 'axk9xno6yz': 2496, 'dn5buo7gsk': 5918, 'bbclaurak': 2751, 'stowing': 17745, 'aboard': 1458, 'noahj456': 13193, 'xnto3jmmts': 20767, 'sticky': 17696, 'thursd': 18623, 'ibype1kaz5': 9374, 'guaj2t910b': 8442, 'txg7k2do9v': 19188, 'taught': 18236, '1970s': 260, 'piracy': 14397, 'slavery': 17122, 'purely': 15006, 'historical': 8975, 'occur': 13491, 'suruì': 17993, 'launches': 11080, 'airstrikes': 1746, 'kurdistan': 10898, 'daisycuttertz': 5214, 'grogparty': 8391, 'tony_burke': 18793, 'lessons': 11226, 'imam': 9546, 'sonofbobbob': 17324, 'shimmyfab': 16854, 'trickxie': 19004, 'chopping': 4227, 'rooftops': 16094, 'esh': 6760, 'rightly': 15920, 'despicable': 5596, 'ocalan': 13485, 'marxism': 11944, 'gs0km0vlgk': 8420, 'offshoot': 13560, 'etitgpsrun': 6800, 'premonitions': 14723, 'iikssjgbdn': 9487, 'jewhaditm': 10197, 'ibazrhlsur': 9364, 'b6wwq2nyqi': 2539, 'kurdish': 10897, 'militant': 12292, 'wd7s6s0vci': 20168, 'rebecca': 15504, 'roga': 16047, 'hamas': 8615, 'egged': 6422, '361': 562, 'infographic': 9706, 'suruc': 17992, 'uvaojzcycz': 19602, 'saadthe': 16306, 'kpdied': 10852, '2007he': 353, 'kppolice': 10855, 'zoipkpbd6o': 21228, 'kabul': 10497, 'o6armcgvbs': 13429, 'rayquazaerk': 15425, 'employed': 6571, 'nvp6wrkl1e': 13366, '7cibxls55f': 1063, 'confesses': 4676, 'tmz6x1n2gq': 18728, 'haji_hunter762': 8601, 'middleeasteye': 12263, 'muzzies': 12767, 'payback': 14137, 'reached': 15459, 'opjwunuvg8': 13725, 'erdogan': 6730, 'socialists': 17269, 'z6xauidrxu': 21116, 'shareaholic': 16804, 'ghghqm9e6d': 8074, 'nbcpolitics': 12949, '911bombing': 1223, 'barracks': 2682, 'bombers': 3252, 'zfivvxydzy': 21174, '7old5mjwph': 1096, 'hara': 8662, 'kiri': 10739, 'uo0aqk9kr8': 19470, 'mordechai': 12562, 'yehuda': 20928, 'friedman': 7715, 'ramat': 15366, 'beit': 2861, 'shemesh': 16836, 'marlene': 11924, 'menahem': 12140, 'moshav': 12588, 'safsufa': 16332, 'absence': 1468, 'interactions': 9800, 'sunk': 17931, 'hfzk09mcen': 8892, 'backty': 2572, 'peeped': 14196, 'frontin': 7731, 'jeepåêsunk': 10160, 'tinted': 18676, 'bumpin': 3577, 'diver': 5853, 'anthony': 2039, 'steamship': 17655, 'qp3gvvfofq': 15158, 'shattered': 16816, 'visage': 19857, '0kccg1bt06': 57, 'aquarium': 2149, 'ornament': 13790, 'sailing': 16341, 'destroyer': 5608, 'decor': 5417, 'kncm9jc8i9': 10791, 'swviazsphk': 18077, 'aphyr': 2087, 'somethin': 17310, 'descended': 5572, 'shadowed': 16773, 'crest': 4963, 'harshly': 8694, 'capsize': 3835, 'fuso': 7808, 'yamashiro': 20891, 'cachet': 3706, 'aq5zlim7l4': 2143, 'fvr9jdq71a': 7815, 'blaaaaaaa': 3085, 'stomach': 17715, 'vibrate': 19786, 'resolutevanity': 15769, 'marr': 11931, 'primal': 14777, 'scream': 16554, 'codemew': 4494, 'û_1': 21308, 'credits': 4953, 'û_one': 21311, 'û_you': 21315, 'yup': 21072, 'ii2spvp89b': 9480, 'saintrobinho86': 16344, 'demonstrated': 5519, 'idol': 9423, 'untameddirewolf': 19462, 'sansa': 16414, 'blinked': 3140, 'benaffleck': 2886, 'stil': 17698, 'collaborating': 4520, 'time4me_sews': 18660, 'lonelyness': 11505, 'nosa8jjjin': 13249, 'wukvdavuju': 20626, 'reputation': 15735, 'prestige': 14755, 'prosser': 14882, 'h09nydbzov': 8542, 'resoluteshield': 15768, 'shekhargupta': 16830, 'mihirssharma': 12279, 'trp': 19047, 'mockery': 12469, 'bonhomme37': 3261, 'unrealtouch': 19446, 'silverstar58200': 16975, 'romero': 16079, 'cared': 3862, 'dreaming': 6075, 'mlk': 12436, 'seas': 16596, 'giannis': 8088, 'submerged': 17857, 'reef': 15579, 'gn3whnsfib': 8192, 'fwpof5twoc': 7826, 'hank': 8641, 'you7wn9xvs': 21016, 'parental': 14052, 'offspring': 13564, 'preconditioning': 14706, 'corals': 4801, 'n9c3i9v8go': 12849, 'lucypalladino': 11629, 'classes': 4351, 'ish': 9930, 'ayhhhhhdjjfjrjjrdjjeks': 2505, 'martial': 11937, 'biuey7buts': 3060, 'jwqybe4ep1': 10455, 'lnzi7o166y': 11452, 'trading': 18902, 'forex': 7567, 'tmpfwjpi6i': 18726, 'thruuu': 18609, 'tootrue': 18808, 'mcwd37iof9': 12055, 'dorrian': 6008, 'affiliate': 1644, 'marketers': 11913, 'marketer': 11912, 'kpmyqujsue': 10854, 'elitist': 6501, 'thomassmonson': 18570, 'lds': 11124, 'mormon': 12573, 'chim': 4202, 'gloria': 8170, 'gaynor': 7956, 'oktaviana': 13624, 'devi': 5642, 'hukjz1wt36': 9218, 'captors': 3843, 'recluse': 15530, '0q040stkcv': 73, 'stylishly': 17846, 'au3dbci7nf': 2383, 'bovjrf62t7': 3316, 'separated': 16693, 'kgswhsr7mn': 10659, 'teamsurvivors': 18306, 'zombiefunrun2014': 21232, 'mochichiiiii': 12466, 'hikagezero': 8933, 'ww': 20636, 'wew': 20258, 'definition': 5462, 'ddnewslive': 5353, 'nitishkumar': 13137, 'arvindkejriwal': 2247, 'narendramodi': 12885, 'zeros': 21171, 'adriennetomah': 1605, 'autoinsurance': 2435, 'clueless': 4431, 'driverless': 6104, 'healthinsurance': 8786, 'ydetwgribk': 20912, 'driverlesscars': 6105, 'superpower': 17954, '2025': 368, 'buchana': 3530, 'emtwirknyq': 6582, 'm9k08oazve': 11737, 'navigating': 12932, 'fastest': 7148, 'thedailyshow': 18482, 'mahalo': 11797, 'nui': 13344, 'loa': 11453, '20s': 377, 'holomua': 9041, 'thoutaylorbrown': 18581, 'drawn': 6069, 'folks': 7515, 'bash': 2700, 'cheated': 4141, 'taaylordarr': 18138, 'pnssia5e46': 14531, 'lsvsyspdxx': 11608, 'scofield': 16533, 'hotbox': 9131, 'sona': 17314, 'miracle': 12350, 'mankind': 11857, 'thesmallclark': 18528, 'trigger': 19010, 'berlin': 2913, 'daubt': 5305, 'chubychux': 4264, '71vdjhjnwv': 1023, 'rjkrraj': 15978, 'karnakarank': 10541, 'vimvith': 19830, 'wud': 20621, 'thalapathi': 18444, 'destination': 5600, 'sessions': 16723, 'klitschko': 10775, 'jszzqst3xs': 10378, 'mute': 12759, 'makinmemories': 11821, 'gm8p0bd8mt': 8183, '2am': 438, '390': 578, 'bonsai': 3264, 'jid4ro34gb': 10218, 'natgeo': 12908, 'tsutomi': 19087, 'yamaguchi': 20890, 'otd': 13820, 'daalpenzp0': 5196, 'xsx26oo16s': 20798, 'chronicillness': 4260, 'mylifestory': 12801, 'fyjwjdkm5i': 7842, 'livin': 11413, 'zoom': 21238, 'pow': 14648, 'talked': 18181, 'sudkk1weez': 17881, 'pixeljanosz': 14420, 'angelheartnight': 1983, 'thr': 18584, 'thrarchives': 18586, '1928': 248, 'wpkl2qniqw': 20556, 'bd52fxdvhq': 2781, 'duchovbutt': 6175, 'starbuck_scully': 17606, 'madmakny': 11772, 'davidduchovny': 5317, 'plotted': 14497, 'ritual': 15956, 'iniqzfyioi': 9717, 'bbcwomanshour': 2756, 'setsuko': 16729, 'thurlow': 18621, 'cvjyml7krm': 5125, 'fph01u3eii': 7627, 'qmif0blwoa': 15145, 'l6pif3lpen': 10957, 'glzmgbm7w0': 8180, 'tricycle': 19006, 'ljeryhitwh': 11422, 'outcomes': 13844, 'metastatic': 12184, 'colorectal': 4550, '5yl4dc1tqt': 892, 'humanityi': 9224, 'apologized': 2099, 'nuclearweapons': 13335, 'twykzn4rlc': 19184, 'coppednews': 4792, 'haunting': 8723, 'wx11d69gez': 20655, 'kotowsa': 10843, 'sudan': 17878, 'mexwohd3tg': 12205, 'gb46fid2we': 7962, 'praro2owia': 14691, 'e7shtylbnl': 6285, 'ijobz3mzp0': 9495, 'mithitennis': 12396, 'crackedgem': 4904, 'lqd1wefpqd': 11593, 'ggnbvzohwu': 8067, 'pcjbvrs7xw': 14162, 'molecularly': 12501, 'lungcancer': 11650, 'twi3pym7us': 19164, 'qt8jmd9pi1': 15177, 'violators': 19842, 'improved': 9591, 'hurled': 9256, 'nuked': 13346, 'nears': 12983, 'uo8grdauat': 19471, 'uvm975yha2': 19604, 'focuses': 7507, 'arovolturi3000': 2211, 'fedporn': 7219, 'absurd': 1474, 'satire': 16440, 'indistinguishable': 9663, 'reality': 15487, '918eqmtkrl': 1226, 'ghetto': 8073, 'reunite': 15825, '1ki8lgvay4': 296, 'netflix': 13027, 'documentary': 5937, 'narrated': 12886, 'parter': 14072, 'lawfulsurvivor': 11095, 'holed': 9027, 'glenn': 8156, 'morales': 12558, 'andrea': 1969, 'jacqui': 10050, 'merle': 12159, 'stemming': 17663, 'cubs': 5059, 'rosters': 16116, 'arizzo44': 2195, 'jlester34': 10247, 'xgnjgle9eq': 20739, 'wj7ujfs8fd': 20426, 'haley': 8603, 'lu': 11619, 'richardson': 15890, 'oobscfoktq': 13695, 'remembrance': 15667, 'ii4ewe1qir': 9481, 'h3vusqzyqo': 8554, 'h6amecx5k7': 8557, 'quran': 15234, 'b8iwrdxcm0': 2543, 'news786': 13054, 'islamist': 9938, 'anjem': 2003, 'choudary': 4234, 'u7bbenxwyk': 19244, 'robpulsenews': 16025, 'huyovoetripolye': 9271, 'phillips': 14316, 'ldnr': 11123, 'xwnjysv9v9': 20819, 'nxs3z1kxid': 13380, 'udkmadkuzy': 19282, 'preacher': 14699, 'faces': 7053, 'daplllfuqk': 5276, 'sneaks': 17231, '1w58ehv9s1': 330, 'p8ih0hni3l': 13944, '2y5morpugt': 514, 'dawabsha': 5328, 'erode': 6742, 'homegrown': 9052, 'q8n5tn8wme': 15083, 'bejftygjil': 2862, 'jlczidz7vu': 10246, 'omega': 13656, 'explores': 6960, 'religion': 15648, 'rayner': 15423, 'utc7pdidfo': 19578, 'newsarama': 13055, 'handed': 8629, 'udj50j3mv4': 19280, 'ctd': 5048, 'orangi': 13759, 'sindh': 16995, 'le4brduau9': 11127, 'gevrmbvznb': 8046, 'diretube': 5762, 'fightåêterrorism': 7308, 'v6ijxccd2i': 19642, 'ysxhfwmgod': 21056, 'catholicism': 3949, 'homophobia': 9067, 'jihadi': 10220, 'proto': 14896, 'd5h4jif1y3': 5185, 'chattanooga': 4136, 'u8rgb51d22': 19247, '2tnu95vgfe': 501, 'suspects': 18009, 'ajpbdcalew': 1754, 'ifs': 9444, 'ands': 1973, 'buts': 3628, 'hfgjgfgfel': 8886, 'incitement': 9618, 'beinart': 2859, 'ot2oooedts': 13817, 'hr88cwxpgz': 9165, 'adamnibloe': 1567, '2y4rgob7pj': 513, 'mves6vssyn': 12770, 'unity': 19422, 'hhpvpael4n': 8901, 'p5zicjudxo': 13936, 'kzhb8zx6yc': 10935, 'negotiating': 12998, 'eqjcpwilvn': 6715, 'initiative': 9719, 'alliance': 1855, 'assad': 2296, 'regime': 15607, 'k44tl3rfmy': 10480, 'ipt0honoti': 9888, 'szeapueuvy': 18106, 'appraisal': 2119, 'mrospd9878': 12657, '4zqrsaqrrt': 792, '6ar3ukvsxw': 943, 'uiqsfgzoox': 19315, 'naved': 12930, 'citizen': 4304, '0fs9ksv5xk': 48, 'lubrication': 11621, 'metrofmtalk': 12197, 'officialmqm': 13549, 'convivted': 4771, 'mohammed': 12495, '3mtwh0jjns': 623, 'pulwama': 14976, 'm5rjekvddp': 11723, 'f7wqpcekg2': 7038, 'oef123l5rc': 13520, 'vsoxkbt6nq': 19960, 'fy30fv0qbx': 7839, 'nia': 13088, 'quizzed': 15223, 'denies': 5530, 'ogzjokd7sv': 13574, 'elections': 6468, 'achedin': 1518, 'bjpsamvad': 3070, 'warra': 20089, 'rahulkanwal': 15335, 'jammu': 10084, 'license': 11286, 'cwgcciw3v6': 5131, 'disowned': 5819, 'kasab': 10545, 'disowns': 5820, 'hgdrk81sn4': 8894, 'kasabwe': 10546, 'biryani': 3044, 'shipsxanchors': 16859, 'idek': 9409, 'roles': 16062, 'ximpnczxth': 20744, 'swiftycommissh': 18059, 'taoistinsight': 18207, 'immortaltech': 9562, 'tht': 18611, 'killin': 10710, 'mccain': 12030, 'whoops': 20320, 'photographed': 14327, 'jnromse1z2': 10266, 'acmilan': 1526, 'w6yu7qs4cv': 20017, 'tire': 18685, 'ph2xli8nve': 14291, '22fuxhn7el': 392, 'haaretz': 8572, 'u4gsbnu8wc': 19239, 'su4zvwadj7': 17849, 'overnight': 13877, 'j5mkcbkcov': 10020, 'udhampuragain': 19279, 'lovemywife1983': 11578, 'shedid': 16825, '4the': 773, 'washard': 20103, 'stopping': 17728, 'acquire': 1532, 'traitor': 18921, '9tyucdwh3g': 1329, 'alipaper': 1840, 'keepingtheviginaclean': 10598, 'threatconnect': 18589, 'hrl4xnj9k7': 9170, 'dfir': 5658, 'threatintel': 18593, 'burger': 3588, 'te5tdlyimn': 18288, 'newscomauhq': 13056, 'kinggerudo_': 10732, 'moblin': 12465, 'duh': 6183, '7paovyzttw': 1098, 'generational': 8009, 'schism': 16517, 'privacy': 14799, 'dqtmtpqmbr': 6043, 'dmsnyptscy': 5914, 'bhusa': 2965, 'jihad': 10219, 'ûïall': 21331, 'islamaphobe': 9936, 'hwnyxxkczz': 9282, 'dmassa5': 5907, 'definite': 5460, 'crown': 5002, 'wedgie': 20204, 'qqskybarng': 15165, 'illusoria': 9526, 'icarus': 9375, 'e2wgreicmz': 6274, 'playingnow': 14472, 'bloodbound': 3165, 'dly6ruusqk': 5903, 'kristyleemusic': 10867, 'b7zwevsrgo': 2542, 'devinjoslyn': 5647, 'types': 19207, 'etuuyislhw': 6808, 'atl_events': 2342, 'convection': 4760, 'spits': 17466, 'nlwx': 13168, 'lightumupbeast': 11321, 'originalfunko': 13787, 'spencers': 17442, 'buddys': 3541, 'waldo': 20045, '12u': 174, 'cooperstown': 4783, 'joestrong': 10281, 'gokitgo': 8223, 'esk4yvzvap': 6761, 'heheh': 8823, 'frequent': 7701, 'uptown': 19502, 'midtown': 12272, 'kqjevyqzlv': 10859, 'cn': 4445, 'hmwhob7prs': 9007, 'snipe': 17236, 'slqnph34nt': 17163, 'miners': 12321, '8960': 1152, 'driller': 6096, 'boxed': 3325, 'torrential': 18830, 'relaxing': 15636, 'soothmyslumber': 17337, 'watermeloann': 20126, 'populardemand': 14590, 'thewebbeffect19': 18536, 'f0qirs5lja': 7020, 'wc': 20158, 'os1wjrvx5c': 13800, 'weebly': 20211, 'l9udest': 10966, 'asimtanvir': 2279, 'nemesisk_pes': 13011, 'kevr_7': 10642, 'sheeting': 16829, 'aaaaaand': 1412, 'mama': 11835, 'leonalewis': 11211, 'essenceofme': 6773, 'gloomy': 8169, 'shakes': 16782, 'x4ecggvnsn': 20693, 'durant': 6205, 'nba': 12942, 'adidas': 1585, 'swingman': 18064, 'jersey': 10179, 't81oayjowc': 18127, 'rumbling': 16220, 'haydnexists': 8736, '2hv2y2m2oz': 459, 'lorr': 11542, 'noah': 13190, 'usnwsgov': 19566, '40pm': 675, 'tq1ruqd4lg': 18881, '31pm': 541, 'h9i6mozask': 8566, 'oun': 13834, 'lincoln': 11345, 'bti8jamfiu': 3520, '38pm': 576, 'epzgg4uqji': 6709, 'museawayfic': 12742, 'beenghosting': 2831, 'xylodemon': 20838, 'rachelrofe': 15312, '5cwuylnfum': 844, '1tyyqfz13d': 324, 'continued': 4742, 'buren': 3586, 'kjsvw06gbv': 10760, 'inws': 9864, 'spsgsp': 17510, 'pickens': 14344, 'ldcwkyuaff': 11120, 'penny': 14213, 'cest': 4042, '68': 934, 'fforecast': 7274, '61': 904, '33pm': 551, '1eof1wxnpj': 284, 'skywarn': 17102, 'russellville': 16241, 'clarksville': 4348, 'dardanelle': 5280, 'n844h1aspj': 12846, 'livingsafely': 11415, 'kea5l3b1ae': 10589, 'rsdkwzrc8g': 16172, 'vivaargentina': 19874, 'pea': 14177, 'tsaletftkt': 19081, 'oim6po8xcu': 13599, 'choctaw': 4214, 'ogxsy4gwd1': 13573, 'uzwlgjqzns': 19621, 'lethbridge': 11231, '05th': 20, 'mdt': 12060, 'yqyiwjn8ez': 21042, '1145': 149, 'mjstefggu5': 12419, 'helsinki': 8854, 'lightningstrike': 11317, 'rjjxucx5pm': 15977, 'mainly': 11806, 'cloudy': 4422, '7huen4rwrn': 1074, 'ocd': 13495, 'soonergrunt': 17332, 'brrookkllyynnr': 3497, 'tornadogiveaway': 18823, 'thebookclub': 18474, 'ljomctuzfy': 11425, '2zgvslox5p': 519, 'ticklemeshawn': 18636, 'evebrigid': 6844, 'lily': 11336, 'xo': 20768, 'cowgirl': 4880, 'courtney': 4867, 'laudner': 11074, 'teases': 18310, 'panties': 14026, '73rd': 1031, 'goode': 8237, 'ski': 17071, 'championships': 4081, 'pgkbt3mbap': 14288, 'mon': 12515, '12pm': 172, 'ayfdjeb7hy': 2504, 'ffnzit7kgn': 7273, 'skye': 17093, 'horny': 9107, 'juicy': 10397, '29pm': 434, 'o8x4m5er6b': 13436, 'itnkbxgwlh': 9961, 'lexi': 11242, 'belle': 2874, 'sakhalintribune': 16349, 'eastward': 6325, 'superman': 17950, 'slowpoke': 17161, 'poc': 14535, 'x8zqbwnfo1': 20704, 'woken': 20468, 'y8h5v1j2y7': 20868, 'kunalkapoor': 10893, 'chaser': 4133, '4wjy7sehmw': 780, 'pod': 14540, 'heather': 8809, 'ava': 2443, 'sparxxx': 17407, 'threesome': 18595, 'brunette': 3501, 'stretches': 17784, 'victorian': 19801, 'sofa': 17282, 'rebelmage2': 15507, 'reference': 15582, 'heller': 8840, 'marley': 11925, 'brinx': 3446, 'striptease': 17798, 'spreads': 17502, 'pounding': 14640, 'distinct': 5841, 'rotation': 16120, 'condenses': 4664, 'villa': 19823, 'mcv': 12054, 'fd9dzspugk': 7194, 'ayshun_tornado': 2508, 'giselle': 8125, 'st9jpz8y24': 17567, 'p4kofytkdx': 13932, 'izjk6kpwiz': 10000, 'toocodtodd': 18800, 'wyattb23': 20664, 'homers': 9059, 'tulowitzki': 19109, 'hayden': 8735, 'poses': 14609, 'strips': 17797, 'recount': 15543, 'ttb9oil8r2': 19090, 'timesofindia': 18665, 'soulja': 17357, 'maaaaan': 11745, 'greater': 8341, 'comfortable': 4573, 'gajtugaui7': 7894, 'collective': 4528, 'phfoeozyps': 14305, 'ûïwhen': 21351, 'plunging': 14506, '72ix7vm87w': 1026, 'sorrowful': 17347, 'redemption': 15562, 'platt': 14465, '86v81dv00e': 1146, 'calk5nv5vc': 3749, 'homeworldgym': 9063, 'thisisperidot': 18560, 'monica': 12520, 'railways': 15346, 'lewis': 11241, 'ub1jzskmrc': 19261, 'toiindianews': 18762, 'ofcourse': 13530, 'caued': 3957, 'washing': 20105, 's43we7oe2i': 16288, 'vscpgmsjxy': 19957, 'tanehisicoates': 18197, 'laced': 10977, 'monologue': 12527, 'charlize': 4119, 'coulda': 4842, 'tbr': 18261, 'browsing': 3496, 'homepage': 9058, 'wk63tm34a0': 20431, 'sriramk': 17548, 'dlin71': 5896, 'commons': 4604, 'ownership': 13904, 'eyorbmf3o3': 7010, 'itss_selenaluna': 9966, '0xh758onup': 100, 'car5qeuvhh': 3850, 'gagnon': 7884, 'imposing': 9582, 'marriage': 11932, 'hipklxphnp': 8963, 'gdjtzkpchk': 7980, 'gunning': 8484, 'heartache': 8797, 'jhupogbvs8': 10215, 'zkgqspwyj3': 21210, '21hsrrqzou': 386, 'xtljz7bjgl': 20803, 'hirochii0': 8968, 'and1btizao': 1965, 'ariana': 2188, 'grande': 8310, 'csaresu': 5034, 'sdmrzgeryx': 16581, 'leitchfield': 11193, 'bella': 2872, 'rosalie': 16104, 'sponsorships': 17482, 'ajay0snplg': 1752, 'almusafirah_': 1874, 'innit': 9734, 'suvs': 18020, 'prettyboyshyflizzy': 14761, 'beautifully': 2812, 'fkxcsztezb': 7408, 'chile': 4194, 'starring': 17615, 'kk8cnppzmk': 10763, 'onihimedesu': 13675, 'manga': 11850, 'triangle': 18993, 'explosive': 6964, 'tween': 19153, 'salute': 16369, 'battleroyalemod': 2733, 'teleported': 18341, 'decides': 5402, 'yeljpqhmed': 20930, 'r18autnlsd': 15276, 'cnqae9foj6': 4456, 'billionaires': 3014, 'blakeschmidt': 3102, 'gbqtc7sp9c': 7972, 'eudrylantiqua': 6812, 'holly': 9033, 'us1dmdxzvb': 19534, 'victorious': 19803, 'rv': 16246, 'santiago': 16418, 'hollyw': 9035, 'c22ecvl4hw': 3674, 'exqkmlg4nj': 6976, 'remodeled': 15675, 'dramaa_llama': 6061, 'lilourry': 11334, 'stan': 17590, 'zarry': 21143, 'narry': 12890, 'qkrltrd39b': 15138, 'grlxurko8d': 8388, 'x8moyevjsj': 20702, 'fk1vyh5qlk': 7401, 'newsdict': 13057, 'boyinahorsemask': 3336, 'panda': 14012, 'tyyfg4qqvm': 19218, 'nz': 13411, '0ajisa5531': 35, 'hugomatz': 9213, 'lilithsaintcrow': 11333, 'eswnsetftf': 6785, '0f8xa4ih1u': 46, '3yu26v19zh': 660, 'jjl89f9o3v': 10237, 'xe0ee1fzfh': 20727, 'lavenderpoetrycafe': 11093, 'encoded': 6596, 'sensory': 16685, 'cognitive': 4503, 'dmb6xp966d': 5908, 'addicts': 1577, 'defensive': 5456, 'decreases': 5421, 'vulnerability': 19971, 'knbv2ytnwc': 10790, 'qz': 15266, 'taraswart': 18210, 'vivian_giang': 19876, 'nissannews': 13134, 'hospitalized': 9123, 'a1a': 1381, 'bing': 3026, '9dwyjqvfy4': 1277, 'raabchar_28': 15303, 'drphil': 6134, 'morganlawgrp': 12572, 'inflict': 9700, 'consistent': 4711, 'dimensions': 5743, 'agdq': 1681, 'kororinpa': 10836, 'marble': 11882, 'tloz': 18717, 'oracle': 13756, 'metroid': 12198, 'crazyindapeg': 4933, 'vets78734': 19767, 'understandable': 19381, 'ptsdchat': 14949, 'ptsd_chat': 14948, 'eighty': 6441, 'spe7u8t40k': 17408, 'affliction': 1647, 'u2es0uk1u3': 19233, '0dqjeretxu': 42, 'extraordinaire': 6993, 'rosenthal': 16108, 'communicate': 4606, 'gravitychat': 8330, 'ashghebranious': 2270, '60s': 903, 'trans': 18926, 'thetimepast': 18532, 'saalon': 16307, 'resolved': 15770, 'theirs': 18498, 'fricken': 7711, 't6fuahfp7p': 18123, 'hempoil': 8856, 'cannabis': 3808, 'rhe7dxm7ey': 15874, 'intragenerational': 9830, 'sandra': 16400, 'bland': 3108, 'zweygphpf7': 21280, 'haircuts': 8597, 'minimal': 12326, 'arobotlegion': 2210, 'oppressed': 13733, 'ignorant': 9460, 'unaddressed': 19353, 'keithboykin': 10602, 'randallpinkston': 15373, 'pozarmy': 14656, 'gxq1auzb18': 8521, 'parent': 14051, 'fmj8mxjy8a': 7495, 'usg': 19558, 'paeds': 13970, 'imaging': 9544, 'foamed': 7505, 'foamcc': 7504, 'partially': 14073, 'mustachemurse': 12755, 'dateswhitecoats': 5301, 'mocked': 12468, 'simmering': 16979, 'concussion': 4659, 'pioneerpress': 14388, 'zl7fhucxhl': 21212, 'richmond': 15895, 'uchicago': 19269, 'faculty': 7067, 'overturn': 13887, 'protesters': 14892, 'ta1yqclpsc': 18136, 'xtohi1hexy': 20804, 'defines': 5459, 'perpetrators': 14238, 'oneborn': 13668, 'parisian': 14057, 'ruddyyyyyy': 16203, 'jamiegriff97': 10080, 'jamie': 10079, 'vzgslepkkh': 19997, 'spell': 17438, 'properly': 14869, 'annmarieronan': 2017, 'niamhosullivanx': 13092, 'tat': 18230, 'flashbacks': 7421, 'pyramidhead76': 15049, 'ianokavo96': 9357, 'orphanage': 13792, 'dja4relcns': 5872, 'mprnews': 12644, 'yessum': 20947, 'perkpearl': 14233, 'vienna_butcher': 19812, 'wrongdejavu': 20600, 'malabamiandsons': 11822, 'disneyirh': 5815, 'tatzfk63ch': 18234, 'snapchatselfie': 17224, 'wrongperson': 20601, 'emily4everever': 6550, 'efg8rth9rb': 6413, 'jude_mugabi': 10390, 'abortions': 1463, '_keits': 1366, 'liva_gotta': 11395, 'ciaramckendry': 4275, 'renewed': 15690, 'agqo1479xm': 1700, 'vickybrush': 19795, 'topic': 18810, 'kushwush': 10905, 'hogging': 9019, 'cwheate': 5132, 'megancoopy': 12113, 'laurathorne97': 11084, 'mesqtvdu63': 12166, 'argentaelite': 2174, 'brookesddl': 3480, 'hopped': 9101, 'varagesale': 19692, 'candace_dx': 3802, 'shaznlmsfe': 16821, 'rotations': 16121, 'leaning': 11144, 'learni': 11147, 'wgl4lubnw1': 20273, 'lucysforsale': 11630, 'afrikaan': 1663, 'preorder': 14725, 'thebargain': 18471, 'uml5jztmcb': 19344, 'canagal': 3793, 'badastronomer': 2580, 'farther': 7141, 'noel': 13199, 'smoak_queen': 17200, 'jusstdoitgirl': 10426, 'wbu': 20157, 'comcastcares': 4566, 'happing': 8659, 'annajhm': 2009, 'jcomanse': 10140, 'paul_staubs': 14128, 'rslm72254': 16175, 'blanktgt': 3112, 'fartanxiety': 7140, 'ryans': 16264, 'adip0unxhu': 1587, 'boyd': 3332, '3ugfpwmy2x': 650, 'detroitnews': 5628, 'strawberries': 17762, 'mqydxrlae7': 12649, 'epjjkb4be9': 6705, 'juliekragt': 10405, 'wildwestsixgun': 20347, 'stable': 17570, 'buffett': 3550, 'sectors': 16620, 'j4dqpflmkr': 10015, 'caaaaaall': 3695, 'niallhariss': 13091, 'simply_vain': 16985, 'iahjj0agq6': 9349, 'cspan': 5036, 'nikki': 13125, '_charleyisqueen': 1352, 'barber': 2666, 'egg': 6420, 'trashed': 18947, 'kerrykatona7': 10632, 'bak': 2612, 'tj_robertson2': 18702, 'charlieputh': 4118, 'yo3t8qho9h': 20998, 'nkulw': 13160, '8odtzmvqar': 1190, 'astros': 2324, 'stunningly': 17835, 'pitcher': 14409, 'bats': 2722, 'mia': 12237, 'princeoffencing': 14783, 'frickin': 7712, 'motivated': 12598, 'donnelly': 5979, 'puth': 15020, 'xaermbmvlv': 20708, 'nopower': 13224, 'helene_yancey': 8832, 'godslove': 8214, 'thanku': 18451, 'helene': 8831, 'freefromwolves': 7682, 'danny': 5265, 'baan': 2552, 'thai': 18442, 'sushi': 18004, 'udp10frxrl': 19285, 'bbshelli': 2763, 'crptotech': 5010, 'banks': 2648, 'khztevedja': 10675, 'banking': 2647, 'bitcoing': 3052, 'blockchain': 3155, 'ukqybhxmqi': 19324, 'idws2zgysa': 9429, 'optical': 13740, 'illusion': 9524, 'switzerland': 18068, 'eyevziopg1': 7007, 'speech': 17434, 'tjyyft6nv0': 18706, 'dvbbs': 6224, 'borgeous': 3290, 'arceen': 2160, '743joqazrt': 1035, 'ia44nczlif': 9345, 'ogtuv1plht': 13571, 'tsunami_esh': 19085, 'tyewzf3hqa': 19202, 'trends': 18983, 'sjh0hsrp4s': 17049, 'y518jyrzav': 20859, 'tsunami_nopeach': 19086, 'slone': 17154, 'ripples': 15943, 'clears': 4366, 'author_mike': 2426, 'amen': 1919, 'tides': 18640, 'eyesss': 7006, 'uncertain': 19360, '1rreo2jg9u': 319, 'kamunt': 10525, 'nostalgia': 13253, 'youuu': 21030, '0h7oua1pns': 52, 'ghosts': 8079, 'campanha': 3777, 'brinco': 3442, 'beacon': 2791, 'nxkum9h7wd': 13378, 'greenlacey': 8353, 'eric_tsunami': 6736, 'alil': 1839, 'twister': 19174, 'gail': 7887, 'russell': 16240, 'dalroy': 5223, '3vfkedgrso': 651, 'shania': 16791, '964dk4rwwe': 1252, 'nother': 13263, '950': 1246, 'tumbles': 19110, 'todayi': 18749, 'sweeps': 18048, '1061thetwister': 130, 'maddie': 11767, 'tae': 18152, 'oktxduo': 13625, 'homefolks': 9051, 'opinionated': 13724, 'proposal': 14876, 'modernized': 12479, 'omw': 13665, 'friend59': 7718, 't94lnfwf34': 18132, 'rocyyei2dm': 16041, 'sharper': 16813, 'viper': 19849, 'hardside': 8678, 'fxk3zsj2pe': 7835, 'qct6fb8won': 15101, 'structuring': 17809, 'edcxo': 6361, 'dunking': 6199, 'sarahmcpants': 16425, 'justjon': 10438, 'titty': 18697, 'outbid': 13838, 'lbpx8bucnv': 11111, 'catlow': 3950, 'c720': 3685, 'swivels': 18069, '3dc': 595, 'shar': 16802, 'oneself': 13672, 'discount': 5788, 'redesigning': 15564, 'itrawcwb': 9962, '3geroq49o1': 605, 'riser': 15949, 'dierks': 5714, 'bentley': 2908, 'iheartradio': 9473, 'zqoscqd64h': 21250, 'ylvvf139bb': 20987, 'bulgarian': 3563, 'tittie': 18696, 'noemotion': 13200, 'edk': 6375, 'pathfinders': 14104, '9odqryjncf': 1313, 'ellenfromnowon': 6507, 'nexus': 13068, 'shifter': 16851, 'rjpjbwvfck': 15980, 'toosoon': 18806, 'friend50': 7717, 'hy5pbe12tm': 9295, 'c1njpli5or': 3670, 'briannafrost': 3418, 'paxton': 14135, 'helen': 8830, 'carolinagutierr': 3891, 'laughs': 11077, 'sticking': 17694, 'ttq9ilhp8w': 19092, 'hew': 8877, 'woodchucks': 20492, 'cj76k0yayj': 4322, 'nino': 13129, 'boost': 3278, 'agycutkbnn': 1707, 'elianaraquel': 6492, 'gg': 8060, 'wilden': 20342, 'llegaste': 11436, 'tu': 19094, 'm6x1': 11726, 'thread': 18587, 'sqpshaws0w': 17530, 'udlebh88uz': 19283, 'bcsxyec4ji': 2777, 'dfxi76kvx0': 5661, 'rodarmer21': 16042, 'dolla': 5955, 'potter': 14636, 'remind': 15668, 'mrsbinker': 12659, 'emiliorivera48': 6548, 'davidlabrava': 5319, 'diesel': 5716, 'breed': 3408, 'pug': 14966, 'thebuffshow': 18477, 'thetwisterokc': 18534, 'shaniatwain': 16792, 'twisterlovesshania': 19175, 'o61h2taae4': 13427, 'curls': 5094, 'repped': 15723, 'laura': 11082, 'milne': 12305, 'thejonesesvoice': 18500, 'liguistic': 11322, 'jrlallo': 10364, 'narrator': 12888, 'chemically': 4159, 'lavatory': 11092, 'db5': 5336, 'breaking144': 3396, 'declarat': 5408, 'm8ciks60bx': 11731, 'acenewsdesk': 1515, 'landfall': 11015, 'jdvsgvhlis': 10148, 'devpeace': 5652, 'jwxrx1lsqo': 10456, 'precipitation': 14704, 'measurement': 12070, 'sqn4girdvz': 17528, 'usvyhdg9og': 19569, '20dncthr4d': 374, 'q3dtoqo04c': 15068, 'qjuu0wcwpx': 15136, 'cnmi': 4452, '2slow2report': 498, 'cwzhgezaj4': 5136, '9i6crcrq2m': 1290, 'rt_com': 16184, 'fc3bxrthpg': 7183, 'biu4kowglz': 3059, '3ac5wuy1r0': 590, 'igcetumkcw': 9447, 'caneyttwev': 3807, 'nbanews': 12943, 'pc8bvuflfj': 14157, 'bhzr9ugus2': 2966, 'vts9cayibc': 19965, 'vegetables': 19729, 'gei58vhbw6': 7993, 'yvafi3zujx': 21076, 'territory': 18390, 'andåêchina': 1976, '3og66nfsig': 627, 'spies': 17453, 'vbhu2t8wgb': 19705, 'na2ey64vsg': 12853, 'gpm': 8288, 'bullseye': 3571, '7vcezi6cbb': 1108, 'mvsrjd4x3d': 12773, '0xcb7yeqmw': 99, 'piveupirky': 14416, '4yygb': 788, 'strongest': 17803, 'dobzc3pitm': 5926, 'leyjwnnah8': 11244, 'sa5cdwvdxt': 16305, 'buddha': 3538, 'urbanisation': 19517, 'upheaval': 19489, 'brahmans': 3363, 'dominance': 5966, 'gzekqwzijq': 8535, 'usw': 19570, 'abandoning': 1428, 'uncertainty': 19361, 'lyeh': 11675, '829n4hjhol': 1131, 'g5zsru0zvq': 7865, 'finale': 7326, 'thegame': 18492, 'newberg': 13040, 'jacque': 10049, 'betz': 2937, 'lzasr05ljo': 11689, 'iemxgse2be': 9436, 'companionship': 4615, 'chester': 4167, 'chestertweetsuk': 4168, 'aladdin': 1783, 'braoubgec2': 3374, 'awpu0gae0b': 2491, 'aus': 2410, 'indepth': 9641, 'economies': 6353, 'coping': 4790, 'ayp6zvhm2a': 2507, 'mayan': 12012, 'hieroglyphics': 8919, 'honors': 9080, 'lowly': 11587, 'xh4dz1gpyw': 20740, 'g0hsyh7yav': 7852, '0blkwcupzq': 36, 'tbqsqtmqv4': 18260, 'rich': 15887, 'soil': 17288, 'entershikari': 6661, 'tt': 19088, 'kettlebell': 10637, 'lopez': 11534, 'hindsight': 8955, 'jhmnye': 10211, 'roman': 16070, 'gw0cxoojyv': 8508, 'foreclosed': 7557, 'tejc': 18335, 'jungle': 10417, 'qp6q8rs8on': 15159, 'postexistence': 14627, 'elevation': 6488, 'perquisite': 14239, 'brzjc': 3510, 'im6m4xaen2': 9535, 'wqikqx9e3w': 20565, 'diageo': 5685, 'stresses': 17779, 'revolt': 15848, 'impacted': 9567, 'gfs7usulgq': 8057, 'livescience': 11411, 'dpgdnaoy4p': 6038, '4fcjfdkdzs': 731, 'glpfu0uriz': 8177, 'm4tui0p9nt': 11719, 'lmumzkltln': 11447, 'yebxxarybf': 20925, 'srruqfffr6': 17550, 'cadzxagmsi': 3712, 'horoscope': 9109, 'gk4unpznhn': 8138, 'lyf': 11676, 'qwsbvflpe1': 15252, 'winik': 20383, 'ef4swp9sxz': 6402, 'nb7maaaofs': 12941, 'navigate': 12931, 'audit': 2398, 'je86vetdxh': 10151, 'stpoda901u': 17746, 'orcot': 13768, 'orpol': 13794, 'dazqamoo0c': 5334, 'vxuftvt9au': 19986, 'scandal': 16495, 'parliamentary': 14066, 'expenses': 6936, 'subsequent': 17865, 'sackings': 16313, 'pov': 14646, 'amsterdam': 1946, 'nqxqyi70w4': 13303, 'watertown': 20131, '3zasz6wxjj': 661, 'pounds': 14641, 'bruise': 3500, 'stormchase': 17737, 'ef': 6401, '3sicroaanz': 641, 'i27oa0hisp': 9318, 'schiphol': 16516, 'alumrgl40e': 1894, '8h2kctfb8i': 1167, 'auckland': 2389, 'northland': 13243, 'battered': 2724, 'uprooting': 19498, 'enrpgrgtts': 6650, 'agony': 1699, 'tunein': 19116, 'xssgedsbh4': 20797, 'nasasolarsystem': 12895, 'jupiter': 10421, '2lbtshxi3c': 471, '0jmkdtcymj': 56, '6peeip4y7w': 986, 'i5k3vjicmg': 9331, 'cizjafnm4e': 4321, 'trophy': 19036, 'neqw47e1uj': 13019, 'badchoices': 2581, 'bantrophyhunting': 2657, 'scourgue': 16547, 'disappears': 5774, 'skarletan': 17063, 'swell': 18054, 'vickie627': 19794, 'unqualified': 19443, 'treaty': 18967, 'kxewlhh7uw': 10918, 'i0tvl15coz': 9311, 'igtxhapo0k': 9463, 'teafrystlik': 18293, 'darken': 5284, 'ungodly': 19402, 'bolt': 3246, 'oq0lnf2yug': 13749, 'tzdbcgpsag': 19219, 'xrgpdlswfd': 20789, 'slightest': 17140, 'stirring': 17701, 'fkv5qxdcy3': 7407, 'blitzes': 3144, 'traverse': 18955, 'seminars': 16665, 'blitzed': 3143, 'tra': 18887, 'nkaw9ezqgg': 13154, 'belligerent': 2876, 'unfold': 19397, 'iateyourfood': 9361, 'yikes': 20973, 'pup': 14998, 'uprootin': 19497, 'fhvokmphed': 7282, 'clap': 4345, 'cgvuy3rcxo': 4057, 'wth': 20619, 'rotating': 16119, 'j3di85ist5': 10009, 'rj9gkjkjjn': 15970, 'seshqn5dsk': 16721, 'byj5dfa2rv': 3651, 'jetstar': 10192, 'bali': 2622, 'flights': 7448, 'raung': 15415, 'jtjofltms4': 10381, 'nside': 13321, 'kamchatka': 10520, 'korzhonov': 10837, '8t36hwgoqd': 1203, 'aogashima': 2068, 'oegfqbiqiq': 13521, 'etswuod3om': 6807, 'maailiss': 11746, 'diaporama': 5694, 'sixpenceee': 17040, 'karymsky': 10544, 'located': 11467, 'volcanoåêinåêrussia': 19921, '4o460fm8hn': 756, 'auf4j4owj1': 2401, 'indonesian': 9669, '7mug2kahl7': 1089, 'ns1aggfnxz': 13315, 'asics': 2277, 'ronnie': 16089, 'fieg': 7292, 'kith': 10753, '3m': 622, 'od250zshfy': 13505, '3rrght4ewp': 638, 'disrwhqgym': 5836, 'mrmikeeaton': 12656, 'muazimus_prime': 12695, 'hil': 8939, '7uf7tst9zx': 1106, 'zdtoyd8ebj': 21160, '3nuih6pkui': 626, '2ufcc6gh3m': 503, 'songhey89': 17318, 'earthquakes': 6313, 'y2mt6v13e8': 20850, 'kiddo': 10687, 'gi': 8085, 'specialist': 17417, 'sang': 16408, 'alextucker': 1826, 'hickson': 8912, 'kenneth': 10619, 'faried': 7130, 'lamarcus': 11000, 'aldridge': 1809, '20twgpmm7d': 379, 'musbik7ejf': 12738, 'zeal': 21162, 'indecisiveness': 9638, 'lexi_purduee': 11243, 'volcano_tornado': 19918, 'perspective': 14253, 'rtuetdfbqb': 16191, 'csismica': 5035, 'flowers': 7477, 'r3pddjpiee': 15282, 'latechwatch': 11058, 'cityofmemphis': 4312, 'enders': 6608, 'mgs2': 12224, 'd_pagexxi': 5193, 'ps2': 14916, 'scegnews': 16507, 'thuggin': 18614, 'roving': 16138, 'raccoons': 15308, 'toughens': 18854, 'ojus08yzrq': 13607, 'gears': 7987, '6sdgz5dxnt': 991, 'jasmines': 10110, 'littlewomenla': 11393, 'sundays': 17927, 'seasonfrom': 16599, 'onshit': 13686, 'thugging': 18615, 'homies': 9066, 'inmate': 9729, 'worldwatchesferguson': 20522, 'govjaynixon': 8279, 'clairecmc': 4343, 'packing': 13959, 'ct': 5042, 'kasiakosek': 10552, 'kitchen': 10752, 'flour': 7473, 'robertoneill31': 16016, 'frying': 7747, 'pty9hrcuzh': 14950, 'jsdf': 10371, 'reiterate': 15625, 'mindset': 12317, '2lgtzkwmqw': 473, 'coats': 4478, 'sprite': 17509, 'n9snjmevi6': 12850, 'roguewatson': 16051, 'lethal': 11230, 'junsuisengen': 10420, 'dwarfonjetpack': 6233, 'irons': 9915, 'xii': 20743, 'nightmarishly': 13119, 'brutal': 3505, 'ritualistic': 15957, 'nmaumydke1': 13171, 'firearm': 7354, 'vector': 19724, 'cutter': 5117, 'rifle': 15913, 'sdogef3kft': 16582, 'x0giy85bs8': 20673, 'rosemarytravale': 16106, 'screwed': 16565, 'weapon_x_music': 20186, 'muttatek': 12763, 'kwwwkwwwk': 10916, 'jiahahahha': 10217, 'yeyeulala': 20951, 'snqfhpym3o': 17250, 'rjcaxjp4os': 15972, 'esoteric': 6763, 'astrologian': 2322, 'pulse': 14975, 'uwobuuw2mk': 19610, 't6obvwaphw': 18124, 'au': 2382, 'insanelimits': 9742, 'plugin': 14502, 'tps': 18878, 'tdm': 18283, '400t': 669, 'limits': 11342, 'camilla_33': 3774, 'craykain': 4927, 'shatter': 16815, 'delusions': 5496, 'choppas': 4224, 'slosher': 17156, 'splatdown': 17468, 'switching': 18067, 'splatling': 17469, 'thatrussianman': 18456, 'splatoon': 17470, 'default': 5442, 'splattershot': 17471, 'nelson': 13009, 'mandela': 11847, 'qr1l2jyuez': 15167, 'salmanmydarling': 16361, 'dub': 6169, 'snazzychipz': 17228, 'catalogue': 3938, 'citing': 4303, 'casing': 3922, 'infested': 9693, 'wimp': 20361, 'servicin': 16719, 'lurkin': 11653, 'cgfzk8ha1r': 4053, 'danagould': 5244, 'waynesteratl': 20144, 'checks': 4146, 'equalizer': 6717, 'hendrixonfire': 8859, 'blackcats': 3090, 'noob': 13216, 'mixed': 12403, 'violated': 19839, 'legitimate': 11184, 'needing': 12992, 'argus_99': 2183, 'heidia1438': 8824, 'easier': 6316, 'hgb1mc3irk': 8893, '6ysxghc8gz': 1011, 'resort': 15771, 'incredulous': 9633, 'outcry': 13845, 'taxpayers': 18244, 'similar': 16978, 'objection': 13462, '100bn': 119, 'lcc': 11114, '96355': 1251, 'lknu8902je': 11431, '7qrepylluk': 1101, 'bloggers': 3160, 'ineedexposure': 9678, 'dannyonpc': 5268, 'aauizggc9q': 1421, 'hardline': 8676, 'throwingknifes': 18606, 'ndxrk2ncln': 12973, 'uswarcrimes': 19571, 'wooooooo': 20498, 'gamerant': 7913, 'esports': 6769, '76ehhmqq6r': 1044, 'umtffa9jjb': 19348, 'dismantling': 5810, 'vn0accf6d4': 19901, 'knives': 10800, 'ojoubot': 13604, 'nro': 13312, 'unauthorized': 19355, 'argues': 2181, 'pelosi': 14202, 'jnn0krnxvy': 10265, '5loiwuyv5r': 864, 'dorismatsui': 6003, 'supporting': 17962, 'mere': 12157, 'n4neuiyt2k': 12837, 'testimony': 18406, 'conflicts': 4683, 'tactics': 18150, 'corruption': 4821, 'infiltration': 9696, 'cyu8zxw1oh': 5163, 'router': 16133, 'ddos': 5355, 'vxxmvgtzvg': 19988, 'gaming': 7917, 'eyecuts': 7003, 'erasuterism': 6728, 'gal': 7895, 'deco': 5414, 'trickier': 19002, 'splash': 17467, '1942': 251, 'xbmm7ite9q': 20713, 'rapidcity': 15396, 'cheyenne': 4173, 'retirement': 15812, 'instruction': 9774, 'bookmobile': 3269, 'libraries': 11280, 'l2nmywrmq2': 10944, 'bigbrother': 2987, '37b': 571, '6m': 973, '0migwcmtje': 67, 'pledged': 14487, 'cbxnhhz6kd': 3982, 'david_hurn': 5315, 'tokteacher': 18766, 'skynet': 17097, '73umw2igrz': 1032, 'adamantly': 1566, 'opposed': 13730, 'mtgfx3efiv': 12683, 'ad38kwoglh': 1564, 'kirstiealley': 10743, '_animaladvocate': 1348, 'finsup': 7350, 'i1eeuxxz3a': 9315, 'glosblue66': 8174, 'certificates': 4037, 'safes': 16329, 'kmdqm3nlns': 10782, 'pyvrprnhop': 15054, 'hddbmu2yca': 8759, 'arranged': 2212, 'guatemalan': 8450, '4fynq1hwwb': 734, 'j3cirxjfa6': 10008, 'submissions': 17858, 'whirlwind': 20302, 'piss': 14404, 'moan': 12463, 'demeanor': 5501, 'staid': 17583, 'cramming': 4911, 'to0bpieyms': 18743, 'thailand': 18443, 'rukjyjg9oq': 16212, 'jaiden': 10058, 'affair': 1639, 'luhan': 11632, 'exo': 6921, 'y7o55by36f': 20863, 'millennium': 12302, 'plaza': 14479, 'layzba9y8h': 11108, 'pawsox': 14133, 'durham': 6208, '9ckgggyvou': 1271, 'u0vdbrxfia': 19229, 'drmartyfox': 6111, 'libs': 11283, 'tacoma': 18146, 'qwhinbni8e': 15245, 'vixmeldrew': 19880, 'easlgea1b7': 6318, 'medusa': 12098, 'snake': 17220, 'inputs': 9739, 'mxkalmqpdb': 12787, '8kznhtytt9': 1183, 'baekhyun': 2592, 'suho': 17895, 'attending': 2372, 'syjexo': 18090, 'oazjpwueyr': 13455, 'byuwnbeki': 3658, 'tacit': 18143, 'raging': 15332, 'mantra': 11866, 'geht4ski86': 7992, 'lasted': 11052, 'standstill': 17599, 'wmoyibwec1': 20448, 'lucymayofficial': 11628, '0rsverlztm': 77, 'krnw0wxhe5': 10868, '30pcs': 533, '12mm': 170, 'ab': 1423, 'resin': 15766, 'flatback': 7424, 'rhinestone': 15878, 'decoration': 5419, 'fa': 7042, 'scissor': 16531, 'alexhammerstone': 1821, 'kttape': 10888, 'ktfounder': 10886, 'remymarcel': 15683, 'frofrofro': 7729, 'b19z8vi3td': 2521, 'drained': 6056, 'l8w30wfw3r': 10960, 'theemobrago': 18489, 'jitsu': 10232, 'hexagon': 8878, 'yelled': 20932, 'ckosova': 4333, 'edfringe': 6365, 'm00nf00l': 11698, 'titania': 18690, 'summerhallery': 17911, 'reimagining': 15621, 'shakespeare': 16783, 'midsummer': 12271, 'iiaigzkbnj': 9482, 'scourge': 16546, 'whedonesque': 20290, 'fanged': 7115, 'q0jhdcu6ly': 15061, 'cantwaittoplayinminneapolis': 3820, 'picthis': 14352, 'br7gmmh5ek': 3354, 'amazingness': 1908, 'finall': 7328, 'athens': 2337, 'lisowski': 11371, 'whitewashes': 20311, 'masters': 11968, 'quals': 15186, 'mligpuhvoh': 12435, 'snooker': 17239, 'tcs2cd5y6y': 18274, 'blacken': 3091, 'parched': 14049, 'harris': 8688, 'tinder': 18672, 'i2lwty5yup': 9323, 'articals': 2235, 'qd3dssfwue': 15104, 'riooooos': 15933, 'beast': 2799, '463p0ys0eb': 704, '2m1gneaifl': 476, 'uqh85mip0v': 19507, 'cal': 3730, '0x8jaqtowm': 97, 'm1rosi2wcs': 11704, 'qcyqhvn2ha': 15102, 'cmsgexm4fc': 4443, 'sanonofre': 16413, 'j2pykyo0en': 10007, 'foxdebatequestions': 7617, 'sharia': 16808, 'darwinism': 5296, 'jennife29916207': 10172, 'cnni': 4455, 'prisonplanet': 14798, 'noting': 13271, '0szwlwl9qu': 81, 'senfeinstein': 16675, 'sen': 16667, 'uncontrolled': 19371, 'droughts': 6128, 'connecticut': 4691, 'qwpuxpywbf': 15249, '8jlxz6fkxy': 1175, 'qkz2sp06xn': 15139, 'thedayct': 18484, 'aria_ahrary': 2185, 'thetawniest': 18531, 'troubling': 19041, 'wn': 20452, '9ikhdyhvnc': 1291, 'morels': 12566, 'ambleside': 1913, 'farmr': 7134, 'mart': 11936, 'mushroom': 12744, 'foragesecret': 7545, 'randerson62': 15374, 'enzasbargains': 6679, 'donated': 5973, 'handi': 8630, 'wipes': 20391, 'profittothepeople': 14831, 'wbcshirl2': 20152, 'doessnt': 5946, 'rejoice': 15630, 'calamities': 3733, 'ect': 6356, 'effected': 6406, 'cali': 3743, 'foliage': 7512, 'ignited': 9457, 'hiker': 8936, 'fingerrockfire': 7341, 'ex8a5jyzm5': 6871, 'azwx': 2516, 'deeekobmxa': 5430, 'kc5kh': 10574, 'wsoc': 20610, 'djufkrrtft': 5883, 'ns5lbs5zup': 13316, 'parker': 14061, 'sheet': 16828, '208': 372, '267': 419, '6773': 932, 'pa': 13949, 'ezeisasm0c': 7017, 'idfire': 9413, 'matt_kroschel': 11991, 'vail': 19662, 'agencies': 1685, 'swwylrk0fv': 18080, 'hearths': 8801, 'of3td6dglb': 13527, 'freaks': 7667, 'anodgxzr3e': 2027, '75000': 1039, 'd2veppeh8s': 5179, 'ember': 6529, 'lzml1xb2nh': 11695, '7xq8jrtl7i': 1112, 'j90dt2qnxb': 10027, 'zggpacjp7d': 21178, 'kcrw': 10582, '6agmkx2ww4': 940, 'scariest': 16501, 'lec1vms7x2': 11155, 'u2do2mc2ri': 19232, '3om3xw6cz8': 630, 'bengston': 2896, 'ûïnumbers': 21342, 'upward': 19504, 'smem': 17190, 'khq': 10668, 'anlhw2izkz': 2006, 'h9v4howtip': 8567, '8icseshbj3': 1169, 'gzgpwsqymw': 8536, 'firenews': 7365, 'ay49mtyyl8': 2501, 'uci8stqug1': 19270, 'spt54kfa9q': 17512, '4esbsa8int': 729, 'utfire': 19580, 'lancasteronline': 11012, 'ph7wllkrfi': 14292, 'lancaster': 11011, 'qwrrfdgxcc': 15251, 'sstj2bepqn': 17562, 'easternoregon': 6323, 'v6qxnfhrxf': 19644, '_wildfire__': 1376, 'mulan': 12708, 'calwildfires': 3760, 'aftermath': 1669, 'wwxbgubww5': 20652, 'uorxff0nfx': 19476, 'slows': 17162, 'p0gos5urxg': 13919, 'hikers': 8937, 'trailheads': 18914, 'ablz20mgzv': 1455, 'wqow': 20566, 'hj26sfddfi': 8985, '2ppzgpxybi': 492, 'ds9khkffwc': 6153, 'windstorm': 20372, 'galvnews': 7903, 'cm9tve2vsq': 4439, 'lastingness': 11054, 'acquiesce': 1531, 'retreat': 15815, 'ziuw': 21207, 'irt4kkgsjx': 9921, 'dates': 5300, 'dde8gxaqrp': 5351, 'nook': 13218, 'thebachelorette': 18470, 'jiomnrcygt': 10230, 'ei8qqhregz': 6438, 'ij': 9490, 'h132iul7mu': 8544, 'niiiice': 13121, 'windstormåêinsurer': 20373, '92fwtobi3u': 1233, 'wsvr1686b': 20612, 'hull': 9219, 'runabout': 16223, '8prnhrhb2t': 1195, 'oahlthrozy': 13447, 'ekiti': 6455, 'ode': 13511, 'gbonyin': 7971, 'lga': 11251, 'etgqf28mge': 6791, 'byvubg0wye': 3659, 'wzbt': 20669, 'hike': 8935, 'ai6kworbbt': 1719, 'txlege': 19190, 'twia': 19165, 'wal4frtfka': 20044, 'hardball': 8670, 'chriscesq': 4241, 'charlesadler': 4114, 'fart': 7139, 'browner': 3490, 'bp6mfjhars': 3343, 'qzrcinaf5z': 15273, 'bnnidfzwbd': 3215, 'n00dvxega2': 12821, 'shirley': 16862, 'caesar': 3713, 'koch8slasq': 10822, 'patio': 14111, 'umbrella': 19341, 'flipped': 7451, 'mystical': 12808, 'gcdxydbsc4': 7978, 'stillness': 17699, 'aspects': 2292, 'weigh': 20220, 'leelanau': 11165, '2b': 441, 'extended': 6980, 'oskfyj8ck7': 13808, 'besafe': 2917, 'inspection': 9752, 'kkeh8qcgc3': 10766, 'e1kbludwh5': 6268, 'rb02svlppu': 15433, 'dhggxo7mcc': 5677, 'blakeshelton': 3103, 'jeez': 10161, 'approves': 2129, 'association': 2313, 'directors': 5760, 'esemjrn5cc': 6758, 'bz07c9wthx': 3660, 'ijournal': 9496, 'bong': 3260, '5koho39oje': 861, 'datingtips': 5303, 'goodreads': 8243, 'rangerkaitimay': 15383, 'twpl0nl8cx': 19182, 'xqiadg9h2w': 20781, 'ypeelmjdzy': 21032, 'gunmen': 8480, 'salvadoran': 16371, 'r8k6rxw6d6': 15298, 'exchanging': 6892, 'xxfk4khbiw': 20823, 'bury': 3606, 'retooled': 15813, 'retirees': 15811, 'handicapped': 8631, 'nomorehandouts': 13211, 'pz56zjssft': 15055, 'exc': 6883, 'crcn8rwvkj': 4936, 'fatally': 7156, 'kaky4mpco4': 10512, 'm9d2elimzi': 11735, 'twilight': 19167, 'jacquie': 10051, 'biggar': 2990, 'znptdicqxe': 21222, 'kindlecountdown': 10723, 'mfrwauthor': 12215, 'mgtab': 12225, 'phillip': 14315, 'amritsar': 1942, 'ûïthat': 21348, 'exaggerated': 6875, '3ife1zsop7': 613, 'rz7fbr10xw': 16271, 'cntwb6sczj': 4458, 'claimin': 4339, '8acdf4zui6': 1154, 'zenit': 21165, 'hfvnyft78c': 8888, 'bjycrgfh5y': 3073, 'asterpuppet': 2318, 'academia': 1486, 'y0qqs2l7bs': 20847, 'iphazv47g7': 9882, 'bre2lgmn7c': 3385, 'an247': 1950, 'wocowae': 20463, 'oioecbsh1f': 13600, 'ushed': 19562, 'assured': 2316, 'investigated': 9847, 'kmxzho5tfm': 10789, 'albvdnwjtg': 1804, '5uftrxppv0': 884, 'zdhwrn6czc': 21153, 'hworb1n6vn': 9284, 'wwp': 20648, 'serving': 16720, '75k': 1042, '52k': 809, 'oif': 13592, 'oef': 13519, 'invisible': 9855, 'shhlv4dplz': 16844, 'ia1hngnhvb': 9344, 'azovgv4sb6': 2514, 'donations': 5975, 'senzu': 16690, 'gohan': 8220, 'pouch': 14638, 'qi2bdvkab7': 15130, 'w0r8eaoka0': 20006, 'gunshot': 8487, 'bicep': 2974, 'kerricktrial': 10630, 'jonathanferrell': 10312, 'charlesdagnall': 4115, 'rub': 16193, 'nout': 13279, 'rubbin': 16196, 'm8ufjdtlsm': 11733, 'unhealed': 19406, 'unending': 19391, 'kashmir': 10549, 'saf9mosksn': 16322, 'endoccupation': 6612, 'endconflict': 6606, 'freekashmir': 7685, 'mirrors': 12356, 'reflected': 15588, 'conducted': 4672, 'skims': 17077, 'morethan': 12568, 'disorders': 5818, 'kashmirconflict': 10550, 'dianneg': 5693, 'bullet': 3565, '6vyyer6py0': 1002, 'esteem': 6779, 'tu6scrsxvg': 19095, 'idhj4jbq05': 9415, 'wiped': 20390, 'yaqrsximph': 20895, 'owen': 13899, 'twcnewsclt': 19151, 'nnbexhklhr': 13180, 'mattmosley': 11999, 'pour': 14642, 'celebrety': 4014, 'heals': 8782, 'surgical': 17985, 'healed': 8780, 'woodlawn': 20495, '79': 1049, 'nu3xxn55vs': 13332, 'xngrfnqsx3': 20766, 'enemity': 6619, 'bishopfred': 3045, 'scrolling': 16567, 'exact': 6873, 'baked': 2614, 'alaskan': 1794, 'neverforget': 13034, 'ego_resolution': 6426, 'session': 16722, 'discussing': 5796, 'icymagistrate': 9398, 'ûóher': 21358, 'friggin': 7724, 'icicle': 9387, 'projectiles': 14843, 'miniature': 12325, 'strip': 17794, 'gopsicp8bm': 8255, 'nicolaclements4': 13101, 'covering': 4875, 'scabs': 16490, 'dauntedpsyche': 5310, 'gently': 8019, 'dabbed': 5197, 'rag': 15329, 'crawling': 4926, 'hea': 8766, 'rams': 15370, 'soldi': 17292, 'obsz45ybaj': 13480, 'sorrower': 17346, 'l056yj2ioi': 10936, 'utmwmjirty': 19584, 'squeaver': 17536, 'hangin': 8639, 'buck': 3532, 'watchin': 20119, 'septic': 16697, 'captainn_morgan': 3839, 'destiel': 5599, 'mkx6ux4ozt': 12430, 'gazette': 7961, 'jhc2rt0v9f': 10210, 'scratching': 16553, 'pedals': 14188, 'aqua': 2148, 'scghl0piq6': 16511, 'memenaar': 12132, 'kindof': 10726, 'restrospect': 15800, '_pokemoncards_': 1372, 'icequeenfroslas': 9384, 'artectura': 2233, 'pop2015': 14583, 'nå¼36': 13416, 'florence': 7468, '9le0b19lvf': 1298, 'gimp': 8113, 'newave': 13038, 'x0qlgwoymt': 20674, 'hqnx8qmeg3': 9160, 'progressives': 14838, 'ûïnews': 21340, 'girlthatsrio': 8123, 'uncles': 19363, 'georgefoster72': 8025, 'edmund': 6379, 'fitzgerald': 7387, 'w3rga0nkom': 20013, '0tzsqe8esd': 85, 'blockage': 3154, 'woodward': 20497, 'northbound': 13238, 'davison': 5327, 'shoalstraffic': 16872, 'blinker': 3141, 'misscharleywebb': 12373, 'uu64wfg17m': 19592, 'greer': 8356, 'n2qzbmzuly': 12830, 'amazondeals': 1910, 'skylanders': 17094, 'pmbuzfgin3': 14514, 'staged': 17581, 'locomotive': 11478, 'ei9x4h8thm': 6439, 'sequel': 16699, 'ralph': 15363, 'titortau': 18695, 'lynch': 11680, 'larious': 11047, 'checking': 4144, 'ombudsmanship': 13655, 'raineishida': 15350, 'nervous': 13022, 'takeaways': 18166, 'magnificent': 11790, 'dbdwtocgxf': 5339, 'conclusively': 4656, 'sfakqnveta': 16757, 'yopeypjkb2': 21010, 'grh7zlk979': 8372, 'furious': 7803, 'carmqivkwu': 3886, 'cs8myauna4': 5033, 'janeenorman': 10088, 'probability': 14805, 'cdohgnjmst': 3997, 'v5ogr3f5n9': 19637, '4xb4zwyhct': 783, 'kuala': 10889, 'lumpur': 11647, 'uqva3dfbca': 19511, 'kacrlpjc0l': 10501, 'yjjbntcazy': 20977, 'kfzvmxj9st': 10654, 'ptevy815mt': 14944, 'ajabrown': 1751, 'wmnb5ita5p': 20446, '4sf0rgn8wo': 770, 'ledmvezcol': 11158, 'buzzfeed': 3638, 'qsipl1c9fa': 15175, 'bptzamjl2k': 3346, 'ljylxz1fbi': 11427, '777': 1046, 'vanished': 19684, '239': 399, 'vazpg0ftmu': 19702, 'qnvxj2palj': 15152, 'dtfswnjzil': 6161, 'edekrmqtpq': 6363, 'iidkc0jsbx': 9483, 'najibrazak': 12867, 'malaysiaairlines': 11824, 'ub3woz2ut1': 19262, 'z2vdgiyowf': 21106, '2jr3yo55dr': 466, 'rp2dxfkhdq': 16147, 'akmihlris1': 1768, 'kukmal605a': 10891, 'yi54xrhqgb': 20969, 'mssq0svnbm': 12677, 'nn6y0fd3l0': 13179, '1yixfg1hdy': 341, 'yahoonewsdigest': 20885, '5ebpybfh4d': 847, 'wrecked': 20580, 'julian_lage': 10401, 'grantgordy': 8318, 'rossmartin7': 16113, 'pastie': 14096, 'industrial': 9673, 'stare': 17609, 'costing': 4833, 'apiece': 2088, 'dtdidinqyf': 6160, 'cramer': 4910, 'iger': 9448, 'ûòåêcnbc': 21356, 'pnlucerp0x': 14528, 'liv': 11394, 'oliviaapalmerr': 13639, 'thatswhatfriendsarefor': 18459, 'audi': 2394, 'g0r3zr1nqj': 7854, 'sf5jdnvdw9': 16755, 'kunstler': 10895, 'ac6i3te8mt': 1484, 'residualincome': 15763, 'mlm': 12437, 'wq0jlshw1g': 20562, 'deqqopsp4f': 5558, 'lbkvfqrpgt': 11109, '3rva5uvt0p': 640, 'coleslaw': 4516, 'sijnbmczij': 16960, '300k': 524, 'exotic': 6923, 'j49xeuj7ps': 10014, 'tunes_wgg': 19118, '__ohhmyjoshh': 1345, 'stevenrulles': 17684, 'qvx0vqtpz0': 15241, 'vuwbsrsnry': 19974, 'riddler': 15905, 'presidential': 14746, 'marynmck': 11947, 'adorable': 1601, '3g79prayyc': 604, 'topnews': 18811, 'caitsroberts': 3725, 'barra': 2681, 'kirafrog': 10736, 'mount_wario': 12613, 'da9lzton1c': 5195, 'ud7xobyua1': 19277, 'uea0txrhys': 19289, 'y46isyzkc8': 20857, 'widda16': 20328, 'goner': 8232, 'jt_ruff23': 10379, 'cameronhacker': 3769, 'shoutout': 16905, 'fx': 7831, '7ennullkzm': 1068, 'engineshed': 6631, 'omnbatjeao': 13663, 'n6rbnhmtd4': 12842, 'aawzxykles': 1422, 'rsmvgdxriv': 16176, 'boxes': 3327, 'exploding': 6956, 'gameofkittens': 7910, 'explodingkittens': 6957, 'tfgrayudc5': 18425, 'rln09wke9g': 15988, 'iwate': 9981, 'gmoul9zq2q': 8187, 'vz640xoswj': 19994, 'm2hpnoak8b': 11708, 'thhjjw51pe': 18541, 'ayyo': 2509, 'dei': 5471, 'nz7ackrrji': 13412, 'tnwx': 18741, 'fwqfckncqw': 7827, '5b7qt2yxda': 838, 'overtaking': 13883, 'bathandnortheastsomerset': 2717, 'fa3fcnln86': 7044, '9km': 1296, '5uecmcv2pk': 883, 'forney': 7584, 'developing': 5638, 'symptoms': 18095, 'rqkk15uhey': 16159, 'nf4iculoje': 13071, 'stfmbbzfb5': 17689, 'ymy4rskq3d': 20993}\n",
            "Frecuencias\n",
            "  (0, 5429)\t1\n",
            "  (0, 15499)\t1\n",
            "  (0, 6311)\t1\n",
            "  (0, 1844)\t1\n",
            "  (0, 7572)\t1\n",
            "  (1, 7563)\t1\n",
            "  (1, 12979)\t1\n",
            "  (1, 10967)\t1\n",
            "  (1, 16087)\t1\n",
            "  (1, 16431)\t1\n",
            "  (1, 3790)\t1\n",
            "  (2, 15761)\t1\n",
            "  (2, 2283)\t1\n",
            "  (2, 16835)\t2\n",
            "  (2, 14437)\t2\n",
            "  (2, 13270)\t1\n",
            "  (2, 13544)\t1\n",
            "  (2, 6835)\t1\n",
            "  (2, 13772)\t1\n",
            "  (2, 6933)\t1\n",
            "  (3, 6835)\t1\n",
            "  (3, 13772)\t1\n",
            "  (3, 176)\t1\n",
            "  (3, 1)\t1\n",
            "  (3, 14216)\t1\n",
            "  :\t:\n",
            "  (7500, 12589)\t1\n",
            "  (7500, 8246)\t1\n",
            "  (7500, 16624)\t1\n",
            "  (7500, 20054)\t1\n",
            "  (7500, 3251)\t1\n",
            "  (7500, 13071)\t1\n",
            "  (7501, 9192)\t1\n",
            "  (7501, 4521)\t1\n",
            "  (7501, 8089)\t1\n",
            "  (7501, 3425)\t1\n",
            "  (7501, 4915)\t1\n",
            "  (7501, 9024)\t1\n",
            "  (7501, 12980)\t1\n",
            "  (7501, 9060)\t1\n",
            "  (7501, 17689)\t1\n",
            "  (7502, 3746)\t1\n",
            "  (7502, 9192)\t1\n",
            "  (7502, 13050)\t1\n",
            "  (7502, 11062)\t1\n",
            "  (7502, 13240)\t1\n",
            "  (7502, 1434)\t1\n",
            "  (7502, 20343)\t1\n",
            "  (7502, 9060)\t1\n",
            "  (7502, 15428)\t1\n",
            "  (7502, 20993)\t1\n",
            "Matriz\n"
          ],
          "name": "stdout"
        }
      ]
    },
    {
      "cell_type": "code",
      "metadata": {
        "id": "De6UG-6URzBh",
        "colab_type": "code",
        "outputId": "b33e00ec-cf06-4e26-d535-9072fd3a0d1d",
        "colab": {
          "base_uri": "https://localhost:8080/",
          "height": 136
        }
      },
      "source": [
        "print(data.toarray())"
      ],
      "execution_count": 283,
      "outputs": [
        {
          "output_type": "stream",
          "text": [
            "[[0 0 0 ... 0 0 0]\n",
            " [0 0 0 ... 0 0 0]\n",
            " [0 0 0 ... 0 0 0]\n",
            " ...\n",
            " [0 0 0 ... 0 0 0]\n",
            " [0 0 0 ... 0 0 0]\n",
            " [0 0 0 ... 0 0 0]]\n"
          ],
          "name": "stdout"
        }
      ]
    },
    {
      "cell_type": "code",
      "metadata": {
        "id": "mKxHQzc0PLiq",
        "colab_type": "code",
        "colab": {
          "base_uri": "https://localhost:8080/",
          "height": 51
        },
        "outputId": "47c00c17-358b-470e-cd9e-24fda2929119"
      },
      "source": [
        "# Convertimos los datos en una matriz de frecuencia\n",
        "tfidf_transformer=TfidfTransformer()\n",
        "tfidf_matrix=tfidf_transformer.fit_transform(data)\n",
        "#tfidf_matrix"
      ],
      "execution_count": 334,
      "outputs": [
        {
          "output_type": "execute_result",
          "data": {
            "text/plain": [
              "<7503x25532 sparse matrix of type '<class 'numpy.float64'>'\n",
              "\twith 78892 stored elements in Compressed Sparse Row format>"
            ]
          },
          "metadata": {
            "tags": []
          },
          "execution_count": 334
        }
      ]
    },
    {
      "cell_type": "code",
      "metadata": {
        "id": "Z6jHbYj-S2-Q",
        "colab_type": "code",
        "colab": {}
      },
      "source": [
        "palabras=dict(zip(cv.get_feature_names(),tfidf_transformer.idf_))\n",
        "#for palabra,puntuacion in palabras.items():\n",
        "#  print(palabra,puntuacion)"
      ],
      "execution_count": 0,
      "outputs": []
    },
    {
      "cell_type": "code",
      "metadata": {
        "id": "XH5AG0T8S26w",
        "colab_type": "code",
        "outputId": "39d09292-df84-4e71-9950-8120b74c429d",
        "colab": {
          "base_uri": "https://localhost:8080/",
          "height": 34
        }
      },
      "source": [
        "print(\"puntuacion de ablaze: \",palabras[\"ablaze\"])"
      ],
      "execution_count": 286,
      "outputs": [
        {
          "output_type": "stream",
          "text": [
            "puntuacion de ablaze:  6.555895660699586\n"
          ],
          "name": "stdout"
        }
      ]
    },
    {
      "cell_type": "code",
      "metadata": {
        "id": "g3zhGUp7S24W",
        "colab_type": "code",
        "colab": {}
      },
      "source": [
        "frecuency_matrix=pd.DataFrame(data=)"
      ],
      "execution_count": 0,
      "outputs": []
    },
    {
      "cell_type": "code",
      "metadata": {
        "id": "ALvrBTIRS2tE",
        "colab_type": "code",
        "colab": {}
      },
      "source": [
        ""
      ],
      "execution_count": 0,
      "outputs": []
    },
    {
      "cell_type": "code",
      "metadata": {
        "id": "qkM7slZMXDHR",
        "colab_type": "code",
        "colab": {}
      },
      "source": [
        ""
      ],
      "execution_count": 0,
      "outputs": []
    },
    {
      "cell_type": "code",
      "metadata": {
        "id": "YyS_LBi6XDFj",
        "colab_type": "code",
        "colab": {}
      },
      "source": [
        ""
      ],
      "execution_count": 0,
      "outputs": []
    },
    {
      "cell_type": "code",
      "metadata": {
        "id": "04vqzqecXDDn",
        "colab_type": "code",
        "colab": {}
      },
      "source": [
        ""
      ],
      "execution_count": 0,
      "outputs": []
    },
    {
      "cell_type": "code",
      "metadata": {
        "id": "hBlzPeJXXC6N",
        "colab_type": "code",
        "colab": {}
      },
      "source": [
        ""
      ],
      "execution_count": 0,
      "outputs": []
    },
    {
      "cell_type": "code",
      "metadata": {
        "id": "0hQEpBSOMifL",
        "colab_type": "code",
        "colab": {}
      },
      "source": [
        "x_train, x_test, y_train, y_test = train_test_split(df_train_merged_final['target'],df_train_merged_final['text'], test_size=0.2)"
      ],
      "execution_count": 0,
      "outputs": []
    },
    {
      "cell_type": "code",
      "metadata": {
        "id": "MsLtodovX8H4",
        "colab_type": "code",
        "colab": {}
      },
      "source": [
        "x_traincv=cv.fit_transform(df_train_merged_final['text'])"
      ],
      "execution_count": 0,
      "outputs": []
    },
    {
      "cell_type": "code",
      "metadata": {
        "id": "xe8FbCfIYROc",
        "colab_type": "code",
        "outputId": "cb2c4f47-6baa-4ebb-f801-455ac84f2500",
        "colab": {
          "base_uri": "https://localhost:8080/",
          "height": 136
        }
      },
      "source": [
        "x_traincv.toarray()"
      ],
      "execution_count": 289,
      "outputs": [
        {
          "output_type": "execute_result",
          "data": {
            "text/plain": [
              "array([[0, 0, 0, ..., 0, 0, 0],\n",
              "       [0, 0, 0, ..., 0, 0, 0],\n",
              "       [0, 0, 0, ..., 0, 0, 0],\n",
              "       ...,\n",
              "       [0, 0, 0, ..., 0, 0, 0],\n",
              "       [0, 0, 0, ..., 0, 0, 0],\n",
              "       [0, 0, 0, ..., 0, 0, 0]])"
            ]
          },
          "metadata": {
            "tags": []
          },
          "execution_count": 289
        }
      ]
    },
    {
      "cell_type": "code",
      "metadata": {
        "id": "53GWPA5jYWlP",
        "colab_type": "code",
        "colab": {}
      },
      "source": [
        "#cv.get_feature_names()"
      ],
      "execution_count": 0,
      "outputs": []
    },
    {
      "cell_type": "code",
      "metadata": {
        "id": "F3MeGM5vXcr2",
        "colab_type": "code",
        "colab": {}
      },
      "source": [
        "# df_train_merged_final['text_vector_filtrado']\n",
        "#count_vector.fit(documents)\n",
        "#cv = count_vector.transform(df_train_merged_final['text_vector_filtrado']) --> tirar error"
      ],
      "execution_count": 0,
      "outputs": []
    },
    {
      "cell_type": "code",
      "metadata": {
        "id": "H_5m6beYeKCF",
        "colab_type": "code",
        "colab": {
          "base_uri": "https://localhost:8080/",
          "height": 34
        },
        "outputId": "3b73c5b6-6e91-48ff-a489-73feac23683e"
      },
      "source": [
        "documents=(str(w)for w in df_train_merged_final['text_vector_filtrado'])\n",
        "documents\n",
        "#documents=df_train_merged_final['text_vector_filtrado']\n",
        "#documents"
      ],
      "execution_count": 292,
      "outputs": [
        {
          "output_type": "execute_result",
          "data": {
            "text/plain": [
              "<generator object <genexpr> at 0x7f63ded7ddb0>"
            ]
          },
          "metadata": {
            "tags": []
          },
          "execution_count": 292
        }
      ]
    },
    {
      "cell_type": "code",
      "metadata": {
        "id": "as-6uflV6TiD",
        "colab_type": "code",
        "colab": {
          "base_uri": "https://localhost:8080/",
          "height": 163
        },
        "outputId": "7d48d9ee-98ed-4300-d4ee-282656fb6ac5"
      },
      "source": [
        "count_vector.fit(documents)"
      ],
      "execution_count": 300,
      "outputs": [
        {
          "output_type": "error",
          "ename": "NameError",
          "evalue": "ignored",
          "traceback": [
            "\u001b[0;31m---------------------------------------------------------------------------\u001b[0m",
            "\u001b[0;31mNameError\u001b[0m                                 Traceback (most recent call last)",
            "\u001b[0;32m<ipython-input-300-2a879a35c625>\u001b[0m in \u001b[0;36m<module>\u001b[0;34m()\u001b[0m\n\u001b[0;32m----> 1\u001b[0;31m \u001b[0mcount_vector\u001b[0m\u001b[0;34m.\u001b[0m\u001b[0mfit\u001b[0m\u001b[0;34m(\u001b[0m\u001b[0mdocuments\u001b[0m\u001b[0;34m)\u001b[0m\u001b[0;34m\u001b[0m\u001b[0;34m\u001b[0m\u001b[0m\n\u001b[0m",
            "\u001b[0;31mNameError\u001b[0m: name 'count_vector' is not defined"
          ]
        }
      ]
    },
    {
      "cell_type": "code",
      "metadata": {
        "id": "uzEwex5DeKAS",
        "colab_type": "code",
        "colab": {}
      },
      "source": [
        "#x_traincv=cv.fit_transform(df_train_merged_final[['text']])\n",
        "#count_vector.fit(documents)"
      ],
      "execution_count": 0,
      "outputs": []
    },
    {
      "cell_type": "code",
      "metadata": {
        "id": "4LLxeuULeJ9v",
        "colab_type": "code",
        "colab": {}
      },
      "source": [
        "# Estoy teniendo problemas al querer pasar 'text_vector_filtrado' como raw document\n",
        "# → Ver variable 'd'\n",
        "#from sklearn.preprocessing import OneHotEncoder\n",
        "#ohe=OneHotEncoder(sparse=False)"
      ],
      "execution_count": 0,
      "outputs": []
    },
    {
      "cell_type": "code",
      "metadata": {
        "id": "VrpgU79VeJ71",
        "colab_type": "code",
        "colab": {}
      },
      "source": [
        "#ohe.fit_transform(df_train_merged_final['text_vector_filtrado'])"
      ],
      "execution_count": 0,
      "outputs": []
    },
    {
      "cell_type": "code",
      "metadata": {
        "id": "iBA8hp99eh53",
        "colab_type": "code",
        "colab": {}
      },
      "source": [
        "d=df_train_merged_final['text_vector_filtrado'].array\n",
        "d"
      ],
      "execution_count": 0,
      "outputs": []
    },
    {
      "cell_type": "code",
      "metadata": {
        "id": "pWhDXqoRehu5",
        "colab_type": "code",
        "colab": {}
      },
      "source": [
        "#documentos=d"
      ],
      "execution_count": 0,
      "outputs": []
    },
    {
      "cell_type": "code",
      "metadata": {
        "id": "8ttWjxQMeJ5E",
        "colab_type": "code",
        "colab": {}
      },
      "source": [
        "#x_traincv=cv.fit_transform([d])\n",
        "#count_vector.fit(d)"
      ],
      "execution_count": 0,
      "outputs": []
    },
    {
      "cell_type": "code",
      "metadata": {
        "id": "xF8wpOkteJ3V",
        "colab_type": "code",
        "colab": {}
      },
      "source": [
        ""
      ],
      "execution_count": 0,
      "outputs": []
    },
    {
      "cell_type": "code",
      "metadata": {
        "id": "wrSEbrReeJsw",
        "colab_type": "code",
        "colab": {}
      },
      "source": [
        ""
      ],
      "execution_count": 0,
      "outputs": []
    },
    {
      "cell_type": "code",
      "metadata": {
        "id": "TJpBEHV3eJXe",
        "colab_type": "code",
        "colab": {}
      },
      "source": [
        ""
      ],
      "execution_count": 0,
      "outputs": []
    },
    {
      "cell_type": "markdown",
      "metadata": {
        "id": "99l0OhhxWqTU",
        "colab_type": "text"
      },
      "source": [
        "### → **Regresion Lineal**: Preproceso **dataframe 'X'** para clasificar"
      ]
    },
    {
      "cell_type": "code",
      "metadata": {
        "id": "ZjZweocrco67",
        "colab_type": "code",
        "colab": {}
      },
      "source": [
        "from sklearn.linear_model import LinearRegression\n",
        "LR_model = LinearRegression()"
      ],
      "execution_count": 0,
      "outputs": []
    },
    {
      "cell_type": "code",
      "metadata": {
        "id": "radipfxUVRaJ",
        "colab_type": "code",
        "colab": {}
      },
      "source": [
        "# Dejo solamente el merge con las columnas que me interesan para correr un modelo del Regresion Lineal\n",
        "X=df_train_merged_final.drop(df_train_merged_final.columns[[0,1,2,4,5,6,7,8]], axis='columns')\n",
        "X.head(2)"
      ],
      "execution_count": 0,
      "outputs": []
    },
    {
      "cell_type": "code",
      "metadata": {
        "id": "EeWd9nfCVUhc",
        "colab_type": "code",
        "colab": {}
      },
      "source": [
        "# Exporto a .csv para verificar estructura\n",
        "#X.to_excel('X_dummy.xlsx')\n",
        "X.to_csv('X_dummy.csv')"
      ],
      "execution_count": 0,
      "outputs": []
    },
    {
      "cell_type": "code",
      "metadata": {
        "id": "tY7rKYkhCXVq",
        "colab_type": "code",
        "colab": {}
      },
      "source": [
        "y=df_train_merged_final.target\n",
        "y"
      ],
      "execution_count": 0,
      "outputs": []
    },
    {
      "cell_type": "markdown",
      "metadata": {
        "id": "YHl-1aKfc74H",
        "colab_type": "text"
      },
      "source": [
        "#### Verifico el modelo de regresión lineal con las variables X,y"
      ]
    },
    {
      "cell_type": "code",
      "metadata": {
        "id": "Af85PEPic9df",
        "colab_type": "code",
        "colab": {}
      },
      "source": [
        "LR_model.fit(X,y)"
      ],
      "execution_count": 0,
      "outputs": []
    },
    {
      "cell_type": "code",
      "metadata": {
        "id": "6o8O8J2hdMhb",
        "colab_type": "code",
        "colab": {}
      },
      "source": [
        "LR_model.predict([[1,0,0]]) #--> ver error en los parametros"
      ],
      "execution_count": 0,
      "outputs": []
    },
    {
      "cell_type": "code",
      "metadata": {
        "id": "i0EZJE_kdNTn",
        "colab_type": "code",
        "colab": {}
      },
      "source": [
        "# ver modelo de scoring\n",
        "LR_model.score(X,y)"
      ],
      "execution_count": 0,
      "outputs": []
    }
  ]
}
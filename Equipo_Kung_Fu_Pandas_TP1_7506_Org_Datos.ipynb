{
  "nbformat": 4,
  "nbformat_minor": 0,
  "metadata": {
    "colab": {
      "name": "Equipo Kung Fu Pandas: TP1 - 7506 Org Datos.ipynb",
      "provenance": [],
      "toc_visible": true,
      "include_colab_link": true
    },
    "kernelspec": {
      "name": "python3",
      "display_name": "Python 3"
    }
  },
  "cells": [
    {
      "cell_type": "markdown",
      "metadata": {
        "id": "view-in-github",
        "colab_type": "text"
      },
      "source": [
        "<a href=\"https://colab.research.google.com/github/elemi10/7506-TP-Org-de-datos/blob/master/Equipo_Kung_Fu_Pandas_TP1_7506_Org_Datos.ipynb\" target=\"_parent\"><img src=\"https://colab.research.google.com/assets/colab-badge.svg\" alt=\"Open In Colab\"/></a>"
      ]
    },
    {
      "cell_type": "markdown",
      "metadata": {
        "id": "7he79fqwwT-O",
        "colab_type": "text"
      },
      "source": [
        "# **TP1 - Real or Not?**\n",
        "\n",
        "###  **Anexo: Análisis de Modelo de Clasificación**"
      ]
    },
    {
      "cell_type": "markdown",
      "metadata": {
        "id": "tZEYitYMwTjL",
        "colab_type": "text"
      },
      "source": [
        "![Banner_TP1.png](https://drive.google.com/uc?id=1BPA2RF1SDm9bTs1xZfVUa1VQn932E3wr)\n"
      ]
    },
    {
      "cell_type": "code",
      "metadata": {
        "id": "k_hz5faWjRJ6",
        "colab_type": "code",
        "colab": {}
      },
      "source": [
        "!pip install -U -q PyDrive\n",
        "from pydrive.auth import GoogleAuth\n",
        "from pydrive.drive import GoogleDrive\n",
        "from google.colab import auth\n",
        "from oauth2client.client import GoogleCredentials"
      ],
      "execution_count": 0,
      "outputs": []
    },
    {
      "cell_type": "code",
      "metadata": {
        "id": "4zMCT9MSjSHp",
        "colab_type": "code",
        "colab": {}
      },
      "source": [
        "auth.authenticate_user()\n",
        "gauth = GoogleAuth()\n",
        "gauth.credentials = GoogleCredentials.get_application_default()\n",
        "drive = GoogleDrive(gauth)"
      ],
      "execution_count": 0,
      "outputs": []
    },
    {
      "cell_type": "code",
      "metadata": {
        "id": "Ji2daQ4wkRla",
        "colab_type": "code",
        "colab": {}
      },
      "source": [
        "downloaded = drive.CreateFile({'id':'1RAGDjlzJ6spO5Sq8_x3UTIvxLhKAUBEt'}) # replace the id with id of file you want to access\n",
        "downloaded.GetContentFile('train.csv') "
      ],
      "execution_count": 0,
      "outputs": []
    },
    {
      "cell_type": "markdown",
      "metadata": {
        "id": "8CLkrdZyidZU",
        "colab_type": "text"
      },
      "source": [
        "### Importamos **Librerias**"
      ]
    },
    {
      "cell_type": "code",
      "metadata": {
        "id": "61knxy6eiYZv",
        "colab_type": "code",
        "colab": {}
      },
      "source": [
        "import pandas as pd\n",
        "import numpy as np\n",
        "\n",
        "from sklearn.model_selection import train_test_split\n",
        "from sklearn import datasets, linear_model\n",
        "from sklearn.feature_extraction.text import CountVectorizer, TfidfTransformer, TfidfVectorizer\n",
        "from sklearn.naive_bayes import MultinomialNB\n",
        "from sklearn.metrics import accuracy_score, precision_score,recall_score,f1_score"
      ],
      "execution_count": 0,
      "outputs": []
    },
    {
      "cell_type": "markdown",
      "metadata": {
        "id": "d8FIwfsGi8ZC",
        "colab_type": "text"
      },
      "source": [
        "### Levantramos el archivo **train.csv**"
      ]
    },
    {
      "cell_type": "code",
      "metadata": {
        "id": "3QtvttVli06t",
        "colab_type": "code",
        "outputId": "b4c74ba9-dae4-494e-9799-ac53ae081220",
        "colab": {
          "base_uri": "https://localhost:8080/",
          "height": 204
        }
      },
      "source": [
        "df_train = pd.read_csv(r'train.csv', usecols=['keyword','location','text','target']) \n",
        "df_train.head()"
      ],
      "execution_count": 94,
      "outputs": [
        {
          "output_type": "execute_result",
          "data": {
            "text/html": [
              "<div>\n",
              "<style scoped>\n",
              "    .dataframe tbody tr th:only-of-type {\n",
              "        vertical-align: middle;\n",
              "    }\n",
              "\n",
              "    .dataframe tbody tr th {\n",
              "        vertical-align: top;\n",
              "    }\n",
              "\n",
              "    .dataframe thead th {\n",
              "        text-align: right;\n",
              "    }\n",
              "</style>\n",
              "<table border=\"1\" class=\"dataframe\">\n",
              "  <thead>\n",
              "    <tr style=\"text-align: right;\">\n",
              "      <th></th>\n",
              "      <th>keyword</th>\n",
              "      <th>location</th>\n",
              "      <th>text</th>\n",
              "      <th>target</th>\n",
              "    </tr>\n",
              "  </thead>\n",
              "  <tbody>\n",
              "    <tr>\n",
              "      <th>0</th>\n",
              "      <td>NaN</td>\n",
              "      <td>NaN</td>\n",
              "      <td>Our Deeds are the Reason of this #earthquake M...</td>\n",
              "      <td>1</td>\n",
              "    </tr>\n",
              "    <tr>\n",
              "      <th>1</th>\n",
              "      <td>NaN</td>\n",
              "      <td>NaN</td>\n",
              "      <td>Forest fire near La Ronge Sask. Canada</td>\n",
              "      <td>1</td>\n",
              "    </tr>\n",
              "    <tr>\n",
              "      <th>2</th>\n",
              "      <td>NaN</td>\n",
              "      <td>NaN</td>\n",
              "      <td>All residents asked to 'shelter in place' are ...</td>\n",
              "      <td>1</td>\n",
              "    </tr>\n",
              "    <tr>\n",
              "      <th>3</th>\n",
              "      <td>NaN</td>\n",
              "      <td>NaN</td>\n",
              "      <td>13,000 people receive #wildfires evacuation or...</td>\n",
              "      <td>1</td>\n",
              "    </tr>\n",
              "    <tr>\n",
              "      <th>4</th>\n",
              "      <td>NaN</td>\n",
              "      <td>NaN</td>\n",
              "      <td>Just got sent this photo from Ruby #Alaska as ...</td>\n",
              "      <td>1</td>\n",
              "    </tr>\n",
              "  </tbody>\n",
              "</table>\n",
              "</div>"
            ],
            "text/plain": [
              "  keyword location                                               text  target\n",
              "0     NaN      NaN  Our Deeds are the Reason of this #earthquake M...       1\n",
              "1     NaN      NaN             Forest fire near La Ronge Sask. Canada       1\n",
              "2     NaN      NaN  All residents asked to 'shelter in place' are ...       1\n",
              "3     NaN      NaN  13,000 people receive #wildfires evacuation or...       1\n",
              "4     NaN      NaN  Just got sent this photo from Ruby #Alaska as ...       1"
            ]
          },
          "metadata": {
            "tags": []
          },
          "execution_count": 94
        }
      ]
    },
    {
      "cell_type": "markdown",
      "metadata": {
        "id": "p9iCOxiyujyS",
        "colab_type": "text"
      },
      "source": [
        "## Preprocesamiento de datos"
      ]
    },
    {
      "cell_type": "code",
      "metadata": {
        "id": "ZXRNZx1alA94",
        "colab_type": "code",
        "outputId": "61802aee-a889-4390-d630-069dd7078a29",
        "colab": {
          "base_uri": "https://localhost:8080/",
          "height": 204
        }
      },
      "source": [
        "# Verifico que no haya instancias nulas o filas completas nulas\n",
        "df_train=df_train.dropna(how=\"all\")\n",
        "df_train.info()"
      ],
      "execution_count": 95,
      "outputs": [
        {
          "output_type": "stream",
          "text": [
            "<class 'pandas.core.frame.DataFrame'>\n",
            "Int64Index: 7613 entries, 0 to 7612\n",
            "Data columns (total 4 columns):\n",
            " #   Column    Non-Null Count  Dtype \n",
            "---  ------    --------------  ----- \n",
            " 0   keyword   7552 non-null   object\n",
            " 1   location  5080 non-null   object\n",
            " 2   text      7613 non-null   object\n",
            " 3   target    7613 non-null   int64 \n",
            "dtypes: int64(1), object(3)\n",
            "memory usage: 297.4+ KB\n"
          ],
          "name": "stdout"
        }
      ]
    },
    {
      "cell_type": "code",
      "metadata": {
        "id": "mOvXdYdllC3Y",
        "colab_type": "code",
        "outputId": "3e8f5272-3967-4788-ab5c-16a85a214279",
        "colab": {
          "base_uri": "https://localhost:8080/",
          "height": 204
        }
      },
      "source": [
        "# Normalizo el dataframe los registros NaN con texto\n",
        "df_train=df_train.fillna({'keyword': 'sin keyword',\\\n",
        "                   'location': 'sin location'})\n",
        "df_train.info()"
      ],
      "execution_count": 96,
      "outputs": [
        {
          "output_type": "stream",
          "text": [
            "<class 'pandas.core.frame.DataFrame'>\n",
            "Int64Index: 7613 entries, 0 to 7612\n",
            "Data columns (total 4 columns):\n",
            " #   Column    Non-Null Count  Dtype \n",
            "---  ------    --------------  ----- \n",
            " 0   keyword   7613 non-null   object\n",
            " 1   location  7613 non-null   object\n",
            " 2   text      7613 non-null   object\n",
            " 3   target    7613 non-null   int64 \n",
            "dtypes: int64(1), object(3)\n",
            "memory usage: 297.4+ KB\n"
          ],
          "name": "stdout"
        }
      ]
    },
    {
      "cell_type": "code",
      "metadata": {
        "id": "T0LlgXdAlHEw",
        "colab_type": "code",
        "outputId": "063ea0f0-a9d8-453c-ac74-a901950a786a",
        "colab": {
          "base_uri": "https://localhost:8080/",
          "height": 204
        }
      },
      "source": [
        "# Eliminamos los tweets duplicados considerando que su cantidad no tiene impacto en el análisis.\n",
        "df_train=df_train.drop_duplicates('text')\n",
        "df_train.info()"
      ],
      "execution_count": 97,
      "outputs": [
        {
          "output_type": "stream",
          "text": [
            "<class 'pandas.core.frame.DataFrame'>\n",
            "Int64Index: 7503 entries, 0 to 7612\n",
            "Data columns (total 4 columns):\n",
            " #   Column    Non-Null Count  Dtype \n",
            "---  ------    --------------  ----- \n",
            " 0   keyword   7503 non-null   object\n",
            " 1   location  7503 non-null   object\n",
            " 2   text      7503 non-null   object\n",
            " 3   target    7503 non-null   int64 \n",
            "dtypes: int64(1), object(3)\n",
            "memory usage: 293.1+ KB\n"
          ],
          "name": "stdout"
        }
      ]
    },
    {
      "cell_type": "code",
      "metadata": {
        "id": "Nb9-OneNlV2G",
        "colab_type": "code",
        "outputId": "bec6d8c5-edd2-41a4-ed73-52c9d990a5c5",
        "colab": {
          "base_uri": "https://localhost:8080/",
          "height": 102
        }
      },
      "source": [
        "# Verificamos la existencia de valores nulos\n",
        "df_train.isnull().any()"
      ],
      "execution_count": 98,
      "outputs": [
        {
          "output_type": "execute_result",
          "data": {
            "text/plain": [
              "keyword     False\n",
              "location    False\n",
              "text        False\n",
              "target      False\n",
              "dtype: bool"
            ]
          },
          "metadata": {
            "tags": []
          },
          "execution_count": 98
        }
      ]
    },
    {
      "cell_type": "markdown",
      "metadata": {
        "id": "1bhMB0YIwfNw",
        "colab_type": "text"
      },
      "source": [
        "### **Análisis & tokenización**"
      ]
    },
    {
      "cell_type": "code",
      "metadata": {
        "id": "T8_xHK_VwlSA",
        "colab_type": "code",
        "colab": {}
      },
      "source": [
        "# Función de tokenización\n",
        "import string\n",
        "punctuation = set(string.punctuation)\n",
        "\n",
        "def tokenize(sentence):\n",
        "    tokens = []\n",
        "    for token in sentence.split():\n",
        "        new_token = []\n",
        "        for character in token:\n",
        "            if character not in punctuation:\n",
        "                new_token.append(character.lower())\n",
        "        if new_token:\n",
        "            tokens.append(\"\".join(new_token))\n",
        "    return tokens"
      ],
      "execution_count": 0,
      "outputs": []
    },
    {
      "cell_type": "code",
      "metadata": {
        "id": "ArzzacYN81ad",
        "colab_type": "code",
        "colab": {
          "base_uri": "https://localhost:8080/",
          "height": 111
        },
        "outputId": "a2dee138-02d1-4769-aa48-ad54e078a86c"
      },
      "source": [
        "# Creo la serie 'text_vector'\n",
        "df_train['text_vector']=df_train['text'].apply(tokenize)\n",
        "df_train.head(2)"
      ],
      "execution_count": 100,
      "outputs": [
        {
          "output_type": "execute_result",
          "data": {
            "text/html": [
              "<div>\n",
              "<style scoped>\n",
              "    .dataframe tbody tr th:only-of-type {\n",
              "        vertical-align: middle;\n",
              "    }\n",
              "\n",
              "    .dataframe tbody tr th {\n",
              "        vertical-align: top;\n",
              "    }\n",
              "\n",
              "    .dataframe thead th {\n",
              "        text-align: right;\n",
              "    }\n",
              "</style>\n",
              "<table border=\"1\" class=\"dataframe\">\n",
              "  <thead>\n",
              "    <tr style=\"text-align: right;\">\n",
              "      <th></th>\n",
              "      <th>keyword</th>\n",
              "      <th>location</th>\n",
              "      <th>text</th>\n",
              "      <th>target</th>\n",
              "      <th>text_vector</th>\n",
              "    </tr>\n",
              "  </thead>\n",
              "  <tbody>\n",
              "    <tr>\n",
              "      <th>0</th>\n",
              "      <td>sin keyword</td>\n",
              "      <td>sin location</td>\n",
              "      <td>Our Deeds are the Reason of this #earthquake M...</td>\n",
              "      <td>1</td>\n",
              "      <td>[our, deeds, are, the, reason, of, this, earth...</td>\n",
              "    </tr>\n",
              "    <tr>\n",
              "      <th>1</th>\n",
              "      <td>sin keyword</td>\n",
              "      <td>sin location</td>\n",
              "      <td>Forest fire near La Ronge Sask. Canada</td>\n",
              "      <td>1</td>\n",
              "      <td>[forest, fire, near, la, ronge, sask, canada]</td>\n",
              "    </tr>\n",
              "  </tbody>\n",
              "</table>\n",
              "</div>"
            ],
            "text/plain": [
              "       keyword  ...                                        text_vector\n",
              "0  sin keyword  ...  [our, deeds, are, the, reason, of, this, earth...\n",
              "1  sin keyword  ...      [forest, fire, near, la, ronge, sask, canada]\n",
              "\n",
              "[2 rows x 5 columns]"
            ]
          },
          "metadata": {
            "tags": []
          },
          "execution_count": 100
        }
      ]
    },
    {
      "cell_type": "code",
      "metadata": {
        "id": "qaBYYZ7T8_FC",
        "colab_type": "code",
        "colab": {
          "base_uri": "https://localhost:8080/",
          "height": 221
        },
        "outputId": "5d326930-a6c8-4c41-e086-bc00c66573da"
      },
      "source": [
        "# Verifico integridad de DF\n",
        "df_train.info()"
      ],
      "execution_count": 101,
      "outputs": [
        {
          "output_type": "stream",
          "text": [
            "<class 'pandas.core.frame.DataFrame'>\n",
            "Int64Index: 7503 entries, 0 to 7612\n",
            "Data columns (total 5 columns):\n",
            " #   Column       Non-Null Count  Dtype \n",
            "---  ------       --------------  ----- \n",
            " 0   keyword      7503 non-null   object\n",
            " 1   location     7503 non-null   object\n",
            " 2   text         7503 non-null   object\n",
            " 3   target       7503 non-null   int64 \n",
            " 4   text_vector  7503 non-null   object\n",
            "dtypes: int64(1), object(4)\n",
            "memory usage: 351.7+ KB\n"
          ],
          "name": "stdout"
        }
      ]
    },
    {
      "cell_type": "code",
      "metadata": {
        "id": "6E8x1l769CIg",
        "colab_type": "code",
        "colab": {
          "base_uri": "https://localhost:8080/",
          "height": 68
        },
        "outputId": "bc071817-3275-4ff2-a7c7-156c44a24673"
      },
      "source": [
        "# Descargo e importo lista de stopwords para filtrar\n",
        "import nltk\n",
        "nltk.download('stopwords')"
      ],
      "execution_count": 102,
      "outputs": [
        {
          "output_type": "stream",
          "text": [
            "[nltk_data] Downloading package stopwords to /root/nltk_data...\n",
            "[nltk_data]   Package stopwords is already up-to-date!\n"
          ],
          "name": "stdout"
        },
        {
          "output_type": "execute_result",
          "data": {
            "text/plain": [
              "True"
            ]
          },
          "metadata": {
            "tags": []
          },
          "execution_count": 102
        }
      ]
    },
    {
      "cell_type": "code",
      "metadata": {
        "id": "rNiZDXDG9vDi",
        "colab_type": "code",
        "colab": {
          "base_uri": "https://localhost:8080/",
          "height": 408
        },
        "outputId": "8f1582db-6bdf-43a9-c4e2-23a68b36b05f"
      },
      "source": [
        "# Importo stopwords\n",
        "from nltk.corpus import stopwords\n",
        "stopwords.fileids()"
      ],
      "execution_count": 125,
      "outputs": [
        {
          "output_type": "execute_result",
          "data": {
            "text/plain": [
              "['arabic',\n",
              " 'azerbaijani',\n",
              " 'danish',\n",
              " 'dutch',\n",
              " 'english',\n",
              " 'finnish',\n",
              " 'french',\n",
              " 'german',\n",
              " 'greek',\n",
              " 'hungarian',\n",
              " 'indonesian',\n",
              " 'italian',\n",
              " 'kazakh',\n",
              " 'nepali',\n",
              " 'norwegian',\n",
              " 'portuguese',\n",
              " 'romanian',\n",
              " 'russian',\n",
              " 'slovene',\n",
              " 'spanish',\n",
              " 'swedish',\n",
              " 'tajik',\n",
              " 'turkish']"
            ]
          },
          "metadata": {
            "tags": []
          },
          "execution_count": 125
        }
      ]
    },
    {
      "cell_type": "code",
      "metadata": {
        "id": "_bT2hiea9ySY",
        "colab_type": "code",
        "colab": {}
      },
      "source": [
        "# Asigno en la variable 'stop' la categoria de stopword por la que voy a realizar el filtro\n",
        "stop=stopwords.words('english')"
      ],
      "execution_count": 0,
      "outputs": []
    },
    {
      "cell_type": "code",
      "metadata": {
        "id": "cxbeEFDF-ewr",
        "colab_type": "code",
        "colab": {}
      },
      "source": [
        "def filtro(text_vector):\n",
        "  text_vector_filtrado = []\n",
        "  for palabra in text_vector:\n",
        "    if palabra not in stop:\n",
        "      text_vector_filtrado.append(palabra)\n",
        "  return(text_vector_filtrado)"
      ],
      "execution_count": 0,
      "outputs": []
    },
    {
      "cell_type": "code",
      "metadata": {
        "id": "A6Bb1hKl-g5n",
        "colab_type": "code",
        "colab": {
          "base_uri": "https://localhost:8080/",
          "height": 119
        },
        "outputId": "e2f548dd-55f0-46ce-93c9-a9316ba74917"
      },
      "source": [
        "# Tokens filtrados por stopwords en inglés\n",
        "df_train['text_vector_filtrado']=df_train['text_vector'].apply(filtro)\n",
        "df_train['text_vector_filtrado'].head()"
      ],
      "execution_count": 106,
      "outputs": [
        {
          "output_type": "execute_result",
          "data": {
            "text/plain": [
              "0    [deeds, reason, earthquake, may, allah, forgiv...\n",
              "1        [forest, fire, near, la, ronge, sask, canada]\n",
              "2    [residents, asked, shelter, place, notified, o...\n",
              "3    [13000, people, receive, wildfires, evacuation...\n",
              "4    [got, sent, photo, ruby, alaska, smoke, wildfi...\n",
              "Name: text_vector_filtrado, dtype: object"
            ]
          },
          "metadata": {
            "tags": []
          },
          "execution_count": 106
        }
      ]
    },
    {
      "cell_type": "code",
      "metadata": {
        "id": "bTu988Jx-npG",
        "colab_type": "code",
        "colab": {
          "base_uri": "https://localhost:8080/",
          "height": 145
        },
        "outputId": "6c300f40-2833-4b64-c21d-4a404d392285"
      },
      "source": [
        "# Asigno en una nueva columna el largo del vector 'text_vector'\n",
        "df_train['elem_vector']=df_train['text_vector'].str.len()\n",
        "df_train.head(2)"
      ],
      "execution_count": 107,
      "outputs": [
        {
          "output_type": "execute_result",
          "data": {
            "text/html": [
              "<div>\n",
              "<style scoped>\n",
              "    .dataframe tbody tr th:only-of-type {\n",
              "        vertical-align: middle;\n",
              "    }\n",
              "\n",
              "    .dataframe tbody tr th {\n",
              "        vertical-align: top;\n",
              "    }\n",
              "\n",
              "    .dataframe thead th {\n",
              "        text-align: right;\n",
              "    }\n",
              "</style>\n",
              "<table border=\"1\" class=\"dataframe\">\n",
              "  <thead>\n",
              "    <tr style=\"text-align: right;\">\n",
              "      <th></th>\n",
              "      <th>keyword</th>\n",
              "      <th>location</th>\n",
              "      <th>text</th>\n",
              "      <th>target</th>\n",
              "      <th>text_vector</th>\n",
              "      <th>text_vector_filtrado</th>\n",
              "      <th>elem_vector</th>\n",
              "    </tr>\n",
              "  </thead>\n",
              "  <tbody>\n",
              "    <tr>\n",
              "      <th>0</th>\n",
              "      <td>sin keyword</td>\n",
              "      <td>sin location</td>\n",
              "      <td>Our Deeds are the Reason of this #earthquake M...</td>\n",
              "      <td>1</td>\n",
              "      <td>[our, deeds, are, the, reason, of, this, earth...</td>\n",
              "      <td>[deeds, reason, earthquake, may, allah, forgiv...</td>\n",
              "      <td>13</td>\n",
              "    </tr>\n",
              "    <tr>\n",
              "      <th>1</th>\n",
              "      <td>sin keyword</td>\n",
              "      <td>sin location</td>\n",
              "      <td>Forest fire near La Ronge Sask. Canada</td>\n",
              "      <td>1</td>\n",
              "      <td>[forest, fire, near, la, ronge, sask, canada]</td>\n",
              "      <td>[forest, fire, near, la, ronge, sask, canada]</td>\n",
              "      <td>7</td>\n",
              "    </tr>\n",
              "  </tbody>\n",
              "</table>\n",
              "</div>"
            ],
            "text/plain": [
              "       keyword  ... elem_vector\n",
              "0  sin keyword  ...          13\n",
              "1  sin keyword  ...           7\n",
              "\n",
              "[2 rows x 7 columns]"
            ]
          },
          "metadata": {
            "tags": []
          },
          "execution_count": 107
        }
      ]
    },
    {
      "cell_type": "code",
      "metadata": {
        "id": "c87bJqvu-g4c",
        "colab_type": "code",
        "colab": {
          "base_uri": "https://localhost:8080/",
          "height": 162
        },
        "outputId": "5dcc559c-3c83-43a0-cb7c-961caf623930"
      },
      "source": [
        "# Cuento los elementos del vector filtrado 'text_vector_filtrado'\n",
        "df_train['elem_vector_filtrado']=df_train['text_vector_filtrado'].str.len()\n",
        "df_train.head(2)"
      ],
      "execution_count": 108,
      "outputs": [
        {
          "output_type": "execute_result",
          "data": {
            "text/html": [
              "<div>\n",
              "<style scoped>\n",
              "    .dataframe tbody tr th:only-of-type {\n",
              "        vertical-align: middle;\n",
              "    }\n",
              "\n",
              "    .dataframe tbody tr th {\n",
              "        vertical-align: top;\n",
              "    }\n",
              "\n",
              "    .dataframe thead th {\n",
              "        text-align: right;\n",
              "    }\n",
              "</style>\n",
              "<table border=\"1\" class=\"dataframe\">\n",
              "  <thead>\n",
              "    <tr style=\"text-align: right;\">\n",
              "      <th></th>\n",
              "      <th>keyword</th>\n",
              "      <th>location</th>\n",
              "      <th>text</th>\n",
              "      <th>target</th>\n",
              "      <th>text_vector</th>\n",
              "      <th>text_vector_filtrado</th>\n",
              "      <th>elem_vector</th>\n",
              "      <th>elem_vector_filtrado</th>\n",
              "    </tr>\n",
              "  </thead>\n",
              "  <tbody>\n",
              "    <tr>\n",
              "      <th>0</th>\n",
              "      <td>sin keyword</td>\n",
              "      <td>sin location</td>\n",
              "      <td>Our Deeds are the Reason of this #earthquake M...</td>\n",
              "      <td>1</td>\n",
              "      <td>[our, deeds, are, the, reason, of, this, earth...</td>\n",
              "      <td>[deeds, reason, earthquake, may, allah, forgiv...</td>\n",
              "      <td>13</td>\n",
              "      <td>7</td>\n",
              "    </tr>\n",
              "    <tr>\n",
              "      <th>1</th>\n",
              "      <td>sin keyword</td>\n",
              "      <td>sin location</td>\n",
              "      <td>Forest fire near La Ronge Sask. Canada</td>\n",
              "      <td>1</td>\n",
              "      <td>[forest, fire, near, la, ronge, sask, canada]</td>\n",
              "      <td>[forest, fire, near, la, ronge, sask, canada]</td>\n",
              "      <td>7</td>\n",
              "      <td>7</td>\n",
              "    </tr>\n",
              "  </tbody>\n",
              "</table>\n",
              "</div>"
            ],
            "text/plain": [
              "       keyword      location  ... elem_vector  elem_vector_filtrado\n",
              "0  sin keyword  sin location  ...          13                     7\n",
              "1  sin keyword  sin location  ...           7                     7\n",
              "\n",
              "[2 rows x 8 columns]"
            ]
          },
          "metadata": {
            "tags": []
          },
          "execution_count": 108
        }
      ]
    },
    {
      "cell_type": "code",
      "metadata": {
        "id": "cc78PyD7-gvF",
        "colab_type": "code",
        "colab": {
          "base_uri": "https://localhost:8080/",
          "height": 272
        },
        "outputId": "07ba86a8-2c7e-4ded-93e1-ff2ead9b44f1"
      },
      "source": [
        "# Verifico estructura del DF\n",
        "df_train.info()"
      ],
      "execution_count": 109,
      "outputs": [
        {
          "output_type": "stream",
          "text": [
            "<class 'pandas.core.frame.DataFrame'>\n",
            "Int64Index: 7503 entries, 0 to 7612\n",
            "Data columns (total 8 columns):\n",
            " #   Column                Non-Null Count  Dtype \n",
            "---  ------                --------------  ----- \n",
            " 0   keyword               7503 non-null   object\n",
            " 1   location              7503 non-null   object\n",
            " 2   text                  7503 non-null   object\n",
            " 3   target                7503 non-null   int64 \n",
            " 4   text_vector           7503 non-null   object\n",
            " 5   text_vector_filtrado  7503 non-null   object\n",
            " 6   elem_vector           7503 non-null   int64 \n",
            " 7   elem_vector_filtrado  7503 non-null   int64 \n",
            "dtypes: int64(3), object(5)\n",
            "memory usage: 527.6+ KB\n"
          ],
          "name": "stdout"
        }
      ]
    },
    {
      "cell_type": "markdown",
      "metadata": {
        "id": "z7syMKRb_wVt",
        "colab_type": "text"
      },
      "source": [
        "### Preproceso y categorización de la variable ***Keyword***"
      ]
    },
    {
      "cell_type": "code",
      "metadata": {
        "id": "fauKBQRp_p0H",
        "colab_type": "code",
        "colab": {
          "base_uri": "https://localhost:8080/",
          "height": 782
        },
        "outputId": "b94060e8-3157-40c3-d1c7-185537cb4805"
      },
      "source": [
        "# \"Limpiamos\" la serie de caracteres especiales\n",
        "df_train['keyword']=df_train['keyword'].str.replace('%20','_')\n",
        "# Verificamos actualización\n",
        "df_train['keyword'].unique()"
      ],
      "execution_count": 110,
      "outputs": [
        {
          "output_type": "execute_result",
          "data": {
            "text/plain": [
              "array(['sin keyword', 'ablaze', 'accident', 'aftershock',\n",
              "       'airplane_accident', 'ambulance', 'annihilated', 'annihilation',\n",
              "       'apocalypse', 'armageddon', 'army', 'arson', 'arsonist', 'attack',\n",
              "       'attacked', 'avalanche', 'battle', 'bioterror', 'bioterrorism',\n",
              "       'blaze', 'blazing', 'bleeding', 'blew_up', 'blight', 'blizzard',\n",
              "       'blood', 'bloody', 'blown_up', 'body_bag', 'body_bagging',\n",
              "       'body_bags', 'bomb', 'bombed', 'bombing', 'bridge_collapse',\n",
              "       'buildings_burning', 'buildings_on_fire', 'burned', 'burning',\n",
              "       'burning_buildings', 'bush_fires', 'casualties', 'casualty',\n",
              "       'catastrophe', 'catastrophic', 'chemical_emergency', 'cliff_fall',\n",
              "       'collapse', 'collapsed', 'collide', 'collided', 'collision',\n",
              "       'crash', 'crashed', 'crush', 'crushed', 'curfew', 'cyclone',\n",
              "       'damage', 'danger', 'dead', 'death', 'deaths', 'debris', 'deluge',\n",
              "       'deluged', 'demolish', 'demolished', 'demolition', 'derail',\n",
              "       'derailed', 'derailment', 'desolate', 'desolation', 'destroy',\n",
              "       'destroyed', 'destruction', 'detonate', 'detonation', 'devastated',\n",
              "       'devastation', 'disaster', 'displaced', 'drought', 'drown',\n",
              "       'drowned', 'drowning', 'dust_storm', 'earthquake', 'electrocute',\n",
              "       'electrocuted', 'emergency', 'emergency_plan',\n",
              "       'emergency_services', 'engulfed', 'epicentre', 'evacuate',\n",
              "       'evacuated', 'evacuation', 'explode', 'exploded', 'explosion',\n",
              "       'eyewitness', 'famine', 'fatal', 'fatalities', 'fatality', 'fear',\n",
              "       'fire', 'fire_truck', 'first_responders', 'flames', 'flattened',\n",
              "       'flood', 'flooding', 'floods', 'forest_fire', 'forest_fires',\n",
              "       'hail', 'hailstorm', 'harm', 'hazard', 'hazardous', 'heat_wave',\n",
              "       'hellfire', 'hijack', 'hijacker', 'hijacking', 'hostage',\n",
              "       'hostages', 'hurricane', 'injured', 'injuries', 'injury',\n",
              "       'inundated', 'inundation', 'landslide', 'lava', 'lightning',\n",
              "       'loud_bang', 'mass_murder', 'mass_murderer', 'massacre', 'mayhem',\n",
              "       'meltdown', 'military', 'mudslide', 'natural_disaster',\n",
              "       'nuclear_disaster', 'nuclear_reactor', 'obliterate', 'obliterated',\n",
              "       'obliteration', 'oil_spill', 'outbreak', 'pandemonium', 'panic',\n",
              "       'panicking', 'police', 'quarantine', 'quarantined',\n",
              "       'radiation_emergency', 'rainstorm', 'razed', 'refugees', 'rescue',\n",
              "       'rescued', 'rescuers', 'riot', 'rioting', 'rubble', 'ruin',\n",
              "       'sandstorm', 'screamed', 'screaming', 'screams', 'seismic',\n",
              "       'sinkhole', 'sinking', 'siren', 'sirens', 'smoke', 'snowstorm',\n",
              "       'storm', 'stretcher', 'structural_failure', 'suicide_bomb',\n",
              "       'suicide_bomber', 'suicide_bombing', 'sunk', 'survive', 'survived',\n",
              "       'survivors', 'terrorism', 'terrorist', 'threat', 'thunder',\n",
              "       'thunderstorm', 'tornado', 'tragedy', 'trapped', 'trauma',\n",
              "       'traumatised', 'trouble', 'tsunami', 'twister', 'typhoon',\n",
              "       'upheaval', 'violent_storm', 'volcano', 'war_zone', 'weapon',\n",
              "       'weapons', 'whirlwind', 'wild_fires', 'wildfire', 'windstorm',\n",
              "       'wounded', 'wounds', 'wreck', 'wreckage', 'wrecked'], dtype=object)"
            ]
          },
          "metadata": {
            "tags": []
          },
          "execution_count": 110
        }
      ]
    },
    {
      "cell_type": "markdown",
      "metadata": {
        "id": "_d5T6PLZAFRi",
        "colab_type": "text"
      },
      "source": [
        "### Generación de **diccionario**"
      ]
    },
    {
      "cell_type": "code",
      "metadata": {
        "id": "l-UOXjE7-gtO",
        "colab_type": "code",
        "colab": {
          "base_uri": "https://localhost:8080/",
          "height": 54
        },
        "outputId": "60647cfe-f8f6-43ab-d077-99fcad9d0b89"
      },
      "source": [
        "# Listo para generar un diccionario y traducir la serie 'keyword'\n",
        "keyword_list=df_train['keyword'].unique().tolist()\n",
        "print(keyword_list)"
      ],
      "execution_count": 117,
      "outputs": [
        {
          "output_type": "stream",
          "text": [
            "['sin keyword', 'ablaze', 'accident', 'aftershock', 'airplane_accident', 'ambulance', 'annihilated', 'annihilation', 'apocalypse', 'armageddon', 'army', 'arson', 'arsonist', 'attack', 'attacked', 'avalanche', 'battle', 'bioterror', 'bioterrorism', 'blaze', 'blazing', 'bleeding', 'blew_up', 'blight', 'blizzard', 'blood', 'bloody', 'blown_up', 'body_bag', 'body_bagging', 'body_bags', 'bomb', 'bombed', 'bombing', 'bridge_collapse', 'buildings_burning', 'buildings_on_fire', 'burned', 'burning', 'burning_buildings', 'bush_fires', 'casualties', 'casualty', 'catastrophe', 'catastrophic', 'chemical_emergency', 'cliff_fall', 'collapse', 'collapsed', 'collide', 'collided', 'collision', 'crash', 'crashed', 'crush', 'crushed', 'curfew', 'cyclone', 'damage', 'danger', 'dead', 'death', 'deaths', 'debris', 'deluge', 'deluged', 'demolish', 'demolished', 'demolition', 'derail', 'derailed', 'derailment', 'desolate', 'desolation', 'destroy', 'destroyed', 'destruction', 'detonate', 'detonation', 'devastated', 'devastation', 'disaster', 'displaced', 'drought', 'drown', 'drowned', 'drowning', 'dust_storm', 'earthquake', 'electrocute', 'electrocuted', 'emergency', 'emergency_plan', 'emergency_services', 'engulfed', 'epicentre', 'evacuate', 'evacuated', 'evacuation', 'explode', 'exploded', 'explosion', 'eyewitness', 'famine', 'fatal', 'fatalities', 'fatality', 'fear', 'fire', 'fire_truck', 'first_responders', 'flames', 'flattened', 'flood', 'flooding', 'floods', 'forest_fire', 'forest_fires', 'hail', 'hailstorm', 'harm', 'hazard', 'hazardous', 'heat_wave', 'hellfire', 'hijack', 'hijacker', 'hijacking', 'hostage', 'hostages', 'hurricane', 'injured', 'injuries', 'injury', 'inundated', 'inundation', 'landslide', 'lava', 'lightning', 'loud_bang', 'mass_murder', 'mass_murderer', 'massacre', 'mayhem', 'meltdown', 'military', 'mudslide', 'natural_disaster', 'nuclear_disaster', 'nuclear_reactor', 'obliterate', 'obliterated', 'obliteration', 'oil_spill', 'outbreak', 'pandemonium', 'panic', 'panicking', 'police', 'quarantine', 'quarantined', 'radiation_emergency', 'rainstorm', 'razed', 'refugees', 'rescue', 'rescued', 'rescuers', 'riot', 'rioting', 'rubble', 'ruin', 'sandstorm', 'screamed', 'screaming', 'screams', 'seismic', 'sinkhole', 'sinking', 'siren', 'sirens', 'smoke', 'snowstorm', 'storm', 'stretcher', 'structural_failure', 'suicide_bomb', 'suicide_bomber', 'suicide_bombing', 'sunk', 'survive', 'survived', 'survivors', 'terrorism', 'terrorist', 'threat', 'thunder', 'thunderstorm', 'tornado', 'tragedy', 'trapped', 'trauma', 'traumatised', 'trouble', 'tsunami', 'twister', 'typhoon', 'upheaval', 'violent_storm', 'volcano', 'war_zone', 'weapon', 'weapons', 'whirlwind', 'wild_fires', 'wildfire', 'windstorm', 'wounded', 'wounds', 'wreck', 'wreckage', 'wrecked']\n"
          ],
          "name": "stdout"
        }
      ]
    },
    {
      "cell_type": "code",
      "metadata": {
        "id": "39Fw1BZi-gfz",
        "colab_type": "code",
        "colab": {
          "base_uri": "https://localhost:8080/",
          "height": 54
        },
        "outputId": "251625bb-c02a-44e4-e2d8-7d1441633697"
      },
      "source": [
        "#1 Genero lista en espaniol\n",
        "keyword_list_esp=['sin_keyword','en llamas','accidente','replica','accidente_avion','ambulancia','aniquilado','aniquilacion','apocalipse','armageddon','ejercito','incendio_intencional','piromano','ataque','atacado','avalancha','combate/batalla/lucha','bioterror','bioterrorismo','resplandecer/arder','resplandeciente/ardiente','hemorragia','exploto','plaga','ventisca','sangre','sangriento','estallido','bolsa_de_cadaver','embolsado_de_cadaver','bolsas_de_cadaver','bomba','bombardeado','bombardeo','colapso_de_puente','incendio_de_edificios','edificios_en_llamas','quemado','quemando/incendiando','incendio_edificios','incendio_de_matorrales/arbustos','bajas/muertes/perdidas','baja/muerte/perdida','catastrofe','catastrofico','emergencia_quimica','caida_acantilado','colapso','colapsado','colisionar','colisiono','colision','choque','estrellado','aplastamiento','aplastado','toque_de_queda','ciclon','da¤o','peligro','muerto','muerte','muertes','escombros','diluvio','inundado','demoler','demolido','demolicion','descarrilar','descarrilado','descarrilamiento','desolado','desolacion','destruir','destruido','destruccion','detonado','detonacion','devastado','devastacion','desastre','dislacado/desplazado','sequia','ahogar','ahogado','ahogamiento/ahogandose','tormenta_polvo','terremoto','electrocutar','electrocutado','emergencia','plan_de_emergencia','servicio_de_emergencia','engullido','epicentro','evacuar','evacuado','evacuacion','explotar','exploto/detonado/estallado','explosion','testigo_ocular','hambruna','fatal','fatalidades','fatalidades','miedo','fuego','camion_bombero','primeros_en_responder','llamas','aplastado','inundacion','inundaciones','inundaciones','incendio_forestal','incendio_forestales','granizo','tormenta_granizo','da¤o','peligro','peligroso','ola_de_calor','infierno','secuestro','secuestrador','secuestro','rehen','rehenes','huracan','herido/lesionado','heridas/lesiones','herida/lesion','inundado','inundacion','deslisamiento_tierra','lava','rayo','golpe_fuerte/estampido_fuerte','asesinato_en_serie','asesino_en_serie','masacre','caos','fusion','militar','alud_de_lodo','desastre_natural','desastre_nuclear','reactor_nuclear','obliterar/destruir/eliminar','borrado/destruido/eliminado','obliteracion/destruccion/eliminacion','derrame_de_petroleo','brote','pandemonio/confusion/caos','panico','tener_panico','polic¡a','cuarentena','en_cuarentena','emergencia_radiacion','tormenta','arrasado','refugiados','rescate','rescatado','rescatadores','disturbio','disturbios','escombros','ruina','tormenta_de_arena','grito','gritando','gritos','sismico','sumidero/pozo','hundiendose','sirena','sirenas','humo','tormenta_de_nieve','tormenta','camilla','fallo_estructural','bomba_suicida','suicida','bombardeo_suicida','hundido','sobrevivir','sobrevivio','sobreviviente','terrorismo','terrorista','amenaza','trueno','tormenta_electrica','tornado','tragedia','atrapado','trauma','traumatizado','problema','tsunami','tornado/torbellino','tifon','transtorno','tormenta_violenta','volcan','zona_de_guerra','arma','armas','torbellino','incendios_forestales','incendio_forestal','tormenta_de_viento','moretoneado','moretones','naufragio','restos','naufrago']\n",
        "print(keyword_list_esp)"
      ],
      "execution_count": 112,
      "outputs": [
        {
          "output_type": "stream",
          "text": [
            "['sin_keyword', 'en llamas', 'accidente', 'replica', 'accidente_avion', 'ambulancia', 'aniquilado', 'aniquilacion', 'apocalipse', 'armageddon', 'ejercito', 'incendio_intencional', 'piromano', 'ataque', 'atacado', 'avalancha', 'combate/batalla/lucha', 'bioterror', 'bioterrorismo', 'resplandecer/arder', 'resplandeciente/ardiente', 'hemorragia', 'exploto', 'plaga', 'ventisca', 'sangre', 'sangriento', 'estallido', 'bolsa_de_cadaver', 'embolsado_de_cadaver', 'bolsas_de_cadaver', 'bomba', 'bombardeado', 'bombardeo', 'colapso_de_puente', 'incendio_de_edificios', 'edificios_en_llamas', 'quemado', 'quemando/incendiando', 'incendio_edificios', 'incendio_de_matorrales/arbustos', 'bajas/muertes/perdidas', 'baja/muerte/perdida', 'catastrofe', 'catastrofico', 'emergencia_quimica', 'caida_acantilado', 'colapso', 'colapsado', 'colisionar', 'colisiono', 'colision', 'choque', 'estrellado', 'aplastamiento', 'aplastado', 'toque_de_queda', 'ciclon', 'da¤o', 'peligro', 'muerto', 'muerte', 'muertes', 'escombros', 'diluvio', 'inundado', 'demoler', 'demolido', 'demolicion', 'descarrilar', 'descarrilado', 'descarrilamiento', 'desolado', 'desolacion', 'destruir', 'destruido', 'destruccion', 'detonado', 'detonacion', 'devastado', 'devastacion', 'desastre', 'dislacado/desplazado', 'sequia', 'ahogar', 'ahogado', 'ahogamiento/ahogandose', 'tormenta_polvo', 'terremoto', 'electrocutar', 'electrocutado', 'emergencia', 'plan_de_emergencia', 'servicio_de_emergencia', 'engullido', 'epicentro', 'evacuar', 'evacuado', 'evacuacion', 'explotar', 'exploto/detonado/estallado', 'explosion', 'testigo_ocular', 'hambruna', 'fatal', 'fatalidades', 'fatalidades', 'miedo', 'fuego', 'camion_bombero', 'primeros_en_responder', 'llamas', 'aplastado', 'inundacion', 'inundaciones', 'inundaciones', 'incendio_forestal', 'incendio_forestales', 'granizo', 'tormenta_granizo', 'da¤o', 'peligro', 'peligroso', 'ola_de_calor', 'infierno', 'secuestro', 'secuestrador', 'secuestro', 'rehen', 'rehenes', 'huracan', 'herido/lesionado', 'heridas/lesiones', 'herida/lesion', 'inundado', 'inundacion', 'deslisamiento_tierra', 'lava', 'rayo', 'golpe_fuerte/estampido_fuerte', 'asesinato_en_serie', 'asesino_en_serie', 'masacre', 'caos', 'fusion', 'militar', 'alud_de_lodo', 'desastre_natural', 'desastre_nuclear', 'reactor_nuclear', 'obliterar/destruir/eliminar', 'borrado/destruido/eliminado', 'obliteracion/destruccion/eliminacion', 'derrame_de_petroleo', 'brote', 'pandemonio/confusion/caos', 'panico', 'tener_panico', 'polic¡a', 'cuarentena', 'en_cuarentena', 'emergencia_radiacion', 'tormenta', 'arrasado', 'refugiados', 'rescate', 'rescatado', 'rescatadores', 'disturbio', 'disturbios', 'escombros', 'ruina', 'tormenta_de_arena', 'grito', 'gritando', 'gritos', 'sismico', 'sumidero/pozo', 'hundiendose', 'sirena', 'sirenas', 'humo', 'tormenta_de_nieve', 'tormenta', 'camilla', 'fallo_estructural', 'bomba_suicida', 'suicida', 'bombardeo_suicida', 'hundido', 'sobrevivir', 'sobrevivio', 'sobreviviente', 'terrorismo', 'terrorista', 'amenaza', 'trueno', 'tormenta_electrica', 'tornado', 'tragedia', 'atrapado', 'trauma', 'traumatizado', 'problema', 'tsunami', 'tornado/torbellino', 'tifon', 'transtorno', 'tormenta_violenta', 'volcan', 'zona_de_guerra', 'arma', 'armas', 'torbellino', 'incendios_forestales', 'incendio_forestal', 'tormenta_de_viento', 'moretoneado', 'moretones', 'naufragio', 'restos', 'naufrago']\n"
          ],
          "name": "stdout"
        }
      ]
    },
    {
      "cell_type": "code",
      "metadata": {
        "id": "tNCgM0ujAbQO",
        "colab_type": "code",
        "colab": {
          "base_uri": "https://localhost:8080/",
          "height": 54
        },
        "outputId": "2559251c-b12f-48b0-d8b7-32c3afebd6b1"
      },
      "source": [
        "#1 Genero el diccionario eng-esp de la serie 'Keyword'\n",
        "keyword_dicc={}\n",
        "y=0\n",
        "for x in keyword_list:\n",
        "  keyword_dicc[x]=keyword_list_esp[y]\n",
        "  y=y+1\n",
        "  #print(keyword_dicc)\n",
        "\n",
        "print(keyword_dicc)"
      ],
      "execution_count": 118,
      "outputs": [
        {
          "output_type": "stream",
          "text": [
            "{'sin keyword': 'sin_keyword', 'ablaze': 'en llamas', 'accident': 'accidente', 'aftershock': 'replica', 'airplane_accident': 'accidente_avion', 'ambulance': 'ambulancia', 'annihilated': 'aniquilado', 'annihilation': 'aniquilacion', 'apocalypse': 'apocalipse', 'armageddon': 'armageddon', 'army': 'ejercito', 'arson': 'incendio_intencional', 'arsonist': 'piromano', 'attack': 'ataque', 'attacked': 'atacado', 'avalanche': 'avalancha', 'battle': 'combate/batalla/lucha', 'bioterror': 'bioterror', 'bioterrorism': 'bioterrorismo', 'blaze': 'resplandecer/arder', 'blazing': 'resplandeciente/ardiente', 'bleeding': 'hemorragia', 'blew_up': 'exploto', 'blight': 'plaga', 'blizzard': 'ventisca', 'blood': 'sangre', 'bloody': 'sangriento', 'blown_up': 'estallido', 'body_bag': 'bolsa_de_cadaver', 'body_bagging': 'embolsado_de_cadaver', 'body_bags': 'bolsas_de_cadaver', 'bomb': 'bomba', 'bombed': 'bombardeado', 'bombing': 'bombardeo', 'bridge_collapse': 'colapso_de_puente', 'buildings_burning': 'incendio_de_edificios', 'buildings_on_fire': 'edificios_en_llamas', 'burned': 'quemado', 'burning': 'quemando/incendiando', 'burning_buildings': 'incendio_edificios', 'bush_fires': 'incendio_de_matorrales/arbustos', 'casualties': 'bajas/muertes/perdidas', 'casualty': 'baja/muerte/perdida', 'catastrophe': 'catastrofe', 'catastrophic': 'catastrofico', 'chemical_emergency': 'emergencia_quimica', 'cliff_fall': 'caida_acantilado', 'collapse': 'colapso', 'collapsed': 'colapsado', 'collide': 'colisionar', 'collided': 'colisiono', 'collision': 'colision', 'crash': 'choque', 'crashed': 'estrellado', 'crush': 'aplastamiento', 'crushed': 'aplastado', 'curfew': 'toque_de_queda', 'cyclone': 'ciclon', 'damage': 'da¤o', 'danger': 'peligro', 'dead': 'muerto', 'death': 'muerte', 'deaths': 'muertes', 'debris': 'escombros', 'deluge': 'diluvio', 'deluged': 'inundado', 'demolish': 'demoler', 'demolished': 'demolido', 'demolition': 'demolicion', 'derail': 'descarrilar', 'derailed': 'descarrilado', 'derailment': 'descarrilamiento', 'desolate': 'desolado', 'desolation': 'desolacion', 'destroy': 'destruir', 'destroyed': 'destruido', 'destruction': 'destruccion', 'detonate': 'detonado', 'detonation': 'detonacion', 'devastated': 'devastado', 'devastation': 'devastacion', 'disaster': 'desastre', 'displaced': 'dislacado/desplazado', 'drought': 'sequia', 'drown': 'ahogar', 'drowned': 'ahogado', 'drowning': 'ahogamiento/ahogandose', 'dust_storm': 'tormenta_polvo', 'earthquake': 'terremoto', 'electrocute': 'electrocutar', 'electrocuted': 'electrocutado', 'emergency': 'emergencia', 'emergency_plan': 'plan_de_emergencia', 'emergency_services': 'servicio_de_emergencia', 'engulfed': 'engullido', 'epicentre': 'epicentro', 'evacuate': 'evacuar', 'evacuated': 'evacuado', 'evacuation': 'evacuacion', 'explode': 'explotar', 'exploded': 'exploto/detonado/estallado', 'explosion': 'explosion', 'eyewitness': 'testigo_ocular', 'famine': 'hambruna', 'fatal': 'fatal', 'fatalities': 'fatalidades', 'fatality': 'fatalidades', 'fear': 'miedo', 'fire': 'fuego', 'fire_truck': 'camion_bombero', 'first_responders': 'primeros_en_responder', 'flames': 'llamas', 'flattened': 'aplastado', 'flood': 'inundacion', 'flooding': 'inundaciones', 'floods': 'inundaciones', 'forest_fire': 'incendio_forestal', 'forest_fires': 'incendio_forestales', 'hail': 'granizo', 'hailstorm': 'tormenta_granizo', 'harm': 'da¤o', 'hazard': 'peligro', 'hazardous': 'peligroso', 'heat_wave': 'ola_de_calor', 'hellfire': 'infierno', 'hijack': 'secuestro', 'hijacker': 'secuestrador', 'hijacking': 'secuestro', 'hostage': 'rehen', 'hostages': 'rehenes', 'hurricane': 'huracan', 'injured': 'herido/lesionado', 'injuries': 'heridas/lesiones', 'injury': 'herida/lesion', 'inundated': 'inundado', 'inundation': 'inundacion', 'landslide': 'deslisamiento_tierra', 'lava': 'lava', 'lightning': 'rayo', 'loud_bang': 'golpe_fuerte/estampido_fuerte', 'mass_murder': 'asesinato_en_serie', 'mass_murderer': 'asesino_en_serie', 'massacre': 'masacre', 'mayhem': 'caos', 'meltdown': 'fusion', 'military': 'militar', 'mudslide': 'alud_de_lodo', 'natural_disaster': 'desastre_natural', 'nuclear_disaster': 'desastre_nuclear', 'nuclear_reactor': 'reactor_nuclear', 'obliterate': 'obliterar/destruir/eliminar', 'obliterated': 'borrado/destruido/eliminado', 'obliteration': 'obliteracion/destruccion/eliminacion', 'oil_spill': 'derrame_de_petroleo', 'outbreak': 'brote', 'pandemonium': 'pandemonio/confusion/caos', 'panic': 'panico', 'panicking': 'tener_panico', 'police': 'polic¡a', 'quarantine': 'cuarentena', 'quarantined': 'en_cuarentena', 'radiation_emergency': 'emergencia_radiacion', 'rainstorm': 'tormenta', 'razed': 'arrasado', 'refugees': 'refugiados', 'rescue': 'rescate', 'rescued': 'rescatado', 'rescuers': 'rescatadores', 'riot': 'disturbio', 'rioting': 'disturbios', 'rubble': 'escombros', 'ruin': 'ruina', 'sandstorm': 'tormenta_de_arena', 'screamed': 'grito', 'screaming': 'gritando', 'screams': 'gritos', 'seismic': 'sismico', 'sinkhole': 'sumidero/pozo', 'sinking': 'hundiendose', 'siren': 'sirena', 'sirens': 'sirenas', 'smoke': 'humo', 'snowstorm': 'tormenta_de_nieve', 'storm': 'tormenta', 'stretcher': 'camilla', 'structural_failure': 'fallo_estructural', 'suicide_bomb': 'bomba_suicida', 'suicide_bomber': 'suicida', 'suicide_bombing': 'bombardeo_suicida', 'sunk': 'hundido', 'survive': 'sobrevivir', 'survived': 'sobrevivio', 'survivors': 'sobreviviente', 'terrorism': 'terrorismo', 'terrorist': 'terrorista', 'threat': 'amenaza', 'thunder': 'trueno', 'thunderstorm': 'tormenta_electrica', 'tornado': 'tornado', 'tragedy': 'tragedia', 'trapped': 'atrapado', 'trauma': 'trauma', 'traumatised': 'traumatizado', 'trouble': 'problema', 'tsunami': 'tsunami', 'twister': 'tornado/torbellino', 'typhoon': 'tifon', 'upheaval': 'transtorno', 'violent_storm': 'tormenta_violenta', 'volcano': 'volcan', 'war_zone': 'zona_de_guerra', 'weapon': 'arma', 'weapons': 'armas', 'whirlwind': 'torbellino', 'wild_fires': 'incendios_forestales', 'wildfire': 'incendio_forestal', 'windstorm': 'tormenta_de_viento', 'wounded': 'moretoneado', 'wounds': 'moretones', 'wreck': 'naufragio', 'wreckage': 'restos', 'wrecked': 'naufrago'}\n"
          ],
          "name": "stdout"
        }
      ]
    },
    {
      "cell_type": "code",
      "metadata": {
        "id": "wy710P3cAcm_",
        "colab_type": "code",
        "colab": {
          "base_uri": "https://localhost:8080/",
          "height": 179
        },
        "outputId": "d8b74ec5-9efa-442f-ba26-4712ffe37600"
      },
      "source": [
        "# Mapeo los valores de las key del diccionario keyword_dicc\n",
        "df_train['keyword_esp']=df_train['keyword'].map(keyword_dicc)\n",
        "df_train.head(2)"
      ],
      "execution_count": 114,
      "outputs": [
        {
          "output_type": "execute_result",
          "data": {
            "text/html": [
              "<div>\n",
              "<style scoped>\n",
              "    .dataframe tbody tr th:only-of-type {\n",
              "        vertical-align: middle;\n",
              "    }\n",
              "\n",
              "    .dataframe tbody tr th {\n",
              "        vertical-align: top;\n",
              "    }\n",
              "\n",
              "    .dataframe thead th {\n",
              "        text-align: right;\n",
              "    }\n",
              "</style>\n",
              "<table border=\"1\" class=\"dataframe\">\n",
              "  <thead>\n",
              "    <tr style=\"text-align: right;\">\n",
              "      <th></th>\n",
              "      <th>keyword</th>\n",
              "      <th>location</th>\n",
              "      <th>text</th>\n",
              "      <th>target</th>\n",
              "      <th>text_vector</th>\n",
              "      <th>text_vector_filtrado</th>\n",
              "      <th>elem_vector</th>\n",
              "      <th>elem_vector_filtrado</th>\n",
              "      <th>keyword_esp</th>\n",
              "    </tr>\n",
              "  </thead>\n",
              "  <tbody>\n",
              "    <tr>\n",
              "      <th>0</th>\n",
              "      <td>sin keyword</td>\n",
              "      <td>sin location</td>\n",
              "      <td>Our Deeds are the Reason of this #earthquake M...</td>\n",
              "      <td>1</td>\n",
              "      <td>[our, deeds, are, the, reason, of, this, earth...</td>\n",
              "      <td>[deeds, reason, earthquake, may, allah, forgiv...</td>\n",
              "      <td>13</td>\n",
              "      <td>7</td>\n",
              "      <td>sin_keyword</td>\n",
              "    </tr>\n",
              "    <tr>\n",
              "      <th>1</th>\n",
              "      <td>sin keyword</td>\n",
              "      <td>sin location</td>\n",
              "      <td>Forest fire near La Ronge Sask. Canada</td>\n",
              "      <td>1</td>\n",
              "      <td>[forest, fire, near, la, ronge, sask, canada]</td>\n",
              "      <td>[forest, fire, near, la, ronge, sask, canada]</td>\n",
              "      <td>7</td>\n",
              "      <td>7</td>\n",
              "      <td>sin_keyword</td>\n",
              "    </tr>\n",
              "  </tbody>\n",
              "</table>\n",
              "</div>"
            ],
            "text/plain": [
              "       keyword      location  ... elem_vector_filtrado  keyword_esp\n",
              "0  sin keyword  sin location  ...                    7  sin_keyword\n",
              "1  sin keyword  sin location  ...                    7  sin_keyword\n",
              "\n",
              "[2 rows x 9 columns]"
            ]
          },
          "metadata": {
            "tags": []
          },
          "execution_count": 114
        }
      ]
    },
    {
      "cell_type": "code",
      "metadata": {
        "id": "T4eq5g2DAmer",
        "colab_type": "code",
        "colab": {
          "base_uri": "https://localhost:8080/",
          "height": 374
        },
        "outputId": "10bbc128-638b-490e-cb93-5d91e634c0dd"
      },
      "source": [
        "# Verifico el top 20 de las categorias mas frecuentes para la serie keyword \n",
        "df_train['keyword_esp'].value_counts().sort_values(ascending=False).head(20)"
      ],
      "execution_count": 115,
      "outputs": [
        {
          "output_type": "execute_result",
          "data": {
            "text/plain": [
              "da¤o                  82\n",
              "fatalidades           82\n",
              "inundaciones          72\n",
              "peligro               70\n",
              "tormenta              69\n",
              "aplastado             65\n",
              "escombros             65\n",
              "secuestro             64\n",
              "inundado              62\n",
              "sin_keyword           56\n",
              "incendio_forestal     52\n",
              "inundacion            45\n",
              "diluvio               42\n",
              "armageddon            42\n",
              "bolsas_de_cadaver     41\n",
              "tornado/torbellino    40\n",
              "tormenta_de_viento    40\n",
              "miedo                 40\n",
              "sirena                40\n",
              "evacuar               40\n",
              "Name: keyword_esp, dtype: int64"
            ]
          },
          "metadata": {
            "tags": []
          },
          "execution_count": 115
        }
      ]
    },
    {
      "cell_type": "markdown",
      "metadata": {
        "id": "j0oOKHEmChGy",
        "colab_type": "text"
      },
      "source": [
        "### → **Scikit Learn**: Ejecución de **One Hot Encoding** para clasificar"
      ]
    },
    {
      "cell_type": "code",
      "metadata": {
        "id": "B1-A_g81CfzJ",
        "colab_type": "code",
        "colab": {
          "base_uri": "https://localhost:8080/",
          "height": 160
        },
        "outputId": "2123b507-0009-45c8-8473-79fd0ff7b687"
      },
      "source": [
        "# Dummifico las categorías\n",
        "df_train_dummies=pd.get_dummies(df_train.keyword)\n",
        "df_train_dummies.head(2)"
      ],
      "execution_count": 119,
      "outputs": [
        {
          "output_type": "execute_result",
          "data": {
            "text/html": [
              "<div>\n",
              "<style scoped>\n",
              "    .dataframe tbody tr th:only-of-type {\n",
              "        vertical-align: middle;\n",
              "    }\n",
              "\n",
              "    .dataframe tbody tr th {\n",
              "        vertical-align: top;\n",
              "    }\n",
              "\n",
              "    .dataframe thead th {\n",
              "        text-align: right;\n",
              "    }\n",
              "</style>\n",
              "<table border=\"1\" class=\"dataframe\">\n",
              "  <thead>\n",
              "    <tr style=\"text-align: right;\">\n",
              "      <th></th>\n",
              "      <th>ablaze</th>\n",
              "      <th>accident</th>\n",
              "      <th>aftershock</th>\n",
              "      <th>airplane_accident</th>\n",
              "      <th>ambulance</th>\n",
              "      <th>annihilated</th>\n",
              "      <th>annihilation</th>\n",
              "      <th>apocalypse</th>\n",
              "      <th>armageddon</th>\n",
              "      <th>army</th>\n",
              "      <th>arson</th>\n",
              "      <th>arsonist</th>\n",
              "      <th>attack</th>\n",
              "      <th>attacked</th>\n",
              "      <th>avalanche</th>\n",
              "      <th>battle</th>\n",
              "      <th>bioterror</th>\n",
              "      <th>bioterrorism</th>\n",
              "      <th>blaze</th>\n",
              "      <th>blazing</th>\n",
              "      <th>bleeding</th>\n",
              "      <th>blew_up</th>\n",
              "      <th>blight</th>\n",
              "      <th>blizzard</th>\n",
              "      <th>blood</th>\n",
              "      <th>bloody</th>\n",
              "      <th>blown_up</th>\n",
              "      <th>body_bag</th>\n",
              "      <th>body_bagging</th>\n",
              "      <th>body_bags</th>\n",
              "      <th>bomb</th>\n",
              "      <th>bombed</th>\n",
              "      <th>bombing</th>\n",
              "      <th>bridge_collapse</th>\n",
              "      <th>buildings_burning</th>\n",
              "      <th>buildings_on_fire</th>\n",
              "      <th>burned</th>\n",
              "      <th>burning</th>\n",
              "      <th>burning_buildings</th>\n",
              "      <th>bush_fires</th>\n",
              "      <th>...</th>\n",
              "      <th>snowstorm</th>\n",
              "      <th>storm</th>\n",
              "      <th>stretcher</th>\n",
              "      <th>structural_failure</th>\n",
              "      <th>suicide_bomb</th>\n",
              "      <th>suicide_bomber</th>\n",
              "      <th>suicide_bombing</th>\n",
              "      <th>sunk</th>\n",
              "      <th>survive</th>\n",
              "      <th>survived</th>\n",
              "      <th>survivors</th>\n",
              "      <th>terrorism</th>\n",
              "      <th>terrorist</th>\n",
              "      <th>threat</th>\n",
              "      <th>thunder</th>\n",
              "      <th>thunderstorm</th>\n",
              "      <th>tornado</th>\n",
              "      <th>tragedy</th>\n",
              "      <th>trapped</th>\n",
              "      <th>trauma</th>\n",
              "      <th>traumatised</th>\n",
              "      <th>trouble</th>\n",
              "      <th>tsunami</th>\n",
              "      <th>twister</th>\n",
              "      <th>typhoon</th>\n",
              "      <th>upheaval</th>\n",
              "      <th>violent_storm</th>\n",
              "      <th>volcano</th>\n",
              "      <th>war_zone</th>\n",
              "      <th>weapon</th>\n",
              "      <th>weapons</th>\n",
              "      <th>whirlwind</th>\n",
              "      <th>wild_fires</th>\n",
              "      <th>wildfire</th>\n",
              "      <th>windstorm</th>\n",
              "      <th>wounded</th>\n",
              "      <th>wounds</th>\n",
              "      <th>wreck</th>\n",
              "      <th>wreckage</th>\n",
              "      <th>wrecked</th>\n",
              "    </tr>\n",
              "  </thead>\n",
              "  <tbody>\n",
              "    <tr>\n",
              "      <th>0</th>\n",
              "      <td>0</td>\n",
              "      <td>0</td>\n",
              "      <td>0</td>\n",
              "      <td>0</td>\n",
              "      <td>0</td>\n",
              "      <td>0</td>\n",
              "      <td>0</td>\n",
              "      <td>0</td>\n",
              "      <td>0</td>\n",
              "      <td>0</td>\n",
              "      <td>0</td>\n",
              "      <td>0</td>\n",
              "      <td>0</td>\n",
              "      <td>0</td>\n",
              "      <td>0</td>\n",
              "      <td>0</td>\n",
              "      <td>0</td>\n",
              "      <td>0</td>\n",
              "      <td>0</td>\n",
              "      <td>0</td>\n",
              "      <td>0</td>\n",
              "      <td>0</td>\n",
              "      <td>0</td>\n",
              "      <td>0</td>\n",
              "      <td>0</td>\n",
              "      <td>0</td>\n",
              "      <td>0</td>\n",
              "      <td>0</td>\n",
              "      <td>0</td>\n",
              "      <td>0</td>\n",
              "      <td>0</td>\n",
              "      <td>0</td>\n",
              "      <td>0</td>\n",
              "      <td>0</td>\n",
              "      <td>0</td>\n",
              "      <td>0</td>\n",
              "      <td>0</td>\n",
              "      <td>0</td>\n",
              "      <td>0</td>\n",
              "      <td>0</td>\n",
              "      <td>...</td>\n",
              "      <td>0</td>\n",
              "      <td>0</td>\n",
              "      <td>0</td>\n",
              "      <td>0</td>\n",
              "      <td>0</td>\n",
              "      <td>0</td>\n",
              "      <td>0</td>\n",
              "      <td>0</td>\n",
              "      <td>0</td>\n",
              "      <td>0</td>\n",
              "      <td>0</td>\n",
              "      <td>0</td>\n",
              "      <td>0</td>\n",
              "      <td>0</td>\n",
              "      <td>0</td>\n",
              "      <td>0</td>\n",
              "      <td>0</td>\n",
              "      <td>0</td>\n",
              "      <td>0</td>\n",
              "      <td>0</td>\n",
              "      <td>0</td>\n",
              "      <td>0</td>\n",
              "      <td>0</td>\n",
              "      <td>0</td>\n",
              "      <td>0</td>\n",
              "      <td>0</td>\n",
              "      <td>0</td>\n",
              "      <td>0</td>\n",
              "      <td>0</td>\n",
              "      <td>0</td>\n",
              "      <td>0</td>\n",
              "      <td>0</td>\n",
              "      <td>0</td>\n",
              "      <td>0</td>\n",
              "      <td>0</td>\n",
              "      <td>0</td>\n",
              "      <td>0</td>\n",
              "      <td>0</td>\n",
              "      <td>0</td>\n",
              "      <td>0</td>\n",
              "    </tr>\n",
              "    <tr>\n",
              "      <th>1</th>\n",
              "      <td>0</td>\n",
              "      <td>0</td>\n",
              "      <td>0</td>\n",
              "      <td>0</td>\n",
              "      <td>0</td>\n",
              "      <td>0</td>\n",
              "      <td>0</td>\n",
              "      <td>0</td>\n",
              "      <td>0</td>\n",
              "      <td>0</td>\n",
              "      <td>0</td>\n",
              "      <td>0</td>\n",
              "      <td>0</td>\n",
              "      <td>0</td>\n",
              "      <td>0</td>\n",
              "      <td>0</td>\n",
              "      <td>0</td>\n",
              "      <td>0</td>\n",
              "      <td>0</td>\n",
              "      <td>0</td>\n",
              "      <td>0</td>\n",
              "      <td>0</td>\n",
              "      <td>0</td>\n",
              "      <td>0</td>\n",
              "      <td>0</td>\n",
              "      <td>0</td>\n",
              "      <td>0</td>\n",
              "      <td>0</td>\n",
              "      <td>0</td>\n",
              "      <td>0</td>\n",
              "      <td>0</td>\n",
              "      <td>0</td>\n",
              "      <td>0</td>\n",
              "      <td>0</td>\n",
              "      <td>0</td>\n",
              "      <td>0</td>\n",
              "      <td>0</td>\n",
              "      <td>0</td>\n",
              "      <td>0</td>\n",
              "      <td>0</td>\n",
              "      <td>...</td>\n",
              "      <td>0</td>\n",
              "      <td>0</td>\n",
              "      <td>0</td>\n",
              "      <td>0</td>\n",
              "      <td>0</td>\n",
              "      <td>0</td>\n",
              "      <td>0</td>\n",
              "      <td>0</td>\n",
              "      <td>0</td>\n",
              "      <td>0</td>\n",
              "      <td>0</td>\n",
              "      <td>0</td>\n",
              "      <td>0</td>\n",
              "      <td>0</td>\n",
              "      <td>0</td>\n",
              "      <td>0</td>\n",
              "      <td>0</td>\n",
              "      <td>0</td>\n",
              "      <td>0</td>\n",
              "      <td>0</td>\n",
              "      <td>0</td>\n",
              "      <td>0</td>\n",
              "      <td>0</td>\n",
              "      <td>0</td>\n",
              "      <td>0</td>\n",
              "      <td>0</td>\n",
              "      <td>0</td>\n",
              "      <td>0</td>\n",
              "      <td>0</td>\n",
              "      <td>0</td>\n",
              "      <td>0</td>\n",
              "      <td>0</td>\n",
              "      <td>0</td>\n",
              "      <td>0</td>\n",
              "      <td>0</td>\n",
              "      <td>0</td>\n",
              "      <td>0</td>\n",
              "      <td>0</td>\n",
              "      <td>0</td>\n",
              "      <td>0</td>\n",
              "    </tr>\n",
              "  </tbody>\n",
              "</table>\n",
              "<p>2 rows × 222 columns</p>\n",
              "</div>"
            ],
            "text/plain": [
              "   ablaze  accident  aftershock  ...  wreck  wreckage  wrecked\n",
              "0       0         0           0  ...      0         0        0\n",
              "1       0         0           0  ...      0         0        0\n",
              "\n",
              "[2 rows x 222 columns]"
            ]
          },
          "metadata": {
            "tags": []
          },
          "execution_count": 119
        }
      ]
    },
    {
      "cell_type": "code",
      "metadata": {
        "id": "8mCZu5xtCXs1",
        "colab_type": "code",
        "colab": {
          "base_uri": "https://localhost:8080/",
          "height": 313
        },
        "outputId": "940080a7-1bdd-47ee-f88f-3003daafb1f4"
      },
      "source": [
        "# Hago un join con df_train y df_train_dummies\n",
        "df_train_merged = pd.concat([df_train,df_train_dummies],axis='columns')\n",
        "df_train_merged.head(2)"
      ],
      "execution_count": 120,
      "outputs": [
        {
          "output_type": "execute_result",
          "data": {
            "text/html": [
              "<div>\n",
              "<style scoped>\n",
              "    .dataframe tbody tr th:only-of-type {\n",
              "        vertical-align: middle;\n",
              "    }\n",
              "\n",
              "    .dataframe tbody tr th {\n",
              "        vertical-align: top;\n",
              "    }\n",
              "\n",
              "    .dataframe thead th {\n",
              "        text-align: right;\n",
              "    }\n",
              "</style>\n",
              "<table border=\"1\" class=\"dataframe\">\n",
              "  <thead>\n",
              "    <tr style=\"text-align: right;\">\n",
              "      <th></th>\n",
              "      <th>keyword</th>\n",
              "      <th>location</th>\n",
              "      <th>text</th>\n",
              "      <th>target</th>\n",
              "      <th>text_vector</th>\n",
              "      <th>text_vector_filtrado</th>\n",
              "      <th>elem_vector</th>\n",
              "      <th>elem_vector_filtrado</th>\n",
              "      <th>keyword_esp</th>\n",
              "      <th>ablaze</th>\n",
              "      <th>accident</th>\n",
              "      <th>aftershock</th>\n",
              "      <th>airplane_accident</th>\n",
              "      <th>ambulance</th>\n",
              "      <th>annihilated</th>\n",
              "      <th>annihilation</th>\n",
              "      <th>apocalypse</th>\n",
              "      <th>armageddon</th>\n",
              "      <th>army</th>\n",
              "      <th>arson</th>\n",
              "      <th>arsonist</th>\n",
              "      <th>attack</th>\n",
              "      <th>attacked</th>\n",
              "      <th>avalanche</th>\n",
              "      <th>battle</th>\n",
              "      <th>bioterror</th>\n",
              "      <th>bioterrorism</th>\n",
              "      <th>blaze</th>\n",
              "      <th>blazing</th>\n",
              "      <th>bleeding</th>\n",
              "      <th>blew_up</th>\n",
              "      <th>blight</th>\n",
              "      <th>blizzard</th>\n",
              "      <th>blood</th>\n",
              "      <th>bloody</th>\n",
              "      <th>blown_up</th>\n",
              "      <th>body_bag</th>\n",
              "      <th>body_bagging</th>\n",
              "      <th>body_bags</th>\n",
              "      <th>bomb</th>\n",
              "      <th>...</th>\n",
              "      <th>snowstorm</th>\n",
              "      <th>storm</th>\n",
              "      <th>stretcher</th>\n",
              "      <th>structural_failure</th>\n",
              "      <th>suicide_bomb</th>\n",
              "      <th>suicide_bomber</th>\n",
              "      <th>suicide_bombing</th>\n",
              "      <th>sunk</th>\n",
              "      <th>survive</th>\n",
              "      <th>survived</th>\n",
              "      <th>survivors</th>\n",
              "      <th>terrorism</th>\n",
              "      <th>terrorist</th>\n",
              "      <th>threat</th>\n",
              "      <th>thunder</th>\n",
              "      <th>thunderstorm</th>\n",
              "      <th>tornado</th>\n",
              "      <th>tragedy</th>\n",
              "      <th>trapped</th>\n",
              "      <th>trauma</th>\n",
              "      <th>traumatised</th>\n",
              "      <th>trouble</th>\n",
              "      <th>tsunami</th>\n",
              "      <th>twister</th>\n",
              "      <th>typhoon</th>\n",
              "      <th>upheaval</th>\n",
              "      <th>violent_storm</th>\n",
              "      <th>volcano</th>\n",
              "      <th>war_zone</th>\n",
              "      <th>weapon</th>\n",
              "      <th>weapons</th>\n",
              "      <th>whirlwind</th>\n",
              "      <th>wild_fires</th>\n",
              "      <th>wildfire</th>\n",
              "      <th>windstorm</th>\n",
              "      <th>wounded</th>\n",
              "      <th>wounds</th>\n",
              "      <th>wreck</th>\n",
              "      <th>wreckage</th>\n",
              "      <th>wrecked</th>\n",
              "    </tr>\n",
              "  </thead>\n",
              "  <tbody>\n",
              "    <tr>\n",
              "      <th>0</th>\n",
              "      <td>sin keyword</td>\n",
              "      <td>sin location</td>\n",
              "      <td>Our Deeds are the Reason of this #earthquake M...</td>\n",
              "      <td>1</td>\n",
              "      <td>[our, deeds, are, the, reason, of, this, earth...</td>\n",
              "      <td>[deeds, reason, earthquake, may, allah, forgiv...</td>\n",
              "      <td>13</td>\n",
              "      <td>7</td>\n",
              "      <td>sin_keyword</td>\n",
              "      <td>0</td>\n",
              "      <td>0</td>\n",
              "      <td>0</td>\n",
              "      <td>0</td>\n",
              "      <td>0</td>\n",
              "      <td>0</td>\n",
              "      <td>0</td>\n",
              "      <td>0</td>\n",
              "      <td>0</td>\n",
              "      <td>0</td>\n",
              "      <td>0</td>\n",
              "      <td>0</td>\n",
              "      <td>0</td>\n",
              "      <td>0</td>\n",
              "      <td>0</td>\n",
              "      <td>0</td>\n",
              "      <td>0</td>\n",
              "      <td>0</td>\n",
              "      <td>0</td>\n",
              "      <td>0</td>\n",
              "      <td>0</td>\n",
              "      <td>0</td>\n",
              "      <td>0</td>\n",
              "      <td>0</td>\n",
              "      <td>0</td>\n",
              "      <td>0</td>\n",
              "      <td>0</td>\n",
              "      <td>0</td>\n",
              "      <td>0</td>\n",
              "      <td>0</td>\n",
              "      <td>0</td>\n",
              "      <td>...</td>\n",
              "      <td>0</td>\n",
              "      <td>0</td>\n",
              "      <td>0</td>\n",
              "      <td>0</td>\n",
              "      <td>0</td>\n",
              "      <td>0</td>\n",
              "      <td>0</td>\n",
              "      <td>0</td>\n",
              "      <td>0</td>\n",
              "      <td>0</td>\n",
              "      <td>0</td>\n",
              "      <td>0</td>\n",
              "      <td>0</td>\n",
              "      <td>0</td>\n",
              "      <td>0</td>\n",
              "      <td>0</td>\n",
              "      <td>0</td>\n",
              "      <td>0</td>\n",
              "      <td>0</td>\n",
              "      <td>0</td>\n",
              "      <td>0</td>\n",
              "      <td>0</td>\n",
              "      <td>0</td>\n",
              "      <td>0</td>\n",
              "      <td>0</td>\n",
              "      <td>0</td>\n",
              "      <td>0</td>\n",
              "      <td>0</td>\n",
              "      <td>0</td>\n",
              "      <td>0</td>\n",
              "      <td>0</td>\n",
              "      <td>0</td>\n",
              "      <td>0</td>\n",
              "      <td>0</td>\n",
              "      <td>0</td>\n",
              "      <td>0</td>\n",
              "      <td>0</td>\n",
              "      <td>0</td>\n",
              "      <td>0</td>\n",
              "      <td>0</td>\n",
              "    </tr>\n",
              "    <tr>\n",
              "      <th>1</th>\n",
              "      <td>sin keyword</td>\n",
              "      <td>sin location</td>\n",
              "      <td>Forest fire near La Ronge Sask. Canada</td>\n",
              "      <td>1</td>\n",
              "      <td>[forest, fire, near, la, ronge, sask, canada]</td>\n",
              "      <td>[forest, fire, near, la, ronge, sask, canada]</td>\n",
              "      <td>7</td>\n",
              "      <td>7</td>\n",
              "      <td>sin_keyword</td>\n",
              "      <td>0</td>\n",
              "      <td>0</td>\n",
              "      <td>0</td>\n",
              "      <td>0</td>\n",
              "      <td>0</td>\n",
              "      <td>0</td>\n",
              "      <td>0</td>\n",
              "      <td>0</td>\n",
              "      <td>0</td>\n",
              "      <td>0</td>\n",
              "      <td>0</td>\n",
              "      <td>0</td>\n",
              "      <td>0</td>\n",
              "      <td>0</td>\n",
              "      <td>0</td>\n",
              "      <td>0</td>\n",
              "      <td>0</td>\n",
              "      <td>0</td>\n",
              "      <td>0</td>\n",
              "      <td>0</td>\n",
              "      <td>0</td>\n",
              "      <td>0</td>\n",
              "      <td>0</td>\n",
              "      <td>0</td>\n",
              "      <td>0</td>\n",
              "      <td>0</td>\n",
              "      <td>0</td>\n",
              "      <td>0</td>\n",
              "      <td>0</td>\n",
              "      <td>0</td>\n",
              "      <td>0</td>\n",
              "      <td>...</td>\n",
              "      <td>0</td>\n",
              "      <td>0</td>\n",
              "      <td>0</td>\n",
              "      <td>0</td>\n",
              "      <td>0</td>\n",
              "      <td>0</td>\n",
              "      <td>0</td>\n",
              "      <td>0</td>\n",
              "      <td>0</td>\n",
              "      <td>0</td>\n",
              "      <td>0</td>\n",
              "      <td>0</td>\n",
              "      <td>0</td>\n",
              "      <td>0</td>\n",
              "      <td>0</td>\n",
              "      <td>0</td>\n",
              "      <td>0</td>\n",
              "      <td>0</td>\n",
              "      <td>0</td>\n",
              "      <td>0</td>\n",
              "      <td>0</td>\n",
              "      <td>0</td>\n",
              "      <td>0</td>\n",
              "      <td>0</td>\n",
              "      <td>0</td>\n",
              "      <td>0</td>\n",
              "      <td>0</td>\n",
              "      <td>0</td>\n",
              "      <td>0</td>\n",
              "      <td>0</td>\n",
              "      <td>0</td>\n",
              "      <td>0</td>\n",
              "      <td>0</td>\n",
              "      <td>0</td>\n",
              "      <td>0</td>\n",
              "      <td>0</td>\n",
              "      <td>0</td>\n",
              "      <td>0</td>\n",
              "      <td>0</td>\n",
              "      <td>0</td>\n",
              "    </tr>\n",
              "  </tbody>\n",
              "</table>\n",
              "<p>2 rows × 231 columns</p>\n",
              "</div>"
            ],
            "text/plain": [
              "       keyword      location  ... wreckage  wrecked\n",
              "0  sin keyword  sin location  ...        0        0\n",
              "1  sin keyword  sin location  ...        0        0\n",
              "\n",
              "[2 rows x 231 columns]"
            ]
          },
          "metadata": {
            "tags": []
          },
          "execution_count": 120
        }
      ]
    },
    {
      "cell_type": "code",
      "metadata": {
        "id": "Gv2OhxtVCXnI",
        "colab_type": "code",
        "colab": {
          "base_uri": "https://localhost:8080/",
          "height": 313
        },
        "outputId": "90ec5cd1-26e9-45a3-d5f0-6ee4cdf6c43a"
      },
      "source": [
        "# Elimino las columnas 'keyword_esp' y 'sin keyword'\n",
        "df_train_merged_final=df_train_merged.drop(['keyword_esp','sin keyword'],axis='columns')\n",
        "df_train_merged_final.head(2)"
      ],
      "execution_count": 121,
      "outputs": [
        {
          "output_type": "execute_result",
          "data": {
            "text/html": [
              "<div>\n",
              "<style scoped>\n",
              "    .dataframe tbody tr th:only-of-type {\n",
              "        vertical-align: middle;\n",
              "    }\n",
              "\n",
              "    .dataframe tbody tr th {\n",
              "        vertical-align: top;\n",
              "    }\n",
              "\n",
              "    .dataframe thead th {\n",
              "        text-align: right;\n",
              "    }\n",
              "</style>\n",
              "<table border=\"1\" class=\"dataframe\">\n",
              "  <thead>\n",
              "    <tr style=\"text-align: right;\">\n",
              "      <th></th>\n",
              "      <th>keyword</th>\n",
              "      <th>location</th>\n",
              "      <th>text</th>\n",
              "      <th>target</th>\n",
              "      <th>text_vector</th>\n",
              "      <th>text_vector_filtrado</th>\n",
              "      <th>elem_vector</th>\n",
              "      <th>elem_vector_filtrado</th>\n",
              "      <th>ablaze</th>\n",
              "      <th>accident</th>\n",
              "      <th>aftershock</th>\n",
              "      <th>airplane_accident</th>\n",
              "      <th>ambulance</th>\n",
              "      <th>annihilated</th>\n",
              "      <th>annihilation</th>\n",
              "      <th>apocalypse</th>\n",
              "      <th>armageddon</th>\n",
              "      <th>army</th>\n",
              "      <th>arson</th>\n",
              "      <th>arsonist</th>\n",
              "      <th>attack</th>\n",
              "      <th>attacked</th>\n",
              "      <th>avalanche</th>\n",
              "      <th>battle</th>\n",
              "      <th>bioterror</th>\n",
              "      <th>bioterrorism</th>\n",
              "      <th>blaze</th>\n",
              "      <th>blazing</th>\n",
              "      <th>bleeding</th>\n",
              "      <th>blew_up</th>\n",
              "      <th>blight</th>\n",
              "      <th>blizzard</th>\n",
              "      <th>blood</th>\n",
              "      <th>bloody</th>\n",
              "      <th>blown_up</th>\n",
              "      <th>body_bag</th>\n",
              "      <th>body_bagging</th>\n",
              "      <th>body_bags</th>\n",
              "      <th>bomb</th>\n",
              "      <th>bombed</th>\n",
              "      <th>...</th>\n",
              "      <th>snowstorm</th>\n",
              "      <th>storm</th>\n",
              "      <th>stretcher</th>\n",
              "      <th>structural_failure</th>\n",
              "      <th>suicide_bomb</th>\n",
              "      <th>suicide_bomber</th>\n",
              "      <th>suicide_bombing</th>\n",
              "      <th>sunk</th>\n",
              "      <th>survive</th>\n",
              "      <th>survived</th>\n",
              "      <th>survivors</th>\n",
              "      <th>terrorism</th>\n",
              "      <th>terrorist</th>\n",
              "      <th>threat</th>\n",
              "      <th>thunder</th>\n",
              "      <th>thunderstorm</th>\n",
              "      <th>tornado</th>\n",
              "      <th>tragedy</th>\n",
              "      <th>trapped</th>\n",
              "      <th>trauma</th>\n",
              "      <th>traumatised</th>\n",
              "      <th>trouble</th>\n",
              "      <th>tsunami</th>\n",
              "      <th>twister</th>\n",
              "      <th>typhoon</th>\n",
              "      <th>upheaval</th>\n",
              "      <th>violent_storm</th>\n",
              "      <th>volcano</th>\n",
              "      <th>war_zone</th>\n",
              "      <th>weapon</th>\n",
              "      <th>weapons</th>\n",
              "      <th>whirlwind</th>\n",
              "      <th>wild_fires</th>\n",
              "      <th>wildfire</th>\n",
              "      <th>windstorm</th>\n",
              "      <th>wounded</th>\n",
              "      <th>wounds</th>\n",
              "      <th>wreck</th>\n",
              "      <th>wreckage</th>\n",
              "      <th>wrecked</th>\n",
              "    </tr>\n",
              "  </thead>\n",
              "  <tbody>\n",
              "    <tr>\n",
              "      <th>0</th>\n",
              "      <td>sin keyword</td>\n",
              "      <td>sin location</td>\n",
              "      <td>Our Deeds are the Reason of this #earthquake M...</td>\n",
              "      <td>1</td>\n",
              "      <td>[our, deeds, are, the, reason, of, this, earth...</td>\n",
              "      <td>[deeds, reason, earthquake, may, allah, forgiv...</td>\n",
              "      <td>13</td>\n",
              "      <td>7</td>\n",
              "      <td>0</td>\n",
              "      <td>0</td>\n",
              "      <td>0</td>\n",
              "      <td>0</td>\n",
              "      <td>0</td>\n",
              "      <td>0</td>\n",
              "      <td>0</td>\n",
              "      <td>0</td>\n",
              "      <td>0</td>\n",
              "      <td>0</td>\n",
              "      <td>0</td>\n",
              "      <td>0</td>\n",
              "      <td>0</td>\n",
              "      <td>0</td>\n",
              "      <td>0</td>\n",
              "      <td>0</td>\n",
              "      <td>0</td>\n",
              "      <td>0</td>\n",
              "      <td>0</td>\n",
              "      <td>0</td>\n",
              "      <td>0</td>\n",
              "      <td>0</td>\n",
              "      <td>0</td>\n",
              "      <td>0</td>\n",
              "      <td>0</td>\n",
              "      <td>0</td>\n",
              "      <td>0</td>\n",
              "      <td>0</td>\n",
              "      <td>0</td>\n",
              "      <td>0</td>\n",
              "      <td>0</td>\n",
              "      <td>0</td>\n",
              "      <td>...</td>\n",
              "      <td>0</td>\n",
              "      <td>0</td>\n",
              "      <td>0</td>\n",
              "      <td>0</td>\n",
              "      <td>0</td>\n",
              "      <td>0</td>\n",
              "      <td>0</td>\n",
              "      <td>0</td>\n",
              "      <td>0</td>\n",
              "      <td>0</td>\n",
              "      <td>0</td>\n",
              "      <td>0</td>\n",
              "      <td>0</td>\n",
              "      <td>0</td>\n",
              "      <td>0</td>\n",
              "      <td>0</td>\n",
              "      <td>0</td>\n",
              "      <td>0</td>\n",
              "      <td>0</td>\n",
              "      <td>0</td>\n",
              "      <td>0</td>\n",
              "      <td>0</td>\n",
              "      <td>0</td>\n",
              "      <td>0</td>\n",
              "      <td>0</td>\n",
              "      <td>0</td>\n",
              "      <td>0</td>\n",
              "      <td>0</td>\n",
              "      <td>0</td>\n",
              "      <td>0</td>\n",
              "      <td>0</td>\n",
              "      <td>0</td>\n",
              "      <td>0</td>\n",
              "      <td>0</td>\n",
              "      <td>0</td>\n",
              "      <td>0</td>\n",
              "      <td>0</td>\n",
              "      <td>0</td>\n",
              "      <td>0</td>\n",
              "      <td>0</td>\n",
              "    </tr>\n",
              "    <tr>\n",
              "      <th>1</th>\n",
              "      <td>sin keyword</td>\n",
              "      <td>sin location</td>\n",
              "      <td>Forest fire near La Ronge Sask. Canada</td>\n",
              "      <td>1</td>\n",
              "      <td>[forest, fire, near, la, ronge, sask, canada]</td>\n",
              "      <td>[forest, fire, near, la, ronge, sask, canada]</td>\n",
              "      <td>7</td>\n",
              "      <td>7</td>\n",
              "      <td>0</td>\n",
              "      <td>0</td>\n",
              "      <td>0</td>\n",
              "      <td>0</td>\n",
              "      <td>0</td>\n",
              "      <td>0</td>\n",
              "      <td>0</td>\n",
              "      <td>0</td>\n",
              "      <td>0</td>\n",
              "      <td>0</td>\n",
              "      <td>0</td>\n",
              "      <td>0</td>\n",
              "      <td>0</td>\n",
              "      <td>0</td>\n",
              "      <td>0</td>\n",
              "      <td>0</td>\n",
              "      <td>0</td>\n",
              "      <td>0</td>\n",
              "      <td>0</td>\n",
              "      <td>0</td>\n",
              "      <td>0</td>\n",
              "      <td>0</td>\n",
              "      <td>0</td>\n",
              "      <td>0</td>\n",
              "      <td>0</td>\n",
              "      <td>0</td>\n",
              "      <td>0</td>\n",
              "      <td>0</td>\n",
              "      <td>0</td>\n",
              "      <td>0</td>\n",
              "      <td>0</td>\n",
              "      <td>0</td>\n",
              "      <td>...</td>\n",
              "      <td>0</td>\n",
              "      <td>0</td>\n",
              "      <td>0</td>\n",
              "      <td>0</td>\n",
              "      <td>0</td>\n",
              "      <td>0</td>\n",
              "      <td>0</td>\n",
              "      <td>0</td>\n",
              "      <td>0</td>\n",
              "      <td>0</td>\n",
              "      <td>0</td>\n",
              "      <td>0</td>\n",
              "      <td>0</td>\n",
              "      <td>0</td>\n",
              "      <td>0</td>\n",
              "      <td>0</td>\n",
              "      <td>0</td>\n",
              "      <td>0</td>\n",
              "      <td>0</td>\n",
              "      <td>0</td>\n",
              "      <td>0</td>\n",
              "      <td>0</td>\n",
              "      <td>0</td>\n",
              "      <td>0</td>\n",
              "      <td>0</td>\n",
              "      <td>0</td>\n",
              "      <td>0</td>\n",
              "      <td>0</td>\n",
              "      <td>0</td>\n",
              "      <td>0</td>\n",
              "      <td>0</td>\n",
              "      <td>0</td>\n",
              "      <td>0</td>\n",
              "      <td>0</td>\n",
              "      <td>0</td>\n",
              "      <td>0</td>\n",
              "      <td>0</td>\n",
              "      <td>0</td>\n",
              "      <td>0</td>\n",
              "      <td>0</td>\n",
              "    </tr>\n",
              "  </tbody>\n",
              "</table>\n",
              "<p>2 rows × 229 columns</p>\n",
              "</div>"
            ],
            "text/plain": [
              "       keyword      location  ... wreckage  wrecked\n",
              "0  sin keyword  sin location  ...        0        0\n",
              "1  sin keyword  sin location  ...        0        0\n",
              "\n",
              "[2 rows x 229 columns]"
            ]
          },
          "metadata": {
            "tags": []
          },
          "execution_count": 121
        }
      ]
    },
    {
      "cell_type": "code",
      "metadata": {
        "id": "4ldMLTArQXJq",
        "colab_type": "code",
        "colab": {}
      },
      "source": [
        "# Exporto a .csv para verificar estructura\n",
        "df_train_merged_final.to_csv('columna_texto_vector_filtrado.csv')"
      ],
      "execution_count": 0,
      "outputs": []
    },
    {
      "cell_type": "code",
      "metadata": {
        "id": "6JASxLrDK9nP",
        "colab_type": "code",
        "colab": {
          "base_uri": "https://localhost:8080/",
          "height": 221
        },
        "outputId": "7ddd2a53-4be6-471b-c4e4-d1cc517dccc3"
      },
      "source": [
        "print(df_train_merged_final['text_vector_filtrado'])"
      ],
      "execution_count": 123,
      "outputs": [
        {
          "output_type": "stream",
          "text": [
            "0       [deeds, reason, earthquake, may, allah, forgiv...\n",
            "1           [forest, fire, near, la, ronge, sask, canada]\n",
            "2       [residents, asked, shelter, place, notified, o...\n",
            "3       [13000, people, receive, wildfires, evacuation...\n",
            "4       [got, sent, photo, ruby, alaska, smoke, wildfi...\n",
            "                              ...                        \n",
            "7604    [worldnews, fallen, powerlines, glink, tram, u...\n",
            "7605    [flip, side, im, walmart, bomb, everyone, evac...\n",
            "7606    [suicide, bomber, kills, 15, saudi, security, ...\n",
            "7608    [two, giant, cranes, holding, bridge, collapse...\n",
            "7612    [latest, homes, razed, northern, california, w...\n",
            "Name: text_vector_filtrado, Length: 7503, dtype: object\n"
          ],
          "name": "stdout"
        }
      ]
    },
    {
      "cell_type": "markdown",
      "metadata": {
        "id": "eifuTrzTXWEM",
        "colab_type": "text"
      },
      "source": [
        "Vectorizo con el feature **CountVectorizer**"
      ]
    },
    {
      "cell_type": "code",
      "metadata": {
        "id": "E8WrI8pvzLTa",
        "colab_type": "code",
        "colab": {
          "base_uri": "https://localhost:8080/",
          "height": 221
        },
        "outputId": "65f0fadc-911e-44ac-ac8f-e14995564923"
      },
      "source": [
        "# Defino los documentos/vector (para fragmentar la cadena de palabras)\n",
        "documents=(df_train_merged_final['text'])\n",
        "documents"
      ],
      "execution_count": 126,
      "outputs": [
        {
          "output_type": "execute_result",
          "data": {
            "text/plain": [
              "0       Our Deeds are the Reason of this #earthquake M...\n",
              "1                  Forest fire near La Ronge Sask. Canada\n",
              "2       All residents asked to 'shelter in place' are ...\n",
              "3       13,000 people receive #wildfires evacuation or...\n",
              "4       Just got sent this photo from Ruby #Alaska as ...\n",
              "                              ...                        \n",
              "7604    #WorldNews Fallen powerlines on G:link tram: U...\n",
              "7605    on the flip side I'm at Walmart and there is a...\n",
              "7606    Suicide bomber kills 15 in Saudi security site...\n",
              "7608    Two giant cranes holding a bridge collapse int...\n",
              "7612    The Latest: More Homes Razed by Northern Calif...\n",
              "Name: text, Length: 7503, dtype: object"
            ]
          },
          "metadata": {
            "tags": []
          },
          "execution_count": 126
        }
      ]
    },
    {
      "cell_type": "code",
      "metadata": {
        "id": "nOiNTmDG4YP5",
        "colab_type": "code",
        "colab": {}
      },
      "source": [
        "# Se ignorara todas las palabras que se encuentren en la lista stop_words\n",
        "vectorizer=CountVectorizer(stop_words='english')\n",
        "#Ajustamos el conjunto de datos del documento al objeto countvectorizer\n",
        "vectors=vectorizer.fit_transform(documents)\n",
        "# conseguimos lal ista de palabras que han sido clasificadas\n",
        "names=vectorizer.get_feature_names()\n",
        "#names"
      ],
      "execution_count": 0,
      "outputs": []
    },
    {
      "cell_type": "code",
      "metadata": {
        "id": "awhB7kgI5Ffq",
        "colab_type": "code",
        "colab": {
          "base_uri": "https://localhost:8080/",
          "height": 136
        },
        "outputId": "98448d2b-5fec-44d7-bbae-8487ea7f416d"
      },
      "source": [
        "# creamos una matriz. El valor correspondiente a la (fila, columna) sera la frecuencia de esa palabra\n",
        "doc_array=vectorizer.transform(documents).toarray()\n",
        "doc_array"
      ],
      "execution_count": 128,
      "outputs": [
        {
          "output_type": "execute_result",
          "data": {
            "text/plain": [
              "array([[0, 0, 0, ..., 0, 0, 0],\n",
              "       [0, 0, 0, ..., 0, 0, 0],\n",
              "       [0, 0, 0, ..., 0, 0, 0],\n",
              "       ...,\n",
              "       [0, 0, 0, ..., 0, 0, 0],\n",
              "       [0, 0, 0, ..., 0, 0, 0],\n",
              "       [0, 0, 0, ..., 0, 0, 0]])"
            ]
          },
          "metadata": {
            "tags": []
          },
          "execution_count": 128
        }
      ]
    },
    {
      "cell_type": "markdown",
      "metadata": {
        "id": "CD5VOUkr58bW",
        "colab_type": "text"
      },
      "source": [
        "### Implementación de **BoW** O **Bag of Word**"
      ]
    },
    {
      "cell_type": "code",
      "metadata": {
        "id": "T_-10tzc5Y7q",
        "colab_type": "code",
        "colab": {
          "base_uri": "https://localhost:8080/",
          "height": 439
        },
        "outputId": "264959bf-803c-4f69-d9e7-e1c8e8706c56"
      },
      "source": [
        "# convertimos la matriz en una estructura de datos\n",
        "frecuency_matrix=pd.DataFrame(data=doc_array, columns=names)\n",
        "frecuency_matrix"
      ],
      "execution_count": 129,
      "outputs": [
        {
          "output_type": "execute_result",
          "data": {
            "text/html": [
              "<div>\n",
              "<style scoped>\n",
              "    .dataframe tbody tr th:only-of-type {\n",
              "        vertical-align: middle;\n",
              "    }\n",
              "\n",
              "    .dataframe tbody tr th {\n",
              "        vertical-align: top;\n",
              "    }\n",
              "\n",
              "    .dataframe thead th {\n",
              "        text-align: right;\n",
              "    }\n",
              "</style>\n",
              "<table border=\"1\" class=\"dataframe\">\n",
              "  <thead>\n",
              "    <tr style=\"text-align: right;\">\n",
              "      <th></th>\n",
              "      <th>00</th>\n",
              "      <th>000</th>\n",
              "      <th>0000</th>\n",
              "      <th>007npen6lg</th>\n",
              "      <th>00cy9vxeff</th>\n",
              "      <th>00end</th>\n",
              "      <th>00pm</th>\n",
              "      <th>01</th>\n",
              "      <th>02</th>\n",
              "      <th>0215</th>\n",
              "      <th>02elqlopfk</th>\n",
              "      <th>02pm</th>\n",
              "      <th>03</th>\n",
              "      <th>030</th>\n",
              "      <th>033</th>\n",
              "      <th>034</th>\n",
              "      <th>039</th>\n",
              "      <th>03l7nwqdje</th>\n",
              "      <th>04</th>\n",
              "      <th>05</th>\n",
              "      <th>05th</th>\n",
              "      <th>06</th>\n",
              "      <th>060</th>\n",
              "      <th>061</th>\n",
              "      <th>06jst</th>\n",
              "      <th>07</th>\n",
              "      <th>073izwx0lb</th>\n",
              "      <th>08</th>\n",
              "      <th>0840728</th>\n",
              "      <th>0853</th>\n",
              "      <th>087809233445</th>\n",
              "      <th>0880</th>\n",
              "      <th>08lngclzsj</th>\n",
              "      <th>09</th>\n",
              "      <th>0abgfglh7x</th>\n",
              "      <th>0ajisa5531</th>\n",
              "      <th>0blkwcupzq</th>\n",
              "      <th>0btniwagt1</th>\n",
              "      <th>0bvk5tub4j</th>\n",
              "      <th>0c1y8g7e9p</th>\n",
              "      <th>...</th>\n",
              "      <th>ûªre</th>\n",
              "      <th>ûªs</th>\n",
              "      <th>ûªt</th>\n",
              "      <th>ûªve</th>\n",
              "      <th>ûï</th>\n",
              "      <th>ûïa</th>\n",
              "      <th>ûïafter</th>\n",
              "      <th>ûïairplane</th>\n",
              "      <th>ûïall</th>\n",
              "      <th>ûïcat</th>\n",
              "      <th>ûïdetonate</th>\n",
              "      <th>ûïfor</th>\n",
              "      <th>ûïhatchet</th>\n",
              "      <th>ûïi</th>\n",
              "      <th>ûïlittle</th>\n",
              "      <th>ûïlove</th>\n",
              "      <th>ûïmake</th>\n",
              "      <th>ûïnews</th>\n",
              "      <th>ûïnobody</th>\n",
              "      <th>ûïnumbers</th>\n",
              "      <th>ûïparties</th>\n",
              "      <th>ûïplans</th>\n",
              "      <th>ûïrichmond</th>\n",
              "      <th>ûïsippin</th>\n",
              "      <th>ûïstretcher</th>\n",
              "      <th>ûïthat</th>\n",
              "      <th>ûïthe</th>\n",
              "      <th>ûïwe</th>\n",
              "      <th>ûïwhen</th>\n",
              "      <th>ûïyou</th>\n",
              "      <th>ûò</th>\n",
              "      <th>ûò800000</th>\n",
              "      <th>ûòthe</th>\n",
              "      <th>ûòåêcnbc</th>\n",
              "      <th>ûó</th>\n",
              "      <th>ûóher</th>\n",
              "      <th>ûókody</th>\n",
              "      <th>ûónegligence</th>\n",
              "      <th>ûótech</th>\n",
              "      <th>ûówe</th>\n",
              "    </tr>\n",
              "  </thead>\n",
              "  <tbody>\n",
              "    <tr>\n",
              "      <th>0</th>\n",
              "      <td>0</td>\n",
              "      <td>0</td>\n",
              "      <td>0</td>\n",
              "      <td>0</td>\n",
              "      <td>0</td>\n",
              "      <td>0</td>\n",
              "      <td>0</td>\n",
              "      <td>0</td>\n",
              "      <td>0</td>\n",
              "      <td>0</td>\n",
              "      <td>0</td>\n",
              "      <td>0</td>\n",
              "      <td>0</td>\n",
              "      <td>0</td>\n",
              "      <td>0</td>\n",
              "      <td>0</td>\n",
              "      <td>0</td>\n",
              "      <td>0</td>\n",
              "      <td>0</td>\n",
              "      <td>0</td>\n",
              "      <td>0</td>\n",
              "      <td>0</td>\n",
              "      <td>0</td>\n",
              "      <td>0</td>\n",
              "      <td>0</td>\n",
              "      <td>0</td>\n",
              "      <td>0</td>\n",
              "      <td>0</td>\n",
              "      <td>0</td>\n",
              "      <td>0</td>\n",
              "      <td>0</td>\n",
              "      <td>0</td>\n",
              "      <td>0</td>\n",
              "      <td>0</td>\n",
              "      <td>0</td>\n",
              "      <td>0</td>\n",
              "      <td>0</td>\n",
              "      <td>0</td>\n",
              "      <td>0</td>\n",
              "      <td>0</td>\n",
              "      <td>...</td>\n",
              "      <td>0</td>\n",
              "      <td>0</td>\n",
              "      <td>0</td>\n",
              "      <td>0</td>\n",
              "      <td>0</td>\n",
              "      <td>0</td>\n",
              "      <td>0</td>\n",
              "      <td>0</td>\n",
              "      <td>0</td>\n",
              "      <td>0</td>\n",
              "      <td>0</td>\n",
              "      <td>0</td>\n",
              "      <td>0</td>\n",
              "      <td>0</td>\n",
              "      <td>0</td>\n",
              "      <td>0</td>\n",
              "      <td>0</td>\n",
              "      <td>0</td>\n",
              "      <td>0</td>\n",
              "      <td>0</td>\n",
              "      <td>0</td>\n",
              "      <td>0</td>\n",
              "      <td>0</td>\n",
              "      <td>0</td>\n",
              "      <td>0</td>\n",
              "      <td>0</td>\n",
              "      <td>0</td>\n",
              "      <td>0</td>\n",
              "      <td>0</td>\n",
              "      <td>0</td>\n",
              "      <td>0</td>\n",
              "      <td>0</td>\n",
              "      <td>0</td>\n",
              "      <td>0</td>\n",
              "      <td>0</td>\n",
              "      <td>0</td>\n",
              "      <td>0</td>\n",
              "      <td>0</td>\n",
              "      <td>0</td>\n",
              "      <td>0</td>\n",
              "    </tr>\n",
              "    <tr>\n",
              "      <th>1</th>\n",
              "      <td>0</td>\n",
              "      <td>0</td>\n",
              "      <td>0</td>\n",
              "      <td>0</td>\n",
              "      <td>0</td>\n",
              "      <td>0</td>\n",
              "      <td>0</td>\n",
              "      <td>0</td>\n",
              "      <td>0</td>\n",
              "      <td>0</td>\n",
              "      <td>0</td>\n",
              "      <td>0</td>\n",
              "      <td>0</td>\n",
              "      <td>0</td>\n",
              "      <td>0</td>\n",
              "      <td>0</td>\n",
              "      <td>0</td>\n",
              "      <td>0</td>\n",
              "      <td>0</td>\n",
              "      <td>0</td>\n",
              "      <td>0</td>\n",
              "      <td>0</td>\n",
              "      <td>0</td>\n",
              "      <td>0</td>\n",
              "      <td>0</td>\n",
              "      <td>0</td>\n",
              "      <td>0</td>\n",
              "      <td>0</td>\n",
              "      <td>0</td>\n",
              "      <td>0</td>\n",
              "      <td>0</td>\n",
              "      <td>0</td>\n",
              "      <td>0</td>\n",
              "      <td>0</td>\n",
              "      <td>0</td>\n",
              "      <td>0</td>\n",
              "      <td>0</td>\n",
              "      <td>0</td>\n",
              "      <td>0</td>\n",
              "      <td>0</td>\n",
              "      <td>...</td>\n",
              "      <td>0</td>\n",
              "      <td>0</td>\n",
              "      <td>0</td>\n",
              "      <td>0</td>\n",
              "      <td>0</td>\n",
              "      <td>0</td>\n",
              "      <td>0</td>\n",
              "      <td>0</td>\n",
              "      <td>0</td>\n",
              "      <td>0</td>\n",
              "      <td>0</td>\n",
              "      <td>0</td>\n",
              "      <td>0</td>\n",
              "      <td>0</td>\n",
              "      <td>0</td>\n",
              "      <td>0</td>\n",
              "      <td>0</td>\n",
              "      <td>0</td>\n",
              "      <td>0</td>\n",
              "      <td>0</td>\n",
              "      <td>0</td>\n",
              "      <td>0</td>\n",
              "      <td>0</td>\n",
              "      <td>0</td>\n",
              "      <td>0</td>\n",
              "      <td>0</td>\n",
              "      <td>0</td>\n",
              "      <td>0</td>\n",
              "      <td>0</td>\n",
              "      <td>0</td>\n",
              "      <td>0</td>\n",
              "      <td>0</td>\n",
              "      <td>0</td>\n",
              "      <td>0</td>\n",
              "      <td>0</td>\n",
              "      <td>0</td>\n",
              "      <td>0</td>\n",
              "      <td>0</td>\n",
              "      <td>0</td>\n",
              "      <td>0</td>\n",
              "    </tr>\n",
              "    <tr>\n",
              "      <th>2</th>\n",
              "      <td>0</td>\n",
              "      <td>0</td>\n",
              "      <td>0</td>\n",
              "      <td>0</td>\n",
              "      <td>0</td>\n",
              "      <td>0</td>\n",
              "      <td>0</td>\n",
              "      <td>0</td>\n",
              "      <td>0</td>\n",
              "      <td>0</td>\n",
              "      <td>0</td>\n",
              "      <td>0</td>\n",
              "      <td>0</td>\n",
              "      <td>0</td>\n",
              "      <td>0</td>\n",
              "      <td>0</td>\n",
              "      <td>0</td>\n",
              "      <td>0</td>\n",
              "      <td>0</td>\n",
              "      <td>0</td>\n",
              "      <td>0</td>\n",
              "      <td>0</td>\n",
              "      <td>0</td>\n",
              "      <td>0</td>\n",
              "      <td>0</td>\n",
              "      <td>0</td>\n",
              "      <td>0</td>\n",
              "      <td>0</td>\n",
              "      <td>0</td>\n",
              "      <td>0</td>\n",
              "      <td>0</td>\n",
              "      <td>0</td>\n",
              "      <td>0</td>\n",
              "      <td>0</td>\n",
              "      <td>0</td>\n",
              "      <td>0</td>\n",
              "      <td>0</td>\n",
              "      <td>0</td>\n",
              "      <td>0</td>\n",
              "      <td>0</td>\n",
              "      <td>...</td>\n",
              "      <td>0</td>\n",
              "      <td>0</td>\n",
              "      <td>0</td>\n",
              "      <td>0</td>\n",
              "      <td>0</td>\n",
              "      <td>0</td>\n",
              "      <td>0</td>\n",
              "      <td>0</td>\n",
              "      <td>0</td>\n",
              "      <td>0</td>\n",
              "      <td>0</td>\n",
              "      <td>0</td>\n",
              "      <td>0</td>\n",
              "      <td>0</td>\n",
              "      <td>0</td>\n",
              "      <td>0</td>\n",
              "      <td>0</td>\n",
              "      <td>0</td>\n",
              "      <td>0</td>\n",
              "      <td>0</td>\n",
              "      <td>0</td>\n",
              "      <td>0</td>\n",
              "      <td>0</td>\n",
              "      <td>0</td>\n",
              "      <td>0</td>\n",
              "      <td>0</td>\n",
              "      <td>0</td>\n",
              "      <td>0</td>\n",
              "      <td>0</td>\n",
              "      <td>0</td>\n",
              "      <td>0</td>\n",
              "      <td>0</td>\n",
              "      <td>0</td>\n",
              "      <td>0</td>\n",
              "      <td>0</td>\n",
              "      <td>0</td>\n",
              "      <td>0</td>\n",
              "      <td>0</td>\n",
              "      <td>0</td>\n",
              "      <td>0</td>\n",
              "    </tr>\n",
              "    <tr>\n",
              "      <th>3</th>\n",
              "      <td>0</td>\n",
              "      <td>1</td>\n",
              "      <td>0</td>\n",
              "      <td>0</td>\n",
              "      <td>0</td>\n",
              "      <td>0</td>\n",
              "      <td>0</td>\n",
              "      <td>0</td>\n",
              "      <td>0</td>\n",
              "      <td>0</td>\n",
              "      <td>0</td>\n",
              "      <td>0</td>\n",
              "      <td>0</td>\n",
              "      <td>0</td>\n",
              "      <td>0</td>\n",
              "      <td>0</td>\n",
              "      <td>0</td>\n",
              "      <td>0</td>\n",
              "      <td>0</td>\n",
              "      <td>0</td>\n",
              "      <td>0</td>\n",
              "      <td>0</td>\n",
              "      <td>0</td>\n",
              "      <td>0</td>\n",
              "      <td>0</td>\n",
              "      <td>0</td>\n",
              "      <td>0</td>\n",
              "      <td>0</td>\n",
              "      <td>0</td>\n",
              "      <td>0</td>\n",
              "      <td>0</td>\n",
              "      <td>0</td>\n",
              "      <td>0</td>\n",
              "      <td>0</td>\n",
              "      <td>0</td>\n",
              "      <td>0</td>\n",
              "      <td>0</td>\n",
              "      <td>0</td>\n",
              "      <td>0</td>\n",
              "      <td>0</td>\n",
              "      <td>...</td>\n",
              "      <td>0</td>\n",
              "      <td>0</td>\n",
              "      <td>0</td>\n",
              "      <td>0</td>\n",
              "      <td>0</td>\n",
              "      <td>0</td>\n",
              "      <td>0</td>\n",
              "      <td>0</td>\n",
              "      <td>0</td>\n",
              "      <td>0</td>\n",
              "      <td>0</td>\n",
              "      <td>0</td>\n",
              "      <td>0</td>\n",
              "      <td>0</td>\n",
              "      <td>0</td>\n",
              "      <td>0</td>\n",
              "      <td>0</td>\n",
              "      <td>0</td>\n",
              "      <td>0</td>\n",
              "      <td>0</td>\n",
              "      <td>0</td>\n",
              "      <td>0</td>\n",
              "      <td>0</td>\n",
              "      <td>0</td>\n",
              "      <td>0</td>\n",
              "      <td>0</td>\n",
              "      <td>0</td>\n",
              "      <td>0</td>\n",
              "      <td>0</td>\n",
              "      <td>0</td>\n",
              "      <td>0</td>\n",
              "      <td>0</td>\n",
              "      <td>0</td>\n",
              "      <td>0</td>\n",
              "      <td>0</td>\n",
              "      <td>0</td>\n",
              "      <td>0</td>\n",
              "      <td>0</td>\n",
              "      <td>0</td>\n",
              "      <td>0</td>\n",
              "    </tr>\n",
              "    <tr>\n",
              "      <th>4</th>\n",
              "      <td>0</td>\n",
              "      <td>0</td>\n",
              "      <td>0</td>\n",
              "      <td>0</td>\n",
              "      <td>0</td>\n",
              "      <td>0</td>\n",
              "      <td>0</td>\n",
              "      <td>0</td>\n",
              "      <td>0</td>\n",
              "      <td>0</td>\n",
              "      <td>0</td>\n",
              "      <td>0</td>\n",
              "      <td>0</td>\n",
              "      <td>0</td>\n",
              "      <td>0</td>\n",
              "      <td>0</td>\n",
              "      <td>0</td>\n",
              "      <td>0</td>\n",
              "      <td>0</td>\n",
              "      <td>0</td>\n",
              "      <td>0</td>\n",
              "      <td>0</td>\n",
              "      <td>0</td>\n",
              "      <td>0</td>\n",
              "      <td>0</td>\n",
              "      <td>0</td>\n",
              "      <td>0</td>\n",
              "      <td>0</td>\n",
              "      <td>0</td>\n",
              "      <td>0</td>\n",
              "      <td>0</td>\n",
              "      <td>0</td>\n",
              "      <td>0</td>\n",
              "      <td>0</td>\n",
              "      <td>0</td>\n",
              "      <td>0</td>\n",
              "      <td>0</td>\n",
              "      <td>0</td>\n",
              "      <td>0</td>\n",
              "      <td>0</td>\n",
              "      <td>...</td>\n",
              "      <td>0</td>\n",
              "      <td>0</td>\n",
              "      <td>0</td>\n",
              "      <td>0</td>\n",
              "      <td>0</td>\n",
              "      <td>0</td>\n",
              "      <td>0</td>\n",
              "      <td>0</td>\n",
              "      <td>0</td>\n",
              "      <td>0</td>\n",
              "      <td>0</td>\n",
              "      <td>0</td>\n",
              "      <td>0</td>\n",
              "      <td>0</td>\n",
              "      <td>0</td>\n",
              "      <td>0</td>\n",
              "      <td>0</td>\n",
              "      <td>0</td>\n",
              "      <td>0</td>\n",
              "      <td>0</td>\n",
              "      <td>0</td>\n",
              "      <td>0</td>\n",
              "      <td>0</td>\n",
              "      <td>0</td>\n",
              "      <td>0</td>\n",
              "      <td>0</td>\n",
              "      <td>0</td>\n",
              "      <td>0</td>\n",
              "      <td>0</td>\n",
              "      <td>0</td>\n",
              "      <td>0</td>\n",
              "      <td>0</td>\n",
              "      <td>0</td>\n",
              "      <td>0</td>\n",
              "      <td>0</td>\n",
              "      <td>0</td>\n",
              "      <td>0</td>\n",
              "      <td>0</td>\n",
              "      <td>0</td>\n",
              "      <td>0</td>\n",
              "    </tr>\n",
              "    <tr>\n",
              "      <th>...</th>\n",
              "      <td>...</td>\n",
              "      <td>...</td>\n",
              "      <td>...</td>\n",
              "      <td>...</td>\n",
              "      <td>...</td>\n",
              "      <td>...</td>\n",
              "      <td>...</td>\n",
              "      <td>...</td>\n",
              "      <td>...</td>\n",
              "      <td>...</td>\n",
              "      <td>...</td>\n",
              "      <td>...</td>\n",
              "      <td>...</td>\n",
              "      <td>...</td>\n",
              "      <td>...</td>\n",
              "      <td>...</td>\n",
              "      <td>...</td>\n",
              "      <td>...</td>\n",
              "      <td>...</td>\n",
              "      <td>...</td>\n",
              "      <td>...</td>\n",
              "      <td>...</td>\n",
              "      <td>...</td>\n",
              "      <td>...</td>\n",
              "      <td>...</td>\n",
              "      <td>...</td>\n",
              "      <td>...</td>\n",
              "      <td>...</td>\n",
              "      <td>...</td>\n",
              "      <td>...</td>\n",
              "      <td>...</td>\n",
              "      <td>...</td>\n",
              "      <td>...</td>\n",
              "      <td>...</td>\n",
              "      <td>...</td>\n",
              "      <td>...</td>\n",
              "      <td>...</td>\n",
              "      <td>...</td>\n",
              "      <td>...</td>\n",
              "      <td>...</td>\n",
              "      <td>...</td>\n",
              "      <td>...</td>\n",
              "      <td>...</td>\n",
              "      <td>...</td>\n",
              "      <td>...</td>\n",
              "      <td>...</td>\n",
              "      <td>...</td>\n",
              "      <td>...</td>\n",
              "      <td>...</td>\n",
              "      <td>...</td>\n",
              "      <td>...</td>\n",
              "      <td>...</td>\n",
              "      <td>...</td>\n",
              "      <td>...</td>\n",
              "      <td>...</td>\n",
              "      <td>...</td>\n",
              "      <td>...</td>\n",
              "      <td>...</td>\n",
              "      <td>...</td>\n",
              "      <td>...</td>\n",
              "      <td>...</td>\n",
              "      <td>...</td>\n",
              "      <td>...</td>\n",
              "      <td>...</td>\n",
              "      <td>...</td>\n",
              "      <td>...</td>\n",
              "      <td>...</td>\n",
              "      <td>...</td>\n",
              "      <td>...</td>\n",
              "      <td>...</td>\n",
              "      <td>...</td>\n",
              "      <td>...</td>\n",
              "      <td>...</td>\n",
              "      <td>...</td>\n",
              "      <td>...</td>\n",
              "      <td>...</td>\n",
              "      <td>...</td>\n",
              "      <td>...</td>\n",
              "      <td>...</td>\n",
              "      <td>...</td>\n",
              "      <td>...</td>\n",
              "    </tr>\n",
              "    <tr>\n",
              "      <th>7498</th>\n",
              "      <td>0</td>\n",
              "      <td>0</td>\n",
              "      <td>0</td>\n",
              "      <td>0</td>\n",
              "      <td>0</td>\n",
              "      <td>0</td>\n",
              "      <td>0</td>\n",
              "      <td>0</td>\n",
              "      <td>0</td>\n",
              "      <td>0</td>\n",
              "      <td>0</td>\n",
              "      <td>0</td>\n",
              "      <td>0</td>\n",
              "      <td>0</td>\n",
              "      <td>0</td>\n",
              "      <td>0</td>\n",
              "      <td>0</td>\n",
              "      <td>0</td>\n",
              "      <td>0</td>\n",
              "      <td>0</td>\n",
              "      <td>0</td>\n",
              "      <td>0</td>\n",
              "      <td>0</td>\n",
              "      <td>0</td>\n",
              "      <td>0</td>\n",
              "      <td>0</td>\n",
              "      <td>0</td>\n",
              "      <td>0</td>\n",
              "      <td>0</td>\n",
              "      <td>0</td>\n",
              "      <td>0</td>\n",
              "      <td>0</td>\n",
              "      <td>0</td>\n",
              "      <td>0</td>\n",
              "      <td>0</td>\n",
              "      <td>0</td>\n",
              "      <td>0</td>\n",
              "      <td>0</td>\n",
              "      <td>0</td>\n",
              "      <td>0</td>\n",
              "      <td>...</td>\n",
              "      <td>0</td>\n",
              "      <td>0</td>\n",
              "      <td>0</td>\n",
              "      <td>0</td>\n",
              "      <td>0</td>\n",
              "      <td>0</td>\n",
              "      <td>0</td>\n",
              "      <td>0</td>\n",
              "      <td>0</td>\n",
              "      <td>0</td>\n",
              "      <td>0</td>\n",
              "      <td>0</td>\n",
              "      <td>0</td>\n",
              "      <td>0</td>\n",
              "      <td>0</td>\n",
              "      <td>0</td>\n",
              "      <td>0</td>\n",
              "      <td>0</td>\n",
              "      <td>0</td>\n",
              "      <td>0</td>\n",
              "      <td>0</td>\n",
              "      <td>0</td>\n",
              "      <td>0</td>\n",
              "      <td>0</td>\n",
              "      <td>0</td>\n",
              "      <td>0</td>\n",
              "      <td>0</td>\n",
              "      <td>0</td>\n",
              "      <td>0</td>\n",
              "      <td>0</td>\n",
              "      <td>0</td>\n",
              "      <td>0</td>\n",
              "      <td>0</td>\n",
              "      <td>0</td>\n",
              "      <td>0</td>\n",
              "      <td>0</td>\n",
              "      <td>0</td>\n",
              "      <td>0</td>\n",
              "      <td>0</td>\n",
              "      <td>0</td>\n",
              "    </tr>\n",
              "    <tr>\n",
              "      <th>7499</th>\n",
              "      <td>0</td>\n",
              "      <td>0</td>\n",
              "      <td>0</td>\n",
              "      <td>0</td>\n",
              "      <td>0</td>\n",
              "      <td>0</td>\n",
              "      <td>0</td>\n",
              "      <td>0</td>\n",
              "      <td>0</td>\n",
              "      <td>0</td>\n",
              "      <td>0</td>\n",
              "      <td>0</td>\n",
              "      <td>0</td>\n",
              "      <td>0</td>\n",
              "      <td>0</td>\n",
              "      <td>0</td>\n",
              "      <td>0</td>\n",
              "      <td>0</td>\n",
              "      <td>0</td>\n",
              "      <td>0</td>\n",
              "      <td>0</td>\n",
              "      <td>0</td>\n",
              "      <td>0</td>\n",
              "      <td>0</td>\n",
              "      <td>0</td>\n",
              "      <td>0</td>\n",
              "      <td>0</td>\n",
              "      <td>0</td>\n",
              "      <td>0</td>\n",
              "      <td>0</td>\n",
              "      <td>0</td>\n",
              "      <td>0</td>\n",
              "      <td>0</td>\n",
              "      <td>0</td>\n",
              "      <td>0</td>\n",
              "      <td>0</td>\n",
              "      <td>0</td>\n",
              "      <td>0</td>\n",
              "      <td>0</td>\n",
              "      <td>0</td>\n",
              "      <td>...</td>\n",
              "      <td>0</td>\n",
              "      <td>0</td>\n",
              "      <td>0</td>\n",
              "      <td>0</td>\n",
              "      <td>0</td>\n",
              "      <td>0</td>\n",
              "      <td>0</td>\n",
              "      <td>0</td>\n",
              "      <td>0</td>\n",
              "      <td>0</td>\n",
              "      <td>0</td>\n",
              "      <td>0</td>\n",
              "      <td>0</td>\n",
              "      <td>0</td>\n",
              "      <td>0</td>\n",
              "      <td>0</td>\n",
              "      <td>0</td>\n",
              "      <td>0</td>\n",
              "      <td>0</td>\n",
              "      <td>0</td>\n",
              "      <td>0</td>\n",
              "      <td>0</td>\n",
              "      <td>0</td>\n",
              "      <td>0</td>\n",
              "      <td>0</td>\n",
              "      <td>0</td>\n",
              "      <td>0</td>\n",
              "      <td>0</td>\n",
              "      <td>0</td>\n",
              "      <td>0</td>\n",
              "      <td>0</td>\n",
              "      <td>0</td>\n",
              "      <td>0</td>\n",
              "      <td>0</td>\n",
              "      <td>0</td>\n",
              "      <td>0</td>\n",
              "      <td>0</td>\n",
              "      <td>0</td>\n",
              "      <td>0</td>\n",
              "      <td>0</td>\n",
              "    </tr>\n",
              "    <tr>\n",
              "      <th>7500</th>\n",
              "      <td>0</td>\n",
              "      <td>0</td>\n",
              "      <td>0</td>\n",
              "      <td>0</td>\n",
              "      <td>0</td>\n",
              "      <td>0</td>\n",
              "      <td>0</td>\n",
              "      <td>0</td>\n",
              "      <td>0</td>\n",
              "      <td>0</td>\n",
              "      <td>0</td>\n",
              "      <td>0</td>\n",
              "      <td>0</td>\n",
              "      <td>0</td>\n",
              "      <td>0</td>\n",
              "      <td>0</td>\n",
              "      <td>0</td>\n",
              "      <td>0</td>\n",
              "      <td>0</td>\n",
              "      <td>0</td>\n",
              "      <td>0</td>\n",
              "      <td>0</td>\n",
              "      <td>0</td>\n",
              "      <td>0</td>\n",
              "      <td>0</td>\n",
              "      <td>0</td>\n",
              "      <td>0</td>\n",
              "      <td>0</td>\n",
              "      <td>0</td>\n",
              "      <td>0</td>\n",
              "      <td>0</td>\n",
              "      <td>0</td>\n",
              "      <td>0</td>\n",
              "      <td>0</td>\n",
              "      <td>0</td>\n",
              "      <td>0</td>\n",
              "      <td>0</td>\n",
              "      <td>0</td>\n",
              "      <td>0</td>\n",
              "      <td>0</td>\n",
              "      <td>...</td>\n",
              "      <td>0</td>\n",
              "      <td>0</td>\n",
              "      <td>0</td>\n",
              "      <td>0</td>\n",
              "      <td>0</td>\n",
              "      <td>0</td>\n",
              "      <td>0</td>\n",
              "      <td>0</td>\n",
              "      <td>0</td>\n",
              "      <td>0</td>\n",
              "      <td>0</td>\n",
              "      <td>0</td>\n",
              "      <td>0</td>\n",
              "      <td>0</td>\n",
              "      <td>0</td>\n",
              "      <td>0</td>\n",
              "      <td>0</td>\n",
              "      <td>0</td>\n",
              "      <td>0</td>\n",
              "      <td>0</td>\n",
              "      <td>0</td>\n",
              "      <td>0</td>\n",
              "      <td>0</td>\n",
              "      <td>0</td>\n",
              "      <td>0</td>\n",
              "      <td>0</td>\n",
              "      <td>0</td>\n",
              "      <td>0</td>\n",
              "      <td>0</td>\n",
              "      <td>0</td>\n",
              "      <td>0</td>\n",
              "      <td>0</td>\n",
              "      <td>0</td>\n",
              "      <td>0</td>\n",
              "      <td>0</td>\n",
              "      <td>0</td>\n",
              "      <td>0</td>\n",
              "      <td>0</td>\n",
              "      <td>0</td>\n",
              "      <td>0</td>\n",
              "    </tr>\n",
              "    <tr>\n",
              "      <th>7501</th>\n",
              "      <td>0</td>\n",
              "      <td>0</td>\n",
              "      <td>0</td>\n",
              "      <td>0</td>\n",
              "      <td>0</td>\n",
              "      <td>0</td>\n",
              "      <td>0</td>\n",
              "      <td>0</td>\n",
              "      <td>0</td>\n",
              "      <td>0</td>\n",
              "      <td>0</td>\n",
              "      <td>0</td>\n",
              "      <td>0</td>\n",
              "      <td>0</td>\n",
              "      <td>0</td>\n",
              "      <td>0</td>\n",
              "      <td>0</td>\n",
              "      <td>0</td>\n",
              "      <td>0</td>\n",
              "      <td>0</td>\n",
              "      <td>0</td>\n",
              "      <td>0</td>\n",
              "      <td>0</td>\n",
              "      <td>0</td>\n",
              "      <td>0</td>\n",
              "      <td>0</td>\n",
              "      <td>0</td>\n",
              "      <td>0</td>\n",
              "      <td>0</td>\n",
              "      <td>0</td>\n",
              "      <td>0</td>\n",
              "      <td>0</td>\n",
              "      <td>0</td>\n",
              "      <td>0</td>\n",
              "      <td>0</td>\n",
              "      <td>0</td>\n",
              "      <td>0</td>\n",
              "      <td>0</td>\n",
              "      <td>0</td>\n",
              "      <td>0</td>\n",
              "      <td>...</td>\n",
              "      <td>0</td>\n",
              "      <td>0</td>\n",
              "      <td>0</td>\n",
              "      <td>0</td>\n",
              "      <td>0</td>\n",
              "      <td>0</td>\n",
              "      <td>0</td>\n",
              "      <td>0</td>\n",
              "      <td>0</td>\n",
              "      <td>0</td>\n",
              "      <td>0</td>\n",
              "      <td>0</td>\n",
              "      <td>0</td>\n",
              "      <td>0</td>\n",
              "      <td>0</td>\n",
              "      <td>0</td>\n",
              "      <td>0</td>\n",
              "      <td>0</td>\n",
              "      <td>0</td>\n",
              "      <td>0</td>\n",
              "      <td>0</td>\n",
              "      <td>0</td>\n",
              "      <td>0</td>\n",
              "      <td>0</td>\n",
              "      <td>0</td>\n",
              "      <td>0</td>\n",
              "      <td>0</td>\n",
              "      <td>0</td>\n",
              "      <td>0</td>\n",
              "      <td>0</td>\n",
              "      <td>0</td>\n",
              "      <td>0</td>\n",
              "      <td>0</td>\n",
              "      <td>0</td>\n",
              "      <td>0</td>\n",
              "      <td>0</td>\n",
              "      <td>0</td>\n",
              "      <td>0</td>\n",
              "      <td>0</td>\n",
              "      <td>0</td>\n",
              "    </tr>\n",
              "    <tr>\n",
              "      <th>7502</th>\n",
              "      <td>0</td>\n",
              "      <td>0</td>\n",
              "      <td>0</td>\n",
              "      <td>0</td>\n",
              "      <td>0</td>\n",
              "      <td>0</td>\n",
              "      <td>0</td>\n",
              "      <td>0</td>\n",
              "      <td>0</td>\n",
              "      <td>0</td>\n",
              "      <td>0</td>\n",
              "      <td>0</td>\n",
              "      <td>0</td>\n",
              "      <td>0</td>\n",
              "      <td>0</td>\n",
              "      <td>0</td>\n",
              "      <td>0</td>\n",
              "      <td>0</td>\n",
              "      <td>0</td>\n",
              "      <td>0</td>\n",
              "      <td>0</td>\n",
              "      <td>0</td>\n",
              "      <td>0</td>\n",
              "      <td>0</td>\n",
              "      <td>0</td>\n",
              "      <td>0</td>\n",
              "      <td>0</td>\n",
              "      <td>0</td>\n",
              "      <td>0</td>\n",
              "      <td>0</td>\n",
              "      <td>0</td>\n",
              "      <td>0</td>\n",
              "      <td>0</td>\n",
              "      <td>0</td>\n",
              "      <td>0</td>\n",
              "      <td>0</td>\n",
              "      <td>0</td>\n",
              "      <td>0</td>\n",
              "      <td>0</td>\n",
              "      <td>0</td>\n",
              "      <td>...</td>\n",
              "      <td>0</td>\n",
              "      <td>0</td>\n",
              "      <td>0</td>\n",
              "      <td>0</td>\n",
              "      <td>0</td>\n",
              "      <td>0</td>\n",
              "      <td>0</td>\n",
              "      <td>0</td>\n",
              "      <td>0</td>\n",
              "      <td>0</td>\n",
              "      <td>0</td>\n",
              "      <td>0</td>\n",
              "      <td>0</td>\n",
              "      <td>0</td>\n",
              "      <td>0</td>\n",
              "      <td>0</td>\n",
              "      <td>0</td>\n",
              "      <td>0</td>\n",
              "      <td>0</td>\n",
              "      <td>0</td>\n",
              "      <td>0</td>\n",
              "      <td>0</td>\n",
              "      <td>0</td>\n",
              "      <td>0</td>\n",
              "      <td>0</td>\n",
              "      <td>0</td>\n",
              "      <td>0</td>\n",
              "      <td>0</td>\n",
              "      <td>0</td>\n",
              "      <td>0</td>\n",
              "      <td>0</td>\n",
              "      <td>0</td>\n",
              "      <td>0</td>\n",
              "      <td>0</td>\n",
              "      <td>0</td>\n",
              "      <td>0</td>\n",
              "      <td>0</td>\n",
              "      <td>0</td>\n",
              "      <td>0</td>\n",
              "      <td>0</td>\n",
              "    </tr>\n",
              "  </tbody>\n",
              "</table>\n",
              "<p>7503 rows × 21363 columns</p>\n",
              "</div>"
            ],
            "text/plain": [
              "      00  000  0000  007npen6lg  ...  ûókody  ûónegligence  ûótech  ûówe\n",
              "0      0    0     0           0  ...       0             0       0     0\n",
              "1      0    0     0           0  ...       0             0       0     0\n",
              "2      0    0     0           0  ...       0             0       0     0\n",
              "3      0    1     0           0  ...       0             0       0     0\n",
              "4      0    0     0           0  ...       0             0       0     0\n",
              "...   ..  ...   ...         ...  ...     ...           ...     ...   ...\n",
              "7498   0    0     0           0  ...       0             0       0     0\n",
              "7499   0    0     0           0  ...       0             0       0     0\n",
              "7500   0    0     0           0  ...       0             0       0     0\n",
              "7501   0    0     0           0  ...       0             0       0     0\n",
              "7502   0    0     0           0  ...       0             0       0     0\n",
              "\n",
              "[7503 rows x 21363 columns]"
            ]
          },
          "metadata": {
            "tags": []
          },
          "execution_count": 129
        }
      ]
    },
    {
      "cell_type": "markdown",
      "metadata": {
        "id": "mfGzZKq36MDN",
        "colab_type": "text"
      },
      "source": [
        "### Set de datos de **Pruebas** y de **Entrenamiento**"
      ]
    },
    {
      "cell_type": "code",
      "metadata": {
        "id": "TBYTNqQQ6loW",
        "colab_type": "code",
        "colab": {}
      },
      "source": [
        "# Divido los conjuntos de entrenamiento y test\n",
        "X_train, X_test, y_train, y_test= train_test_split(df_train_merged_final['text'],\\\n",
        "                                                   df_train_merged_final['target'], random_state=1)"
      ],
      "execution_count": 0,
      "outputs": []
    },
    {
      "cell_type": "code",
      "metadata": {
        "id": "Scv5P2MC6lln",
        "colab_type": "code",
        "colab": {
          "base_uri": "https://localhost:8080/",
          "height": 34
        },
        "outputId": "575d37e5-6bb4-4f4e-ba5a-b77ec8c524a1"
      },
      "source": [
        "print('Cant total de filas en el set de datos: {}'.format(df_train_merged_final.shape[0]))"
      ],
      "execution_count": 131,
      "outputs": [
        {
          "output_type": "stream",
          "text": [
            "Cant total de filas en el set de datos: 7503\n"
          ],
          "name": "stdout"
        }
      ]
    },
    {
      "cell_type": "code",
      "metadata": {
        "id": "0hYscw0m6ljO",
        "colab_type": "code",
        "colab": {
          "base_uri": "https://localhost:8080/",
          "height": 34
        },
        "outputId": "e054a219-19e5-4d28-97f9-de3dfe11c868"
      },
      "source": [
        "print('Cant de filas en el set de datos de entrenamiento: {}'.format(X_train.shape[0]))"
      ],
      "execution_count": 132,
      "outputs": [
        {
          "output_type": "stream",
          "text": [
            "Cant de filas en el set de datos de entrenamiento: 5627\n"
          ],
          "name": "stdout"
        }
      ]
    },
    {
      "cell_type": "code",
      "metadata": {
        "id": "aWlbGt2B6lcc",
        "colab_type": "code",
        "colab": {
          "base_uri": "https://localhost:8080/",
          "height": 34
        },
        "outputId": "92de1389-d618-44d5-c547-0233c27c6fe8"
      },
      "source": [
        "print('Cant de filas en el set de datos de pruebas: {}'.format(X_test.shape[0]))"
      ],
      "execution_count": 133,
      "outputs": [
        {
          "output_type": "stream",
          "text": [
            "Cant de filas en el set de datos de pruebas: 1876\n"
          ],
          "name": "stdout"
        }
      ]
    },
    {
      "cell_type": "markdown",
      "metadata": {
        "id": "j9Wytcbt96Cv",
        "colab_type": "text"
      },
      "source": [
        "### Ejecución de BoW para procesar los datos de pruebas"
      ]
    },
    {
      "cell_type": "code",
      "metadata": {
        "id": "STrELXAU964n",
        "colab_type": "code",
        "colab": {}
      },
      "source": [
        "# Iniciamos el metodo countvectorizer otra vez\n",
        "count_vector=CountVectorizer()"
      ],
      "execution_count": 0,
      "outputs": []
    },
    {
      "cell_type": "code",
      "metadata": {
        "id": "VvGFgYu597m4",
        "colab_type": "code",
        "colab": {
          "base_uri": "https://localhost:8080/",
          "height": 51
        },
        "outputId": "4f6e431e-acb0-4c2f-ce99-9dea515b756c"
      },
      "source": [
        "# Ajustamos el set de entrenamiento\n",
        "training_data=count_vector.fit_transform(X_train)\n",
        "training_data"
      ],
      "execution_count": 135,
      "outputs": [
        {
          "output_type": "execute_result",
          "data": {
            "text/plain": [
              "<5627x17768 sparse matrix of type '<class 'numpy.int64'>'\n",
              "\twith 81986 stored elements in Compressed Sparse Row format>"
            ]
          },
          "metadata": {
            "tags": []
          },
          "execution_count": 135
        }
      ]
    },
    {
      "cell_type": "code",
      "metadata": {
        "id": "GrSj8-SI97b3",
        "colab_type": "code",
        "colab": {
          "base_uri": "https://localhost:8080/",
          "height": 51
        },
        "outputId": "5076df7a-3959-405f-a404-cf01b694c8b1"
      },
      "source": [
        "# Ajustamos el set de pruebas\n",
        "testing_data=count_vector.transform(X_test)\n",
        "testing_data"
      ],
      "execution_count": 136,
      "outputs": [
        {
          "output_type": "execute_result",
          "data": {
            "text/plain": [
              "<1876x17768 sparse matrix of type '<class 'numpy.int64'>'\n",
              "\twith 23763 stored elements in Compressed Sparse Row format>"
            ]
          },
          "metadata": {
            "tags": []
          },
          "execution_count": 136
        }
      ]
    },
    {
      "cell_type": "markdown",
      "metadata": {
        "id": "8qyUmBK0_Ska",
        "colab_type": "text"
      },
      "source": [
        "### Implementación de Naives Bayes Multinomial para clasificar"
      ]
    },
    {
      "cell_type": "code",
      "metadata": {
        "id": "eW6VYe9f_ZOa",
        "colab_type": "code",
        "outputId": "daee7f0f-63e8-4c14-f802-4b6f191527dd",
        "colab": {
          "base_uri": "https://localhost:8080/",
          "height": 34
        }
      },
      "source": [
        "# Iniciamos los metodos y ajustamos los datos en el clasificador\n",
        "naives_bayes=MultinomialNB()\n",
        "naives_bayes.fit(training_data, y_train)\n",
        "naives_bayes.fit(testing_data, y_test)"
      ],
      "execution_count": 137,
      "outputs": [
        {
          "output_type": "execute_result",
          "data": {
            "text/plain": [
              "MultinomialNB(alpha=1.0, class_prior=None, fit_prior=True)"
            ]
          },
          "metadata": {
            "tags": []
          },
          "execution_count": 137
        }
      ]
    },
    {
      "cell_type": "code",
      "metadata": {
        "id": "ZEQQ5nyz_ZMu",
        "colab_type": "code",
        "colab": {}
      },
      "source": [
        "# Realizamos predicción con el conjunto de pruebas\n",
        "predicciones=naives_bayes.predict(testing_data)"
      ],
      "execution_count": 0,
      "outputs": []
    },
    {
      "cell_type": "markdown",
      "metadata": {
        "id": "sz03FS0sD7bn",
        "colab_type": "text"
      },
      "source": [
        "### Evaluación del modelo\n",
        "\n",
        "Para todas las mediciones - cuyo rango de probabilidad es entre o y 1 - tener una puntuación cercana al valor 1 es buen estimador del comportamiento del modelo\n"
      ]
    },
    {
      "cell_type": "code",
      "metadata": {
        "id": "UZGFCTGW_ZI7",
        "colab_type": "code",
        "colab": {
          "base_uri": "https://localhost:8080/",
          "height": 34
        },
        "outputId": "86dde81d-a615-4dcb-9c45-4775add12793"
      },
      "source": [
        "# El accuracy informa cómo el clasificador realiza la predicción correcta de tweets\n",
        "print(\"Accuracy: \",format(accuracy_score(y_test,predicciones)))"
      ],
      "execution_count": 144,
      "outputs": [
        {
          "output_type": "stream",
          "text": [
            "Accuracy:  0.8960554371002132\n"
          ],
          "name": "stdout"
        }
      ]
    },
    {
      "cell_type": "code",
      "metadata": {
        "id": "gyyr9bI2_ZGz",
        "colab_type": "code",
        "colab": {
          "base_uri": "https://localhost:8080/",
          "height": 34
        },
        "outputId": "d522f6ae-6a1f-4569-a1c5-b9e2201d0b43"
      },
      "source": [
        "# La precisión informa la proporción de tweets que clasificamos como verdaderos\n",
        "print(\"Métrica de Precisión del Modelo: \",format(precision_score(y_test,predicciones)))"
      ],
      "execution_count": 141,
      "outputs": [
        {
          "output_type": "stream",
          "text": [
            "Métrica de Precisión del Modelo:  0.9457013574660633\n"
          ],
          "name": "stdout"
        }
      ]
    },
    {
      "cell_type": "code",
      "metadata": {
        "id": "G55sz_gJ_ZEj",
        "colab_type": "code",
        "colab": {
          "base_uri": "https://localhost:8080/",
          "height": 34
        },
        "outputId": "48ca55c2-b678-4f02-f392-5122a2dd0495"
      },
      "source": [
        "# La confianza o recall, da la proporción que realmente era verdadero y fueron clasificados como tal.\n",
        "print(\"Confianza o recall del Modelo: \",format(f1_score(y_test, predicciones)))"
      ],
      "execution_count": 145,
      "outputs": [
        {
          "output_type": "stream",
          "text": [
            "Confianza o recall del Modelo:  0.8654244306418221\n"
          ],
          "name": "stdout"
        }
      ]
    }
  ]
}
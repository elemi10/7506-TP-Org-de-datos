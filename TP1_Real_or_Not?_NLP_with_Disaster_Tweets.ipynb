{
  "nbformat": 4,
  "nbformat_minor": 0,
  "metadata": {
    "colab": {
      "name": "TP1 - Real or Not? NLP with Disaster Tweets.ipynb",
      "provenance": [],
      "authorship_tag": "ABX9TyPvKAsACVWuXo0D8fHHoTOb",
      "include_colab_link": true
    },
    "kernelspec": {
      "name": "python3",
      "display_name": "Python 3"
    }
  },
  "cells": [
    {
      "cell_type": "markdown",
      "metadata": {
        "id": "view-in-github",
        "colab_type": "text"
      },
      "source": [
        "<a href=\"https://colab.research.google.com/github/elemi10/7506-TP-Org-de-datos/blob/7506-Trabajo-Practico-1/TP1_Real_or_Not%3F_NLP_with_Disaster_Tweets.ipynb\" target=\"_parent\"><img src=\"https://colab.research.google.com/assets/colab-badge.svg\" alt=\"Open In Colab\"/></a>"
      ]
    },
    {
      "cell_type": "markdown",
      "metadata": {
        "id": "1InmVmMaAVWi",
        "colab_type": "text"
      },
      "source": [
        "\n",
        "# **TP1 - Real or Not?**\n",
        "\n",
        "###  **Análisis exploratorio**"
      ]
    },
    {
      "cell_type": "markdown",
      "metadata": {
        "id": "P0VGmxF3Ad7i",
        "colab_type": "text"
      },
      "source": [
        "![Banner_TP1.png](https://drive.google.com/uc?id=1BPA2RF1SDm9bTs1xZfVUa1VQn932E3wr)\n"
      ]
    },
    {
      "cell_type": "code",
      "metadata": {
        "id": "6Hv3GeApYzRD",
        "colab_type": "code",
        "colab": {}
      },
      "source": [
        "#IMPORT FILES FROM DRIVE INTO GOOGLE-COLAB:\n",
        "\n",
        "#STEP-1: Import Libraries\n",
        "\n",
        "# Code to read csv file into colaboratory:\n",
        "!pip install -U -q PyDrive\n",
        "from pydrive.auth import GoogleAuth\n",
        "from pydrive.drive import GoogleDrive\n",
        "from google.colab import auth\n",
        "from oauth2client.client import GoogleCredentials"
      ],
      "execution_count": 0,
      "outputs": []
    },
    {
      "cell_type": "code",
      "metadata": {
        "id": "VS-CAKCUZkxX",
        "colab_type": "code",
        "colab": {}
      },
      "source": [
        "#STEP-2: Autheticate E-Mail ID\n",
        "\n",
        "auth.authenticate_user()\n",
        "gauth = GoogleAuth()\n",
        "gauth.credentials = GoogleCredentials.get_application_default()\n",
        "drive = GoogleDrive(gauth)"
      ],
      "execution_count": 0,
      "outputs": []
    },
    {
      "cell_type": "code",
      "metadata": {
        "id": "xU-qkOQvZ17M",
        "colab_type": "code",
        "colab": {}
      },
      "source": [
        "#STEP-3: Get File from Drive using file-ID\n",
        "\n",
        "#2.1 Get the file\n",
        "downloaded = drive.CreateFile({'id':'1RAGDjlzJ6spO5Sq8_x3UTIvxLhKAUBEt'}) # replace the id with id of file you want to access\n",
        "downloaded.GetContentFile('train.csv') \n",
        "\n",
        "#downloaded = drive.CreateFile({'id':'17pAgG9oJRK1bAFWRKkp96__zicG6yUmy'}) # replace the id with id of file you want to access\n",
        "#downloaded.GetContentFile('test.csv') \n",
        "\n",
        "#downloaded = drive.CreateFile({'id':'1u8v51BT7FZggIRD-eo0dQno--0wlxIhA'}) # replace the id with id of file you want to access\n",
        "#downloaded.GetContentFile('sample_submission.csv') \n"
      ],
      "execution_count": 0,
      "outputs": []
    },
    {
      "cell_type": "code",
      "metadata": {
        "id": "x7kd9R6i4AnE",
        "colab_type": "code",
        "colab": {}
      },
      "source": [
        "#STEP-4: Import Libraries\n",
        "\n",
        "import pandas as pd\n",
        "import numpy as np\n",
        "import seaborn as sns\n",
        "import matplotlib.pyplot as plt\n",
        "from matplotlib import colors\n",
        "import datetime as dt\n",
        "import scipy as sp\n",
        "#from sklearn.cross_validation import train_test_split -- no levanta\n",
        "%matplotlib inline\n",
        "plt.rcParams['figure.figsize'] = (16,9)\n",
        "plt.style.use('default') # mejoramos esteticamente un poco los gráficos en matplotlib\n",
        "sns.set(style='whitegrid') # seteando tipo de grid en seaborn\n",
        "\n",
        "from sklearn.model_selection import train_test_split\n",
        "from sklearn.metrics import classification_report\n",
        "from sklearn.metrics import confusion_matrix\n",
        "from sklearn.naive_bayes import GaussianNB\n",
        "from sklearn.feature_selection import SelectKBest\n",
        "from sklearn import datasets, linear_model"
      ],
      "execution_count": 0,
      "outputs": []
    },
    {
      "cell_type": "markdown",
      "metadata": {
        "id": "-XLYMHBGLpqw",
        "colab_type": "text"
      },
      "source": [
        "### Levantamos archivo **train.csv**\n"
      ]
    },
    {
      "cell_type": "code",
      "metadata": {
        "id": "8rnYnjb0cAOC",
        "colab_type": "code",
        "outputId": "e28fc72c-829b-4fb3-d0a2-c6486a006a45",
        "colab": {
          "base_uri": "https://localhost:8080/",
          "height": 359
        }
      },
      "source": [
        "df_train = pd.read_csv(r'train.csv', usecols=['keyword','location','text','target']) \n",
        "df_train.head(10)"
      ],
      "execution_count": 134,
      "outputs": [
        {
          "output_type": "execute_result",
          "data": {
            "text/html": [
              "<div>\n",
              "<style scoped>\n",
              "    .dataframe tbody tr th:only-of-type {\n",
              "        vertical-align: middle;\n",
              "    }\n",
              "\n",
              "    .dataframe tbody tr th {\n",
              "        vertical-align: top;\n",
              "    }\n",
              "\n",
              "    .dataframe thead th {\n",
              "        text-align: right;\n",
              "    }\n",
              "</style>\n",
              "<table border=\"1\" class=\"dataframe\">\n",
              "  <thead>\n",
              "    <tr style=\"text-align: right;\">\n",
              "      <th></th>\n",
              "      <th>keyword</th>\n",
              "      <th>location</th>\n",
              "      <th>text</th>\n",
              "      <th>target</th>\n",
              "    </tr>\n",
              "  </thead>\n",
              "  <tbody>\n",
              "    <tr>\n",
              "      <th>0</th>\n",
              "      <td>NaN</td>\n",
              "      <td>NaN</td>\n",
              "      <td>Our Deeds are the Reason of this #earthquake M...</td>\n",
              "      <td>1</td>\n",
              "    </tr>\n",
              "    <tr>\n",
              "      <th>1</th>\n",
              "      <td>NaN</td>\n",
              "      <td>NaN</td>\n",
              "      <td>Forest fire near La Ronge Sask. Canada</td>\n",
              "      <td>1</td>\n",
              "    </tr>\n",
              "    <tr>\n",
              "      <th>2</th>\n",
              "      <td>NaN</td>\n",
              "      <td>NaN</td>\n",
              "      <td>All residents asked to 'shelter in place' are ...</td>\n",
              "      <td>1</td>\n",
              "    </tr>\n",
              "    <tr>\n",
              "      <th>3</th>\n",
              "      <td>NaN</td>\n",
              "      <td>NaN</td>\n",
              "      <td>13,000 people receive #wildfires evacuation or...</td>\n",
              "      <td>1</td>\n",
              "    </tr>\n",
              "    <tr>\n",
              "      <th>4</th>\n",
              "      <td>NaN</td>\n",
              "      <td>NaN</td>\n",
              "      <td>Just got sent this photo from Ruby #Alaska as ...</td>\n",
              "      <td>1</td>\n",
              "    </tr>\n",
              "    <tr>\n",
              "      <th>5</th>\n",
              "      <td>NaN</td>\n",
              "      <td>NaN</td>\n",
              "      <td>#RockyFire Update =&gt; California Hwy. 20 closed...</td>\n",
              "      <td>1</td>\n",
              "    </tr>\n",
              "    <tr>\n",
              "      <th>6</th>\n",
              "      <td>NaN</td>\n",
              "      <td>NaN</td>\n",
              "      <td>#flood #disaster Heavy rain causes flash flood...</td>\n",
              "      <td>1</td>\n",
              "    </tr>\n",
              "    <tr>\n",
              "      <th>7</th>\n",
              "      <td>NaN</td>\n",
              "      <td>NaN</td>\n",
              "      <td>I'm on top of the hill and I can see a fire in...</td>\n",
              "      <td>1</td>\n",
              "    </tr>\n",
              "    <tr>\n",
              "      <th>8</th>\n",
              "      <td>NaN</td>\n",
              "      <td>NaN</td>\n",
              "      <td>There's an emergency evacuation happening now ...</td>\n",
              "      <td>1</td>\n",
              "    </tr>\n",
              "    <tr>\n",
              "      <th>9</th>\n",
              "      <td>NaN</td>\n",
              "      <td>NaN</td>\n",
              "      <td>I'm afraid that the tornado is coming to our a...</td>\n",
              "      <td>1</td>\n",
              "    </tr>\n",
              "  </tbody>\n",
              "</table>\n",
              "</div>"
            ],
            "text/plain": [
              "  keyword location                                               text  target\n",
              "0     NaN      NaN  Our Deeds are the Reason of this #earthquake M...       1\n",
              "1     NaN      NaN             Forest fire near La Ronge Sask. Canada       1\n",
              "2     NaN      NaN  All residents asked to 'shelter in place' are ...       1\n",
              "3     NaN      NaN  13,000 people receive #wildfires evacuation or...       1\n",
              "4     NaN      NaN  Just got sent this photo from Ruby #Alaska as ...       1\n",
              "5     NaN      NaN  #RockyFire Update => California Hwy. 20 closed...       1\n",
              "6     NaN      NaN  #flood #disaster Heavy rain causes flash flood...       1\n",
              "7     NaN      NaN  I'm on top of the hill and I can see a fire in...       1\n",
              "8     NaN      NaN  There's an emergency evacuation happening now ...       1\n",
              "9     NaN      NaN  I'm afraid that the tornado is coming to our a...       1"
            ]
          },
          "metadata": {
            "tags": []
          },
          "execution_count": 134
        }
      ]
    },
    {
      "cell_type": "code",
      "metadata": {
        "id": "1mB1ftGlOBvw",
        "colab_type": "code",
        "colab": {}
      },
      "source": [
        "# exporto a excel\n",
        "df_train.to_excel('df_train_preprocesado.xlsx')"
      ],
      "execution_count": 0,
      "outputs": []
    },
    {
      "cell_type": "code",
      "metadata": {
        "id": "n-5WTdfJL7_a",
        "colab_type": "code",
        "outputId": "582412f7-0f1b-4cc7-bec5-2ee714934956",
        "colab": {
          "base_uri": "https://localhost:8080/",
          "height": 204
        }
      },
      "source": [
        "df_train.info()\n",
        "# las variables 'keyword' y 'location' estan incompletas"
      ],
      "execution_count": 136,
      "outputs": [
        {
          "output_type": "stream",
          "text": [
            "<class 'pandas.core.frame.DataFrame'>\n",
            "RangeIndex: 7613 entries, 0 to 7612\n",
            "Data columns (total 4 columns):\n",
            " #   Column    Non-Null Count  Dtype \n",
            "---  ------    --------------  ----- \n",
            " 0   keyword   7552 non-null   object\n",
            " 1   location  5080 non-null   object\n",
            " 2   text      7613 non-null   object\n",
            " 3   target    7613 non-null   int64 \n",
            "dtypes: int64(1), object(3)\n",
            "memory usage: 238.0+ KB\n"
          ],
          "name": "stdout"
        }
      ]
    },
    {
      "cell_type": "code",
      "metadata": {
        "id": "zjaKNFRQcrIU",
        "colab_type": "code",
        "colab": {}
      },
      "source": [
        "#df_train['target'].value_counts()"
      ],
      "execution_count": 0,
      "outputs": []
    },
    {
      "cell_type": "markdown",
      "metadata": {
        "id": "wcMs9ZeQ1vQB",
        "colab_type": "text"
      },
      "source": [
        "### Creamos una variable para **contar total caracteres** del tweet"
      ]
    },
    {
      "cell_type": "code",
      "metadata": {
        "id": "khgW7TOVdQaf",
        "colab_type": "code",
        "outputId": "2730d4d8-da9e-42f0-eebc-d10c000569b2",
        "colab": {
          "base_uri": "https://localhost:8080/",
          "height": 669
        }
      },
      "source": [
        "# Creo una columna con el cálculo de las palabras que tiene la columna 'text' y la llamo 'caracteres_tweet'. \n",
        "# Despues consulto con un head()\n",
        "df_train['caracteres_tweet']=df_train['text'].str.len()\n",
        "df_train.head(20)"
      ],
      "execution_count": 138,
      "outputs": [
        {
          "output_type": "execute_result",
          "data": {
            "text/html": [
              "<div>\n",
              "<style scoped>\n",
              "    .dataframe tbody tr th:only-of-type {\n",
              "        vertical-align: middle;\n",
              "    }\n",
              "\n",
              "    .dataframe tbody tr th {\n",
              "        vertical-align: top;\n",
              "    }\n",
              "\n",
              "    .dataframe thead th {\n",
              "        text-align: right;\n",
              "    }\n",
              "</style>\n",
              "<table border=\"1\" class=\"dataframe\">\n",
              "  <thead>\n",
              "    <tr style=\"text-align: right;\">\n",
              "      <th></th>\n",
              "      <th>keyword</th>\n",
              "      <th>location</th>\n",
              "      <th>text</th>\n",
              "      <th>target</th>\n",
              "      <th>caracteres_tweet</th>\n",
              "    </tr>\n",
              "  </thead>\n",
              "  <tbody>\n",
              "    <tr>\n",
              "      <th>0</th>\n",
              "      <td>NaN</td>\n",
              "      <td>NaN</td>\n",
              "      <td>Our Deeds are the Reason of this #earthquake M...</td>\n",
              "      <td>1</td>\n",
              "      <td>69</td>\n",
              "    </tr>\n",
              "    <tr>\n",
              "      <th>1</th>\n",
              "      <td>NaN</td>\n",
              "      <td>NaN</td>\n",
              "      <td>Forest fire near La Ronge Sask. Canada</td>\n",
              "      <td>1</td>\n",
              "      <td>38</td>\n",
              "    </tr>\n",
              "    <tr>\n",
              "      <th>2</th>\n",
              "      <td>NaN</td>\n",
              "      <td>NaN</td>\n",
              "      <td>All residents asked to 'shelter in place' are ...</td>\n",
              "      <td>1</td>\n",
              "      <td>133</td>\n",
              "    </tr>\n",
              "    <tr>\n",
              "      <th>3</th>\n",
              "      <td>NaN</td>\n",
              "      <td>NaN</td>\n",
              "      <td>13,000 people receive #wildfires evacuation or...</td>\n",
              "      <td>1</td>\n",
              "      <td>65</td>\n",
              "    </tr>\n",
              "    <tr>\n",
              "      <th>4</th>\n",
              "      <td>NaN</td>\n",
              "      <td>NaN</td>\n",
              "      <td>Just got sent this photo from Ruby #Alaska as ...</td>\n",
              "      <td>1</td>\n",
              "      <td>88</td>\n",
              "    </tr>\n",
              "    <tr>\n",
              "      <th>5</th>\n",
              "      <td>NaN</td>\n",
              "      <td>NaN</td>\n",
              "      <td>#RockyFire Update =&gt; California Hwy. 20 closed...</td>\n",
              "      <td>1</td>\n",
              "      <td>110</td>\n",
              "    </tr>\n",
              "    <tr>\n",
              "      <th>6</th>\n",
              "      <td>NaN</td>\n",
              "      <td>NaN</td>\n",
              "      <td>#flood #disaster Heavy rain causes flash flood...</td>\n",
              "      <td>1</td>\n",
              "      <td>95</td>\n",
              "    </tr>\n",
              "    <tr>\n",
              "      <th>7</th>\n",
              "      <td>NaN</td>\n",
              "      <td>NaN</td>\n",
              "      <td>I'm on top of the hill and I can see a fire in...</td>\n",
              "      <td>1</td>\n",
              "      <td>59</td>\n",
              "    </tr>\n",
              "    <tr>\n",
              "      <th>8</th>\n",
              "      <td>NaN</td>\n",
              "      <td>NaN</td>\n",
              "      <td>There's an emergency evacuation happening now ...</td>\n",
              "      <td>1</td>\n",
              "      <td>79</td>\n",
              "    </tr>\n",
              "    <tr>\n",
              "      <th>9</th>\n",
              "      <td>NaN</td>\n",
              "      <td>NaN</td>\n",
              "      <td>I'm afraid that the tornado is coming to our a...</td>\n",
              "      <td>1</td>\n",
              "      <td>52</td>\n",
              "    </tr>\n",
              "    <tr>\n",
              "      <th>10</th>\n",
              "      <td>NaN</td>\n",
              "      <td>NaN</td>\n",
              "      <td>Three people died from the heat wave so far</td>\n",
              "      <td>1</td>\n",
              "      <td>43</td>\n",
              "    </tr>\n",
              "    <tr>\n",
              "      <th>11</th>\n",
              "      <td>NaN</td>\n",
              "      <td>NaN</td>\n",
              "      <td>Haha South Tampa is getting flooded hah- WAIT ...</td>\n",
              "      <td>1</td>\n",
              "      <td>129</td>\n",
              "    </tr>\n",
              "    <tr>\n",
              "      <th>12</th>\n",
              "      <td>NaN</td>\n",
              "      <td>NaN</td>\n",
              "      <td>#raining #flooding #Florida #TampaBay #Tampa 1...</td>\n",
              "      <td>1</td>\n",
              "      <td>76</td>\n",
              "    </tr>\n",
              "    <tr>\n",
              "      <th>13</th>\n",
              "      <td>NaN</td>\n",
              "      <td>NaN</td>\n",
              "      <td>#Flood in Bago Myanmar #We arrived Bago</td>\n",
              "      <td>1</td>\n",
              "      <td>39</td>\n",
              "    </tr>\n",
              "    <tr>\n",
              "      <th>14</th>\n",
              "      <td>NaN</td>\n",
              "      <td>NaN</td>\n",
              "      <td>Damage to school bus on 80 in multi car crash ...</td>\n",
              "      <td>1</td>\n",
              "      <td>56</td>\n",
              "    </tr>\n",
              "    <tr>\n",
              "      <th>15</th>\n",
              "      <td>NaN</td>\n",
              "      <td>NaN</td>\n",
              "      <td>What's up man?</td>\n",
              "      <td>0</td>\n",
              "      <td>14</td>\n",
              "    </tr>\n",
              "    <tr>\n",
              "      <th>16</th>\n",
              "      <td>NaN</td>\n",
              "      <td>NaN</td>\n",
              "      <td>I love fruits</td>\n",
              "      <td>0</td>\n",
              "      <td>13</td>\n",
              "    </tr>\n",
              "    <tr>\n",
              "      <th>17</th>\n",
              "      <td>NaN</td>\n",
              "      <td>NaN</td>\n",
              "      <td>Summer is lovely</td>\n",
              "      <td>0</td>\n",
              "      <td>16</td>\n",
              "    </tr>\n",
              "    <tr>\n",
              "      <th>18</th>\n",
              "      <td>NaN</td>\n",
              "      <td>NaN</td>\n",
              "      <td>My car is so fast</td>\n",
              "      <td>0</td>\n",
              "      <td>17</td>\n",
              "    </tr>\n",
              "    <tr>\n",
              "      <th>19</th>\n",
              "      <td>NaN</td>\n",
              "      <td>NaN</td>\n",
              "      <td>What a goooooooaaaaaal!!!!!!</td>\n",
              "      <td>0</td>\n",
              "      <td>28</td>\n",
              "    </tr>\n",
              "  </tbody>\n",
              "</table>\n",
              "</div>"
            ],
            "text/plain": [
              "   keyword location  ... target  caracteres_tweet\n",
              "0      NaN      NaN  ...      1                69\n",
              "1      NaN      NaN  ...      1                38\n",
              "2      NaN      NaN  ...      1               133\n",
              "3      NaN      NaN  ...      1                65\n",
              "4      NaN      NaN  ...      1                88\n",
              "5      NaN      NaN  ...      1               110\n",
              "6      NaN      NaN  ...      1                95\n",
              "7      NaN      NaN  ...      1                59\n",
              "8      NaN      NaN  ...      1                79\n",
              "9      NaN      NaN  ...      1                52\n",
              "10     NaN      NaN  ...      1                43\n",
              "11     NaN      NaN  ...      1               129\n",
              "12     NaN      NaN  ...      1                76\n",
              "13     NaN      NaN  ...      1                39\n",
              "14     NaN      NaN  ...      1                56\n",
              "15     NaN      NaN  ...      0                14\n",
              "16     NaN      NaN  ...      0                13\n",
              "17     NaN      NaN  ...      0                16\n",
              "18     NaN      NaN  ...      0                17\n",
              "19     NaN      NaN  ...      0                28\n",
              "\n",
              "[20 rows x 5 columns]"
            ]
          },
          "metadata": {
            "tags": []
          },
          "execution_count": 138
        }
      ]
    },
    {
      "cell_type": "code",
      "metadata": {
        "id": "gvK_mIbqds79",
        "colab_type": "code",
        "outputId": "3cd25cf6-8726-4fb6-9ba7-cadd27274043",
        "colab": {
          "base_uri": "https://localhost:8080/",
          "height": 119
        }
      },
      "source": [
        "# Verificamos la existencia de valores nulos\n",
        "df_train.isnull().any()"
      ],
      "execution_count": 139,
      "outputs": [
        {
          "output_type": "execute_result",
          "data": {
            "text/plain": [
              "keyword              True\n",
              "location             True\n",
              "text                False\n",
              "target              False\n",
              "caracteres_tweet    False\n",
              "dtype: bool"
            ]
          },
          "metadata": {
            "tags": []
          },
          "execution_count": 139
        }
      ]
    },
    {
      "cell_type": "code",
      "metadata": {
        "id": "COhktEMkd3eE",
        "colab_type": "code",
        "outputId": "d0d0fa7d-5a9d-47fa-b546-bb56adc31471",
        "colab": {
          "base_uri": "https://localhost:8080/",
          "height": 119
        }
      },
      "source": [
        "df_train.isnull().sum()"
      ],
      "execution_count": 140,
      "outputs": [
        {
          "output_type": "execute_result",
          "data": {
            "text/plain": [
              "keyword               61\n",
              "location            2533\n",
              "text                   0\n",
              "target                 0\n",
              "caracteres_tweet       0\n",
              "dtype: int64"
            ]
          },
          "metadata": {
            "tags": []
          },
          "execution_count": 140
        }
      ]
    },
    {
      "cell_type": "code",
      "metadata": {
        "id": "vOG9CzUtfgwz",
        "colab_type": "code",
        "outputId": "13e395b2-5659-4745-ab04-11fbd9287b06",
        "colab": {
          "base_uri": "https://localhost:8080/",
          "height": 297
        }
      },
      "source": [
        "df_train.describe()"
      ],
      "execution_count": 141,
      "outputs": [
        {
          "output_type": "execute_result",
          "data": {
            "text/html": [
              "<div>\n",
              "<style scoped>\n",
              "    .dataframe tbody tr th:only-of-type {\n",
              "        vertical-align: middle;\n",
              "    }\n",
              "\n",
              "    .dataframe tbody tr th {\n",
              "        vertical-align: top;\n",
              "    }\n",
              "\n",
              "    .dataframe thead th {\n",
              "        text-align: right;\n",
              "    }\n",
              "</style>\n",
              "<table border=\"1\" class=\"dataframe\">\n",
              "  <thead>\n",
              "    <tr style=\"text-align: right;\">\n",
              "      <th></th>\n",
              "      <th>target</th>\n",
              "      <th>caracteres_tweet</th>\n",
              "    </tr>\n",
              "  </thead>\n",
              "  <tbody>\n",
              "    <tr>\n",
              "      <th>count</th>\n",
              "      <td>7613.00000</td>\n",
              "      <td>7613.000000</td>\n",
              "    </tr>\n",
              "    <tr>\n",
              "      <th>mean</th>\n",
              "      <td>0.42966</td>\n",
              "      <td>101.037436</td>\n",
              "    </tr>\n",
              "    <tr>\n",
              "      <th>std</th>\n",
              "      <td>0.49506</td>\n",
              "      <td>33.781325</td>\n",
              "    </tr>\n",
              "    <tr>\n",
              "      <th>min</th>\n",
              "      <td>0.00000</td>\n",
              "      <td>7.000000</td>\n",
              "    </tr>\n",
              "    <tr>\n",
              "      <th>25%</th>\n",
              "      <td>0.00000</td>\n",
              "      <td>78.000000</td>\n",
              "    </tr>\n",
              "    <tr>\n",
              "      <th>50%</th>\n",
              "      <td>0.00000</td>\n",
              "      <td>107.000000</td>\n",
              "    </tr>\n",
              "    <tr>\n",
              "      <th>75%</th>\n",
              "      <td>1.00000</td>\n",
              "      <td>133.000000</td>\n",
              "    </tr>\n",
              "    <tr>\n",
              "      <th>max</th>\n",
              "      <td>1.00000</td>\n",
              "      <td>157.000000</td>\n",
              "    </tr>\n",
              "  </tbody>\n",
              "</table>\n",
              "</div>"
            ],
            "text/plain": [
              "           target  caracteres_tweet\n",
              "count  7613.00000       7613.000000\n",
              "mean      0.42966        101.037436\n",
              "std       0.49506         33.781325\n",
              "min       0.00000          7.000000\n",
              "25%       0.00000         78.000000\n",
              "50%       0.00000        107.000000\n",
              "75%       1.00000        133.000000\n",
              "max       1.00000        157.000000"
            ]
          },
          "metadata": {
            "tags": []
          },
          "execution_count": 141
        }
      ]
    },
    {
      "cell_type": "code",
      "metadata": {
        "id": "erdKZwcam_pA",
        "colab_type": "code",
        "outputId": "26e8e70b-cec4-4f22-b42e-1e5484f9b449",
        "colab": {
          "base_uri": "https://localhost:8080/",
          "height": 34
        }
      },
      "source": [
        "# cuento total de tweets analizados\n",
        "total_tweets=len(df_train)\n",
        "total_tweets"
      ],
      "execution_count": 142,
      "outputs": [
        {
          "output_type": "execute_result",
          "data": {
            "text/plain": [
              "7613"
            ]
          },
          "metadata": {
            "tags": []
          },
          "execution_count": 142
        }
      ]
    },
    {
      "cell_type": "code",
      "metadata": {
        "id": "YOKPq9rzkoAt",
        "colab_type": "code",
        "outputId": "44eba9ec-ce25-412a-f715-f705f751ab4d",
        "colab": {
          "base_uri": "https://localhost:8080/",
          "height": 34
        }
      },
      "source": [
        "# verifico cuantos son verdaderos\n",
        "tweets_verdaderos=(df_train['target']==1).sum()\n",
        "tweets_verdaderos\n"
      ],
      "execution_count": 143,
      "outputs": [
        {
          "output_type": "execute_result",
          "data": {
            "text/plain": [
              "3271"
            ]
          },
          "metadata": {
            "tags": []
          },
          "execution_count": 143
        }
      ]
    },
    {
      "cell_type": "code",
      "metadata": {
        "id": "VSUS3Fz3lHMM",
        "colab_type": "code",
        "outputId": "7d1eb306-68d2-4568-dc06-0318747772b0",
        "colab": {
          "base_uri": "https://localhost:8080/",
          "height": 34
        }
      },
      "source": [
        "# verifico cuantos son fakes\n",
        "tweets_falsos=(df_train['target']==0).sum()\n",
        "tweets_falsos"
      ],
      "execution_count": 144,
      "outputs": [
        {
          "output_type": "execute_result",
          "data": {
            "text/plain": [
              "4342"
            ]
          },
          "metadata": {
            "tags": []
          },
          "execution_count": 144
        }
      ]
    },
    {
      "cell_type": "code",
      "metadata": {
        "id": "AMneEm6JlOZ7",
        "colab_type": "code",
        "outputId": "58214283-1039-4926-cbba-53bc636e8ab6",
        "colab": {
          "base_uri": "https://localhost:8080/",
          "height": 34
        }
      },
      "source": [
        "# calculo la probabilidad (casos favorables/sobre casos posibles) → en este casos es equivalente .mean()\n",
        "probabilidad_tweet_verdadero = np.round((tweets_verdaderos)/(total_tweets),decimals=2)\n",
        "probabilidad_tweet_verdadero"
      ],
      "execution_count": 145,
      "outputs": [
        {
          "output_type": "execute_result",
          "data": {
            "text/plain": [
              "0.43"
            ]
          },
          "metadata": {
            "tags": []
          },
          "execution_count": 145
        }
      ]
    },
    {
      "cell_type": "code",
      "metadata": {
        "id": "IL4mYRfBnnp7",
        "colab_type": "code",
        "outputId": "e63b1191-50c0-4dbb-c706-09c50157c045",
        "colab": {
          "base_uri": "https://localhost:8080/",
          "height": 34
        }
      },
      "source": [
        "# calculo la probabilidad (casos favorables/sobre casos posibles) → en este casos es equivalente .mean()\n",
        "probabilidad_tweet_falso = np.round((tweets_falsos)/(total_tweets),decimals=2)\n",
        "probabilidad_tweet_falso"
      ],
      "execution_count": 146,
      "outputs": [
        {
          "output_type": "execute_result",
          "data": {
            "text/plain": [
              "0.57"
            ]
          },
          "metadata": {
            "tags": []
          },
          "execution_count": 146
        }
      ]
    },
    {
      "cell_type": "markdown",
      "metadata": {
        "id": "1I-kq-DFNePL",
        "colab_type": "text"
      },
      "source": [
        "### **Iniciamos proceso de limpieza de datos**"
      ]
    },
    {
      "cell_type": "markdown",
      "metadata": {
        "id": "mJQW6fZPum3y",
        "colab_type": "text"
      },
      "source": [
        "#### **Verificación de nulos y normalización DF**\n",
        "\n"
      ]
    },
    {
      "cell_type": "code",
      "metadata": {
        "id": "_W8W9KmdNk5x",
        "colab_type": "code",
        "outputId": "3df091a1-c932-42cf-d619-6a96e8fd6313",
        "colab": {
          "base_uri": "https://localhost:8080/",
          "height": 0
        }
      },
      "source": [
        "# Verifico que no haya instancias nulas o filas completas nulas\n",
        "df_train=df_train.dropna(how=\"all\")\n",
        "df_train.info()"
      ],
      "execution_count": 147,
      "outputs": [
        {
          "output_type": "stream",
          "text": [
            "<class 'pandas.core.frame.DataFrame'>\n",
            "Int64Index: 7613 entries, 0 to 7612\n",
            "Data columns (total 5 columns):\n",
            " #   Column            Non-Null Count  Dtype \n",
            "---  ------            --------------  ----- \n",
            " 0   keyword           7552 non-null   object\n",
            " 1   location          5080 non-null   object\n",
            " 2   text              7613 non-null   object\n",
            " 3   target            7613 non-null   int64 \n",
            " 4   caracteres_tweet  7613 non-null   int64 \n",
            "dtypes: int64(2), object(3)\n",
            "memory usage: 356.9+ KB\n"
          ],
          "name": "stdout"
        }
      ]
    },
    {
      "cell_type": "code",
      "metadata": {
        "id": "WAcKU9jsvXYX",
        "colab_type": "code",
        "outputId": "3bd7abe3-400e-4e3d-948a-5c59f21f278f",
        "colab": {
          "base_uri": "https://localhost:8080/",
          "height": 0
        }
      },
      "source": [
        "# Normalizo el dataframe los registros NaN con texto\n",
        "df_train=df_train.fillna({'keyword': 'sin keyword',\\\n",
        "                   'location': 'sin location'})\n",
        "df_train.info()"
      ],
      "execution_count": 148,
      "outputs": [
        {
          "output_type": "stream",
          "text": [
            "<class 'pandas.core.frame.DataFrame'>\n",
            "Int64Index: 7613 entries, 0 to 7612\n",
            "Data columns (total 5 columns):\n",
            " #   Column            Non-Null Count  Dtype \n",
            "---  ------            --------------  ----- \n",
            " 0   keyword           7613 non-null   object\n",
            " 1   location          7613 non-null   object\n",
            " 2   text              7613 non-null   object\n",
            " 3   target            7613 non-null   int64 \n",
            " 4   caracteres_tweet  7613 non-null   int64 \n",
            "dtypes: int64(2), object(3)\n",
            "memory usage: 356.9+ KB\n"
          ],
          "name": "stdout"
        }
      ]
    },
    {
      "cell_type": "code",
      "metadata": {
        "id": "dycFLObqsf0w",
        "colab_type": "code",
        "colab": {}
      },
      "source": [
        "# Eliminamos los tweets duplicados considerando que su cantidad no tiene impacto en el análisis.\n",
        "df_train=df_train.drop_duplicates('text')"
      ],
      "execution_count": 0,
      "outputs": []
    },
    {
      "cell_type": "code",
      "metadata": {
        "id": "gvY--aIT2NNM",
        "colab_type": "code",
        "outputId": "8b5fb69b-c21e-4292-d8b3-7f9f6606582b",
        "colab": {
          "base_uri": "https://localhost:8080/",
          "height": 0
        }
      },
      "source": [
        "df_train\n",
        "df_train.info()"
      ],
      "execution_count": 150,
      "outputs": [
        {
          "output_type": "stream",
          "text": [
            "<class 'pandas.core.frame.DataFrame'>\n",
            "Int64Index: 7503 entries, 0 to 7612\n",
            "Data columns (total 5 columns):\n",
            " #   Column            Non-Null Count  Dtype \n",
            "---  ------            --------------  ----- \n",
            " 0   keyword           7503 non-null   object\n",
            " 1   location          7503 non-null   object\n",
            " 2   text              7503 non-null   object\n",
            " 3   target            7503 non-null   int64 \n",
            " 4   caracteres_tweet  7503 non-null   int64 \n",
            "dtypes: int64(2), object(3)\n",
            "memory usage: 351.7+ KB\n"
          ],
          "name": "stdout"
        }
      ]
    },
    {
      "cell_type": "markdown",
      "metadata": {
        "id": "5gx0RsFrJs0_",
        "colab_type": "text"
      },
      "source": [
        "## Preprocesamiento de datos: **Tokenización**"
      ]
    },
    {
      "cell_type": "code",
      "metadata": {
        "id": "rq6FoNYI2NH9",
        "colab_type": "code",
        "colab": {}
      },
      "source": [
        "import string\n",
        "punctuation = set(string.punctuation)\n",
        "\n",
        "def tokenize(sentence):\n",
        "    tokens = []\n",
        "    for token in sentence.split():\n",
        "        new_token = []\n",
        "        for character in token:\n",
        "            if character not in punctuation:\n",
        "                new_token.append(character.lower())\n",
        "        if new_token:\n",
        "            tokens.append(\"\".join(new_token))\n",
        "    return tokens"
      ],
      "execution_count": 0,
      "outputs": []
    },
    {
      "cell_type": "code",
      "metadata": {
        "id": "sBaMAYsW36eq",
        "colab_type": "code",
        "colab": {}
      },
      "source": [
        "# type(tokens)"
      ],
      "execution_count": 0,
      "outputs": []
    },
    {
      "cell_type": "code",
      "metadata": {
        "id": "fhT5VMuN2NBO",
        "colab_type": "code",
        "colab": {}
      },
      "source": [
        "df_train['text_vector']=df_train['text'].apply(tokenize)"
      ],
      "execution_count": 0,
      "outputs": []
    },
    {
      "cell_type": "code",
      "metadata": {
        "id": "aCQlY3Am2M2z",
        "colab_type": "code",
        "outputId": "6ed5626c-56d0-438e-9d4e-89307ee553f2",
        "colab": {
          "base_uri": "https://localhost:8080/",
          "height": 204
        }
      },
      "source": [
        "df_train.head(5)"
      ],
      "execution_count": 154,
      "outputs": [
        {
          "output_type": "execute_result",
          "data": {
            "text/html": [
              "<div>\n",
              "<style scoped>\n",
              "    .dataframe tbody tr th:only-of-type {\n",
              "        vertical-align: middle;\n",
              "    }\n",
              "\n",
              "    .dataframe tbody tr th {\n",
              "        vertical-align: top;\n",
              "    }\n",
              "\n",
              "    .dataframe thead th {\n",
              "        text-align: right;\n",
              "    }\n",
              "</style>\n",
              "<table border=\"1\" class=\"dataframe\">\n",
              "  <thead>\n",
              "    <tr style=\"text-align: right;\">\n",
              "      <th></th>\n",
              "      <th>keyword</th>\n",
              "      <th>location</th>\n",
              "      <th>text</th>\n",
              "      <th>target</th>\n",
              "      <th>caracteres_tweet</th>\n",
              "      <th>text_vector</th>\n",
              "    </tr>\n",
              "  </thead>\n",
              "  <tbody>\n",
              "    <tr>\n",
              "      <th>0</th>\n",
              "      <td>sin keyword</td>\n",
              "      <td>sin location</td>\n",
              "      <td>Our Deeds are the Reason of this #earthquake M...</td>\n",
              "      <td>1</td>\n",
              "      <td>69</td>\n",
              "      <td>[our, deeds, are, the, reason, of, this, earth...</td>\n",
              "    </tr>\n",
              "    <tr>\n",
              "      <th>1</th>\n",
              "      <td>sin keyword</td>\n",
              "      <td>sin location</td>\n",
              "      <td>Forest fire near La Ronge Sask. Canada</td>\n",
              "      <td>1</td>\n",
              "      <td>38</td>\n",
              "      <td>[forest, fire, near, la, ronge, sask, canada]</td>\n",
              "    </tr>\n",
              "    <tr>\n",
              "      <th>2</th>\n",
              "      <td>sin keyword</td>\n",
              "      <td>sin location</td>\n",
              "      <td>All residents asked to 'shelter in place' are ...</td>\n",
              "      <td>1</td>\n",
              "      <td>133</td>\n",
              "      <td>[all, residents, asked, to, shelter, in, place...</td>\n",
              "    </tr>\n",
              "    <tr>\n",
              "      <th>3</th>\n",
              "      <td>sin keyword</td>\n",
              "      <td>sin location</td>\n",
              "      <td>13,000 people receive #wildfires evacuation or...</td>\n",
              "      <td>1</td>\n",
              "      <td>65</td>\n",
              "      <td>[13000, people, receive, wildfires, evacuation...</td>\n",
              "    </tr>\n",
              "    <tr>\n",
              "      <th>4</th>\n",
              "      <td>sin keyword</td>\n",
              "      <td>sin location</td>\n",
              "      <td>Just got sent this photo from Ruby #Alaska as ...</td>\n",
              "      <td>1</td>\n",
              "      <td>88</td>\n",
              "      <td>[just, got, sent, this, photo, from, ruby, ala...</td>\n",
              "    </tr>\n",
              "  </tbody>\n",
              "</table>\n",
              "</div>"
            ],
            "text/plain": [
              "       keyword  ...                                        text_vector\n",
              "0  sin keyword  ...  [our, deeds, are, the, reason, of, this, earth...\n",
              "1  sin keyword  ...      [forest, fire, near, la, ronge, sask, canada]\n",
              "2  sin keyword  ...  [all, residents, asked, to, shelter, in, place...\n",
              "3  sin keyword  ...  [13000, people, receive, wildfires, evacuation...\n",
              "4  sin keyword  ...  [just, got, sent, this, photo, from, ruby, ala...\n",
              "\n",
              "[5 rows x 6 columns]"
            ]
          },
          "metadata": {
            "tags": []
          },
          "execution_count": 154
        }
      ]
    },
    {
      "cell_type": "code",
      "metadata": {
        "id": "nGI2kGtPLFHc",
        "colab_type": "code",
        "outputId": "567f0e53-2bb2-41ef-d5d1-72abbe3ec87b",
        "colab": {
          "base_uri": "https://localhost:8080/",
          "height": 238
        }
      },
      "source": [
        "df_train.info()"
      ],
      "execution_count": 155,
      "outputs": [
        {
          "output_type": "stream",
          "text": [
            "<class 'pandas.core.frame.DataFrame'>\n",
            "Int64Index: 7503 entries, 0 to 7612\n",
            "Data columns (total 6 columns):\n",
            " #   Column            Non-Null Count  Dtype \n",
            "---  ------            --------------  ----- \n",
            " 0   keyword           7503 non-null   object\n",
            " 1   location          7503 non-null   object\n",
            " 2   text              7503 non-null   object\n",
            " 3   target            7503 non-null   int64 \n",
            " 4   caracteres_tweet  7503 non-null   int64 \n",
            " 5   text_vector       7503 non-null   object\n",
            "dtypes: int64(2), object(4)\n",
            "memory usage: 410.3+ KB\n"
          ],
          "name": "stdout"
        }
      ]
    },
    {
      "cell_type": "code",
      "metadata": {
        "id": "oUN3PgvuQAxR",
        "colab_type": "code",
        "colab": {}
      },
      "source": [
        "#from sklearn.feature_extraction.stop_words import ENGLISH_STOP_WORDS\n",
        "#from sklearn.feature_extraction import stop_words\n",
        "#print(stop_words.ENGLISH_STOP_WORDS)"
      ],
      "execution_count": 0,
      "outputs": []
    },
    {
      "cell_type": "code",
      "metadata": {
        "id": "jsgl_XS2WkLL",
        "colab_type": "code",
        "outputId": "6485fd12-ad67-42d2-df97-80533722cbb2",
        "colab": {
          "base_uri": "https://localhost:8080/",
          "height": 68
        }
      },
      "source": [
        "import nltk\n",
        "nltk.download('stopwords')\n",
        "\n",
        "#from nltk.corpus import stopwords\n",
        "#from nltk.tokenize import word_tokenize"
      ],
      "execution_count": 157,
      "outputs": [
        {
          "output_type": "stream",
          "text": [
            "[nltk_data] Downloading package stopwords to /root/nltk_data...\n",
            "[nltk_data]   Package stopwords is already up-to-date!\n"
          ],
          "name": "stdout"
        },
        {
          "output_type": "execute_result",
          "data": {
            "text/plain": [
              "True"
            ]
          },
          "metadata": {
            "tags": []
          },
          "execution_count": 157
        }
      ]
    },
    {
      "cell_type": "code",
      "metadata": {
        "id": "KI5PFaXurV42",
        "colab_type": "code",
        "outputId": "ac36fb12-49b7-4458-f8b0-c7b9dce31c51",
        "colab": {
          "base_uri": "https://localhost:8080/",
          "height": 408
        }
      },
      "source": [
        "from nltk.corpus import stopwords\n",
        "#from nltk.tokenize import word_tokenize\n",
        "stopwords.fileids()"
      ],
      "execution_count": 158,
      "outputs": [
        {
          "output_type": "execute_result",
          "data": {
            "text/plain": [
              "['arabic',\n",
              " 'azerbaijani',\n",
              " 'danish',\n",
              " 'dutch',\n",
              " 'english',\n",
              " 'finnish',\n",
              " 'french',\n",
              " 'german',\n",
              " 'greek',\n",
              " 'hungarian',\n",
              " 'indonesian',\n",
              " 'italian',\n",
              " 'kazakh',\n",
              " 'nepali',\n",
              " 'norwegian',\n",
              " 'portuguese',\n",
              " 'romanian',\n",
              " 'russian',\n",
              " 'slovene',\n",
              " 'spanish',\n",
              " 'swedish',\n",
              " 'tajik',\n",
              " 'turkish']"
            ]
          },
          "metadata": {
            "tags": []
          },
          "execution_count": 158
        }
      ]
    },
    {
      "cell_type": "code",
      "metadata": {
        "id": "z_azzOpyYp8q",
        "colab_type": "code",
        "colab": {}
      },
      "source": [
        "stop=stopwords.words('english')"
      ],
      "execution_count": 0,
      "outputs": []
    },
    {
      "cell_type": "code",
      "metadata": {
        "id": "OPfwPgITsO7J",
        "colab_type": "code",
        "colab": {}
      },
      "source": [
        "def filtro(text_vector):\n",
        "  text_vector_filtrado = []\n",
        "  for palabra in text_vector:\n",
        "    if palabra not in stop:\n",
        "      text_vector_filtrado.append(palabra)\n",
        "  return(text_vector_filtrado)"
      ],
      "execution_count": 0,
      "outputs": []
    },
    {
      "cell_type": "code",
      "metadata": {
        "id": "RU4VqaVdwuEw",
        "colab_type": "code",
        "colab": {}
      },
      "source": [
        "# type(text_vector_filtrado)"
      ],
      "execution_count": 0,
      "outputs": []
    },
    {
      "cell_type": "code",
      "metadata": {
        "id": "XX0bDJVS0Zt3",
        "colab_type": "code",
        "colab": {}
      },
      "source": [
        "df_train['text_vector_filtrado']=df_train['text_vector'].apply(filtro)"
      ],
      "execution_count": 0,
      "outputs": []
    },
    {
      "cell_type": "code",
      "metadata": {
        "id": "XoqrXDN-YF3H",
        "colab_type": "code",
        "outputId": "0418370c-0fba-4906-c816-a5ce884e20a0",
        "colab": {
          "base_uri": "https://localhost:8080/",
          "height": 119
        }
      },
      "source": [
        "df_train['text_vector_filtrado'].head()"
      ],
      "execution_count": 163,
      "outputs": [
        {
          "output_type": "execute_result",
          "data": {
            "text/plain": [
              "0    [deeds, reason, earthquake, may, allah, forgiv...\n",
              "1        [forest, fire, near, la, ronge, sask, canada]\n",
              "2    [residents, asked, shelter, place, notified, o...\n",
              "3    [13000, people, receive, wildfires, evacuation...\n",
              "4    [got, sent, photo, ruby, alaska, smoke, wildfi...\n",
              "Name: text_vector_filtrado, dtype: object"
            ]
          },
          "metadata": {
            "tags": []
          },
          "execution_count": 163
        }
      ]
    },
    {
      "cell_type": "code",
      "metadata": {
        "id": "imCu2L7VWjZi",
        "colab_type": "code",
        "outputId": "d00fa019-486a-4491-e0e9-e993f9021f61",
        "colab": {
          "base_uri": "https://localhost:8080/",
          "height": 289
        }
      },
      "source": [
        "df_train['elem_vector']=df_train['text_vector'].str.len()\n",
        "df_train.head()"
      ],
      "execution_count": 164,
      "outputs": [
        {
          "output_type": "execute_result",
          "data": {
            "text/html": [
              "<div>\n",
              "<style scoped>\n",
              "    .dataframe tbody tr th:only-of-type {\n",
              "        vertical-align: middle;\n",
              "    }\n",
              "\n",
              "    .dataframe tbody tr th {\n",
              "        vertical-align: top;\n",
              "    }\n",
              "\n",
              "    .dataframe thead th {\n",
              "        text-align: right;\n",
              "    }\n",
              "</style>\n",
              "<table border=\"1\" class=\"dataframe\">\n",
              "  <thead>\n",
              "    <tr style=\"text-align: right;\">\n",
              "      <th></th>\n",
              "      <th>keyword</th>\n",
              "      <th>location</th>\n",
              "      <th>text</th>\n",
              "      <th>target</th>\n",
              "      <th>caracteres_tweet</th>\n",
              "      <th>text_vector</th>\n",
              "      <th>text_vector_filtrado</th>\n",
              "      <th>elem_vector</th>\n",
              "    </tr>\n",
              "  </thead>\n",
              "  <tbody>\n",
              "    <tr>\n",
              "      <th>0</th>\n",
              "      <td>sin keyword</td>\n",
              "      <td>sin location</td>\n",
              "      <td>Our Deeds are the Reason of this #earthquake M...</td>\n",
              "      <td>1</td>\n",
              "      <td>69</td>\n",
              "      <td>[our, deeds, are, the, reason, of, this, earth...</td>\n",
              "      <td>[deeds, reason, earthquake, may, allah, forgiv...</td>\n",
              "      <td>13</td>\n",
              "    </tr>\n",
              "    <tr>\n",
              "      <th>1</th>\n",
              "      <td>sin keyword</td>\n",
              "      <td>sin location</td>\n",
              "      <td>Forest fire near La Ronge Sask. Canada</td>\n",
              "      <td>1</td>\n",
              "      <td>38</td>\n",
              "      <td>[forest, fire, near, la, ronge, sask, canada]</td>\n",
              "      <td>[forest, fire, near, la, ronge, sask, canada]</td>\n",
              "      <td>7</td>\n",
              "    </tr>\n",
              "    <tr>\n",
              "      <th>2</th>\n",
              "      <td>sin keyword</td>\n",
              "      <td>sin location</td>\n",
              "      <td>All residents asked to 'shelter in place' are ...</td>\n",
              "      <td>1</td>\n",
              "      <td>133</td>\n",
              "      <td>[all, residents, asked, to, shelter, in, place...</td>\n",
              "      <td>[residents, asked, shelter, place, notified, o...</td>\n",
              "      <td>22</td>\n",
              "    </tr>\n",
              "    <tr>\n",
              "      <th>3</th>\n",
              "      <td>sin keyword</td>\n",
              "      <td>sin location</td>\n",
              "      <td>13,000 people receive #wildfires evacuation or...</td>\n",
              "      <td>1</td>\n",
              "      <td>65</td>\n",
              "      <td>[13000, people, receive, wildfires, evacuation...</td>\n",
              "      <td>[13000, people, receive, wildfires, evacuation...</td>\n",
              "      <td>8</td>\n",
              "    </tr>\n",
              "    <tr>\n",
              "      <th>4</th>\n",
              "      <td>sin keyword</td>\n",
              "      <td>sin location</td>\n",
              "      <td>Just got sent this photo from Ruby #Alaska as ...</td>\n",
              "      <td>1</td>\n",
              "      <td>88</td>\n",
              "      <td>[just, got, sent, this, photo, from, ruby, ala...</td>\n",
              "      <td>[got, sent, photo, ruby, alaska, smoke, wildfi...</td>\n",
              "      <td>16</td>\n",
              "    </tr>\n",
              "  </tbody>\n",
              "</table>\n",
              "</div>"
            ],
            "text/plain": [
              "       keyword  ... elem_vector\n",
              "0  sin keyword  ...          13\n",
              "1  sin keyword  ...           7\n",
              "2  sin keyword  ...          22\n",
              "3  sin keyword  ...           8\n",
              "4  sin keyword  ...          16\n",
              "\n",
              "[5 rows x 8 columns]"
            ]
          },
          "metadata": {
            "tags": []
          },
          "execution_count": 164
        }
      ]
    },
    {
      "cell_type": "code",
      "metadata": {
        "id": "5DygoHfy6nVn",
        "colab_type": "code",
        "outputId": "ee8053eb-4302-4b4c-8aa7-b1584f26e1ac",
        "colab": {
          "base_uri": "https://localhost:8080/",
          "height": 289
        }
      },
      "source": [
        "df_train['elem_vector_filtrado']=df_train['text_vector_filtrado'].str.len()\n",
        "df_train.head()"
      ],
      "execution_count": 165,
      "outputs": [
        {
          "output_type": "execute_result",
          "data": {
            "text/html": [
              "<div>\n",
              "<style scoped>\n",
              "    .dataframe tbody tr th:only-of-type {\n",
              "        vertical-align: middle;\n",
              "    }\n",
              "\n",
              "    .dataframe tbody tr th {\n",
              "        vertical-align: top;\n",
              "    }\n",
              "\n",
              "    .dataframe thead th {\n",
              "        text-align: right;\n",
              "    }\n",
              "</style>\n",
              "<table border=\"1\" class=\"dataframe\">\n",
              "  <thead>\n",
              "    <tr style=\"text-align: right;\">\n",
              "      <th></th>\n",
              "      <th>keyword</th>\n",
              "      <th>location</th>\n",
              "      <th>text</th>\n",
              "      <th>target</th>\n",
              "      <th>caracteres_tweet</th>\n",
              "      <th>text_vector</th>\n",
              "      <th>text_vector_filtrado</th>\n",
              "      <th>elem_vector</th>\n",
              "      <th>elem_vector_filtrado</th>\n",
              "    </tr>\n",
              "  </thead>\n",
              "  <tbody>\n",
              "    <tr>\n",
              "      <th>0</th>\n",
              "      <td>sin keyword</td>\n",
              "      <td>sin location</td>\n",
              "      <td>Our Deeds are the Reason of this #earthquake M...</td>\n",
              "      <td>1</td>\n",
              "      <td>69</td>\n",
              "      <td>[our, deeds, are, the, reason, of, this, earth...</td>\n",
              "      <td>[deeds, reason, earthquake, may, allah, forgiv...</td>\n",
              "      <td>13</td>\n",
              "      <td>7</td>\n",
              "    </tr>\n",
              "    <tr>\n",
              "      <th>1</th>\n",
              "      <td>sin keyword</td>\n",
              "      <td>sin location</td>\n",
              "      <td>Forest fire near La Ronge Sask. Canada</td>\n",
              "      <td>1</td>\n",
              "      <td>38</td>\n",
              "      <td>[forest, fire, near, la, ronge, sask, canada]</td>\n",
              "      <td>[forest, fire, near, la, ronge, sask, canada]</td>\n",
              "      <td>7</td>\n",
              "      <td>7</td>\n",
              "    </tr>\n",
              "    <tr>\n",
              "      <th>2</th>\n",
              "      <td>sin keyword</td>\n",
              "      <td>sin location</td>\n",
              "      <td>All residents asked to 'shelter in place' are ...</td>\n",
              "      <td>1</td>\n",
              "      <td>133</td>\n",
              "      <td>[all, residents, asked, to, shelter, in, place...</td>\n",
              "      <td>[residents, asked, shelter, place, notified, o...</td>\n",
              "      <td>22</td>\n",
              "      <td>11</td>\n",
              "    </tr>\n",
              "    <tr>\n",
              "      <th>3</th>\n",
              "      <td>sin keyword</td>\n",
              "      <td>sin location</td>\n",
              "      <td>13,000 people receive #wildfires evacuation or...</td>\n",
              "      <td>1</td>\n",
              "      <td>65</td>\n",
              "      <td>[13000, people, receive, wildfires, evacuation...</td>\n",
              "      <td>[13000, people, receive, wildfires, evacuation...</td>\n",
              "      <td>8</td>\n",
              "      <td>7</td>\n",
              "    </tr>\n",
              "    <tr>\n",
              "      <th>4</th>\n",
              "      <td>sin keyword</td>\n",
              "      <td>sin location</td>\n",
              "      <td>Just got sent this photo from Ruby #Alaska as ...</td>\n",
              "      <td>1</td>\n",
              "      <td>88</td>\n",
              "      <td>[just, got, sent, this, photo, from, ruby, ala...</td>\n",
              "      <td>[got, sent, photo, ruby, alaska, smoke, wildfi...</td>\n",
              "      <td>16</td>\n",
              "      <td>9</td>\n",
              "    </tr>\n",
              "  </tbody>\n",
              "</table>\n",
              "</div>"
            ],
            "text/plain": [
              "       keyword      location  ... elem_vector  elem_vector_filtrado\n",
              "0  sin keyword  sin location  ...          13                     7\n",
              "1  sin keyword  sin location  ...           7                     7\n",
              "2  sin keyword  sin location  ...          22                    11\n",
              "3  sin keyword  sin location  ...           8                     7\n",
              "4  sin keyword  sin location  ...          16                     9\n",
              "\n",
              "[5 rows x 9 columns]"
            ]
          },
          "metadata": {
            "tags": []
          },
          "execution_count": 165
        }
      ]
    },
    {
      "cell_type": "code",
      "metadata": {
        "id": "_p1qIafC7F-N",
        "colab_type": "code",
        "outputId": "8d5bf169-c641-4c11-83b1-e9679db88620",
        "colab": {
          "base_uri": "https://localhost:8080/",
          "height": 289
        }
      },
      "source": [
        "df_train.info()"
      ],
      "execution_count": 166,
      "outputs": [
        {
          "output_type": "stream",
          "text": [
            "<class 'pandas.core.frame.DataFrame'>\n",
            "Int64Index: 7503 entries, 0 to 7612\n",
            "Data columns (total 9 columns):\n",
            " #   Column                Non-Null Count  Dtype \n",
            "---  ------                --------------  ----- \n",
            " 0   keyword               7503 non-null   object\n",
            " 1   location              7503 non-null   object\n",
            " 2   text                  7503 non-null   object\n",
            " 3   target                7503 non-null   int64 \n",
            " 4   caracteres_tweet      7503 non-null   int64 \n",
            " 5   text_vector           7503 non-null   object\n",
            " 6   text_vector_filtrado  7503 non-null   object\n",
            " 7   elem_vector           7503 non-null   int64 \n",
            " 8   elem_vector_filtrado  7503 non-null   int64 \n",
            "dtypes: int64(4), object(5)\n",
            "memory usage: 586.2+ KB\n"
          ],
          "name": "stdout"
        }
      ]
    },
    {
      "cell_type": "markdown",
      "metadata": {
        "id": "-A3Do3hoC9Ky",
        "colab_type": "text"
      },
      "source": [
        "### Preproceso y categorización de la variable ***Keyword***"
      ]
    },
    {
      "cell_type": "code",
      "metadata": {
        "id": "-HzBxpLdLD8B",
        "colab_type": "code",
        "colab": {}
      },
      "source": [
        "#1 \"Limpiamos\" la serie de caracteres especiales, sustituyendolos\n",
        "df_train['keyword']=df_train['keyword'].str.replace('%20','_')"
      ],
      "execution_count": 0,
      "outputs": []
    },
    {
      "cell_type": "code",
      "metadata": {
        "id": "uxcChUiJ1-TF",
        "colab_type": "code",
        "outputId": "174cfb28-9f28-47c3-ed4b-7df9ec895e30",
        "colab": {
          "base_uri": "https://localhost:8080/",
          "height": 782
        }
      },
      "source": [
        "#1 Verificamos actualización\n",
        "df_train['keyword'].unique()"
      ],
      "execution_count": 168,
      "outputs": [
        {
          "output_type": "execute_result",
          "data": {
            "text/plain": [
              "array(['sin keyword', 'ablaze', 'accident', 'aftershock',\n",
              "       'airplane_accident', 'ambulance', 'annihilated', 'annihilation',\n",
              "       'apocalypse', 'armageddon', 'army', 'arson', 'arsonist', 'attack',\n",
              "       'attacked', 'avalanche', 'battle', 'bioterror', 'bioterrorism',\n",
              "       'blaze', 'blazing', 'bleeding', 'blew_up', 'blight', 'blizzard',\n",
              "       'blood', 'bloody', 'blown_up', 'body_bag', 'body_bagging',\n",
              "       'body_bags', 'bomb', 'bombed', 'bombing', 'bridge_collapse',\n",
              "       'buildings_burning', 'buildings_on_fire', 'burned', 'burning',\n",
              "       'burning_buildings', 'bush_fires', 'casualties', 'casualty',\n",
              "       'catastrophe', 'catastrophic', 'chemical_emergency', 'cliff_fall',\n",
              "       'collapse', 'collapsed', 'collide', 'collided', 'collision',\n",
              "       'crash', 'crashed', 'crush', 'crushed', 'curfew', 'cyclone',\n",
              "       'damage', 'danger', 'dead', 'death', 'deaths', 'debris', 'deluge',\n",
              "       'deluged', 'demolish', 'demolished', 'demolition', 'derail',\n",
              "       'derailed', 'derailment', 'desolate', 'desolation', 'destroy',\n",
              "       'destroyed', 'destruction', 'detonate', 'detonation', 'devastated',\n",
              "       'devastation', 'disaster', 'displaced', 'drought', 'drown',\n",
              "       'drowned', 'drowning', 'dust_storm', 'earthquake', 'electrocute',\n",
              "       'electrocuted', 'emergency', 'emergency_plan',\n",
              "       'emergency_services', 'engulfed', 'epicentre', 'evacuate',\n",
              "       'evacuated', 'evacuation', 'explode', 'exploded', 'explosion',\n",
              "       'eyewitness', 'famine', 'fatal', 'fatalities', 'fatality', 'fear',\n",
              "       'fire', 'fire_truck', 'first_responders', 'flames', 'flattened',\n",
              "       'flood', 'flooding', 'floods', 'forest_fire', 'forest_fires',\n",
              "       'hail', 'hailstorm', 'harm', 'hazard', 'hazardous', 'heat_wave',\n",
              "       'hellfire', 'hijack', 'hijacker', 'hijacking', 'hostage',\n",
              "       'hostages', 'hurricane', 'injured', 'injuries', 'injury',\n",
              "       'inundated', 'inundation', 'landslide', 'lava', 'lightning',\n",
              "       'loud_bang', 'mass_murder', 'mass_murderer', 'massacre', 'mayhem',\n",
              "       'meltdown', 'military', 'mudslide', 'natural_disaster',\n",
              "       'nuclear_disaster', 'nuclear_reactor', 'obliterate', 'obliterated',\n",
              "       'obliteration', 'oil_spill', 'outbreak', 'pandemonium', 'panic',\n",
              "       'panicking', 'police', 'quarantine', 'quarantined',\n",
              "       'radiation_emergency', 'rainstorm', 'razed', 'refugees', 'rescue',\n",
              "       'rescued', 'rescuers', 'riot', 'rioting', 'rubble', 'ruin',\n",
              "       'sandstorm', 'screamed', 'screaming', 'screams', 'seismic',\n",
              "       'sinkhole', 'sinking', 'siren', 'sirens', 'smoke', 'snowstorm',\n",
              "       'storm', 'stretcher', 'structural_failure', 'suicide_bomb',\n",
              "       'suicide_bomber', 'suicide_bombing', 'sunk', 'survive', 'survived',\n",
              "       'survivors', 'terrorism', 'terrorist', 'threat', 'thunder',\n",
              "       'thunderstorm', 'tornado', 'tragedy', 'trapped', 'trauma',\n",
              "       'traumatised', 'trouble', 'tsunami', 'twister', 'typhoon',\n",
              "       'upheaval', 'violent_storm', 'volcano', 'war_zone', 'weapon',\n",
              "       'weapons', 'whirlwind', 'wild_fires', 'wildfire', 'windstorm',\n",
              "       'wounded', 'wounds', 'wreck', 'wreckage', 'wrecked'], dtype=object)"
            ]
          },
          "metadata": {
            "tags": []
          },
          "execution_count": 168
        }
      ]
    },
    {
      "cell_type": "code",
      "metadata": {
        "id": "ZSRI0-MgFqFD",
        "colab_type": "code",
        "outputId": "22eec8f9-c1f5-4e42-9b51-b250b938802e",
        "colab": {
          "base_uri": "https://localhost:8080/",
          "height": 54
        }
      },
      "source": [
        "#1 Listo para generar un diccionario y traducir la serie 'keyword'\n",
        "keyword_list=df_train['keyword'].unique().tolist()\n",
        "print(keyword_list)"
      ],
      "execution_count": 169,
      "outputs": [
        {
          "output_type": "stream",
          "text": [
            "['sin keyword', 'ablaze', 'accident', 'aftershock', 'airplane_accident', 'ambulance', 'annihilated', 'annihilation', 'apocalypse', 'armageddon', 'army', 'arson', 'arsonist', 'attack', 'attacked', 'avalanche', 'battle', 'bioterror', 'bioterrorism', 'blaze', 'blazing', 'bleeding', 'blew_up', 'blight', 'blizzard', 'blood', 'bloody', 'blown_up', 'body_bag', 'body_bagging', 'body_bags', 'bomb', 'bombed', 'bombing', 'bridge_collapse', 'buildings_burning', 'buildings_on_fire', 'burned', 'burning', 'burning_buildings', 'bush_fires', 'casualties', 'casualty', 'catastrophe', 'catastrophic', 'chemical_emergency', 'cliff_fall', 'collapse', 'collapsed', 'collide', 'collided', 'collision', 'crash', 'crashed', 'crush', 'crushed', 'curfew', 'cyclone', 'damage', 'danger', 'dead', 'death', 'deaths', 'debris', 'deluge', 'deluged', 'demolish', 'demolished', 'demolition', 'derail', 'derailed', 'derailment', 'desolate', 'desolation', 'destroy', 'destroyed', 'destruction', 'detonate', 'detonation', 'devastated', 'devastation', 'disaster', 'displaced', 'drought', 'drown', 'drowned', 'drowning', 'dust_storm', 'earthquake', 'electrocute', 'electrocuted', 'emergency', 'emergency_plan', 'emergency_services', 'engulfed', 'epicentre', 'evacuate', 'evacuated', 'evacuation', 'explode', 'exploded', 'explosion', 'eyewitness', 'famine', 'fatal', 'fatalities', 'fatality', 'fear', 'fire', 'fire_truck', 'first_responders', 'flames', 'flattened', 'flood', 'flooding', 'floods', 'forest_fire', 'forest_fires', 'hail', 'hailstorm', 'harm', 'hazard', 'hazardous', 'heat_wave', 'hellfire', 'hijack', 'hijacker', 'hijacking', 'hostage', 'hostages', 'hurricane', 'injured', 'injuries', 'injury', 'inundated', 'inundation', 'landslide', 'lava', 'lightning', 'loud_bang', 'mass_murder', 'mass_murderer', 'massacre', 'mayhem', 'meltdown', 'military', 'mudslide', 'natural_disaster', 'nuclear_disaster', 'nuclear_reactor', 'obliterate', 'obliterated', 'obliteration', 'oil_spill', 'outbreak', 'pandemonium', 'panic', 'panicking', 'police', 'quarantine', 'quarantined', 'radiation_emergency', 'rainstorm', 'razed', 'refugees', 'rescue', 'rescued', 'rescuers', 'riot', 'rioting', 'rubble', 'ruin', 'sandstorm', 'screamed', 'screaming', 'screams', 'seismic', 'sinkhole', 'sinking', 'siren', 'sirens', 'smoke', 'snowstorm', 'storm', 'stretcher', 'structural_failure', 'suicide_bomb', 'suicide_bomber', 'suicide_bombing', 'sunk', 'survive', 'survived', 'survivors', 'terrorism', 'terrorist', 'threat', 'thunder', 'thunderstorm', 'tornado', 'tragedy', 'trapped', 'trauma', 'traumatised', 'trouble', 'tsunami', 'twister', 'typhoon', 'upheaval', 'violent_storm', 'volcano', 'war_zone', 'weapon', 'weapons', 'whirlwind', 'wild_fires', 'wildfire', 'windstorm', 'wounded', 'wounds', 'wreck', 'wreckage', 'wrecked']\n"
          ],
          "name": "stdout"
        }
      ]
    },
    {
      "cell_type": "code",
      "metadata": {
        "id": "P6Jc8dBe6Unj",
        "colab_type": "code",
        "outputId": "2f5219f5-73e3-4f32-f5bd-cad72de06ff9",
        "colab": {
          "base_uri": "https://localhost:8080/",
          "height": 54
        }
      },
      "source": [
        "#1 Genero otra lista - pero en español\n",
        "keyword_list_esp=['sin_keyword','en llamas','accidente','replica','accidente_avion','ambulancia','aniquilado','aniquilacion','apocalipse','armageddon','ejercito','incendio_intencional','piromano','ataque','atacado','avalancha','combate/batalla/lucha','bioterror','bioterrorismo','resplandecer/arder','resplandeciente/ardiente','hemorragia','exploto','plaga','ventisca','sangre','sangriento','estallido','bolsa_de_cadaver','embolsado_de_cadaver','bolsas_de_cadaver','bomba','bombardeado','bombardeo','colapso_de_puente','incendio_de_edificios','edificios_en_llamas','quemado','quemando/incendiando','incendio_edificios','incendio_de_matorrales/arbustos','bajas/muertes/perdidas','baja/muerte/perdida','catastrofe','catastrofico','emergencia_quimica','caida_acantilado','colapso','colapsado','colisionar','colisiono','colision','choque','estrellado','aplastamiento','aplastado','toque_de_queda','ciclon','da¤o','peligro','muerto','muerte','muertes','escombros','diluvio','inundado','demoler','demolido','demolicion','descarrilar','descarrilado','descarrilamiento','desolado','desolacion','destruir','destruido','destruccion','detonado','detonacion','devastado','devastacion','desastre','dislacado/desplazado','sequia','ahogar','ahogado','ahogamiento/ahogandose','tormenta_polvo','terremoto','electrocutar','electrocutado','emergencia','plan_de_emergencia','servicio_de_emergencia','engullido','epicentro','evacuar','evacuado','evacuacion','explotar','exploto/detonado/estallado','explosion','testigo_ocular','hambruna','fatal','fatalidades','fatalidades','miedo','fuego','camion_bombero','primeros_en_responder','llamas','aplastado','inundacion','inundaciones','inundaciones','incendio_forestal','incendio_forestales','granizo','tormenta_granizo','da¤o','peligro','peligroso','ola_de_calor','infierno','secuestro','secuestrador','secuestro','rehen','rehenes','huracan','herido/lesionado','heridas/lesiones','herida/lesion','inundado','inundacion','deslisamiento_tierra','lava','rayo','golpe_fuerte/estampido_fuerte','asesinato_en_serie','asesino_en_serie','masacre','caos','fusion','militar','alud_de_lodo','desastre_natural','desastre_nuclear','reactor_nuclear','obliterar/destruir/eliminar','borrado/destruido/eliminado','obliteracion/destruccion/eliminacion','derrame_de_petroleo','brote','pandemonio/confusion/caos','panico','tener_panico','polic¡a','cuarentena','en_cuarentena','emergencia_radiacion','tormenta','arrasado','refugiados','rescate','rescatado','rescatadores','disturbio','disturbios','escombros','ruina','tormenta_de_arena','grito','gritando','gritos','sismico','sumidero/pozo','hundiendose','sirena','sirenas','humo','tormenta_de_nieve','tormenta','camilla','fallo_estructural','bomba_suicida','suicida','bombardeo_suicida','hundido','sobrevivir','sobrevivio','sobreviviente','terrorismo','terrorista','amenaza','trueno','tormenta_electrica','tornado','tragedia','atrapado','trauma','traumatizado','problema','tsunami','tornado/torbellino','tifon','transtorno','tormenta_violenta','volcan','zona_de_guerra','arma','armas','torbellino','incendios_forestales','incendio_forestal','tormenta_de_viento','moretoneado','moretones','naufragio','restos','naufrago']\n",
        "print(keyword_list_esp)"
      ],
      "execution_count": 170,
      "outputs": [
        {
          "output_type": "stream",
          "text": [
            "['sin_keyword', 'en llamas', 'accidente', 'replica', 'accidente_avion', 'ambulancia', 'aniquilado', 'aniquilacion', 'apocalipse', 'armageddon', 'ejercito', 'incendio_intencional', 'piromano', 'ataque', 'atacado', 'avalancha', 'combate/batalla/lucha', 'bioterror', 'bioterrorismo', 'resplandecer/arder', 'resplandeciente/ardiente', 'hemorragia', 'exploto', 'plaga', 'ventisca', 'sangre', 'sangriento', 'estallido', 'bolsa_de_cadaver', 'embolsado_de_cadaver', 'bolsas_de_cadaver', 'bomba', 'bombardeado', 'bombardeo', 'colapso_de_puente', 'incendio_de_edificios', 'edificios_en_llamas', 'quemado', 'quemando/incendiando', 'incendio_edificios', 'incendio_de_matorrales/arbustos', 'bajas/muertes/perdidas', 'baja/muerte/perdida', 'catastrofe', 'catastrofico', 'emergencia_quimica', 'caida_acantilado', 'colapso', 'colapsado', 'colisionar', 'colisiono', 'colision', 'choque', 'estrellado', 'aplastamiento', 'aplastado', 'toque_de_queda', 'ciclon', 'da¤o', 'peligro', 'muerto', 'muerte', 'muertes', 'escombros', 'diluvio', 'inundado', 'demoler', 'demolido', 'demolicion', 'descarrilar', 'descarrilado', 'descarrilamiento', 'desolado', 'desolacion', 'destruir', 'destruido', 'destruccion', 'detonado', 'detonacion', 'devastado', 'devastacion', 'desastre', 'dislacado/desplazado', 'sequia', 'ahogar', 'ahogado', 'ahogamiento/ahogandose', 'tormenta_polvo', 'terremoto', 'electrocutar', 'electrocutado', 'emergencia', 'plan_de_emergencia', 'servicio_de_emergencia', 'engullido', 'epicentro', 'evacuar', 'evacuado', 'evacuacion', 'explotar', 'exploto/detonado/estallado', 'explosion', 'testigo_ocular', 'hambruna', 'fatal', 'fatalidades', 'fatalidades', 'miedo', 'fuego', 'camion_bombero', 'primeros_en_responder', 'llamas', 'aplastado', 'inundacion', 'inundaciones', 'inundaciones', 'incendio_forestal', 'incendio_forestales', 'granizo', 'tormenta_granizo', 'da¤o', 'peligro', 'peligroso', 'ola_de_calor', 'infierno', 'secuestro', 'secuestrador', 'secuestro', 'rehen', 'rehenes', 'huracan', 'herido/lesionado', 'heridas/lesiones', 'herida/lesion', 'inundado', 'inundacion', 'deslisamiento_tierra', 'lava', 'rayo', 'golpe_fuerte/estampido_fuerte', 'asesinato_en_serie', 'asesino_en_serie', 'masacre', 'caos', 'fusion', 'militar', 'alud_de_lodo', 'desastre_natural', 'desastre_nuclear', 'reactor_nuclear', 'obliterar/destruir/eliminar', 'borrado/destruido/eliminado', 'obliteracion/destruccion/eliminacion', 'derrame_de_petroleo', 'brote', 'pandemonio/confusion/caos', 'panico', 'tener_panico', 'polic¡a', 'cuarentena', 'en_cuarentena', 'emergencia_radiacion', 'tormenta', 'arrasado', 'refugiados', 'rescate', 'rescatado', 'rescatadores', 'disturbio', 'disturbios', 'escombros', 'ruina', 'tormenta_de_arena', 'grito', 'gritando', 'gritos', 'sismico', 'sumidero/pozo', 'hundiendose', 'sirena', 'sirenas', 'humo', 'tormenta_de_nieve', 'tormenta', 'camilla', 'fallo_estructural', 'bomba_suicida', 'suicida', 'bombardeo_suicida', 'hundido', 'sobrevivir', 'sobrevivio', 'sobreviviente', 'terrorismo', 'terrorista', 'amenaza', 'trueno', 'tormenta_electrica', 'tornado', 'tragedia', 'atrapado', 'trauma', 'traumatizado', 'problema', 'tsunami', 'tornado/torbellino', 'tifon', 'transtorno', 'tormenta_violenta', 'volcan', 'zona_de_guerra', 'arma', 'armas', 'torbellino', 'incendios_forestales', 'incendio_forestal', 'tormenta_de_viento', 'moretoneado', 'moretones', 'naufragio', 'restos', 'naufrago']\n"
          ],
          "name": "stdout"
        }
      ]
    },
    {
      "cell_type": "code",
      "metadata": {
        "id": "x3vN0Gp36lFR",
        "colab_type": "code",
        "outputId": "43ddb879-742f-4ec1-f6b5-533916a52208",
        "colab": {
          "base_uri": "https://localhost:8080/",
          "height": 54
        }
      },
      "source": [
        "#1 Genero el diccionario eng-esp de la serie 'Keyword'\n",
        "keyword_dicc={}\n",
        "y=0\n",
        "for x in keyword_list:\n",
        "  keyword_dicc[x]=keyword_list_esp[y]\n",
        "  y=y+1\n",
        "  #print(keyword_dicc)\n",
        "\n",
        "print(keyword_dicc)"
      ],
      "execution_count": 171,
      "outputs": [
        {
          "output_type": "stream",
          "text": [
            "{'sin keyword': 'sin_keyword', 'ablaze': 'en llamas', 'accident': 'accidente', 'aftershock': 'replica', 'airplane_accident': 'accidente_avion', 'ambulance': 'ambulancia', 'annihilated': 'aniquilado', 'annihilation': 'aniquilacion', 'apocalypse': 'apocalipse', 'armageddon': 'armageddon', 'army': 'ejercito', 'arson': 'incendio_intencional', 'arsonist': 'piromano', 'attack': 'ataque', 'attacked': 'atacado', 'avalanche': 'avalancha', 'battle': 'combate/batalla/lucha', 'bioterror': 'bioterror', 'bioterrorism': 'bioterrorismo', 'blaze': 'resplandecer/arder', 'blazing': 'resplandeciente/ardiente', 'bleeding': 'hemorragia', 'blew_up': 'exploto', 'blight': 'plaga', 'blizzard': 'ventisca', 'blood': 'sangre', 'bloody': 'sangriento', 'blown_up': 'estallido', 'body_bag': 'bolsa_de_cadaver', 'body_bagging': 'embolsado_de_cadaver', 'body_bags': 'bolsas_de_cadaver', 'bomb': 'bomba', 'bombed': 'bombardeado', 'bombing': 'bombardeo', 'bridge_collapse': 'colapso_de_puente', 'buildings_burning': 'incendio_de_edificios', 'buildings_on_fire': 'edificios_en_llamas', 'burned': 'quemado', 'burning': 'quemando/incendiando', 'burning_buildings': 'incendio_edificios', 'bush_fires': 'incendio_de_matorrales/arbustos', 'casualties': 'bajas/muertes/perdidas', 'casualty': 'baja/muerte/perdida', 'catastrophe': 'catastrofe', 'catastrophic': 'catastrofico', 'chemical_emergency': 'emergencia_quimica', 'cliff_fall': 'caida_acantilado', 'collapse': 'colapso', 'collapsed': 'colapsado', 'collide': 'colisionar', 'collided': 'colisiono', 'collision': 'colision', 'crash': 'choque', 'crashed': 'estrellado', 'crush': 'aplastamiento', 'crushed': 'aplastado', 'curfew': 'toque_de_queda', 'cyclone': 'ciclon', 'damage': 'da¤o', 'danger': 'peligro', 'dead': 'muerto', 'death': 'muerte', 'deaths': 'muertes', 'debris': 'escombros', 'deluge': 'diluvio', 'deluged': 'inundado', 'demolish': 'demoler', 'demolished': 'demolido', 'demolition': 'demolicion', 'derail': 'descarrilar', 'derailed': 'descarrilado', 'derailment': 'descarrilamiento', 'desolate': 'desolado', 'desolation': 'desolacion', 'destroy': 'destruir', 'destroyed': 'destruido', 'destruction': 'destruccion', 'detonate': 'detonado', 'detonation': 'detonacion', 'devastated': 'devastado', 'devastation': 'devastacion', 'disaster': 'desastre', 'displaced': 'dislacado/desplazado', 'drought': 'sequia', 'drown': 'ahogar', 'drowned': 'ahogado', 'drowning': 'ahogamiento/ahogandose', 'dust_storm': 'tormenta_polvo', 'earthquake': 'terremoto', 'electrocute': 'electrocutar', 'electrocuted': 'electrocutado', 'emergency': 'emergencia', 'emergency_plan': 'plan_de_emergencia', 'emergency_services': 'servicio_de_emergencia', 'engulfed': 'engullido', 'epicentre': 'epicentro', 'evacuate': 'evacuar', 'evacuated': 'evacuado', 'evacuation': 'evacuacion', 'explode': 'explotar', 'exploded': 'exploto/detonado/estallado', 'explosion': 'explosion', 'eyewitness': 'testigo_ocular', 'famine': 'hambruna', 'fatal': 'fatal', 'fatalities': 'fatalidades', 'fatality': 'fatalidades', 'fear': 'miedo', 'fire': 'fuego', 'fire_truck': 'camion_bombero', 'first_responders': 'primeros_en_responder', 'flames': 'llamas', 'flattened': 'aplastado', 'flood': 'inundacion', 'flooding': 'inundaciones', 'floods': 'inundaciones', 'forest_fire': 'incendio_forestal', 'forest_fires': 'incendio_forestales', 'hail': 'granizo', 'hailstorm': 'tormenta_granizo', 'harm': 'da¤o', 'hazard': 'peligro', 'hazardous': 'peligroso', 'heat_wave': 'ola_de_calor', 'hellfire': 'infierno', 'hijack': 'secuestro', 'hijacker': 'secuestrador', 'hijacking': 'secuestro', 'hostage': 'rehen', 'hostages': 'rehenes', 'hurricane': 'huracan', 'injured': 'herido/lesionado', 'injuries': 'heridas/lesiones', 'injury': 'herida/lesion', 'inundated': 'inundado', 'inundation': 'inundacion', 'landslide': 'deslisamiento_tierra', 'lava': 'lava', 'lightning': 'rayo', 'loud_bang': 'golpe_fuerte/estampido_fuerte', 'mass_murder': 'asesinato_en_serie', 'mass_murderer': 'asesino_en_serie', 'massacre': 'masacre', 'mayhem': 'caos', 'meltdown': 'fusion', 'military': 'militar', 'mudslide': 'alud_de_lodo', 'natural_disaster': 'desastre_natural', 'nuclear_disaster': 'desastre_nuclear', 'nuclear_reactor': 'reactor_nuclear', 'obliterate': 'obliterar/destruir/eliminar', 'obliterated': 'borrado/destruido/eliminado', 'obliteration': 'obliteracion/destruccion/eliminacion', 'oil_spill': 'derrame_de_petroleo', 'outbreak': 'brote', 'pandemonium': 'pandemonio/confusion/caos', 'panic': 'panico', 'panicking': 'tener_panico', 'police': 'polic¡a', 'quarantine': 'cuarentena', 'quarantined': 'en_cuarentena', 'radiation_emergency': 'emergencia_radiacion', 'rainstorm': 'tormenta', 'razed': 'arrasado', 'refugees': 'refugiados', 'rescue': 'rescate', 'rescued': 'rescatado', 'rescuers': 'rescatadores', 'riot': 'disturbio', 'rioting': 'disturbios', 'rubble': 'escombros', 'ruin': 'ruina', 'sandstorm': 'tormenta_de_arena', 'screamed': 'grito', 'screaming': 'gritando', 'screams': 'gritos', 'seismic': 'sismico', 'sinkhole': 'sumidero/pozo', 'sinking': 'hundiendose', 'siren': 'sirena', 'sirens': 'sirenas', 'smoke': 'humo', 'snowstorm': 'tormenta_de_nieve', 'storm': 'tormenta', 'stretcher': 'camilla', 'structural_failure': 'fallo_estructural', 'suicide_bomb': 'bomba_suicida', 'suicide_bomber': 'suicida', 'suicide_bombing': 'bombardeo_suicida', 'sunk': 'hundido', 'survive': 'sobrevivir', 'survived': 'sobrevivio', 'survivors': 'sobreviviente', 'terrorism': 'terrorismo', 'terrorist': 'terrorista', 'threat': 'amenaza', 'thunder': 'trueno', 'thunderstorm': 'tormenta_electrica', 'tornado': 'tornado', 'tragedy': 'tragedia', 'trapped': 'atrapado', 'trauma': 'trauma', 'traumatised': 'traumatizado', 'trouble': 'problema', 'tsunami': 'tsunami', 'twister': 'tornado/torbellino', 'typhoon': 'tifon', 'upheaval': 'transtorno', 'violent_storm': 'tormenta_violenta', 'volcano': 'volcan', 'war_zone': 'zona_de_guerra', 'weapon': 'arma', 'weapons': 'armas', 'whirlwind': 'torbellino', 'wild_fires': 'incendios_forestales', 'wildfire': 'incendio_forestal', 'windstorm': 'tormenta_de_viento', 'wounded': 'moretoneado', 'wounds': 'moretones', 'wreck': 'naufragio', 'wreckage': 'restos', 'wrecked': 'naufrago'}\n"
          ],
          "name": "stdout"
        }
      ]
    },
    {
      "cell_type": "code",
      "metadata": {
        "id": "PBvDUgvBvIxr",
        "colab_type": "code",
        "outputId": "4f757220-e199-4df7-84cc-6101864b7723",
        "colab": {
          "base_uri": "https://localhost:8080/",
          "height": 776
        }
      },
      "source": [
        "#1 Mapeo los valores de las key del diccionario keyword_dicc\n",
        "df_train['keyword_esp']=df_train['keyword'].map(keyword_dicc)\n",
        "df_train.head(80)"
      ],
      "execution_count": 172,
      "outputs": [
        {
          "output_type": "execute_result",
          "data": {
            "text/html": [
              "<div>\n",
              "<style scoped>\n",
              "    .dataframe tbody tr th:only-of-type {\n",
              "        vertical-align: middle;\n",
              "    }\n",
              "\n",
              "    .dataframe tbody tr th {\n",
              "        vertical-align: top;\n",
              "    }\n",
              "\n",
              "    .dataframe thead th {\n",
              "        text-align: right;\n",
              "    }\n",
              "</style>\n",
              "<table border=\"1\" class=\"dataframe\">\n",
              "  <thead>\n",
              "    <tr style=\"text-align: right;\">\n",
              "      <th></th>\n",
              "      <th>keyword</th>\n",
              "      <th>location</th>\n",
              "      <th>text</th>\n",
              "      <th>target</th>\n",
              "      <th>caracteres_tweet</th>\n",
              "      <th>text_vector</th>\n",
              "      <th>text_vector_filtrado</th>\n",
              "      <th>elem_vector</th>\n",
              "      <th>elem_vector_filtrado</th>\n",
              "      <th>keyword_esp</th>\n",
              "    </tr>\n",
              "  </thead>\n",
              "  <tbody>\n",
              "    <tr>\n",
              "      <th>0</th>\n",
              "      <td>sin keyword</td>\n",
              "      <td>sin location</td>\n",
              "      <td>Our Deeds are the Reason of this #earthquake M...</td>\n",
              "      <td>1</td>\n",
              "      <td>69</td>\n",
              "      <td>[our, deeds, are, the, reason, of, this, earth...</td>\n",
              "      <td>[deeds, reason, earthquake, may, allah, forgiv...</td>\n",
              "      <td>13</td>\n",
              "      <td>7</td>\n",
              "      <td>sin_keyword</td>\n",
              "    </tr>\n",
              "    <tr>\n",
              "      <th>1</th>\n",
              "      <td>sin keyword</td>\n",
              "      <td>sin location</td>\n",
              "      <td>Forest fire near La Ronge Sask. Canada</td>\n",
              "      <td>1</td>\n",
              "      <td>38</td>\n",
              "      <td>[forest, fire, near, la, ronge, sask, canada]</td>\n",
              "      <td>[forest, fire, near, la, ronge, sask, canada]</td>\n",
              "      <td>7</td>\n",
              "      <td>7</td>\n",
              "      <td>sin_keyword</td>\n",
              "    </tr>\n",
              "    <tr>\n",
              "      <th>2</th>\n",
              "      <td>sin keyword</td>\n",
              "      <td>sin location</td>\n",
              "      <td>All residents asked to 'shelter in place' are ...</td>\n",
              "      <td>1</td>\n",
              "      <td>133</td>\n",
              "      <td>[all, residents, asked, to, shelter, in, place...</td>\n",
              "      <td>[residents, asked, shelter, place, notified, o...</td>\n",
              "      <td>22</td>\n",
              "      <td>11</td>\n",
              "      <td>sin_keyword</td>\n",
              "    </tr>\n",
              "    <tr>\n",
              "      <th>3</th>\n",
              "      <td>sin keyword</td>\n",
              "      <td>sin location</td>\n",
              "      <td>13,000 people receive #wildfires evacuation or...</td>\n",
              "      <td>1</td>\n",
              "      <td>65</td>\n",
              "      <td>[13000, people, receive, wildfires, evacuation...</td>\n",
              "      <td>[13000, people, receive, wildfires, evacuation...</td>\n",
              "      <td>8</td>\n",
              "      <td>7</td>\n",
              "      <td>sin_keyword</td>\n",
              "    </tr>\n",
              "    <tr>\n",
              "      <th>4</th>\n",
              "      <td>sin keyword</td>\n",
              "      <td>sin location</td>\n",
              "      <td>Just got sent this photo from Ruby #Alaska as ...</td>\n",
              "      <td>1</td>\n",
              "      <td>88</td>\n",
              "      <td>[just, got, sent, this, photo, from, ruby, ala...</td>\n",
              "      <td>[got, sent, photo, ruby, alaska, smoke, wildfi...</td>\n",
              "      <td>16</td>\n",
              "      <td>9</td>\n",
              "      <td>sin_keyword</td>\n",
              "    </tr>\n",
              "    <tr>\n",
              "      <th>...</th>\n",
              "      <td>...</td>\n",
              "      <td>...</td>\n",
              "      <td>...</td>\n",
              "      <td>...</td>\n",
              "      <td>...</td>\n",
              "      <td>...</td>\n",
              "      <td>...</td>\n",
              "      <td>...</td>\n",
              "      <td>...</td>\n",
              "      <td>...</td>\n",
              "    </tr>\n",
              "    <tr>\n",
              "      <th>76</th>\n",
              "      <td>accident</td>\n",
              "      <td>Norf Carolina</td>\n",
              "      <td>'By accident' they knew what was gon happen ht...</td>\n",
              "      <td>0</td>\n",
              "      <td>67</td>\n",
              "      <td>[by, accident, they, knew, what, was, gon, hap...</td>\n",
              "      <td>[accident, knew, gon, happen, httpstcoysxun5vceh]</td>\n",
              "      <td>9</td>\n",
              "      <td>5</td>\n",
              "      <td>accidente</td>\n",
              "    </tr>\n",
              "    <tr>\n",
              "      <th>77</th>\n",
              "      <td>accident</td>\n",
              "      <td>San Mateo County, CA</td>\n",
              "      <td>Traffic accident N CABRILLO HWY/MAGELLAN AV MI...</td>\n",
              "      <td>1</td>\n",
              "      <td>67</td>\n",
              "      <td>[traffic, accident, n, cabrillo, hwymagellan, ...</td>\n",
              "      <td>[traffic, accident, n, cabrillo, hwymagellan, ...</td>\n",
              "      <td>9</td>\n",
              "      <td>9</td>\n",
              "      <td>accidente</td>\n",
              "    </tr>\n",
              "    <tr>\n",
              "      <th>78</th>\n",
              "      <td>accident</td>\n",
              "      <td>North Carolina</td>\n",
              "      <td>I-77 Mile Marker 31 to 40 South Mooresville  I...</td>\n",
              "      <td>1</td>\n",
              "      <td>95</td>\n",
              "      <td>[i77, mile, marker, 31, to, 40, south, mooresv...</td>\n",
              "      <td>[i77, mile, marker, 31, 40, south, mooresville...</td>\n",
              "      <td>16</td>\n",
              "      <td>14</td>\n",
              "      <td>accidente</td>\n",
              "    </tr>\n",
              "    <tr>\n",
              "      <th>79</th>\n",
              "      <td>accident</td>\n",
              "      <td>Njoro, Kenya</td>\n",
              "      <td>the pastor was not in the scene of the acciden...</td>\n",
              "      <td>1</td>\n",
              "      <td>91</td>\n",
              "      <td>[the, pastor, was, not, in, the, scene, of, th...</td>\n",
              "      <td>[pastor, scene, accidentwho, owner, range, rover]</td>\n",
              "      <td>17</td>\n",
              "      <td>6</td>\n",
              "      <td>accidente</td>\n",
              "    </tr>\n",
              "    <tr>\n",
              "      <th>80</th>\n",
              "      <td>accident</td>\n",
              "      <td>sin location</td>\n",
              "      <td>mom: 'we didn't get home as fast as we wished'...</td>\n",
              "      <td>0</td>\n",
              "      <td>142</td>\n",
              "      <td>[mom, we, didnt, get, home, as, fast, as, we, ...</td>\n",
              "      <td>[mom, didnt, get, home, fast, wished, mom, acc...</td>\n",
              "      <td>26</td>\n",
              "      <td>11</td>\n",
              "      <td>accidente</td>\n",
              "    </tr>\n",
              "  </tbody>\n",
              "</table>\n",
              "<p>80 rows × 10 columns</p>\n",
              "</div>"
            ],
            "text/plain": [
              "        keyword              location  ... elem_vector_filtrado  keyword_esp\n",
              "0   sin keyword          sin location  ...                    7  sin_keyword\n",
              "1   sin keyword          sin location  ...                    7  sin_keyword\n",
              "2   sin keyword          sin location  ...                   11  sin_keyword\n",
              "3   sin keyword          sin location  ...                    7  sin_keyword\n",
              "4   sin keyword          sin location  ...                    9  sin_keyword\n",
              "..          ...                   ...  ...                  ...          ...\n",
              "76     accident         Norf Carolina  ...                    5    accidente\n",
              "77     accident  San Mateo County, CA  ...                    9    accidente\n",
              "78     accident        North Carolina  ...                   14    accidente\n",
              "79     accident          Njoro, Kenya  ...                    6    accidente\n",
              "80     accident          sin location  ...                   11    accidente\n",
              "\n",
              "[80 rows x 10 columns]"
            ]
          },
          "metadata": {
            "tags": []
          },
          "execution_count": 172
        }
      ]
    },
    {
      "cell_type": "code",
      "metadata": {
        "id": "rdd5Rsi56zD1",
        "colab_type": "code",
        "outputId": "996f66d2-db69-4553-e645-ba82dc8ae082",
        "colab": {
          "base_uri": "https://localhost:8080/",
          "height": 34
        }
      },
      "source": [
        "#2 Categorizo sobre la variable 'keyword_esp'\n",
        "pd.get_dummies(df_train['keyword_esp'], drop_first=True).shape"
      ],
      "execution_count": 173,
      "outputs": [
        {
          "output_type": "execute_result",
          "data": {
            "text/plain": [
              "(7503, 210)"
            ]
          },
          "metadata": {
            "tags": []
          },
          "execution_count": 173
        }
      ]
    },
    {
      "cell_type": "code",
      "metadata": {
        "id": "xFw0cxem6y-p",
        "colab_type": "code",
        "outputId": "561a0484-5c42-414a-c12d-fe2662f20485",
        "colab": {
          "base_uri": "https://localhost:8080/",
          "height": 374
        }
      },
      "source": [
        "#2 Vemos el top 20 de las categorias mas frecuentes para la serie keyword \n",
        "df_train['keyword_esp'].value_counts().sort_values(ascending=False).head(20)"
      ],
      "execution_count": 174,
      "outputs": [
        {
          "output_type": "execute_result",
          "data": {
            "text/plain": [
              "fatalidades           82\n",
              "da¤o                  82\n",
              "inundaciones          72\n",
              "peligro               70\n",
              "tormenta              69\n",
              "escombros             65\n",
              "aplastado             65\n",
              "secuestro             64\n",
              "inundado              62\n",
              "sin_keyword           56\n",
              "incendio_forestal     52\n",
              "inundacion            45\n",
              "armageddon            42\n",
              "diluvio               42\n",
              "bolsas_de_cadaver     41\n",
              "sirena                40\n",
              "miedo                 40\n",
              "tornado/torbellino    40\n",
              "evacuar               40\n",
              "tormenta_de_viento    40\n",
              "Name: keyword_esp, dtype: int64"
            ]
          },
          "metadata": {
            "tags": []
          },
          "execution_count": 174
        }
      ]
    },
    {
      "cell_type": "code",
      "metadata": {
        "id": "1T_M6x3o6y7u",
        "colab_type": "code",
        "outputId": "abc28f2c-b610-468f-be0c-9488d8e34b07",
        "colab": {
          "base_uri": "https://localhost:8080/",
          "height": 238
        }
      },
      "source": [
        "#2 Hacemos un groupby de las categorias keyword con tweets verdaderos y falsos ('target')\n",
        "df_agrupado=df_train.groupby(['keyword_esp','target']).size().sort_values(ascending=False)\n",
        "df_agrupado"
      ],
      "execution_count": 175,
      "outputs": [
        {
          "output_type": "execute_result",
          "data": {
            "text/plain": [
              "keyword_esp               target\n",
              "da¤o                      0         59\n",
              "aplastado                 0         56\n",
              "peligro                   0         55\n",
              "inundaciones              1         51\n",
              "inundado                  0         49\n",
              "                                    ..\n",
              "bolsas_de_cadaver         1          1\n",
              "derrame_de_petroleo       0          1\n",
              "bolsa_de_cadaver          1          1\n",
              "resplandeciente/ardiente  1          1\n",
              "ruina                     1          1\n",
              "Length: 419, dtype: int64"
            ]
          },
          "metadata": {
            "tags": []
          },
          "execution_count": 175
        }
      ]
    },
    {
      "cell_type": "code",
      "metadata": {
        "id": "MTv51Wu-7tbh",
        "colab_type": "code",
        "outputId": "d6f90927-c17c-434e-e7e9-f935cd782ab2",
        "colab": {
          "base_uri": "https://localhost:8080/",
          "height": 374
        }
      },
      "source": [
        "df_train['keyword_esp'].value_counts().nlargest(20)"
      ],
      "execution_count": 176,
      "outputs": [
        {
          "output_type": "execute_result",
          "data": {
            "text/plain": [
              "fatalidades           82\n",
              "da¤o                  82\n",
              "inundaciones          72\n",
              "peligro               70\n",
              "tormenta              69\n",
              "escombros             65\n",
              "aplastado             65\n",
              "secuestro             64\n",
              "inundado              62\n",
              "sin_keyword           56\n",
              "incendio_forestal     52\n",
              "inundacion            45\n",
              "diluvio               42\n",
              "armageddon            42\n",
              "bolsas_de_cadaver     41\n",
              "sirena                40\n",
              "miedo                 40\n",
              "tornado/torbellino    40\n",
              "evacuar               40\n",
              "tormenta_de_viento    40\n",
              "Name: keyword_esp, dtype: int64"
            ]
          },
          "metadata": {
            "tags": []
          },
          "execution_count": 176
        }
      ]
    },
    {
      "cell_type": "code",
      "metadata": {
        "id": "6ZhnZfuY6y5Q",
        "colab_type": "code",
        "outputId": "5bf4833b-33c7-48dd-db99-e1e5b45418d2",
        "colab": {
          "base_uri": "https://localhost:8080/",
          "height": 238
        }
      },
      "source": [
        "df_agrupado"
      ],
      "execution_count": 177,
      "outputs": [
        {
          "output_type": "execute_result",
          "data": {
            "text/plain": [
              "keyword_esp               target\n",
              "da¤o                      0         59\n",
              "aplastado                 0         56\n",
              "peligro                   0         55\n",
              "inundaciones              1         51\n",
              "inundado                  0         49\n",
              "                                    ..\n",
              "bolsas_de_cadaver         1          1\n",
              "derrame_de_petroleo       0          1\n",
              "bolsa_de_cadaver          1          1\n",
              "resplandeciente/ardiente  1          1\n",
              "ruina                     1          1\n",
              "Length: 419, dtype: int64"
            ]
          },
          "metadata": {
            "tags": []
          },
          "execution_count": 177
        }
      ]
    },
    {
      "cell_type": "code",
      "metadata": {
        "id": "OFIpbsxH6ywT",
        "colab_type": "code",
        "outputId": "95687f1d-dd52-444f-e434-c67d045c965d",
        "colab": {
          "base_uri": "https://localhost:8080/",
          "height": 419
        }
      },
      "source": [
        "df_train_by_keyword_esp=df_agrupado.groupby(['keyword_esp','target']).count()\n",
        "df_train_by_keyword_esp=df_train_by_keyword_esp.reset_index()\n",
        "df_train_by_keyword_esp"
      ],
      "execution_count": 178,
      "outputs": [
        {
          "output_type": "execute_result",
          "data": {
            "text/html": [
              "<div>\n",
              "<style scoped>\n",
              "    .dataframe tbody tr th:only-of-type {\n",
              "        vertical-align: middle;\n",
              "    }\n",
              "\n",
              "    .dataframe tbody tr th {\n",
              "        vertical-align: top;\n",
              "    }\n",
              "\n",
              "    .dataframe thead th {\n",
              "        text-align: right;\n",
              "    }\n",
              "</style>\n",
              "<table border=\"1\" class=\"dataframe\">\n",
              "  <thead>\n",
              "    <tr style=\"text-align: right;\">\n",
              "      <th></th>\n",
              "      <th>keyword_esp</th>\n",
              "      <th>target</th>\n",
              "      <th>0</th>\n",
              "    </tr>\n",
              "  </thead>\n",
              "  <tbody>\n",
              "    <tr>\n",
              "      <th>0</th>\n",
              "      <td>accidente</td>\n",
              "      <td>0</td>\n",
              "      <td>1</td>\n",
              "    </tr>\n",
              "    <tr>\n",
              "      <th>1</th>\n",
              "      <td>accidente</td>\n",
              "      <td>1</td>\n",
              "      <td>1</td>\n",
              "    </tr>\n",
              "    <tr>\n",
              "      <th>2</th>\n",
              "      <td>accidente_avion</td>\n",
              "      <td>0</td>\n",
              "      <td>1</td>\n",
              "    </tr>\n",
              "    <tr>\n",
              "      <th>3</th>\n",
              "      <td>accidente_avion</td>\n",
              "      <td>1</td>\n",
              "      <td>1</td>\n",
              "    </tr>\n",
              "    <tr>\n",
              "      <th>4</th>\n",
              "      <td>ahogado</td>\n",
              "      <td>0</td>\n",
              "      <td>1</td>\n",
              "    </tr>\n",
              "    <tr>\n",
              "      <th>...</th>\n",
              "      <td>...</td>\n",
              "      <td>...</td>\n",
              "      <td>...</td>\n",
              "    </tr>\n",
              "    <tr>\n",
              "      <th>414</th>\n",
              "      <td>ventisca</td>\n",
              "      <td>1</td>\n",
              "      <td>1</td>\n",
              "    </tr>\n",
              "    <tr>\n",
              "      <th>415</th>\n",
              "      <td>volcan</td>\n",
              "      <td>0</td>\n",
              "      <td>1</td>\n",
              "    </tr>\n",
              "    <tr>\n",
              "      <th>416</th>\n",
              "      <td>volcan</td>\n",
              "      <td>1</td>\n",
              "      <td>1</td>\n",
              "    </tr>\n",
              "    <tr>\n",
              "      <th>417</th>\n",
              "      <td>zona_de_guerra</td>\n",
              "      <td>0</td>\n",
              "      <td>1</td>\n",
              "    </tr>\n",
              "    <tr>\n",
              "      <th>418</th>\n",
              "      <td>zona_de_guerra</td>\n",
              "      <td>1</td>\n",
              "      <td>1</td>\n",
              "    </tr>\n",
              "  </tbody>\n",
              "</table>\n",
              "<p>419 rows × 3 columns</p>\n",
              "</div>"
            ],
            "text/plain": [
              "         keyword_esp  target  0\n",
              "0          accidente       0  1\n",
              "1          accidente       1  1\n",
              "2    accidente_avion       0  1\n",
              "3    accidente_avion       1  1\n",
              "4            ahogado       0  1\n",
              "..               ...     ... ..\n",
              "414         ventisca       1  1\n",
              "415           volcan       0  1\n",
              "416           volcan       1  1\n",
              "417   zona_de_guerra       0  1\n",
              "418   zona_de_guerra       1  1\n",
              "\n",
              "[419 rows x 3 columns]"
            ]
          },
          "metadata": {
            "tags": []
          },
          "execution_count": 178
        }
      ]
    },
    {
      "cell_type": "code",
      "metadata": {
        "id": "fcD4J9PI905H",
        "colab_type": "code",
        "outputId": "9cc7da24-89f9-42f0-d8d2-5c1dd7ad375f",
        "colab": {
          "base_uri": "https://localhost:8080/",
          "height": 481
        }
      },
      "source": [
        "df_agrupado2=df_train.groupby(['keyword_esp']).agg({'target':['count'],'caracteres_tweet':['max','min','mean']})\n",
        "df_agrupado2"
      ],
      "execution_count": 179,
      "outputs": [
        {
          "output_type": "execute_result",
          "data": {
            "text/html": [
              "<div>\n",
              "<style scoped>\n",
              "    .dataframe tbody tr th:only-of-type {\n",
              "        vertical-align: middle;\n",
              "    }\n",
              "\n",
              "    .dataframe tbody tr th {\n",
              "        vertical-align: top;\n",
              "    }\n",
              "\n",
              "    .dataframe thead tr th {\n",
              "        text-align: left;\n",
              "    }\n",
              "\n",
              "    .dataframe thead tr:last-of-type th {\n",
              "        text-align: right;\n",
              "    }\n",
              "</style>\n",
              "<table border=\"1\" class=\"dataframe\">\n",
              "  <thead>\n",
              "    <tr>\n",
              "      <th></th>\n",
              "      <th>target</th>\n",
              "      <th colspan=\"3\" halign=\"left\">caracteres_tweet</th>\n",
              "    </tr>\n",
              "    <tr>\n",
              "      <th></th>\n",
              "      <th>count</th>\n",
              "      <th>max</th>\n",
              "      <th>min</th>\n",
              "      <th>mean</th>\n",
              "    </tr>\n",
              "    <tr>\n",
              "      <th>keyword_esp</th>\n",
              "      <th></th>\n",
              "      <th></th>\n",
              "      <th></th>\n",
              "      <th></th>\n",
              "    </tr>\n",
              "  </thead>\n",
              "  <tbody>\n",
              "    <tr>\n",
              "      <th>accidente</th>\n",
              "      <td>35</td>\n",
              "      <td>142</td>\n",
              "      <td>35</td>\n",
              "      <td>100.085714</td>\n",
              "    </tr>\n",
              "    <tr>\n",
              "      <th>accidente_avion</th>\n",
              "      <td>34</td>\n",
              "      <td>140</td>\n",
              "      <td>26</td>\n",
              "      <td>105.529412</td>\n",
              "    </tr>\n",
              "    <tr>\n",
              "      <th>ahogado</th>\n",
              "      <td>38</td>\n",
              "      <td>143</td>\n",
              "      <td>31</td>\n",
              "      <td>98.131579</td>\n",
              "    </tr>\n",
              "    <tr>\n",
              "      <th>ahogamiento/ahogandose</th>\n",
              "      <td>34</td>\n",
              "      <td>139</td>\n",
              "      <td>27</td>\n",
              "      <td>92.794118</td>\n",
              "    </tr>\n",
              "    <tr>\n",
              "      <th>ahogar</th>\n",
              "      <td>32</td>\n",
              "      <td>145</td>\n",
              "      <td>23</td>\n",
              "      <td>84.437500</td>\n",
              "    </tr>\n",
              "    <tr>\n",
              "      <th>...</th>\n",
              "      <td>...</td>\n",
              "      <td>...</td>\n",
              "      <td>...</td>\n",
              "      <td>...</td>\n",
              "    </tr>\n",
              "    <tr>\n",
              "      <th>trueno</th>\n",
              "      <td>38</td>\n",
              "      <td>146</td>\n",
              "      <td>10</td>\n",
              "      <td>72.868421</td>\n",
              "    </tr>\n",
              "    <tr>\n",
              "      <th>tsunami</th>\n",
              "      <td>34</td>\n",
              "      <td>148</td>\n",
              "      <td>18</td>\n",
              "      <td>85.764706</td>\n",
              "    </tr>\n",
              "    <tr>\n",
              "      <th>ventisca</th>\n",
              "      <td>37</td>\n",
              "      <td>140</td>\n",
              "      <td>20</td>\n",
              "      <td>71.891892</td>\n",
              "    </tr>\n",
              "    <tr>\n",
              "      <th>volcan</th>\n",
              "      <td>26</td>\n",
              "      <td>143</td>\n",
              "      <td>30</td>\n",
              "      <td>110.692308</td>\n",
              "    </tr>\n",
              "    <tr>\n",
              "      <th>zona_de_guerra</th>\n",
              "      <td>24</td>\n",
              "      <td>140</td>\n",
              "      <td>31</td>\n",
              "      <td>81.500000</td>\n",
              "    </tr>\n",
              "  </tbody>\n",
              "</table>\n",
              "<p>211 rows × 4 columns</p>\n",
              "</div>"
            ],
            "text/plain": [
              "                       target caracteres_tweet                \n",
              "                        count              max min        mean\n",
              "keyword_esp                                                   \n",
              "accidente                  35              142  35  100.085714\n",
              "accidente_avion            34              140  26  105.529412\n",
              "ahogado                    38              143  31   98.131579\n",
              "ahogamiento/ahogandose     34              139  27   92.794118\n",
              "ahogar                     32              145  23   84.437500\n",
              "...                       ...              ...  ..         ...\n",
              "trueno                     38              146  10   72.868421\n",
              "tsunami                    34              148  18   85.764706\n",
              "ventisca                   37              140  20   71.891892\n",
              "volcan                     26              143  30  110.692308\n",
              "zona_de_guerra             24              140  31   81.500000\n",
              "\n",
              "[211 rows x 4 columns]"
            ]
          },
          "metadata": {
            "tags": []
          },
          "execution_count": 179
        }
      ]
    },
    {
      "cell_type": "code",
      "metadata": {
        "id": "PkHyoiz4PqK7",
        "colab_type": "code",
        "colab": {}
      },
      "source": [
        "#df_agrupado.loc[df_agrupado[('keyword_esp','count')]>5,:].sort_values(('keyword_esp','count'),ascending=False)"
      ],
      "execution_count": 0,
      "outputs": []
    },
    {
      "cell_type": "markdown",
      "metadata": {
        "id": "dh_uxNi8kGLN",
        "colab_type": "text"
      },
      "source": [
        "**One-Hot encoding**"
      ]
    },
    {
      "cell_type": "code",
      "metadata": {
        "id": "W5D4QQIfvcl9",
        "colab_type": "code",
        "colab": {
          "base_uri": "https://localhost:8080/",
          "height": 742
        },
        "outputId": "28c16bfc-4514-4e41-b895-e1490b59d97b"
      },
      "source": [
        "df_train"
      ],
      "execution_count": 187,
      "outputs": [
        {
          "output_type": "execute_result",
          "data": {
            "text/html": [
              "<div>\n",
              "<style scoped>\n",
              "    .dataframe tbody tr th:only-of-type {\n",
              "        vertical-align: middle;\n",
              "    }\n",
              "\n",
              "    .dataframe tbody tr th {\n",
              "        vertical-align: top;\n",
              "    }\n",
              "\n",
              "    .dataframe thead th {\n",
              "        text-align: right;\n",
              "    }\n",
              "</style>\n",
              "<table border=\"1\" class=\"dataframe\">\n",
              "  <thead>\n",
              "    <tr style=\"text-align: right;\">\n",
              "      <th></th>\n",
              "      <th>keyword</th>\n",
              "      <th>location</th>\n",
              "      <th>text</th>\n",
              "      <th>target</th>\n",
              "      <th>caracteres_tweet</th>\n",
              "      <th>text_vector</th>\n",
              "      <th>text_vector_filtrado</th>\n",
              "      <th>elem_vector</th>\n",
              "      <th>elem_vector_filtrado</th>\n",
              "      <th>keyword_esp</th>\n",
              "    </tr>\n",
              "  </thead>\n",
              "  <tbody>\n",
              "    <tr>\n",
              "      <th>0</th>\n",
              "      <td>sin keyword</td>\n",
              "      <td>sin location</td>\n",
              "      <td>Our Deeds are the Reason of this #earthquake M...</td>\n",
              "      <td>1</td>\n",
              "      <td>69</td>\n",
              "      <td>[our, deeds, are, the, reason, of, this, earth...</td>\n",
              "      <td>[deeds, reason, earthquake, may, allah, forgiv...</td>\n",
              "      <td>13</td>\n",
              "      <td>7</td>\n",
              "      <td>sin_keyword</td>\n",
              "    </tr>\n",
              "    <tr>\n",
              "      <th>1</th>\n",
              "      <td>sin keyword</td>\n",
              "      <td>sin location</td>\n",
              "      <td>Forest fire near La Ronge Sask. Canada</td>\n",
              "      <td>1</td>\n",
              "      <td>38</td>\n",
              "      <td>[forest, fire, near, la, ronge, sask, canada]</td>\n",
              "      <td>[forest, fire, near, la, ronge, sask, canada]</td>\n",
              "      <td>7</td>\n",
              "      <td>7</td>\n",
              "      <td>sin_keyword</td>\n",
              "    </tr>\n",
              "    <tr>\n",
              "      <th>2</th>\n",
              "      <td>sin keyword</td>\n",
              "      <td>sin location</td>\n",
              "      <td>All residents asked to 'shelter in place' are ...</td>\n",
              "      <td>1</td>\n",
              "      <td>133</td>\n",
              "      <td>[all, residents, asked, to, shelter, in, place...</td>\n",
              "      <td>[residents, asked, shelter, place, notified, o...</td>\n",
              "      <td>22</td>\n",
              "      <td>11</td>\n",
              "      <td>sin_keyword</td>\n",
              "    </tr>\n",
              "    <tr>\n",
              "      <th>3</th>\n",
              "      <td>sin keyword</td>\n",
              "      <td>sin location</td>\n",
              "      <td>13,000 people receive #wildfires evacuation or...</td>\n",
              "      <td>1</td>\n",
              "      <td>65</td>\n",
              "      <td>[13000, people, receive, wildfires, evacuation...</td>\n",
              "      <td>[13000, people, receive, wildfires, evacuation...</td>\n",
              "      <td>8</td>\n",
              "      <td>7</td>\n",
              "      <td>sin_keyword</td>\n",
              "    </tr>\n",
              "    <tr>\n",
              "      <th>4</th>\n",
              "      <td>sin keyword</td>\n",
              "      <td>sin location</td>\n",
              "      <td>Just got sent this photo from Ruby #Alaska as ...</td>\n",
              "      <td>1</td>\n",
              "      <td>88</td>\n",
              "      <td>[just, got, sent, this, photo, from, ruby, ala...</td>\n",
              "      <td>[got, sent, photo, ruby, alaska, smoke, wildfi...</td>\n",
              "      <td>16</td>\n",
              "      <td>9</td>\n",
              "      <td>sin_keyword</td>\n",
              "    </tr>\n",
              "    <tr>\n",
              "      <th>...</th>\n",
              "      <td>...</td>\n",
              "      <td>...</td>\n",
              "      <td>...</td>\n",
              "      <td>...</td>\n",
              "      <td>...</td>\n",
              "      <td>...</td>\n",
              "      <td>...</td>\n",
              "      <td>...</td>\n",
              "      <td>...</td>\n",
              "      <td>...</td>\n",
              "    </tr>\n",
              "    <tr>\n",
              "      <th>7604</th>\n",
              "      <td>sin keyword</td>\n",
              "      <td>sin location</td>\n",
              "      <td>#WorldNews Fallen powerlines on G:link tram: U...</td>\n",
              "      <td>1</td>\n",
              "      <td>136</td>\n",
              "      <td>[worldnews, fallen, powerlines, on, glink, tra...</td>\n",
              "      <td>[worldnews, fallen, powerlines, glink, tram, u...</td>\n",
              "      <td>19</td>\n",
              "      <td>13</td>\n",
              "      <td>sin_keyword</td>\n",
              "    </tr>\n",
              "    <tr>\n",
              "      <th>7605</th>\n",
              "      <td>sin keyword</td>\n",
              "      <td>sin location</td>\n",
              "      <td>on the flip side I'm at Walmart and there is a...</td>\n",
              "      <td>1</td>\n",
              "      <td>114</td>\n",
              "      <td>[on, the, flip, side, im, at, walmart, and, th...</td>\n",
              "      <td>[flip, side, im, walmart, bomb, everyone, evac...</td>\n",
              "      <td>26</td>\n",
              "      <td>10</td>\n",
              "      <td>sin_keyword</td>\n",
              "    </tr>\n",
              "    <tr>\n",
              "      <th>7606</th>\n",
              "      <td>sin keyword</td>\n",
              "      <td>sin location</td>\n",
              "      <td>Suicide bomber kills 15 in Saudi security site...</td>\n",
              "      <td>1</td>\n",
              "      <td>121</td>\n",
              "      <td>[suicide, bomber, kills, 15, in, saudi, securi...</td>\n",
              "      <td>[suicide, bomber, kills, 15, saudi, security, ...</td>\n",
              "      <td>16</td>\n",
              "      <td>15</td>\n",
              "      <td>sin_keyword</td>\n",
              "    </tr>\n",
              "    <tr>\n",
              "      <th>7608</th>\n",
              "      <td>sin keyword</td>\n",
              "      <td>sin location</td>\n",
              "      <td>Two giant cranes holding a bridge collapse int...</td>\n",
              "      <td>1</td>\n",
              "      <td>83</td>\n",
              "      <td>[two, giant, cranes, holding, a, bridge, colla...</td>\n",
              "      <td>[two, giant, cranes, holding, bridge, collapse...</td>\n",
              "      <td>11</td>\n",
              "      <td>9</td>\n",
              "      <td>sin_keyword</td>\n",
              "    </tr>\n",
              "    <tr>\n",
              "      <th>7612</th>\n",
              "      <td>sin keyword</td>\n",
              "      <td>sin location</td>\n",
              "      <td>The Latest: More Homes Razed by Northern Calif...</td>\n",
              "      <td>1</td>\n",
              "      <td>94</td>\n",
              "      <td>[the, latest, more, homes, razed, by, northern...</td>\n",
              "      <td>[latest, homes, razed, northern, california, w...</td>\n",
              "      <td>12</td>\n",
              "      <td>9</td>\n",
              "      <td>sin_keyword</td>\n",
              "    </tr>\n",
              "  </tbody>\n",
              "</table>\n",
              "<p>7503 rows × 10 columns</p>\n",
              "</div>"
            ],
            "text/plain": [
              "          keyword      location  ... elem_vector_filtrado  keyword_esp\n",
              "0     sin keyword  sin location  ...                    7  sin_keyword\n",
              "1     sin keyword  sin location  ...                    7  sin_keyword\n",
              "2     sin keyword  sin location  ...                   11  sin_keyword\n",
              "3     sin keyword  sin location  ...                    7  sin_keyword\n",
              "4     sin keyword  sin location  ...                    9  sin_keyword\n",
              "...           ...           ...  ...                  ...          ...\n",
              "7604  sin keyword  sin location  ...                   13  sin_keyword\n",
              "7605  sin keyword  sin location  ...                   10  sin_keyword\n",
              "7606  sin keyword  sin location  ...                   15  sin_keyword\n",
              "7608  sin keyword  sin location  ...                    9  sin_keyword\n",
              "7612  sin keyword  sin location  ...                    9  sin_keyword\n",
              "\n",
              "[7503 rows x 10 columns]"
            ]
          },
          "metadata": {
            "tags": []
          },
          "execution_count": 187
        }
      ]
    },
    {
      "cell_type": "code",
      "metadata": {
        "id": "2eaQ2Kp_sA3B",
        "colab_type": "code",
        "colab": {
          "base_uri": "https://localhost:8080/",
          "height": 253
        },
        "outputId": "ead62d1e-c295-4677-8920-a01c3d0d43b8"
      },
      "source": [
        "df_train_dummies=pd.get_dummies(df_train.keyword)\n",
        "df_train_dummies.head()"
      ],
      "execution_count": 194,
      "outputs": [
        {
          "output_type": "execute_result",
          "data": {
            "text/html": [
              "<div>\n",
              "<style scoped>\n",
              "    .dataframe tbody tr th:only-of-type {\n",
              "        vertical-align: middle;\n",
              "    }\n",
              "\n",
              "    .dataframe tbody tr th {\n",
              "        vertical-align: top;\n",
              "    }\n",
              "\n",
              "    .dataframe thead th {\n",
              "        text-align: right;\n",
              "    }\n",
              "</style>\n",
              "<table border=\"1\" class=\"dataframe\">\n",
              "  <thead>\n",
              "    <tr style=\"text-align: right;\">\n",
              "      <th></th>\n",
              "      <th>ablaze</th>\n",
              "      <th>accident</th>\n",
              "      <th>aftershock</th>\n",
              "      <th>airplane_accident</th>\n",
              "      <th>ambulance</th>\n",
              "      <th>annihilated</th>\n",
              "      <th>annihilation</th>\n",
              "      <th>apocalypse</th>\n",
              "      <th>armageddon</th>\n",
              "      <th>army</th>\n",
              "      <th>arson</th>\n",
              "      <th>arsonist</th>\n",
              "      <th>attack</th>\n",
              "      <th>attacked</th>\n",
              "      <th>avalanche</th>\n",
              "      <th>battle</th>\n",
              "      <th>bioterror</th>\n",
              "      <th>bioterrorism</th>\n",
              "      <th>blaze</th>\n",
              "      <th>blazing</th>\n",
              "      <th>bleeding</th>\n",
              "      <th>blew_up</th>\n",
              "      <th>blight</th>\n",
              "      <th>blizzard</th>\n",
              "      <th>blood</th>\n",
              "      <th>bloody</th>\n",
              "      <th>blown_up</th>\n",
              "      <th>body_bag</th>\n",
              "      <th>body_bagging</th>\n",
              "      <th>body_bags</th>\n",
              "      <th>bomb</th>\n",
              "      <th>bombed</th>\n",
              "      <th>bombing</th>\n",
              "      <th>bridge_collapse</th>\n",
              "      <th>buildings_burning</th>\n",
              "      <th>buildings_on_fire</th>\n",
              "      <th>burned</th>\n",
              "      <th>burning</th>\n",
              "      <th>burning_buildings</th>\n",
              "      <th>bush_fires</th>\n",
              "      <th>...</th>\n",
              "      <th>snowstorm</th>\n",
              "      <th>storm</th>\n",
              "      <th>stretcher</th>\n",
              "      <th>structural_failure</th>\n",
              "      <th>suicide_bomb</th>\n",
              "      <th>suicide_bomber</th>\n",
              "      <th>suicide_bombing</th>\n",
              "      <th>sunk</th>\n",
              "      <th>survive</th>\n",
              "      <th>survived</th>\n",
              "      <th>survivors</th>\n",
              "      <th>terrorism</th>\n",
              "      <th>terrorist</th>\n",
              "      <th>threat</th>\n",
              "      <th>thunder</th>\n",
              "      <th>thunderstorm</th>\n",
              "      <th>tornado</th>\n",
              "      <th>tragedy</th>\n",
              "      <th>trapped</th>\n",
              "      <th>trauma</th>\n",
              "      <th>traumatised</th>\n",
              "      <th>trouble</th>\n",
              "      <th>tsunami</th>\n",
              "      <th>twister</th>\n",
              "      <th>typhoon</th>\n",
              "      <th>upheaval</th>\n",
              "      <th>violent_storm</th>\n",
              "      <th>volcano</th>\n",
              "      <th>war_zone</th>\n",
              "      <th>weapon</th>\n",
              "      <th>weapons</th>\n",
              "      <th>whirlwind</th>\n",
              "      <th>wild_fires</th>\n",
              "      <th>wildfire</th>\n",
              "      <th>windstorm</th>\n",
              "      <th>wounded</th>\n",
              "      <th>wounds</th>\n",
              "      <th>wreck</th>\n",
              "      <th>wreckage</th>\n",
              "      <th>wrecked</th>\n",
              "    </tr>\n",
              "  </thead>\n",
              "  <tbody>\n",
              "    <tr>\n",
              "      <th>0</th>\n",
              "      <td>0</td>\n",
              "      <td>0</td>\n",
              "      <td>0</td>\n",
              "      <td>0</td>\n",
              "      <td>0</td>\n",
              "      <td>0</td>\n",
              "      <td>0</td>\n",
              "      <td>0</td>\n",
              "      <td>0</td>\n",
              "      <td>0</td>\n",
              "      <td>0</td>\n",
              "      <td>0</td>\n",
              "      <td>0</td>\n",
              "      <td>0</td>\n",
              "      <td>0</td>\n",
              "      <td>0</td>\n",
              "      <td>0</td>\n",
              "      <td>0</td>\n",
              "      <td>0</td>\n",
              "      <td>0</td>\n",
              "      <td>0</td>\n",
              "      <td>0</td>\n",
              "      <td>0</td>\n",
              "      <td>0</td>\n",
              "      <td>0</td>\n",
              "      <td>0</td>\n",
              "      <td>0</td>\n",
              "      <td>0</td>\n",
              "      <td>0</td>\n",
              "      <td>0</td>\n",
              "      <td>0</td>\n",
              "      <td>0</td>\n",
              "      <td>0</td>\n",
              "      <td>0</td>\n",
              "      <td>0</td>\n",
              "      <td>0</td>\n",
              "      <td>0</td>\n",
              "      <td>0</td>\n",
              "      <td>0</td>\n",
              "      <td>0</td>\n",
              "      <td>...</td>\n",
              "      <td>0</td>\n",
              "      <td>0</td>\n",
              "      <td>0</td>\n",
              "      <td>0</td>\n",
              "      <td>0</td>\n",
              "      <td>0</td>\n",
              "      <td>0</td>\n",
              "      <td>0</td>\n",
              "      <td>0</td>\n",
              "      <td>0</td>\n",
              "      <td>0</td>\n",
              "      <td>0</td>\n",
              "      <td>0</td>\n",
              "      <td>0</td>\n",
              "      <td>0</td>\n",
              "      <td>0</td>\n",
              "      <td>0</td>\n",
              "      <td>0</td>\n",
              "      <td>0</td>\n",
              "      <td>0</td>\n",
              "      <td>0</td>\n",
              "      <td>0</td>\n",
              "      <td>0</td>\n",
              "      <td>0</td>\n",
              "      <td>0</td>\n",
              "      <td>0</td>\n",
              "      <td>0</td>\n",
              "      <td>0</td>\n",
              "      <td>0</td>\n",
              "      <td>0</td>\n",
              "      <td>0</td>\n",
              "      <td>0</td>\n",
              "      <td>0</td>\n",
              "      <td>0</td>\n",
              "      <td>0</td>\n",
              "      <td>0</td>\n",
              "      <td>0</td>\n",
              "      <td>0</td>\n",
              "      <td>0</td>\n",
              "      <td>0</td>\n",
              "    </tr>\n",
              "    <tr>\n",
              "      <th>1</th>\n",
              "      <td>0</td>\n",
              "      <td>0</td>\n",
              "      <td>0</td>\n",
              "      <td>0</td>\n",
              "      <td>0</td>\n",
              "      <td>0</td>\n",
              "      <td>0</td>\n",
              "      <td>0</td>\n",
              "      <td>0</td>\n",
              "      <td>0</td>\n",
              "      <td>0</td>\n",
              "      <td>0</td>\n",
              "      <td>0</td>\n",
              "      <td>0</td>\n",
              "      <td>0</td>\n",
              "      <td>0</td>\n",
              "      <td>0</td>\n",
              "      <td>0</td>\n",
              "      <td>0</td>\n",
              "      <td>0</td>\n",
              "      <td>0</td>\n",
              "      <td>0</td>\n",
              "      <td>0</td>\n",
              "      <td>0</td>\n",
              "      <td>0</td>\n",
              "      <td>0</td>\n",
              "      <td>0</td>\n",
              "      <td>0</td>\n",
              "      <td>0</td>\n",
              "      <td>0</td>\n",
              "      <td>0</td>\n",
              "      <td>0</td>\n",
              "      <td>0</td>\n",
              "      <td>0</td>\n",
              "      <td>0</td>\n",
              "      <td>0</td>\n",
              "      <td>0</td>\n",
              "      <td>0</td>\n",
              "      <td>0</td>\n",
              "      <td>0</td>\n",
              "      <td>...</td>\n",
              "      <td>0</td>\n",
              "      <td>0</td>\n",
              "      <td>0</td>\n",
              "      <td>0</td>\n",
              "      <td>0</td>\n",
              "      <td>0</td>\n",
              "      <td>0</td>\n",
              "      <td>0</td>\n",
              "      <td>0</td>\n",
              "      <td>0</td>\n",
              "      <td>0</td>\n",
              "      <td>0</td>\n",
              "      <td>0</td>\n",
              "      <td>0</td>\n",
              "      <td>0</td>\n",
              "      <td>0</td>\n",
              "      <td>0</td>\n",
              "      <td>0</td>\n",
              "      <td>0</td>\n",
              "      <td>0</td>\n",
              "      <td>0</td>\n",
              "      <td>0</td>\n",
              "      <td>0</td>\n",
              "      <td>0</td>\n",
              "      <td>0</td>\n",
              "      <td>0</td>\n",
              "      <td>0</td>\n",
              "      <td>0</td>\n",
              "      <td>0</td>\n",
              "      <td>0</td>\n",
              "      <td>0</td>\n",
              "      <td>0</td>\n",
              "      <td>0</td>\n",
              "      <td>0</td>\n",
              "      <td>0</td>\n",
              "      <td>0</td>\n",
              "      <td>0</td>\n",
              "      <td>0</td>\n",
              "      <td>0</td>\n",
              "      <td>0</td>\n",
              "    </tr>\n",
              "    <tr>\n",
              "      <th>2</th>\n",
              "      <td>0</td>\n",
              "      <td>0</td>\n",
              "      <td>0</td>\n",
              "      <td>0</td>\n",
              "      <td>0</td>\n",
              "      <td>0</td>\n",
              "      <td>0</td>\n",
              "      <td>0</td>\n",
              "      <td>0</td>\n",
              "      <td>0</td>\n",
              "      <td>0</td>\n",
              "      <td>0</td>\n",
              "      <td>0</td>\n",
              "      <td>0</td>\n",
              "      <td>0</td>\n",
              "      <td>0</td>\n",
              "      <td>0</td>\n",
              "      <td>0</td>\n",
              "      <td>0</td>\n",
              "      <td>0</td>\n",
              "      <td>0</td>\n",
              "      <td>0</td>\n",
              "      <td>0</td>\n",
              "      <td>0</td>\n",
              "      <td>0</td>\n",
              "      <td>0</td>\n",
              "      <td>0</td>\n",
              "      <td>0</td>\n",
              "      <td>0</td>\n",
              "      <td>0</td>\n",
              "      <td>0</td>\n",
              "      <td>0</td>\n",
              "      <td>0</td>\n",
              "      <td>0</td>\n",
              "      <td>0</td>\n",
              "      <td>0</td>\n",
              "      <td>0</td>\n",
              "      <td>0</td>\n",
              "      <td>0</td>\n",
              "      <td>0</td>\n",
              "      <td>...</td>\n",
              "      <td>0</td>\n",
              "      <td>0</td>\n",
              "      <td>0</td>\n",
              "      <td>0</td>\n",
              "      <td>0</td>\n",
              "      <td>0</td>\n",
              "      <td>0</td>\n",
              "      <td>0</td>\n",
              "      <td>0</td>\n",
              "      <td>0</td>\n",
              "      <td>0</td>\n",
              "      <td>0</td>\n",
              "      <td>0</td>\n",
              "      <td>0</td>\n",
              "      <td>0</td>\n",
              "      <td>0</td>\n",
              "      <td>0</td>\n",
              "      <td>0</td>\n",
              "      <td>0</td>\n",
              "      <td>0</td>\n",
              "      <td>0</td>\n",
              "      <td>0</td>\n",
              "      <td>0</td>\n",
              "      <td>0</td>\n",
              "      <td>0</td>\n",
              "      <td>0</td>\n",
              "      <td>0</td>\n",
              "      <td>0</td>\n",
              "      <td>0</td>\n",
              "      <td>0</td>\n",
              "      <td>0</td>\n",
              "      <td>0</td>\n",
              "      <td>0</td>\n",
              "      <td>0</td>\n",
              "      <td>0</td>\n",
              "      <td>0</td>\n",
              "      <td>0</td>\n",
              "      <td>0</td>\n",
              "      <td>0</td>\n",
              "      <td>0</td>\n",
              "    </tr>\n",
              "    <tr>\n",
              "      <th>3</th>\n",
              "      <td>0</td>\n",
              "      <td>0</td>\n",
              "      <td>0</td>\n",
              "      <td>0</td>\n",
              "      <td>0</td>\n",
              "      <td>0</td>\n",
              "      <td>0</td>\n",
              "      <td>0</td>\n",
              "      <td>0</td>\n",
              "      <td>0</td>\n",
              "      <td>0</td>\n",
              "      <td>0</td>\n",
              "      <td>0</td>\n",
              "      <td>0</td>\n",
              "      <td>0</td>\n",
              "      <td>0</td>\n",
              "      <td>0</td>\n",
              "      <td>0</td>\n",
              "      <td>0</td>\n",
              "      <td>0</td>\n",
              "      <td>0</td>\n",
              "      <td>0</td>\n",
              "      <td>0</td>\n",
              "      <td>0</td>\n",
              "      <td>0</td>\n",
              "      <td>0</td>\n",
              "      <td>0</td>\n",
              "      <td>0</td>\n",
              "      <td>0</td>\n",
              "      <td>0</td>\n",
              "      <td>0</td>\n",
              "      <td>0</td>\n",
              "      <td>0</td>\n",
              "      <td>0</td>\n",
              "      <td>0</td>\n",
              "      <td>0</td>\n",
              "      <td>0</td>\n",
              "      <td>0</td>\n",
              "      <td>0</td>\n",
              "      <td>0</td>\n",
              "      <td>...</td>\n",
              "      <td>0</td>\n",
              "      <td>0</td>\n",
              "      <td>0</td>\n",
              "      <td>0</td>\n",
              "      <td>0</td>\n",
              "      <td>0</td>\n",
              "      <td>0</td>\n",
              "      <td>0</td>\n",
              "      <td>0</td>\n",
              "      <td>0</td>\n",
              "      <td>0</td>\n",
              "      <td>0</td>\n",
              "      <td>0</td>\n",
              "      <td>0</td>\n",
              "      <td>0</td>\n",
              "      <td>0</td>\n",
              "      <td>0</td>\n",
              "      <td>0</td>\n",
              "      <td>0</td>\n",
              "      <td>0</td>\n",
              "      <td>0</td>\n",
              "      <td>0</td>\n",
              "      <td>0</td>\n",
              "      <td>0</td>\n",
              "      <td>0</td>\n",
              "      <td>0</td>\n",
              "      <td>0</td>\n",
              "      <td>0</td>\n",
              "      <td>0</td>\n",
              "      <td>0</td>\n",
              "      <td>0</td>\n",
              "      <td>0</td>\n",
              "      <td>0</td>\n",
              "      <td>0</td>\n",
              "      <td>0</td>\n",
              "      <td>0</td>\n",
              "      <td>0</td>\n",
              "      <td>0</td>\n",
              "      <td>0</td>\n",
              "      <td>0</td>\n",
              "    </tr>\n",
              "    <tr>\n",
              "      <th>4</th>\n",
              "      <td>0</td>\n",
              "      <td>0</td>\n",
              "      <td>0</td>\n",
              "      <td>0</td>\n",
              "      <td>0</td>\n",
              "      <td>0</td>\n",
              "      <td>0</td>\n",
              "      <td>0</td>\n",
              "      <td>0</td>\n",
              "      <td>0</td>\n",
              "      <td>0</td>\n",
              "      <td>0</td>\n",
              "      <td>0</td>\n",
              "      <td>0</td>\n",
              "      <td>0</td>\n",
              "      <td>0</td>\n",
              "      <td>0</td>\n",
              "      <td>0</td>\n",
              "      <td>0</td>\n",
              "      <td>0</td>\n",
              "      <td>0</td>\n",
              "      <td>0</td>\n",
              "      <td>0</td>\n",
              "      <td>0</td>\n",
              "      <td>0</td>\n",
              "      <td>0</td>\n",
              "      <td>0</td>\n",
              "      <td>0</td>\n",
              "      <td>0</td>\n",
              "      <td>0</td>\n",
              "      <td>0</td>\n",
              "      <td>0</td>\n",
              "      <td>0</td>\n",
              "      <td>0</td>\n",
              "      <td>0</td>\n",
              "      <td>0</td>\n",
              "      <td>0</td>\n",
              "      <td>0</td>\n",
              "      <td>0</td>\n",
              "      <td>0</td>\n",
              "      <td>...</td>\n",
              "      <td>0</td>\n",
              "      <td>0</td>\n",
              "      <td>0</td>\n",
              "      <td>0</td>\n",
              "      <td>0</td>\n",
              "      <td>0</td>\n",
              "      <td>0</td>\n",
              "      <td>0</td>\n",
              "      <td>0</td>\n",
              "      <td>0</td>\n",
              "      <td>0</td>\n",
              "      <td>0</td>\n",
              "      <td>0</td>\n",
              "      <td>0</td>\n",
              "      <td>0</td>\n",
              "      <td>0</td>\n",
              "      <td>0</td>\n",
              "      <td>0</td>\n",
              "      <td>0</td>\n",
              "      <td>0</td>\n",
              "      <td>0</td>\n",
              "      <td>0</td>\n",
              "      <td>0</td>\n",
              "      <td>0</td>\n",
              "      <td>0</td>\n",
              "      <td>0</td>\n",
              "      <td>0</td>\n",
              "      <td>0</td>\n",
              "      <td>0</td>\n",
              "      <td>0</td>\n",
              "      <td>0</td>\n",
              "      <td>0</td>\n",
              "      <td>0</td>\n",
              "      <td>0</td>\n",
              "      <td>0</td>\n",
              "      <td>0</td>\n",
              "      <td>0</td>\n",
              "      <td>0</td>\n",
              "      <td>0</td>\n",
              "      <td>0</td>\n",
              "    </tr>\n",
              "  </tbody>\n",
              "</table>\n",
              "<p>5 rows × 222 columns</p>\n",
              "</div>"
            ],
            "text/plain": [
              "   ablaze  accident  aftershock  ...  wreck  wreckage  wrecked\n",
              "0       0         0           0  ...      0         0        0\n",
              "1       0         0           0  ...      0         0        0\n",
              "2       0         0           0  ...      0         0        0\n",
              "3       0         0           0  ...      0         0        0\n",
              "4       0         0           0  ...      0         0        0\n",
              "\n",
              "[5 rows x 222 columns]"
            ]
          },
          "metadata": {
            "tags": []
          },
          "execution_count": 194
        }
      ]
    },
    {
      "cell_type": "code",
      "metadata": {
        "id": "RClM38FmwCdG",
        "colab_type": "code",
        "colab": {}
      },
      "source": [
        "df_train_merged = pd.concat([df_train,df_train_dummies],axis='columns')\n",
        "#pd.options.display.max_columns = 80 -- quise que se muestren todas las columnas pero no hizo nada\n",
        "# df_train_merged.columns.tolist() -- para ver todas las columnas"
      ],
      "execution_count": 0,
      "outputs": []
    },
    {
      "cell_type": "code",
      "metadata": {
        "id": "qLNtpFnPsAmq",
        "colab_type": "code",
        "colab": {
          "base_uri": "https://localhost:8080/",
          "height": 313
        },
        "outputId": "7684b54f-867f-4f62-e0c1-1ea78a156027"
      },
      "source": [
        "df_train_merged_final=df_train_merged.drop(['keyword_esp','sin keyword'],axis='columns')\n",
        "df_train_merged_final.head(2)\n",
        "# df_train_merged_final.columns.tolist()"
      ],
      "execution_count": 250,
      "outputs": [
        {
          "output_type": "execute_result",
          "data": {
            "text/html": [
              "<div>\n",
              "<style scoped>\n",
              "    .dataframe tbody tr th:only-of-type {\n",
              "        vertical-align: middle;\n",
              "    }\n",
              "\n",
              "    .dataframe tbody tr th {\n",
              "        vertical-align: top;\n",
              "    }\n",
              "\n",
              "    .dataframe thead th {\n",
              "        text-align: right;\n",
              "    }\n",
              "</style>\n",
              "<table border=\"1\" class=\"dataframe\">\n",
              "  <thead>\n",
              "    <tr style=\"text-align: right;\">\n",
              "      <th></th>\n",
              "      <th>keyword</th>\n",
              "      <th>location</th>\n",
              "      <th>text</th>\n",
              "      <th>target</th>\n",
              "      <th>caracteres_tweet</th>\n",
              "      <th>text_vector</th>\n",
              "      <th>text_vector_filtrado</th>\n",
              "      <th>elem_vector</th>\n",
              "      <th>elem_vector_filtrado</th>\n",
              "      <th>ablaze</th>\n",
              "      <th>accident</th>\n",
              "      <th>aftershock</th>\n",
              "      <th>airplane_accident</th>\n",
              "      <th>ambulance</th>\n",
              "      <th>annihilated</th>\n",
              "      <th>annihilation</th>\n",
              "      <th>apocalypse</th>\n",
              "      <th>armageddon</th>\n",
              "      <th>army</th>\n",
              "      <th>arson</th>\n",
              "      <th>arsonist</th>\n",
              "      <th>attack</th>\n",
              "      <th>attacked</th>\n",
              "      <th>avalanche</th>\n",
              "      <th>battle</th>\n",
              "      <th>bioterror</th>\n",
              "      <th>bioterrorism</th>\n",
              "      <th>blaze</th>\n",
              "      <th>blazing</th>\n",
              "      <th>bleeding</th>\n",
              "      <th>blew_up</th>\n",
              "      <th>blight</th>\n",
              "      <th>blizzard</th>\n",
              "      <th>blood</th>\n",
              "      <th>bloody</th>\n",
              "      <th>blown_up</th>\n",
              "      <th>body_bag</th>\n",
              "      <th>body_bagging</th>\n",
              "      <th>body_bags</th>\n",
              "      <th>bomb</th>\n",
              "      <th>...</th>\n",
              "      <th>snowstorm</th>\n",
              "      <th>storm</th>\n",
              "      <th>stretcher</th>\n",
              "      <th>structural_failure</th>\n",
              "      <th>suicide_bomb</th>\n",
              "      <th>suicide_bomber</th>\n",
              "      <th>suicide_bombing</th>\n",
              "      <th>sunk</th>\n",
              "      <th>survive</th>\n",
              "      <th>survived</th>\n",
              "      <th>survivors</th>\n",
              "      <th>terrorism</th>\n",
              "      <th>terrorist</th>\n",
              "      <th>threat</th>\n",
              "      <th>thunder</th>\n",
              "      <th>thunderstorm</th>\n",
              "      <th>tornado</th>\n",
              "      <th>tragedy</th>\n",
              "      <th>trapped</th>\n",
              "      <th>trauma</th>\n",
              "      <th>traumatised</th>\n",
              "      <th>trouble</th>\n",
              "      <th>tsunami</th>\n",
              "      <th>twister</th>\n",
              "      <th>typhoon</th>\n",
              "      <th>upheaval</th>\n",
              "      <th>violent_storm</th>\n",
              "      <th>volcano</th>\n",
              "      <th>war_zone</th>\n",
              "      <th>weapon</th>\n",
              "      <th>weapons</th>\n",
              "      <th>whirlwind</th>\n",
              "      <th>wild_fires</th>\n",
              "      <th>wildfire</th>\n",
              "      <th>windstorm</th>\n",
              "      <th>wounded</th>\n",
              "      <th>wounds</th>\n",
              "      <th>wreck</th>\n",
              "      <th>wreckage</th>\n",
              "      <th>wrecked</th>\n",
              "    </tr>\n",
              "  </thead>\n",
              "  <tbody>\n",
              "    <tr>\n",
              "      <th>0</th>\n",
              "      <td>sin keyword</td>\n",
              "      <td>sin location</td>\n",
              "      <td>Our Deeds are the Reason of this #earthquake M...</td>\n",
              "      <td>1</td>\n",
              "      <td>69</td>\n",
              "      <td>[our, deeds, are, the, reason, of, this, earth...</td>\n",
              "      <td>[deeds, reason, earthquake, may, allah, forgiv...</td>\n",
              "      <td>13</td>\n",
              "      <td>7</td>\n",
              "      <td>0</td>\n",
              "      <td>0</td>\n",
              "      <td>0</td>\n",
              "      <td>0</td>\n",
              "      <td>0</td>\n",
              "      <td>0</td>\n",
              "      <td>0</td>\n",
              "      <td>0</td>\n",
              "      <td>0</td>\n",
              "      <td>0</td>\n",
              "      <td>0</td>\n",
              "      <td>0</td>\n",
              "      <td>0</td>\n",
              "      <td>0</td>\n",
              "      <td>0</td>\n",
              "      <td>0</td>\n",
              "      <td>0</td>\n",
              "      <td>0</td>\n",
              "      <td>0</td>\n",
              "      <td>0</td>\n",
              "      <td>0</td>\n",
              "      <td>0</td>\n",
              "      <td>0</td>\n",
              "      <td>0</td>\n",
              "      <td>0</td>\n",
              "      <td>0</td>\n",
              "      <td>0</td>\n",
              "      <td>0</td>\n",
              "      <td>0</td>\n",
              "      <td>0</td>\n",
              "      <td>0</td>\n",
              "      <td>...</td>\n",
              "      <td>0</td>\n",
              "      <td>0</td>\n",
              "      <td>0</td>\n",
              "      <td>0</td>\n",
              "      <td>0</td>\n",
              "      <td>0</td>\n",
              "      <td>0</td>\n",
              "      <td>0</td>\n",
              "      <td>0</td>\n",
              "      <td>0</td>\n",
              "      <td>0</td>\n",
              "      <td>0</td>\n",
              "      <td>0</td>\n",
              "      <td>0</td>\n",
              "      <td>0</td>\n",
              "      <td>0</td>\n",
              "      <td>0</td>\n",
              "      <td>0</td>\n",
              "      <td>0</td>\n",
              "      <td>0</td>\n",
              "      <td>0</td>\n",
              "      <td>0</td>\n",
              "      <td>0</td>\n",
              "      <td>0</td>\n",
              "      <td>0</td>\n",
              "      <td>0</td>\n",
              "      <td>0</td>\n",
              "      <td>0</td>\n",
              "      <td>0</td>\n",
              "      <td>0</td>\n",
              "      <td>0</td>\n",
              "      <td>0</td>\n",
              "      <td>0</td>\n",
              "      <td>0</td>\n",
              "      <td>0</td>\n",
              "      <td>0</td>\n",
              "      <td>0</td>\n",
              "      <td>0</td>\n",
              "      <td>0</td>\n",
              "      <td>0</td>\n",
              "    </tr>\n",
              "    <tr>\n",
              "      <th>1</th>\n",
              "      <td>sin keyword</td>\n",
              "      <td>sin location</td>\n",
              "      <td>Forest fire near La Ronge Sask. Canada</td>\n",
              "      <td>1</td>\n",
              "      <td>38</td>\n",
              "      <td>[forest, fire, near, la, ronge, sask, canada]</td>\n",
              "      <td>[forest, fire, near, la, ronge, sask, canada]</td>\n",
              "      <td>7</td>\n",
              "      <td>7</td>\n",
              "      <td>0</td>\n",
              "      <td>0</td>\n",
              "      <td>0</td>\n",
              "      <td>0</td>\n",
              "      <td>0</td>\n",
              "      <td>0</td>\n",
              "      <td>0</td>\n",
              "      <td>0</td>\n",
              "      <td>0</td>\n",
              "      <td>0</td>\n",
              "      <td>0</td>\n",
              "      <td>0</td>\n",
              "      <td>0</td>\n",
              "      <td>0</td>\n",
              "      <td>0</td>\n",
              "      <td>0</td>\n",
              "      <td>0</td>\n",
              "      <td>0</td>\n",
              "      <td>0</td>\n",
              "      <td>0</td>\n",
              "      <td>0</td>\n",
              "      <td>0</td>\n",
              "      <td>0</td>\n",
              "      <td>0</td>\n",
              "      <td>0</td>\n",
              "      <td>0</td>\n",
              "      <td>0</td>\n",
              "      <td>0</td>\n",
              "      <td>0</td>\n",
              "      <td>0</td>\n",
              "      <td>0</td>\n",
              "      <td>...</td>\n",
              "      <td>0</td>\n",
              "      <td>0</td>\n",
              "      <td>0</td>\n",
              "      <td>0</td>\n",
              "      <td>0</td>\n",
              "      <td>0</td>\n",
              "      <td>0</td>\n",
              "      <td>0</td>\n",
              "      <td>0</td>\n",
              "      <td>0</td>\n",
              "      <td>0</td>\n",
              "      <td>0</td>\n",
              "      <td>0</td>\n",
              "      <td>0</td>\n",
              "      <td>0</td>\n",
              "      <td>0</td>\n",
              "      <td>0</td>\n",
              "      <td>0</td>\n",
              "      <td>0</td>\n",
              "      <td>0</td>\n",
              "      <td>0</td>\n",
              "      <td>0</td>\n",
              "      <td>0</td>\n",
              "      <td>0</td>\n",
              "      <td>0</td>\n",
              "      <td>0</td>\n",
              "      <td>0</td>\n",
              "      <td>0</td>\n",
              "      <td>0</td>\n",
              "      <td>0</td>\n",
              "      <td>0</td>\n",
              "      <td>0</td>\n",
              "      <td>0</td>\n",
              "      <td>0</td>\n",
              "      <td>0</td>\n",
              "      <td>0</td>\n",
              "      <td>0</td>\n",
              "      <td>0</td>\n",
              "      <td>0</td>\n",
              "      <td>0</td>\n",
              "    </tr>\n",
              "  </tbody>\n",
              "</table>\n",
              "<p>2 rows × 230 columns</p>\n",
              "</div>"
            ],
            "text/plain": [
              "       keyword      location  \\\n",
              "0  sin keyword  sin location   \n",
              "1  sin keyword  sin location   \n",
              "\n",
              "                                                text  target  \\\n",
              "0  Our Deeds are the Reason of this #earthquake M...       1   \n",
              "1             Forest fire near La Ronge Sask. Canada       1   \n",
              "\n",
              "   caracteres_tweet                                        text_vector  \\\n",
              "0                69  [our, deeds, are, the, reason, of, this, earth...   \n",
              "1                38      [forest, fire, near, la, ronge, sask, canada]   \n",
              "\n",
              "                                text_vector_filtrado  elem_vector  \\\n",
              "0  [deeds, reason, earthquake, may, allah, forgiv...           13   \n",
              "1      [forest, fire, near, la, ronge, sask, canada]            7   \n",
              "\n",
              "   elem_vector_filtrado  ablaze  accident  aftershock  airplane_accident  \\\n",
              "0                     7       0         0           0                  0   \n",
              "1                     7       0         0           0                  0   \n",
              "\n",
              "   ambulance  annihilated  annihilation  apocalypse  armageddon  army  arson  \\\n",
              "0          0            0             0           0           0     0      0   \n",
              "1          0            0             0           0           0     0      0   \n",
              "\n",
              "   arsonist  attack  attacked  avalanche  battle  bioterror  bioterrorism  \\\n",
              "0         0       0         0          0       0          0             0   \n",
              "1         0       0         0          0       0          0             0   \n",
              "\n",
              "   blaze  blazing  bleeding  blew_up  blight  blizzard  blood  bloody  \\\n",
              "0      0        0         0        0       0         0      0       0   \n",
              "1      0        0         0        0       0         0      0       0   \n",
              "\n",
              "   blown_up  body_bag  body_bagging  body_bags  bomb  ...  snowstorm  storm  \\\n",
              "0         0         0             0          0     0  ...          0      0   \n",
              "1         0         0             0          0     0  ...          0      0   \n",
              "\n",
              "   stretcher  structural_failure  suicide_bomb  suicide_bomber  \\\n",
              "0          0                   0             0               0   \n",
              "1          0                   0             0               0   \n",
              "\n",
              "   suicide_bombing  sunk  survive  survived  survivors  terrorism  terrorist  \\\n",
              "0                0     0        0         0          0          0          0   \n",
              "1                0     0        0         0          0          0          0   \n",
              "\n",
              "   threat  thunder  thunderstorm  tornado  tragedy  trapped  trauma  \\\n",
              "0       0        0             0        0        0        0       0   \n",
              "1       0        0             0        0        0        0       0   \n",
              "\n",
              "   traumatised  trouble  tsunami  twister  typhoon  upheaval  violent_storm  \\\n",
              "0            0        0        0        0        0         0              0   \n",
              "1            0        0        0        0        0         0              0   \n",
              "\n",
              "   volcano  war_zone  weapon  weapons  whirlwind  wild_fires  wildfire  \\\n",
              "0        0         0       0        0          0           0         0   \n",
              "1        0         0       0        0          0           0         0   \n",
              "\n",
              "   windstorm  wounded  wounds  wreck  wreckage  wrecked  \n",
              "0          0        0       0      0         0        0  \n",
              "1          0        0       0      0         0        0  \n",
              "\n",
              "[2 rows x 230 columns]"
            ]
          },
          "metadata": {
            "tags": []
          },
          "execution_count": 250
        }
      ]
    },
    {
      "cell_type": "code",
      "metadata": {
        "id": "ECI0jEnh3MCa",
        "colab_type": "code",
        "colab": {}
      },
      "source": [
        "from sklearn.linear_model import LinearRegression\n",
        "model = LinearRegression()"
      ],
      "execution_count": 0,
      "outputs": []
    },
    {
      "cell_type": "code",
      "metadata": {
        "id": "nWZJ93aT3L5h",
        "colab_type": "code",
        "colab": {}
      },
      "source": [
        "#x=df_train_merged_final.drop([0,1,2,4,5,6,7,8]'keyword','location','text','caracteres_tweet','text_vector','text_vector_filtrado','elem_vector', axis='columns', inplace=True)\n",
        "#x=df_train_merged_final.drop('location', axis='columns')\n",
        "#x=df_train_merged_final.drop('location', axis='columns', inplace=True)\n",
        "#x=df_train_merged_final.drop('text', axis='columns', inplace=True)\n",
        "\n",
        "#x.head(2)"
      ],
      "execution_count": 0,
      "outputs": []
    },
    {
      "cell_type": "code",
      "metadata": {
        "id": "6aV0nd_g3Lsk",
        "colab_type": "code",
        "colab": {}
      },
      "source": [
        ""
      ],
      "execution_count": 0,
      "outputs": []
    },
    {
      "cell_type": "code",
      "metadata": {
        "id": "6Kvi7Lg7sAaF",
        "colab_type": "code",
        "colab": {}
      },
      "source": [
        ""
      ],
      "execution_count": 0,
      "outputs": []
    },
    {
      "cell_type": "code",
      "metadata": {
        "id": "Ihoj3DlNsAAc",
        "colab_type": "code",
        "colab": {}
      },
      "source": [
        ""
      ],
      "execution_count": 0,
      "outputs": []
    },
    {
      "cell_type": "code",
      "metadata": {
        "id": "sgSpwdkrr_1p",
        "colab_type": "code",
        "colab": {}
      },
      "source": [
        ""
      ],
      "execution_count": 0,
      "outputs": []
    },
    {
      "cell_type": "code",
      "metadata": {
        "id": "ED-tYWJJfrzX",
        "colab_type": "code",
        "colab": {}
      },
      "source": [
        "# 2.Categorizo 'keyword'"
      ],
      "execution_count": 0,
      "outputs": []
    },
    {
      "cell_type": "code",
      "metadata": {
        "id": "C9H4Y1zMO0GO",
        "colab_type": "code",
        "outputId": "3373866b-5fb2-4282-dea5-66d4e5bb1155",
        "colab": {
          "base_uri": "https://localhost:8080/",
          "height": 34
        }
      },
      "source": [
        "pd.get_dummies(df_train['keyword'], drop_first=True).shape"
      ],
      "execution_count": 182,
      "outputs": [
        {
          "output_type": "execute_result",
          "data": {
            "text/plain": [
              "(7503, 221)"
            ]
          },
          "metadata": {
            "tags": []
          },
          "execution_count": 182
        }
      ]
    },
    {
      "cell_type": "code",
      "metadata": {
        "id": "RmIxM42QPgNR",
        "colab_type": "code",
        "outputId": "7f29f171-c323-411f-e2ec-7f83a52c6403",
        "colab": {
          "base_uri": "https://localhost:8080/",
          "height": 374
        }
      },
      "source": [
        "# Vemos el top 20 de las categorias mas frecuentes para la serie keyword \n",
        "df_train['keyword'].value_counts().sort_values(ascending=False).head(20)"
      ],
      "execution_count": 183,
      "outputs": [
        {
          "output_type": "execute_result",
          "data": {
            "text/plain": [
              "sin keyword    56\n",
              "fatalities     45\n",
              "deluge         42\n",
              "armageddon     42\n",
              "harm           41\n",
              "damage         41\n",
              "body_bags      41\n",
              "siren          40\n",
              "fear           40\n",
              "twister        40\n",
              "evacuate       40\n",
              "windstorm      40\n",
              "weapons        39\n",
              "sinkhole       39\n",
              "explosion      39\n",
              "sunk           39\n",
              "wrecked        39\n",
              "outbreak       39\n",
              "famine         39\n",
              "collision      39\n",
              "Name: keyword, dtype: int64"
            ]
          },
          "metadata": {
            "tags": []
          },
          "execution_count": 183
        }
      ]
    },
    {
      "cell_type": "code",
      "metadata": {
        "id": "kDvRGz0mQNux",
        "colab_type": "code",
        "outputId": "ed98f996-2637-4490-8814-16d107814a4c",
        "colab": {
          "base_uri": "https://localhost:8080/",
          "height": 340
        }
      },
      "source": [
        "df_train.head()"
      ],
      "execution_count": 184,
      "outputs": [
        {
          "output_type": "execute_result",
          "data": {
            "text/html": [
              "<div>\n",
              "<style scoped>\n",
              "    .dataframe tbody tr th:only-of-type {\n",
              "        vertical-align: middle;\n",
              "    }\n",
              "\n",
              "    .dataframe tbody tr th {\n",
              "        vertical-align: top;\n",
              "    }\n",
              "\n",
              "    .dataframe thead th {\n",
              "        text-align: right;\n",
              "    }\n",
              "</style>\n",
              "<table border=\"1\" class=\"dataframe\">\n",
              "  <thead>\n",
              "    <tr style=\"text-align: right;\">\n",
              "      <th></th>\n",
              "      <th>keyword</th>\n",
              "      <th>location</th>\n",
              "      <th>text</th>\n",
              "      <th>target</th>\n",
              "      <th>caracteres_tweet</th>\n",
              "      <th>text_vector</th>\n",
              "      <th>text_vector_filtrado</th>\n",
              "      <th>elem_vector</th>\n",
              "      <th>elem_vector_filtrado</th>\n",
              "      <th>keyword_esp</th>\n",
              "    </tr>\n",
              "  </thead>\n",
              "  <tbody>\n",
              "    <tr>\n",
              "      <th>0</th>\n",
              "      <td>sin keyword</td>\n",
              "      <td>sin location</td>\n",
              "      <td>Our Deeds are the Reason of this #earthquake M...</td>\n",
              "      <td>1</td>\n",
              "      <td>69</td>\n",
              "      <td>[our, deeds, are, the, reason, of, this, earth...</td>\n",
              "      <td>[deeds, reason, earthquake, may, allah, forgiv...</td>\n",
              "      <td>13</td>\n",
              "      <td>7</td>\n",
              "      <td>sin_keyword</td>\n",
              "    </tr>\n",
              "    <tr>\n",
              "      <th>1</th>\n",
              "      <td>sin keyword</td>\n",
              "      <td>sin location</td>\n",
              "      <td>Forest fire near La Ronge Sask. Canada</td>\n",
              "      <td>1</td>\n",
              "      <td>38</td>\n",
              "      <td>[forest, fire, near, la, ronge, sask, canada]</td>\n",
              "      <td>[forest, fire, near, la, ronge, sask, canada]</td>\n",
              "      <td>7</td>\n",
              "      <td>7</td>\n",
              "      <td>sin_keyword</td>\n",
              "    </tr>\n",
              "    <tr>\n",
              "      <th>2</th>\n",
              "      <td>sin keyword</td>\n",
              "      <td>sin location</td>\n",
              "      <td>All residents asked to 'shelter in place' are ...</td>\n",
              "      <td>1</td>\n",
              "      <td>133</td>\n",
              "      <td>[all, residents, asked, to, shelter, in, place...</td>\n",
              "      <td>[residents, asked, shelter, place, notified, o...</td>\n",
              "      <td>22</td>\n",
              "      <td>11</td>\n",
              "      <td>sin_keyword</td>\n",
              "    </tr>\n",
              "    <tr>\n",
              "      <th>3</th>\n",
              "      <td>sin keyword</td>\n",
              "      <td>sin location</td>\n",
              "      <td>13,000 people receive #wildfires evacuation or...</td>\n",
              "      <td>1</td>\n",
              "      <td>65</td>\n",
              "      <td>[13000, people, receive, wildfires, evacuation...</td>\n",
              "      <td>[13000, people, receive, wildfires, evacuation...</td>\n",
              "      <td>8</td>\n",
              "      <td>7</td>\n",
              "      <td>sin_keyword</td>\n",
              "    </tr>\n",
              "    <tr>\n",
              "      <th>4</th>\n",
              "      <td>sin keyword</td>\n",
              "      <td>sin location</td>\n",
              "      <td>Just got sent this photo from Ruby #Alaska as ...</td>\n",
              "      <td>1</td>\n",
              "      <td>88</td>\n",
              "      <td>[just, got, sent, this, photo, from, ruby, ala...</td>\n",
              "      <td>[got, sent, photo, ruby, alaska, smoke, wildfi...</td>\n",
              "      <td>16</td>\n",
              "      <td>9</td>\n",
              "      <td>sin_keyword</td>\n",
              "    </tr>\n",
              "  </tbody>\n",
              "</table>\n",
              "</div>"
            ],
            "text/plain": [
              "       keyword      location  ... elem_vector_filtrado  keyword_esp\n",
              "0  sin keyword  sin location  ...                    7  sin_keyword\n",
              "1  sin keyword  sin location  ...                    7  sin_keyword\n",
              "2  sin keyword  sin location  ...                   11  sin_keyword\n",
              "3  sin keyword  sin location  ...                    7  sin_keyword\n",
              "4  sin keyword  sin location  ...                    9  sin_keyword\n",
              "\n",
              "[5 rows x 10 columns]"
            ]
          },
          "metadata": {
            "tags": []
          },
          "execution_count": 184
        }
      ]
    },
    {
      "cell_type": "code",
      "metadata": {
        "id": "NiXIloaxDFSi",
        "colab_type": "code",
        "outputId": "3080ae5d-6aad-4dfa-ee6b-57831d83fa56",
        "colab": {
          "base_uri": "https://localhost:8080/",
          "height": 1000
        }
      },
      "source": [
        "#pd.Series(df_train['keyword'].unique).to_dict()\n",
        "df_train['keyword'].unique().tolist()"
      ],
      "execution_count": 185,
      "outputs": [
        {
          "output_type": "execute_result",
          "data": {
            "text/plain": [
              "['sin keyword',\n",
              " 'ablaze',\n",
              " 'accident',\n",
              " 'aftershock',\n",
              " 'airplane_accident',\n",
              " 'ambulance',\n",
              " 'annihilated',\n",
              " 'annihilation',\n",
              " 'apocalypse',\n",
              " 'armageddon',\n",
              " 'army',\n",
              " 'arson',\n",
              " 'arsonist',\n",
              " 'attack',\n",
              " 'attacked',\n",
              " 'avalanche',\n",
              " 'battle',\n",
              " 'bioterror',\n",
              " 'bioterrorism',\n",
              " 'blaze',\n",
              " 'blazing',\n",
              " 'bleeding',\n",
              " 'blew_up',\n",
              " 'blight',\n",
              " 'blizzard',\n",
              " 'blood',\n",
              " 'bloody',\n",
              " 'blown_up',\n",
              " 'body_bag',\n",
              " 'body_bagging',\n",
              " 'body_bags',\n",
              " 'bomb',\n",
              " 'bombed',\n",
              " 'bombing',\n",
              " 'bridge_collapse',\n",
              " 'buildings_burning',\n",
              " 'buildings_on_fire',\n",
              " 'burned',\n",
              " 'burning',\n",
              " 'burning_buildings',\n",
              " 'bush_fires',\n",
              " 'casualties',\n",
              " 'casualty',\n",
              " 'catastrophe',\n",
              " 'catastrophic',\n",
              " 'chemical_emergency',\n",
              " 'cliff_fall',\n",
              " 'collapse',\n",
              " 'collapsed',\n",
              " 'collide',\n",
              " 'collided',\n",
              " 'collision',\n",
              " 'crash',\n",
              " 'crashed',\n",
              " 'crush',\n",
              " 'crushed',\n",
              " 'curfew',\n",
              " 'cyclone',\n",
              " 'damage',\n",
              " 'danger',\n",
              " 'dead',\n",
              " 'death',\n",
              " 'deaths',\n",
              " 'debris',\n",
              " 'deluge',\n",
              " 'deluged',\n",
              " 'demolish',\n",
              " 'demolished',\n",
              " 'demolition',\n",
              " 'derail',\n",
              " 'derailed',\n",
              " 'derailment',\n",
              " 'desolate',\n",
              " 'desolation',\n",
              " 'destroy',\n",
              " 'destroyed',\n",
              " 'destruction',\n",
              " 'detonate',\n",
              " 'detonation',\n",
              " 'devastated',\n",
              " 'devastation',\n",
              " 'disaster',\n",
              " 'displaced',\n",
              " 'drought',\n",
              " 'drown',\n",
              " 'drowned',\n",
              " 'drowning',\n",
              " 'dust_storm',\n",
              " 'earthquake',\n",
              " 'electrocute',\n",
              " 'electrocuted',\n",
              " 'emergency',\n",
              " 'emergency_plan',\n",
              " 'emergency_services',\n",
              " 'engulfed',\n",
              " 'epicentre',\n",
              " 'evacuate',\n",
              " 'evacuated',\n",
              " 'evacuation',\n",
              " 'explode',\n",
              " 'exploded',\n",
              " 'explosion',\n",
              " 'eyewitness',\n",
              " 'famine',\n",
              " 'fatal',\n",
              " 'fatalities',\n",
              " 'fatality',\n",
              " 'fear',\n",
              " 'fire',\n",
              " 'fire_truck',\n",
              " 'first_responders',\n",
              " 'flames',\n",
              " 'flattened',\n",
              " 'flood',\n",
              " 'flooding',\n",
              " 'floods',\n",
              " 'forest_fire',\n",
              " 'forest_fires',\n",
              " 'hail',\n",
              " 'hailstorm',\n",
              " 'harm',\n",
              " 'hazard',\n",
              " 'hazardous',\n",
              " 'heat_wave',\n",
              " 'hellfire',\n",
              " 'hijack',\n",
              " 'hijacker',\n",
              " 'hijacking',\n",
              " 'hostage',\n",
              " 'hostages',\n",
              " 'hurricane',\n",
              " 'injured',\n",
              " 'injuries',\n",
              " 'injury',\n",
              " 'inundated',\n",
              " 'inundation',\n",
              " 'landslide',\n",
              " 'lava',\n",
              " 'lightning',\n",
              " 'loud_bang',\n",
              " 'mass_murder',\n",
              " 'mass_murderer',\n",
              " 'massacre',\n",
              " 'mayhem',\n",
              " 'meltdown',\n",
              " 'military',\n",
              " 'mudslide',\n",
              " 'natural_disaster',\n",
              " 'nuclear_disaster',\n",
              " 'nuclear_reactor',\n",
              " 'obliterate',\n",
              " 'obliterated',\n",
              " 'obliteration',\n",
              " 'oil_spill',\n",
              " 'outbreak',\n",
              " 'pandemonium',\n",
              " 'panic',\n",
              " 'panicking',\n",
              " 'police',\n",
              " 'quarantine',\n",
              " 'quarantined',\n",
              " 'radiation_emergency',\n",
              " 'rainstorm',\n",
              " 'razed',\n",
              " 'refugees',\n",
              " 'rescue',\n",
              " 'rescued',\n",
              " 'rescuers',\n",
              " 'riot',\n",
              " 'rioting',\n",
              " 'rubble',\n",
              " 'ruin',\n",
              " 'sandstorm',\n",
              " 'screamed',\n",
              " 'screaming',\n",
              " 'screams',\n",
              " 'seismic',\n",
              " 'sinkhole',\n",
              " 'sinking',\n",
              " 'siren',\n",
              " 'sirens',\n",
              " 'smoke',\n",
              " 'snowstorm',\n",
              " 'storm',\n",
              " 'stretcher',\n",
              " 'structural_failure',\n",
              " 'suicide_bomb',\n",
              " 'suicide_bomber',\n",
              " 'suicide_bombing',\n",
              " 'sunk',\n",
              " 'survive',\n",
              " 'survived',\n",
              " 'survivors',\n",
              " 'terrorism',\n",
              " 'terrorist',\n",
              " 'threat',\n",
              " 'thunder',\n",
              " 'thunderstorm',\n",
              " 'tornado',\n",
              " 'tragedy',\n",
              " 'trapped',\n",
              " 'trauma',\n",
              " 'traumatised',\n",
              " 'trouble',\n",
              " 'tsunami',\n",
              " 'twister',\n",
              " 'typhoon',\n",
              " 'upheaval',\n",
              " 'violent_storm',\n",
              " 'volcano',\n",
              " 'war_zone',\n",
              " 'weapon',\n",
              " 'weapons',\n",
              " 'whirlwind',\n",
              " 'wild_fires',\n",
              " 'wildfire',\n",
              " 'windstorm',\n",
              " 'wounded',\n",
              " 'wounds',\n",
              " 'wreck',\n",
              " 'wreckage',\n",
              " 'wrecked']"
            ]
          },
          "metadata": {
            "tags": []
          },
          "execution_count": 185
        }
      ]
    }
  ]
}
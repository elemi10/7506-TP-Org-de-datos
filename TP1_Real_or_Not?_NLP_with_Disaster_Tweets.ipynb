{
  "nbformat": 4,
  "nbformat_minor": 0,
  "metadata": {
    "colab": {
      "name": "TP1 - Real or Not? NLP with Disaster Tweets.ipynb",
      "provenance": [],
      "authorship_tag": "ABX9TyO3U4B7R1o1ZjyIU8UJuvuv",
      "include_colab_link": true
    },
    "kernelspec": {
      "name": "python3",
      "display_name": "Python 3"
    }
  },
  "cells": [
    {
      "cell_type": "markdown",
      "metadata": {
        "id": "view-in-github",
        "colab_type": "text"
      },
      "source": [
        "<a href=\"https://colab.research.google.com/github/elemi10/7506-TP-Org-de-datos/blob/7506-Trabajo-Practico-1/TP1_Real_or_Not%3F_NLP_with_Disaster_Tweets.ipynb\" target=\"_parent\"><img src=\"https://colab.research.google.com/assets/colab-badge.svg\" alt=\"Open In Colab\"/></a>"
      ]
    },
    {
      "cell_type": "markdown",
      "metadata": {
        "id": "1InmVmMaAVWi",
        "colab_type": "text"
      },
      "source": [
        "\n",
        "# **TP1 - Real or Not?**\n",
        "\n",
        "###  **Análisis exploratorio**"
      ]
    },
    {
      "cell_type": "markdown",
      "metadata": {
        "id": "P0VGmxF3Ad7i",
        "colab_type": "text"
      },
      "source": [
        "![Banner_TP1.png](https://drive.google.com/uc?id=1BPA2RF1SDm9bTs1xZfVUa1VQn932E3wr)\n"
      ]
    },
    {
      "cell_type": "code",
      "metadata": {
        "id": "6Hv3GeApYzRD",
        "colab_type": "code",
        "colab": {}
      },
      "source": [
        "#IMPORT FILES FROM DRIVE INTO GOOGLE-COLAB:\n",
        "\n",
        "#STEP-1: Import Libraries\n",
        "\n",
        "# Code to read csv file into colaboratory:\n",
        "!pip install -U -q PyDrive\n",
        "from pydrive.auth import GoogleAuth\n",
        "from pydrive.drive import GoogleDrive\n",
        "from google.colab import auth\n",
        "from oauth2client.client import GoogleCredentials"
      ],
      "execution_count": 0,
      "outputs": []
    },
    {
      "cell_type": "code",
      "metadata": {
        "id": "VS-CAKCUZkxX",
        "colab_type": "code",
        "colab": {}
      },
      "source": [
        "#STEP-2: Autheticate E-Mail ID\n",
        "\n",
        "auth.authenticate_user()\n",
        "gauth = GoogleAuth()\n",
        "gauth.credentials = GoogleCredentials.get_application_default()\n",
        "drive = GoogleDrive(gauth)"
      ],
      "execution_count": 0,
      "outputs": []
    },
    {
      "cell_type": "code",
      "metadata": {
        "id": "xU-qkOQvZ17M",
        "colab_type": "code",
        "colab": {}
      },
      "source": [
        "#STEP-3: Get File from Drive using file-ID\n",
        "\n",
        "#2.1 Get the file\n",
        "downloaded = drive.CreateFile({'id':'1RAGDjlzJ6spO5Sq8_x3UTIvxLhKAUBEt'}) # replace the id with id of file you want to access\n",
        "downloaded.GetContentFile('train.csv') \n",
        "\n",
        "#downloaded = drive.CreateFile({'id':'17pAgG9oJRK1bAFWRKkp96__zicG6yUmy'}) # replace the id with id of file you want to access\n",
        "#downloaded.GetContentFile('test.csv') \n",
        "\n",
        "#downloaded = drive.CreateFile({'id':'1u8v51BT7FZggIRD-eo0dQno--0wlxIhA'}) # replace the id with id of file you want to access\n",
        "#downloaded.GetContentFile('sample_submission.csv') \n"
      ],
      "execution_count": 0,
      "outputs": []
    },
    {
      "cell_type": "code",
      "metadata": {
        "id": "x7kd9R6i4AnE",
        "colab_type": "code",
        "colab": {
          "base_uri": "https://localhost:8080/",
          "height": 71
        },
        "outputId": "c76b86d6-f05d-4894-8e9c-aed02fcfd644"
      },
      "source": [
        "#STEP-4: Import Libraries\n",
        "\n",
        "import pandas as pd\n",
        "import numpy as np\n",
        "import seaborn as sns\n",
        "import matplotlib.pyplot as plt\n",
        "from matplotlib import colors\n",
        "import datetime as dt\n",
        "import scipy as sp\n",
        "#from sklearn.cross_validation import train_test_split -- no levanta\n",
        "%matplotlib inline\n",
        "plt.rcParams['figure.figsize'] = (16,9)\n",
        "plt.style.use('default') # mejoramos esteticamente un poco los gráficos en matplotlib\n",
        "sns.set(style='whitegrid') # seteando tipo de grid en seaborn\n",
        "\n",
        "from sklearn.model_selection import train_test_split\n",
        "from sklearn.metrics import classification_report\n",
        "from sklearn.metrics import confusion_matrix\n",
        "from sklearn.naive_bayes import GaussianNB\n",
        "from sklearn.feature_selection import SelectKBest\n",
        "from sklearn import datasets, linear_model"
      ],
      "execution_count": 5,
      "outputs": [
        {
          "output_type": "stream",
          "text": [
            "/usr/local/lib/python3.6/dist-packages/statsmodels/tools/_testing.py:19: FutureWarning: pandas.util.testing is deprecated. Use the functions in the public API at pandas.testing instead.\n",
            "  import pandas.util.testing as tm\n"
          ],
          "name": "stderr"
        }
      ]
    },
    {
      "cell_type": "markdown",
      "metadata": {
        "id": "-XLYMHBGLpqw",
        "colab_type": "text"
      },
      "source": [
        "### Levantamos archivo **train.csv**\n"
      ]
    },
    {
      "cell_type": "code",
      "metadata": {
        "id": "8rnYnjb0cAOC",
        "colab_type": "code",
        "outputId": "ad0eddb9-dd94-418d-b0c2-8253b0a7ae24",
        "colab": {
          "base_uri": "https://localhost:8080/",
          "height": 359
        }
      },
      "source": [
        "df_train = pd.read_csv(r'train.csv', usecols=['keyword','location','text','target']) \n",
        "df_train.head(10)"
      ],
      "execution_count": 6,
      "outputs": [
        {
          "output_type": "execute_result",
          "data": {
            "text/html": [
              "<div>\n",
              "<style scoped>\n",
              "    .dataframe tbody tr th:only-of-type {\n",
              "        vertical-align: middle;\n",
              "    }\n",
              "\n",
              "    .dataframe tbody tr th {\n",
              "        vertical-align: top;\n",
              "    }\n",
              "\n",
              "    .dataframe thead th {\n",
              "        text-align: right;\n",
              "    }\n",
              "</style>\n",
              "<table border=\"1\" class=\"dataframe\">\n",
              "  <thead>\n",
              "    <tr style=\"text-align: right;\">\n",
              "      <th></th>\n",
              "      <th>keyword</th>\n",
              "      <th>location</th>\n",
              "      <th>text</th>\n",
              "      <th>target</th>\n",
              "    </tr>\n",
              "  </thead>\n",
              "  <tbody>\n",
              "    <tr>\n",
              "      <th>0</th>\n",
              "      <td>NaN</td>\n",
              "      <td>NaN</td>\n",
              "      <td>Our Deeds are the Reason of this #earthquake M...</td>\n",
              "      <td>1</td>\n",
              "    </tr>\n",
              "    <tr>\n",
              "      <th>1</th>\n",
              "      <td>NaN</td>\n",
              "      <td>NaN</td>\n",
              "      <td>Forest fire near La Ronge Sask. Canada</td>\n",
              "      <td>1</td>\n",
              "    </tr>\n",
              "    <tr>\n",
              "      <th>2</th>\n",
              "      <td>NaN</td>\n",
              "      <td>NaN</td>\n",
              "      <td>All residents asked to 'shelter in place' are ...</td>\n",
              "      <td>1</td>\n",
              "    </tr>\n",
              "    <tr>\n",
              "      <th>3</th>\n",
              "      <td>NaN</td>\n",
              "      <td>NaN</td>\n",
              "      <td>13,000 people receive #wildfires evacuation or...</td>\n",
              "      <td>1</td>\n",
              "    </tr>\n",
              "    <tr>\n",
              "      <th>4</th>\n",
              "      <td>NaN</td>\n",
              "      <td>NaN</td>\n",
              "      <td>Just got sent this photo from Ruby #Alaska as ...</td>\n",
              "      <td>1</td>\n",
              "    </tr>\n",
              "    <tr>\n",
              "      <th>5</th>\n",
              "      <td>NaN</td>\n",
              "      <td>NaN</td>\n",
              "      <td>#RockyFire Update =&gt; California Hwy. 20 closed...</td>\n",
              "      <td>1</td>\n",
              "    </tr>\n",
              "    <tr>\n",
              "      <th>6</th>\n",
              "      <td>NaN</td>\n",
              "      <td>NaN</td>\n",
              "      <td>#flood #disaster Heavy rain causes flash flood...</td>\n",
              "      <td>1</td>\n",
              "    </tr>\n",
              "    <tr>\n",
              "      <th>7</th>\n",
              "      <td>NaN</td>\n",
              "      <td>NaN</td>\n",
              "      <td>I'm on top of the hill and I can see a fire in...</td>\n",
              "      <td>1</td>\n",
              "    </tr>\n",
              "    <tr>\n",
              "      <th>8</th>\n",
              "      <td>NaN</td>\n",
              "      <td>NaN</td>\n",
              "      <td>There's an emergency evacuation happening now ...</td>\n",
              "      <td>1</td>\n",
              "    </tr>\n",
              "    <tr>\n",
              "      <th>9</th>\n",
              "      <td>NaN</td>\n",
              "      <td>NaN</td>\n",
              "      <td>I'm afraid that the tornado is coming to our a...</td>\n",
              "      <td>1</td>\n",
              "    </tr>\n",
              "  </tbody>\n",
              "</table>\n",
              "</div>"
            ],
            "text/plain": [
              "  keyword location                                               text  target\n",
              "0     NaN      NaN  Our Deeds are the Reason of this #earthquake M...       1\n",
              "1     NaN      NaN             Forest fire near La Ronge Sask. Canada       1\n",
              "2     NaN      NaN  All residents asked to 'shelter in place' are ...       1\n",
              "3     NaN      NaN  13,000 people receive #wildfires evacuation or...       1\n",
              "4     NaN      NaN  Just got sent this photo from Ruby #Alaska as ...       1\n",
              "5     NaN      NaN  #RockyFire Update => California Hwy. 20 closed...       1\n",
              "6     NaN      NaN  #flood #disaster Heavy rain causes flash flood...       1\n",
              "7     NaN      NaN  I'm on top of the hill and I can see a fire in...       1\n",
              "8     NaN      NaN  There's an emergency evacuation happening now ...       1\n",
              "9     NaN      NaN  I'm afraid that the tornado is coming to our a...       1"
            ]
          },
          "metadata": {
            "tags": []
          },
          "execution_count": 6
        }
      ]
    },
    {
      "cell_type": "code",
      "metadata": {
        "id": "1mB1ftGlOBvw",
        "colab_type": "code",
        "colab": {}
      },
      "source": [
        "# exporto a excel\n",
        "df_train.to_excel('df_train_preprocesado.xlsx')"
      ],
      "execution_count": 0,
      "outputs": []
    },
    {
      "cell_type": "code",
      "metadata": {
        "id": "n-5WTdfJL7_a",
        "colab_type": "code",
        "outputId": "7fa2e5b5-9897-43b4-c2b8-d91420dfb38c",
        "colab": {
          "base_uri": "https://localhost:8080/",
          "height": 204
        }
      },
      "source": [
        "df_train.info()\n",
        "# las variables 'keyword' y 'location' estan incompletas"
      ],
      "execution_count": 8,
      "outputs": [
        {
          "output_type": "stream",
          "text": [
            "<class 'pandas.core.frame.DataFrame'>\n",
            "RangeIndex: 7613 entries, 0 to 7612\n",
            "Data columns (total 4 columns):\n",
            " #   Column    Non-Null Count  Dtype \n",
            "---  ------    --------------  ----- \n",
            " 0   keyword   7552 non-null   object\n",
            " 1   location  5080 non-null   object\n",
            " 2   text      7613 non-null   object\n",
            " 3   target    7613 non-null   int64 \n",
            "dtypes: int64(1), object(3)\n",
            "memory usage: 238.0+ KB\n"
          ],
          "name": "stdout"
        }
      ]
    },
    {
      "cell_type": "code",
      "metadata": {
        "id": "zjaKNFRQcrIU",
        "colab_type": "code",
        "colab": {}
      },
      "source": [
        "#df_train['target'].value_counts()"
      ],
      "execution_count": 0,
      "outputs": []
    },
    {
      "cell_type": "markdown",
      "metadata": {
        "id": "wcMs9ZeQ1vQB",
        "colab_type": "text"
      },
      "source": [
        "### Creamos una variable para **contar total caracteres** del tweet"
      ]
    },
    {
      "cell_type": "code",
      "metadata": {
        "id": "khgW7TOVdQaf",
        "colab_type": "code",
        "outputId": "1c0bc804-2d91-441e-81f5-fcd8d34497b0",
        "colab": {
          "base_uri": "https://localhost:8080/",
          "height": 669
        }
      },
      "source": [
        "# Creo una columna con el cálculo de las palabras que tiene la columna 'text' y la llamo 'caracteres_tweet'. \n",
        "# Despues consulto con un head()\n",
        "df_train['caracteres_tweet']=df_train['text'].str.len()\n",
        "df_train.head(20)"
      ],
      "execution_count": 10,
      "outputs": [
        {
          "output_type": "execute_result",
          "data": {
            "text/html": [
              "<div>\n",
              "<style scoped>\n",
              "    .dataframe tbody tr th:only-of-type {\n",
              "        vertical-align: middle;\n",
              "    }\n",
              "\n",
              "    .dataframe tbody tr th {\n",
              "        vertical-align: top;\n",
              "    }\n",
              "\n",
              "    .dataframe thead th {\n",
              "        text-align: right;\n",
              "    }\n",
              "</style>\n",
              "<table border=\"1\" class=\"dataframe\">\n",
              "  <thead>\n",
              "    <tr style=\"text-align: right;\">\n",
              "      <th></th>\n",
              "      <th>keyword</th>\n",
              "      <th>location</th>\n",
              "      <th>text</th>\n",
              "      <th>target</th>\n",
              "      <th>caracteres_tweet</th>\n",
              "    </tr>\n",
              "  </thead>\n",
              "  <tbody>\n",
              "    <tr>\n",
              "      <th>0</th>\n",
              "      <td>NaN</td>\n",
              "      <td>NaN</td>\n",
              "      <td>Our Deeds are the Reason of this #earthquake M...</td>\n",
              "      <td>1</td>\n",
              "      <td>69</td>\n",
              "    </tr>\n",
              "    <tr>\n",
              "      <th>1</th>\n",
              "      <td>NaN</td>\n",
              "      <td>NaN</td>\n",
              "      <td>Forest fire near La Ronge Sask. Canada</td>\n",
              "      <td>1</td>\n",
              "      <td>38</td>\n",
              "    </tr>\n",
              "    <tr>\n",
              "      <th>2</th>\n",
              "      <td>NaN</td>\n",
              "      <td>NaN</td>\n",
              "      <td>All residents asked to 'shelter in place' are ...</td>\n",
              "      <td>1</td>\n",
              "      <td>133</td>\n",
              "    </tr>\n",
              "    <tr>\n",
              "      <th>3</th>\n",
              "      <td>NaN</td>\n",
              "      <td>NaN</td>\n",
              "      <td>13,000 people receive #wildfires evacuation or...</td>\n",
              "      <td>1</td>\n",
              "      <td>65</td>\n",
              "    </tr>\n",
              "    <tr>\n",
              "      <th>4</th>\n",
              "      <td>NaN</td>\n",
              "      <td>NaN</td>\n",
              "      <td>Just got sent this photo from Ruby #Alaska as ...</td>\n",
              "      <td>1</td>\n",
              "      <td>88</td>\n",
              "    </tr>\n",
              "    <tr>\n",
              "      <th>5</th>\n",
              "      <td>NaN</td>\n",
              "      <td>NaN</td>\n",
              "      <td>#RockyFire Update =&gt; California Hwy. 20 closed...</td>\n",
              "      <td>1</td>\n",
              "      <td>110</td>\n",
              "    </tr>\n",
              "    <tr>\n",
              "      <th>6</th>\n",
              "      <td>NaN</td>\n",
              "      <td>NaN</td>\n",
              "      <td>#flood #disaster Heavy rain causes flash flood...</td>\n",
              "      <td>1</td>\n",
              "      <td>95</td>\n",
              "    </tr>\n",
              "    <tr>\n",
              "      <th>7</th>\n",
              "      <td>NaN</td>\n",
              "      <td>NaN</td>\n",
              "      <td>I'm on top of the hill and I can see a fire in...</td>\n",
              "      <td>1</td>\n",
              "      <td>59</td>\n",
              "    </tr>\n",
              "    <tr>\n",
              "      <th>8</th>\n",
              "      <td>NaN</td>\n",
              "      <td>NaN</td>\n",
              "      <td>There's an emergency evacuation happening now ...</td>\n",
              "      <td>1</td>\n",
              "      <td>79</td>\n",
              "    </tr>\n",
              "    <tr>\n",
              "      <th>9</th>\n",
              "      <td>NaN</td>\n",
              "      <td>NaN</td>\n",
              "      <td>I'm afraid that the tornado is coming to our a...</td>\n",
              "      <td>1</td>\n",
              "      <td>52</td>\n",
              "    </tr>\n",
              "    <tr>\n",
              "      <th>10</th>\n",
              "      <td>NaN</td>\n",
              "      <td>NaN</td>\n",
              "      <td>Three people died from the heat wave so far</td>\n",
              "      <td>1</td>\n",
              "      <td>43</td>\n",
              "    </tr>\n",
              "    <tr>\n",
              "      <th>11</th>\n",
              "      <td>NaN</td>\n",
              "      <td>NaN</td>\n",
              "      <td>Haha South Tampa is getting flooded hah- WAIT ...</td>\n",
              "      <td>1</td>\n",
              "      <td>129</td>\n",
              "    </tr>\n",
              "    <tr>\n",
              "      <th>12</th>\n",
              "      <td>NaN</td>\n",
              "      <td>NaN</td>\n",
              "      <td>#raining #flooding #Florida #TampaBay #Tampa 1...</td>\n",
              "      <td>1</td>\n",
              "      <td>76</td>\n",
              "    </tr>\n",
              "    <tr>\n",
              "      <th>13</th>\n",
              "      <td>NaN</td>\n",
              "      <td>NaN</td>\n",
              "      <td>#Flood in Bago Myanmar #We arrived Bago</td>\n",
              "      <td>1</td>\n",
              "      <td>39</td>\n",
              "    </tr>\n",
              "    <tr>\n",
              "      <th>14</th>\n",
              "      <td>NaN</td>\n",
              "      <td>NaN</td>\n",
              "      <td>Damage to school bus on 80 in multi car crash ...</td>\n",
              "      <td>1</td>\n",
              "      <td>56</td>\n",
              "    </tr>\n",
              "    <tr>\n",
              "      <th>15</th>\n",
              "      <td>NaN</td>\n",
              "      <td>NaN</td>\n",
              "      <td>What's up man?</td>\n",
              "      <td>0</td>\n",
              "      <td>14</td>\n",
              "    </tr>\n",
              "    <tr>\n",
              "      <th>16</th>\n",
              "      <td>NaN</td>\n",
              "      <td>NaN</td>\n",
              "      <td>I love fruits</td>\n",
              "      <td>0</td>\n",
              "      <td>13</td>\n",
              "    </tr>\n",
              "    <tr>\n",
              "      <th>17</th>\n",
              "      <td>NaN</td>\n",
              "      <td>NaN</td>\n",
              "      <td>Summer is lovely</td>\n",
              "      <td>0</td>\n",
              "      <td>16</td>\n",
              "    </tr>\n",
              "    <tr>\n",
              "      <th>18</th>\n",
              "      <td>NaN</td>\n",
              "      <td>NaN</td>\n",
              "      <td>My car is so fast</td>\n",
              "      <td>0</td>\n",
              "      <td>17</td>\n",
              "    </tr>\n",
              "    <tr>\n",
              "      <th>19</th>\n",
              "      <td>NaN</td>\n",
              "      <td>NaN</td>\n",
              "      <td>What a goooooooaaaaaal!!!!!!</td>\n",
              "      <td>0</td>\n",
              "      <td>28</td>\n",
              "    </tr>\n",
              "  </tbody>\n",
              "</table>\n",
              "</div>"
            ],
            "text/plain": [
              "   keyword location  ... target  caracteres_tweet\n",
              "0      NaN      NaN  ...      1                69\n",
              "1      NaN      NaN  ...      1                38\n",
              "2      NaN      NaN  ...      1               133\n",
              "3      NaN      NaN  ...      1                65\n",
              "4      NaN      NaN  ...      1                88\n",
              "5      NaN      NaN  ...      1               110\n",
              "6      NaN      NaN  ...      1                95\n",
              "7      NaN      NaN  ...      1                59\n",
              "8      NaN      NaN  ...      1                79\n",
              "9      NaN      NaN  ...      1                52\n",
              "10     NaN      NaN  ...      1                43\n",
              "11     NaN      NaN  ...      1               129\n",
              "12     NaN      NaN  ...      1                76\n",
              "13     NaN      NaN  ...      1                39\n",
              "14     NaN      NaN  ...      1                56\n",
              "15     NaN      NaN  ...      0                14\n",
              "16     NaN      NaN  ...      0                13\n",
              "17     NaN      NaN  ...      0                16\n",
              "18     NaN      NaN  ...      0                17\n",
              "19     NaN      NaN  ...      0                28\n",
              "\n",
              "[20 rows x 5 columns]"
            ]
          },
          "metadata": {
            "tags": []
          },
          "execution_count": 10
        }
      ]
    },
    {
      "cell_type": "code",
      "metadata": {
        "id": "gvK_mIbqds79",
        "colab_type": "code",
        "outputId": "c6a47987-6831-498d-a960-e5580bd944db",
        "colab": {
          "base_uri": "https://localhost:8080/",
          "height": 119
        }
      },
      "source": [
        "# Verificamos la existencia de valores nulos\n",
        "df_train.isnull().any()"
      ],
      "execution_count": 11,
      "outputs": [
        {
          "output_type": "execute_result",
          "data": {
            "text/plain": [
              "keyword              True\n",
              "location             True\n",
              "text                False\n",
              "target              False\n",
              "caracteres_tweet    False\n",
              "dtype: bool"
            ]
          },
          "metadata": {
            "tags": []
          },
          "execution_count": 11
        }
      ]
    },
    {
      "cell_type": "code",
      "metadata": {
        "id": "COhktEMkd3eE",
        "colab_type": "code",
        "outputId": "46c76ee9-5dd8-484a-b5e1-febb87b54496",
        "colab": {
          "base_uri": "https://localhost:8080/",
          "height": 119
        }
      },
      "source": [
        "df_train.isnull().sum()"
      ],
      "execution_count": 12,
      "outputs": [
        {
          "output_type": "execute_result",
          "data": {
            "text/plain": [
              "keyword               61\n",
              "location            2533\n",
              "text                   0\n",
              "target                 0\n",
              "caracteres_tweet       0\n",
              "dtype: int64"
            ]
          },
          "metadata": {
            "tags": []
          },
          "execution_count": 12
        }
      ]
    },
    {
      "cell_type": "code",
      "metadata": {
        "id": "vOG9CzUtfgwz",
        "colab_type": "code",
        "outputId": "a34514ad-49f1-4a48-e9bd-3d772e46db84",
        "colab": {
          "base_uri": "https://localhost:8080/",
          "height": 297
        }
      },
      "source": [
        "df_train.describe()"
      ],
      "execution_count": 13,
      "outputs": [
        {
          "output_type": "execute_result",
          "data": {
            "text/html": [
              "<div>\n",
              "<style scoped>\n",
              "    .dataframe tbody tr th:only-of-type {\n",
              "        vertical-align: middle;\n",
              "    }\n",
              "\n",
              "    .dataframe tbody tr th {\n",
              "        vertical-align: top;\n",
              "    }\n",
              "\n",
              "    .dataframe thead th {\n",
              "        text-align: right;\n",
              "    }\n",
              "</style>\n",
              "<table border=\"1\" class=\"dataframe\">\n",
              "  <thead>\n",
              "    <tr style=\"text-align: right;\">\n",
              "      <th></th>\n",
              "      <th>target</th>\n",
              "      <th>caracteres_tweet</th>\n",
              "    </tr>\n",
              "  </thead>\n",
              "  <tbody>\n",
              "    <tr>\n",
              "      <th>count</th>\n",
              "      <td>7613.00000</td>\n",
              "      <td>7613.000000</td>\n",
              "    </tr>\n",
              "    <tr>\n",
              "      <th>mean</th>\n",
              "      <td>0.42966</td>\n",
              "      <td>101.037436</td>\n",
              "    </tr>\n",
              "    <tr>\n",
              "      <th>std</th>\n",
              "      <td>0.49506</td>\n",
              "      <td>33.781325</td>\n",
              "    </tr>\n",
              "    <tr>\n",
              "      <th>min</th>\n",
              "      <td>0.00000</td>\n",
              "      <td>7.000000</td>\n",
              "    </tr>\n",
              "    <tr>\n",
              "      <th>25%</th>\n",
              "      <td>0.00000</td>\n",
              "      <td>78.000000</td>\n",
              "    </tr>\n",
              "    <tr>\n",
              "      <th>50%</th>\n",
              "      <td>0.00000</td>\n",
              "      <td>107.000000</td>\n",
              "    </tr>\n",
              "    <tr>\n",
              "      <th>75%</th>\n",
              "      <td>1.00000</td>\n",
              "      <td>133.000000</td>\n",
              "    </tr>\n",
              "    <tr>\n",
              "      <th>max</th>\n",
              "      <td>1.00000</td>\n",
              "      <td>157.000000</td>\n",
              "    </tr>\n",
              "  </tbody>\n",
              "</table>\n",
              "</div>"
            ],
            "text/plain": [
              "           target  caracteres_tweet\n",
              "count  7613.00000       7613.000000\n",
              "mean      0.42966        101.037436\n",
              "std       0.49506         33.781325\n",
              "min       0.00000          7.000000\n",
              "25%       0.00000         78.000000\n",
              "50%       0.00000        107.000000\n",
              "75%       1.00000        133.000000\n",
              "max       1.00000        157.000000"
            ]
          },
          "metadata": {
            "tags": []
          },
          "execution_count": 13
        }
      ]
    },
    {
      "cell_type": "code",
      "metadata": {
        "id": "erdKZwcam_pA",
        "colab_type": "code",
        "outputId": "556e7d2c-e557-4de6-adb1-a8a0277e8c04",
        "colab": {
          "base_uri": "https://localhost:8080/",
          "height": 34
        }
      },
      "source": [
        "# cuento total de tweets analizados\n",
        "total_tweets=len(df_train)\n",
        "total_tweets"
      ],
      "execution_count": 14,
      "outputs": [
        {
          "output_type": "execute_result",
          "data": {
            "text/plain": [
              "7613"
            ]
          },
          "metadata": {
            "tags": []
          },
          "execution_count": 14
        }
      ]
    },
    {
      "cell_type": "code",
      "metadata": {
        "id": "YOKPq9rzkoAt",
        "colab_type": "code",
        "outputId": "3e26fae8-39a3-4480-fd4c-3a8174c92217",
        "colab": {
          "base_uri": "https://localhost:8080/",
          "height": 34
        }
      },
      "source": [
        "# verifico cuantos son verdaderos\n",
        "tweets_verdaderos=(df_train['target']==1).sum()\n",
        "tweets_verdaderos\n"
      ],
      "execution_count": 15,
      "outputs": [
        {
          "output_type": "execute_result",
          "data": {
            "text/plain": [
              "3271"
            ]
          },
          "metadata": {
            "tags": []
          },
          "execution_count": 15
        }
      ]
    },
    {
      "cell_type": "code",
      "metadata": {
        "id": "VSUS3Fz3lHMM",
        "colab_type": "code",
        "outputId": "1ab9c9c2-2b30-4fa3-f836-bdbf14d213f7",
        "colab": {
          "base_uri": "https://localhost:8080/",
          "height": 34
        }
      },
      "source": [
        "# verifico cuantos son fakes\n",
        "tweets_falsos=(df_train['target']==0).sum()\n",
        "tweets_falsos"
      ],
      "execution_count": 16,
      "outputs": [
        {
          "output_type": "execute_result",
          "data": {
            "text/plain": [
              "4342"
            ]
          },
          "metadata": {
            "tags": []
          },
          "execution_count": 16
        }
      ]
    },
    {
      "cell_type": "code",
      "metadata": {
        "id": "AMneEm6JlOZ7",
        "colab_type": "code",
        "outputId": "53bb1386-82e3-43bb-be9d-da12eff78507",
        "colab": {
          "base_uri": "https://localhost:8080/",
          "height": 34
        }
      },
      "source": [
        "# calculo la probabilidad (casos favorables/sobre casos posibles) → en este casos es equivalente .mean()\n",
        "probabilidad_tweet_verdadero = np.round((tweets_verdaderos)/(total_tweets),decimals=2)\n",
        "probabilidad_tweet_verdadero"
      ],
      "execution_count": 17,
      "outputs": [
        {
          "output_type": "execute_result",
          "data": {
            "text/plain": [
              "0.43"
            ]
          },
          "metadata": {
            "tags": []
          },
          "execution_count": 17
        }
      ]
    },
    {
      "cell_type": "code",
      "metadata": {
        "id": "IL4mYRfBnnp7",
        "colab_type": "code",
        "outputId": "e467e88c-6431-4dd7-eb73-0b46d2b92fa9",
        "colab": {
          "base_uri": "https://localhost:8080/",
          "height": 34
        }
      },
      "source": [
        "# calculo la probabilidad (casos favorables/sobre casos posibles) → en este casos es equivalente .mean()\n",
        "probabilidad_tweet_falso = np.round((tweets_falsos)/(total_tweets),decimals=2)\n",
        "probabilidad_tweet_falso"
      ],
      "execution_count": 18,
      "outputs": [
        {
          "output_type": "execute_result",
          "data": {
            "text/plain": [
              "0.57"
            ]
          },
          "metadata": {
            "tags": []
          },
          "execution_count": 18
        }
      ]
    },
    {
      "cell_type": "markdown",
      "metadata": {
        "id": "1I-kq-DFNePL",
        "colab_type": "text"
      },
      "source": [
        "### **Iniciamos proceso de limpieza de datos**"
      ]
    },
    {
      "cell_type": "markdown",
      "metadata": {
        "id": "mJQW6fZPum3y",
        "colab_type": "text"
      },
      "source": [
        "#### **Verificación de nulos y normalización DF**\n",
        "\n"
      ]
    },
    {
      "cell_type": "code",
      "metadata": {
        "id": "_W8W9KmdNk5x",
        "colab_type": "code",
        "outputId": "c40646fb-7905-4734-f783-6d1e4eb8b5dc",
        "colab": {
          "base_uri": "https://localhost:8080/",
          "height": 0
        }
      },
      "source": [
        "# Verifico que no haya instancias nulas o filas completas nulas\n",
        "df_train=df_train.dropna(how=\"all\")\n",
        "df_train.info()"
      ],
      "execution_count": 19,
      "outputs": [
        {
          "output_type": "stream",
          "text": [
            "<class 'pandas.core.frame.DataFrame'>\n",
            "Int64Index: 7613 entries, 0 to 7612\n",
            "Data columns (total 5 columns):\n",
            " #   Column            Non-Null Count  Dtype \n",
            "---  ------            --------------  ----- \n",
            " 0   keyword           7552 non-null   object\n",
            " 1   location          5080 non-null   object\n",
            " 2   text              7613 non-null   object\n",
            " 3   target            7613 non-null   int64 \n",
            " 4   caracteres_tweet  7613 non-null   int64 \n",
            "dtypes: int64(2), object(3)\n",
            "memory usage: 356.9+ KB\n"
          ],
          "name": "stdout"
        }
      ]
    },
    {
      "cell_type": "code",
      "metadata": {
        "id": "WAcKU9jsvXYX",
        "colab_type": "code",
        "outputId": "d87cef8a-980f-40e4-8f0a-6583e6d099a5",
        "colab": {
          "base_uri": "https://localhost:8080/",
          "height": 0
        }
      },
      "source": [
        "# Normalizo el dataframe los registros NaN con texto\n",
        "df_train=df_train.fillna({'keyword': 'sin keyword',\\\n",
        "                   'location': 'sin location'})\n",
        "df_train.info()"
      ],
      "execution_count": 20,
      "outputs": [
        {
          "output_type": "stream",
          "text": [
            "<class 'pandas.core.frame.DataFrame'>\n",
            "Int64Index: 7613 entries, 0 to 7612\n",
            "Data columns (total 5 columns):\n",
            " #   Column            Non-Null Count  Dtype \n",
            "---  ------            --------------  ----- \n",
            " 0   keyword           7613 non-null   object\n",
            " 1   location          7613 non-null   object\n",
            " 2   text              7613 non-null   object\n",
            " 3   target            7613 non-null   int64 \n",
            " 4   caracteres_tweet  7613 non-null   int64 \n",
            "dtypes: int64(2), object(3)\n",
            "memory usage: 356.9+ KB\n"
          ],
          "name": "stdout"
        }
      ]
    },
    {
      "cell_type": "code",
      "metadata": {
        "id": "dycFLObqsf0w",
        "colab_type": "code",
        "colab": {}
      },
      "source": [
        "# Eliminamos los tweets duplicados considerando que su cantidad no tiene impacto en el análisis.\n",
        "df_train=df_train.drop_duplicates('text')"
      ],
      "execution_count": 0,
      "outputs": []
    },
    {
      "cell_type": "code",
      "metadata": {
        "id": "gvY--aIT2NNM",
        "colab_type": "code",
        "outputId": "3ba6199c-7fbc-4fe1-b44f-0c4453c46428",
        "colab": {
          "base_uri": "https://localhost:8080/",
          "height": 0
        }
      },
      "source": [
        "df_train\n",
        "df_train.info()"
      ],
      "execution_count": 22,
      "outputs": [
        {
          "output_type": "stream",
          "text": [
            "<class 'pandas.core.frame.DataFrame'>\n",
            "Int64Index: 7503 entries, 0 to 7612\n",
            "Data columns (total 5 columns):\n",
            " #   Column            Non-Null Count  Dtype \n",
            "---  ------            --------------  ----- \n",
            " 0   keyword           7503 non-null   object\n",
            " 1   location          7503 non-null   object\n",
            " 2   text              7503 non-null   object\n",
            " 3   target            7503 non-null   int64 \n",
            " 4   caracteres_tweet  7503 non-null   int64 \n",
            "dtypes: int64(2), object(3)\n",
            "memory usage: 351.7+ KB\n"
          ],
          "name": "stdout"
        }
      ]
    },
    {
      "cell_type": "markdown",
      "metadata": {
        "id": "5gx0RsFrJs0_",
        "colab_type": "text"
      },
      "source": [
        "## Preprocesamiento de datos: **Tokenización**"
      ]
    },
    {
      "cell_type": "code",
      "metadata": {
        "id": "rq6FoNYI2NH9",
        "colab_type": "code",
        "colab": {}
      },
      "source": [
        "import string\n",
        "punctuation = set(string.punctuation)\n",
        "\n",
        "def tokenize(sentence):\n",
        "    tokens = []\n",
        "    for token in sentence.split():\n",
        "        new_token = []\n",
        "        for character in token:\n",
        "            if character not in punctuation:\n",
        "                new_token.append(character.lower())\n",
        "        if new_token:\n",
        "            tokens.append(\"\".join(new_token))\n",
        "    return tokens"
      ],
      "execution_count": 0,
      "outputs": []
    },
    {
      "cell_type": "code",
      "metadata": {
        "id": "sBaMAYsW36eq",
        "colab_type": "code",
        "colab": {}
      },
      "source": [
        "# type(tokens)"
      ],
      "execution_count": 0,
      "outputs": []
    },
    {
      "cell_type": "code",
      "metadata": {
        "id": "fhT5VMuN2NBO",
        "colab_type": "code",
        "colab": {}
      },
      "source": [
        "df_train['text_vector']=df_train['text'].apply(tokenize)"
      ],
      "execution_count": 0,
      "outputs": []
    },
    {
      "cell_type": "code",
      "metadata": {
        "id": "aCQlY3Am2M2z",
        "colab_type": "code",
        "outputId": "ab1ce4ea-fa2b-4555-ff7d-25772bba7672",
        "colab": {
          "base_uri": "https://localhost:8080/",
          "height": 204
        }
      },
      "source": [
        "df_train.head(5)"
      ],
      "execution_count": 26,
      "outputs": [
        {
          "output_type": "execute_result",
          "data": {
            "text/html": [
              "<div>\n",
              "<style scoped>\n",
              "    .dataframe tbody tr th:only-of-type {\n",
              "        vertical-align: middle;\n",
              "    }\n",
              "\n",
              "    .dataframe tbody tr th {\n",
              "        vertical-align: top;\n",
              "    }\n",
              "\n",
              "    .dataframe thead th {\n",
              "        text-align: right;\n",
              "    }\n",
              "</style>\n",
              "<table border=\"1\" class=\"dataframe\">\n",
              "  <thead>\n",
              "    <tr style=\"text-align: right;\">\n",
              "      <th></th>\n",
              "      <th>keyword</th>\n",
              "      <th>location</th>\n",
              "      <th>text</th>\n",
              "      <th>target</th>\n",
              "      <th>caracteres_tweet</th>\n",
              "      <th>text_vector</th>\n",
              "    </tr>\n",
              "  </thead>\n",
              "  <tbody>\n",
              "    <tr>\n",
              "      <th>0</th>\n",
              "      <td>sin keyword</td>\n",
              "      <td>sin location</td>\n",
              "      <td>Our Deeds are the Reason of this #earthquake M...</td>\n",
              "      <td>1</td>\n",
              "      <td>69</td>\n",
              "      <td>[our, deeds, are, the, reason, of, this, earth...</td>\n",
              "    </tr>\n",
              "    <tr>\n",
              "      <th>1</th>\n",
              "      <td>sin keyword</td>\n",
              "      <td>sin location</td>\n",
              "      <td>Forest fire near La Ronge Sask. Canada</td>\n",
              "      <td>1</td>\n",
              "      <td>38</td>\n",
              "      <td>[forest, fire, near, la, ronge, sask, canada]</td>\n",
              "    </tr>\n",
              "    <tr>\n",
              "      <th>2</th>\n",
              "      <td>sin keyword</td>\n",
              "      <td>sin location</td>\n",
              "      <td>All residents asked to 'shelter in place' are ...</td>\n",
              "      <td>1</td>\n",
              "      <td>133</td>\n",
              "      <td>[all, residents, asked, to, shelter, in, place...</td>\n",
              "    </tr>\n",
              "    <tr>\n",
              "      <th>3</th>\n",
              "      <td>sin keyword</td>\n",
              "      <td>sin location</td>\n",
              "      <td>13,000 people receive #wildfires evacuation or...</td>\n",
              "      <td>1</td>\n",
              "      <td>65</td>\n",
              "      <td>[13000, people, receive, wildfires, evacuation...</td>\n",
              "    </tr>\n",
              "    <tr>\n",
              "      <th>4</th>\n",
              "      <td>sin keyword</td>\n",
              "      <td>sin location</td>\n",
              "      <td>Just got sent this photo from Ruby #Alaska as ...</td>\n",
              "      <td>1</td>\n",
              "      <td>88</td>\n",
              "      <td>[just, got, sent, this, photo, from, ruby, ala...</td>\n",
              "    </tr>\n",
              "  </tbody>\n",
              "</table>\n",
              "</div>"
            ],
            "text/plain": [
              "       keyword  ...                                        text_vector\n",
              "0  sin keyword  ...  [our, deeds, are, the, reason, of, this, earth...\n",
              "1  sin keyword  ...      [forest, fire, near, la, ronge, sask, canada]\n",
              "2  sin keyword  ...  [all, residents, asked, to, shelter, in, place...\n",
              "3  sin keyword  ...  [13000, people, receive, wildfires, evacuation...\n",
              "4  sin keyword  ...  [just, got, sent, this, photo, from, ruby, ala...\n",
              "\n",
              "[5 rows x 6 columns]"
            ]
          },
          "metadata": {
            "tags": []
          },
          "execution_count": 26
        }
      ]
    },
    {
      "cell_type": "code",
      "metadata": {
        "id": "nGI2kGtPLFHc",
        "colab_type": "code",
        "outputId": "0d58f097-a298-4a01-bfd9-b8a78c1aae11",
        "colab": {
          "base_uri": "https://localhost:8080/",
          "height": 238
        }
      },
      "source": [
        "df_train.info()"
      ],
      "execution_count": 27,
      "outputs": [
        {
          "output_type": "stream",
          "text": [
            "<class 'pandas.core.frame.DataFrame'>\n",
            "Int64Index: 7503 entries, 0 to 7612\n",
            "Data columns (total 6 columns):\n",
            " #   Column            Non-Null Count  Dtype \n",
            "---  ------            --------------  ----- \n",
            " 0   keyword           7503 non-null   object\n",
            " 1   location          7503 non-null   object\n",
            " 2   text              7503 non-null   object\n",
            " 3   target            7503 non-null   int64 \n",
            " 4   caracteres_tweet  7503 non-null   int64 \n",
            " 5   text_vector       7503 non-null   object\n",
            "dtypes: int64(2), object(4)\n",
            "memory usage: 410.3+ KB\n"
          ],
          "name": "stdout"
        }
      ]
    },
    {
      "cell_type": "code",
      "metadata": {
        "id": "oUN3PgvuQAxR",
        "colab_type": "code",
        "colab": {}
      },
      "source": [
        "#from sklearn.feature_extraction.stop_words import ENGLISH_STOP_WORDS\n",
        "#from sklearn.feature_extraction import stop_words\n",
        "#print(stop_words.ENGLISH_STOP_WORDS)"
      ],
      "execution_count": 0,
      "outputs": []
    },
    {
      "cell_type": "code",
      "metadata": {
        "id": "jsgl_XS2WkLL",
        "colab_type": "code",
        "outputId": "4cd4751c-e726-4a50-faa2-fab24d92015d",
        "colab": {
          "base_uri": "https://localhost:8080/",
          "height": 68
        }
      },
      "source": [
        "import nltk\n",
        "nltk.download('stopwords')\n",
        "\n",
        "#from nltk.corpus import stopwords\n",
        "#from nltk.tokenize import word_tokenize"
      ],
      "execution_count": 29,
      "outputs": [
        {
          "output_type": "stream",
          "text": [
            "[nltk_data] Downloading package stopwords to /root/nltk_data...\n",
            "[nltk_data]   Unzipping corpora/stopwords.zip.\n"
          ],
          "name": "stdout"
        },
        {
          "output_type": "execute_result",
          "data": {
            "text/plain": [
              "True"
            ]
          },
          "metadata": {
            "tags": []
          },
          "execution_count": 29
        }
      ]
    },
    {
      "cell_type": "code",
      "metadata": {
        "id": "KI5PFaXurV42",
        "colab_type": "code",
        "outputId": "be23978b-2980-41d5-dd22-157fce5002d2",
        "colab": {
          "base_uri": "https://localhost:8080/",
          "height": 408
        }
      },
      "source": [
        "from nltk.corpus import stopwords\n",
        "#from nltk.tokenize import word_tokenize\n",
        "stopwords.fileids()"
      ],
      "execution_count": 30,
      "outputs": [
        {
          "output_type": "execute_result",
          "data": {
            "text/plain": [
              "['arabic',\n",
              " 'azerbaijani',\n",
              " 'danish',\n",
              " 'dutch',\n",
              " 'english',\n",
              " 'finnish',\n",
              " 'french',\n",
              " 'german',\n",
              " 'greek',\n",
              " 'hungarian',\n",
              " 'indonesian',\n",
              " 'italian',\n",
              " 'kazakh',\n",
              " 'nepali',\n",
              " 'norwegian',\n",
              " 'portuguese',\n",
              " 'romanian',\n",
              " 'russian',\n",
              " 'slovene',\n",
              " 'spanish',\n",
              " 'swedish',\n",
              " 'tajik',\n",
              " 'turkish']"
            ]
          },
          "metadata": {
            "tags": []
          },
          "execution_count": 30
        }
      ]
    },
    {
      "cell_type": "code",
      "metadata": {
        "id": "z_azzOpyYp8q",
        "colab_type": "code",
        "colab": {}
      },
      "source": [
        "stop=stopwords.words('english')"
      ],
      "execution_count": 0,
      "outputs": []
    },
    {
      "cell_type": "code",
      "metadata": {
        "id": "OPfwPgITsO7J",
        "colab_type": "code",
        "colab": {}
      },
      "source": [
        "def filtro(text_vector):\n",
        "  text_vector_filtrado = []\n",
        "  for palabra in text_vector:\n",
        "    if palabra not in stop:\n",
        "      text_vector_filtrado.append(palabra)\n",
        "  return(text_vector_filtrado)"
      ],
      "execution_count": 0,
      "outputs": []
    },
    {
      "cell_type": "code",
      "metadata": {
        "id": "RU4VqaVdwuEw",
        "colab_type": "code",
        "colab": {}
      },
      "source": [
        "# type(text_vector_filtrado)"
      ],
      "execution_count": 0,
      "outputs": []
    },
    {
      "cell_type": "code",
      "metadata": {
        "id": "XX0bDJVS0Zt3",
        "colab_type": "code",
        "colab": {}
      },
      "source": [
        "df_train['text_vector_filtrado']=df_train['text_vector'].apply(filtro)"
      ],
      "execution_count": 0,
      "outputs": []
    },
    {
      "cell_type": "code",
      "metadata": {
        "id": "XoqrXDN-YF3H",
        "colab_type": "code",
        "outputId": "0e9f56f2-d375-402a-c61e-e3af7208fe75",
        "colab": {
          "base_uri": "https://localhost:8080/",
          "height": 119
        }
      },
      "source": [
        "df_train['text_vector_filtrado'].head()"
      ],
      "execution_count": 35,
      "outputs": [
        {
          "output_type": "execute_result",
          "data": {
            "text/plain": [
              "0    [deeds, reason, earthquake, may, allah, forgiv...\n",
              "1        [forest, fire, near, la, ronge, sask, canada]\n",
              "2    [residents, asked, shelter, place, notified, o...\n",
              "3    [13000, people, receive, wildfires, evacuation...\n",
              "4    [got, sent, photo, ruby, alaska, smoke, wildfi...\n",
              "Name: text_vector_filtrado, dtype: object"
            ]
          },
          "metadata": {
            "tags": []
          },
          "execution_count": 35
        }
      ]
    },
    {
      "cell_type": "code",
      "metadata": {
        "id": "imCu2L7VWjZi",
        "colab_type": "code",
        "outputId": "86d8fdd8-6347-4f74-a62c-65bb68a372c3",
        "colab": {
          "base_uri": "https://localhost:8080/",
          "height": 289
        }
      },
      "source": [
        "df_train['elem_vector']=df_train['text_vector'].str.len()\n",
        "df_train.head()"
      ],
      "execution_count": 36,
      "outputs": [
        {
          "output_type": "execute_result",
          "data": {
            "text/html": [
              "<div>\n",
              "<style scoped>\n",
              "    .dataframe tbody tr th:only-of-type {\n",
              "        vertical-align: middle;\n",
              "    }\n",
              "\n",
              "    .dataframe tbody tr th {\n",
              "        vertical-align: top;\n",
              "    }\n",
              "\n",
              "    .dataframe thead th {\n",
              "        text-align: right;\n",
              "    }\n",
              "</style>\n",
              "<table border=\"1\" class=\"dataframe\">\n",
              "  <thead>\n",
              "    <tr style=\"text-align: right;\">\n",
              "      <th></th>\n",
              "      <th>keyword</th>\n",
              "      <th>location</th>\n",
              "      <th>text</th>\n",
              "      <th>target</th>\n",
              "      <th>caracteres_tweet</th>\n",
              "      <th>text_vector</th>\n",
              "      <th>text_vector_filtrado</th>\n",
              "      <th>elem_vector</th>\n",
              "    </tr>\n",
              "  </thead>\n",
              "  <tbody>\n",
              "    <tr>\n",
              "      <th>0</th>\n",
              "      <td>sin keyword</td>\n",
              "      <td>sin location</td>\n",
              "      <td>Our Deeds are the Reason of this #earthquake M...</td>\n",
              "      <td>1</td>\n",
              "      <td>69</td>\n",
              "      <td>[our, deeds, are, the, reason, of, this, earth...</td>\n",
              "      <td>[deeds, reason, earthquake, may, allah, forgiv...</td>\n",
              "      <td>13</td>\n",
              "    </tr>\n",
              "    <tr>\n",
              "      <th>1</th>\n",
              "      <td>sin keyword</td>\n",
              "      <td>sin location</td>\n",
              "      <td>Forest fire near La Ronge Sask. Canada</td>\n",
              "      <td>1</td>\n",
              "      <td>38</td>\n",
              "      <td>[forest, fire, near, la, ronge, sask, canada]</td>\n",
              "      <td>[forest, fire, near, la, ronge, sask, canada]</td>\n",
              "      <td>7</td>\n",
              "    </tr>\n",
              "    <tr>\n",
              "      <th>2</th>\n",
              "      <td>sin keyword</td>\n",
              "      <td>sin location</td>\n",
              "      <td>All residents asked to 'shelter in place' are ...</td>\n",
              "      <td>1</td>\n",
              "      <td>133</td>\n",
              "      <td>[all, residents, asked, to, shelter, in, place...</td>\n",
              "      <td>[residents, asked, shelter, place, notified, o...</td>\n",
              "      <td>22</td>\n",
              "    </tr>\n",
              "    <tr>\n",
              "      <th>3</th>\n",
              "      <td>sin keyword</td>\n",
              "      <td>sin location</td>\n",
              "      <td>13,000 people receive #wildfires evacuation or...</td>\n",
              "      <td>1</td>\n",
              "      <td>65</td>\n",
              "      <td>[13000, people, receive, wildfires, evacuation...</td>\n",
              "      <td>[13000, people, receive, wildfires, evacuation...</td>\n",
              "      <td>8</td>\n",
              "    </tr>\n",
              "    <tr>\n",
              "      <th>4</th>\n",
              "      <td>sin keyword</td>\n",
              "      <td>sin location</td>\n",
              "      <td>Just got sent this photo from Ruby #Alaska as ...</td>\n",
              "      <td>1</td>\n",
              "      <td>88</td>\n",
              "      <td>[just, got, sent, this, photo, from, ruby, ala...</td>\n",
              "      <td>[got, sent, photo, ruby, alaska, smoke, wildfi...</td>\n",
              "      <td>16</td>\n",
              "    </tr>\n",
              "  </tbody>\n",
              "</table>\n",
              "</div>"
            ],
            "text/plain": [
              "       keyword  ... elem_vector\n",
              "0  sin keyword  ...          13\n",
              "1  sin keyword  ...           7\n",
              "2  sin keyword  ...          22\n",
              "3  sin keyword  ...           8\n",
              "4  sin keyword  ...          16\n",
              "\n",
              "[5 rows x 8 columns]"
            ]
          },
          "metadata": {
            "tags": []
          },
          "execution_count": 36
        }
      ]
    },
    {
      "cell_type": "code",
      "metadata": {
        "id": "5DygoHfy6nVn",
        "colab_type": "code",
        "outputId": "f5a24a48-20d3-423e-c539-482d4d79f297",
        "colab": {
          "base_uri": "https://localhost:8080/",
          "height": 289
        }
      },
      "source": [
        "df_train['elem_vector_filtrado']=df_train['text_vector_filtrado'].str.len()\n",
        "df_train.head()"
      ],
      "execution_count": 37,
      "outputs": [
        {
          "output_type": "execute_result",
          "data": {
            "text/html": [
              "<div>\n",
              "<style scoped>\n",
              "    .dataframe tbody tr th:only-of-type {\n",
              "        vertical-align: middle;\n",
              "    }\n",
              "\n",
              "    .dataframe tbody tr th {\n",
              "        vertical-align: top;\n",
              "    }\n",
              "\n",
              "    .dataframe thead th {\n",
              "        text-align: right;\n",
              "    }\n",
              "</style>\n",
              "<table border=\"1\" class=\"dataframe\">\n",
              "  <thead>\n",
              "    <tr style=\"text-align: right;\">\n",
              "      <th></th>\n",
              "      <th>keyword</th>\n",
              "      <th>location</th>\n",
              "      <th>text</th>\n",
              "      <th>target</th>\n",
              "      <th>caracteres_tweet</th>\n",
              "      <th>text_vector</th>\n",
              "      <th>text_vector_filtrado</th>\n",
              "      <th>elem_vector</th>\n",
              "      <th>elem_vector_filtrado</th>\n",
              "    </tr>\n",
              "  </thead>\n",
              "  <tbody>\n",
              "    <tr>\n",
              "      <th>0</th>\n",
              "      <td>sin keyword</td>\n",
              "      <td>sin location</td>\n",
              "      <td>Our Deeds are the Reason of this #earthquake M...</td>\n",
              "      <td>1</td>\n",
              "      <td>69</td>\n",
              "      <td>[our, deeds, are, the, reason, of, this, earth...</td>\n",
              "      <td>[deeds, reason, earthquake, may, allah, forgiv...</td>\n",
              "      <td>13</td>\n",
              "      <td>7</td>\n",
              "    </tr>\n",
              "    <tr>\n",
              "      <th>1</th>\n",
              "      <td>sin keyword</td>\n",
              "      <td>sin location</td>\n",
              "      <td>Forest fire near La Ronge Sask. Canada</td>\n",
              "      <td>1</td>\n",
              "      <td>38</td>\n",
              "      <td>[forest, fire, near, la, ronge, sask, canada]</td>\n",
              "      <td>[forest, fire, near, la, ronge, sask, canada]</td>\n",
              "      <td>7</td>\n",
              "      <td>7</td>\n",
              "    </tr>\n",
              "    <tr>\n",
              "      <th>2</th>\n",
              "      <td>sin keyword</td>\n",
              "      <td>sin location</td>\n",
              "      <td>All residents asked to 'shelter in place' are ...</td>\n",
              "      <td>1</td>\n",
              "      <td>133</td>\n",
              "      <td>[all, residents, asked, to, shelter, in, place...</td>\n",
              "      <td>[residents, asked, shelter, place, notified, o...</td>\n",
              "      <td>22</td>\n",
              "      <td>11</td>\n",
              "    </tr>\n",
              "    <tr>\n",
              "      <th>3</th>\n",
              "      <td>sin keyword</td>\n",
              "      <td>sin location</td>\n",
              "      <td>13,000 people receive #wildfires evacuation or...</td>\n",
              "      <td>1</td>\n",
              "      <td>65</td>\n",
              "      <td>[13000, people, receive, wildfires, evacuation...</td>\n",
              "      <td>[13000, people, receive, wildfires, evacuation...</td>\n",
              "      <td>8</td>\n",
              "      <td>7</td>\n",
              "    </tr>\n",
              "    <tr>\n",
              "      <th>4</th>\n",
              "      <td>sin keyword</td>\n",
              "      <td>sin location</td>\n",
              "      <td>Just got sent this photo from Ruby #Alaska as ...</td>\n",
              "      <td>1</td>\n",
              "      <td>88</td>\n",
              "      <td>[just, got, sent, this, photo, from, ruby, ala...</td>\n",
              "      <td>[got, sent, photo, ruby, alaska, smoke, wildfi...</td>\n",
              "      <td>16</td>\n",
              "      <td>9</td>\n",
              "    </tr>\n",
              "  </tbody>\n",
              "</table>\n",
              "</div>"
            ],
            "text/plain": [
              "       keyword      location  ... elem_vector  elem_vector_filtrado\n",
              "0  sin keyword  sin location  ...          13                     7\n",
              "1  sin keyword  sin location  ...           7                     7\n",
              "2  sin keyword  sin location  ...          22                    11\n",
              "3  sin keyword  sin location  ...           8                     7\n",
              "4  sin keyword  sin location  ...          16                     9\n",
              "\n",
              "[5 rows x 9 columns]"
            ]
          },
          "metadata": {
            "tags": []
          },
          "execution_count": 37
        }
      ]
    },
    {
      "cell_type": "code",
      "metadata": {
        "id": "_p1qIafC7F-N",
        "colab_type": "code",
        "outputId": "c7afe3f4-afac-4750-aadc-03c536623caa",
        "colab": {
          "base_uri": "https://localhost:8080/",
          "height": 289
        }
      },
      "source": [
        "df_train.info()"
      ],
      "execution_count": 38,
      "outputs": [
        {
          "output_type": "stream",
          "text": [
            "<class 'pandas.core.frame.DataFrame'>\n",
            "Int64Index: 7503 entries, 0 to 7612\n",
            "Data columns (total 9 columns):\n",
            " #   Column                Non-Null Count  Dtype \n",
            "---  ------                --------------  ----- \n",
            " 0   keyword               7503 non-null   object\n",
            " 1   location              7503 non-null   object\n",
            " 2   text                  7503 non-null   object\n",
            " 3   target                7503 non-null   int64 \n",
            " 4   caracteres_tweet      7503 non-null   int64 \n",
            " 5   text_vector           7503 non-null   object\n",
            " 6   text_vector_filtrado  7503 non-null   object\n",
            " 7   elem_vector           7503 non-null   int64 \n",
            " 8   elem_vector_filtrado  7503 non-null   int64 \n",
            "dtypes: int64(4), object(5)\n",
            "memory usage: 586.2+ KB\n"
          ],
          "name": "stdout"
        }
      ]
    },
    {
      "cell_type": "markdown",
      "metadata": {
        "id": "-A3Do3hoC9Ky",
        "colab_type": "text"
      },
      "source": [
        "### Preproceso y categorización de la variable ***Keyword***"
      ]
    },
    {
      "cell_type": "code",
      "metadata": {
        "id": "-HzBxpLdLD8B",
        "colab_type": "code",
        "colab": {}
      },
      "source": [
        "# \"Limpiamos\" la serie de caracteres especiales, sustituyendolos\n",
        "df_train['keyword']=df_train['keyword'].str.replace('%20','_')"
      ],
      "execution_count": 0,
      "outputs": []
    },
    {
      "cell_type": "code",
      "metadata": {
        "id": "uxcChUiJ1-TF",
        "colab_type": "code",
        "outputId": "a22f7ff3-45b2-4776-c80a-c8a04eef1530",
        "colab": {
          "base_uri": "https://localhost:8080/",
          "height": 782
        }
      },
      "source": [
        "# Verificamos actualización\n",
        "df_train['keyword'].unique()"
      ],
      "execution_count": 40,
      "outputs": [
        {
          "output_type": "execute_result",
          "data": {
            "text/plain": [
              "array(['sin keyword', 'ablaze', 'accident', 'aftershock',\n",
              "       'airplane_accident', 'ambulance', 'annihilated', 'annihilation',\n",
              "       'apocalypse', 'armageddon', 'army', 'arson', 'arsonist', 'attack',\n",
              "       'attacked', 'avalanche', 'battle', 'bioterror', 'bioterrorism',\n",
              "       'blaze', 'blazing', 'bleeding', 'blew_up', 'blight', 'blizzard',\n",
              "       'blood', 'bloody', 'blown_up', 'body_bag', 'body_bagging',\n",
              "       'body_bags', 'bomb', 'bombed', 'bombing', 'bridge_collapse',\n",
              "       'buildings_burning', 'buildings_on_fire', 'burned', 'burning',\n",
              "       'burning_buildings', 'bush_fires', 'casualties', 'casualty',\n",
              "       'catastrophe', 'catastrophic', 'chemical_emergency', 'cliff_fall',\n",
              "       'collapse', 'collapsed', 'collide', 'collided', 'collision',\n",
              "       'crash', 'crashed', 'crush', 'crushed', 'curfew', 'cyclone',\n",
              "       'damage', 'danger', 'dead', 'death', 'deaths', 'debris', 'deluge',\n",
              "       'deluged', 'demolish', 'demolished', 'demolition', 'derail',\n",
              "       'derailed', 'derailment', 'desolate', 'desolation', 'destroy',\n",
              "       'destroyed', 'destruction', 'detonate', 'detonation', 'devastated',\n",
              "       'devastation', 'disaster', 'displaced', 'drought', 'drown',\n",
              "       'drowned', 'drowning', 'dust_storm', 'earthquake', 'electrocute',\n",
              "       'electrocuted', 'emergency', 'emergency_plan',\n",
              "       'emergency_services', 'engulfed', 'epicentre', 'evacuate',\n",
              "       'evacuated', 'evacuation', 'explode', 'exploded', 'explosion',\n",
              "       'eyewitness', 'famine', 'fatal', 'fatalities', 'fatality', 'fear',\n",
              "       'fire', 'fire_truck', 'first_responders', 'flames', 'flattened',\n",
              "       'flood', 'flooding', 'floods', 'forest_fire', 'forest_fires',\n",
              "       'hail', 'hailstorm', 'harm', 'hazard', 'hazardous', 'heat_wave',\n",
              "       'hellfire', 'hijack', 'hijacker', 'hijacking', 'hostage',\n",
              "       'hostages', 'hurricane', 'injured', 'injuries', 'injury',\n",
              "       'inundated', 'inundation', 'landslide', 'lava', 'lightning',\n",
              "       'loud_bang', 'mass_murder', 'mass_murderer', 'massacre', 'mayhem',\n",
              "       'meltdown', 'military', 'mudslide', 'natural_disaster',\n",
              "       'nuclear_disaster', 'nuclear_reactor', 'obliterate', 'obliterated',\n",
              "       'obliteration', 'oil_spill', 'outbreak', 'pandemonium', 'panic',\n",
              "       'panicking', 'police', 'quarantine', 'quarantined',\n",
              "       'radiation_emergency', 'rainstorm', 'razed', 'refugees', 'rescue',\n",
              "       'rescued', 'rescuers', 'riot', 'rioting', 'rubble', 'ruin',\n",
              "       'sandstorm', 'screamed', 'screaming', 'screams', 'seismic',\n",
              "       'sinkhole', 'sinking', 'siren', 'sirens', 'smoke', 'snowstorm',\n",
              "       'storm', 'stretcher', 'structural_failure', 'suicide_bomb',\n",
              "       'suicide_bomber', 'suicide_bombing', 'sunk', 'survive', 'survived',\n",
              "       'survivors', 'terrorism', 'terrorist', 'threat', 'thunder',\n",
              "       'thunderstorm', 'tornado', 'tragedy', 'trapped', 'trauma',\n",
              "       'traumatised', 'trouble', 'tsunami', 'twister', 'typhoon',\n",
              "       'upheaval', 'violent_storm', 'volcano', 'war_zone', 'weapon',\n",
              "       'weapons', 'whirlwind', 'wild_fires', 'wildfire', 'windstorm',\n",
              "       'wounded', 'wounds', 'wreck', 'wreckage', 'wrecked'], dtype=object)"
            ]
          },
          "metadata": {
            "tags": []
          },
          "execution_count": 40
        }
      ]
    },
    {
      "cell_type": "code",
      "metadata": {
        "id": "ZSRI0-MgFqFD",
        "colab_type": "code",
        "colab": {
          "base_uri": "https://localhost:8080/",
          "height": 54
        },
        "outputId": "fda897d7-f855-45ff-b059-61daa181d4f0"
      },
      "source": [
        "# Listo para generar un diccionario y traducir la serie 'keyword'\n",
        "keyword_list=df_train['keyword'].unique().tolist()\n",
        "print(keyword_list)"
      ],
      "execution_count": 41,
      "outputs": [
        {
          "output_type": "stream",
          "text": [
            "['sin keyword', 'ablaze', 'accident', 'aftershock', 'airplane_accident', 'ambulance', 'annihilated', 'annihilation', 'apocalypse', 'armageddon', 'army', 'arson', 'arsonist', 'attack', 'attacked', 'avalanche', 'battle', 'bioterror', 'bioterrorism', 'blaze', 'blazing', 'bleeding', 'blew_up', 'blight', 'blizzard', 'blood', 'bloody', 'blown_up', 'body_bag', 'body_bagging', 'body_bags', 'bomb', 'bombed', 'bombing', 'bridge_collapse', 'buildings_burning', 'buildings_on_fire', 'burned', 'burning', 'burning_buildings', 'bush_fires', 'casualties', 'casualty', 'catastrophe', 'catastrophic', 'chemical_emergency', 'cliff_fall', 'collapse', 'collapsed', 'collide', 'collided', 'collision', 'crash', 'crashed', 'crush', 'crushed', 'curfew', 'cyclone', 'damage', 'danger', 'dead', 'death', 'deaths', 'debris', 'deluge', 'deluged', 'demolish', 'demolished', 'demolition', 'derail', 'derailed', 'derailment', 'desolate', 'desolation', 'destroy', 'destroyed', 'destruction', 'detonate', 'detonation', 'devastated', 'devastation', 'disaster', 'displaced', 'drought', 'drown', 'drowned', 'drowning', 'dust_storm', 'earthquake', 'electrocute', 'electrocuted', 'emergency', 'emergency_plan', 'emergency_services', 'engulfed', 'epicentre', 'evacuate', 'evacuated', 'evacuation', 'explode', 'exploded', 'explosion', 'eyewitness', 'famine', 'fatal', 'fatalities', 'fatality', 'fear', 'fire', 'fire_truck', 'first_responders', 'flames', 'flattened', 'flood', 'flooding', 'floods', 'forest_fire', 'forest_fires', 'hail', 'hailstorm', 'harm', 'hazard', 'hazardous', 'heat_wave', 'hellfire', 'hijack', 'hijacker', 'hijacking', 'hostage', 'hostages', 'hurricane', 'injured', 'injuries', 'injury', 'inundated', 'inundation', 'landslide', 'lava', 'lightning', 'loud_bang', 'mass_murder', 'mass_murderer', 'massacre', 'mayhem', 'meltdown', 'military', 'mudslide', 'natural_disaster', 'nuclear_disaster', 'nuclear_reactor', 'obliterate', 'obliterated', 'obliteration', 'oil_spill', 'outbreak', 'pandemonium', 'panic', 'panicking', 'police', 'quarantine', 'quarantined', 'radiation_emergency', 'rainstorm', 'razed', 'refugees', 'rescue', 'rescued', 'rescuers', 'riot', 'rioting', 'rubble', 'ruin', 'sandstorm', 'screamed', 'screaming', 'screams', 'seismic', 'sinkhole', 'sinking', 'siren', 'sirens', 'smoke', 'snowstorm', 'storm', 'stretcher', 'structural_failure', 'suicide_bomb', 'suicide_bomber', 'suicide_bombing', 'sunk', 'survive', 'survived', 'survivors', 'terrorism', 'terrorist', 'threat', 'thunder', 'thunderstorm', 'tornado', 'tragedy', 'trapped', 'trauma', 'traumatised', 'trouble', 'tsunami', 'twister', 'typhoon', 'upheaval', 'violent_storm', 'volcano', 'war_zone', 'weapon', 'weapons', 'whirlwind', 'wild_fires', 'wildfire', 'windstorm', 'wounded', 'wounds', 'wreck', 'wreckage', 'wrecked']\n"
          ],
          "name": "stdout"
        }
      ]
    },
    {
      "cell_type": "code",
      "metadata": {
        "id": "P6Jc8dBe6Unj",
        "colab_type": "code",
        "colab": {
          "base_uri": "https://localhost:8080/",
          "height": 54
        },
        "outputId": "83bf40f9-917a-4dff-8129-10c9cdd5ca09"
      },
      "source": [
        "# Genero otra lista pero en español\n",
        "keyword_list_esp=['sin_keyword','en llamas','accidente','replica','accidente_avion','ambulancia','aniquilado','aniquilacion','apocalipse','armageddon','ejercito','incendio_intencional','piromano','ataque','atacado','avalancha','combate/batalla/lucha','bioterror','bioterrorismo','resplandecer/arder','resplandeciente/ardiente','hemorragia','exploto','plaga','ventisca','sangre','sangriento','estallido','bolsa_de_cadaver','embolsado_de_cadaver','bolsas_de_cadaver','bomba','bombardeado','bombardeo','colapso_de_puente','incendio_de_edificios','edificios_en_llamas','quemado','quemando/incendiando','incendio_edificios','incendio_de_matorrales/arbustos','bajas/muertes/perdidas','baja/muerte/perdida','catastrofe','catastrofico','emergencia_quimica','caida_acantilado','colapso','colapsado','colisionar','colisiono','colision','choque','estrellado','aplastamiento','aplastado','toque_de_queda','ciclon','da¤o','peligro','muerto','muerte','muertes','escombros','diluvio','inundado','demoler','demolido','demolicion','descarrilar','descarrilado','descarrilamiento','desolado','desolacion','destruir','destruido','destruccion','detonado','detonacion','devastado','devastacion','desastre','dislacado/desplazado','sequia','ahogar','ahogado','ahogamiento/ahogandose','tormenta_polvo','terremoto','electrocutar','electrocutado','emergencia','plan_de_emergencia','servicio_de_emergencia','engullido','epicentro','evacuar','evacuado','evacuacion','explotar','exploto/detonado/estallado','explosion','testigo_ocular','hambruna','fatal','fatalidades','fatalidades','miedo','fuego','camion_bombero','primeros_en_responder','llamas','aplastado','inundacion','inundaciones','inundaciones','incendio_forestal','incendio_forestales','granizo','tormenta_granizo','da¤o','peligro','peligroso','ola_de_calor','infierno','secuestro','secuestrador','secuestro','rehen','rehenes','huracan','herido/lesionado','heridas/lesiones','herida/lesion','inundado','inundacion','deslisamiento_tierra','lava','rayo','golpe_fuerte/estampido_fuerte','asesinato_en_serie','asesino_en_serie','masacre','caos','fusion','militar','alud_de_lodo','desastre_natural','desastre_nuclear','reactor_nuclear','obliterar/destruir/eliminar','borrado/destruido/eliminado','obliteracion/destruccion/eliminacion','derrame_de_petroleo','brote','pandemonio/confusion/caos','panico','tener_panico','polic¡a','cuarentena','en_cuarentena','emergencia_radiacion','tormenta','arrasado','refugiados','rescate','rescatado','rescatadores','disturbio','disturbios','escombros','ruina','tormenta_de_arena','grito','gritando','gritos','sismico','sumidero/pozo','hundiendose','sirena','sirenas','humo','tormenta_de_nieve','tormenta','camilla','fallo_estructural','bomba_suicida','suicida','bombardeo_suicida','hundido','sobrevivir','sobrevivio','sobreviviente','terrorismo','terrorista','amenaza','trueno','tormenta_electrica','tornado','tragedia','atrapado','trauma','traumatizado','problema','tsunami','tornado/torbellino','tifon','transtorno','tormenta_violenta','volcan','zona_de_guerra','arma','armas','torbellino','incendios_forestales','incendio_forestal','tormenta_de_viento','moretoneado','moretones','naufragio','restos','naufrago']\n",
        "print(keyword_list_esp)"
      ],
      "execution_count": 42,
      "outputs": [
        {
          "output_type": "stream",
          "text": [
            "['sin_keyword', 'en llamas', 'accidente', 'replica', 'accidente_avion', 'ambulancia', 'aniquilado', 'aniquilacion', 'apocalipse', 'armageddon', 'ejercito', 'incendio_intencional', 'piromano', 'ataque', 'atacado', 'avalancha', 'combate/batalla/lucha', 'bioterror', 'bioterrorismo', 'resplandecer/arder', 'resplandeciente/ardiente', 'hemorragia', 'exploto', 'plaga', 'ventisca', 'sangre', 'sangriento', 'estallido', 'bolsa_de_cadaver', 'embolsado_de_cadaver', 'bolsas_de_cadaver', 'bomba', 'bombardeado', 'bombardeo', 'colapso_de_puente', 'incendio_de_edificios', 'edificios_en_llamas', 'quemado', 'quemando/incendiando', 'incendio_edificios', 'incendio_de_matorrales/arbustos', 'bajas/muertes/perdidas', 'baja/muerte/perdida', 'catastrofe', 'catastrofico', 'emergencia_quimica', 'caida_acantilado', 'colapso', 'colapsado', 'colisionar', 'colisiono', 'colision', 'choque', 'estrellado', 'aplastamiento', 'aplastado', 'toque_de_queda', 'ciclon', 'da¤o', 'peligro', 'muerto', 'muerte', 'muertes', 'escombros', 'diluvio', 'inundado', 'demoler', 'demolido', 'demolicion', 'descarrilar', 'descarrilado', 'descarrilamiento', 'desolado', 'desolacion', 'destruir', 'destruido', 'destruccion', 'detonado', 'detonacion', 'devastado', 'devastacion', 'desastre', 'dislacado/desplazado', 'sequia', 'ahogar', 'ahogado', 'ahogamiento/ahogandose', 'tormenta_polvo', 'terremoto', 'electrocutar', 'electrocutado', 'emergencia', 'plan_de_emergencia', 'servicio_de_emergencia', 'engullido', 'epicentro', 'evacuar', 'evacuado', 'evacuacion', 'explotar', 'exploto/detonado/estallado', 'explosion', 'testigo_ocular', 'hambruna', 'fatal', 'fatalidades', 'fatalidades', 'miedo', 'fuego', 'camion_bombero', 'primeros_en_responder', 'llamas', 'aplastado', 'inundacion', 'inundaciones', 'inundaciones', 'incendio_forestal', 'incendio_forestales', 'granizo', 'tormenta_granizo', 'da¤o', 'peligro', 'peligroso', 'ola_de_calor', 'infierno', 'secuestro', 'secuestrador', 'secuestro', 'rehen', 'rehenes', 'huracan', 'herido/lesionado', 'heridas/lesiones', 'herida/lesion', 'inundado', 'inundacion', 'deslisamiento_tierra', 'lava', 'rayo', 'golpe_fuerte/estampido_fuerte', 'asesinato_en_serie', 'asesino_en_serie', 'masacre', 'caos', 'fusion', 'militar', 'alud_de_lodo', 'desastre_natural', 'desastre_nuclear', 'reactor_nuclear', 'obliterar/destruir/eliminar', 'borrado/destruido/eliminado', 'obliteracion/destruccion/eliminacion', 'derrame_de_petroleo', 'brote', 'pandemonio/confusion/caos', 'panico', 'tener_panico', 'polic¡a', 'cuarentena', 'en_cuarentena', 'emergencia_radiacion', 'tormenta', 'arrasado', 'refugiados', 'rescate', 'rescatado', 'rescatadores', 'disturbio', 'disturbios', 'escombros', 'ruina', 'tormenta_de_arena', 'grito', 'gritando', 'gritos', 'sismico', 'sumidero/pozo', 'hundiendose', 'sirena', 'sirenas', 'humo', 'tormenta_de_nieve', 'tormenta', 'camilla', 'fallo_estructural', 'bomba_suicida', 'suicida', 'bombardeo_suicida', 'hundido', 'sobrevivir', 'sobrevivio', 'sobreviviente', 'terrorismo', 'terrorista', 'amenaza', 'trueno', 'tormenta_electrica', 'tornado', 'tragedia', 'atrapado', 'trauma', 'traumatizado', 'problema', 'tsunami', 'tornado/torbellino', 'tifon', 'transtorno', 'tormenta_violenta', 'volcan', 'zona_de_guerra', 'arma', 'armas', 'torbellino', 'incendios_forestales', 'incendio_forestal', 'tormenta_de_viento', 'moretoneado', 'moretones', 'naufragio', 'restos', 'naufrago']\n"
          ],
          "name": "stdout"
        }
      ]
    },
    {
      "cell_type": "code",
      "metadata": {
        "id": "x3vN0Gp36lFR",
        "colab_type": "code",
        "colab": {
          "base_uri": "https://localhost:8080/",
          "height": 54
        },
        "outputId": "db79ee75-af6d-4b95-a7e1-20c64429d4ec"
      },
      "source": [
        "# Genero el diccionario eng-esp de la serie 'Keyword'\n",
        "keyword_dicc={}\n",
        "y=0\n",
        "for x in keyword_list:\n",
        "  keyword_dicc[x]=keyword_list_esp[y]\n",
        "  y=y+1\n",
        "  #print(keyword_dicc)\n",
        "\n",
        "print(keyword_dicc)"
      ],
      "execution_count": 43,
      "outputs": [
        {
          "output_type": "stream",
          "text": [
            "{'sin keyword': 'sin_keyword', 'ablaze': 'en llamas', 'accident': 'accidente', 'aftershock': 'replica', 'airplane_accident': 'accidente_avion', 'ambulance': 'ambulancia', 'annihilated': 'aniquilado', 'annihilation': 'aniquilacion', 'apocalypse': 'apocalipse', 'armageddon': 'armageddon', 'army': 'ejercito', 'arson': 'incendio_intencional', 'arsonist': 'piromano', 'attack': 'ataque', 'attacked': 'atacado', 'avalanche': 'avalancha', 'battle': 'combate/batalla/lucha', 'bioterror': 'bioterror', 'bioterrorism': 'bioterrorismo', 'blaze': 'resplandecer/arder', 'blazing': 'resplandeciente/ardiente', 'bleeding': 'hemorragia', 'blew_up': 'exploto', 'blight': 'plaga', 'blizzard': 'ventisca', 'blood': 'sangre', 'bloody': 'sangriento', 'blown_up': 'estallido', 'body_bag': 'bolsa_de_cadaver', 'body_bagging': 'embolsado_de_cadaver', 'body_bags': 'bolsas_de_cadaver', 'bomb': 'bomba', 'bombed': 'bombardeado', 'bombing': 'bombardeo', 'bridge_collapse': 'colapso_de_puente', 'buildings_burning': 'incendio_de_edificios', 'buildings_on_fire': 'edificios_en_llamas', 'burned': 'quemado', 'burning': 'quemando/incendiando', 'burning_buildings': 'incendio_edificios', 'bush_fires': 'incendio_de_matorrales/arbustos', 'casualties': 'bajas/muertes/perdidas', 'casualty': 'baja/muerte/perdida', 'catastrophe': 'catastrofe', 'catastrophic': 'catastrofico', 'chemical_emergency': 'emergencia_quimica', 'cliff_fall': 'caida_acantilado', 'collapse': 'colapso', 'collapsed': 'colapsado', 'collide': 'colisionar', 'collided': 'colisiono', 'collision': 'colision', 'crash': 'choque', 'crashed': 'estrellado', 'crush': 'aplastamiento', 'crushed': 'aplastado', 'curfew': 'toque_de_queda', 'cyclone': 'ciclon', 'damage': 'da¤o', 'danger': 'peligro', 'dead': 'muerto', 'death': 'muerte', 'deaths': 'muertes', 'debris': 'escombros', 'deluge': 'diluvio', 'deluged': 'inundado', 'demolish': 'demoler', 'demolished': 'demolido', 'demolition': 'demolicion', 'derail': 'descarrilar', 'derailed': 'descarrilado', 'derailment': 'descarrilamiento', 'desolate': 'desolado', 'desolation': 'desolacion', 'destroy': 'destruir', 'destroyed': 'destruido', 'destruction': 'destruccion', 'detonate': 'detonado', 'detonation': 'detonacion', 'devastated': 'devastado', 'devastation': 'devastacion', 'disaster': 'desastre', 'displaced': 'dislacado/desplazado', 'drought': 'sequia', 'drown': 'ahogar', 'drowned': 'ahogado', 'drowning': 'ahogamiento/ahogandose', 'dust_storm': 'tormenta_polvo', 'earthquake': 'terremoto', 'electrocute': 'electrocutar', 'electrocuted': 'electrocutado', 'emergency': 'emergencia', 'emergency_plan': 'plan_de_emergencia', 'emergency_services': 'servicio_de_emergencia', 'engulfed': 'engullido', 'epicentre': 'epicentro', 'evacuate': 'evacuar', 'evacuated': 'evacuado', 'evacuation': 'evacuacion', 'explode': 'explotar', 'exploded': 'exploto/detonado/estallado', 'explosion': 'explosion', 'eyewitness': 'testigo_ocular', 'famine': 'hambruna', 'fatal': 'fatal', 'fatalities': 'fatalidades', 'fatality': 'fatalidades', 'fear': 'miedo', 'fire': 'fuego', 'fire_truck': 'camion_bombero', 'first_responders': 'primeros_en_responder', 'flames': 'llamas', 'flattened': 'aplastado', 'flood': 'inundacion', 'flooding': 'inundaciones', 'floods': 'inundaciones', 'forest_fire': 'incendio_forestal', 'forest_fires': 'incendio_forestales', 'hail': 'granizo', 'hailstorm': 'tormenta_granizo', 'harm': 'da¤o', 'hazard': 'peligro', 'hazardous': 'peligroso', 'heat_wave': 'ola_de_calor', 'hellfire': 'infierno', 'hijack': 'secuestro', 'hijacker': 'secuestrador', 'hijacking': 'secuestro', 'hostage': 'rehen', 'hostages': 'rehenes', 'hurricane': 'huracan', 'injured': 'herido/lesionado', 'injuries': 'heridas/lesiones', 'injury': 'herida/lesion', 'inundated': 'inundado', 'inundation': 'inundacion', 'landslide': 'deslisamiento_tierra', 'lava': 'lava', 'lightning': 'rayo', 'loud_bang': 'golpe_fuerte/estampido_fuerte', 'mass_murder': 'asesinato_en_serie', 'mass_murderer': 'asesino_en_serie', 'massacre': 'masacre', 'mayhem': 'caos', 'meltdown': 'fusion', 'military': 'militar', 'mudslide': 'alud_de_lodo', 'natural_disaster': 'desastre_natural', 'nuclear_disaster': 'desastre_nuclear', 'nuclear_reactor': 'reactor_nuclear', 'obliterate': 'obliterar/destruir/eliminar', 'obliterated': 'borrado/destruido/eliminado', 'obliteration': 'obliteracion/destruccion/eliminacion', 'oil_spill': 'derrame_de_petroleo', 'outbreak': 'brote', 'pandemonium': 'pandemonio/confusion/caos', 'panic': 'panico', 'panicking': 'tener_panico', 'police': 'polic¡a', 'quarantine': 'cuarentena', 'quarantined': 'en_cuarentena', 'radiation_emergency': 'emergencia_radiacion', 'rainstorm': 'tormenta', 'razed': 'arrasado', 'refugees': 'refugiados', 'rescue': 'rescate', 'rescued': 'rescatado', 'rescuers': 'rescatadores', 'riot': 'disturbio', 'rioting': 'disturbios', 'rubble': 'escombros', 'ruin': 'ruina', 'sandstorm': 'tormenta_de_arena', 'screamed': 'grito', 'screaming': 'gritando', 'screams': 'gritos', 'seismic': 'sismico', 'sinkhole': 'sumidero/pozo', 'sinking': 'hundiendose', 'siren': 'sirena', 'sirens': 'sirenas', 'smoke': 'humo', 'snowstorm': 'tormenta_de_nieve', 'storm': 'tormenta', 'stretcher': 'camilla', 'structural_failure': 'fallo_estructural', 'suicide_bomb': 'bomba_suicida', 'suicide_bomber': 'suicida', 'suicide_bombing': 'bombardeo_suicida', 'sunk': 'hundido', 'survive': 'sobrevivir', 'survived': 'sobrevivio', 'survivors': 'sobreviviente', 'terrorism': 'terrorismo', 'terrorist': 'terrorista', 'threat': 'amenaza', 'thunder': 'trueno', 'thunderstorm': 'tormenta_electrica', 'tornado': 'tornado', 'tragedy': 'tragedia', 'trapped': 'atrapado', 'trauma': 'trauma', 'traumatised': 'traumatizado', 'trouble': 'problema', 'tsunami': 'tsunami', 'twister': 'tornado/torbellino', 'typhoon': 'tifon', 'upheaval': 'transtorno', 'violent_storm': 'tormenta_violenta', 'volcano': 'volcan', 'war_zone': 'zona_de_guerra', 'weapon': 'arma', 'weapons': 'armas', 'whirlwind': 'torbellino', 'wild_fires': 'incendios_forestales', 'wildfire': 'incendio_forestal', 'windstorm': 'tormenta_de_viento', 'wounded': 'moretoneado', 'wounds': 'moretones', 'wreck': 'naufragio', 'wreckage': 'restos', 'wrecked': 'naufrago'}\n"
          ],
          "name": "stdout"
        }
      ]
    },
    {
      "cell_type": "code",
      "metadata": {
        "id": "TK-PeGjhwSYm",
        "colab_type": "code",
        "colab": {}
      },
      "source": [
        "print(list)"
      ],
      "execution_count": 0,
      "outputs": []
    },
    {
      "cell_type": "code",
      "metadata": {
        "id": "PBvDUgvBvIxr",
        "colab_type": "code",
        "colab": {
          "base_uri": "https://localhost:8080/",
          "height": 776
        },
        "outputId": "4fd71224-4d76-4434-9b9b-aff431784d88"
      },
      "source": [
        "df_train['keyword_esp']=df_train['keyword'].map(keyword_dicc)\n",
        "df_train.head(80)\n",
        "#df_train['keyword_esp'].head(100)\n",
        "#list(df_train['keyword_esp'])"
      ],
      "execution_count": 56,
      "outputs": [
        {
          "output_type": "execute_result",
          "data": {
            "text/html": [
              "<div>\n",
              "<style scoped>\n",
              "    .dataframe tbody tr th:only-of-type {\n",
              "        vertical-align: middle;\n",
              "    }\n",
              "\n",
              "    .dataframe tbody tr th {\n",
              "        vertical-align: top;\n",
              "    }\n",
              "\n",
              "    .dataframe thead th {\n",
              "        text-align: right;\n",
              "    }\n",
              "</style>\n",
              "<table border=\"1\" class=\"dataframe\">\n",
              "  <thead>\n",
              "    <tr style=\"text-align: right;\">\n",
              "      <th></th>\n",
              "      <th>keyword</th>\n",
              "      <th>location</th>\n",
              "      <th>text</th>\n",
              "      <th>target</th>\n",
              "      <th>caracteres_tweet</th>\n",
              "      <th>text_vector</th>\n",
              "      <th>text_vector_filtrado</th>\n",
              "      <th>elem_vector</th>\n",
              "      <th>elem_vector_filtrado</th>\n",
              "      <th>keyword_esp</th>\n",
              "    </tr>\n",
              "  </thead>\n",
              "  <tbody>\n",
              "    <tr>\n",
              "      <th>0</th>\n",
              "      <td>sin keyword</td>\n",
              "      <td>sin location</td>\n",
              "      <td>Our Deeds are the Reason of this #earthquake M...</td>\n",
              "      <td>1</td>\n",
              "      <td>69</td>\n",
              "      <td>[our, deeds, are, the, reason, of, this, earth...</td>\n",
              "      <td>[deeds, reason, earthquake, may, allah, forgiv...</td>\n",
              "      <td>13</td>\n",
              "      <td>7</td>\n",
              "      <td>sin_keyword</td>\n",
              "    </tr>\n",
              "    <tr>\n",
              "      <th>1</th>\n",
              "      <td>sin keyword</td>\n",
              "      <td>sin location</td>\n",
              "      <td>Forest fire near La Ronge Sask. Canada</td>\n",
              "      <td>1</td>\n",
              "      <td>38</td>\n",
              "      <td>[forest, fire, near, la, ronge, sask, canada]</td>\n",
              "      <td>[forest, fire, near, la, ronge, sask, canada]</td>\n",
              "      <td>7</td>\n",
              "      <td>7</td>\n",
              "      <td>sin_keyword</td>\n",
              "    </tr>\n",
              "    <tr>\n",
              "      <th>2</th>\n",
              "      <td>sin keyword</td>\n",
              "      <td>sin location</td>\n",
              "      <td>All residents asked to 'shelter in place' are ...</td>\n",
              "      <td>1</td>\n",
              "      <td>133</td>\n",
              "      <td>[all, residents, asked, to, shelter, in, place...</td>\n",
              "      <td>[residents, asked, shelter, place, notified, o...</td>\n",
              "      <td>22</td>\n",
              "      <td>11</td>\n",
              "      <td>sin_keyword</td>\n",
              "    </tr>\n",
              "    <tr>\n",
              "      <th>3</th>\n",
              "      <td>sin keyword</td>\n",
              "      <td>sin location</td>\n",
              "      <td>13,000 people receive #wildfires evacuation or...</td>\n",
              "      <td>1</td>\n",
              "      <td>65</td>\n",
              "      <td>[13000, people, receive, wildfires, evacuation...</td>\n",
              "      <td>[13000, people, receive, wildfires, evacuation...</td>\n",
              "      <td>8</td>\n",
              "      <td>7</td>\n",
              "      <td>sin_keyword</td>\n",
              "    </tr>\n",
              "    <tr>\n",
              "      <th>4</th>\n",
              "      <td>sin keyword</td>\n",
              "      <td>sin location</td>\n",
              "      <td>Just got sent this photo from Ruby #Alaska as ...</td>\n",
              "      <td>1</td>\n",
              "      <td>88</td>\n",
              "      <td>[just, got, sent, this, photo, from, ruby, ala...</td>\n",
              "      <td>[got, sent, photo, ruby, alaska, smoke, wildfi...</td>\n",
              "      <td>16</td>\n",
              "      <td>9</td>\n",
              "      <td>sin_keyword</td>\n",
              "    </tr>\n",
              "    <tr>\n",
              "      <th>...</th>\n",
              "      <td>...</td>\n",
              "      <td>...</td>\n",
              "      <td>...</td>\n",
              "      <td>...</td>\n",
              "      <td>...</td>\n",
              "      <td>...</td>\n",
              "      <td>...</td>\n",
              "      <td>...</td>\n",
              "      <td>...</td>\n",
              "      <td>...</td>\n",
              "    </tr>\n",
              "    <tr>\n",
              "      <th>76</th>\n",
              "      <td>accident</td>\n",
              "      <td>Norf Carolina</td>\n",
              "      <td>'By accident' they knew what was gon happen ht...</td>\n",
              "      <td>0</td>\n",
              "      <td>67</td>\n",
              "      <td>[by, accident, they, knew, what, was, gon, hap...</td>\n",
              "      <td>[accident, knew, gon, happen, httpstcoysxun5vceh]</td>\n",
              "      <td>9</td>\n",
              "      <td>5</td>\n",
              "      <td>accidente</td>\n",
              "    </tr>\n",
              "    <tr>\n",
              "      <th>77</th>\n",
              "      <td>accident</td>\n",
              "      <td>San Mateo County, CA</td>\n",
              "      <td>Traffic accident N CABRILLO HWY/MAGELLAN AV MI...</td>\n",
              "      <td>1</td>\n",
              "      <td>67</td>\n",
              "      <td>[traffic, accident, n, cabrillo, hwymagellan, ...</td>\n",
              "      <td>[traffic, accident, n, cabrillo, hwymagellan, ...</td>\n",
              "      <td>9</td>\n",
              "      <td>9</td>\n",
              "      <td>accidente</td>\n",
              "    </tr>\n",
              "    <tr>\n",
              "      <th>78</th>\n",
              "      <td>accident</td>\n",
              "      <td>North Carolina</td>\n",
              "      <td>I-77 Mile Marker 31 to 40 South Mooresville  I...</td>\n",
              "      <td>1</td>\n",
              "      <td>95</td>\n",
              "      <td>[i77, mile, marker, 31, to, 40, south, mooresv...</td>\n",
              "      <td>[i77, mile, marker, 31, 40, south, mooresville...</td>\n",
              "      <td>16</td>\n",
              "      <td>14</td>\n",
              "      <td>accidente</td>\n",
              "    </tr>\n",
              "    <tr>\n",
              "      <th>79</th>\n",
              "      <td>accident</td>\n",
              "      <td>Njoro, Kenya</td>\n",
              "      <td>the pastor was not in the scene of the acciden...</td>\n",
              "      <td>1</td>\n",
              "      <td>91</td>\n",
              "      <td>[the, pastor, was, not, in, the, scene, of, th...</td>\n",
              "      <td>[pastor, scene, accidentwho, owner, range, rover]</td>\n",
              "      <td>17</td>\n",
              "      <td>6</td>\n",
              "      <td>accidente</td>\n",
              "    </tr>\n",
              "    <tr>\n",
              "      <th>80</th>\n",
              "      <td>accident</td>\n",
              "      <td>sin location</td>\n",
              "      <td>mom: 'we didn't get home as fast as we wished'...</td>\n",
              "      <td>0</td>\n",
              "      <td>142</td>\n",
              "      <td>[mom, we, didnt, get, home, as, fast, as, we, ...</td>\n",
              "      <td>[mom, didnt, get, home, fast, wished, mom, acc...</td>\n",
              "      <td>26</td>\n",
              "      <td>11</td>\n",
              "      <td>accidente</td>\n",
              "    </tr>\n",
              "  </tbody>\n",
              "</table>\n",
              "<p>80 rows × 10 columns</p>\n",
              "</div>"
            ],
            "text/plain": [
              "        keyword              location  ... elem_vector_filtrado  keyword_esp\n",
              "0   sin keyword          sin location  ...                    7  sin_keyword\n",
              "1   sin keyword          sin location  ...                    7  sin_keyword\n",
              "2   sin keyword          sin location  ...                   11  sin_keyword\n",
              "3   sin keyword          sin location  ...                    7  sin_keyword\n",
              "4   sin keyword          sin location  ...                    9  sin_keyword\n",
              "..          ...                   ...  ...                  ...          ...\n",
              "76     accident         Norf Carolina  ...                    5    accidente\n",
              "77     accident  San Mateo County, CA  ...                    9    accidente\n",
              "78     accident        North Carolina  ...                   14    accidente\n",
              "79     accident          Njoro, Kenya  ...                    6    accidente\n",
              "80     accident          sin location  ...                   11    accidente\n",
              "\n",
              "[80 rows x 10 columns]"
            ]
          },
          "metadata": {
            "tags": []
          },
          "execution_count": 56
        }
      ]
    },
    {
      "cell_type": "code",
      "metadata": {
        "id": "hH21NIy06zIM",
        "colab_type": "code",
        "colab": {
          "base_uri": "https://localhost:8080/",
          "height": 1000
        },
        "outputId": "e92d17b8-1b4e-459a-d924-d1027f39d484"
      },
      "source": [
        "keyword_dicc"
      ],
      "execution_count": 44,
      "outputs": [
        {
          "output_type": "execute_result",
          "data": {
            "text/plain": [
              "{'ablaze': 'en llamas',\n",
              " 'accident': 'accidente',\n",
              " 'aftershock': 'replica',\n",
              " 'airplane_accident': 'accidente_avion',\n",
              " 'ambulance': 'ambulancia',\n",
              " 'annihilated': 'aniquilado',\n",
              " 'annihilation': 'aniquilacion',\n",
              " 'apocalypse': 'apocalipse',\n",
              " 'armageddon': 'armageddon',\n",
              " 'army': 'ejercito',\n",
              " 'arson': 'incendio_intencional',\n",
              " 'arsonist': 'piromano',\n",
              " 'attack': 'ataque',\n",
              " 'attacked': 'atacado',\n",
              " 'avalanche': 'avalancha',\n",
              " 'battle': 'combate/batalla/lucha',\n",
              " 'bioterror': 'bioterror',\n",
              " 'bioterrorism': 'bioterrorismo',\n",
              " 'blaze': 'resplandecer/arder',\n",
              " 'blazing': 'resplandeciente/ardiente',\n",
              " 'bleeding': 'hemorragia',\n",
              " 'blew_up': 'exploto',\n",
              " 'blight': 'plaga',\n",
              " 'blizzard': 'ventisca',\n",
              " 'blood': 'sangre',\n",
              " 'bloody': 'sangriento',\n",
              " 'blown_up': 'estallido',\n",
              " 'body_bag': 'bolsa_de_cadaver',\n",
              " 'body_bagging': 'embolsado_de_cadaver',\n",
              " 'body_bags': 'bolsas_de_cadaver',\n",
              " 'bomb': 'bomba',\n",
              " 'bombed': 'bombardeado',\n",
              " 'bombing': 'bombardeo',\n",
              " 'bridge_collapse': 'colapso_de_puente',\n",
              " 'buildings_burning': 'incendio_de_edificios',\n",
              " 'buildings_on_fire': 'edificios_en_llamas',\n",
              " 'burned': 'quemado',\n",
              " 'burning': 'quemando/incendiando',\n",
              " 'burning_buildings': 'incendio_edificios',\n",
              " 'bush_fires': 'incendio_de_matorrales/arbustos',\n",
              " 'casualties': 'bajas/muertes/perdidas',\n",
              " 'casualty': 'baja/muerte/perdida',\n",
              " 'catastrophe': 'catastrofe',\n",
              " 'catastrophic': 'catastrofico',\n",
              " 'chemical_emergency': 'emergencia_quimica',\n",
              " 'cliff_fall': 'caida_acantilado',\n",
              " 'collapse': 'colapso',\n",
              " 'collapsed': 'colapsado',\n",
              " 'collide': 'colisionar',\n",
              " 'collided': 'colisiono',\n",
              " 'collision': 'colision',\n",
              " 'crash': 'choque',\n",
              " 'crashed': 'estrellado',\n",
              " 'crush': 'aplastamiento',\n",
              " 'crushed': 'aplastado',\n",
              " 'curfew': 'toque_de_queda',\n",
              " 'cyclone': 'ciclon',\n",
              " 'damage': 'da¤o',\n",
              " 'danger': 'peligro',\n",
              " 'dead': 'muerto',\n",
              " 'death': 'muerte',\n",
              " 'deaths': 'muertes',\n",
              " 'debris': 'escombros',\n",
              " 'deluge': 'diluvio',\n",
              " 'deluged': 'inundado',\n",
              " 'demolish': 'demoler',\n",
              " 'demolished': 'demolido',\n",
              " 'demolition': 'demolicion',\n",
              " 'derail': 'descarrilar',\n",
              " 'derailed': 'descarrilado',\n",
              " 'derailment': 'descarrilamiento',\n",
              " 'desolate': 'desolado',\n",
              " 'desolation': 'desolacion',\n",
              " 'destroy': 'destruir',\n",
              " 'destroyed': 'destruido',\n",
              " 'destruction': 'destruccion',\n",
              " 'detonate': 'detonado',\n",
              " 'detonation': 'detonacion',\n",
              " 'devastated': 'devastado',\n",
              " 'devastation': 'devastacion',\n",
              " 'disaster': 'desastre',\n",
              " 'displaced': 'dislacado/desplazado',\n",
              " 'drought': 'sequia',\n",
              " 'drown': 'ahogar',\n",
              " 'drowned': 'ahogado',\n",
              " 'drowning': 'ahogamiento/ahogandose',\n",
              " 'dust_storm': 'tormenta_polvo',\n",
              " 'earthquake': 'terremoto',\n",
              " 'electrocute': 'electrocutar',\n",
              " 'electrocuted': 'electrocutado',\n",
              " 'emergency': 'emergencia',\n",
              " 'emergency_plan': 'plan_de_emergencia',\n",
              " 'emergency_services': 'servicio_de_emergencia',\n",
              " 'engulfed': 'engullido',\n",
              " 'epicentre': 'epicentro',\n",
              " 'evacuate': 'evacuar',\n",
              " 'evacuated': 'evacuado',\n",
              " 'evacuation': 'evacuacion',\n",
              " 'explode': 'explotar',\n",
              " 'exploded': 'exploto/detonado/estallado',\n",
              " 'explosion': 'explosion',\n",
              " 'eyewitness': 'testigo_ocular',\n",
              " 'famine': 'hambruna',\n",
              " 'fatal': 'fatal',\n",
              " 'fatalities': 'fatalidades',\n",
              " 'fatality': 'fatalidades',\n",
              " 'fear': 'miedo',\n",
              " 'fire': 'fuego',\n",
              " 'fire_truck': 'camion_bombero',\n",
              " 'first_responders': 'primeros_en_responder',\n",
              " 'flames': 'llamas',\n",
              " 'flattened': 'aplastado',\n",
              " 'flood': 'inundacion',\n",
              " 'flooding': 'inundaciones',\n",
              " 'floods': 'inundaciones',\n",
              " 'forest_fire': 'incendio_forestal',\n",
              " 'forest_fires': 'incendio_forestales',\n",
              " 'hail': 'granizo',\n",
              " 'hailstorm': 'tormenta_granizo',\n",
              " 'harm': 'da¤o',\n",
              " 'hazard': 'peligro',\n",
              " 'hazardous': 'peligroso',\n",
              " 'heat_wave': 'ola_de_calor',\n",
              " 'hellfire': 'infierno',\n",
              " 'hijack': 'secuestro',\n",
              " 'hijacker': 'secuestrador',\n",
              " 'hijacking': 'secuestro',\n",
              " 'hostage': 'rehen',\n",
              " 'hostages': 'rehenes',\n",
              " 'hurricane': 'huracan',\n",
              " 'injured': 'herido/lesionado',\n",
              " 'injuries': 'heridas/lesiones',\n",
              " 'injury': 'herida/lesion',\n",
              " 'inundated': 'inundado',\n",
              " 'inundation': 'inundacion',\n",
              " 'landslide': 'deslisamiento_tierra',\n",
              " 'lava': 'lava',\n",
              " 'lightning': 'rayo',\n",
              " 'loud_bang': 'golpe_fuerte/estampido_fuerte',\n",
              " 'mass_murder': 'asesinato_en_serie',\n",
              " 'mass_murderer': 'asesino_en_serie',\n",
              " 'massacre': 'masacre',\n",
              " 'mayhem': 'caos',\n",
              " 'meltdown': 'fusion',\n",
              " 'military': 'militar',\n",
              " 'mudslide': 'alud_de_lodo',\n",
              " 'natural_disaster': 'desastre_natural',\n",
              " 'nuclear_disaster': 'desastre_nuclear',\n",
              " 'nuclear_reactor': 'reactor_nuclear',\n",
              " 'obliterate': 'obliterar/destruir/eliminar',\n",
              " 'obliterated': 'borrado/destruido/eliminado',\n",
              " 'obliteration': 'obliteracion/destruccion/eliminacion',\n",
              " 'oil_spill': 'derrame_de_petroleo',\n",
              " 'outbreak': 'brote',\n",
              " 'pandemonium': 'pandemonio/confusion/caos',\n",
              " 'panic': 'panico',\n",
              " 'panicking': 'tener_panico',\n",
              " 'police': 'polic¡a',\n",
              " 'quarantine': 'cuarentena',\n",
              " 'quarantined': 'en_cuarentena',\n",
              " 'radiation_emergency': 'emergencia_radiacion',\n",
              " 'rainstorm': 'tormenta',\n",
              " 'razed': 'arrasado',\n",
              " 'refugees': 'refugiados',\n",
              " 'rescue': 'rescate',\n",
              " 'rescued': 'rescatado',\n",
              " 'rescuers': 'rescatadores',\n",
              " 'riot': 'disturbio',\n",
              " 'rioting': 'disturbios',\n",
              " 'rubble': 'escombros',\n",
              " 'ruin': 'ruina',\n",
              " 'sandstorm': 'tormenta_de_arena',\n",
              " 'screamed': 'grito',\n",
              " 'screaming': 'gritando',\n",
              " 'screams': 'gritos',\n",
              " 'seismic': 'sismico',\n",
              " 'sin keyword': 'sin_keyword',\n",
              " 'sinkhole': 'sumidero/pozo',\n",
              " 'sinking': 'hundiendose',\n",
              " 'siren': 'sirena',\n",
              " 'sirens': 'sirenas',\n",
              " 'smoke': 'humo',\n",
              " 'snowstorm': 'tormenta_de_nieve',\n",
              " 'storm': 'tormenta',\n",
              " 'stretcher': 'camilla',\n",
              " 'structural_failure': 'fallo_estructural',\n",
              " 'suicide_bomb': 'bomba_suicida',\n",
              " 'suicide_bomber': 'suicida',\n",
              " 'suicide_bombing': 'bombardeo_suicida',\n",
              " 'sunk': 'hundido',\n",
              " 'survive': 'sobrevivir',\n",
              " 'survived': 'sobrevivio',\n",
              " 'survivors': 'sobreviviente',\n",
              " 'terrorism': 'terrorismo',\n",
              " 'terrorist': 'terrorista',\n",
              " 'threat': 'amenaza',\n",
              " 'thunder': 'trueno',\n",
              " 'thunderstorm': 'tormenta_electrica',\n",
              " 'tornado': 'tornado',\n",
              " 'tragedy': 'tragedia',\n",
              " 'trapped': 'atrapado',\n",
              " 'trauma': 'trauma',\n",
              " 'traumatised': 'traumatizado',\n",
              " 'trouble': 'problema',\n",
              " 'tsunami': 'tsunami',\n",
              " 'twister': 'tornado/torbellino',\n",
              " 'typhoon': 'tifon',\n",
              " 'upheaval': 'transtorno',\n",
              " 'violent_storm': 'tormenta_violenta',\n",
              " 'volcano': 'volcan',\n",
              " 'war_zone': 'zona_de_guerra',\n",
              " 'weapon': 'arma',\n",
              " 'weapons': 'armas',\n",
              " 'whirlwind': 'torbellino',\n",
              " 'wild_fires': 'incendios_forestales',\n",
              " 'wildfire': 'incendio_forestal',\n",
              " 'windstorm': 'tormenta_de_viento',\n",
              " 'wounded': 'moretoneado',\n",
              " 'wounds': 'moretones',\n",
              " 'wreck': 'naufragio',\n",
              " 'wreckage': 'restos',\n",
              " 'wrecked': 'naufrago'}"
            ]
          },
          "metadata": {
            "tags": []
          },
          "execution_count": 44
        }
      ]
    },
    {
      "cell_type": "code",
      "metadata": {
        "id": "rdd5Rsi56zD1",
        "colab_type": "code",
        "colab": {}
      },
      "source": [
        ""
      ],
      "execution_count": 0,
      "outputs": []
    },
    {
      "cell_type": "code",
      "metadata": {
        "id": "xFw0cxem6y-p",
        "colab_type": "code",
        "colab": {}
      },
      "source": [
        ""
      ],
      "execution_count": 0,
      "outputs": []
    },
    {
      "cell_type": "code",
      "metadata": {
        "id": "1T_M6x3o6y7u",
        "colab_type": "code",
        "colab": {}
      },
      "source": [
        ""
      ],
      "execution_count": 0,
      "outputs": []
    },
    {
      "cell_type": "code",
      "metadata": {
        "id": "6ZhnZfuY6y5Q",
        "colab_type": "code",
        "colab": {}
      },
      "source": [
        ""
      ],
      "execution_count": 0,
      "outputs": []
    },
    {
      "cell_type": "code",
      "metadata": {
        "id": "OFIpbsxH6ywT",
        "colab_type": "code",
        "colab": {}
      },
      "source": [
        ""
      ],
      "execution_count": 0,
      "outputs": []
    },
    {
      "cell_type": "code",
      "metadata": {
        "id": "2eaQ2Kp_sA3B",
        "colab_type": "code",
        "colab": {}
      },
      "source": [
        ""
      ],
      "execution_count": 0,
      "outputs": []
    },
    {
      "cell_type": "code",
      "metadata": {
        "id": "qLNtpFnPsAmq",
        "colab_type": "code",
        "colab": {}
      },
      "source": [
        ""
      ],
      "execution_count": 0,
      "outputs": []
    },
    {
      "cell_type": "code",
      "metadata": {
        "id": "6Kvi7Lg7sAaF",
        "colab_type": "code",
        "colab": {}
      },
      "source": [
        ""
      ],
      "execution_count": 0,
      "outputs": []
    },
    {
      "cell_type": "code",
      "metadata": {
        "id": "Ihoj3DlNsAAc",
        "colab_type": "code",
        "colab": {}
      },
      "source": [
        ""
      ],
      "execution_count": 0,
      "outputs": []
    },
    {
      "cell_type": "code",
      "metadata": {
        "id": "sgSpwdkrr_1p",
        "colab_type": "code",
        "colab": {}
      },
      "source": [
        ""
      ],
      "execution_count": 0,
      "outputs": []
    },
    {
      "cell_type": "code",
      "metadata": {
        "id": "ED-tYWJJfrzX",
        "colab_type": "code",
        "colab": {}
      },
      "source": [
        "# 2.Categorizo 'keyword'"
      ],
      "execution_count": 0,
      "outputs": []
    },
    {
      "cell_type": "code",
      "metadata": {
        "id": "C9H4Y1zMO0GO",
        "colab_type": "code",
        "outputId": "cc1ff093-c4b7-490a-ee22-2a437c64f72b",
        "colab": {
          "base_uri": "https://localhost:8080/",
          "height": 34
        }
      },
      "source": [
        "pd.get_dummies(df_train['keyword'], drop_first=True).shape"
      ],
      "execution_count": 46,
      "outputs": [
        {
          "output_type": "execute_result",
          "data": {
            "text/plain": [
              "(7503, 221)"
            ]
          },
          "metadata": {
            "tags": []
          },
          "execution_count": 46
        }
      ]
    },
    {
      "cell_type": "code",
      "metadata": {
        "id": "RmIxM42QPgNR",
        "colab_type": "code",
        "outputId": "13aad612-480d-4bc8-9174-19923c6b811e",
        "colab": {
          "base_uri": "https://localhost:8080/",
          "height": 374
        }
      },
      "source": [
        "# Vemos el top 20 de las categorias mas frecuentes para la serie keyword \n",
        "df_train['keyword'].value_counts().sort_values(ascending=False).head(20)"
      ],
      "execution_count": 47,
      "outputs": [
        {
          "output_type": "execute_result",
          "data": {
            "text/plain": [
              "sin keyword    56\n",
              "fatalities     45\n",
              "deluge         42\n",
              "armageddon     42\n",
              "harm           41\n",
              "damage         41\n",
              "body_bags      41\n",
              "siren          40\n",
              "fear           40\n",
              "twister        40\n",
              "evacuate       40\n",
              "windstorm      40\n",
              "weapons        39\n",
              "sinkhole       39\n",
              "explosion      39\n",
              "sunk           39\n",
              "wrecked        39\n",
              "outbreak       39\n",
              "famine         39\n",
              "collision      39\n",
              "Name: keyword, dtype: int64"
            ]
          },
          "metadata": {
            "tags": []
          },
          "execution_count": 47
        }
      ]
    },
    {
      "cell_type": "code",
      "metadata": {
        "id": "kDvRGz0mQNux",
        "colab_type": "code",
        "outputId": "d7f2b173-e654-4fc5-c158-5b7271255341",
        "colab": {
          "base_uri": "https://localhost:8080/",
          "height": 289
        }
      },
      "source": [
        "df_train.head()"
      ],
      "execution_count": 48,
      "outputs": [
        {
          "output_type": "execute_result",
          "data": {
            "text/html": [
              "<div>\n",
              "<style scoped>\n",
              "    .dataframe tbody tr th:only-of-type {\n",
              "        vertical-align: middle;\n",
              "    }\n",
              "\n",
              "    .dataframe tbody tr th {\n",
              "        vertical-align: top;\n",
              "    }\n",
              "\n",
              "    .dataframe thead th {\n",
              "        text-align: right;\n",
              "    }\n",
              "</style>\n",
              "<table border=\"1\" class=\"dataframe\">\n",
              "  <thead>\n",
              "    <tr style=\"text-align: right;\">\n",
              "      <th></th>\n",
              "      <th>keyword</th>\n",
              "      <th>location</th>\n",
              "      <th>text</th>\n",
              "      <th>target</th>\n",
              "      <th>caracteres_tweet</th>\n",
              "      <th>text_vector</th>\n",
              "      <th>text_vector_filtrado</th>\n",
              "      <th>elem_vector</th>\n",
              "      <th>elem_vector_filtrado</th>\n",
              "    </tr>\n",
              "  </thead>\n",
              "  <tbody>\n",
              "    <tr>\n",
              "      <th>0</th>\n",
              "      <td>sin keyword</td>\n",
              "      <td>sin location</td>\n",
              "      <td>Our Deeds are the Reason of this #earthquake M...</td>\n",
              "      <td>1</td>\n",
              "      <td>69</td>\n",
              "      <td>[our, deeds, are, the, reason, of, this, earth...</td>\n",
              "      <td>[deeds, reason, earthquake, may, allah, forgiv...</td>\n",
              "      <td>13</td>\n",
              "      <td>7</td>\n",
              "    </tr>\n",
              "    <tr>\n",
              "      <th>1</th>\n",
              "      <td>sin keyword</td>\n",
              "      <td>sin location</td>\n",
              "      <td>Forest fire near La Ronge Sask. Canada</td>\n",
              "      <td>1</td>\n",
              "      <td>38</td>\n",
              "      <td>[forest, fire, near, la, ronge, sask, canada]</td>\n",
              "      <td>[forest, fire, near, la, ronge, sask, canada]</td>\n",
              "      <td>7</td>\n",
              "      <td>7</td>\n",
              "    </tr>\n",
              "    <tr>\n",
              "      <th>2</th>\n",
              "      <td>sin keyword</td>\n",
              "      <td>sin location</td>\n",
              "      <td>All residents asked to 'shelter in place' are ...</td>\n",
              "      <td>1</td>\n",
              "      <td>133</td>\n",
              "      <td>[all, residents, asked, to, shelter, in, place...</td>\n",
              "      <td>[residents, asked, shelter, place, notified, o...</td>\n",
              "      <td>22</td>\n",
              "      <td>11</td>\n",
              "    </tr>\n",
              "    <tr>\n",
              "      <th>3</th>\n",
              "      <td>sin keyword</td>\n",
              "      <td>sin location</td>\n",
              "      <td>13,000 people receive #wildfires evacuation or...</td>\n",
              "      <td>1</td>\n",
              "      <td>65</td>\n",
              "      <td>[13000, people, receive, wildfires, evacuation...</td>\n",
              "      <td>[13000, people, receive, wildfires, evacuation...</td>\n",
              "      <td>8</td>\n",
              "      <td>7</td>\n",
              "    </tr>\n",
              "    <tr>\n",
              "      <th>4</th>\n",
              "      <td>sin keyword</td>\n",
              "      <td>sin location</td>\n",
              "      <td>Just got sent this photo from Ruby #Alaska as ...</td>\n",
              "      <td>1</td>\n",
              "      <td>88</td>\n",
              "      <td>[just, got, sent, this, photo, from, ruby, ala...</td>\n",
              "      <td>[got, sent, photo, ruby, alaska, smoke, wildfi...</td>\n",
              "      <td>16</td>\n",
              "      <td>9</td>\n",
              "    </tr>\n",
              "  </tbody>\n",
              "</table>\n",
              "</div>"
            ],
            "text/plain": [
              "       keyword      location  ... elem_vector  elem_vector_filtrado\n",
              "0  sin keyword  sin location  ...          13                     7\n",
              "1  sin keyword  sin location  ...           7                     7\n",
              "2  sin keyword  sin location  ...          22                    11\n",
              "3  sin keyword  sin location  ...           8                     7\n",
              "4  sin keyword  sin location  ...          16                     9\n",
              "\n",
              "[5 rows x 9 columns]"
            ]
          },
          "metadata": {
            "tags": []
          },
          "execution_count": 48
        }
      ]
    },
    {
      "cell_type": "code",
      "metadata": {
        "id": "NiXIloaxDFSi",
        "colab_type": "code",
        "colab": {
          "base_uri": "https://localhost:8080/",
          "height": 1000
        },
        "outputId": "31fafd29-7442-4d53-e2ee-ed80af3f0084"
      },
      "source": [
        "#pd.Series(df_train['keyword'].unique).to_dict()\n",
        "df_train['keyword'].unique().tolist()"
      ],
      "execution_count": 49,
      "outputs": [
        {
          "output_type": "execute_result",
          "data": {
            "text/plain": [
              "['sin keyword',\n",
              " 'ablaze',\n",
              " 'accident',\n",
              " 'aftershock',\n",
              " 'airplane_accident',\n",
              " 'ambulance',\n",
              " 'annihilated',\n",
              " 'annihilation',\n",
              " 'apocalypse',\n",
              " 'armageddon',\n",
              " 'army',\n",
              " 'arson',\n",
              " 'arsonist',\n",
              " 'attack',\n",
              " 'attacked',\n",
              " 'avalanche',\n",
              " 'battle',\n",
              " 'bioterror',\n",
              " 'bioterrorism',\n",
              " 'blaze',\n",
              " 'blazing',\n",
              " 'bleeding',\n",
              " 'blew_up',\n",
              " 'blight',\n",
              " 'blizzard',\n",
              " 'blood',\n",
              " 'bloody',\n",
              " 'blown_up',\n",
              " 'body_bag',\n",
              " 'body_bagging',\n",
              " 'body_bags',\n",
              " 'bomb',\n",
              " 'bombed',\n",
              " 'bombing',\n",
              " 'bridge_collapse',\n",
              " 'buildings_burning',\n",
              " 'buildings_on_fire',\n",
              " 'burned',\n",
              " 'burning',\n",
              " 'burning_buildings',\n",
              " 'bush_fires',\n",
              " 'casualties',\n",
              " 'casualty',\n",
              " 'catastrophe',\n",
              " 'catastrophic',\n",
              " 'chemical_emergency',\n",
              " 'cliff_fall',\n",
              " 'collapse',\n",
              " 'collapsed',\n",
              " 'collide',\n",
              " 'collided',\n",
              " 'collision',\n",
              " 'crash',\n",
              " 'crashed',\n",
              " 'crush',\n",
              " 'crushed',\n",
              " 'curfew',\n",
              " 'cyclone',\n",
              " 'damage',\n",
              " 'danger',\n",
              " 'dead',\n",
              " 'death',\n",
              " 'deaths',\n",
              " 'debris',\n",
              " 'deluge',\n",
              " 'deluged',\n",
              " 'demolish',\n",
              " 'demolished',\n",
              " 'demolition',\n",
              " 'derail',\n",
              " 'derailed',\n",
              " 'derailment',\n",
              " 'desolate',\n",
              " 'desolation',\n",
              " 'destroy',\n",
              " 'destroyed',\n",
              " 'destruction',\n",
              " 'detonate',\n",
              " 'detonation',\n",
              " 'devastated',\n",
              " 'devastation',\n",
              " 'disaster',\n",
              " 'displaced',\n",
              " 'drought',\n",
              " 'drown',\n",
              " 'drowned',\n",
              " 'drowning',\n",
              " 'dust_storm',\n",
              " 'earthquake',\n",
              " 'electrocute',\n",
              " 'electrocuted',\n",
              " 'emergency',\n",
              " 'emergency_plan',\n",
              " 'emergency_services',\n",
              " 'engulfed',\n",
              " 'epicentre',\n",
              " 'evacuate',\n",
              " 'evacuated',\n",
              " 'evacuation',\n",
              " 'explode',\n",
              " 'exploded',\n",
              " 'explosion',\n",
              " 'eyewitness',\n",
              " 'famine',\n",
              " 'fatal',\n",
              " 'fatalities',\n",
              " 'fatality',\n",
              " 'fear',\n",
              " 'fire',\n",
              " 'fire_truck',\n",
              " 'first_responders',\n",
              " 'flames',\n",
              " 'flattened',\n",
              " 'flood',\n",
              " 'flooding',\n",
              " 'floods',\n",
              " 'forest_fire',\n",
              " 'forest_fires',\n",
              " 'hail',\n",
              " 'hailstorm',\n",
              " 'harm',\n",
              " 'hazard',\n",
              " 'hazardous',\n",
              " 'heat_wave',\n",
              " 'hellfire',\n",
              " 'hijack',\n",
              " 'hijacker',\n",
              " 'hijacking',\n",
              " 'hostage',\n",
              " 'hostages',\n",
              " 'hurricane',\n",
              " 'injured',\n",
              " 'injuries',\n",
              " 'injury',\n",
              " 'inundated',\n",
              " 'inundation',\n",
              " 'landslide',\n",
              " 'lava',\n",
              " 'lightning',\n",
              " 'loud_bang',\n",
              " 'mass_murder',\n",
              " 'mass_murderer',\n",
              " 'massacre',\n",
              " 'mayhem',\n",
              " 'meltdown',\n",
              " 'military',\n",
              " 'mudslide',\n",
              " 'natural_disaster',\n",
              " 'nuclear_disaster',\n",
              " 'nuclear_reactor',\n",
              " 'obliterate',\n",
              " 'obliterated',\n",
              " 'obliteration',\n",
              " 'oil_spill',\n",
              " 'outbreak',\n",
              " 'pandemonium',\n",
              " 'panic',\n",
              " 'panicking',\n",
              " 'police',\n",
              " 'quarantine',\n",
              " 'quarantined',\n",
              " 'radiation_emergency',\n",
              " 'rainstorm',\n",
              " 'razed',\n",
              " 'refugees',\n",
              " 'rescue',\n",
              " 'rescued',\n",
              " 'rescuers',\n",
              " 'riot',\n",
              " 'rioting',\n",
              " 'rubble',\n",
              " 'ruin',\n",
              " 'sandstorm',\n",
              " 'screamed',\n",
              " 'screaming',\n",
              " 'screams',\n",
              " 'seismic',\n",
              " 'sinkhole',\n",
              " 'sinking',\n",
              " 'siren',\n",
              " 'sirens',\n",
              " 'smoke',\n",
              " 'snowstorm',\n",
              " 'storm',\n",
              " 'stretcher',\n",
              " 'structural_failure',\n",
              " 'suicide_bomb',\n",
              " 'suicide_bomber',\n",
              " 'suicide_bombing',\n",
              " 'sunk',\n",
              " 'survive',\n",
              " 'survived',\n",
              " 'survivors',\n",
              " 'terrorism',\n",
              " 'terrorist',\n",
              " 'threat',\n",
              " 'thunder',\n",
              " 'thunderstorm',\n",
              " 'tornado',\n",
              " 'tragedy',\n",
              " 'trapped',\n",
              " 'trauma',\n",
              " 'traumatised',\n",
              " 'trouble',\n",
              " 'tsunami',\n",
              " 'twister',\n",
              " 'typhoon',\n",
              " 'upheaval',\n",
              " 'violent_storm',\n",
              " 'volcano',\n",
              " 'war_zone',\n",
              " 'weapon',\n",
              " 'weapons',\n",
              " 'whirlwind',\n",
              " 'wild_fires',\n",
              " 'wildfire',\n",
              " 'windstorm',\n",
              " 'wounded',\n",
              " 'wounds',\n",
              " 'wreck',\n",
              " 'wreckage',\n",
              " 'wrecked']"
            ]
          },
          "metadata": {
            "tags": []
          },
          "execution_count": 49
        }
      ]
    }
  ]
}
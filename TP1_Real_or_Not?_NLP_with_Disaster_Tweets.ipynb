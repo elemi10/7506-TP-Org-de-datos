{
  "nbformat": 4,
  "nbformat_minor": 0,
  "metadata": {
    "colab": {
      "name": "TP1 - Real or Not? NLP with Disaster Tweets.ipynb",
      "provenance": [],
      "authorship_tag": "ABX9TyNNMsGl9oGdI1BGTQZXAE1u",
      "include_colab_link": true
    },
    "kernelspec": {
      "name": "python3",
      "display_name": "Python 3"
    }
  },
  "cells": [
    {
      "cell_type": "markdown",
      "metadata": {
        "id": "view-in-github",
        "colab_type": "text"
      },
      "source": [
        "<a href=\"https://colab.research.google.com/github/elemi10/7506-TP-Org-de-datos/blob/7506-Trabajo-Practico-1/TP1_Real_or_Not%3F_NLP_with_Disaster_Tweets.ipynb\" target=\"_parent\"><img src=\"https://colab.research.google.com/assets/colab-badge.svg\" alt=\"Open In Colab\"/></a>"
      ]
    },
    {
      "cell_type": "markdown",
      "metadata": {
        "id": "1InmVmMaAVWi",
        "colab_type": "text"
      },
      "source": [
        "\n",
        "# **TP1 - Real or Not?**\n",
        "\n",
        "###  **Análisis exploratorio**"
      ]
    },
    {
      "cell_type": "markdown",
      "metadata": {
        "id": "P0VGmxF3Ad7i",
        "colab_type": "text"
      },
      "source": [
        "![Banner_TP1.png](https://drive.google.com/uc?id=1BPA2RF1SDm9bTs1xZfVUa1VQn932E3wr)\n"
      ]
    },
    {
      "cell_type": "code",
      "metadata": {
        "id": "6Hv3GeApYzRD",
        "colab_type": "code",
        "colab": {}
      },
      "source": [
        "#IMPORT FILES FROM DRIVE INTO GOOGLE-COLAB:\n",
        "\n",
        "#STEP-1: Import Libraries\n",
        "\n",
        "# Code to read csv file into colaboratory:\n",
        "!pip install -U -q PyDrive\n",
        "from pydrive.auth import GoogleAuth\n",
        "from pydrive.drive import GoogleDrive\n",
        "from google.colab import auth\n",
        "from oauth2client.client import GoogleCredentials"
      ],
      "execution_count": 0,
      "outputs": []
    },
    {
      "cell_type": "code",
      "metadata": {
        "id": "VS-CAKCUZkxX",
        "colab_type": "code",
        "colab": {}
      },
      "source": [
        "#STEP-2: Autheticate E-Mail ID\n",
        "\n",
        "auth.authenticate_user()\n",
        "gauth = GoogleAuth()\n",
        "gauth.credentials = GoogleCredentials.get_application_default()\n",
        "drive = GoogleDrive(gauth)"
      ],
      "execution_count": 0,
      "outputs": []
    },
    {
      "cell_type": "code",
      "metadata": {
        "id": "xU-qkOQvZ17M",
        "colab_type": "code",
        "colab": {}
      },
      "source": [
        "#STEP-3: Get File from Drive using file-ID\n",
        "\n",
        "#2.1 Get the file\n",
        "downloaded = drive.CreateFile({'id':'1RAGDjlzJ6spO5Sq8_x3UTIvxLhKAUBEt'}) # replace the id with id of file you want to access\n",
        "downloaded.GetContentFile('train.csv') \n",
        "\n",
        "#downloaded = drive.CreateFile({'id':'17pAgG9oJRK1bAFWRKkp96__zicG6yUmy'}) # replace the id with id of file you want to access\n",
        "#downloaded.GetContentFile('test.csv') \n",
        "\n",
        "#downloaded = drive.CreateFile({'id':'1u8v51BT7FZggIRD-eo0dQno--0wlxIhA'}) # replace the id with id of file you want to access\n",
        "#downloaded.GetContentFile('sample_submission.csv') \n"
      ],
      "execution_count": 0,
      "outputs": []
    },
    {
      "cell_type": "code",
      "metadata": {
        "id": "x7kd9R6i4AnE",
        "colab_type": "code",
        "colab": {}
      },
      "source": [
        "#STEP-4: Import Libraries\n",
        "\n",
        "import pandas as pd\n",
        "import numpy as np\n",
        "import seaborn as sns\n",
        "import matplotlib.pyplot as plt\n",
        "from matplotlib import colors\n",
        "import datetime as dt\n",
        "import scipy as sp\n",
        "#from sklearn.cross_validation import train_test_split -- no levanta\n",
        "%matplotlib inline\n",
        "plt.rcParams['figure.figsize'] = (16,9)\n",
        "plt.style.use('default') # mejoramos esteticamente un poco los gráficos en matplotlib\n",
        "sns.set(style='whitegrid') # seteando tipo de grid en seaborn\n",
        "\n",
        "from sklearn.model_selection import train_test_split\n",
        "from sklearn.metrics import classification_report\n",
        "from sklearn.metrics import confusion_matrix\n",
        "from sklearn.naive_bayes import GaussianNB\n",
        "from sklearn.feature_selection import SelectKBest\n",
        "from sklearn import datasets, linear_model"
      ],
      "execution_count": 0,
      "outputs": []
    },
    {
      "cell_type": "markdown",
      "metadata": {
        "id": "-XLYMHBGLpqw",
        "colab_type": "text"
      },
      "source": [
        "### Levantamos archivo **train.csv**\n"
      ]
    },
    {
      "cell_type": "code",
      "metadata": {
        "id": "8rnYnjb0cAOC",
        "colab_type": "code",
        "outputId": "ee0f352d-2210-41c2-bded-0d10aa38b43b",
        "colab": {
          "base_uri": "https://localhost:8080/",
          "height": 359
        }
      },
      "source": [
        "df_train = pd.read_csv(r'train.csv', usecols=['keyword','location','text','target']) \n",
        "df_train.head(10)"
      ],
      "execution_count": 29,
      "outputs": [
        {
          "output_type": "execute_result",
          "data": {
            "text/html": [
              "<div>\n",
              "<style scoped>\n",
              "    .dataframe tbody tr th:only-of-type {\n",
              "        vertical-align: middle;\n",
              "    }\n",
              "\n",
              "    .dataframe tbody tr th {\n",
              "        vertical-align: top;\n",
              "    }\n",
              "\n",
              "    .dataframe thead th {\n",
              "        text-align: right;\n",
              "    }\n",
              "</style>\n",
              "<table border=\"1\" class=\"dataframe\">\n",
              "  <thead>\n",
              "    <tr style=\"text-align: right;\">\n",
              "      <th></th>\n",
              "      <th>keyword</th>\n",
              "      <th>location</th>\n",
              "      <th>text</th>\n",
              "      <th>target</th>\n",
              "    </tr>\n",
              "  </thead>\n",
              "  <tbody>\n",
              "    <tr>\n",
              "      <th>0</th>\n",
              "      <td>NaN</td>\n",
              "      <td>NaN</td>\n",
              "      <td>Our Deeds are the Reason of this #earthquake M...</td>\n",
              "      <td>1</td>\n",
              "    </tr>\n",
              "    <tr>\n",
              "      <th>1</th>\n",
              "      <td>NaN</td>\n",
              "      <td>NaN</td>\n",
              "      <td>Forest fire near La Ronge Sask. Canada</td>\n",
              "      <td>1</td>\n",
              "    </tr>\n",
              "    <tr>\n",
              "      <th>2</th>\n",
              "      <td>NaN</td>\n",
              "      <td>NaN</td>\n",
              "      <td>All residents asked to 'shelter in place' are ...</td>\n",
              "      <td>1</td>\n",
              "    </tr>\n",
              "    <tr>\n",
              "      <th>3</th>\n",
              "      <td>NaN</td>\n",
              "      <td>NaN</td>\n",
              "      <td>13,000 people receive #wildfires evacuation or...</td>\n",
              "      <td>1</td>\n",
              "    </tr>\n",
              "    <tr>\n",
              "      <th>4</th>\n",
              "      <td>NaN</td>\n",
              "      <td>NaN</td>\n",
              "      <td>Just got sent this photo from Ruby #Alaska as ...</td>\n",
              "      <td>1</td>\n",
              "    </tr>\n",
              "    <tr>\n",
              "      <th>5</th>\n",
              "      <td>NaN</td>\n",
              "      <td>NaN</td>\n",
              "      <td>#RockyFire Update =&gt; California Hwy. 20 closed...</td>\n",
              "      <td>1</td>\n",
              "    </tr>\n",
              "    <tr>\n",
              "      <th>6</th>\n",
              "      <td>NaN</td>\n",
              "      <td>NaN</td>\n",
              "      <td>#flood #disaster Heavy rain causes flash flood...</td>\n",
              "      <td>1</td>\n",
              "    </tr>\n",
              "    <tr>\n",
              "      <th>7</th>\n",
              "      <td>NaN</td>\n",
              "      <td>NaN</td>\n",
              "      <td>I'm on top of the hill and I can see a fire in...</td>\n",
              "      <td>1</td>\n",
              "    </tr>\n",
              "    <tr>\n",
              "      <th>8</th>\n",
              "      <td>NaN</td>\n",
              "      <td>NaN</td>\n",
              "      <td>There's an emergency evacuation happening now ...</td>\n",
              "      <td>1</td>\n",
              "    </tr>\n",
              "    <tr>\n",
              "      <th>9</th>\n",
              "      <td>NaN</td>\n",
              "      <td>NaN</td>\n",
              "      <td>I'm afraid that the tornado is coming to our a...</td>\n",
              "      <td>1</td>\n",
              "    </tr>\n",
              "  </tbody>\n",
              "</table>\n",
              "</div>"
            ],
            "text/plain": [
              "  keyword location                                               text  target\n",
              "0     NaN      NaN  Our Deeds are the Reason of this #earthquake M...       1\n",
              "1     NaN      NaN             Forest fire near La Ronge Sask. Canada       1\n",
              "2     NaN      NaN  All residents asked to 'shelter in place' are ...       1\n",
              "3     NaN      NaN  13,000 people receive #wildfires evacuation or...       1\n",
              "4     NaN      NaN  Just got sent this photo from Ruby #Alaska as ...       1\n",
              "5     NaN      NaN  #RockyFire Update => California Hwy. 20 closed...       1\n",
              "6     NaN      NaN  #flood #disaster Heavy rain causes flash flood...       1\n",
              "7     NaN      NaN  I'm on top of the hill and I can see a fire in...       1\n",
              "8     NaN      NaN  There's an emergency evacuation happening now ...       1\n",
              "9     NaN      NaN  I'm afraid that the tornado is coming to our a...       1"
            ]
          },
          "metadata": {
            "tags": []
          },
          "execution_count": 29
        }
      ]
    },
    {
      "cell_type": "code",
      "metadata": {
        "id": "1mB1ftGlOBvw",
        "colab_type": "code",
        "colab": {}
      },
      "source": [
        "# exporto a excel\n",
        "df_train.to_excel('df_train_preprocesado.xlsx')"
      ],
      "execution_count": 0,
      "outputs": []
    },
    {
      "cell_type": "code",
      "metadata": {
        "id": "n-5WTdfJL7_a",
        "colab_type": "code",
        "outputId": "73014321-1bdf-426f-9473-b471e4a11343",
        "colab": {
          "base_uri": "https://localhost:8080/",
          "height": 204
        }
      },
      "source": [
        "df_train.info()\n",
        "# las variables 'keyword' y 'location' estan incompletas"
      ],
      "execution_count": 31,
      "outputs": [
        {
          "output_type": "stream",
          "text": [
            "<class 'pandas.core.frame.DataFrame'>\n",
            "RangeIndex: 7613 entries, 0 to 7612\n",
            "Data columns (total 4 columns):\n",
            " #   Column    Non-Null Count  Dtype \n",
            "---  ------    --------------  ----- \n",
            " 0   keyword   7552 non-null   object\n",
            " 1   location  5080 non-null   object\n",
            " 2   text      7613 non-null   object\n",
            " 3   target    7613 non-null   int64 \n",
            "dtypes: int64(1), object(3)\n",
            "memory usage: 238.0+ KB\n"
          ],
          "name": "stdout"
        }
      ]
    },
    {
      "cell_type": "code",
      "metadata": {
        "id": "zjaKNFRQcrIU",
        "colab_type": "code",
        "colab": {}
      },
      "source": [
        "#df_train['target'].value_counts()"
      ],
      "execution_count": 0,
      "outputs": []
    },
    {
      "cell_type": "markdown",
      "metadata": {
        "id": "wcMs9ZeQ1vQB",
        "colab_type": "text"
      },
      "source": [
        "### Creamos una variable para **contar total caracteres** del tweet"
      ]
    },
    {
      "cell_type": "code",
      "metadata": {
        "id": "khgW7TOVdQaf",
        "colab_type": "code",
        "outputId": "f0d4a411-0301-40e4-fb40-0d828f2c78a6",
        "colab": {
          "base_uri": "https://localhost:8080/",
          "height": 669
        }
      },
      "source": [
        "# Creo una columna con el cálculo de las palabras que tiene la columna 'text' y la llamo 'caracteres_tweet'. \n",
        "# Despues consulto con un head()\n",
        "df_train['caracteres_tweet']=df_train['text'].str.len()\n",
        "df_train.head(20)"
      ],
      "execution_count": 33,
      "outputs": [
        {
          "output_type": "execute_result",
          "data": {
            "text/html": [
              "<div>\n",
              "<style scoped>\n",
              "    .dataframe tbody tr th:only-of-type {\n",
              "        vertical-align: middle;\n",
              "    }\n",
              "\n",
              "    .dataframe tbody tr th {\n",
              "        vertical-align: top;\n",
              "    }\n",
              "\n",
              "    .dataframe thead th {\n",
              "        text-align: right;\n",
              "    }\n",
              "</style>\n",
              "<table border=\"1\" class=\"dataframe\">\n",
              "  <thead>\n",
              "    <tr style=\"text-align: right;\">\n",
              "      <th></th>\n",
              "      <th>keyword</th>\n",
              "      <th>location</th>\n",
              "      <th>text</th>\n",
              "      <th>target</th>\n",
              "      <th>caracteres_tweet</th>\n",
              "    </tr>\n",
              "  </thead>\n",
              "  <tbody>\n",
              "    <tr>\n",
              "      <th>0</th>\n",
              "      <td>NaN</td>\n",
              "      <td>NaN</td>\n",
              "      <td>Our Deeds are the Reason of this #earthquake M...</td>\n",
              "      <td>1</td>\n",
              "      <td>69</td>\n",
              "    </tr>\n",
              "    <tr>\n",
              "      <th>1</th>\n",
              "      <td>NaN</td>\n",
              "      <td>NaN</td>\n",
              "      <td>Forest fire near La Ronge Sask. Canada</td>\n",
              "      <td>1</td>\n",
              "      <td>38</td>\n",
              "    </tr>\n",
              "    <tr>\n",
              "      <th>2</th>\n",
              "      <td>NaN</td>\n",
              "      <td>NaN</td>\n",
              "      <td>All residents asked to 'shelter in place' are ...</td>\n",
              "      <td>1</td>\n",
              "      <td>133</td>\n",
              "    </tr>\n",
              "    <tr>\n",
              "      <th>3</th>\n",
              "      <td>NaN</td>\n",
              "      <td>NaN</td>\n",
              "      <td>13,000 people receive #wildfires evacuation or...</td>\n",
              "      <td>1</td>\n",
              "      <td>65</td>\n",
              "    </tr>\n",
              "    <tr>\n",
              "      <th>4</th>\n",
              "      <td>NaN</td>\n",
              "      <td>NaN</td>\n",
              "      <td>Just got sent this photo from Ruby #Alaska as ...</td>\n",
              "      <td>1</td>\n",
              "      <td>88</td>\n",
              "    </tr>\n",
              "    <tr>\n",
              "      <th>5</th>\n",
              "      <td>NaN</td>\n",
              "      <td>NaN</td>\n",
              "      <td>#RockyFire Update =&gt; California Hwy. 20 closed...</td>\n",
              "      <td>1</td>\n",
              "      <td>110</td>\n",
              "    </tr>\n",
              "    <tr>\n",
              "      <th>6</th>\n",
              "      <td>NaN</td>\n",
              "      <td>NaN</td>\n",
              "      <td>#flood #disaster Heavy rain causes flash flood...</td>\n",
              "      <td>1</td>\n",
              "      <td>95</td>\n",
              "    </tr>\n",
              "    <tr>\n",
              "      <th>7</th>\n",
              "      <td>NaN</td>\n",
              "      <td>NaN</td>\n",
              "      <td>I'm on top of the hill and I can see a fire in...</td>\n",
              "      <td>1</td>\n",
              "      <td>59</td>\n",
              "    </tr>\n",
              "    <tr>\n",
              "      <th>8</th>\n",
              "      <td>NaN</td>\n",
              "      <td>NaN</td>\n",
              "      <td>There's an emergency evacuation happening now ...</td>\n",
              "      <td>1</td>\n",
              "      <td>79</td>\n",
              "    </tr>\n",
              "    <tr>\n",
              "      <th>9</th>\n",
              "      <td>NaN</td>\n",
              "      <td>NaN</td>\n",
              "      <td>I'm afraid that the tornado is coming to our a...</td>\n",
              "      <td>1</td>\n",
              "      <td>52</td>\n",
              "    </tr>\n",
              "    <tr>\n",
              "      <th>10</th>\n",
              "      <td>NaN</td>\n",
              "      <td>NaN</td>\n",
              "      <td>Three people died from the heat wave so far</td>\n",
              "      <td>1</td>\n",
              "      <td>43</td>\n",
              "    </tr>\n",
              "    <tr>\n",
              "      <th>11</th>\n",
              "      <td>NaN</td>\n",
              "      <td>NaN</td>\n",
              "      <td>Haha South Tampa is getting flooded hah- WAIT ...</td>\n",
              "      <td>1</td>\n",
              "      <td>129</td>\n",
              "    </tr>\n",
              "    <tr>\n",
              "      <th>12</th>\n",
              "      <td>NaN</td>\n",
              "      <td>NaN</td>\n",
              "      <td>#raining #flooding #Florida #TampaBay #Tampa 1...</td>\n",
              "      <td>1</td>\n",
              "      <td>76</td>\n",
              "    </tr>\n",
              "    <tr>\n",
              "      <th>13</th>\n",
              "      <td>NaN</td>\n",
              "      <td>NaN</td>\n",
              "      <td>#Flood in Bago Myanmar #We arrived Bago</td>\n",
              "      <td>1</td>\n",
              "      <td>39</td>\n",
              "    </tr>\n",
              "    <tr>\n",
              "      <th>14</th>\n",
              "      <td>NaN</td>\n",
              "      <td>NaN</td>\n",
              "      <td>Damage to school bus on 80 in multi car crash ...</td>\n",
              "      <td>1</td>\n",
              "      <td>56</td>\n",
              "    </tr>\n",
              "    <tr>\n",
              "      <th>15</th>\n",
              "      <td>NaN</td>\n",
              "      <td>NaN</td>\n",
              "      <td>What's up man?</td>\n",
              "      <td>0</td>\n",
              "      <td>14</td>\n",
              "    </tr>\n",
              "    <tr>\n",
              "      <th>16</th>\n",
              "      <td>NaN</td>\n",
              "      <td>NaN</td>\n",
              "      <td>I love fruits</td>\n",
              "      <td>0</td>\n",
              "      <td>13</td>\n",
              "    </tr>\n",
              "    <tr>\n",
              "      <th>17</th>\n",
              "      <td>NaN</td>\n",
              "      <td>NaN</td>\n",
              "      <td>Summer is lovely</td>\n",
              "      <td>0</td>\n",
              "      <td>16</td>\n",
              "    </tr>\n",
              "    <tr>\n",
              "      <th>18</th>\n",
              "      <td>NaN</td>\n",
              "      <td>NaN</td>\n",
              "      <td>My car is so fast</td>\n",
              "      <td>0</td>\n",
              "      <td>17</td>\n",
              "    </tr>\n",
              "    <tr>\n",
              "      <th>19</th>\n",
              "      <td>NaN</td>\n",
              "      <td>NaN</td>\n",
              "      <td>What a goooooooaaaaaal!!!!!!</td>\n",
              "      <td>0</td>\n",
              "      <td>28</td>\n",
              "    </tr>\n",
              "  </tbody>\n",
              "</table>\n",
              "</div>"
            ],
            "text/plain": [
              "   keyword location  ... target  caracteres_tweet\n",
              "0      NaN      NaN  ...      1                69\n",
              "1      NaN      NaN  ...      1                38\n",
              "2      NaN      NaN  ...      1               133\n",
              "3      NaN      NaN  ...      1                65\n",
              "4      NaN      NaN  ...      1                88\n",
              "5      NaN      NaN  ...      1               110\n",
              "6      NaN      NaN  ...      1                95\n",
              "7      NaN      NaN  ...      1                59\n",
              "8      NaN      NaN  ...      1                79\n",
              "9      NaN      NaN  ...      1                52\n",
              "10     NaN      NaN  ...      1                43\n",
              "11     NaN      NaN  ...      1               129\n",
              "12     NaN      NaN  ...      1                76\n",
              "13     NaN      NaN  ...      1                39\n",
              "14     NaN      NaN  ...      1                56\n",
              "15     NaN      NaN  ...      0                14\n",
              "16     NaN      NaN  ...      0                13\n",
              "17     NaN      NaN  ...      0                16\n",
              "18     NaN      NaN  ...      0                17\n",
              "19     NaN      NaN  ...      0                28\n",
              "\n",
              "[20 rows x 5 columns]"
            ]
          },
          "metadata": {
            "tags": []
          },
          "execution_count": 33
        }
      ]
    },
    {
      "cell_type": "code",
      "metadata": {
        "id": "gvK_mIbqds79",
        "colab_type": "code",
        "outputId": "c326d080-6b52-48e8-a216-8f31a45aaf30",
        "colab": {
          "base_uri": "https://localhost:8080/",
          "height": 119
        }
      },
      "source": [
        "# Verificamos la existencia de valores nulos\n",
        "df_train.isnull().any()"
      ],
      "execution_count": 34,
      "outputs": [
        {
          "output_type": "execute_result",
          "data": {
            "text/plain": [
              "keyword              True\n",
              "location             True\n",
              "text                False\n",
              "target              False\n",
              "caracteres_tweet    False\n",
              "dtype: bool"
            ]
          },
          "metadata": {
            "tags": []
          },
          "execution_count": 34
        }
      ]
    },
    {
      "cell_type": "code",
      "metadata": {
        "id": "COhktEMkd3eE",
        "colab_type": "code",
        "outputId": "2fc6fd34-c20c-42f8-9c0b-1ee829a69608",
        "colab": {
          "base_uri": "https://localhost:8080/",
          "height": 119
        }
      },
      "source": [
        "df_train.isnull().sum()"
      ],
      "execution_count": 35,
      "outputs": [
        {
          "output_type": "execute_result",
          "data": {
            "text/plain": [
              "keyword               61\n",
              "location            2533\n",
              "text                   0\n",
              "target                 0\n",
              "caracteres_tweet       0\n",
              "dtype: int64"
            ]
          },
          "metadata": {
            "tags": []
          },
          "execution_count": 35
        }
      ]
    },
    {
      "cell_type": "code",
      "metadata": {
        "id": "vOG9CzUtfgwz",
        "colab_type": "code",
        "outputId": "b4cb70e7-067b-458f-e1c4-e56c4898a9bf",
        "colab": {
          "base_uri": "https://localhost:8080/",
          "height": 297
        }
      },
      "source": [
        "df_train.describe()"
      ],
      "execution_count": 36,
      "outputs": [
        {
          "output_type": "execute_result",
          "data": {
            "text/html": [
              "<div>\n",
              "<style scoped>\n",
              "    .dataframe tbody tr th:only-of-type {\n",
              "        vertical-align: middle;\n",
              "    }\n",
              "\n",
              "    .dataframe tbody tr th {\n",
              "        vertical-align: top;\n",
              "    }\n",
              "\n",
              "    .dataframe thead th {\n",
              "        text-align: right;\n",
              "    }\n",
              "</style>\n",
              "<table border=\"1\" class=\"dataframe\">\n",
              "  <thead>\n",
              "    <tr style=\"text-align: right;\">\n",
              "      <th></th>\n",
              "      <th>target</th>\n",
              "      <th>caracteres_tweet</th>\n",
              "    </tr>\n",
              "  </thead>\n",
              "  <tbody>\n",
              "    <tr>\n",
              "      <th>count</th>\n",
              "      <td>7613.00000</td>\n",
              "      <td>7613.000000</td>\n",
              "    </tr>\n",
              "    <tr>\n",
              "      <th>mean</th>\n",
              "      <td>0.42966</td>\n",
              "      <td>101.037436</td>\n",
              "    </tr>\n",
              "    <tr>\n",
              "      <th>std</th>\n",
              "      <td>0.49506</td>\n",
              "      <td>33.781325</td>\n",
              "    </tr>\n",
              "    <tr>\n",
              "      <th>min</th>\n",
              "      <td>0.00000</td>\n",
              "      <td>7.000000</td>\n",
              "    </tr>\n",
              "    <tr>\n",
              "      <th>25%</th>\n",
              "      <td>0.00000</td>\n",
              "      <td>78.000000</td>\n",
              "    </tr>\n",
              "    <tr>\n",
              "      <th>50%</th>\n",
              "      <td>0.00000</td>\n",
              "      <td>107.000000</td>\n",
              "    </tr>\n",
              "    <tr>\n",
              "      <th>75%</th>\n",
              "      <td>1.00000</td>\n",
              "      <td>133.000000</td>\n",
              "    </tr>\n",
              "    <tr>\n",
              "      <th>max</th>\n",
              "      <td>1.00000</td>\n",
              "      <td>157.000000</td>\n",
              "    </tr>\n",
              "  </tbody>\n",
              "</table>\n",
              "</div>"
            ],
            "text/plain": [
              "           target  caracteres_tweet\n",
              "count  7613.00000       7613.000000\n",
              "mean      0.42966        101.037436\n",
              "std       0.49506         33.781325\n",
              "min       0.00000          7.000000\n",
              "25%       0.00000         78.000000\n",
              "50%       0.00000        107.000000\n",
              "75%       1.00000        133.000000\n",
              "max       1.00000        157.000000"
            ]
          },
          "metadata": {
            "tags": []
          },
          "execution_count": 36
        }
      ]
    },
    {
      "cell_type": "code",
      "metadata": {
        "id": "erdKZwcam_pA",
        "colab_type": "code",
        "outputId": "a7f89b4e-68c3-4bdd-d588-b89825b91c46",
        "colab": {
          "base_uri": "https://localhost:8080/",
          "height": 34
        }
      },
      "source": [
        "# cuento total de tweets analizados\n",
        "total_tweets=len(df_train)\n",
        "total_tweets"
      ],
      "execution_count": 37,
      "outputs": [
        {
          "output_type": "execute_result",
          "data": {
            "text/plain": [
              "7613"
            ]
          },
          "metadata": {
            "tags": []
          },
          "execution_count": 37
        }
      ]
    },
    {
      "cell_type": "code",
      "metadata": {
        "id": "YOKPq9rzkoAt",
        "colab_type": "code",
        "outputId": "1de55686-eec3-4fb0-cf70-0b3d21895af5",
        "colab": {
          "base_uri": "https://localhost:8080/",
          "height": 34
        }
      },
      "source": [
        "# verifico cuantos son verdaderos\n",
        "tweets_verdaderos=(df_train['target']==1).sum()\n",
        "tweets_verdaderos\n"
      ],
      "execution_count": 38,
      "outputs": [
        {
          "output_type": "execute_result",
          "data": {
            "text/plain": [
              "3271"
            ]
          },
          "metadata": {
            "tags": []
          },
          "execution_count": 38
        }
      ]
    },
    {
      "cell_type": "code",
      "metadata": {
        "id": "VSUS3Fz3lHMM",
        "colab_type": "code",
        "outputId": "3946afdf-a006-4f39-a5f2-412162c397d6",
        "colab": {
          "base_uri": "https://localhost:8080/",
          "height": 34
        }
      },
      "source": [
        "# verifico cuantos son fakes\n",
        "tweets_falsos=(df_train['target']==0).sum()\n",
        "tweets_falsos"
      ],
      "execution_count": 39,
      "outputs": [
        {
          "output_type": "execute_result",
          "data": {
            "text/plain": [
              "4342"
            ]
          },
          "metadata": {
            "tags": []
          },
          "execution_count": 39
        }
      ]
    },
    {
      "cell_type": "code",
      "metadata": {
        "id": "AMneEm6JlOZ7",
        "colab_type": "code",
        "outputId": "56595808-0f14-4f49-99ef-637070226571",
        "colab": {
          "base_uri": "https://localhost:8080/",
          "height": 34
        }
      },
      "source": [
        "# calculo la probabilidad (casos favorables/sobre casos posibles) → en este casos es equivalente .mean()\n",
        "probabilidad_tweet_verdadero = np.round((tweets_verdaderos)/(total_tweets),decimals=2)\n",
        "probabilidad_tweet_verdadero"
      ],
      "execution_count": 40,
      "outputs": [
        {
          "output_type": "execute_result",
          "data": {
            "text/plain": [
              "0.43"
            ]
          },
          "metadata": {
            "tags": []
          },
          "execution_count": 40
        }
      ]
    },
    {
      "cell_type": "code",
      "metadata": {
        "id": "IL4mYRfBnnp7",
        "colab_type": "code",
        "outputId": "50d0cba9-d9fc-4383-9586-bf0ce3cdda4d",
        "colab": {
          "base_uri": "https://localhost:8080/",
          "height": 34
        }
      },
      "source": [
        "# calculo la probabilidad (casos favorables/sobre casos posibles) → en este casos es equivalente .mean()\n",
        "probabilidad_tweet_falso = np.round((tweets_falsos)/(total_tweets),decimals=2)\n",
        "probabilidad_tweet_falso"
      ],
      "execution_count": 41,
      "outputs": [
        {
          "output_type": "execute_result",
          "data": {
            "text/plain": [
              "0.57"
            ]
          },
          "metadata": {
            "tags": []
          },
          "execution_count": 41
        }
      ]
    },
    {
      "cell_type": "markdown",
      "metadata": {
        "id": "1I-kq-DFNePL",
        "colab_type": "text"
      },
      "source": [
        "### **Iniciamos proceso de limpieza de datos**"
      ]
    },
    {
      "cell_type": "markdown",
      "metadata": {
        "id": "mJQW6fZPum3y",
        "colab_type": "text"
      },
      "source": [
        "#### **Verificación de nulos y normalización DF**\n",
        "\n"
      ]
    },
    {
      "cell_type": "code",
      "metadata": {
        "id": "_W8W9KmdNk5x",
        "colab_type": "code",
        "outputId": "96faafb1-654e-47e6-da6e-b1e01f90e90b",
        "colab": {
          "base_uri": "https://localhost:8080/",
          "height": 0
        }
      },
      "source": [
        "# Verifico que no haya instancias nulas o filas completas nulas\n",
        "df_train=df_train.dropna(how=\"all\")\n",
        "df_train.info()"
      ],
      "execution_count": 42,
      "outputs": [
        {
          "output_type": "stream",
          "text": [
            "<class 'pandas.core.frame.DataFrame'>\n",
            "Int64Index: 7613 entries, 0 to 7612\n",
            "Data columns (total 5 columns):\n",
            " #   Column            Non-Null Count  Dtype \n",
            "---  ------            --------------  ----- \n",
            " 0   keyword           7552 non-null   object\n",
            " 1   location          5080 non-null   object\n",
            " 2   text              7613 non-null   object\n",
            " 3   target            7613 non-null   int64 \n",
            " 4   caracteres_tweet  7613 non-null   int64 \n",
            "dtypes: int64(2), object(3)\n",
            "memory usage: 356.9+ KB\n"
          ],
          "name": "stdout"
        }
      ]
    },
    {
      "cell_type": "code",
      "metadata": {
        "id": "WAcKU9jsvXYX",
        "colab_type": "code",
        "outputId": "82670395-158d-4d83-caa8-2678518df4b6",
        "colab": {
          "base_uri": "https://localhost:8080/",
          "height": 0
        }
      },
      "source": [
        "# Normalizo el dataframe los registros NaN con texto\n",
        "df_train=df_train.fillna({'keyword': 'sin keyword',\\\n",
        "                   'location': 'sin location'})\n",
        "df_train.info()"
      ],
      "execution_count": 43,
      "outputs": [
        {
          "output_type": "stream",
          "text": [
            "<class 'pandas.core.frame.DataFrame'>\n",
            "Int64Index: 7613 entries, 0 to 7612\n",
            "Data columns (total 5 columns):\n",
            " #   Column            Non-Null Count  Dtype \n",
            "---  ------            --------------  ----- \n",
            " 0   keyword           7613 non-null   object\n",
            " 1   location          7613 non-null   object\n",
            " 2   text              7613 non-null   object\n",
            " 3   target            7613 non-null   int64 \n",
            " 4   caracteres_tweet  7613 non-null   int64 \n",
            "dtypes: int64(2), object(3)\n",
            "memory usage: 356.9+ KB\n"
          ],
          "name": "stdout"
        }
      ]
    },
    {
      "cell_type": "code",
      "metadata": {
        "id": "dycFLObqsf0w",
        "colab_type": "code",
        "colab": {}
      },
      "source": [
        "# Eliminamos los tweets duplicados considerando que su cantidad no tiene impacto en el análisis.\n",
        "df_train=df_train.drop_duplicates('text')"
      ],
      "execution_count": 0,
      "outputs": []
    },
    {
      "cell_type": "code",
      "metadata": {
        "id": "gvY--aIT2NNM",
        "colab_type": "code",
        "outputId": "08864b1f-7ec3-47a2-c927-efc6fcbfb3ac",
        "colab": {
          "base_uri": "https://localhost:8080/",
          "height": 0
        }
      },
      "source": [
        "df_train\n",
        "df_train.info()"
      ],
      "execution_count": 45,
      "outputs": [
        {
          "output_type": "stream",
          "text": [
            "<class 'pandas.core.frame.DataFrame'>\n",
            "Int64Index: 7503 entries, 0 to 7612\n",
            "Data columns (total 5 columns):\n",
            " #   Column            Non-Null Count  Dtype \n",
            "---  ------            --------------  ----- \n",
            " 0   keyword           7503 non-null   object\n",
            " 1   location          7503 non-null   object\n",
            " 2   text              7503 non-null   object\n",
            " 3   target            7503 non-null   int64 \n",
            " 4   caracteres_tweet  7503 non-null   int64 \n",
            "dtypes: int64(2), object(3)\n",
            "memory usage: 351.7+ KB\n"
          ],
          "name": "stdout"
        }
      ]
    },
    {
      "cell_type": "markdown",
      "metadata": {
        "id": "5gx0RsFrJs0_",
        "colab_type": "text"
      },
      "source": [
        "## Preprocesamiento de datos: **Tokenización**"
      ]
    },
    {
      "cell_type": "code",
      "metadata": {
        "id": "rq6FoNYI2NH9",
        "colab_type": "code",
        "colab": {}
      },
      "source": [
        "import string\n",
        "punctuation = set(string.punctuation)\n",
        "\n",
        "def tokenize(sentence):\n",
        "    tokens = []\n",
        "    for token in sentence.split():\n",
        "        new_token = []\n",
        "        for character in token:\n",
        "            if character not in punctuation:\n",
        "                new_token.append(character.lower())\n",
        "        if new_token:\n",
        "            tokens.append(\"\".join(new_token))\n",
        "    return tokens"
      ],
      "execution_count": 0,
      "outputs": []
    },
    {
      "cell_type": "code",
      "metadata": {
        "id": "sBaMAYsW36eq",
        "colab_type": "code",
        "colab": {}
      },
      "source": [
        "# type(tokens)"
      ],
      "execution_count": 0,
      "outputs": []
    },
    {
      "cell_type": "code",
      "metadata": {
        "id": "fhT5VMuN2NBO",
        "colab_type": "code",
        "colab": {}
      },
      "source": [
        "df_train['text_vector']=df_train['text'].apply(tokenize)"
      ],
      "execution_count": 0,
      "outputs": []
    },
    {
      "cell_type": "code",
      "metadata": {
        "id": "aCQlY3Am2M2z",
        "colab_type": "code",
        "outputId": "a7a9cb27-99f5-45f6-f4f9-6f66379072fc",
        "colab": {
          "base_uri": "https://localhost:8080/",
          "height": 204
        }
      },
      "source": [
        "df_train.head(5)"
      ],
      "execution_count": 49,
      "outputs": [
        {
          "output_type": "execute_result",
          "data": {
            "text/html": [
              "<div>\n",
              "<style scoped>\n",
              "    .dataframe tbody tr th:only-of-type {\n",
              "        vertical-align: middle;\n",
              "    }\n",
              "\n",
              "    .dataframe tbody tr th {\n",
              "        vertical-align: top;\n",
              "    }\n",
              "\n",
              "    .dataframe thead th {\n",
              "        text-align: right;\n",
              "    }\n",
              "</style>\n",
              "<table border=\"1\" class=\"dataframe\">\n",
              "  <thead>\n",
              "    <tr style=\"text-align: right;\">\n",
              "      <th></th>\n",
              "      <th>keyword</th>\n",
              "      <th>location</th>\n",
              "      <th>text</th>\n",
              "      <th>target</th>\n",
              "      <th>caracteres_tweet</th>\n",
              "      <th>text_vector</th>\n",
              "    </tr>\n",
              "  </thead>\n",
              "  <tbody>\n",
              "    <tr>\n",
              "      <th>0</th>\n",
              "      <td>sin keyword</td>\n",
              "      <td>sin location</td>\n",
              "      <td>Our Deeds are the Reason of this #earthquake M...</td>\n",
              "      <td>1</td>\n",
              "      <td>69</td>\n",
              "      <td>[our, deeds, are, the, reason, of, this, earth...</td>\n",
              "    </tr>\n",
              "    <tr>\n",
              "      <th>1</th>\n",
              "      <td>sin keyword</td>\n",
              "      <td>sin location</td>\n",
              "      <td>Forest fire near La Ronge Sask. Canada</td>\n",
              "      <td>1</td>\n",
              "      <td>38</td>\n",
              "      <td>[forest, fire, near, la, ronge, sask, canada]</td>\n",
              "    </tr>\n",
              "    <tr>\n",
              "      <th>2</th>\n",
              "      <td>sin keyword</td>\n",
              "      <td>sin location</td>\n",
              "      <td>All residents asked to 'shelter in place' are ...</td>\n",
              "      <td>1</td>\n",
              "      <td>133</td>\n",
              "      <td>[all, residents, asked, to, shelter, in, place...</td>\n",
              "    </tr>\n",
              "    <tr>\n",
              "      <th>3</th>\n",
              "      <td>sin keyword</td>\n",
              "      <td>sin location</td>\n",
              "      <td>13,000 people receive #wildfires evacuation or...</td>\n",
              "      <td>1</td>\n",
              "      <td>65</td>\n",
              "      <td>[13000, people, receive, wildfires, evacuation...</td>\n",
              "    </tr>\n",
              "    <tr>\n",
              "      <th>4</th>\n",
              "      <td>sin keyword</td>\n",
              "      <td>sin location</td>\n",
              "      <td>Just got sent this photo from Ruby #Alaska as ...</td>\n",
              "      <td>1</td>\n",
              "      <td>88</td>\n",
              "      <td>[just, got, sent, this, photo, from, ruby, ala...</td>\n",
              "    </tr>\n",
              "  </tbody>\n",
              "</table>\n",
              "</div>"
            ],
            "text/plain": [
              "       keyword  ...                                        text_vector\n",
              "0  sin keyword  ...  [our, deeds, are, the, reason, of, this, earth...\n",
              "1  sin keyword  ...      [forest, fire, near, la, ronge, sask, canada]\n",
              "2  sin keyword  ...  [all, residents, asked, to, shelter, in, place...\n",
              "3  sin keyword  ...  [13000, people, receive, wildfires, evacuation...\n",
              "4  sin keyword  ...  [just, got, sent, this, photo, from, ruby, ala...\n",
              "\n",
              "[5 rows x 6 columns]"
            ]
          },
          "metadata": {
            "tags": []
          },
          "execution_count": 49
        }
      ]
    },
    {
      "cell_type": "code",
      "metadata": {
        "id": "nGI2kGtPLFHc",
        "colab_type": "code",
        "outputId": "c71e6736-063e-43e7-8929-32622423eac5",
        "colab": {
          "base_uri": "https://localhost:8080/",
          "height": 238
        }
      },
      "source": [
        "df_train.info()"
      ],
      "execution_count": 50,
      "outputs": [
        {
          "output_type": "stream",
          "text": [
            "<class 'pandas.core.frame.DataFrame'>\n",
            "Int64Index: 7503 entries, 0 to 7612\n",
            "Data columns (total 6 columns):\n",
            " #   Column            Non-Null Count  Dtype \n",
            "---  ------            --------------  ----- \n",
            " 0   keyword           7503 non-null   object\n",
            " 1   location          7503 non-null   object\n",
            " 2   text              7503 non-null   object\n",
            " 3   target            7503 non-null   int64 \n",
            " 4   caracteres_tweet  7503 non-null   int64 \n",
            " 5   text_vector       7503 non-null   object\n",
            "dtypes: int64(2), object(4)\n",
            "memory usage: 410.3+ KB\n"
          ],
          "name": "stdout"
        }
      ]
    },
    {
      "cell_type": "code",
      "metadata": {
        "id": "oUN3PgvuQAxR",
        "colab_type": "code",
        "colab": {}
      },
      "source": [
        "#from sklearn.feature_extraction.stop_words import ENGLISH_STOP_WORDS\n",
        "#from sklearn.feature_extraction import stop_words\n",
        "#print(stop_words.ENGLISH_STOP_WORDS)"
      ],
      "execution_count": 0,
      "outputs": []
    },
    {
      "cell_type": "code",
      "metadata": {
        "id": "jsgl_XS2WkLL",
        "colab_type": "code",
        "outputId": "ccc53e74-66c5-4dd8-f6dc-e27fa36a8930",
        "colab": {
          "base_uri": "https://localhost:8080/",
          "height": 68
        }
      },
      "source": [
        "import nltk\n",
        "nltk.download('stopwords')\n",
        "\n",
        "#from nltk.corpus import stopwords\n",
        "#from nltk.tokenize import word_tokenize"
      ],
      "execution_count": 52,
      "outputs": [
        {
          "output_type": "stream",
          "text": [
            "[nltk_data] Downloading package stopwords to /root/nltk_data...\n",
            "[nltk_data]   Unzipping corpora/stopwords.zip.\n"
          ],
          "name": "stdout"
        },
        {
          "output_type": "execute_result",
          "data": {
            "text/plain": [
              "True"
            ]
          },
          "metadata": {
            "tags": []
          },
          "execution_count": 52
        }
      ]
    },
    {
      "cell_type": "code",
      "metadata": {
        "id": "KI5PFaXurV42",
        "colab_type": "code",
        "outputId": "d009932b-68d6-4236-a704-b2fe36cd7dd5",
        "colab": {
          "base_uri": "https://localhost:8080/",
          "height": 408
        }
      },
      "source": [
        "from nltk.corpus import stopwords\n",
        "#from nltk.tokenize import word_tokenize\n",
        "stopwords.fileids()"
      ],
      "execution_count": 53,
      "outputs": [
        {
          "output_type": "execute_result",
          "data": {
            "text/plain": [
              "['arabic',\n",
              " 'azerbaijani',\n",
              " 'danish',\n",
              " 'dutch',\n",
              " 'english',\n",
              " 'finnish',\n",
              " 'french',\n",
              " 'german',\n",
              " 'greek',\n",
              " 'hungarian',\n",
              " 'indonesian',\n",
              " 'italian',\n",
              " 'kazakh',\n",
              " 'nepali',\n",
              " 'norwegian',\n",
              " 'portuguese',\n",
              " 'romanian',\n",
              " 'russian',\n",
              " 'slovene',\n",
              " 'spanish',\n",
              " 'swedish',\n",
              " 'tajik',\n",
              " 'turkish']"
            ]
          },
          "metadata": {
            "tags": []
          },
          "execution_count": 53
        }
      ]
    },
    {
      "cell_type": "code",
      "metadata": {
        "id": "z_azzOpyYp8q",
        "colab_type": "code",
        "colab": {}
      },
      "source": [
        "stop=stopwords.words('english')"
      ],
      "execution_count": 0,
      "outputs": []
    },
    {
      "cell_type": "code",
      "metadata": {
        "id": "OPfwPgITsO7J",
        "colab_type": "code",
        "colab": {}
      },
      "source": [
        "def filtro(text_vector):\n",
        "  text_vector_filtrado = []\n",
        "  for palabra in text_vector:\n",
        "    if palabra not in stop:\n",
        "      text_vector_filtrado.append(palabra)\n",
        "  return(text_vector_filtrado)"
      ],
      "execution_count": 0,
      "outputs": []
    },
    {
      "cell_type": "code",
      "metadata": {
        "id": "RU4VqaVdwuEw",
        "colab_type": "code",
        "colab": {}
      },
      "source": [
        "# type(text_vector_filtrado)"
      ],
      "execution_count": 0,
      "outputs": []
    },
    {
      "cell_type": "code",
      "metadata": {
        "id": "XX0bDJVS0Zt3",
        "colab_type": "code",
        "colab": {}
      },
      "source": [
        "df_train['text_vector_filtrado']=df_train['text_vector'].apply(filtro)"
      ],
      "execution_count": 0,
      "outputs": []
    },
    {
      "cell_type": "code",
      "metadata": {
        "id": "XoqrXDN-YF3H",
        "colab_type": "code",
        "outputId": "b49f3fff-b4b4-4938-bdff-bdac7dc3e959",
        "colab": {
          "base_uri": "https://localhost:8080/",
          "height": 119
        }
      },
      "source": [
        "df_train['text_vector_filtrado'].head()"
      ],
      "execution_count": 61,
      "outputs": [
        {
          "output_type": "execute_result",
          "data": {
            "text/plain": [
              "0    [deeds, reason, earthquake, may, allah, forgiv...\n",
              "1        [forest, fire, near, la, ronge, sask, canada]\n",
              "2    [residents, asked, shelter, place, notified, o...\n",
              "3    [13000, people, receive, wildfires, evacuation...\n",
              "4    [got, sent, photo, ruby, alaska, smoke, wildfi...\n",
              "Name: text_vector_filtrado, dtype: object"
            ]
          },
          "metadata": {
            "tags": []
          },
          "execution_count": 61
        }
      ]
    },
    {
      "cell_type": "code",
      "metadata": {
        "id": "imCu2L7VWjZi",
        "colab_type": "code",
        "outputId": "594ef940-c8dc-4a66-880d-8d3ee32cd413",
        "colab": {
          "base_uri": "https://localhost:8080/",
          "height": 289
        }
      },
      "source": [
        "df_train['elem_vector']=df_train['text_vector'].str.len()\n",
        "df_train.head()"
      ],
      "execution_count": 76,
      "outputs": [
        {
          "output_type": "execute_result",
          "data": {
            "text/html": [
              "<div>\n",
              "<style scoped>\n",
              "    .dataframe tbody tr th:only-of-type {\n",
              "        vertical-align: middle;\n",
              "    }\n",
              "\n",
              "    .dataframe tbody tr th {\n",
              "        vertical-align: top;\n",
              "    }\n",
              "\n",
              "    .dataframe thead th {\n",
              "        text-align: right;\n",
              "    }\n",
              "</style>\n",
              "<table border=\"1\" class=\"dataframe\">\n",
              "  <thead>\n",
              "    <tr style=\"text-align: right;\">\n",
              "      <th></th>\n",
              "      <th>keyword</th>\n",
              "      <th>location</th>\n",
              "      <th>text</th>\n",
              "      <th>target</th>\n",
              "      <th>caracteres_tweet</th>\n",
              "      <th>text_vector</th>\n",
              "      <th>text_vector_filtrado</th>\n",
              "      <th>elem_vector</th>\n",
              "      <th>elem_vector_filtrado</th>\n",
              "    </tr>\n",
              "  </thead>\n",
              "  <tbody>\n",
              "    <tr>\n",
              "      <th>0</th>\n",
              "      <td>sin keyword</td>\n",
              "      <td>sin location</td>\n",
              "      <td>Our Deeds are the Reason of this #earthquake M...</td>\n",
              "      <td>1</td>\n",
              "      <td>69</td>\n",
              "      <td>[our, deeds, are, the, reason, of, this, earth...</td>\n",
              "      <td>[deeds, reason, earthquake, may, allah, forgiv...</td>\n",
              "      <td>13</td>\n",
              "      <td>7</td>\n",
              "    </tr>\n",
              "    <tr>\n",
              "      <th>1</th>\n",
              "      <td>sin keyword</td>\n",
              "      <td>sin location</td>\n",
              "      <td>Forest fire near La Ronge Sask. Canada</td>\n",
              "      <td>1</td>\n",
              "      <td>38</td>\n",
              "      <td>[forest, fire, near, la, ronge, sask, canada]</td>\n",
              "      <td>[forest, fire, near, la, ronge, sask, canada]</td>\n",
              "      <td>7</td>\n",
              "      <td>7</td>\n",
              "    </tr>\n",
              "    <tr>\n",
              "      <th>2</th>\n",
              "      <td>sin keyword</td>\n",
              "      <td>sin location</td>\n",
              "      <td>All residents asked to 'shelter in place' are ...</td>\n",
              "      <td>1</td>\n",
              "      <td>133</td>\n",
              "      <td>[all, residents, asked, to, shelter, in, place...</td>\n",
              "      <td>[residents, asked, shelter, place, notified, o...</td>\n",
              "      <td>22</td>\n",
              "      <td>11</td>\n",
              "    </tr>\n",
              "    <tr>\n",
              "      <th>3</th>\n",
              "      <td>sin keyword</td>\n",
              "      <td>sin location</td>\n",
              "      <td>13,000 people receive #wildfires evacuation or...</td>\n",
              "      <td>1</td>\n",
              "      <td>65</td>\n",
              "      <td>[13000, people, receive, wildfires, evacuation...</td>\n",
              "      <td>[13000, people, receive, wildfires, evacuation...</td>\n",
              "      <td>8</td>\n",
              "      <td>7</td>\n",
              "    </tr>\n",
              "    <tr>\n",
              "      <th>4</th>\n",
              "      <td>sin keyword</td>\n",
              "      <td>sin location</td>\n",
              "      <td>Just got sent this photo from Ruby #Alaska as ...</td>\n",
              "      <td>1</td>\n",
              "      <td>88</td>\n",
              "      <td>[just, got, sent, this, photo, from, ruby, ala...</td>\n",
              "      <td>[got, sent, photo, ruby, alaska, smoke, wildfi...</td>\n",
              "      <td>16</td>\n",
              "      <td>9</td>\n",
              "    </tr>\n",
              "  </tbody>\n",
              "</table>\n",
              "</div>"
            ],
            "text/plain": [
              "       keyword      location  ... elem_vector  elem_vector_filtrado\n",
              "0  sin keyword  sin location  ...          13                     7\n",
              "1  sin keyword  sin location  ...           7                     7\n",
              "2  sin keyword  sin location  ...          22                    11\n",
              "3  sin keyword  sin location  ...           8                     7\n",
              "4  sin keyword  sin location  ...          16                     9\n",
              "\n",
              "[5 rows x 9 columns]"
            ]
          },
          "metadata": {
            "tags": []
          },
          "execution_count": 76
        }
      ]
    },
    {
      "cell_type": "code",
      "metadata": {
        "id": "5DygoHfy6nVn",
        "colab_type": "code",
        "outputId": "d438b35f-ae59-4057-c5ac-951510e53f40",
        "colab": {
          "base_uri": "https://localhost:8080/",
          "height": 289
        }
      },
      "source": [
        "df_train['elem_vector_filtrado']=df_train['text_vector_filtrado'].str.len()\n",
        "df_train.head()"
      ],
      "execution_count": 63,
      "outputs": [
        {
          "output_type": "execute_result",
          "data": {
            "text/html": [
              "<div>\n",
              "<style scoped>\n",
              "    .dataframe tbody tr th:only-of-type {\n",
              "        vertical-align: middle;\n",
              "    }\n",
              "\n",
              "    .dataframe tbody tr th {\n",
              "        vertical-align: top;\n",
              "    }\n",
              "\n",
              "    .dataframe thead th {\n",
              "        text-align: right;\n",
              "    }\n",
              "</style>\n",
              "<table border=\"1\" class=\"dataframe\">\n",
              "  <thead>\n",
              "    <tr style=\"text-align: right;\">\n",
              "      <th></th>\n",
              "      <th>keyword</th>\n",
              "      <th>location</th>\n",
              "      <th>text</th>\n",
              "      <th>target</th>\n",
              "      <th>caracteres_tweet</th>\n",
              "      <th>text_vector</th>\n",
              "      <th>text_vector_filtrado</th>\n",
              "      <th>elem_vector</th>\n",
              "      <th>elem_vector_filtrado</th>\n",
              "    </tr>\n",
              "  </thead>\n",
              "  <tbody>\n",
              "    <tr>\n",
              "      <th>0</th>\n",
              "      <td>sin keyword</td>\n",
              "      <td>sin location</td>\n",
              "      <td>Our Deeds are the Reason of this #earthquake M...</td>\n",
              "      <td>1</td>\n",
              "      <td>69</td>\n",
              "      <td>[our, deeds, are, the, reason, of, this, earth...</td>\n",
              "      <td>[deeds, reason, earthquake, may, allah, forgiv...</td>\n",
              "      <td>13</td>\n",
              "      <td>7</td>\n",
              "    </tr>\n",
              "    <tr>\n",
              "      <th>1</th>\n",
              "      <td>sin keyword</td>\n",
              "      <td>sin location</td>\n",
              "      <td>Forest fire near La Ronge Sask. Canada</td>\n",
              "      <td>1</td>\n",
              "      <td>38</td>\n",
              "      <td>[forest, fire, near, la, ronge, sask, canada]</td>\n",
              "      <td>[forest, fire, near, la, ronge, sask, canada]</td>\n",
              "      <td>7</td>\n",
              "      <td>7</td>\n",
              "    </tr>\n",
              "    <tr>\n",
              "      <th>2</th>\n",
              "      <td>sin keyword</td>\n",
              "      <td>sin location</td>\n",
              "      <td>All residents asked to 'shelter in place' are ...</td>\n",
              "      <td>1</td>\n",
              "      <td>133</td>\n",
              "      <td>[all, residents, asked, to, shelter, in, place...</td>\n",
              "      <td>[residents, asked, shelter, place, notified, o...</td>\n",
              "      <td>22</td>\n",
              "      <td>11</td>\n",
              "    </tr>\n",
              "    <tr>\n",
              "      <th>3</th>\n",
              "      <td>sin keyword</td>\n",
              "      <td>sin location</td>\n",
              "      <td>13,000 people receive #wildfires evacuation or...</td>\n",
              "      <td>1</td>\n",
              "      <td>65</td>\n",
              "      <td>[13000, people, receive, wildfires, evacuation...</td>\n",
              "      <td>[13000, people, receive, wildfires, evacuation...</td>\n",
              "      <td>8</td>\n",
              "      <td>7</td>\n",
              "    </tr>\n",
              "    <tr>\n",
              "      <th>4</th>\n",
              "      <td>sin keyword</td>\n",
              "      <td>sin location</td>\n",
              "      <td>Just got sent this photo from Ruby #Alaska as ...</td>\n",
              "      <td>1</td>\n",
              "      <td>88</td>\n",
              "      <td>[just, got, sent, this, photo, from, ruby, ala...</td>\n",
              "      <td>[got, sent, photo, ruby, alaska, smoke, wildfi...</td>\n",
              "      <td>16</td>\n",
              "      <td>9</td>\n",
              "    </tr>\n",
              "  </tbody>\n",
              "</table>\n",
              "</div>"
            ],
            "text/plain": [
              "       keyword      location  ... elem_vector  elem_vector_filtrado\n",
              "0  sin keyword  sin location  ...          13                     7\n",
              "1  sin keyword  sin location  ...           7                     7\n",
              "2  sin keyword  sin location  ...          22                    11\n",
              "3  sin keyword  sin location  ...           8                     7\n",
              "4  sin keyword  sin location  ...          16                     9\n",
              "\n",
              "[5 rows x 9 columns]"
            ]
          },
          "metadata": {
            "tags": []
          },
          "execution_count": 63
        }
      ]
    },
    {
      "cell_type": "code",
      "metadata": {
        "id": "_p1qIafC7F-N",
        "colab_type": "code",
        "outputId": "d970b807-ad93-4c4b-c4a2-091be829d819",
        "colab": {
          "base_uri": "https://localhost:8080/",
          "height": 289
        }
      },
      "source": [
        "df_train.info()"
      ],
      "execution_count": 64,
      "outputs": [
        {
          "output_type": "stream",
          "text": [
            "<class 'pandas.core.frame.DataFrame'>\n",
            "Int64Index: 7503 entries, 0 to 7612\n",
            "Data columns (total 9 columns):\n",
            " #   Column                Non-Null Count  Dtype \n",
            "---  ------                --------------  ----- \n",
            " 0   keyword               7503 non-null   object\n",
            " 1   location              7503 non-null   object\n",
            " 2   text                  7503 non-null   object\n",
            " 3   target                7503 non-null   int64 \n",
            " 4   caracteres_tweet      7503 non-null   int64 \n",
            " 5   text_vector           7503 non-null   object\n",
            " 6   text_vector_filtrado  7503 non-null   object\n",
            " 7   elem_vector           7503 non-null   int64 \n",
            " 8   elem_vector_filtrado  7503 non-null   int64 \n",
            "dtypes: int64(4), object(5)\n",
            "memory usage: 586.2+ KB\n"
          ],
          "name": "stdout"
        }
      ]
    },
    {
      "cell_type": "markdown",
      "metadata": {
        "id": "-A3Do3hoC9Ky",
        "colab_type": "text"
      },
      "source": [
        "### Categorizamos la variable ***Keyword***"
      ]
    },
    {
      "cell_type": "code",
      "metadata": {
        "id": "-HzBxpLdLD8B",
        "colab_type": "code",
        "colab": {}
      },
      "source": [
        "# \"Limpiamos\" la serie de caracteres especiales, sustituyendolos\n",
        "df_train['keyword']=df_train['keyword'].str.replace('%20','_')"
      ],
      "execution_count": 0,
      "outputs": []
    },
    {
      "cell_type": "code",
      "metadata": {
        "id": "uxcChUiJ1-TF",
        "colab_type": "code",
        "colab": {
          "base_uri": "https://localhost:8080/",
          "height": 782
        },
        "outputId": "cba4d075-b9bb-4c82-eeeb-541fa91a6db1"
      },
      "source": [
        "# Verificamos actualización\n",
        "df_train['keyword'].unique()"
      ],
      "execution_count": 84,
      "outputs": [
        {
          "output_type": "execute_result",
          "data": {
            "text/plain": [
              "array(['sin keyword', 'ablaze', 'accident', 'aftershock',\n",
              "       'airplane_accident', 'ambulance', 'annihilated', 'annihilation',\n",
              "       'apocalypse', 'armageddon', 'army', 'arson', 'arsonist', 'attack',\n",
              "       'attacked', 'avalanche', 'battle', 'bioterror', 'bioterrorism',\n",
              "       'blaze', 'blazing', 'bleeding', 'blew_up', 'blight', 'blizzard',\n",
              "       'blood', 'bloody', 'blown_up', 'body_bag', 'body_bagging',\n",
              "       'body_bags', 'bomb', 'bombed', 'bombing', 'bridge_collapse',\n",
              "       'buildings_burning', 'buildings_on_fire', 'burned', 'burning',\n",
              "       'burning_buildings', 'bush_fires', 'casualties', 'casualty',\n",
              "       'catastrophe', 'catastrophic', 'chemical_emergency', 'cliff_fall',\n",
              "       'collapse', 'collapsed', 'collide', 'collided', 'collision',\n",
              "       'crash', 'crashed', 'crush', 'crushed', 'curfew', 'cyclone',\n",
              "       'damage', 'danger', 'dead', 'death', 'deaths', 'debris', 'deluge',\n",
              "       'deluged', 'demolish', 'demolished', 'demolition', 'derail',\n",
              "       'derailed', 'derailment', 'desolate', 'desolation', 'destroy',\n",
              "       'destroyed', 'destruction', 'detonate', 'detonation', 'devastated',\n",
              "       'devastation', 'disaster', 'displaced', 'drought', 'drown',\n",
              "       'drowned', 'drowning', 'dust_storm', 'earthquake', 'electrocute',\n",
              "       'electrocuted', 'emergency', 'emergency_plan',\n",
              "       'emergency_services', 'engulfed', 'epicentre', 'evacuate',\n",
              "       'evacuated', 'evacuation', 'explode', 'exploded', 'explosion',\n",
              "       'eyewitness', 'famine', 'fatal', 'fatalities', 'fatality', 'fear',\n",
              "       'fire', 'fire_truck', 'first_responders', 'flames', 'flattened',\n",
              "       'flood', 'flooding', 'floods', 'forest_fire', 'forest_fires',\n",
              "       'hail', 'hailstorm', 'harm', 'hazard', 'hazardous', 'heat_wave',\n",
              "       'hellfire', 'hijack', 'hijacker', 'hijacking', 'hostage',\n",
              "       'hostages', 'hurricane', 'injured', 'injuries', 'injury',\n",
              "       'inundated', 'inundation', 'landslide', 'lava', 'lightning',\n",
              "       'loud_bang', 'mass_murder', 'mass_murderer', 'massacre', 'mayhem',\n",
              "       'meltdown', 'military', 'mudslide', 'natural_disaster',\n",
              "       'nuclear_disaster', 'nuclear_reactor', 'obliterate', 'obliterated',\n",
              "       'obliteration', 'oil_spill', 'outbreak', 'pandemonium', 'panic',\n",
              "       'panicking', 'police', 'quarantine', 'quarantined',\n",
              "       'radiation_emergency', 'rainstorm', 'razed', 'refugees', 'rescue',\n",
              "       'rescued', 'rescuers', 'riot', 'rioting', 'rubble', 'ruin',\n",
              "       'sandstorm', 'screamed', 'screaming', 'screams', 'seismic',\n",
              "       'sinkhole', 'sinking', 'siren', 'sirens', 'smoke', 'snowstorm',\n",
              "       'storm', 'stretcher', 'structural_failure', 'suicide_bomb',\n",
              "       'suicide_bomber', 'suicide_bombing', 'sunk', 'survive', 'survived',\n",
              "       'survivors', 'terrorism', 'terrorist', 'threat', 'thunder',\n",
              "       'thunderstorm', 'tornado', 'tragedy', 'trapped', 'trauma',\n",
              "       'traumatised', 'trouble', 'tsunami', 'twister', 'typhoon',\n",
              "       'upheaval', 'violent_storm', 'volcano', 'war_zone', 'weapon',\n",
              "       'weapons', 'whirlwind', 'wild_fires', 'wildfire', 'windstorm',\n",
              "       'wounded', 'wounds', 'wreck', 'wreckage', 'wrecked'], dtype=object)"
            ]
          },
          "metadata": {
            "tags": []
          },
          "execution_count": 84
        }
      ]
    }
  ]
}